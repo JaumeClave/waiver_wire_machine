{
 "cells": [
  {
   "cell_type": "code",
   "execution_count": 3,
   "metadata": {
    "collapsed": true
   },
   "outputs": [],
   "source": [
    "import pandas as pd"
   ]
  },
  {
   "cell_type": "code",
   "execution_count": 4,
   "outputs": [],
   "source": [
    "training_opportunity_data = \"https://1drv.ws/x/s!AtOj1gsstwd4lWVsADS9MjOAFxwC?e=sVH6Nm\""
   ],
   "metadata": {
    "collapsed": false,
    "pycharm": {
     "name": "#%%\n"
    }
   }
  },
  {
   "cell_type": "code",
   "execution_count": 8,
   "outputs": [],
   "source": [
    "a = pd.read_csv(training_opportunity_data, header=None)"
   ],
   "metadata": {
    "collapsed": false,
    "pycharm": {
     "name": "#%%\n"
    }
   }
  },
  {
   "cell_type": "code",
   "execution_count": 15,
   "outputs": [
    {
     "data": {
      "text/plain": "{0: ['access_token',\n  'consumer_key',\n  'consumer_secret',\n  'guid',\n  'refresh_token',\n  'token_time',\n  'token_type'],\n 1: ['ef9snjef4wCsb8sv0IIrXNUhseybFvj5cc9NS7yoTHnD7Vodhzit4Kx7HqfiADkeOmQHuSQXUpKXV86x.cbgUL5ORlK4lhELsTREOKgXYfOg4i.pZL0gFO4OTUpxOAoP3DYiJ37DZ.zXOtR9nuuYdik6lHR_mSmV5Hk_e4uiRPnW5EYLGgKrmeN0R.UdyR42g3S3vPv21cONh_uKqoVly_ttsBozJDxoiPEqdf0Owp.57UUgdpwbKFXFWvi3HJ22aymazPkmPnwy_OD1cKHsKUSPQ1PWZGWMIreFd42HD2OuFJI7J8JfB2.lqvbuTIX2rViBEK2bT.3Kze9cOwVZxGjw9TZCPtq8eStDHsNAkqfcSYrnJ_lctXdX6dtRa0s4hsnQ2PMiOtNYULK0ywdpUGTdL7EATXf9elYLN6sSOkc6HTPKW8sfxln00V35xwPx2q63Acpfv_JcCTb8526i0G0KEZ1.Hd6LZk_MXc8Z1Ez8.JAvNhEcNZ3.nhQMuK5wIbLMJj_z05ndULRyCJ987uF0pYsAbwDIZuS19UTp5WgmimUdiMqap4UHU4dS9La_UtK0zhCWR87xahdNaAMpJ3ijbhtY.zPrKmaGZmFjlSJr5CBghQzb8XEd.Kng2Pnb6oKEwcQ4BTNI6qZeQmYjx6JvZzxQKPlghuG8yOxCtyEEonPn.3TlXLny0iq3_VV1UCSnFGy_m7cHhZ19iBVmowkll8JR0E_UD2doOwhhGszOe.B9fh9hMNU_DEjxbkbGWgCVvv53cg1My7kdGQVXnZvhiQUWGoejmttQ.oFSY6gr2PrFvkKKA7mfmWw2Sm38NcGMXauVHpaBeoM6RY4woq3suomI.e.SjRi6lK4UNWBSF4vYWO387pQzvFtRvTmkiRmsHnOMatovGwHj0Luyx9dJ6z7PQB_cymAponkTb_.l6DZ613YvqudLzsC6Pp3CuFYV8y5iwfCkAhu8Iv5kqzc2FpPoEyNnQBhP61sZaBIGureDBvgCi7WBOc7Y6jquZDozQamfK5m3d3DKEMTlFmn_i2JrSLXlddCpUQ--',\n  'dj0yJmk9ZHBvaDFGMUJ1ZHRLJmQ9WVdrOU5sTkhRMlZQVG04bWNHbzlNQT09JnM9Y29uc3VtZXJzZWNyZXQmc3Y9MCZ4PWRj',\n  '3f0e9ba3a87bf95f32cc02866c70b56a422eddaa',\n  nan,\n  'AJiKCmBZi49oDMdQUtW3KMycD4WSGzAaZ3gPK3WNaoS5yDc-',\n  '1612114354',\n  'bearer']}"
     },
     "execution_count": 15,
     "metadata": {},
     "output_type": "execute_result"
    }
   ],
   "source": [
    "a.to_dict(orient='list')"
   ],
   "metadata": {
    "collapsed": false,
    "pycharm": {
     "name": "#%%\n"
    }
   }
  },
  {
   "cell_type": "code",
   "execution_count": 16,
   "outputs": [
    {
     "data": {
      "text/plain": "{'access_token': 'ef9snjef4wCsb8sv0IIrXNUhseybFvj5cc9NS7yoTHnD7Vodhzit4Kx7HqfiADkeOmQHuSQXUpKXV86x.cbgUL5ORlK4lhELsTREOKgXYfOg4i.pZL0gFO4OTUpxOAoP3DYiJ37DZ.zXOtR9nuuYdik6lHR_mSmV5Hk_e4uiRPnW5EYLGgKrmeN0R.UdyR42g3S3vPv21cONh_uKqoVly_ttsBozJDxoiPEqdf0Owp.57UUgdpwbKFXFWvi3HJ22aymazPkmPnwy_OD1cKHsKUSPQ1PWZGWMIreFd42HD2OuFJI7J8JfB2.lqvbuTIX2rViBEK2bT.3Kze9cOwVZxGjw9TZCPtq8eStDHsNAkqfcSYrnJ_lctXdX6dtRa0s4hsnQ2PMiOtNYULK0ywdpUGTdL7EATXf9elYLN6sSOkc6HTPKW8sfxln00V35xwPx2q63Acpfv_JcCTb8526i0G0KEZ1.Hd6LZk_MXc8Z1Ez8.JAvNhEcNZ3.nhQMuK5wIbLMJj_z05ndULRyCJ987uF0pYsAbwDIZuS19UTp5WgmimUdiMqap4UHU4dS9La_UtK0zhCWR87xahdNaAMpJ3ijbhtY.zPrKmaGZmFjlSJr5CBghQzb8XEd.Kng2Pnb6oKEwcQ4BTNI6qZeQmYjx6JvZzxQKPlghuG8yOxCtyEEonPn.3TlXLny0iq3_VV1UCSnFGy_m7cHhZ19iBVmowkll8JR0E_UD2doOwhhGszOe.B9fh9hMNU_DEjxbkbGWgCVvv53cg1My7kdGQVXnZvhiQUWGoejmttQ.oFSY6gr2PrFvkKKA7mfmWw2Sm38NcGMXauVHpaBeoM6RY4woq3suomI.e.SjRi6lK4UNWBSF4vYWO387pQzvFtRvTmkiRmsHnOMatovGwHj0Luyx9dJ6z7PQB_cymAponkTb_.l6DZ613YvqudLzsC6Pp3CuFYV8y5iwfCkAhu8Iv5kqzc2FpPoEyNnQBhP61sZaBIGureDBvgCi7WBOc7Y6jquZDozQamfK5m3d3DKEMTlFmn_i2JrSLXlddCpUQ--',\n 'consumer_key': 'dj0yJmk9ZHBvaDFGMUJ1ZHRLJmQ9WVdrOU5sTkhRMlZQVG04bWNHbzlNQT09JnM9Y29uc3VtZXJzZWNyZXQmc3Y9MCZ4PWRj',\n 'consumer_secret': '3f0e9ba3a87bf95f32cc02866c70b56a422eddaa',\n 'guid': nan,\n 'refresh_token': 'AJiKCmBZi49oDMdQUtW3KMycD4WSGzAaZ3gPK3WNaoS5yDc-',\n 'token_time': '1612114354',\n 'token_type': 'bearer'}"
     },
     "execution_count": 16,
     "metadata": {},
     "output_type": "execute_result"
    }
   ],
   "source": [
    "dict(zip(a[0], a[1]))"
   ],
   "metadata": {
    "collapsed": false,
    "pycharm": {
     "name": "#%%\n"
    }
   }
  },
  {
   "cell_type": "code",
   "execution_count": 18,
   "outputs": [],
   "source": [
    "def get_sauce():\n",
    "\n",
    "    sauce = \"https://1drv.ws/x/s!AtOj1gsstwd4lWVsADS9MjOAFxwC?e=sVH6Nm\"\n",
    "    sauce_df = pd.read_csv(sauce, header=None)\n",
    "    sauce_dict = dict(zip(sauce_df[0], sauce_df[1]))\n",
    "\n",
    "    return sauce_dict"
   ],
   "metadata": {
    "collapsed": false,
    "pycharm": {
     "name": "#%%\n"
    }
   }
  },
  {
   "cell_type": "code",
   "execution_count": 28,
   "outputs": [],
   "source": [
    "import json\n",
    "dicta = get_sauce()\n",
    "\n",
    "json_object = json.dumps(dicta)\n",
    "loaded_r = json.loads(json_object)"
   ],
   "metadata": {
    "collapsed": false,
    "pycharm": {
     "name": "#%%\n"
    }
   }
  },
  {
   "cell_type": "code",
   "execution_count": 29,
   "outputs": [
    {
     "data": {
      "text/plain": "{'access_token': 'ef9snjef4wCsb8sv0IIrXNUhseybFvj5cc9NS7yoTHnD7Vodhzit4Kx7HqfiADkeOmQHuSQXUpKXV86x.cbgUL5ORlK4lhELsTREOKgXYfOg4i.pZL0gFO4OTUpxOAoP3DYiJ37DZ.zXOtR9nuuYdik6lHR_mSmV5Hk_e4uiRPnW5EYLGgKrmeN0R.UdyR42g3S3vPv21cONh_uKqoVly_ttsBozJDxoiPEqdf0Owp.57UUgdpwbKFXFWvi3HJ22aymazPkmPnwy_OD1cKHsKUSPQ1PWZGWMIreFd42HD2OuFJI7J8JfB2.lqvbuTIX2rViBEK2bT.3Kze9cOwVZxGjw9TZCPtq8eStDHsNAkqfcSYrnJ_lctXdX6dtRa0s4hsnQ2PMiOtNYULK0ywdpUGTdL7EATXf9elYLN6sSOkc6HTPKW8sfxln00V35xwPx2q63Acpfv_JcCTb8526i0G0KEZ1.Hd6LZk_MXc8Z1Ez8.JAvNhEcNZ3.nhQMuK5wIbLMJj_z05ndULRyCJ987uF0pYsAbwDIZuS19UTp5WgmimUdiMqap4UHU4dS9La_UtK0zhCWR87xahdNaAMpJ3ijbhtY.zPrKmaGZmFjlSJr5CBghQzb8XEd.Kng2Pnb6oKEwcQ4BTNI6qZeQmYjx6JvZzxQKPlghuG8yOxCtyEEonPn.3TlXLny0iq3_VV1UCSnFGy_m7cHhZ19iBVmowkll8JR0E_UD2doOwhhGszOe.B9fh9hMNU_DEjxbkbGWgCVvv53cg1My7kdGQVXnZvhiQUWGoejmttQ.oFSY6gr2PrFvkKKA7mfmWw2Sm38NcGMXauVHpaBeoM6RY4woq3suomI.e.SjRi6lK4UNWBSF4vYWO387pQzvFtRvTmkiRmsHnOMatovGwHj0Luyx9dJ6z7PQB_cymAponkTb_.l6DZ613YvqudLzsC6Pp3CuFYV8y5iwfCkAhu8Iv5kqzc2FpPoEyNnQBhP61sZaBIGureDBvgCi7WBOc7Y6jquZDozQamfK5m3d3DKEMTlFmn_i2JrSLXlddCpUQ--',\n 'consumer_key': 'dj0yJmk9ZHBvaDFGMUJ1ZHRLJmQ9WVdrOU5sTkhRMlZQVG04bWNHbzlNQT09JnM9Y29uc3VtZXJzZWNyZXQmc3Y9MCZ4PWRj',\n 'consumer_secret': '3f0e9ba3a87bf95f32cc02866c70b56a422eddaa',\n 'guid': nan,\n 'refresh_token': 'AJiKCmBZi49oDMdQUtW3KMycD4WSGzAaZ3gPK3WNaoS5yDc-',\n 'token_time': '1612114354',\n 'token_type': 'bearer'}"
     },
     "execution_count": 29,
     "metadata": {},
     "output_type": "execute_result"
    }
   ],
   "source": [
    "loaded_r"
   ],
   "metadata": {
    "collapsed": false,
    "pycharm": {
     "name": "#%%\n"
    }
   }
  },
  {
   "cell_type": "code",
   "execution_count": 25,
   "outputs": [
    {
     "ename": "NameError",
     "evalue": "name 'null' is not defined",
     "output_type": "error",
     "traceback": [
      "\u001B[1;31m---------------------------------------------------------------------------\u001B[0m",
      "\u001B[1;31mNameError\u001B[0m                                 Traceback (most recent call last)",
      "\u001B[1;32m<ipython-input-25-6f240ef517d5>\u001B[0m in \u001B[0;36m<module>\u001B[1;34m\u001B[0m\n\u001B[0;32m      3\u001B[0m     \u001B[1;34m\"consumer_key\"\u001B[0m\u001B[1;33m:\u001B[0m \u001B[1;34m\"dj0yJmk9ZHBvaDFGMUJ1ZHRLJmQ9WVdrOU5sTkhRMlZQVG04bWNHbzlNQT09JnM9Y29uc3VtZXJzZWNyZXQmc3Y9MCZ4PWRj\"\u001B[0m\u001B[1;33m,\u001B[0m\u001B[1;33m\u001B[0m\u001B[1;33m\u001B[0m\u001B[0m\n\u001B[0;32m      4\u001B[0m     \u001B[1;34m\"consumer_secret\"\u001B[0m\u001B[1;33m:\u001B[0m \u001B[1;34m\"3f0e9ba3a87bf95f32cc02866c70b56a422eddaa\"\u001B[0m\u001B[1;33m,\u001B[0m\u001B[1;33m\u001B[0m\u001B[1;33m\u001B[0m\u001B[0m\n\u001B[1;32m----> 5\u001B[1;33m     \u001B[1;34m\"guid\"\u001B[0m\u001B[1;33m:\u001B[0m \u001B[0mnull\u001B[0m\u001B[1;33m,\u001B[0m\u001B[1;33m\u001B[0m\u001B[1;33m\u001B[0m\u001B[0m\n\u001B[0m\u001B[0;32m      6\u001B[0m     \u001B[1;34m\"refresh_token\"\u001B[0m\u001B[1;33m:\u001B[0m \u001B[1;34m\"AJiKCmBZi49oDMdQUtW3KMycD4WSGzAaZ3gPK3WNaoS5yDc-\"\u001B[0m\u001B[1;33m,\u001B[0m\u001B[1;33m\u001B[0m\u001B[1;33m\u001B[0m\u001B[0m\n\u001B[0;32m      7\u001B[0m     \u001B[1;34m\"token_time\"\u001B[0m\u001B[1;33m:\u001B[0m \u001B[1;36m1612114354.4970593\u001B[0m\u001B[1;33m,\u001B[0m\u001B[1;33m\u001B[0m\u001B[1;33m\u001B[0m\u001B[0m\n",
      "\u001B[1;31mNameError\u001B[0m: name 'null' is not defined"
     ]
    }
   ],
   "source": [],
   "metadata": {
    "collapsed": false,
    "pycharm": {
     "name": "#%%\n"
    }
   }
  },
  {
   "cell_type": "code",
   "execution_count": 23,
   "outputs": [],
   "source": [
    "JSON_FOLDER = r\"C:\\Users\\Jaume\\Documents\\Python Projects\\waiver_wire_machine\\references\\oauth2.json\" = r\"C:\\Users\\Jaume\\Documents\\Python Projects\\waiver_wire_machine\\references\\oauth2.json\""
   ],
   "metadata": {
    "collapsed": false,
    "pycharm": {
     "name": "#%%\n"
    }
   }
  },
  {
   "cell_type": "code",
   "execution_count": 24,
   "outputs": [
    {
     "data": {
      "text/plain": "'C:\\\\Users\\\\Jaume\\\\Documents\\\\Python Projects\\\\waiver_wire_machine\\\\references\\\\oauth2.json'"
     },
     "execution_count": 24,
     "metadata": {},
     "output_type": "execute_result"
    }
   ],
   "source": [
    "JSON_FOLDER"
   ],
   "metadata": {
    "collapsed": false,
    "pycharm": {
     "name": "#%%\n"
    }
   }
  },
  {
   "cell_type": "code",
   "execution_count": 30,
   "outputs": [],
   "source": [
    "\n",
    "def yahoo_fantasy_api_authentication():\n",
    "\n",
    "    sc = OAuth2(consumer_key=loaded_r[\"consumer_key\"],\n",
    "                consumer_secret=loaded_r[\"consumer_secret\"])\n",
    "\n",
    "    return sc"
   ],
   "metadata": {
    "collapsed": false,
    "pycharm": {
     "name": "#%%\n"
    }
   }
  },
  {
   "cell_type": "code",
   "execution_count": 34,
   "outputs": [
    {
     "name": "stderr",
     "output_type": "stream",
     "text": [
      "[2021-01-31 20:47:23,965 DEBUG] [yahoo_oauth.oauth.handler] AUTHORIZATION URL : https://api.login.yahoo.com/oauth2/request_auth?redirect_uri=oob&response_type=code&client_id=dj0yJmk9ZHBvaDFGMUJ1ZHRLJmQ9WVdrOU5sTkhRMlZQVG04bWNHbzlNQT09JnM9Y29uc3VtZXJzZWNyZXQmc3Y9MCZ4PWRj\n"
     ]
    }
   ],
   "source": [
    "import pandas as pd\n",
    "from yahoo_oauth import OAuth2\n",
    "import yahoo_fantasy_api as yfa\n",
    "from src.data import player_9cat_average as p9ca\n",
    "from nba_api.stats.endpoints import commonallplayers\n",
    "from nba_api.stats.endpoints import commonplayerinfo\n",
    "import streamlit as st\n",
    "import json\n",
    "sc = yahoo_fantasy_api_authentication()"
   ],
   "metadata": {
    "collapsed": false,
    "pycharm": {
     "name": "#%%\n"
    }
   }
  },
  {
   "cell_type": "code",
   "execution_count": 39,
   "outputs": [],
   "source": [
    "league = yahoo_fantasy_league(sc)"
   ],
   "metadata": {
    "collapsed": false,
    "pycharm": {
     "name": "#%%\n"
    }
   }
  },
  {
   "cell_type": "code",
   "execution_count": 38,
   "outputs": [],
   "source": [
    "def yahoo_fantasy_league(sc):\n",
    "\n",
    "    gm = yfa.Game(sc, \"nba\")\n",
    "    league_id_list = gm.league_ids(year=2020)\n",
    "    league_id = \"\".join(str(id) for id in league_id_list)\n",
    "    league = gm.to_league(league_id)\n",
    "\n",
    "    return league"
   ],
   "metadata": {
    "collapsed": false,
    "pycharm": {
     "name": "#%%\n"
    }
   }
  },
  {
   "cell_type": "code",
   "execution_count": 40,
   "outputs": [
    {
     "data": {
      "text/plain": "<yahoo_fantasy_api.league.League at 0x2310b21ee80>"
     },
     "execution_count": 40,
     "metadata": {},
     "output_type": "execute_result"
    }
   ],
   "source": [
    "\n",
    "league"
   ],
   "metadata": {
    "collapsed": false,
    "pycharm": {
     "name": "#%%\n"
    }
   }
  },
  {
   "cell_type": "code",
   "execution_count": null,
   "outputs": [],
   "source": [],
   "metadata": {
    "collapsed": false,
    "pycharm": {
     "name": "#%%\n"
    }
   }
  }
 ],
 "metadata": {
  "kernelspec": {
   "display_name": "Python 3",
   "language": "python",
   "name": "python3"
  },
  "language_info": {
   "codemirror_mode": {
    "name": "ipython",
    "version": 2
   },
   "file_extension": ".py",
   "mimetype": "text/x-python",
   "name": "python",
   "nbconvert_exporter": "python",
   "pygments_lexer": "ipython2",
   "version": "2.7.6"
  }
 },
 "nbformat": 4,
 "nbformat_minor": 0
}