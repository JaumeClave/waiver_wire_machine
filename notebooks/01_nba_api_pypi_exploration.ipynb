{
 "cells": [
  {
   "cell_type": "markdown",
   "metadata": {
    "collapsed": true,
    "pycharm": {
     "name": "#%% md\n"
    }
   },
   "source": [
    "# NBA API PyPI\n"
   ]
  },
  {
   "cell_type": "code",
   "execution_count": 1,
   "outputs": [],
   "source": [
    "# Hide warnings\n",
    "import warnings\n",
    "warnings.filterwarnings('ignore')"
   ],
   "metadata": {
    "collapsed": false,
    "pycharm": {
     "name": "#%%\n"
    }
   }
  },
  {
   "cell_type": "code",
   "execution_count": 2,
   "outputs": [
    {
     "name": "stdout",
     "output_type": "stream",
     "text": [
      "There are 519 active players\n"
     ]
    }
   ],
   "source": [
    "# Import static\n",
    "from nba_api.stats.static import players\n",
    "\n",
    "# Get all NBA players\n",
    "player_dict = players.get_players()\n",
    "\n",
    "# Filter for active players\n",
    "active_players = [player for player in player_dict if player[\"is_active\"] == True]\n",
    "print(f\"There are {len(active_players)} active players\")"
   ],
   "metadata": {
    "collapsed": false,
    "pycharm": {
     "name": "#%%\n"
    }
   }
  },
  {
   "cell_type": "code",
   "execution_count": 3,
   "outputs": [
    {
     "data": {
      "text/plain": "[{'id': 203115,\n  'full_name': 'Will Barton',\n  'first_name': 'Will',\n  'last_name': 'Barton',\n  'is_active': True}]"
     },
     "execution_count": 3,
     "metadata": {},
     "output_type": "execute_result"
    }
   ],
   "source": [
    "NIKOLA_JOKIC = \"Will Barton\"\n",
    "# Nikola\n",
    "nikola_jokic_dict = [player for player in player_dict if player[\"full_name\"] == NIKOLA_JOKIC]\n",
    "nikola_jokic_id = nikola_jokic_dict[0][\"id\"]\n",
    "nikola_jokic_dict"
   ],
   "metadata": {
    "collapsed": false,
    "pycharm": {
     "name": "#%%\n"
    }
   }
  },
  {
   "cell_type": "code",
   "execution_count": 128,
   "outputs": [
    {
     "data": {
      "text/plain": "   SEASON_ID  Player_ID     Game_ID     GAME_DATE      MATCHUP WL  MIN  FGM  \\\n0      22020     203115  0022000248  JAN 23, 2021    DEN @ PHX  W   21    0   \n1      22020     203115  0022000238  JAN 22, 2021    DEN @ PHX  W   33    5   \n2      22020     203115  0022000213  JAN 19, 2021  DEN vs. OKC  W   25    5   \n3      22020     203115  0022000200  JAN 17, 2021  DEN vs. UTA  L   26    1   \n4      22020     203115  0022000177  JAN 14, 2021  DEN vs. GSW  W   32    6   \n5      22020     203115  0022000158  JAN 12, 2021    DEN @ BKN  L   38    8   \n6      22020     203115  0022000144  JAN 10, 2021    DEN @ NYK  W   22    2   \n7      22020     203115  0022000133  JAN 09, 2021    DEN @ PHI  W   24    6   \n8      22020     203115  0022000120  JAN 07, 2021  DEN vs. DAL  L   34    3   \n9      22020     203115  0022000104  JAN 05, 2021  DEN vs. MIN  W   36    7   \n10     22020     203115  0022000088  JAN 03, 2021    DEN @ MIN  W   22    3   \n11     22020     203115  0022000076  JAN 01, 2021  DEN vs. PHX  L   36    1   \n12     22020     203115  0022000055  DEC 29, 2020    DEN @ SAC  L   22    3   \n13     22020     203115  0022000044  DEC 28, 2020  DEN vs. HOU  W   23    5   \n14     22020     203115  0022000009  DEC 25, 2020  DEN vs. LAC  L   29    4   \n15     22020     203115  0022000019  DEC 23, 2020  DEN vs. SAC  L   33    7   \n\n    FGA  FG_PCT  ...  DREB  REB  AST  STL  BLK  TOV  PF  PTS  PLUS_MINUS  \\\n0     5   0.000  ...     2    2    2    1    0    2   1    1          -9   \n1    10   0.500  ...     4    4    2    0    0    1   1   17          -5   \n2     7   0.714  ...     3    3    6    1    0    4   2   13          15   \n3     6   0.167  ...     4    5    4    0    1    1   2    2          -2   \n4    15   0.400  ...     3    4    3    1    1    0   4   17           5   \n5    14   0.571  ...     2    2    1    3    1    1   2   22         -13   \n6     7   0.286  ...     2    2    4    0    0    0   1    5           1   \n7    10   0.600  ...     1    3    3    3    1    3   0   14          13   \n8     7   0.429  ...     6    7    2    1    0    1   3    8         -10   \n9    14   0.500  ...     7    7    3    2    0    2   2   20          11   \n10   11   0.273  ...     5    6    6    0    2    1   0    8          -4   \n11    7   0.143  ...     4    5    4    1    1    0   3    2           2   \n12    8   0.375  ...     3    4    1    0    0    1   1    7         -11   \n13   12   0.417  ...     4    4    0    0    1    1   0   11          25   \n14   10   0.400  ...     4    5    3    1    0    1   3   15           0   \n15   16   0.438  ...     2    2    4    2    1    0   2   16           1   \n\n    VIDEO_AVAILABLE  \n0                 1  \n1                 1  \n2                 1  \n3                 1  \n4                 1  \n5                 1  \n6                 1  \n7                 1  \n8                 1  \n9                 1  \n10                1  \n11                1  \n12                1  \n13                1  \n14                1  \n15                1  \n\n[16 rows x 27 columns]",
      "text/html": "<div>\n<style scoped>\n    .dataframe tbody tr th:only-of-type {\n        vertical-align: middle;\n    }\n\n    .dataframe tbody tr th {\n        vertical-align: top;\n    }\n\n    .dataframe thead th {\n        text-align: right;\n    }\n</style>\n<table border=\"1\" class=\"dataframe\">\n  <thead>\n    <tr style=\"text-align: right;\">\n      <th></th>\n      <th>SEASON_ID</th>\n      <th>Player_ID</th>\n      <th>Game_ID</th>\n      <th>GAME_DATE</th>\n      <th>MATCHUP</th>\n      <th>WL</th>\n      <th>MIN</th>\n      <th>FGM</th>\n      <th>FGA</th>\n      <th>FG_PCT</th>\n      <th>...</th>\n      <th>DREB</th>\n      <th>REB</th>\n      <th>AST</th>\n      <th>STL</th>\n      <th>BLK</th>\n      <th>TOV</th>\n      <th>PF</th>\n      <th>PTS</th>\n      <th>PLUS_MINUS</th>\n      <th>VIDEO_AVAILABLE</th>\n    </tr>\n  </thead>\n  <tbody>\n    <tr>\n      <th>0</th>\n      <td>22020</td>\n      <td>203115</td>\n      <td>0022000248</td>\n      <td>JAN 23, 2021</td>\n      <td>DEN @ PHX</td>\n      <td>W</td>\n      <td>21</td>\n      <td>0</td>\n      <td>5</td>\n      <td>0.000</td>\n      <td>...</td>\n      <td>2</td>\n      <td>2</td>\n      <td>2</td>\n      <td>1</td>\n      <td>0</td>\n      <td>2</td>\n      <td>1</td>\n      <td>1</td>\n      <td>-9</td>\n      <td>1</td>\n    </tr>\n    <tr>\n      <th>1</th>\n      <td>22020</td>\n      <td>203115</td>\n      <td>0022000238</td>\n      <td>JAN 22, 2021</td>\n      <td>DEN @ PHX</td>\n      <td>W</td>\n      <td>33</td>\n      <td>5</td>\n      <td>10</td>\n      <td>0.500</td>\n      <td>...</td>\n      <td>4</td>\n      <td>4</td>\n      <td>2</td>\n      <td>0</td>\n      <td>0</td>\n      <td>1</td>\n      <td>1</td>\n      <td>17</td>\n      <td>-5</td>\n      <td>1</td>\n    </tr>\n    <tr>\n      <th>2</th>\n      <td>22020</td>\n      <td>203115</td>\n      <td>0022000213</td>\n      <td>JAN 19, 2021</td>\n      <td>DEN vs. OKC</td>\n      <td>W</td>\n      <td>25</td>\n      <td>5</td>\n      <td>7</td>\n      <td>0.714</td>\n      <td>...</td>\n      <td>3</td>\n      <td>3</td>\n      <td>6</td>\n      <td>1</td>\n      <td>0</td>\n      <td>4</td>\n      <td>2</td>\n      <td>13</td>\n      <td>15</td>\n      <td>1</td>\n    </tr>\n    <tr>\n      <th>3</th>\n      <td>22020</td>\n      <td>203115</td>\n      <td>0022000200</td>\n      <td>JAN 17, 2021</td>\n      <td>DEN vs. UTA</td>\n      <td>L</td>\n      <td>26</td>\n      <td>1</td>\n      <td>6</td>\n      <td>0.167</td>\n      <td>...</td>\n      <td>4</td>\n      <td>5</td>\n      <td>4</td>\n      <td>0</td>\n      <td>1</td>\n      <td>1</td>\n      <td>2</td>\n      <td>2</td>\n      <td>-2</td>\n      <td>1</td>\n    </tr>\n    <tr>\n      <th>4</th>\n      <td>22020</td>\n      <td>203115</td>\n      <td>0022000177</td>\n      <td>JAN 14, 2021</td>\n      <td>DEN vs. GSW</td>\n      <td>W</td>\n      <td>32</td>\n      <td>6</td>\n      <td>15</td>\n      <td>0.400</td>\n      <td>...</td>\n      <td>3</td>\n      <td>4</td>\n      <td>3</td>\n      <td>1</td>\n      <td>1</td>\n      <td>0</td>\n      <td>4</td>\n      <td>17</td>\n      <td>5</td>\n      <td>1</td>\n    </tr>\n    <tr>\n      <th>5</th>\n      <td>22020</td>\n      <td>203115</td>\n      <td>0022000158</td>\n      <td>JAN 12, 2021</td>\n      <td>DEN @ BKN</td>\n      <td>L</td>\n      <td>38</td>\n      <td>8</td>\n      <td>14</td>\n      <td>0.571</td>\n      <td>...</td>\n      <td>2</td>\n      <td>2</td>\n      <td>1</td>\n      <td>3</td>\n      <td>1</td>\n      <td>1</td>\n      <td>2</td>\n      <td>22</td>\n      <td>-13</td>\n      <td>1</td>\n    </tr>\n    <tr>\n      <th>6</th>\n      <td>22020</td>\n      <td>203115</td>\n      <td>0022000144</td>\n      <td>JAN 10, 2021</td>\n      <td>DEN @ NYK</td>\n      <td>W</td>\n      <td>22</td>\n      <td>2</td>\n      <td>7</td>\n      <td>0.286</td>\n      <td>...</td>\n      <td>2</td>\n      <td>2</td>\n      <td>4</td>\n      <td>0</td>\n      <td>0</td>\n      <td>0</td>\n      <td>1</td>\n      <td>5</td>\n      <td>1</td>\n      <td>1</td>\n    </tr>\n    <tr>\n      <th>7</th>\n      <td>22020</td>\n      <td>203115</td>\n      <td>0022000133</td>\n      <td>JAN 09, 2021</td>\n      <td>DEN @ PHI</td>\n      <td>W</td>\n      <td>24</td>\n      <td>6</td>\n      <td>10</td>\n      <td>0.600</td>\n      <td>...</td>\n      <td>1</td>\n      <td>3</td>\n      <td>3</td>\n      <td>3</td>\n      <td>1</td>\n      <td>3</td>\n      <td>0</td>\n      <td>14</td>\n      <td>13</td>\n      <td>1</td>\n    </tr>\n    <tr>\n      <th>8</th>\n      <td>22020</td>\n      <td>203115</td>\n      <td>0022000120</td>\n      <td>JAN 07, 2021</td>\n      <td>DEN vs. DAL</td>\n      <td>L</td>\n      <td>34</td>\n      <td>3</td>\n      <td>7</td>\n      <td>0.429</td>\n      <td>...</td>\n      <td>6</td>\n      <td>7</td>\n      <td>2</td>\n      <td>1</td>\n      <td>0</td>\n      <td>1</td>\n      <td>3</td>\n      <td>8</td>\n      <td>-10</td>\n      <td>1</td>\n    </tr>\n    <tr>\n      <th>9</th>\n      <td>22020</td>\n      <td>203115</td>\n      <td>0022000104</td>\n      <td>JAN 05, 2021</td>\n      <td>DEN vs. MIN</td>\n      <td>W</td>\n      <td>36</td>\n      <td>7</td>\n      <td>14</td>\n      <td>0.500</td>\n      <td>...</td>\n      <td>7</td>\n      <td>7</td>\n      <td>3</td>\n      <td>2</td>\n      <td>0</td>\n      <td>2</td>\n      <td>2</td>\n      <td>20</td>\n      <td>11</td>\n      <td>1</td>\n    </tr>\n    <tr>\n      <th>10</th>\n      <td>22020</td>\n      <td>203115</td>\n      <td>0022000088</td>\n      <td>JAN 03, 2021</td>\n      <td>DEN @ MIN</td>\n      <td>W</td>\n      <td>22</td>\n      <td>3</td>\n      <td>11</td>\n      <td>0.273</td>\n      <td>...</td>\n      <td>5</td>\n      <td>6</td>\n      <td>6</td>\n      <td>0</td>\n      <td>2</td>\n      <td>1</td>\n      <td>0</td>\n      <td>8</td>\n      <td>-4</td>\n      <td>1</td>\n    </tr>\n    <tr>\n      <th>11</th>\n      <td>22020</td>\n      <td>203115</td>\n      <td>0022000076</td>\n      <td>JAN 01, 2021</td>\n      <td>DEN vs. PHX</td>\n      <td>L</td>\n      <td>36</td>\n      <td>1</td>\n      <td>7</td>\n      <td>0.143</td>\n      <td>...</td>\n      <td>4</td>\n      <td>5</td>\n      <td>4</td>\n      <td>1</td>\n      <td>1</td>\n      <td>0</td>\n      <td>3</td>\n      <td>2</td>\n      <td>2</td>\n      <td>1</td>\n    </tr>\n    <tr>\n      <th>12</th>\n      <td>22020</td>\n      <td>203115</td>\n      <td>0022000055</td>\n      <td>DEC 29, 2020</td>\n      <td>DEN @ SAC</td>\n      <td>L</td>\n      <td>22</td>\n      <td>3</td>\n      <td>8</td>\n      <td>0.375</td>\n      <td>...</td>\n      <td>3</td>\n      <td>4</td>\n      <td>1</td>\n      <td>0</td>\n      <td>0</td>\n      <td>1</td>\n      <td>1</td>\n      <td>7</td>\n      <td>-11</td>\n      <td>1</td>\n    </tr>\n    <tr>\n      <th>13</th>\n      <td>22020</td>\n      <td>203115</td>\n      <td>0022000044</td>\n      <td>DEC 28, 2020</td>\n      <td>DEN vs. HOU</td>\n      <td>W</td>\n      <td>23</td>\n      <td>5</td>\n      <td>12</td>\n      <td>0.417</td>\n      <td>...</td>\n      <td>4</td>\n      <td>4</td>\n      <td>0</td>\n      <td>0</td>\n      <td>1</td>\n      <td>1</td>\n      <td>0</td>\n      <td>11</td>\n      <td>25</td>\n      <td>1</td>\n    </tr>\n    <tr>\n      <th>14</th>\n      <td>22020</td>\n      <td>203115</td>\n      <td>0022000009</td>\n      <td>DEC 25, 2020</td>\n      <td>DEN vs. LAC</td>\n      <td>L</td>\n      <td>29</td>\n      <td>4</td>\n      <td>10</td>\n      <td>0.400</td>\n      <td>...</td>\n      <td>4</td>\n      <td>5</td>\n      <td>3</td>\n      <td>1</td>\n      <td>0</td>\n      <td>1</td>\n      <td>3</td>\n      <td>15</td>\n      <td>0</td>\n      <td>1</td>\n    </tr>\n    <tr>\n      <th>15</th>\n      <td>22020</td>\n      <td>203115</td>\n      <td>0022000019</td>\n      <td>DEC 23, 2020</td>\n      <td>DEN vs. SAC</td>\n      <td>L</td>\n      <td>33</td>\n      <td>7</td>\n      <td>16</td>\n      <td>0.438</td>\n      <td>...</td>\n      <td>2</td>\n      <td>2</td>\n      <td>4</td>\n      <td>2</td>\n      <td>1</td>\n      <td>0</td>\n      <td>2</td>\n      <td>16</td>\n      <td>1</td>\n      <td>1</td>\n    </tr>\n  </tbody>\n</table>\n<p>16 rows × 27 columns</p>\n</div>"
     },
     "execution_count": 128,
     "metadata": {},
     "output_type": "execute_result"
    }
   ],
   "source": [
    "# Import endpoint\n",
    "from nba_api.stats.endpoints import playergamelog\n",
    "import pandas as pd\n",
    "\n",
    "SEASON_2020 = \"2020\"\n",
    "\n",
    "# Player game log\n",
    "nikola_jokic_2020_game_log = playergamelog.PlayerGameLog(player_id=nikola_jokic_id, \\\n",
    "                                                         season=SEASON_2020)\n",
    "nikola_jokic_2020_game_log_df = nikola_jokic_2020_game_log.get_data_frames()[0]\n",
    "nikola_jokic_2020_game_log_df\n"
   ],
   "metadata": {
    "collapsed": false,
    "pycharm": {
     "name": "#%%\n"
    }
   }
  },
  {
   "cell_type": "code",
   "execution_count": 129,
   "outputs": [],
   "source": [
    "MINUTES_COLUMN = \"MIN\"\n",
    "FIELD_GOALS_MADE_COLUMN = \"FGM\"\n",
    "FIELD_GOAL_ATTEMPTED_COLUMN = \"FGA\"\n",
    "FIELD_GOAL_PERCENTAGE_COLUMN = \"FG_PCT\"\n",
    "FREE_THROW_MADE_COLUMN = \"FTM\"\n",
    "FREE_THROW_ATTEMPTED_COLUMN = \"FTA\"\n",
    "FREE_THROW_PERCENTAGE_COLUMN = \"FT_PCT\"\n",
    "THREES_MADE_COLUMN = \"FG3M\"\n",
    "POINTS_COLUMN = \"PTS\"\n",
    "REBOUNDS_COLUMN = \"REB\"\n",
    "ASSITS_COLUMN = \"AST\"\n",
    "STEALS_COLUMN = \"STL\"\n",
    "BLOCKS_COLUMN = \"BLK\"\n",
    "TURNOVERS_COLUMN = \"TOV\"\n",
    "\n",
    "nikola_jokic_2020_game_log_df = \\\n",
    "    nikola_jokic_2020_game_log_df[nikola_jokic_2020_game_log_df[MINUTES_COLUMN] >= 1]\n",
    "\n",
    "CALCULATING_COLUMNS = [FIELD_GOALS_MADE_COLUMN, FIELD_GOAL_ATTEMPTED_COLUMN,\n",
    "                    FIELD_GOAL_PERCENTAGE_COLUMN, FREE_THROW_MADE_COLUMN,\n",
    "                    FREE_THROW_ATTEMPTED_COLUMN, FREE_THROW_PERCENTAGE_COLUMN,\n",
    "                    THREES_MADE_COLUMN, POINTS_COLUMN, REBOUNDS_COLUMN, ASSITS_COLUMN,\n",
    "                    STEALS_COLUMN, BLOCKS_COLUMN, TURNOVERS_COLUMN]\n",
    "\n",
    "NINE_CAT_COLUMNS = [FIELD_GOAL_PERCENTAGE_COLUMN, FREE_THROW_PERCENTAGE_COLUMN,\n",
    "                    THREES_MADE_COLUMN, POINTS_COLUMN, REBOUNDS_COLUMN, ASSITS_COLUMN,\n",
    "                    STEALS_COLUMN, BLOCKS_COLUMN, TURNOVERS_COLUMN]\n",
    "\n",
    "nikola_jokic_2020_9CAT = nikola_jokic_2020_game_log_df[CALCULATING_COLUMNS]"
   ],
   "metadata": {
    "collapsed": false,
    "pycharm": {
     "name": "#%%\n"
    }
   }
  },
  {
   "cell_type": "code",
   "execution_count": 130,
   "outputs": [
    {
     "data": {
      "text/plain": "        FGM      FGA    FG_PCT     FTM  FTA    FT_PCT    FG3M     PTS     REB  \\\n0     0.000   5.0000  0.000000  1.0000  2.0  0.500000  0.0000   1.000  2.0000   \n1     5.000  10.0000  0.500000  6.0000  6.0  1.000000  1.0000  17.000  4.0000   \n2     5.000   7.0000  0.714000  0.0000  0.0  0.000000  3.0000  13.000  3.0000   \n3     1.000   6.0000  0.167000  0.0000  0.0  0.000000  0.0000   2.000  5.0000   \n4     6.000  15.0000  0.400000  2.0000  3.0  0.667000  3.0000  17.000  4.0000   \n5     8.000  14.0000  0.571000  0.0000  0.0  0.000000  6.0000  22.000  2.0000   \n6     2.000   7.0000  0.286000  1.0000  2.0  0.500000  0.0000   5.000  2.0000   \n7     6.000  10.0000  0.600000  2.0000  2.0  1.000000  0.0000  14.000  3.0000   \n8     3.000   7.0000  0.429000  0.0000  0.0  0.000000  2.0000   8.000  7.0000   \n9     7.000  14.0000  0.500000  4.0000  6.0  0.667000  2.0000  20.000  7.0000   \n10    3.000  11.0000  0.273000  0.0000  0.0  0.000000  2.0000   8.000  6.0000   \n11    1.000   7.0000  0.143000  0.0000  0.0  0.000000  0.0000   2.000  5.0000   \n12    3.000   8.0000  0.375000  0.0000  0.0  0.000000  1.0000   7.000  4.0000   \n13    5.000  12.0000  0.417000  0.0000  0.0  0.000000  1.0000  11.000  4.0000   \n14    4.000  10.0000  0.400000  6.0000  9.0  0.667000  1.0000  15.000  5.0000   \n15    7.000  16.0000  0.438000  1.0000  2.0  0.500000  1.0000  16.000  2.0000   \nMean  4.125   9.9375  0.388313  1.4375  2.0  0.343812  1.4375  11.125  4.0625   \n\n      AST  STL     BLK     TOV  \n0     2.0  1.0  0.0000  2.0000  \n1     2.0  0.0  0.0000  1.0000  \n2     6.0  1.0  0.0000  4.0000  \n3     4.0  0.0  1.0000  1.0000  \n4     3.0  1.0  1.0000  0.0000  \n5     1.0  3.0  1.0000  1.0000  \n6     4.0  0.0  0.0000  0.0000  \n7     3.0  3.0  1.0000  3.0000  \n8     2.0  1.0  0.0000  1.0000  \n9     3.0  2.0  0.0000  2.0000  \n10    6.0  0.0  2.0000  1.0000  \n11    4.0  1.0  1.0000  0.0000  \n12    1.0  0.0  0.0000  1.0000  \n13    0.0  0.0  1.0000  1.0000  \n14    3.0  1.0  0.0000  1.0000  \n15    4.0  2.0  1.0000  0.0000  \nMean  3.0  1.0  0.5625  1.1875  ",
      "text/html": "<div>\n<style scoped>\n    .dataframe tbody tr th:only-of-type {\n        vertical-align: middle;\n    }\n\n    .dataframe tbody tr th {\n        vertical-align: top;\n    }\n\n    .dataframe thead th {\n        text-align: right;\n    }\n</style>\n<table border=\"1\" class=\"dataframe\">\n  <thead>\n    <tr style=\"text-align: right;\">\n      <th></th>\n      <th>FGM</th>\n      <th>FGA</th>\n      <th>FG_PCT</th>\n      <th>FTM</th>\n      <th>FTA</th>\n      <th>FT_PCT</th>\n      <th>FG3M</th>\n      <th>PTS</th>\n      <th>REB</th>\n      <th>AST</th>\n      <th>STL</th>\n      <th>BLK</th>\n      <th>TOV</th>\n    </tr>\n  </thead>\n  <tbody>\n    <tr>\n      <th>0</th>\n      <td>0.000</td>\n      <td>5.0000</td>\n      <td>0.000000</td>\n      <td>1.0000</td>\n      <td>2.0</td>\n      <td>0.500000</td>\n      <td>0.0000</td>\n      <td>1.000</td>\n      <td>2.0000</td>\n      <td>2.0</td>\n      <td>1.0</td>\n      <td>0.0000</td>\n      <td>2.0000</td>\n    </tr>\n    <tr>\n      <th>1</th>\n      <td>5.000</td>\n      <td>10.0000</td>\n      <td>0.500000</td>\n      <td>6.0000</td>\n      <td>6.0</td>\n      <td>1.000000</td>\n      <td>1.0000</td>\n      <td>17.000</td>\n      <td>4.0000</td>\n      <td>2.0</td>\n      <td>0.0</td>\n      <td>0.0000</td>\n      <td>1.0000</td>\n    </tr>\n    <tr>\n      <th>2</th>\n      <td>5.000</td>\n      <td>7.0000</td>\n      <td>0.714000</td>\n      <td>0.0000</td>\n      <td>0.0</td>\n      <td>0.000000</td>\n      <td>3.0000</td>\n      <td>13.000</td>\n      <td>3.0000</td>\n      <td>6.0</td>\n      <td>1.0</td>\n      <td>0.0000</td>\n      <td>4.0000</td>\n    </tr>\n    <tr>\n      <th>3</th>\n      <td>1.000</td>\n      <td>6.0000</td>\n      <td>0.167000</td>\n      <td>0.0000</td>\n      <td>0.0</td>\n      <td>0.000000</td>\n      <td>0.0000</td>\n      <td>2.000</td>\n      <td>5.0000</td>\n      <td>4.0</td>\n      <td>0.0</td>\n      <td>1.0000</td>\n      <td>1.0000</td>\n    </tr>\n    <tr>\n      <th>4</th>\n      <td>6.000</td>\n      <td>15.0000</td>\n      <td>0.400000</td>\n      <td>2.0000</td>\n      <td>3.0</td>\n      <td>0.667000</td>\n      <td>3.0000</td>\n      <td>17.000</td>\n      <td>4.0000</td>\n      <td>3.0</td>\n      <td>1.0</td>\n      <td>1.0000</td>\n      <td>0.0000</td>\n    </tr>\n    <tr>\n      <th>5</th>\n      <td>8.000</td>\n      <td>14.0000</td>\n      <td>0.571000</td>\n      <td>0.0000</td>\n      <td>0.0</td>\n      <td>0.000000</td>\n      <td>6.0000</td>\n      <td>22.000</td>\n      <td>2.0000</td>\n      <td>1.0</td>\n      <td>3.0</td>\n      <td>1.0000</td>\n      <td>1.0000</td>\n    </tr>\n    <tr>\n      <th>6</th>\n      <td>2.000</td>\n      <td>7.0000</td>\n      <td>0.286000</td>\n      <td>1.0000</td>\n      <td>2.0</td>\n      <td>0.500000</td>\n      <td>0.0000</td>\n      <td>5.000</td>\n      <td>2.0000</td>\n      <td>4.0</td>\n      <td>0.0</td>\n      <td>0.0000</td>\n      <td>0.0000</td>\n    </tr>\n    <tr>\n      <th>7</th>\n      <td>6.000</td>\n      <td>10.0000</td>\n      <td>0.600000</td>\n      <td>2.0000</td>\n      <td>2.0</td>\n      <td>1.000000</td>\n      <td>0.0000</td>\n      <td>14.000</td>\n      <td>3.0000</td>\n      <td>3.0</td>\n      <td>3.0</td>\n      <td>1.0000</td>\n      <td>3.0000</td>\n    </tr>\n    <tr>\n      <th>8</th>\n      <td>3.000</td>\n      <td>7.0000</td>\n      <td>0.429000</td>\n      <td>0.0000</td>\n      <td>0.0</td>\n      <td>0.000000</td>\n      <td>2.0000</td>\n      <td>8.000</td>\n      <td>7.0000</td>\n      <td>2.0</td>\n      <td>1.0</td>\n      <td>0.0000</td>\n      <td>1.0000</td>\n    </tr>\n    <tr>\n      <th>9</th>\n      <td>7.000</td>\n      <td>14.0000</td>\n      <td>0.500000</td>\n      <td>4.0000</td>\n      <td>6.0</td>\n      <td>0.667000</td>\n      <td>2.0000</td>\n      <td>20.000</td>\n      <td>7.0000</td>\n      <td>3.0</td>\n      <td>2.0</td>\n      <td>0.0000</td>\n      <td>2.0000</td>\n    </tr>\n    <tr>\n      <th>10</th>\n      <td>3.000</td>\n      <td>11.0000</td>\n      <td>0.273000</td>\n      <td>0.0000</td>\n      <td>0.0</td>\n      <td>0.000000</td>\n      <td>2.0000</td>\n      <td>8.000</td>\n      <td>6.0000</td>\n      <td>6.0</td>\n      <td>0.0</td>\n      <td>2.0000</td>\n      <td>1.0000</td>\n    </tr>\n    <tr>\n      <th>11</th>\n      <td>1.000</td>\n      <td>7.0000</td>\n      <td>0.143000</td>\n      <td>0.0000</td>\n      <td>0.0</td>\n      <td>0.000000</td>\n      <td>0.0000</td>\n      <td>2.000</td>\n      <td>5.0000</td>\n      <td>4.0</td>\n      <td>1.0</td>\n      <td>1.0000</td>\n      <td>0.0000</td>\n    </tr>\n    <tr>\n      <th>12</th>\n      <td>3.000</td>\n      <td>8.0000</td>\n      <td>0.375000</td>\n      <td>0.0000</td>\n      <td>0.0</td>\n      <td>0.000000</td>\n      <td>1.0000</td>\n      <td>7.000</td>\n      <td>4.0000</td>\n      <td>1.0</td>\n      <td>0.0</td>\n      <td>0.0000</td>\n      <td>1.0000</td>\n    </tr>\n    <tr>\n      <th>13</th>\n      <td>5.000</td>\n      <td>12.0000</td>\n      <td>0.417000</td>\n      <td>0.0000</td>\n      <td>0.0</td>\n      <td>0.000000</td>\n      <td>1.0000</td>\n      <td>11.000</td>\n      <td>4.0000</td>\n      <td>0.0</td>\n      <td>0.0</td>\n      <td>1.0000</td>\n      <td>1.0000</td>\n    </tr>\n    <tr>\n      <th>14</th>\n      <td>4.000</td>\n      <td>10.0000</td>\n      <td>0.400000</td>\n      <td>6.0000</td>\n      <td>9.0</td>\n      <td>0.667000</td>\n      <td>1.0000</td>\n      <td>15.000</td>\n      <td>5.0000</td>\n      <td>3.0</td>\n      <td>1.0</td>\n      <td>0.0000</td>\n      <td>1.0000</td>\n    </tr>\n    <tr>\n      <th>15</th>\n      <td>7.000</td>\n      <td>16.0000</td>\n      <td>0.438000</td>\n      <td>1.0000</td>\n      <td>2.0</td>\n      <td>0.500000</td>\n      <td>1.0000</td>\n      <td>16.000</td>\n      <td>2.0000</td>\n      <td>4.0</td>\n      <td>2.0</td>\n      <td>1.0000</td>\n      <td>0.0000</td>\n    </tr>\n    <tr>\n      <th>Mean</th>\n      <td>4.125</td>\n      <td>9.9375</td>\n      <td>0.388313</td>\n      <td>1.4375</td>\n      <td>2.0</td>\n      <td>0.343812</td>\n      <td>1.4375</td>\n      <td>11.125</td>\n      <td>4.0625</td>\n      <td>3.0</td>\n      <td>1.0</td>\n      <td>0.5625</td>\n      <td>1.1875</td>\n    </tr>\n  </tbody>\n</table>\n</div>"
     },
     "execution_count": 130,
     "metadata": {},
     "output_type": "execute_result"
    }
   ],
   "source": [
    "MEAN_ROW = \"Mean\"\n",
    "nikola_jokic_2020_9CAT.loc[MEAN_ROW] = nikola_jokic_2020_9CAT.mean()\n",
    "nikola_jokic_2020_9CAT"
   ],
   "metadata": {
    "collapsed": false,
    "pycharm": {
     "name": "#%%\n"
    }
   }
  },
  {
   "cell_type": "code",
   "execution_count": 131,
   "outputs": [],
   "source": [
    "def true_percentage(dataframe, pct_category):\n",
    "    no_mean_row_dataframe = dataframe.drop(\"Mean\")\n",
    "    if pct_category == FIELD_GOAL_PERCENTAGE_COLUMN:\n",
    "        true_field_goal_pct = no_mean_row_dataframe[FIELD_GOALS_MADE_COLUMN].mean() / \\\n",
    "                              no_mean_row_dataframe[FIELD_GOAL_ATTEMPTED_COLUMN].mean()\n",
    "\n",
    "        print(true_field_goal_pct)\n",
    "        dataframe.at[MEAN_ROW, FIELD_GOAL_PERCENTAGE_COLUMN] = true_field_goal_pct\n",
    "\n",
    "    else:\n",
    "        true_free_throw_pct = no_mean_row_dataframe[FREE_THROW_MADE_COLUMN].mean() / \\\n",
    "            no_mean_row_dataframe[FREE_THROW_ATTEMPTED_COLUMN].mean()\n",
    "        print(true_free_throw_pct)\n",
    "        dataframe.at[MEAN_ROW, FREE_THROW_PERCENTAGE_COLUMN] = true_free_throw_pct\n",
    "\n",
    "    return dataframe"
   ],
   "metadata": {
    "collapsed": false,
    "pycharm": {
     "name": "#%%\n"
    }
   }
  },
  {
   "cell_type": "code",
   "execution_count": 132,
   "outputs": [
    {
     "name": "stdout",
     "output_type": "stream",
     "text": [
      "0.41509433962264153\n",
      "0.71875\n"
     ]
    },
    {
     "data": {
      "text/plain": "        FG_PCT   FT_PCT    FG3M     PTS     REB  AST  STL     BLK     TOV\n0     0.000000  0.50000  0.0000   1.000  2.0000  2.0  1.0  0.0000  2.0000\n1     0.500000  1.00000  1.0000  17.000  4.0000  2.0  0.0  0.0000  1.0000\n2     0.714000  0.00000  3.0000  13.000  3.0000  6.0  1.0  0.0000  4.0000\n3     0.167000  0.00000  0.0000   2.000  5.0000  4.0  0.0  1.0000  1.0000\n4     0.400000  0.66700  3.0000  17.000  4.0000  3.0  1.0  1.0000  0.0000\n5     0.571000  0.00000  6.0000  22.000  2.0000  1.0  3.0  1.0000  1.0000\n6     0.286000  0.50000  0.0000   5.000  2.0000  4.0  0.0  0.0000  0.0000\n7     0.600000  1.00000  0.0000  14.000  3.0000  3.0  3.0  1.0000  3.0000\n8     0.429000  0.00000  2.0000   8.000  7.0000  2.0  1.0  0.0000  1.0000\n9     0.500000  0.66700  2.0000  20.000  7.0000  3.0  2.0  0.0000  2.0000\n10    0.273000  0.00000  2.0000   8.000  6.0000  6.0  0.0  2.0000  1.0000\n11    0.143000  0.00000  0.0000   2.000  5.0000  4.0  1.0  1.0000  0.0000\n12    0.375000  0.00000  1.0000   7.000  4.0000  1.0  0.0  0.0000  1.0000\n13    0.417000  0.00000  1.0000  11.000  4.0000  0.0  0.0  1.0000  1.0000\n14    0.400000  0.66700  1.0000  15.000  5.0000  3.0  1.0  0.0000  1.0000\n15    0.438000  0.50000  1.0000  16.000  2.0000  4.0  2.0  1.0000  0.0000\nMean  0.415094  0.71875  1.4375  11.125  4.0625  3.0  1.0  0.5625  1.1875",
      "text/html": "<div>\n<style scoped>\n    .dataframe tbody tr th:only-of-type {\n        vertical-align: middle;\n    }\n\n    .dataframe tbody tr th {\n        vertical-align: top;\n    }\n\n    .dataframe thead th {\n        text-align: right;\n    }\n</style>\n<table border=\"1\" class=\"dataframe\">\n  <thead>\n    <tr style=\"text-align: right;\">\n      <th></th>\n      <th>FG_PCT</th>\n      <th>FT_PCT</th>\n      <th>FG3M</th>\n      <th>PTS</th>\n      <th>REB</th>\n      <th>AST</th>\n      <th>STL</th>\n      <th>BLK</th>\n      <th>TOV</th>\n    </tr>\n  </thead>\n  <tbody>\n    <tr>\n      <th>0</th>\n      <td>0.000000</td>\n      <td>0.50000</td>\n      <td>0.0000</td>\n      <td>1.000</td>\n      <td>2.0000</td>\n      <td>2.0</td>\n      <td>1.0</td>\n      <td>0.0000</td>\n      <td>2.0000</td>\n    </tr>\n    <tr>\n      <th>1</th>\n      <td>0.500000</td>\n      <td>1.00000</td>\n      <td>1.0000</td>\n      <td>17.000</td>\n      <td>4.0000</td>\n      <td>2.0</td>\n      <td>0.0</td>\n      <td>0.0000</td>\n      <td>1.0000</td>\n    </tr>\n    <tr>\n      <th>2</th>\n      <td>0.714000</td>\n      <td>0.00000</td>\n      <td>3.0000</td>\n      <td>13.000</td>\n      <td>3.0000</td>\n      <td>6.0</td>\n      <td>1.0</td>\n      <td>0.0000</td>\n      <td>4.0000</td>\n    </tr>\n    <tr>\n      <th>3</th>\n      <td>0.167000</td>\n      <td>0.00000</td>\n      <td>0.0000</td>\n      <td>2.000</td>\n      <td>5.0000</td>\n      <td>4.0</td>\n      <td>0.0</td>\n      <td>1.0000</td>\n      <td>1.0000</td>\n    </tr>\n    <tr>\n      <th>4</th>\n      <td>0.400000</td>\n      <td>0.66700</td>\n      <td>3.0000</td>\n      <td>17.000</td>\n      <td>4.0000</td>\n      <td>3.0</td>\n      <td>1.0</td>\n      <td>1.0000</td>\n      <td>0.0000</td>\n    </tr>\n    <tr>\n      <th>5</th>\n      <td>0.571000</td>\n      <td>0.00000</td>\n      <td>6.0000</td>\n      <td>22.000</td>\n      <td>2.0000</td>\n      <td>1.0</td>\n      <td>3.0</td>\n      <td>1.0000</td>\n      <td>1.0000</td>\n    </tr>\n    <tr>\n      <th>6</th>\n      <td>0.286000</td>\n      <td>0.50000</td>\n      <td>0.0000</td>\n      <td>5.000</td>\n      <td>2.0000</td>\n      <td>4.0</td>\n      <td>0.0</td>\n      <td>0.0000</td>\n      <td>0.0000</td>\n    </tr>\n    <tr>\n      <th>7</th>\n      <td>0.600000</td>\n      <td>1.00000</td>\n      <td>0.0000</td>\n      <td>14.000</td>\n      <td>3.0000</td>\n      <td>3.0</td>\n      <td>3.0</td>\n      <td>1.0000</td>\n      <td>3.0000</td>\n    </tr>\n    <tr>\n      <th>8</th>\n      <td>0.429000</td>\n      <td>0.00000</td>\n      <td>2.0000</td>\n      <td>8.000</td>\n      <td>7.0000</td>\n      <td>2.0</td>\n      <td>1.0</td>\n      <td>0.0000</td>\n      <td>1.0000</td>\n    </tr>\n    <tr>\n      <th>9</th>\n      <td>0.500000</td>\n      <td>0.66700</td>\n      <td>2.0000</td>\n      <td>20.000</td>\n      <td>7.0000</td>\n      <td>3.0</td>\n      <td>2.0</td>\n      <td>0.0000</td>\n      <td>2.0000</td>\n    </tr>\n    <tr>\n      <th>10</th>\n      <td>0.273000</td>\n      <td>0.00000</td>\n      <td>2.0000</td>\n      <td>8.000</td>\n      <td>6.0000</td>\n      <td>6.0</td>\n      <td>0.0</td>\n      <td>2.0000</td>\n      <td>1.0000</td>\n    </tr>\n    <tr>\n      <th>11</th>\n      <td>0.143000</td>\n      <td>0.00000</td>\n      <td>0.0000</td>\n      <td>2.000</td>\n      <td>5.0000</td>\n      <td>4.0</td>\n      <td>1.0</td>\n      <td>1.0000</td>\n      <td>0.0000</td>\n    </tr>\n    <tr>\n      <th>12</th>\n      <td>0.375000</td>\n      <td>0.00000</td>\n      <td>1.0000</td>\n      <td>7.000</td>\n      <td>4.0000</td>\n      <td>1.0</td>\n      <td>0.0</td>\n      <td>0.0000</td>\n      <td>1.0000</td>\n    </tr>\n    <tr>\n      <th>13</th>\n      <td>0.417000</td>\n      <td>0.00000</td>\n      <td>1.0000</td>\n      <td>11.000</td>\n      <td>4.0000</td>\n      <td>0.0</td>\n      <td>0.0</td>\n      <td>1.0000</td>\n      <td>1.0000</td>\n    </tr>\n    <tr>\n      <th>14</th>\n      <td>0.400000</td>\n      <td>0.66700</td>\n      <td>1.0000</td>\n      <td>15.000</td>\n      <td>5.0000</td>\n      <td>3.0</td>\n      <td>1.0</td>\n      <td>0.0000</td>\n      <td>1.0000</td>\n    </tr>\n    <tr>\n      <th>15</th>\n      <td>0.438000</td>\n      <td>0.50000</td>\n      <td>1.0000</td>\n      <td>16.000</td>\n      <td>2.0000</td>\n      <td>4.0</td>\n      <td>2.0</td>\n      <td>1.0000</td>\n      <td>0.0000</td>\n    </tr>\n    <tr>\n      <th>Mean</th>\n      <td>0.415094</td>\n      <td>0.71875</td>\n      <td>1.4375</td>\n      <td>11.125</td>\n      <td>4.0625</td>\n      <td>3.0</td>\n      <td>1.0</td>\n      <td>0.5625</td>\n      <td>1.1875</td>\n    </tr>\n  </tbody>\n</table>\n</div>"
     },
     "execution_count": 132,
     "metadata": {},
     "output_type": "execute_result"
    }
   ],
   "source": [
    "nikola_jokic_2020_9CAT = true_percentage(nikola_jokic_2020_9CAT, FIELD_GOAL_PERCENTAGE_COLUMN)\n",
    "nikola_jokic_2020_9CAT = true_percentage(nikola_jokic_2020_9CAT, FREE_THROW_PERCENTAGE_COLUMN)\n",
    "nikola_jokic_2020_9CAT = nikola_jokic_2020_9CAT[NINE_CAT_COLUMNS]\n",
    "nikola_jokic_2020_9CAT"
   ],
   "metadata": {
    "collapsed": false,
    "pycharm": {
     "name": "#%%\n"
    }
   }
  },
  {
   "cell_type": "code",
   "execution_count": 7,
   "outputs": [],
   "source": [
    "nikola_jokic_2020_9CAT_mean = nikola_jokic_2020_9CAT.copy()\n",
    "\n",
    "THREE_DECIMAL_COLUMNS = [FIELD_GOAL_PERCENTAGE_COLUMN, FREE_THROW_PERCENTAGE_COLUMN]\n",
    "ONE_DECIMAL_COLUMNS = [THREES_MADE_COLUMN, POINTS_COLUMN, REBOUNDS_COLUMN, ASSITS_COLUMN,\n",
    "                       STEALS_COLUMN, BLOCKS_COLUMN, TURNOVERS_COLUMN]\n",
    "\n",
    "THREE_DECIMAL_FORMAT = \"{:,.3f}\".format\n",
    "ONE_DECIMAL_FORMAT = \"{:,.1f}\".format"
   ],
   "metadata": {
    "collapsed": false,
    "pycharm": {
     "name": "#%%\n"
    }
   }
  },
  {
   "cell_type": "code",
   "execution_count": 8,
   "outputs": [],
   "source": [
    "nikola_jokic_2020_9CAT_mean[THREE_DECIMAL_COLUMNS] = \\\n",
    "    nikola_jokic_2020_9CAT_mean[THREE_DECIMAL_COLUMNS].applymap(THREE_DECIMAL_FORMAT)\n",
    "nikola_jokic_2020_9CAT_mean[ONE_DECIMAL_COLUMNS] = \\\n",
    "    nikola_jokic_2020_9CAT_mean[ONE_DECIMAL_COLUMNS].applymap(ONE_DECIMAL_FORMAT)"
   ],
   "metadata": {
    "collapsed": false,
    "pycharm": {
     "name": "#%%\n"
    }
   }
  },
  {
   "cell_type": "code",
   "execution_count": 9,
   "outputs": [],
   "source": [
    "player_season_average = pd.DataFrame(nikola_jokic_2020_9CAT_mean.loc[MEAN_ROW]).T"
   ],
   "metadata": {
    "collapsed": false,
    "pycharm": {
     "name": "#%%\n"
    }
   }
  },
  {
   "cell_type": "code",
   "execution_count": 10,
   "outputs": [],
   "source": [
    "PLAYER_COLUMN = \"PLAYER\"\n",
    "GAMES_PLAYED = \"GAMES\"\n",
    "\n",
    "player_season_average[PLAYER_COLUMN] = NIKOLA_JOKIC\n",
    "player_season_average[GAMES_PLAYED] = len(nikola_jokic_2020_game_log_df)\n"
   ],
   "metadata": {
    "collapsed": false,
    "pycharm": {
     "name": "#%%\n"
    }
   }
  },
  {
   "cell_type": "code",
   "execution_count": 11,
   "outputs": [],
   "source": [
    "def move_column_inplace(dataframe, column, position):\n",
    "    column = dataframe.pop(column)\n",
    "    dataframe.insert(position, column.name, column)"
   ],
   "metadata": {
    "collapsed": false,
    "pycharm": {
     "name": "#%%\n"
    }
   }
  },
  {
   "cell_type": "code",
   "execution_count": 12,
   "outputs": [],
   "source": [
    "move_column_inplace(player_season_average, PLAYER_COLUMN, 0)\n"
   ],
   "metadata": {
    "collapsed": false,
    "pycharm": {
     "name": "#%%\n"
    }
   }
  },
  {
   "cell_type": "code",
   "execution_count": 13,
   "outputs": [
    {
     "data": {
      "text/plain": "            PLAYER FG_PCT FT_PCT FG3M   PTS   REB   AST  STL  BLK  TOV  GAMES\nMean  Nikola Jokic  0.591  0.827  1.2  25.1  11.4  10.0  1.9  0.6  4.0     14",
      "text/html": "<div>\n<style scoped>\n    .dataframe tbody tr th:only-of-type {\n        vertical-align: middle;\n    }\n\n    .dataframe tbody tr th {\n        vertical-align: top;\n    }\n\n    .dataframe thead th {\n        text-align: right;\n    }\n</style>\n<table border=\"1\" class=\"dataframe\">\n  <thead>\n    <tr style=\"text-align: right;\">\n      <th></th>\n      <th>PLAYER</th>\n      <th>FG_PCT</th>\n      <th>FT_PCT</th>\n      <th>FG3M</th>\n      <th>PTS</th>\n      <th>REB</th>\n      <th>AST</th>\n      <th>STL</th>\n      <th>BLK</th>\n      <th>TOV</th>\n      <th>GAMES</th>\n    </tr>\n  </thead>\n  <tbody>\n    <tr>\n      <th>Mean</th>\n      <td>Nikola Jokic</td>\n      <td>0.591</td>\n      <td>0.827</td>\n      <td>1.2</td>\n      <td>25.1</td>\n      <td>11.4</td>\n      <td>10.0</td>\n      <td>1.9</td>\n      <td>0.6</td>\n      <td>4.0</td>\n      <td>14</td>\n    </tr>\n  </tbody>\n</table>\n</div>"
     },
     "execution_count": 13,
     "metadata": {},
     "output_type": "execute_result"
    }
   ],
   "source": [
    "player_season_average\n"
   ],
   "metadata": {
    "collapsed": false,
    "pycharm": {
     "name": "#%%\n"
    }
   }
  },
  {
   "cell_type": "markdown",
   "source": [
    "## Returning a Players Average 9CAT Season Stats\n"
   ],
   "metadata": {
    "collapsed": false,
    "pycharm": {
     "name": "#%% md\n"
    }
   }
  },
  {
   "cell_type": "code",
   "execution_count": 133,
   "outputs": [],
   "source": [
    "import pandas as pd\n",
    "from nba_api.stats.static import players\n",
    "from nba_api.stats.endpoints import playergamelog\n",
    "\n",
    "IS_ACTIVE_KEY = \"is_active\"\n",
    "FULL_NAME_KEY = \"full_name\"\n",
    "ID_KEY = \"id\"\n",
    "SEASON_2020 = \"2020\"\n",
    "MINUTES_COLUMN = \"MIN\"\n",
    "FIELD_GOALS_MADE_COLUMN = \"FGM\"\n",
    "FIELD_GOAL_ATTEMPTED_COLUMN = \"FGA\"\n",
    "FIELD_GOAL_PERCENTAGE_COLUMN = \"FG_PCT\"\n",
    "FREE_THROW_MADE_COLUMN = \"FTM\"\n",
    "FREE_THROW_ATTEMPTED_COLUMN = \"FTA\"\n",
    "FREE_THROW_PERCENTAGE_COLUMN = \"FT_PCT\"\n",
    "THREES_MADE_COLUMN = \"FG3M\"\n",
    "POINTS_COLUMN = \"PTS\"\n",
    "REBOUNDS_COLUMN = \"REB\"\n",
    "ASSITS_COLUMN = \"AST\"\n",
    "STEALS_COLUMN = \"STL\"\n",
    "BLOCKS_COLUMN = \"BLK\"\n",
    "TURNOVERS_COLUMN = \"TOV\"\n",
    "MEAN_ROW = \"Mean\"\n",
    "PLAYER_COLUMN = \"PLAYER\"\n",
    "GAMES_PLAYED = \"GAMES\"\n",
    "\n",
    "THREE_DECIMAL_FORMAT = \"{:,.3f}\".format\n",
    "ONE_DECIMAL_FORMAT = \"{:,.1f}\".format\n",
    "\n",
    "CALCULATING_COLUMNS = [FIELD_GOALS_MADE_COLUMN, FIELD_GOAL_ATTEMPTED_COLUMN,\n",
    "                    FIELD_GOAL_PERCENTAGE_COLUMN, FREE_THROW_MADE_COLUMN,\n",
    "                    FREE_THROW_ATTEMPTED_COLUMN, FREE_THROW_PERCENTAGE_COLUMN,\n",
    "                    THREES_MADE_COLUMN, POINTS_COLUMN, REBOUNDS_COLUMN, ASSITS_COLUMN,\n",
    "                    STEALS_COLUMN, BLOCKS_COLUMN, TURNOVERS_COLUMN]\n",
    "NINE_CAT_COLUMNS = [FIELD_GOAL_PERCENTAGE_COLUMN, FREE_THROW_PERCENTAGE_COLUMN,\n",
    "                    THREES_MADE_COLUMN, POINTS_COLUMN, REBOUNDS_COLUMN, ASSITS_COLUMN,\n",
    "                    STEALS_COLUMN, BLOCKS_COLUMN, TURNOVERS_COLUMN]\n",
    "THREE_DECIMAL_COLUMNS = [FIELD_GOAL_PERCENTAGE_COLUMN, FREE_THROW_PERCENTAGE_COLUMN]\n",
    "ONE_DECIMAL_COLUMNS = [THREES_MADE_COLUMN, POINTS_COLUMN, REBOUNDS_COLUMN, ASSITS_COLUMN,\n",
    "                       STEALS_COLUMN, BLOCKS_COLUMN, TURNOVERS_COLUMN]\n",
    "\n",
    "\n",
    "def nba_active_players():\n",
    "\n",
    "    player_dict = players.get_players()\n",
    "    active_players = [player for player in player_dict if player[IS_ACTIVE_KEY] == True]\n",
    "\n",
    "    return active_players\n",
    "\n",
    "\n",
    "def move_column_inplace(dataframe, column, position):\n",
    "\n",
    "    column = dataframe.pop(column)\n",
    "    dataframe.insert(position, column.name, column)\n",
    "\n",
    "\n",
    "def true_percentage(dataframe, pct_category):\n",
    "    no_mean_row_dataframe = dataframe.drop(MEAN_ROW)\n",
    "    if pct_category == FIELD_GOAL_PERCENTAGE_COLUMN:\n",
    "        true_field_goal_pct = no_mean_row_dataframe[FIELD_GOALS_MADE_COLUMN].mean() / \\\n",
    "                              no_mean_row_dataframe[FIELD_GOAL_ATTEMPTED_COLUMN].mean()\n",
    "\n",
    "        print(true_field_goal_pct)\n",
    "        dataframe.at[MEAN_ROW, FIELD_GOAL_PERCENTAGE_COLUMN] = true_field_goal_pct\n",
    "\n",
    "    else:\n",
    "        true_free_throw_pct = no_mean_row_dataframe[FREE_THROW_MADE_COLUMN].mean() / \\\n",
    "            no_mean_row_dataframe[FREE_THROW_ATTEMPTED_COLUMN].mean()\n",
    "        print(true_free_throw_pct)\n",
    "        dataframe.at[MEAN_ROW, FREE_THROW_PERCENTAGE_COLUMN] = true_free_throw_pct\n",
    "\n",
    "    return dataframe\n",
    "\n",
    "\n",
    "def format_dataframe_decimals(dataframe):\n",
    "\n",
    "    dataframe[THREE_DECIMAL_COLUMNS] = dataframe[THREE_DECIMAL_COLUMNS].applymap\\\n",
    "    (THREE_DECIMAL_FORMAT)\n",
    "    dataframe[ONE_DECIMAL_COLUMNS] = dataframe[ONE_DECIMAL_COLUMNS].applymap(ONE_DECIMAL_FORMAT)\n",
    "\n",
    "    return dataframe\n",
    "\n",
    "def player_average_9cat_stats(player_name, player_data_dict):\n",
    "\n",
    "    # Get player identifier\n",
    "    player_name_dict = [player for player in player_data_dict if player[FULL_NAME_KEY] == \\\n",
    "                        player_name]\n",
    "    player_id = player_name_dict[0][ID_KEY]\n",
    "\n",
    "    # Player game log\n",
    "    player_game_log = playergamelog.PlayerGameLog(player_id=player_id, season=SEASON_2020)\n",
    "    player_game_log_dataframe = player_game_log.get_data_frames()[0]\n",
    "\n",
    "    # Filter for games played\n",
    "    player_game_log_dataframe = \\\n",
    "    player_game_log_dataframe[player_game_log_dataframe[MINUTES_COLUMN] >= 1]\n",
    "\n",
    "    # Find true percentages\n",
    "    player_game_log_dataframe = player_game_log_dataframe[CALCULATING_COLUMNS]\n",
    "    player_game_log_dataframe.loc[MEAN_ROW] = player_game_log_dataframe.mean()\n",
    "    player_game_log_dataframe = true_percentage(player_game_log_dataframe,\n",
    "                                                FIELD_GOAL_PERCENTAGE_COLUMN)\n",
    "    player_game_log_dataframe = true_percentage(player_game_log_dataframe,\n",
    "                                                FREE_THROW_PERCENTAGE_COLUMN)\n",
    "\n",
    "    # Filter for 9cat columns\n",
    "    player_9cat = player_game_log_dataframe[NINE_CAT_COLUMNS]\n",
    "\n",
    "    # Formatting columns\n",
    "    player_9cat = format_dataframe_decimals(player_9cat)\n",
    "\n",
    "    # Show only averages\n",
    "    player_9cat_season_average = pd.DataFrame(player_9cat.loc[MEAN_ROW]).T\n",
    "\n",
    "    # Add player name/games player\n",
    "    player_9cat_season_average[PLAYER_COLUMN] = player_name\n",
    "    player_9cat_season_average[GAMES_PLAYED] = len(player_game_log_dataframe)\n",
    "\n",
    "    # Move PLAYER NAME column\n",
    "    move_column_inplace(player_9cat_season_average, PLAYER_COLUMN, 0)\n",
    "\n",
    "    return player_9cat_season_average"
   ],
   "metadata": {
    "collapsed": false,
    "pycharm": {
     "name": "#%%\n"
    }
   }
  },
  {
   "cell_type": "code",
   "execution_count": 15,
   "outputs": [
    {
     "data": {
      "text/plain": "[{'id': 203500,\n  'full_name': 'Steven Adams',\n  'first_name': 'Steven',\n  'last_name': 'Adams',\n  'is_active': True},\n {'id': 1628389,\n  'full_name': 'Bam Adebayo',\n  'first_name': 'Bam',\n  'last_name': 'Adebayo',\n  'is_active': True},\n {'id': 200746,\n  'full_name': 'LaMarcus Aldridge',\n  'first_name': 'LaMarcus',\n  'last_name': 'Aldridge',\n  'is_active': True},\n {'id': 1629734,\n  'full_name': 'Kyle Alexander',\n  'first_name': 'Kyle',\n  'last_name': 'Alexander',\n  'is_active': True},\n {'id': 1629638,\n  'full_name': 'Nickeil Alexander-Walker',\n  'first_name': 'Nickeil',\n  'last_name': 'Alexander-Walker',\n  'is_active': True},\n {'id': 1628960,\n  'full_name': 'Grayson Allen',\n  'first_name': 'Grayson',\n  'last_name': 'Allen',\n  'is_active': True},\n {'id': 1628386,\n  'full_name': 'Jarrett Allen',\n  'first_name': 'Jarrett',\n  'last_name': 'Allen',\n  'is_active': True},\n {'id': 1628443,\n  'full_name': 'Kadeem Allen',\n  'first_name': 'Kadeem',\n  'last_name': 'Allen',\n  'is_active': True},\n {'id': 202329,\n  'full_name': 'Al-Farouq Aminu',\n  'first_name': 'Al-Farouq',\n  'last_name': 'Aminu',\n  'is_active': True},\n {'id': 1626147,\n  'full_name': 'Justin Anderson',\n  'first_name': 'Justin',\n  'last_name': 'Anderson',\n  'is_active': True},\n {'id': 203937,\n  'full_name': 'Kyle Anderson',\n  'first_name': 'Kyle',\n  'last_name': 'Anderson',\n  'is_active': True},\n {'id': 201583,\n  'full_name': 'Ryan Anderson',\n  'first_name': 'Ryan',\n  'last_name': 'Anderson',\n  'is_active': True},\n {'id': 203507,\n  'full_name': 'Giannis Antetokounmpo',\n  'first_name': 'Giannis',\n  'last_name': 'Antetokounmpo',\n  'is_active': True},\n {'id': 1628961,\n  'full_name': 'Kostas Antetokounmpo',\n  'first_name': 'Kostas',\n  'last_name': 'Antetokounmpo',\n  'is_active': True},\n {'id': 203648,\n  'full_name': 'Thanasis Antetokounmpo',\n  'first_name': 'Thanasis',\n  'last_name': 'Antetokounmpo',\n  'is_active': True},\n {'id': 2546,\n  'full_name': 'Carmelo Anthony',\n  'first_name': 'Carmelo',\n  'last_name': 'Anthony',\n  'is_active': True},\n {'id': 1628384,\n  'full_name': 'OG Anunoby',\n  'first_name': 'OG',\n  'last_name': 'Anunoby',\n  'is_active': True},\n {'id': 1627853,\n  'full_name': 'Ryan Arcidiacono',\n  'first_name': 'Ryan',\n  'last_name': 'Arcidiacono',\n  'is_active': True},\n {'id': 2772,\n  'full_name': 'Trevor Ariza',\n  'first_name': 'Trevor',\n  'last_name': 'Ariza',\n  'is_active': True},\n {'id': 201571,\n  'full_name': 'D.J. Augustin',\n  'first_name': 'D.J.',\n  'last_name': 'Augustin',\n  'is_active': True},\n {'id': 1629028,\n  'full_name': 'Deandre Ayton',\n  'first_name': 'Deandre',\n  'last_name': 'Ayton',\n  'is_active': True},\n {'id': 1628407,\n  'full_name': 'Dwayne Bacon',\n  'first_name': 'Dwayne',\n  'last_name': 'Bacon',\n  'is_active': True},\n {'id': 1628963,\n  'full_name': 'Marvin Bagley III',\n  'first_name': 'Marvin',\n  'last_name': 'Bagley III',\n  'is_active': True},\n {'id': 1628366,\n  'full_name': 'Lonzo Ball',\n  'first_name': 'Lonzo',\n  'last_name': 'Ball',\n  'is_active': True},\n {'id': 1628964,\n  'full_name': 'Mo Bamba',\n  'first_name': 'Mo',\n  'last_name': 'Bamba',\n  'is_active': True},\n {'id': 200826,\n  'full_name': 'J.J. Barea',\n  'first_name': 'J.J.',\n  'last_name': 'Barea',\n  'is_active': True},\n {'id': 203084,\n  'full_name': 'Harrison Barnes',\n  'first_name': 'Harrison',\n  'last_name': 'Barnes',\n  'is_active': True},\n {'id': 1629628,\n  'full_name': 'RJ Barrett',\n  'first_name': 'RJ',\n  'last_name': 'Barrett',\n  'is_active': True},\n {'id': 203115,\n  'full_name': 'Will Barton',\n  'first_name': 'Will',\n  'last_name': 'Barton',\n  'is_active': True},\n {'id': 1628966,\n  'full_name': 'Keita Bates-Diop',\n  'first_name': 'Keita',\n  'last_name': 'Bates-Diop',\n  'is_active': True},\n {'id': 201587,\n  'full_name': 'Nicolas Batum',\n  'first_name': 'Nicolas',\n  'last_name': 'Batum',\n  'is_active': True},\n {'id': 203382,\n  'full_name': 'Aron Baynes',\n  'first_name': 'Aron',\n  'last_name': 'Baynes',\n  'is_active': True},\n {'id': 203145,\n  'full_name': 'Kent Bazemore',\n  'first_name': 'Kent',\n  'last_name': 'Bazemore',\n  'is_active': True},\n {'id': 1629647,\n  'full_name': 'Darius Bazley',\n  'first_name': 'Darius',\n  'last_name': 'Bazley',\n  'is_active': True},\n {'id': 203078,\n  'full_name': 'Bradley Beal',\n  'first_name': 'Bradley',\n  'last_name': 'Beal',\n  'is_active': True},\n {'id': 1627736,\n  'full_name': 'Malik Beasley',\n  'first_name': 'Malik',\n  'last_name': 'Beasley',\n  'is_active': True},\n {'id': 201158,\n  'full_name': 'Marco Belinelli',\n  'first_name': 'Marco',\n  'last_name': 'Belinelli',\n  'is_active': True},\n {'id': 1628395,\n  'full_name': 'Jordan Bell',\n  'first_name': 'Jordan',\n  'last_name': 'Bell',\n  'is_active': True},\n {'id': 1627761,\n  'full_name': \"DeAndre' Bembry\",\n  'first_name': \"DeAndre'\",\n  'last_name': 'Bembry',\n  'is_active': True},\n {'id': 1627733,\n  'full_name': 'Dragan Bender',\n  'first_name': 'Dragan',\n  'last_name': 'Bender',\n  'is_active': True},\n {'id': 202722,\n  'full_name': 'Davis Bertans',\n  'first_name': 'Davis',\n  'last_name': 'Bertans',\n  'is_active': True},\n {'id': 201976,\n  'full_name': 'Patrick Beverley',\n  'first_name': 'Patrick',\n  'last_name': 'Beverley',\n  'is_active': True},\n {'id': 203920,\n  'full_name': 'Khem Birch',\n  'first_name': 'Khem',\n  'last_name': 'Birch',\n  'is_active': True},\n {'id': 1629048,\n  'full_name': 'Goga Bitadze',\n  'first_name': 'Goga',\n  'last_name': 'Bitadze',\n  'is_active': True},\n {'id': 202687,\n  'full_name': 'Bismack Biyombo',\n  'first_name': 'Bismack',\n  'last_name': 'Biyombo',\n  'is_active': True},\n {'id': 202357,\n  'full_name': 'Nemanja Bjelica',\n  'first_name': 'Nemanja',\n  'last_name': 'Bjelica',\n  'is_active': True},\n {'id': 202339,\n  'full_name': 'Eric Bledsoe',\n  'first_name': 'Eric',\n  'last_name': 'Bledsoe',\n  'is_active': True},\n {'id': 203992,\n  'full_name': 'Bogdan Bogdanovic',\n  'first_name': 'Bogdan',\n  'last_name': 'Bogdanovic',\n  'is_active': True},\n {'id': 202711,\n  'full_name': 'Bojan Bogdanovic',\n  'first_name': 'Bojan',\n  'last_name': 'Bogdanovic',\n  'is_active': True},\n {'id': 1629626,\n  'full_name': 'Bol Bol',\n  'first_name': 'Bol',\n  'last_name': 'Bol',\n  'is_active': True},\n {'id': 1628413,\n  'full_name': 'Jonah Bolden',\n  'first_name': 'Jonah',\n  'last_name': 'Bolden',\n  'is_active': True},\n {'id': 1629648,\n  'full_name': 'Jordan Bone',\n  'first_name': 'Jordan',\n  'last_name': 'Bone',\n  'is_active': True},\n {'id': 1629067,\n  'full_name': 'Isaac Bonga',\n  'first_name': 'Isaac',\n  'last_name': 'Bonga',\n  'is_active': True},\n {'id': 1626164,\n  'full_name': 'Devin Booker',\n  'first_name': 'Devin',\n  'last_name': 'Booker',\n  'is_active': True},\n {'id': 1628449,\n  'full_name': 'Chris Boucher',\n  'first_name': 'Chris',\n  'last_name': 'Boucher',\n  'is_active': True},\n {'id': 1628968,\n  'full_name': 'Brian Bowen II',\n  'first_name': 'Brian',\n  'last_name': 'Bowen II',\n  'is_active': True},\n {'id': 1629065,\n  'full_name': 'Ky Bowman',\n  'first_name': 'Ky',\n  'last_name': 'Bowman',\n  'is_active': True},\n {'id': 202340,\n  'full_name': 'Avery Bradley',\n  'first_name': 'Avery',\n  'last_name': 'Bradley',\n  'is_active': True},\n {'id': 1628396,\n  'full_name': 'Tony Bradley',\n  'first_name': 'Tony',\n  'last_name': 'Bradley',\n  'is_active': True},\n {'id': 1629714,\n  'full_name': 'Jarrell Brantley',\n  'first_name': 'Jarrell',\n  'last_name': 'Brantley',\n  'is_active': True},\n {'id': 1629649,\n  'full_name': 'Ignas Brazdeikis',\n  'first_name': 'Ignas',\n  'last_name': 'Brazdeikis',\n  'is_active': True},\n {'id': 1628969,\n  'full_name': 'Mikal Bridges',\n  'first_name': 'Mikal',\n  'last_name': 'Bridges',\n  'is_active': True},\n {'id': 1628970,\n  'full_name': 'Miles Bridges',\n  'first_name': 'Miles',\n  'last_name': 'Bridges',\n  'is_active': True},\n {'id': 1629052,\n  'full_name': 'Oshae Brissett',\n  'first_name': 'Oshae',\n  'last_name': 'Brissett',\n  'is_active': True},\n {'id': 1629151,\n  'full_name': 'Ryan Broekhoff',\n  'first_name': 'Ryan',\n  'last_name': 'Broekhoff',\n  'is_active': True},\n {'id': 1627763,\n  'full_name': 'Malcolm Brogdon',\n  'first_name': 'Malcolm',\n  'last_name': 'Brogdon',\n  'is_active': True},\n {'id': 1628415,\n  'full_name': 'Dillon Brooks',\n  'first_name': 'Dillon',\n  'last_name': 'Brooks',\n  'is_active': True},\n {'id': 1628971,\n  'full_name': 'Bruce Brown',\n  'first_name': 'Bruce',\n  'last_name': 'Brown',\n  'is_active': True},\n {'id': 1627759,\n  'full_name': 'Jaylen Brown',\n  'first_name': 'Jaylen',\n  'last_name': 'Brown',\n  'is_active': True},\n {'id': 1629650,\n  'full_name': 'Moses Brown',\n  'first_name': 'Moses',\n  'last_name': 'Brown',\n  'is_active': True},\n {'id': 1628425,\n  'full_name': 'Sterling Brown',\n  'first_name': 'Sterling',\n  'last_name': 'Brown',\n  'is_active': True},\n {'id': 1629718,\n  'full_name': 'Charles Brown Jr.',\n  'first_name': 'Charles',\n  'last_name': 'Brown Jr.',\n  'is_active': True},\n {'id': 1628972,\n  'full_name': 'Troy Brown Jr.',\n  'first_name': 'Troy',\n  'last_name': 'Brown Jr.',\n  'is_active': True},\n {'id': 1628973,\n  'full_name': 'Jalen Brunson',\n  'first_name': 'Jalen',\n  'last_name': 'Brunson',\n  'is_active': True},\n {'id': 1628418,\n  'full_name': 'Thomas Bryant',\n  'first_name': 'Thomas',\n  'last_name': 'Bryant',\n  'is_active': True},\n {'id': 203493,\n  'full_name': 'Reggie Bullock',\n  'first_name': 'Reggie',\n  'last_name': 'Bullock',\n  'is_active': True},\n {'id': 203504,\n  'full_name': 'Trey Burke',\n  'first_name': 'Trey',\n  'last_name': 'Burke',\n  'is_active': True},\n {'id': 202692,\n  'full_name': 'Alec Burks',\n  'first_name': 'Alec',\n  'last_name': 'Burks',\n  'is_active': True},\n {'id': 1629126,\n  'full_name': 'Deonte Burton',\n  'first_name': 'Deonte',\n  'last_name': 'Burton',\n  'is_active': True},\n {'id': 202710,\n  'full_name': 'Jimmy Butler',\n  'first_name': 'Jimmy',\n  'last_name': 'Butler',\n  'is_active': True},\n {'id': 203998,\n  'full_name': 'Bruno Caboclo',\n  'first_name': 'Bruno',\n  'last_name': 'Caboclo',\n  'is_active': True},\n {'id': 1629719,\n  'full_name': 'Devontae Cacok',\n  'first_name': 'Devontae',\n  'last_name': 'Cacok',\n  'is_active': True},\n {'id': 203484,\n  'full_name': 'Kentavious Caldwell-Pope',\n  'first_name': 'Kentavious',\n  'last_name': 'Caldwell-Pope',\n  'is_active': True},\n {'id': 1628427,\n  'full_name': 'Vlatko Cancar',\n  'first_name': 'Vlatko',\n  'last_name': 'Cancar',\n  'is_active': True},\n {'id': 203991,\n  'full_name': 'Clint Capela',\n  'first_name': 'Clint',\n  'last_name': 'Capela',\n  'is_active': True},\n {'id': 201960,\n  'full_name': 'DeMarre Carroll',\n  'first_name': 'DeMarre',\n  'last_name': 'Carroll',\n  'is_active': True},\n {'id': 1628975,\n  'full_name': 'Jevon Carter',\n  'first_name': 'Jevon',\n  'last_name': 'Carter',\n  'is_active': True},\n {'id': 1713,\n  'full_name': 'Vince Carter',\n  'first_name': 'Vince',\n  'last_name': 'Carter',\n  'is_active': True},\n {'id': 1628976,\n  'full_name': 'Wendell Carter Jr.',\n  'first_name': 'Wendell',\n  'last_name': 'Carter Jr.',\n  'is_active': True},\n {'id': 203487,\n  'full_name': 'Michael Carter-Williams',\n  'first_name': 'Michael',\n  'last_name': 'Carter-Williams',\n  'is_active': True},\n {'id': 1627936,\n  'full_name': 'Alex Caruso',\n  'first_name': 'Alex',\n  'last_name': 'Caruso',\n  'is_active': True},\n {'id': 1626161,\n  'full_name': 'Willie Cauley-Stein',\n  'first_name': 'Willie',\n  'last_name': 'Cauley-Stein',\n  'is_active': True},\n {'id': 2199,\n  'full_name': 'Tyson Chandler',\n  'first_name': 'Tyson',\n  'last_name': 'Chandler',\n  'is_active': True},\n {'id': 201163,\n  'full_name': 'Wilson Chandler',\n  'first_name': 'Wilson',\n  'last_name': 'Chandler',\n  'is_active': True},\n {'id': 1629597,\n  'full_name': 'Zylan Cheatham',\n  'first_name': 'Zylan',\n  'last_name': 'Cheatham',\n  'is_active': True},\n {'id': 1629185,\n  'full_name': 'Chris Chiozza',\n  'first_name': 'Chris',\n  'last_name': 'Chiozza',\n  'is_active': True},\n {'id': 1627737,\n  'full_name': 'Marquese Chriss',\n  'first_name': 'Marquese',\n  'last_name': 'Chriss',\n  'is_active': True},\n {'id': 1629109,\n  'full_name': 'Gary Clark',\n  'first_name': 'Gary',\n  'last_name': 'Clark',\n  'is_active': True},\n {'id': 1629634,\n  'full_name': 'Brandon Clarke',\n  'first_name': 'Brandon',\n  'last_name': 'Clarke',\n  'is_active': True},\n {'id': 203903,\n  'full_name': 'Jordan Clarkson',\n  'first_name': 'Jordan',\n  'last_name': 'Clarkson',\n  'is_active': True},\n {'id': 1629651,\n  'full_name': 'Nicolas Claxton',\n  'first_name': 'Nicolas',\n  'last_name': 'Claxton',\n  'is_active': True},\n {'id': 1629598,\n  'full_name': 'Chris Clemons',\n  'first_name': 'Chris',\n  'last_name': 'Clemons',\n  'is_active': True},\n {'id': 1628499,\n  'full_name': 'Antonius Cleveland',\n  'first_name': 'Antonius',\n  'last_name': 'Cleveland',\n  'is_active': True},\n {'id': 1629599,\n  'full_name': 'Amir Coffey',\n  'first_name': 'Amir',\n  'last_name': 'Coffey',\n  'is_active': True},\n {'id': 1628381,\n  'full_name': 'John Collins',\n  'first_name': 'John',\n  'last_name': 'Collins',\n  'is_active': True},\n {'id': 1628380,\n  'full_name': 'Zach Collins',\n  'first_name': 'Zach',\n  'last_name': 'Collins',\n  'is_active': True},\n {'id': 201144,\n  'full_name': 'Mike Conley',\n  'first_name': 'Mike',\n  'last_name': 'Conley',\n  'is_active': True},\n {'id': 1626192,\n  'full_name': 'Pat Connaughton',\n  'first_name': 'Pat',\n  'last_name': 'Connaughton',\n  'is_active': True},\n {'id': 1626188,\n  'full_name': 'Quinn Cook',\n  'first_name': 'Quinn',\n  'last_name': 'Cook',\n  'is_active': True},\n {'id': 1629076,\n  'full_name': 'Tyler Cook',\n  'first_name': 'Tyler',\n  'last_name': 'Cook',\n  'is_active': True},\n {'id': 202326,\n  'full_name': 'DeMarcus Cousins',\n  'first_name': 'DeMarcus',\n  'last_name': 'Cousins',\n  'is_active': True},\n {'id': 203496,\n  'full_name': 'Robert Covington',\n  'first_name': 'Robert',\n  'last_name': 'Covington',\n  'is_active': True},\n {'id': 203459,\n  'full_name': 'Allen Crabbe',\n  'first_name': 'Allen',\n  'last_name': 'Crabbe',\n  'is_active': True},\n {'id': 1628470,\n  'full_name': 'Torrey Craig',\n  'first_name': 'Torrey',\n  'last_name': 'Craig',\n  'is_active': True},\n {'id': 203109,\n  'full_name': 'Jae Crowder',\n  'first_name': 'Jae',\n  'last_name': 'Crowder',\n  'is_active': True},\n {'id': 1629633,\n  'full_name': 'Jarrett Culver',\n  'first_name': 'Jarrett',\n  'last_name': 'Culver',\n  'is_active': True},\n {'id': 203552,\n  'full_name': 'Seth Curry',\n  'first_name': 'Seth',\n  'last_name': 'Curry',\n  'is_active': True},\n {'id': 201939,\n  'full_name': 'Stephen Curry',\n  'first_name': 'Stephen',\n  'last_name': 'Curry',\n  'is_active': True},\n {'id': 203584,\n  'full_name': 'Troy Daniels',\n  'first_name': 'Troy',\n  'last_name': 'Daniels',\n  'is_active': True},\n {'id': 203076,\n  'full_name': 'Anthony Davis',\n  'first_name': 'Anthony',\n  'last_name': 'Davis',\n  'is_active': True},\n {'id': 202334,\n  'full_name': 'Ed Davis',\n  'first_name': 'Ed',\n  'last_name': 'Davis',\n  'is_active': True},\n {'id': 1629056,\n  'full_name': 'Terence Davis',\n  'first_name': 'Terence',\n  'last_name': 'Davis',\n  'is_active': True},\n {'id': 201942,\n  'full_name': 'DeMar DeRozan',\n  'first_name': 'DeMar',\n  'last_name': 'DeRozan',\n  'is_active': True},\n {'id': 203473,\n  'full_name': 'Dewayne Dedmon',\n  'first_name': 'Dewayne',\n  'last_name': 'Dedmon',\n  'is_active': True},\n {'id': 203521,\n  'full_name': 'Matthew Dellavedova',\n  'first_name': 'Matthew',\n  'last_name': 'Dellavedova',\n  'is_active': True},\n {'id': 1628978,\n  'full_name': 'Donte DiVincenzo',\n  'first_name': 'Donte',\n  'last_name': 'DiVincenzo',\n  'is_active': True},\n {'id': 1627767,\n  'full_name': 'Cheick Diallo',\n  'first_name': 'Cheick',\n  'last_name': 'Diallo',\n  'is_active': True},\n {'id': 1628977,\n  'full_name': 'Hamidou Diallo',\n  'first_name': 'Hamidou',\n  'last_name': 'Diallo',\n  'is_active': True},\n {'id': 203476,\n  'full_name': 'Gorgui Dieng',\n  'first_name': 'Gorgui',\n  'last_name': 'Dieng',\n  'is_active': True},\n {'id': 203915,\n  'full_name': 'Spencer Dinwiddie',\n  'first_name': 'Spencer',\n  'last_name': 'Dinwiddie',\n  'is_active': True},\n {'id': 1629029,\n  'full_name': 'Luka Doncic',\n  'first_name': 'Luka',\n  'last_name': 'Doncic',\n  'is_active': True},\n {'id': 1629652,\n  'full_name': 'Luguentz Dort',\n  'first_name': 'Luguentz',\n  'last_name': 'Dort',\n  'is_active': True},\n {'id': 1628422,\n  'full_name': 'Damyean Dotson',\n  'first_name': 'Damyean',\n  'last_name': 'Dotson',\n  'is_active': True},\n {'id': 1629635,\n  'full_name': 'Sekou Doumbouya',\n  'first_name': 'Sekou',\n  'last_name': 'Doumbouya',\n  'is_active': True},\n {'id': 1628408,\n  'full_name': 'PJ Dozier',\n  'first_name': 'PJ',\n  'last_name': 'Dozier',\n  'is_active': True},\n {'id': 201609,\n  'full_name': 'Goran Dragic',\n  'first_name': 'Goran',\n  'last_name': 'Dragic',\n  'is_active': True},\n {'id': 203083,\n  'full_name': 'Andre Drummond',\n  'first_name': 'Andre',\n  'last_name': 'Drummond',\n  'is_active': True},\n {'id': 201162,\n  'full_name': 'Jared Dudley',\n  'first_name': 'Jared',\n  'last_name': 'Dudley',\n  'is_active': True},\n {'id': 1627739,\n  'full_name': 'Kris Dunn',\n  'first_name': 'Kris',\n  'last_name': 'Dunn',\n  'is_active': True},\n {'id': 201142,\n  'full_name': 'Kevin Durant',\n  'first_name': 'Kevin',\n  'last_name': 'Durant',\n  'is_active': True},\n {'id': 1629035,\n  'full_name': 'Carsen Edwards',\n  'first_name': 'Carsen',\n  'last_name': 'Edwards',\n  'is_active': True},\n {'id': 1627740,\n  'full_name': 'Henry Ellenson',\n  'first_name': 'Henry',\n  'last_name': 'Ellenson',\n  'is_active': True},\n {'id': 201961,\n  'full_name': 'Wayne Ellington',\n  'first_name': 'Wayne',\n  'last_name': 'Ellington',\n  'is_active': True},\n {'id': 203954,\n  'full_name': 'Joel Embiid',\n  'first_name': 'Joel',\n  'last_name': 'Embiid',\n  'is_active': True},\n {'id': 203516,\n  'full_name': 'James Ennis III',\n  'first_name': 'James',\n  'last_name': 'Ennis III',\n  'is_active': True},\n {'id': 1629234,\n  'full_name': 'Drew Eubanks',\n  'first_name': 'Drew',\n  'last_name': 'Eubanks',\n  'is_active': True},\n {'id': 1628980,\n  'full_name': 'Jacob Evans',\n  'first_name': 'Jacob',\n  'last_name': 'Evans',\n  'is_active': True},\n {'id': 203957,\n  'full_name': 'Dante Exum',\n  'first_name': 'Dante',\n  'last_name': 'Exum',\n  'is_active': True},\n {'id': 1629605,\n  'full_name': 'Tacko Fall',\n  'first_name': 'Tacko',\n  'last_name': 'Fall',\n  'is_active': True},\n {'id': 202324,\n  'full_name': 'Derrick Favors',\n  'first_name': 'Derrick',\n  'last_name': 'Favors',\n  'is_active': True},\n {'id': 1626245,\n  'full_name': 'Cristiano Felicio',\n  'first_name': 'Cristiano',\n  'last_name': 'Felicio',\n  'is_active': True},\n {'id': 1628390,\n  'full_name': 'Terrance Ferguson',\n  'first_name': 'Terrance',\n  'last_name': 'Ferguson',\n  'is_active': True},\n {'id': 1628981,\n  'full_name': 'Bruno Fernando',\n  'first_name': 'Bruno',\n  'last_name': 'Fernando',\n  'is_active': True},\n {'id': 1627812,\n  'full_name': 'Yogi Ferrell',\n  'first_name': 'Yogi',\n  'last_name': 'Ferrell',\n  'is_active': True},\n {'id': 1627827,\n  'full_name': 'Dorian Finney-Smith',\n  'first_name': 'Dorian',\n  'last_name': 'Finney-Smith',\n  'is_active': True},\n {'id': 1627854,\n  'full_name': 'Bryn Forbes',\n  'first_name': 'Bryn',\n  'last_name': 'Forbes',\n  'is_active': True},\n {'id': 203095,\n  'full_name': 'Evan Fournier',\n  'first_name': 'Evan',\n  'last_name': 'Fournier',\n  'is_active': True},\n {'id': 1628368,\n  'full_name': \"De'Aaron Fox\",\n  'first_name': \"De'Aaron\",\n  'last_name': 'Fox',\n  'is_active': True},\n {'id': 1626187,\n  'full_name': 'Michael Frazier',\n  'first_name': 'Michael',\n  'last_name': 'Frazier',\n  'is_active': True},\n {'id': 204025,\n  'full_name': 'Tim Frazier',\n  'first_name': 'Tim',\n  'last_name': 'Frazier',\n  'is_active': True},\n {'id': 1628982,\n  'full_name': 'Melvin Frazier Jr.',\n  'first_name': 'Melvin',\n  'last_name': 'Frazier Jr.',\n  'is_active': True},\n {'id': 1628365,\n  'full_name': 'Markelle Fultz',\n  'first_name': 'Markelle',\n  'last_name': 'Fultz',\n  'is_active': True},\n {'id': 1629117,\n  'full_name': 'Wenyen Gabriel',\n  'first_name': 'Wenyen',\n  'last_name': 'Gabriel',\n  'is_active': True},\n {'id': 1629655,\n  'full_name': 'Daniel Gafford',\n  'first_name': 'Daniel',\n  'last_name': 'Gafford',\n  'is_active': True},\n {'id': 201568,\n  'full_name': 'Danilo Gallinari',\n  'first_name': 'Danilo',\n  'last_name': 'Gallinari',\n  'is_active': True},\n {'id': 204038,\n  'full_name': 'Langston Galloway',\n  'first_name': 'Langston',\n  'last_name': 'Galloway',\n  'is_active': True},\n {'id': 1629636,\n  'full_name': 'Darius Garland',\n  'first_name': 'Darius',\n  'last_name': 'Garland',\n  'is_active': True},\n {'id': 201188,\n  'full_name': 'Marc Gasol',\n  'first_name': 'Marc',\n  'last_name': 'Gasol',\n  'is_active': True},\n {'id': 200752,\n  'full_name': 'Rudy Gay',\n  'first_name': 'Rudy',\n  'last_name': 'Gay',\n  'is_active': True},\n {'id': 202331,\n  'full_name': 'Paul George',\n  'first_name': 'Paul',\n  'last_name': 'George',\n  'is_active': True},\n {'id': 201959,\n  'full_name': 'Taj Gibson',\n  'first_name': 'Taj',\n  'last_name': 'Gibson',\n  'is_active': True},\n {'id': 1628385,\n  'full_name': 'Harry Giles III',\n  'first_name': 'Harry',\n  'last_name': 'Giles III',\n  'is_active': True},\n {'id': 1628983,\n  'full_name': 'Shai Gilgeous-Alexander',\n  'first_name': 'Shai',\n  'last_name': 'Gilgeous-Alexander',\n  'is_active': True},\n {'id': 203497,\n  'full_name': 'Rudy Gobert',\n  'first_name': 'Rudy',\n  'last_name': 'Gobert',\n  'is_active': True},\n {'id': 1629164,\n  'full_name': 'Brandon Goodwin',\n  'first_name': 'Brandon',\n  'last_name': 'Goodwin',\n  'is_active': True},\n {'id': 203932,\n  'full_name': 'Aaron Gordon',\n  'first_name': 'Aaron',\n  'last_name': 'Gordon',\n  'is_active': True},\n {'id': 201569,\n  'full_name': 'Eric Gordon',\n  'first_name': 'Eric',\n  'last_name': 'Gordon',\n  'is_active': True},\n {'id': 1628984,\n  'full_name': \"Devonte' Graham\",\n  'first_name': \"Devonte'\",\n  'last_name': 'Graham',\n  'is_active': True},\n {'id': 1626203,\n  'full_name': 'Treveon Graham',\n  'first_name': 'Treveon',\n  'last_name': 'Graham',\n  'is_active': True},\n {'id': 203924,\n  'full_name': 'Jerami Grant',\n  'first_name': 'Jerami',\n  'last_name': 'Grant',\n  'is_active': True},\n {'id': 1627982,\n  'full_name': 'Josh Gray',\n  'first_name': 'Josh',\n  'last_name': 'Gray',\n  'is_active': True},\n {'id': 201980,\n  'full_name': 'Danny Green',\n  'first_name': 'Danny',\n  'last_name': 'Green',\n  'is_active': True},\n {'id': 203110,\n  'full_name': 'Draymond Green',\n  'first_name': 'Draymond',\n  'last_name': 'Green',\n  'is_active': True},\n {'id': 101123,\n  'full_name': 'Gerald Green',\n  'first_name': 'Gerald',\n  'last_name': 'Green',\n  'is_active': True},\n {'id': 203210,\n  'full_name': 'JaMychal Green',\n  'first_name': 'JaMychal',\n  'last_name': 'Green',\n  'is_active': True},\n {'id': 1629750,\n  'full_name': 'Javonte Green',\n  'first_name': 'Javonte',\n  'last_name': 'Green',\n  'is_active': True},\n {'id': 201145,\n  'full_name': 'Jeff Green',\n  'first_name': 'Jeff',\n  'last_name': 'Green',\n  'is_active': True},\n {'id': 201933,\n  'full_name': 'Blake Griffin',\n  'first_name': 'Blake',\n  'last_name': 'Griffin',\n  'is_active': True},\n {'id': 1629741,\n  'full_name': 'Marko Guduric',\n  'first_name': 'Marko',\n  'last_name': 'Guduric',\n  'is_active': True},\n {'id': 1629657,\n  'full_name': 'Kyle Guy',\n  'first_name': 'Kyle',\n  'last_name': 'Guy',\n  'is_active': True},\n {'id': 1629060,\n  'full_name': 'Rui Hachimura',\n  'first_name': 'Rui',\n  'last_name': 'Hachimura',\n  'is_active': True},\n {'id': 1628985,\n  'full_name': 'Devon Hall',\n  'first_name': 'Devon',\n  'last_name': 'Hall',\n  'is_active': True},\n {'id': 203501,\n  'full_name': 'Tim Hardaway Jr.',\n  'first_name': 'Tim',\n  'last_name': 'Hardaway Jr.',\n  'is_active': True},\n {'id': 201935,\n  'full_name': 'James Harden',\n  'first_name': 'James',\n  'last_name': 'Harden',\n  'is_active': True},\n {'id': 203090,\n  'full_name': 'Maurice Harkless',\n  'first_name': 'Maurice',\n  'last_name': 'Harkless',\n  'is_active': True},\n {'id': 1629607,\n  'full_name': 'Jared Harper',\n  'first_name': 'Jared',\n  'last_name': 'Harper',\n  'is_active': True},\n {'id': 1626149,\n  'full_name': 'Montrezl Harrell',\n  'first_name': 'Montrezl',\n  'last_name': 'Harrell',\n  'is_active': True},\n {'id': 203914,\n  'full_name': 'Gary Harris',\n  'first_name': 'Gary',\n  'last_name': 'Harris',\n  'is_active': True},\n {'id': 203925,\n  'full_name': 'Joe Harris',\n  'first_name': 'Joe',\n  'last_name': 'Harris',\n  'is_active': True},\n {'id': 202699,\n  'full_name': 'Tobias Harris',\n  'first_name': 'Tobias',\n  'last_name': 'Harris',\n  'is_active': True},\n {'id': 1627885,\n  'full_name': 'Shaquille Harrison',\n  'first_name': 'Shaquille',\n  'last_name': 'Harrison',\n  'is_active': True},\n {'id': 1628404,\n  'full_name': 'Josh Hart',\n  'first_name': 'Josh',\n  'last_name': 'Hart',\n  'is_active': True},\n {'id': 1628392,\n  'full_name': 'Isaiah Hartenstein',\n  'first_name': 'Isaiah',\n  'last_name': 'Hartenstein',\n  'is_active': True},\n {'id': 2617,\n  'full_name': 'Udonis Haslem',\n  'first_name': 'Udonis',\n  'last_name': 'Haslem',\n  'is_active': True},\n {'id': 1629637,\n  'full_name': 'Jaxson Hayes',\n  'first_name': 'Jaxson',\n  'last_name': 'Hayes',\n  'is_active': True},\n {'id': 202330,\n  'full_name': 'Gordon Hayward',\n  'first_name': 'Gordon',\n  'last_name': 'Hayward',\n  'is_active': True},\n {'id': 203089,\n  'full_name': 'John Henson',\n  'first_name': 'John',\n  'last_name': 'Henson',\n  'is_active': True},\n {'id': 1629608,\n  'full_name': 'Dewan Hernandez',\n  'first_name': 'Dewan',\n  'last_name': 'Hernandez',\n  'is_active': True},\n {'id': 1627823,\n  'full_name': 'Juancho Hernangomez',\n  'first_name': 'Juancho',\n  'last_name': 'Hernangomez',\n  'is_active': True},\n {'id': 1626195,\n  'full_name': 'Willy Hernangomez',\n  'first_name': 'Willy',\n  'last_name': 'Hernangomez',\n  'is_active': True},\n {'id': 1629639,\n  'full_name': 'Tyler Herro',\n  'first_name': 'Tyler',\n  'last_name': 'Herro',\n  'is_active': True},\n {'id': 1628987,\n  'full_name': 'Kevin Hervey',\n  'first_name': 'Kevin',\n  'last_name': 'Hervey',\n  'is_active': True},\n {'id': 1626209,\n  'full_name': 'Mario Hezonja',\n  'first_name': 'Mario',\n  'last_name': 'Hezonja',\n  'is_active': True},\n {'id': 1627741,\n  'full_name': 'Buddy Hield',\n  'first_name': 'Buddy',\n  'last_name': 'Hield',\n  'is_active': True},\n {'id': 201588,\n  'full_name': 'George Hill',\n  'first_name': 'George',\n  'last_name': 'Hill',\n  'is_active': True},\n {'id': 203524,\n  'full_name': 'Solomon Hill',\n  'first_name': 'Solomon',\n  'last_name': 'Hill',\n  'is_active': True},\n {'id': 1629658,\n  'full_name': 'Jaylen Hoard',\n  'first_name': 'Jaylen',\n  'last_name': 'Hoard',\n  'is_active': True},\n {'id': 1628988,\n  'full_name': 'Aaron Holiday',\n  'first_name': 'Aaron',\n  'last_name': 'Holiday',\n  'is_active': True},\n {'id': 201950,\n  'full_name': 'Jrue Holiday',\n  'first_name': 'Jrue',\n  'last_name': 'Holiday',\n  'is_active': True},\n {'id': 203200,\n  'full_name': 'Justin Holiday',\n  'first_name': 'Justin',\n  'last_name': 'Holiday',\n  'is_active': True},\n {'id': 1626178,\n  'full_name': 'Rondae Hollis-Jefferson',\n  'first_name': 'Rondae',\n  'last_name': 'Hollis-Jefferson',\n  'is_active': True},\n {'id': 1626158,\n  'full_name': 'Richaun Holmes',\n  'first_name': 'Richaun',\n  'last_name': 'Holmes',\n  'is_active': True},\n {'id': 203918,\n  'full_name': 'Rodney Hood',\n  'first_name': 'Rodney',\n  'last_name': 'Hood',\n  'is_active': True},\n {'id': 201143,\n  'full_name': 'Al Horford',\n  'first_name': 'Al',\n  'last_name': 'Horford',\n  'is_active': True},\n {'id': 1629659,\n  'full_name': 'Talen Horton-Tucker',\n  'first_name': 'Talen',\n  'last_name': 'Horton-Tucker',\n  'is_active': True},\n {'id': 1627863,\n  'full_name': 'Danuel House Jr.',\n  'first_name': 'Danuel',\n  'last_name': 'House Jr.',\n  'is_active': True},\n {'id': 2730,\n  'full_name': 'Dwight Howard',\n  'first_name': 'Dwight',\n  'last_name': 'Howard',\n  'is_active': True},\n {'id': 1629739,\n  'full_name': 'William Howard',\n  'first_name': 'William',\n  'last_name': 'Howard',\n  'is_active': True},\n {'id': 1628989,\n  'full_name': 'Kevin Huerter',\n  'first_name': 'Kevin',\n  'last_name': 'Huerter',\n  'is_active': True},\n {'id': 1629631,\n  'full_name': \"De'Andre Hunter\",\n  'first_name': \"De'Andre\",\n  'last_name': 'Hunter',\n  'is_active': True},\n {'id': 1628990,\n  'full_name': 'Chandler Hutchison',\n  'first_name': 'Chandler',\n  'last_name': 'Hutchison',\n  'is_active': True},\n {'id': 201586,\n  'full_name': 'Serge Ibaka',\n  'first_name': 'Serge',\n  'last_name': 'Ibaka',\n  'is_active': True},\n {'id': 2738,\n  'full_name': 'Andre Iguodala',\n  'first_name': 'Andre',\n  'last_name': 'Iguodala',\n  'is_active': True},\n {'id': 101141,\n  'full_name': 'Ersan Ilyasova',\n  'first_name': 'Ersan',\n  'last_name': 'Ilyasova',\n  'is_active': True},\n {'id': 204060,\n  'full_name': 'Joe Ingles',\n  'first_name': 'Joe',\n  'last_name': 'Ingles',\n  'is_active': True},\n {'id': 1627742,\n  'full_name': 'Brandon Ingram',\n  'first_name': 'Brandon',\n  'last_name': 'Ingram',\n  'is_active': True},\n {'id': 202681,\n  'full_name': 'Kyrie Irving',\n  'first_name': 'Kyrie',\n  'last_name': 'Irving',\n  'is_active': True},\n {'id': 1628371,\n  'full_name': 'Jonathan Isaac',\n  'first_name': 'Jonathan',\n  'last_name': 'Isaac',\n  'is_active': True},\n {'id': 1628411,\n  'full_name': 'Wes Iwundu',\n  'first_name': 'Wes',\n  'last_name': 'Iwundu',\n  'is_active': True},\n {'id': 1628402,\n  'full_name': 'Frank Jackson',\n  'first_name': 'Frank',\n  'last_name': 'Jackson',\n  'is_active': True},\n {'id': 1628367,\n  'full_name': 'Josh Jackson',\n  'first_name': 'Josh',\n  'last_name': 'Jackson',\n  'is_active': True},\n {'id': 1628382,\n  'full_name': 'Justin Jackson',\n  'first_name': 'Justin',\n  'last_name': 'Jackson',\n  'is_active': True},\n {'id': 202704,\n  'full_name': 'Reggie Jackson',\n  'first_name': 'Reggie',\n  'last_name': 'Jackson',\n  'is_active': True},\n {'id': 1628991,\n  'full_name': 'Jaren Jackson Jr.',\n  'first_name': 'Jaren',\n  'last_name': 'Jackson Jr.',\n  'is_active': True},\n {'id': 1629713,\n  'full_name': 'Justin James',\n  'first_name': 'Justin',\n  'last_name': 'James',\n  'is_active': True},\n {'id': 2544,\n  'full_name': 'LeBron James',\n  'first_name': 'LeBron',\n  'last_name': 'James',\n  'is_active': True},\n {'id': 1628518,\n  'full_name': 'Amile Jefferson',\n  'first_name': 'Amile',\n  'last_name': 'Jefferson',\n  'is_active': True},\n {'id': 1629610,\n  'full_name': 'DaQuan Jeffries',\n  'first_name': 'DaQuan',\n  'last_name': 'Jeffries',\n  'is_active': True},\n {'id': 1629660,\n  'full_name': 'Ty Jerome',\n  'first_name': 'Ty',\n  'last_name': 'Jerome',\n  'is_active': True},\n {'id': 1628993,\n  'full_name': 'Alize Johnson',\n  'first_name': 'Alize',\n  'last_name': 'Johnson',\n  'is_active': True},\n {'id': 1629168,\n  'full_name': 'BJ Johnson',\n  'first_name': 'BJ',\n  'last_name': 'Johnson',\n  'is_active': True},\n {'id': 1629661,\n  'full_name': 'Cameron Johnson',\n  'first_name': 'Cameron',\n  'last_name': 'Johnson',\n  'is_active': True},\n {'id': 201949,\n  'full_name': 'James Johnson',\n  'first_name': 'James',\n  'last_name': 'Johnson',\n  'is_active': True},\n {'id': 1629640,\n  'full_name': 'Keldon Johnson',\n  'first_name': 'Keldon',\n  'last_name': 'Johnson',\n  'is_active': True},\n {'id': 1626169,\n  'full_name': 'Stanley Johnson',\n  'first_name': 'Stanley',\n  'last_name': 'Johnson',\n  'is_active': True},\n {'id': 204020,\n  'full_name': 'Tyler Johnson',\n  'first_name': 'Tyler',\n  'last_name': 'Johnson',\n  'is_active': True},\n {'id': 203999,\n  'full_name': 'Nikola Jokic',\n  'first_name': 'Nikola',\n  'last_name': 'Jokic',\n  'is_active': True},\n {'id': 1627745,\n  'full_name': 'Damian Jones',\n  'first_name': 'Damian',\n  'last_name': 'Jones',\n  'is_active': True},\n {'id': 1626145,\n  'full_name': 'Tyus Jones',\n  'first_name': 'Tyus',\n  'last_name': 'Jones',\n  'is_active': True},\n {'id': 1627884,\n  'full_name': 'Derrick Jones Jr.',\n  'first_name': 'Derrick',\n  'last_name': 'Jones Jr.',\n  'is_active': True},\n {'id': 201599,\n  'full_name': 'DeAndre Jordan',\n  'first_name': 'DeAndre',\n  'last_name': 'Jordan',\n  'is_active': True},\n {'id': 202709,\n  'full_name': 'Cory Joseph',\n  'first_name': 'Cory',\n  'last_name': 'Joseph',\n  'is_active': True},\n {'id': 1629662,\n  'full_name': 'Mfiondu Kabengele',\n  'first_name': 'Mfiondu',\n  'last_name': 'Kabengele',\n  'is_active': True},\n {'id': 1626163,\n  'full_name': 'Frank Kaminsky',\n  'first_name': 'Frank',\n  'last_name': 'Kaminsky',\n  'is_active': True},\n {'id': 202683,\n  'full_name': 'Enes Kanter',\n  'first_name': 'Enes',\n  'last_name': 'Kanter',\n  'is_active': True},\n {'id': 1628379,\n  'full_name': 'Luke Kennard',\n  'first_name': 'Luke',\n  'last_name': 'Kennard',\n  'is_active': True},\n {'id': 1629742,\n  'full_name': 'Stanton Kidd',\n  'first_name': 'Stanton',\n  'last_name': 'Kidd',\n  'is_active': True},\n {'id': 203077,\n  'full_name': 'Michael Kidd-Gilchrist',\n  'first_name': 'Michael',\n  'last_name': 'Kidd-Gilchrist',\n  'is_active': True},\n {'id': 1629663,\n  'full_name': 'Louis King',\n  'first_name': 'Louis',\n  'last_name': 'King',\n  'is_active': True},\n {'id': 1628467,\n  'full_name': 'Maxi Kleber',\n  'first_name': 'Maxi',\n  'last_name': 'Kleber',\n  'is_active': True},\n {'id': 202688,\n  'full_name': 'Brandon Knight',\n  'first_name': 'Brandon',\n  'last_name': 'Knight',\n  'is_active': True},\n {'id': 1628995,\n  'full_name': 'Kevin Knox II',\n  'first_name': 'Kevin',\n  'last_name': 'Knox II',\n  'is_active': True},\n {'id': 1629723,\n  'full_name': 'John Konchar',\n  'first_name': 'John',\n  'last_name': 'Konchar',\n  'is_active': True},\n {'id': 1627788,\n  'full_name': 'Furkan Korkmaz',\n  'first_name': 'Furkan',\n  'last_name': 'Korkmaz',\n  'is_active': True},\n {'id': 1628436,\n  'full_name': 'Luke Kornet',\n  'first_name': 'Luke',\n  'last_name': 'Kornet',\n  'is_active': True},\n {'id': 2594,\n  'full_name': 'Kyle Korver',\n  'first_name': 'Kyle',\n  'last_name': 'Korver',\n  'is_active': True},\n {'id': 1629066,\n  'full_name': 'Rodions Kurucs',\n  'first_name': 'Rodions',\n  'last_name': 'Kurucs',\n  'is_active': True},\n {'id': 1628398,\n  'full_name': 'Kyle Kuzma',\n  'first_name': 'Kyle',\n  'last_name': 'Kuzma',\n  'is_active': True},\n {'id': 203897,\n  'full_name': 'Zach LaVine',\n  'first_name': 'Zach',\n  'last_name': 'LaVine',\n  'is_active': True},\n {'id': 1627746,\n  'full_name': 'Skal Labissiere',\n  'first_name': 'Skal',\n  'last_name': 'Labissiere',\n  'is_active': True},\n {'id': 203087,\n  'full_name': 'Jeremy Lamb',\n  'first_name': 'Jeremy',\n  'last_name': 'Lamb',\n  'is_active': True},\n {'id': 1629641,\n  'full_name': 'Romeo Langford',\n  'first_name': 'Romeo',\n  'last_name': 'Langford',\n  'is_active': True},\n {'id': 1629724,\n  'full_name': 'Vic Law',\n  'first_name': 'Vic',\n  'last_name': 'Law',\n  'is_active': True},\n {'id': 1627774,\n  'full_name': 'Jake Layman',\n  'first_name': 'Jake',\n  'last_name': 'Layman',\n  'is_active': True},\n {'id': 1627747,\n  'full_name': 'Caris LeVert',\n  'first_name': 'Caris',\n  'last_name': 'LeVert',\n  'is_active': True},\n {'id': 1628388,\n  'full_name': 'TJ Leaf',\n  'first_name': 'TJ',\n  'last_name': 'Leaf',\n  'is_active': True},\n {'id': 1629665,\n  'full_name': 'Jalen Lecque',\n  'first_name': 'Jalen',\n  'last_name': 'Lecque',\n  'is_active': True},\n {'id': 201584,\n  'full_name': 'Courtney Lee',\n  'first_name': 'Courtney',\n  'last_name': 'Lee',\n  'is_active': True},\n {'id': 1627814,\n  'full_name': 'Damion Lee',\n  'first_name': 'Damion',\n  'last_name': 'Lee',\n  'is_active': True},\n {'id': 203458,\n  'full_name': 'Alex Len',\n  'first_name': 'Alex',\n  'last_name': 'Len',\n  'is_active': True},\n {'id': 202695,\n  'full_name': 'Kawhi Leonard',\n  'first_name': 'Kawhi',\n  'last_name': 'Leonard',\n  'is_active': True},\n {'id': 203086,\n  'full_name': 'Meyers Leonard',\n  'first_name': 'Meyers',\n  'last_name': 'Leonard',\n  'is_active': True},\n {'id': 203081,\n  'full_name': 'Damian Lillard',\n  'first_name': 'Damian',\n  'last_name': 'Lillard',\n  'is_active': True},\n {'id': 1629642,\n  'full_name': 'Nassir Little',\n  'first_name': 'Nassir',\n  'last_name': 'Little',\n  'is_active': True},\n {'id': 1626172,\n  'full_name': 'Kevon Looney',\n  'first_name': 'Kevon',\n  'last_name': 'Looney',\n  'is_active': True},\n {'id': 201572,\n  'full_name': 'Brook Lopez',\n  'first_name': 'Brook',\n  'last_name': 'Lopez',\n  'is_active': True},\n {'id': 201577,\n  'full_name': 'Robin Lopez',\n  'first_name': 'Robin',\n  'last_name': 'Lopez',\n  'is_active': True},\n {'id': 201567,\n  'full_name': 'Kevin Love',\n  'first_name': 'Kevin',\n  'last_name': 'Love',\n  'is_active': True},\n {'id': 200768,\n  'full_name': 'Kyle Lowry',\n  'first_name': 'Kyle',\n  'last_name': 'Lowry',\n  'is_active': True},\n {'id': 1627789,\n  'full_name': 'Timothe Luwawu-Cabarrot',\n  'first_name': 'Timothe',\n  'last_name': 'Luwawu-Cabarrot',\n  'is_active': True},\n {'id': 1626168,\n  'full_name': 'Trey Lyles',\n  'first_name': 'Trey',\n  'last_name': 'Lyles',\n  'is_active': True},\n {'id': 1629133,\n  'full_name': 'Daryl Macon',\n  'first_name': 'Daryl',\n  'last_name': 'Macon',\n  'is_active': True},\n {'id': 203705,\n  'full_name': 'Josh Magette',\n  'first_name': 'Josh',\n  'last_name': 'Magette',\n  'is_active': True},\n {'id': 101133,\n  'full_name': 'Ian Mahinmi',\n  'first_name': 'Ian',\n  'last_name': 'Mahinmi',\n  'is_active': True},\n {'id': 1627748,\n  'full_name': 'Thon Maker',\n  'first_name': 'Thon',\n  'last_name': 'Maker',\n  'is_active': True},\n {'id': 1629611,\n  'full_name': 'Terance Mann',\n  'first_name': 'Terance',\n  'last_name': 'Mann',\n  'is_active': True},\n {'id': 1626246,\n  'full_name': 'Boban Marjanovic',\n  'first_name': 'Boban',\n  'last_name': 'Marjanovic',\n  'is_active': True},\n {'id': 1628374,\n  'full_name': 'Lauri Markkanen',\n  'first_name': 'Lauri',\n  'last_name': 'Markkanen',\n  'is_active': True},\n {'id': 1628997,\n  'full_name': 'Caleb Martin',\n  'first_name': 'Caleb',\n  'last_name': 'Martin',\n  'is_active': True},\n {'id': 1628998,\n  'full_name': 'Cody Martin',\n  'first_name': 'Cody',\n  'last_name': 'Martin',\n  'is_active': True},\n {'id': 1629725,\n  'full_name': 'Jeremiah Martin',\n  'first_name': 'Jeremiah',\n  'last_name': 'Martin',\n  'is_active': True},\n {'id': 1629103,\n  'full_name': 'Kelan Martin',\n  'first_name': 'Kelan',\n  'last_name': 'Martin',\n  'is_active': True},\n {'id': 1628412,\n  'full_name': 'Frank Mason',\n  'first_name': 'Frank',\n  'last_name': 'Mason',\n  'is_active': True},\n {'id': 1629726,\n  'full_name': 'Garrison Mathews',\n  'first_name': 'Garrison',\n  'last_name': 'Mathews',\n  'is_active': True},\n {'id': 202083,\n  'full_name': 'Wesley Matthews',\n  'first_name': 'Wesley',\n  'last_name': 'Matthews',\n  'is_active': True},\n {'id': 1627775,\n  'full_name': 'Patrick McCaw',\n  'first_name': 'Patrick',\n  'last_name': 'McCaw',\n  'is_active': True},\n {'id': 203468,\n  'full_name': 'CJ McCollum',\n  'first_name': 'CJ',\n  'last_name': 'McCollum',\n  'is_active': True},\n {'id': 204456,\n  'full_name': 'T.J. McConnell',\n  'first_name': 'T.J.',\n  'last_name': 'McConnell',\n  'is_active': True},\n {'id': 1629667,\n  'full_name': 'Jalen McDaniels',\n  'first_name': 'Jalen',\n  'last_name': 'McDaniels',\n  'is_active': True},\n {'id': 203926,\n  'full_name': 'Doug McDermott',\n  'first_name': 'Doug',\n  'last_name': 'McDermott',\n  'is_active': True},\n {'id': 201580,\n  'full_name': 'JaVale McGee',\n  'first_name': 'JaVale',\n  'last_name': 'McGee',\n  'is_active': True},\n {'id': 203585,\n  'full_name': 'Rodney McGruder',\n  'first_name': 'Rodney',\n  'last_name': 'McGruder',\n  'is_active': True},\n {'id': 1628035,\n  'full_name': 'Alfonzo McKinnie',\n  'first_name': 'Alfonzo',\n  'last_name': 'McKinnie',\n  'is_active': True},\n {'id': 1629162,\n  'full_name': 'Jordan McLaughlin',\n  'first_name': 'Jordan',\n  'last_name': 'McLaughlin',\n  'is_active': True},\n {'id': 203463,\n  'full_name': 'Ben McLemore',\n  'first_name': 'Ben',\n  'last_name': 'McLemore',\n  'is_active': True},\n {'id': 203895,\n  'full_name': 'Jordan McRae',\n  'first_name': 'Jordan',\n  'last_name': 'McRae',\n  'is_active': True},\n {'id': 1629740,\n  'full_name': 'Nicolo Melli',\n  'first_name': 'Nicolo',\n  'last_name': 'Melli',\n  'is_active': True},\n {'id': 1629001,\n  'full_name': \"De'Anthony Melton\",\n  'first_name': \"De'Anthony\",\n  'last_name': 'Melton',\n  'is_active': True},\n {'id': 1629002,\n  'full_name': 'Chimezie Metu',\n  'first_name': 'Chimezie',\n  'last_name': 'Metu',\n  'is_active': True},\n {'id': 203114,\n  'full_name': 'Khris Middleton',\n  'first_name': 'Khris',\n  'last_name': 'Middleton',\n  'is_active': True},\n {'id': 101139,\n  'full_name': 'CJ Miles',\n  'first_name': 'CJ',\n  'last_name': 'Miles',\n  'is_active': True},\n {'id': 203121,\n  'full_name': 'Darius Miller',\n  'first_name': 'Darius',\n  'last_name': 'Miller',\n  'is_active': True},\n {'id': 1626259,\n  'full_name': 'Malcolm Miller',\n  'first_name': 'Malcolm',\n  'last_name': 'Miller',\n  'is_active': True},\n {'id': 201988,\n  'full_name': 'Patty Mills',\n  'first_name': 'Patty',\n  'last_name': 'Mills',\n  'is_active': True},\n {'id': 200794,\n  'full_name': 'Paul Millsap',\n  'first_name': 'Paul',\n  'last_name': 'Millsap',\n  'is_active': True},\n {'id': 1629003,\n  'full_name': 'Shake Milton',\n  'first_name': 'Shake',\n  'last_name': 'Milton',\n  'is_active': True},\n {'id': 1628378,\n  'full_name': 'Donovan Mitchell',\n  'first_name': 'Donovan',\n  'last_name': 'Mitchell',\n  'is_active': True},\n {'id': 1628513,\n  'full_name': 'Naz Mitrou-Long',\n  'first_name': 'Naz',\n  'last_name': 'Mitrou-Long',\n  'is_active': True},\n {'id': 1629690,\n  'full_name': 'Adam Mokoka',\n  'first_name': 'Adam',\n  'last_name': 'Mokoka',\n  'is_active': True},\n {'id': 1628370,\n  'full_name': 'Malik Monk',\n  'first_name': 'Malik',\n  'last_name': 'Monk',\n  'is_active': True},\n {'id': 1629760,\n  'full_name': 'Matt Mooney',\n  'first_name': 'Matt',\n  'last_name': 'Mooney',\n  'is_active': True},\n {'id': 202734,\n  'full_name': \"E'Twaun Moore\",\n  'first_name': \"E'Twaun\",\n  'last_name': 'Moore',\n  'is_active': True},\n {'id': 1629630,\n  'full_name': 'Ja Morant',\n  'first_name': 'Ja',\n  'last_name': 'Morant',\n  'is_active': True},\n {'id': 1629752,\n  'full_name': 'Juwan Morgan',\n  'first_name': 'Juwan',\n  'last_name': 'Morgan',\n  'is_active': True},\n {'id': 202693,\n  'full_name': 'Markieff Morris',\n  'first_name': 'Markieff',\n  'last_name': 'Morris',\n  'is_active': True},\n {'id': 1628420,\n  'full_name': 'Monte Morris',\n  'first_name': 'Monte',\n  'last_name': 'Morris',\n  'is_active': True},\n {'id': 202694,\n  'full_name': 'Marcus Morris Sr.',\n  'first_name': 'Marcus',\n  'last_name': 'Morris Sr.',\n  'is_active': True},\n {'id': 1628405,\n  'full_name': 'Johnathan Motley',\n  'first_name': 'Johnathan',\n  'last_name': 'Motley',\n  'is_active': True},\n {'id': 1626144,\n  'full_name': 'Emmanuel Mudiay',\n  'first_name': 'Emmanuel',\n  'last_name': 'Mudiay',\n  'is_active': True},\n {'id': 1627749,\n  'full_name': 'Dejounte Murray',\n  'first_name': 'Dejounte',\n  'last_name': 'Murray',\n  'is_active': True},\n {'id': 1627750,\n  'full_name': 'Jamal Murray',\n  'first_name': 'Jamal',\n  'last_name': 'Murray',\n  'is_active': True},\n {'id': 1629058,\n  'full_name': 'Dzanan Musa',\n  'first_name': 'Dzanan',\n  'last_name': 'Musa',\n  'is_active': True},\n {'id': 203488,\n  'full_name': 'Mike Muscala',\n  'first_name': 'Mike',\n  'last_name': 'Muscala',\n  'is_active': True},\n {'id': 1629004,\n  'full_name': 'Svi Mykhailiuk',\n  'first_name': 'Svi',\n  'last_name': 'Mykhailiuk',\n  'is_active': True},\n {'id': 1627846,\n  'full_name': 'Abdel Nader',\n  'first_name': 'Abdel',\n  'last_name': 'Nader',\n  'is_active': True},\n {'id': 1626204,\n  'full_name': 'Larry Nance Jr.',\n  'first_name': 'Larry',\n  'last_name': 'Nance Jr.',\n  'is_active': True},\n {'id': 203894,\n  'full_name': 'Shabazz Napier',\n  'first_name': 'Shabazz',\n  'last_name': 'Napier',\n  'is_active': True},\n {'id': 2403,\n  'full_name': 'Nene',\n  'first_name': '',\n  'last_name': 'Nene',\n  'is_active': True},\n {'id': 203526,\n  'full_name': 'Raul Neto',\n  'first_name': 'Raul',\n  'last_name': 'Neto',\n  'is_active': True},\n {'id': 1627777,\n  'full_name': 'Georges Niang',\n  'first_name': 'Georges',\n  'last_name': 'Niang',\n  'is_active': True},\n {'id': 203457,\n  'full_name': 'Nerlens Noel',\n  'first_name': 'Nerlens',\n  'last_name': 'Noel',\n  'is_active': True},\n {'id': 1629668,\n  'full_name': 'Zach Norvell Jr.',\n  'first_name': 'Zach',\n  'last_name': 'Norvell Jr.',\n  'is_active': True},\n {'id': 1629669,\n  'full_name': 'Jaylen Nowell',\n  'first_name': 'Jaylen',\n  'last_name': 'Nowell',\n  'is_active': True},\n {'id': 1628373,\n  'full_name': 'Frank Ntilikina',\n  'first_name': 'Frank',\n  'last_name': 'Ntilikina',\n  'is_active': True},\n {'id': 1629134,\n  'full_name': 'Kendrick Nunn',\n  'first_name': 'Kendrick',\n  'last_name': 'Nunn',\n  'is_active': True},\n {'id': 203994,\n  'full_name': 'Jusuf Nurkic',\n  'first_name': 'Jusuf',\n  'last_name': 'Nurkic',\n  'is_active': True},\n {'id': 1628021,\n  'full_name': 'David Nwaba',\n  'first_name': 'David',\n  'last_name': 'Nwaba',\n  'is_active': True},\n {'id': 1626220,\n  'full_name': \"Royce O'Neale\",\n  'first_name': 'Royce',\n  'last_name': \"O'Neale\",\n  'is_active': True},\n {'id': 203124,\n  'full_name': \"Kyle O'Quinn\",\n  'first_name': 'Kyle',\n  'last_name': \"O'Quinn\",\n  'is_active': True},\n {'id': 1628400,\n  'full_name': 'Semi Ojeleye',\n  'first_name': 'Semi',\n  'last_name': 'Ojeleye',\n  'is_active': True},\n {'id': 1626143,\n  'full_name': 'Jahlil Okafor',\n  'first_name': 'Jahlil',\n  'last_name': 'Okafor',\n  'is_active': True},\n {'id': 1629059,\n  'full_name': 'Elie Okobo',\n  'first_name': 'Elie',\n  'last_name': 'Okobo',\n  'is_active': True},\n {'id': 1629006,\n  'full_name': 'Josh Okogie',\n  'first_name': 'Josh',\n  'last_name': 'Okogie',\n  'is_active': True},\n {'id': 1629644,\n  'full_name': 'KZ Okpala',\n  'first_name': 'KZ',\n  'last_name': 'Okpala',\n  'is_active': True},\n {'id': 203506,\n  'full_name': 'Victor Oladipo',\n  'first_name': 'Victor',\n  'last_name': 'Oladipo',\n  'is_active': True},\n {'id': 203482,\n  'full_name': 'Kelly Olynyk',\n  'first_name': 'Kelly',\n  'last_name': 'Olynyk',\n  'is_active': True},\n {'id': 1629671,\n  'full_name': 'Miye Oni',\n  'first_name': 'Miye',\n  'last_name': 'Oni',\n  'is_active': True},\n {'id': 1626224,\n  'full_name': 'Cedi Osman',\n  'first_name': 'Cedi',\n  'last_name': 'Osman',\n  'is_active': True},\n {'id': 1626162,\n  'full_name': 'Kelly Oubre Jr.',\n  'first_name': 'Kelly',\n  'last_name': 'Oubre Jr.',\n  'is_active': True},\n {'id': 1629745,\n  'full_name': 'Tariq Owens',\n  'first_name': 'Tariq',\n  'last_name': 'Owens',\n  'is_active': True},\n {'id': 203953,\n  'full_name': 'Jabari Parker',\n  'first_name': 'Jabari',\n  'last_name': 'Parker',\n  'is_active': True},\n {'id': 202718,\n  'full_name': 'Chandler Parsons',\n  'first_name': 'Chandler',\n  'last_name': 'Parsons',\n  'is_active': True},\n {'id': 1629672,\n  'full_name': 'Eric Paschall',\n  'first_name': 'Eric',\n  'last_name': 'Paschall',\n  'is_active': True},\n {'id': 1628394,\n  'full_name': 'Anzejs Pasecniks',\n  'first_name': 'Anzejs',\n  'last_name': 'Pasecniks',\n  'is_active': True},\n {'id': 202335,\n  'full_name': 'Patrick Patterson',\n  'first_name': 'Patrick',\n  'last_name': 'Patterson',\n  'is_active': True},\n {'id': 1628383,\n  'full_name': 'Justin Patton',\n  'first_name': 'Justin',\n  'last_name': 'Patton',\n  'is_active': True},\n {'id': 101108,\n  'full_name': 'Chris Paul',\n  'first_name': 'Chris',\n  'last_name': 'Paul',\n  'is_active': True},\n {'id': 203901,\n  'full_name': 'Elfrid Payton',\n  'first_name': 'Elfrid',\n  'last_name': 'Payton',\n  'is_active': True},\n {'id': 1627780,\n  'full_name': 'Gary Payton II',\n  'first_name': 'Gary',\n  'last_name': 'Payton II',\n  'is_active': True},\n {'id': 203658,\n  'full_name': 'Norvel Pelle',\n  'first_name': 'Norvel',\n  'last_name': 'Pelle',\n  'is_active': True},\n {'id': 1629033,\n  'full_name': 'Theo Pinson',\n  'first_name': 'Theo',\n  'last_name': 'Pinson',\n  'is_active': True},\n {'id': 203486,\n  'full_name': 'Mason Plumlee',\n  'first_name': 'Mason',\n  'last_name': 'Plumlee',\n  'is_active': True},\n {'id': 1627751,\n  'full_name': 'Jakob Poeltl',\n  'first_name': 'Jakob',\n  'last_name': 'Poeltl',\n  'is_active': True},\n {'id': 1629738,\n  'full_name': 'Vincent Poirier',\n  'first_name': 'Vincent',\n  'last_name': 'Poirier',\n  'is_active': True},\n {'id': 1629044,\n  'full_name': 'Shamorie Ponds',\n  'first_name': 'Shamorie',\n  'last_name': 'Ponds',\n  'is_active': True},\n {'id': 1629673,\n  'full_name': 'Jordan Poole',\n  'first_name': 'Jordan',\n  'last_name': 'Poole',\n  'is_active': True},\n {'id': 1629645,\n  'full_name': 'Kevin Porter Jr.',\n  'first_name': 'Kevin',\n  'last_name': 'Porter Jr.',\n  'is_active': True},\n {'id': 1629008,\n  'full_name': 'Michael Porter Jr.',\n  'first_name': 'Michael',\n  'last_name': 'Porter Jr.',\n  'is_active': True},\n {'id': 203490,\n  'full_name': 'Otto Porter Jr.',\n  'first_name': 'Otto',\n  'last_name': 'Porter Jr.',\n  'is_active': True},\n {'id': 1626171,\n  'full_name': 'Bobby Portis',\n  'first_name': 'Bobby',\n  'last_name': 'Portis',\n  'is_active': True},\n {'id': 204001,\n  'full_name': 'Kristaps Porzingis',\n  'first_name': 'Kristaps',\n  'last_name': 'Porzingis',\n  'is_active': True},\n {'id': 203939,\n  'full_name': 'Dwight Powell',\n  'first_name': 'Dwight',\n  'last_name': 'Powell',\n  'is_active': True},\n {'id': 1626181,\n  'full_name': 'Norman Powell',\n  'first_name': 'Norman',\n  'last_name': 'Powell',\n  'is_active': True},\n {'id': 1627752,\n  'full_name': 'Taurean Prince',\n  'first_name': 'Taurean',\n  'last_name': 'Prince',\n  'is_active': True},\n {'id': 203944,\n  'full_name': 'Julius Randle',\n  'first_name': 'Julius',\n  'last_name': 'Randle',\n  'is_active': True},\n {'id': 1629729,\n  'full_name': 'Josh Reaves',\n  'first_name': 'Josh',\n  'last_name': 'Reaves',\n  'is_active': True},\n {'id': 1629629,\n  'full_name': 'Cam Reddish',\n  'first_name': 'Cam',\n  'last_name': 'Reddish',\n  'is_active': True},\n {'id': 200755,\n  'full_name': 'JJ Redick',\n  'first_name': 'JJ',\n  'last_name': 'Redick',\n  'is_active': True},\n {'id': 1629675,\n  'full_name': 'Naz Reid',\n  'first_name': 'Naz',\n  'last_name': 'Reid',\n  'is_active': True},\n {'id': 1629244,\n  'full_name': 'Cameron Reynolds',\n  'first_name': 'Cameron',\n  'last_name': 'Reynolds',\n  'is_active': True},\n {'id': 1626196,\n  'full_name': 'Josh Richardson',\n  'first_name': 'Josh',\n  'last_name': 'Richardson',\n  'is_active': True},\n {'id': 203085,\n  'full_name': 'Austin Rivers',\n  'first_name': 'Austin',\n  'last_name': 'Rivers',\n  'is_active': True},\n {'id': 203460,\n  'full_name': 'Andre Roberson',\n  'first_name': 'Andre',\n  'last_name': 'Roberson',\n  'is_active': True},\n {'id': 1629130,\n  'full_name': 'Duncan Robinson',\n  'first_name': 'Duncan',\n  'last_name': 'Robinson',\n  'is_active': True},\n {'id': 1629010,\n  'full_name': 'Jerome Robinson',\n  'first_name': 'Jerome',\n  'last_name': 'Robinson',\n  'is_active': True},\n {'id': 1629620,\n  'full_name': 'Justin Robinson',\n  'first_name': 'Justin',\n  'last_name': 'Robinson',\n  'is_active': True},\n {'id': 1629011,\n  'full_name': 'Mitchell Robinson',\n  'first_name': 'Mitchell',\n  'last_name': 'Robinson',\n  'is_active': True},\n {'id': 203922,\n  'full_name': 'Glenn Robinson III',\n  'first_name': 'Glenn',\n  'last_name': 'Robinson III',\n  'is_active': True},\n {'id': 1629676,\n  'full_name': 'Isaiah Roby',\n  'first_name': 'Isaiah',\n  'last_name': 'Roby',\n  'is_active': True},\n {'id': 200765,\n  'full_name': 'Rajon Rondo',\n  'first_name': 'Rajon',\n  'last_name': 'Rondo',\n  'is_active': True},\n {'id': 201565,\n  'full_name': 'Derrick Rose',\n  'first_name': 'Derrick',\n  'last_name': 'Rose',\n  'is_active': True},\n {'id': 203082,\n  'full_name': 'Terrence Ross',\n  'first_name': 'Terrence',\n  'last_name': 'Ross',\n  'is_active': True},\n {'id': 1626179,\n  'full_name': 'Terry Rozier',\n  'first_name': 'Terry',\n  'last_name': 'Rozier',\n  'is_active': True},\n {'id': 201937,\n  'full_name': 'Ricky Rubio',\n  'first_name': 'Ricky',\n  'last_name': 'Rubio',\n  'is_active': True},\n {'id': 1626156,\n  'full_name': \"D'Angelo Russell\",\n  'first_name': \"D'Angelo\",\n  'last_name': 'Russell',\n  'is_active': True},\n {'id': 1627734,\n  'full_name': 'Domantas Sabonis',\n  'first_name': 'Domantas',\n  'last_name': 'Sabonis',\n  'is_active': True},\n {'id': 1629677,\n  'full_name': 'Luka Samanic',\n  'first_name': 'Luka',\n  'last_name': 'Samanic',\n  'is_active': True},\n {'id': 203960,\n  'full_name': 'JaKarr Sampson',\n  'first_name': 'JaKarr',\n  'last_name': 'Sampson',\n  'is_active': True},\n {'id': 203967,\n  'full_name': 'Dario Saric',\n  'first_name': 'Dario',\n  'last_name': 'Saric',\n  'is_active': True},\n {'id': 203107,\n  'full_name': 'Tomas Satoransky',\n  'first_name': 'Tomas',\n  'last_name': 'Satoransky',\n  'is_active': True},\n {'id': 1629678,\n  'full_name': 'Admiral Schofield',\n  'first_name': 'Admiral',\n  'last_name': 'Schofield',\n  'is_active': True},\n {'id': 203471,\n  'full_name': 'Dennis Schroder',\n  'first_name': 'Dennis',\n  'last_name': 'Schroder',\n  'is_active': True},\n {'id': 203118,\n  'full_name': 'Mike Scott',\n  'first_name': 'Mike',\n  'last_name': 'Scott',\n  'is_active': True},\n {'id': 200757,\n  'full_name': 'Thabo Sefolosha',\n  'first_name': 'Thabo',\n  'last_name': 'Sefolosha',\n  'is_active': True},\n {'id': 1629012,\n  'full_name': 'Collin Sexton',\n  'first_name': 'Collin',\n  'last_name': 'Sexton',\n  'is_active': True},\n {'id': 1629013,\n  'full_name': 'Landry Shamet',\n  'first_name': 'Landry',\n  'last_name': 'Shamet',\n  'is_active': True},\n {'id': 1629621,\n  'full_name': 'Marial Shayok',\n  'first_name': 'Marial',\n  'last_name': 'Shayok',\n  'is_active': True},\n {'id': 202697,\n  'full_name': 'Iman Shumpert',\n  'first_name': 'Iman',\n  'last_name': 'Shumpert',\n  'is_active': True},\n {'id': 1627783,\n  'full_name': 'Pascal Siakam',\n  'first_name': 'Pascal',\n  'last_name': 'Siakam',\n  'is_active': True},\n {'id': 1629735,\n  'full_name': 'Chris Silva',\n  'first_name': 'Chris',\n  'last_name': 'Silva',\n  'is_active': True},\n {'id': 1627732,\n  'full_name': 'Ben Simmons',\n  'first_name': 'Ben',\n  'last_name': 'Simmons',\n  'is_active': True},\n {'id': 1628424,\n  'full_name': 'Kobi Simmons',\n  'first_name': 'Kobi',\n  'last_name': 'Simmons',\n  'is_active': True},\n {'id': 1629014,\n  'full_name': 'Anfernee Simons',\n  'first_name': 'Anfernee',\n  'last_name': 'Simons',\n  'is_active': True},\n {'id': 1629346,\n  'full_name': 'Alen Smailagic',\n  'first_name': 'Alen',\n  'last_name': 'Smailagic',\n  'is_active': True},\n {'id': 203935,\n  'full_name': 'Marcus Smart',\n  'first_name': 'Marcus',\n  'last_name': 'Smart',\n  'is_active': True},\n {'id': 202397,\n  'full_name': 'Ish Smith',\n  'first_name': 'Ish',\n  'last_name': 'Smith',\n  'is_active': True},\n {'id': 1629015,\n  'full_name': 'Zhaire Smith',\n  'first_name': 'Zhaire',\n  'last_name': 'Smith',\n  'is_active': True},\n {'id': 1628372,\n  'full_name': 'Dennis Smith Jr.',\n  'first_name': 'Dennis',\n  'last_name': 'Smith Jr.',\n  'is_active': True},\n {'id': 203503,\n  'full_name': 'Tony Snell',\n  'first_name': 'Tony',\n  'last_name': 'Snell',\n  'is_active': True},\n {'id': 1629034,\n  'full_name': 'Ray Spalding',\n  'first_name': 'Ray',\n  'last_name': 'Spalding',\n  'is_active': True},\n {'id': 1629016,\n  'full_name': 'Omari Spellman',\n  'first_name': 'Omari',\n  'last_name': 'Spellman',\n  'is_active': True},\n {'id': 1629622,\n  'full_name': 'Max Strus',\n  'first_name': 'Max',\n  'last_name': 'Strus',\n  'is_active': True},\n {'id': 1628410,\n  'full_name': 'Edmond Sumner',\n  'first_name': 'Edmond',\n  'last_name': 'Sumner',\n  'is_active': True},\n {'id': 1628403,\n  'full_name': 'Caleb Swanigan',\n  'first_name': 'Caleb',\n  'last_name': 'Swanigan',\n  'is_active': True},\n {'id': 1628369,\n  'full_name': 'Jayson Tatum',\n  'first_name': 'Jayson',\n  'last_name': 'Tatum',\n  'is_active': True},\n {'id': 201952,\n  'full_name': 'Jeff Teague',\n  'first_name': 'Jeff',\n  'last_name': 'Teague',\n  'is_active': True},\n {'id': 202066,\n  'full_name': 'Garrett Temple',\n  'first_name': 'Garrett',\n  'last_name': 'Temple',\n  'is_active': True},\n {'id': 1628464,\n  'full_name': 'Daniel Theis',\n  'first_name': 'Daniel',\n  'last_name': 'Theis',\n  'is_active': True},\n {'id': 202738,\n  'full_name': 'Isaiah Thomas',\n  'first_name': 'Isaiah',\n  'last_name': 'Thomas',\n  'is_active': True},\n {'id': 1629017,\n  'full_name': 'Khyri Thomas',\n  'first_name': 'Khyri',\n  'last_name': 'Thomas',\n  'is_active': True},\n {'id': 1629744,\n  'full_name': 'Matt Thomas',\n  'first_name': 'Matt',\n  'last_name': 'Thomas',\n  'is_active': True},\n {'id': 202691,\n  'full_name': 'Klay Thompson',\n  'first_name': 'Klay',\n  'last_name': 'Thompson',\n  'is_active': True},\n {'id': 202684,\n  'full_name': 'Tristan Thompson',\n  'first_name': 'Tristan',\n  'last_name': 'Thompson',\n  'is_active': True},\n {'id': 1629680,\n  'full_name': 'Matisse Thybulle',\n  'first_name': 'Matisse',\n  'last_name': 'Thybulle',\n  'is_active': True},\n {'id': 201229,\n  'full_name': 'Anthony Tolliver',\n  'first_name': 'Anthony',\n  'last_name': 'Tolliver',\n  'is_active': True},\n {'id': 1626157,\n  'full_name': 'Karl-Anthony Towns',\n  'first_name': 'Karl-Anthony',\n  'last_name': 'Towns',\n  'is_active': True},\n {'id': 1629018,\n  'full_name': 'Gary Trent Jr.',\n  'first_name': 'Gary',\n  'last_name': 'Trent Jr.',\n  'is_active': True},\n {'id': 1629019,\n  'full_name': 'Allonzo Trier',\n  'first_name': 'Allonzo',\n  'last_name': 'Trier',\n  'is_active': True},\n {'id': 200782,\n  'full_name': 'P.J. Tucker',\n  'first_name': 'P.J.',\n  'last_name': 'Tucker',\n  'is_active': True},\n {'id': 1629730,\n  'full_name': 'Rayjon Tucker',\n  'first_name': 'Rayjon',\n  'last_name': 'Tucker',\n  'is_active': True},\n {'id': 202323,\n  'full_name': 'Evan Turner',\n  'first_name': 'Evan',\n  'last_name': 'Turner',\n  'is_active': True},\n {'id': 1626167,\n  'full_name': 'Myles Turner',\n  'first_name': 'Myles',\n  'last_name': 'Turner',\n  'is_active': True},\n {'id': 202685,\n  'full_name': 'Jonas Valanciunas',\n  'first_name': 'Jonas',\n  'last_name': 'Valanciunas',\n  'is_active': True},\n {'id': 1627756,\n  'full_name': 'Denzel Valentine',\n  'first_name': 'Denzel',\n  'last_name': 'Valentine',\n  'is_active': True},\n {'id': 1627832,\n  'full_name': 'Fred VanVleet',\n  'first_name': 'Fred',\n  'last_name': 'VanVleet',\n  'is_active': True},\n {'id': 1629020,\n  'full_name': 'Jarred Vanderbilt',\n  'first_name': 'Jarred',\n  'last_name': 'Vanderbilt',\n  'is_active': True},\n {'id': 1629216,\n  'full_name': 'Gabe Vincent',\n  'first_name': 'Gabe',\n  'last_name': 'Vincent',\n  'is_active': True},\n {'id': 203943,\n  'full_name': 'Noah Vonleh',\n  'first_name': 'Noah',\n  'last_name': 'Vonleh',\n  'is_active': True},\n {'id': 202696,\n  'full_name': 'Nikola Vucevic',\n  'first_name': 'Nikola',\n  'last_name': 'Vucevic',\n  'is_active': True},\n {'id': 1629731,\n  'full_name': 'Dean Wade',\n  'first_name': 'Dean',\n  'last_name': 'Wade',\n  'is_active': True},\n {'id': 1629021,\n  'full_name': 'Moritz Wagner',\n  'first_name': 'Moritz',\n  'last_name': 'Wagner',\n  'is_active': True},\n {'id': 203079,\n  'full_name': 'Dion Waiters',\n  'first_name': 'Dion',\n  'last_name': 'Waiters',\n  'is_active': True},\n {'id': 202689,\n  'full_name': 'Kemba Walker',\n  'first_name': 'Kemba',\n  'last_name': 'Walker',\n  'is_active': True},\n {'id': 1629022,\n  'full_name': 'Lonnie Walker IV',\n  'first_name': 'Lonnie',\n  'last_name': 'Walker IV',\n  'is_active': True},\n {'id': 202322,\n  'full_name': 'John Wall',\n  'first_name': 'John',\n  'last_name': 'Wall',\n  'is_active': True},\n {'id': 1627820,\n  'full_name': 'Tyrone Wallace',\n  'first_name': 'Tyrone',\n  'last_name': 'Wallace',\n  'is_active': True},\n {'id': 1628476,\n  'full_name': 'Derrick Walton Jr.',\n  'first_name': 'Derrick',\n  'last_name': 'Walton Jr.',\n  'is_active': True},\n {'id': 202954,\n  'full_name': 'Brad Wanamaker',\n  'first_name': 'Brad',\n  'last_name': 'Wanamaker',\n  'is_active': True},\n {'id': 203933,\n  'full_name': 'T.J. Warren',\n  'first_name': 'T.J.',\n  'last_name': 'Warren',\n  'is_active': True},\n {'id': 1629023,\n  'full_name': 'P.J. Washington',\n  'first_name': 'P.J.',\n  'last_name': 'Washington',\n  'is_active': True},\n {'id': 1629139,\n  'full_name': 'Yuta Watanabe',\n  'first_name': 'Yuta',\n  'last_name': 'Watanabe',\n  'is_active': True},\n {'id': 1629682,\n  'full_name': 'Tremont Waters',\n  'first_name': 'Tremont',\n  'last_name': 'Waters',\n  'is_active': True},\n {'id': 1628778,\n  'full_name': 'Paul Watson',\n  'first_name': 'Paul',\n  'last_name': 'Watson',\n  'is_active': True},\n {'id': 1629683,\n  'full_name': 'Quinndary Weatherspoon',\n  'first_name': 'Quinndary',\n  'last_name': 'Weatherspoon',\n  'is_active': True},\n {'id': 201566,\n  'full_name': 'Russell Westbrook',\n  'first_name': 'Russell',\n  'last_name': 'Westbrook',\n  'is_active': True},\n {'id': 1629632,\n  'full_name': 'Coby White',\n  'first_name': 'Coby',\n  'last_name': 'White',\n  'is_active': True},\n {'id': 1628401,\n  'full_name': 'Derrick White',\n  'first_name': 'Derrick',\n  'last_name': 'White',\n  'is_active': True},\n {'id': 202355,\n  'full_name': 'Hassan Whiteside',\n  'first_name': 'Hassan',\n  'last_name': 'Whiteside',\n  'is_active': True},\n {'id': 203952,\n  'full_name': 'Andrew Wiggins',\n  'first_name': 'Andrew',\n  'last_name': 'Wiggins',\n  'is_active': True},\n {'id': 1629684,\n  'full_name': 'Grant Williams',\n  'first_name': 'Grant',\n  'last_name': 'Williams',\n  'is_active': True},\n {'id': 1629140,\n  'full_name': 'Johnathan Williams',\n  'first_name': 'Johnathan',\n  'last_name': 'Williams',\n  'is_active': True},\n {'id': 1629026,\n  'full_name': 'Kenrich Williams',\n  'first_name': 'Kenrich',\n  'last_name': 'Williams',\n  'is_active': True},\n {'id': 101150,\n  'full_name': 'Lou Williams',\n  'first_name': 'Lou',\n  'last_name': 'Williams',\n  'is_active': True},\n {'id': 101107,\n  'full_name': 'Marvin Williams',\n  'first_name': 'Marvin',\n  'last_name': 'Williams',\n  'is_active': True},\n {'id': 1629057,\n  'full_name': 'Robert Williams III',\n  'first_name': 'Robert',\n  'last_name': 'Williams III',\n  'is_active': True},\n {'id': 1628430,\n  'full_name': 'Nigel Williams-Goss',\n  'first_name': 'Nigel',\n  'last_name': 'Williams-Goss',\n  'is_active': True},\n {'id': 1629627,\n  'full_name': 'Zion Williamson',\n  'first_name': 'Zion',\n  'last_name': 'Williamson',\n  'is_active': True},\n {'id': 1628391,\n  'full_name': 'D.J. Wilson',\n  'first_name': 'D.J.',\n  'last_name': 'Wilson',\n  'is_active': True},\n {'id': 1629685,\n  'full_name': 'Dylan Windler',\n  'first_name': 'Dylan',\n  'last_name': 'Windler',\n  'is_active': True},\n {'id': 1626159,\n  'full_name': 'Justise Winslow',\n  'first_name': 'Justise',\n  'last_name': 'Winslow',\n  'is_active': True},\n {'id': 1626174,\n  'full_name': 'Christian Wood',\n  'first_name': 'Christian',\n  'last_name': 'Wood',\n  'is_active': True},\n {'id': 1629624,\n  'full_name': 'Kenny Wooten',\n  'first_name': 'Kenny',\n  'last_name': 'Wooten',\n  'is_active': True},\n {'id': 1626153,\n  'full_name': 'Delon Wright',\n  'first_name': 'Delon',\n  'last_name': 'Wright',\n  'is_active': True},\n {'id': 1629625,\n  'full_name': 'Justin Wright-Foreman',\n  'first_name': 'Justin',\n  'last_name': 'Wright-Foreman',\n  'is_active': True},\n {'id': 201152,\n  'full_name': 'Thaddeus Young',\n  'first_name': 'Thaddeus',\n  'last_name': 'Young',\n  'is_active': True},\n {'id': 1629027,\n  'full_name': 'Trae Young',\n  'first_name': 'Trae',\n  'last_name': 'Young',\n  'is_active': True},\n {'id': 203469,\n  'full_name': 'Cody Zeller',\n  'first_name': 'Cody',\n  'last_name': 'Zeller',\n  'is_active': True},\n {'id': 1627790,\n  'full_name': 'Ante Zizic',\n  'first_name': 'Ante',\n  'last_name': 'Zizic',\n  'is_active': True},\n {'id': 1627826,\n  'full_name': 'Ivica Zubac',\n  'first_name': 'Ivica',\n  'last_name': 'Zubac',\n  'is_active': True}]"
     },
     "execution_count": 15,
     "metadata": {},
     "output_type": "execute_result"
    }
   ],
   "source": [
    "player_dict = nba_active_players()\n",
    "player_dict"
   ],
   "metadata": {
    "collapsed": false,
    "pycharm": {
     "name": "#%%\n"
    }
   }
  },
  {
   "cell_type": "code",
   "execution_count": 134,
   "outputs": [
    {
     "name": "stdout",
     "output_type": "stream",
     "text": [
      "0.41509433962264153\n",
      "0.71875\n"
     ]
    },
    {
     "data": {
      "text/plain": "           PLAYER FG_PCT FT_PCT FG3M   PTS  REB  AST  STL  BLK  TOV  GAMES\nMean  Will Barton  0.415  0.719  1.4  11.1  4.1  3.0  1.0  0.6  1.2     17",
      "text/html": "<div>\n<style scoped>\n    .dataframe tbody tr th:only-of-type {\n        vertical-align: middle;\n    }\n\n    .dataframe tbody tr th {\n        vertical-align: top;\n    }\n\n    .dataframe thead th {\n        text-align: right;\n    }\n</style>\n<table border=\"1\" class=\"dataframe\">\n  <thead>\n    <tr style=\"text-align: right;\">\n      <th></th>\n      <th>PLAYER</th>\n      <th>FG_PCT</th>\n      <th>FT_PCT</th>\n      <th>FG3M</th>\n      <th>PTS</th>\n      <th>REB</th>\n      <th>AST</th>\n      <th>STL</th>\n      <th>BLK</th>\n      <th>TOV</th>\n      <th>GAMES</th>\n    </tr>\n  </thead>\n  <tbody>\n    <tr>\n      <th>Mean</th>\n      <td>Will Barton</td>\n      <td>0.415</td>\n      <td>0.719</td>\n      <td>1.4</td>\n      <td>11.1</td>\n      <td>4.1</td>\n      <td>3.0</td>\n      <td>1.0</td>\n      <td>0.6</td>\n      <td>1.2</td>\n      <td>17</td>\n    </tr>\n  </tbody>\n</table>\n</div>"
     },
     "execution_count": 134,
     "metadata": {},
     "output_type": "execute_result"
    }
   ],
   "source": [
    "player_name = \"Will Barton\"\n",
    "\n",
    "player_average_9cat_stats(player_name, player_dict)\n"
   ],
   "metadata": {
    "collapsed": false,
    "pycharm": {
     "name": "#%%\n"
    }
   }
  },
  {
   "cell_type": "code",
   "execution_count": null,
   "outputs": [],
   "source": [],
   "metadata": {
    "collapsed": false,
    "pycharm": {
     "name": "#%%\n"
    }
   }
  }
 ],
 "metadata": {
  "kernelspec": {
   "display_name": "Python 3",
   "language": "python",
   "name": "python3"
  },
  "language_info": {
   "codemirror_mode": {
    "name": "ipython",
    "version": 2
   },
   "file_extension": ".py",
   "mimetype": "text/x-python",
   "name": "python",
   "nbconvert_exporter": "python",
   "pygments_lexer": "ipython2",
   "version": "2.7.6"
  }
 },
 "nbformat": 4,
 "nbformat_minor": 0
}