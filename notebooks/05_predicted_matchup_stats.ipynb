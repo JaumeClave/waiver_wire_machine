{
 "cells": [
  {
   "cell_type": "markdown",
   "metadata": {
    "collapsed": true,
    "pycharm": {
     "name": "#%% md\n"
    }
   },
   "source": [
    "## Calendar\n"
   ]
  },
  {
   "cell_type": "code",
   "execution_count": 1,
   "outputs": [],
   "source": [
    "\n",
    "from src.data import all_functions as af\n",
    "import pandas as pd\n"
   ],
   "metadata": {
    "collapsed": false,
    "pycharm": {
     "name": "#%%\n"
    }
   }
  },
  {
   "cell_type": "code",
   "execution_count": 1,
   "outputs": [],
   "source": [
    "import requests\n",
    "import pandas as pd\n",
    "from src.data import all_functions as af\n",
    "\n",
    "PLAYER_COLUMN = \"PLAYER\"\n",
    "TEAM_KEY = \"team_key\"\n",
    "PLAYER_ID_KEY = \"player_id\"\n",
    "NAME_KEY = \"name\"\n",
    "MEAN_ROW = \"mean\"\n",
    "NAME_KEY = \"name\"\n",
    "LSCD_KEY = \"lscd\"\n",
    "MSCD_KEY = \"mscd\"\n",
    "G_KEY = \"g\"\n",
    "GID_KEY = \"gid\"\n",
    "GAME_ID_KEY = \"game_id\"\n",
    "GDATE_KEY = \"gdte\"\n",
    "GAME_DATE_KEY= \"game_date\"\n",
    "V_KEY = \"v\"\n",
    "TID_KEY = \"tid\"\n",
    "VISITORS_TEAM_ID_KEY = \"visitors_tid\"\n",
    "VISITORS_KEY =  \"visitors\"\n",
    "TC_KEY = \"tc\"\n",
    "TN_KEY = \"tn\"\n",
    "H_KEY = \"h\"\n",
    "HOME_TEAM_ID_KEY = \"home_tid\"\n",
    "HOME_KEY = \"home\"\n",
    "TOTAL_ROW = \"total\"\n",
    "INDEX_COLUMN = \"index\"\n",
    "NBA_NAME_LA_CLIPPERS = \"LA Clippers\"\n",
    "YAHOO_NAME_LA_CLIPPERS = \"Los Angeles Clippers\"\n",
    "COLUMN_9CAT_DECIMAL_FORMAT = {af.FIELD_GOAL_PERCENTAGE_COLUMN : af.THREE_DECIMAL_FORMAT,\n",
    "     af.FREE_THROW_PERCENTAGE_COLUMN : af.THREE_DECIMAL_FORMAT,\n",
    "     af.THREES_MADE_COLUMN : af.TWO_DECIMAL_FORMAT,\n",
    "     af.POINTS_COLUMN : af.TWO_DECIMAL_FORMAT,\n",
    "     af.REBOUNDS_COLUMN : af.TWO_DECIMAL_FORMAT,\n",
    "     af.ASSITS_COLUMN : af.TWO_DECIMAL_FORMAT, af.STEALS_COLUMN : af.TWO_DECIMAL_FORMAT,\n",
    "     af.BLOCKS_COLUMN : af.TWO_DECIMAL_FORMAT, af.TURNOVERS_COLUMN : af.TWO_DECIMAL_FORMAT}\n",
    "\n",
    "def get_game_information_in_month(nba_json):\n",
    "    \"\"\"\n",
    "    Function loops through a month (n) in nba_json and creates a dataframe containing game\n",
    "    information, game_id, home/visitor team/team_id and game_date for each month.\n",
    "    param nba_json (dictionary): dictionary containing game information\n",
    "    returns game_dataframe (pandas dataframe): dataframe containing game information for a month\n",
    "    \"\"\"\n",
    "    game_dataframe = pd.DataFrame()\n",
    "    for n in range(len(nba_json)):\n",
    "        game_dictionary = dict()\n",
    "        game_dictionary[GID_KEY] = nba_json[n][GID_KEY]\n",
    "        game_dictionary[GDATE_KEY] = nba_json[n][GDATE_KEY]\n",
    "        game_dictionary[VISITORS_TEAM_ID_KEY] = nba_json[n][V_KEY][TID_KEY]\n",
    "        game_dictionary[VISITORS_KEY] = nba_json[n][V_KEY][TC_KEY] + \" \" \\\n",
    "                                        + nba_json[n][V_KEY][TN_KEY]\n",
    "        game_dictionary[HOME_TEAM_ID_KEY] = nba_json[n][H_KEY][TID_KEY]\n",
    "        game_dictionary[HOME_KEY] = nba_json[n][H_KEY][TC_KEY] + \" \" \\\n",
    "                                    + nba_json[n][H_KEY][TN_KEY]\n",
    "        game_dataframe = game_dataframe.append(game_dictionary, ignore_index=True)\n",
    "    return game_dataframe\n",
    "\n",
    "def get_game_information_in_season(season):\n",
    "    \"\"\"\n",
    "    Function calls the NBA endpoint that returns the season schedule. It then loops through each\n",
    "    month in that schedule to create a dataframe containing game information, game_id,\n",
    "    home/visitor team/team_id and game_date for the season.\n",
    "    param season (string): season for schedule\n",
    "    returns season_games_dataframe (pandas dataframe): dataframe containing game information for\n",
    "    a season\n",
    "    \"\"\"\n",
    "    r = requests.get(f\"http://data.nba\"\n",
    "                     f\".com/data/10s/v2015/json/mobile_teams/nba/{season}/league/00_full_schedule\"\n",
    "                     f\".json\")\n",
    "    game_information_json = r.json()[LSCD_KEY]\n",
    "    season_games_dataframe = pd.DataFrame()\n",
    "    for n in range(len(game_information_json)):\n",
    "        month_n_game_dataframe = get_game_information_in_month\\\n",
    "            (game_information_json[n][MSCD_KEY][G_KEY])\n",
    "        season_games_dataframe = season_games_dataframe.append(month_n_game_dataframe)\n",
    "    return season_games_dataframe\n",
    "\n",
    "def get_week_current_week_information():\n",
    "    \"\"\"\n",
    "    Function finds the current Yahoo Fantasy week number and its start and end date.\n",
    "    return current_fantasy_week (int): Yahoo Fantasy week number\n",
    "    return week_start_date (string): start date of Yahoo Fantasy week number\n",
    "    return week_end_date (string): end date of Yahoo Fantasy week number\n",
    "    \"\"\"\n",
    "    sc = af.yahoo_fantasy_api_authentication()\n",
    "    league = af.yahoo_fantasy_league(sc)\n",
    "    current_fantasy_week = league.current_week()\n",
    "    week_start_date = league.week_date_range(current_fantasy_week)[0]\n",
    "    week_end_date = league.week_date_range(current_fantasy_week)[1]\n",
    "    return current_fantasy_week, week_start_date, week_end_date\n",
    "\n",
    "def get_next_week_information():\n",
    "    \"\"\"\n",
    "    Function finds the next Yahoo Fantasy week number and its start and end date.\n",
    "    return next_fantasy_week (int): Yahoo Fantasy week number\n",
    "    return week_start_date (string): start date of Yahoo Fantasy week number\n",
    "    return week_end_date (string): end date of Yahoo Fantasy week number\n",
    "    \"\"\"\n",
    "    sc = af.yahoo_fantasy_api_authentication()\n",
    "    league = af.yahoo_fantasy_league(sc)\n",
    "    next_fantasy_week = league.current_week() + 1\n",
    "    week_start_date = league.week_date_range(next_fantasy_week)[0]\n",
    "    week_end_date = league.week_date_range(next_fantasy_week)[1]\n",
    "    return next_fantasy_week, week_start_date, week_end_date\n",
    "\n",
    "def get_player_ids_names_in_fantasy_team(team_dict):\n",
    "    \"\"\"\n",
    "    Function finds the Yahoo Fantasy player ids and player names rostered by a team in the league\n",
    "    param team_dict (dictionary): dictionary containing information about a owners team\n",
    "    return player_id_name_team_list (list): Yahoo Fantasy player ids and names\n",
    "    return player_name_list (list): Yahoo Fantasy player names\n",
    "    \"\"\"\n",
    "    sc = af.yahoo_fantasy_api_authentication()\n",
    "    league = af.yahoo_fantasy_league(sc)\n",
    "    team = league.to_team(team_dict[TEAM_KEY])\n",
    "    team_roster = team.roster()\n",
    "    player_id_name_team_list = [{PLAYER_ID_KEY : player[PLAYER_ID_KEY], NAME_KEY : player[NAME_KEY]}\n",
    "                           for player in team_roster]\n",
    "    player_name_list = [player[NAME_KEY] for player in player_id_name_team_list]\n",
    "    return player_id_name_team_list, player_name_list\n",
    "\n",
    "def get_fantasy_week_games_dataframe(season_schedule_dataframe, week_start_date, week_end_date):\n",
    "    \"\"\"\n",
    "    Function filters the entire NBA season schedule on a start/end date to find the scheduled\n",
    "    games between specific dates. It returns the amount of games each NBA team plays during that\n",
    "    period of time.\n",
    "    param season_schedule_dataframe (pandas dataframe): dataframe containing the entire seasons\n",
    "    NBA schedule\n",
    "    param week_start_date (string): date to begin filtering by\n",
    "    param week_start_date (string): date to end filtering by\n",
    "    return current_fantasy_games_week (pandas dataframe) dataframe containing the scheduled games\n",
    "    in specified param dates\n",
    "    return team_game_counts (pandas series): series containing count of games for each NBA team\n",
    "    \"\"\"\n",
    "    filtered_games_week = season_schedule_dataframe[(season_schedule_dataframe[GDATE_KEY] >=\n",
    "                                                   str(week_start_date)) &\n",
    "                                                  (season_schedule_dataframe[GDATE_KEY] <=\n",
    "                                                   str(week_end_date))]\n",
    "    team_game_counts = filtered_games_week[HOME_KEY].append\\\n",
    "        (filtered_games_week[VISITORS_KEY]).value_counts()\n",
    "    return filtered_games_week, team_game_counts\n",
    "\n",
    "def get_player_games(team_game_counts_series, player_name_list):\n",
    "    \"\"\"\n",
    "    Function creates a dictionary containing key/value pairs of player names/games in a series of\n",
    "    NBA team game counts\n",
    "    param team_game_counts_series (pandas series): series of team name and games playing\n",
    "    param player_name_list (list): list of player names\n",
    "    return player_games_dictionary (dictionary): key/value pairing of player names/games playing\n",
    "    \"\"\"\n",
    "    player_games_dictionary = dict()\n",
    "    team_game_counts_dataframe = pd.DataFrame(team_game_counts_series)\n",
    "    team_game_counts_dataframe.reset_index(inplace=True)\n",
    "    team_game_counts_dataframe = team_game_counts_dataframe.replace(NBA_NAME_LA_CLIPPERS,\n",
    "                                                                    YAHOO_NAME_LA_CLIPPERS)\n",
    "    for player in player_name_list:\n",
    "        team = af.yahoo_player_team_and_jersey(player)[0]\n",
    "        try:\n",
    "            player_games_dictionary[player] = \\\n",
    "                team_game_counts_dataframe[team_game_counts_dataframe[\"index\"] == team][0].iloc[0]\n",
    "        except IndexError:\n",
    "            player_games_dictionary[player] = 0\n",
    "    return player_games_dictionary\n",
    "\n",
    "def get_team_player_game_dataframe(team_dict, week=\"next\", season=2020):\n",
    "    \"\"\"\n",
    "\n",
    "    @param team_dict:\n",
    "    @param week:\n",
    "    @param season:\n",
    "    @return:\n",
    "    \"\"\"\n",
    "    if week == \"next\":\n",
    "        fantasy_week, week_start_date, week_end_date = get_next_week_information()\n",
    "    elif week == \"current\":\n",
    "        fantasy_week, week_start_date, week_end_date = get_week_current_week_information()\n",
    "    else:\n",
    "        raise ValueError(\"Parameter 'week' must be 'current' or 'next'.\")\n",
    "    season_games_dataframe = get_game_information_in_season(season) # Run once only\n",
    "    filtered_games_week, team_game_counts = get_fantasy_week_games_dataframe\\\n",
    "        (season_games_dataframe, week_start_date, week_end_date)\n",
    "    player_id_name_team_list, player_name_list = get_player_ids_names_in_fantasy_team(team_dict)\n",
    "    player_games_dictionary = get_player_games(team_game_counts, player_name_list)\n",
    "    return filtered_games_week, player_games_dictionary"
   ],
   "metadata": {
    "collapsed": false,
    "pycharm": {
     "name": "#%%\n"
    }
   }
  },
  {
   "cell_type": "code",
   "execution_count": 4,
   "outputs": [
    {
     "name": "stderr",
     "output_type": "stream",
     "text": [
      "[2021-02-22 23:31:02,679 DEBUG] [yahoo_oauth.oauth.__init__] Checking \n",
      "[2021-02-22 23:31:02,692 DEBUG] [yahoo_oauth.oauth.token_is_valid] ELAPSED TIME : 4902.815487861633\n",
      "[2021-02-22 23:31:02,693 DEBUG] [yahoo_oauth.oauth.token_is_valid] TOKEN HAS EXPIRED\n",
      "[2021-02-22 23:31:02,693 DEBUG] [yahoo_oauth.oauth.refresh_access_token] REFRESHING TOKEN\n",
      "[2021-02-22 23:31:03,513 DEBUG] [yahoo_oauth.oauth.__init__] Checking \n",
      "[2021-02-22 23:31:03,523 DEBUG] [yahoo_oauth.oauth.token_is_valid] ELAPSED TIME : 0.8294339179992676\n",
      "[2021-02-22 23:31:03,524 DEBUG] [yahoo_oauth.oauth.token_is_valid] TOKEN IS STILL VALID\n",
      "[2021-02-22 23:31:07,567 DEBUG] [yahoo_oauth.oauth.__init__] Checking \n",
      "[2021-02-22 23:31:07,571 DEBUG] [yahoo_oauth.oauth.token_is_valid] ELAPSED TIME : 4.877391576766968\n",
      "[2021-02-22 23:31:07,572 DEBUG] [yahoo_oauth.oauth.token_is_valid] TOKEN IS STILL VALID\n",
      "[2021-02-22 23:31:08,545 DEBUG] [yahoo_oauth.oauth.__init__] Checking \n",
      "[2021-02-22 23:31:08,548 DEBUG] [yahoo_oauth.oauth.token_is_valid] ELAPSED TIME : 5.853630542755127\n",
      "[2021-02-22 23:31:08,549 DEBUG] [yahoo_oauth.oauth.token_is_valid] TOKEN IS STILL VALID\n",
      "[2021-02-22 23:31:09,461 DEBUG] [yahoo_oauth.oauth.__init__] Checking \n",
      "[2021-02-22 23:31:09,465 DEBUG] [yahoo_oauth.oauth.token_is_valid] ELAPSED TIME : 6.770787715911865\n",
      "[2021-02-22 23:31:09,466 DEBUG] [yahoo_oauth.oauth.token_is_valid] TOKEN IS STILL VALID\n",
      "[2021-02-22 23:31:10,387 DEBUG] [yahoo_oauth.oauth.__init__] Checking \n",
      "[2021-02-22 23:31:10,391 DEBUG] [yahoo_oauth.oauth.token_is_valid] ELAPSED TIME : 7.696883678436279\n",
      "[2021-02-22 23:31:10,392 DEBUG] [yahoo_oauth.oauth.token_is_valid] TOKEN IS STILL VALID\n",
      "[2021-02-22 23:31:11,356 DEBUG] [yahoo_oauth.oauth.__init__] Checking \n",
      "[2021-02-22 23:31:11,359 DEBUG] [yahoo_oauth.oauth.token_is_valid] ELAPSED TIME : 8.664897441864014\n",
      "[2021-02-22 23:31:11,360 DEBUG] [yahoo_oauth.oauth.token_is_valid] TOKEN IS STILL VALID\n",
      "[2021-02-22 23:31:12,291 DEBUG] [yahoo_oauth.oauth.__init__] Checking \n",
      "[2021-02-22 23:31:12,294 DEBUG] [yahoo_oauth.oauth.token_is_valid] ELAPSED TIME : 9.600220918655396\n",
      "[2021-02-22 23:31:12,295 DEBUG] [yahoo_oauth.oauth.token_is_valid] TOKEN IS STILL VALID\n",
      "[2021-02-22 23:31:13,245 DEBUG] [yahoo_oauth.oauth.__init__] Checking \n",
      "[2021-02-22 23:31:13,248 DEBUG] [yahoo_oauth.oauth.token_is_valid] ELAPSED TIME : 10.553673028945923\n",
      "[2021-02-22 23:31:13,249 DEBUG] [yahoo_oauth.oauth.token_is_valid] TOKEN IS STILL VALID\n",
      "[2021-02-22 23:31:14,145 DEBUG] [yahoo_oauth.oauth.__init__] Checking \n",
      "[2021-02-22 23:31:14,148 DEBUG] [yahoo_oauth.oauth.token_is_valid] ELAPSED TIME : 11.454074621200562\n",
      "[2021-02-22 23:31:14,149 DEBUG] [yahoo_oauth.oauth.token_is_valid] TOKEN IS STILL VALID\n",
      "[2021-02-22 23:31:15,156 DEBUG] [yahoo_oauth.oauth.__init__] Checking \n",
      "[2021-02-22 23:31:15,165 DEBUG] [yahoo_oauth.oauth.token_is_valid] ELAPSED TIME : 12.471177101135254\n",
      "[2021-02-22 23:31:15,166 DEBUG] [yahoo_oauth.oauth.token_is_valid] TOKEN IS STILL VALID\n",
      "[2021-02-22 23:31:16,172 DEBUG] [yahoo_oauth.oauth.__init__] Checking \n",
      "[2021-02-22 23:31:16,176 DEBUG] [yahoo_oauth.oauth.token_is_valid] ELAPSED TIME : 13.482099771499634\n",
      "[2021-02-22 23:31:16,177 DEBUG] [yahoo_oauth.oauth.token_is_valid] TOKEN IS STILL VALID\n",
      "[2021-02-22 23:31:17,132 DEBUG] [yahoo_oauth.oauth.__init__] Checking \n",
      "[2021-02-22 23:31:17,135 DEBUG] [yahoo_oauth.oauth.token_is_valid] ELAPSED TIME : 14.44126009941101\n",
      "[2021-02-22 23:31:17,136 DEBUG] [yahoo_oauth.oauth.token_is_valid] TOKEN IS STILL VALID\n",
      "[2021-02-22 23:31:18,069 DEBUG] [yahoo_oauth.oauth.__init__] Checking \n",
      "[2021-02-22 23:31:18,073 DEBUG] [yahoo_oauth.oauth.token_is_valid] ELAPSED TIME : 15.378900051116943\n",
      "[2021-02-22 23:31:18,074 DEBUG] [yahoo_oauth.oauth.token_is_valid] TOKEN IS STILL VALID\n",
      "[2021-02-22 23:31:18,985 DEBUG] [yahoo_oauth.oauth.__init__] Checking \n",
      "[2021-02-22 23:31:18,994 DEBUG] [yahoo_oauth.oauth.token_is_valid] ELAPSED TIME : 16.30043363571167\n",
      "[2021-02-22 23:31:18,995 DEBUG] [yahoo_oauth.oauth.token_is_valid] TOKEN IS STILL VALID\n",
      "[2021-02-22 23:31:19,900 DEBUG] [yahoo_oauth.oauth.__init__] Checking \n",
      "[2021-02-22 23:31:19,903 DEBUG] [yahoo_oauth.oauth.token_is_valid] ELAPSED TIME : 17.208982706069946\n",
      "[2021-02-22 23:31:19,904 DEBUG] [yahoo_oauth.oauth.token_is_valid] TOKEN IS STILL VALID\n",
      "[2021-02-22 23:31:20,869 DEBUG] [yahoo_oauth.oauth.__init__] Checking \n",
      "[2021-02-22 23:31:20,874 DEBUG] [yahoo_oauth.oauth.token_is_valid] ELAPSED TIME : 18.179813146591187\n",
      "[2021-02-22 23:31:20,875 DEBUG] [yahoo_oauth.oauth.token_is_valid] TOKEN IS STILL VALID\n",
      "[2021-02-22 23:31:21,827 DEBUG] [yahoo_oauth.oauth.__init__] Checking \n",
      "[2021-02-22 23:31:21,830 DEBUG] [yahoo_oauth.oauth.token_is_valid] ELAPSED TIME : 19.135839223861694\n",
      "[2021-02-22 23:31:21,831 DEBUG] [yahoo_oauth.oauth.token_is_valid] TOKEN IS STILL VALID\n"
     ]
    }
   ],
   "source": [
    "filtered_games_week, player_games_dictionary = get_team_player_game_dataframe(af\n",
    "                                                                            .NUNN_OF_YALL_BETTA, week=\"current\", season=2020)"
   ],
   "metadata": {
    "collapsed": false,
    "pycharm": {
     "name": "#%%\n"
    }
   }
  },
  {
   "cell_type": "code",
   "execution_count": 11,
   "outputs": [
    {
     "data": {
      "text/plain": "           gdte         gid                    home      home_tid  \\\n168  2021-02-22  0022000473          Indiana Pacers  1.610613e+09   \n169  2021-02-22  0022000474         Houston Rockets  1.610613e+09   \n170  2021-02-22  0022000476        Dallas Mavericks  1.610613e+09   \n171  2021-02-22  0022000475   Oklahoma City Thunder  1.610613e+09   \n172  2021-02-22  0022000477            Phoenix Suns  1.610613e+09   \n173  2021-02-22  0022000478               Utah Jazz  1.610613e+09   \n174  2021-02-22  0022000479      Los Angeles Lakers  1.610613e+09   \n175  2021-02-23  0022000480     Cleveland Cavaliers  1.610613e+09   \n176  2021-02-23  0022000481           Orlando Magic  1.610613e+09   \n177  2021-02-23  0022000482           Brooklyn Nets  1.610613e+09   \n178  2021-02-23  0022000483         New York Knicks  1.610613e+09   \n179  2021-02-23  0022000484         Toronto Raptors  1.610613e+09   \n180  2021-02-23  0022000485        Dallas Mavericks  1.610613e+09   \n181  2021-02-23  0022000486         Milwaukee Bucks  1.610613e+09   \n182  2021-02-23  0022000487          Denver Nuggets  1.610613e+09   \n183  2021-02-23  0022000488             LA Clippers  1.610613e+09   \n184  2021-02-24  0022000489          Indiana Pacers  1.610613e+09   \n185  2021-02-24  0022000490           Atlanta Hawks  1.610613e+09   \n186  2021-02-24  0022000491     Cleveland Cavaliers  1.610613e+09   \n187  2021-02-24  0022000492              Miami Heat  1.610613e+09   \n188  2021-02-24  0022000493           Chicago Bulls  1.610613e+09   \n189  2021-02-24  0022000494    New Orleans Pelicans  1.610613e+09   \n190  2021-02-24  0022000495   Oklahoma City Thunder  1.610613e+09   \n191  2021-02-24  0022000496            Phoenix Suns  1.610613e+09   \n192  2021-02-24  0022000497               Utah Jazz  1.610613e+09   \n193  2021-02-25  0022000498      Philadelphia 76ers  1.610613e+09   \n194  2021-02-25  0022000499           Brooklyn Nets  1.610613e+09   \n195  2021-02-25  0022000500         New York Knicks  1.610613e+09   \n196  2021-02-25  0022000501       Memphis Grizzlies  1.610613e+09   \n197  2021-02-25  0022000502          Denver Nuggets  1.610613e+09   \n198  2021-02-25  0022000503         Milwaukee Bucks  1.610613e+09   \n199  2021-02-26  0022000505          Boston Celtics  1.610613e+09   \n200  2021-02-26  0022000506         Toronto Raptors  1.610613e+09   \n201  2021-02-26  0022000504         Detroit Pistons  1.610613e+09   \n202  2021-02-26  0022000507              Miami Heat  1.610613e+09   \n203  2021-02-26  0022000508           Chicago Bulls  1.610613e+09   \n204  2021-02-26  0022000509       Memphis Grizzlies  1.610613e+09   \n205  2021-02-26  0022000510   Oklahoma City Thunder  1.610613e+09   \n206  2021-02-26  0022000511   Golden State Warriors  1.610613e+09   \n207  2021-02-26  0022000512      Los Angeles Lakers  1.610613e+09   \n208  2021-02-27  0022000513      Philadelphia 76ers  1.610613e+09   \n209  2021-02-27  0022000517      Washington Wizards  1.610613e+09   \n210  2021-02-27  0022000514       San Antonio Spurs  1.610613e+09   \n211  2021-02-27  0022000515         New York Knicks  1.610613e+09   \n212  2021-02-27  0022000516           Orlando Magic  1.610613e+09   \n213  2021-02-27  0022000518   Oklahoma City Thunder  1.610613e+09   \n214  2021-02-27  0022000519           Brooklyn Nets  1.610613e+09   \n215  2021-02-28  0022000520         Milwaukee Bucks  1.610613e+09   \n216  2021-02-28  0022000523         Toronto Raptors  1.610613e+09   \n217  2021-02-28  0022000524          Boston Celtics  1.610613e+09   \n218  2021-02-28  0022000521         Detroit Pistons  1.610613e+09   \n219  2021-02-28  0022000522              Miami Heat  1.610613e+09   \n220  2021-02-28  0022000525         Houston Rockets  1.610613e+09   \n221  2021-02-28  0022000527      Los Angeles Lakers  1.610613e+09   \n222  2021-02-28  0022000526  Minnesota Timberwolves  1.610613e+09   \n223  2021-02-28  0022000528        Sacramento Kings  1.610613e+09   \n\n                   visitors  visitors_tid  \n168       San Antonio Spurs  1.610613e+09  \n169           Chicago Bulls  1.610613e+09  \n170       Memphis Grizzlies  1.610613e+09  \n171              Miami Heat  1.610613e+09  \n172  Portland Trail Blazers  1.610613e+09  \n173       Charlotte Hornets  1.610613e+09  \n174      Washington Wizards  1.610613e+09  \n175           Atlanta Hawks  1.610613e+09  \n176         Detroit Pistons  1.610613e+09  \n177        Sacramento Kings  1.610613e+09  \n178   Golden State Warriors  1.610613e+09  \n179      Philadelphia 76ers  1.610613e+09  \n180          Boston Celtics  1.610613e+09  \n181  Minnesota Timberwolves  1.610613e+09  \n182  Portland Trail Blazers  1.610613e+09  \n183      Washington Wizards  1.610613e+09  \n184   Golden State Warriors  1.610613e+09  \n185          Boston Celtics  1.610613e+09  \n186         Houston Rockets  1.610613e+09  \n187         Toronto Raptors  1.610613e+09  \n188  Minnesota Timberwolves  1.610613e+09  \n189         Detroit Pistons  1.610613e+09  \n190       San Antonio Spurs  1.610613e+09  \n191       Charlotte Hornets  1.610613e+09  \n192      Los Angeles Lakers  1.610613e+09  \n193        Dallas Mavericks  1.610613e+09  \n194           Orlando Magic  1.610613e+09  \n195        Sacramento Kings  1.610613e+09  \n196             LA Clippers  1.610613e+09  \n197      Washington Wizards  1.610613e+09  \n198    New Orleans Pelicans  1.610613e+09  \n199          Indiana Pacers  1.610613e+09  \n200         Houston Rockets  1.610613e+09  \n201        Sacramento Kings  1.610613e+09  \n202               Utah Jazz  1.610613e+09  \n203            Phoenix Suns  1.610613e+09  \n204             LA Clippers  1.610613e+09  \n205           Atlanta Hawks  1.610613e+09  \n206       Charlotte Hornets  1.610613e+09  \n207  Portland Trail Blazers  1.610613e+09  \n208     Cleveland Cavaliers  1.610613e+09  \n209  Minnesota Timberwolves  1.610613e+09  \n210    New Orleans Pelicans  1.610613e+09  \n211          Indiana Pacers  1.610613e+09  \n212               Utah Jazz  1.610613e+09  \n213          Denver Nuggets  1.610613e+09  \n214        Dallas Mavericks  1.610613e+09  \n215             LA Clippers  1.610613e+09  \n216           Chicago Bulls  1.610613e+09  \n217      Washington Wizards  1.610613e+09  \n218         New York Knicks  1.610613e+09  \n219           Atlanta Hawks  1.610613e+09  \n220       Memphis Grizzlies  1.610613e+09  \n221   Golden State Warriors  1.610613e+09  \n222            Phoenix Suns  1.610613e+09  \n223       Charlotte Hornets  1.610613e+09  ",
      "text/html": "<div>\n<style scoped>\n    .dataframe tbody tr th:only-of-type {\n        vertical-align: middle;\n    }\n\n    .dataframe tbody tr th {\n        vertical-align: top;\n    }\n\n    .dataframe thead th {\n        text-align: right;\n    }\n</style>\n<table border=\"1\" class=\"dataframe\">\n  <thead>\n    <tr style=\"text-align: right;\">\n      <th></th>\n      <th>gdte</th>\n      <th>gid</th>\n      <th>home</th>\n      <th>home_tid</th>\n      <th>visitors</th>\n      <th>visitors_tid</th>\n    </tr>\n  </thead>\n  <tbody>\n    <tr>\n      <th>168</th>\n      <td>2021-02-22</td>\n      <td>0022000473</td>\n      <td>Indiana Pacers</td>\n      <td>1.610613e+09</td>\n      <td>San Antonio Spurs</td>\n      <td>1.610613e+09</td>\n    </tr>\n    <tr>\n      <th>169</th>\n      <td>2021-02-22</td>\n      <td>0022000474</td>\n      <td>Houston Rockets</td>\n      <td>1.610613e+09</td>\n      <td>Chicago Bulls</td>\n      <td>1.610613e+09</td>\n    </tr>\n    <tr>\n      <th>170</th>\n      <td>2021-02-22</td>\n      <td>0022000476</td>\n      <td>Dallas Mavericks</td>\n      <td>1.610613e+09</td>\n      <td>Memphis Grizzlies</td>\n      <td>1.610613e+09</td>\n    </tr>\n    <tr>\n      <th>171</th>\n      <td>2021-02-22</td>\n      <td>0022000475</td>\n      <td>Oklahoma City Thunder</td>\n      <td>1.610613e+09</td>\n      <td>Miami Heat</td>\n      <td>1.610613e+09</td>\n    </tr>\n    <tr>\n      <th>172</th>\n      <td>2021-02-22</td>\n      <td>0022000477</td>\n      <td>Phoenix Suns</td>\n      <td>1.610613e+09</td>\n      <td>Portland Trail Blazers</td>\n      <td>1.610613e+09</td>\n    </tr>\n    <tr>\n      <th>173</th>\n      <td>2021-02-22</td>\n      <td>0022000478</td>\n      <td>Utah Jazz</td>\n      <td>1.610613e+09</td>\n      <td>Charlotte Hornets</td>\n      <td>1.610613e+09</td>\n    </tr>\n    <tr>\n      <th>174</th>\n      <td>2021-02-22</td>\n      <td>0022000479</td>\n      <td>Los Angeles Lakers</td>\n      <td>1.610613e+09</td>\n      <td>Washington Wizards</td>\n      <td>1.610613e+09</td>\n    </tr>\n    <tr>\n      <th>175</th>\n      <td>2021-02-23</td>\n      <td>0022000480</td>\n      <td>Cleveland Cavaliers</td>\n      <td>1.610613e+09</td>\n      <td>Atlanta Hawks</td>\n      <td>1.610613e+09</td>\n    </tr>\n    <tr>\n      <th>176</th>\n      <td>2021-02-23</td>\n      <td>0022000481</td>\n      <td>Orlando Magic</td>\n      <td>1.610613e+09</td>\n      <td>Detroit Pistons</td>\n      <td>1.610613e+09</td>\n    </tr>\n    <tr>\n      <th>177</th>\n      <td>2021-02-23</td>\n      <td>0022000482</td>\n      <td>Brooklyn Nets</td>\n      <td>1.610613e+09</td>\n      <td>Sacramento Kings</td>\n      <td>1.610613e+09</td>\n    </tr>\n    <tr>\n      <th>178</th>\n      <td>2021-02-23</td>\n      <td>0022000483</td>\n      <td>New York Knicks</td>\n      <td>1.610613e+09</td>\n      <td>Golden State Warriors</td>\n      <td>1.610613e+09</td>\n    </tr>\n    <tr>\n      <th>179</th>\n      <td>2021-02-23</td>\n      <td>0022000484</td>\n      <td>Toronto Raptors</td>\n      <td>1.610613e+09</td>\n      <td>Philadelphia 76ers</td>\n      <td>1.610613e+09</td>\n    </tr>\n    <tr>\n      <th>180</th>\n      <td>2021-02-23</td>\n      <td>0022000485</td>\n      <td>Dallas Mavericks</td>\n      <td>1.610613e+09</td>\n      <td>Boston Celtics</td>\n      <td>1.610613e+09</td>\n    </tr>\n    <tr>\n      <th>181</th>\n      <td>2021-02-23</td>\n      <td>0022000486</td>\n      <td>Milwaukee Bucks</td>\n      <td>1.610613e+09</td>\n      <td>Minnesota Timberwolves</td>\n      <td>1.610613e+09</td>\n    </tr>\n    <tr>\n      <th>182</th>\n      <td>2021-02-23</td>\n      <td>0022000487</td>\n      <td>Denver Nuggets</td>\n      <td>1.610613e+09</td>\n      <td>Portland Trail Blazers</td>\n      <td>1.610613e+09</td>\n    </tr>\n    <tr>\n      <th>183</th>\n      <td>2021-02-23</td>\n      <td>0022000488</td>\n      <td>LA Clippers</td>\n      <td>1.610613e+09</td>\n      <td>Washington Wizards</td>\n      <td>1.610613e+09</td>\n    </tr>\n    <tr>\n      <th>184</th>\n      <td>2021-02-24</td>\n      <td>0022000489</td>\n      <td>Indiana Pacers</td>\n      <td>1.610613e+09</td>\n      <td>Golden State Warriors</td>\n      <td>1.610613e+09</td>\n    </tr>\n    <tr>\n      <th>185</th>\n      <td>2021-02-24</td>\n      <td>0022000490</td>\n      <td>Atlanta Hawks</td>\n      <td>1.610613e+09</td>\n      <td>Boston Celtics</td>\n      <td>1.610613e+09</td>\n    </tr>\n    <tr>\n      <th>186</th>\n      <td>2021-02-24</td>\n      <td>0022000491</td>\n      <td>Cleveland Cavaliers</td>\n      <td>1.610613e+09</td>\n      <td>Houston Rockets</td>\n      <td>1.610613e+09</td>\n    </tr>\n    <tr>\n      <th>187</th>\n      <td>2021-02-24</td>\n      <td>0022000492</td>\n      <td>Miami Heat</td>\n      <td>1.610613e+09</td>\n      <td>Toronto Raptors</td>\n      <td>1.610613e+09</td>\n    </tr>\n    <tr>\n      <th>188</th>\n      <td>2021-02-24</td>\n      <td>0022000493</td>\n      <td>Chicago Bulls</td>\n      <td>1.610613e+09</td>\n      <td>Minnesota Timberwolves</td>\n      <td>1.610613e+09</td>\n    </tr>\n    <tr>\n      <th>189</th>\n      <td>2021-02-24</td>\n      <td>0022000494</td>\n      <td>New Orleans Pelicans</td>\n      <td>1.610613e+09</td>\n      <td>Detroit Pistons</td>\n      <td>1.610613e+09</td>\n    </tr>\n    <tr>\n      <th>190</th>\n      <td>2021-02-24</td>\n      <td>0022000495</td>\n      <td>Oklahoma City Thunder</td>\n      <td>1.610613e+09</td>\n      <td>San Antonio Spurs</td>\n      <td>1.610613e+09</td>\n    </tr>\n    <tr>\n      <th>191</th>\n      <td>2021-02-24</td>\n      <td>0022000496</td>\n      <td>Phoenix Suns</td>\n      <td>1.610613e+09</td>\n      <td>Charlotte Hornets</td>\n      <td>1.610613e+09</td>\n    </tr>\n    <tr>\n      <th>192</th>\n      <td>2021-02-24</td>\n      <td>0022000497</td>\n      <td>Utah Jazz</td>\n      <td>1.610613e+09</td>\n      <td>Los Angeles Lakers</td>\n      <td>1.610613e+09</td>\n    </tr>\n    <tr>\n      <th>193</th>\n      <td>2021-02-25</td>\n      <td>0022000498</td>\n      <td>Philadelphia 76ers</td>\n      <td>1.610613e+09</td>\n      <td>Dallas Mavericks</td>\n      <td>1.610613e+09</td>\n    </tr>\n    <tr>\n      <th>194</th>\n      <td>2021-02-25</td>\n      <td>0022000499</td>\n      <td>Brooklyn Nets</td>\n      <td>1.610613e+09</td>\n      <td>Orlando Magic</td>\n      <td>1.610613e+09</td>\n    </tr>\n    <tr>\n      <th>195</th>\n      <td>2021-02-25</td>\n      <td>0022000500</td>\n      <td>New York Knicks</td>\n      <td>1.610613e+09</td>\n      <td>Sacramento Kings</td>\n      <td>1.610613e+09</td>\n    </tr>\n    <tr>\n      <th>196</th>\n      <td>2021-02-25</td>\n      <td>0022000501</td>\n      <td>Memphis Grizzlies</td>\n      <td>1.610613e+09</td>\n      <td>LA Clippers</td>\n      <td>1.610613e+09</td>\n    </tr>\n    <tr>\n      <th>197</th>\n      <td>2021-02-25</td>\n      <td>0022000502</td>\n      <td>Denver Nuggets</td>\n      <td>1.610613e+09</td>\n      <td>Washington Wizards</td>\n      <td>1.610613e+09</td>\n    </tr>\n    <tr>\n      <th>198</th>\n      <td>2021-02-25</td>\n      <td>0022000503</td>\n      <td>Milwaukee Bucks</td>\n      <td>1.610613e+09</td>\n      <td>New Orleans Pelicans</td>\n      <td>1.610613e+09</td>\n    </tr>\n    <tr>\n      <th>199</th>\n      <td>2021-02-26</td>\n      <td>0022000505</td>\n      <td>Boston Celtics</td>\n      <td>1.610613e+09</td>\n      <td>Indiana Pacers</td>\n      <td>1.610613e+09</td>\n    </tr>\n    <tr>\n      <th>200</th>\n      <td>2021-02-26</td>\n      <td>0022000506</td>\n      <td>Toronto Raptors</td>\n      <td>1.610613e+09</td>\n      <td>Houston Rockets</td>\n      <td>1.610613e+09</td>\n    </tr>\n    <tr>\n      <th>201</th>\n      <td>2021-02-26</td>\n      <td>0022000504</td>\n      <td>Detroit Pistons</td>\n      <td>1.610613e+09</td>\n      <td>Sacramento Kings</td>\n      <td>1.610613e+09</td>\n    </tr>\n    <tr>\n      <th>202</th>\n      <td>2021-02-26</td>\n      <td>0022000507</td>\n      <td>Miami Heat</td>\n      <td>1.610613e+09</td>\n      <td>Utah Jazz</td>\n      <td>1.610613e+09</td>\n    </tr>\n    <tr>\n      <th>203</th>\n      <td>2021-02-26</td>\n      <td>0022000508</td>\n      <td>Chicago Bulls</td>\n      <td>1.610613e+09</td>\n      <td>Phoenix Suns</td>\n      <td>1.610613e+09</td>\n    </tr>\n    <tr>\n      <th>204</th>\n      <td>2021-02-26</td>\n      <td>0022000509</td>\n      <td>Memphis Grizzlies</td>\n      <td>1.610613e+09</td>\n      <td>LA Clippers</td>\n      <td>1.610613e+09</td>\n    </tr>\n    <tr>\n      <th>205</th>\n      <td>2021-02-26</td>\n      <td>0022000510</td>\n      <td>Oklahoma City Thunder</td>\n      <td>1.610613e+09</td>\n      <td>Atlanta Hawks</td>\n      <td>1.610613e+09</td>\n    </tr>\n    <tr>\n      <th>206</th>\n      <td>2021-02-26</td>\n      <td>0022000511</td>\n      <td>Golden State Warriors</td>\n      <td>1.610613e+09</td>\n      <td>Charlotte Hornets</td>\n      <td>1.610613e+09</td>\n    </tr>\n    <tr>\n      <th>207</th>\n      <td>2021-02-26</td>\n      <td>0022000512</td>\n      <td>Los Angeles Lakers</td>\n      <td>1.610613e+09</td>\n      <td>Portland Trail Blazers</td>\n      <td>1.610613e+09</td>\n    </tr>\n    <tr>\n      <th>208</th>\n      <td>2021-02-27</td>\n      <td>0022000513</td>\n      <td>Philadelphia 76ers</td>\n      <td>1.610613e+09</td>\n      <td>Cleveland Cavaliers</td>\n      <td>1.610613e+09</td>\n    </tr>\n    <tr>\n      <th>209</th>\n      <td>2021-02-27</td>\n      <td>0022000517</td>\n      <td>Washington Wizards</td>\n      <td>1.610613e+09</td>\n      <td>Minnesota Timberwolves</td>\n      <td>1.610613e+09</td>\n    </tr>\n    <tr>\n      <th>210</th>\n      <td>2021-02-27</td>\n      <td>0022000514</td>\n      <td>San Antonio Spurs</td>\n      <td>1.610613e+09</td>\n      <td>New Orleans Pelicans</td>\n      <td>1.610613e+09</td>\n    </tr>\n    <tr>\n      <th>211</th>\n      <td>2021-02-27</td>\n      <td>0022000515</td>\n      <td>New York Knicks</td>\n      <td>1.610613e+09</td>\n      <td>Indiana Pacers</td>\n      <td>1.610613e+09</td>\n    </tr>\n    <tr>\n      <th>212</th>\n      <td>2021-02-27</td>\n      <td>0022000516</td>\n      <td>Orlando Magic</td>\n      <td>1.610613e+09</td>\n      <td>Utah Jazz</td>\n      <td>1.610613e+09</td>\n    </tr>\n    <tr>\n      <th>213</th>\n      <td>2021-02-27</td>\n      <td>0022000518</td>\n      <td>Oklahoma City Thunder</td>\n      <td>1.610613e+09</td>\n      <td>Denver Nuggets</td>\n      <td>1.610613e+09</td>\n    </tr>\n    <tr>\n      <th>214</th>\n      <td>2021-02-27</td>\n      <td>0022000519</td>\n      <td>Brooklyn Nets</td>\n      <td>1.610613e+09</td>\n      <td>Dallas Mavericks</td>\n      <td>1.610613e+09</td>\n    </tr>\n    <tr>\n      <th>215</th>\n      <td>2021-02-28</td>\n      <td>0022000520</td>\n      <td>Milwaukee Bucks</td>\n      <td>1.610613e+09</td>\n      <td>LA Clippers</td>\n      <td>1.610613e+09</td>\n    </tr>\n    <tr>\n      <th>216</th>\n      <td>2021-02-28</td>\n      <td>0022000523</td>\n      <td>Toronto Raptors</td>\n      <td>1.610613e+09</td>\n      <td>Chicago Bulls</td>\n      <td>1.610613e+09</td>\n    </tr>\n    <tr>\n      <th>217</th>\n      <td>2021-02-28</td>\n      <td>0022000524</td>\n      <td>Boston Celtics</td>\n      <td>1.610613e+09</td>\n      <td>Washington Wizards</td>\n      <td>1.610613e+09</td>\n    </tr>\n    <tr>\n      <th>218</th>\n      <td>2021-02-28</td>\n      <td>0022000521</td>\n      <td>Detroit Pistons</td>\n      <td>1.610613e+09</td>\n      <td>New York Knicks</td>\n      <td>1.610613e+09</td>\n    </tr>\n    <tr>\n      <th>219</th>\n      <td>2021-02-28</td>\n      <td>0022000522</td>\n      <td>Miami Heat</td>\n      <td>1.610613e+09</td>\n      <td>Atlanta Hawks</td>\n      <td>1.610613e+09</td>\n    </tr>\n    <tr>\n      <th>220</th>\n      <td>2021-02-28</td>\n      <td>0022000525</td>\n      <td>Houston Rockets</td>\n      <td>1.610613e+09</td>\n      <td>Memphis Grizzlies</td>\n      <td>1.610613e+09</td>\n    </tr>\n    <tr>\n      <th>221</th>\n      <td>2021-02-28</td>\n      <td>0022000527</td>\n      <td>Los Angeles Lakers</td>\n      <td>1.610613e+09</td>\n      <td>Golden State Warriors</td>\n      <td>1.610613e+09</td>\n    </tr>\n    <tr>\n      <th>222</th>\n      <td>2021-02-28</td>\n      <td>0022000526</td>\n      <td>Minnesota Timberwolves</td>\n      <td>1.610613e+09</td>\n      <td>Phoenix Suns</td>\n      <td>1.610613e+09</td>\n    </tr>\n    <tr>\n      <th>223</th>\n      <td>2021-02-28</td>\n      <td>0022000528</td>\n      <td>Sacramento Kings</td>\n      <td>1.610613e+09</td>\n      <td>Charlotte Hornets</td>\n      <td>1.610613e+09</td>\n    </tr>\n  </tbody>\n</table>\n</div>"
     },
     "execution_count": 11,
     "metadata": {},
     "output_type": "execute_result"
    }
   ],
   "source": [
    "filtered_games_week"
   ],
   "metadata": {
    "collapsed": false,
    "pycharm": {
     "name": "#%%\n"
    }
   }
  },
  {
   "cell_type": "code",
   "execution_count": 13,
   "outputs": [
    {
     "data": {
      "text/plain": "{'Patty Mills': 3,\n 'Gary Trent Jr.': 3,\n 'Malcolm Brogdon': 4,\n 'Jimmy Butler': 4,\n 'Jae Crowder': 4,\n 'Duncan Robinson': 4,\n 'Wendell Carter Jr.': 4,\n 'Enes Kanter': 3,\n 'Kyle Kuzma': 4,\n 'Cameron Johnson': 4,\n 'Marcus Smart': 4,\n 'Khris Middleton': 3,\n 'Nikola Jokic': 3,\n 'Pascal Siakam': 4,\n 'Jeremy Lamb': 4}"
     },
     "execution_count": 13,
     "metadata": {},
     "output_type": "execute_result"
    }
   ],
   "source": [
    "player_games_dictionary\n",
    "\n"
   ],
   "metadata": {
    "collapsed": false,
    "pycharm": {
     "name": "#%%\n"
    }
   }
  },
  {
   "cell_type": "code",
   "execution_count": null,
   "outputs": [],
   "source": [],
   "metadata": {
    "collapsed": false,
    "pycharm": {
     "name": "#%%\n"
    }
   }
  },
  {
   "cell_type": "code",
   "execution_count": 18,
   "outputs": [
    {
     "name": "stderr",
     "output_type": "stream",
     "text": [
      "[2021-02-22 22:44:53,890 DEBUG] [yahoo_oauth.oauth.__init__] Checking \n",
      "[2021-02-22 22:44:53,893 DEBUG] [yahoo_oauth.oauth.token_is_valid] ELAPSED TIME : 2134.016390323639\n",
      "[2021-02-22 22:44:53,894 DEBUG] [yahoo_oauth.oauth.token_is_valid] TOKEN IS STILL VALID\n",
      "[2021-02-22 22:44:55,725 DEBUG] [yahoo_oauth.oauth.__init__] Checking \n",
      "[2021-02-22 22:44:55,728 DEBUG] [yahoo_oauth.oauth.token_is_valid] ELAPSED TIME : 2135.8518550395966\n",
      "[2021-02-22 22:44:55,729 DEBUG] [yahoo_oauth.oauth.token_is_valid] TOKEN IS STILL VALID\n"
     ]
    }
   ],
   "source": [
    "season_games_dataframe = get_game_information_in_season(2020)\n",
    "fantasy_week, week_start_date, week_end_date = get_week_current_week_information()\n",
    "filtered_games_week, team_game_counts = get_fantasy_week_games_dataframe\\\n",
    "    (season_games_dataframe, week_start_date, week_end_date)\n",
    "player_id_name_team_list, player_name_list = get_player_ids_names_in_fantasy_team(af\n",
    "                                                                            .NUNN_OF_YALL_BETTA)"
   ],
   "metadata": {
    "collapsed": false,
    "pycharm": {
     "name": "#%%\n"
    }
   }
  },
  {
   "cell_type": "code",
   "execution_count": 24,
   "outputs": [],
   "source": [
    "filtered_filtered_games_week = filtered_games_week[filtered_games_week[\"gdte\"] == \"2021-02-22\"]"
   ],
   "metadata": {
    "collapsed": false,
    "pycharm": {
     "name": "#%%\n"
    }
   }
  },
  {
   "cell_type": "code",
   "execution_count": 27,
   "outputs": [
    {
     "data": {
      "text/plain": "San Antonio Spurs         1\nUtah Jazz                 1\nOklahoma City Thunder     1\nMiami Heat                1\nPortland Trail Blazers    1\nWashington Wizards        1\nPhoenix Suns              1\nHouston Rockets           1\nLos Angeles Lakers        1\nIndiana Pacers            1\nChicago Bulls             1\nCharlotte Hornets         1\nDallas Mavericks          1\nMemphis Grizzlies         1\ndtype: int64"
     },
     "execution_count": 27,
     "metadata": {},
     "output_type": "execute_result"
    }
   ],
   "source": [
    "team_game_counts = filtered_filtered_games_week[HOME_KEY].append\\\n",
    "    (filtered_filtered_games_week[VISITORS_KEY]).value_counts()\n",
    "team_game_counts"
   ],
   "metadata": {
    "collapsed": false,
    "pycharm": {
     "name": "#%%\n"
    }
   }
  },
  {
   "cell_type": "code",
   "execution_count": 29,
   "outputs": [
    {
     "name": "stderr",
     "output_type": "stream",
     "text": [
      "[2021-02-22 22:49:32,068 DEBUG] [yahoo_oauth.oauth.__init__] Checking \n",
      "[2021-02-22 22:49:32,071 DEBUG] [yahoo_oauth.oauth.token_is_valid] ELAPSED TIME : 2412.1949574947357\n",
      "[2021-02-22 22:49:32,072 DEBUG] [yahoo_oauth.oauth.token_is_valid] TOKEN IS STILL VALID\n"
     ]
    }
   ],
   "source": [
    "player_id_name_team_list, player_name_list = get_player_ids_names_in_fantasy_team(af\n",
    "                                                                            .NUNN_OF_YALL_BETTA)"
   ],
   "metadata": {
    "collapsed": false,
    "pycharm": {
     "name": "#%%\n"
    }
   }
  },
  {
   "cell_type": "code",
   "execution_count": 30,
   "outputs": [
    {
     "name": "stderr",
     "output_type": "stream",
     "text": [
      "[2021-02-22 22:49:40,767 DEBUG] [yahoo_oauth.oauth.__init__] Checking \n",
      "[2021-02-22 22:49:40,771 DEBUG] [yahoo_oauth.oauth.token_is_valid] ELAPSED TIME : 2420.8945808410645\n",
      "[2021-02-22 22:49:40,772 DEBUG] [yahoo_oauth.oauth.token_is_valid] TOKEN IS STILL VALID\n",
      "[2021-02-22 22:49:41,714 DEBUG] [yahoo_oauth.oauth.__init__] Checking \n",
      "[2021-02-22 22:49:41,716 DEBUG] [yahoo_oauth.oauth.token_is_valid] ELAPSED TIME : 2421.840026140213\n",
      "[2021-02-22 22:49:41,717 DEBUG] [yahoo_oauth.oauth.token_is_valid] TOKEN IS STILL VALID\n",
      "[2021-02-22 22:49:42,768 DEBUG] [yahoo_oauth.oauth.__init__] Checking \n",
      "[2021-02-22 22:49:42,772 DEBUG] [yahoo_oauth.oauth.token_is_valid] ELAPSED TIME : 2422.8954632282257\n",
      "[2021-02-22 22:49:42,773 DEBUG] [yahoo_oauth.oauth.token_is_valid] TOKEN IS STILL VALID\n",
      "[2021-02-22 22:49:43,790 DEBUG] [yahoo_oauth.oauth.__init__] Checking \n",
      "[2021-02-22 22:49:43,793 DEBUG] [yahoo_oauth.oauth.token_is_valid] ELAPSED TIME : 2423.916601419449\n",
      "[2021-02-22 22:49:43,794 DEBUG] [yahoo_oauth.oauth.token_is_valid] TOKEN IS STILL VALID\n",
      "[2021-02-22 22:49:44,720 DEBUG] [yahoo_oauth.oauth.__init__] Checking \n",
      "[2021-02-22 22:49:44,722 DEBUG] [yahoo_oauth.oauth.token_is_valid] ELAPSED TIME : 2424.8450775146484\n",
      "[2021-02-22 22:49:44,723 DEBUG] [yahoo_oauth.oauth.token_is_valid] TOKEN IS STILL VALID\n",
      "[2021-02-22 22:49:45,610 DEBUG] [yahoo_oauth.oauth.__init__] Checking \n",
      "[2021-02-22 22:49:45,613 DEBUG] [yahoo_oauth.oauth.token_is_valid] ELAPSED TIME : 2425.736652612686\n",
      "[2021-02-22 22:49:45,614 DEBUG] [yahoo_oauth.oauth.token_is_valid] TOKEN IS STILL VALID\n",
      "[2021-02-22 22:49:46,515 DEBUG] [yahoo_oauth.oauth.__init__] Checking \n",
      "[2021-02-22 22:49:46,518 DEBUG] [yahoo_oauth.oauth.token_is_valid] ELAPSED TIME : 2426.6415963172913\n",
      "[2021-02-22 22:49:46,518 DEBUG] [yahoo_oauth.oauth.token_is_valid] TOKEN IS STILL VALID\n",
      "[2021-02-22 22:49:47,437 DEBUG] [yahoo_oauth.oauth.__init__] Checking \n",
      "[2021-02-22 22:49:47,444 DEBUG] [yahoo_oauth.oauth.token_is_valid] ELAPSED TIME : 2427.567445755005\n",
      "[2021-02-22 22:49:47,446 DEBUG] [yahoo_oauth.oauth.token_is_valid] TOKEN IS STILL VALID\n",
      "[2021-02-22 22:49:48,405 DEBUG] [yahoo_oauth.oauth.__init__] Checking \n",
      "[2021-02-22 22:49:48,409 DEBUG] [yahoo_oauth.oauth.token_is_valid] ELAPSED TIME : 2428.532858610153\n",
      "[2021-02-22 22:49:48,411 DEBUG] [yahoo_oauth.oauth.token_is_valid] TOKEN IS STILL VALID\n",
      "[2021-02-22 22:49:49,310 DEBUG] [yahoo_oauth.oauth.__init__] Checking \n",
      "[2021-02-22 22:49:49,313 DEBUG] [yahoo_oauth.oauth.token_is_valid] ELAPSED TIME : 2429.4363005161285\n",
      "[2021-02-22 22:49:49,314 DEBUG] [yahoo_oauth.oauth.token_is_valid] TOKEN IS STILL VALID\n",
      "[2021-02-22 22:49:50,383 DEBUG] [yahoo_oauth.oauth.__init__] Checking \n",
      "[2021-02-22 22:49:50,386 DEBUG] [yahoo_oauth.oauth.token_is_valid] ELAPSED TIME : 2430.509081363678\n",
      "[2021-02-22 22:49:50,386 DEBUG] [yahoo_oauth.oauth.token_is_valid] TOKEN IS STILL VALID\n",
      "[2021-02-22 22:49:51,503 DEBUG] [yahoo_oauth.oauth.__init__] Checking \n",
      "[2021-02-22 22:49:51,507 DEBUG] [yahoo_oauth.oauth.token_is_valid] ELAPSED TIME : 2431.6301271915436\n",
      "[2021-02-22 22:49:51,508 DEBUG] [yahoo_oauth.oauth.token_is_valid] TOKEN IS STILL VALID\n",
      "[2021-02-22 22:49:52,514 DEBUG] [yahoo_oauth.oauth.__init__] Checking \n",
      "[2021-02-22 22:49:52,517 DEBUG] [yahoo_oauth.oauth.token_is_valid] ELAPSED TIME : 2432.640104532242\n",
      "[2021-02-22 22:49:52,518 DEBUG] [yahoo_oauth.oauth.token_is_valid] TOKEN IS STILL VALID\n",
      "[2021-02-22 22:49:53,464 DEBUG] [yahoo_oauth.oauth.__init__] Checking \n",
      "[2021-02-22 22:49:53,470 DEBUG] [yahoo_oauth.oauth.token_is_valid] ELAPSED TIME : 2433.593605995178\n",
      "[2021-02-22 22:49:53,471 DEBUG] [yahoo_oauth.oauth.token_is_valid] TOKEN IS STILL VALID\n",
      "[2021-02-22 22:49:54,369 DEBUG] [yahoo_oauth.oauth.__init__] Checking \n",
      "[2021-02-22 22:49:54,373 DEBUG] [yahoo_oauth.oauth.token_is_valid] ELAPSED TIME : 2434.496448278427\n",
      "[2021-02-22 22:49:54,373 DEBUG] [yahoo_oauth.oauth.token_is_valid] TOKEN IS STILL VALID\n"
     ]
    },
    {
     "data": {
      "text/plain": "{'Patty Mills': 1,\n 'Gary Trent Jr.': 1,\n 'Malcolm Brogdon': 1,\n 'Jimmy Butler': 1,\n 'Jae Crowder': 1,\n 'Duncan Robinson': 1,\n 'Wendell Carter Jr.': 1,\n 'Enes Kanter': 1,\n 'Kyle Kuzma': 1,\n 'Cameron Johnson': 1,\n 'Marcus Smart': 0,\n 'Khris Middleton': 0,\n 'Nikola Jokic': 0,\n 'Pascal Siakam': 0,\n 'Jeremy Lamb': 1}"
     },
     "execution_count": 30,
     "metadata": {},
     "output_type": "execute_result"
    }
   ],
   "source": [
    "player_games_dictionary = get_player_games(team_game_counts, player_name_list)"
   ],
   "metadata": {
    "collapsed": false,
    "pycharm": {
     "name": "#%%\n"
    }
   }
  },
  {
   "cell_type": "code",
   "execution_count": 35,
   "outputs": [
    {
     "name": "stderr",
     "output_type": "stream",
     "text": [
      "[2021-02-22 23:00:23,445 DEBUG] [yahoo_oauth.oauth.__init__] Checking \n",
      "[2021-02-22 23:00:23,448 DEBUG] [yahoo_oauth.oauth.token_is_valid] ELAPSED TIME : 3063.57178068161\n",
      "[2021-02-22 23:00:23,449 DEBUG] [yahoo_oauth.oauth.token_is_valid] TOKEN IS STILL VALID\n",
      "[2021-02-22 23:00:24,343 DEBUG] [yahoo_oauth.oauth.__init__] Checking \n",
      "[2021-02-22 23:00:24,347 DEBUG] [yahoo_oauth.oauth.token_is_valid] ELAPSED TIME : 3064.4704389572144\n",
      "[2021-02-22 23:00:24,348 DEBUG] [yahoo_oauth.oauth.token_is_valid] TOKEN IS STILL VALID\n",
      "[2021-02-22 23:00:25,306 DEBUG] [yahoo_oauth.oauth.__init__] Checking \n",
      "[2021-02-22 23:00:25,309 DEBUG] [yahoo_oauth.oauth.token_is_valid] ELAPSED TIME : 3065.4322288036346\n",
      "[2021-02-22 23:00:25,310 DEBUG] [yahoo_oauth.oauth.token_is_valid] TOKEN IS STILL VALID\n",
      "[2021-02-22 23:00:26,241 DEBUG] [yahoo_oauth.oauth.__init__] Checking \n",
      "[2021-02-22 23:00:26,244 DEBUG] [yahoo_oauth.oauth.token_is_valid] ELAPSED TIME : 3066.367441177368\n",
      "[2021-02-22 23:00:26,245 DEBUG] [yahoo_oauth.oauth.token_is_valid] TOKEN IS STILL VALID\n",
      "[2021-02-22 23:00:27,227 DEBUG] [yahoo_oauth.oauth.__init__] Checking \n",
      "[2021-02-22 23:00:27,230 DEBUG] [yahoo_oauth.oauth.token_is_valid] ELAPSED TIME : 3067.353756427765\n",
      "[2021-02-22 23:00:27,231 DEBUG] [yahoo_oauth.oauth.token_is_valid] TOKEN IS STILL VALID\n",
      "[2021-02-22 23:00:28,155 DEBUG] [yahoo_oauth.oauth.__init__] Checking \n",
      "[2021-02-22 23:00:28,162 DEBUG] [yahoo_oauth.oauth.token_is_valid] ELAPSED TIME : 3068.2857954502106\n",
      "[2021-02-22 23:00:28,163 DEBUG] [yahoo_oauth.oauth.token_is_valid] TOKEN IS STILL VALID\n",
      "[2021-02-22 23:00:29,057 DEBUG] [yahoo_oauth.oauth.__init__] Checking \n",
      "[2021-02-22 23:00:29,066 DEBUG] [yahoo_oauth.oauth.token_is_valid] ELAPSED TIME : 3069.189290046692\n",
      "[2021-02-22 23:00:29,068 DEBUG] [yahoo_oauth.oauth.token_is_valid] TOKEN IS STILL VALID\n",
      "[2021-02-22 23:00:30,017 DEBUG] [yahoo_oauth.oauth.__init__] Checking \n",
      "[2021-02-22 23:00:30,021 DEBUG] [yahoo_oauth.oauth.token_is_valid] ELAPSED TIME : 3070.14484167099\n",
      "[2021-02-22 23:00:30,022 DEBUG] [yahoo_oauth.oauth.token_is_valid] TOKEN IS STILL VALID\n",
      "[2021-02-22 23:00:30,921 DEBUG] [yahoo_oauth.oauth.__init__] Checking \n",
      "[2021-02-22 23:00:30,924 DEBUG] [yahoo_oauth.oauth.token_is_valid] ELAPSED TIME : 3071.047342300415\n",
      "[2021-02-22 23:00:30,925 DEBUG] [yahoo_oauth.oauth.token_is_valid] TOKEN IS STILL VALID\n",
      "[2021-02-22 23:00:31,838 DEBUG] [yahoo_oauth.oauth.__init__] Checking \n",
      "[2021-02-22 23:00:31,845 DEBUG] [yahoo_oauth.oauth.token_is_valid] ELAPSED TIME : 3071.96857213974\n",
      "[2021-02-22 23:00:31,847 DEBUG] [yahoo_oauth.oauth.token_is_valid] TOKEN IS STILL VALID\n",
      "[2021-02-22 23:00:32,744 DEBUG] [yahoo_oauth.oauth.__init__] Checking \n",
      "[2021-02-22 23:00:32,748 DEBUG] [yahoo_oauth.oauth.token_is_valid] ELAPSED TIME : 3072.8719379901886\n",
      "[2021-02-22 23:00:32,749 DEBUG] [yahoo_oauth.oauth.token_is_valid] TOKEN IS STILL VALID\n",
      "[2021-02-22 23:00:33,646 DEBUG] [yahoo_oauth.oauth.__init__] Checking \n",
      "[2021-02-22 23:00:33,649 DEBUG] [yahoo_oauth.oauth.token_is_valid] ELAPSED TIME : 3073.772864818573\n",
      "[2021-02-22 23:00:33,650 DEBUG] [yahoo_oauth.oauth.token_is_valid] TOKEN IS STILL VALID\n",
      "[2021-02-22 23:00:34,628 DEBUG] [yahoo_oauth.oauth.__init__] Checking \n",
      "[2021-02-22 23:00:34,632 DEBUG] [yahoo_oauth.oauth.token_is_valid] ELAPSED TIME : 3074.7559847831726\n",
      "[2021-02-22 23:00:34,634 DEBUG] [yahoo_oauth.oauth.token_is_valid] TOKEN IS STILL VALID\n",
      "[2021-02-22 23:00:35,604 DEBUG] [yahoo_oauth.oauth.__init__] Checking \n",
      "[2021-02-22 23:00:35,608 DEBUG] [yahoo_oauth.oauth.token_is_valid] ELAPSED TIME : 3075.7316064834595\n",
      "[2021-02-22 23:00:35,608 DEBUG] [yahoo_oauth.oauth.token_is_valid] TOKEN IS STILL VALID\n",
      "[2021-02-22 23:00:36,528 DEBUG] [yahoo_oauth.oauth.__init__] Checking \n",
      "[2021-02-22 23:00:36,530 DEBUG] [yahoo_oauth.oauth.token_is_valid] ELAPSED TIME : 3076.6537568569183\n",
      "[2021-02-22 23:00:36,531 DEBUG] [yahoo_oauth.oauth.token_is_valid] TOKEN IS STILL VALID\n"
     ]
    }
   ],
   "source": [
    "team_name_list = list()\n",
    "for player in player_name_list:\n",
    "    team = af.yahoo_player_team_and_jersey(player)[0]\n",
    "    team_name_list.append(team)"
   ],
   "metadata": {
    "collapsed": false,
    "pycharm": {
     "name": "#%%\n"
    }
   }
  },
  {
   "cell_type": "code",
   "execution_count": 6,
   "outputs": [],
   "source": [
    "def get_team_name_list_from_player_name_list(player_name_list):\n",
    "    \"\"\"\n",
    "\n",
    "    @param player_name_list:\n",
    "    @return:\n",
    "    \"\"\"\n",
    "    team_name_list = list()\n",
    "    for player in player_name_list:\n",
    "        team = af.yahoo_player_team_and_jersey(player)[0]\n",
    "        team_name_list.append(team)\n",
    "    return player_name_list, team_name_list\n",
    "\n",
    "def daily_get_player_games(team_game_counts_series, player_name_list, team_name_list):\n",
    "    \"\"\"\n",
    "\n",
    "    @param team_game_counts_series:\n",
    "    @param player_name_list:\n",
    "    @param team_name_list:\n",
    "    @return:\n",
    "    \"\"\"\n",
    "    player_games_dictionary = dict()\n",
    "    team_game_counts_dataframe = pd.DataFrame(team_game_counts_series)\n",
    "    team_game_counts_dataframe.reset_index(inplace=True)\n",
    "    team_game_counts_dataframe = team_game_counts_dataframe.replace(NBA_NAME_LA_CLIPPERS,\n",
    "                                                                    YAHOO_NAME_LA_CLIPPERS)\n",
    "    for player, team in zip(player_name_list,team_name_list):\n",
    "        try:\n",
    "            player_games_dictionary[player] = \\\n",
    "            team_game_counts_dataframe[team_game_counts_dataframe[\"index\"] == team][0].iloc[0]\n",
    "        except IndexError:\n",
    "            player_games_dictionary[player] = 0\n",
    "    return player_games_dictionary"
   ],
   "metadata": {
    "collapsed": false,
    "pycharm": {
     "name": "#%%\n"
    }
   }
  },
  {
   "cell_type": "code",
   "execution_count": 7,
   "outputs": [
    {
     "name": "stderr",
     "output_type": "stream",
     "text": [
      "[2021-02-22 23:31:25,325 DEBUG] [yahoo_oauth.oauth.__init__] Checking \n",
      "[2021-02-22 23:31:25,328 DEBUG] [yahoo_oauth.oauth.token_is_valid] ELAPSED TIME : 22.633565425872803\n",
      "[2021-02-22 23:31:25,329 DEBUG] [yahoo_oauth.oauth.token_is_valid] TOKEN IS STILL VALID\n",
      "[2021-02-22 23:31:27,173 DEBUG] [yahoo_oauth.oauth.__init__] Checking \n",
      "[2021-02-22 23:31:27,175 DEBUG] [yahoo_oauth.oauth.token_is_valid] ELAPSED TIME : 24.48088788986206\n",
      "[2021-02-22 23:31:27,176 DEBUG] [yahoo_oauth.oauth.token_is_valid] TOKEN IS STILL VALID\n",
      "[2021-02-22 23:31:28,204 DEBUG] [yahoo_oauth.oauth.__init__] Checking \n",
      "[2021-02-22 23:31:28,207 DEBUG] [yahoo_oauth.oauth.token_is_valid] ELAPSED TIME : 25.51259684562683\n",
      "[2021-02-22 23:31:28,208 DEBUG] [yahoo_oauth.oauth.token_is_valid] TOKEN IS STILL VALID\n",
      "[2021-02-22 23:31:29,117 DEBUG] [yahoo_oauth.oauth.__init__] Checking \n",
      "[2021-02-22 23:31:29,119 DEBUG] [yahoo_oauth.oauth.token_is_valid] ELAPSED TIME : 26.42459464073181\n",
      "[2021-02-22 23:31:29,120 DEBUG] [yahoo_oauth.oauth.token_is_valid] TOKEN IS STILL VALID\n",
      "[2021-02-22 23:31:30,045 DEBUG] [yahoo_oauth.oauth.__init__] Checking \n",
      "[2021-02-22 23:31:30,054 DEBUG] [yahoo_oauth.oauth.token_is_valid] ELAPSED TIME : 27.3597354888916\n",
      "[2021-02-22 23:31:30,054 DEBUG] [yahoo_oauth.oauth.token_is_valid] TOKEN IS STILL VALID\n",
      "[2021-02-22 23:31:31,043 DEBUG] [yahoo_oauth.oauth.__init__] Checking \n",
      "[2021-02-22 23:31:31,046 DEBUG] [yahoo_oauth.oauth.token_is_valid] ELAPSED TIME : 28.352400302886963\n",
      "[2021-02-22 23:31:31,046 DEBUG] [yahoo_oauth.oauth.token_is_valid] TOKEN IS STILL VALID\n",
      "[2021-02-22 23:31:32,016 DEBUG] [yahoo_oauth.oauth.__init__] Checking \n",
      "[2021-02-22 23:31:32,020 DEBUG] [yahoo_oauth.oauth.token_is_valid] ELAPSED TIME : 29.32579255104065\n",
      "[2021-02-22 23:31:32,021 DEBUG] [yahoo_oauth.oauth.token_is_valid] TOKEN IS STILL VALID\n",
      "[2021-02-22 23:31:32,979 DEBUG] [yahoo_oauth.oauth.__init__] Checking \n",
      "[2021-02-22 23:31:32,981 DEBUG] [yahoo_oauth.oauth.token_is_valid] ELAPSED TIME : 30.287043571472168\n",
      "[2021-02-22 23:31:32,982 DEBUG] [yahoo_oauth.oauth.token_is_valid] TOKEN IS STILL VALID\n",
      "[2021-02-22 23:31:33,970 DEBUG] [yahoo_oauth.oauth.__init__] Checking \n",
      "[2021-02-22 23:31:33,974 DEBUG] [yahoo_oauth.oauth.token_is_valid] ELAPSED TIME : 31.280399799346924\n",
      "[2021-02-22 23:31:33,975 DEBUG] [yahoo_oauth.oauth.token_is_valid] TOKEN IS STILL VALID\n",
      "[2021-02-22 23:31:34,931 DEBUG] [yahoo_oauth.oauth.__init__] Checking \n",
      "[2021-02-22 23:31:34,935 DEBUG] [yahoo_oauth.oauth.token_is_valid] ELAPSED TIME : 32.241050243377686\n",
      "[2021-02-22 23:31:34,936 DEBUG] [yahoo_oauth.oauth.token_is_valid] TOKEN IS STILL VALID\n",
      "[2021-02-22 23:31:35,904 DEBUG] [yahoo_oauth.oauth.__init__] Checking \n",
      "[2021-02-22 23:31:35,908 DEBUG] [yahoo_oauth.oauth.token_is_valid] ELAPSED TIME : 33.214067459106445\n",
      "[2021-02-22 23:31:35,909 DEBUG] [yahoo_oauth.oauth.token_is_valid] TOKEN IS STILL VALID\n",
      "[2021-02-22 23:31:36,917 DEBUG] [yahoo_oauth.oauth.__init__] Checking \n",
      "[2021-02-22 23:31:36,920 DEBUG] [yahoo_oauth.oauth.token_is_valid] ELAPSED TIME : 34.226048946380615\n",
      "[2021-02-22 23:31:36,921 DEBUG] [yahoo_oauth.oauth.token_is_valid] TOKEN IS STILL VALID\n",
      "[2021-02-22 23:31:37,888 DEBUG] [yahoo_oauth.oauth.__init__] Checking \n",
      "[2021-02-22 23:31:37,893 DEBUG] [yahoo_oauth.oauth.token_is_valid] ELAPSED TIME : 35.19894981384277\n",
      "[2021-02-22 23:31:37,894 DEBUG] [yahoo_oauth.oauth.token_is_valid] TOKEN IS STILL VALID\n",
      "[2021-02-22 23:31:38,830 DEBUG] [yahoo_oauth.oauth.__init__] Checking \n",
      "[2021-02-22 23:31:38,833 DEBUG] [yahoo_oauth.oauth.token_is_valid] ELAPSED TIME : 36.138625383377075\n",
      "[2021-02-22 23:31:38,834 DEBUG] [yahoo_oauth.oauth.token_is_valid] TOKEN IS STILL VALID\n",
      "[2021-02-22 23:31:39,829 DEBUG] [yahoo_oauth.oauth.__init__] Checking \n",
      "[2021-02-22 23:31:39,832 DEBUG] [yahoo_oauth.oauth.token_is_valid] ELAPSED TIME : 37.13770532608032\n",
      "[2021-02-22 23:31:39,833 DEBUG] [yahoo_oauth.oauth.token_is_valid] TOKEN IS STILL VALID\n",
      "[2021-02-22 23:31:40,755 DEBUG] [yahoo_oauth.oauth.__init__] Checking \n",
      "[2021-02-22 23:31:40,764 DEBUG] [yahoo_oauth.oauth.token_is_valid] ELAPSED TIME : 38.07010817527771\n",
      "[2021-02-22 23:31:40,766 DEBUG] [yahoo_oauth.oauth.token_is_valid] TOKEN IS STILL VALID\n",
      "[2021-02-22 23:31:41,674 DEBUG] [yahoo_oauth.oauth.__init__] Checking \n",
      "[2021-02-22 23:31:41,677 DEBUG] [yahoo_oauth.oauth.token_is_valid] ELAPSED TIME : 38.98310875892639\n",
      "[2021-02-22 23:31:41,678 DEBUG] [yahoo_oauth.oauth.token_is_valid] TOKEN IS STILL VALID\n"
     ]
    }
   ],
   "source": [
    "season_games_dataframe = get_game_information_in_season(2020)\n",
    "fantasy_week, week_start_date, week_end_date = get_week_current_week_information()\n",
    "filtered_games_week, team_game_counts = get_fantasy_week_games_dataframe\\\n",
    "    (season_games_dataframe, week_start_date, week_end_date)\n",
    "\n",
    "\n",
    "player_id_name_team_list, player_name_list = get_player_ids_names_in_fantasy_team(af\n",
    "                                                                            .NUNN_OF_YALL_BETTA)\n",
    "player_name_list, team_name_list = get_team_name_list_from_player_name_list(player_name_list)\n",
    "\n",
    "daily_game_count_list = list()\n",
    "for day in list(filtered_games_week[\"gdte\"].unique()):\n",
    "    daily_dataframe = filtered_games_week[filtered_games_week[\"gdte\"] == day]\n",
    "    daily_team_game_counts = daily_dataframe[HOME_KEY].append(daily_dataframe[VISITORS_KEY])\\\n",
    "        .value_counts()\n",
    "    player_games_dictionary = daily_get_player_games(daily_team_game_counts, player_name_list,\n",
    "                                                     team_name_list)\n",
    "    daily_game_count_list.append(sum(list(player_games_dictionary.values())))\n",
    "cleaned_daily_game_count_list = [10 if i >= 10 else i for i in daily_game_count_list]"
   ],
   "metadata": {
    "collapsed": false,
    "pycharm": {
     "name": "#%%\n"
    }
   }
  },
  {
   "cell_type": "code",
   "execution_count": 51,
   "outputs": [
    {
     "data": {
      "text/plain": "[11, 6, 11, 2, 12, 4, 9]"
     },
     "execution_count": 51,
     "metadata": {},
     "output_type": "execute_result"
    }
   ],
   "source": [
    "daily_game_count_list"
   ],
   "metadata": {
    "collapsed": false,
    "pycharm": {
     "name": "#%%\n"
    }
   }
  },
  {
   "cell_type": "code",
   "execution_count": 10,
   "outputs": [
    {
     "data": {
      "text/plain": "[10, 6, 10, 2, 10, 4, 9]"
     },
     "execution_count": 10,
     "metadata": {},
     "output_type": "execute_result"
    }
   ],
   "source": [
    "cleaned_daily_game_count_list = [10 if i >= 10 else i for i in daily_game_count_list]\n",
    "cleaned_daily_game_count_list"
   ],
   "metadata": {
    "collapsed": false,
    "pycharm": {
     "name": "#%%\n"
    }
   }
  },
  {
   "cell_type": "code",
   "execution_count": 16,
   "outputs": [
    {
     "data": {
      "text/plain": "[51, 10, 6, 10, 2, 10, 4, 9]"
     },
     "execution_count": 16,
     "metadata": {},
     "output_type": "execute_result"
    }
   ],
   "source": [
    "total_and_daily_games_list = [sum(cleaned_daily_game_count_list)] + \\\n",
    "                             cleaned_daily_game_count_list\n",
    "total_and_daily_games_list"
   ],
   "metadata": {
    "collapsed": false,
    "pycharm": {
     "name": "#%%\n"
    }
   }
  },
  {
   "cell_type": "code",
   "execution_count": 22,
   "outputs": [
    {
     "data": {
      "text/plain": "     Total  Mon  Tue  Wed  Thu  Fri  Sat  Sun\nday     51   10    6   10    2   10    4    9",
      "text/html": "<div>\n<style scoped>\n    .dataframe tbody tr th:only-of-type {\n        vertical-align: middle;\n    }\n\n    .dataframe tbody tr th {\n        vertical-align: top;\n    }\n\n    .dataframe thead th {\n        text-align: right;\n    }\n</style>\n<table border=\"1\" class=\"dataframe\">\n  <thead>\n    <tr style=\"text-align: right;\">\n      <th></th>\n      <th>Total</th>\n      <th>Mon</th>\n      <th>Tue</th>\n      <th>Wed</th>\n      <th>Thu</th>\n      <th>Fri</th>\n      <th>Sat</th>\n      <th>Sun</th>\n    </tr>\n  </thead>\n  <tbody>\n    <tr>\n      <th>day</th>\n      <td>51</td>\n      <td>10</td>\n      <td>6</td>\n      <td>10</td>\n      <td>2</td>\n      <td>10</td>\n      <td>4</td>\n      <td>9</td>\n    </tr>\n  </tbody>\n</table>\n</div>"
     },
     "execution_count": 22,
     "metadata": {},
     "output_type": "execute_result"
    }
   ],
   "source": [
    "DAILY_COLUMNS = [\"Total\", \"Mon\", \"Tue\", \"Wed\", \"Thu\", \"Fri\", \"Sat\", \"Sun\"]\n",
    "matchup_daily_game_dataframe = pd.DataFrame()\n",
    "matchup_daily_game_dataframe[\"day\"] = total_and_daily_games_list\n",
    "matchup_daily_game_dataframe = matchup_daily_game_dataframe.T\n",
    "matchup_daily_game_dataframe.columns = DAILY_COLUMNS\n",
    "matchup_daily_game_dataframe"
   ],
   "metadata": {
    "collapsed": false,
    "pycharm": {
     "name": "#%%\n"
    }
   }
  },
  {
   "cell_type": "code",
   "execution_count": null,
   "outputs": [],
   "source": [
    "DAILY_COLUMNS = [\"Total\", \"Mon\", \"Tue\", \"Wed\", \"Thu\", \"Fri\", \"Sat\", \"Sun\"]\n",
    "def create_daily_game_count_dataframe(game_count_list, team_dict):\n",
    "    \"\"\"\n",
    "\n",
    "    @param game_count_list:\n",
    "    @return:\n",
    "    \"\"\"\n",
    "    matchup_daily_game_dataframe = pd.DataFrame()\n",
    "    matchup_daily_game_dataframe[team_dict[NAME_KEY]] = game_count_list\n",
    "    matchup_daily_game_dataframe = matchup_daily_game_dataframe.T\n",
    "    matchup_daily_game_dataframe.columns = DAILY_COLUMNS\n",
    "    return matchup_daily_game_dataframe"
   ],
   "metadata": {
    "collapsed": false,
    "pycharm": {
     "name": "#%%\n"
    }
   }
  },
  {
   "cell_type": "code",
   "execution_count": 43,
   "outputs": [],
   "source": [
    "DAILY_COLUMNS = [\"Total\", \"Mon\", \"Tue\", \"Wed\", \"Thu\", \"Fri\", \"Sat\", \"Sun\"]\n",
    "\n",
    "def get_team_name_list_from_player_name_list(player_name_list):\n",
    "    \"\"\"\n",
    "\n",
    "    @param player_name_list:\n",
    "    @return:\n",
    "    \"\"\"\n",
    "    team_name_list = list()\n",
    "    for player in player_name_list:\n",
    "        team = af.yahoo_player_team_and_jersey(player)[0]\n",
    "        team_name_list.append(team)\n",
    "    return player_name_list, team_name_list\n",
    "\n",
    "def daily_get_player_games(team_game_counts_series, player_name_list, team_name_list):\n",
    "    \"\"\"\n",
    "\n",
    "    @param team_game_counts_series:\n",
    "    @param player_name_list:\n",
    "    @param team_name_list:\n",
    "    @return:\n",
    "    \"\"\"\n",
    "    player_games_dictionary = dict()\n",
    "    team_game_counts_dataframe = pd.DataFrame(team_game_counts_series)\n",
    "    team_game_counts_dataframe.reset_index(inplace=True)\n",
    "    team_game_counts_dataframe = team_game_counts_dataframe.replace(NBA_NAME_LA_CLIPPERS,\n",
    "                                                                    YAHOO_NAME_LA_CLIPPERS)\n",
    "    for player, team in zip(player_name_list,team_name_list):\n",
    "        try:\n",
    "            player_games_dictionary[player] = \\\n",
    "            team_game_counts_dataframe[team_game_counts_dataframe[\"index\"] == team][0].iloc[0]\n",
    "        except IndexError:\n",
    "            player_games_dictionary[player] = 0\n",
    "    return player_games_dictionary\n",
    "\n",
    "def get_daily_game_count_list(filtered_games_week, player_name_list, team_name_list):\n",
    "\n",
    "    daily_game_count_list = list()\n",
    "    for day in list(filtered_games_week[\"gdte\"].unique()):\n",
    "        daily_dataframe = filtered_games_week[filtered_games_week[\"gdte\"] == day]\n",
    "        daily_team_game_counts = daily_dataframe[HOME_KEY].append(daily_dataframe[VISITORS_KEY])\\\n",
    "            .value_counts()\n",
    "        player_games_dictionary = daily_get_player_games(daily_team_game_counts, player_name_list,\n",
    "                                                         team_name_list)\n",
    "        daily_game_count_list.append(sum(list(player_games_dictionary.values())))\n",
    "    cleaned_daily_game_count_list = [10 if i >= 10 else i for i in daily_game_count_list]\n",
    "    return daily_game_count_list, cleaned_daily_game_count_list\n",
    "\n",
    "\n",
    "def get_matchup_days_as_column_names(filtered_games_week):\n",
    "    \"\"\"\n",
    "\n",
    "    @param filtered_games_week:\n",
    "    @return:\n",
    "    \"\"\"\n",
    "    matchup_column_names = list()\n",
    "    matchup_column_names.append(\"Total\")\n",
    "    matchup_column_names.append(\"Playable\")\n",
    "    for date in list(filtered_games_week[GDATE_KEY].unique()):\n",
    "        date_format = pd.to_datetime(str(date))\n",
    "        matchup_column_names.append(date_format.strftime(\"%a\"))\n",
    "    return matchup_column_names\n",
    "\n",
    "\n",
    "def create_daily_game_count_dataframe(game_count_list, team_dict, matchup_column_names):\n",
    "        \"\"\"\n",
    "\n",
    "        @param game_count_list:\n",
    "        @return:\n",
    "        \"\"\"\n",
    "        matchup_daily_game_dataframe = pd.DataFrame()\n",
    "        matchup_daily_game_dataframe[team_dict[NAME_KEY]] = game_count_list\n",
    "        matchup_daily_game_dataframe = matchup_daily_game_dataframe.T\n",
    "        matchup_daily_game_dataframe.columns = matchup_column_names\n",
    "        return matchup_daily_game_dataframe\n",
    "\n",
    "def get_team_daily_game_count_dataframe_pipeline(team_dict, week=\"current\"):\n",
    "    \"\"\"\n",
    "\n",
    "    @param season_games_dataframe:\n",
    "    @param week:\n",
    "    @return:\n",
    "    \"\"\"\n",
    "    season_games_dataframe = get_game_information_in_season(2020)\n",
    "    if week == \"next\":\n",
    "        fantasy_week, week_start_date, week_end_date = get_next_week_information()\n",
    "    elif week == \"current\":\n",
    "        fantasy_week, week_start_date, week_end_date = get_week_current_week_information()\n",
    "    else:\n",
    "        raise ValueError(\"Parameter 'week' must be 'current' or 'next'.\")\n",
    "    filtered_games_week, team_game_counts = get_fantasy_week_games_dataframe\\\n",
    "        (season_games_dataframe, week_start_date, week_end_date)\n",
    "    player_id_name_team_list, player_name_list = get_player_ids_names_in_fantasy_team(team_dict)\n",
    "    player_name_list, team_name_list = get_team_name_list_from_player_name_list(player_name_list)\n",
    "    daily_game_count_list, cleaned_daily_game_count_list = get_daily_game_count_list\\\n",
    "        (filtered_games_week, player_name_list, team_name_list)\n",
    "    total_and_daily_games_list = [sum(daily_game_count_list)] + [sum(cleaned_daily_game_count_list)]\\\n",
    "                                 + cleaned_daily_game_count_list\n",
    "    matchup_column_names = get_matchup_days_as_column_names(filtered_games_week)\n",
    "    team_daily_game_dataframe = create_daily_game_count_dataframe(total_and_daily_games_list,\n",
    "                                                                  team_dict, matchup_column_names)\n",
    "    return team_daily_game_dataframe\n",
    "\n",
    "def get_matchup_daily_game_count_dataframe_pipeline(team1_dict, team2_dict, week=\"current\"):\n",
    "    \"\"\"\n",
    "\n",
    "    @param team1_dict:\n",
    "    @param team2_dict:\n",
    "    @param week:\n",
    "    @return:\n",
    "    \"\"\"\n",
    "    team1_daily_game_dataframe = get_team_daily_game_count_dataframe_pipeline(team1_dict, week)\n",
    "    team2_daily_game_dataframe = get_team_daily_game_count_dataframe_pipeline(team2_dict, week)\n",
    "    matchup_daily_game_count_dataframe = team1_daily_game_dataframe.append\\\n",
    "        (team2_daily_game_dataframe)\n",
    "    return matchup_daily_game_count_dataframe"
   ],
   "metadata": {
    "collapsed": false,
    "pycharm": {
     "name": "#%%\n"
    }
   }
  },
  {
   "cell_type": "code",
   "execution_count": 32,
   "outputs": [
    {
     "name": "stderr",
     "output_type": "stream",
     "text": [
      "[2021-02-22 23:55:08,721 DEBUG] [yahoo_oauth.oauth.__init__] Checking \n",
      "[2021-02-22 23:55:08,723 DEBUG] [yahoo_oauth.oauth.token_is_valid] ELAPSED TIME : 1446.0294632911682\n",
      "[2021-02-22 23:55:08,723 DEBUG] [yahoo_oauth.oauth.token_is_valid] TOKEN IS STILL VALID\n",
      "[2021-02-22 23:55:10,772 DEBUG] [yahoo_oauth.oauth.__init__] Checking \n",
      "[2021-02-22 23:55:10,774 DEBUG] [yahoo_oauth.oauth.token_is_valid] ELAPSED TIME : 1448.0804178714752\n",
      "[2021-02-22 23:55:10,774 DEBUG] [yahoo_oauth.oauth.token_is_valid] TOKEN IS STILL VALID\n",
      "[2021-02-22 23:55:11,751 DEBUG] [yahoo_oauth.oauth.__init__] Checking \n",
      "[2021-02-22 23:55:11,754 DEBUG] [yahoo_oauth.oauth.token_is_valid] ELAPSED TIME : 1449.0601267814636\n",
      "[2021-02-22 23:55:11,754 DEBUG] [yahoo_oauth.oauth.token_is_valid] TOKEN IS STILL VALID\n",
      "[2021-02-22 23:55:12,645 DEBUG] [yahoo_oauth.oauth.__init__] Checking \n",
      "[2021-02-22 23:55:12,647 DEBUG] [yahoo_oauth.oauth.token_is_valid] ELAPSED TIME : 1449.9535446166992\n",
      "[2021-02-22 23:55:12,648 DEBUG] [yahoo_oauth.oauth.token_is_valid] TOKEN IS STILL VALID\n",
      "[2021-02-22 23:55:13,549 DEBUG] [yahoo_oauth.oauth.__init__] Checking \n",
      "[2021-02-22 23:55:13,552 DEBUG] [yahoo_oauth.oauth.token_is_valid] ELAPSED TIME : 1450.8583285808563\n",
      "[2021-02-22 23:55:13,553 DEBUG] [yahoo_oauth.oauth.token_is_valid] TOKEN IS STILL VALID\n",
      "[2021-02-22 23:55:14,458 DEBUG] [yahoo_oauth.oauth.__init__] Checking \n",
      "[2021-02-22 23:55:14,469 DEBUG] [yahoo_oauth.oauth.token_is_valid] ELAPSED TIME : 1451.7745792865753\n",
      "[2021-02-22 23:55:14,469 DEBUG] [yahoo_oauth.oauth.token_is_valid] TOKEN IS STILL VALID\n",
      "[2021-02-22 23:55:15,376 DEBUG] [yahoo_oauth.oauth.__init__] Checking \n",
      "[2021-02-22 23:55:15,379 DEBUG] [yahoo_oauth.oauth.token_is_valid] ELAPSED TIME : 1452.6852643489838\n",
      "[2021-02-22 23:55:15,380 DEBUG] [yahoo_oauth.oauth.token_is_valid] TOKEN IS STILL VALID\n",
      "[2021-02-22 23:55:16,307 DEBUG] [yahoo_oauth.oauth.__init__] Checking \n",
      "[2021-02-22 23:55:16,309 DEBUG] [yahoo_oauth.oauth.token_is_valid] ELAPSED TIME : 1453.6154775619507\n",
      "[2021-02-22 23:55:16,310 DEBUG] [yahoo_oauth.oauth.token_is_valid] TOKEN IS STILL VALID\n",
      "[2021-02-22 23:55:17,265 DEBUG] [yahoo_oauth.oauth.__init__] Checking \n",
      "[2021-02-22 23:55:17,271 DEBUG] [yahoo_oauth.oauth.token_is_valid] ELAPSED TIME : 1454.5773859024048\n",
      "[2021-02-22 23:55:17,272 DEBUG] [yahoo_oauth.oauth.token_is_valid] TOKEN IS STILL VALID\n",
      "[2021-02-22 23:55:18,356 DEBUG] [yahoo_oauth.oauth.__init__] Checking \n",
      "[2021-02-22 23:55:18,360 DEBUG] [yahoo_oauth.oauth.token_is_valid] ELAPSED TIME : 1455.6661458015442\n",
      "[2021-02-22 23:55:18,360 DEBUG] [yahoo_oauth.oauth.token_is_valid] TOKEN IS STILL VALID\n",
      "[2021-02-22 23:55:19,329 DEBUG] [yahoo_oauth.oauth.__init__] Checking \n",
      "[2021-02-22 23:55:19,338 DEBUG] [yahoo_oauth.oauth.token_is_valid] ELAPSED TIME : 1456.6440091133118\n",
      "[2021-02-22 23:55:19,338 DEBUG] [yahoo_oauth.oauth.token_is_valid] TOKEN IS STILL VALID\n",
      "[2021-02-22 23:55:20,287 DEBUG] [yahoo_oauth.oauth.__init__] Checking \n",
      "[2021-02-22 23:55:20,289 DEBUG] [yahoo_oauth.oauth.token_is_valid] ELAPSED TIME : 1457.595545053482\n",
      "[2021-02-22 23:55:20,290 DEBUG] [yahoo_oauth.oauth.token_is_valid] TOKEN IS STILL VALID\n",
      "[2021-02-22 23:55:21,205 DEBUG] [yahoo_oauth.oauth.__init__] Checking \n",
      "[2021-02-22 23:55:21,208 DEBUG] [yahoo_oauth.oauth.token_is_valid] ELAPSED TIME : 1458.5137968063354\n",
      "[2021-02-22 23:55:21,209 DEBUG] [yahoo_oauth.oauth.token_is_valid] TOKEN IS STILL VALID\n",
      "[2021-02-22 23:55:22,109 DEBUG] [yahoo_oauth.oauth.__init__] Checking \n",
      "[2021-02-22 23:55:22,112 DEBUG] [yahoo_oauth.oauth.token_is_valid] ELAPSED TIME : 1459.418414592743\n",
      "[2021-02-22 23:55:22,112 DEBUG] [yahoo_oauth.oauth.token_is_valid] TOKEN IS STILL VALID\n",
      "[2021-02-22 23:55:23,024 DEBUG] [yahoo_oauth.oauth.__init__] Checking \n",
      "[2021-02-22 23:55:23,028 DEBUG] [yahoo_oauth.oauth.token_is_valid] ELAPSED TIME : 1460.33420753479\n",
      "[2021-02-22 23:55:23,029 DEBUG] [yahoo_oauth.oauth.token_is_valid] TOKEN IS STILL VALID\n",
      "[2021-02-22 23:55:23,948 DEBUG] [yahoo_oauth.oauth.__init__] Checking \n",
      "[2021-02-22 23:55:23,950 DEBUG] [yahoo_oauth.oauth.token_is_valid] ELAPSED TIME : 1461.256076335907\n",
      "[2021-02-22 23:55:23,951 DEBUG] [yahoo_oauth.oauth.token_is_valid] TOKEN IS STILL VALID\n",
      "[2021-02-22 23:55:24,839 DEBUG] [yahoo_oauth.oauth.__init__] Checking \n",
      "[2021-02-22 23:55:24,848 DEBUG] [yahoo_oauth.oauth.token_is_valid] ELAPSED TIME : 1462.1540937423706\n",
      "[2021-02-22 23:55:24,849 DEBUG] [yahoo_oauth.oauth.token_is_valid] TOKEN IS STILL VALID\n",
      "[2021-02-22 23:55:27,919 DEBUG] [yahoo_oauth.oauth.__init__] Checking \n",
      "[2021-02-22 23:55:27,923 DEBUG] [yahoo_oauth.oauth.token_is_valid] ELAPSED TIME : 1465.2289929389954\n",
      "[2021-02-22 23:55:27,924 DEBUG] [yahoo_oauth.oauth.token_is_valid] TOKEN IS STILL VALID\n",
      "[2021-02-22 23:55:29,670 DEBUG] [yahoo_oauth.oauth.__init__] Checking \n",
      "[2021-02-22 23:55:29,673 DEBUG] [yahoo_oauth.oauth.token_is_valid] ELAPSED TIME : 1466.9789555072784\n",
      "[2021-02-22 23:55:29,674 DEBUG] [yahoo_oauth.oauth.token_is_valid] TOKEN IS STILL VALID\n",
      "[2021-02-22 23:55:30,660 DEBUG] [yahoo_oauth.oauth.__init__] Checking \n",
      "[2021-02-22 23:55:30,663 DEBUG] [yahoo_oauth.oauth.token_is_valid] ELAPSED TIME : 1467.9692974090576\n",
      "[2021-02-22 23:55:30,663 DEBUG] [yahoo_oauth.oauth.token_is_valid] TOKEN IS STILL VALID\n",
      "[2021-02-22 23:55:31,701 DEBUG] [yahoo_oauth.oauth.__init__] Checking \n",
      "[2021-02-22 23:55:31,704 DEBUG] [yahoo_oauth.oauth.token_is_valid] ELAPSED TIME : 1469.0098192691803\n",
      "[2021-02-22 23:55:31,705 DEBUG] [yahoo_oauth.oauth.token_is_valid] TOKEN IS STILL VALID\n",
      "[2021-02-22 23:55:32,594 DEBUG] [yahoo_oauth.oauth.__init__] Checking \n",
      "[2021-02-22 23:55:32,597 DEBUG] [yahoo_oauth.oauth.token_is_valid] ELAPSED TIME : 1469.9027380943298\n",
      "[2021-02-22 23:55:32,598 DEBUG] [yahoo_oauth.oauth.token_is_valid] TOKEN IS STILL VALID\n",
      "[2021-02-22 23:55:33,664 DEBUG] [yahoo_oauth.oauth.__init__] Checking \n",
      "[2021-02-22 23:55:33,666 DEBUG] [yahoo_oauth.oauth.token_is_valid] ELAPSED TIME : 1470.9720242023468\n",
      "[2021-02-22 23:55:33,667 DEBUG] [yahoo_oauth.oauth.token_is_valid] TOKEN IS STILL VALID\n",
      "[2021-02-22 23:55:34,561 DEBUG] [yahoo_oauth.oauth.__init__] Checking \n",
      "[2021-02-22 23:55:34,564 DEBUG] [yahoo_oauth.oauth.token_is_valid] ELAPSED TIME : 1471.8697760105133\n",
      "[2021-02-22 23:55:34,565 DEBUG] [yahoo_oauth.oauth.token_is_valid] TOKEN IS STILL VALID\n",
      "[2021-02-22 23:55:35,544 DEBUG] [yahoo_oauth.oauth.__init__] Checking \n",
      "[2021-02-22 23:55:35,547 DEBUG] [yahoo_oauth.oauth.token_is_valid] ELAPSED TIME : 1472.8529477119446\n",
      "[2021-02-22 23:55:35,547 DEBUG] [yahoo_oauth.oauth.token_is_valid] TOKEN IS STILL VALID\n",
      "[2021-02-22 23:55:37,696 DEBUG] [yahoo_oauth.oauth.__init__] Checking \n",
      "[2021-02-22 23:55:37,700 DEBUG] [yahoo_oauth.oauth.token_is_valid] ELAPSED TIME : 1475.0063154697418\n",
      "[2021-02-22 23:55:37,701 DEBUG] [yahoo_oauth.oauth.token_is_valid] TOKEN IS STILL VALID\n",
      "[2021-02-22 23:55:38,575 DEBUG] [yahoo_oauth.oauth.__init__] Checking \n",
      "[2021-02-22 23:55:38,577 DEBUG] [yahoo_oauth.oauth.token_is_valid] ELAPSED TIME : 1475.8832156658173\n",
      "[2021-02-22 23:55:38,578 DEBUG] [yahoo_oauth.oauth.token_is_valid] TOKEN IS STILL VALID\n",
      "[2021-02-22 23:55:39,455 DEBUG] [yahoo_oauth.oauth.__init__] Checking \n",
      "[2021-02-22 23:55:39,464 DEBUG] [yahoo_oauth.oauth.token_is_valid] ELAPSED TIME : 1476.7697808742523\n",
      "[2021-02-22 23:55:39,464 DEBUG] [yahoo_oauth.oauth.token_is_valid] TOKEN IS STILL VALID\n",
      "[2021-02-22 23:55:40,412 DEBUG] [yahoo_oauth.oauth.__init__] Checking \n",
      "[2021-02-22 23:55:40,421 DEBUG] [yahoo_oauth.oauth.token_is_valid] ELAPSED TIME : 1477.7270715236664\n",
      "[2021-02-22 23:55:40,422 DEBUG] [yahoo_oauth.oauth.token_is_valid] TOKEN IS STILL VALID\n",
      "[2021-02-22 23:55:41,323 DEBUG] [yahoo_oauth.oauth.__init__] Checking \n",
      "[2021-02-22 23:55:41,328 DEBUG] [yahoo_oauth.oauth.token_is_valid] ELAPSED TIME : 1478.6341545581818\n",
      "[2021-02-22 23:55:41,329 DEBUG] [yahoo_oauth.oauth.token_is_valid] TOKEN IS STILL VALID\n",
      "[2021-02-22 23:55:42,312 DEBUG] [yahoo_oauth.oauth.__init__] Checking \n",
      "[2021-02-22 23:55:42,315 DEBUG] [yahoo_oauth.oauth.token_is_valid] ELAPSED TIME : 1479.6214139461517\n",
      "[2021-02-22 23:55:42,316 DEBUG] [yahoo_oauth.oauth.token_is_valid] TOKEN IS STILL VALID\n",
      "[2021-02-22 23:55:43,238 DEBUG] [yahoo_oauth.oauth.__init__] Checking \n",
      "[2021-02-22 23:55:43,241 DEBUG] [yahoo_oauth.oauth.token_is_valid] ELAPSED TIME : 1480.547213792801\n",
      "[2021-02-22 23:55:43,241 DEBUG] [yahoo_oauth.oauth.token_is_valid] TOKEN IS STILL VALID\n",
      "[2021-02-22 23:55:44,268 DEBUG] [yahoo_oauth.oauth.__init__] Checking \n",
      "[2021-02-22 23:55:44,272 DEBUG] [yahoo_oauth.oauth.token_is_valid] ELAPSED TIME : 1481.5779268741608\n",
      "[2021-02-22 23:55:44,272 DEBUG] [yahoo_oauth.oauth.token_is_valid] TOKEN IS STILL VALID\n",
      "[2021-02-22 23:55:45,205 DEBUG] [yahoo_oauth.oauth.__init__] Checking \n",
      "[2021-02-22 23:55:45,208 DEBUG] [yahoo_oauth.oauth.token_is_valid] ELAPSED TIME : 1482.5138022899628\n",
      "[2021-02-22 23:55:45,208 DEBUG] [yahoo_oauth.oauth.token_is_valid] TOKEN IS STILL VALID\n"
     ]
    }
   ],
   "source": [
    "nunn = get_team_daily_game_count_dataframe_pipeline(af.NUNN_OF_YALL_BETTA, week=\"current\")\n",
    "ladron = get_team_daily_game_count_dataframe_pipeline(af.EL_LADRON_DE_CABRAS, week=\"current\")"
   ],
   "metadata": {
    "collapsed": false,
    "pycharm": {
     "name": "#%%\n"
    }
   }
  },
  {
   "cell_type": "code",
   "execution_count": 35,
   "outputs": [],
   "source": [
    "matchup_daily_game_count_dataframe = nunn.append(ladron)"
   ],
   "metadata": {
    "collapsed": false,
    "pycharm": {
     "name": "#%%\n"
    }
   }
  },
  {
   "cell_type": "code",
   "execution_count": 38,
   "outputs": [],
   "source": [
    "def get_matchup_daily_game_count_dataframe_pipeline(team1_dict, team2_dict, week=\"current\"):\n",
    "    \"\"\"\n",
    "\n",
    "    @param team1_dict:\n",
    "    @param team2_dict:\n",
    "    @param week:\n",
    "    @return:\n",
    "    \"\"\"\n",
    "    team1_daily_game_dataframe = get_team_daily_game_count_dataframe_pipeline(team1_dict, week)\n",
    "    team2_daily_game_dataframe = get_team_daily_game_count_dataframe_pipeline(team2_dict, week)\n",
    "    matchup_daily_game_count_dataframe = team1_daily_game_dataframe.append\\\n",
    "        (team2_daily_game_dataframe)\n",
    "    return matchup_daily_game_count_dataframe"
   ],
   "metadata": {
    "collapsed": false,
    "pycharm": {
     "name": "#%%\n"
    }
   }
  },
  {
   "cell_type": "code",
   "execution_count": 39,
   "outputs": [
    {
     "name": "stderr",
     "output_type": "stream",
     "text": [
      "[2021-02-22 23:59:49,859 DEBUG] [yahoo_oauth.oauth.__init__] Checking \n",
      "[2021-02-22 23:59:49,860 DEBUG] [yahoo_oauth.oauth.token_is_valid] ELAPSED TIME : 1727.1664657592773\n",
      "[2021-02-22 23:59:49,861 DEBUG] [yahoo_oauth.oauth.token_is_valid] TOKEN IS STILL VALID\n",
      "[2021-02-22 23:59:51,650 DEBUG] [yahoo_oauth.oauth.__init__] Checking \n",
      "[2021-02-22 23:59:51,655 DEBUG] [yahoo_oauth.oauth.token_is_valid] ELAPSED TIME : 1728.9608566761017\n",
      "[2021-02-22 23:59:51,656 DEBUG] [yahoo_oauth.oauth.token_is_valid] TOKEN IS STILL VALID\n",
      "[2021-02-22 23:59:52,613 DEBUG] [yahoo_oauth.oauth.__init__] Checking \n",
      "[2021-02-22 23:59:52,617 DEBUG] [yahoo_oauth.oauth.token_is_valid] ELAPSED TIME : 1729.9226183891296\n",
      "[2021-02-22 23:59:52,617 DEBUG] [yahoo_oauth.oauth.token_is_valid] TOKEN IS STILL VALID\n",
      "[2021-02-22 23:59:53,506 DEBUG] [yahoo_oauth.oauth.__init__] Checking \n",
      "[2021-02-22 23:59:53,516 DEBUG] [yahoo_oauth.oauth.token_is_valid] ELAPSED TIME : 1730.8216195106506\n",
      "[2021-02-22 23:59:53,517 DEBUG] [yahoo_oauth.oauth.token_is_valid] TOKEN IS STILL VALID\n",
      "[2021-02-22 23:59:54,481 DEBUG] [yahoo_oauth.oauth.__init__] Checking \n",
      "[2021-02-22 23:59:54,484 DEBUG] [yahoo_oauth.oauth.token_is_valid] ELAPSED TIME : 1731.7899034023285\n",
      "[2021-02-22 23:59:54,484 DEBUG] [yahoo_oauth.oauth.token_is_valid] TOKEN IS STILL VALID\n",
      "[2021-02-22 23:59:55,394 DEBUG] [yahoo_oauth.oauth.__init__] Checking \n",
      "[2021-02-22 23:59:55,399 DEBUG] [yahoo_oauth.oauth.token_is_valid] ELAPSED TIME : 1732.7048635482788\n",
      "[2021-02-22 23:59:55,400 DEBUG] [yahoo_oauth.oauth.token_is_valid] TOKEN IS STILL VALID\n",
      "[2021-02-22 23:59:56,323 DEBUG] [yahoo_oauth.oauth.__init__] Checking \n",
      "[2021-02-22 23:59:56,326 DEBUG] [yahoo_oauth.oauth.token_is_valid] ELAPSED TIME : 1733.631816625595\n",
      "[2021-02-22 23:59:56,327 DEBUG] [yahoo_oauth.oauth.token_is_valid] TOKEN IS STILL VALID\n",
      "[2021-02-22 23:59:57,258 DEBUG] [yahoo_oauth.oauth.__init__] Checking \n",
      "[2021-02-22 23:59:57,261 DEBUG] [yahoo_oauth.oauth.token_is_valid] ELAPSED TIME : 1734.5667419433594\n",
      "[2021-02-22 23:59:57,262 DEBUG] [yahoo_oauth.oauth.token_is_valid] TOKEN IS STILL VALID\n",
      "[2021-02-22 23:59:58,145 DEBUG] [yahoo_oauth.oauth.__init__] Checking \n",
      "[2021-02-22 23:59:58,149 DEBUG] [yahoo_oauth.oauth.token_is_valid] ELAPSED TIME : 1735.4547772407532\n",
      "[2021-02-22 23:59:58,150 DEBUG] [yahoo_oauth.oauth.token_is_valid] TOKEN IS STILL VALID\n",
      "[2021-02-22 23:59:59,134 DEBUG] [yahoo_oauth.oauth.__init__] Checking \n",
      "[2021-02-22 23:59:59,139 DEBUG] [yahoo_oauth.oauth.token_is_valid] ELAPSED TIME : 1736.4448862075806\n",
      "[2021-02-22 23:59:59,140 DEBUG] [yahoo_oauth.oauth.token_is_valid] TOKEN IS STILL VALID\n",
      "[2021-02-23 00:00:00,107 DEBUG] [yahoo_oauth.oauth.__init__] Checking \n",
      "[2021-02-23 00:00:00,112 DEBUG] [yahoo_oauth.oauth.token_is_valid] ELAPSED TIME : 1737.417941570282\n",
      "[2021-02-23 00:00:00,114 DEBUG] [yahoo_oauth.oauth.token_is_valid] TOKEN IS STILL VALID\n",
      "[2021-02-23 00:00:01,020 DEBUG] [yahoo_oauth.oauth.__init__] Checking \n",
      "[2021-02-23 00:00:01,022 DEBUG] [yahoo_oauth.oauth.token_is_valid] ELAPSED TIME : 1738.328527212143\n",
      "[2021-02-23 00:00:01,023 DEBUG] [yahoo_oauth.oauth.token_is_valid] TOKEN IS STILL VALID\n",
      "[2021-02-23 00:00:01,980 DEBUG] [yahoo_oauth.oauth.__init__] Checking \n",
      "[2021-02-23 00:00:01,983 DEBUG] [yahoo_oauth.oauth.token_is_valid] ELAPSED TIME : 1739.2888867855072\n",
      "[2021-02-23 00:00:01,984 DEBUG] [yahoo_oauth.oauth.token_is_valid] TOKEN IS STILL VALID\n",
      "[2021-02-23 00:00:02,899 DEBUG] [yahoo_oauth.oauth.__init__] Checking \n",
      "[2021-02-23 00:00:02,902 DEBUG] [yahoo_oauth.oauth.token_is_valid] ELAPSED TIME : 1740.207912683487\n",
      "[2021-02-23 00:00:02,903 DEBUG] [yahoo_oauth.oauth.token_is_valid] TOKEN IS STILL VALID\n",
      "[2021-02-23 00:00:03,853 DEBUG] [yahoo_oauth.oauth.__init__] Checking \n",
      "[2021-02-23 00:00:03,856 DEBUG] [yahoo_oauth.oauth.token_is_valid] ELAPSED TIME : 1741.1618359088898\n",
      "[2021-02-23 00:00:03,856 DEBUG] [yahoo_oauth.oauth.token_is_valid] TOKEN IS STILL VALID\n",
      "[2021-02-23 00:00:04,867 DEBUG] [yahoo_oauth.oauth.__init__] Checking \n",
      "[2021-02-23 00:00:04,870 DEBUG] [yahoo_oauth.oauth.token_is_valid] ELAPSED TIME : 1742.1759490966797\n",
      "[2021-02-23 00:00:04,870 DEBUG] [yahoo_oauth.oauth.token_is_valid] TOKEN IS STILL VALID\n",
      "[2021-02-23 00:00:05,944 DEBUG] [yahoo_oauth.oauth.__init__] Checking \n",
      "[2021-02-23 00:00:05,947 DEBUG] [yahoo_oauth.oauth.token_is_valid] ELAPSED TIME : 1743.2527499198914\n",
      "[2021-02-23 00:00:05,948 DEBUG] [yahoo_oauth.oauth.token_is_valid] TOKEN IS STILL VALID\n",
      "[2021-02-23 00:00:09,018 DEBUG] [yahoo_oauth.oauth.__init__] Checking \n",
      "[2021-02-23 00:00:09,022 DEBUG] [yahoo_oauth.oauth.token_is_valid] ELAPSED TIME : 1746.3275763988495\n",
      "[2021-02-23 00:00:09,023 DEBUG] [yahoo_oauth.oauth.token_is_valid] TOKEN IS STILL VALID\n",
      "[2021-02-23 00:00:10,892 DEBUG] [yahoo_oauth.oauth.__init__] Checking \n",
      "[2021-02-23 00:00:10,894 DEBUG] [yahoo_oauth.oauth.token_is_valid] ELAPSED TIME : 1748.2000138759613\n",
      "[2021-02-23 00:00:10,895 DEBUG] [yahoo_oauth.oauth.token_is_valid] TOKEN IS STILL VALID\n",
      "[2021-02-23 00:00:11,825 DEBUG] [yahoo_oauth.oauth.__init__] Checking \n",
      "[2021-02-23 00:00:11,828 DEBUG] [yahoo_oauth.oauth.token_is_valid] ELAPSED TIME : 1749.13370347023\n",
      "[2021-02-23 00:00:11,828 DEBUG] [yahoo_oauth.oauth.token_is_valid] TOKEN IS STILL VALID\n",
      "[2021-02-23 00:00:12,758 DEBUG] [yahoo_oauth.oauth.__init__] Checking \n",
      "[2021-02-23 00:00:12,767 DEBUG] [yahoo_oauth.oauth.token_is_valid] ELAPSED TIME : 1750.0729064941406\n",
      "[2021-02-23 00:00:12,768 DEBUG] [yahoo_oauth.oauth.token_is_valid] TOKEN IS STILL VALID\n",
      "[2021-02-23 00:00:13,730 DEBUG] [yahoo_oauth.oauth.__init__] Checking \n",
      "[2021-02-23 00:00:13,733 DEBUG] [yahoo_oauth.oauth.token_is_valid] ELAPSED TIME : 1751.038985967636\n",
      "[2021-02-23 00:00:13,734 DEBUG] [yahoo_oauth.oauth.token_is_valid] TOKEN IS STILL VALID\n",
      "[2021-02-23 00:00:14,698 DEBUG] [yahoo_oauth.oauth.__init__] Checking \n",
      "[2021-02-23 00:00:14,707 DEBUG] [yahoo_oauth.oauth.token_is_valid] ELAPSED TIME : 1752.0126633644104\n",
      "[2021-02-23 00:00:14,707 DEBUG] [yahoo_oauth.oauth.token_is_valid] TOKEN IS STILL VALID\n",
      "[2021-02-23 00:00:15,624 DEBUG] [yahoo_oauth.oauth.__init__] Checking \n",
      "[2021-02-23 00:00:15,632 DEBUG] [yahoo_oauth.oauth.token_is_valid] ELAPSED TIME : 1752.9385232925415\n",
      "[2021-02-23 00:00:15,632 DEBUG] [yahoo_oauth.oauth.token_is_valid] TOKEN IS STILL VALID\n",
      "[2021-02-23 00:00:16,637 DEBUG] [yahoo_oauth.oauth.__init__] Checking \n",
      "[2021-02-23 00:00:16,641 DEBUG] [yahoo_oauth.oauth.token_is_valid] ELAPSED TIME : 1753.9474081993103\n",
      "[2021-02-23 00:00:16,642 DEBUG] [yahoo_oauth.oauth.token_is_valid] TOKEN IS STILL VALID\n",
      "[2021-02-23 00:00:17,538 DEBUG] [yahoo_oauth.oauth.__init__] Checking \n",
      "[2021-02-23 00:00:17,542 DEBUG] [yahoo_oauth.oauth.token_is_valid] ELAPSED TIME : 1754.848123550415\n",
      "[2021-02-23 00:00:17,543 DEBUG] [yahoo_oauth.oauth.token_is_valid] TOKEN IS STILL VALID\n",
      "[2021-02-23 00:00:18,491 DEBUG] [yahoo_oauth.oauth.__init__] Checking \n",
      "[2021-02-23 00:00:18,494 DEBUG] [yahoo_oauth.oauth.token_is_valid] ELAPSED TIME : 1755.7995686531067\n",
      "[2021-02-23 00:00:18,495 DEBUG] [yahoo_oauth.oauth.token_is_valid] TOKEN IS STILL VALID\n",
      "[2021-02-23 00:00:19,446 DEBUG] [yahoo_oauth.oauth.__init__] Checking \n",
      "[2021-02-23 00:00:19,453 DEBUG] [yahoo_oauth.oauth.token_is_valid] ELAPSED TIME : 1756.758029460907\n",
      "[2021-02-23 00:00:19,454 DEBUG] [yahoo_oauth.oauth.token_is_valid] TOKEN IS STILL VALID\n",
      "[2021-02-23 00:00:20,393 DEBUG] [yahoo_oauth.oauth.__init__] Checking \n",
      "[2021-02-23 00:00:20,402 DEBUG] [yahoo_oauth.oauth.token_is_valid] ELAPSED TIME : 1757.7079803943634\n",
      "[2021-02-23 00:00:20,403 DEBUG] [yahoo_oauth.oauth.token_is_valid] TOKEN IS STILL VALID\n",
      "[2021-02-23 00:00:21,356 DEBUG] [yahoo_oauth.oauth.__init__] Checking \n",
      "[2021-02-23 00:00:21,361 DEBUG] [yahoo_oauth.oauth.token_is_valid] ELAPSED TIME : 1758.6669435501099\n",
      "[2021-02-23 00:00:21,362 DEBUG] [yahoo_oauth.oauth.token_is_valid] TOKEN IS STILL VALID\n",
      "[2021-02-23 00:00:22,323 DEBUG] [yahoo_oauth.oauth.__init__] Checking \n",
      "[2021-02-23 00:00:22,325 DEBUG] [yahoo_oauth.oauth.token_is_valid] ELAPSED TIME : 1759.6306471824646\n",
      "[2021-02-23 00:00:22,326 DEBUG] [yahoo_oauth.oauth.token_is_valid] TOKEN IS STILL VALID\n",
      "[2021-02-23 00:00:23,305 DEBUG] [yahoo_oauth.oauth.__init__] Checking \n",
      "[2021-02-23 00:00:23,308 DEBUG] [yahoo_oauth.oauth.token_is_valid] ELAPSED TIME : 1760.6137816905975\n",
      "[2021-02-23 00:00:23,309 DEBUG] [yahoo_oauth.oauth.token_is_valid] TOKEN IS STILL VALID\n",
      "[2021-02-23 00:00:24,246 DEBUG] [yahoo_oauth.oauth.__init__] Checking \n",
      "[2021-02-23 00:00:24,249 DEBUG] [yahoo_oauth.oauth.token_is_valid] ELAPSED TIME : 1761.5547556877136\n",
      "[2021-02-23 00:00:24,250 DEBUG] [yahoo_oauth.oauth.token_is_valid] TOKEN IS STILL VALID\n",
      "[2021-02-23 00:00:25,221 DEBUG] [yahoo_oauth.oauth.__init__] Checking \n",
      "[2021-02-23 00:00:25,228 DEBUG] [yahoo_oauth.oauth.token_is_valid] ELAPSED TIME : 1762.5335965156555\n",
      "[2021-02-23 00:00:25,230 DEBUG] [yahoo_oauth.oauth.token_is_valid] TOKEN IS STILL VALID\n"
     ]
    },
    {
     "data": {
      "text/plain": "                     Total  Mon  Tue  Wed  Thu  Fri  Sat  Sun\nNunn of Y'all Betta     51   10    6   10    2   10    4    9\nEl Ladrón de Cabras     53    4   10    5   10    8    6   10",
      "text/html": "<div>\n<style scoped>\n    .dataframe tbody tr th:only-of-type {\n        vertical-align: middle;\n    }\n\n    .dataframe tbody tr th {\n        vertical-align: top;\n    }\n\n    .dataframe thead th {\n        text-align: right;\n    }\n</style>\n<table border=\"1\" class=\"dataframe\">\n  <thead>\n    <tr style=\"text-align: right;\">\n      <th></th>\n      <th>Total</th>\n      <th>Mon</th>\n      <th>Tue</th>\n      <th>Wed</th>\n      <th>Thu</th>\n      <th>Fri</th>\n      <th>Sat</th>\n      <th>Sun</th>\n    </tr>\n  </thead>\n  <tbody>\n    <tr>\n      <th>Nunn of Y'all Betta</th>\n      <td>51</td>\n      <td>10</td>\n      <td>6</td>\n      <td>10</td>\n      <td>2</td>\n      <td>10</td>\n      <td>4</td>\n      <td>9</td>\n    </tr>\n    <tr>\n      <th>El Ladrón de Cabras</th>\n      <td>53</td>\n      <td>4</td>\n      <td>10</td>\n      <td>5</td>\n      <td>10</td>\n      <td>8</td>\n      <td>6</td>\n      <td>10</td>\n    </tr>\n  </tbody>\n</table>\n</div>"
     },
     "execution_count": 39,
     "metadata": {},
     "output_type": "execute_result"
    }
   ],
   "source": [
    "get_matchup_daily_game_count_dataframe_pipeline(af.NUNN_OF_YALL_BETTA, af.EL_LADRON_DE_CABRAS,\n",
    "                                                week=\"current\")"
   ],
   "metadata": {
    "collapsed": false,
    "pycharm": {
     "name": "#%%\n"
    }
   }
  },
  {
   "cell_type": "code",
   "execution_count": 10,
   "outputs": [
    {
     "data": {
      "text/plain": "'Mon'"
     },
     "execution_count": 10,
     "metadata": {},
     "output_type": "execute_result"
    }
   ],
   "source": [
    "from datetime import date\n",
    "\n",
    "today = date.today()\n",
    "today.strftime(\"%a\")"
   ],
   "metadata": {
    "collapsed": false,
    "pycharm": {
     "name": "#%%\n"
    }
   }
  },
  {
   "cell_type": "code",
   "execution_count": 2,
   "outputs": [
    {
     "name": "stderr",
     "output_type": "stream",
     "text": [
      "[2021-02-24 22:21:27,006 DEBUG] [yahoo_oauth.oauth.__init__] Checking \n",
      "[2021-02-24 22:21:27,008 DEBUG] [yahoo_oauth.oauth.token_is_valid] ELAPSED TIME : 1233.283728837967\n",
      "[2021-02-24 22:21:27,009 DEBUG] [yahoo_oauth.oauth.token_is_valid] TOKEN IS STILL VALID\n"
     ]
    }
   ],
   "source": [
    "\n",
    "sc = af.yahoo_fantasy_api_authentication()\n",
    "league = af.yahoo_fantasy_league(sc)"
   ],
   "metadata": {
    "collapsed": false,
    "pycharm": {
     "name": "#%%\n"
    }
   }
  },
  {
   "cell_type": "code",
   "execution_count": 4,
   "outputs": [
    {
     "data": {
      "text/plain": "[{'player_key': '402.p.5905',\n  'player_id': '5905',\n  'name': {'full': \"Royce O'Neale\",\n   'first': 'Royce',\n   'last': \"O'Neale\",\n   'ascii_first': 'Royce',\n   'ascii_last': \"O'Neale\"},\n  'editorial_player_key': 'nba.p.5905',\n  'editorial_team_key': 'nba.t.26',\n  'editorial_team_full_name': 'Utah Jazz',\n  'editorial_team_abbr': 'Uta',\n  'uniform_number': '23',\n  'display_position': 'SF,PF',\n  'headshot': {'url': 'https://s.yimg.com/iu/api/res/1.2/ylkW8KGAlVjTt8ZjYPIx_A--~C/YXBwaWQ9eXNwb3J0cztjaD0yMzM2O2NyPTE7Y3c9MTc5MDtkeD04NTc7ZHk9MDtmaT11bGNyb3A7aD02MDtxPTEwMDt3PTQ2/https://s.yimg.com/xe/i/us/sp/v/nba_cutout/players_l/01082021/5905.png',\n   'size': 'small'},\n  'image_url': 'https://s.yimg.com/iu/api/res/1.2/ylkW8KGAlVjTt8ZjYPIx_A--~C/YXBwaWQ9eXNwb3J0cztjaD0yMzM2O2NyPTE7Y3c9MTc5MDtkeD04NTc7ZHk9MDtmaT11bGNyb3A7aD02MDtxPTEwMDt3PTQ2/https://s.yimg.com/xe/i/us/sp/v/nba_cutout/players_l/01082021/5905.png',\n  'is_undroppable': '0',\n  'position_type': 'P',\n  'primary_position': 'SF',\n  'eligible_positions': [{'position': 'SF'},\n   {'position': 'PF'},\n   {'position': 'F'},\n   {'position': 'Util'}],\n  'has_player_notes': 1,\n  'player_notes_last_timestamp': 1613279777,\n  'player_stats': {'0': {'coverage_type': 'season', 'season': '2020'},\n   'stats': [{'stat': {'stat_id': '9004003', 'value': '81/180'}},\n    {'stat': {'stat_id': '5', 'value': '.450'}},\n    {'stat': {'stat_id': '9007006', 'value': '22/26'}},\n    {'stat': {'stat_id': '8', 'value': '.846'}},\n    {'stat': {'stat_id': '10', 'value': '53'}},\n    {'stat': {'stat_id': '12', 'value': '237'}},\n    {'stat': {'stat_id': '15', 'value': '213'}},\n    {'stat': {'stat_id': '16', 'value': '74'}},\n    {'stat': {'stat_id': '17', 'value': '23'}},\n    {'stat': {'stat_id': '18', 'value': '20'}},\n    {'stat': {'stat_id': '19', 'value': '37'}}]},\n  'player_advanced_stats': {'0': {'coverage_type': 'season', 'season': '2020'},\n   'stats': [{'stat': {'stat_id': '1001', 'value': '222'}},\n    {'stat': {'stat_id': '1002', 'value': '3068'}},\n    {'stat': {'stat_id': '1003', 'value': '122.3'}},\n    {'stat': {'stat_id': '1004', 'value': '107.8'}},\n    {'stat': {'stat_id': '1005', 'value': '14.5'}},\n    {'stat': {'stat_id': '1006', 'value': '0.095'}},\n    {'stat': {'stat_id': '1007', 'value': '0.162'}},\n    {'stat': {'stat_id': '1008', 'value': '0.097'}},\n    {'stat': {'stat_id': '1009', 'value': '27'}},\n    {'stat': {'stat_id': '1010', 'value': '1'}},\n    {'stat': {'stat_id': '1011', 'value': '0.619'}},\n    {'stat': {'stat_id': '1012', 'value': '0.597'}},\n    {'stat': {'stat_id': '1013', 'value': '0.122'}},\n    {'stat': {'stat_id': '1014', 'value': '1.2'}},\n    {'stat': {'stat_id': '1015', 'value': '1.5'}},\n    {'stat': {'stat_id': '1016', 'value': '2.7'}},\n    {'stat': {'stat_id': '1017', 'value': '9.6'}}]}}]"
     },
     "execution_count": 4,
     "metadata": {},
     "output_type": "execute_result"
    }
   ],
   "source": [
    "league.player_details(\"Royce\")"
   ],
   "metadata": {
    "collapsed": false,
    "pycharm": {
     "name": "#%%\n"
    }
   }
  },
  {
   "cell_type": "code",
   "execution_count": 6,
   "outputs": [
    {
     "name": "stderr",
     "output_type": "stream",
     "text": [
      "[2021-03-01 19:40:45,922 DEBUG] [yahoo_oauth.oauth.__init__] Checking \n",
      "[2021-03-01 19:40:45,924 DEBUG] [yahoo_oauth.oauth.token_is_valid] ELAPSED TIME : 657.6024804115295\n",
      "[2021-03-01 19:40:45,925 DEBUG] [yahoo_oauth.oauth.token_is_valid] TOKEN IS STILL VALID\n"
     ]
    }
   ],
   "source": [
    "season_games_dataframe = get_game_information_in_season(2020)\n",
    "fantasy_week, week_start_date, week_end_date = get_week_current_week_information()\n",
    "filtered_games_week, team_game_counts = get_fantasy_week_games_dataframe\\\n",
    "    (season_games_dataframe, week_start_date, week_end_date)"
   ],
   "metadata": {
    "collapsed": false,
    "pycharm": {
     "name": "#%%\n"
    }
   }
  },
  {
   "cell_type": "code",
   "execution_count": 28,
   "outputs": [
    {
     "data": {
      "text/plain": "          gdte         gid                    home      home_tid  \\\n0   2021-03-01  0022000529           Orlando Magic  1.610613e+09   \n1   2021-03-01  0022000530      Philadelphia 76ers  1.610613e+09   \n2   2021-03-01  0022000531           Chicago Bulls  1.610613e+09   \n3   2021-03-01  0022000533    New Orleans Pelicans  1.610613e+09   \n4   2021-03-01  0022000534       San Antonio Spurs  1.610613e+09   \n..         ...         ...                     ...           ...   \n65  2021-03-14  0022000597           Atlanta Hawks  1.610613e+09   \n66  2021-03-14  0022000598         Houston Rockets  1.610613e+09   \n67  2021-03-14  0022000599  Minnesota Timberwolves  1.610613e+09   \n68  2021-03-14  0022000600           Chicago Bulls  1.610613e+09   \n69  2021-03-14  0022000601    New Orleans Pelicans  1.610613e+09   \n\n                  visitors  visitors_tid  \n0         Dallas Mavericks  1.610613e+09  \n1           Indiana Pacers  1.610613e+09  \n2           Denver Nuggets  1.610613e+09  \n3                Utah Jazz  1.610613e+09  \n4            Brooklyn Nets  1.610613e+09  \n..                     ...           ...  \n65     Cleveland Cavaliers  1.610613e+09  \n66          Boston Celtics  1.610613e+09  \n67  Portland Trail Blazers  1.610613e+09  \n68         Toronto Raptors  1.610613e+09  \n69             LA Clippers  1.610613e+09  \n\n[70 rows x 6 columns]",
      "text/html": "<div>\n<style scoped>\n    .dataframe tbody tr th:only-of-type {\n        vertical-align: middle;\n    }\n\n    .dataframe tbody tr th {\n        vertical-align: top;\n    }\n\n    .dataframe thead th {\n        text-align: right;\n    }\n</style>\n<table border=\"1\" class=\"dataframe\">\n  <thead>\n    <tr style=\"text-align: right;\">\n      <th></th>\n      <th>gdte</th>\n      <th>gid</th>\n      <th>home</th>\n      <th>home_tid</th>\n      <th>visitors</th>\n      <th>visitors_tid</th>\n    </tr>\n  </thead>\n  <tbody>\n    <tr>\n      <th>0</th>\n      <td>2021-03-01</td>\n      <td>0022000529</td>\n      <td>Orlando Magic</td>\n      <td>1.610613e+09</td>\n      <td>Dallas Mavericks</td>\n      <td>1.610613e+09</td>\n    </tr>\n    <tr>\n      <th>1</th>\n      <td>2021-03-01</td>\n      <td>0022000530</td>\n      <td>Philadelphia 76ers</td>\n      <td>1.610613e+09</td>\n      <td>Indiana Pacers</td>\n      <td>1.610613e+09</td>\n    </tr>\n    <tr>\n      <th>2</th>\n      <td>2021-03-01</td>\n      <td>0022000531</td>\n      <td>Chicago Bulls</td>\n      <td>1.610613e+09</td>\n      <td>Denver Nuggets</td>\n      <td>1.610613e+09</td>\n    </tr>\n    <tr>\n      <th>3</th>\n      <td>2021-03-01</td>\n      <td>0022000533</td>\n      <td>New Orleans Pelicans</td>\n      <td>1.610613e+09</td>\n      <td>Utah Jazz</td>\n      <td>1.610613e+09</td>\n    </tr>\n    <tr>\n      <th>4</th>\n      <td>2021-03-01</td>\n      <td>0022000534</td>\n      <td>San Antonio Spurs</td>\n      <td>1.610613e+09</td>\n      <td>Brooklyn Nets</td>\n      <td>1.610613e+09</td>\n    </tr>\n    <tr>\n      <th>...</th>\n      <td>...</td>\n      <td>...</td>\n      <td>...</td>\n      <td>...</td>\n      <td>...</td>\n      <td>...</td>\n    </tr>\n    <tr>\n      <th>65</th>\n      <td>2021-03-14</td>\n      <td>0022000597</td>\n      <td>Atlanta Hawks</td>\n      <td>1.610613e+09</td>\n      <td>Cleveland Cavaliers</td>\n      <td>1.610613e+09</td>\n    </tr>\n    <tr>\n      <th>66</th>\n      <td>2021-03-14</td>\n      <td>0022000598</td>\n      <td>Houston Rockets</td>\n      <td>1.610613e+09</td>\n      <td>Boston Celtics</td>\n      <td>1.610613e+09</td>\n    </tr>\n    <tr>\n      <th>67</th>\n      <td>2021-03-14</td>\n      <td>0022000599</td>\n      <td>Minnesota Timberwolves</td>\n      <td>1.610613e+09</td>\n      <td>Portland Trail Blazers</td>\n      <td>1.610613e+09</td>\n    </tr>\n    <tr>\n      <th>68</th>\n      <td>2021-03-14</td>\n      <td>0022000600</td>\n      <td>Chicago Bulls</td>\n      <td>1.610613e+09</td>\n      <td>Toronto Raptors</td>\n      <td>1.610613e+09</td>\n    </tr>\n    <tr>\n      <th>69</th>\n      <td>2021-03-14</td>\n      <td>0022000601</td>\n      <td>New Orleans Pelicans</td>\n      <td>1.610613e+09</td>\n      <td>LA Clippers</td>\n      <td>1.610613e+09</td>\n    </tr>\n  </tbody>\n</table>\n<p>70 rows × 6 columns</p>\n</div>"
     },
     "execution_count": 28,
     "metadata": {},
     "output_type": "execute_result"
    }
   ],
   "source": [
    "filtered_games_week\n"
   ],
   "metadata": {
    "collapsed": false,
    "pycharm": {
     "name": "#%%\n"
    }
   }
  },
  {
   "cell_type": "code",
   "execution_count": 44,
   "outputs": [
    {
     "name": "stderr",
     "output_type": "stream",
     "text": [
      "[2021-03-01 20:32:39,498 DEBUG] [yahoo_oauth.oauth.__init__] Checking \n",
      "[2021-03-01 20:32:39,500 DEBUG] [yahoo_oauth.oauth.token_is_valid] ELAPSED TIME : 3771.1784315109253\n",
      "[2021-03-01 20:32:39,501 DEBUG] [yahoo_oauth.oauth.token_is_valid] TOKEN HAS EXPIRED\n",
      "[2021-03-01 20:32:39,502 DEBUG] [yahoo_oauth.oauth.refresh_access_token] REFRESHING TOKEN\n",
      "[2021-03-01 20:32:46,530 DEBUG] [yahoo_oauth.oauth.__init__] Checking \n",
      "[2021-03-01 20:32:46,541 DEBUG] [yahoo_oauth.oauth.token_is_valid] ELAPSED TIME : 7.037970542907715\n",
      "[2021-03-01 20:32:46,542 DEBUG] [yahoo_oauth.oauth.token_is_valid] TOKEN IS STILL VALID\n",
      "[2021-03-01 20:32:47,567 DEBUG] [yahoo_oauth.oauth.__init__] Checking \n",
      "[2021-03-01 20:32:47,570 DEBUG] [yahoo_oauth.oauth.token_is_valid] ELAPSED TIME : 8.06714129447937\n",
      "[2021-03-01 20:32:47,571 DEBUG] [yahoo_oauth.oauth.token_is_valid] TOKEN IS STILL VALID\n",
      "[2021-03-01 20:32:48,475 DEBUG] [yahoo_oauth.oauth.__init__] Checking \n",
      "[2021-03-01 20:32:48,477 DEBUG] [yahoo_oauth.oauth.token_is_valid] ELAPSED TIME : 8.974380016326904\n",
      "[2021-03-01 20:32:48,478 DEBUG] [yahoo_oauth.oauth.token_is_valid] TOKEN IS STILL VALID\n",
      "[2021-03-01 20:32:49,435 DEBUG] [yahoo_oauth.oauth.__init__] Checking \n",
      "[2021-03-01 20:32:49,438 DEBUG] [yahoo_oauth.oauth.token_is_valid] ELAPSED TIME : 9.934749364852905\n",
      "[2021-03-01 20:32:49,439 DEBUG] [yahoo_oauth.oauth.token_is_valid] TOKEN IS STILL VALID\n",
      "[2021-03-01 20:32:50,341 DEBUG] [yahoo_oauth.oauth.__init__] Checking \n",
      "[2021-03-01 20:32:50,346 DEBUG] [yahoo_oauth.oauth.token_is_valid] ELAPSED TIME : 10.843414783477783\n",
      "[2021-03-01 20:32:50,347 DEBUG] [yahoo_oauth.oauth.token_is_valid] TOKEN IS STILL VALID\n",
      "[2021-03-01 20:32:51,260 DEBUG] [yahoo_oauth.oauth.__init__] Checking \n",
      "[2021-03-01 20:32:51,264 DEBUG] [yahoo_oauth.oauth.token_is_valid] ELAPSED TIME : 11.761416912078857\n",
      "[2021-03-01 20:32:51,264 DEBUG] [yahoo_oauth.oauth.token_is_valid] TOKEN IS STILL VALID\n",
      "[2021-03-01 20:32:52,236 DEBUG] [yahoo_oauth.oauth.__init__] Checking \n",
      "[2021-03-01 20:32:52,239 DEBUG] [yahoo_oauth.oauth.token_is_valid] ELAPSED TIME : 12.735034227371216\n",
      "[2021-03-01 20:32:52,239 DEBUG] [yahoo_oauth.oauth.token_is_valid] TOKEN IS STILL VALID\n",
      "[2021-03-01 20:32:53,150 DEBUG] [yahoo_oauth.oauth.__init__] Checking \n",
      "[2021-03-01 20:32:53,153 DEBUG] [yahoo_oauth.oauth.token_is_valid] ELAPSED TIME : 13.649984359741211\n",
      "[2021-03-01 20:32:53,153 DEBUG] [yahoo_oauth.oauth.token_is_valid] TOKEN IS STILL VALID\n",
      "[2021-03-01 20:32:54,080 DEBUG] [yahoo_oauth.oauth.__init__] Checking \n",
      "[2021-03-01 20:32:54,089 DEBUG] [yahoo_oauth.oauth.token_is_valid] ELAPSED TIME : 14.585986852645874\n",
      "[2021-03-01 20:32:54,090 DEBUG] [yahoo_oauth.oauth.token_is_valid] TOKEN IS STILL VALID\n",
      "[2021-03-01 20:32:54,957 DEBUG] [yahoo_oauth.oauth.__init__] Checking \n",
      "[2021-03-01 20:32:54,961 DEBUG] [yahoo_oauth.oauth.token_is_valid] ELAPSED TIME : 15.4566490650177\n",
      "[2021-03-01 20:32:54,962 DEBUG] [yahoo_oauth.oauth.token_is_valid] TOKEN IS STILL VALID\n",
      "[2021-03-01 20:32:55,942 DEBUG] [yahoo_oauth.oauth.__init__] Checking \n",
      "[2021-03-01 20:32:55,945 DEBUG] [yahoo_oauth.oauth.token_is_valid] ELAPSED TIME : 16.442492485046387\n",
      "[2021-03-01 20:32:55,946 DEBUG] [yahoo_oauth.oauth.token_is_valid] TOKEN IS STILL VALID\n",
      "[2021-03-01 20:32:56,845 DEBUG] [yahoo_oauth.oauth.__init__] Checking \n",
      "[2021-03-01 20:32:56,847 DEBUG] [yahoo_oauth.oauth.token_is_valid] ELAPSED TIME : 17.344170331954956\n",
      "[2021-03-01 20:32:56,848 DEBUG] [yahoo_oauth.oauth.token_is_valid] TOKEN IS STILL VALID\n",
      "[2021-03-01 20:32:57,838 DEBUG] [yahoo_oauth.oauth.__init__] Checking \n",
      "[2021-03-01 20:32:57,846 DEBUG] [yahoo_oauth.oauth.token_is_valid] ELAPSED TIME : 18.343244075775146\n",
      "[2021-03-01 20:32:57,846 DEBUG] [yahoo_oauth.oauth.token_is_valid] TOKEN IS STILL VALID\n",
      "[2021-03-01 20:32:58,761 DEBUG] [yahoo_oauth.oauth.__init__] Checking \n",
      "[2021-03-01 20:32:58,764 DEBUG] [yahoo_oauth.oauth.token_is_valid] ELAPSED TIME : 19.26117467880249\n",
      "[2021-03-01 20:32:58,765 DEBUG] [yahoo_oauth.oauth.token_is_valid] TOKEN IS STILL VALID\n",
      "[2021-03-01 20:32:59,684 DEBUG] [yahoo_oauth.oauth.__init__] Checking \n",
      "[2021-03-01 20:32:59,687 DEBUG] [yahoo_oauth.oauth.token_is_valid] ELAPSED TIME : 20.18402075767517\n",
      "[2021-03-01 20:32:59,688 DEBUG] [yahoo_oauth.oauth.token_is_valid] TOKEN IS STILL VALID\n",
      "[2021-03-01 20:33:00,612 DEBUG] [yahoo_oauth.oauth.__init__] Checking \n",
      "[2021-03-01 20:33:00,615 DEBUG] [yahoo_oauth.oauth.token_is_valid] ELAPSED TIME : 21.112294912338257\n",
      "[2021-03-01 20:33:00,615 DEBUG] [yahoo_oauth.oauth.token_is_valid] TOKEN IS STILL VALID\n"
     ]
    },
    {
     "name": "stdout",
     "output_type": "stream",
     "text": [
      "Utah Jazz                 1\n",
      "Brooklyn Nets             1\n",
      "Philadelphia 76ers        1\n",
      "Chicago Bulls             1\n",
      "Houston Rockets           1\n",
      "Charlotte Hornets         1\n",
      "Orlando Magic             1\n",
      "Portland Trail Blazers    1\n",
      "Cleveland Cavaliers       1\n",
      "New Orleans Pelicans      1\n",
      "Denver Nuggets            1\n",
      "Indiana Pacers            1\n",
      "Dallas Mavericks          1\n",
      "San Antonio Spurs         1\n",
      "dtype: int64\n",
      "Los Angeles Lakers    1\n",
      "Miami Heat            1\n",
      "Detroit Pistons       1\n",
      "Boston Celtics        1\n",
      "LA Clippers           1\n",
      "San Antonio Spurs     1\n",
      "New York Knicks       1\n",
      "Phoenix Suns          1\n",
      "Milwaukee Bucks       1\n",
      "Toronto Raptors       1\n",
      "Denver Nuggets        1\n",
      "Washington Wizards    1\n",
      "Memphis Grizzlies     1\n",
      "Atlanta Hawks         1\n",
      "dtype: int64\n",
      "Los Angeles Lakers        1\n",
      "Utah Jazz                 1\n",
      "Dallas Mavericks          1\n",
      "New Orleans Pelicans      1\n",
      "Minnesota Timberwolves    1\n",
      "Philadelphia 76ers        1\n",
      "Golden State Warriors     1\n",
      "Cleveland Cavaliers       1\n",
      "Portland Trail Blazers    1\n",
      "Orlando Magic             1\n",
      "Charlotte Hornets         1\n",
      "Oklahoma City Thunder     1\n",
      "Houston Rockets           1\n",
      "Sacramento Kings          1\n",
      "Indiana Pacers            1\n",
      "Chicago Bulls             1\n",
      "Brooklyn Nets             1\n",
      "Atlanta Hawks             1\n",
      "dtype: int64\n",
      "Oklahoma City Thunder     1\n",
      "New York Knicks           1\n",
      "Memphis Grizzlies         1\n",
      "Detroit Pistons           1\n",
      "Washington Wizards        1\n",
      "Indiana Pacers            1\n",
      "Denver Nuggets            1\n",
      "New Orleans Pelicans      1\n",
      "Golden State Warriors     1\n",
      "Toronto Raptors           1\n",
      "Milwaukee Bucks           1\n",
      "Portland Trail Blazers    1\n",
      "Sacramento Kings          1\n",
      "San Antonio Spurs         1\n",
      "Boston Celtics            1\n",
      "Phoenix Suns              1\n",
      "Miami Heat                1\n",
      "LA Clippers               1\n",
      "dtype: int64\n",
      "Team LeBron    1\n",
      "Team Durant    1\n",
      "dtype: int64\n",
      "Memphis Grizzlies     1\n",
      "Washington Wizards    1\n",
      "San Antonio Spurs     1\n",
      "Dallas Mavericks      1\n",
      "dtype: int64\n",
      "New York Knicks           1\n",
      "Brooklyn Nets             1\n",
      "Milwaukee Bucks           1\n",
      "Dallas Mavericks          1\n",
      "New Orleans Pelicans      1\n",
      "Philadelphia 76ers        1\n",
      "Miami Heat                1\n",
      "Charlotte Hornets         1\n",
      "Golden State Warriors     1\n",
      "Houston Rockets           1\n",
      "Toronto Raptors           1\n",
      "Orlando Magic             1\n",
      "Minnesota Timberwolves    1\n",
      "Oklahoma City Thunder     1\n",
      "Atlanta Hawks             1\n",
      "Phoenix Suns              1\n",
      "Portland Trail Blazers    1\n",
      "Sacramento Kings          1\n",
      "Chicago Bulls             1\n",
      "Boston Celtics            1\n",
      "Detroit Pistons           1\n",
      "LA Clippers               1\n",
      "dtype: int64\n",
      "Los Angeles Lakers      1\n",
      "Utah Jazz               1\n",
      "Miami Heat              1\n",
      "Philadelphia 76ers      1\n",
      "Chicago Bulls           1\n",
      "Houston Rockets         1\n",
      "Orlando Magic           1\n",
      "Cleveland Cavaliers     1\n",
      "New Orleans Pelicans    1\n",
      "Denver Nuggets          1\n",
      "Indiana Pacers          1\n",
      "Washington Wizards      1\n",
      "San Antonio Spurs       1\n",
      "Memphis Grizzlies       1\n",
      "dtype: int64\n",
      "Dallas Mavericks          1\n",
      "Brooklyn Nets             1\n",
      "Detroit Pistons           1\n",
      "Phoenix Suns              1\n",
      "Sacramento Kings          1\n",
      "New York Knicks           1\n",
      "Atlanta Hawks             1\n",
      "Oklahoma City Thunder     1\n",
      "Toronto Raptors           1\n",
      "Portland Trail Blazers    1\n",
      "Charlotte Hornets         1\n",
      "Denver Nuggets            1\n",
      "Minnesota Timberwolves    1\n",
      "Indiana Pacers            1\n",
      "Washington Wizards        1\n",
      "Milwaukee Bucks           1\n",
      "dtype: int64\n",
      "Utah Jazz                 1\n",
      "Houston Rockets           1\n",
      "Memphis Grizzlies         1\n",
      "San Antonio Spurs         1\n",
      "New Orleans Pelicans      1\n",
      "Minnesota Timberwolves    1\n",
      "Miami Heat                1\n",
      "Philadelphia 76ers        1\n",
      "Golden State Warriors     1\n",
      "Toronto Raptors           1\n",
      "Cleveland Cavaliers       1\n",
      "Orlando Magic             1\n",
      "Oklahoma City Thunder     1\n",
      "Portland Trail Blazers    1\n",
      "Chicago Bulls             1\n",
      "LA Clippers               1\n",
      "Boston Celtics            1\n",
      "Atlanta Hawks             1\n",
      "dtype: int64\n"
     ]
    },
    {
     "data": {
      "text/plain": "                     Total  Playable  Mon  Tue  Wed  Thu  Sun  Wed  Thu  Fri  \\\nNunn of Y'all Betta     72        69    7   10    6   10    0    1   10    8   \n\n                     Sat  Sun  \nNunn of Y'all Betta    9    8  ",
      "text/html": "<div>\n<style scoped>\n    .dataframe tbody tr th:only-of-type {\n        vertical-align: middle;\n    }\n\n    .dataframe tbody tr th {\n        vertical-align: top;\n    }\n\n    .dataframe thead th {\n        text-align: right;\n    }\n</style>\n<table border=\"1\" class=\"dataframe\">\n  <thead>\n    <tr style=\"text-align: right;\">\n      <th></th>\n      <th>Total</th>\n      <th>Playable</th>\n      <th>Mon</th>\n      <th>Tue</th>\n      <th>Wed</th>\n      <th>Thu</th>\n      <th>Sun</th>\n      <th>Wed</th>\n      <th>Thu</th>\n      <th>Fri</th>\n      <th>Sat</th>\n      <th>Sun</th>\n    </tr>\n  </thead>\n  <tbody>\n    <tr>\n      <th>Nunn of Y'all Betta</th>\n      <td>72</td>\n      <td>69</td>\n      <td>7</td>\n      <td>10</td>\n      <td>6</td>\n      <td>10</td>\n      <td>0</td>\n      <td>1</td>\n      <td>10</td>\n      <td>8</td>\n      <td>9</td>\n      <td>8</td>\n    </tr>\n  </tbody>\n</table>\n</div>"
     },
     "execution_count": 44,
     "metadata": {},
     "output_type": "execute_result"
    }
   ],
   "source": [
    "get_team_daily_game_count_dataframe_pipeline(af.NUNN_OF_YALL_BETTA)"
   ],
   "metadata": {
    "collapsed": false,
    "pycharm": {
     "name": "#%%\n"
    }
   }
  },
  {
   "cell_type": "code",
   "execution_count": 38,
   "outputs": [
    {
     "data": {
      "text/plain": "32"
     },
     "execution_count": 38,
     "metadata": {},
     "output_type": "execute_result"
    }
   ],
   "source": [
    "nba_teams = set(list(season_games_dataframe[\"home\"]) + list(season_games_dataframe[\"visitors\"]))\n",
    "len(nba_teams)"
   ],
   "metadata": {
    "collapsed": false,
    "pycharm": {
     "name": "#%%\n"
    }
   }
  },
  {
   "cell_type": "code",
   "execution_count": null,
   "outputs": [],
   "source": [
    "def get_nba_team_daily_game_count_dataframe_pipeline(week=\"current\"):\n",
    "    \"\"\"\n",
    "\n",
    "    @param season_games_dataframe:\n",
    "    @param week:\n",
    "    @return:\n",
    "    \"\"\"\n",
    "    season_games_dataframe = get_game_information_in_season(2020)\n",
    "    if week == \"next\":\n",
    "        fantasy_week, week_start_date, week_end_date = get_next_week_information()\n",
    "    elif week == \"current\":\n",
    "        fantasy_week, week_start_date, week_end_date = get_week_current_week_information()\n",
    "    else:\n",
    "        raise ValueError(\"Parameter 'week' must be 'current' or 'next'.\")\n",
    "    filtered_games_week, team_game_counts = get_fantasy_week_games_dataframe\\\n",
    "        (season_games_dataframe, week_start_date, week_end_date)\n",
    "    for team in\n",
    "\n",
    "    daily_game_count_list, cleaned_daily_game_count_list = get_daily_game_count_list\\\n",
    "        (filtered_games_week, player_name_list, team_name_list)\n",
    "    total_and_daily_games_list = [sum(daily_game_count_list)] + [sum(cleaned_daily_game_count_list)]\\\n",
    "                                 + cleaned_daily_game_count_list\n",
    "    matchup_column_names = get_matchup_days_as_column_names(filtered_games_week)\n",
    "    team_daily_game_dataframe = create_daily_game_count_dataframe(total_and_daily_games_list,\n",
    "                                                                  team_dict, matchup_column_names)\n",
    "    return team_daily_game_dataframe"
   ],
   "metadata": {
    "collapsed": false,
    "pycharm": {
     "name": "#%%\n"
    }
   }
  },
  {
   "cell_type": "code",
   "execution_count": 42,
   "outputs": [
    {
     "data": {
      "text/plain": "          gdte         gid                    home      home_tid  \\\n0   2021-03-01  0022000529           Orlando Magic  1.610613e+09   \n1   2021-03-01  0022000530      Philadelphia 76ers  1.610613e+09   \n2   2021-03-01  0022000531           Chicago Bulls  1.610613e+09   \n3   2021-03-01  0022000533    New Orleans Pelicans  1.610613e+09   \n4   2021-03-01  0022000534       San Antonio Spurs  1.610613e+09   \n..         ...         ...                     ...           ...   \n65  2021-03-14  0022000597           Atlanta Hawks  1.610613e+09   \n66  2021-03-14  0022000598         Houston Rockets  1.610613e+09   \n67  2021-03-14  0022000599  Minnesota Timberwolves  1.610613e+09   \n68  2021-03-14  0022000600           Chicago Bulls  1.610613e+09   \n69  2021-03-14  0022000601    New Orleans Pelicans  1.610613e+09   \n\n                  visitors  visitors_tid  \n0         Dallas Mavericks  1.610613e+09  \n1           Indiana Pacers  1.610613e+09  \n2           Denver Nuggets  1.610613e+09  \n3                Utah Jazz  1.610613e+09  \n4            Brooklyn Nets  1.610613e+09  \n..                     ...           ...  \n65     Cleveland Cavaliers  1.610613e+09  \n66          Boston Celtics  1.610613e+09  \n67  Portland Trail Blazers  1.610613e+09  \n68         Toronto Raptors  1.610613e+09  \n69             LA Clippers  1.610613e+09  \n\n[70 rows x 6 columns]",
      "text/html": "<div>\n<style scoped>\n    .dataframe tbody tr th:only-of-type {\n        vertical-align: middle;\n    }\n\n    .dataframe tbody tr th {\n        vertical-align: top;\n    }\n\n    .dataframe thead th {\n        text-align: right;\n    }\n</style>\n<table border=\"1\" class=\"dataframe\">\n  <thead>\n    <tr style=\"text-align: right;\">\n      <th></th>\n      <th>gdte</th>\n      <th>gid</th>\n      <th>home</th>\n      <th>home_tid</th>\n      <th>visitors</th>\n      <th>visitors_tid</th>\n    </tr>\n  </thead>\n  <tbody>\n    <tr>\n      <th>0</th>\n      <td>2021-03-01</td>\n      <td>0022000529</td>\n      <td>Orlando Magic</td>\n      <td>1.610613e+09</td>\n      <td>Dallas Mavericks</td>\n      <td>1.610613e+09</td>\n    </tr>\n    <tr>\n      <th>1</th>\n      <td>2021-03-01</td>\n      <td>0022000530</td>\n      <td>Philadelphia 76ers</td>\n      <td>1.610613e+09</td>\n      <td>Indiana Pacers</td>\n      <td>1.610613e+09</td>\n    </tr>\n    <tr>\n      <th>2</th>\n      <td>2021-03-01</td>\n      <td>0022000531</td>\n      <td>Chicago Bulls</td>\n      <td>1.610613e+09</td>\n      <td>Denver Nuggets</td>\n      <td>1.610613e+09</td>\n    </tr>\n    <tr>\n      <th>3</th>\n      <td>2021-03-01</td>\n      <td>0022000533</td>\n      <td>New Orleans Pelicans</td>\n      <td>1.610613e+09</td>\n      <td>Utah Jazz</td>\n      <td>1.610613e+09</td>\n    </tr>\n    <tr>\n      <th>4</th>\n      <td>2021-03-01</td>\n      <td>0022000534</td>\n      <td>San Antonio Spurs</td>\n      <td>1.610613e+09</td>\n      <td>Brooklyn Nets</td>\n      <td>1.610613e+09</td>\n    </tr>\n    <tr>\n      <th>...</th>\n      <td>...</td>\n      <td>...</td>\n      <td>...</td>\n      <td>...</td>\n      <td>...</td>\n      <td>...</td>\n    </tr>\n    <tr>\n      <th>65</th>\n      <td>2021-03-14</td>\n      <td>0022000597</td>\n      <td>Atlanta Hawks</td>\n      <td>1.610613e+09</td>\n      <td>Cleveland Cavaliers</td>\n      <td>1.610613e+09</td>\n    </tr>\n    <tr>\n      <th>66</th>\n      <td>2021-03-14</td>\n      <td>0022000598</td>\n      <td>Houston Rockets</td>\n      <td>1.610613e+09</td>\n      <td>Boston Celtics</td>\n      <td>1.610613e+09</td>\n    </tr>\n    <tr>\n      <th>67</th>\n      <td>2021-03-14</td>\n      <td>0022000599</td>\n      <td>Minnesota Timberwolves</td>\n      <td>1.610613e+09</td>\n      <td>Portland Trail Blazers</td>\n      <td>1.610613e+09</td>\n    </tr>\n    <tr>\n      <th>68</th>\n      <td>2021-03-14</td>\n      <td>0022000600</td>\n      <td>Chicago Bulls</td>\n      <td>1.610613e+09</td>\n      <td>Toronto Raptors</td>\n      <td>1.610613e+09</td>\n    </tr>\n    <tr>\n      <th>69</th>\n      <td>2021-03-14</td>\n      <td>0022000601</td>\n      <td>New Orleans Pelicans</td>\n      <td>1.610613e+09</td>\n      <td>LA Clippers</td>\n      <td>1.610613e+09</td>\n    </tr>\n  </tbody>\n</table>\n<p>70 rows × 6 columns</p>\n</div>"
     },
     "execution_count": 42,
     "metadata": {},
     "output_type": "execute_result"
    }
   ],
   "source": [
    "def get_nba_daily_game_count_list(filtered_games_week):\n",
    "\n",
    "    daily_game_count_list = list()\n",
    "    for day in list(filtered_games_week[\"gdte\"].unique()):\n",
    "        daily_dataframe = filtered_games_week[filtered_games_week[\"gdte\"] == day]\n",
    "        daily_team_game_counts = daily_dataframe[HOME_KEY].append(daily_dataframe[VISITORS_KEY])\\\n",
    "            .value_counts()"
   ],
   "metadata": {
    "collapsed": false,
    "pycharm": {
     "name": "#%%\n"
    }
   }
  },
  {
   "cell_type": "code",
   "execution_count": 106,
   "outputs": [],
   "source": [
    "def move_column_inplace(df, col, pos):\n",
    "    col = df.pop(col)\n",
    "    df.insert(pos, col.name, col)"
   ],
   "metadata": {
    "collapsed": false,
    "pycharm": {
     "name": "#%%\n"
    }
   }
  },
  {
   "cell_type": "code",
   "execution_count": 113,
   "outputs": [],
   "source": [
    "team_weekly_games_dataframe = pd.DataFrame()\n",
    "for day in list(filtered_games_week[\"gdte\"].unique()):\n",
    "    date_format = pd.to_datetime(str(day))\n",
    "    date_format = date_format.strftime(\"%a\")\n",
    "    daily_dataframe = filtered_games_week[filtered_games_week[\"gdte\"] == day]\n",
    "    daily_team_game_counts = daily_dataframe[HOME_KEY].append(daily_dataframe[VISITORS_KEY])\\\n",
    "        .value_counts()\n",
    "    daily_team_game_counts_dataframe = pd.DataFrame(daily_team_game_counts, columns=[date_format])\n",
    "    team_weekly_games_dataframe = pd.concat([team_weekly_games_dataframe,\n",
    "                                             daily_team_game_counts_dataframe], axis=1)\n",
    "team_weekly_games_dataframe = team_weekly_games_dataframe.fillna(0)\n",
    "team_weekly_games_dataframe.drop(\"Team Durant\", inplace=True)\n",
    "team_weekly_games_dataframe.drop(\"Team LeBron\", inplace=True)\n",
    "team_weekly_games_dataframe.astype(int)\n",
    "team_weekly_games_dataframe[\"Total\"] = team_weekly_games_dataframe.sum(axis=1)\n",
    "team_weekly_games_dataframe.sort_index()\n",
    "move_column_inplace(team_weekly_games_dataframe, \"Total\", 0)"
   ],
   "metadata": {
    "collapsed": false,
    "pycharm": {
     "name": "#%%\n"
    }
   }
  },
  {
   "cell_type": "code",
   "execution_count": 114,
   "outputs": [],
   "source": [
    "def get_nba_team_playing_games_in_week(filtered_games_week):\n",
    "    \"\"\"\n",
    "    Function finds, for each day in the week, which NBA teams play a game that day.\n",
    "    @param filtered_games_week:\n",
    "    @return:\n",
    "    \"\"\"\n",
    "    team_weekly_games_dataframe = pd.DataFrame()\n",
    "    for day in list(filtered_games_week[\"gdte\"].unique()):\n",
    "        date_format = pd.to_datetime(str(day))\n",
    "        date_format = date_format.strftime(\"%a\")\n",
    "        daily_dataframe = filtered_games_week[filtered_games_week[\"gdte\"] == day]\n",
    "        daily_team_game_counts = daily_dataframe[HOME_KEY].append(daily_dataframe[VISITORS_KEY])\\\n",
    "            .value_counts()\n",
    "        daily_team_game_counts_dataframe = pd.DataFrame(daily_team_game_counts, columns=[date_format])\n",
    "        team_weekly_games_dataframe = pd.concat([team_weekly_games_dataframe,\n",
    "                                                 daily_team_game_counts_dataframe], axis=1)\n",
    "    team_weekly_games_dataframe = team_weekly_games_dataframe.fillna(0)\n",
    "    team_weekly_games_dataframe.drop(\"Team Durant\", inplace=True)\n",
    "    team_weekly_games_dataframe.drop(\"Team LeBron\", inplace=True)\n",
    "    team_weekly_games_dataframe.astype(int)\n",
    "    team_weekly_games_dataframe[\"Total\"] = team_weekly_games_dataframe.sum(axis=1)\n",
    "    team_weekly_games_dataframe.sort_index()\n",
    "    move_column_inplace(team_weekly_games_dataframe, \"Total\", 0)\n",
    "    return team_weekly_games_dataframe"
   ],
   "metadata": {
    "collapsed": false,
    "pycharm": {
     "name": "#%%\n"
    }
   }
  },
  {
   "cell_type": "code",
   "execution_count": null,
   "outputs": [],
   "source": [
    "def get_nba_team_playing_games_in_week(filtered_games_week):\n",
    "    \"\"\"\n",
    "    Function finds, for each day in the week, which NBA teams play a game that day.\n",
    "    @param filtered_games_week:\n",
    "    @return:\n",
    "    \"\"\"\n",
    "    team_weekly_games_dataframe = pd.DataFrame()\n",
    "    for day in list(filtered_games_week[\"gdte\"].unique()):\n",
    "        date_format = pd.to_datetime(str(day))\n",
    "        date_format = date_format.strftime(\"%a\")\n",
    "        daily_dataframe = filtered_games_week[filtered_games_week[\"gdte\"] == day]\n",
    "        daily_team_game_counts = daily_dataframe[HOME_KEY].append(daily_dataframe[VISITORS_KEY])\\\n",
    "            .value_counts()\n",
    "        daily_team_game_counts_dataframe = pd.DataFrame(daily_team_game_counts, columns=[date_format])\n",
    "        team_weekly_games_dataframe = pd.concat([team_weekly_games_dataframe,\n",
    "                                                 daily_team_game_counts_dataframe], axis=1)\n",
    "    team_weekly_games_dataframe = team_weekly_games_dataframe.fillna(0)\n",
    "    team_weekly_games_dataframe.drop(\"Team Durant\", inplace=True)\n",
    "    team_weekly_games_dataframe.drop(\"Team LeBron\", inplace=True)\n",
    "    team_weekly_games_dataframe.astype(int)\n",
    "    team_weekly_games_dataframe[\"Total\"] = team_weekly_games_dataframe.sum(axis=1)\n",
    "    team_weekly_games_dataframe.sort_index()\n",
    "    move_column_inplace(team_weekly_games_dataframe, \"Total\", 0)\n",
    "    return team_weekly_games_dataframe\n",
    "\n",
    "def get_nba_team_playing_games_in_week_pipeline(week=\"current\"):\n",
    "    \"\"\"\n",
    "\n",
    "    @param week:\n",
    "    @return:\n",
    "    \"\"\"\n",
    "    season_games_dataframe = get_game_information_in_season(2020)\n",
    "    if week == \"next\":\n",
    "        fantasy_week, week_start_date, week_end_date = get_next_week_information()\n",
    "    elif week == \"current\":\n",
    "        fantasy_week, week_start_date, week_end_date = get_week_current_week_information()\n",
    "    else:\n",
    "        raise ValueError(\"Parameter 'week' must be 'current' or 'next'.\")\n",
    "    filtered_games_week, team_game_counts = get_fantasy_week_games_dataframe\\\n",
    "        (season_games_dataframe, week_start_date, week_end_date)\n",
    "    team_weekly_games_dataframe = get_nba_team_playing_games_in_week(filtered_games_week)\n",
    "    return team_weekly_games_dataframe\n"
   ],
   "metadata": {
    "collapsed": false,
    "pycharm": {
     "name": "#%%\n"
    }
   }
  }
 ],
 "metadata": {
  "kernelspec": {
   "display_name": "Python 3",
   "language": "python",
   "name": "python3"
  },
  "language_info": {
   "codemirror_mode": {
    "name": "ipython",
    "version": 2
   },
   "file_extension": ".py",
   "mimetype": "text/x-python",
   "name": "python",
   "nbconvert_exporter": "python",
   "pygments_lexer": "ipython2",
   "version": "2.7.6"
  }
 },
 "nbformat": 4,
 "nbformat_minor": 0
}