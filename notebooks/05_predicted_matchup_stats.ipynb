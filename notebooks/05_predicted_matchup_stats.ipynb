{
 "cells": [
  {
   "cell_type": "markdown",
   "metadata": {
    "collapsed": true,
    "pycharm": {
     "name": "#%% md\n"
    }
   },
   "source": [
    "## Calendar\n"
   ]
  },
  {
   "cell_type": "code",
   "execution_count": 2,
   "outputs": [],
   "source": [
    "\n",
    "from src.data import all_functions as af\n",
    "import pandas as pd\n"
   ],
   "metadata": {
    "collapsed": false,
    "pycharm": {
     "name": "#%%\n"
    }
   }
  },
  {
   "cell_type": "code",
   "execution_count": 9,
   "outputs": [],
   "source": [
    "import requests\n",
    "import pandas as pd\n",
    "from src.data import all_functions as af\n",
    "\n",
    "PLAYER_COLUMN = \"PLAYER\"\n",
    "TEAM_KEY = \"team_key\"\n",
    "PLAYER_ID_KEY = \"player_id\"\n",
    "NAME_KEY = \"name\"\n",
    "MEAN_ROW = \"mean\"\n",
    "NAME_KEY = \"name\"\n",
    "LSCD_KEY = \"lscd\"\n",
    "MSCD_KEY = \"mscd\"\n",
    "G_KEY = \"g\"\n",
    "GID_KEY = \"gid\"\n",
    "GAME_ID_KEY = \"game_id\"\n",
    "GDATE_KEY = \"gdte\"\n",
    "GAME_DATE_KEY= \"game_date\"\n",
    "V_KEY = \"v\"\n",
    "TID_KEY = \"tid\"\n",
    "VISITORS_TEAM_ID_KEY = \"visitors_tid\"\n",
    "VISITORS_KEY =  \"visitors\"\n",
    "TC_KEY = \"tc\"\n",
    "TN_KEY = \"tn\"\n",
    "H_KEY = \"h\"\n",
    "HOME_TEAM_ID_KEY = \"home_tid\"\n",
    "HOME_KEY = \"home\"\n",
    "TOTAL_ROW = \"total\"\n",
    "INDEX_COLUMN = \"index\"\n",
    "NBA_NAME_LA_CLIPPERS = \"LA Clippers\"\n",
    "YAHOO_NAME_LA_CLIPPERS = \"Los Angeles Clippers\"\n",
    "COLUMN_9CAT_DECIMAL_FORMAT = {af.FIELD_GOAL_PERCENTAGE_COLUMN : af.THREE_DECIMAL_FORMAT,\n",
    "     af.FREE_THROW_PERCENTAGE_COLUMN : af.THREE_DECIMAL_FORMAT,\n",
    "     af.THREES_MADE_COLUMN : af.TWO_DECIMAL_FORMAT,\n",
    "     af.POINTS_COLUMN : af.TWO_DECIMAL_FORMAT,\n",
    "     af.REBOUNDS_COLUMN : af.TWO_DECIMAL_FORMAT,\n",
    "     af.ASSITS_COLUMN : af.TWO_DECIMAL_FORMAT, af.STEALS_COLUMN : af.TWO_DECIMAL_FORMAT,\n",
    "     af.BLOCKS_COLUMN : af.TWO_DECIMAL_FORMAT, af.TURNOVERS_COLUMN : af.TWO_DECIMAL_FORMAT}\n",
    "\n",
    "def get_game_information_in_month(nba_json):\n",
    "    \"\"\"\n",
    "    Function loops through a month (n) in nba_json and creates a dataframe containing game\n",
    "    information, game_id, home/visitor team/team_id and game_date for each month.\n",
    "    param nba_json (dictionary): dictionary containing game information\n",
    "    returns game_dataframe (pandas dataframe): dataframe containing game information for a month\n",
    "    \"\"\"\n",
    "    game_dataframe = pd.DataFrame()\n",
    "    for n in range(len(nba_json)):\n",
    "        game_dictionary = dict()\n",
    "        game_dictionary[GID_KEY] = nba_json[n][GID_KEY]\n",
    "        game_dictionary[GDATE_KEY] = nba_json[n][GDATE_KEY]\n",
    "        game_dictionary[VISITORS_TEAM_ID_KEY] = nba_json[n][V_KEY][TID_KEY]\n",
    "        game_dictionary[VISITORS_KEY] = nba_json[n][V_KEY][TC_KEY] + \" \" \\\n",
    "                                        + nba_json[n][V_KEY][TN_KEY]\n",
    "        game_dictionary[HOME_TEAM_ID_KEY] = nba_json[n][H_KEY][TID_KEY]\n",
    "        game_dictionary[HOME_KEY] = nba_json[n][H_KEY][TC_KEY] + \" \" \\\n",
    "                                    + nba_json[n][H_KEY][TN_KEY]\n",
    "        game_dataframe = game_dataframe.append(game_dictionary, ignore_index=True)\n",
    "    return game_dataframe\n",
    "\n",
    "def get_game_information_in_season(season):\n",
    "    \"\"\"\n",
    "    Function calls the NBA endpoint that returns the season schedule. It then loops through each\n",
    "    month in that schedule to create a dataframe containing game information, game_id,\n",
    "    home/visitor team/team_id and game_date for the season.\n",
    "    param season (string): season for schedule\n",
    "    returns season_games_dataframe (pandas dataframe): dataframe containing game information for\n",
    "    a season\n",
    "    \"\"\"\n",
    "    r = requests.get(f\"http://data.nba\"\n",
    "                     f\".com/data/10s/v2015/json/mobile_teams/nba/{season}/league/00_full_schedule\"\n",
    "                     f\".json\")\n",
    "    game_information_json = r.json()[LSCD_KEY]\n",
    "    season_games_dataframe = pd.DataFrame()\n",
    "    for n in range(len(game_information_json)):\n",
    "        month_n_game_dataframe = get_game_information_in_month\\\n",
    "            (game_information_json[n][MSCD_KEY][G_KEY])\n",
    "        season_games_dataframe = season_games_dataframe.append(month_n_game_dataframe)\n",
    "    return season_games_dataframe\n",
    "\n",
    "def get_week_current_week_information():\n",
    "    \"\"\"\n",
    "    Function finds the current Yahoo Fantasy week number and its start and end date.\n",
    "    return current_fantasy_week (int): Yahoo Fantasy week number\n",
    "    return week_start_date (string): start date of Yahoo Fantasy week number\n",
    "    return week_end_date (string): end date of Yahoo Fantasy week number\n",
    "    \"\"\"\n",
    "    sc = af.yahoo_fantasy_api_authentication()\n",
    "    league = af.yahoo_fantasy_league(sc)\n",
    "    current_fantasy_week = league.current_week()\n",
    "    week_start_date = league.week_date_range(current_fantasy_week)[0]\n",
    "    week_end_date = league.week_date_range(current_fantasy_week)[1]\n",
    "    return current_fantasy_week, week_start_date, week_end_date\n",
    "\n",
    "def get_next_week_information():\n",
    "    \"\"\"\n",
    "    Function finds the next Yahoo Fantasy week number and its start and end date.\n",
    "    return next_fantasy_week (int): Yahoo Fantasy week number\n",
    "    return week_start_date (string): start date of Yahoo Fantasy week number\n",
    "    return week_end_date (string): end date of Yahoo Fantasy week number\n",
    "    \"\"\"\n",
    "    sc = af.yahoo_fantasy_api_authentication()\n",
    "    league = af.yahoo_fantasy_league(sc)\n",
    "    next_fantasy_week = league.current_week() + 1\n",
    "    week_start_date = league.week_date_range(next_fantasy_week)[0]\n",
    "    week_end_date = league.week_date_range(next_fantasy_week)[1]\n",
    "    return next_fantasy_week, week_start_date, week_end_date\n",
    "\n",
    "def get_player_ids_names_in_fantasy_team(team_dict):\n",
    "    \"\"\"\n",
    "    Function finds the Yahoo Fantasy player ids and player names rostered by a team in the league\n",
    "    param team_dict (dictionary): dictionary containing information about a owners team\n",
    "    return player_id_name_team_list (list): Yahoo Fantasy player ids and names\n",
    "    return player_name_list (list): Yahoo Fantasy player names\n",
    "    \"\"\"\n",
    "    sc = af.yahoo_fantasy_api_authentication()\n",
    "    league = af.yahoo_fantasy_league(sc)\n",
    "    team = league.to_team(team_dict[TEAM_KEY])\n",
    "    team_roster = team.roster()\n",
    "    player_id_name_team_list = [{PLAYER_ID_KEY : player[PLAYER_ID_KEY], NAME_KEY : player[NAME_KEY]}\n",
    "                           for player in team_roster]\n",
    "    player_name_list = [player[NAME_KEY] for player in player_id_name_team_list]\n",
    "    return player_id_name_team_list, player_name_list\n",
    "\n",
    "def get_fantasy_week_games_dataframe(season_schedule_dataframe, week_start_date, week_end_date):\n",
    "    \"\"\"\n",
    "    Function filters the entire NBA season schedule on a start/end date to find the scheduled\n",
    "    games between specific dates. It returns the amount of games each NBA team plays during that\n",
    "    period of time.\n",
    "    param season_schedule_dataframe (pandas dataframe): dataframe containing the entire seasons\n",
    "    NBA schedule\n",
    "    param week_start_date (string): date to begin filtering by\n",
    "    param week_start_date (string): date to end filtering by\n",
    "    return current_fantasy_games_week (pandas dataframe) dataframe containing the scheduled games\n",
    "    in specified param dates\n",
    "    return team_game_counts (pandas series): series containing count of games for each NBA team\n",
    "    \"\"\"\n",
    "    filtered_games_week = season_schedule_dataframe[(season_schedule_dataframe[GDATE_KEY] >=\n",
    "                                                   str(week_start_date)) &\n",
    "                                                  (season_schedule_dataframe[GDATE_KEY] <=\n",
    "                                                   str(week_end_date))]\n",
    "    team_game_counts = filtered_games_week[HOME_KEY].append\\\n",
    "        (filtered_games_week[VISITORS_KEY]).value_counts()\n",
    "    return filtered_games_week, team_game_counts\n",
    "\n",
    "def get_player_games(team_game_counts_series, player_name_list):\n",
    "    \"\"\"\n",
    "    Function creates a dictionary containing key/value pairs of player names/games in a series of\n",
    "    NBA team game counts\n",
    "    param team_game_counts_series (pandas series): series of team name and games playing\n",
    "    param player_name_list (list): list of player names\n",
    "    return player_games_dictionary (dictionary): key/value pairing of player names/games playing\n",
    "    \"\"\"\n",
    "    player_games_dictionary = dict()\n",
    "    team_game_counts_dataframe = pd.DataFrame(team_game_counts_series)\n",
    "    team_game_counts_dataframe.reset_index(inplace=True)\n",
    "    team_game_counts_dataframe = team_game_counts_dataframe.replace(NBA_NAME_LA_CLIPPERS,\n",
    "                                                                    YAHOO_NAME_LA_CLIPPERS)\n",
    "    for player in player_name_list:\n",
    "        team = af.yahoo_player_team_and_jersey(player)[0]\n",
    "        try:\n",
    "            player_games_dictionary[player] = \\\n",
    "                team_game_counts_dataframe[team_game_counts_dataframe[\"index\"] == team][0].iloc[0]\n",
    "        except IndexError:\n",
    "            player_games_dictionary[player] = 0\n",
    "    return player_games_dictionary\n",
    "\n",
    "def get_team_player_game_dataframe(team_dict, week=\"next\", season=2020):\n",
    "    \"\"\"\n",
    "\n",
    "    @param team_dict:\n",
    "    @param week:\n",
    "    @param season:\n",
    "    @return:\n",
    "    \"\"\"\n",
    "    sc = af.yahoo_fantasy_api_authentication()\n",
    "    league = af.yahoo_fantasy_league(sc)\n",
    "    if week == \"next\":\n",
    "        fantasy_week, week_start_date, week_end_date = get_next_week_information()\n",
    "    elif week == \"current\":\n",
    "        fantasy_week, week_start_date, week_end_date = get_week_current_week_information()\n",
    "    else:\n",
    "        raise ValueError(\"Parameter 'week' must be 'current' or 'next'.\")\n",
    "    season_games_dataframe = get_game_information_in_season(season) # Run once only\n",
    "    filtered_games_week, team_game_counts = get_fantasy_week_games_dataframe\\\n",
    "        (season_games_dataframe, week_start_date, week_end_date)\n",
    "    player_id_name_team_list, player_name_list = get_player_ids_names_in_fantasy_team(team_dict)\n",
    "    player_games_dictionary = get_player_games(team_game_counts, player_name_list)\n",
    "    return filtered_games_week, player_games_dictionary"
   ],
   "metadata": {
    "collapsed": false,
    "pycharm": {
     "name": "#%%\n"
    }
   }
  },
  {
   "cell_type": "code",
   "execution_count": 10,
   "outputs": [
    {
     "name": "stderr",
     "output_type": "stream",
     "text": [
      "[2021-02-22 22:40:02,632 DEBUG] [yahoo_oauth.oauth.__init__] Checking \n",
      "[2021-02-22 22:40:02,636 DEBUG] [yahoo_oauth.oauth.token_is_valid] ELAPSED TIME : 1842.7591905593872\n",
      "[2021-02-22 22:40:02,637 DEBUG] [yahoo_oauth.oauth.token_is_valid] TOKEN IS STILL VALID\n",
      "[2021-02-22 22:40:03,178 DEBUG] [yahoo_oauth.oauth.__init__] Checking \n",
      "[2021-02-22 22:40:03,182 DEBUG] [yahoo_oauth.oauth.token_is_valid] ELAPSED TIME : 1843.3057100772858\n",
      "[2021-02-22 22:40:03,182 DEBUG] [yahoo_oauth.oauth.token_is_valid] TOKEN IS STILL VALID\n",
      "[2021-02-22 22:40:07,472 DEBUG] [yahoo_oauth.oauth.__init__] Checking \n",
      "[2021-02-22 22:40:07,474 DEBUG] [yahoo_oauth.oauth.token_is_valid] ELAPSED TIME : 1847.5978558063507\n",
      "[2021-02-22 22:40:07,475 DEBUG] [yahoo_oauth.oauth.token_is_valid] TOKEN IS STILL VALID\n",
      "[2021-02-22 22:40:08,423 DEBUG] [yahoo_oauth.oauth.__init__] Checking \n",
      "[2021-02-22 22:40:08,425 DEBUG] [yahoo_oauth.oauth.token_is_valid] ELAPSED TIME : 1848.548546075821\n",
      "[2021-02-22 22:40:08,426 DEBUG] [yahoo_oauth.oauth.token_is_valid] TOKEN IS STILL VALID\n",
      "[2021-02-22 22:40:09,345 DEBUG] [yahoo_oauth.oauth.__init__] Checking \n",
      "[2021-02-22 22:40:09,349 DEBUG] [yahoo_oauth.oauth.token_is_valid] ELAPSED TIME : 1849.4721808433533\n",
      "[2021-02-22 22:40:09,350 DEBUG] [yahoo_oauth.oauth.token_is_valid] TOKEN IS STILL VALID\n",
      "[2021-02-22 22:40:10,309 DEBUG] [yahoo_oauth.oauth.__init__] Checking \n",
      "[2021-02-22 22:40:10,312 DEBUG] [yahoo_oauth.oauth.token_is_valid] ELAPSED TIME : 1850.4356336593628\n",
      "[2021-02-22 22:40:10,313 DEBUG] [yahoo_oauth.oauth.token_is_valid] TOKEN IS STILL VALID\n",
      "[2021-02-22 22:40:11,259 DEBUG] [yahoo_oauth.oauth.__init__] Checking \n",
      "[2021-02-22 22:40:11,264 DEBUG] [yahoo_oauth.oauth.token_is_valid] ELAPSED TIME : 1851.3874208927155\n",
      "[2021-02-22 22:40:11,265 DEBUG] [yahoo_oauth.oauth.token_is_valid] TOKEN IS STILL VALID\n",
      "[2021-02-22 22:40:12,226 DEBUG] [yahoo_oauth.oauth.__init__] Checking \n",
      "[2021-02-22 22:40:12,230 DEBUG] [yahoo_oauth.oauth.token_is_valid] ELAPSED TIME : 1852.3533499240875\n",
      "[2021-02-22 22:40:12,230 DEBUG] [yahoo_oauth.oauth.token_is_valid] TOKEN IS STILL VALID\n",
      "[2021-02-22 22:40:13,119 DEBUG] [yahoo_oauth.oauth.__init__] Checking \n",
      "[2021-02-22 22:40:13,121 DEBUG] [yahoo_oauth.oauth.token_is_valid] ELAPSED TIME : 1853.2447364330292\n",
      "[2021-02-22 22:40:13,122 DEBUG] [yahoo_oauth.oauth.token_is_valid] TOKEN IS STILL VALID\n",
      "[2021-02-22 22:40:14,036 DEBUG] [yahoo_oauth.oauth.__init__] Checking \n",
      "[2021-02-22 22:40:14,038 DEBUG] [yahoo_oauth.oauth.token_is_valid] ELAPSED TIME : 1854.1618893146515\n",
      "[2021-02-22 22:40:14,039 DEBUG] [yahoo_oauth.oauth.token_is_valid] TOKEN IS STILL VALID\n",
      "[2021-02-22 22:40:15,067 DEBUG] [yahoo_oauth.oauth.__init__] Checking \n",
      "[2021-02-22 22:40:15,070 DEBUG] [yahoo_oauth.oauth.token_is_valid] ELAPSED TIME : 1855.193191766739\n",
      "[2021-02-22 22:40:15,071 DEBUG] [yahoo_oauth.oauth.token_is_valid] TOKEN IS STILL VALID\n",
      "[2021-02-22 22:40:16,008 DEBUG] [yahoo_oauth.oauth.__init__] Checking \n",
      "[2021-02-22 22:40:16,012 DEBUG] [yahoo_oauth.oauth.token_is_valid] ELAPSED TIME : 1856.1353857517242\n",
      "[2021-02-22 22:40:16,013 DEBUG] [yahoo_oauth.oauth.token_is_valid] TOKEN IS STILL VALID\n",
      "[2021-02-22 22:40:16,913 DEBUG] [yahoo_oauth.oauth.__init__] Checking \n",
      "[2021-02-22 22:40:16,916 DEBUG] [yahoo_oauth.oauth.token_is_valid] ELAPSED TIME : 1857.0396525859833\n",
      "[2021-02-22 22:40:16,917 DEBUG] [yahoo_oauth.oauth.token_is_valid] TOKEN IS STILL VALID\n",
      "[2021-02-22 22:40:17,810 DEBUG] [yahoo_oauth.oauth.__init__] Checking \n",
      "[2021-02-22 22:40:17,813 DEBUG] [yahoo_oauth.oauth.token_is_valid] ELAPSED TIME : 1857.936544418335\n",
      "[2021-02-22 22:40:17,813 DEBUG] [yahoo_oauth.oauth.token_is_valid] TOKEN IS STILL VALID\n",
      "[2021-02-22 22:40:18,697 DEBUG] [yahoo_oauth.oauth.__init__] Checking \n",
      "[2021-02-22 22:40:18,699 DEBUG] [yahoo_oauth.oauth.token_is_valid] ELAPSED TIME : 1858.8225741386414\n",
      "[2021-02-22 22:40:18,700 DEBUG] [yahoo_oauth.oauth.token_is_valid] TOKEN IS STILL VALID\n",
      "[2021-02-22 22:40:19,627 DEBUG] [yahoo_oauth.oauth.__init__] Checking \n",
      "[2021-02-22 22:40:19,630 DEBUG] [yahoo_oauth.oauth.token_is_valid] ELAPSED TIME : 1859.753671169281\n",
      "[2021-02-22 22:40:19,631 DEBUG] [yahoo_oauth.oauth.token_is_valid] TOKEN IS STILL VALID\n",
      "[2021-02-22 22:40:20,609 DEBUG] [yahoo_oauth.oauth.__init__] Checking \n",
      "[2021-02-22 22:40:20,613 DEBUG] [yahoo_oauth.oauth.token_is_valid] ELAPSED TIME : 1860.7363684177399\n",
      "[2021-02-22 22:40:20,613 DEBUG] [yahoo_oauth.oauth.token_is_valid] TOKEN IS STILL VALID\n",
      "[2021-02-22 22:40:21,539 DEBUG] [yahoo_oauth.oauth.__init__] Checking \n",
      "[2021-02-22 22:40:21,541 DEBUG] [yahoo_oauth.oauth.token_is_valid] ELAPSED TIME : 1861.6640660762787\n",
      "[2021-02-22 22:40:21,542 DEBUG] [yahoo_oauth.oauth.token_is_valid] TOKEN IS STILL VALID\n"
     ]
    }
   ],
   "source": [
    "filtered_games_week, player_games_dictionary = get_team_player_game_dataframe(af\n",
    "                                                                            .NUNN_OF_YALL_BETTA, week=\"current\", season=2020)"
   ],
   "metadata": {
    "collapsed": false,
    "pycharm": {
     "name": "#%%\n"
    }
   }
  },
  {
   "cell_type": "code",
   "execution_count": 11,
   "outputs": [
    {
     "data": {
      "text/plain": "           gdte         gid                    home      home_tid  \\\n168  2021-02-22  0022000473          Indiana Pacers  1.610613e+09   \n169  2021-02-22  0022000474         Houston Rockets  1.610613e+09   \n170  2021-02-22  0022000476        Dallas Mavericks  1.610613e+09   \n171  2021-02-22  0022000475   Oklahoma City Thunder  1.610613e+09   \n172  2021-02-22  0022000477            Phoenix Suns  1.610613e+09   \n173  2021-02-22  0022000478               Utah Jazz  1.610613e+09   \n174  2021-02-22  0022000479      Los Angeles Lakers  1.610613e+09   \n175  2021-02-23  0022000480     Cleveland Cavaliers  1.610613e+09   \n176  2021-02-23  0022000481           Orlando Magic  1.610613e+09   \n177  2021-02-23  0022000482           Brooklyn Nets  1.610613e+09   \n178  2021-02-23  0022000483         New York Knicks  1.610613e+09   \n179  2021-02-23  0022000484         Toronto Raptors  1.610613e+09   \n180  2021-02-23  0022000485        Dallas Mavericks  1.610613e+09   \n181  2021-02-23  0022000486         Milwaukee Bucks  1.610613e+09   \n182  2021-02-23  0022000487          Denver Nuggets  1.610613e+09   \n183  2021-02-23  0022000488             LA Clippers  1.610613e+09   \n184  2021-02-24  0022000489          Indiana Pacers  1.610613e+09   \n185  2021-02-24  0022000490           Atlanta Hawks  1.610613e+09   \n186  2021-02-24  0022000491     Cleveland Cavaliers  1.610613e+09   \n187  2021-02-24  0022000492              Miami Heat  1.610613e+09   \n188  2021-02-24  0022000493           Chicago Bulls  1.610613e+09   \n189  2021-02-24  0022000494    New Orleans Pelicans  1.610613e+09   \n190  2021-02-24  0022000495   Oklahoma City Thunder  1.610613e+09   \n191  2021-02-24  0022000496            Phoenix Suns  1.610613e+09   \n192  2021-02-24  0022000497               Utah Jazz  1.610613e+09   \n193  2021-02-25  0022000498      Philadelphia 76ers  1.610613e+09   \n194  2021-02-25  0022000499           Brooklyn Nets  1.610613e+09   \n195  2021-02-25  0022000500         New York Knicks  1.610613e+09   \n196  2021-02-25  0022000501       Memphis Grizzlies  1.610613e+09   \n197  2021-02-25  0022000502          Denver Nuggets  1.610613e+09   \n198  2021-02-25  0022000503         Milwaukee Bucks  1.610613e+09   \n199  2021-02-26  0022000505          Boston Celtics  1.610613e+09   \n200  2021-02-26  0022000506         Toronto Raptors  1.610613e+09   \n201  2021-02-26  0022000504         Detroit Pistons  1.610613e+09   \n202  2021-02-26  0022000507              Miami Heat  1.610613e+09   \n203  2021-02-26  0022000508           Chicago Bulls  1.610613e+09   \n204  2021-02-26  0022000509       Memphis Grizzlies  1.610613e+09   \n205  2021-02-26  0022000510   Oklahoma City Thunder  1.610613e+09   \n206  2021-02-26  0022000511   Golden State Warriors  1.610613e+09   \n207  2021-02-26  0022000512      Los Angeles Lakers  1.610613e+09   \n208  2021-02-27  0022000513      Philadelphia 76ers  1.610613e+09   \n209  2021-02-27  0022000517      Washington Wizards  1.610613e+09   \n210  2021-02-27  0022000514       San Antonio Spurs  1.610613e+09   \n211  2021-02-27  0022000515         New York Knicks  1.610613e+09   \n212  2021-02-27  0022000516           Orlando Magic  1.610613e+09   \n213  2021-02-27  0022000518   Oklahoma City Thunder  1.610613e+09   \n214  2021-02-27  0022000519           Brooklyn Nets  1.610613e+09   \n215  2021-02-28  0022000520         Milwaukee Bucks  1.610613e+09   \n216  2021-02-28  0022000523         Toronto Raptors  1.610613e+09   \n217  2021-02-28  0022000524          Boston Celtics  1.610613e+09   \n218  2021-02-28  0022000521         Detroit Pistons  1.610613e+09   \n219  2021-02-28  0022000522              Miami Heat  1.610613e+09   \n220  2021-02-28  0022000525         Houston Rockets  1.610613e+09   \n221  2021-02-28  0022000527      Los Angeles Lakers  1.610613e+09   \n222  2021-02-28  0022000526  Minnesota Timberwolves  1.610613e+09   \n223  2021-02-28  0022000528        Sacramento Kings  1.610613e+09   \n\n                   visitors  visitors_tid  \n168       San Antonio Spurs  1.610613e+09  \n169           Chicago Bulls  1.610613e+09  \n170       Memphis Grizzlies  1.610613e+09  \n171              Miami Heat  1.610613e+09  \n172  Portland Trail Blazers  1.610613e+09  \n173       Charlotte Hornets  1.610613e+09  \n174      Washington Wizards  1.610613e+09  \n175           Atlanta Hawks  1.610613e+09  \n176         Detroit Pistons  1.610613e+09  \n177        Sacramento Kings  1.610613e+09  \n178   Golden State Warriors  1.610613e+09  \n179      Philadelphia 76ers  1.610613e+09  \n180          Boston Celtics  1.610613e+09  \n181  Minnesota Timberwolves  1.610613e+09  \n182  Portland Trail Blazers  1.610613e+09  \n183      Washington Wizards  1.610613e+09  \n184   Golden State Warriors  1.610613e+09  \n185          Boston Celtics  1.610613e+09  \n186         Houston Rockets  1.610613e+09  \n187         Toronto Raptors  1.610613e+09  \n188  Minnesota Timberwolves  1.610613e+09  \n189         Detroit Pistons  1.610613e+09  \n190       San Antonio Spurs  1.610613e+09  \n191       Charlotte Hornets  1.610613e+09  \n192      Los Angeles Lakers  1.610613e+09  \n193        Dallas Mavericks  1.610613e+09  \n194           Orlando Magic  1.610613e+09  \n195        Sacramento Kings  1.610613e+09  \n196             LA Clippers  1.610613e+09  \n197      Washington Wizards  1.610613e+09  \n198    New Orleans Pelicans  1.610613e+09  \n199          Indiana Pacers  1.610613e+09  \n200         Houston Rockets  1.610613e+09  \n201        Sacramento Kings  1.610613e+09  \n202               Utah Jazz  1.610613e+09  \n203            Phoenix Suns  1.610613e+09  \n204             LA Clippers  1.610613e+09  \n205           Atlanta Hawks  1.610613e+09  \n206       Charlotte Hornets  1.610613e+09  \n207  Portland Trail Blazers  1.610613e+09  \n208     Cleveland Cavaliers  1.610613e+09  \n209  Minnesota Timberwolves  1.610613e+09  \n210    New Orleans Pelicans  1.610613e+09  \n211          Indiana Pacers  1.610613e+09  \n212               Utah Jazz  1.610613e+09  \n213          Denver Nuggets  1.610613e+09  \n214        Dallas Mavericks  1.610613e+09  \n215             LA Clippers  1.610613e+09  \n216           Chicago Bulls  1.610613e+09  \n217      Washington Wizards  1.610613e+09  \n218         New York Knicks  1.610613e+09  \n219           Atlanta Hawks  1.610613e+09  \n220       Memphis Grizzlies  1.610613e+09  \n221   Golden State Warriors  1.610613e+09  \n222            Phoenix Suns  1.610613e+09  \n223       Charlotte Hornets  1.610613e+09  ",
      "text/html": "<div>\n<style scoped>\n    .dataframe tbody tr th:only-of-type {\n        vertical-align: middle;\n    }\n\n    .dataframe tbody tr th {\n        vertical-align: top;\n    }\n\n    .dataframe thead th {\n        text-align: right;\n    }\n</style>\n<table border=\"1\" class=\"dataframe\">\n  <thead>\n    <tr style=\"text-align: right;\">\n      <th></th>\n      <th>gdte</th>\n      <th>gid</th>\n      <th>home</th>\n      <th>home_tid</th>\n      <th>visitors</th>\n      <th>visitors_tid</th>\n    </tr>\n  </thead>\n  <tbody>\n    <tr>\n      <th>168</th>\n      <td>2021-02-22</td>\n      <td>0022000473</td>\n      <td>Indiana Pacers</td>\n      <td>1.610613e+09</td>\n      <td>San Antonio Spurs</td>\n      <td>1.610613e+09</td>\n    </tr>\n    <tr>\n      <th>169</th>\n      <td>2021-02-22</td>\n      <td>0022000474</td>\n      <td>Houston Rockets</td>\n      <td>1.610613e+09</td>\n      <td>Chicago Bulls</td>\n      <td>1.610613e+09</td>\n    </tr>\n    <tr>\n      <th>170</th>\n      <td>2021-02-22</td>\n      <td>0022000476</td>\n      <td>Dallas Mavericks</td>\n      <td>1.610613e+09</td>\n      <td>Memphis Grizzlies</td>\n      <td>1.610613e+09</td>\n    </tr>\n    <tr>\n      <th>171</th>\n      <td>2021-02-22</td>\n      <td>0022000475</td>\n      <td>Oklahoma City Thunder</td>\n      <td>1.610613e+09</td>\n      <td>Miami Heat</td>\n      <td>1.610613e+09</td>\n    </tr>\n    <tr>\n      <th>172</th>\n      <td>2021-02-22</td>\n      <td>0022000477</td>\n      <td>Phoenix Suns</td>\n      <td>1.610613e+09</td>\n      <td>Portland Trail Blazers</td>\n      <td>1.610613e+09</td>\n    </tr>\n    <tr>\n      <th>173</th>\n      <td>2021-02-22</td>\n      <td>0022000478</td>\n      <td>Utah Jazz</td>\n      <td>1.610613e+09</td>\n      <td>Charlotte Hornets</td>\n      <td>1.610613e+09</td>\n    </tr>\n    <tr>\n      <th>174</th>\n      <td>2021-02-22</td>\n      <td>0022000479</td>\n      <td>Los Angeles Lakers</td>\n      <td>1.610613e+09</td>\n      <td>Washington Wizards</td>\n      <td>1.610613e+09</td>\n    </tr>\n    <tr>\n      <th>175</th>\n      <td>2021-02-23</td>\n      <td>0022000480</td>\n      <td>Cleveland Cavaliers</td>\n      <td>1.610613e+09</td>\n      <td>Atlanta Hawks</td>\n      <td>1.610613e+09</td>\n    </tr>\n    <tr>\n      <th>176</th>\n      <td>2021-02-23</td>\n      <td>0022000481</td>\n      <td>Orlando Magic</td>\n      <td>1.610613e+09</td>\n      <td>Detroit Pistons</td>\n      <td>1.610613e+09</td>\n    </tr>\n    <tr>\n      <th>177</th>\n      <td>2021-02-23</td>\n      <td>0022000482</td>\n      <td>Brooklyn Nets</td>\n      <td>1.610613e+09</td>\n      <td>Sacramento Kings</td>\n      <td>1.610613e+09</td>\n    </tr>\n    <tr>\n      <th>178</th>\n      <td>2021-02-23</td>\n      <td>0022000483</td>\n      <td>New York Knicks</td>\n      <td>1.610613e+09</td>\n      <td>Golden State Warriors</td>\n      <td>1.610613e+09</td>\n    </tr>\n    <tr>\n      <th>179</th>\n      <td>2021-02-23</td>\n      <td>0022000484</td>\n      <td>Toronto Raptors</td>\n      <td>1.610613e+09</td>\n      <td>Philadelphia 76ers</td>\n      <td>1.610613e+09</td>\n    </tr>\n    <tr>\n      <th>180</th>\n      <td>2021-02-23</td>\n      <td>0022000485</td>\n      <td>Dallas Mavericks</td>\n      <td>1.610613e+09</td>\n      <td>Boston Celtics</td>\n      <td>1.610613e+09</td>\n    </tr>\n    <tr>\n      <th>181</th>\n      <td>2021-02-23</td>\n      <td>0022000486</td>\n      <td>Milwaukee Bucks</td>\n      <td>1.610613e+09</td>\n      <td>Minnesota Timberwolves</td>\n      <td>1.610613e+09</td>\n    </tr>\n    <tr>\n      <th>182</th>\n      <td>2021-02-23</td>\n      <td>0022000487</td>\n      <td>Denver Nuggets</td>\n      <td>1.610613e+09</td>\n      <td>Portland Trail Blazers</td>\n      <td>1.610613e+09</td>\n    </tr>\n    <tr>\n      <th>183</th>\n      <td>2021-02-23</td>\n      <td>0022000488</td>\n      <td>LA Clippers</td>\n      <td>1.610613e+09</td>\n      <td>Washington Wizards</td>\n      <td>1.610613e+09</td>\n    </tr>\n    <tr>\n      <th>184</th>\n      <td>2021-02-24</td>\n      <td>0022000489</td>\n      <td>Indiana Pacers</td>\n      <td>1.610613e+09</td>\n      <td>Golden State Warriors</td>\n      <td>1.610613e+09</td>\n    </tr>\n    <tr>\n      <th>185</th>\n      <td>2021-02-24</td>\n      <td>0022000490</td>\n      <td>Atlanta Hawks</td>\n      <td>1.610613e+09</td>\n      <td>Boston Celtics</td>\n      <td>1.610613e+09</td>\n    </tr>\n    <tr>\n      <th>186</th>\n      <td>2021-02-24</td>\n      <td>0022000491</td>\n      <td>Cleveland Cavaliers</td>\n      <td>1.610613e+09</td>\n      <td>Houston Rockets</td>\n      <td>1.610613e+09</td>\n    </tr>\n    <tr>\n      <th>187</th>\n      <td>2021-02-24</td>\n      <td>0022000492</td>\n      <td>Miami Heat</td>\n      <td>1.610613e+09</td>\n      <td>Toronto Raptors</td>\n      <td>1.610613e+09</td>\n    </tr>\n    <tr>\n      <th>188</th>\n      <td>2021-02-24</td>\n      <td>0022000493</td>\n      <td>Chicago Bulls</td>\n      <td>1.610613e+09</td>\n      <td>Minnesota Timberwolves</td>\n      <td>1.610613e+09</td>\n    </tr>\n    <tr>\n      <th>189</th>\n      <td>2021-02-24</td>\n      <td>0022000494</td>\n      <td>New Orleans Pelicans</td>\n      <td>1.610613e+09</td>\n      <td>Detroit Pistons</td>\n      <td>1.610613e+09</td>\n    </tr>\n    <tr>\n      <th>190</th>\n      <td>2021-02-24</td>\n      <td>0022000495</td>\n      <td>Oklahoma City Thunder</td>\n      <td>1.610613e+09</td>\n      <td>San Antonio Spurs</td>\n      <td>1.610613e+09</td>\n    </tr>\n    <tr>\n      <th>191</th>\n      <td>2021-02-24</td>\n      <td>0022000496</td>\n      <td>Phoenix Suns</td>\n      <td>1.610613e+09</td>\n      <td>Charlotte Hornets</td>\n      <td>1.610613e+09</td>\n    </tr>\n    <tr>\n      <th>192</th>\n      <td>2021-02-24</td>\n      <td>0022000497</td>\n      <td>Utah Jazz</td>\n      <td>1.610613e+09</td>\n      <td>Los Angeles Lakers</td>\n      <td>1.610613e+09</td>\n    </tr>\n    <tr>\n      <th>193</th>\n      <td>2021-02-25</td>\n      <td>0022000498</td>\n      <td>Philadelphia 76ers</td>\n      <td>1.610613e+09</td>\n      <td>Dallas Mavericks</td>\n      <td>1.610613e+09</td>\n    </tr>\n    <tr>\n      <th>194</th>\n      <td>2021-02-25</td>\n      <td>0022000499</td>\n      <td>Brooklyn Nets</td>\n      <td>1.610613e+09</td>\n      <td>Orlando Magic</td>\n      <td>1.610613e+09</td>\n    </tr>\n    <tr>\n      <th>195</th>\n      <td>2021-02-25</td>\n      <td>0022000500</td>\n      <td>New York Knicks</td>\n      <td>1.610613e+09</td>\n      <td>Sacramento Kings</td>\n      <td>1.610613e+09</td>\n    </tr>\n    <tr>\n      <th>196</th>\n      <td>2021-02-25</td>\n      <td>0022000501</td>\n      <td>Memphis Grizzlies</td>\n      <td>1.610613e+09</td>\n      <td>LA Clippers</td>\n      <td>1.610613e+09</td>\n    </tr>\n    <tr>\n      <th>197</th>\n      <td>2021-02-25</td>\n      <td>0022000502</td>\n      <td>Denver Nuggets</td>\n      <td>1.610613e+09</td>\n      <td>Washington Wizards</td>\n      <td>1.610613e+09</td>\n    </tr>\n    <tr>\n      <th>198</th>\n      <td>2021-02-25</td>\n      <td>0022000503</td>\n      <td>Milwaukee Bucks</td>\n      <td>1.610613e+09</td>\n      <td>New Orleans Pelicans</td>\n      <td>1.610613e+09</td>\n    </tr>\n    <tr>\n      <th>199</th>\n      <td>2021-02-26</td>\n      <td>0022000505</td>\n      <td>Boston Celtics</td>\n      <td>1.610613e+09</td>\n      <td>Indiana Pacers</td>\n      <td>1.610613e+09</td>\n    </tr>\n    <tr>\n      <th>200</th>\n      <td>2021-02-26</td>\n      <td>0022000506</td>\n      <td>Toronto Raptors</td>\n      <td>1.610613e+09</td>\n      <td>Houston Rockets</td>\n      <td>1.610613e+09</td>\n    </tr>\n    <tr>\n      <th>201</th>\n      <td>2021-02-26</td>\n      <td>0022000504</td>\n      <td>Detroit Pistons</td>\n      <td>1.610613e+09</td>\n      <td>Sacramento Kings</td>\n      <td>1.610613e+09</td>\n    </tr>\n    <tr>\n      <th>202</th>\n      <td>2021-02-26</td>\n      <td>0022000507</td>\n      <td>Miami Heat</td>\n      <td>1.610613e+09</td>\n      <td>Utah Jazz</td>\n      <td>1.610613e+09</td>\n    </tr>\n    <tr>\n      <th>203</th>\n      <td>2021-02-26</td>\n      <td>0022000508</td>\n      <td>Chicago Bulls</td>\n      <td>1.610613e+09</td>\n      <td>Phoenix Suns</td>\n      <td>1.610613e+09</td>\n    </tr>\n    <tr>\n      <th>204</th>\n      <td>2021-02-26</td>\n      <td>0022000509</td>\n      <td>Memphis Grizzlies</td>\n      <td>1.610613e+09</td>\n      <td>LA Clippers</td>\n      <td>1.610613e+09</td>\n    </tr>\n    <tr>\n      <th>205</th>\n      <td>2021-02-26</td>\n      <td>0022000510</td>\n      <td>Oklahoma City Thunder</td>\n      <td>1.610613e+09</td>\n      <td>Atlanta Hawks</td>\n      <td>1.610613e+09</td>\n    </tr>\n    <tr>\n      <th>206</th>\n      <td>2021-02-26</td>\n      <td>0022000511</td>\n      <td>Golden State Warriors</td>\n      <td>1.610613e+09</td>\n      <td>Charlotte Hornets</td>\n      <td>1.610613e+09</td>\n    </tr>\n    <tr>\n      <th>207</th>\n      <td>2021-02-26</td>\n      <td>0022000512</td>\n      <td>Los Angeles Lakers</td>\n      <td>1.610613e+09</td>\n      <td>Portland Trail Blazers</td>\n      <td>1.610613e+09</td>\n    </tr>\n    <tr>\n      <th>208</th>\n      <td>2021-02-27</td>\n      <td>0022000513</td>\n      <td>Philadelphia 76ers</td>\n      <td>1.610613e+09</td>\n      <td>Cleveland Cavaliers</td>\n      <td>1.610613e+09</td>\n    </tr>\n    <tr>\n      <th>209</th>\n      <td>2021-02-27</td>\n      <td>0022000517</td>\n      <td>Washington Wizards</td>\n      <td>1.610613e+09</td>\n      <td>Minnesota Timberwolves</td>\n      <td>1.610613e+09</td>\n    </tr>\n    <tr>\n      <th>210</th>\n      <td>2021-02-27</td>\n      <td>0022000514</td>\n      <td>San Antonio Spurs</td>\n      <td>1.610613e+09</td>\n      <td>New Orleans Pelicans</td>\n      <td>1.610613e+09</td>\n    </tr>\n    <tr>\n      <th>211</th>\n      <td>2021-02-27</td>\n      <td>0022000515</td>\n      <td>New York Knicks</td>\n      <td>1.610613e+09</td>\n      <td>Indiana Pacers</td>\n      <td>1.610613e+09</td>\n    </tr>\n    <tr>\n      <th>212</th>\n      <td>2021-02-27</td>\n      <td>0022000516</td>\n      <td>Orlando Magic</td>\n      <td>1.610613e+09</td>\n      <td>Utah Jazz</td>\n      <td>1.610613e+09</td>\n    </tr>\n    <tr>\n      <th>213</th>\n      <td>2021-02-27</td>\n      <td>0022000518</td>\n      <td>Oklahoma City Thunder</td>\n      <td>1.610613e+09</td>\n      <td>Denver Nuggets</td>\n      <td>1.610613e+09</td>\n    </tr>\n    <tr>\n      <th>214</th>\n      <td>2021-02-27</td>\n      <td>0022000519</td>\n      <td>Brooklyn Nets</td>\n      <td>1.610613e+09</td>\n      <td>Dallas Mavericks</td>\n      <td>1.610613e+09</td>\n    </tr>\n    <tr>\n      <th>215</th>\n      <td>2021-02-28</td>\n      <td>0022000520</td>\n      <td>Milwaukee Bucks</td>\n      <td>1.610613e+09</td>\n      <td>LA Clippers</td>\n      <td>1.610613e+09</td>\n    </tr>\n    <tr>\n      <th>216</th>\n      <td>2021-02-28</td>\n      <td>0022000523</td>\n      <td>Toronto Raptors</td>\n      <td>1.610613e+09</td>\n      <td>Chicago Bulls</td>\n      <td>1.610613e+09</td>\n    </tr>\n    <tr>\n      <th>217</th>\n      <td>2021-02-28</td>\n      <td>0022000524</td>\n      <td>Boston Celtics</td>\n      <td>1.610613e+09</td>\n      <td>Washington Wizards</td>\n      <td>1.610613e+09</td>\n    </tr>\n    <tr>\n      <th>218</th>\n      <td>2021-02-28</td>\n      <td>0022000521</td>\n      <td>Detroit Pistons</td>\n      <td>1.610613e+09</td>\n      <td>New York Knicks</td>\n      <td>1.610613e+09</td>\n    </tr>\n    <tr>\n      <th>219</th>\n      <td>2021-02-28</td>\n      <td>0022000522</td>\n      <td>Miami Heat</td>\n      <td>1.610613e+09</td>\n      <td>Atlanta Hawks</td>\n      <td>1.610613e+09</td>\n    </tr>\n    <tr>\n      <th>220</th>\n      <td>2021-02-28</td>\n      <td>0022000525</td>\n      <td>Houston Rockets</td>\n      <td>1.610613e+09</td>\n      <td>Memphis Grizzlies</td>\n      <td>1.610613e+09</td>\n    </tr>\n    <tr>\n      <th>221</th>\n      <td>2021-02-28</td>\n      <td>0022000527</td>\n      <td>Los Angeles Lakers</td>\n      <td>1.610613e+09</td>\n      <td>Golden State Warriors</td>\n      <td>1.610613e+09</td>\n    </tr>\n    <tr>\n      <th>222</th>\n      <td>2021-02-28</td>\n      <td>0022000526</td>\n      <td>Minnesota Timberwolves</td>\n      <td>1.610613e+09</td>\n      <td>Phoenix Suns</td>\n      <td>1.610613e+09</td>\n    </tr>\n    <tr>\n      <th>223</th>\n      <td>2021-02-28</td>\n      <td>0022000528</td>\n      <td>Sacramento Kings</td>\n      <td>1.610613e+09</td>\n      <td>Charlotte Hornets</td>\n      <td>1.610613e+09</td>\n    </tr>\n  </tbody>\n</table>\n</div>"
     },
     "execution_count": 11,
     "metadata": {},
     "output_type": "execute_result"
    }
   ],
   "source": [
    "filtered_games_week"
   ],
   "metadata": {
    "collapsed": false,
    "pycharm": {
     "name": "#%%\n"
    }
   }
  },
  {
   "cell_type": "code",
   "execution_count": 13,
   "outputs": [
    {
     "data": {
      "text/plain": "{'Patty Mills': 3,\n 'Gary Trent Jr.': 3,\n 'Malcolm Brogdon': 4,\n 'Jimmy Butler': 4,\n 'Jae Crowder': 4,\n 'Duncan Robinson': 4,\n 'Wendell Carter Jr.': 4,\n 'Enes Kanter': 3,\n 'Kyle Kuzma': 4,\n 'Cameron Johnson': 4,\n 'Marcus Smart': 4,\n 'Khris Middleton': 3,\n 'Nikola Jokic': 3,\n 'Pascal Siakam': 4,\n 'Jeremy Lamb': 4}"
     },
     "execution_count": 13,
     "metadata": {},
     "output_type": "execute_result"
    }
   ],
   "source": [
    "player_games_dictionary\n",
    "\n"
   ],
   "metadata": {
    "collapsed": false,
    "pycharm": {
     "name": "#%%\n"
    }
   }
  },
  {
   "cell_type": "code",
   "execution_count": null,
   "outputs": [],
   "source": [],
   "metadata": {
    "collapsed": false,
    "pycharm": {
     "name": "#%%\n"
    }
   }
  },
  {
   "cell_type": "code",
   "execution_count": 18,
   "outputs": [
    {
     "name": "stderr",
     "output_type": "stream",
     "text": [
      "[2021-02-22 22:44:53,890 DEBUG] [yahoo_oauth.oauth.__init__] Checking \n",
      "[2021-02-22 22:44:53,893 DEBUG] [yahoo_oauth.oauth.token_is_valid] ELAPSED TIME : 2134.016390323639\n",
      "[2021-02-22 22:44:53,894 DEBUG] [yahoo_oauth.oauth.token_is_valid] TOKEN IS STILL VALID\n",
      "[2021-02-22 22:44:55,725 DEBUG] [yahoo_oauth.oauth.__init__] Checking \n",
      "[2021-02-22 22:44:55,728 DEBUG] [yahoo_oauth.oauth.token_is_valid] ELAPSED TIME : 2135.8518550395966\n",
      "[2021-02-22 22:44:55,729 DEBUG] [yahoo_oauth.oauth.token_is_valid] TOKEN IS STILL VALID\n"
     ]
    }
   ],
   "source": [
    "season_games_dataframe = get_game_information_in_season(2020)\n",
    "fantasy_week, week_start_date, week_end_date = get_week_current_week_information()\n",
    "filtered_games_week, team_game_counts = get_fantasy_week_games_dataframe\\\n",
    "    (season_games_dataframe, week_start_date, week_end_date)\n",
    "player_id_name_team_list, player_name_list = get_player_ids_names_in_fantasy_team(af\n",
    "                                                                            .NUNN_OF_YALL_BETTA)"
   ],
   "metadata": {
    "collapsed": false,
    "pycharm": {
     "name": "#%%\n"
    }
   }
  },
  {
   "cell_type": "code",
   "execution_count": 24,
   "outputs": [],
   "source": [
    "filtered_filtered_games_week = filtered_games_week[filtered_games_week[\"gdte\"] == \"2021-02-22\"]"
   ],
   "metadata": {
    "collapsed": false,
    "pycharm": {
     "name": "#%%\n"
    }
   }
  },
  {
   "cell_type": "code",
   "execution_count": 27,
   "outputs": [
    {
     "data": {
      "text/plain": "San Antonio Spurs         1\nUtah Jazz                 1\nOklahoma City Thunder     1\nMiami Heat                1\nPortland Trail Blazers    1\nWashington Wizards        1\nPhoenix Suns              1\nHouston Rockets           1\nLos Angeles Lakers        1\nIndiana Pacers            1\nChicago Bulls             1\nCharlotte Hornets         1\nDallas Mavericks          1\nMemphis Grizzlies         1\ndtype: int64"
     },
     "execution_count": 27,
     "metadata": {},
     "output_type": "execute_result"
    }
   ],
   "source": [
    "team_game_counts = filtered_filtered_games_week[HOME_KEY].append\\\n",
    "    (filtered_filtered_games_week[VISITORS_KEY]).value_counts()\n",
    "team_game_counts"
   ],
   "metadata": {
    "collapsed": false,
    "pycharm": {
     "name": "#%%\n"
    }
   }
  },
  {
   "cell_type": "code",
   "execution_count": 29,
   "outputs": [
    {
     "name": "stderr",
     "output_type": "stream",
     "text": [
      "[2021-02-22 22:49:32,068 DEBUG] [yahoo_oauth.oauth.__init__] Checking \n",
      "[2021-02-22 22:49:32,071 DEBUG] [yahoo_oauth.oauth.token_is_valid] ELAPSED TIME : 2412.1949574947357\n",
      "[2021-02-22 22:49:32,072 DEBUG] [yahoo_oauth.oauth.token_is_valid] TOKEN IS STILL VALID\n"
     ]
    }
   ],
   "source": [
    "player_id_name_team_list, player_name_list = get_player_ids_names_in_fantasy_team(af\n",
    "                                                                            .NUNN_OF_YALL_BETTA)"
   ],
   "metadata": {
    "collapsed": false,
    "pycharm": {
     "name": "#%%\n"
    }
   }
  },
  {
   "cell_type": "code",
   "execution_count": 30,
   "outputs": [
    {
     "name": "stderr",
     "output_type": "stream",
     "text": [
      "[2021-02-22 22:49:40,767 DEBUG] [yahoo_oauth.oauth.__init__] Checking \n",
      "[2021-02-22 22:49:40,771 DEBUG] [yahoo_oauth.oauth.token_is_valid] ELAPSED TIME : 2420.8945808410645\n",
      "[2021-02-22 22:49:40,772 DEBUG] [yahoo_oauth.oauth.token_is_valid] TOKEN IS STILL VALID\n",
      "[2021-02-22 22:49:41,714 DEBUG] [yahoo_oauth.oauth.__init__] Checking \n",
      "[2021-02-22 22:49:41,716 DEBUG] [yahoo_oauth.oauth.token_is_valid] ELAPSED TIME : 2421.840026140213\n",
      "[2021-02-22 22:49:41,717 DEBUG] [yahoo_oauth.oauth.token_is_valid] TOKEN IS STILL VALID\n",
      "[2021-02-22 22:49:42,768 DEBUG] [yahoo_oauth.oauth.__init__] Checking \n",
      "[2021-02-22 22:49:42,772 DEBUG] [yahoo_oauth.oauth.token_is_valid] ELAPSED TIME : 2422.8954632282257\n",
      "[2021-02-22 22:49:42,773 DEBUG] [yahoo_oauth.oauth.token_is_valid] TOKEN IS STILL VALID\n",
      "[2021-02-22 22:49:43,790 DEBUG] [yahoo_oauth.oauth.__init__] Checking \n",
      "[2021-02-22 22:49:43,793 DEBUG] [yahoo_oauth.oauth.token_is_valid] ELAPSED TIME : 2423.916601419449\n",
      "[2021-02-22 22:49:43,794 DEBUG] [yahoo_oauth.oauth.token_is_valid] TOKEN IS STILL VALID\n",
      "[2021-02-22 22:49:44,720 DEBUG] [yahoo_oauth.oauth.__init__] Checking \n",
      "[2021-02-22 22:49:44,722 DEBUG] [yahoo_oauth.oauth.token_is_valid] ELAPSED TIME : 2424.8450775146484\n",
      "[2021-02-22 22:49:44,723 DEBUG] [yahoo_oauth.oauth.token_is_valid] TOKEN IS STILL VALID\n",
      "[2021-02-22 22:49:45,610 DEBUG] [yahoo_oauth.oauth.__init__] Checking \n",
      "[2021-02-22 22:49:45,613 DEBUG] [yahoo_oauth.oauth.token_is_valid] ELAPSED TIME : 2425.736652612686\n",
      "[2021-02-22 22:49:45,614 DEBUG] [yahoo_oauth.oauth.token_is_valid] TOKEN IS STILL VALID\n",
      "[2021-02-22 22:49:46,515 DEBUG] [yahoo_oauth.oauth.__init__] Checking \n",
      "[2021-02-22 22:49:46,518 DEBUG] [yahoo_oauth.oauth.token_is_valid] ELAPSED TIME : 2426.6415963172913\n",
      "[2021-02-22 22:49:46,518 DEBUG] [yahoo_oauth.oauth.token_is_valid] TOKEN IS STILL VALID\n",
      "[2021-02-22 22:49:47,437 DEBUG] [yahoo_oauth.oauth.__init__] Checking \n",
      "[2021-02-22 22:49:47,444 DEBUG] [yahoo_oauth.oauth.token_is_valid] ELAPSED TIME : 2427.567445755005\n",
      "[2021-02-22 22:49:47,446 DEBUG] [yahoo_oauth.oauth.token_is_valid] TOKEN IS STILL VALID\n",
      "[2021-02-22 22:49:48,405 DEBUG] [yahoo_oauth.oauth.__init__] Checking \n",
      "[2021-02-22 22:49:48,409 DEBUG] [yahoo_oauth.oauth.token_is_valid] ELAPSED TIME : 2428.532858610153\n",
      "[2021-02-22 22:49:48,411 DEBUG] [yahoo_oauth.oauth.token_is_valid] TOKEN IS STILL VALID\n",
      "[2021-02-22 22:49:49,310 DEBUG] [yahoo_oauth.oauth.__init__] Checking \n",
      "[2021-02-22 22:49:49,313 DEBUG] [yahoo_oauth.oauth.token_is_valid] ELAPSED TIME : 2429.4363005161285\n",
      "[2021-02-22 22:49:49,314 DEBUG] [yahoo_oauth.oauth.token_is_valid] TOKEN IS STILL VALID\n",
      "[2021-02-22 22:49:50,383 DEBUG] [yahoo_oauth.oauth.__init__] Checking \n",
      "[2021-02-22 22:49:50,386 DEBUG] [yahoo_oauth.oauth.token_is_valid] ELAPSED TIME : 2430.509081363678\n",
      "[2021-02-22 22:49:50,386 DEBUG] [yahoo_oauth.oauth.token_is_valid] TOKEN IS STILL VALID\n",
      "[2021-02-22 22:49:51,503 DEBUG] [yahoo_oauth.oauth.__init__] Checking \n",
      "[2021-02-22 22:49:51,507 DEBUG] [yahoo_oauth.oauth.token_is_valid] ELAPSED TIME : 2431.6301271915436\n",
      "[2021-02-22 22:49:51,508 DEBUG] [yahoo_oauth.oauth.token_is_valid] TOKEN IS STILL VALID\n",
      "[2021-02-22 22:49:52,514 DEBUG] [yahoo_oauth.oauth.__init__] Checking \n",
      "[2021-02-22 22:49:52,517 DEBUG] [yahoo_oauth.oauth.token_is_valid] ELAPSED TIME : 2432.640104532242\n",
      "[2021-02-22 22:49:52,518 DEBUG] [yahoo_oauth.oauth.token_is_valid] TOKEN IS STILL VALID\n",
      "[2021-02-22 22:49:53,464 DEBUG] [yahoo_oauth.oauth.__init__] Checking \n",
      "[2021-02-22 22:49:53,470 DEBUG] [yahoo_oauth.oauth.token_is_valid] ELAPSED TIME : 2433.593605995178\n",
      "[2021-02-22 22:49:53,471 DEBUG] [yahoo_oauth.oauth.token_is_valid] TOKEN IS STILL VALID\n",
      "[2021-02-22 22:49:54,369 DEBUG] [yahoo_oauth.oauth.__init__] Checking \n",
      "[2021-02-22 22:49:54,373 DEBUG] [yahoo_oauth.oauth.token_is_valid] ELAPSED TIME : 2434.496448278427\n",
      "[2021-02-22 22:49:54,373 DEBUG] [yahoo_oauth.oauth.token_is_valid] TOKEN IS STILL VALID\n"
     ]
    },
    {
     "data": {
      "text/plain": "{'Patty Mills': 1,\n 'Gary Trent Jr.': 1,\n 'Malcolm Brogdon': 1,\n 'Jimmy Butler': 1,\n 'Jae Crowder': 1,\n 'Duncan Robinson': 1,\n 'Wendell Carter Jr.': 1,\n 'Enes Kanter': 1,\n 'Kyle Kuzma': 1,\n 'Cameron Johnson': 1,\n 'Marcus Smart': 0,\n 'Khris Middleton': 0,\n 'Nikola Jokic': 0,\n 'Pascal Siakam': 0,\n 'Jeremy Lamb': 1}"
     },
     "execution_count": 30,
     "metadata": {},
     "output_type": "execute_result"
    }
   ],
   "source": [
    "player_games_dictionary = get_player_games(team_game_counts, player_name_list)"
   ],
   "metadata": {
    "collapsed": false,
    "pycharm": {
     "name": "#%%\n"
    }
   }
  },
  {
   "cell_type": "code",
   "execution_count": 35,
   "outputs": [
    {
     "name": "stderr",
     "output_type": "stream",
     "text": [
      "[2021-02-22 23:00:23,445 DEBUG] [yahoo_oauth.oauth.__init__] Checking \n",
      "[2021-02-22 23:00:23,448 DEBUG] [yahoo_oauth.oauth.token_is_valid] ELAPSED TIME : 3063.57178068161\n",
      "[2021-02-22 23:00:23,449 DEBUG] [yahoo_oauth.oauth.token_is_valid] TOKEN IS STILL VALID\n",
      "[2021-02-22 23:00:24,343 DEBUG] [yahoo_oauth.oauth.__init__] Checking \n",
      "[2021-02-22 23:00:24,347 DEBUG] [yahoo_oauth.oauth.token_is_valid] ELAPSED TIME : 3064.4704389572144\n",
      "[2021-02-22 23:00:24,348 DEBUG] [yahoo_oauth.oauth.token_is_valid] TOKEN IS STILL VALID\n",
      "[2021-02-22 23:00:25,306 DEBUG] [yahoo_oauth.oauth.__init__] Checking \n",
      "[2021-02-22 23:00:25,309 DEBUG] [yahoo_oauth.oauth.token_is_valid] ELAPSED TIME : 3065.4322288036346\n",
      "[2021-02-22 23:00:25,310 DEBUG] [yahoo_oauth.oauth.token_is_valid] TOKEN IS STILL VALID\n",
      "[2021-02-22 23:00:26,241 DEBUG] [yahoo_oauth.oauth.__init__] Checking \n",
      "[2021-02-22 23:00:26,244 DEBUG] [yahoo_oauth.oauth.token_is_valid] ELAPSED TIME : 3066.367441177368\n",
      "[2021-02-22 23:00:26,245 DEBUG] [yahoo_oauth.oauth.token_is_valid] TOKEN IS STILL VALID\n",
      "[2021-02-22 23:00:27,227 DEBUG] [yahoo_oauth.oauth.__init__] Checking \n",
      "[2021-02-22 23:00:27,230 DEBUG] [yahoo_oauth.oauth.token_is_valid] ELAPSED TIME : 3067.353756427765\n",
      "[2021-02-22 23:00:27,231 DEBUG] [yahoo_oauth.oauth.token_is_valid] TOKEN IS STILL VALID\n",
      "[2021-02-22 23:00:28,155 DEBUG] [yahoo_oauth.oauth.__init__] Checking \n",
      "[2021-02-22 23:00:28,162 DEBUG] [yahoo_oauth.oauth.token_is_valid] ELAPSED TIME : 3068.2857954502106\n",
      "[2021-02-22 23:00:28,163 DEBUG] [yahoo_oauth.oauth.token_is_valid] TOKEN IS STILL VALID\n",
      "[2021-02-22 23:00:29,057 DEBUG] [yahoo_oauth.oauth.__init__] Checking \n",
      "[2021-02-22 23:00:29,066 DEBUG] [yahoo_oauth.oauth.token_is_valid] ELAPSED TIME : 3069.189290046692\n",
      "[2021-02-22 23:00:29,068 DEBUG] [yahoo_oauth.oauth.token_is_valid] TOKEN IS STILL VALID\n",
      "[2021-02-22 23:00:30,017 DEBUG] [yahoo_oauth.oauth.__init__] Checking \n",
      "[2021-02-22 23:00:30,021 DEBUG] [yahoo_oauth.oauth.token_is_valid] ELAPSED TIME : 3070.14484167099\n",
      "[2021-02-22 23:00:30,022 DEBUG] [yahoo_oauth.oauth.token_is_valid] TOKEN IS STILL VALID\n",
      "[2021-02-22 23:00:30,921 DEBUG] [yahoo_oauth.oauth.__init__] Checking \n",
      "[2021-02-22 23:00:30,924 DEBUG] [yahoo_oauth.oauth.token_is_valid] ELAPSED TIME : 3071.047342300415\n",
      "[2021-02-22 23:00:30,925 DEBUG] [yahoo_oauth.oauth.token_is_valid] TOKEN IS STILL VALID\n",
      "[2021-02-22 23:00:31,838 DEBUG] [yahoo_oauth.oauth.__init__] Checking \n",
      "[2021-02-22 23:00:31,845 DEBUG] [yahoo_oauth.oauth.token_is_valid] ELAPSED TIME : 3071.96857213974\n",
      "[2021-02-22 23:00:31,847 DEBUG] [yahoo_oauth.oauth.token_is_valid] TOKEN IS STILL VALID\n",
      "[2021-02-22 23:00:32,744 DEBUG] [yahoo_oauth.oauth.__init__] Checking \n",
      "[2021-02-22 23:00:32,748 DEBUG] [yahoo_oauth.oauth.token_is_valid] ELAPSED TIME : 3072.8719379901886\n",
      "[2021-02-22 23:00:32,749 DEBUG] [yahoo_oauth.oauth.token_is_valid] TOKEN IS STILL VALID\n",
      "[2021-02-22 23:00:33,646 DEBUG] [yahoo_oauth.oauth.__init__] Checking \n",
      "[2021-02-22 23:00:33,649 DEBUG] [yahoo_oauth.oauth.token_is_valid] ELAPSED TIME : 3073.772864818573\n",
      "[2021-02-22 23:00:33,650 DEBUG] [yahoo_oauth.oauth.token_is_valid] TOKEN IS STILL VALID\n",
      "[2021-02-22 23:00:34,628 DEBUG] [yahoo_oauth.oauth.__init__] Checking \n",
      "[2021-02-22 23:00:34,632 DEBUG] [yahoo_oauth.oauth.token_is_valid] ELAPSED TIME : 3074.7559847831726\n",
      "[2021-02-22 23:00:34,634 DEBUG] [yahoo_oauth.oauth.token_is_valid] TOKEN IS STILL VALID\n",
      "[2021-02-22 23:00:35,604 DEBUG] [yahoo_oauth.oauth.__init__] Checking \n",
      "[2021-02-22 23:00:35,608 DEBUG] [yahoo_oauth.oauth.token_is_valid] ELAPSED TIME : 3075.7316064834595\n",
      "[2021-02-22 23:00:35,608 DEBUG] [yahoo_oauth.oauth.token_is_valid] TOKEN IS STILL VALID\n",
      "[2021-02-22 23:00:36,528 DEBUG] [yahoo_oauth.oauth.__init__] Checking \n",
      "[2021-02-22 23:00:36,530 DEBUG] [yahoo_oauth.oauth.token_is_valid] ELAPSED TIME : 3076.6537568569183\n",
      "[2021-02-22 23:00:36,531 DEBUG] [yahoo_oauth.oauth.token_is_valid] TOKEN IS STILL VALID\n"
     ]
    }
   ],
   "source": [
    "team_name_list = list()\n",
    "for player in player_name_list:\n",
    "    team = af.yahoo_player_team_and_jersey(player)[0]\n",
    "    team_name_list.append(team)"
   ],
   "metadata": {
    "collapsed": false,
    "pycharm": {
     "name": "#%%\n"
    }
   }
  },
  {
   "cell_type": "code",
   "execution_count": 49,
   "outputs": [],
   "source": [
    "def get_team_name_list_from_player_name_list(player_name_list):\n",
    "    \"\"\"\n",
    "\n",
    "    @param player_name_list:\n",
    "    @return:\n",
    "    \"\"\"\n",
    "    team_name_list = list()\n",
    "    for player in player_name_list:\n",
    "        team = af.yahoo_player_team_and_jersey(player)[0]\n",
    "        team_name_list.append(team)\n",
    "    return player_name_list, team_name_list\n",
    "\n",
    "def daily_get_player_games(team_game_counts_series, player_name_list, team_name_list):\n",
    "    \"\"\"\n",
    "\n",
    "    @param team_game_counts_series:\n",
    "    @param player_name_list:\n",
    "    @param team_name_list:\n",
    "    @return:\n",
    "    \"\"\"\n",
    "    player_games_dictionary = dict()\n",
    "    team_game_counts_dataframe = pd.DataFrame(team_game_counts_series)\n",
    "    team_game_counts_dataframe.reset_index(inplace=True)\n",
    "    team_game_counts_dataframe = team_game_counts_dataframe.replace(NBA_NAME_LA_CLIPPERS,\n",
    "                                                                    YAHOO_NAME_LA_CLIPPERS)\n",
    "    for player, team in zip(player_name_list,team_name_list):\n",
    "        try:\n",
    "            player_games_dictionary[player] = \\\n",
    "            team_game_counts_dataframe[team_game_counts_dataframe[\"index\"] == team][0].iloc[0]\n",
    "        except IndexError:\n",
    "            player_games_dictionary[player] = 0\n",
    "    return player_games_dictionary"
   ],
   "metadata": {
    "collapsed": false,
    "pycharm": {
     "name": "#%%\n"
    }
   }
  },
  {
   "cell_type": "code",
   "execution_count": 50,
   "outputs": [
    {
     "name": "stderr",
     "output_type": "stream",
     "text": [
      "[2021-02-22 23:06:20,798 DEBUG] [yahoo_oauth.oauth.__init__] Checking \n",
      "[2021-02-22 23:06:20,802 DEBUG] [yahoo_oauth.oauth.token_is_valid] ELAPSED TIME : 3420.925102710724\n",
      "[2021-02-22 23:06:20,803 DEBUG] [yahoo_oauth.oauth.token_is_valid] TOKEN IS STILL VALID\n",
      "[2021-02-22 23:06:22,726 DEBUG] [yahoo_oauth.oauth.__init__] Checking \n",
      "[2021-02-22 23:06:22,729 DEBUG] [yahoo_oauth.oauth.token_is_valid] ELAPSED TIME : 3422.8525907993317\n",
      "[2021-02-22 23:06:22,730 DEBUG] [yahoo_oauth.oauth.token_is_valid] TOKEN IS STILL VALID\n",
      "[2021-02-22 23:06:23,667 DEBUG] [yahoo_oauth.oauth.__init__] Checking \n",
      "[2021-02-22 23:06:23,670 DEBUG] [yahoo_oauth.oauth.token_is_valid] ELAPSED TIME : 3423.7932455539703\n",
      "[2021-02-22 23:06:23,670 DEBUG] [yahoo_oauth.oauth.token_is_valid] TOKEN IS STILL VALID\n",
      "[2021-02-22 23:06:24,595 DEBUG] [yahoo_oauth.oauth.__init__] Checking \n",
      "[2021-02-22 23:06:24,604 DEBUG] [yahoo_oauth.oauth.token_is_valid] ELAPSED TIME : 3424.7272505760193\n",
      "[2021-02-22 23:06:24,605 DEBUG] [yahoo_oauth.oauth.token_is_valid] TOKEN IS STILL VALID\n",
      "[2021-02-22 23:06:25,611 DEBUG] [yahoo_oauth.oauth.__init__] Checking \n",
      "[2021-02-22 23:06:25,620 DEBUG] [yahoo_oauth.oauth.token_is_valid] ELAPSED TIME : 3425.743649482727\n",
      "[2021-02-22 23:06:25,621 DEBUG] [yahoo_oauth.oauth.token_is_valid] TOKEN IS STILL VALID\n",
      "[2021-02-22 23:06:26,534 DEBUG] [yahoo_oauth.oauth.__init__] Checking \n",
      "[2021-02-22 23:06:26,537 DEBUG] [yahoo_oauth.oauth.token_is_valid] ELAPSED TIME : 3426.66086602211\n",
      "[2021-02-22 23:06:26,538 DEBUG] [yahoo_oauth.oauth.token_is_valid] TOKEN IS STILL VALID\n",
      "[2021-02-22 23:06:27,510 DEBUG] [yahoo_oauth.oauth.__init__] Checking \n",
      "[2021-02-22 23:06:27,512 DEBUG] [yahoo_oauth.oauth.token_is_valid] ELAPSED TIME : 3427.635356903076\n",
      "[2021-02-22 23:06:27,513 DEBUG] [yahoo_oauth.oauth.token_is_valid] TOKEN IS STILL VALID\n",
      "[2021-02-22 23:06:28,477 DEBUG] [yahoo_oauth.oauth.__init__] Checking \n",
      "[2021-02-22 23:06:28,480 DEBUG] [yahoo_oauth.oauth.token_is_valid] ELAPSED TIME : 3428.6031568050385\n",
      "[2021-02-22 23:06:28,480 DEBUG] [yahoo_oauth.oauth.token_is_valid] TOKEN IS STILL VALID\n",
      "[2021-02-22 23:06:29,443 DEBUG] [yahoo_oauth.oauth.__init__] Checking \n",
      "[2021-02-22 23:06:29,446 DEBUG] [yahoo_oauth.oauth.token_is_valid] ELAPSED TIME : 3429.5690455436707\n",
      "[2021-02-22 23:06:29,447 DEBUG] [yahoo_oauth.oauth.token_is_valid] TOKEN IS STILL VALID\n",
      "[2021-02-22 23:06:30,378 DEBUG] [yahoo_oauth.oauth.__init__] Checking \n",
      "[2021-02-22 23:06:30,381 DEBUG] [yahoo_oauth.oauth.token_is_valid] ELAPSED TIME : 3430.504144191742\n",
      "[2021-02-22 23:06:30,381 DEBUG] [yahoo_oauth.oauth.token_is_valid] TOKEN IS STILL VALID\n",
      "[2021-02-22 23:06:31,266 DEBUG] [yahoo_oauth.oauth.__init__] Checking \n",
      "[2021-02-22 23:06:31,269 DEBUG] [yahoo_oauth.oauth.token_is_valid] ELAPSED TIME : 3431.3924543857574\n",
      "[2021-02-22 23:06:31,270 DEBUG] [yahoo_oauth.oauth.token_is_valid] TOKEN IS STILL VALID\n",
      "[2021-02-22 23:06:32,163 DEBUG] [yahoo_oauth.oauth.__init__] Checking \n",
      "[2021-02-22 23:06:32,166 DEBUG] [yahoo_oauth.oauth.token_is_valid] ELAPSED TIME : 3432.289469718933\n",
      "[2021-02-22 23:06:32,167 DEBUG] [yahoo_oauth.oauth.token_is_valid] TOKEN IS STILL VALID\n",
      "[2021-02-22 23:06:33,086 DEBUG] [yahoo_oauth.oauth.__init__] Checking \n",
      "[2021-02-22 23:06:33,088 DEBUG] [yahoo_oauth.oauth.token_is_valid] ELAPSED TIME : 3433.21150970459\n",
      "[2021-02-22 23:06:33,089 DEBUG] [yahoo_oauth.oauth.token_is_valid] TOKEN IS STILL VALID\n",
      "[2021-02-22 23:06:33,967 DEBUG] [yahoo_oauth.oauth.__init__] Checking \n",
      "[2021-02-22 23:06:33,976 DEBUG] [yahoo_oauth.oauth.token_is_valid] ELAPSED TIME : 3434.099113225937\n",
      "[2021-02-22 23:06:33,977 DEBUG] [yahoo_oauth.oauth.token_is_valid] TOKEN IS STILL VALID\n",
      "[2021-02-22 23:06:34,873 DEBUG] [yahoo_oauth.oauth.__init__] Checking \n",
      "[2021-02-22 23:06:34,875 DEBUG] [yahoo_oauth.oauth.token_is_valid] ELAPSED TIME : 3434.998877286911\n",
      "[2021-02-22 23:06:34,876 DEBUG] [yahoo_oauth.oauth.token_is_valid] TOKEN IS STILL VALID\n",
      "[2021-02-22 23:06:35,807 DEBUG] [yahoo_oauth.oauth.__init__] Checking \n",
      "[2021-02-22 23:06:35,816 DEBUG] [yahoo_oauth.oauth.token_is_valid] ELAPSED TIME : 3435.9392416477203\n",
      "[2021-02-22 23:06:35,816 DEBUG] [yahoo_oauth.oauth.token_is_valid] TOKEN IS STILL VALID\n",
      "[2021-02-22 23:06:36,778 DEBUG] [yahoo_oauth.oauth.__init__] Checking \n",
      "[2021-02-22 23:06:36,782 DEBUG] [yahoo_oauth.oauth.token_is_valid] ELAPSED TIME : 3436.9051682949066\n",
      "[2021-02-22 23:06:36,782 DEBUG] [yahoo_oauth.oauth.token_is_valid] TOKEN IS STILL VALID\n"
     ]
    }
   ],
   "source": [
    "season_games_dataframe = get_game_information_in_season(2020)\n",
    "fantasy_week, week_start_date, week_end_date = get_week_current_week_information()\n",
    "filtered_games_week, team_game_counts = get_fantasy_week_games_dataframe\\\n",
    "    (season_games_dataframe, week_start_date, week_end_date)\n",
    "player_id_name_team_list, player_name_list = get_player_ids_names_in_fantasy_team(af\n",
    "                                                                            .NUNN_OF_YALL_BETTA)\n",
    "\n",
    "player_name_list, team_name_list = get_team_name_list_from_player_name_list(player_name_list)\n",
    "\n",
    "daily_game_count_list = list()\n",
    "for day in list(filtered_games_week[\"gdte\"].unique()):\n",
    "    daily_dataframe = filtered_games_week[filtered_games_week[\"gdte\"] == day]\n",
    "    daily_team_game_counts = daily_dataframe[HOME_KEY].append(daily_dataframe[VISITORS_KEY])\\\n",
    "        .value_counts()\n",
    "    player_games_dictionary = daily_get_player_games(daily_team_game_counts, player_name_list,\n",
    "                                                     team_name_list)\n",
    "    daily_game_count_list.append(sum(list(player_games_dictionary.values())))"
   ],
   "metadata": {
    "collapsed": false,
    "pycharm": {
     "name": "#%%\n"
    }
   }
  },
  {
   "cell_type": "code",
   "execution_count": 51,
   "outputs": [
    {
     "data": {
      "text/plain": "[11, 6, 11, 2, 12, 4, 9]"
     },
     "execution_count": 51,
     "metadata": {},
     "output_type": "execute_result"
    }
   ],
   "source": [
    "daily_game_count_list"
   ],
   "metadata": {
    "collapsed": false,
    "pycharm": {
     "name": "#%%\n"
    }
   }
  },
  {
   "cell_type": "code",
   "execution_count": 57,
   "outputs": [
    {
     "ename": "SyntaxError",
     "evalue": "invalid syntax (<ipython-input-57-bed5aaf71820>, line 1)",
     "output_type": "error",
     "traceback": [
      "\u001B[1;36m  File \u001B[1;32m\"<ipython-input-57-bed5aaf71820>\"\u001B[1;36m, line \u001B[1;32m1\u001B[0m\n\u001B[1;33m    [lambda: for x in daily_team_game_counts if x > 10 ]\u001B[0m\n\u001B[1;37m             ^\u001B[0m\n\u001B[1;31mSyntaxError\u001B[0m\u001B[1;31m:\u001B[0m invalid syntax\n"
     ]
    }
   ],
   "source": [],
   "metadata": {
    "collapsed": false,
    "pycharm": {
     "name": "#%%\n"
    }
   }
  }
 ],
 "metadata": {
  "kernelspec": {
   "display_name": "Python 3",
   "language": "python",
   "name": "python3"
  },
  "language_info": {
   "codemirror_mode": {
    "name": "ipython",
    "version": 2
   },
   "file_extension": ".py",
   "mimetype": "text/x-python",
   "name": "python",
   "nbconvert_exporter": "python",
   "pygments_lexer": "ipython2",
   "version": "2.7.6"
  }
 },
 "nbformat": 4,
 "nbformat_minor": 0
}