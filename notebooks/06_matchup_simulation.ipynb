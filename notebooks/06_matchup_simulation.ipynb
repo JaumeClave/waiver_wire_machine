{
 "cells": [
  {
   "cell_type": "code",
   "execution_count": 1,
   "metadata": {
    "collapsed": true
   },
   "outputs": [],
   "source": [
    "import numpy as np\n",
    "import pandas as pd"
   ]
  },
  {
   "cell_type": "code",
   "execution_count": 2,
   "outputs": [],
   "source": [
    "from src.data import all_functions as af"
   ],
   "metadata": {
    "collapsed": false,
    "pycharm": {
     "name": "#%%\n"
    }
   }
  },
  {
   "cell_type": "code",
   "execution_count": 29,
   "outputs": [
    {
     "name": "stderr",
     "output_type": "stream",
     "text": [
      "[2021-03-08 19:33:25,021 DEBUG] [yahoo_oauth.oauth.__init__] Checking \n",
      "[2021-03-08 19:33:25,037 DEBUG] [yahoo_oauth.oauth.token_is_valid] ELAPSED TIME : 18.143616914749146\n",
      "[2021-03-08 19:33:25,037 DEBUG] [yahoo_oauth.oauth.token_is_valid] TOKEN IS STILL VALID\n"
     ]
    }
   ],
   "source": [],
   "metadata": {
    "collapsed": false,
    "pycharm": {
     "name": "#%%\n"
    }
   }
  },
  {
   "cell_type": "code",
   "execution_count": 3,
   "outputs": [],
   "source": [
    "import requests\n",
    "import pandas as pd\n",
    "from src.data import all_functions as af\n",
    "\n",
    "PLAYER_COLUMN = \"PLAYER\"\n",
    "TEAM_KEY = \"team_key\"\n",
    "PLAYER_ID_KEY = \"player_id\"\n",
    "NAME_KEY = \"name\"\n",
    "MEAN_ROW = \"mean\"\n",
    "NAME_KEY = \"name\"\n",
    "LSCD_KEY = \"lscd\"\n",
    "MSCD_KEY = \"mscd\"\n",
    "G_KEY = \"g\"\n",
    "GID_KEY = \"gid\"\n",
    "GAME_ID_KEY = \"game_id\"\n",
    "GDATE_KEY = \"gdte\"\n",
    "GAME_DATE_KEY= \"game_date\"\n",
    "V_KEY = \"v\"\n",
    "TID_KEY = \"tid\"\n",
    "VISITORS_TEAM_ID_KEY = \"visitors_tid\"\n",
    "VISITORS_KEY =  \"visitors\"\n",
    "TC_KEY = \"tc\"\n",
    "TN_KEY = \"tn\"\n",
    "H_KEY = \"h\"\n",
    "HOME_TEAM_ID_KEY = \"home_tid\"\n",
    "HOME_KEY = \"home\"\n",
    "TOTAL_ROW = \"total\"\n",
    "INDEX_COLUMN = \"index\"\n",
    "NBA_NAME_LA_CLIPPERS = \"LA Clippers\"\n",
    "YAHOO_NAME_LA_CLIPPERS = \"Los Angeles Clippers\"\n",
    "COLUMN_9CAT_DECIMAL_FORMAT = {af.FIELD_GOAL_PERCENTAGE_COLUMN : af.THREE_DECIMAL_FORMAT,\n",
    "     af.FREE_THROW_PERCENTAGE_COLUMN : af.THREE_DECIMAL_FORMAT,\n",
    "     af.THREES_MADE_COLUMN : af.TWO_DECIMAL_FORMAT,\n",
    "     af.POINTS_COLUMN : af.TWO_DECIMAL_FORMAT,\n",
    "     af.REBOUNDS_COLUMN : af.TWO_DECIMAL_FORMAT,\n",
    "     af.ASSITS_COLUMN : af.TWO_DECIMAL_FORMAT, af.STEALS_COLUMN : af.TWO_DECIMAL_FORMAT,\n",
    "     af.BLOCKS_COLUMN : af.TWO_DECIMAL_FORMAT, af.TURNOVERS_COLUMN : af.TWO_DECIMAL_FORMAT}\n",
    "\n",
    "def get_game_information_in_month(nba_json):\n",
    "    \"\"\"\n",
    "    Function loops through a month (n) in nba_json and creates a dataframe containing game\n",
    "    information, game_id, home/visitor team/team_id and game_date for each month.\n",
    "    param nba_json (dictionary): dictionary containing game information\n",
    "    returns game_dataframe (pandas dataframe): dataframe containing game information for a month\n",
    "    \"\"\"\n",
    "    game_dataframe = pd.DataFrame()\n",
    "    for n in range(len(nba_json)):\n",
    "        game_dictionary = dict()\n",
    "        game_dictionary[GID_KEY] = nba_json[n][GID_KEY]\n",
    "        game_dictionary[GDATE_KEY] = nba_json[n][GDATE_KEY]\n",
    "        game_dictionary[VISITORS_TEAM_ID_KEY] = nba_json[n][V_KEY][TID_KEY]\n",
    "        game_dictionary[VISITORS_KEY] = nba_json[n][V_KEY][TC_KEY] + \" \" \\\n",
    "                                        + nba_json[n][V_KEY][TN_KEY]\n",
    "        game_dictionary[HOME_TEAM_ID_KEY] = nba_json[n][H_KEY][TID_KEY]\n",
    "        game_dictionary[HOME_KEY] = nba_json[n][H_KEY][TC_KEY] + \" \" \\\n",
    "                                    + nba_json[n][H_KEY][TN_KEY]\n",
    "        game_dataframe = game_dataframe.append(game_dictionary, ignore_index=True)\n",
    "    return game_dataframe\n",
    "\n",
    "def get_game_information_in_season(season):\n",
    "    \"\"\"\n",
    "    Function calls the NBA endpoint that returns the season schedule. It then loops through each\n",
    "    month in that schedule to create a dataframe containing game information, game_id,\n",
    "    home/visitor team/team_id and game_date for the season.\n",
    "    param season (string): season for schedule\n",
    "    returns season_games_dataframe (pandas dataframe): dataframe containing game information for\n",
    "    a season\n",
    "    \"\"\"\n",
    "    r = requests.get(f\"http://data.nba\"\n",
    "                     f\".com/data/10s/v2015/json/mobile_teams/nba/{season}/league/00_full_schedule\"\n",
    "                     f\".json\")\n",
    "    game_information_json = r.json()[LSCD_KEY]\n",
    "    season_games_dataframe = pd.DataFrame()\n",
    "    for n in range(len(game_information_json)):\n",
    "        month_n_game_dataframe = get_game_information_in_month\\\n",
    "            (game_information_json[n][MSCD_KEY][G_KEY])\n",
    "        season_games_dataframe = season_games_dataframe.append(month_n_game_dataframe)\n",
    "    return season_games_dataframe\n",
    "\n",
    "def get_week_current_week_information():\n",
    "    \"\"\"\n",
    "    Function finds the current Yahoo Fantasy week number and its start and end date.\n",
    "    return current_fantasy_week (int): Yahoo Fantasy week number\n",
    "    return week_start_date (string): start date of Yahoo Fantasy week number\n",
    "    return week_end_date (string): end date of Yahoo Fantasy week number\n",
    "    \"\"\"\n",
    "    sc = af.yahoo_fantasy_api_authentication()\n",
    "    league = af.yahoo_fantasy_league(sc)\n",
    "    current_fantasy_week = league.current_week()\n",
    "    week_start_date = league.week_date_range(current_fantasy_week)[0]\n",
    "    week_end_date = league.week_date_range(current_fantasy_week)[1]\n",
    "    return current_fantasy_week, week_start_date, week_end_date\n",
    "\n",
    "def get_next_week_information():\n",
    "    \"\"\"\n",
    "    Function finds the next Yahoo Fantasy week number and its start and end date.\n",
    "    return next_fantasy_week (int): Yahoo Fantasy week number\n",
    "    return week_start_date (string): start date of Yahoo Fantasy week number\n",
    "    return week_end_date (string): end date of Yahoo Fantasy week number\n",
    "    \"\"\"\n",
    "    sc = af.yahoo_fantasy_api_authentication()\n",
    "    league = af.yahoo_fantasy_league(sc)\n",
    "    next_fantasy_week = league.current_week() + 1\n",
    "    week_start_date = league.week_date_range(next_fantasy_week)[0]\n",
    "    week_end_date = league.week_date_range(next_fantasy_week)[1]\n",
    "    return next_fantasy_week, week_start_date, week_end_date\n",
    "\n",
    "def get_player_ids_names_in_fantasy_team(team_dict):\n",
    "    \"\"\"\n",
    "    Function finds the Yahoo Fantasy player ids and player names rostered by a team in the league\n",
    "    param team_dict (dictionary): dictionary containing information about a owners team\n",
    "    return player_id_name_team_list (list): Yahoo Fantasy player ids and names\n",
    "    return player_name_list (list): Yahoo Fantasy player names\n",
    "    \"\"\"\n",
    "    sc = af.yahoo_fantasy_api_authentication()\n",
    "    league = af.yahoo_fantasy_league(sc)\n",
    "    team = league.to_team(team_dict[TEAM_KEY])\n",
    "    team_roster = team.roster()\n",
    "    player_id_name_team_list = [{PLAYER_ID_KEY : player[PLAYER_ID_KEY], NAME_KEY : player[NAME_KEY]}\n",
    "                           for player in team_roster]\n",
    "    player_name_list = [player[NAME_KEY] for player in player_id_name_team_list]\n",
    "    return player_id_name_team_list, player_name_list\n",
    "\n",
    "def get_fantasy_week_games_dataframe(season_schedule_dataframe, week_start_date, week_end_date):\n",
    "    \"\"\"\n",
    "    Function filters the entire NBA season schedule on a start/end date to find the scheduled\n",
    "    games between specific dates. It returns the amount of games each NBA team plays during that\n",
    "    period of time.\n",
    "    param season_schedule_dataframe (pandas dataframe): dataframe containing the entire seasons\n",
    "    NBA schedule\n",
    "    param week_start_date (string): date to begin filtering by\n",
    "    param week_start_date (string): date to end filtering by\n",
    "    return current_fantasy_games_week (pandas dataframe) dataframe containing the scheduled games\n",
    "    in specified param dates\n",
    "    return team_game_counts (pandas series): series containing count of games for each NBA team\n",
    "    \"\"\"\n",
    "    filtered_games_week = season_schedule_dataframe[(season_schedule_dataframe[GDATE_KEY] >=\n",
    "                                                   str(week_start_date)) &\n",
    "                                                  (season_schedule_dataframe[GDATE_KEY] <=\n",
    "                                                   str(week_end_date))]\n",
    "    team_game_counts = filtered_games_week[HOME_KEY].append\\\n",
    "        (filtered_games_week[VISITORS_KEY]).value_counts()\n",
    "    return filtered_games_week, team_game_counts\n",
    "\n",
    "def get_player_games(team_game_counts_series, player_name_list):\n",
    "    \"\"\"\n",
    "    Function creates a dictionary containing key/value pairs of player names/games in a series of\n",
    "    NBA team game counts\n",
    "    param team_game_counts_series (pandas series): series of team name and games playing\n",
    "    param player_name_list (list): list of player names\n",
    "    return player_games_dictionary (dictionary): key/value pairing of player names/games playing\n",
    "    \"\"\"\n",
    "    player_games_dictionary = dict()\n",
    "    team_game_counts_dataframe = pd.DataFrame(team_game_counts_series)\n",
    "    team_game_counts_dataframe.reset_index(inplace=True)\n",
    "    team_game_counts_dataframe = team_game_counts_dataframe.replace(NBA_NAME_LA_CLIPPERS,\n",
    "                                                                    YAHOO_NAME_LA_CLIPPERS)\n",
    "    for player in player_name_list:\n",
    "        team = af.yahoo_player_team_and_jersey(player)[0]\n",
    "        try:\n",
    "            player_games_dictionary[player] = \\\n",
    "                team_game_counts_dataframe[team_game_counts_dataframe[\"index\"] == team][0].iloc[0]\n",
    "        except IndexError:\n",
    "            player_games_dictionary[player] = 0\n",
    "    return player_games_dictionary\n",
    "\n",
    "def get_team_player_game_dataframe(team_dict, week=\"next\", season=2020):\n",
    "    \"\"\"\n",
    "\n",
    "    @param team_dict:\n",
    "    @param week:\n",
    "    @param season:\n",
    "    @return:\n",
    "    \"\"\"\n",
    "    if week == \"next\":\n",
    "        fantasy_week, week_start_date, week_end_date = get_next_week_information()\n",
    "    elif week == \"current\":\n",
    "        fantasy_week, week_start_date, week_end_date = get_week_current_week_information()\n",
    "    else:\n",
    "        raise ValueError(\"Parameter 'week' must be 'current' or 'next'.\")\n",
    "    season_games_dataframe = get_game_information_in_season(season) # Run once only\n",
    "    filtered_games_week, team_game_counts = get_fantasy_week_games_dataframe\\\n",
    "        (season_games_dataframe, week_start_date, week_end_date)\n",
    "    player_id_name_team_list, player_name_list = get_player_ids_names_in_fantasy_team(team_dict)\n",
    "    player_games_dictionary = get_player_games(team_game_counts, player_name_list)\n",
    "    return filtered_games_week, player_games_dictionary"
   ],
   "metadata": {
    "collapsed": false,
    "pycharm": {
     "name": "#%%\n"
    }
   }
  },
  {
   "cell_type": "code",
   "execution_count": null,
   "outputs": [],
   "source": [
    "filtered_games_week, player_games_dictionary = get_team_player_game_dataframe(af.NUNN_OF_YALL_BETTA,\n",
    "                                                                            week=\"current\",\n",
    "                                                                              season=2020)"
   ],
   "metadata": {
    "collapsed": false,
    "pycharm": {
     "name": "#%%\n"
    }
   }
  },
  {
   "cell_type": "code",
   "execution_count": 105,
   "outputs": [
    {
     "data": {
      "text/plain": "                    0\nMalcolm Brogdon     4\nDuncan Robinson     4\nPatty Mills         4\nGary Trent Jr.      4\nJae Crowder         4\nJeremy Lamb         4\nEnes Kanter         4\nNikola Jokic        4\nCameron Johnson     4\nJimmy Butler        4\nWendell Carter Jr.  4\nKyle Kuzma          5\nMarcus Smart        4\nKhris Middleton     3\nPascal Siakam       3",
      "text/html": "<div>\n<style scoped>\n    .dataframe tbody tr th:only-of-type {\n        vertical-align: middle;\n    }\n\n    .dataframe tbody tr th {\n        vertical-align: top;\n    }\n\n    .dataframe thead th {\n        text-align: right;\n    }\n</style>\n<table border=\"1\" class=\"dataframe\">\n  <thead>\n    <tr style=\"text-align: right;\">\n      <th></th>\n      <th>0</th>\n    </tr>\n  </thead>\n  <tbody>\n    <tr>\n      <th>Malcolm Brogdon</th>\n      <td>4</td>\n    </tr>\n    <tr>\n      <th>Duncan Robinson</th>\n      <td>4</td>\n    </tr>\n    <tr>\n      <th>Patty Mills</th>\n      <td>4</td>\n    </tr>\n    <tr>\n      <th>Gary Trent Jr.</th>\n      <td>4</td>\n    </tr>\n    <tr>\n      <th>Jae Crowder</th>\n      <td>4</td>\n    </tr>\n    <tr>\n      <th>Jeremy Lamb</th>\n      <td>4</td>\n    </tr>\n    <tr>\n      <th>Enes Kanter</th>\n      <td>4</td>\n    </tr>\n    <tr>\n      <th>Nikola Jokic</th>\n      <td>4</td>\n    </tr>\n    <tr>\n      <th>Cameron Johnson</th>\n      <td>4</td>\n    </tr>\n    <tr>\n      <th>Jimmy Butler</th>\n      <td>4</td>\n    </tr>\n    <tr>\n      <th>Wendell Carter Jr.</th>\n      <td>4</td>\n    </tr>\n    <tr>\n      <th>Kyle Kuzma</th>\n      <td>5</td>\n    </tr>\n    <tr>\n      <th>Marcus Smart</th>\n      <td>4</td>\n    </tr>\n    <tr>\n      <th>Khris Middleton</th>\n      <td>3</td>\n    </tr>\n    <tr>\n      <th>Pascal Siakam</th>\n      <td>3</td>\n    </tr>\n  </tbody>\n</table>\n</div>"
     },
     "execution_count": 105,
     "metadata": {},
     "output_type": "execute_result"
    }
   ],
   "source": [
    "player_games"
   ],
   "metadata": {
    "collapsed": false,
    "pycharm": {
     "name": "#%%\n"
    }
   }
  },
  {
   "cell_type": "code",
   "execution_count": 108,
   "outputs": [
    {
     "data": {
      "text/plain": "                    0\nMalcolm Brogdon     4\nMalcolm Brogdon     4\nMalcolm Brogdon     4\nMalcolm Brogdon     4\nDuncan Robinson     4\nDuncan Robinson     4\nDuncan Robinson     4\nDuncan Robinson     4\nPatty Mills         4\nPatty Mills         4\nPatty Mills         4\nPatty Mills         4\nGary Trent Jr.      4\nGary Trent Jr.      4\nGary Trent Jr.      4\nGary Trent Jr.      4\nJae Crowder         4\nJae Crowder         4\nJae Crowder         4\nJae Crowder         4\nJeremy Lamb         4\nJeremy Lamb         4\nJeremy Lamb         4\nJeremy Lamb         4\nEnes Kanter         4\nEnes Kanter         4\nEnes Kanter         4\nEnes Kanter         4\nNikola Jokic        4\nNikola Jokic        4\nNikola Jokic        4\nNikola Jokic        4\nCameron Johnson     4\nCameron Johnson     4\nCameron Johnson     4\nCameron Johnson     4\nJimmy Butler        4\nJimmy Butler        4\nJimmy Butler        4\nJimmy Butler        4\nWendell Carter Jr.  4\nWendell Carter Jr.  4\nWendell Carter Jr.  4\nWendell Carter Jr.  4\nKyle Kuzma          5\nKyle Kuzma          5\nKyle Kuzma          5\nKyle Kuzma          5\nKyle Kuzma          5\nMarcus Smart        4\nMarcus Smart        4\nMarcus Smart        4\nMarcus Smart        4\nKhris Middleton     3\nKhris Middleton     3\nKhris Middleton     3\nPascal Siakam       3\nPascal Siakam       3\nPascal Siakam       3",
      "text/html": "<div>\n<style scoped>\n    .dataframe tbody tr th:only-of-type {\n        vertical-align: middle;\n    }\n\n    .dataframe tbody tr th {\n        vertical-align: top;\n    }\n\n    .dataframe thead th {\n        text-align: right;\n    }\n</style>\n<table border=\"1\" class=\"dataframe\">\n  <thead>\n    <tr style=\"text-align: right;\">\n      <th></th>\n      <th>0</th>\n    </tr>\n  </thead>\n  <tbody>\n    <tr>\n      <th>Malcolm Brogdon</th>\n      <td>4</td>\n    </tr>\n    <tr>\n      <th>Malcolm Brogdon</th>\n      <td>4</td>\n    </tr>\n    <tr>\n      <th>Malcolm Brogdon</th>\n      <td>4</td>\n    </tr>\n    <tr>\n      <th>Malcolm Brogdon</th>\n      <td>4</td>\n    </tr>\n    <tr>\n      <th>Duncan Robinson</th>\n      <td>4</td>\n    </tr>\n    <tr>\n      <th>Duncan Robinson</th>\n      <td>4</td>\n    </tr>\n    <tr>\n      <th>Duncan Robinson</th>\n      <td>4</td>\n    </tr>\n    <tr>\n      <th>Duncan Robinson</th>\n      <td>4</td>\n    </tr>\n    <tr>\n      <th>Patty Mills</th>\n      <td>4</td>\n    </tr>\n    <tr>\n      <th>Patty Mills</th>\n      <td>4</td>\n    </tr>\n    <tr>\n      <th>Patty Mills</th>\n      <td>4</td>\n    </tr>\n    <tr>\n      <th>Patty Mills</th>\n      <td>4</td>\n    </tr>\n    <tr>\n      <th>Gary Trent Jr.</th>\n      <td>4</td>\n    </tr>\n    <tr>\n      <th>Gary Trent Jr.</th>\n      <td>4</td>\n    </tr>\n    <tr>\n      <th>Gary Trent Jr.</th>\n      <td>4</td>\n    </tr>\n    <tr>\n      <th>Gary Trent Jr.</th>\n      <td>4</td>\n    </tr>\n    <tr>\n      <th>Jae Crowder</th>\n      <td>4</td>\n    </tr>\n    <tr>\n      <th>Jae Crowder</th>\n      <td>4</td>\n    </tr>\n    <tr>\n      <th>Jae Crowder</th>\n      <td>4</td>\n    </tr>\n    <tr>\n      <th>Jae Crowder</th>\n      <td>4</td>\n    </tr>\n    <tr>\n      <th>Jeremy Lamb</th>\n      <td>4</td>\n    </tr>\n    <tr>\n      <th>Jeremy Lamb</th>\n      <td>4</td>\n    </tr>\n    <tr>\n      <th>Jeremy Lamb</th>\n      <td>4</td>\n    </tr>\n    <tr>\n      <th>Jeremy Lamb</th>\n      <td>4</td>\n    </tr>\n    <tr>\n      <th>Enes Kanter</th>\n      <td>4</td>\n    </tr>\n    <tr>\n      <th>Enes Kanter</th>\n      <td>4</td>\n    </tr>\n    <tr>\n      <th>Enes Kanter</th>\n      <td>4</td>\n    </tr>\n    <tr>\n      <th>Enes Kanter</th>\n      <td>4</td>\n    </tr>\n    <tr>\n      <th>Nikola Jokic</th>\n      <td>4</td>\n    </tr>\n    <tr>\n      <th>Nikola Jokic</th>\n      <td>4</td>\n    </tr>\n    <tr>\n      <th>Nikola Jokic</th>\n      <td>4</td>\n    </tr>\n    <tr>\n      <th>Nikola Jokic</th>\n      <td>4</td>\n    </tr>\n    <tr>\n      <th>Cameron Johnson</th>\n      <td>4</td>\n    </tr>\n    <tr>\n      <th>Cameron Johnson</th>\n      <td>4</td>\n    </tr>\n    <tr>\n      <th>Cameron Johnson</th>\n      <td>4</td>\n    </tr>\n    <tr>\n      <th>Cameron Johnson</th>\n      <td>4</td>\n    </tr>\n    <tr>\n      <th>Jimmy Butler</th>\n      <td>4</td>\n    </tr>\n    <tr>\n      <th>Jimmy Butler</th>\n      <td>4</td>\n    </tr>\n    <tr>\n      <th>Jimmy Butler</th>\n      <td>4</td>\n    </tr>\n    <tr>\n      <th>Jimmy Butler</th>\n      <td>4</td>\n    </tr>\n    <tr>\n      <th>Wendell Carter Jr.</th>\n      <td>4</td>\n    </tr>\n    <tr>\n      <th>Wendell Carter Jr.</th>\n      <td>4</td>\n    </tr>\n    <tr>\n      <th>Wendell Carter Jr.</th>\n      <td>4</td>\n    </tr>\n    <tr>\n      <th>Wendell Carter Jr.</th>\n      <td>4</td>\n    </tr>\n    <tr>\n      <th>Kyle Kuzma</th>\n      <td>5</td>\n    </tr>\n    <tr>\n      <th>Kyle Kuzma</th>\n      <td>5</td>\n    </tr>\n    <tr>\n      <th>Kyle Kuzma</th>\n      <td>5</td>\n    </tr>\n    <tr>\n      <th>Kyle Kuzma</th>\n      <td>5</td>\n    </tr>\n    <tr>\n      <th>Kyle Kuzma</th>\n      <td>5</td>\n    </tr>\n    <tr>\n      <th>Marcus Smart</th>\n      <td>4</td>\n    </tr>\n    <tr>\n      <th>Marcus Smart</th>\n      <td>4</td>\n    </tr>\n    <tr>\n      <th>Marcus Smart</th>\n      <td>4</td>\n    </tr>\n    <tr>\n      <th>Marcus Smart</th>\n      <td>4</td>\n    </tr>\n    <tr>\n      <th>Khris Middleton</th>\n      <td>3</td>\n    </tr>\n    <tr>\n      <th>Khris Middleton</th>\n      <td>3</td>\n    </tr>\n    <tr>\n      <th>Khris Middleton</th>\n      <td>3</td>\n    </tr>\n    <tr>\n      <th>Pascal Siakam</th>\n      <td>3</td>\n    </tr>\n    <tr>\n      <th>Pascal Siakam</th>\n      <td>3</td>\n    </tr>\n    <tr>\n      <th>Pascal Siakam</th>\n      <td>3</td>\n    </tr>\n  </tbody>\n</table>\n</div>"
     },
     "execution_count": 108,
     "metadata": {},
     "output_type": "execute_result"
    }
   ],
   "source": [
    "player_games = pd.DataFrame.from_dict(player_games_dictionary, orient=\"index\")\n",
    "df = player_games.loc[player_games.index.repeat(player_games[0])]\n",
    "df\n",
    "# df.merge(nunn, left_on=\"index\", right_on=\"PLAYER\")"
   ],
   "metadata": {
    "collapsed": false,
    "pycharm": {
     "name": "#%%\n"
    }
   }
  },
  {
   "cell_type": "code",
   "execution_count": null,
   "outputs": [],
   "source": [
    "sc = af.yahoo_fantasy_api_authentication()\n",
    "league = af.yahoo_fantasy_league(sc)"
   ],
   "metadata": {
    "collapsed": false,
    "pycharm": {
     "name": "#%%\n"
    }
   }
  },
  {
   "cell_type": "code",
   "execution_count": 80,
   "outputs": [],
   "source": [
    "nunn = af.team_9cat_average_stats(af.NUNN_OF_YALL_BETTA, league)"
   ],
   "metadata": {
    "collapsed": false,
    "pycharm": {
     "name": "#%%\n"
    }
   }
  },
  {
   "cell_type": "code",
   "execution_count": 83,
   "outputs": [
    {
     "data": {
      "text/plain": "                  PLAYER FG_PCT FT_PCT  FG3M    PTS    REB   AST   STL   BLK  \\\n0        Malcolm Brogdon  0.447  0.897  2.41  21.21   4.65  6.24  1.18  0.24   \n1        Duncan Robinson  0.429  0.840  3.25  12.81   3.94  1.61  0.47  0.22   \n2            Patty Mills  0.448  0.900  2.75  13.31   1.81  2.66  0.62  0.03   \n3         Gary Trent Jr.  0.423  0.778  3.06  15.21   2.15  1.48  0.76  0.15   \n4            Jae Crowder  0.402  0.829  2.41  10.12   5.00  2.12  0.84  0.25   \n5            Jeremy Lamb  0.473  0.941  1.62  11.33   3.71  1.62  0.86  0.52   \n6            Enes Kanter  0.594  0.750  0.00  11.91  11.86  1.14  0.51  0.74   \n7           Nikola Jokic  0.567  0.881  1.56  27.14  11.03  8.58  1.61  0.64   \n8        Cameron Johnson  0.437  0.865  2.15  10.44   3.38  1.35  0.65  0.29   \n9           Jimmy Butler  0.454  0.863  0.36  20.55   7.55  7.82  1.91  0.36   \n10    Wendell Carter Jr.  0.535  0.733  0.30  12.26   7.78  2.26  0.70  0.83   \n11            Kyle Kuzma  0.444  0.632  1.81  11.47   6.67  1.14  0.39  0.64   \n12          Marcus Smart  0.394  0.742  1.65  13.06   2.76  6.06  1.82  0.53   \n13       Khris Middleton  0.495  0.884  2.31  20.58   6.14  5.72  1.11  0.17   \n14         Pascal Siakam  0.453  0.819  1.20  20.07   7.47  4.77  1.17  0.70   \nmean                 NaN  0.466  0.824  1.79  15.43   5.73  3.64  0.97  0.42   \n\n       TOV  \n0     2.09  \n1     1.33  \n2     1.06  \n3     0.73  \n4     0.91  \n5     0.76  \n6     1.17  \n7     3.17  \n8     0.76  \n9     2.32  \n10    1.87  \n11    1.50  \n12    1.76  \n13    2.61  \n14    2.17  \nmean  1.61  ",
      "text/html": "<div>\n<style scoped>\n    .dataframe tbody tr th:only-of-type {\n        vertical-align: middle;\n    }\n\n    .dataframe tbody tr th {\n        vertical-align: top;\n    }\n\n    .dataframe thead th {\n        text-align: right;\n    }\n</style>\n<table border=\"1\" class=\"dataframe\">\n  <thead>\n    <tr style=\"text-align: right;\">\n      <th></th>\n      <th>PLAYER</th>\n      <th>FG_PCT</th>\n      <th>FT_PCT</th>\n      <th>FG3M</th>\n      <th>PTS</th>\n      <th>REB</th>\n      <th>AST</th>\n      <th>STL</th>\n      <th>BLK</th>\n      <th>TOV</th>\n    </tr>\n  </thead>\n  <tbody>\n    <tr>\n      <th>0</th>\n      <td>Malcolm Brogdon</td>\n      <td>0.447</td>\n      <td>0.897</td>\n      <td>2.41</td>\n      <td>21.21</td>\n      <td>4.65</td>\n      <td>6.24</td>\n      <td>1.18</td>\n      <td>0.24</td>\n      <td>2.09</td>\n    </tr>\n    <tr>\n      <th>1</th>\n      <td>Duncan Robinson</td>\n      <td>0.429</td>\n      <td>0.840</td>\n      <td>3.25</td>\n      <td>12.81</td>\n      <td>3.94</td>\n      <td>1.61</td>\n      <td>0.47</td>\n      <td>0.22</td>\n      <td>1.33</td>\n    </tr>\n    <tr>\n      <th>2</th>\n      <td>Patty Mills</td>\n      <td>0.448</td>\n      <td>0.900</td>\n      <td>2.75</td>\n      <td>13.31</td>\n      <td>1.81</td>\n      <td>2.66</td>\n      <td>0.62</td>\n      <td>0.03</td>\n      <td>1.06</td>\n    </tr>\n    <tr>\n      <th>3</th>\n      <td>Gary Trent Jr.</td>\n      <td>0.423</td>\n      <td>0.778</td>\n      <td>3.06</td>\n      <td>15.21</td>\n      <td>2.15</td>\n      <td>1.48</td>\n      <td>0.76</td>\n      <td>0.15</td>\n      <td>0.73</td>\n    </tr>\n    <tr>\n      <th>4</th>\n      <td>Jae Crowder</td>\n      <td>0.402</td>\n      <td>0.829</td>\n      <td>2.41</td>\n      <td>10.12</td>\n      <td>5.00</td>\n      <td>2.12</td>\n      <td>0.84</td>\n      <td>0.25</td>\n      <td>0.91</td>\n    </tr>\n    <tr>\n      <th>5</th>\n      <td>Jeremy Lamb</td>\n      <td>0.473</td>\n      <td>0.941</td>\n      <td>1.62</td>\n      <td>11.33</td>\n      <td>3.71</td>\n      <td>1.62</td>\n      <td>0.86</td>\n      <td>0.52</td>\n      <td>0.76</td>\n    </tr>\n    <tr>\n      <th>6</th>\n      <td>Enes Kanter</td>\n      <td>0.594</td>\n      <td>0.750</td>\n      <td>0.00</td>\n      <td>11.91</td>\n      <td>11.86</td>\n      <td>1.14</td>\n      <td>0.51</td>\n      <td>0.74</td>\n      <td>1.17</td>\n    </tr>\n    <tr>\n      <th>7</th>\n      <td>Nikola Jokic</td>\n      <td>0.567</td>\n      <td>0.881</td>\n      <td>1.56</td>\n      <td>27.14</td>\n      <td>11.03</td>\n      <td>8.58</td>\n      <td>1.61</td>\n      <td>0.64</td>\n      <td>3.17</td>\n    </tr>\n    <tr>\n      <th>8</th>\n      <td>Cameron Johnson</td>\n      <td>0.437</td>\n      <td>0.865</td>\n      <td>2.15</td>\n      <td>10.44</td>\n      <td>3.38</td>\n      <td>1.35</td>\n      <td>0.65</td>\n      <td>0.29</td>\n      <td>0.76</td>\n    </tr>\n    <tr>\n      <th>9</th>\n      <td>Jimmy Butler</td>\n      <td>0.454</td>\n      <td>0.863</td>\n      <td>0.36</td>\n      <td>20.55</td>\n      <td>7.55</td>\n      <td>7.82</td>\n      <td>1.91</td>\n      <td>0.36</td>\n      <td>2.32</td>\n    </tr>\n    <tr>\n      <th>10</th>\n      <td>Wendell Carter Jr.</td>\n      <td>0.535</td>\n      <td>0.733</td>\n      <td>0.30</td>\n      <td>12.26</td>\n      <td>7.78</td>\n      <td>2.26</td>\n      <td>0.70</td>\n      <td>0.83</td>\n      <td>1.87</td>\n    </tr>\n    <tr>\n      <th>11</th>\n      <td>Kyle Kuzma</td>\n      <td>0.444</td>\n      <td>0.632</td>\n      <td>1.81</td>\n      <td>11.47</td>\n      <td>6.67</td>\n      <td>1.14</td>\n      <td>0.39</td>\n      <td>0.64</td>\n      <td>1.50</td>\n    </tr>\n    <tr>\n      <th>12</th>\n      <td>Marcus Smart</td>\n      <td>0.394</td>\n      <td>0.742</td>\n      <td>1.65</td>\n      <td>13.06</td>\n      <td>2.76</td>\n      <td>6.06</td>\n      <td>1.82</td>\n      <td>0.53</td>\n      <td>1.76</td>\n    </tr>\n    <tr>\n      <th>13</th>\n      <td>Khris Middleton</td>\n      <td>0.495</td>\n      <td>0.884</td>\n      <td>2.31</td>\n      <td>20.58</td>\n      <td>6.14</td>\n      <td>5.72</td>\n      <td>1.11</td>\n      <td>0.17</td>\n      <td>2.61</td>\n    </tr>\n    <tr>\n      <th>14</th>\n      <td>Pascal Siakam</td>\n      <td>0.453</td>\n      <td>0.819</td>\n      <td>1.20</td>\n      <td>20.07</td>\n      <td>7.47</td>\n      <td>4.77</td>\n      <td>1.17</td>\n      <td>0.70</td>\n      <td>2.17</td>\n    </tr>\n    <tr>\n      <th>mean</th>\n      <td>NaN</td>\n      <td>0.466</td>\n      <td>0.824</td>\n      <td>1.79</td>\n      <td>15.43</td>\n      <td>5.73</td>\n      <td>3.64</td>\n      <td>0.97</td>\n      <td>0.42</td>\n      <td>1.61</td>\n    </tr>\n  </tbody>\n</table>\n</div>"
     },
     "execution_count": 83,
     "metadata": {},
     "output_type": "execute_result"
    }
   ],
   "source": [
    "nunn"
   ],
   "metadata": {
    "collapsed": false,
    "pycharm": {
     "name": "#%%\n"
    }
   }
  },
  {
   "cell_type": "code",
   "execution_count": 40,
   "outputs": [
    {
     "data": {
      "text/plain": "   FG_PCT FT_PCT  FG3M    PTS    REB   AST   STL   BLK   TOV\n0   0.447  0.897  2.41  21.21   4.65  6.24  1.18  0.24  2.09\n1   0.429  0.840  3.25  12.81   3.94  1.61  0.47  0.22  1.33\n2   0.448  0.900  2.75  13.31   1.81  2.66  0.62  0.03  1.06\n3   0.423  0.778  3.06  15.21   2.15  1.48  0.76  0.15  0.73\n4   0.402  0.829  2.41  10.12   5.00  2.12  0.84  0.25  0.91\n5   0.473  0.941  1.62  11.33   3.71  1.62  0.86  0.52  0.76\n6   0.594  0.750  0.00  11.91  11.86  1.14  0.51  0.74  1.17\n7   0.567  0.881  1.56  27.14  11.03  8.58  1.61  0.64  3.17\n8   0.437  0.865  2.15  10.44   3.38  1.35  0.65  0.29  0.76\n9   0.454  0.863  0.36  20.55   7.55  7.82  1.91  0.36  2.32\n10  0.535  0.733  0.30  12.26   7.78  2.26  0.70  0.83  1.87\n11  0.444  0.632  1.81  11.47   6.67  1.14  0.39  0.64  1.50\n12  0.394  0.742  1.65  13.06   2.76  6.06  1.82  0.53  1.76\n13  0.495  0.884  2.31  20.58   6.14  5.72  1.11  0.17  2.61\n14  0.453  0.819  1.20  20.07   7.47  4.77  1.17  0.70  2.17",
      "text/html": "<div>\n<style scoped>\n    .dataframe tbody tr th:only-of-type {\n        vertical-align: middle;\n    }\n\n    .dataframe tbody tr th {\n        vertical-align: top;\n    }\n\n    .dataframe thead th {\n        text-align: right;\n    }\n</style>\n<table border=\"1\" class=\"dataframe\">\n  <thead>\n    <tr style=\"text-align: right;\">\n      <th></th>\n      <th>FG_PCT</th>\n      <th>FT_PCT</th>\n      <th>FG3M</th>\n      <th>PTS</th>\n      <th>REB</th>\n      <th>AST</th>\n      <th>STL</th>\n      <th>BLK</th>\n      <th>TOV</th>\n    </tr>\n  </thead>\n  <tbody>\n    <tr>\n      <th>0</th>\n      <td>0.447</td>\n      <td>0.897</td>\n      <td>2.41</td>\n      <td>21.21</td>\n      <td>4.65</td>\n      <td>6.24</td>\n      <td>1.18</td>\n      <td>0.24</td>\n      <td>2.09</td>\n    </tr>\n    <tr>\n      <th>1</th>\n      <td>0.429</td>\n      <td>0.840</td>\n      <td>3.25</td>\n      <td>12.81</td>\n      <td>3.94</td>\n      <td>1.61</td>\n      <td>0.47</td>\n      <td>0.22</td>\n      <td>1.33</td>\n    </tr>\n    <tr>\n      <th>2</th>\n      <td>0.448</td>\n      <td>0.900</td>\n      <td>2.75</td>\n      <td>13.31</td>\n      <td>1.81</td>\n      <td>2.66</td>\n      <td>0.62</td>\n      <td>0.03</td>\n      <td>1.06</td>\n    </tr>\n    <tr>\n      <th>3</th>\n      <td>0.423</td>\n      <td>0.778</td>\n      <td>3.06</td>\n      <td>15.21</td>\n      <td>2.15</td>\n      <td>1.48</td>\n      <td>0.76</td>\n      <td>0.15</td>\n      <td>0.73</td>\n    </tr>\n    <tr>\n      <th>4</th>\n      <td>0.402</td>\n      <td>0.829</td>\n      <td>2.41</td>\n      <td>10.12</td>\n      <td>5.00</td>\n      <td>2.12</td>\n      <td>0.84</td>\n      <td>0.25</td>\n      <td>0.91</td>\n    </tr>\n    <tr>\n      <th>5</th>\n      <td>0.473</td>\n      <td>0.941</td>\n      <td>1.62</td>\n      <td>11.33</td>\n      <td>3.71</td>\n      <td>1.62</td>\n      <td>0.86</td>\n      <td>0.52</td>\n      <td>0.76</td>\n    </tr>\n    <tr>\n      <th>6</th>\n      <td>0.594</td>\n      <td>0.750</td>\n      <td>0.00</td>\n      <td>11.91</td>\n      <td>11.86</td>\n      <td>1.14</td>\n      <td>0.51</td>\n      <td>0.74</td>\n      <td>1.17</td>\n    </tr>\n    <tr>\n      <th>7</th>\n      <td>0.567</td>\n      <td>0.881</td>\n      <td>1.56</td>\n      <td>27.14</td>\n      <td>11.03</td>\n      <td>8.58</td>\n      <td>1.61</td>\n      <td>0.64</td>\n      <td>3.17</td>\n    </tr>\n    <tr>\n      <th>8</th>\n      <td>0.437</td>\n      <td>0.865</td>\n      <td>2.15</td>\n      <td>10.44</td>\n      <td>3.38</td>\n      <td>1.35</td>\n      <td>0.65</td>\n      <td>0.29</td>\n      <td>0.76</td>\n    </tr>\n    <tr>\n      <th>9</th>\n      <td>0.454</td>\n      <td>0.863</td>\n      <td>0.36</td>\n      <td>20.55</td>\n      <td>7.55</td>\n      <td>7.82</td>\n      <td>1.91</td>\n      <td>0.36</td>\n      <td>2.32</td>\n    </tr>\n    <tr>\n      <th>10</th>\n      <td>0.535</td>\n      <td>0.733</td>\n      <td>0.30</td>\n      <td>12.26</td>\n      <td>7.78</td>\n      <td>2.26</td>\n      <td>0.70</td>\n      <td>0.83</td>\n      <td>1.87</td>\n    </tr>\n    <tr>\n      <th>11</th>\n      <td>0.444</td>\n      <td>0.632</td>\n      <td>1.81</td>\n      <td>11.47</td>\n      <td>6.67</td>\n      <td>1.14</td>\n      <td>0.39</td>\n      <td>0.64</td>\n      <td>1.50</td>\n    </tr>\n    <tr>\n      <th>12</th>\n      <td>0.394</td>\n      <td>0.742</td>\n      <td>1.65</td>\n      <td>13.06</td>\n      <td>2.76</td>\n      <td>6.06</td>\n      <td>1.82</td>\n      <td>0.53</td>\n      <td>1.76</td>\n    </tr>\n    <tr>\n      <th>13</th>\n      <td>0.495</td>\n      <td>0.884</td>\n      <td>2.31</td>\n      <td>20.58</td>\n      <td>6.14</td>\n      <td>5.72</td>\n      <td>1.11</td>\n      <td>0.17</td>\n      <td>2.61</td>\n    </tr>\n    <tr>\n      <th>14</th>\n      <td>0.453</td>\n      <td>0.819</td>\n      <td>1.20</td>\n      <td>20.07</td>\n      <td>7.47</td>\n      <td>4.77</td>\n      <td>1.17</td>\n      <td>0.70</td>\n      <td>2.17</td>\n    </tr>\n  </tbody>\n</table>\n</div>"
     },
     "execution_count": 40,
     "metadata": {},
     "output_type": "execute_result"
    }
   ],
   "source": [
    "nunn.drop(\"PLAYER\", axis=1, inplace=True)\n",
    "nunn.drop(\"mean\", inplace=True)\n",
    "nunn = nunn.apply(pd.to_numeric)"
   ],
   "metadata": {
    "collapsed": false,
    "pycharm": {
     "name": "#%%\n"
    }
   }
  },
  {
   "cell_type": "code",
   "execution_count": 118,
   "outputs": [
    {
     "name": "stderr",
     "output_type": "stream",
     "text": [
      "[2021-03-08 21:00:48,006 DEBUG] [yahoo_oauth.oauth.__init__] Checking \n",
      "[2021-03-08 21:00:48,011 DEBUG] [yahoo_oauth.oauth.token_is_valid] ELAPSED TIME : 1055.4016585350037\n",
      "[2021-03-08 21:00:48,013 DEBUG] [yahoo_oauth.oauth.token_is_valid] TOKEN IS STILL VALID\n",
      "[2021-03-08 21:01:46,320 DEBUG] [yahoo_oauth.oauth.__init__] Checking \n",
      "[2021-03-08 21:01:46,324 DEBUG] [yahoo_oauth.oauth.token_is_valid] ELAPSED TIME : 1113.7149488925934\n",
      "[2021-03-08 21:01:46,325 DEBUG] [yahoo_oauth.oauth.token_is_valid] TOKEN IS STILL VALID\n",
      "[2021-03-08 21:01:52,384 DEBUG] [yahoo_oauth.oauth.__init__] Checking \n",
      "[2021-03-08 21:01:52,388 DEBUG] [yahoo_oauth.oauth.token_is_valid] ELAPSED TIME : 1119.7789208889008\n",
      "[2021-03-08 21:01:52,388 DEBUG] [yahoo_oauth.oauth.token_is_valid] TOKEN IS STILL VALID\n",
      "[2021-03-08 21:01:53,330 DEBUG] [yahoo_oauth.oauth.__init__] Checking \n",
      "[2021-03-08 21:01:53,333 DEBUG] [yahoo_oauth.oauth.token_is_valid] ELAPSED TIME : 1120.724420785904\n",
      "[2021-03-08 21:01:53,334 DEBUG] [yahoo_oauth.oauth.token_is_valid] TOKEN IS STILL VALID\n",
      "[2021-03-08 21:01:54,321 DEBUG] [yahoo_oauth.oauth.__init__] Checking \n",
      "[2021-03-08 21:01:54,323 DEBUG] [yahoo_oauth.oauth.token_is_valid] ELAPSED TIME : 1121.7139687538147\n",
      "[2021-03-08 21:01:54,324 DEBUG] [yahoo_oauth.oauth.token_is_valid] TOKEN IS STILL VALID\n",
      "[2021-03-08 21:01:55,246 DEBUG] [yahoo_oauth.oauth.__init__] Checking \n",
      "[2021-03-08 21:01:55,249 DEBUG] [yahoo_oauth.oauth.token_is_valid] ELAPSED TIME : 1122.6401505470276\n",
      "[2021-03-08 21:01:55,250 DEBUG] [yahoo_oauth.oauth.token_is_valid] TOKEN IS STILL VALID\n",
      "[2021-03-08 21:01:56,211 DEBUG] [yahoo_oauth.oauth.__init__] Checking \n",
      "[2021-03-08 21:01:56,213 DEBUG] [yahoo_oauth.oauth.token_is_valid] ELAPSED TIME : 1123.6043121814728\n",
      "[2021-03-08 21:01:56,214 DEBUG] [yahoo_oauth.oauth.token_is_valid] TOKEN IS STILL VALID\n",
      "[2021-03-08 21:01:57,147 DEBUG] [yahoo_oauth.oauth.__init__] Checking \n",
      "[2021-03-08 21:01:57,150 DEBUG] [yahoo_oauth.oauth.token_is_valid] ELAPSED TIME : 1124.5409944057465\n",
      "[2021-03-08 21:01:57,150 DEBUG] [yahoo_oauth.oauth.token_is_valid] TOKEN IS STILL VALID\n",
      "[2021-03-08 21:01:58,059 DEBUG] [yahoo_oauth.oauth.__init__] Checking \n",
      "[2021-03-08 21:01:58,063 DEBUG] [yahoo_oauth.oauth.token_is_valid] ELAPSED TIME : 1125.4537534713745\n",
      "[2021-03-08 21:01:58,064 DEBUG] [yahoo_oauth.oauth.token_is_valid] TOKEN IS STILL VALID\n",
      "[2021-03-08 21:01:59,030 DEBUG] [yahoo_oauth.oauth.__init__] Checking \n",
      "[2021-03-08 21:01:59,034 DEBUG] [yahoo_oauth.oauth.token_is_valid] ELAPSED TIME : 1126.4244601726532\n",
      "[2021-03-08 21:01:59,034 DEBUG] [yahoo_oauth.oauth.token_is_valid] TOKEN IS STILL VALID\n",
      "[2021-03-08 21:02:00,069 DEBUG] [yahoo_oauth.oauth.__init__] Checking \n",
      "[2021-03-08 21:02:00,073 DEBUG] [yahoo_oauth.oauth.token_is_valid] ELAPSED TIME : 1127.4643263816833\n",
      "[2021-03-08 21:02:00,074 DEBUG] [yahoo_oauth.oauth.token_is_valid] TOKEN IS STILL VALID\n",
      "[2021-03-08 21:02:00,969 DEBUG] [yahoo_oauth.oauth.__init__] Checking \n",
      "[2021-03-08 21:02:00,972 DEBUG] [yahoo_oauth.oauth.token_is_valid] ELAPSED TIME : 1128.3625378608704\n",
      "[2021-03-08 21:02:00,973 DEBUG] [yahoo_oauth.oauth.token_is_valid] TOKEN IS STILL VALID\n",
      "[2021-03-08 21:02:01,956 DEBUG] [yahoo_oauth.oauth.__init__] Checking \n",
      "[2021-03-08 21:02:01,958 DEBUG] [yahoo_oauth.oauth.token_is_valid] ELAPSED TIME : 1129.348756313324\n",
      "[2021-03-08 21:02:01,959 DEBUG] [yahoo_oauth.oauth.token_is_valid] TOKEN IS STILL VALID\n",
      "[2021-03-08 21:02:02,861 DEBUG] [yahoo_oauth.oauth.__init__] Checking \n",
      "[2021-03-08 21:02:02,863 DEBUG] [yahoo_oauth.oauth.token_is_valid] ELAPSED TIME : 1130.2543692588806\n",
      "[2021-03-08 21:02:02,864 DEBUG] [yahoo_oauth.oauth.token_is_valid] TOKEN IS STILL VALID\n",
      "[2021-03-08 21:02:03,897 DEBUG] [yahoo_oauth.oauth.__init__] Checking \n",
      "[2021-03-08 21:02:03,905 DEBUG] [yahoo_oauth.oauth.token_is_valid] ELAPSED TIME : 1131.296419620514\n",
      "[2021-03-08 21:02:03,905 DEBUG] [yahoo_oauth.oauth.token_is_valid] TOKEN IS STILL VALID\n",
      "[2021-03-08 21:02:04,932 DEBUG] [yahoo_oauth.oauth.__init__] Checking \n",
      "[2021-03-08 21:02:04,934 DEBUG] [yahoo_oauth.oauth.token_is_valid] ELAPSED TIME : 1132.325442314148\n",
      "[2021-03-08 21:02:04,934 DEBUG] [yahoo_oauth.oauth.token_is_valid] TOKEN IS STILL VALID\n",
      "[2021-03-08 21:02:05,837 DEBUG] [yahoo_oauth.oauth.__init__] Checking \n",
      "[2021-03-08 21:02:05,840 DEBUG] [yahoo_oauth.oauth.token_is_valid] ELAPSED TIME : 1133.2311251163483\n",
      "[2021-03-08 21:02:05,840 DEBUG] [yahoo_oauth.oauth.token_is_valid] TOKEN IS STILL VALID\n",
      "[2021-03-08 21:02:06,806 DEBUG] [yahoo_oauth.oauth.__init__] Checking \n",
      "[2021-03-08 21:02:06,807 DEBUG] [yahoo_oauth.oauth.token_is_valid] ELAPSED TIME : 1134.1984243392944\n",
      "[2021-03-08 21:02:06,808 DEBUG] [yahoo_oauth.oauth.token_is_valid] TOKEN IS STILL VALID\n"
     ]
    },
    {
     "ename": "ValueError",
     "evalue": "The column label 'PLAYER' is not unique.\nFor a multi-index, the label must be a tuple with elements corresponding to each level.",
     "output_type": "error",
     "traceback": [
      "\u001B[1;31m---------------------------------------------------------------------------\u001B[0m",
      "\u001B[1;31mValueError\u001B[0m                                Traceback (most recent call last)",
      "\u001B[1;32m<ipython-input-118-7f137ab8f79c>\u001B[0m in \u001B[0;36m<module>\u001B[1;34m\u001B[0m\n\u001B[0;32m     10\u001B[0m \u001B[0mplayer_games\u001B[0m\u001B[1;33m.\u001B[0m\u001B[0mreset_index\u001B[0m\u001B[1;33m(\u001B[0m\u001B[0minplace\u001B[0m\u001B[1;33m=\u001B[0m\u001B[1;32mTrue\u001B[0m\u001B[1;33m)\u001B[0m\u001B[1;33m\u001B[0m\u001B[1;33m\u001B[0m\u001B[0m\n\u001B[0;32m     11\u001B[0m \u001B[0mplayer_games\u001B[0m\u001B[1;33m.\u001B[0m\u001B[0mcolumns\u001B[0m \u001B[1;33m=\u001B[0m \u001B[1;33m[\u001B[0m\u001B[1;33m[\u001B[0m\u001B[1;34m\"PLAYER\"\u001B[0m\u001B[1;33m,\u001B[0m \u001B[1;34m\"G\"\u001B[0m\u001B[1;33m]\u001B[0m\u001B[1;33m]\u001B[0m\u001B[1;33m\u001B[0m\u001B[1;33m\u001B[0m\u001B[0m\n\u001B[1;32m---> 12\u001B[1;33m \u001B[0msimulation_dataset\u001B[0m \u001B[1;33m=\u001B[0m \u001B[0mplayer_games\u001B[0m\u001B[1;33m.\u001B[0m\u001B[0mmerge\u001B[0m\u001B[1;33m(\u001B[0m\u001B[0mteam_9cat_averages\u001B[0m\u001B[1;33m,\u001B[0m \u001B[0mon\u001B[0m\u001B[1;33m=\u001B[0m\u001B[1;34m\"PLAYER\"\u001B[0m\u001B[1;33m)\u001B[0m\u001B[1;33m\u001B[0m\u001B[1;33m\u001B[0m\u001B[0m\n\u001B[0m",
      "\u001B[1;32mc:\\users\\jaume\\documents\\python projects\\waiver_wire_machine\\venv\\lib\\site-packages\\pandas\\core\\frame.py\u001B[0m in \u001B[0;36mmerge\u001B[1;34m(self, right, how, on, left_on, right_on, left_index, right_index, sort, suffixes, copy, indicator, validate)\u001B[0m\n\u001B[0;32m   8190\u001B[0m         \u001B[1;32mfrom\u001B[0m \u001B[0mpandas\u001B[0m\u001B[1;33m.\u001B[0m\u001B[0mcore\u001B[0m\u001B[1;33m.\u001B[0m\u001B[0mreshape\u001B[0m\u001B[1;33m.\u001B[0m\u001B[0mmerge\u001B[0m \u001B[1;32mimport\u001B[0m \u001B[0mmerge\u001B[0m\u001B[1;33m\u001B[0m\u001B[1;33m\u001B[0m\u001B[0m\n\u001B[0;32m   8191\u001B[0m \u001B[1;33m\u001B[0m\u001B[0m\n\u001B[1;32m-> 8192\u001B[1;33m         return merge(\n\u001B[0m\u001B[0;32m   8193\u001B[0m             \u001B[0mself\u001B[0m\u001B[1;33m,\u001B[0m\u001B[1;33m\u001B[0m\u001B[1;33m\u001B[0m\u001B[0m\n\u001B[0;32m   8194\u001B[0m             \u001B[0mright\u001B[0m\u001B[1;33m,\u001B[0m\u001B[1;33m\u001B[0m\u001B[1;33m\u001B[0m\u001B[0m\n",
      "\u001B[1;32mc:\\users\\jaume\\documents\\python projects\\waiver_wire_machine\\venv\\lib\\site-packages\\pandas\\core\\reshape\\merge.py\u001B[0m in \u001B[0;36mmerge\u001B[1;34m(left, right, how, on, left_on, right_on, left_index, right_index, sort, suffixes, copy, indicator, validate)\u001B[0m\n\u001B[0;32m     72\u001B[0m     \u001B[0mvalidate\u001B[0m\u001B[1;33m=\u001B[0m\u001B[1;32mNone\u001B[0m\u001B[1;33m,\u001B[0m\u001B[1;33m\u001B[0m\u001B[1;33m\u001B[0m\u001B[0m\n\u001B[0;32m     73\u001B[0m ) -> \"DataFrame\":\n\u001B[1;32m---> 74\u001B[1;33m     op = _MergeOperation(\n\u001B[0m\u001B[0;32m     75\u001B[0m         \u001B[0mleft\u001B[0m\u001B[1;33m,\u001B[0m\u001B[1;33m\u001B[0m\u001B[1;33m\u001B[0m\u001B[0m\n\u001B[0;32m     76\u001B[0m         \u001B[0mright\u001B[0m\u001B[1;33m,\u001B[0m\u001B[1;33m\u001B[0m\u001B[1;33m\u001B[0m\u001B[0m\n",
      "\u001B[1;32mc:\\users\\jaume\\documents\\python projects\\waiver_wire_machine\\venv\\lib\\site-packages\\pandas\\core\\reshape\\merge.py\u001B[0m in \u001B[0;36m__init__\u001B[1;34m(self, left, right, how, on, left_on, right_on, axis, left_index, right_index, sort, suffixes, copy, indicator, validate)\u001B[0m\n\u001B[0;32m    666\u001B[0m             \u001B[0mself\u001B[0m\u001B[1;33m.\u001B[0m\u001B[0mright_join_keys\u001B[0m\u001B[1;33m,\u001B[0m\u001B[1;33m\u001B[0m\u001B[1;33m\u001B[0m\u001B[0m\n\u001B[0;32m    667\u001B[0m             \u001B[0mself\u001B[0m\u001B[1;33m.\u001B[0m\u001B[0mjoin_names\u001B[0m\u001B[1;33m,\u001B[0m\u001B[1;33m\u001B[0m\u001B[1;33m\u001B[0m\u001B[0m\n\u001B[1;32m--> 668\u001B[1;33m         ) = self._get_merge_keys()\n\u001B[0m\u001B[0;32m    669\u001B[0m \u001B[1;33m\u001B[0m\u001B[0m\n\u001B[0;32m    670\u001B[0m         \u001B[1;31m# validate the merge keys dtypes. We may need to coerce\u001B[0m\u001B[1;33m\u001B[0m\u001B[1;33m\u001B[0m\u001B[1;33m\u001B[0m\u001B[0m\n",
      "\u001B[1;32mc:\\users\\jaume\\documents\\python projects\\waiver_wire_machine\\venv\\lib\\site-packages\\pandas\\core\\reshape\\merge.py\u001B[0m in \u001B[0;36m_get_merge_keys\u001B[1;34m(self)\u001B[0m\n\u001B[0;32m   1044\u001B[0m                         \u001B[0mright_keys\u001B[0m\u001B[1;33m.\u001B[0m\u001B[0mappend\u001B[0m\u001B[1;33m(\u001B[0m\u001B[0mrk\u001B[0m\u001B[1;33m)\u001B[0m\u001B[1;33m\u001B[0m\u001B[1;33m\u001B[0m\u001B[0m\n\u001B[0;32m   1045\u001B[0m                     \u001B[1;32mif\u001B[0m \u001B[0mlk\u001B[0m \u001B[1;32mis\u001B[0m \u001B[1;32mnot\u001B[0m \u001B[1;32mNone\u001B[0m\u001B[1;33m:\u001B[0m\u001B[1;33m\u001B[0m\u001B[1;33m\u001B[0m\u001B[0m\n\u001B[1;32m-> 1046\u001B[1;33m                         \u001B[0mleft_keys\u001B[0m\u001B[1;33m.\u001B[0m\u001B[0mappend\u001B[0m\u001B[1;33m(\u001B[0m\u001B[0mleft\u001B[0m\u001B[1;33m.\u001B[0m\u001B[0m_get_label_or_level_values\u001B[0m\u001B[1;33m(\u001B[0m\u001B[0mlk\u001B[0m\u001B[1;33m)\u001B[0m\u001B[1;33m)\u001B[0m\u001B[1;33m\u001B[0m\u001B[1;33m\u001B[0m\u001B[0m\n\u001B[0m\u001B[0;32m   1047\u001B[0m                         \u001B[0mjoin_names\u001B[0m\u001B[1;33m.\u001B[0m\u001B[0mappend\u001B[0m\u001B[1;33m(\u001B[0m\u001B[0mlk\u001B[0m\u001B[1;33m)\u001B[0m\u001B[1;33m\u001B[0m\u001B[1;33m\u001B[0m\u001B[0m\n\u001B[0;32m   1048\u001B[0m                     \u001B[1;32melse\u001B[0m\u001B[1;33m:\u001B[0m\u001B[1;33m\u001B[0m\u001B[1;33m\u001B[0m\u001B[0m\n",
      "\u001B[1;32mc:\\users\\jaume\\documents\\python projects\\waiver_wire_machine\\venv\\lib\\site-packages\\pandas\\core\\generic.py\u001B[0m in \u001B[0;36m_get_label_or_level_values\u001B[1;34m(self, key, axis)\u001B[0m\n\u001B[0;32m   1696\u001B[0m \u001B[1;33m\u001B[0m\u001B[0m\n\u001B[0;32m   1697\u001B[0m             \u001B[0mlabel_axis_name\u001B[0m \u001B[1;33m=\u001B[0m \u001B[1;34m\"column\"\u001B[0m \u001B[1;32mif\u001B[0m \u001B[0maxis\u001B[0m \u001B[1;33m==\u001B[0m \u001B[1;36m0\u001B[0m \u001B[1;32melse\u001B[0m \u001B[1;34m\"index\"\u001B[0m\u001B[1;33m\u001B[0m\u001B[1;33m\u001B[0m\u001B[0m\n\u001B[1;32m-> 1698\u001B[1;33m             raise ValueError(\n\u001B[0m\u001B[0;32m   1699\u001B[0m                 \u001B[1;34mf\"The {label_axis_name} label '{key}' is not unique.{multi_message}\"\u001B[0m\u001B[1;33m\u001B[0m\u001B[1;33m\u001B[0m\u001B[0m\n\u001B[0;32m   1700\u001B[0m             )\n",
      "\u001B[1;31mValueError\u001B[0m: The column label 'PLAYER' is not unique.\nFor a multi-index, the label must be a tuple with elements corresponding to each level."
     ]
    }
   ],
   "source": [
    "sc = af.yahoo_fantasy_api_authentication()\n",
    "league = af.yahoo_fantasy_league(sc)\n",
    "team_9cat_averages = af.team_9cat_average_stats(af.NUNN_OF_YALL_BETTA, league)\n",
    "team_9cat_averages.drop(\"mean\", inplace=True)\n",
    "filtered_games_week, player_games_dictionary = get_team_player_game_dataframe(af.NUNN_OF_YALL_BETTA,\n",
    "                                                                              week=\"current\",\n",
    "                                                                              season=2020)\n",
    "player_games = pd.DataFrame.from_dict(player_games_dictionary, orient=\"index\")\n",
    "player_games = player_games.loc[player_games.index.repeat(player_games[0])]\n",
    "player_games.reset_index(inplace=True)\n",
    "player_games.columns = [[\"PLAYER\", \"G\"]]\n",
    "# simulation_dataset = player_games.merge(team_9cat_averages, on=\"PLAYER\")"
   ],
   "metadata": {
    "collapsed": false,
    "pycharm": {
     "name": "#%%\n"
    }
   }
  },
  {
   "cell_type": "code",
   "execution_count": 124,
   "outputs": [
    {
     "data": {
      "text/plain": "                PLAYER FG_PCT FT_PCT  FG3M    PTS    REB   AST   STL   BLK  \\\n0      Malcolm Brogdon  0.447  0.897  2.41  21.21   4.65  6.24  1.18  0.24   \n1      Duncan Robinson  0.429  0.840  3.25  12.81   3.94  1.61  0.47  0.22   \n2          Patty Mills  0.448  0.900  2.75  13.31   1.81  2.66  0.62  0.03   \n3       Gary Trent Jr.  0.423  0.778  3.06  15.21   2.15  1.48  0.76  0.15   \n4          Jae Crowder  0.402  0.829  2.41  10.12   5.00  2.12  0.84  0.25   \n5          Jeremy Lamb  0.473  0.941  1.62  11.33   3.71  1.62  0.86  0.52   \n6          Enes Kanter  0.594  0.750  0.00  11.91  11.86  1.14  0.51  0.74   \n7         Nikola Jokic  0.567  0.881  1.56  27.14  11.03  8.58  1.61  0.64   \n8      Cameron Johnson  0.437  0.865  2.15  10.44   3.38  1.35  0.65  0.29   \n9         Jimmy Butler  0.454  0.863  0.36  20.55   7.55  7.82  1.91  0.36   \n10  Wendell Carter Jr.  0.535  0.733  0.30  12.26   7.78  2.26  0.70  0.83   \n11          Kyle Kuzma  0.444  0.632  1.81  11.47   6.67  1.14  0.39  0.64   \n12        Marcus Smart  0.394  0.742  1.65  13.06   2.76  6.06  1.82  0.53   \n13     Khris Middleton  0.495  0.884  2.31  20.58   6.14  5.72  1.11  0.17   \n14       Pascal Siakam  0.453  0.819  1.20  20.07   7.47  4.77  1.17  0.70   \n\n     TOV  \n0   2.09  \n1   1.33  \n2   1.06  \n3   0.73  \n4   0.91  \n5   0.76  \n6   1.17  \n7   3.17  \n8   0.76  \n9   2.32  \n10  1.87  \n11  1.50  \n12  1.76  \n13  2.61  \n14  2.17  ",
      "text/html": "<div>\n<style scoped>\n    .dataframe tbody tr th:only-of-type {\n        vertical-align: middle;\n    }\n\n    .dataframe tbody tr th {\n        vertical-align: top;\n    }\n\n    .dataframe thead th {\n        text-align: right;\n    }\n</style>\n<table border=\"1\" class=\"dataframe\">\n  <thead>\n    <tr style=\"text-align: right;\">\n      <th></th>\n      <th>PLAYER</th>\n      <th>FG_PCT</th>\n      <th>FT_PCT</th>\n      <th>FG3M</th>\n      <th>PTS</th>\n      <th>REB</th>\n      <th>AST</th>\n      <th>STL</th>\n      <th>BLK</th>\n      <th>TOV</th>\n    </tr>\n  </thead>\n  <tbody>\n    <tr>\n      <th>0</th>\n      <td>Malcolm Brogdon</td>\n      <td>0.447</td>\n      <td>0.897</td>\n      <td>2.41</td>\n      <td>21.21</td>\n      <td>4.65</td>\n      <td>6.24</td>\n      <td>1.18</td>\n      <td>0.24</td>\n      <td>2.09</td>\n    </tr>\n    <tr>\n      <th>1</th>\n      <td>Duncan Robinson</td>\n      <td>0.429</td>\n      <td>0.840</td>\n      <td>3.25</td>\n      <td>12.81</td>\n      <td>3.94</td>\n      <td>1.61</td>\n      <td>0.47</td>\n      <td>0.22</td>\n      <td>1.33</td>\n    </tr>\n    <tr>\n      <th>2</th>\n      <td>Patty Mills</td>\n      <td>0.448</td>\n      <td>0.900</td>\n      <td>2.75</td>\n      <td>13.31</td>\n      <td>1.81</td>\n      <td>2.66</td>\n      <td>0.62</td>\n      <td>0.03</td>\n      <td>1.06</td>\n    </tr>\n    <tr>\n      <th>3</th>\n      <td>Gary Trent Jr.</td>\n      <td>0.423</td>\n      <td>0.778</td>\n      <td>3.06</td>\n      <td>15.21</td>\n      <td>2.15</td>\n      <td>1.48</td>\n      <td>0.76</td>\n      <td>0.15</td>\n      <td>0.73</td>\n    </tr>\n    <tr>\n      <th>4</th>\n      <td>Jae Crowder</td>\n      <td>0.402</td>\n      <td>0.829</td>\n      <td>2.41</td>\n      <td>10.12</td>\n      <td>5.00</td>\n      <td>2.12</td>\n      <td>0.84</td>\n      <td>0.25</td>\n      <td>0.91</td>\n    </tr>\n    <tr>\n      <th>5</th>\n      <td>Jeremy Lamb</td>\n      <td>0.473</td>\n      <td>0.941</td>\n      <td>1.62</td>\n      <td>11.33</td>\n      <td>3.71</td>\n      <td>1.62</td>\n      <td>0.86</td>\n      <td>0.52</td>\n      <td>0.76</td>\n    </tr>\n    <tr>\n      <th>6</th>\n      <td>Enes Kanter</td>\n      <td>0.594</td>\n      <td>0.750</td>\n      <td>0.00</td>\n      <td>11.91</td>\n      <td>11.86</td>\n      <td>1.14</td>\n      <td>0.51</td>\n      <td>0.74</td>\n      <td>1.17</td>\n    </tr>\n    <tr>\n      <th>7</th>\n      <td>Nikola Jokic</td>\n      <td>0.567</td>\n      <td>0.881</td>\n      <td>1.56</td>\n      <td>27.14</td>\n      <td>11.03</td>\n      <td>8.58</td>\n      <td>1.61</td>\n      <td>0.64</td>\n      <td>3.17</td>\n    </tr>\n    <tr>\n      <th>8</th>\n      <td>Cameron Johnson</td>\n      <td>0.437</td>\n      <td>0.865</td>\n      <td>2.15</td>\n      <td>10.44</td>\n      <td>3.38</td>\n      <td>1.35</td>\n      <td>0.65</td>\n      <td>0.29</td>\n      <td>0.76</td>\n    </tr>\n    <tr>\n      <th>9</th>\n      <td>Jimmy Butler</td>\n      <td>0.454</td>\n      <td>0.863</td>\n      <td>0.36</td>\n      <td>20.55</td>\n      <td>7.55</td>\n      <td>7.82</td>\n      <td>1.91</td>\n      <td>0.36</td>\n      <td>2.32</td>\n    </tr>\n    <tr>\n      <th>10</th>\n      <td>Wendell Carter Jr.</td>\n      <td>0.535</td>\n      <td>0.733</td>\n      <td>0.30</td>\n      <td>12.26</td>\n      <td>7.78</td>\n      <td>2.26</td>\n      <td>0.70</td>\n      <td>0.83</td>\n      <td>1.87</td>\n    </tr>\n    <tr>\n      <th>11</th>\n      <td>Kyle Kuzma</td>\n      <td>0.444</td>\n      <td>0.632</td>\n      <td>1.81</td>\n      <td>11.47</td>\n      <td>6.67</td>\n      <td>1.14</td>\n      <td>0.39</td>\n      <td>0.64</td>\n      <td>1.50</td>\n    </tr>\n    <tr>\n      <th>12</th>\n      <td>Marcus Smart</td>\n      <td>0.394</td>\n      <td>0.742</td>\n      <td>1.65</td>\n      <td>13.06</td>\n      <td>2.76</td>\n      <td>6.06</td>\n      <td>1.82</td>\n      <td>0.53</td>\n      <td>1.76</td>\n    </tr>\n    <tr>\n      <th>13</th>\n      <td>Khris Middleton</td>\n      <td>0.495</td>\n      <td>0.884</td>\n      <td>2.31</td>\n      <td>20.58</td>\n      <td>6.14</td>\n      <td>5.72</td>\n      <td>1.11</td>\n      <td>0.17</td>\n      <td>2.61</td>\n    </tr>\n    <tr>\n      <th>14</th>\n      <td>Pascal Siakam</td>\n      <td>0.453</td>\n      <td>0.819</td>\n      <td>1.20</td>\n      <td>20.07</td>\n      <td>7.47</td>\n      <td>4.77</td>\n      <td>1.17</td>\n      <td>0.70</td>\n      <td>2.17</td>\n    </tr>\n  </tbody>\n</table>\n</div>"
     },
     "execution_count": 124,
     "metadata": {},
     "output_type": "execute_result"
    }
   ],
   "source": [
    "# player_games.merge(team_9cat_averages, left_on=\"PLAYER\", right_on=\"PLAYER\")\n",
    "team_9cat_averages"
   ],
   "metadata": {
    "collapsed": false,
    "pycharm": {
     "name": "#%%\n"
    }
   }
  },
  {
   "cell_type": "code",
   "execution_count": 127,
   "outputs": [
    {
     "ename": "ValueError",
     "evalue": "The column label 'PLAYER' is not unique.\nFor a multi-index, the label must be a tuple with elements corresponding to each level.",
     "output_type": "error",
     "traceback": [
      "\u001B[1;31m---------------------------------------------------------------------------\u001B[0m",
      "\u001B[1;31mValueError\u001B[0m                                Traceback (most recent call last)",
      "\u001B[1;32m<ipython-input-127-b6826f00f98e>\u001B[0m in \u001B[0;36m<module>\u001B[1;34m\u001B[0m\n\u001B[1;32m----> 1\u001B[1;33m \u001B[0mteam_9cat_averages\u001B[0m\u001B[1;33m.\u001B[0m\u001B[0mmerge\u001B[0m\u001B[1;33m(\u001B[0m\u001B[0mplayer_games\u001B[0m\u001B[1;33m,\u001B[0m \u001B[0mleft_on\u001B[0m\u001B[1;33m=\u001B[0m\u001B[1;34m\"PLAYER\"\u001B[0m\u001B[1;33m,\u001B[0m \u001B[0mright_on\u001B[0m\u001B[1;33m=\u001B[0m\u001B[1;34m\"PLAYER\"\u001B[0m\u001B[1;33m)\u001B[0m\u001B[1;33m\u001B[0m\u001B[1;33m\u001B[0m\u001B[0m\n\u001B[0m",
      "\u001B[1;32mc:\\users\\jaume\\documents\\python projects\\waiver_wire_machine\\venv\\lib\\site-packages\\pandas\\core\\frame.py\u001B[0m in \u001B[0;36mmerge\u001B[1;34m(self, right, how, on, left_on, right_on, left_index, right_index, sort, suffixes, copy, indicator, validate)\u001B[0m\n\u001B[0;32m   8190\u001B[0m         \u001B[1;32mfrom\u001B[0m \u001B[0mpandas\u001B[0m\u001B[1;33m.\u001B[0m\u001B[0mcore\u001B[0m\u001B[1;33m.\u001B[0m\u001B[0mreshape\u001B[0m\u001B[1;33m.\u001B[0m\u001B[0mmerge\u001B[0m \u001B[1;32mimport\u001B[0m \u001B[0mmerge\u001B[0m\u001B[1;33m\u001B[0m\u001B[1;33m\u001B[0m\u001B[0m\n\u001B[0;32m   8191\u001B[0m \u001B[1;33m\u001B[0m\u001B[0m\n\u001B[1;32m-> 8192\u001B[1;33m         return merge(\n\u001B[0m\u001B[0;32m   8193\u001B[0m             \u001B[0mself\u001B[0m\u001B[1;33m,\u001B[0m\u001B[1;33m\u001B[0m\u001B[1;33m\u001B[0m\u001B[0m\n\u001B[0;32m   8194\u001B[0m             \u001B[0mright\u001B[0m\u001B[1;33m,\u001B[0m\u001B[1;33m\u001B[0m\u001B[1;33m\u001B[0m\u001B[0m\n",
      "\u001B[1;32mc:\\users\\jaume\\documents\\python projects\\waiver_wire_machine\\venv\\lib\\site-packages\\pandas\\core\\reshape\\merge.py\u001B[0m in \u001B[0;36mmerge\u001B[1;34m(left, right, how, on, left_on, right_on, left_index, right_index, sort, suffixes, copy, indicator, validate)\u001B[0m\n\u001B[0;32m     72\u001B[0m     \u001B[0mvalidate\u001B[0m\u001B[1;33m=\u001B[0m\u001B[1;32mNone\u001B[0m\u001B[1;33m,\u001B[0m\u001B[1;33m\u001B[0m\u001B[1;33m\u001B[0m\u001B[0m\n\u001B[0;32m     73\u001B[0m ) -> \"DataFrame\":\n\u001B[1;32m---> 74\u001B[1;33m     op = _MergeOperation(\n\u001B[0m\u001B[0;32m     75\u001B[0m         \u001B[0mleft\u001B[0m\u001B[1;33m,\u001B[0m\u001B[1;33m\u001B[0m\u001B[1;33m\u001B[0m\u001B[0m\n\u001B[0;32m     76\u001B[0m         \u001B[0mright\u001B[0m\u001B[1;33m,\u001B[0m\u001B[1;33m\u001B[0m\u001B[1;33m\u001B[0m\u001B[0m\n",
      "\u001B[1;32mc:\\users\\jaume\\documents\\python projects\\waiver_wire_machine\\venv\\lib\\site-packages\\pandas\\core\\reshape\\merge.py\u001B[0m in \u001B[0;36m__init__\u001B[1;34m(self, left, right, how, on, left_on, right_on, axis, left_index, right_index, sort, suffixes, copy, indicator, validate)\u001B[0m\n\u001B[0;32m    666\u001B[0m             \u001B[0mself\u001B[0m\u001B[1;33m.\u001B[0m\u001B[0mright_join_keys\u001B[0m\u001B[1;33m,\u001B[0m\u001B[1;33m\u001B[0m\u001B[1;33m\u001B[0m\u001B[0m\n\u001B[0;32m    667\u001B[0m             \u001B[0mself\u001B[0m\u001B[1;33m.\u001B[0m\u001B[0mjoin_names\u001B[0m\u001B[1;33m,\u001B[0m\u001B[1;33m\u001B[0m\u001B[1;33m\u001B[0m\u001B[0m\n\u001B[1;32m--> 668\u001B[1;33m         ) = self._get_merge_keys()\n\u001B[0m\u001B[0;32m    669\u001B[0m \u001B[1;33m\u001B[0m\u001B[0m\n\u001B[0;32m    670\u001B[0m         \u001B[1;31m# validate the merge keys dtypes. We may need to coerce\u001B[0m\u001B[1;33m\u001B[0m\u001B[1;33m\u001B[0m\u001B[1;33m\u001B[0m\u001B[0m\n",
      "\u001B[1;32mc:\\users\\jaume\\documents\\python projects\\waiver_wire_machine\\venv\\lib\\site-packages\\pandas\\core\\reshape\\merge.py\u001B[0m in \u001B[0;36m_get_merge_keys\u001B[1;34m(self)\u001B[0m\n\u001B[0;32m   1031\u001B[0m                     \u001B[1;32mif\u001B[0m \u001B[1;32mnot\u001B[0m \u001B[0mis_rkey\u001B[0m\u001B[1;33m(\u001B[0m\u001B[0mrk\u001B[0m\u001B[1;33m)\u001B[0m\u001B[1;33m:\u001B[0m\u001B[1;33m\u001B[0m\u001B[1;33m\u001B[0m\u001B[0m\n\u001B[0;32m   1032\u001B[0m                         \u001B[1;32mif\u001B[0m \u001B[0mrk\u001B[0m \u001B[1;32mis\u001B[0m \u001B[1;32mnot\u001B[0m \u001B[1;32mNone\u001B[0m\u001B[1;33m:\u001B[0m\u001B[1;33m\u001B[0m\u001B[1;33m\u001B[0m\u001B[0m\n\u001B[1;32m-> 1033\u001B[1;33m                             \u001B[0mright_keys\u001B[0m\u001B[1;33m.\u001B[0m\u001B[0mappend\u001B[0m\u001B[1;33m(\u001B[0m\u001B[0mright\u001B[0m\u001B[1;33m.\u001B[0m\u001B[0m_get_label_or_level_values\u001B[0m\u001B[1;33m(\u001B[0m\u001B[0mrk\u001B[0m\u001B[1;33m)\u001B[0m\u001B[1;33m)\u001B[0m\u001B[1;33m\u001B[0m\u001B[1;33m\u001B[0m\u001B[0m\n\u001B[0m\u001B[0;32m   1034\u001B[0m                         \u001B[1;32melse\u001B[0m\u001B[1;33m:\u001B[0m\u001B[1;33m\u001B[0m\u001B[1;33m\u001B[0m\u001B[0m\n\u001B[0;32m   1035\u001B[0m                             \u001B[1;31m# work-around for merge_asof(right_index=True)\u001B[0m\u001B[1;33m\u001B[0m\u001B[1;33m\u001B[0m\u001B[1;33m\u001B[0m\u001B[0m\n",
      "\u001B[1;32mc:\\users\\jaume\\documents\\python projects\\waiver_wire_machine\\venv\\lib\\site-packages\\pandas\\core\\generic.py\u001B[0m in \u001B[0;36m_get_label_or_level_values\u001B[1;34m(self, key, axis)\u001B[0m\n\u001B[0;32m   1696\u001B[0m \u001B[1;33m\u001B[0m\u001B[0m\n\u001B[0;32m   1697\u001B[0m             \u001B[0mlabel_axis_name\u001B[0m \u001B[1;33m=\u001B[0m \u001B[1;34m\"column\"\u001B[0m \u001B[1;32mif\u001B[0m \u001B[0maxis\u001B[0m \u001B[1;33m==\u001B[0m \u001B[1;36m0\u001B[0m \u001B[1;32melse\u001B[0m \u001B[1;34m\"index\"\u001B[0m\u001B[1;33m\u001B[0m\u001B[1;33m\u001B[0m\u001B[0m\n\u001B[1;32m-> 1698\u001B[1;33m             raise ValueError(\n\u001B[0m\u001B[0;32m   1699\u001B[0m                 \u001B[1;34mf\"The {label_axis_name} label '{key}' is not unique.{multi_message}\"\u001B[0m\u001B[1;33m\u001B[0m\u001B[1;33m\u001B[0m\u001B[0m\n\u001B[0;32m   1700\u001B[0m             )\n",
      "\u001B[1;31mValueError\u001B[0m: The column label 'PLAYER' is not unique.\nFor a multi-index, the label must be a tuple with elements corresponding to each level."
     ]
    }
   ],
   "source": [
    "team_9cat_averages.merge(player_games, left_on=\"PLAYER\", right_on=\"PLAYER\")"
   ],
   "metadata": {
    "collapsed": false,
    "pycharm": {
     "name": "#%%\n"
    }
   }
  },
  {
   "cell_type": "code",
   "execution_count": 129,
   "outputs": [],
   "source": [
    "team_9cat_averages.to_clipboard(index=False)\n",
    "team_9cat_averages=pd.read_clipboard(sep='\\t')\n",
    "\n",
    "player_games.to_clipboard(index=False)\n",
    "player_games=pd.read_clipboard(sep='\\t')"
   ],
   "metadata": {
    "collapsed": false,
    "pycharm": {
     "name": "#%%\n"
    }
   }
  },
  {
   "cell_type": "code",
   "execution_count": 130,
   "outputs": [
    {
     "data": {
      "text/plain": "             PLAYER  FG_PCT  FT_PCT  FG3M    PTS   REB   AST   STL   BLK  \\\n0   Malcolm Brogdon   0.447   0.897  2.41  21.21  4.65  6.24  1.18  0.24   \n1   Malcolm Brogdon   0.447   0.897  2.41  21.21  4.65  6.24  1.18  0.24   \n2   Malcolm Brogdon   0.447   0.897  2.41  21.21  4.65  6.24  1.18  0.24   \n3   Malcolm Brogdon   0.447   0.897  2.41  21.21  4.65  6.24  1.18  0.24   \n4   Malcolm Brogdon   0.447   0.897  2.41  21.21  4.65  6.24  1.18  0.24   \n..              ...     ...     ...   ...    ...   ...   ...   ...   ...   \n67    Pascal Siakam   0.453   0.819  1.20  20.07  7.47  4.77  1.17  0.70   \n68    Pascal Siakam   0.453   0.819  1.20  20.07  7.47  4.77  1.17  0.70   \n69    Pascal Siakam   0.453   0.819  1.20  20.07  7.47  4.77  1.17  0.70   \n70    Pascal Siakam   0.453   0.819  1.20  20.07  7.47  4.77  1.17  0.70   \n71    Pascal Siakam   0.453   0.819  1.20  20.07  7.47  4.77  1.17  0.70   \n\n     TOV  G  \n0   2.09  5  \n1   2.09  5  \n2   2.09  5  \n3   2.09  5  \n4   2.09  5  \n..   ... ..  \n67  2.17  5  \n68  2.17  5  \n69  2.17  5  \n70  2.17  5  \n71  2.17  5  \n\n[72 rows x 11 columns]",
      "text/html": "<div>\n<style scoped>\n    .dataframe tbody tr th:only-of-type {\n        vertical-align: middle;\n    }\n\n    .dataframe tbody tr th {\n        vertical-align: top;\n    }\n\n    .dataframe thead th {\n        text-align: right;\n    }\n</style>\n<table border=\"1\" class=\"dataframe\">\n  <thead>\n    <tr style=\"text-align: right;\">\n      <th></th>\n      <th>PLAYER</th>\n      <th>FG_PCT</th>\n      <th>FT_PCT</th>\n      <th>FG3M</th>\n      <th>PTS</th>\n      <th>REB</th>\n      <th>AST</th>\n      <th>STL</th>\n      <th>BLK</th>\n      <th>TOV</th>\n      <th>G</th>\n    </tr>\n  </thead>\n  <tbody>\n    <tr>\n      <th>0</th>\n      <td>Malcolm Brogdon</td>\n      <td>0.447</td>\n      <td>0.897</td>\n      <td>2.41</td>\n      <td>21.21</td>\n      <td>4.65</td>\n      <td>6.24</td>\n      <td>1.18</td>\n      <td>0.24</td>\n      <td>2.09</td>\n      <td>5</td>\n    </tr>\n    <tr>\n      <th>1</th>\n      <td>Malcolm Brogdon</td>\n      <td>0.447</td>\n      <td>0.897</td>\n      <td>2.41</td>\n      <td>21.21</td>\n      <td>4.65</td>\n      <td>6.24</td>\n      <td>1.18</td>\n      <td>0.24</td>\n      <td>2.09</td>\n      <td>5</td>\n    </tr>\n    <tr>\n      <th>2</th>\n      <td>Malcolm Brogdon</td>\n      <td>0.447</td>\n      <td>0.897</td>\n      <td>2.41</td>\n      <td>21.21</td>\n      <td>4.65</td>\n      <td>6.24</td>\n      <td>1.18</td>\n      <td>0.24</td>\n      <td>2.09</td>\n      <td>5</td>\n    </tr>\n    <tr>\n      <th>3</th>\n      <td>Malcolm Brogdon</td>\n      <td>0.447</td>\n      <td>0.897</td>\n      <td>2.41</td>\n      <td>21.21</td>\n      <td>4.65</td>\n      <td>6.24</td>\n      <td>1.18</td>\n      <td>0.24</td>\n      <td>2.09</td>\n      <td>5</td>\n    </tr>\n    <tr>\n      <th>4</th>\n      <td>Malcolm Brogdon</td>\n      <td>0.447</td>\n      <td>0.897</td>\n      <td>2.41</td>\n      <td>21.21</td>\n      <td>4.65</td>\n      <td>6.24</td>\n      <td>1.18</td>\n      <td>0.24</td>\n      <td>2.09</td>\n      <td>5</td>\n    </tr>\n    <tr>\n      <th>...</th>\n      <td>...</td>\n      <td>...</td>\n      <td>...</td>\n      <td>...</td>\n      <td>...</td>\n      <td>...</td>\n      <td>...</td>\n      <td>...</td>\n      <td>...</td>\n      <td>...</td>\n      <td>...</td>\n    </tr>\n    <tr>\n      <th>67</th>\n      <td>Pascal Siakam</td>\n      <td>0.453</td>\n      <td>0.819</td>\n      <td>1.20</td>\n      <td>20.07</td>\n      <td>7.47</td>\n      <td>4.77</td>\n      <td>1.17</td>\n      <td>0.70</td>\n      <td>2.17</td>\n      <td>5</td>\n    </tr>\n    <tr>\n      <th>68</th>\n      <td>Pascal Siakam</td>\n      <td>0.453</td>\n      <td>0.819</td>\n      <td>1.20</td>\n      <td>20.07</td>\n      <td>7.47</td>\n      <td>4.77</td>\n      <td>1.17</td>\n      <td>0.70</td>\n      <td>2.17</td>\n      <td>5</td>\n    </tr>\n    <tr>\n      <th>69</th>\n      <td>Pascal Siakam</td>\n      <td>0.453</td>\n      <td>0.819</td>\n      <td>1.20</td>\n      <td>20.07</td>\n      <td>7.47</td>\n      <td>4.77</td>\n      <td>1.17</td>\n      <td>0.70</td>\n      <td>2.17</td>\n      <td>5</td>\n    </tr>\n    <tr>\n      <th>70</th>\n      <td>Pascal Siakam</td>\n      <td>0.453</td>\n      <td>0.819</td>\n      <td>1.20</td>\n      <td>20.07</td>\n      <td>7.47</td>\n      <td>4.77</td>\n      <td>1.17</td>\n      <td>0.70</td>\n      <td>2.17</td>\n      <td>5</td>\n    </tr>\n    <tr>\n      <th>71</th>\n      <td>Pascal Siakam</td>\n      <td>0.453</td>\n      <td>0.819</td>\n      <td>1.20</td>\n      <td>20.07</td>\n      <td>7.47</td>\n      <td>4.77</td>\n      <td>1.17</td>\n      <td>0.70</td>\n      <td>2.17</td>\n      <td>5</td>\n    </tr>\n  </tbody>\n</table>\n<p>72 rows × 11 columns</p>\n</div>"
     },
     "execution_count": 130,
     "metadata": {},
     "output_type": "execute_result"
    }
   ],
   "source": [
    "pd.merge(team_9cat_averages, player_games, on=[\"PLAYER\"])"
   ],
   "metadata": {
    "collapsed": false,
    "pycharm": {
     "name": "#%%\n"
    }
   }
  },
  {
   "cell_type": "code",
   "execution_count": 4,
   "outputs": [],
   "source": [
    "def make_simulation_dataset(team_dict, week=\"current\"):\n",
    "    \"\"\"\n",
    "\n",
    "    @param team_dict:\n",
    "    @param week:\n",
    "    @return:\n",
    "    \"\"\"\n",
    "    sc = af.yahoo_fantasy_api_authentication()\n",
    "    league = af.yahoo_fantasy_league(sc)\n",
    "    team_9cat_averages = af.team_9cat_average_stats(team_dict, league)\n",
    "    team_9cat_averages.drop(\"mean\", inplace=True)\n",
    "    filtered_games_week, player_games_dictionary = get_team_player_game_dataframe(team_dict,\n",
    "                                                                                  week=week,\n",
    "                                                                                  season=2020)\n",
    "    player_games = pd.DataFrame.from_dict(player_games_dictionary, orient=\"index\")\n",
    "    player_games = player_games.loc[player_games.index.repeat(player_games[0])]\n",
    "    player_games.reset_index(inplace=True)\n",
    "    player_games.columns = [[\"PLAYER\", \"G\"]]\n",
    "    team_9cat_averages.to_clipboard(index=False)\n",
    "    team_9cat_averages=pd.read_clipboard(sep='\\t')\n",
    "    player_games.to_clipboard(index=False)\n",
    "    player_games=pd.read_clipboard(sep='\\t')\n",
    "    simulation_dataset = pd.merge(team_9cat_averages, player_games, on=[\"PLAYER\"])\n",
    "    simulation_dataset.drop([\"PLAYER\", \"G\"], axis=1, inplace=True)\n",
    "    simulation_dataset = simulation_dataset.apply(pd.to_numeric)\n",
    "    return simulation_dataset"
   ],
   "metadata": {
    "collapsed": false,
    "pycharm": {
     "name": "#%%\n"
    }
   }
  },
  {
   "cell_type": "code",
   "execution_count": 132,
   "outputs": [
    {
     "name": "stderr",
     "output_type": "stream",
     "text": [
      "[2021-03-08 21:09:18,815 DEBUG] [yahoo_oauth.oauth.__init__] Checking \n",
      "[2021-03-08 21:09:18,817 DEBUG] [yahoo_oauth.oauth.token_is_valid] ELAPSED TIME : 1566.2080564498901\n",
      "[2021-03-08 21:09:18,818 DEBUG] [yahoo_oauth.oauth.token_is_valid] TOKEN IS STILL VALID\n",
      "[2021-03-08 21:10:16,873 DEBUG] [yahoo_oauth.oauth.__init__] Checking \n",
      "[2021-03-08 21:10:16,877 DEBUG] [yahoo_oauth.oauth.token_is_valid] ELAPSED TIME : 1624.2677590847015\n",
      "[2021-03-08 21:10:16,878 DEBUG] [yahoo_oauth.oauth.token_is_valid] TOKEN IS STILL VALID\n",
      "[2021-03-08 21:10:25,193 DEBUG] [yahoo_oauth.oauth.__init__] Checking \n",
      "[2021-03-08 21:10:25,197 DEBUG] [yahoo_oauth.oauth.token_is_valid] ELAPSED TIME : 1632.5879747867584\n",
      "[2021-03-08 21:10:25,197 DEBUG] [yahoo_oauth.oauth.token_is_valid] TOKEN IS STILL VALID\n",
      "[2021-03-08 21:10:28,527 DEBUG] [yahoo_oauth.oauth.__init__] Checking \n",
      "[2021-03-08 21:10:28,529 DEBUG] [yahoo_oauth.oauth.token_is_valid] ELAPSED TIME : 1635.9200959205627\n",
      "[2021-03-08 21:10:28,530 DEBUG] [yahoo_oauth.oauth.token_is_valid] TOKEN IS STILL VALID\n",
      "[2021-03-08 21:10:29,470 DEBUG] [yahoo_oauth.oauth.__init__] Checking \n",
      "[2021-03-08 21:10:29,473 DEBUG] [yahoo_oauth.oauth.token_is_valid] ELAPSED TIME : 1636.8635165691376\n",
      "[2021-03-08 21:10:29,474 DEBUG] [yahoo_oauth.oauth.token_is_valid] TOKEN IS STILL VALID\n",
      "[2021-03-08 21:10:30,391 DEBUG] [yahoo_oauth.oauth.__init__] Checking \n",
      "[2021-03-08 21:10:30,400 DEBUG] [yahoo_oauth.oauth.token_is_valid] ELAPSED TIME : 1637.7910556793213\n",
      "[2021-03-08 21:10:30,402 DEBUG] [yahoo_oauth.oauth.token_is_valid] TOKEN IS STILL VALID\n",
      "[2021-03-08 21:10:31,436 DEBUG] [yahoo_oauth.oauth.__init__] Checking \n",
      "[2021-03-08 21:10:31,438 DEBUG] [yahoo_oauth.oauth.token_is_valid] ELAPSED TIME : 1638.82941365242\n",
      "[2021-03-08 21:10:31,439 DEBUG] [yahoo_oauth.oauth.token_is_valid] TOKEN IS STILL VALID\n",
      "[2021-03-08 21:10:32,361 DEBUG] [yahoo_oauth.oauth.__init__] Checking \n",
      "[2021-03-08 21:10:32,364 DEBUG] [yahoo_oauth.oauth.token_is_valid] ELAPSED TIME : 1639.7547681331635\n",
      "[2021-03-08 21:10:32,365 DEBUG] [yahoo_oauth.oauth.token_is_valid] TOKEN IS STILL VALID\n",
      "[2021-03-08 21:10:33,404 DEBUG] [yahoo_oauth.oauth.__init__] Checking \n",
      "[2021-03-08 21:10:33,407 DEBUG] [yahoo_oauth.oauth.token_is_valid] ELAPSED TIME : 1640.7983555793762\n",
      "[2021-03-08 21:10:33,408 DEBUG] [yahoo_oauth.oauth.token_is_valid] TOKEN IS STILL VALID\n",
      "[2021-03-08 21:10:34,283 DEBUG] [yahoo_oauth.oauth.__init__] Checking \n",
      "[2021-03-08 21:10:34,286 DEBUG] [yahoo_oauth.oauth.token_is_valid] ELAPSED TIME : 1641.6767337322235\n",
      "[2021-03-08 21:10:34,287 DEBUG] [yahoo_oauth.oauth.token_is_valid] TOKEN IS STILL VALID\n",
      "[2021-03-08 21:10:35,206 DEBUG] [yahoo_oauth.oauth.__init__] Checking \n",
      "[2021-03-08 21:10:35,208 DEBUG] [yahoo_oauth.oauth.token_is_valid] ELAPSED TIME : 1642.5994307994843\n",
      "[2021-03-08 21:10:35,209 DEBUG] [yahoo_oauth.oauth.token_is_valid] TOKEN IS STILL VALID\n",
      "[2021-03-08 21:10:36,134 DEBUG] [yahoo_oauth.oauth.__init__] Checking \n",
      "[2021-03-08 21:10:36,136 DEBUG] [yahoo_oauth.oauth.token_is_valid] ELAPSED TIME : 1643.5274076461792\n",
      "[2021-03-08 21:10:36,136 DEBUG] [yahoo_oauth.oauth.token_is_valid] TOKEN IS STILL VALID\n",
      "[2021-03-08 21:10:37,103 DEBUG] [yahoo_oauth.oauth.__init__] Checking \n",
      "[2021-03-08 21:10:37,106 DEBUG] [yahoo_oauth.oauth.token_is_valid] ELAPSED TIME : 1644.496850013733\n",
      "[2021-03-08 21:10:37,106 DEBUG] [yahoo_oauth.oauth.token_is_valid] TOKEN IS STILL VALID\n",
      "[2021-03-08 21:10:37,984 DEBUG] [yahoo_oauth.oauth.__init__] Checking \n",
      "[2021-03-08 21:10:37,986 DEBUG] [yahoo_oauth.oauth.token_is_valid] ELAPSED TIME : 1645.37730717659\n",
      "[2021-03-08 21:10:37,987 DEBUG] [yahoo_oauth.oauth.token_is_valid] TOKEN IS STILL VALID\n",
      "[2021-03-08 21:10:38,944 DEBUG] [yahoo_oauth.oauth.__init__] Checking \n",
      "[2021-03-08 21:10:38,948 DEBUG] [yahoo_oauth.oauth.token_is_valid] ELAPSED TIME : 1646.3386869430542\n",
      "[2021-03-08 21:10:38,948 DEBUG] [yahoo_oauth.oauth.token_is_valid] TOKEN IS STILL VALID\n",
      "[2021-03-08 21:10:39,841 DEBUG] [yahoo_oauth.oauth.__init__] Checking \n",
      "[2021-03-08 21:10:39,844 DEBUG] [yahoo_oauth.oauth.token_is_valid] ELAPSED TIME : 1647.2347271442413\n",
      "[2021-03-08 21:10:39,844 DEBUG] [yahoo_oauth.oauth.token_is_valid] TOKEN IS STILL VALID\n",
      "[2021-03-08 21:10:40,725 DEBUG] [yahoo_oauth.oauth.__init__] Checking \n",
      "[2021-03-08 21:10:40,728 DEBUG] [yahoo_oauth.oauth.token_is_valid] ELAPSED TIME : 1648.119313955307\n",
      "[2021-03-08 21:10:40,729 DEBUG] [yahoo_oauth.oauth.token_is_valid] TOKEN IS STILL VALID\n",
      "[2021-03-08 21:10:41,654 DEBUG] [yahoo_oauth.oauth.__init__] Checking \n",
      "[2021-03-08 21:10:41,657 DEBUG] [yahoo_oauth.oauth.token_is_valid] ELAPSED TIME : 1649.0476615428925\n",
      "[2021-03-08 21:10:41,657 DEBUG] [yahoo_oauth.oauth.token_is_valid] TOKEN IS STILL VALID\n"
     ]
    },
    {
     "data": {
      "text/plain": "    FG_PCT  FT_PCT  FG3M    PTS   REB   AST   STL   BLK   TOV\n0    0.447   0.897  2.41  21.21  4.65  6.24  1.18  0.24  2.09\n1    0.447   0.897  2.41  21.21  4.65  6.24  1.18  0.24  2.09\n2    0.447   0.897  2.41  21.21  4.65  6.24  1.18  0.24  2.09\n3    0.447   0.897  2.41  21.21  4.65  6.24  1.18  0.24  2.09\n4    0.447   0.897  2.41  21.21  4.65  6.24  1.18  0.24  2.09\n..     ...     ...   ...    ...   ...   ...   ...   ...   ...\n67   0.453   0.819  1.20  20.07  7.47  4.77  1.17  0.70  2.17\n68   0.453   0.819  1.20  20.07  7.47  4.77  1.17  0.70  2.17\n69   0.453   0.819  1.20  20.07  7.47  4.77  1.17  0.70  2.17\n70   0.453   0.819  1.20  20.07  7.47  4.77  1.17  0.70  2.17\n71   0.453   0.819  1.20  20.07  7.47  4.77  1.17  0.70  2.17\n\n[72 rows x 9 columns]",
      "text/html": "<div>\n<style scoped>\n    .dataframe tbody tr th:only-of-type {\n        vertical-align: middle;\n    }\n\n    .dataframe tbody tr th {\n        vertical-align: top;\n    }\n\n    .dataframe thead th {\n        text-align: right;\n    }\n</style>\n<table border=\"1\" class=\"dataframe\">\n  <thead>\n    <tr style=\"text-align: right;\">\n      <th></th>\n      <th>FG_PCT</th>\n      <th>FT_PCT</th>\n      <th>FG3M</th>\n      <th>PTS</th>\n      <th>REB</th>\n      <th>AST</th>\n      <th>STL</th>\n      <th>BLK</th>\n      <th>TOV</th>\n    </tr>\n  </thead>\n  <tbody>\n    <tr>\n      <th>0</th>\n      <td>0.447</td>\n      <td>0.897</td>\n      <td>2.41</td>\n      <td>21.21</td>\n      <td>4.65</td>\n      <td>6.24</td>\n      <td>1.18</td>\n      <td>0.24</td>\n      <td>2.09</td>\n    </tr>\n    <tr>\n      <th>1</th>\n      <td>0.447</td>\n      <td>0.897</td>\n      <td>2.41</td>\n      <td>21.21</td>\n      <td>4.65</td>\n      <td>6.24</td>\n      <td>1.18</td>\n      <td>0.24</td>\n      <td>2.09</td>\n    </tr>\n    <tr>\n      <th>2</th>\n      <td>0.447</td>\n      <td>0.897</td>\n      <td>2.41</td>\n      <td>21.21</td>\n      <td>4.65</td>\n      <td>6.24</td>\n      <td>1.18</td>\n      <td>0.24</td>\n      <td>2.09</td>\n    </tr>\n    <tr>\n      <th>3</th>\n      <td>0.447</td>\n      <td>0.897</td>\n      <td>2.41</td>\n      <td>21.21</td>\n      <td>4.65</td>\n      <td>6.24</td>\n      <td>1.18</td>\n      <td>0.24</td>\n      <td>2.09</td>\n    </tr>\n    <tr>\n      <th>4</th>\n      <td>0.447</td>\n      <td>0.897</td>\n      <td>2.41</td>\n      <td>21.21</td>\n      <td>4.65</td>\n      <td>6.24</td>\n      <td>1.18</td>\n      <td>0.24</td>\n      <td>2.09</td>\n    </tr>\n    <tr>\n      <th>...</th>\n      <td>...</td>\n      <td>...</td>\n      <td>...</td>\n      <td>...</td>\n      <td>...</td>\n      <td>...</td>\n      <td>...</td>\n      <td>...</td>\n      <td>...</td>\n    </tr>\n    <tr>\n      <th>67</th>\n      <td>0.453</td>\n      <td>0.819</td>\n      <td>1.20</td>\n      <td>20.07</td>\n      <td>7.47</td>\n      <td>4.77</td>\n      <td>1.17</td>\n      <td>0.70</td>\n      <td>2.17</td>\n    </tr>\n    <tr>\n      <th>68</th>\n      <td>0.453</td>\n      <td>0.819</td>\n      <td>1.20</td>\n      <td>20.07</td>\n      <td>7.47</td>\n      <td>4.77</td>\n      <td>1.17</td>\n      <td>0.70</td>\n      <td>2.17</td>\n    </tr>\n    <tr>\n      <th>69</th>\n      <td>0.453</td>\n      <td>0.819</td>\n      <td>1.20</td>\n      <td>20.07</td>\n      <td>7.47</td>\n      <td>4.77</td>\n      <td>1.17</td>\n      <td>0.70</td>\n      <td>2.17</td>\n    </tr>\n    <tr>\n      <th>70</th>\n      <td>0.453</td>\n      <td>0.819</td>\n      <td>1.20</td>\n      <td>20.07</td>\n      <td>7.47</td>\n      <td>4.77</td>\n      <td>1.17</td>\n      <td>0.70</td>\n      <td>2.17</td>\n    </tr>\n    <tr>\n      <th>71</th>\n      <td>0.453</td>\n      <td>0.819</td>\n      <td>1.20</td>\n      <td>20.07</td>\n      <td>7.47</td>\n      <td>4.77</td>\n      <td>1.17</td>\n      <td>0.70</td>\n      <td>2.17</td>\n    </tr>\n  </tbody>\n</table>\n<p>72 rows × 9 columns</p>\n</div>"
     },
     "execution_count": 132,
     "metadata": {},
     "output_type": "execute_result"
    }
   ],
   "source": [
    "simulation_dataset = make_simulation_dataset(af.NUNN_OF_YALL_BETTA, week=\"current\")\n",
    "simulation_dataset"
   ],
   "metadata": {
    "collapsed": false,
    "pycharm": {
     "name": "#%%\n"
    }
   }
  },
  {
   "cell_type": "code",
   "execution_count": 5,
   "outputs": [],
   "source": [
    "gaussian_stats = ['FG_PCT', 'FT_PCT']\n",
    "poison_stats = ['FG3M', 'PTS', 'REB', 'AST', 'STL', 'BLK', 'TOV']\n",
    "\n",
    "def simulate_stats(team_df, n_reps):\n",
    "\n",
    "    pois_stats = team_df.loc[:, poison_stats].values\n",
    "    gaus_stats = team_df.loc[:, gaussian_stats].values\n",
    "    pois = np.random.poisson(lam=pois_stats,\n",
    "                             size=(n_reps, *pois_stats.shape))\n",
    "    pois = np.maximum(0, pois)\n",
    "    gaus = np.random.normal(loc=gaus_stats, scale=0.2 * gaus_stats,\n",
    "                            size=(n_reps, *gaus_stats.shape))\n",
    "    gaus = np.clip(gaus, 0, 1)\n",
    "\n",
    "    aggr_pois_stats = pois.sum(axis=1)\n",
    "    aggr_gaus_stats = gaus.mean(axis=1)\n",
    "    aggr_stats = np.concatenate((aggr_gaus_stats, aggr_pois_stats),\n",
    "                                axis=1)\n",
    "    return aggr_stats"
   ],
   "metadata": {
    "collapsed": false,
    "pycharm": {
     "name": "#%%\n"
    }
   }
  },
  {
   "cell_type": "code",
   "execution_count": 133,
   "outputs": [
    {
     "data": {
      "text/plain": "array([[  0.46597222,   0.82735082, 141.        , ...,  71.        ,\n         29.        ,  94.        ],\n       [  0.45297182,   0.81913327, 116.        , ...,  67.        ,\n         22.        , 113.        ],\n       [  0.46966351,   0.78848219, 152.        , ...,  66.        ,\n         30.        , 142.        ],\n       ...,\n       [  0.46886232,   0.79490553, 106.        , ...,  61.        ,\n         38.        , 129.        ],\n       [  0.47487524,   0.80112521, 131.        , ...,  71.        ,\n         37.        , 101.        ],\n       [  0.47467781,   0.80851758, 153.        , ...,  71.        ,\n         30.        , 118.        ]])"
     },
     "execution_count": 133,
     "metadata": {},
     "output_type": "execute_result"
    }
   ],
   "source": [
    "nunn_simulated = simulate_stats(simulation_dataset, 10000)\n",
    "nunn_simulated"
   ],
   "metadata": {
    "collapsed": false,
    "pycharm": {
     "name": "#%%\n"
    }
   }
  },
  {
   "cell_type": "code",
   "execution_count": 63,
   "outputs": [],
   "source": [
    "crabbe = af.team_9cat_average_stats(af.CRABBEHERBYTHEPUSSY, league)\n",
    "crabbe.drop(\"PLAYER\", axis=1, inplace=True)\n",
    "crabbe.drop(\"mean\", inplace=True)\n",
    "crabbe = crabbe.apply(pd.to_numeric)"
   ],
   "metadata": {
    "collapsed": false,
    "pycharm": {
     "name": "#%%\n"
    }
   }
  },
  {
   "cell_type": "code",
   "execution_count": 65,
   "outputs": [],
   "source": [
    "crabbe_simulated = simulate_stats(crabbe, 100000)"
   ],
   "metadata": {
    "collapsed": false,
    "pycharm": {
     "name": "#%%\n"
    }
   }
  },
  {
   "cell_type": "code",
   "execution_count": 68,
   "outputs": [
    {
     "data": {
      "text/plain": "array([26.314, 45.202, 71.874, 68.78 , 28.811, 87.807, 60.133,  4.706,\n       42.451])"
     },
     "execution_count": 68,
     "metadata": {},
     "output_type": "execute_result"
    }
   ],
   "source": [
    "perc_win = ((nunn_simulated > crabbe_simulated).sum(axis=0)\n",
    "            / 100000 * 100)\n",
    "perc_win"
   ],
   "metadata": {
    "collapsed": false,
    "pycharm": {
     "name": "#%%\n"
    }
   }
  },
  {
   "cell_type": "code",
   "execution_count": 71,
   "outputs": [
    {
     "data": {
      "text/plain": "        WinProb\nFG_PCT   26.314\nFT_PCT   45.202\nFG3M     71.874\nPTS      68.780\nREB      28.811\nAST      87.807\nSTL      60.133\nBLK       4.706\nTOV      57.549",
      "text/html": "<div>\n<style scoped>\n    .dataframe tbody tr th:only-of-type {\n        vertical-align: middle;\n    }\n\n    .dataframe tbody tr th {\n        vertical-align: top;\n    }\n\n    .dataframe thead th {\n        text-align: right;\n    }\n</style>\n<table border=\"1\" class=\"dataframe\">\n  <thead>\n    <tr style=\"text-align: right;\">\n      <th></th>\n      <th>WinProb</th>\n    </tr>\n  </thead>\n  <tbody>\n    <tr>\n      <th>FG_PCT</th>\n      <td>26.314</td>\n    </tr>\n    <tr>\n      <th>FT_PCT</th>\n      <td>45.202</td>\n    </tr>\n    <tr>\n      <th>FG3M</th>\n      <td>71.874</td>\n    </tr>\n    <tr>\n      <th>PTS</th>\n      <td>68.780</td>\n    </tr>\n    <tr>\n      <th>REB</th>\n      <td>28.811</td>\n    </tr>\n    <tr>\n      <th>AST</th>\n      <td>87.807</td>\n    </tr>\n    <tr>\n      <th>STL</th>\n      <td>60.133</td>\n    </tr>\n    <tr>\n      <th>BLK</th>\n      <td>4.706</td>\n    </tr>\n    <tr>\n      <th>TOV</th>\n      <td>57.549</td>\n    </tr>\n  </tbody>\n</table>\n</div>"
     },
     "execution_count": 71,
     "metadata": {},
     "output_type": "execute_result"
    }
   ],
   "source": [
    "perc_win_df = pd.DataFrame(perc_win,\n",
    "                           index=gaussian_stats + poison_stats,\n",
    "                           columns=['WinProb'])\n",
    "perc_win_df.loc['TOV'] = 100 - perc_win_df.loc['TOV']\n",
    "perc_win_df\n"
   ],
   "metadata": {
    "collapsed": false,
    "pycharm": {
     "name": "#%%\n"
    }
   }
  },
  {
   "cell_type": "code",
   "execution_count": 6,
   "outputs": [],
   "source": [
    "gaussian_stats = ['FG_PCT', 'FT_PCT']\n",
    "poison_stats = ['FG3M', 'PTS', 'REB', 'AST', 'STL', 'BLK', 'TOV']\n",
    "\n",
    "def matchup_simulation(team1_dict, team2_dict, n_reps=100000, week=\"current\"):\n",
    "    \"\"\"\n",
    "\n",
    "    @param team1_dict:\n",
    "    @param team2_dict:\n",
    "    @param n_reps:\n",
    "    @return:\n",
    "    \"\"\"\n",
    "    team1_simulation_dataset = make_simulation_dataset(team1_dict, week=week)\n",
    "    team2_simulation_dataset = make_simulation_dataset(team2_dict, week=week)\n",
    "    team1_sim_stats = simulate_stats(team1_simulation_dataset, n_reps)\n",
    "    team2_sim_stats = simulate_stats(team2_simulation_dataset, n_reps)\n",
    "    perc_win = ((team1_sim_stats > team2_sim_stats).sum(axis=0)\n",
    "                / n_reps * 100)\n",
    "    perc_win_df = pd.DataFrame(perc_win,\n",
    "                               index=gaussian_stats + poison_stats,\n",
    "                               columns=['WinProb'])\n",
    "    perc_win_df.loc['TOV'] = 100 - perc_win_df.loc['TOV']\n",
    "    return perc_win_df"
   ],
   "metadata": {
    "collapsed": false,
    "pycharm": {
     "name": "#%%\n"
    }
   }
  },
  {
   "cell_type": "code",
   "execution_count": 7,
   "outputs": [
    {
     "name": "stderr",
     "output_type": "stream",
     "text": [
      "[2021-03-08 22:42:54,745 DEBUG] [yahoo_oauth.oauth.__init__] Checking \n",
      "[2021-03-08 22:42:54,751 DEBUG] [yahoo_oauth.oauth.token_is_valid] ELAPSED TIME : 3232.9738824367523\n",
      "[2021-03-08 22:42:54,752 DEBUG] [yahoo_oauth.oauth.token_is_valid] TOKEN IS STILL VALID\n",
      "[2021-03-08 22:43:51,860 DEBUG] [yahoo_oauth.oauth.__init__] Checking \n",
      "[2021-03-08 22:43:51,865 DEBUG] [yahoo_oauth.oauth.token_is_valid] ELAPSED TIME : 3290.0883646011353\n",
      "[2021-03-08 22:43:51,866 DEBUG] [yahoo_oauth.oauth.token_is_valid] TOKEN IS STILL VALID\n",
      "[2021-03-08 22:43:59,665 DEBUG] [yahoo_oauth.oauth.__init__] Checking \n",
      "[2021-03-08 22:43:59,668 DEBUG] [yahoo_oauth.oauth.token_is_valid] ELAPSED TIME : 3297.8913543224335\n",
      "[2021-03-08 22:43:59,669 DEBUG] [yahoo_oauth.oauth.token_is_valid] TOKEN IS STILL VALID\n",
      "[2021-03-08 22:44:00,675 DEBUG] [yahoo_oauth.oauth.__init__] Checking \n",
      "[2021-03-08 22:44:00,678 DEBUG] [yahoo_oauth.oauth.token_is_valid] ELAPSED TIME : 3298.900946855545\n",
      "[2021-03-08 22:44:00,678 DEBUG] [yahoo_oauth.oauth.token_is_valid] TOKEN IS STILL VALID\n",
      "[2021-03-08 22:44:01,625 DEBUG] [yahoo_oauth.oauth.__init__] Checking \n",
      "[2021-03-08 22:44:01,628 DEBUG] [yahoo_oauth.oauth.token_is_valid] ELAPSED TIME : 3299.8514063358307\n",
      "[2021-03-08 22:44:01,628 DEBUG] [yahoo_oauth.oauth.token_is_valid] TOKEN IS STILL VALID\n",
      "[2021-03-08 22:44:02,536 DEBUG] [yahoo_oauth.oauth.__init__] Checking \n",
      "[2021-03-08 22:44:02,539 DEBUG] [yahoo_oauth.oauth.token_is_valid] ELAPSED TIME : 3300.762155532837\n",
      "[2021-03-08 22:44:02,540 DEBUG] [yahoo_oauth.oauth.token_is_valid] TOKEN IS STILL VALID\n",
      "[2021-03-08 22:44:03,482 DEBUG] [yahoo_oauth.oauth.__init__] Checking \n",
      "[2021-03-08 22:44:03,485 DEBUG] [yahoo_oauth.oauth.token_is_valid] ELAPSED TIME : 3301.7075295448303\n",
      "[2021-03-08 22:44:03,485 DEBUG] [yahoo_oauth.oauth.token_is_valid] TOKEN IS STILL VALID\n",
      "[2021-03-08 22:44:04,397 DEBUG] [yahoo_oauth.oauth.__init__] Checking \n",
      "[2021-03-08 22:44:04,400 DEBUG] [yahoo_oauth.oauth.token_is_valid] ELAPSED TIME : 3302.622889995575\n",
      "[2021-03-08 22:44:04,401 DEBUG] [yahoo_oauth.oauth.token_is_valid] TOKEN IS STILL VALID\n",
      "[2021-03-08 22:44:05,313 DEBUG] [yahoo_oauth.oauth.__init__] Checking \n",
      "[2021-03-08 22:44:05,316 DEBUG] [yahoo_oauth.oauth.token_is_valid] ELAPSED TIME : 3303.5389609336853\n",
      "[2021-03-08 22:44:05,317 DEBUG] [yahoo_oauth.oauth.token_is_valid] TOKEN IS STILL VALID\n",
      "[2021-03-08 22:44:06,217 DEBUG] [yahoo_oauth.oauth.__init__] Checking \n",
      "[2021-03-08 22:44:06,220 DEBUG] [yahoo_oauth.oauth.token_is_valid] ELAPSED TIME : 3304.4431886672974\n",
      "[2021-03-08 22:44:06,221 DEBUG] [yahoo_oauth.oauth.token_is_valid] TOKEN IS STILL VALID\n",
      "[2021-03-08 22:44:07,176 DEBUG] [yahoo_oauth.oauth.__init__] Checking \n",
      "[2021-03-08 22:44:07,180 DEBUG] [yahoo_oauth.oauth.token_is_valid] ELAPSED TIME : 3305.403235912323\n",
      "[2021-03-08 22:44:07,180 DEBUG] [yahoo_oauth.oauth.token_is_valid] TOKEN IS STILL VALID\n",
      "[2021-03-08 22:44:08,112 DEBUG] [yahoo_oauth.oauth.__init__] Checking \n",
      "[2021-03-08 22:44:08,114 DEBUG] [yahoo_oauth.oauth.token_is_valid] ELAPSED TIME : 3306.3368248939514\n",
      "[2021-03-08 22:44:08,115 DEBUG] [yahoo_oauth.oauth.token_is_valid] TOKEN IS STILL VALID\n",
      "[2021-03-08 22:44:09,104 DEBUG] [yahoo_oauth.oauth.__init__] Checking \n",
      "[2021-03-08 22:44:09,107 DEBUG] [yahoo_oauth.oauth.token_is_valid] ELAPSED TIME : 3307.3298568725586\n",
      "[2021-03-08 22:44:09,107 DEBUG] [yahoo_oauth.oauth.token_is_valid] TOKEN IS STILL VALID\n",
      "[2021-03-08 22:44:09,995 DEBUG] [yahoo_oauth.oauth.__init__] Checking \n",
      "[2021-03-08 22:44:09,998 DEBUG] [yahoo_oauth.oauth.token_is_valid] ELAPSED TIME : 3308.220526456833\n",
      "[2021-03-08 22:44:09,998 DEBUG] [yahoo_oauth.oauth.token_is_valid] TOKEN IS STILL VALID\n",
      "[2021-03-08 22:44:10,912 DEBUG] [yahoo_oauth.oauth.__init__] Checking \n",
      "[2021-03-08 22:44:10,915 DEBUG] [yahoo_oauth.oauth.token_is_valid] ELAPSED TIME : 3309.137932777405\n",
      "[2021-03-08 22:44:10,916 DEBUG] [yahoo_oauth.oauth.token_is_valid] TOKEN IS STILL VALID\n",
      "[2021-03-08 22:44:11,839 DEBUG] [yahoo_oauth.oauth.__init__] Checking \n",
      "[2021-03-08 22:44:11,843 DEBUG] [yahoo_oauth.oauth.token_is_valid] ELAPSED TIME : 3310.065109729767\n",
      "[2021-03-08 22:44:11,843 DEBUG] [yahoo_oauth.oauth.token_is_valid] TOKEN IS STILL VALID\n",
      "[2021-03-08 22:44:12,751 DEBUG] [yahoo_oauth.oauth.__init__] Checking \n",
      "[2021-03-08 22:44:12,754 DEBUG] [yahoo_oauth.oauth.token_is_valid] ELAPSED TIME : 3310.9773478507996\n",
      "[2021-03-08 22:44:12,755 DEBUG] [yahoo_oauth.oauth.token_is_valid] TOKEN IS STILL VALID\n",
      "[2021-03-08 22:44:13,703 DEBUG] [yahoo_oauth.oauth.__init__] Checking \n",
      "[2021-03-08 22:44:13,706 DEBUG] [yahoo_oauth.oauth.token_is_valid] ELAPSED TIME : 3311.9290714263916\n",
      "[2021-03-08 22:44:13,707 DEBUG] [yahoo_oauth.oauth.token_is_valid] TOKEN IS STILL VALID\n",
      "[2021-03-08 22:44:14,709 DEBUG] [yahoo_oauth.oauth.__init__] Checking \n",
      "[2021-03-08 22:44:14,713 DEBUG] [yahoo_oauth.oauth.token_is_valid] ELAPSED TIME : 3312.93630194664\n",
      "[2021-03-08 22:44:14,714 DEBUG] [yahoo_oauth.oauth.token_is_valid] TOKEN IS STILL VALID\n",
      "[2021-03-08 22:45:15,312 DEBUG] [yahoo_oauth.oauth.__init__] Checking \n",
      "[2021-03-08 22:45:15,315 DEBUG] [yahoo_oauth.oauth.token_is_valid] ELAPSED TIME : 3373.538069963455\n",
      "[2021-03-08 22:45:15,316 DEBUG] [yahoo_oauth.oauth.token_is_valid] TOKEN IS STILL VALID\n",
      "[2021-03-08 22:45:20,925 DEBUG] [yahoo_oauth.oauth.__init__] Checking \n",
      "[2021-03-08 22:45:20,929 DEBUG] [yahoo_oauth.oauth.token_is_valid] ELAPSED TIME : 3379.151738166809\n",
      "[2021-03-08 22:45:20,930 DEBUG] [yahoo_oauth.oauth.token_is_valid] TOKEN IS STILL VALID\n",
      "[2021-03-08 22:45:21,926 DEBUG] [yahoo_oauth.oauth.__init__] Checking \n",
      "[2021-03-08 22:45:21,929 DEBUG] [yahoo_oauth.oauth.token_is_valid] ELAPSED TIME : 3380.151698112488\n",
      "[2021-03-08 22:45:21,930 DEBUG] [yahoo_oauth.oauth.token_is_valid] TOKEN IS STILL VALID\n",
      "[2021-03-08 22:45:22,864 DEBUG] [yahoo_oauth.oauth.__init__] Checking \n",
      "[2021-03-08 22:45:22,866 DEBUG] [yahoo_oauth.oauth.token_is_valid] ELAPSED TIME : 3381.089419603348\n",
      "[2021-03-08 22:45:22,867 DEBUG] [yahoo_oauth.oauth.token_is_valid] TOKEN IS STILL VALID\n",
      "[2021-03-08 22:45:23,780 DEBUG] [yahoo_oauth.oauth.__init__] Checking \n",
      "[2021-03-08 22:45:23,783 DEBUG] [yahoo_oauth.oauth.token_is_valid] ELAPSED TIME : 3382.0056476593018\n",
      "[2021-03-08 22:45:23,784 DEBUG] [yahoo_oauth.oauth.token_is_valid] TOKEN IS STILL VALID\n",
      "[2021-03-08 22:45:24,738 DEBUG] [yahoo_oauth.oauth.__init__] Checking \n",
      "[2021-03-08 22:45:24,740 DEBUG] [yahoo_oauth.oauth.token_is_valid] ELAPSED TIME : 3382.963470697403\n",
      "[2021-03-08 22:45:24,741 DEBUG] [yahoo_oauth.oauth.token_is_valid] TOKEN IS STILL VALID\n",
      "[2021-03-08 22:45:25,664 DEBUG] [yahoo_oauth.oauth.__init__] Checking \n",
      "[2021-03-08 22:45:25,667 DEBUG] [yahoo_oauth.oauth.token_is_valid] ELAPSED TIME : 3383.890100479126\n",
      "[2021-03-08 22:45:25,668 DEBUG] [yahoo_oauth.oauth.token_is_valid] TOKEN IS STILL VALID\n",
      "[2021-03-08 22:45:26,684 DEBUG] [yahoo_oauth.oauth.__init__] Checking \n",
      "[2021-03-08 22:45:26,687 DEBUG] [yahoo_oauth.oauth.token_is_valid] ELAPSED TIME : 3384.910002231598\n",
      "[2021-03-08 22:45:26,687 DEBUG] [yahoo_oauth.oauth.token_is_valid] TOKEN IS STILL VALID\n",
      "[2021-03-08 22:45:27,570 DEBUG] [yahoo_oauth.oauth.__init__] Checking \n",
      "[2021-03-08 22:45:27,573 DEBUG] [yahoo_oauth.oauth.token_is_valid] ELAPSED TIME : 3385.7959039211273\n",
      "[2021-03-08 22:45:27,574 DEBUG] [yahoo_oauth.oauth.token_is_valid] TOKEN IS STILL VALID\n",
      "[2021-03-08 22:45:28,538 DEBUG] [yahoo_oauth.oauth.__init__] Checking \n",
      "[2021-03-08 22:45:28,541 DEBUG] [yahoo_oauth.oauth.token_is_valid] ELAPSED TIME : 3386.763647079468\n",
      "[2021-03-08 22:45:28,542 DEBUG] [yahoo_oauth.oauth.token_is_valid] TOKEN IS STILL VALID\n",
      "[2021-03-08 22:45:29,433 DEBUG] [yahoo_oauth.oauth.__init__] Checking \n",
      "[2021-03-08 22:45:29,436 DEBUG] [yahoo_oauth.oauth.token_is_valid] ELAPSED TIME : 3387.659283876419\n",
      "[2021-03-08 22:45:29,436 DEBUG] [yahoo_oauth.oauth.token_is_valid] TOKEN IS STILL VALID\n",
      "[2021-03-08 22:45:30,402 DEBUG] [yahoo_oauth.oauth.__init__] Checking \n",
      "[2021-03-08 22:45:30,406 DEBUG] [yahoo_oauth.oauth.token_is_valid] ELAPSED TIME : 3388.6289846897125\n",
      "[2021-03-08 22:45:30,406 DEBUG] [yahoo_oauth.oauth.token_is_valid] TOKEN IS STILL VALID\n",
      "[2021-03-08 22:45:31,385 DEBUG] [yahoo_oauth.oauth.__init__] Checking \n",
      "[2021-03-08 22:45:31,387 DEBUG] [yahoo_oauth.oauth.token_is_valid] ELAPSED TIME : 3389.6103246212006\n",
      "[2021-03-08 22:45:31,388 DEBUG] [yahoo_oauth.oauth.token_is_valid] TOKEN IS STILL VALID\n",
      "[2021-03-08 22:45:32,275 DEBUG] [yahoo_oauth.oauth.__init__] Checking \n",
      "[2021-03-08 22:45:32,278 DEBUG] [yahoo_oauth.oauth.token_is_valid] ELAPSED TIME : 3390.50071310997\n",
      "[2021-03-08 22:45:32,279 DEBUG] [yahoo_oauth.oauth.token_is_valid] TOKEN IS STILL VALID\n",
      "[2021-03-08 22:45:33,245 DEBUG] [yahoo_oauth.oauth.__init__] Checking \n",
      "[2021-03-08 22:45:33,249 DEBUG] [yahoo_oauth.oauth.token_is_valid] ELAPSED TIME : 3391.471624851227\n",
      "[2021-03-08 22:45:33,249 DEBUG] [yahoo_oauth.oauth.token_is_valid] TOKEN IS STILL VALID\n",
      "[2021-03-08 22:45:34,411 DEBUG] [yahoo_oauth.oauth.__init__] Checking \n",
      "[2021-03-08 22:45:34,415 DEBUG] [yahoo_oauth.oauth.token_is_valid] ELAPSED TIME : 3392.6376395225525\n",
      "[2021-03-08 22:45:34,416 DEBUG] [yahoo_oauth.oauth.token_is_valid] TOKEN IS STILL VALID\n",
      "[2021-03-08 22:45:35,353 DEBUG] [yahoo_oauth.oauth.__init__] Checking \n",
      "[2021-03-08 22:45:35,356 DEBUG] [yahoo_oauth.oauth.token_is_valid] ELAPSED TIME : 3393.5794789791107\n",
      "[2021-03-08 22:45:35,357 DEBUG] [yahoo_oauth.oauth.token_is_valid] TOKEN IS STILL VALID\n"
     ]
    }
   ],
   "source": [
    "simulated_cats = matchup_simulation(af.NUNN_OF_YALL_BETTA, af.RUSTY_CUNTBROOKS, n_reps=100000,\n",
    "                                    week=\"current\")"
   ],
   "metadata": {
    "collapsed": false,
    "pycharm": {
     "name": "#%%\n"
    }
   }
  },
  {
   "cell_type": "code",
   "execution_count": 8,
   "outputs": [
    {
     "data": {
      "text/plain": "        WinProb\nFG_PCT    5.583\nFT_PCT   98.828\nFG3M     98.582\nPTS      72.192\nREB      36.843\nAST      86.626\nSTL      27.897\nBLK       1.659\nTOV      72.551",
      "text/html": "<div>\n<style scoped>\n    .dataframe tbody tr th:only-of-type {\n        vertical-align: middle;\n    }\n\n    .dataframe tbody tr th {\n        vertical-align: top;\n    }\n\n    .dataframe thead th {\n        text-align: right;\n    }\n</style>\n<table border=\"1\" class=\"dataframe\">\n  <thead>\n    <tr style=\"text-align: right;\">\n      <th></th>\n      <th>WinProb</th>\n    </tr>\n  </thead>\n  <tbody>\n    <tr>\n      <th>FG_PCT</th>\n      <td>5.583</td>\n    </tr>\n    <tr>\n      <th>FT_PCT</th>\n      <td>98.828</td>\n    </tr>\n    <tr>\n      <th>FG3M</th>\n      <td>98.582</td>\n    </tr>\n    <tr>\n      <th>PTS</th>\n      <td>72.192</td>\n    </tr>\n    <tr>\n      <th>REB</th>\n      <td>36.843</td>\n    </tr>\n    <tr>\n      <th>AST</th>\n      <td>86.626</td>\n    </tr>\n    <tr>\n      <th>STL</th>\n      <td>27.897</td>\n    </tr>\n    <tr>\n      <th>BLK</th>\n      <td>1.659</td>\n    </tr>\n    <tr>\n      <th>TOV</th>\n      <td>72.551</td>\n    </tr>\n  </tbody>\n</table>\n</div>"
     },
     "execution_count": 8,
     "metadata": {},
     "output_type": "execute_result"
    }
   ],
   "source": [
    "simulated_cats\n",
    "\n"
   ],
   "metadata": {
    "collapsed": false,
    "pycharm": {
     "name": "#%%\n"
    }
   }
  }
 ],
 "metadata": {
  "kernelspec": {
   "display_name": "Python 3",
   "language": "python",
   "name": "python3"
  },
  "language_info": {
   "codemirror_mode": {
    "name": "ipython",
    "version": 2
   },
   "file_extension": ".py",
   "mimetype": "text/x-python",
   "name": "python",
   "nbconvert_exporter": "python",
   "pygments_lexer": "ipython2",
   "version": "2.7.6"
  }
 },
 "nbformat": 4,
 "nbformat_minor": 0
}