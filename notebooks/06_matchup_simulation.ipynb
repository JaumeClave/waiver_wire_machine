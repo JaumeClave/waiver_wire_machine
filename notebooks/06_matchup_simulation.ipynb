{
 "cells": [
  {
   "cell_type": "code",
   "execution_count": 1,
   "metadata": {
    "collapsed": true
   },
   "outputs": [],
   "source": [
    "    import numpy as np\n",
    "import pandas as pd"
   ]
  },
  {
   "cell_type": "code",
   "execution_count": 1,
   "outputs": [],
   "source": [
    "from src.data import all_functions as af"
   ],
   "metadata": {
    "collapsed": false,
    "pycharm": {
     "name": "#%%\n"
    }
   }
  },
  {
   "cell_type": "code",
   "execution_count": 1,
   "outputs": [],
   "source": [],
   "metadata": {
    "collapsed": false,
    "pycharm": {
     "name": "#%%\n"
    }
   }
  },
  {
   "cell_type": "code",
   "execution_count": 2,
   "outputs": [],
   "source": [
    "import requests\n",
    "import pandas as pd\n",
    "from src.data import all_functions as af\n",
    "\n",
    "PLAYER_COLUMN = \"PLAYER\"\n",
    "TEAM_KEY = \"team_key\"\n",
    "PLAYER_ID_KEY = \"player_id\"\n",
    "NAME_KEY = \"name\"\n",
    "MEAN_ROW = \"mean\"\n",
    "NAME_KEY = \"name\"\n",
    "LSCD_KEY = \"lscd\"\n",
    "MSCD_KEY = \"mscd\"\n",
    "G_KEY = \"g\"\n",
    "GID_KEY = \"gid\"\n",
    "GAME_ID_KEY = \"game_id\"\n",
    "GDATE_KEY = \"gdte\"\n",
    "GAME_DATE_KEY= \"game_date\"\n",
    "V_KEY = \"v\"\n",
    "TID_KEY = \"tid\"\n",
    "VISITORS_TEAM_ID_KEY = \"visitors_tid\"\n",
    "VISITORS_KEY =  \"visitors\"\n",
    "TC_KEY = \"tc\"\n",
    "TN_KEY = \"tn\"\n",
    "H_KEY = \"h\"\n",
    "HOME_TEAM_ID_KEY = \"home_tid\"\n",
    "HOME_KEY = \"home\"\n",
    "TOTAL_ROW = \"total\"\n",
    "INDEX_COLUMN = \"index\"\n",
    "NBA_NAME_LA_CLIPPERS = \"LA Clippers\"\n",
    "YAHOO_NAME_LA_CLIPPERS = \"Los Angeles Clippers\"\n",
    "COLUMN_9CAT_DECIMAL_FORMAT = {af.FIELD_GOAL_PERCENTAGE_COLUMN : af.THREE_DECIMAL_FORMAT,\n",
    "     af.FREE_THROW_PERCENTAGE_COLUMN : af.THREE_DECIMAL_FORMAT,\n",
    "     af.THREES_MADE_COLUMN : af.TWO_DECIMAL_FORMAT,\n",
    "     af.POINTS_COLUMN : af.TWO_DECIMAL_FORMAT,\n",
    "     af.REBOUNDS_COLUMN : af.TWO_DECIMAL_FORMAT,\n",
    "     af.ASSITS_COLUMN : af.TWO_DECIMAL_FORMAT, af.STEALS_COLUMN : af.TWO_DECIMAL_FORMAT,\n",
    "     af.BLOCKS_COLUMN : af.TWO_DECIMAL_FORMAT, af.TURNOVERS_COLUMN : af.TWO_DECIMAL_FORMAT}\n",
    "\n",
    "def get_game_information_in_month(nba_json):\n",
    "    \"\"\"\n",
    "    Function loops through a month (n) in nba_json and creates a dataframe containing game\n",
    "    information, game_id, home/visitor team/team_id and game_date for each month.\n",
    "    param nba_json (dictionary): dictionary containing game information\n",
    "    returns game_dataframe (pandas dataframe): dataframe containing game information for a month\n",
    "    \"\"\"\n",
    "    game_dataframe = pd.DataFrame()\n",
    "    for n in range(len(nba_json)):\n",
    "        game_dictionary = dict()\n",
    "        game_dictionary[GID_KEY] = nba_json[n][GID_KEY]\n",
    "        game_dictionary[GDATE_KEY] = nba_json[n][GDATE_KEY]\n",
    "        game_dictionary[VISITORS_TEAM_ID_KEY] = nba_json[n][V_KEY][TID_KEY]\n",
    "        game_dictionary[VISITORS_KEY] = nba_json[n][V_KEY][TC_KEY] + \" \" \\\n",
    "                                        + nba_json[n][V_KEY][TN_KEY]\n",
    "        game_dictionary[HOME_TEAM_ID_KEY] = nba_json[n][H_KEY][TID_KEY]\n",
    "        game_dictionary[HOME_KEY] = nba_json[n][H_KEY][TC_KEY] + \" \" \\\n",
    "                                    + nba_json[n][H_KEY][TN_KEY]\n",
    "        game_dataframe = game_dataframe.append(game_dictionary, ignore_index=True)\n",
    "    return game_dataframe\n",
    "\n",
    "def get_game_information_in_season(season):\n",
    "    \"\"\"\n",
    "    Function calls the NBA endpoint that returns the season schedule. It then loops through each\n",
    "    month in that schedule to create a dataframe containing game information, game_id,\n",
    "    home/visitor team/team_id and game_date for the season.\n",
    "    param season (string): season for schedule\n",
    "    returns season_games_dataframe (pandas dataframe): dataframe containing game information for\n",
    "    a season\n",
    "    \"\"\"\n",
    "    r = requests.get(f\"http://data.nba\"\n",
    "                     f\".com/data/10s/v2015/json/mobile_teams/nba/{season}/league/00_full_schedule\"\n",
    "                     f\".json\")\n",
    "    game_information_json = r.json()[LSCD_KEY]\n",
    "    season_games_dataframe = pd.DataFrame()\n",
    "    for n in range(len(game_information_json)):\n",
    "        month_n_game_dataframe = get_game_information_in_month\\\n",
    "            (game_information_json[n][MSCD_KEY][G_KEY])\n",
    "        season_games_dataframe = season_games_dataframe.append(month_n_game_dataframe)\n",
    "    return season_games_dataframe\n",
    "\n",
    "def get_week_current_week_information():\n",
    "    \"\"\"\n",
    "    Function finds the current Yahoo Fantasy week number and its start and end date.\n",
    "    return current_fantasy_week (int): Yahoo Fantasy week number\n",
    "    return week_start_date (string): start date of Yahoo Fantasy week number\n",
    "    return week_end_date (string): end date of Yahoo Fantasy week number\n",
    "    \"\"\"\n",
    "    sc = af.yahoo_fantasy_api_authentication()\n",
    "    league = af.yahoo_fantasy_league(sc)\n",
    "    current_fantasy_week = league.current_week()\n",
    "    week_start_date = league.week_date_range(current_fantasy_week)[0]\n",
    "    week_end_date = league.week_date_range(current_fantasy_week)[1]\n",
    "    return current_fantasy_week, week_start_date, week_end_date\n",
    "\n",
    "def get_next_week_information():\n",
    "    \"\"\"\n",
    "    Function finds the next Yahoo Fantasy week number and its start and end date.\n",
    "    return next_fantasy_week (int): Yahoo Fantasy week number\n",
    "    return week_start_date (string): start date of Yahoo Fantasy week number\n",
    "    return week_end_date (string): end date of Yahoo Fantasy week number\n",
    "    \"\"\"\n",
    "    sc = af.yahoo_fantasy_api_authentication()\n",
    "    league = af.yahoo_fantasy_league(sc)\n",
    "    next_fantasy_week = league.current_week() + 1\n",
    "    week_start_date = league.week_date_range(next_fantasy_week)[0]\n",
    "    week_end_date = league.week_date_range(next_fantasy_week)[1]\n",
    "    return next_fantasy_week, week_start_date, week_end_date\n",
    "\n",
    "def get_player_ids_names_in_fantasy_team(team_dict):\n",
    "    \"\"\"\n",
    "    Function finds the Yahoo Fantasy player ids and player names rostered by a team in the league\n",
    "    param team_dict (dictionary): dictionary containing information about a owners team\n",
    "    return player_id_name_team_list (list): Yahoo Fantasy player ids and names\n",
    "    return player_name_list (list): Yahoo Fantasy player names\n",
    "    \"\"\"\n",
    "    sc = af.yahoo_fantasy_api_authentication()\n",
    "    league = af.yahoo_fantasy_league(sc)\n",
    "    team = league.to_team(team_dict[TEAM_KEY])\n",
    "    team_roster = team.roster()\n",
    "    player_id_name_team_list = [{PLAYER_ID_KEY : player[PLAYER_ID_KEY], NAME_KEY : player[NAME_KEY]}\n",
    "                           for player in team_roster]\n",
    "    player_name_list = [player[NAME_KEY] for player in player_id_name_team_list]\n",
    "    return player_id_name_team_list, player_name_list\n",
    "\n",
    "def get_fantasy_week_games_dataframe(season_schedule_dataframe, week_start_date, week_end_date):\n",
    "    \"\"\"\n",
    "    Function filters the entire NBA season schedule on a start/end date to find the scheduled\n",
    "    games between specific dates. It returns the amount of games each NBA team plays during that\n",
    "    period of time.\n",
    "    param season_schedule_dataframe (pandas dataframe): dataframe containing the entire seasons\n",
    "    NBA schedule\n",
    "    param week_start_date (string): date to begin filtering by\n",
    "    param week_start_date (string): date to end filtering by\n",
    "    return current_fantasy_games_week (pandas dataframe) dataframe containing the scheduled games\n",
    "    in specified param dates\n",
    "    return team_game_counts (pandas series): series containing count of games for each NBA team\n",
    "    \"\"\"\n",
    "    filtered_games_week = season_schedule_dataframe[(season_schedule_dataframe[GDATE_KEY] >=\n",
    "                                                   str(week_start_date)) &\n",
    "                                                  (season_schedule_dataframe[GDATE_KEY] <=\n",
    "                                                   str(week_end_date))]\n",
    "    team_game_counts = filtered_games_week[HOME_KEY].append\\\n",
    "        (filtered_games_week[VISITORS_KEY]).value_counts()\n",
    "    return filtered_games_week, team_game_counts\n",
    "\n",
    "def get_player_games(team_game_counts_series, player_name_list):\n",
    "    \"\"\"\n",
    "    Function creates a dictionary containing key/value pairs of player names/games in a series of\n",
    "    NBA team game counts\n",
    "    param team_game_counts_series (pandas series): series of team name and games playing\n",
    "    param player_name_list (list): list of player names\n",
    "    return player_games_dictionary (dictionary): key/value pairing of player names/games playing\n",
    "    \"\"\"\n",
    "    player_games_dictionary = dict()\n",
    "    team_game_counts_dataframe = pd.DataFrame(team_game_counts_series)\n",
    "    team_game_counts_dataframe.reset_index(inplace=True)\n",
    "    team_game_counts_dataframe = team_game_counts_dataframe.replace(NBA_NAME_LA_CLIPPERS,\n",
    "                                                                    YAHOO_NAME_LA_CLIPPERS)\n",
    "    for player in player_name_list:\n",
    "        team = af.yahoo_player_team_and_jersey(player)[0]\n",
    "        try:\n",
    "            player_games_dictionary[player] = \\\n",
    "                team_game_counts_dataframe[team_game_counts_dataframe[\"index\"] == team][0].iloc[0]\n",
    "        except IndexError:\n",
    "            player_games_dictionary[player] = 0\n",
    "    return player_games_dictionary\n",
    "\n",
    "def get_team_player_game_dataframe(team_dict, week=\"next\", season=2020):\n",
    "    \"\"\"\n",
    "\n",
    "    @param team_dict:\n",
    "    @param week:\n",
    "    @param season:\n",
    "    @return:\n",
    "    \"\"\"\n",
    "    if week == \"next\":\n",
    "        fantasy_week, week_start_date, week_end_date = get_next_week_information()\n",
    "    elif week == \"current\":\n",
    "        fantasy_week, week_start_date, week_end_date = get_week_current_week_information()\n",
    "    else:\n",
    "        raise ValueError(\"Parameter 'week' must be 'current' or 'next'.\")\n",
    "    season_games_dataframe = get_game_information_in_season(season) # Run once only\n",
    "    filtered_games_week, team_game_counts = get_fantasy_week_games_dataframe\\\n",
    "        (season_games_dataframe, week_start_date, week_end_date)\n",
    "    player_id_name_team_list, player_name_list = get_player_ids_names_in_fantasy_team(team_dict)\n",
    "    player_games_dictionary = get_player_games(team_game_counts, player_name_list)\n",
    "    return filtered_games_week, player_games_dictionary"
   ],
   "metadata": {
    "collapsed": false,
    "pycharm": {
     "name": "#%%\n"
    }
   }
  },
  {
   "cell_type": "code",
   "execution_count": 76,
   "outputs": [
    {
     "name": "stderr",
     "output_type": "stream",
     "text": [
      "[2021-03-09 21:24:43,631 DEBUG] [yahoo_oauth.oauth.__init__] Checking \n",
      "[2021-03-09 21:24:43,633 DEBUG] [yahoo_oauth.oauth.token_is_valid] ELAPSED TIME : 5700.9768097400665\n",
      "[2021-03-09 21:24:43,635 DEBUG] [yahoo_oauth.oauth.token_is_valid] TOKEN HAS EXPIRED\n",
      "[2021-03-09 21:24:43,635 DEBUG] [yahoo_oauth.oauth.refresh_access_token] REFRESHING TOKEN\n",
      "[2021-03-09 21:24:50,107 DEBUG] [yahoo_oauth.oauth.__init__] Checking \n",
      "[2021-03-09 21:24:50,117 DEBUG] [yahoo_oauth.oauth.token_is_valid] ELAPSED TIME : 6.481400012969971\n",
      "[2021-03-09 21:24:50,118 DEBUG] [yahoo_oauth.oauth.token_is_valid] TOKEN IS STILL VALID\n",
      "[2021-03-09 21:24:52,411 DEBUG] [yahoo_oauth.oauth.__init__] Checking \n",
      "[2021-03-09 21:24:52,415 DEBUG] [yahoo_oauth.oauth.token_is_valid] ELAPSED TIME : 8.778918981552124\n",
      "[2021-03-09 21:24:52,417 DEBUG] [yahoo_oauth.oauth.token_is_valid] TOKEN IS STILL VALID\n",
      "[2021-03-09 21:24:53,394 DEBUG] [yahoo_oauth.oauth.__init__] Checking \n",
      "[2021-03-09 21:24:53,398 DEBUG] [yahoo_oauth.oauth.token_is_valid] ELAPSED TIME : 9.762059688568115\n",
      "[2021-03-09 21:24:53,399 DEBUG] [yahoo_oauth.oauth.token_is_valid] TOKEN IS STILL VALID\n",
      "[2021-03-09 21:24:54,395 DEBUG] [yahoo_oauth.oauth.__init__] Checking \n",
      "[2021-03-09 21:24:54,398 DEBUG] [yahoo_oauth.oauth.token_is_valid] ELAPSED TIME : 10.762407064437866\n",
      "[2021-03-09 21:24:54,399 DEBUG] [yahoo_oauth.oauth.token_is_valid] TOKEN IS STILL VALID\n",
      "[2021-03-09 21:24:56,587 DEBUG] [yahoo_oauth.oauth.__init__] Checking \n",
      "[2021-03-09 21:24:56,592 DEBUG] [yahoo_oauth.oauth.token_is_valid] ELAPSED TIME : 12.956201076507568\n",
      "[2021-03-09 21:24:56,593 DEBUG] [yahoo_oauth.oauth.token_is_valid] TOKEN IS STILL VALID\n",
      "[2021-03-09 21:24:57,739 DEBUG] [yahoo_oauth.oauth.__init__] Checking \n",
      "[2021-03-09 21:24:57,743 DEBUG] [yahoo_oauth.oauth.token_is_valid] ELAPSED TIME : 14.107430934906006\n",
      "[2021-03-09 21:24:57,744 DEBUG] [yahoo_oauth.oauth.token_is_valid] TOKEN IS STILL VALID\n",
      "[2021-03-09 21:24:58,844 DEBUG] [yahoo_oauth.oauth.__init__] Checking \n",
      "[2021-03-09 21:24:58,847 DEBUG] [yahoo_oauth.oauth.token_is_valid] ELAPSED TIME : 15.211425304412842\n",
      "[2021-03-09 21:24:58,848 DEBUG] [yahoo_oauth.oauth.token_is_valid] TOKEN IS STILL VALID\n",
      "[2021-03-09 21:24:59,757 DEBUG] [yahoo_oauth.oauth.__init__] Checking \n",
      "[2021-03-09 21:24:59,760 DEBUG] [yahoo_oauth.oauth.token_is_valid] ELAPSED TIME : 16.124082565307617\n",
      "[2021-03-09 21:24:59,761 DEBUG] [yahoo_oauth.oauth.token_is_valid] TOKEN IS STILL VALID\n",
      "[2021-03-09 21:25:00,719 DEBUG] [yahoo_oauth.oauth.__init__] Checking \n",
      "[2021-03-09 21:25:00,722 DEBUG] [yahoo_oauth.oauth.token_is_valid] ELAPSED TIME : 17.08648133277893\n",
      "[2021-03-09 21:25:00,723 DEBUG] [yahoo_oauth.oauth.token_is_valid] TOKEN IS STILL VALID\n",
      "[2021-03-09 21:25:01,657 DEBUG] [yahoo_oauth.oauth.__init__] Checking \n",
      "[2021-03-09 21:25:01,660 DEBUG] [yahoo_oauth.oauth.token_is_valid] ELAPSED TIME : 18.023993492126465\n",
      "[2021-03-09 21:25:01,660 DEBUG] [yahoo_oauth.oauth.token_is_valid] TOKEN IS STILL VALID\n",
      "[2021-03-09 21:25:02,677 DEBUG] [yahoo_oauth.oauth.__init__] Checking \n",
      "[2021-03-09 21:25:02,684 DEBUG] [yahoo_oauth.oauth.token_is_valid] ELAPSED TIME : 19.04850125312805\n",
      "[2021-03-09 21:25:02,686 DEBUG] [yahoo_oauth.oauth.token_is_valid] TOKEN IS STILL VALID\n",
      "[2021-03-09 21:25:03,670 DEBUG] [yahoo_oauth.oauth.__init__] Checking \n",
      "[2021-03-09 21:25:03,679 DEBUG] [yahoo_oauth.oauth.token_is_valid] ELAPSED TIME : 20.042879104614258\n",
      "[2021-03-09 21:25:03,680 DEBUG] [yahoo_oauth.oauth.token_is_valid] TOKEN IS STILL VALID\n",
      "[2021-03-09 21:25:04,645 DEBUG] [yahoo_oauth.oauth.__init__] Checking \n",
      "[2021-03-09 21:25:04,650 DEBUG] [yahoo_oauth.oauth.token_is_valid] ELAPSED TIME : 21.013951301574707\n",
      "[2021-03-09 21:25:04,651 DEBUG] [yahoo_oauth.oauth.token_is_valid] TOKEN IS STILL VALID\n",
      "[2021-03-09 21:25:05,660 DEBUG] [yahoo_oauth.oauth.__init__] Checking \n",
      "[2021-03-09 21:25:05,664 DEBUG] [yahoo_oauth.oauth.token_is_valid] ELAPSED TIME : 22.027992010116577\n",
      "[2021-03-09 21:25:05,664 DEBUG] [yahoo_oauth.oauth.token_is_valid] TOKEN IS STILL VALID\n",
      "[2021-03-09 21:25:06,654 DEBUG] [yahoo_oauth.oauth.__init__] Checking \n",
      "[2021-03-09 21:25:06,657 DEBUG] [yahoo_oauth.oauth.token_is_valid] ELAPSED TIME : 23.021291971206665\n",
      "[2021-03-09 21:25:06,657 DEBUG] [yahoo_oauth.oauth.token_is_valid] TOKEN IS STILL VALID\n",
      "[2021-03-09 21:25:07,748 DEBUG] [yahoo_oauth.oauth.__init__] Checking \n",
      "[2021-03-09 21:25:07,751 DEBUG] [yahoo_oauth.oauth.token_is_valid] ELAPSED TIME : 24.115392684936523\n",
      "[2021-03-09 21:25:07,752 DEBUG] [yahoo_oauth.oauth.token_is_valid] TOKEN IS STILL VALID\n"
     ]
    }
   ],
   "source": [
    "filtered_games_week, player_games_dictionary = get_team_player_game_dataframe(af.NUNN_OF_YALL_BETTA,\n",
    "                                                                            week=\"current\",\n",
    "                                                                              season=2020)"
   ],
   "metadata": {
    "collapsed": false,
    "pycharm": {
     "name": "#%%\n"
    }
   }
  },
  {
   "cell_type": "code",
   "execution_count": 86,
   "outputs": [
    {
     "data": {
      "text/plain": "                 0\nMalcolm Brogdon  5\nMalcolm Brogdon  5\nMalcolm Brogdon  5\nMalcolm Brogdon  5\nMalcolm Brogdon  5\n...             ..\nPascal Siakam    5\nPascal Siakam    5\nPascal Siakam    5\nPascal Siakam    5\nPascal Siakam    5\n\n[72 rows x 1 columns]",
      "text/html": "<div>\n<style scoped>\n    .dataframe tbody tr th:only-of-type {\n        vertical-align: middle;\n    }\n\n    .dataframe tbody tr th {\n        vertical-align: top;\n    }\n\n    .dataframe thead th {\n        text-align: right;\n    }\n</style>\n<table border=\"1\" class=\"dataframe\">\n  <thead>\n    <tr style=\"text-align: right;\">\n      <th></th>\n      <th>0</th>\n    </tr>\n  </thead>\n  <tbody>\n    <tr>\n      <th>Malcolm Brogdon</th>\n      <td>5</td>\n    </tr>\n    <tr>\n      <th>Malcolm Brogdon</th>\n      <td>5</td>\n    </tr>\n    <tr>\n      <th>Malcolm Brogdon</th>\n      <td>5</td>\n    </tr>\n    <tr>\n      <th>Malcolm Brogdon</th>\n      <td>5</td>\n    </tr>\n    <tr>\n      <th>Malcolm Brogdon</th>\n      <td>5</td>\n    </tr>\n    <tr>\n      <th>...</th>\n      <td>...</td>\n    </tr>\n    <tr>\n      <th>Pascal Siakam</th>\n      <td>5</td>\n    </tr>\n    <tr>\n      <th>Pascal Siakam</th>\n      <td>5</td>\n    </tr>\n    <tr>\n      <th>Pascal Siakam</th>\n      <td>5</td>\n    </tr>\n    <tr>\n      <th>Pascal Siakam</th>\n      <td>5</td>\n    </tr>\n    <tr>\n      <th>Pascal Siakam</th>\n      <td>5</td>\n    </tr>\n  </tbody>\n</table>\n<p>72 rows × 1 columns</p>\n</div>"
     },
     "execution_count": 86,
     "metadata": {},
     "output_type": "execute_result"
    }
   ],
   "source": [
    "player_games = pd.DataFrame.from_dict(player_games_dictionary, orient=\"index\")\n",
    "df = player_games.loc[player_games.index.repeat(player_games[0])]\n",
    "df"
   ],
   "metadata": {
    "collapsed": false,
    "pycharm": {
     "name": "#%%\n"
    }
   }
  },
  {
   "cell_type": "code",
   "execution_count": 102,
   "outputs": [
    {
     "name": "stderr",
     "output_type": "stream",
     "text": [
      "[2021-03-09 22:31:33,666 DEBUG] [yahoo_oauth.oauth.__init__] Checking \n",
      "[2021-03-09 22:31:33,668 DEBUG] [yahoo_oauth.oauth.token_is_valid] ELAPSED TIME : 451.64334321022034\n",
      "[2021-03-09 22:31:33,669 DEBUG] [yahoo_oauth.oauth.token_is_valid] TOKEN IS STILL VALID\n"
     ]
    }
   ],
   "source": [
    "sc = af.yahoo_fantasy_api_authentication()\n",
    "league = af.yahoo_fantasy_league(sc)"
   ],
   "metadata": {
    "collapsed": false,
    "pycharm": {
     "name": "#%%\n"
    }
   }
  },
  {
   "cell_type": "code",
   "execution_count": null,
   "outputs": [],
   "source": [
    "nunn = af.team_9cat_average_stats(af.NUNN_OF_YALL_BETTA, league)"
   ],
   "metadata": {
    "collapsed": false,
    "pycharm": {
     "name": "#%%\n"
    }
   }
  },
  {
   "cell_type": "code",
   "execution_count": null,
   "outputs": [],
   "source": [
    "nunn"
   ],
   "metadata": {
    "collapsed": false,
    "pycharm": {
     "name": "#%%\n"
    }
   }
  },
  {
   "cell_type": "code",
   "execution_count": null,
   "outputs": [],
   "source": [
    "nunn.drop(\"PLAYER\", axis=1, inplace=True)\n",
    "nunn.drop(\"mean\", inplace=True)\n",
    "nunn = nunn.apply(pd.to_numeric)"
   ],
   "metadata": {
    "collapsed": false,
    "pycharm": {
     "name": "#%%\n"
    }
   }
  },
  {
   "cell_type": "code",
   "execution_count": 87,
   "outputs": [
    {
     "name": "stderr",
     "output_type": "stream",
     "text": [
      "[2021-03-09 21:27:47,155 DEBUG] [yahoo_oauth.oauth.__init__] Checking \n",
      "[2021-03-09 21:27:47,157 DEBUG] [yahoo_oauth.oauth.token_is_valid] ELAPSED TIME : 183.52103352546692\n",
      "[2021-03-09 21:27:47,158 DEBUG] [yahoo_oauth.oauth.token_is_valid] TOKEN IS STILL VALID\n",
      "[2021-03-09 21:27:52,750 DEBUG] [yahoo_oauth.oauth.__init__] Checking \n",
      "[2021-03-09 21:27:52,754 DEBUG] [yahoo_oauth.oauth.token_is_valid] ELAPSED TIME : 189.11841678619385\n",
      "[2021-03-09 21:27:52,755 DEBUG] [yahoo_oauth.oauth.token_is_valid] TOKEN IS STILL VALID\n",
      "[2021-03-09 21:27:53,745 DEBUG] [yahoo_oauth.oauth.__init__] Checking \n",
      "[2021-03-09 21:27:53,748 DEBUG] [yahoo_oauth.oauth.token_is_valid] ELAPSED TIME : 190.11219310760498\n",
      "[2021-03-09 21:27:53,749 DEBUG] [yahoo_oauth.oauth.token_is_valid] TOKEN IS STILL VALID\n",
      "[2021-03-09 21:27:55,921 DEBUG] [yahoo_oauth.oauth.__init__] Checking \n",
      "[2021-03-09 21:27:55,924 DEBUG] [yahoo_oauth.oauth.token_is_valid] ELAPSED TIME : 192.2884237766266\n",
      "[2021-03-09 21:27:55,925 DEBUG] [yahoo_oauth.oauth.token_is_valid] TOKEN IS STILL VALID\n",
      "[2021-03-09 21:27:58,205 DEBUG] [yahoo_oauth.oauth.__init__] Checking \n",
      "[2021-03-09 21:27:58,211 DEBUG] [yahoo_oauth.oauth.token_is_valid] ELAPSED TIME : 194.5752673149109\n",
      "[2021-03-09 21:27:58,213 DEBUG] [yahoo_oauth.oauth.token_is_valid] TOKEN IS STILL VALID\n",
      "[2021-03-09 21:27:59,249 DEBUG] [yahoo_oauth.oauth.__init__] Checking \n",
      "[2021-03-09 21:27:59,252 DEBUG] [yahoo_oauth.oauth.token_is_valid] ELAPSED TIME : 195.61668229103088\n",
      "[2021-03-09 21:27:59,252 DEBUG] [yahoo_oauth.oauth.token_is_valid] TOKEN IS STILL VALID\n",
      "[2021-03-09 21:28:00,199 DEBUG] [yahoo_oauth.oauth.__init__] Checking \n",
      "[2021-03-09 21:28:00,202 DEBUG] [yahoo_oauth.oauth.token_is_valid] ELAPSED TIME : 196.5661277770996\n",
      "[2021-03-09 21:28:00,203 DEBUG] [yahoo_oauth.oauth.token_is_valid] TOKEN IS STILL VALID\n",
      "[2021-03-09 21:28:01,149 DEBUG] [yahoo_oauth.oauth.__init__] Checking \n",
      "[2021-03-09 21:28:01,155 DEBUG] [yahoo_oauth.oauth.token_is_valid] ELAPSED TIME : 197.5190224647522\n",
      "[2021-03-09 21:28:01,157 DEBUG] [yahoo_oauth.oauth.token_is_valid] TOKEN IS STILL VALID\n",
      "[2021-03-09 21:28:02,161 DEBUG] [yahoo_oauth.oauth.__init__] Checking \n",
      "[2021-03-09 21:28:02,166 DEBUG] [yahoo_oauth.oauth.token_is_valid] ELAPSED TIME : 198.5304262638092\n",
      "[2021-03-09 21:28:02,168 DEBUG] [yahoo_oauth.oauth.token_is_valid] TOKEN IS STILL VALID\n",
      "[2021-03-09 21:28:03,168 DEBUG] [yahoo_oauth.oauth.__init__] Checking \n",
      "[2021-03-09 21:28:03,176 DEBUG] [yahoo_oauth.oauth.token_is_valid] ELAPSED TIME : 199.5404829978943\n",
      "[2021-03-09 21:28:03,177 DEBUG] [yahoo_oauth.oauth.token_is_valid] TOKEN IS STILL VALID\n",
      "[2021-03-09 21:28:04,109 DEBUG] [yahoo_oauth.oauth.__init__] Checking \n",
      "[2021-03-09 21:28:04,112 DEBUG] [yahoo_oauth.oauth.token_is_valid] ELAPSED TIME : 200.4758861064911\n",
      "[2021-03-09 21:28:04,113 DEBUG] [yahoo_oauth.oauth.token_is_valid] TOKEN IS STILL VALID\n",
      "[2021-03-09 21:28:05,150 DEBUG] [yahoo_oauth.oauth.__init__] Checking \n",
      "[2021-03-09 21:28:05,153 DEBUG] [yahoo_oauth.oauth.token_is_valid] ELAPSED TIME : 201.51742577552795\n",
      "[2021-03-09 21:28:05,153 DEBUG] [yahoo_oauth.oauth.token_is_valid] TOKEN IS STILL VALID\n",
      "[2021-03-09 21:28:07,368 DEBUG] [yahoo_oauth.oauth.__init__] Checking \n",
      "[2021-03-09 21:28:07,372 DEBUG] [yahoo_oauth.oauth.token_is_valid] ELAPSED TIME : 203.73602890968323\n",
      "[2021-03-09 21:28:07,372 DEBUG] [yahoo_oauth.oauth.token_is_valid] TOKEN IS STILL VALID\n",
      "[2021-03-09 21:28:12,314 DEBUG] [yahoo_oauth.oauth.__init__] Checking \n",
      "[2021-03-09 21:28:12,316 DEBUG] [yahoo_oauth.oauth.token_is_valid] ELAPSED TIME : 208.68062543869019\n",
      "[2021-03-09 21:28:12,318 DEBUG] [yahoo_oauth.oauth.token_is_valid] TOKEN IS STILL VALID\n",
      "[2021-03-09 21:28:13,227 DEBUG] [yahoo_oauth.oauth.__init__] Checking \n",
      "[2021-03-09 21:28:13,234 DEBUG] [yahoo_oauth.oauth.token_is_valid] ELAPSED TIME : 209.59859561920166\n",
      "[2021-03-09 21:28:13,236 DEBUG] [yahoo_oauth.oauth.token_is_valid] TOKEN IS STILL VALID\n",
      "[2021-03-09 21:28:14,278 DEBUG] [yahoo_oauth.oauth.__init__] Checking \n",
      "[2021-03-09 21:28:14,281 DEBUG] [yahoo_oauth.oauth.token_is_valid] ELAPSED TIME : 210.64563727378845\n",
      "[2021-03-09 21:28:14,281 DEBUG] [yahoo_oauth.oauth.token_is_valid] TOKEN IS STILL VALID\n",
      "[2021-03-09 21:28:15,312 DEBUG] [yahoo_oauth.oauth.__init__] Checking \n",
      "[2021-03-09 21:28:15,314 DEBUG] [yahoo_oauth.oauth.token_is_valid] ELAPSED TIME : 211.67878699302673\n",
      "[2021-03-09 21:28:15,316 DEBUG] [yahoo_oauth.oauth.token_is_valid] TOKEN IS STILL VALID\n"
     ]
    }
   ],
   "source": [
    "# sc = af.yahoo_fantasy_api_authentication()\n",
    "# league = af.yahoo_fantasy_league(sc)\n",
    "# team_9cat_averages = af.team_9cat_average_stats(af.NUNN_OF_YALL_BETTA, league)\n",
    "# team_9cat_averages.drop(\"mean\", inplace=True)\n",
    "filtered_games_week, player_games_dictionary = get_team_player_game_dataframe(af.NUNN_OF_YALL_BETTA,\n",
    "                                                                              week=\"current\",\n",
    "                                                                              season=2020)\n",
    "player_games = pd.DataFrame.from_dict(player_games_dictionary, orient=\"index\")\n",
    "player_games = player_games.loc[player_games.index.repeat(player_games[0])]\n",
    "player_games.reset_index(inplace=True)\n",
    "player_games.columns = [[\"PLAYER\", \"G\"]]\n",
    "# simulation_dataset = player_games.merge(team_9cat_averages, on=\"PLAYER\")"
   ],
   "metadata": {
    "collapsed": false,
    "pycharm": {
     "name": "#%%\n"
    }
   }
  },
  {
   "cell_type": "code",
   "execution_count": 84,
   "outputs": [
    {
     "data": {
      "text/plain": "                  PLAYER FG_PCT FT_PCT  FG3M    PTS    REB   AST   STL   BLK  \\\n0        Malcolm Brogdon  0.447  0.897  2.41  21.21   4.65  6.24  1.18  0.24   \n1        Duncan Robinson  0.429  0.840  3.25  12.81   3.94  1.61  0.47  0.22   \n2            Patty Mills  0.448  0.900  2.75  13.31   1.81  2.66  0.62  0.03   \n3         Gary Trent Jr.  0.423  0.778  3.06  15.21   2.15  1.48  0.76  0.15   \n4            Jae Crowder  0.402  0.829  2.41  10.12   5.00  2.12  0.84  0.25   \n5            Jeremy Lamb  0.473  0.941  1.62  11.33   3.71  1.62  0.86  0.52   \n6            Enes Kanter  0.594  0.750  0.00  11.91  11.86  1.14  0.51  0.74   \n7           Nikola Jokic  0.567  0.881  1.56  27.14  11.03  8.58  1.61  0.64   \n8        Cameron Johnson  0.437  0.865  2.15  10.44   3.38  1.35  0.65  0.29   \n9           Jimmy Butler  0.454  0.863  0.36  20.55   7.55  7.82  1.91  0.36   \n10    Wendell Carter Jr.  0.535  0.733  0.30  12.26   7.78  2.26  0.70  0.83   \n11            Kyle Kuzma  0.444  0.632  1.81  11.47   6.67  1.14  0.39  0.64   \n12          Marcus Smart  0.394  0.742  1.65  13.06   2.76  6.06  1.82  0.53   \n13       Khris Middleton  0.495  0.884  2.31  20.58   6.14  5.72  1.11  0.17   \n14         Pascal Siakam  0.453  0.819  1.20  20.07   7.47  4.77  1.17  0.70   \nmean                 NaN  0.466  0.824  1.79  15.43   5.73  3.64  0.97  0.42   \n\n       TOV  \n0     2.09  \n1     1.33  \n2     1.06  \n3     0.73  \n4     0.91  \n5     0.76  \n6     1.17  \n7     3.17  \n8     0.76  \n9     2.32  \n10    1.87  \n11    1.50  \n12    1.76  \n13    2.61  \n14    2.17  \nmean  1.61  ",
      "text/html": "<div>\n<style scoped>\n    .dataframe tbody tr th:only-of-type {\n        vertical-align: middle;\n    }\n\n    .dataframe tbody tr th {\n        vertical-align: top;\n    }\n\n    .dataframe thead th {\n        text-align: right;\n    }\n</style>\n<table border=\"1\" class=\"dataframe\">\n  <thead>\n    <tr style=\"text-align: right;\">\n      <th></th>\n      <th>PLAYER</th>\n      <th>FG_PCT</th>\n      <th>FT_PCT</th>\n      <th>FG3M</th>\n      <th>PTS</th>\n      <th>REB</th>\n      <th>AST</th>\n      <th>STL</th>\n      <th>BLK</th>\n      <th>TOV</th>\n    </tr>\n  </thead>\n  <tbody>\n    <tr>\n      <th>0</th>\n      <td>Malcolm Brogdon</td>\n      <td>0.447</td>\n      <td>0.897</td>\n      <td>2.41</td>\n      <td>21.21</td>\n      <td>4.65</td>\n      <td>6.24</td>\n      <td>1.18</td>\n      <td>0.24</td>\n      <td>2.09</td>\n    </tr>\n    <tr>\n      <th>1</th>\n      <td>Duncan Robinson</td>\n      <td>0.429</td>\n      <td>0.840</td>\n      <td>3.25</td>\n      <td>12.81</td>\n      <td>3.94</td>\n      <td>1.61</td>\n      <td>0.47</td>\n      <td>0.22</td>\n      <td>1.33</td>\n    </tr>\n    <tr>\n      <th>2</th>\n      <td>Patty Mills</td>\n      <td>0.448</td>\n      <td>0.900</td>\n      <td>2.75</td>\n      <td>13.31</td>\n      <td>1.81</td>\n      <td>2.66</td>\n      <td>0.62</td>\n      <td>0.03</td>\n      <td>1.06</td>\n    </tr>\n    <tr>\n      <th>3</th>\n      <td>Gary Trent Jr.</td>\n      <td>0.423</td>\n      <td>0.778</td>\n      <td>3.06</td>\n      <td>15.21</td>\n      <td>2.15</td>\n      <td>1.48</td>\n      <td>0.76</td>\n      <td>0.15</td>\n      <td>0.73</td>\n    </tr>\n    <tr>\n      <th>4</th>\n      <td>Jae Crowder</td>\n      <td>0.402</td>\n      <td>0.829</td>\n      <td>2.41</td>\n      <td>10.12</td>\n      <td>5.00</td>\n      <td>2.12</td>\n      <td>0.84</td>\n      <td>0.25</td>\n      <td>0.91</td>\n    </tr>\n    <tr>\n      <th>5</th>\n      <td>Jeremy Lamb</td>\n      <td>0.473</td>\n      <td>0.941</td>\n      <td>1.62</td>\n      <td>11.33</td>\n      <td>3.71</td>\n      <td>1.62</td>\n      <td>0.86</td>\n      <td>0.52</td>\n      <td>0.76</td>\n    </tr>\n    <tr>\n      <th>6</th>\n      <td>Enes Kanter</td>\n      <td>0.594</td>\n      <td>0.750</td>\n      <td>0.00</td>\n      <td>11.91</td>\n      <td>11.86</td>\n      <td>1.14</td>\n      <td>0.51</td>\n      <td>0.74</td>\n      <td>1.17</td>\n    </tr>\n    <tr>\n      <th>7</th>\n      <td>Nikola Jokic</td>\n      <td>0.567</td>\n      <td>0.881</td>\n      <td>1.56</td>\n      <td>27.14</td>\n      <td>11.03</td>\n      <td>8.58</td>\n      <td>1.61</td>\n      <td>0.64</td>\n      <td>3.17</td>\n    </tr>\n    <tr>\n      <th>8</th>\n      <td>Cameron Johnson</td>\n      <td>0.437</td>\n      <td>0.865</td>\n      <td>2.15</td>\n      <td>10.44</td>\n      <td>3.38</td>\n      <td>1.35</td>\n      <td>0.65</td>\n      <td>0.29</td>\n      <td>0.76</td>\n    </tr>\n    <tr>\n      <th>9</th>\n      <td>Jimmy Butler</td>\n      <td>0.454</td>\n      <td>0.863</td>\n      <td>0.36</td>\n      <td>20.55</td>\n      <td>7.55</td>\n      <td>7.82</td>\n      <td>1.91</td>\n      <td>0.36</td>\n      <td>2.32</td>\n    </tr>\n    <tr>\n      <th>10</th>\n      <td>Wendell Carter Jr.</td>\n      <td>0.535</td>\n      <td>0.733</td>\n      <td>0.30</td>\n      <td>12.26</td>\n      <td>7.78</td>\n      <td>2.26</td>\n      <td>0.70</td>\n      <td>0.83</td>\n      <td>1.87</td>\n    </tr>\n    <tr>\n      <th>11</th>\n      <td>Kyle Kuzma</td>\n      <td>0.444</td>\n      <td>0.632</td>\n      <td>1.81</td>\n      <td>11.47</td>\n      <td>6.67</td>\n      <td>1.14</td>\n      <td>0.39</td>\n      <td>0.64</td>\n      <td>1.50</td>\n    </tr>\n    <tr>\n      <th>12</th>\n      <td>Marcus Smart</td>\n      <td>0.394</td>\n      <td>0.742</td>\n      <td>1.65</td>\n      <td>13.06</td>\n      <td>2.76</td>\n      <td>6.06</td>\n      <td>1.82</td>\n      <td>0.53</td>\n      <td>1.76</td>\n    </tr>\n    <tr>\n      <th>13</th>\n      <td>Khris Middleton</td>\n      <td>0.495</td>\n      <td>0.884</td>\n      <td>2.31</td>\n      <td>20.58</td>\n      <td>6.14</td>\n      <td>5.72</td>\n      <td>1.11</td>\n      <td>0.17</td>\n      <td>2.61</td>\n    </tr>\n    <tr>\n      <th>14</th>\n      <td>Pascal Siakam</td>\n      <td>0.453</td>\n      <td>0.819</td>\n      <td>1.20</td>\n      <td>20.07</td>\n      <td>7.47</td>\n      <td>4.77</td>\n      <td>1.17</td>\n      <td>0.70</td>\n      <td>2.17</td>\n    </tr>\n    <tr>\n      <th>mean</th>\n      <td>NaN</td>\n      <td>0.466</td>\n      <td>0.824</td>\n      <td>1.79</td>\n      <td>15.43</td>\n      <td>5.73</td>\n      <td>3.64</td>\n      <td>0.97</td>\n      <td>0.42</td>\n      <td>1.61</td>\n    </tr>\n  </tbody>\n</table>\n</div>"
     },
     "execution_count": 84,
     "metadata": {},
     "output_type": "execute_result"
    }
   ],
   "source": [
    "# player_games.merge(team_9cat_averages, left_on=\"PLAYER\", right_on=\"PLAYER\")\n",
    "team_9cat_averages"
   ],
   "metadata": {
    "collapsed": false,
    "pycharm": {
     "name": "#%%\n"
    }
   }
  },
  {
   "cell_type": "code",
   "execution_count": 85,
   "outputs": [
    {
     "ename": "KeyError",
     "evalue": "'PLAYER'",
     "output_type": "error",
     "traceback": [
      "\u001B[1;31m---------------------------------------------------------------------------\u001B[0m",
      "\u001B[1;31mKeyError\u001B[0m                                  Traceback (most recent call last)",
      "\u001B[1;32m<ipython-input-85-3501499e9dbc>\u001B[0m in \u001B[0;36m<module>\u001B[1;34m\u001B[0m\n\u001B[1;32m----> 1\u001B[1;33m \u001B[0mteam_9cat_averages\u001B[0m\u001B[1;33m.\u001B[0m\u001B[0mmerge\u001B[0m\u001B[1;33m(\u001B[0m\u001B[0mplayer_games\u001B[0m\u001B[1;33m,\u001B[0m \u001B[0mleft_on\u001B[0m\u001B[1;33m=\u001B[0m\u001B[1;34m\"PLAYER\"\u001B[0m\u001B[1;33m,\u001B[0m \u001B[0mright_on\u001B[0m\u001B[1;33m=\u001B[0m\u001B[1;34m\"PLAYER\"\u001B[0m\u001B[1;33m)\u001B[0m\u001B[1;33m\u001B[0m\u001B[1;33m\u001B[0m\u001B[0m\n\u001B[0m\u001B[0;32m      2\u001B[0m \u001B[1;33m\u001B[0m\u001B[0m\n",
      "\u001B[1;32mc:\\users\\jaume\\documents\\python projects\\waiver_wire_machine\\venv\\lib\\site-packages\\pandas\\core\\frame.py\u001B[0m in \u001B[0;36mmerge\u001B[1;34m(self, right, how, on, left_on, right_on, left_index, right_index, sort, suffixes, copy, indicator, validate)\u001B[0m\n\u001B[0;32m   8190\u001B[0m         \u001B[1;32mfrom\u001B[0m \u001B[0mpandas\u001B[0m\u001B[1;33m.\u001B[0m\u001B[0mcore\u001B[0m\u001B[1;33m.\u001B[0m\u001B[0mreshape\u001B[0m\u001B[1;33m.\u001B[0m\u001B[0mmerge\u001B[0m \u001B[1;32mimport\u001B[0m \u001B[0mmerge\u001B[0m\u001B[1;33m\u001B[0m\u001B[1;33m\u001B[0m\u001B[0m\n\u001B[0;32m   8191\u001B[0m \u001B[1;33m\u001B[0m\u001B[0m\n\u001B[1;32m-> 8192\u001B[1;33m         return merge(\n\u001B[0m\u001B[0;32m   8193\u001B[0m             \u001B[0mself\u001B[0m\u001B[1;33m,\u001B[0m\u001B[1;33m\u001B[0m\u001B[1;33m\u001B[0m\u001B[0m\n\u001B[0;32m   8194\u001B[0m             \u001B[0mright\u001B[0m\u001B[1;33m,\u001B[0m\u001B[1;33m\u001B[0m\u001B[1;33m\u001B[0m\u001B[0m\n",
      "\u001B[1;32mc:\\users\\jaume\\documents\\python projects\\waiver_wire_machine\\venv\\lib\\site-packages\\pandas\\core\\reshape\\merge.py\u001B[0m in \u001B[0;36mmerge\u001B[1;34m(left, right, how, on, left_on, right_on, left_index, right_index, sort, suffixes, copy, indicator, validate)\u001B[0m\n\u001B[0;32m     72\u001B[0m     \u001B[0mvalidate\u001B[0m\u001B[1;33m=\u001B[0m\u001B[1;32mNone\u001B[0m\u001B[1;33m,\u001B[0m\u001B[1;33m\u001B[0m\u001B[1;33m\u001B[0m\u001B[0m\n\u001B[0;32m     73\u001B[0m ) -> \"DataFrame\":\n\u001B[1;32m---> 74\u001B[1;33m     op = _MergeOperation(\n\u001B[0m\u001B[0;32m     75\u001B[0m         \u001B[0mleft\u001B[0m\u001B[1;33m,\u001B[0m\u001B[1;33m\u001B[0m\u001B[1;33m\u001B[0m\u001B[0m\n\u001B[0;32m     76\u001B[0m         \u001B[0mright\u001B[0m\u001B[1;33m,\u001B[0m\u001B[1;33m\u001B[0m\u001B[1;33m\u001B[0m\u001B[0m\n",
      "\u001B[1;32mc:\\users\\jaume\\documents\\python projects\\waiver_wire_machine\\venv\\lib\\site-packages\\pandas\\core\\reshape\\merge.py\u001B[0m in \u001B[0;36m__init__\u001B[1;34m(self, left, right, how, on, left_on, right_on, axis, left_index, right_index, sort, suffixes, copy, indicator, validate)\u001B[0m\n\u001B[0;32m    666\u001B[0m             \u001B[0mself\u001B[0m\u001B[1;33m.\u001B[0m\u001B[0mright_join_keys\u001B[0m\u001B[1;33m,\u001B[0m\u001B[1;33m\u001B[0m\u001B[1;33m\u001B[0m\u001B[0m\n\u001B[0;32m    667\u001B[0m             \u001B[0mself\u001B[0m\u001B[1;33m.\u001B[0m\u001B[0mjoin_names\u001B[0m\u001B[1;33m,\u001B[0m\u001B[1;33m\u001B[0m\u001B[1;33m\u001B[0m\u001B[0m\n\u001B[1;32m--> 668\u001B[1;33m         ) = self._get_merge_keys()\n\u001B[0m\u001B[0;32m    669\u001B[0m \u001B[1;33m\u001B[0m\u001B[0m\n\u001B[0;32m    670\u001B[0m         \u001B[1;31m# validate the merge keys dtypes. We may need to coerce\u001B[0m\u001B[1;33m\u001B[0m\u001B[1;33m\u001B[0m\u001B[1;33m\u001B[0m\u001B[0m\n",
      "\u001B[1;32mc:\\users\\jaume\\documents\\python projects\\waiver_wire_machine\\venv\\lib\\site-packages\\pandas\\core\\reshape\\merge.py\u001B[0m in \u001B[0;36m_get_merge_keys\u001B[1;34m(self)\u001B[0m\n\u001B[0;32m   1031\u001B[0m                     \u001B[1;32mif\u001B[0m \u001B[1;32mnot\u001B[0m \u001B[0mis_rkey\u001B[0m\u001B[1;33m(\u001B[0m\u001B[0mrk\u001B[0m\u001B[1;33m)\u001B[0m\u001B[1;33m:\u001B[0m\u001B[1;33m\u001B[0m\u001B[1;33m\u001B[0m\u001B[0m\n\u001B[0;32m   1032\u001B[0m                         \u001B[1;32mif\u001B[0m \u001B[0mrk\u001B[0m \u001B[1;32mis\u001B[0m \u001B[1;32mnot\u001B[0m \u001B[1;32mNone\u001B[0m\u001B[1;33m:\u001B[0m\u001B[1;33m\u001B[0m\u001B[1;33m\u001B[0m\u001B[0m\n\u001B[1;32m-> 1033\u001B[1;33m                             \u001B[0mright_keys\u001B[0m\u001B[1;33m.\u001B[0m\u001B[0mappend\u001B[0m\u001B[1;33m(\u001B[0m\u001B[0mright\u001B[0m\u001B[1;33m.\u001B[0m\u001B[0m_get_label_or_level_values\u001B[0m\u001B[1;33m(\u001B[0m\u001B[0mrk\u001B[0m\u001B[1;33m)\u001B[0m\u001B[1;33m)\u001B[0m\u001B[1;33m\u001B[0m\u001B[1;33m\u001B[0m\u001B[0m\n\u001B[0m\u001B[0;32m   1034\u001B[0m                         \u001B[1;32melse\u001B[0m\u001B[1;33m:\u001B[0m\u001B[1;33m\u001B[0m\u001B[1;33m\u001B[0m\u001B[0m\n\u001B[0;32m   1035\u001B[0m                             \u001B[1;31m# work-around for merge_asof(right_index=True)\u001B[0m\u001B[1;33m\u001B[0m\u001B[1;33m\u001B[0m\u001B[1;33m\u001B[0m\u001B[0m\n",
      "\u001B[1;32mc:\\users\\jaume\\documents\\python projects\\waiver_wire_machine\\venv\\lib\\site-packages\\pandas\\core\\generic.py\u001B[0m in \u001B[0;36m_get_label_or_level_values\u001B[1;34m(self, key, axis)\u001B[0m\n\u001B[0;32m   1681\u001B[0m             \u001B[0mvalues\u001B[0m \u001B[1;33m=\u001B[0m \u001B[0mself\u001B[0m\u001B[1;33m.\u001B[0m\u001B[0maxes\u001B[0m\u001B[1;33m[\u001B[0m\u001B[0maxis\u001B[0m\u001B[1;33m]\u001B[0m\u001B[1;33m.\u001B[0m\u001B[0mget_level_values\u001B[0m\u001B[1;33m(\u001B[0m\u001B[0mkey\u001B[0m\u001B[1;33m)\u001B[0m\u001B[1;33m.\u001B[0m\u001B[0m_values\u001B[0m\u001B[1;33m\u001B[0m\u001B[1;33m\u001B[0m\u001B[0m\n\u001B[0;32m   1682\u001B[0m         \u001B[1;32melse\u001B[0m\u001B[1;33m:\u001B[0m\u001B[1;33m\u001B[0m\u001B[1;33m\u001B[0m\u001B[0m\n\u001B[1;32m-> 1683\u001B[1;33m             \u001B[1;32mraise\u001B[0m \u001B[0mKeyError\u001B[0m\u001B[1;33m(\u001B[0m\u001B[0mkey\u001B[0m\u001B[1;33m)\u001B[0m\u001B[1;33m\u001B[0m\u001B[1;33m\u001B[0m\u001B[0m\n\u001B[0m\u001B[0;32m   1684\u001B[0m \u001B[1;33m\u001B[0m\u001B[0m\n\u001B[0;32m   1685\u001B[0m         \u001B[1;31m# Check for duplicates\u001B[0m\u001B[1;33m\u001B[0m\u001B[1;33m\u001B[0m\u001B[1;33m\u001B[0m\u001B[0m\n",
      "\u001B[1;31mKeyError\u001B[0m: 'PLAYER'"
     ]
    }
   ],
   "source": [
    "team_9cat_averages.merge(player_games, left_on=\"PLAYER\", right_on=\"PLAYER\")"
   ],
   "metadata": {
    "collapsed": false,
    "pycharm": {
     "name": "#%%\n"
    }
   }
  },
  {
   "cell_type": "code",
   "execution_count": null,
   "outputs": [],
   "source": [
    "team_9cat_averages.to_clipboard(index=False)\n",
    "team_9cat_averages=pd.read_clipboard(sep='\\t')\n",
    "\n",
    "player_games.to_clipboard(index=False)\n",
    "player_games=pd.read_clipboard(sep='\\t')"
   ],
   "metadata": {
    "collapsed": false,
    "pycharm": {
     "name": "#%%\n"
    }
   }
  },
  {
   "cell_type": "code",
   "execution_count": 78,
   "outputs": [
    {
     "ename": "NameError",
     "evalue": "name 'player_games' is not defined",
     "output_type": "error",
     "traceback": [
      "\u001B[1;31m---------------------------------------------------------------------------\u001B[0m",
      "\u001B[1;31mNameError\u001B[0m                                 Traceback (most recent call last)",
      "\u001B[1;32m<ipython-input-78-55960de4a705>\u001B[0m in \u001B[0;36m<module>\u001B[1;34m\u001B[0m\n\u001B[1;32m----> 1\u001B[1;33m \u001B[0mpd\u001B[0m\u001B[1;33m.\u001B[0m\u001B[0mmerge\u001B[0m\u001B[1;33m(\u001B[0m\u001B[0mteam_9cat_averages\u001B[0m\u001B[1;33m,\u001B[0m \u001B[0mplayer_games\u001B[0m\u001B[1;33m,\u001B[0m \u001B[0mon\u001B[0m\u001B[1;33m=\u001B[0m\u001B[1;33m[\u001B[0m\u001B[1;34m\"PLAYER\"\u001B[0m\u001B[1;33m]\u001B[0m\u001B[1;33m)\u001B[0m\u001B[1;33m\u001B[0m\u001B[1;33m\u001B[0m\u001B[0m\n\u001B[0m\u001B[0;32m      2\u001B[0m \u001B[1;33m\u001B[0m\u001B[0m\n",
      "\u001B[1;31mNameError\u001B[0m: name 'player_games' is not defined"
     ]
    }
   ],
   "source": [
    "pd.merge(team_9cat_averages, player_games, on=[\"PLAYER\"])"
   ],
   "metadata": {
    "collapsed": false,
    "pycharm": {
     "name": "#%%\n"
    }
   }
  },
  {
   "cell_type": "code",
   "execution_count": 5,
   "outputs": [],
   "source": [
    "def make_simulation_dataset(team_dict, week=\"current\"):\n",
    "    \"\"\"\n",
    "\n",
    "    @param team_dict:\n",
    "    @param week:\n",
    "    @return:\n",
    "    \"\"\"\n",
    "    sc = af.yahoo_fantasy_api_authentication()\n",
    "    league = af.yahoo_fantasy_league(sc)\n",
    "    team_9cat_averages = af.team_9cat_average_stats(team_dict, league)\n",
    "    team_9cat_averages.drop(\"mean\", inplace=True)\n",
    "    filtered_games_week, player_games_dictionary = get_team_player_game_dataframe(team_dict,\n",
    "                                                                                  week=week,\n",
    "                                                                                  season=2020)\n",
    "    player_games = pd.DataFrame.from_dict(player_games_dictionary, orient=\"index\")\n",
    "    player_games = player_games.loc[player_games.index.repeat(player_games[0])]\n",
    "    player_games.reset_index(inplace=True)\n",
    "    player_games.columns = [[\"PLAYER\", \"G\"]]\n",
    "    team_9cat_averages.to_clipboard(index=False)\n",
    "    team_9cat_averages=pd.read_clipboard(sep='\\t')\n",
    "    player_games.to_clipboard(index=False)\n",
    "    player_games=pd.read_clipboard(sep='\\t')\n",
    "    simulation_dataset = pd.merge(team_9cat_averages, player_games, on=[\"PLAYER\"])\n",
    "    simulation_dataset.drop([\"PLAYER\", \"G\"], axis=1, inplace=True)\n",
    "    simulation_dataset = simulation_dataset.apply(pd.to_numeric)\n",
    "    return simulation_dataset"
   ],
   "metadata": {
    "collapsed": false,
    "pycharm": {
     "name": "#%%\n"
    }
   }
  },
  {
   "cell_type": "code",
   "execution_count": 132,
   "outputs": [
    {
     "name": "stderr",
     "output_type": "stream",
     "text": [
      "[2021-03-08 21:09:18,815 DEBUG] [yahoo_oauth.oauth.__init__] Checking \n",
      "[2021-03-08 21:09:18,817 DEBUG] [yahoo_oauth.oauth.token_is_valid] ELAPSED TIME : 1566.2080564498901\n",
      "[2021-03-08 21:09:18,818 DEBUG] [yahoo_oauth.oauth.token_is_valid] TOKEN IS STILL VALID\n",
      "[2021-03-08 21:10:16,873 DEBUG] [yahoo_oauth.oauth.__init__] Checking \n",
      "[2021-03-08 21:10:16,877 DEBUG] [yahoo_oauth.oauth.token_is_valid] ELAPSED TIME : 1624.2677590847015\n",
      "[2021-03-08 21:10:16,878 DEBUG] [yahoo_oauth.oauth.token_is_valid] TOKEN IS STILL VALID\n",
      "[2021-03-08 21:10:25,193 DEBUG] [yahoo_oauth.oauth.__init__] Checking \n",
      "[2021-03-08 21:10:25,197 DEBUG] [yahoo_oauth.oauth.token_is_valid] ELAPSED TIME : 1632.5879747867584\n",
      "[2021-03-08 21:10:25,197 DEBUG] [yahoo_oauth.oauth.token_is_valid] TOKEN IS STILL VALID\n",
      "[2021-03-08 21:10:28,527 DEBUG] [yahoo_oauth.oauth.__init__] Checking \n",
      "[2021-03-08 21:10:28,529 DEBUG] [yahoo_oauth.oauth.token_is_valid] ELAPSED TIME : 1635.9200959205627\n",
      "[2021-03-08 21:10:28,530 DEBUG] [yahoo_oauth.oauth.token_is_valid] TOKEN IS STILL VALID\n",
      "[2021-03-08 21:10:29,470 DEBUG] [yahoo_oauth.oauth.__init__] Checking \n",
      "[2021-03-08 21:10:29,473 DEBUG] [yahoo_oauth.oauth.token_is_valid] ELAPSED TIME : 1636.8635165691376\n",
      "[2021-03-08 21:10:29,474 DEBUG] [yahoo_oauth.oauth.token_is_valid] TOKEN IS STILL VALID\n",
      "[2021-03-08 21:10:30,391 DEBUG] [yahoo_oauth.oauth.__init__] Checking \n",
      "[2021-03-08 21:10:30,400 DEBUG] [yahoo_oauth.oauth.token_is_valid] ELAPSED TIME : 1637.7910556793213\n",
      "[2021-03-08 21:10:30,402 DEBUG] [yahoo_oauth.oauth.token_is_valid] TOKEN IS STILL VALID\n",
      "[2021-03-08 21:10:31,436 DEBUG] [yahoo_oauth.oauth.__init__] Checking \n",
      "[2021-03-08 21:10:31,438 DEBUG] [yahoo_oauth.oauth.token_is_valid] ELAPSED TIME : 1638.82941365242\n",
      "[2021-03-08 21:10:31,439 DEBUG] [yahoo_oauth.oauth.token_is_valid] TOKEN IS STILL VALID\n",
      "[2021-03-08 21:10:32,361 DEBUG] [yahoo_oauth.oauth.__init__] Checking \n",
      "[2021-03-08 21:10:32,364 DEBUG] [yahoo_oauth.oauth.token_is_valid] ELAPSED TIME : 1639.7547681331635\n",
      "[2021-03-08 21:10:32,365 DEBUG] [yahoo_oauth.oauth.token_is_valid] TOKEN IS STILL VALID\n",
      "[2021-03-08 21:10:33,404 DEBUG] [yahoo_oauth.oauth.__init__] Checking \n",
      "[2021-03-08 21:10:33,407 DEBUG] [yahoo_oauth.oauth.token_is_valid] ELAPSED TIME : 1640.7983555793762\n",
      "[2021-03-08 21:10:33,408 DEBUG] [yahoo_oauth.oauth.token_is_valid] TOKEN IS STILL VALID\n",
      "[2021-03-08 21:10:34,283 DEBUG] [yahoo_oauth.oauth.__init__] Checking \n",
      "[2021-03-08 21:10:34,286 DEBUG] [yahoo_oauth.oauth.token_is_valid] ELAPSED TIME : 1641.6767337322235\n",
      "[2021-03-08 21:10:34,287 DEBUG] [yahoo_oauth.oauth.token_is_valid] TOKEN IS STILL VALID\n",
      "[2021-03-08 21:10:35,206 DEBUG] [yahoo_oauth.oauth.__init__] Checking \n",
      "[2021-03-08 21:10:35,208 DEBUG] [yahoo_oauth.oauth.token_is_valid] ELAPSED TIME : 1642.5994307994843\n",
      "[2021-03-08 21:10:35,209 DEBUG] [yahoo_oauth.oauth.token_is_valid] TOKEN IS STILL VALID\n",
      "[2021-03-08 21:10:36,134 DEBUG] [yahoo_oauth.oauth.__init__] Checking \n",
      "[2021-03-08 21:10:36,136 DEBUG] [yahoo_oauth.oauth.token_is_valid] ELAPSED TIME : 1643.5274076461792\n",
      "[2021-03-08 21:10:36,136 DEBUG] [yahoo_oauth.oauth.token_is_valid] TOKEN IS STILL VALID\n",
      "[2021-03-08 21:10:37,103 DEBUG] [yahoo_oauth.oauth.__init__] Checking \n",
      "[2021-03-08 21:10:37,106 DEBUG] [yahoo_oauth.oauth.token_is_valid] ELAPSED TIME : 1644.496850013733\n",
      "[2021-03-08 21:10:37,106 DEBUG] [yahoo_oauth.oauth.token_is_valid] TOKEN IS STILL VALID\n",
      "[2021-03-08 21:10:37,984 DEBUG] [yahoo_oauth.oauth.__init__] Checking \n",
      "[2021-03-08 21:10:37,986 DEBUG] [yahoo_oauth.oauth.token_is_valid] ELAPSED TIME : 1645.37730717659\n",
      "[2021-03-08 21:10:37,987 DEBUG] [yahoo_oauth.oauth.token_is_valid] TOKEN IS STILL VALID\n",
      "[2021-03-08 21:10:38,944 DEBUG] [yahoo_oauth.oauth.__init__] Checking \n",
      "[2021-03-08 21:10:38,948 DEBUG] [yahoo_oauth.oauth.token_is_valid] ELAPSED TIME : 1646.3386869430542\n",
      "[2021-03-08 21:10:38,948 DEBUG] [yahoo_oauth.oauth.token_is_valid] TOKEN IS STILL VALID\n",
      "[2021-03-08 21:10:39,841 DEBUG] [yahoo_oauth.oauth.__init__] Checking \n",
      "[2021-03-08 21:10:39,844 DEBUG] [yahoo_oauth.oauth.token_is_valid] ELAPSED TIME : 1647.2347271442413\n",
      "[2021-03-08 21:10:39,844 DEBUG] [yahoo_oauth.oauth.token_is_valid] TOKEN IS STILL VALID\n",
      "[2021-03-08 21:10:40,725 DEBUG] [yahoo_oauth.oauth.__init__] Checking \n",
      "[2021-03-08 21:10:40,728 DEBUG] [yahoo_oauth.oauth.token_is_valid] ELAPSED TIME : 1648.119313955307\n",
      "[2021-03-08 21:10:40,729 DEBUG] [yahoo_oauth.oauth.token_is_valid] TOKEN IS STILL VALID\n",
      "[2021-03-08 21:10:41,654 DEBUG] [yahoo_oauth.oauth.__init__] Checking \n",
      "[2021-03-08 21:10:41,657 DEBUG] [yahoo_oauth.oauth.token_is_valid] ELAPSED TIME : 1649.0476615428925\n",
      "[2021-03-08 21:10:41,657 DEBUG] [yahoo_oauth.oauth.token_is_valid] TOKEN IS STILL VALID\n"
     ]
    },
    {
     "data": {
      "text/plain": "    FG_PCT  FT_PCT  FG3M    PTS   REB   AST   STL   BLK   TOV\n0    0.447   0.897  2.41  21.21  4.65  6.24  1.18  0.24  2.09\n1    0.447   0.897  2.41  21.21  4.65  6.24  1.18  0.24  2.09\n2    0.447   0.897  2.41  21.21  4.65  6.24  1.18  0.24  2.09\n3    0.447   0.897  2.41  21.21  4.65  6.24  1.18  0.24  2.09\n4    0.447   0.897  2.41  21.21  4.65  6.24  1.18  0.24  2.09\n..     ...     ...   ...    ...   ...   ...   ...   ...   ...\n67   0.453   0.819  1.20  20.07  7.47  4.77  1.17  0.70  2.17\n68   0.453   0.819  1.20  20.07  7.47  4.77  1.17  0.70  2.17\n69   0.453   0.819  1.20  20.07  7.47  4.77  1.17  0.70  2.17\n70   0.453   0.819  1.20  20.07  7.47  4.77  1.17  0.70  2.17\n71   0.453   0.819  1.20  20.07  7.47  4.77  1.17  0.70  2.17\n\n[72 rows x 9 columns]",
      "text/html": "<div>\n<style scoped>\n    .dataframe tbody tr th:only-of-type {\n        vertical-align: middle;\n    }\n\n    .dataframe tbody tr th {\n        vertical-align: top;\n    }\n\n    .dataframe thead th {\n        text-align: right;\n    }\n</style>\n<table border=\"1\" class=\"dataframe\">\n  <thead>\n    <tr style=\"text-align: right;\">\n      <th></th>\n      <th>FG_PCT</th>\n      <th>FT_PCT</th>\n      <th>FG3M</th>\n      <th>PTS</th>\n      <th>REB</th>\n      <th>AST</th>\n      <th>STL</th>\n      <th>BLK</th>\n      <th>TOV</th>\n    </tr>\n  </thead>\n  <tbody>\n    <tr>\n      <th>0</th>\n      <td>0.447</td>\n      <td>0.897</td>\n      <td>2.41</td>\n      <td>21.21</td>\n      <td>4.65</td>\n      <td>6.24</td>\n      <td>1.18</td>\n      <td>0.24</td>\n      <td>2.09</td>\n    </tr>\n    <tr>\n      <th>1</th>\n      <td>0.447</td>\n      <td>0.897</td>\n      <td>2.41</td>\n      <td>21.21</td>\n      <td>4.65</td>\n      <td>6.24</td>\n      <td>1.18</td>\n      <td>0.24</td>\n      <td>2.09</td>\n    </tr>\n    <tr>\n      <th>2</th>\n      <td>0.447</td>\n      <td>0.897</td>\n      <td>2.41</td>\n      <td>21.21</td>\n      <td>4.65</td>\n      <td>6.24</td>\n      <td>1.18</td>\n      <td>0.24</td>\n      <td>2.09</td>\n    </tr>\n    <tr>\n      <th>3</th>\n      <td>0.447</td>\n      <td>0.897</td>\n      <td>2.41</td>\n      <td>21.21</td>\n      <td>4.65</td>\n      <td>6.24</td>\n      <td>1.18</td>\n      <td>0.24</td>\n      <td>2.09</td>\n    </tr>\n    <tr>\n      <th>4</th>\n      <td>0.447</td>\n      <td>0.897</td>\n      <td>2.41</td>\n      <td>21.21</td>\n      <td>4.65</td>\n      <td>6.24</td>\n      <td>1.18</td>\n      <td>0.24</td>\n      <td>2.09</td>\n    </tr>\n    <tr>\n      <th>...</th>\n      <td>...</td>\n      <td>...</td>\n      <td>...</td>\n      <td>...</td>\n      <td>...</td>\n      <td>...</td>\n      <td>...</td>\n      <td>...</td>\n      <td>...</td>\n    </tr>\n    <tr>\n      <th>67</th>\n      <td>0.453</td>\n      <td>0.819</td>\n      <td>1.20</td>\n      <td>20.07</td>\n      <td>7.47</td>\n      <td>4.77</td>\n      <td>1.17</td>\n      <td>0.70</td>\n      <td>2.17</td>\n    </tr>\n    <tr>\n      <th>68</th>\n      <td>0.453</td>\n      <td>0.819</td>\n      <td>1.20</td>\n      <td>20.07</td>\n      <td>7.47</td>\n      <td>4.77</td>\n      <td>1.17</td>\n      <td>0.70</td>\n      <td>2.17</td>\n    </tr>\n    <tr>\n      <th>69</th>\n      <td>0.453</td>\n      <td>0.819</td>\n      <td>1.20</td>\n      <td>20.07</td>\n      <td>7.47</td>\n      <td>4.77</td>\n      <td>1.17</td>\n      <td>0.70</td>\n      <td>2.17</td>\n    </tr>\n    <tr>\n      <th>70</th>\n      <td>0.453</td>\n      <td>0.819</td>\n      <td>1.20</td>\n      <td>20.07</td>\n      <td>7.47</td>\n      <td>4.77</td>\n      <td>1.17</td>\n      <td>0.70</td>\n      <td>2.17</td>\n    </tr>\n    <tr>\n      <th>71</th>\n      <td>0.453</td>\n      <td>0.819</td>\n      <td>1.20</td>\n      <td>20.07</td>\n      <td>7.47</td>\n      <td>4.77</td>\n      <td>1.17</td>\n      <td>0.70</td>\n      <td>2.17</td>\n    </tr>\n  </tbody>\n</table>\n<p>72 rows × 9 columns</p>\n</div>"
     },
     "execution_count": 132,
     "metadata": {},
     "output_type": "execute_result"
    }
   ],
   "source": [
    "simulation_dataset = make_simulation_dataset(af.NUNN_OF_YALL_BETTA, week=\"current\")\n",
    "simulation_dataset"
   ],
   "metadata": {
    "collapsed": false,
    "pycharm": {
     "name": "#%%\n"
    }
   }
  },
  {
   "cell_type": "code",
   "execution_count": 6,
   "outputs": [],
   "source": [
    "gaussian_stats = ['FG_PCT', 'FT_PCT']\n",
    "poison_stats = ['FG3M', 'PTS', 'REB', 'AST', 'STL', 'BLK', 'TOV']\n",
    "\n",
    "def simulate_stats(team_df, n_reps):\n",
    "\n",
    "    pois_stats = team_df.loc[:, poison_stats].values\n",
    "    gaus_stats = team_df.loc[:, gaussian_stats].values\n",
    "    pois = np.random.poisson(lam=pois_stats,\n",
    "                             size=(n_reps, *pois_stats.shape))\n",
    "    pois = np.maximum(0, pois)\n",
    "    gaus = np.random.normal(loc=gaus_stats, scale=0.2 * gaus_stats,\n",
    "                            size=(n_reps, *gaus_stats.shape))\n",
    "    gaus = np.clip(gaus, 0, 1)\n",
    "\n",
    "    aggr_pois_stats = pois.sum(axis=1)\n",
    "    aggr_gaus_stats = gaus.mean(axis=1)\n",
    "    aggr_stats = np.concatenate((aggr_gaus_stats, aggr_pois_stats),\n",
    "                                axis=1)\n",
    "    return aggr_stats"
   ],
   "metadata": {
    "collapsed": false,
    "pycharm": {
     "name": "#%%\n"
    }
   }
  },
  {
   "cell_type": "code",
   "execution_count": 133,
   "outputs": [
    {
     "data": {
      "text/plain": "array([[  0.46597222,   0.82735082, 141.        , ...,  71.        ,\n         29.        ,  94.        ],\n       [  0.45297182,   0.81913327, 116.        , ...,  67.        ,\n         22.        , 113.        ],\n       [  0.46966351,   0.78848219, 152.        , ...,  66.        ,\n         30.        , 142.        ],\n       ...,\n       [  0.46886232,   0.79490553, 106.        , ...,  61.        ,\n         38.        , 129.        ],\n       [  0.47487524,   0.80112521, 131.        , ...,  71.        ,\n         37.        , 101.        ],\n       [  0.47467781,   0.80851758, 153.        , ...,  71.        ,\n         30.        , 118.        ]])"
     },
     "execution_count": 133,
     "metadata": {},
     "output_type": "execute_result"
    }
   ],
   "source": [
    "nunn_simulated = simulate_stats(simulation_dataset, 10000)\n",
    "nunn_simulated"
   ],
   "metadata": {
    "collapsed": false,
    "pycharm": {
     "name": "#%%\n"
    }
   }
  },
  {
   "cell_type": "code",
   "execution_count": 63,
   "outputs": [],
   "source": [
    "crabbe = af.team_9cat_average_stats(af.CRABBEHERBYTHEPUSSY, league)\n",
    "crabbe.drop(\"PLAYER\", axis=1, inplace=True)\n",
    "crabbe.drop(\"mean\", inplace=True)\n",
    "crabbe = crabbe.apply(pd.to_numeric)"
   ],
   "metadata": {
    "collapsed": false,
    "pycharm": {
     "name": "#%%\n"
    }
   }
  },
  {
   "cell_type": "code",
   "execution_count": 65,
   "outputs": [],
   "source": [
    "crabbe_simulated = simulate_stats(crabbe, 100000)"
   ],
   "metadata": {
    "collapsed": false,
    "pycharm": {
     "name": "#%%\n"
    }
   }
  },
  {
   "cell_type": "code",
   "execution_count": 68,
   "outputs": [
    {
     "data": {
      "text/plain": "array([26.314, 45.202, 71.874, 68.78 , 28.811, 87.807, 60.133,  4.706,\n       42.451])"
     },
     "execution_count": 68,
     "metadata": {},
     "output_type": "execute_result"
    }
   ],
   "source": [
    "perc_win = ((nunn_simulated > crabbe_simulated).sum(axis=0)\n",
    "            / 100000 * 100)\n",
    "perc_win"
   ],
   "metadata": {
    "collapsed": false,
    "pycharm": {
     "name": "#%%\n"
    }
   }
  },
  {
   "cell_type": "code",
   "execution_count": 71,
   "outputs": [
    {
     "data": {
      "text/plain": "        WinProb\nFG_PCT   26.314\nFT_PCT   45.202\nFG3M     71.874\nPTS      68.780\nREB      28.811\nAST      87.807\nSTL      60.133\nBLK       4.706\nTOV      57.549",
      "text/html": "<div>\n<style scoped>\n    .dataframe tbody tr th:only-of-type {\n        vertical-align: middle;\n    }\n\n    .dataframe tbody tr th {\n        vertical-align: top;\n    }\n\n    .dataframe thead th {\n        text-align: right;\n    }\n</style>\n<table border=\"1\" class=\"dataframe\">\n  <thead>\n    <tr style=\"text-align: right;\">\n      <th></th>\n      <th>WinProb</th>\n    </tr>\n  </thead>\n  <tbody>\n    <tr>\n      <th>FG_PCT</th>\n      <td>26.314</td>\n    </tr>\n    <tr>\n      <th>FT_PCT</th>\n      <td>45.202</td>\n    </tr>\n    <tr>\n      <th>FG3M</th>\n      <td>71.874</td>\n    </tr>\n    <tr>\n      <th>PTS</th>\n      <td>68.780</td>\n    </tr>\n    <tr>\n      <th>REB</th>\n      <td>28.811</td>\n    </tr>\n    <tr>\n      <th>AST</th>\n      <td>87.807</td>\n    </tr>\n    <tr>\n      <th>STL</th>\n      <td>60.133</td>\n    </tr>\n    <tr>\n      <th>BLK</th>\n      <td>4.706</td>\n    </tr>\n    <tr>\n      <th>TOV</th>\n      <td>57.549</td>\n    </tr>\n  </tbody>\n</table>\n</div>"
     },
     "execution_count": 71,
     "metadata": {},
     "output_type": "execute_result"
    }
   ],
   "source": [
    "perc_win_df = pd.DataFrame(perc_win,\n",
    "                           index=gaussian_stats + poison_stats,\n",
    "                           columns=['WinProb'])\n",
    "perc_win_df.loc['TOV'] = 100 - perc_win_df.loc['TOV']\n",
    "perc_win_df\n"
   ],
   "metadata": {
    "collapsed": false,
    "pycharm": {
     "name": "#%%\n"
    }
   }
  },
  {
   "cell_type": "code",
   "execution_count": 7,
   "outputs": [],
   "source": [
    "gaussian_stats = ['FG_PCT', 'FT_PCT']\n",
    "poison_stats = ['FG3M', 'PTS', 'REB', 'AST', 'STL', 'BLK', 'TOV']\n",
    "\n",
    "def matchup_simulation(team1_dict, team2_dict, n_reps=100000, week=\"current\"):\n",
    "    \"\"\"\n",
    "\n",
    "    @param team1_dict:\n",
    "    @param team2_dict:\n",
    "    @param n_reps:\n",
    "    @return:\n",
    "    \"\"\"\n",
    "    team1_simulation_dataset = make_simulation_dataset(team1_dict, week=week)\n",
    "    team2_simulation_dataset = make_simulation_dataset(team2_dict, week=week)\n",
    "    team1_sim_stats = simulate_stats(team1_simulation_dataset, n_reps)\n",
    "    team2_sim_stats = simulate_stats(team2_simulation_dataset, n_reps)\n",
    "    perc_win = ((team1_sim_stats > team2_sim_stats).sum(axis=0)\n",
    "                / n_reps * 100)\n",
    "    perc_win_df = pd.DataFrame(perc_win,\n",
    "                               index=gaussian_stats + poison_stats,\n",
    "                               columns=['WinProb'])\n",
    "    perc_win_df.loc['TOV'] = 100 - perc_win_df.loc['TOV']\n",
    "    return perc_win_df"
   ],
   "metadata": {
    "collapsed": false,
    "pycharm": {
     "name": "#%%\n"
    }
   }
  },
  {
   "cell_type": "code",
   "execution_count": 35,
   "outputs": [
    {
     "name": "stderr",
     "output_type": "stream",
     "text": [
      "[2021-03-09 20:14:40,711 DEBUG] [yahoo_oauth.oauth.__init__] Checking \n",
      "[2021-03-09 20:14:40,713 DEBUG] [yahoo_oauth.oauth.token_is_valid] ELAPSED TIME : 1498.0572264194489\n",
      "[2021-03-09 20:14:40,714 DEBUG] [yahoo_oauth.oauth.token_is_valid] TOKEN IS STILL VALID\n",
      "[2021-03-09 20:15:43,786 DEBUG] [yahoo_oauth.oauth.__init__] Checking \n",
      "[2021-03-09 20:15:43,788 DEBUG] [yahoo_oauth.oauth.token_is_valid] ELAPSED TIME : 1561.1318709850311\n",
      "[2021-03-09 20:15:43,789 DEBUG] [yahoo_oauth.oauth.token_is_valid] TOKEN IS STILL VALID\n",
      "[2021-03-09 20:15:51,139 DEBUG] [yahoo_oauth.oauth.__init__] Checking \n",
      "[2021-03-09 20:15:51,142 DEBUG] [yahoo_oauth.oauth.token_is_valid] ELAPSED TIME : 1568.4858796596527\n",
      "[2021-03-09 20:15:51,143 DEBUG] [yahoo_oauth.oauth.token_is_valid] TOKEN IS STILL VALID\n",
      "[2021-03-09 20:15:52,302 DEBUG] [yahoo_oauth.oauth.__init__] Checking \n",
      "[2021-03-09 20:15:52,307 DEBUG] [yahoo_oauth.oauth.token_is_valid] ELAPSED TIME : 1569.6508402824402\n",
      "[2021-03-09 20:15:52,309 DEBUG] [yahoo_oauth.oauth.token_is_valid] TOKEN IS STILL VALID\n",
      "[2021-03-09 20:15:55,616 DEBUG] [yahoo_oauth.oauth.__init__] Checking \n",
      "[2021-03-09 20:15:55,619 DEBUG] [yahoo_oauth.oauth.token_is_valid] ELAPSED TIME : 1572.963548898697\n",
      "[2021-03-09 20:15:55,620 DEBUG] [yahoo_oauth.oauth.token_is_valid] TOKEN IS STILL VALID\n",
      "[2021-03-09 20:15:56,556 DEBUG] [yahoo_oauth.oauth.__init__] Checking \n",
      "[2021-03-09 20:15:56,559 DEBUG] [yahoo_oauth.oauth.token_is_valid] ELAPSED TIME : 1573.9027588367462\n",
      "[2021-03-09 20:15:56,559 DEBUG] [yahoo_oauth.oauth.token_is_valid] TOKEN IS STILL VALID\n",
      "[2021-03-09 20:15:57,466 DEBUG] [yahoo_oauth.oauth.__init__] Checking \n",
      "[2021-03-09 20:15:57,469 DEBUG] [yahoo_oauth.oauth.token_is_valid] ELAPSED TIME : 1574.8131742477417\n",
      "[2021-03-09 20:15:57,469 DEBUG] [yahoo_oauth.oauth.token_is_valid] TOKEN IS STILL VALID\n",
      "[2021-03-09 20:15:58,413 DEBUG] [yahoo_oauth.oauth.__init__] Checking \n",
      "[2021-03-09 20:15:58,417 DEBUG] [yahoo_oauth.oauth.token_is_valid] ELAPSED TIME : 1575.7611572742462\n",
      "[2021-03-09 20:15:58,417 DEBUG] [yahoo_oauth.oauth.token_is_valid] TOKEN IS STILL VALID\n",
      "[2021-03-09 20:15:59,358 DEBUG] [yahoo_oauth.oauth.__init__] Checking \n",
      "[2021-03-09 20:15:59,363 DEBUG] [yahoo_oauth.oauth.token_is_valid] ELAPSED TIME : 1576.706716299057\n",
      "[2021-03-09 20:15:59,364 DEBUG] [yahoo_oauth.oauth.token_is_valid] TOKEN IS STILL VALID\n",
      "[2021-03-09 20:16:00,387 DEBUG] [yahoo_oauth.oauth.__init__] Checking \n",
      "[2021-03-09 20:16:00,391 DEBUG] [yahoo_oauth.oauth.token_is_valid] ELAPSED TIME : 1577.7354638576508\n",
      "[2021-03-09 20:16:00,392 DEBUG] [yahoo_oauth.oauth.token_is_valid] TOKEN IS STILL VALID\n",
      "[2021-03-09 20:16:01,307 DEBUG] [yahoo_oauth.oauth.__init__] Checking \n",
      "[2021-03-09 20:16:01,310 DEBUG] [yahoo_oauth.oauth.token_is_valid] ELAPSED TIME : 1578.6537494659424\n",
      "[2021-03-09 20:16:01,311 DEBUG] [yahoo_oauth.oauth.token_is_valid] TOKEN IS STILL VALID\n",
      "[2021-03-09 20:16:02,258 DEBUG] [yahoo_oauth.oauth.__init__] Checking \n",
      "[2021-03-09 20:16:02,261 DEBUG] [yahoo_oauth.oauth.token_is_valid] ELAPSED TIME : 1579.6052963733673\n",
      "[2021-03-09 20:16:02,261 DEBUG] [yahoo_oauth.oauth.token_is_valid] TOKEN IS STILL VALID\n",
      "[2021-03-09 20:16:03,239 DEBUG] [yahoo_oauth.oauth.__init__] Checking \n",
      "[2021-03-09 20:16:03,244 DEBUG] [yahoo_oauth.oauth.token_is_valid] ELAPSED TIME : 1580.5878927707672\n",
      "[2021-03-09 20:16:03,245 DEBUG] [yahoo_oauth.oauth.token_is_valid] TOKEN IS STILL VALID\n",
      "[2021-03-09 20:16:04,232 DEBUG] [yahoo_oauth.oauth.__init__] Checking \n",
      "[2021-03-09 20:16:04,235 DEBUG] [yahoo_oauth.oauth.token_is_valid] ELAPSED TIME : 1581.579209804535\n",
      "[2021-03-09 20:16:04,236 DEBUG] [yahoo_oauth.oauth.token_is_valid] TOKEN IS STILL VALID\n",
      "[2021-03-09 20:16:05,225 DEBUG] [yahoo_oauth.oauth.__init__] Checking \n",
      "[2021-03-09 20:16:05,227 DEBUG] [yahoo_oauth.oauth.token_is_valid] ELAPSED TIME : 1582.571064710617\n",
      "[2021-03-09 20:16:05,228 DEBUG] [yahoo_oauth.oauth.token_is_valid] TOKEN IS STILL VALID\n",
      "[2021-03-09 20:16:06,139 DEBUG] [yahoo_oauth.oauth.__init__] Checking \n",
      "[2021-03-09 20:16:06,143 DEBUG] [yahoo_oauth.oauth.token_is_valid] ELAPSED TIME : 1583.4870722293854\n",
      "[2021-03-09 20:16:06,144 DEBUG] [yahoo_oauth.oauth.token_is_valid] TOKEN IS STILL VALID\n",
      "[2021-03-09 20:16:07,086 DEBUG] [yahoo_oauth.oauth.__init__] Checking \n",
      "[2021-03-09 20:16:07,089 DEBUG] [yahoo_oauth.oauth.token_is_valid] ELAPSED TIME : 1584.4331488609314\n",
      "[2021-03-09 20:16:07,090 DEBUG] [yahoo_oauth.oauth.token_is_valid] TOKEN IS STILL VALID\n",
      "[2021-03-09 20:16:08,101 DEBUG] [yahoo_oauth.oauth.__init__] Checking \n",
      "[2021-03-09 20:16:08,110 DEBUG] [yahoo_oauth.oauth.token_is_valid] ELAPSED TIME : 1585.454102754593\n",
      "[2021-03-09 20:16:08,112 DEBUG] [yahoo_oauth.oauth.token_is_valid] TOKEN IS STILL VALID\n",
      "[2021-03-09 20:16:09,079 DEBUG] [yahoo_oauth.oauth.__init__] Checking \n",
      "[2021-03-09 20:16:09,082 DEBUG] [yahoo_oauth.oauth.token_is_valid] ELAPSED TIME : 1586.4257531166077\n",
      "[2021-03-09 20:16:09,083 DEBUG] [yahoo_oauth.oauth.token_is_valid] TOKEN IS STILL VALID\n",
      "[2021-03-09 20:17:03,382 DEBUG] [yahoo_oauth.oauth.__init__] Checking \n",
      "[2021-03-09 20:17:03,385 DEBUG] [yahoo_oauth.oauth.token_is_valid] ELAPSED TIME : 1640.7286126613617\n",
      "[2021-03-09 20:17:03,386 DEBUG] [yahoo_oauth.oauth.token_is_valid] TOKEN IS STILL VALID\n",
      "[2021-03-09 20:17:09,328 DEBUG] [yahoo_oauth.oauth.__init__] Checking \n",
      "[2021-03-09 20:17:09,331 DEBUG] [yahoo_oauth.oauth.token_is_valid] ELAPSED TIME : 1646.6754648685455\n",
      "[2021-03-09 20:17:09,332 DEBUG] [yahoo_oauth.oauth.token_is_valid] TOKEN IS STILL VALID\n",
      "[2021-03-09 20:17:10,301 DEBUG] [yahoo_oauth.oauth.__init__] Checking \n",
      "[2021-03-09 20:17:10,303 DEBUG] [yahoo_oauth.oauth.token_is_valid] ELAPSED TIME : 1647.6475775241852\n",
      "[2021-03-09 20:17:10,304 DEBUG] [yahoo_oauth.oauth.token_is_valid] TOKEN IS STILL VALID\n",
      "[2021-03-09 20:17:11,262 DEBUG] [yahoo_oauth.oauth.__init__] Checking \n",
      "[2021-03-09 20:17:11,266 DEBUG] [yahoo_oauth.oauth.token_is_valid] ELAPSED TIME : 1648.6097116470337\n",
      "[2021-03-09 20:17:11,267 DEBUG] [yahoo_oauth.oauth.token_is_valid] TOKEN IS STILL VALID\n",
      "[2021-03-09 20:17:12,184 DEBUG] [yahoo_oauth.oauth.__init__] Checking \n",
      "[2021-03-09 20:17:12,188 DEBUG] [yahoo_oauth.oauth.token_is_valid] ELAPSED TIME : 1649.532063484192\n",
      "[2021-03-09 20:17:12,188 DEBUG] [yahoo_oauth.oauth.token_is_valid] TOKEN IS STILL VALID\n",
      "[2021-03-09 20:17:13,200 DEBUG] [yahoo_oauth.oauth.__init__] Checking \n",
      "[2021-03-09 20:17:13,203 DEBUG] [yahoo_oauth.oauth.token_is_valid] ELAPSED TIME : 1650.5470652580261\n",
      "[2021-03-09 20:17:13,204 DEBUG] [yahoo_oauth.oauth.token_is_valid] TOKEN IS STILL VALID\n",
      "[2021-03-09 20:17:14,212 DEBUG] [yahoo_oauth.oauth.__init__] Checking \n",
      "[2021-03-09 20:17:14,215 DEBUG] [yahoo_oauth.oauth.token_is_valid] ELAPSED TIME : 1651.5588965415955\n",
      "[2021-03-09 20:17:14,216 DEBUG] [yahoo_oauth.oauth.token_is_valid] TOKEN IS STILL VALID\n",
      "[2021-03-09 20:17:15,188 DEBUG] [yahoo_oauth.oauth.__init__] Checking \n",
      "[2021-03-09 20:17:15,191 DEBUG] [yahoo_oauth.oauth.token_is_valid] ELAPSED TIME : 1652.53551197052\n",
      "[2021-03-09 20:17:15,191 DEBUG] [yahoo_oauth.oauth.token_is_valid] TOKEN IS STILL VALID\n",
      "[2021-03-09 20:17:16,166 DEBUG] [yahoo_oauth.oauth.__init__] Checking \n",
      "[2021-03-09 20:17:16,170 DEBUG] [yahoo_oauth.oauth.token_is_valid] ELAPSED TIME : 1653.5136604309082\n",
      "[2021-03-09 20:17:16,171 DEBUG] [yahoo_oauth.oauth.token_is_valid] TOKEN IS STILL VALID\n",
      "[2021-03-09 20:17:17,102 DEBUG] [yahoo_oauth.oauth.__init__] Checking \n",
      "[2021-03-09 20:17:17,104 DEBUG] [yahoo_oauth.oauth.token_is_valid] ELAPSED TIME : 1654.447808265686\n",
      "[2021-03-09 20:17:17,105 DEBUG] [yahoo_oauth.oauth.token_is_valid] TOKEN IS STILL VALID\n",
      "[2021-03-09 20:17:18,149 DEBUG] [yahoo_oauth.oauth.__init__] Checking \n",
      "[2021-03-09 20:17:18,153 DEBUG] [yahoo_oauth.oauth.token_is_valid] ELAPSED TIME : 1655.496874332428\n",
      "[2021-03-09 20:17:18,154 DEBUG] [yahoo_oauth.oauth.token_is_valid] TOKEN IS STILL VALID\n",
      "[2021-03-09 20:17:19,104 DEBUG] [yahoo_oauth.oauth.__init__] Checking \n",
      "[2021-03-09 20:17:19,106 DEBUG] [yahoo_oauth.oauth.token_is_valid] ELAPSED TIME : 1656.450330734253\n",
      "[2021-03-09 20:17:19,107 DEBUG] [yahoo_oauth.oauth.token_is_valid] TOKEN IS STILL VALID\n",
      "[2021-03-09 20:17:20,052 DEBUG] [yahoo_oauth.oauth.__init__] Checking \n",
      "[2021-03-09 20:17:20,056 DEBUG] [yahoo_oauth.oauth.token_is_valid] ELAPSED TIME : 1657.4001162052155\n",
      "[2021-03-09 20:17:20,057 DEBUG] [yahoo_oauth.oauth.token_is_valid] TOKEN IS STILL VALID\n",
      "[2021-03-09 20:17:21,124 DEBUG] [yahoo_oauth.oauth.__init__] Checking \n",
      "[2021-03-09 20:17:21,127 DEBUG] [yahoo_oauth.oauth.token_is_valid] ELAPSED TIME : 1658.4711179733276\n",
      "[2021-03-09 20:17:21,127 DEBUG] [yahoo_oauth.oauth.token_is_valid] TOKEN IS STILL VALID\n",
      "[2021-03-09 20:17:22,028 DEBUG] [yahoo_oauth.oauth.__init__] Checking \n",
      "[2021-03-09 20:17:22,031 DEBUG] [yahoo_oauth.oauth.token_is_valid] ELAPSED TIME : 1659.3746514320374\n",
      "[2021-03-09 20:17:22,032 DEBUG] [yahoo_oauth.oauth.token_is_valid] TOKEN IS STILL VALID\n",
      "[2021-03-09 20:17:23,016 DEBUG] [yahoo_oauth.oauth.__init__] Checking \n",
      "[2021-03-09 20:17:23,019 DEBUG] [yahoo_oauth.oauth.token_is_valid] ELAPSED TIME : 1660.3627669811249\n",
      "[2021-03-09 20:17:23,021 DEBUG] [yahoo_oauth.oauth.token_is_valid] TOKEN IS STILL VALID\n",
      "[2021-03-09 20:17:23,946 DEBUG] [yahoo_oauth.oauth.__init__] Checking \n",
      "[2021-03-09 20:17:23,949 DEBUG] [yahoo_oauth.oauth.token_is_valid] ELAPSED TIME : 1661.2932364940643\n",
      "[2021-03-09 20:17:23,950 DEBUG] [yahoo_oauth.oauth.token_is_valid] TOKEN IS STILL VALID\n"
     ]
    }
   ],
   "source": [
    "simulated_cats = matchup_simulation(af.NUNN_OF_YALL_BETTA, af.RUSTY_CUNTBROOKS, n_reps=100000,\n",
    "                                    week=\"current\")"
   ],
   "metadata": {
    "collapsed": false,
    "pycharm": {
     "name": "#%%\n"
    }
   }
  },
  {
   "cell_type": "code",
   "execution_count": 36,
   "outputs": [
    {
     "data": {
      "text/plain": "         FG_PCT  FT_PCT    FG3M     PTS     REB     AST   STL   BLK     TOV\nWinProb   5.508  98.851  98.589  71.982  36.807  86.778  28.1  1.74  72.537",
      "text/html": "<div>\n<style scoped>\n    .dataframe tbody tr th:only-of-type {\n        vertical-align: middle;\n    }\n\n    .dataframe tbody tr th {\n        vertical-align: top;\n    }\n\n    .dataframe thead th {\n        text-align: right;\n    }\n</style>\n<table border=\"1\" class=\"dataframe\">\n  <thead>\n    <tr style=\"text-align: right;\">\n      <th></th>\n      <th>FG_PCT</th>\n      <th>FT_PCT</th>\n      <th>FG3M</th>\n      <th>PTS</th>\n      <th>REB</th>\n      <th>AST</th>\n      <th>STL</th>\n      <th>BLK</th>\n      <th>TOV</th>\n    </tr>\n  </thead>\n  <tbody>\n    <tr>\n      <th>WinProb</th>\n      <td>5.508</td>\n      <td>98.851</td>\n      <td>98.589</td>\n      <td>71.982</td>\n      <td>36.807</td>\n      <td>86.778</td>\n      <td>28.1</td>\n      <td>1.74</td>\n      <td>72.537</td>\n    </tr>\n  </tbody>\n</table>\n</div>"
     },
     "execution_count": 36,
     "metadata": {},
     "output_type": "execute_result"
    }
   ],
   "source": [
    "simulated_cats.T"
   ],
   "metadata": {
    "collapsed": false,
    "pycharm": {
     "name": "#%%\n"
    }
   }
  },
  {
   "cell_type": "code",
   "execution_count": 37,
   "outputs": [
    {
     "data": {
      "text/plain": "         FG_PCT  FT_PCT    FG3M     PTS     REB     AST   STL   BLK     TOV\nWinProb   5.508  98.851  98.589  71.982  36.807  86.778  28.1  1.74  72.537",
      "text/html": "<div>\n<style scoped>\n    .dataframe tbody tr th:only-of-type {\n        vertical-align: middle;\n    }\n\n    .dataframe tbody tr th {\n        vertical-align: top;\n    }\n\n    .dataframe thead th {\n        text-align: right;\n    }\n</style>\n<table border=\"1\" class=\"dataframe\">\n  <thead>\n    <tr style=\"text-align: right;\">\n      <th></th>\n      <th>FG_PCT</th>\n      <th>FT_PCT</th>\n      <th>FG3M</th>\n      <th>PTS</th>\n      <th>REB</th>\n      <th>AST</th>\n      <th>STL</th>\n      <th>BLK</th>\n      <th>TOV</th>\n    </tr>\n  </thead>\n  <tbody>\n    <tr>\n      <th>WinProb</th>\n      <td>5.508</td>\n      <td>98.851</td>\n      <td>98.589</td>\n      <td>71.982</td>\n      <td>36.807</td>\n      <td>86.778</td>\n      <td>28.1</td>\n      <td>1.74</td>\n      <td>72.537</td>\n    </tr>\n  </tbody>\n</table>\n</div>"
     },
     "execution_count": 37,
     "metadata": {},
     "output_type": "execute_result"
    }
   ],
   "source": [
    "simulated_cats.T"
   ],
   "metadata": {
    "collapsed": false,
    "pycharm": {
     "name": "#%%\n"
    }
   }
  },
  {
   "cell_type": "code",
   "execution_count": 68,
   "outputs": [
    {
     "name": "stderr",
     "output_type": "stream",
     "text": [
      "[2021-03-09 20:39:26,213 DEBUG] [yahoo_oauth.oauth.__init__] Checking \n",
      "[2021-03-09 20:39:26,215 DEBUG] [yahoo_oauth.oauth.token_is_valid] ELAPSED TIME : 2983.5594432353973\n",
      "[2021-03-09 20:39:26,217 DEBUG] [yahoo_oauth.oauth.token_is_valid] TOKEN IS STILL VALID\n"
     ]
    }
   ],
   "source": [
    "sc = af.yahoo_fantasy_api_authentication()\n",
    "league = af.yahoo_fantasy_league(sc)\n"
   ],
   "metadata": {
    "collapsed": false,
    "pycharm": {
     "name": "#%%\n"
    }
   }
  },
  {
   "cell_type": "code",
   "execution_count": 20,
   "outputs": [],
   "source": [
    "# Single team roster\n",
    "tm = league.to_team('402.l.55374.t.6')\n",
    "roster = tm.roster()\n"
   ],
   "metadata": {
    "collapsed": false,
    "pycharm": {
     "name": "#%%\n"
    }
   }
  },
  {
   "cell_type": "code",
   "execution_count": 41,
   "outputs": [],
   "source": [
    "required_fields = [\"name\", \"status\"]\n",
    "player_name_list = list()\n",
    "player_status_list = list()\n",
    "for n in range(len(roster)):\n",
    "    player_status_dict = {key:value for key, value in roster[n].items() if key in required_fields}\n",
    "    player_name_list.append(player_status_dict[\"name\"])\n",
    "    player_status_list.append(player_status_dict[\"status\"])"
   ],
   "metadata": {
    "collapsed": false,
    "pycharm": {
     "name": "#%%\n"
    }
   }
  },
  {
   "cell_type": "code",
   "execution_count": 42,
   "outputs": [],
   "source": [
    "player_status_dataframe = pd.DataFrame(columns=[\"PLAYER\", \"status\"])\n",
    "player_status_dataframe[\"PLAYER\"] = player_name_list\n",
    "player_status_dataframe[\"status\"] = player_status_list"
   ],
   "metadata": {
    "collapsed": false,
    "pycharm": {
     "name": "#%%\n"
    }
   }
  },
  {
   "cell_type": "code",
   "execution_count": 43,
   "outputs": [
    {
     "data": {
      "text/plain": "                PLAYER status\n0      Malcolm Brogdon       \n1      Duncan Robinson       \n2          Patty Mills       \n3       Gary Trent Jr.       \n4          Jae Crowder       \n5          Jeremy Lamb       \n6          Enes Kanter       \n7         Nikola Jokic       \n8      Cameron Johnson    INJ\n9         Jimmy Butler       \n10  Wendell Carter Jr.       \n11          Kyle Kuzma       \n12        Marcus Smart    INJ\n13     Khris Middleton       \n14       Pascal Siakam    INJ",
      "text/html": "<div>\n<style scoped>\n    .dataframe tbody tr th:only-of-type {\n        vertical-align: middle;\n    }\n\n    .dataframe tbody tr th {\n        vertical-align: top;\n    }\n\n    .dataframe thead th {\n        text-align: right;\n    }\n</style>\n<table border=\"1\" class=\"dataframe\">\n  <thead>\n    <tr style=\"text-align: right;\">\n      <th></th>\n      <th>PLAYER</th>\n      <th>status</th>\n    </tr>\n  </thead>\n  <tbody>\n    <tr>\n      <th>0</th>\n      <td>Malcolm Brogdon</td>\n      <td></td>\n    </tr>\n    <tr>\n      <th>1</th>\n      <td>Duncan Robinson</td>\n      <td></td>\n    </tr>\n    <tr>\n      <th>2</th>\n      <td>Patty Mills</td>\n      <td></td>\n    </tr>\n    <tr>\n      <th>3</th>\n      <td>Gary Trent Jr.</td>\n      <td></td>\n    </tr>\n    <tr>\n      <th>4</th>\n      <td>Jae Crowder</td>\n      <td></td>\n    </tr>\n    <tr>\n      <th>5</th>\n      <td>Jeremy Lamb</td>\n      <td></td>\n    </tr>\n    <tr>\n      <th>6</th>\n      <td>Enes Kanter</td>\n      <td></td>\n    </tr>\n    <tr>\n      <th>7</th>\n      <td>Nikola Jokic</td>\n      <td></td>\n    </tr>\n    <tr>\n      <th>8</th>\n      <td>Cameron Johnson</td>\n      <td>INJ</td>\n    </tr>\n    <tr>\n      <th>9</th>\n      <td>Jimmy Butler</td>\n      <td></td>\n    </tr>\n    <tr>\n      <th>10</th>\n      <td>Wendell Carter Jr.</td>\n      <td></td>\n    </tr>\n    <tr>\n      <th>11</th>\n      <td>Kyle Kuzma</td>\n      <td></td>\n    </tr>\n    <tr>\n      <th>12</th>\n      <td>Marcus Smart</td>\n      <td>INJ</td>\n    </tr>\n    <tr>\n      <th>13</th>\n      <td>Khris Middleton</td>\n      <td></td>\n    </tr>\n    <tr>\n      <th>14</th>\n      <td>Pascal Siakam</td>\n      <td>INJ</td>\n    </tr>\n  </tbody>\n</table>\n</div>"
     },
     "execution_count": 43,
     "metadata": {},
     "output_type": "execute_result"
    }
   ],
   "source": [
    "player_status_dataframe"
   ],
   "metadata": {
    "collapsed": false,
    "pycharm": {
     "name": "#%%\n"
    }
   }
  },
  {
   "cell_type": "code",
   "execution_count": 34,
   "outputs": [],
   "source": [
    "team_9cat_averages = af.team_9cat_average_stats(af.NUNN_OF_YALL_BETTA, league)"
   ],
   "metadata": {
    "collapsed": false,
    "pycharm": {
     "name": "#%%\n"
    }
   }
  },
  {
   "cell_type": "code",
   "execution_count": 45,
   "outputs": [
    {
     "data": {
      "text/plain": "                PLAYER FG_PCT FT_PCT  FG3M    PTS    REB   AST   STL   BLK  \\\n0      Malcolm Brogdon  0.447  0.897  2.41  21.21   4.65  6.24  1.18  0.24   \n1      Duncan Robinson  0.429  0.840  3.25  12.81   3.94  1.61  0.47  0.22   \n2          Patty Mills  0.448  0.900  2.75  13.31   1.81  2.66  0.62  0.03   \n3       Gary Trent Jr.  0.423  0.778  3.06  15.21   2.15  1.48  0.76  0.15   \n4          Jae Crowder  0.402  0.829  2.41  10.12   5.00  2.12  0.84  0.25   \n5          Jeremy Lamb  0.473  0.941  1.62  11.33   3.71  1.62  0.86  0.52   \n6          Enes Kanter  0.594  0.750  0.00  11.91  11.86  1.14  0.51  0.74   \n7         Nikola Jokic  0.567  0.881  1.56  27.14  11.03  8.58  1.61  0.64   \n8      Cameron Johnson  0.437  0.865  2.15  10.44   3.38  1.35  0.65  0.29   \n9         Jimmy Butler  0.454  0.863  0.36  20.55   7.55  7.82  1.91  0.36   \n10  Wendell Carter Jr.  0.535  0.733  0.30  12.26   7.78  2.26  0.70  0.83   \n11          Kyle Kuzma  0.444  0.632  1.81  11.47   6.67  1.14  0.39  0.64   \n12        Marcus Smart  0.394  0.742  1.65  13.06   2.76  6.06  1.82  0.53   \n13     Khris Middleton  0.495  0.884  2.31  20.58   6.14  5.72  1.11  0.17   \n14       Pascal Siakam  0.453  0.819  1.20  20.07   7.47  4.77  1.17  0.70   \n\n     TOV status  \n0   2.09         \n1   1.33         \n2   1.06         \n3   0.73         \n4   0.91         \n5   0.76         \n6   1.17         \n7   3.17         \n8   0.76    INJ  \n9   2.32         \n10  1.87         \n11  1.50         \n12  1.76    INJ  \n13  2.61         \n14  2.17    INJ  ",
      "text/html": "<div>\n<style scoped>\n    .dataframe tbody tr th:only-of-type {\n        vertical-align: middle;\n    }\n\n    .dataframe tbody tr th {\n        vertical-align: top;\n    }\n\n    .dataframe thead th {\n        text-align: right;\n    }\n</style>\n<table border=\"1\" class=\"dataframe\">\n  <thead>\n    <tr style=\"text-align: right;\">\n      <th></th>\n      <th>PLAYER</th>\n      <th>FG_PCT</th>\n      <th>FT_PCT</th>\n      <th>FG3M</th>\n      <th>PTS</th>\n      <th>REB</th>\n      <th>AST</th>\n      <th>STL</th>\n      <th>BLK</th>\n      <th>TOV</th>\n      <th>status</th>\n    </tr>\n  </thead>\n  <tbody>\n    <tr>\n      <th>0</th>\n      <td>Malcolm Brogdon</td>\n      <td>0.447</td>\n      <td>0.897</td>\n      <td>2.41</td>\n      <td>21.21</td>\n      <td>4.65</td>\n      <td>6.24</td>\n      <td>1.18</td>\n      <td>0.24</td>\n      <td>2.09</td>\n      <td></td>\n    </tr>\n    <tr>\n      <th>1</th>\n      <td>Duncan Robinson</td>\n      <td>0.429</td>\n      <td>0.840</td>\n      <td>3.25</td>\n      <td>12.81</td>\n      <td>3.94</td>\n      <td>1.61</td>\n      <td>0.47</td>\n      <td>0.22</td>\n      <td>1.33</td>\n      <td></td>\n    </tr>\n    <tr>\n      <th>2</th>\n      <td>Patty Mills</td>\n      <td>0.448</td>\n      <td>0.900</td>\n      <td>2.75</td>\n      <td>13.31</td>\n      <td>1.81</td>\n      <td>2.66</td>\n      <td>0.62</td>\n      <td>0.03</td>\n      <td>1.06</td>\n      <td></td>\n    </tr>\n    <tr>\n      <th>3</th>\n      <td>Gary Trent Jr.</td>\n      <td>0.423</td>\n      <td>0.778</td>\n      <td>3.06</td>\n      <td>15.21</td>\n      <td>2.15</td>\n      <td>1.48</td>\n      <td>0.76</td>\n      <td>0.15</td>\n      <td>0.73</td>\n      <td></td>\n    </tr>\n    <tr>\n      <th>4</th>\n      <td>Jae Crowder</td>\n      <td>0.402</td>\n      <td>0.829</td>\n      <td>2.41</td>\n      <td>10.12</td>\n      <td>5.00</td>\n      <td>2.12</td>\n      <td>0.84</td>\n      <td>0.25</td>\n      <td>0.91</td>\n      <td></td>\n    </tr>\n    <tr>\n      <th>5</th>\n      <td>Jeremy Lamb</td>\n      <td>0.473</td>\n      <td>0.941</td>\n      <td>1.62</td>\n      <td>11.33</td>\n      <td>3.71</td>\n      <td>1.62</td>\n      <td>0.86</td>\n      <td>0.52</td>\n      <td>0.76</td>\n      <td></td>\n    </tr>\n    <tr>\n      <th>6</th>\n      <td>Enes Kanter</td>\n      <td>0.594</td>\n      <td>0.750</td>\n      <td>0.00</td>\n      <td>11.91</td>\n      <td>11.86</td>\n      <td>1.14</td>\n      <td>0.51</td>\n      <td>0.74</td>\n      <td>1.17</td>\n      <td></td>\n    </tr>\n    <tr>\n      <th>7</th>\n      <td>Nikola Jokic</td>\n      <td>0.567</td>\n      <td>0.881</td>\n      <td>1.56</td>\n      <td>27.14</td>\n      <td>11.03</td>\n      <td>8.58</td>\n      <td>1.61</td>\n      <td>0.64</td>\n      <td>3.17</td>\n      <td></td>\n    </tr>\n    <tr>\n      <th>8</th>\n      <td>Cameron Johnson</td>\n      <td>0.437</td>\n      <td>0.865</td>\n      <td>2.15</td>\n      <td>10.44</td>\n      <td>3.38</td>\n      <td>1.35</td>\n      <td>0.65</td>\n      <td>0.29</td>\n      <td>0.76</td>\n      <td>INJ</td>\n    </tr>\n    <tr>\n      <th>9</th>\n      <td>Jimmy Butler</td>\n      <td>0.454</td>\n      <td>0.863</td>\n      <td>0.36</td>\n      <td>20.55</td>\n      <td>7.55</td>\n      <td>7.82</td>\n      <td>1.91</td>\n      <td>0.36</td>\n      <td>2.32</td>\n      <td></td>\n    </tr>\n    <tr>\n      <th>10</th>\n      <td>Wendell Carter Jr.</td>\n      <td>0.535</td>\n      <td>0.733</td>\n      <td>0.30</td>\n      <td>12.26</td>\n      <td>7.78</td>\n      <td>2.26</td>\n      <td>0.70</td>\n      <td>0.83</td>\n      <td>1.87</td>\n      <td></td>\n    </tr>\n    <tr>\n      <th>11</th>\n      <td>Kyle Kuzma</td>\n      <td>0.444</td>\n      <td>0.632</td>\n      <td>1.81</td>\n      <td>11.47</td>\n      <td>6.67</td>\n      <td>1.14</td>\n      <td>0.39</td>\n      <td>0.64</td>\n      <td>1.50</td>\n      <td></td>\n    </tr>\n    <tr>\n      <th>12</th>\n      <td>Marcus Smart</td>\n      <td>0.394</td>\n      <td>0.742</td>\n      <td>1.65</td>\n      <td>13.06</td>\n      <td>2.76</td>\n      <td>6.06</td>\n      <td>1.82</td>\n      <td>0.53</td>\n      <td>1.76</td>\n      <td>INJ</td>\n    </tr>\n    <tr>\n      <th>13</th>\n      <td>Khris Middleton</td>\n      <td>0.495</td>\n      <td>0.884</td>\n      <td>2.31</td>\n      <td>20.58</td>\n      <td>6.14</td>\n      <td>5.72</td>\n      <td>1.11</td>\n      <td>0.17</td>\n      <td>2.61</td>\n      <td></td>\n    </tr>\n    <tr>\n      <th>14</th>\n      <td>Pascal Siakam</td>\n      <td>0.453</td>\n      <td>0.819</td>\n      <td>1.20</td>\n      <td>20.07</td>\n      <td>7.47</td>\n      <td>4.77</td>\n      <td>1.17</td>\n      <td>0.70</td>\n      <td>2.17</td>\n      <td>INJ</td>\n    </tr>\n  </tbody>\n</table>\n</div>"
     },
     "execution_count": 45,
     "metadata": {},
     "output_type": "execute_result"
    }
   ],
   "source": [],
   "metadata": {
    "collapsed": false,
    "pycharm": {
     "name": "#%%\n"
    }
   }
  },
  {
   "cell_type": "code",
   "execution_count": 61,
   "outputs": [],
   "source": [
    "NAME_LOWER_COLUMN = \"name\"\n",
    "STATUS_LOWER_COLUMN = \"status\"\n",
    "\n",
    "def make_player_status_dataframe(team_dict):\n",
    "    \"\"\"\n",
    "\n",
    "    @param team_dict:\n",
    "    @return:\n",
    "    \"\"\"\n",
    "    tm = league.to_team(team_dict[TEAM_KEY])\n",
    "    roster = tm.roster()\n",
    "    required_fields = [NAME_LOWER_COLUMN, STATUS_LOWER_COLUMN]\n",
    "    player_name_list = list()\n",
    "    player_status_list = list()\n",
    "    player_status_dataframe = pd.DataFrame(columns=[PLAYER_COLUMN, STATUS_LOWER_COLUMN])\n",
    "    for n in range(len(roster)):\n",
    "        player_status_dict = {key:value for key, value in roster[n].items() if key in required_fields}\n",
    "        player_name_list.append(player_status_dict[NAME_LOWER_COLUMN])\n",
    "        player_status_list.append(player_status_dict[STATUS_LOWER_COLUMN])\n",
    "    player_status_dataframe[PLAYER_COLUMN] = player_name_list\n",
    "    player_status_dataframe[STATUS_LOWER_COLUMN] = player_status_list\n",
    "    return player_status_dataframe"
   ],
   "metadata": {
    "collapsed": false,
    "pycharm": {
     "name": "#%%\n"
    }
   }
  },
  {
   "cell_type": "code",
   "execution_count": 57,
   "outputs": [
    {
     "data": {
      "text/plain": "                PLAYER FG_PCT FT_PCT  FG3M    PTS    REB   AST   STL   BLK  \\\n0      Malcolm Brogdon  0.447  0.897  2.41  21.21   4.65  6.24  1.18  0.24   \n1      Duncan Robinson  0.429  0.840  3.25  12.81   3.94  1.61  0.47  0.22   \n2          Patty Mills  0.448  0.900  2.75  13.31   1.81  2.66  0.62  0.03   \n3       Gary Trent Jr.  0.423  0.778  3.06  15.21   2.15  1.48  0.76  0.15   \n4          Jae Crowder  0.402  0.829  2.41  10.12   5.00  2.12  0.84  0.25   \n5          Jeremy Lamb  0.473  0.941  1.62  11.33   3.71  1.62  0.86  0.52   \n6          Enes Kanter  0.594  0.750  0.00  11.91  11.86  1.14  0.51  0.74   \n7         Nikola Jokic  0.567  0.881  1.56  27.14  11.03  8.58  1.61  0.64   \n8      Cameron Johnson  0.437  0.865  2.15  10.44   3.38  1.35  0.65  0.29   \n9         Jimmy Butler  0.454  0.863  0.36  20.55   7.55  7.82  1.91  0.36   \n10  Wendell Carter Jr.  0.535  0.733  0.30  12.26   7.78  2.26  0.70  0.83   \n11          Kyle Kuzma  0.444  0.632  1.81  11.47   6.67  1.14  0.39  0.64   \n12        Marcus Smart  0.394  0.742  1.65  13.06   2.76  6.06  1.82  0.53   \n13     Khris Middleton  0.495  0.884  2.31  20.58   6.14  5.72  1.11  0.17   \n14       Pascal Siakam  0.453  0.819  1.20  20.07   7.47  4.77  1.17  0.70   \n\n     TOV status  \n0   2.09         \n1   1.33         \n2   1.06         \n3   0.73         \n4   0.91         \n5   0.76         \n6   1.17         \n7   3.17         \n8   0.76    INJ  \n9   2.32         \n10  1.87         \n11  1.50         \n12  1.76    INJ  \n13  2.61         \n14  2.17    INJ  ",
      "text/html": "<div>\n<style scoped>\n    .dataframe tbody tr th:only-of-type {\n        vertical-align: middle;\n    }\n\n    .dataframe tbody tr th {\n        vertical-align: top;\n    }\n\n    .dataframe thead th {\n        text-align: right;\n    }\n</style>\n<table border=\"1\" class=\"dataframe\">\n  <thead>\n    <tr style=\"text-align: right;\">\n      <th></th>\n      <th>PLAYER</th>\n      <th>FG_PCT</th>\n      <th>FT_PCT</th>\n      <th>FG3M</th>\n      <th>PTS</th>\n      <th>REB</th>\n      <th>AST</th>\n      <th>STL</th>\n      <th>BLK</th>\n      <th>TOV</th>\n      <th>status</th>\n    </tr>\n  </thead>\n  <tbody>\n    <tr>\n      <th>0</th>\n      <td>Malcolm Brogdon</td>\n      <td>0.447</td>\n      <td>0.897</td>\n      <td>2.41</td>\n      <td>21.21</td>\n      <td>4.65</td>\n      <td>6.24</td>\n      <td>1.18</td>\n      <td>0.24</td>\n      <td>2.09</td>\n      <td></td>\n    </tr>\n    <tr>\n      <th>1</th>\n      <td>Duncan Robinson</td>\n      <td>0.429</td>\n      <td>0.840</td>\n      <td>3.25</td>\n      <td>12.81</td>\n      <td>3.94</td>\n      <td>1.61</td>\n      <td>0.47</td>\n      <td>0.22</td>\n      <td>1.33</td>\n      <td></td>\n    </tr>\n    <tr>\n      <th>2</th>\n      <td>Patty Mills</td>\n      <td>0.448</td>\n      <td>0.900</td>\n      <td>2.75</td>\n      <td>13.31</td>\n      <td>1.81</td>\n      <td>2.66</td>\n      <td>0.62</td>\n      <td>0.03</td>\n      <td>1.06</td>\n      <td></td>\n    </tr>\n    <tr>\n      <th>3</th>\n      <td>Gary Trent Jr.</td>\n      <td>0.423</td>\n      <td>0.778</td>\n      <td>3.06</td>\n      <td>15.21</td>\n      <td>2.15</td>\n      <td>1.48</td>\n      <td>0.76</td>\n      <td>0.15</td>\n      <td>0.73</td>\n      <td></td>\n    </tr>\n    <tr>\n      <th>4</th>\n      <td>Jae Crowder</td>\n      <td>0.402</td>\n      <td>0.829</td>\n      <td>2.41</td>\n      <td>10.12</td>\n      <td>5.00</td>\n      <td>2.12</td>\n      <td>0.84</td>\n      <td>0.25</td>\n      <td>0.91</td>\n      <td></td>\n    </tr>\n    <tr>\n      <th>5</th>\n      <td>Jeremy Lamb</td>\n      <td>0.473</td>\n      <td>0.941</td>\n      <td>1.62</td>\n      <td>11.33</td>\n      <td>3.71</td>\n      <td>1.62</td>\n      <td>0.86</td>\n      <td>0.52</td>\n      <td>0.76</td>\n      <td></td>\n    </tr>\n    <tr>\n      <th>6</th>\n      <td>Enes Kanter</td>\n      <td>0.594</td>\n      <td>0.750</td>\n      <td>0.00</td>\n      <td>11.91</td>\n      <td>11.86</td>\n      <td>1.14</td>\n      <td>0.51</td>\n      <td>0.74</td>\n      <td>1.17</td>\n      <td></td>\n    </tr>\n    <tr>\n      <th>7</th>\n      <td>Nikola Jokic</td>\n      <td>0.567</td>\n      <td>0.881</td>\n      <td>1.56</td>\n      <td>27.14</td>\n      <td>11.03</td>\n      <td>8.58</td>\n      <td>1.61</td>\n      <td>0.64</td>\n      <td>3.17</td>\n      <td></td>\n    </tr>\n    <tr>\n      <th>8</th>\n      <td>Cameron Johnson</td>\n      <td>0.437</td>\n      <td>0.865</td>\n      <td>2.15</td>\n      <td>10.44</td>\n      <td>3.38</td>\n      <td>1.35</td>\n      <td>0.65</td>\n      <td>0.29</td>\n      <td>0.76</td>\n      <td>INJ</td>\n    </tr>\n    <tr>\n      <th>9</th>\n      <td>Jimmy Butler</td>\n      <td>0.454</td>\n      <td>0.863</td>\n      <td>0.36</td>\n      <td>20.55</td>\n      <td>7.55</td>\n      <td>7.82</td>\n      <td>1.91</td>\n      <td>0.36</td>\n      <td>2.32</td>\n      <td></td>\n    </tr>\n    <tr>\n      <th>10</th>\n      <td>Wendell Carter Jr.</td>\n      <td>0.535</td>\n      <td>0.733</td>\n      <td>0.30</td>\n      <td>12.26</td>\n      <td>7.78</td>\n      <td>2.26</td>\n      <td>0.70</td>\n      <td>0.83</td>\n      <td>1.87</td>\n      <td></td>\n    </tr>\n    <tr>\n      <th>11</th>\n      <td>Kyle Kuzma</td>\n      <td>0.444</td>\n      <td>0.632</td>\n      <td>1.81</td>\n      <td>11.47</td>\n      <td>6.67</td>\n      <td>1.14</td>\n      <td>0.39</td>\n      <td>0.64</td>\n      <td>1.50</td>\n      <td></td>\n    </tr>\n    <tr>\n      <th>12</th>\n      <td>Marcus Smart</td>\n      <td>0.394</td>\n      <td>0.742</td>\n      <td>1.65</td>\n      <td>13.06</td>\n      <td>2.76</td>\n      <td>6.06</td>\n      <td>1.82</td>\n      <td>0.53</td>\n      <td>1.76</td>\n      <td>INJ</td>\n    </tr>\n    <tr>\n      <th>13</th>\n      <td>Khris Middleton</td>\n      <td>0.495</td>\n      <td>0.884</td>\n      <td>2.31</td>\n      <td>20.58</td>\n      <td>6.14</td>\n      <td>5.72</td>\n      <td>1.11</td>\n      <td>0.17</td>\n      <td>2.61</td>\n      <td></td>\n    </tr>\n    <tr>\n      <th>14</th>\n      <td>Pascal Siakam</td>\n      <td>0.453</td>\n      <td>0.819</td>\n      <td>1.20</td>\n      <td>20.07</td>\n      <td>7.47</td>\n      <td>4.77</td>\n      <td>1.17</td>\n      <td>0.70</td>\n      <td>2.17</td>\n      <td>INJ</td>\n    </tr>\n  </tbody>\n</table>\n</div>"
     },
     "execution_count": 57,
     "metadata": {},
     "output_type": "execute_result"
    }
   ],
   "source": [
    "nunn_status = make_player_status_dataframe(af.NUNN_OF_YALL_BETTA)\n",
    "combined_df = team_9cat_averages.merge(nunn_status, on=\"PLAYER\")\n",
    "combined_df"
   ],
   "metadata": {
    "collapsed": false,
    "pycharm": {
     "name": "#%%\n"
    }
   }
  },
  {
   "cell_type": "code",
   "execution_count": 52,
   "outputs": [],
   "source": [
    "STATUS_TO_REMOVE = [\"INJ\", \"O\", \"NA\"]"
   ],
   "metadata": {
    "collapsed": false,
    "pycharm": {
     "name": "#%%\n"
    }
   }
  },
  {
   "cell_type": "code",
   "execution_count": 60,
   "outputs": [
    {
     "data": {
      "text/plain": "                PLAYER FG_PCT FT_PCT  FG3M    PTS    REB   AST   STL   BLK  \\\n0      Malcolm Brogdon  0.447  0.897  2.41  21.21   4.65  6.24  1.18  0.24   \n1      Duncan Robinson  0.429  0.840  3.25  12.81   3.94  1.61  0.47  0.22   \n2          Patty Mills  0.448  0.900  2.75  13.31   1.81  2.66  0.62  0.03   \n3       Gary Trent Jr.  0.423  0.778  3.06  15.21   2.15  1.48  0.76  0.15   \n4          Jae Crowder  0.402  0.829  2.41  10.12   5.00  2.12  0.84  0.25   \n5          Jeremy Lamb  0.473  0.941  1.62  11.33   3.71  1.62  0.86  0.52   \n6          Enes Kanter  0.594  0.750  0.00  11.91  11.86  1.14  0.51  0.74   \n7         Nikola Jokic  0.567  0.881  1.56  27.14  11.03  8.58  1.61  0.64   \n9         Jimmy Butler  0.454  0.863  0.36  20.55   7.55  7.82  1.91  0.36   \n10  Wendell Carter Jr.  0.535  0.733  0.30  12.26   7.78  2.26  0.70  0.83   \n11          Kyle Kuzma  0.444  0.632  1.81  11.47   6.67  1.14  0.39  0.64   \n13     Khris Middleton  0.495  0.884  2.31  20.58   6.14  5.72  1.11  0.17   \n\n     TOV  \n0   2.09  \n1   1.33  \n2   1.06  \n3   0.73  \n4   0.91  \n5   0.76  \n6   1.17  \n7   3.17  \n9   2.32  \n10  1.87  \n11  1.50  \n13  2.61  ",
      "text/html": "<div>\n<style scoped>\n    .dataframe tbody tr th:only-of-type {\n        vertical-align: middle;\n    }\n\n    .dataframe tbody tr th {\n        vertical-align: top;\n    }\n\n    .dataframe thead th {\n        text-align: right;\n    }\n</style>\n<table border=\"1\" class=\"dataframe\">\n  <thead>\n    <tr style=\"text-align: right;\">\n      <th></th>\n      <th>PLAYER</th>\n      <th>FG_PCT</th>\n      <th>FT_PCT</th>\n      <th>FG3M</th>\n      <th>PTS</th>\n      <th>REB</th>\n      <th>AST</th>\n      <th>STL</th>\n      <th>BLK</th>\n      <th>TOV</th>\n    </tr>\n  </thead>\n  <tbody>\n    <tr>\n      <th>0</th>\n      <td>Malcolm Brogdon</td>\n      <td>0.447</td>\n      <td>0.897</td>\n      <td>2.41</td>\n      <td>21.21</td>\n      <td>4.65</td>\n      <td>6.24</td>\n      <td>1.18</td>\n      <td>0.24</td>\n      <td>2.09</td>\n    </tr>\n    <tr>\n      <th>1</th>\n      <td>Duncan Robinson</td>\n      <td>0.429</td>\n      <td>0.840</td>\n      <td>3.25</td>\n      <td>12.81</td>\n      <td>3.94</td>\n      <td>1.61</td>\n      <td>0.47</td>\n      <td>0.22</td>\n      <td>1.33</td>\n    </tr>\n    <tr>\n      <th>2</th>\n      <td>Patty Mills</td>\n      <td>0.448</td>\n      <td>0.900</td>\n      <td>2.75</td>\n      <td>13.31</td>\n      <td>1.81</td>\n      <td>2.66</td>\n      <td>0.62</td>\n      <td>0.03</td>\n      <td>1.06</td>\n    </tr>\n    <tr>\n      <th>3</th>\n      <td>Gary Trent Jr.</td>\n      <td>0.423</td>\n      <td>0.778</td>\n      <td>3.06</td>\n      <td>15.21</td>\n      <td>2.15</td>\n      <td>1.48</td>\n      <td>0.76</td>\n      <td>0.15</td>\n      <td>0.73</td>\n    </tr>\n    <tr>\n      <th>4</th>\n      <td>Jae Crowder</td>\n      <td>0.402</td>\n      <td>0.829</td>\n      <td>2.41</td>\n      <td>10.12</td>\n      <td>5.00</td>\n      <td>2.12</td>\n      <td>0.84</td>\n      <td>0.25</td>\n      <td>0.91</td>\n    </tr>\n    <tr>\n      <th>5</th>\n      <td>Jeremy Lamb</td>\n      <td>0.473</td>\n      <td>0.941</td>\n      <td>1.62</td>\n      <td>11.33</td>\n      <td>3.71</td>\n      <td>1.62</td>\n      <td>0.86</td>\n      <td>0.52</td>\n      <td>0.76</td>\n    </tr>\n    <tr>\n      <th>6</th>\n      <td>Enes Kanter</td>\n      <td>0.594</td>\n      <td>0.750</td>\n      <td>0.00</td>\n      <td>11.91</td>\n      <td>11.86</td>\n      <td>1.14</td>\n      <td>0.51</td>\n      <td>0.74</td>\n      <td>1.17</td>\n    </tr>\n    <tr>\n      <th>7</th>\n      <td>Nikola Jokic</td>\n      <td>0.567</td>\n      <td>0.881</td>\n      <td>1.56</td>\n      <td>27.14</td>\n      <td>11.03</td>\n      <td>8.58</td>\n      <td>1.61</td>\n      <td>0.64</td>\n      <td>3.17</td>\n    </tr>\n    <tr>\n      <th>9</th>\n      <td>Jimmy Butler</td>\n      <td>0.454</td>\n      <td>0.863</td>\n      <td>0.36</td>\n      <td>20.55</td>\n      <td>7.55</td>\n      <td>7.82</td>\n      <td>1.91</td>\n      <td>0.36</td>\n      <td>2.32</td>\n    </tr>\n    <tr>\n      <th>10</th>\n      <td>Wendell Carter Jr.</td>\n      <td>0.535</td>\n      <td>0.733</td>\n      <td>0.30</td>\n      <td>12.26</td>\n      <td>7.78</td>\n      <td>2.26</td>\n      <td>0.70</td>\n      <td>0.83</td>\n      <td>1.87</td>\n    </tr>\n    <tr>\n      <th>11</th>\n      <td>Kyle Kuzma</td>\n      <td>0.444</td>\n      <td>0.632</td>\n      <td>1.81</td>\n      <td>11.47</td>\n      <td>6.67</td>\n      <td>1.14</td>\n      <td>0.39</td>\n      <td>0.64</td>\n      <td>1.50</td>\n    </tr>\n    <tr>\n      <th>13</th>\n      <td>Khris Middleton</td>\n      <td>0.495</td>\n      <td>0.884</td>\n      <td>2.31</td>\n      <td>20.58</td>\n      <td>6.14</td>\n      <td>5.72</td>\n      <td>1.11</td>\n      <td>0.17</td>\n      <td>2.61</td>\n    </tr>\n  </tbody>\n</table>\n</div>"
     },
     "execution_count": 60,
     "metadata": {},
     "output_type": "execute_result"
    }
   ],
   "source": [
    "df = combined_df[~combined_df['status'].isin(STATUS_TO_REMOVE)].drop(\"status\", axis=1)\n",
    "df"
   ],
   "metadata": {
    "collapsed": false,
    "pycharm": {
     "name": "#%%\n"
    }
   }
  },
  {
   "cell_type": "code",
   "execution_count": 62,
   "outputs": [],
   "source": [
    "STATUS_TO_REMOVE = [\"INJ\", \"O\", \"NA\"]\n",
    "def make_filtered_status_dataframe(team_9cat_average_df, player_status_df):\n",
    "    \"\"\"\n",
    "\n",
    "    @param team_9cat_average_df:\n",
    "    @param player_status_df:\n",
    "    @return:\n",
    "    \"\"\"\n",
    "    merged_df = team_9cat_average_df.merge(player_status_df, on=PLAYER_COLUMN)\n",
    "    filtered_status_df = merged_df[~merged_df[STATUS_LOWER_COLUMN].isin(STATUS_TO_REMOVE)].drop\\\n",
    "        (STATUS_LOWER_COLUMN, axis=1)\n",
    "    return filtered_status_df"
   ],
   "metadata": {
    "collapsed": false,
    "pycharm": {
     "name": "#%%\n"
    }
   }
  },
  {
   "cell_type": "code",
   "execution_count": 63,
   "outputs": [
    {
     "data": {
      "text/plain": "                PLAYER FG_PCT FT_PCT  FG3M    PTS    REB   AST   STL   BLK  \\\n0      Malcolm Brogdon  0.447  0.897  2.41  21.21   4.65  6.24  1.18  0.24   \n1      Duncan Robinson  0.429  0.840  3.25  12.81   3.94  1.61  0.47  0.22   \n2          Patty Mills  0.448  0.900  2.75  13.31   1.81  2.66  0.62  0.03   \n3       Gary Trent Jr.  0.423  0.778  3.06  15.21   2.15  1.48  0.76  0.15   \n4          Jae Crowder  0.402  0.829  2.41  10.12   5.00  2.12  0.84  0.25   \n5          Jeremy Lamb  0.473  0.941  1.62  11.33   3.71  1.62  0.86  0.52   \n6          Enes Kanter  0.594  0.750  0.00  11.91  11.86  1.14  0.51  0.74   \n7         Nikola Jokic  0.567  0.881  1.56  27.14  11.03  8.58  1.61  0.64   \n9         Jimmy Butler  0.454  0.863  0.36  20.55   7.55  7.82  1.91  0.36   \n10  Wendell Carter Jr.  0.535  0.733  0.30  12.26   7.78  2.26  0.70  0.83   \n11          Kyle Kuzma  0.444  0.632  1.81  11.47   6.67  1.14  0.39  0.64   \n13     Khris Middleton  0.495  0.884  2.31  20.58   6.14  5.72  1.11  0.17   \n\n     TOV  \n0   2.09  \n1   1.33  \n2   1.06  \n3   0.73  \n4   0.91  \n5   0.76  \n6   1.17  \n7   3.17  \n9   2.32  \n10  1.87  \n11  1.50  \n13  2.61  ",
      "text/html": "<div>\n<style scoped>\n    .dataframe tbody tr th:only-of-type {\n        vertical-align: middle;\n    }\n\n    .dataframe tbody tr th {\n        vertical-align: top;\n    }\n\n    .dataframe thead th {\n        text-align: right;\n    }\n</style>\n<table border=\"1\" class=\"dataframe\">\n  <thead>\n    <tr style=\"text-align: right;\">\n      <th></th>\n      <th>PLAYER</th>\n      <th>FG_PCT</th>\n      <th>FT_PCT</th>\n      <th>FG3M</th>\n      <th>PTS</th>\n      <th>REB</th>\n      <th>AST</th>\n      <th>STL</th>\n      <th>BLK</th>\n      <th>TOV</th>\n    </tr>\n  </thead>\n  <tbody>\n    <tr>\n      <th>0</th>\n      <td>Malcolm Brogdon</td>\n      <td>0.447</td>\n      <td>0.897</td>\n      <td>2.41</td>\n      <td>21.21</td>\n      <td>4.65</td>\n      <td>6.24</td>\n      <td>1.18</td>\n      <td>0.24</td>\n      <td>2.09</td>\n    </tr>\n    <tr>\n      <th>1</th>\n      <td>Duncan Robinson</td>\n      <td>0.429</td>\n      <td>0.840</td>\n      <td>3.25</td>\n      <td>12.81</td>\n      <td>3.94</td>\n      <td>1.61</td>\n      <td>0.47</td>\n      <td>0.22</td>\n      <td>1.33</td>\n    </tr>\n    <tr>\n      <th>2</th>\n      <td>Patty Mills</td>\n      <td>0.448</td>\n      <td>0.900</td>\n      <td>2.75</td>\n      <td>13.31</td>\n      <td>1.81</td>\n      <td>2.66</td>\n      <td>0.62</td>\n      <td>0.03</td>\n      <td>1.06</td>\n    </tr>\n    <tr>\n      <th>3</th>\n      <td>Gary Trent Jr.</td>\n      <td>0.423</td>\n      <td>0.778</td>\n      <td>3.06</td>\n      <td>15.21</td>\n      <td>2.15</td>\n      <td>1.48</td>\n      <td>0.76</td>\n      <td>0.15</td>\n      <td>0.73</td>\n    </tr>\n    <tr>\n      <th>4</th>\n      <td>Jae Crowder</td>\n      <td>0.402</td>\n      <td>0.829</td>\n      <td>2.41</td>\n      <td>10.12</td>\n      <td>5.00</td>\n      <td>2.12</td>\n      <td>0.84</td>\n      <td>0.25</td>\n      <td>0.91</td>\n    </tr>\n    <tr>\n      <th>5</th>\n      <td>Jeremy Lamb</td>\n      <td>0.473</td>\n      <td>0.941</td>\n      <td>1.62</td>\n      <td>11.33</td>\n      <td>3.71</td>\n      <td>1.62</td>\n      <td>0.86</td>\n      <td>0.52</td>\n      <td>0.76</td>\n    </tr>\n    <tr>\n      <th>6</th>\n      <td>Enes Kanter</td>\n      <td>0.594</td>\n      <td>0.750</td>\n      <td>0.00</td>\n      <td>11.91</td>\n      <td>11.86</td>\n      <td>1.14</td>\n      <td>0.51</td>\n      <td>0.74</td>\n      <td>1.17</td>\n    </tr>\n    <tr>\n      <th>7</th>\n      <td>Nikola Jokic</td>\n      <td>0.567</td>\n      <td>0.881</td>\n      <td>1.56</td>\n      <td>27.14</td>\n      <td>11.03</td>\n      <td>8.58</td>\n      <td>1.61</td>\n      <td>0.64</td>\n      <td>3.17</td>\n    </tr>\n    <tr>\n      <th>9</th>\n      <td>Jimmy Butler</td>\n      <td>0.454</td>\n      <td>0.863</td>\n      <td>0.36</td>\n      <td>20.55</td>\n      <td>7.55</td>\n      <td>7.82</td>\n      <td>1.91</td>\n      <td>0.36</td>\n      <td>2.32</td>\n    </tr>\n    <tr>\n      <th>10</th>\n      <td>Wendell Carter Jr.</td>\n      <td>0.535</td>\n      <td>0.733</td>\n      <td>0.30</td>\n      <td>12.26</td>\n      <td>7.78</td>\n      <td>2.26</td>\n      <td>0.70</td>\n      <td>0.83</td>\n      <td>1.87</td>\n    </tr>\n    <tr>\n      <th>11</th>\n      <td>Kyle Kuzma</td>\n      <td>0.444</td>\n      <td>0.632</td>\n      <td>1.81</td>\n      <td>11.47</td>\n      <td>6.67</td>\n      <td>1.14</td>\n      <td>0.39</td>\n      <td>0.64</td>\n      <td>1.50</td>\n    </tr>\n    <tr>\n      <th>13</th>\n      <td>Khris Middleton</td>\n      <td>0.495</td>\n      <td>0.884</td>\n      <td>2.31</td>\n      <td>20.58</td>\n      <td>6.14</td>\n      <td>5.72</td>\n      <td>1.11</td>\n      <td>0.17</td>\n      <td>2.61</td>\n    </tr>\n  </tbody>\n</table>\n</div>"
     },
     "execution_count": 63,
     "metadata": {},
     "output_type": "execute_result"
    }
   ],
   "source": [
    "make_filtered_status_dataframe(team_9cat_averages, nunn_status)"
   ],
   "metadata": {
    "collapsed": false,
    "pycharm": {
     "name": "#%%\n"
    }
   }
  },
  {
   "cell_type": "code",
   "execution_count": 9,
   "outputs": [],
   "source": [
    "STATUS_TO_REMOVE = [\"INJ\", \"O\", \"NA\"]\n",
    "NAME_LOWER_COLUMN = \"name\"\n",
    "STATUS_LOWER_COLUMN = \"status\"\n",
    "gaussian_stats = ['FG_PCT', 'FT_PCT']\n",
    "poison_stats = ['FG3M', 'PTS', 'REB', 'AST', 'STL', 'BLK', 'TOV']\n",
    "\n",
    "import numpy as np\n",
    "\n",
    "\n",
    "def make_player_status_dataframe(team_dict):\n",
    "    \"\"\"\n",
    "\n",
    "    @param team_dict:\n",
    "    @return:\n",
    "    \"\"\"\n",
    "    sc = af.yahoo_fantasy_api_authentication()\n",
    "    league = af.yahoo_fantasy_league(sc)\n",
    "    tm = league.to_team(team_dict[TEAM_KEY])\n",
    "    roster = tm.roster()\n",
    "    required_fields = [NAME_LOWER_COLUMN, STATUS_LOWER_COLUMN]\n",
    "    player_name_list = list()\n",
    "    player_status_list = list()\n",
    "    player_status_dataframe = pd.DataFrame(columns=[PLAYER_COLUMN, STATUS_LOWER_COLUMN])\n",
    "    for n in range(len(roster)):\n",
    "        player_status_dict = {key:value for key, value in roster[n].items() if key in required_fields}\n",
    "        player_name_list.append(player_status_dict[NAME_LOWER_COLUMN])\n",
    "        player_status_list.append(player_status_dict[STATUS_LOWER_COLUMN])\n",
    "    player_status_dataframe[PLAYER_COLUMN] = player_name_list\n",
    "    player_status_dataframe[STATUS_LOWER_COLUMN] = player_status_list\n",
    "    return player_status_dataframe\n",
    "\n",
    "\n",
    "def make_filtered_status_dataframe(team_9cat_average_df, player_status_df):\n",
    "    \"\"\"\n",
    "\n",
    "    @param team_9cat_average_df:\n",
    "    @param player_status_df:\n",
    "    @return:\n",
    "    \"\"\"\n",
    "    merged_df = team_9cat_average_df.merge(player_status_df, on=PLAYER_COLUMN)\n",
    "    filtered_status_df = merged_df[~merged_df[STATUS_LOWER_COLUMN].isin(STATUS_TO_REMOVE)].drop\\\n",
    "        (STATUS_LOWER_COLUMN, axis=1)\n",
    "    return filtered_status_df\n",
    "\n",
    "\n",
    "def make_simulation_dataset(team_dict, team_9cat_roster_dataframe=None, week=\"current\", \\\n",
    "                                                                        include_injured=False):\n",
    "    \"\"\"\n",
    "\n",
    "    @param team_dict:\n",
    "    @param week:\n",
    "    @param include_injured:\n",
    "    @return:\n",
    "    \"\"\"\n",
    "    sc = af.yahoo_fantasy_api_authentication()\n",
    "    league = af.yahoo_fantasy_league(sc)\n",
    "    if team_9cat_roster_dataframe is None:\n",
    "        team_9cat_averages = af.team_9cat_average_stats(team_dict, league)\n",
    "    else:\n",
    "        team_9cat_averages = team_9cat_roster_dataframe\n",
    "    team_9cat_averages.drop(\"mean\", inplace=True)\n",
    "    filtered_games_week, player_games_dictionary = get_team_player_game_dataframe(team_dict,\n",
    "                                                                                  week=week,\n",
    "                                                                                  season=2020)\n",
    "    player_games = pd.DataFrame.from_dict(player_games_dictionary, orient=\"index\")\n",
    "    player_games = player_games.loc[player_games.index.repeat(player_games[0])]\n",
    "    player_games.reset_index(inplace=True)\n",
    "    player_games.columns = [[\"PLAYER\", \"G\"]]\n",
    "    team_9cat_averages.to_clipboard(index=False)\n",
    "    team_9cat_averages=pd.read_clipboard(sep='\\t')\n",
    "    player_games.to_clipboard(index=False)\n",
    "    player_games=pd.read_clipboard(sep='\\t')\n",
    "    simulation_dataset = pd.merge(team_9cat_averages, player_games, on=[\"PLAYER\"])\n",
    "    if include_injured == False:\n",
    "        player_status_df = make_player_status_dataframe(team_dict)\n",
    "        simulation_dataset = make_filtered_status_dataframe(simulation_dataset, player_status_df)\n",
    "    simulation_dataset.drop([\"PLAYER\", \"G\"], axis=1, inplace=True)\n",
    "    simulation_dataset.fillna(simulation_dataset.mean(), inplace=True)\n",
    "    simulation_dataset = simulation_dataset.apply(pd.to_numeric)\n",
    "    return simulation_dataset\n",
    "\n",
    "\n",
    "def simulate_stats(team_df, n_reps):\n",
    "\n",
    "    pois_stats = team_df.loc[:, poison_stats].values\n",
    "    gaus_stats = team_df.loc[:, gaussian_stats].values\n",
    "    pois = np.random.poisson(lam=pois_stats,\n",
    "                             size=(n_reps, *pois_stats.shape))\n",
    "    pois = np.maximum(0, pois)\n",
    "    gaus = np.random.normal(loc=gaus_stats, scale=0.2 * gaus_stats,\n",
    "                            size=(n_reps, *gaus_stats.shape))\n",
    "    gaus = np.clip(gaus, 0, 1)\n",
    "\n",
    "    aggr_pois_stats = pois.sum(axis=1)\n",
    "    aggr_gaus_stats = gaus.mean(axis=1)\n",
    "    aggr_stats = np.concatenate((aggr_gaus_stats, aggr_pois_stats),\n",
    "                                axis=1)\n",
    "    return aggr_stats\n",
    "\n",
    "\n",
    "def matchup_simulation(team1_dict, team2_dict, team1_9cat_roster_dataframe=None,\n",
    "                       team2_9cat_roster_dataframe=None, n_reps=100000, week=\"current\",\n",
    "include_injured=False):\n",
    "    \"\"\"\n",
    "\n",
    "    @param team1_dict:\n",
    "    @param team2_dict:\n",
    "    @param n_reps:\n",
    "    @return:\n",
    "    \"\"\"\n",
    "    team1_simulation_dataset = make_simulation_dataset(team1_dict, week=week,\n",
    "                                                       include_injured=include_injured)\n",
    "    team2_simulation_dataset = make_simulation_dataset(team2_dict, week=week,\n",
    "                                                       include_injured=include_injured)\n",
    "    team1_sim_stats = simulate_stats(team1_simulation_dataset, n_reps)\n",
    "    team2_sim_stats = simulate_stats(team2_simulation_dataset, n_reps)\n",
    "    perc_win = ((team1_sim_stats > team2_sim_stats).sum(axis=0)\n",
    "                / n_reps * 100)\n",
    "    perc_win_df = pd.DataFrame(perc_win,\n",
    "                               index=gaussian_stats + poison_stats,\n",
    "                               columns=['WinProb'])\n",
    "    perc_win_df.loc['TOV'] = 100 - perc_win_df.loc['TOV']\n",
    "    return perc_win_df.T\n"
   ],
   "metadata": {
    "collapsed": false,
    "pycharm": {
     "name": "#%%\n"
    }
   }
  },
  {
   "cell_type": "code",
   "execution_count": 90,
   "outputs": [
    {
     "name": "stderr",
     "output_type": "stream",
     "text": [
      "[2021-03-09 21:31:14,642 DEBUG] [yahoo_oauth.oauth.__init__] Checking \n",
      "[2021-03-09 21:31:14,646 DEBUG] [yahoo_oauth.oauth.token_is_valid] ELAPSED TIME : 391.0106282234192\n",
      "[2021-03-09 21:31:14,647 DEBUG] [yahoo_oauth.oauth.token_is_valid] TOKEN IS STILL VALID\n",
      "[2021-03-09 21:32:17,429 DEBUG] [yahoo_oauth.oauth.__init__] Checking \n",
      "[2021-03-09 21:32:17,432 DEBUG] [yahoo_oauth.oauth.token_is_valid] ELAPSED TIME : 453.79662561416626\n",
      "[2021-03-09 21:32:17,433 DEBUG] [yahoo_oauth.oauth.token_is_valid] TOKEN IS STILL VALID\n",
      "[2021-03-09 21:32:24,127 DEBUG] [yahoo_oauth.oauth.__init__] Checking \n",
      "[2021-03-09 21:32:24,128 DEBUG] [yahoo_oauth.oauth.token_is_valid] ELAPSED TIME : 460.4921052455902\n",
      "[2021-03-09 21:32:24,129 DEBUG] [yahoo_oauth.oauth.token_is_valid] TOKEN IS STILL VALID\n",
      "[2021-03-09 21:32:25,085 DEBUG] [yahoo_oauth.oauth.__init__] Checking \n",
      "[2021-03-09 21:32:25,088 DEBUG] [yahoo_oauth.oauth.token_is_valid] ELAPSED TIME : 461.4518632888794\n",
      "[2021-03-09 21:32:25,088 DEBUG] [yahoo_oauth.oauth.token_is_valid] TOKEN IS STILL VALID\n",
      "[2021-03-09 21:32:27,301 DEBUG] [yahoo_oauth.oauth.__init__] Checking \n",
      "[2021-03-09 21:32:27,304 DEBUG] [yahoo_oauth.oauth.token_is_valid] ELAPSED TIME : 463.66792273521423\n",
      "[2021-03-09 21:32:27,304 DEBUG] [yahoo_oauth.oauth.token_is_valid] TOKEN IS STILL VALID\n",
      "[2021-03-09 21:32:28,319 DEBUG] [yahoo_oauth.oauth.__init__] Checking \n",
      "[2021-03-09 21:32:28,322 DEBUG] [yahoo_oauth.oauth.token_is_valid] ELAPSED TIME : 464.6861298084259\n",
      "[2021-03-09 21:32:28,323 DEBUG] [yahoo_oauth.oauth.token_is_valid] TOKEN IS STILL VALID\n",
      "[2021-03-09 21:32:29,335 DEBUG] [yahoo_oauth.oauth.__init__] Checking \n",
      "[2021-03-09 21:32:29,339 DEBUG] [yahoo_oauth.oauth.token_is_valid] ELAPSED TIME : 465.7029323577881\n",
      "[2021-03-09 21:32:29,340 DEBUG] [yahoo_oauth.oauth.token_is_valid] TOKEN IS STILL VALID\n",
      "[2021-03-09 21:32:30,308 DEBUG] [yahoo_oauth.oauth.__init__] Checking \n",
      "[2021-03-09 21:32:30,311 DEBUG] [yahoo_oauth.oauth.token_is_valid] ELAPSED TIME : 466.67553663253784\n",
      "[2021-03-09 21:32:30,311 DEBUG] [yahoo_oauth.oauth.token_is_valid] TOKEN IS STILL VALID\n",
      "[2021-03-09 21:32:32,503 DEBUG] [yahoo_oauth.oauth.__init__] Checking \n",
      "[2021-03-09 21:32:32,507 DEBUG] [yahoo_oauth.oauth.token_is_valid] ELAPSED TIME : 468.87163519859314\n",
      "[2021-03-09 21:32:32,507 DEBUG] [yahoo_oauth.oauth.token_is_valid] TOKEN IS STILL VALID\n",
      "[2021-03-09 21:32:34,529 DEBUG] [yahoo_oauth.oauth.__init__] Checking \n",
      "[2021-03-09 21:32:34,532 DEBUG] [yahoo_oauth.oauth.token_is_valid] ELAPSED TIME : 470.89630341529846\n",
      "[2021-03-09 21:32:34,532 DEBUG] [yahoo_oauth.oauth.token_is_valid] TOKEN IS STILL VALID\n",
      "[2021-03-09 21:32:35,512 DEBUG] [yahoo_oauth.oauth.__init__] Checking \n",
      "[2021-03-09 21:32:35,515 DEBUG] [yahoo_oauth.oauth.token_is_valid] ELAPSED TIME : 471.87901186943054\n",
      "[2021-03-09 21:32:35,516 DEBUG] [yahoo_oauth.oauth.token_is_valid] TOKEN IS STILL VALID\n",
      "[2021-03-09 21:32:36,410 DEBUG] [yahoo_oauth.oauth.__init__] Checking \n",
      "[2021-03-09 21:32:36,414 DEBUG] [yahoo_oauth.oauth.token_is_valid] ELAPSED TIME : 472.777898311615\n",
      "[2021-03-09 21:32:36,415 DEBUG] [yahoo_oauth.oauth.token_is_valid] TOKEN IS STILL VALID\n",
      "[2021-03-09 21:32:37,355 DEBUG] [yahoo_oauth.oauth.__init__] Checking \n",
      "[2021-03-09 21:32:37,358 DEBUG] [yahoo_oauth.oauth.token_is_valid] ELAPSED TIME : 473.722451210022\n",
      "[2021-03-09 21:32:37,359 DEBUG] [yahoo_oauth.oauth.token_is_valid] TOKEN IS STILL VALID\n",
      "[2021-03-09 21:32:38,329 DEBUG] [yahoo_oauth.oauth.__init__] Checking \n",
      "[2021-03-09 21:32:38,331 DEBUG] [yahoo_oauth.oauth.token_is_valid] ELAPSED TIME : 474.6950259208679\n",
      "[2021-03-09 21:32:38,332 DEBUG] [yahoo_oauth.oauth.token_is_valid] TOKEN IS STILL VALID\n",
      "[2021-03-09 21:32:39,230 DEBUG] [yahoo_oauth.oauth.__init__] Checking \n",
      "[2021-03-09 21:32:39,233 DEBUG] [yahoo_oauth.oauth.token_is_valid] ELAPSED TIME : 475.59757685661316\n",
      "[2021-03-09 21:32:39,233 DEBUG] [yahoo_oauth.oauth.token_is_valid] TOKEN IS STILL VALID\n",
      "[2021-03-09 21:32:40,210 DEBUG] [yahoo_oauth.oauth.__init__] Checking \n",
      "[2021-03-09 21:32:40,216 DEBUG] [yahoo_oauth.oauth.token_is_valid] ELAPSED TIME : 476.58047819137573\n",
      "[2021-03-09 21:32:40,217 DEBUG] [yahoo_oauth.oauth.token_is_valid] TOKEN IS STILL VALID\n",
      "[2021-03-09 21:32:41,137 DEBUG] [yahoo_oauth.oauth.__init__] Checking \n",
      "[2021-03-09 21:32:41,140 DEBUG] [yahoo_oauth.oauth.token_is_valid] ELAPSED TIME : 477.5039346218109\n",
      "[2021-03-09 21:32:41,141 DEBUG] [yahoo_oauth.oauth.token_is_valid] TOKEN IS STILL VALID\n",
      "[2021-03-09 21:32:42,072 DEBUG] [yahoo_oauth.oauth.__init__] Checking \n",
      "[2021-03-09 21:32:42,076 DEBUG] [yahoo_oauth.oauth.token_is_valid] ELAPSED TIME : 478.43980860710144\n",
      "[2021-03-09 21:32:42,076 DEBUG] [yahoo_oauth.oauth.token_is_valid] TOKEN IS STILL VALID\n"
     ]
    },
    {
     "name": "stdout",
     "output_type": "stream",
     "text": [
      "(59, 10)\n"
     ]
    }
   ],
   "source": [
    "simulation_dataset = make_simulation_dataset(af.NUNN_OF_YALL_BETTA, week=\"current\",\n",
    "                                           include_injured=False)\n",
    "print(simulation_dataset.shape)"
   ],
   "metadata": {
    "collapsed": false,
    "pycharm": {
     "name": "#%%\n"
    }
   }
  },
  {
   "cell_type": "code",
   "execution_count": 93,
   "outputs": [
    {
     "name": "stderr",
     "output_type": "stream",
     "text": [
      "[2021-03-09 21:36:09,718 DEBUG] [yahoo_oauth.oauth.__init__] Checking \n",
      "[2021-03-09 21:36:09,720 DEBUG] [yahoo_oauth.oauth.token_is_valid] ELAPSED TIME : 686.0837898254395\n",
      "[2021-03-09 21:36:09,720 DEBUG] [yahoo_oauth.oauth.token_is_valid] TOKEN IS STILL VALID\n",
      "[2021-03-09 21:37:06,936 DEBUG] [yahoo_oauth.oauth.__init__] Checking \n",
      "[2021-03-09 21:37:06,940 DEBUG] [yahoo_oauth.oauth.token_is_valid] ELAPSED TIME : 743.3039717674255\n",
      "[2021-03-09 21:37:06,940 DEBUG] [yahoo_oauth.oauth.token_is_valid] TOKEN IS STILL VALID\n",
      "[2021-03-09 21:37:12,582 DEBUG] [yahoo_oauth.oauth.__init__] Checking \n",
      "[2021-03-09 21:37:12,586 DEBUG] [yahoo_oauth.oauth.token_is_valid] ELAPSED TIME : 748.9500706195831\n",
      "[2021-03-09 21:37:12,586 DEBUG] [yahoo_oauth.oauth.token_is_valid] TOKEN IS STILL VALID\n",
      "[2021-03-09 21:37:13,602 DEBUG] [yahoo_oauth.oauth.__init__] Checking \n",
      "[2021-03-09 21:37:13,606 DEBUG] [yahoo_oauth.oauth.token_is_valid] ELAPSED TIME : 749.970118522644\n",
      "[2021-03-09 21:37:13,606 DEBUG] [yahoo_oauth.oauth.token_is_valid] TOKEN IS STILL VALID\n",
      "[2021-03-09 21:37:14,547 DEBUG] [yahoo_oauth.oauth.__init__] Checking \n",
      "[2021-03-09 21:37:14,550 DEBUG] [yahoo_oauth.oauth.token_is_valid] ELAPSED TIME : 750.91397356987\n",
      "[2021-03-09 21:37:14,551 DEBUG] [yahoo_oauth.oauth.token_is_valid] TOKEN IS STILL VALID\n",
      "[2021-03-09 21:37:15,528 DEBUG] [yahoo_oauth.oauth.__init__] Checking \n",
      "[2021-03-09 21:37:15,533 DEBUG] [yahoo_oauth.oauth.token_is_valid] ELAPSED TIME : 751.8974711894989\n",
      "[2021-03-09 21:37:15,534 DEBUG] [yahoo_oauth.oauth.token_is_valid] TOKEN IS STILL VALID\n",
      "[2021-03-09 21:37:16,516 DEBUG] [yahoo_oauth.oauth.__init__] Checking \n",
      "[2021-03-09 21:37:16,524 DEBUG] [yahoo_oauth.oauth.token_is_valid] ELAPSED TIME : 752.8878951072693\n",
      "[2021-03-09 21:37:16,525 DEBUG] [yahoo_oauth.oauth.token_is_valid] TOKEN IS STILL VALID\n",
      "[2021-03-09 21:37:18,631 DEBUG] [yahoo_oauth.oauth.__init__] Checking \n",
      "[2021-03-09 21:37:18,638 DEBUG] [yahoo_oauth.oauth.token_is_valid] ELAPSED TIME : 755.0022823810577\n",
      "[2021-03-09 21:37:18,638 DEBUG] [yahoo_oauth.oauth.token_is_valid] TOKEN IS STILL VALID\n",
      "[2021-03-09 21:37:19,628 DEBUG] [yahoo_oauth.oauth.__init__] Checking \n",
      "[2021-03-09 21:37:19,630 DEBUG] [yahoo_oauth.oauth.token_is_valid] ELAPSED TIME : 755.9939939975739\n",
      "[2021-03-09 21:37:19,631 DEBUG] [yahoo_oauth.oauth.token_is_valid] TOKEN IS STILL VALID\n",
      "[2021-03-09 21:37:20,654 DEBUG] [yahoo_oauth.oauth.__init__] Checking \n",
      "[2021-03-09 21:37:20,660 DEBUG] [yahoo_oauth.oauth.token_is_valid] ELAPSED TIME : 757.02361536026\n",
      "[2021-03-09 21:37:20,661 DEBUG] [yahoo_oauth.oauth.token_is_valid] TOKEN IS STILL VALID\n",
      "[2021-03-09 21:37:21,658 DEBUG] [yahoo_oauth.oauth.__init__] Checking \n",
      "[2021-03-09 21:37:21,661 DEBUG] [yahoo_oauth.oauth.token_is_valid] ELAPSED TIME : 758.024822473526\n",
      "[2021-03-09 21:37:21,662 DEBUG] [yahoo_oauth.oauth.token_is_valid] TOKEN IS STILL VALID\n",
      "[2021-03-09 21:37:22,672 DEBUG] [yahoo_oauth.oauth.__init__] Checking \n",
      "[2021-03-09 21:37:22,677 DEBUG] [yahoo_oauth.oauth.token_is_valid] ELAPSED TIME : 759.0412211418152\n",
      "[2021-03-09 21:37:22,679 DEBUG] [yahoo_oauth.oauth.token_is_valid] TOKEN IS STILL VALID\n",
      "[2021-03-09 21:37:23,760 DEBUG] [yahoo_oauth.oauth.__init__] Checking \n",
      "[2021-03-09 21:37:23,763 DEBUG] [yahoo_oauth.oauth.token_is_valid] ELAPSED TIME : 760.1270127296448\n",
      "[2021-03-09 21:37:23,763 DEBUG] [yahoo_oauth.oauth.token_is_valid] TOKEN IS STILL VALID\n",
      "[2021-03-09 21:37:24,822 DEBUG] [yahoo_oauth.oauth.__init__] Checking \n",
      "[2021-03-09 21:37:24,825 DEBUG] [yahoo_oauth.oauth.token_is_valid] ELAPSED TIME : 761.1891691684723\n",
      "[2021-03-09 21:37:24,826 DEBUG] [yahoo_oauth.oauth.token_is_valid] TOKEN IS STILL VALID\n",
      "[2021-03-09 21:37:25,884 DEBUG] [yahoo_oauth.oauth.__init__] Checking \n",
      "[2021-03-09 21:37:25,888 DEBUG] [yahoo_oauth.oauth.token_is_valid] ELAPSED TIME : 762.2520105838776\n",
      "[2021-03-09 21:37:25,888 DEBUG] [yahoo_oauth.oauth.token_is_valid] TOKEN IS STILL VALID\n",
      "[2021-03-09 21:37:26,831 DEBUG] [yahoo_oauth.oauth.__init__] Checking \n",
      "[2021-03-09 21:37:26,834 DEBUG] [yahoo_oauth.oauth.token_is_valid] ELAPSED TIME : 763.1987154483795\n",
      "[2021-03-09 21:37:26,835 DEBUG] [yahoo_oauth.oauth.token_is_valid] TOKEN IS STILL VALID\n",
      "[2021-03-09 21:37:27,830 DEBUG] [yahoo_oauth.oauth.__init__] Checking \n",
      "[2021-03-09 21:37:27,834 DEBUG] [yahoo_oauth.oauth.token_is_valid] ELAPSED TIME : 764.197895526886\n",
      "[2021-03-09 21:37:27,834 DEBUG] [yahoo_oauth.oauth.token_is_valid] TOKEN IS STILL VALID\n",
      "[2021-03-09 21:37:28,826 DEBUG] [yahoo_oauth.oauth.__init__] Checking \n",
      "[2021-03-09 21:37:28,831 DEBUG] [yahoo_oauth.oauth.token_is_valid] ELAPSED TIME : 765.1950371265411\n",
      "[2021-03-09 21:37:28,833 DEBUG] [yahoo_oauth.oauth.token_is_valid] TOKEN IS STILL VALID\n",
      "[2021-03-09 21:37:30,254 DEBUG] [yahoo_oauth.oauth.__init__] Checking \n",
      "[2021-03-09 21:37:30,257 DEBUG] [yahoo_oauth.oauth.token_is_valid] ELAPSED TIME : 766.6208121776581\n",
      "[2021-03-09 21:37:30,258 DEBUG] [yahoo_oauth.oauth.token_is_valid] TOKEN IS STILL VALID\n",
      "[2021-03-09 21:38:25,058 DEBUG] [yahoo_oauth.oauth.__init__] Checking \n",
      "[2021-03-09 21:38:25,062 DEBUG] [yahoo_oauth.oauth.token_is_valid] ELAPSED TIME : 821.4264717102051\n",
      "[2021-03-09 21:38:25,063 DEBUG] [yahoo_oauth.oauth.token_is_valid] TOKEN IS STILL VALID\n",
      "[2021-03-09 21:38:30,573 DEBUG] [yahoo_oauth.oauth.__init__] Checking \n",
      "[2021-03-09 21:38:30,576 DEBUG] [yahoo_oauth.oauth.token_is_valid] ELAPSED TIME : 826.9402823448181\n",
      "[2021-03-09 21:38:30,577 DEBUG] [yahoo_oauth.oauth.token_is_valid] TOKEN IS STILL VALID\n",
      "[2021-03-09 21:38:31,515 DEBUG] [yahoo_oauth.oauth.__init__] Checking \n",
      "[2021-03-09 21:38:31,518 DEBUG] [yahoo_oauth.oauth.token_is_valid] ELAPSED TIME : 827.8823120594025\n",
      "[2021-03-09 21:38:31,518 DEBUG] [yahoo_oauth.oauth.token_is_valid] TOKEN IS STILL VALID\n",
      "[2021-03-09 21:38:32,448 DEBUG] [yahoo_oauth.oauth.__init__] Checking \n",
      "[2021-03-09 21:38:32,451 DEBUG] [yahoo_oauth.oauth.token_is_valid] ELAPSED TIME : 828.815646648407\n",
      "[2021-03-09 21:38:32,452 DEBUG] [yahoo_oauth.oauth.token_is_valid] TOKEN IS STILL VALID\n",
      "[2021-03-09 21:38:33,393 DEBUG] [yahoo_oauth.oauth.__init__] Checking \n",
      "[2021-03-09 21:38:33,396 DEBUG] [yahoo_oauth.oauth.token_is_valid] ELAPSED TIME : 829.7606317996979\n",
      "[2021-03-09 21:38:33,396 DEBUG] [yahoo_oauth.oauth.token_is_valid] TOKEN IS STILL VALID\n",
      "[2021-03-09 21:38:34,343 DEBUG] [yahoo_oauth.oauth.__init__] Checking \n",
      "[2021-03-09 21:38:34,352 DEBUG] [yahoo_oauth.oauth.token_is_valid] ELAPSED TIME : 830.7164235115051\n",
      "[2021-03-09 21:38:34,353 DEBUG] [yahoo_oauth.oauth.token_is_valid] TOKEN IS STILL VALID\n",
      "[2021-03-09 21:38:36,507 DEBUG] [yahoo_oauth.oauth.__init__] Checking \n",
      "[2021-03-09 21:38:36,510 DEBUG] [yahoo_oauth.oauth.token_is_valid] ELAPSED TIME : 832.873806476593\n",
      "[2021-03-09 21:38:36,511 DEBUG] [yahoo_oauth.oauth.token_is_valid] TOKEN IS STILL VALID\n",
      "[2021-03-09 21:38:37,433 DEBUG] [yahoo_oauth.oauth.__init__] Checking \n",
      "[2021-03-09 21:38:37,436 DEBUG] [yahoo_oauth.oauth.token_is_valid] ELAPSED TIME : 833.7998008728027\n",
      "[2021-03-09 21:38:37,437 DEBUG] [yahoo_oauth.oauth.token_is_valid] TOKEN IS STILL VALID\n",
      "[2021-03-09 21:38:38,404 DEBUG] [yahoo_oauth.oauth.__init__] Checking \n",
      "[2021-03-09 21:38:38,408 DEBUG] [yahoo_oauth.oauth.token_is_valid] ELAPSED TIME : 834.7718465328217\n",
      "[2021-03-09 21:38:38,409 DEBUG] [yahoo_oauth.oauth.token_is_valid] TOKEN IS STILL VALID\n",
      "[2021-03-09 21:38:39,396 DEBUG] [yahoo_oauth.oauth.__init__] Checking \n",
      "[2021-03-09 21:38:39,399 DEBUG] [yahoo_oauth.oauth.token_is_valid] ELAPSED TIME : 835.7630980014801\n",
      "[2021-03-09 21:38:39,400 DEBUG] [yahoo_oauth.oauth.token_is_valid] TOKEN IS STILL VALID\n",
      "[2021-03-09 21:38:41,601 DEBUG] [yahoo_oauth.oauth.__init__] Checking \n",
      "[2021-03-09 21:38:41,604 DEBUG] [yahoo_oauth.oauth.token_is_valid] ELAPSED TIME : 837.9683191776276\n",
      "[2021-03-09 21:38:41,605 DEBUG] [yahoo_oauth.oauth.token_is_valid] TOKEN IS STILL VALID\n",
      "[2021-03-09 21:38:42,536 DEBUG] [yahoo_oauth.oauth.__init__] Checking \n",
      "[2021-03-09 21:38:42,539 DEBUG] [yahoo_oauth.oauth.token_is_valid] ELAPSED TIME : 838.9037394523621\n",
      "[2021-03-09 21:38:42,540 DEBUG] [yahoo_oauth.oauth.token_is_valid] TOKEN IS STILL VALID\n",
      "[2021-03-09 21:38:43,496 DEBUG] [yahoo_oauth.oauth.__init__] Checking \n",
      "[2021-03-09 21:38:43,499 DEBUG] [yahoo_oauth.oauth.token_is_valid] ELAPSED TIME : 839.8635902404785\n",
      "[2021-03-09 21:38:43,500 DEBUG] [yahoo_oauth.oauth.token_is_valid] TOKEN IS STILL VALID\n",
      "[2021-03-09 21:38:44,454 DEBUG] [yahoo_oauth.oauth.__init__] Checking \n",
      "[2021-03-09 21:38:44,456 DEBUG] [yahoo_oauth.oauth.token_is_valid] ELAPSED TIME : 840.8199043273926\n",
      "[2021-03-09 21:38:44,457 DEBUG] [yahoo_oauth.oauth.token_is_valid] TOKEN IS STILL VALID\n",
      "[2021-03-09 21:38:45,398 DEBUG] [yahoo_oauth.oauth.__init__] Checking \n",
      "[2021-03-09 21:38:45,405 DEBUG] [yahoo_oauth.oauth.token_is_valid] ELAPSED TIME : 841.7696979045868\n",
      "[2021-03-09 21:38:45,407 DEBUG] [yahoo_oauth.oauth.token_is_valid] TOKEN IS STILL VALID\n",
      "[2021-03-09 21:38:46,329 DEBUG] [yahoo_oauth.oauth.__init__] Checking \n",
      "[2021-03-09 21:38:46,332 DEBUG] [yahoo_oauth.oauth.token_is_valid] ELAPSED TIME : 842.6960985660553\n",
      "[2021-03-09 21:38:46,332 DEBUG] [yahoo_oauth.oauth.token_is_valid] TOKEN IS STILL VALID\n",
      "[2021-03-09 21:38:47,316 DEBUG] [yahoo_oauth.oauth.__init__] Checking \n",
      "[2021-03-09 21:38:47,319 DEBUG] [yahoo_oauth.oauth.token_is_valid] ELAPSED TIME : 843.683385848999\n",
      "[2021-03-09 21:38:47,320 DEBUG] [yahoo_oauth.oauth.token_is_valid] TOKEN IS STILL VALID\n"
     ]
    }
   ],
   "source": [
    "simulated_cats = matchup_simulation(af.NUNN_OF_YALL_BETTA, af.RUSTY_CUNTBROOKS, n_reps=100000,\n",
    "                                    week=\"current\", include_injured=False)"
   ],
   "metadata": {
    "collapsed": false,
    "pycharm": {
     "name": "#%%\n"
    }
   }
  },
  {
   "cell_type": "code",
   "execution_count": 100,
   "outputs": [
    {
     "data": {
      "text/plain": "        FG_PCT FT_PCT FG3M  PTS  REB  AST  STL BLK  TOV\nWinProb    18%    99%  98%  89%  71%  42%  21%  2%  66%",
      "text/html": "<div>\n<style scoped>\n    .dataframe tbody tr th:only-of-type {\n        vertical-align: middle;\n    }\n\n    .dataframe tbody tr th {\n        vertical-align: top;\n    }\n\n    .dataframe thead th {\n        text-align: right;\n    }\n</style>\n<table border=\"1\" class=\"dataframe\">\n  <thead>\n    <tr style=\"text-align: right;\">\n      <th></th>\n      <th>FG_PCT</th>\n      <th>FT_PCT</th>\n      <th>FG3M</th>\n      <th>PTS</th>\n      <th>REB</th>\n      <th>AST</th>\n      <th>STL</th>\n      <th>BLK</th>\n      <th>TOV</th>\n    </tr>\n  </thead>\n  <tbody>\n    <tr>\n      <th>WinProb</th>\n      <td>18%</td>\n      <td>99%</td>\n      <td>98%</td>\n      <td>89%</td>\n      <td>71%</td>\n      <td>42%</td>\n      <td>21%</td>\n      <td>2%</td>\n      <td>66%</td>\n    </tr>\n  </tbody>\n</table>\n</div>"
     },
     "execution_count": 100,
     "metadata": {},
     "output_type": "execute_result"
    }
   ],
   "source": [
    "simulated_cats.T.applymap(np.int64).astype(str) + '%'"
   ],
   "metadata": {
    "collapsed": false,
    "pycharm": {
     "name": "#%%\n"
    }
   }
  },
  {
   "cell_type": "code",
   "execution_count": 10,
   "outputs": [
    {
     "name": "stderr",
     "output_type": "stream",
     "text": [
      "[2021-03-15 19:49:36,820 DEBUG] [yahoo_oauth.oauth.__init__] Checking \n",
      "[2021-03-15 19:49:36,822 DEBUG] [yahoo_oauth.oauth.token_is_valid] ELAPSED TIME : 2763.2689344882965\n",
      "[2021-03-15 19:49:36,822 DEBUG] [yahoo_oauth.oauth.token_is_valid] TOKEN IS STILL VALID\n",
      "[2021-03-15 19:50:37,776 DEBUG] [yahoo_oauth.oauth.__init__] Checking \n",
      "[2021-03-15 19:50:37,780 DEBUG] [yahoo_oauth.oauth.token_is_valid] ELAPSED TIME : 2824.2266681194305\n",
      "[2021-03-15 19:50:37,782 DEBUG] [yahoo_oauth.oauth.token_is_valid] TOKEN IS STILL VALID\n",
      "[2021-03-15 19:50:44,334 DEBUG] [yahoo_oauth.oauth.__init__] Checking \n",
      "[2021-03-15 19:50:44,338 DEBUG] [yahoo_oauth.oauth.token_is_valid] ELAPSED TIME : 2830.7843539714813\n",
      "[2021-03-15 19:50:44,339 DEBUG] [yahoo_oauth.oauth.token_is_valid] TOKEN IS STILL VALID\n",
      "[2021-03-15 19:50:45,256 DEBUG] [yahoo_oauth.oauth.__init__] Checking \n",
      "[2021-03-15 19:50:45,258 DEBUG] [yahoo_oauth.oauth.token_is_valid] ELAPSED TIME : 2831.7041923999786\n",
      "[2021-03-15 19:50:45,259 DEBUG] [yahoo_oauth.oauth.token_is_valid] TOKEN IS STILL VALID\n",
      "[2021-03-15 19:50:46,135 DEBUG] [yahoo_oauth.oauth.__init__] Checking \n",
      "[2021-03-15 19:50:46,138 DEBUG] [yahoo_oauth.oauth.token_is_valid] ELAPSED TIME : 2832.5844147205353\n",
      "[2021-03-15 19:50:46,139 DEBUG] [yahoo_oauth.oauth.token_is_valid] TOKEN IS STILL VALID\n",
      "[2021-03-15 19:50:47,027 DEBUG] [yahoo_oauth.oauth.__init__] Checking \n",
      "[2021-03-15 19:50:47,030 DEBUG] [yahoo_oauth.oauth.token_is_valid] ELAPSED TIME : 2833.4763374328613\n",
      "[2021-03-15 19:50:47,031 DEBUG] [yahoo_oauth.oauth.token_is_valid] TOKEN IS STILL VALID\n",
      "[2021-03-15 19:50:47,953 DEBUG] [yahoo_oauth.oauth.__init__] Checking \n",
      "[2021-03-15 19:50:47,957 DEBUG] [yahoo_oauth.oauth.token_is_valid] ELAPSED TIME : 2834.40336060524\n",
      "[2021-03-15 19:50:47,958 DEBUG] [yahoo_oauth.oauth.token_is_valid] TOKEN IS STILL VALID\n",
      "[2021-03-15 19:50:48,909 DEBUG] [yahoo_oauth.oauth.__init__] Checking \n",
      "[2021-03-15 19:50:48,912 DEBUG] [yahoo_oauth.oauth.token_is_valid] ELAPSED TIME : 2835.358456850052\n",
      "[2021-03-15 19:50:48,913 DEBUG] [yahoo_oauth.oauth.token_is_valid] TOKEN IS STILL VALID\n",
      "[2021-03-15 19:50:49,848 DEBUG] [yahoo_oauth.oauth.__init__] Checking \n",
      "[2021-03-15 19:50:49,851 DEBUG] [yahoo_oauth.oauth.token_is_valid] ELAPSED TIME : 2836.29710316658\n",
      "[2021-03-15 19:50:49,851 DEBUG] [yahoo_oauth.oauth.token_is_valid] TOKEN IS STILL VALID\n",
      "[2021-03-15 19:50:50,780 DEBUG] [yahoo_oauth.oauth.__init__] Checking \n",
      "[2021-03-15 19:50:50,782 DEBUG] [yahoo_oauth.oauth.token_is_valid] ELAPSED TIME : 2837.228244304657\n",
      "[2021-03-15 19:50:50,783 DEBUG] [yahoo_oauth.oauth.token_is_valid] TOKEN IS STILL VALID\n",
      "[2021-03-15 19:50:51,696 DEBUG] [yahoo_oauth.oauth.__init__] Checking \n",
      "[2021-03-15 19:50:51,699 DEBUG] [yahoo_oauth.oauth.token_is_valid] ELAPSED TIME : 2838.145828962326\n",
      "[2021-03-15 19:50:51,700 DEBUG] [yahoo_oauth.oauth.token_is_valid] TOKEN IS STILL VALID\n",
      "[2021-03-15 19:50:52,651 DEBUG] [yahoo_oauth.oauth.__init__] Checking \n",
      "[2021-03-15 19:50:52,654 DEBUG] [yahoo_oauth.oauth.token_is_valid] ELAPSED TIME : 2839.1005063056946\n",
      "[2021-03-15 19:50:52,655 DEBUG] [yahoo_oauth.oauth.token_is_valid] TOKEN IS STILL VALID\n",
      "[2021-03-15 19:50:53,618 DEBUG] [yahoo_oauth.oauth.__init__] Checking \n",
      "[2021-03-15 19:50:53,622 DEBUG] [yahoo_oauth.oauth.token_is_valid] ELAPSED TIME : 2840.068110704422\n",
      "[2021-03-15 19:50:53,622 DEBUG] [yahoo_oauth.oauth.token_is_valid] TOKEN IS STILL VALID\n",
      "[2021-03-15 19:50:54,553 DEBUG] [yahoo_oauth.oauth.__init__] Checking \n",
      "[2021-03-15 19:50:54,556 DEBUG] [yahoo_oauth.oauth.token_is_valid] ELAPSED TIME : 2841.002539873123\n",
      "[2021-03-15 19:50:54,557 DEBUG] [yahoo_oauth.oauth.token_is_valid] TOKEN IS STILL VALID\n",
      "[2021-03-15 19:50:55,532 DEBUG] [yahoo_oauth.oauth.__init__] Checking \n",
      "[2021-03-15 19:50:55,534 DEBUG] [yahoo_oauth.oauth.token_is_valid] ELAPSED TIME : 2841.9802799224854\n",
      "[2021-03-15 19:50:55,535 DEBUG] [yahoo_oauth.oauth.token_is_valid] TOKEN IS STILL VALID\n",
      "[2021-03-15 19:50:56,425 DEBUG] [yahoo_oauth.oauth.__init__] Checking \n",
      "[2021-03-15 19:50:56,428 DEBUG] [yahoo_oauth.oauth.token_is_valid] ELAPSED TIME : 2842.874377965927\n",
      "[2021-03-15 19:50:56,429 DEBUG] [yahoo_oauth.oauth.token_is_valid] TOKEN IS STILL VALID\n",
      "[2021-03-15 19:50:57,342 DEBUG] [yahoo_oauth.oauth.__init__] Checking \n",
      "[2021-03-15 19:50:57,345 DEBUG] [yahoo_oauth.oauth.token_is_valid] ELAPSED TIME : 2843.7910311222076\n",
      "[2021-03-15 19:50:57,345 DEBUG] [yahoo_oauth.oauth.token_is_valid] TOKEN IS STILL VALID\n",
      "[2021-03-15 19:50:58,258 DEBUG] [yahoo_oauth.oauth.__init__] Checking \n",
      "[2021-03-15 19:50:58,261 DEBUG] [yahoo_oauth.oauth.token_is_valid] ELAPSED TIME : 2844.7070846557617\n",
      "[2021-03-15 19:50:58,262 DEBUG] [yahoo_oauth.oauth.token_is_valid] TOKEN IS STILL VALID\n",
      "[2021-03-15 19:50:59,199 DEBUG] [yahoo_oauth.oauth.__init__] Checking \n",
      "[2021-03-15 19:50:59,202 DEBUG] [yahoo_oauth.oauth.token_is_valid] ELAPSED TIME : 2845.648106575012\n",
      "[2021-03-15 19:50:59,203 DEBUG] [yahoo_oauth.oauth.token_is_valid] TOKEN IS STILL VALID\n",
      "[2021-03-15 19:51:00,135 DEBUG] [yahoo_oauth.oauth.__init__] Checking \n",
      "[2021-03-15 19:51:00,139 DEBUG] [yahoo_oauth.oauth.token_is_valid] ELAPSED TIME : 2846.585083246231\n",
      "[2021-03-15 19:51:00,139 DEBUG] [yahoo_oauth.oauth.token_is_valid] TOKEN IS STILL VALID\n",
      "[2021-03-15 19:52:12,059 DEBUG] [yahoo_oauth.oauth.__init__] Checking \n",
      "[2021-03-15 19:52:12,060 DEBUG] [yahoo_oauth.oauth.token_is_valid] ELAPSED TIME : 2918.5067541599274\n",
      "[2021-03-15 19:52:12,061 DEBUG] [yahoo_oauth.oauth.token_is_valid] TOKEN IS STILL VALID\n",
      "[2021-03-15 19:52:18,752 DEBUG] [yahoo_oauth.oauth.__init__] Checking \n",
      "[2021-03-15 19:52:18,753 DEBUG] [yahoo_oauth.oauth.token_is_valid] ELAPSED TIME : 2925.199751853943\n",
      "[2021-03-15 19:52:18,754 DEBUG] [yahoo_oauth.oauth.token_is_valid] TOKEN IS STILL VALID\n",
      "[2021-03-15 19:52:19,788 DEBUG] [yahoo_oauth.oauth.__init__] Checking \n",
      "[2021-03-15 19:52:19,792 DEBUG] [yahoo_oauth.oauth.token_is_valid] ELAPSED TIME : 2926.238627433777\n",
      "[2021-03-15 19:52:19,793 DEBUG] [yahoo_oauth.oauth.token_is_valid] TOKEN IS STILL VALID\n",
      "[2021-03-15 19:52:20,745 DEBUG] [yahoo_oauth.oauth.__init__] Checking \n",
      "[2021-03-15 19:52:20,749 DEBUG] [yahoo_oauth.oauth.token_is_valid] ELAPSED TIME : 2927.1956770420074\n",
      "[2021-03-15 19:52:20,750 DEBUG] [yahoo_oauth.oauth.token_is_valid] TOKEN IS STILL VALID\n",
      "[2021-03-15 19:52:21,718 DEBUG] [yahoo_oauth.oauth.__init__] Checking \n",
      "[2021-03-15 19:52:21,721 DEBUG] [yahoo_oauth.oauth.token_is_valid] ELAPSED TIME : 2928.1671884059906\n",
      "[2021-03-15 19:52:21,722 DEBUG] [yahoo_oauth.oauth.token_is_valid] TOKEN IS STILL VALID\n",
      "[2021-03-15 19:52:22,628 DEBUG] [yahoo_oauth.oauth.__init__] Checking \n",
      "[2021-03-15 19:52:22,632 DEBUG] [yahoo_oauth.oauth.token_is_valid] ELAPSED TIME : 2929.0781161785126\n",
      "[2021-03-15 19:52:22,633 DEBUG] [yahoo_oauth.oauth.token_is_valid] TOKEN IS STILL VALID\n",
      "[2021-03-15 19:52:23,555 DEBUG] [yahoo_oauth.oauth.__init__] Checking \n",
      "[2021-03-15 19:52:23,559 DEBUG] [yahoo_oauth.oauth.token_is_valid] ELAPSED TIME : 2930.0051398277283\n",
      "[2021-03-15 19:52:23,560 DEBUG] [yahoo_oauth.oauth.token_is_valid] TOKEN IS STILL VALID\n",
      "[2021-03-15 19:52:24,506 DEBUG] [yahoo_oauth.oauth.__init__] Checking \n",
      "[2021-03-15 19:52:24,509 DEBUG] [yahoo_oauth.oauth.token_is_valid] ELAPSED TIME : 2930.9552330970764\n",
      "[2021-03-15 19:52:24,510 DEBUG] [yahoo_oauth.oauth.token_is_valid] TOKEN IS STILL VALID\n",
      "[2021-03-15 19:52:25,460 DEBUG] [yahoo_oauth.oauth.__init__] Checking \n",
      "[2021-03-15 19:52:25,463 DEBUG] [yahoo_oauth.oauth.token_is_valid] ELAPSED TIME : 2931.9099037647247\n",
      "[2021-03-15 19:52:25,463 DEBUG] [yahoo_oauth.oauth.token_is_valid] TOKEN IS STILL VALID\n",
      "[2021-03-15 19:52:26,469 DEBUG] [yahoo_oauth.oauth.__init__] Checking \n",
      "[2021-03-15 19:52:26,473 DEBUG] [yahoo_oauth.oauth.token_is_valid] ELAPSED TIME : 2932.919701576233\n",
      "[2021-03-15 19:52:26,474 DEBUG] [yahoo_oauth.oauth.token_is_valid] TOKEN IS STILL VALID\n",
      "[2021-03-15 19:52:27,415 DEBUG] [yahoo_oauth.oauth.__init__] Checking \n",
      "[2021-03-15 19:52:27,418 DEBUG] [yahoo_oauth.oauth.token_is_valid] ELAPSED TIME : 2933.8640780448914\n",
      "[2021-03-15 19:52:27,418 DEBUG] [yahoo_oauth.oauth.token_is_valid] TOKEN IS STILL VALID\n",
      "[2021-03-15 19:52:28,333 DEBUG] [yahoo_oauth.oauth.__init__] Checking \n",
      "[2021-03-15 19:52:28,335 DEBUG] [yahoo_oauth.oauth.token_is_valid] ELAPSED TIME : 2934.781132221222\n",
      "[2021-03-15 19:52:28,336 DEBUG] [yahoo_oauth.oauth.token_is_valid] TOKEN IS STILL VALID\n",
      "[2021-03-15 19:52:29,294 DEBUG] [yahoo_oauth.oauth.__init__] Checking \n",
      "[2021-03-15 19:52:29,297 DEBUG] [yahoo_oauth.oauth.token_is_valid] ELAPSED TIME : 2935.743852853775\n",
      "[2021-03-15 19:52:29,298 DEBUG] [yahoo_oauth.oauth.token_is_valid] TOKEN IS STILL VALID\n",
      "[2021-03-15 19:52:30,886 DEBUG] [yahoo_oauth.oauth.__init__] Checking \n",
      "[2021-03-15 19:52:30,890 DEBUG] [yahoo_oauth.oauth.token_is_valid] ELAPSED TIME : 2937.3368594646454\n",
      "[2021-03-15 19:52:30,891 DEBUG] [yahoo_oauth.oauth.token_is_valid] TOKEN IS STILL VALID\n",
      "[2021-03-15 19:52:31,942 DEBUG] [yahoo_oauth.oauth.__init__] Checking \n",
      "[2021-03-15 19:52:31,946 DEBUG] [yahoo_oauth.oauth.token_is_valid] ELAPSED TIME : 2938.392211675644\n",
      "[2021-03-15 19:52:31,947 DEBUG] [yahoo_oauth.oauth.token_is_valid] TOKEN IS STILL VALID\n",
      "[2021-03-15 19:52:33,225 DEBUG] [yahoo_oauth.oauth.__init__] Checking \n",
      "[2021-03-15 19:52:33,228 DEBUG] [yahoo_oauth.oauth.token_is_valid] ELAPSED TIME : 2939.6743104457855\n",
      "[2021-03-15 19:52:33,229 DEBUG] [yahoo_oauth.oauth.token_is_valid] TOKEN IS STILL VALID\n",
      "[2021-03-15 19:52:34,675 DEBUG] [yahoo_oauth.oauth.__init__] Checking \n",
      "[2021-03-15 19:52:34,678 DEBUG] [yahoo_oauth.oauth.token_is_valid] ELAPSED TIME : 2941.124873161316\n",
      "[2021-03-15 19:52:34,679 DEBUG] [yahoo_oauth.oauth.token_is_valid] TOKEN IS STILL VALID\n",
      "[2021-03-15 19:52:35,979 DEBUG] [yahoo_oauth.oauth.__init__] Checking \n",
      "[2021-03-15 19:52:35,983 DEBUG] [yahoo_oauth.oauth.token_is_valid] ELAPSED TIME : 2942.4298706054688\n",
      "[2021-03-15 19:52:35,983 DEBUG] [yahoo_oauth.oauth.token_is_valid] TOKEN IS STILL VALID\n"
     ]
    }
   ],
   "source": [
    "simulated_cats = matchup_simulation(af.NUNN_OF_YALL_BETTA, af.WAKANDA_FOREVER,\n",
    "                                    n_reps=100000, week=\"next\", include_injured=False)\n"
   ],
   "metadata": {
    "collapsed": false,
    "pycharm": {
     "name": "#%%\n"
    }
   }
  },
  {
   "cell_type": "code",
   "execution_count": 113,
   "outputs": [
    {
     "name": "stderr",
     "output_type": "stream",
     "text": [
      "[2021-03-09 22:41:06,971 DEBUG] [yahoo_oauth.oauth.__init__] Checking \n",
      "[2021-03-09 22:41:06,974 DEBUG] [yahoo_oauth.oauth.token_is_valid] ELAPSED TIME : 1024.9493746757507\n",
      "[2021-03-09 22:41:06,975 DEBUG] [yahoo_oauth.oauth.token_is_valid] TOKEN IS STILL VALID\n",
      "[2021-03-09 22:42:05,720 DEBUG] [yahoo_oauth.oauth.__init__] Checking \n",
      "[2021-03-09 22:42:05,723 DEBUG] [yahoo_oauth.oauth.token_is_valid] ELAPSED TIME : 1083.698678970337\n",
      "[2021-03-09 22:42:05,724 DEBUG] [yahoo_oauth.oauth.token_is_valid] TOKEN IS STILL VALID\n",
      "[2021-03-09 22:42:11,395 DEBUG] [yahoo_oauth.oauth.__init__] Checking \n",
      "[2021-03-09 22:42:11,398 DEBUG] [yahoo_oauth.oauth.token_is_valid] ELAPSED TIME : 1089.3739182949066\n",
      "[2021-03-09 22:42:11,399 DEBUG] [yahoo_oauth.oauth.token_is_valid] TOKEN IS STILL VALID\n",
      "[2021-03-09 22:42:12,424 DEBUG] [yahoo_oauth.oauth.__init__] Checking \n",
      "[2021-03-09 22:42:12,429 DEBUG] [yahoo_oauth.oauth.token_is_valid] ELAPSED TIME : 1090.4051764011383\n",
      "[2021-03-09 22:42:12,430 DEBUG] [yahoo_oauth.oauth.token_is_valid] TOKEN IS STILL VALID\n",
      "[2021-03-09 22:42:13,428 DEBUG] [yahoo_oauth.oauth.__init__] Checking \n",
      "[2021-03-09 22:42:13,433 DEBUG] [yahoo_oauth.oauth.token_is_valid] ELAPSED TIME : 1091.4091744422913\n",
      "[2021-03-09 22:42:13,434 DEBUG] [yahoo_oauth.oauth.token_is_valid] TOKEN IS STILL VALID\n",
      "[2021-03-09 22:42:14,439 DEBUG] [yahoo_oauth.oauth.__init__] Checking \n",
      "[2021-03-09 22:42:14,447 DEBUG] [yahoo_oauth.oauth.token_is_valid] ELAPSED TIME : 1092.4232380390167\n",
      "[2021-03-09 22:42:14,449 DEBUG] [yahoo_oauth.oauth.token_is_valid] TOKEN IS STILL VALID\n",
      "[2021-03-09 22:42:15,373 DEBUG] [yahoo_oauth.oauth.__init__] Checking \n",
      "[2021-03-09 22:42:15,378 DEBUG] [yahoo_oauth.oauth.token_is_valid] ELAPSED TIME : 1093.353801727295\n",
      "[2021-03-09 22:42:15,378 DEBUG] [yahoo_oauth.oauth.token_is_valid] TOKEN IS STILL VALID\n",
      "[2021-03-09 22:42:16,363 DEBUG] [yahoo_oauth.oauth.__init__] Checking \n",
      "[2021-03-09 22:42:16,368 DEBUG] [yahoo_oauth.oauth.token_is_valid] ELAPSED TIME : 1094.3436748981476\n",
      "[2021-03-09 22:42:16,368 DEBUG] [yahoo_oauth.oauth.token_is_valid] TOKEN IS STILL VALID\n",
      "[2021-03-09 22:42:17,338 DEBUG] [yahoo_oauth.oauth.__init__] Checking \n",
      "[2021-03-09 22:42:17,343 DEBUG] [yahoo_oauth.oauth.token_is_valid] ELAPSED TIME : 1095.3187081813812\n",
      "[2021-03-09 22:42:17,344 DEBUG] [yahoo_oauth.oauth.token_is_valid] TOKEN IS STILL VALID\n",
      "[2021-03-09 22:42:18,281 DEBUG] [yahoo_oauth.oauth.__init__] Checking \n",
      "[2021-03-09 22:42:18,286 DEBUG] [yahoo_oauth.oauth.token_is_valid] ELAPSED TIME : 1096.261432170868\n",
      "[2021-03-09 22:42:18,287 DEBUG] [yahoo_oauth.oauth.token_is_valid] TOKEN IS STILL VALID\n",
      "[2021-03-09 22:42:19,212 DEBUG] [yahoo_oauth.oauth.__init__] Checking \n",
      "[2021-03-09 22:42:19,217 DEBUG] [yahoo_oauth.oauth.token_is_valid] ELAPSED TIME : 1097.1928117275238\n",
      "[2021-03-09 22:42:19,218 DEBUG] [yahoo_oauth.oauth.token_is_valid] TOKEN IS STILL VALID\n",
      "[2021-03-09 22:42:20,214 DEBUG] [yahoo_oauth.oauth.__init__] Checking \n",
      "[2021-03-09 22:42:20,217 DEBUG] [yahoo_oauth.oauth.token_is_valid] ELAPSED TIME : 1098.192384004593\n",
      "[2021-03-09 22:42:20,218 DEBUG] [yahoo_oauth.oauth.token_is_valid] TOKEN IS STILL VALID\n",
      "[2021-03-09 22:42:21,316 DEBUG] [yahoo_oauth.oauth.__init__] Checking \n",
      "[2021-03-09 22:42:21,319 DEBUG] [yahoo_oauth.oauth.token_is_valid] ELAPSED TIME : 1099.295173883438\n",
      "[2021-03-09 22:42:21,320 DEBUG] [yahoo_oauth.oauth.token_is_valid] TOKEN IS STILL VALID\n",
      "[2021-03-09 22:42:22,344 DEBUG] [yahoo_oauth.oauth.__init__] Checking \n",
      "[2021-03-09 22:42:22,347 DEBUG] [yahoo_oauth.oauth.token_is_valid] ELAPSED TIME : 1100.323180437088\n",
      "[2021-03-09 22:42:22,348 DEBUG] [yahoo_oauth.oauth.token_is_valid] TOKEN IS STILL VALID\n",
      "[2021-03-09 22:42:23,267 DEBUG] [yahoo_oauth.oauth.__init__] Checking \n",
      "[2021-03-09 22:42:23,269 DEBUG] [yahoo_oauth.oauth.token_is_valid] ELAPSED TIME : 1101.2450613975525\n",
      "[2021-03-09 22:42:23,270 DEBUG] [yahoo_oauth.oauth.token_is_valid] TOKEN IS STILL VALID\n",
      "[2021-03-09 22:42:24,246 DEBUG] [yahoo_oauth.oauth.__init__] Checking \n",
      "[2021-03-09 22:42:24,249 DEBUG] [yahoo_oauth.oauth.token_is_valid] ELAPSED TIME : 1102.224514722824\n",
      "[2021-03-09 22:42:24,249 DEBUG] [yahoo_oauth.oauth.token_is_valid] TOKEN IS STILL VALID\n",
      "[2021-03-09 22:42:25,168 DEBUG] [yahoo_oauth.oauth.__init__] Checking \n",
      "[2021-03-09 22:42:25,171 DEBUG] [yahoo_oauth.oauth.token_is_valid] ELAPSED TIME : 1103.1465764045715\n",
      "[2021-03-09 22:42:25,172 DEBUG] [yahoo_oauth.oauth.token_is_valid] TOKEN IS STILL VALID\n",
      "[2021-03-09 22:42:26,122 DEBUG] [yahoo_oauth.oauth.__init__] Checking \n",
      "[2021-03-09 22:42:26,125 DEBUG] [yahoo_oauth.oauth.token_is_valid] ELAPSED TIME : 1104.1003954410553\n",
      "[2021-03-09 22:42:26,126 DEBUG] [yahoo_oauth.oauth.token_is_valid] TOKEN IS STILL VALID\n"
     ]
    }
   ],
   "source": [
    "wak = make_simulation_dataset(af.WAKANDA_FOREVER, week=\"current\", include_injured=False)"
   ],
   "metadata": {
    "collapsed": false,
    "pycharm": {
     "name": "#%%\n"
    }
   }
  },
  {
   "cell_type": "code",
   "execution_count": 4,
   "outputs": [
    {
     "ename": "NameError",
     "evalue": "name 'wak' is not defined",
     "output_type": "error",
     "traceback": [
      "\u001B[1;31m---------------------------------------------------------------------------\u001B[0m",
      "\u001B[1;31mNameError\u001B[0m                                 Traceback (most recent call last)",
      "\u001B[1;32m<ipython-input-4-8a2cc98f5416>\u001B[0m in \u001B[0;36m<module>\u001B[1;34m\u001B[0m\n\u001B[1;32m----> 1\u001B[1;33m \u001B[0mwak\u001B[0m\u001B[1;33m.\u001B[0m\u001B[0minfo\u001B[0m\u001B[1;33m(\u001B[0m\u001B[1;33m)\u001B[0m\u001B[1;33m\u001B[0m\u001B[1;33m\u001B[0m\u001B[0m\n\u001B[0m\u001B[0;32m      2\u001B[0m \u001B[1;32mdef\u001B[0m \u001B[0msimulate_stats\u001B[0m\u001B[1;33m(\u001B[0m\u001B[0mteam_df\u001B[0m\u001B[1;33m,\u001B[0m \u001B[0mn_reps\u001B[0m\u001B[1;33m)\u001B[0m\u001B[1;33m:\u001B[0m\u001B[1;33m\u001B[0m\u001B[1;33m\u001B[0m\u001B[0m\n\u001B[0;32m      3\u001B[0m \u001B[1;33m\u001B[0m\u001B[0m\n\u001B[0;32m      4\u001B[0m     \u001B[0mpois_stats\u001B[0m \u001B[1;33m=\u001B[0m \u001B[0mteam_df\u001B[0m\u001B[1;33m.\u001B[0m\u001B[0mloc\u001B[0m\u001B[1;33m[\u001B[0m\u001B[1;33m:\u001B[0m\u001B[1;33m,\u001B[0m \u001B[0mpoison_stats\u001B[0m\u001B[1;33m]\u001B[0m\u001B[1;33m.\u001B[0m\u001B[0mvalues\u001B[0m\u001B[1;33m\u001B[0m\u001B[1;33m\u001B[0m\u001B[0m\n\u001B[0;32m      5\u001B[0m     \u001B[0mgaus_stats\u001B[0m \u001B[1;33m=\u001B[0m \u001B[0mteam_df\u001B[0m\u001B[1;33m.\u001B[0m\u001B[0mloc\u001B[0m\u001B[1;33m[\u001B[0m\u001B[1;33m:\u001B[0m\u001B[1;33m,\u001B[0m \u001B[0mgaussian_stats\u001B[0m\u001B[1;33m]\u001B[0m\u001B[1;33m.\u001B[0m\u001B[0mvalues\u001B[0m\u001B[1;33m\u001B[0m\u001B[1;33m\u001B[0m\u001B[0m\n",
      "\u001B[1;31mNameError\u001B[0m: name 'wak' is not defined"
     ]
    }
   ],
   "source": [
    "wak.info()\n",
    "def simulate_stats(team_df, n_reps):\n",
    "\n",
    "    pois_stats = team_df.loc[:, poison_stats].values\n",
    "    gaus_stats = team_df.loc[:, gaussian_stats].values\n",
    "    print(pois_stats)\n",
    "    pois = np.random.poisson(lam=pois_stats,\n",
    "                             size=(n_reps, *pois_stats.shape))\n",
    "    pois = np.maximum(0, pois)\n",
    "    gaus = np.random.normal(loc=gaus_stats, scale=0.2 * gaus_stats,\n",
    "                            size=(n_reps, *gaus_stats.shape))\n",
    "    gaus = np.clip(gaus, 0, 1)\n",
    "\n",
    "    aggr_pois_stats = pois.sum(axis=1)\n",
    "    aggr_gaus_stats = gaus.mean(axis=1)\n",
    "    aggr_stats = np.concatenate((aggr_gaus_stats, aggr_pois_stats),\n",
    "                                axis=1)\n",
    "    return aggr_stats"
   ],
   "metadata": {
    "collapsed": false,
    "pycharm": {
     "name": "#%%\n"
    }
   }
  },
  {
   "cell_type": "code",
   "execution_count": 109,
   "outputs": [
    {
     "name": "stdout",
     "output_type": "stream",
     "text": [
      "[[ 2.95 18.45  3.6   4.55  1.05  0.35  2.2 ]\n",
      " [ 2.95 18.45  3.6   4.55  1.05  0.35  2.2 ]\n",
      " [ 2.95 18.45  3.6   4.55  1.05  0.35  2.2 ]\n",
      " [ 2.95 18.45  3.6   4.55  1.05  0.35  2.2 ]\n",
      " [ 2.65 21.76  4.18  4.59  1.15  0.32  2.29]\n",
      " [ 2.65 21.76  4.18  4.59  1.15  0.32  2.29]\n",
      " [ 2.65 21.76  4.18  4.59  1.15  0.32  2.29]\n",
      " [ 2.65 21.76  4.18  4.59  1.15  0.32  2.29]\n",
      " [ 2.65 21.76  4.18  4.59  1.15  0.32  2.29]\n",
      " [ 1.75  8.5   3.82  2.14  0.89  0.79  0.96]\n",
      " [ 1.75  8.5   3.82  2.14  0.89  0.79  0.96]\n",
      " [ 1.75  8.5   3.82  2.14  0.89  0.79  0.96]\n",
      " [ 1.75  8.5   3.82  2.14  0.89  0.79  0.96]\n",
      " [ 0.48  4.7   2.48  0.56  0.3   0.37  0.56]\n",
      " [ 0.48  4.7   2.48  0.56  0.3   0.37  0.56]\n",
      " [ 0.48  4.7   2.48  0.56  0.3   0.37  0.56]\n",
      " [ 0.48  4.7   2.48  0.56  0.3   0.37  0.56]\n",
      " [ 0.18 25.59  7.21  3.44  0.94  0.71  2.59]\n",
      " [ 0.18 25.59  7.21  3.44  0.94  0.71  2.59]\n",
      " [ 0.18 25.59  7.21  3.44  0.94  0.71  2.59]\n",
      " [ 0.18 25.59  7.21  3.44  0.94  0.71  2.59]\n",
      " [ 0.18 25.59  7.21  3.44  0.94  0.71  2.59]\n",
      " [ 0.18 25.59  7.21  3.44  0.94  0.71  2.59]\n",
      " [ 1.95 12.25  5.2   3.85  0.7   0.1   1.6 ]\n",
      " [ 1.95 12.25  5.2   3.85  0.7   0.1   1.6 ]\n",
      " [ 1.95 12.25  5.2   3.85  0.7   0.1   1.6 ]\n",
      " [ 1.95 12.25  5.2   3.85  0.7   0.1   1.6 ]\n",
      " [ 1.29 13.71  4.48  1.71  0.38  0.86  0.95]\n",
      " [ 1.29 13.71  4.48  1.71  0.38  0.86  0.95]\n",
      " [ 1.29 13.71  4.48  1.71  0.38  0.86  0.95]\n",
      " [ 1.29 13.71  4.48  1.71  0.38  0.86  0.95]\n",
      " [ 1.29 13.71  4.48  1.71  0.38  0.86  0.95]\n",
      " [ 1.29 13.71  4.48  1.71  0.38  0.86  0.95]\n",
      " [ 1.73  7.94  6.61  1.67  1.61  1.18  1.21]\n",
      " [ 1.73  7.94  6.61  1.67  1.61  1.18  1.21]\n",
      " [ 1.73  7.94  6.61  1.67  1.61  1.18  1.21]\n",
      " [ 1.73  7.94  6.61  1.67  1.61  1.18  1.21]\n",
      " [ 1.73  7.94  6.61  1.67  1.61  1.18  1.21]\n",
      " [ 1.73  7.94  6.61  1.67  1.61  1.18  1.21]\n",
      " [  nan   nan   nan   nan   nan   nan   nan]\n",
      " [  nan   nan   nan   nan   nan   nan   nan]\n",
      " [  nan   nan   nan   nan   nan   nan   nan]\n",
      " [  nan   nan   nan   nan   nan   nan   nan]\n",
      " [  nan   nan   nan   nan   nan   nan   nan]\n",
      " [ 2.66 28.62  8.41  8.97  1.    0.69  4.16]\n",
      " [ 2.66 28.62  8.41  8.97  1.    0.69  4.16]\n",
      " [ 2.66 28.62  8.41  8.97  1.    0.69  4.16]\n",
      " [ 2.66 28.62  8.41  8.97  1.    0.69  4.16]\n",
      " [ 2.66 28.62  8.41  8.97  1.    0.69  4.16]\n",
      " [ 3.41 14.84  3.54  1.76  0.54  0.19  0.78]\n",
      " [ 3.41 14.84  3.54  1.76  0.54  0.19  0.78]\n",
      " [ 3.41 14.84  3.54  1.76  0.54  0.19  0.78]\n",
      " [ 3.41 14.84  3.54  1.76  0.54  0.19  0.78]\n",
      " [ 2.5  19.96  5.21  4.54  1.5   0.46  2.21]\n",
      " [ 2.5  19.96  5.21  4.54  1.5   0.46  2.21]\n",
      " [ 2.5  19.96  5.21  4.54  1.5   0.46  2.21]\n",
      " [ 2.5  19.96  5.21  4.54  1.5   0.46  2.21]\n",
      " [ 2.5  19.96  5.21  4.54  1.5   0.46  2.21]\n",
      " [ 0.11 13.46  9.89  1.71  0.46  1.69  1.54]\n",
      " [ 0.11 13.46  9.89  1.71  0.46  1.69  1.54]\n",
      " [ 0.11 13.46  9.89  1.71  0.46  1.69  1.54]\n",
      " [ 0.11 13.46  9.89  1.71  0.46  1.69  1.54]]\n"
     ]
    },
    {
     "ename": "ValueError",
     "evalue": "lam value too large",
     "output_type": "error",
     "traceback": [
      "\u001B[1;31m---------------------------------------------------------------------------\u001B[0m",
      "\u001B[1;31mValueError\u001B[0m                                Traceback (most recent call last)",
      "\u001B[1;32m<ipython-input-109-bbbd11b85000>\u001B[0m in \u001B[0;36m<module>\u001B[1;34m\u001B[0m\n\u001B[1;32m----> 1\u001B[1;33m \u001B[0msimulate_stats\u001B[0m\u001B[1;33m(\u001B[0m\u001B[0mwak\u001B[0m\u001B[1;33m,\u001B[0m \u001B[1;36m10\u001B[0m\u001B[1;33m)\u001B[0m\u001B[1;33m\u001B[0m\u001B[1;33m\u001B[0m\u001B[0m\n\u001B[0m",
      "\u001B[1;32m<ipython-input-108-6e276a36548e>\u001B[0m in \u001B[0;36msimulate_stats\u001B[1;34m(team_df, n_reps)\u001B[0m\n\u001B[0;32m      5\u001B[0m     \u001B[0mgaus_stats\u001B[0m \u001B[1;33m=\u001B[0m \u001B[0mteam_df\u001B[0m\u001B[1;33m.\u001B[0m\u001B[0mloc\u001B[0m\u001B[1;33m[\u001B[0m\u001B[1;33m:\u001B[0m\u001B[1;33m,\u001B[0m \u001B[0mgaussian_stats\u001B[0m\u001B[1;33m]\u001B[0m\u001B[1;33m.\u001B[0m\u001B[0mvalues\u001B[0m\u001B[1;33m\u001B[0m\u001B[1;33m\u001B[0m\u001B[0m\n\u001B[0;32m      6\u001B[0m     \u001B[0mprint\u001B[0m\u001B[1;33m(\u001B[0m\u001B[0mpois_stats\u001B[0m\u001B[1;33m)\u001B[0m\u001B[1;33m\u001B[0m\u001B[1;33m\u001B[0m\u001B[0m\n\u001B[1;32m----> 7\u001B[1;33m     pois = np.random.poisson(lam=pois_stats,\n\u001B[0m\u001B[0;32m      8\u001B[0m                              size=(n_reps, *pois_stats.shape))\n\u001B[0;32m      9\u001B[0m     \u001B[0mpois\u001B[0m \u001B[1;33m=\u001B[0m \u001B[0mnp\u001B[0m\u001B[1;33m.\u001B[0m\u001B[0mmaximum\u001B[0m\u001B[1;33m(\u001B[0m\u001B[1;36m0\u001B[0m\u001B[1;33m,\u001B[0m \u001B[0mpois\u001B[0m\u001B[1;33m)\u001B[0m\u001B[1;33m\u001B[0m\u001B[1;33m\u001B[0m\u001B[0m\n",
      "\u001B[1;32mmtrand.pyx\u001B[0m in \u001B[0;36mnumpy.random.mtrand.RandomState.poisson\u001B[1;34m()\u001B[0m\n",
      "\u001B[1;32m_common.pyx\u001B[0m in \u001B[0;36mnumpy.random._common.disc\u001B[1;34m()\u001B[0m\n",
      "\u001B[1;32m_common.pyx\u001B[0m in \u001B[0;36mnumpy.random._common.discrete_broadcast_d\u001B[1;34m()\u001B[0m\n",
      "\u001B[1;32m_common.pyx\u001B[0m in \u001B[0;36mnumpy.random._common.check_array_constraint\u001B[1;34m()\u001B[0m\n",
      "\u001B[1;31mValueError\u001B[0m: lam value too large"
     ]
    }
   ],
   "source": [
    "simulate_stats(wak, 10)"
   ],
   "metadata": {
    "collapsed": false,
    "pycharm": {
     "name": "#%%\n"
    }
   }
  },
  {
   "cell_type": "code",
   "execution_count": 114,
   "outputs": [
    {
     "data": {
      "text/plain": "               PLAYER  FG_PCT  FT_PCT  FG3M    PTS   REB   AST   STL   BLK  \\\n0        Kemba Walker   0.388   0.914  2.95  18.45  3.60  4.55  1.05  0.35   \n1        Kemba Walker   0.388   0.914  2.95  18.45  3.60  4.55  1.05  0.35   \n2        Kemba Walker   0.388   0.914  2.95  18.45  3.60  4.55  1.05  0.35   \n3        Kemba Walker   0.388   0.914  2.95  18.45  3.60  4.55  1.05  0.35   \n4        Jamal Murray   0.487   0.846  2.65  21.76  4.18  4.59  1.15  0.32   \n5        Jamal Murray   0.487   0.846  2.65  21.76  4.18  4.59  1.15  0.32   \n6        Jamal Murray   0.487   0.846  2.65  21.76  4.18  4.59  1.15  0.32   \n7        Jamal Murray   0.487   0.846  2.65  21.76  4.18  4.59  1.15  0.32   \n8        Jamal Murray   0.487   0.846  2.65  21.76  4.18  4.59  1.15  0.32   \n9    Patrick Beverley   0.446   0.795  1.75   8.50  3.82  2.14  0.89  0.79   \n10   Patrick Beverley   0.446   0.795  1.75   8.50  3.82  2.14  0.89  0.79   \n11   Patrick Beverley   0.446   0.795  1.75   8.50  3.82  2.14  0.89  0.79   \n12   Patrick Beverley   0.446   0.795  1.75   8.50  3.82  2.14  0.89  0.79   \n13         Obi Toppin   0.486   0.714  0.48   4.70  2.48  0.56  0.30  0.37   \n14         Obi Toppin   0.486   0.714  0.48   4.70  2.48  0.56  0.30  0.37   \n15         Obi Toppin   0.486   0.714  0.48   4.70  2.48  0.56  0.30  0.37   \n16         Obi Toppin   0.486   0.714  0.48   4.70  2.48  0.56  0.30  0.37   \n17    Zion Williamson   0.614   0.695  0.18  25.59  7.21  3.44  0.94  0.71   \n18    Zion Williamson   0.614   0.695  0.18  25.59  7.21  3.44  0.94  0.71   \n19    Zion Williamson   0.614   0.695  0.18  25.59  7.21  3.44  0.94  0.71   \n20    Zion Williamson   0.614   0.695  0.18  25.59  7.21  3.44  0.94  0.71   \n21    Zion Williamson   0.614   0.695  0.18  25.59  7.21  3.44  0.94  0.71   \n22    Zion Williamson   0.614   0.695  0.18  25.59  7.21  3.44  0.94  0.71   \n23      Blake Griffin   0.365   0.710  1.95  12.25  5.20  3.85  0.70  0.10   \n24      Blake Griffin   0.365   0.710  1.95  12.25  5.20  3.85  0.70  0.10   \n25      Blake Griffin   0.365   0.710  1.95  12.25  5.20  3.85  0.70  0.10   \n26      Blake Griffin   0.365   0.710  1.95  12.25  5.20  3.85  0.70  0.10   \n31  LaMarcus Aldridge   0.464   0.838  1.29  13.71  4.48  1.71  0.38  0.86   \n32  LaMarcus Aldridge   0.464   0.838  1.29  13.71  4.48  1.71  0.38  0.86   \n33  LaMarcus Aldridge   0.464   0.838  1.29  13.71  4.48  1.71  0.38  0.86   \n34  LaMarcus Aldridge   0.464   0.838  1.29  13.71  4.48  1.71  0.38  0.86   \n35  LaMarcus Aldridge   0.464   0.838  1.29  13.71  4.48  1.71  0.38  0.86   \n36  LaMarcus Aldridge   0.464   0.838  1.29  13.71  4.48  1.71  0.38  0.86   \n37   Robert Covington   0.374   0.821  1.73   7.94  6.61  1.67  1.61  1.18   \n38   Robert Covington   0.374   0.821  1.73   7.94  6.61  1.67  1.61  1.18   \n39   Robert Covington   0.374   0.821  1.73   7.94  6.61  1.67  1.61  1.18   \n40   Robert Covington   0.374   0.821  1.73   7.94  6.61  1.67  1.61  1.18   \n41   Robert Covington   0.374   0.821  1.73   7.94  6.61  1.67  1.61  1.18   \n42   Robert Covington   0.374   0.821  1.73   7.94  6.61  1.67  1.61  1.18   \n49   Kevin Porter Jr.     NaN     NaN   NaN    NaN   NaN   NaN   NaN   NaN   \n50   Kevin Porter Jr.     NaN     NaN   NaN    NaN   NaN   NaN   NaN   NaN   \n51   Kevin Porter Jr.     NaN     NaN   NaN    NaN   NaN   NaN   NaN   NaN   \n52   Kevin Porter Jr.     NaN     NaN   NaN    NaN   NaN   NaN   NaN   NaN   \n53   Kevin Porter Jr.     NaN     NaN   NaN    NaN   NaN   NaN   NaN   NaN   \n54        Luka Doncic   0.478   0.757  2.66  28.62  8.41  8.97  1.00  0.69   \n55        Luka Doncic   0.478   0.757  2.66  28.62  8.41  8.97  1.00  0.69   \n56        Luka Doncic   0.478   0.757  2.66  28.62  8.41  8.97  1.00  0.69   \n57        Luka Doncic   0.478   0.757  2.66  28.62  8.41  8.97  1.00  0.69   \n58        Luka Doncic   0.478   0.757  2.66  28.62  8.41  8.97  1.00  0.69   \n59         Joe Harris   0.530   0.700  3.41  14.84  3.54  1.76  0.54  0.19   \n60         Joe Harris   0.530   0.700  3.41  14.84  3.54  1.76  0.54  0.19   \n61         Joe Harris   0.530   0.700  3.41  14.84  3.54  1.76  0.54  0.19   \n62         Joe Harris   0.530   0.700  3.41  14.84  3.54  1.76  0.54  0.19   \n63     Victor Oladipo   0.399   0.747  2.50  19.96  5.21  4.54  1.50  0.46   \n64     Victor Oladipo   0.399   0.747  2.50  19.96  5.21  4.54  1.50  0.46   \n65     Victor Oladipo   0.399   0.747  2.50  19.96  5.21  4.54  1.50  0.46   \n66     Victor Oladipo   0.399   0.747  2.50  19.96  5.21  4.54  1.50  0.46   \n67     Victor Oladipo   0.399   0.747  2.50  19.96  5.21  4.54  1.50  0.46   \n68      Jarrett Allen   0.669   0.741  0.11  13.46  9.89  1.71  0.46  1.69   \n69      Jarrett Allen   0.669   0.741  0.11  13.46  9.89  1.71  0.46  1.69   \n\n     TOV  G  \n0   2.20  4  \n1   2.20  4  \n2   2.20  4  \n3   2.20  4  \n4   2.29  5  \n5   2.29  5  \n6   2.29  5  \n7   2.29  5  \n8   2.29  5  \n9   0.96  4  \n10  0.96  4  \n11  0.96  4  \n12  0.96  4  \n13  0.56  4  \n14  0.56  4  \n15  0.56  4  \n16  0.56  4  \n17  2.59  6  \n18  2.59  6  \n19  2.59  6  \n20  2.59  6  \n21  2.59  6  \n22  2.59  6  \n23  1.60  4  \n24  1.60  4  \n25  1.60  4  \n26  1.60  4  \n31  0.95  6  \n32  0.95  6  \n33  0.95  6  \n34  0.95  6  \n35  0.95  6  \n36  0.95  6  \n37  1.21  6  \n38  1.21  6  \n39  1.21  6  \n40  1.21  6  \n41  1.21  6  \n42  1.21  6  \n49   NaN  5  \n50   NaN  5  \n51   NaN  5  \n52   NaN  5  \n53   NaN  5  \n54  4.16  5  \n55  4.16  5  \n56  4.16  5  \n57  4.16  5  \n58  4.16  5  \n59  0.78  4  \n60  0.78  4  \n61  0.78  4  \n62  0.78  4  \n63  2.21  5  \n64  2.21  5  \n65  2.21  5  \n66  2.21  5  \n67  2.21  5  \n68  1.54  4  \n69  1.54  4  ",
      "text/html": "<div>\n<style scoped>\n    .dataframe tbody tr th:only-of-type {\n        vertical-align: middle;\n    }\n\n    .dataframe tbody tr th {\n        vertical-align: top;\n    }\n\n    .dataframe thead th {\n        text-align: right;\n    }\n</style>\n<table border=\"1\" class=\"dataframe\">\n  <thead>\n    <tr style=\"text-align: right;\">\n      <th></th>\n      <th>PLAYER</th>\n      <th>FG_PCT</th>\n      <th>FT_PCT</th>\n      <th>FG3M</th>\n      <th>PTS</th>\n      <th>REB</th>\n      <th>AST</th>\n      <th>STL</th>\n      <th>BLK</th>\n      <th>TOV</th>\n      <th>G</th>\n    </tr>\n  </thead>\n  <tbody>\n    <tr>\n      <th>0</th>\n      <td>Kemba Walker</td>\n      <td>0.388</td>\n      <td>0.914</td>\n      <td>2.95</td>\n      <td>18.45</td>\n      <td>3.60</td>\n      <td>4.55</td>\n      <td>1.05</td>\n      <td>0.35</td>\n      <td>2.20</td>\n      <td>4</td>\n    </tr>\n    <tr>\n      <th>1</th>\n      <td>Kemba Walker</td>\n      <td>0.388</td>\n      <td>0.914</td>\n      <td>2.95</td>\n      <td>18.45</td>\n      <td>3.60</td>\n      <td>4.55</td>\n      <td>1.05</td>\n      <td>0.35</td>\n      <td>2.20</td>\n      <td>4</td>\n    </tr>\n    <tr>\n      <th>2</th>\n      <td>Kemba Walker</td>\n      <td>0.388</td>\n      <td>0.914</td>\n      <td>2.95</td>\n      <td>18.45</td>\n      <td>3.60</td>\n      <td>4.55</td>\n      <td>1.05</td>\n      <td>0.35</td>\n      <td>2.20</td>\n      <td>4</td>\n    </tr>\n    <tr>\n      <th>3</th>\n      <td>Kemba Walker</td>\n      <td>0.388</td>\n      <td>0.914</td>\n      <td>2.95</td>\n      <td>18.45</td>\n      <td>3.60</td>\n      <td>4.55</td>\n      <td>1.05</td>\n      <td>0.35</td>\n      <td>2.20</td>\n      <td>4</td>\n    </tr>\n    <tr>\n      <th>4</th>\n      <td>Jamal Murray</td>\n      <td>0.487</td>\n      <td>0.846</td>\n      <td>2.65</td>\n      <td>21.76</td>\n      <td>4.18</td>\n      <td>4.59</td>\n      <td>1.15</td>\n      <td>0.32</td>\n      <td>2.29</td>\n      <td>5</td>\n    </tr>\n    <tr>\n      <th>5</th>\n      <td>Jamal Murray</td>\n      <td>0.487</td>\n      <td>0.846</td>\n      <td>2.65</td>\n      <td>21.76</td>\n      <td>4.18</td>\n      <td>4.59</td>\n      <td>1.15</td>\n      <td>0.32</td>\n      <td>2.29</td>\n      <td>5</td>\n    </tr>\n    <tr>\n      <th>6</th>\n      <td>Jamal Murray</td>\n      <td>0.487</td>\n      <td>0.846</td>\n      <td>2.65</td>\n      <td>21.76</td>\n      <td>4.18</td>\n      <td>4.59</td>\n      <td>1.15</td>\n      <td>0.32</td>\n      <td>2.29</td>\n      <td>5</td>\n    </tr>\n    <tr>\n      <th>7</th>\n      <td>Jamal Murray</td>\n      <td>0.487</td>\n      <td>0.846</td>\n      <td>2.65</td>\n      <td>21.76</td>\n      <td>4.18</td>\n      <td>4.59</td>\n      <td>1.15</td>\n      <td>0.32</td>\n      <td>2.29</td>\n      <td>5</td>\n    </tr>\n    <tr>\n      <th>8</th>\n      <td>Jamal Murray</td>\n      <td>0.487</td>\n      <td>0.846</td>\n      <td>2.65</td>\n      <td>21.76</td>\n      <td>4.18</td>\n      <td>4.59</td>\n      <td>1.15</td>\n      <td>0.32</td>\n      <td>2.29</td>\n      <td>5</td>\n    </tr>\n    <tr>\n      <th>9</th>\n      <td>Patrick Beverley</td>\n      <td>0.446</td>\n      <td>0.795</td>\n      <td>1.75</td>\n      <td>8.50</td>\n      <td>3.82</td>\n      <td>2.14</td>\n      <td>0.89</td>\n      <td>0.79</td>\n      <td>0.96</td>\n      <td>4</td>\n    </tr>\n    <tr>\n      <th>10</th>\n      <td>Patrick Beverley</td>\n      <td>0.446</td>\n      <td>0.795</td>\n      <td>1.75</td>\n      <td>8.50</td>\n      <td>3.82</td>\n      <td>2.14</td>\n      <td>0.89</td>\n      <td>0.79</td>\n      <td>0.96</td>\n      <td>4</td>\n    </tr>\n    <tr>\n      <th>11</th>\n      <td>Patrick Beverley</td>\n      <td>0.446</td>\n      <td>0.795</td>\n      <td>1.75</td>\n      <td>8.50</td>\n      <td>3.82</td>\n      <td>2.14</td>\n      <td>0.89</td>\n      <td>0.79</td>\n      <td>0.96</td>\n      <td>4</td>\n    </tr>\n    <tr>\n      <th>12</th>\n      <td>Patrick Beverley</td>\n      <td>0.446</td>\n      <td>0.795</td>\n      <td>1.75</td>\n      <td>8.50</td>\n      <td>3.82</td>\n      <td>2.14</td>\n      <td>0.89</td>\n      <td>0.79</td>\n      <td>0.96</td>\n      <td>4</td>\n    </tr>\n    <tr>\n      <th>13</th>\n      <td>Obi Toppin</td>\n      <td>0.486</td>\n      <td>0.714</td>\n      <td>0.48</td>\n      <td>4.70</td>\n      <td>2.48</td>\n      <td>0.56</td>\n      <td>0.30</td>\n      <td>0.37</td>\n      <td>0.56</td>\n      <td>4</td>\n    </tr>\n    <tr>\n      <th>14</th>\n      <td>Obi Toppin</td>\n      <td>0.486</td>\n      <td>0.714</td>\n      <td>0.48</td>\n      <td>4.70</td>\n      <td>2.48</td>\n      <td>0.56</td>\n      <td>0.30</td>\n      <td>0.37</td>\n      <td>0.56</td>\n      <td>4</td>\n    </tr>\n    <tr>\n      <th>15</th>\n      <td>Obi Toppin</td>\n      <td>0.486</td>\n      <td>0.714</td>\n      <td>0.48</td>\n      <td>4.70</td>\n      <td>2.48</td>\n      <td>0.56</td>\n      <td>0.30</td>\n      <td>0.37</td>\n      <td>0.56</td>\n      <td>4</td>\n    </tr>\n    <tr>\n      <th>16</th>\n      <td>Obi Toppin</td>\n      <td>0.486</td>\n      <td>0.714</td>\n      <td>0.48</td>\n      <td>4.70</td>\n      <td>2.48</td>\n      <td>0.56</td>\n      <td>0.30</td>\n      <td>0.37</td>\n      <td>0.56</td>\n      <td>4</td>\n    </tr>\n    <tr>\n      <th>17</th>\n      <td>Zion Williamson</td>\n      <td>0.614</td>\n      <td>0.695</td>\n      <td>0.18</td>\n      <td>25.59</td>\n      <td>7.21</td>\n      <td>3.44</td>\n      <td>0.94</td>\n      <td>0.71</td>\n      <td>2.59</td>\n      <td>6</td>\n    </tr>\n    <tr>\n      <th>18</th>\n      <td>Zion Williamson</td>\n      <td>0.614</td>\n      <td>0.695</td>\n      <td>0.18</td>\n      <td>25.59</td>\n      <td>7.21</td>\n      <td>3.44</td>\n      <td>0.94</td>\n      <td>0.71</td>\n      <td>2.59</td>\n      <td>6</td>\n    </tr>\n    <tr>\n      <th>19</th>\n      <td>Zion Williamson</td>\n      <td>0.614</td>\n      <td>0.695</td>\n      <td>0.18</td>\n      <td>25.59</td>\n      <td>7.21</td>\n      <td>3.44</td>\n      <td>0.94</td>\n      <td>0.71</td>\n      <td>2.59</td>\n      <td>6</td>\n    </tr>\n    <tr>\n      <th>20</th>\n      <td>Zion Williamson</td>\n      <td>0.614</td>\n      <td>0.695</td>\n      <td>0.18</td>\n      <td>25.59</td>\n      <td>7.21</td>\n      <td>3.44</td>\n      <td>0.94</td>\n      <td>0.71</td>\n      <td>2.59</td>\n      <td>6</td>\n    </tr>\n    <tr>\n      <th>21</th>\n      <td>Zion Williamson</td>\n      <td>0.614</td>\n      <td>0.695</td>\n      <td>0.18</td>\n      <td>25.59</td>\n      <td>7.21</td>\n      <td>3.44</td>\n      <td>0.94</td>\n      <td>0.71</td>\n      <td>2.59</td>\n      <td>6</td>\n    </tr>\n    <tr>\n      <th>22</th>\n      <td>Zion Williamson</td>\n      <td>0.614</td>\n      <td>0.695</td>\n      <td>0.18</td>\n      <td>25.59</td>\n      <td>7.21</td>\n      <td>3.44</td>\n      <td>0.94</td>\n      <td>0.71</td>\n      <td>2.59</td>\n      <td>6</td>\n    </tr>\n    <tr>\n      <th>23</th>\n      <td>Blake Griffin</td>\n      <td>0.365</td>\n      <td>0.710</td>\n      <td>1.95</td>\n      <td>12.25</td>\n      <td>5.20</td>\n      <td>3.85</td>\n      <td>0.70</td>\n      <td>0.10</td>\n      <td>1.60</td>\n      <td>4</td>\n    </tr>\n    <tr>\n      <th>24</th>\n      <td>Blake Griffin</td>\n      <td>0.365</td>\n      <td>0.710</td>\n      <td>1.95</td>\n      <td>12.25</td>\n      <td>5.20</td>\n      <td>3.85</td>\n      <td>0.70</td>\n      <td>0.10</td>\n      <td>1.60</td>\n      <td>4</td>\n    </tr>\n    <tr>\n      <th>25</th>\n      <td>Blake Griffin</td>\n      <td>0.365</td>\n      <td>0.710</td>\n      <td>1.95</td>\n      <td>12.25</td>\n      <td>5.20</td>\n      <td>3.85</td>\n      <td>0.70</td>\n      <td>0.10</td>\n      <td>1.60</td>\n      <td>4</td>\n    </tr>\n    <tr>\n      <th>26</th>\n      <td>Blake Griffin</td>\n      <td>0.365</td>\n      <td>0.710</td>\n      <td>1.95</td>\n      <td>12.25</td>\n      <td>5.20</td>\n      <td>3.85</td>\n      <td>0.70</td>\n      <td>0.10</td>\n      <td>1.60</td>\n      <td>4</td>\n    </tr>\n    <tr>\n      <th>31</th>\n      <td>LaMarcus Aldridge</td>\n      <td>0.464</td>\n      <td>0.838</td>\n      <td>1.29</td>\n      <td>13.71</td>\n      <td>4.48</td>\n      <td>1.71</td>\n      <td>0.38</td>\n      <td>0.86</td>\n      <td>0.95</td>\n      <td>6</td>\n    </tr>\n    <tr>\n      <th>32</th>\n      <td>LaMarcus Aldridge</td>\n      <td>0.464</td>\n      <td>0.838</td>\n      <td>1.29</td>\n      <td>13.71</td>\n      <td>4.48</td>\n      <td>1.71</td>\n      <td>0.38</td>\n      <td>0.86</td>\n      <td>0.95</td>\n      <td>6</td>\n    </tr>\n    <tr>\n      <th>33</th>\n      <td>LaMarcus Aldridge</td>\n      <td>0.464</td>\n      <td>0.838</td>\n      <td>1.29</td>\n      <td>13.71</td>\n      <td>4.48</td>\n      <td>1.71</td>\n      <td>0.38</td>\n      <td>0.86</td>\n      <td>0.95</td>\n      <td>6</td>\n    </tr>\n    <tr>\n      <th>34</th>\n      <td>LaMarcus Aldridge</td>\n      <td>0.464</td>\n      <td>0.838</td>\n      <td>1.29</td>\n      <td>13.71</td>\n      <td>4.48</td>\n      <td>1.71</td>\n      <td>0.38</td>\n      <td>0.86</td>\n      <td>0.95</td>\n      <td>6</td>\n    </tr>\n    <tr>\n      <th>35</th>\n      <td>LaMarcus Aldridge</td>\n      <td>0.464</td>\n      <td>0.838</td>\n      <td>1.29</td>\n      <td>13.71</td>\n      <td>4.48</td>\n      <td>1.71</td>\n      <td>0.38</td>\n      <td>0.86</td>\n      <td>0.95</td>\n      <td>6</td>\n    </tr>\n    <tr>\n      <th>36</th>\n      <td>LaMarcus Aldridge</td>\n      <td>0.464</td>\n      <td>0.838</td>\n      <td>1.29</td>\n      <td>13.71</td>\n      <td>4.48</td>\n      <td>1.71</td>\n      <td>0.38</td>\n      <td>0.86</td>\n      <td>0.95</td>\n      <td>6</td>\n    </tr>\n    <tr>\n      <th>37</th>\n      <td>Robert Covington</td>\n      <td>0.374</td>\n      <td>0.821</td>\n      <td>1.73</td>\n      <td>7.94</td>\n      <td>6.61</td>\n      <td>1.67</td>\n      <td>1.61</td>\n      <td>1.18</td>\n      <td>1.21</td>\n      <td>6</td>\n    </tr>\n    <tr>\n      <th>38</th>\n      <td>Robert Covington</td>\n      <td>0.374</td>\n      <td>0.821</td>\n      <td>1.73</td>\n      <td>7.94</td>\n      <td>6.61</td>\n      <td>1.67</td>\n      <td>1.61</td>\n      <td>1.18</td>\n      <td>1.21</td>\n      <td>6</td>\n    </tr>\n    <tr>\n      <th>39</th>\n      <td>Robert Covington</td>\n      <td>0.374</td>\n      <td>0.821</td>\n      <td>1.73</td>\n      <td>7.94</td>\n      <td>6.61</td>\n      <td>1.67</td>\n      <td>1.61</td>\n      <td>1.18</td>\n      <td>1.21</td>\n      <td>6</td>\n    </tr>\n    <tr>\n      <th>40</th>\n      <td>Robert Covington</td>\n      <td>0.374</td>\n      <td>0.821</td>\n      <td>1.73</td>\n      <td>7.94</td>\n      <td>6.61</td>\n      <td>1.67</td>\n      <td>1.61</td>\n      <td>1.18</td>\n      <td>1.21</td>\n      <td>6</td>\n    </tr>\n    <tr>\n      <th>41</th>\n      <td>Robert Covington</td>\n      <td>0.374</td>\n      <td>0.821</td>\n      <td>1.73</td>\n      <td>7.94</td>\n      <td>6.61</td>\n      <td>1.67</td>\n      <td>1.61</td>\n      <td>1.18</td>\n      <td>1.21</td>\n      <td>6</td>\n    </tr>\n    <tr>\n      <th>42</th>\n      <td>Robert Covington</td>\n      <td>0.374</td>\n      <td>0.821</td>\n      <td>1.73</td>\n      <td>7.94</td>\n      <td>6.61</td>\n      <td>1.67</td>\n      <td>1.61</td>\n      <td>1.18</td>\n      <td>1.21</td>\n      <td>6</td>\n    </tr>\n    <tr>\n      <th>49</th>\n      <td>Kevin Porter Jr.</td>\n      <td>NaN</td>\n      <td>NaN</td>\n      <td>NaN</td>\n      <td>NaN</td>\n      <td>NaN</td>\n      <td>NaN</td>\n      <td>NaN</td>\n      <td>NaN</td>\n      <td>NaN</td>\n      <td>5</td>\n    </tr>\n    <tr>\n      <th>50</th>\n      <td>Kevin Porter Jr.</td>\n      <td>NaN</td>\n      <td>NaN</td>\n      <td>NaN</td>\n      <td>NaN</td>\n      <td>NaN</td>\n      <td>NaN</td>\n      <td>NaN</td>\n      <td>NaN</td>\n      <td>NaN</td>\n      <td>5</td>\n    </tr>\n    <tr>\n      <th>51</th>\n      <td>Kevin Porter Jr.</td>\n      <td>NaN</td>\n      <td>NaN</td>\n      <td>NaN</td>\n      <td>NaN</td>\n      <td>NaN</td>\n      <td>NaN</td>\n      <td>NaN</td>\n      <td>NaN</td>\n      <td>NaN</td>\n      <td>5</td>\n    </tr>\n    <tr>\n      <th>52</th>\n      <td>Kevin Porter Jr.</td>\n      <td>NaN</td>\n      <td>NaN</td>\n      <td>NaN</td>\n      <td>NaN</td>\n      <td>NaN</td>\n      <td>NaN</td>\n      <td>NaN</td>\n      <td>NaN</td>\n      <td>NaN</td>\n      <td>5</td>\n    </tr>\n    <tr>\n      <th>53</th>\n      <td>Kevin Porter Jr.</td>\n      <td>NaN</td>\n      <td>NaN</td>\n      <td>NaN</td>\n      <td>NaN</td>\n      <td>NaN</td>\n      <td>NaN</td>\n      <td>NaN</td>\n      <td>NaN</td>\n      <td>NaN</td>\n      <td>5</td>\n    </tr>\n    <tr>\n      <th>54</th>\n      <td>Luka Doncic</td>\n      <td>0.478</td>\n      <td>0.757</td>\n      <td>2.66</td>\n      <td>28.62</td>\n      <td>8.41</td>\n      <td>8.97</td>\n      <td>1.00</td>\n      <td>0.69</td>\n      <td>4.16</td>\n      <td>5</td>\n    </tr>\n    <tr>\n      <th>55</th>\n      <td>Luka Doncic</td>\n      <td>0.478</td>\n      <td>0.757</td>\n      <td>2.66</td>\n      <td>28.62</td>\n      <td>8.41</td>\n      <td>8.97</td>\n      <td>1.00</td>\n      <td>0.69</td>\n      <td>4.16</td>\n      <td>5</td>\n    </tr>\n    <tr>\n      <th>56</th>\n      <td>Luka Doncic</td>\n      <td>0.478</td>\n      <td>0.757</td>\n      <td>2.66</td>\n      <td>28.62</td>\n      <td>8.41</td>\n      <td>8.97</td>\n      <td>1.00</td>\n      <td>0.69</td>\n      <td>4.16</td>\n      <td>5</td>\n    </tr>\n    <tr>\n      <th>57</th>\n      <td>Luka Doncic</td>\n      <td>0.478</td>\n      <td>0.757</td>\n      <td>2.66</td>\n      <td>28.62</td>\n      <td>8.41</td>\n      <td>8.97</td>\n      <td>1.00</td>\n      <td>0.69</td>\n      <td>4.16</td>\n      <td>5</td>\n    </tr>\n    <tr>\n      <th>58</th>\n      <td>Luka Doncic</td>\n      <td>0.478</td>\n      <td>0.757</td>\n      <td>2.66</td>\n      <td>28.62</td>\n      <td>8.41</td>\n      <td>8.97</td>\n      <td>1.00</td>\n      <td>0.69</td>\n      <td>4.16</td>\n      <td>5</td>\n    </tr>\n    <tr>\n      <th>59</th>\n      <td>Joe Harris</td>\n      <td>0.530</td>\n      <td>0.700</td>\n      <td>3.41</td>\n      <td>14.84</td>\n      <td>3.54</td>\n      <td>1.76</td>\n      <td>0.54</td>\n      <td>0.19</td>\n      <td>0.78</td>\n      <td>4</td>\n    </tr>\n    <tr>\n      <th>60</th>\n      <td>Joe Harris</td>\n      <td>0.530</td>\n      <td>0.700</td>\n      <td>3.41</td>\n      <td>14.84</td>\n      <td>3.54</td>\n      <td>1.76</td>\n      <td>0.54</td>\n      <td>0.19</td>\n      <td>0.78</td>\n      <td>4</td>\n    </tr>\n    <tr>\n      <th>61</th>\n      <td>Joe Harris</td>\n      <td>0.530</td>\n      <td>0.700</td>\n      <td>3.41</td>\n      <td>14.84</td>\n      <td>3.54</td>\n      <td>1.76</td>\n      <td>0.54</td>\n      <td>0.19</td>\n      <td>0.78</td>\n      <td>4</td>\n    </tr>\n    <tr>\n      <th>62</th>\n      <td>Joe Harris</td>\n      <td>0.530</td>\n      <td>0.700</td>\n      <td>3.41</td>\n      <td>14.84</td>\n      <td>3.54</td>\n      <td>1.76</td>\n      <td>0.54</td>\n      <td>0.19</td>\n      <td>0.78</td>\n      <td>4</td>\n    </tr>\n    <tr>\n      <th>63</th>\n      <td>Victor Oladipo</td>\n      <td>0.399</td>\n      <td>0.747</td>\n      <td>2.50</td>\n      <td>19.96</td>\n      <td>5.21</td>\n      <td>4.54</td>\n      <td>1.50</td>\n      <td>0.46</td>\n      <td>2.21</td>\n      <td>5</td>\n    </tr>\n    <tr>\n      <th>64</th>\n      <td>Victor Oladipo</td>\n      <td>0.399</td>\n      <td>0.747</td>\n      <td>2.50</td>\n      <td>19.96</td>\n      <td>5.21</td>\n      <td>4.54</td>\n      <td>1.50</td>\n      <td>0.46</td>\n      <td>2.21</td>\n      <td>5</td>\n    </tr>\n    <tr>\n      <th>65</th>\n      <td>Victor Oladipo</td>\n      <td>0.399</td>\n      <td>0.747</td>\n      <td>2.50</td>\n      <td>19.96</td>\n      <td>5.21</td>\n      <td>4.54</td>\n      <td>1.50</td>\n      <td>0.46</td>\n      <td>2.21</td>\n      <td>5</td>\n    </tr>\n    <tr>\n      <th>66</th>\n      <td>Victor Oladipo</td>\n      <td>0.399</td>\n      <td>0.747</td>\n      <td>2.50</td>\n      <td>19.96</td>\n      <td>5.21</td>\n      <td>4.54</td>\n      <td>1.50</td>\n      <td>0.46</td>\n      <td>2.21</td>\n      <td>5</td>\n    </tr>\n    <tr>\n      <th>67</th>\n      <td>Victor Oladipo</td>\n      <td>0.399</td>\n      <td>0.747</td>\n      <td>2.50</td>\n      <td>19.96</td>\n      <td>5.21</td>\n      <td>4.54</td>\n      <td>1.50</td>\n      <td>0.46</td>\n      <td>2.21</td>\n      <td>5</td>\n    </tr>\n    <tr>\n      <th>68</th>\n      <td>Jarrett Allen</td>\n      <td>0.669</td>\n      <td>0.741</td>\n      <td>0.11</td>\n      <td>13.46</td>\n      <td>9.89</td>\n      <td>1.71</td>\n      <td>0.46</td>\n      <td>1.69</td>\n      <td>1.54</td>\n      <td>4</td>\n    </tr>\n    <tr>\n      <th>69</th>\n      <td>Jarrett Allen</td>\n      <td>0.669</td>\n      <td>0.741</td>\n      <td>0.11</td>\n      <td>13.46</td>\n      <td>9.89</td>\n      <td>1.71</td>\n      <td>0.46</td>\n      <td>1.69</td>\n      <td>1.54</td>\n      <td>4</td>\n    </tr>\n  </tbody>\n</table>\n</div>"
     },
     "execution_count": 114,
     "metadata": {},
     "output_type": "execute_result"
    }
   ],
   "source": [
    "wak.head(60)"
   ],
   "metadata": {
    "collapsed": false,
    "pycharm": {
     "name": "#%%\n"
    }
   }
  },
  {
   "cell_type": "code",
   "execution_count": 62,
   "outputs": [
    {
     "data": {
      "text/plain": "6"
     },
     "execution_count": 62,
     "metadata": {},
     "output_type": "execute_result"
    }
   ],
   "source": [],
   "metadata": {
    "collapsed": false,
    "pycharm": {
     "name": "#%%\n"
    }
   }
  },
  {
   "cell_type": "code",
   "execution_count": 83,
   "outputs": [
    {
     "data": {
      "text/plain": "         FG_PCT  FT_PCT   FG3M  PTS    REB    AST   STL     BLK    TOV\nWinProb  76.282  18.665  1.206  0.0  0.001  1.825  7.14  82.119  74.49",
      "text/html": "<div>\n<style scoped>\n    .dataframe tbody tr th:only-of-type {\n        vertical-align: middle;\n    }\n\n    .dataframe tbody tr th {\n        vertical-align: top;\n    }\n\n    .dataframe thead th {\n        text-align: right;\n    }\n</style>\n<table border=\"1\" class=\"dataframe\">\n  <thead>\n    <tr style=\"text-align: right;\">\n      <th></th>\n      <th>FG_PCT</th>\n      <th>FT_PCT</th>\n      <th>FG3M</th>\n      <th>PTS</th>\n      <th>REB</th>\n      <th>AST</th>\n      <th>STL</th>\n      <th>BLK</th>\n      <th>TOV</th>\n    </tr>\n  </thead>\n  <tbody>\n    <tr>\n      <th>WinProb</th>\n      <td>76.282</td>\n      <td>18.665</td>\n      <td>1.206</td>\n      <td>0.0</td>\n      <td>0.001</td>\n      <td>1.825</td>\n      <td>7.14</td>\n      <td>82.119</td>\n      <td>74.49</td>\n    </tr>\n  </tbody>\n</table>\n</div>"
     },
     "execution_count": 83,
     "metadata": {},
     "output_type": "execute_result"
    }
   ],
   "source": [
    "other_team = abs(simulated_cats.subtract(100))\n",
    "other_team"
   ],
   "metadata": {
    "collapsed": false,
    "pycharm": {
     "name": "#%%\n"
    }
   }
  },
  {
   "cell_type": "code",
   "execution_count": 84,
   "outputs": [
    {
     "data": {
      "text/plain": "         FG_PCT  FT_PCT    FG3M    PTS     REB     AST    STL     BLK    TOV\nWinProb  23.718  81.335  98.794  100.0  99.999  98.175  92.86  17.881  25.51\nWinProb  76.282  18.665   1.206    0.0   0.001   1.825   7.14  82.119  74.49",
      "text/html": "<div>\n<style scoped>\n    .dataframe tbody tr th:only-of-type {\n        vertical-align: middle;\n    }\n\n    .dataframe tbody tr th {\n        vertical-align: top;\n    }\n\n    .dataframe thead th {\n        text-align: right;\n    }\n</style>\n<table border=\"1\" class=\"dataframe\">\n  <thead>\n    <tr style=\"text-align: right;\">\n      <th></th>\n      <th>FG_PCT</th>\n      <th>FT_PCT</th>\n      <th>FG3M</th>\n      <th>PTS</th>\n      <th>REB</th>\n      <th>AST</th>\n      <th>STL</th>\n      <th>BLK</th>\n      <th>TOV</th>\n    </tr>\n  </thead>\n  <tbody>\n    <tr>\n      <th>WinProb</th>\n      <td>23.718</td>\n      <td>81.335</td>\n      <td>98.794</td>\n      <td>100.0</td>\n      <td>99.999</td>\n      <td>98.175</td>\n      <td>92.86</td>\n      <td>17.881</td>\n      <td>25.51</td>\n    </tr>\n    <tr>\n      <th>WinProb</th>\n      <td>76.282</td>\n      <td>18.665</td>\n      <td>1.206</td>\n      <td>0.0</td>\n      <td>0.001</td>\n      <td>1.825</td>\n      <td>7.14</td>\n      <td>82.119</td>\n      <td>74.49</td>\n    </tr>\n  </tbody>\n</table>\n</div>"
     },
     "execution_count": 84,
     "metadata": {},
     "output_type": "execute_result"
    }
   ],
   "source": [
    "total_df = simulated_cats.append(other_team)\n",
    "total_df"
   ],
   "metadata": {
    "collapsed": false,
    "pycharm": {
     "name": "#%%\n"
    }
   }
  },
  {
   "cell_type": "code",
   "execution_count": 85,
   "outputs": [],
   "source": [
    "total_df[\"\"] = [af.NUNN_OF_YALL_BETTA[\"name\"], af.RUSTY_CUNTBROOKS[\"name\"]]\n",
    "total_df.reset_index(drop=True, inplace=True)\n",
    "total_df.set_index(\"\", inplace=True)"
   ],
   "metadata": {
    "collapsed": false,
    "pycharm": {
     "name": "#%%\n"
    }
   }
  },
  {
   "cell_type": "code",
   "execution_count": 86,
   "outputs": [
    {
     "name": "stdout",
     "output_type": "stream",
     "text": [
      "6\n",
      "3\n"
     ]
    }
   ],
   "source": [
    "count = 0\n",
    "count2 = 0\n",
    "for value, value2 in zip(list(simulated_cats.values[0]), list(other_team.values[0])):\n",
    "    if float(value) > 50:\n",
    "        count+=1\n",
    "    if float(value2) > 50:\n",
    "        count2+=1\n",
    "print(count)\n",
    "print(count2)"
   ],
   "metadata": {
    "collapsed": false,
    "pycharm": {
     "name": "#%%\n"
    }
   }
  },
  {
   "cell_type": "code",
   "execution_count": 88,
   "outputs": [],
   "source": [
    "\n",
    "total_df['CATS'] = [count, count2]"
   ],
   "metadata": {
    "collapsed": false,
    "pycharm": {
     "name": "#%%\n"
    }
   }
  },
  {
   "cell_type": "code",
   "execution_count": 89,
   "outputs": [
    {
     "data": {
      "text/plain": "                     FG_PCT  FT_PCT    FG3M    PTS     REB     AST    STL  \\\nPLAYER                                                                      \nNunn of Y'all Betta  23.718  81.335  98.794  100.0  99.999  98.175  92.86   \nRussty Cuntbrooks    76.282  18.665   1.206    0.0   0.001   1.825   7.14   \n\n                        BLK    TOV  CATS  \nPLAYER                                    \nNunn of Y'all Betta  17.881  25.51     6  \nRussty Cuntbrooks    82.119  74.49     3  ",
      "text/html": "<div>\n<style scoped>\n    .dataframe tbody tr th:only-of-type {\n        vertical-align: middle;\n    }\n\n    .dataframe tbody tr th {\n        vertical-align: top;\n    }\n\n    .dataframe thead th {\n        text-align: right;\n    }\n</style>\n<table border=\"1\" class=\"dataframe\">\n  <thead>\n    <tr style=\"text-align: right;\">\n      <th></th>\n      <th>FG_PCT</th>\n      <th>FT_PCT</th>\n      <th>FG3M</th>\n      <th>PTS</th>\n      <th>REB</th>\n      <th>AST</th>\n      <th>STL</th>\n      <th>BLK</th>\n      <th>TOV</th>\n      <th>CATS</th>\n    </tr>\n    <tr>\n      <th>PLAYER</th>\n      <th></th>\n      <th></th>\n      <th></th>\n      <th></th>\n      <th></th>\n      <th></th>\n      <th></th>\n      <th></th>\n      <th></th>\n      <th></th>\n    </tr>\n  </thead>\n  <tbody>\n    <tr>\n      <th>Nunn of Y'all Betta</th>\n      <td>23.718</td>\n      <td>81.335</td>\n      <td>98.794</td>\n      <td>100.0</td>\n      <td>99.999</td>\n      <td>98.175</td>\n      <td>92.86</td>\n      <td>17.881</td>\n      <td>25.51</td>\n      <td>6</td>\n    </tr>\n    <tr>\n      <th>Russty Cuntbrooks</th>\n      <td>76.282</td>\n      <td>18.665</td>\n      <td>1.206</td>\n      <td>0.0</td>\n      <td>0.001</td>\n      <td>1.825</td>\n      <td>7.14</td>\n      <td>82.119</td>\n      <td>74.49</td>\n      <td>3</td>\n    </tr>\n  </tbody>\n</table>\n</div>"
     },
     "execution_count": 89,
     "metadata": {},
     "output_type": "execute_result"
    }
   ],
   "source": [
    "total_df\n"
   ],
   "metadata": {
    "collapsed": false,
    "pycharm": {
     "name": "#%%\n"
    }
   }
  },
  {
   "cell_type": "code",
   "execution_count": null,
   "outputs": [],
   "source": [
    "    simulated_cats = perc_win_df.T\n",
    "    other_team = abs(simulated_cats.subtract(100))\n",
    "    total_df = simulated_cats.append(other_team)\n",
    "    total_df[\"\"] = [team1_dict[\"name\"], team2_dict[\"name\"]]\n",
    "    total_df.set_index(\"\")\n",
    "    count = 0\n",
    "    count2 = 0\n",
    "    for value, value2 in zip(list(simulated_cats.values[0]), list(other_team.values[0])):\n",
    "        if float(value) > 50:\n",
    "            count += 1\n",
    "        if float(value2) > 50:\n",
    "            count2 += 1\n",
    "    total_df['CATS'] = [count, count2]"
   ],
   "metadata": {
    "collapsed": false,
    "pycharm": {
     "name": "#%%\n"
    }
   }
  }
 ],
 "metadata": {
  "kernelspec": {
   "display_name": "Python 3",
   "language": "python",
   "name": "python3"
  },
  "language_info": {
   "codemirror_mode": {
    "name": "ipython",
    "version": 2
   },
   "file_extension": ".py",
   "mimetype": "text/x-python",
   "name": "python",
   "nbconvert_exporter": "python",
   "pygments_lexer": "ipython2",
   "version": "2.7.6"
  }
 },
 "nbformat": 4,
 "nbformat_minor": 0
}