{
 "cells": [
  {
   "cell_type": "markdown",
   "metadata": {
    "collapsed": true,
    "pycharm": {
     "name": "#%% md\n"
    }
   },
   "source": [
    "# Yahoo Fantasy Sports API"
   ]
  },
  {
   "cell_type": "code",
   "execution_count": 2,
   "outputs": [
    {
     "name": "stderr",
     "output_type": "stream",
     "text": [
      "[2021-02-05 23:48:11,024 DEBUG] [yahoo_oauth.oauth.__init__] Checking \n",
      "[2021-02-05 23:48:11,025 DEBUG] [yahoo_oauth.oauth.token_is_valid] ELAPSED TIME : 2072.045577764511\n",
      "[2021-02-05 23:48:11,026 DEBUG] [yahoo_oauth.oauth.token_is_valid] TOKEN IS STILL VALID\n"
     ]
    }
   ],
   "source": [
    "# Authenticate\n",
    "from yahoo_oauth import OAuth2\n",
    "sc = OAuth2(None, None, from_file='../references/oauth2.json')"
   ],
   "metadata": {
    "collapsed": false,
    "pycharm": {
     "name": "#%%\n"
    }
   }
  },
  {
   "cell_type": "code",
   "execution_count": 3,
   "outputs": [],
   "source": [
    "# Get Game Id\n",
    "import yahoo_fantasy_api as yfa\n",
    "gm = yfa.Game(sc, 'nba')"
   ],
   "metadata": {
    "collapsed": false,
    "pycharm": {
     "name": "#%%\n"
    }
   }
  },
  {
   "cell_type": "code",
   "execution_count": 4,
   "outputs": [
    {
     "name": "stdout",
     "output_type": "stream",
     "text": [
      "The League Id is: 402.l.55374\n"
     ]
    }
   ],
   "source": [
    "# Get League Ids I have access to\n",
    "league_id_list = gm.league_ids(year=2020)\n",
    "league_id = \"\".join(str(id) for id in league_id_list)\n",
    "print(f\"The League Id is: {league_id}\")"
   ],
   "metadata": {
    "collapsed": false,
    "pycharm": {
     "name": "#%%\n"
    }
   }
  },
  {
   "cell_type": "code",
   "execution_count": 5,
   "outputs": [
    {
     "name": "stdout",
     "output_type": "stream",
     "text": [
      "The 9 categories in the league are: ['FG%', 'FT%', '3PTM', 'PTS', 'REB', 'AST', 'ST', 'BLK', 'TO']\n"
     ]
    }
   ],
   "source": [
    "# Categories\n",
    "lg = gm.to_league(league_id)\n",
    "league_categories = lg.stat_categories()\n",
    "\n",
    "# Print league categories\n",
    "print(f'The 9 categories in the league are: '\n",
    "      f'{[category[\"display_name\"] for category in league_categories]}')"
   ],
   "metadata": {
    "collapsed": false,
    "pycharm": {
     "name": "#%%\n"
    }
   }
  },
  {
   "cell_type": "code",
   "execution_count": 6,
   "outputs": [
    {
     "data": {
      "text/plain": "{'402.l.55374.t.7': {'team_key': '402.l.55374.t.7',\n  'team_id': '7',\n  'name': 'Russty Cuntbrooks',\n  'url': 'https://basketball.fantasysports.yahoo.com/nba/55374/7',\n  'team_logos': [{'team_logo': {'size': 'large',\n     'url': 'https://s.yimg.com/cv/apiv2/default/nba/nba_5.png'}}],\n  'waiver_priority': 3,\n  'number_of_moves': '9',\n  'number_of_trades': '1',\n  'roster_adds': {'coverage_type': 'week', 'coverage_value': 7, 'value': '1'},\n  'league_scoring_type': 'headone',\n  'draft_position': 10,\n  'has_draft_grade': 0,\n  'managers': [{'manager': {'manager_id': '7',\n     'nickname': 'Alvaro',\n     'guid': '54RYPWSN35JEDM6ERNII5GJLDI',\n     'email': 'alvaro1410@yahoo.com',\n     'image_url': 'https://s.yimg.com/ag/images/default_user_profile_pic_64sq.jpg'}}]},\n '402.l.55374.t.6': {'team_key': '402.l.55374.t.6',\n  'team_id': '6',\n  'name': \"Nunn of Y'all Betta\",\n  'is_owned_by_current_login': 1,\n  'url': 'https://basketball.fantasysports.yahoo.com/nba/55374/6',\n  'team_logos': [{'team_logo': {'size': 'large',\n     'url': 'https://s.yimg.com/cv/apiv2/default/nba/nba_2_j.png'}}],\n  'waiver_priority': 5,\n  'number_of_moves': '6',\n  'number_of_trades': 0,\n  'roster_adds': {'coverage_type': 'week', 'coverage_value': 7, 'value': '2'},\n  'league_scoring_type': 'headone',\n  'draft_position': 8,\n  'has_draft_grade': 0,\n  'managers': [{'manager': {'manager_id': '6',\n     'nickname': 'Jaume',\n     'guid': 'TY7DUXAMQZTFFMXYA6443UE5RI',\n     'is_current_login': '1',\n     'email': 'jclaved@yahoo.com',\n     'image_url': 'https://s.yimg.com/ag/images/default_user_profile_pic_64sq.jpg'}}]},\n '402.l.55374.t.4': {'team_key': '402.l.55374.t.4',\n  'team_id': '4',\n  'name': \"Magic's Johnson\",\n  'url': 'https://basketball.fantasysports.yahoo.com/nba/55374/4',\n  'team_logos': [{'team_logo': {'size': 'large',\n     'url': 'https://yahoofantasysports-res.cloudinary.com/image/upload/t_s192sq/fantasy-logos/56484176991_e0cd8f.jpg'}}],\n  'waiver_priority': 1,\n  'number_of_moves': '5',\n  'number_of_trades': 0,\n  'roster_adds': {'coverage_type': 'week', 'coverage_value': 7, 'value': '0'},\n  'league_scoring_type': 'headone',\n  'draft_position': 12,\n  'has_draft_grade': 0,\n  'managers': [{'manager': {'manager_id': '4',\n     'nickname': 'Gerard',\n     'guid': 'X3MGDBQZ57FA5FPM7GQ5CBV7PE',\n     'email': 'gerardpinoesteve1996@gmail.com',\n     'image_url': 'https://s.yimg.com/ag/images/default_user_profile_pic_64sq.jpg'}}]},\n '402.l.55374.t.5': {'team_key': '402.l.55374.t.5',\n  'team_id': '5',\n  'name': 'McCurry',\n  'url': 'https://basketball.fantasysports.yahoo.com/nba/55374/5',\n  'team_logos': [{'team_logo': {'size': 'large',\n     'url': 'https://yahoofantasysports-res.cloudinary.com/image/upload/t_s192sq/fantasy-logos/56477494345_4e17d7.jpg'}}],\n  'waiver_priority': 11,\n  'number_of_moves': '6',\n  'number_of_trades': 0,\n  'roster_adds': {'coverage_type': 'week', 'coverage_value': 7, 'value': '0'},\n  'league_scoring_type': 'headone',\n  'draft_position': 1,\n  'has_draft_grade': 0,\n  'managers': [{'manager': {'manager_id': '5',\n     'nickname': 'Alex',\n     'guid': 'WOMWJNENRZ3ZLUQARZP25MPMED',\n     'image_url': 'https://s.yimg.com/ag/images/default_user_profile_pic_64sq.jpg'}}]},\n '402.l.55374.t.12': {'team_key': '402.l.55374.t.12',\n  'team_id': '12',\n  'name': 'El Ladrón de Cabras',\n  'url': 'https://basketball.fantasysports.yahoo.com/nba/55374/12',\n  'team_logos': [{'team_logo': {'size': 'large',\n     'url': 'https://yahoofantasysports-res.cloudinary.com/image/upload/t_s192sq/fantasy-logos/007f22590f40253091e62423f37483223bbc95b2f92b061318f86a455de84ef0.jpg'}}],\n  'waiver_priority': 12,\n  'number_of_moves': '2',\n  'number_of_trades': 0,\n  'roster_adds': {'coverage_type': 'week', 'coverage_value': 7, 'value': '0'},\n  'league_scoring_type': 'headone',\n  'draft_position': 3,\n  'has_draft_grade': 0,\n  'managers': [{'manager': {'manager_id': '12',\n     'nickname': 'Blake',\n     'guid': 'P6ND4NTO4LWPTQEYUA5SYLPW3U',\n     'email': 'blakewhitelacourse@yahoo.ca',\n     'image_url': 'https://s.yimg.com/ag/images/default_user_profile_pic_64sq.jpg'}}]},\n '402.l.55374.t.3': {'team_key': '402.l.55374.t.3',\n  'team_id': '3',\n  'name': 'CrabbeHerByThePussy',\n  'url': 'https://basketball.fantasysports.yahoo.com/nba/55374/3',\n  'team_logos': [{'team_logo': {'size': 'large',\n     'url': 'https://s.yimg.com/cv/apiv2/default/nba/nba_1_m.png'}}],\n  'waiver_priority': 8,\n  'number_of_moves': '4',\n  'number_of_trades': 0,\n  'roster_adds': {'coverage_type': 'week', 'coverage_value': 7, 'value': '0'},\n  'league_scoring_type': 'headone',\n  'draft_position': 5,\n  'has_draft_grade': 0,\n  'managers': [{'manager': {'manager_id': '3',\n     'nickname': 'Marcos',\n     'guid': 'MQNQZBBOR5XNH4WSVWGNPV4CCU',\n     'email': 'marcostapiachile@gmail.com',\n     'image_url': 'https://s.yimg.com/ag/images/default_user_profile_pic_64sq.jpg'}}]},\n '402.l.55374.t.2': {'team_key': '402.l.55374.t.2',\n  'team_id': '2',\n  'name': 'Autopick',\n  'url': 'https://basketball.fantasysports.yahoo.com/nba/55374/2',\n  'team_logos': [{'team_logo': {'size': 'large',\n     'url': 'https://s.yimg.com/cv/apiv2/default/nba/nba_1_i.png'}}],\n  'waiver_priority': 6,\n  'number_of_moves': '3',\n  'number_of_trades': 0,\n  'roster_adds': {'coverage_type': 'week', 'coverage_value': 7, 'value': '0'},\n  'league_scoring_type': 'headone',\n  'draft_position': 7,\n  'has_draft_grade': 0,\n  'managers': [{'manager': {'manager_id': '2',\n     'nickname': 'Isidro',\n     'guid': 'FQNPHLITUU5DO3KU3VAI4N6R5A',\n     'email': 'isidrosanabre@gmail.com',\n     'image_url': 'https://s.yimg.com/ag/images/default_user_profile_pic_64sq.jpg'}}]},\n '402.l.55374.t.8': {'team_key': '402.l.55374.t.8',\n  'team_id': '8',\n  'name': 'Wakanda Forever',\n  'url': 'https://basketball.fantasysports.yahoo.com/nba/55374/8',\n  'team_logos': [{'team_logo': {'size': 'large',\n     'url': 'https://s.yimg.com/cv/apiv2/default/nba/nba_10.png'}}],\n  'waiver_priority': 10,\n  'number_of_moves': 0,\n  'number_of_trades': 0,\n  'roster_adds': {'coverage_type': 'week', 'coverage_value': 7, 'value': '0'},\n  'league_scoring_type': 'headone',\n  'draft_position': 2,\n  'has_draft_grade': 0,\n  'managers': [{'manager': {'manager_id': '8',\n     'nickname': 'Pau',\n     'guid': 'UFCT6II6LBTV2MHOV6QN4XMSTE',\n     'email': 'ppalaug@gmail.com',\n     'image_url': 'https://s.yimg.com/ag/images/default_user_profile_pic_64sq.jpg'}}]},\n '402.l.55374.t.9': {'team_key': '402.l.55374.t.9',\n  'team_id': '9',\n  'name': 'Swaggy P',\n  'url': 'https://basketball.fantasysports.yahoo.com/nba/55374/9',\n  'team_logos': [{'team_logo': {'size': 'large',\n     'url': 'https://s.yimg.com/cv/apiv2/default/nba/nba_1_s.png'}}],\n  'waiver_priority': 7,\n  'number_of_moves': '3',\n  'number_of_trades': 0,\n  'roster_adds': {'coverage_type': 'week', 'coverage_value': 7, 'value': '0'},\n  'league_scoring_type': 'headone',\n  'draft_position': 6,\n  'has_draft_grade': 0,\n  'managers': [{'manager': {'manager_id': '9',\n     'nickname': 'Guillem',\n     'guid': 'X4B2IQH5KWAQLGO3V43TYHDLYI',\n     'email': 'gvidaldelso@gmail.com',\n     'image_url': 'https://s.yimg.com/ag/images/default_user_profile_pic_64sq.jpg'}}]},\n '402.l.55374.t.10': {'team_key': '402.l.55374.t.10',\n  'team_id': '10',\n  'name': 'yOBItch Toppin Me',\n  'url': 'https://basketball.fantasysports.yahoo.com/nba/55374/10',\n  'team_logos': [{'team_logo': {'size': 'large',\n     'url': 'https://yahoofantasysports-res.cloudinary.com/image/upload/t_s192sq/fantasy-logos/31bccad1c9419c626304d3e265078f5cea831982e9415adf11f8345b6a963fe9.jpg'}}],\n  'waiver_priority': 4,\n  'number_of_moves': '4',\n  'number_of_trades': '1',\n  'roster_adds': {'coverage_type': 'week', 'coverage_value': 7, 'value': '2'},\n  'league_scoring_type': 'headone',\n  'draft_position': 9,\n  'has_draft_grade': 0,\n  'managers': [{'manager': {'manager_id': '10',\n     'nickname': 'Marc',\n     'guid': 'V6FDOKUD4OCDFXYCCRYYJ33TWI',\n     'email': 'marc.e.pamias@gmail.com',\n     'image_url': 'https://s.yimg.com/ag/images/default_user_profile_pic_64sq.jpg'}}]},\n '402.l.55374.t.1': {'team_key': '402.l.55374.t.1',\n  'team_id': '1',\n  'name': 'LaLaLand',\n  'url': 'https://basketball.fantasysports.yahoo.com/nba/55374/1',\n  'team_logos': [{'team_logo': {'size': 'large',\n     'url': 'https://s.yimg.com/cv/apiv2/default/nba/nba_2_l.png'}}],\n  'waiver_priority': 2,\n  'number_of_moves': '8',\n  'number_of_trades': 0,\n  'roster_adds': {'coverage_type': 'week', 'coverage_value': 7, 'value': '0'},\n  'league_scoring_type': 'headone',\n  'draft_position': 11,\n  'has_draft_grade': 0,\n  'managers': [{'manager': {'manager_id': '1',\n     'nickname': 'Alex',\n     'guid': 'W5UDMKGQCBWLMKC3FDEHANJXPU',\n     'is_commissioner': '1',\n     'email': 'alexpascual96@gmail.com',\n     'image_url': 'https://s.yimg.com/ag/images/default_user_profile_pic_64sq.jpg'}}]},\n '402.l.55374.t.11': {'team_key': '402.l.55374.t.11',\n  'team_id': '11',\n  'name': \"Tvon's Tip-Top Team\",\n  'url': 'https://basketball.fantasysports.yahoo.com/nba/55374/11',\n  'team_logos': [{'team_logo': {'size': 'large',\n     'url': 'https://s.yimg.com/cv/apiv2/default/nba/nba_6_t.png'}}],\n  'waiver_priority': 9,\n  'number_of_moves': 0,\n  'number_of_trades': 0,\n  'roster_adds': {'coverage_type': 'week', 'coverage_value': 7, 'value': '0'},\n  'league_scoring_type': 'headone',\n  'draft_position': 4,\n  'has_draft_grade': 0,\n  'managers': [{'manager': {'manager_id': '11',\n     'nickname': 'Tvon',\n     'guid': 'ISVU3LU5RHVU2PYGHQUYD2QYOI',\n     'email': 'tvon50@yahoo.com',\n     'image_url': 'https://s.yimg.com/ag/images/default_user_profile_pic_64sq.jpg'}}]}}"
     },
     "execution_count": 6,
     "metadata": {},
     "output_type": "execute_result"
    }
   ],
   "source": [
    "# League teams\n",
    "tms = lg.teams()\n",
    "tms"
   ],
   "metadata": {
    "collapsed": false,
    "pycharm": {
     "name": "#%%\n"
    }
   }
  },
  {
   "cell_type": "code",
   "execution_count": 7,
   "outputs": [
    {
     "data": {
      "text/plain": "[{'player_id': 6426,\n  'name': 'Theo Maledon',\n  'status': 'INJ',\n  'position_type': 'P',\n  'eligible_positions': ['PG', 'G', 'Util'],\n  'selected_position': 'PG'},\n {'player_id': 5667,\n  'name': 'Malcolm Brogdon',\n  'status': '',\n  'position_type': 'P',\n  'eligible_positions': ['PG', 'SG', 'G', 'Util'],\n  'selected_position': 'SG'},\n {'player_id': 5018,\n  'name': 'Jeremy Lamb',\n  'status': '',\n  'position_type': 'P',\n  'eligible_positions': ['SG', 'G', 'SF', 'F', 'Util'],\n  'selected_position': 'G'},\n {'player_id': 4912,\n  'name': 'Jimmy Butler',\n  'status': '',\n  'position_type': 'P',\n  'eligible_positions': ['SF', 'PF', 'F', 'Util'],\n  'selected_position': 'SF'},\n {'player_id': 5073,\n  'name': 'Khris Middleton',\n  'status': '',\n  'position_type': 'P',\n  'eligible_positions': ['SF', 'PF', 'F', 'Util'],\n  'selected_position': 'PF'},\n {'player_id': 6073,\n  'name': 'Duncan Robinson',\n  'status': '',\n  'position_type': 'P',\n  'eligible_positions': ['SG', 'G', 'SF', 'F', 'Util'],\n  'selected_position': 'F'},\n {'player_id': 5658,\n  'name': 'Pascal Siakam',\n  'status': '',\n  'position_type': 'P',\n  'eligible_positions': ['PF', 'F', 'C', 'Util'],\n  'selected_position': 'C'},\n {'player_id': 4926,\n  'name': 'Davis Bertans',\n  'status': '',\n  'position_type': 'P',\n  'eligible_positions': ['PF', 'F', 'C', 'Util'],\n  'selected_position': 'C'},\n {'player_id': 4749,\n  'name': 'Eric Bledsoe',\n  'status': '',\n  'position_type': 'P',\n  'eligible_positions': ['PG', 'SG', 'G', 'Util'],\n  'selected_position': 'Util'},\n {'player_id': 6173,\n  'name': 'Cameron Johnson',\n  'status': '',\n  'position_type': 'P',\n  'eligible_positions': ['SF', 'PF', 'F', 'Util'],\n  'selected_position': 'Util'},\n {'player_id': 4660,\n  'name': 'Patty Mills',\n  'status': '',\n  'position_type': 'P',\n  'eligible_positions': ['PG', 'G', 'Util'],\n  'selected_position': 'BN'},\n {'player_id': 5352,\n  'name': 'Nikola Jokic',\n  'status': '',\n  'position_type': 'P',\n  'eligible_positions': ['PF', 'F', 'C', 'Util'],\n  'selected_position': 'BN'},\n {'player_id': 4899,\n  'name': 'Enes Kanter',\n  'status': '',\n  'position_type': 'P',\n  'eligible_positions': ['C', 'Util'],\n  'selected_position': 'BN'},\n {'player_id': 5317,\n  'name': 'Marcus Smart',\n  'status': 'INJ',\n  'position_type': 'P',\n  'eligible_positions': ['PG', 'SG', 'G', 'Util'],\n  'selected_position': 'BN'},\n {'player_id': 6048,\n  'name': 'Gary Trent Jr.',\n  'status': '',\n  'position_type': 'P',\n  'eligible_positions': ['SG', 'G', 'SF', 'F', 'Util'],\n  'selected_position': 'BN'}]"
     },
     "execution_count": 7,
     "metadata": {},
     "output_type": "execute_result"
    }
   ],
   "source": [
    "# Single team roster\n",
    "tm = lg.to_team('402.l.55374.t.6')\n",
    "tm.roster()\n"
   ],
   "metadata": {
    "collapsed": false,
    "pycharm": {
     "name": "#%%\n"
    }
   }
  },
  {
   "cell_type": "markdown",
   "source": [
    "## Team Rosters\n",
    "This section will build the logic needed to create a dataframe with a teams 15 players and their\n",
    "respective 9cat scores. The mean 9cat scores will be calculated and appended as a row in the\n",
    "dataframe."
   ],
   "metadata": {
    "collapsed": false,
    "pycharm": {
     "name": "#%% md\n"
    }
   }
  },
  {
   "cell_type": "code",
   "execution_count": 8,
   "outputs": [
    {
     "name": "stdout",
     "output_type": "stream",
     "text": [
      "[{'player_id': 6407, 'name': 'Cole Anthony', 'status': '', 'position_type': 'P', 'eligible_positions': ['PG', 'G', 'Util'], 'selected_position': 'PG'}, {'player_id': 6019, 'name': 'Collin Sexton', 'status': 'GTD', 'position_type': 'P', 'eligible_positions': ['PG', 'SG', 'G', 'Util'], 'selected_position': 'SG'}, {'player_id': 6167, 'name': 'Darius Garland', 'status': '', 'position_type': 'P', 'eligible_positions': ['PG', 'G', 'Util'], 'selected_position': 'G'}, {'player_id': 4724, 'name': 'Gordon Hayward', 'status': '', 'position_type': 'P', 'eligible_positions': ['SG', 'G', 'SF', 'F', 'Util'], 'selected_position': 'SF'}, {'player_id': 5905, 'name': \"Royce O'Neale\", 'status': '', 'position_type': 'P', 'eligible_positions': ['SF', 'PF', 'F', 'Util'], 'selected_position': 'PF'}, {'player_id': 4290, 'name': 'Thaddeus Young', 'status': '', 'position_type': 'P', 'eligible_positions': ['PF', 'F', 'Util'], 'selected_position': 'F'}, {'player_id': 5197, 'name': 'Rudy Gobert', 'status': '', 'position_type': 'P', 'eligible_positions': ['C', 'Util'], 'selected_position': 'C'}, {'player_id': 5894, 'name': 'Chris Boucher', 'status': '', 'position_type': 'P', 'eligible_positions': ['PF', 'F', 'C', 'Util'], 'selected_position': 'C'}, {'player_id': 6417, 'name': 'Immanuel Quickley', 'status': '', 'position_type': 'P', 'eligible_positions': ['PG', 'G', 'Util'], 'selected_position': 'Util'}, {'player_id': 5836, 'name': 'OG Anunoby', 'status': 'INJ', 'position_type': 'P', 'eligible_positions': ['SF', 'PF', 'F', 'Util'], 'selected_position': 'Util'}, {'player_id': 6166, 'name': \"De'Andre Hunter\", 'status': 'INJ', 'position_type': 'P', 'eligible_positions': ['SF', 'PF', 'F', 'Util'], 'selected_position': 'BN'}, {'player_id': 6016, 'name': 'Trae Young', 'status': 'GTD', 'position_type': 'P', 'eligible_positions': ['PG', 'G', 'Util'], 'selected_position': 'BN'}, {'player_id': 5475, 'name': 'Kelly Oubre Jr.', 'status': '', 'position_type': 'P', 'eligible_positions': ['SG', 'G', 'SF', 'PF', 'F', 'Util'], 'selected_position': 'BN'}, {'player_id': 6209, 'name': 'Brandon Clarke', 'status': '', 'position_type': 'P', 'eligible_positions': ['SF', 'PF', 'F', 'Util'], 'selected_position': 'BN'}, {'player_id': 5294, 'name': 'Joel Embiid', 'status': '', 'position_type': 'P', 'eligible_positions': ['PF', 'F', 'C', 'Util'], 'selected_position': 'BN'}]\n",
      "[{'player_id': 6426, 'name': 'Theo Maledon', 'status': 'INJ', 'position_type': 'P', 'eligible_positions': ['PG', 'G', 'Util'], 'selected_position': 'PG'}, {'player_id': 5667, 'name': 'Malcolm Brogdon', 'status': '', 'position_type': 'P', 'eligible_positions': ['PG', 'SG', 'G', 'Util'], 'selected_position': 'SG'}, {'player_id': 5018, 'name': 'Jeremy Lamb', 'status': '', 'position_type': 'P', 'eligible_positions': ['SG', 'G', 'SF', 'F', 'Util'], 'selected_position': 'G'}, {'player_id': 4912, 'name': 'Jimmy Butler', 'status': '', 'position_type': 'P', 'eligible_positions': ['SF', 'PF', 'F', 'Util'], 'selected_position': 'SF'}, {'player_id': 5073, 'name': 'Khris Middleton', 'status': '', 'position_type': 'P', 'eligible_positions': ['SF', 'PF', 'F', 'Util'], 'selected_position': 'PF'}, {'player_id': 6073, 'name': 'Duncan Robinson', 'status': '', 'position_type': 'P', 'eligible_positions': ['SG', 'G', 'SF', 'F', 'Util'], 'selected_position': 'F'}, {'player_id': 5658, 'name': 'Pascal Siakam', 'status': '', 'position_type': 'P', 'eligible_positions': ['PF', 'F', 'C', 'Util'], 'selected_position': 'C'}, {'player_id': 4926, 'name': 'Davis Bertans', 'status': '', 'position_type': 'P', 'eligible_positions': ['PF', 'F', 'C', 'Util'], 'selected_position': 'C'}, {'player_id': 4749, 'name': 'Eric Bledsoe', 'status': '', 'position_type': 'P', 'eligible_positions': ['PG', 'SG', 'G', 'Util'], 'selected_position': 'Util'}, {'player_id': 6173, 'name': 'Cameron Johnson', 'status': '', 'position_type': 'P', 'eligible_positions': ['SF', 'PF', 'F', 'Util'], 'selected_position': 'Util'}, {'player_id': 4660, 'name': 'Patty Mills', 'status': '', 'position_type': 'P', 'eligible_positions': ['PG', 'G', 'Util'], 'selected_position': 'BN'}, {'player_id': 5352, 'name': 'Nikola Jokic', 'status': '', 'position_type': 'P', 'eligible_positions': ['PF', 'F', 'C', 'Util'], 'selected_position': 'BN'}, {'player_id': 4899, 'name': 'Enes Kanter', 'status': '', 'position_type': 'P', 'eligible_positions': ['C', 'Util'], 'selected_position': 'BN'}, {'player_id': 5317, 'name': 'Marcus Smart', 'status': 'INJ', 'position_type': 'P', 'eligible_positions': ['PG', 'SG', 'G', 'Util'], 'selected_position': 'BN'}, {'player_id': 6048, 'name': 'Gary Trent Jr.', 'status': '', 'position_type': 'P', 'eligible_positions': ['SG', 'G', 'SF', 'F', 'Util'], 'selected_position': 'BN'}]\n",
      "[{'player_id': 5727, 'name': 'Fred VanVleet', 'status': '', 'position_type': 'P', 'eligible_positions': ['PG', 'SG', 'G', 'Util'], 'selected_position': 'PG'}, {'player_id': 6254, 'name': 'Luguentz Dort', 'status': 'O', 'position_type': 'P', 'eligible_positions': ['SG', 'G', 'SF', 'F', 'Util'], 'selected_position': 'SG'}, {'player_id': 5764, 'name': 'Lonzo Ball', 'status': '', 'position_type': 'P', 'eligible_positions': ['PG', 'SG', 'G', 'Util'], 'selected_position': 'G'}, {'player_id': 6021, 'name': 'Mikal Bridges', 'status': '', 'position_type': 'P', 'eligible_positions': ['SG', 'G', 'SF', 'F', 'Util'], 'selected_position': 'SF'}, {'player_id': 4913, 'name': 'Bojan Bogdanovic', 'status': '', 'position_type': 'P', 'eligible_positions': ['SF', 'PF', 'F', 'Util'], 'selected_position': 'PF'}, {'player_id': 4896, 'name': 'Kawhi Leonard', 'status': '', 'position_type': 'P', 'eligible_positions': ['SG', 'G', 'SF', 'F', 'Util'], 'selected_position': 'F'}, {'player_id': 5155, 'name': 'Cody Zeller', 'status': '', 'position_type': 'P', 'eligible_positions': ['C', 'Util'], 'selected_position': 'C'}, {'player_id': 6174, 'name': 'PJ Washington', 'status': 'O', 'position_type': 'P', 'eligible_positions': ['SF', 'PF', 'F', 'C', 'Util'], 'selected_position': 'C'}, {'player_id': 5650, 'name': 'Malik Beasley', 'status': '', 'position_type': 'P', 'eligible_positions': ['PG', 'SG', 'G', 'Util'], 'selected_position': 'Util'}, {'player_id': 4897, 'name': 'Nikola Vucevic', 'status': '', 'position_type': 'P', 'eligible_positions': ['C', 'Util'], 'selected_position': 'Util'}, {'player_id': 3704, 'name': 'LeBron James', 'status': '', 'position_type': 'P', 'eligible_positions': ['PG', 'SG', 'G', 'SF', 'F', 'Util'], 'selected_position': 'BN'}, {'player_id': 6030, 'name': 'Kevin Huerter', 'status': 'GTD', 'position_type': 'P', 'eligible_positions': ['SG', 'G', 'SF', 'F', 'Util'], 'selected_position': 'BN'}, {'player_id': 4893, 'name': 'Alec Burks', 'status': '', 'position_type': 'P', 'eligible_positions': ['SG', 'G', 'SF', 'F', 'Util'], 'selected_position': 'BN'}, {'player_id': 6404, 'name': 'Tyrese Haliburton', 'status': '', 'position_type': 'P', 'eligible_positions': ['PG', 'SG', 'G', 'Util'], 'selected_position': 'BN'}, {'player_id': 5318, 'name': 'Julius Randle', 'status': '', 'position_type': 'P', 'eligible_positions': ['PF', 'F', 'C', 'Util'], 'selected_position': 'BN'}]\n",
      "[{'player_id': 4610, 'name': 'Ricky Rubio', 'status': '', 'position_type': 'P', 'eligible_positions': ['PG', 'G', 'Util'], 'selected_position': 'PG'}, {'player_id': 5142, 'name': 'Justin Holiday', 'status': '', 'position_type': 'P', 'eligible_positions': ['SG', 'G', 'SF', 'F', 'Util'], 'selected_position': 'SG'}, {'player_id': 5480, 'name': 'Delon Wright', 'status': '', 'position_type': 'P', 'eligible_positions': ['PG', 'SG', 'G', 'SF', 'F', 'Util'], 'selected_position': 'G'}, {'player_id': 6171, 'name': 'Rui Hachimura', 'status': '', 'position_type': 'P', 'eligible_positions': ['SF', 'PF', 'F', 'Util'], 'selected_position': 'SF'}, {'player_id': 5350, 'name': 'Jerami Grant', 'status': '', 'position_type': 'P', 'eligible_positions': ['SF', 'PF', 'F', 'Util'], 'selected_position': 'PF'}, {'player_id': 5185, 'name': 'Giannis Antetokounmpo', 'status': '', 'position_type': 'P', 'eligible_positions': ['PF', 'F', 'C', 'Util'], 'selected_position': 'F'}, {'player_id': 5015, 'name': 'Andre Drummond', 'status': '', 'position_type': 'P', 'eligible_positions': ['C', 'Util'], 'selected_position': 'C'}, {'player_id': 6038, 'name': 'Robert Williams', 'status': '', 'position_type': 'P', 'eligible_positions': ['C', 'Util'], 'selected_position': 'C'}, {'player_id': 6056, 'name': 'Hamidou Diallo', 'status': '', 'position_type': 'P', 'eligible_positions': ['SG', 'G', 'SF', 'F', 'Util'], 'selected_position': 'Util'}, {'player_id': 5651, 'name': 'Caris LeVert', 'status': 'INJ', 'position_type': 'P', 'eligible_positions': ['SG', 'G', 'SF', 'F', 'Util'], 'selected_position': 'Util'}, {'player_id': 4720, 'name': 'DeMarcus Cousins', 'status': '', 'position_type': 'P', 'eligible_positions': ['PF', 'F', 'C', 'Util'], 'selected_position': 'BN'}, {'player_id': 5600, 'name': 'Ben Simmons', 'status': 'GTD', 'position_type': 'P', 'eligible_positions': ['PG', 'G', 'Util'], 'selected_position': 'BN'}, {'player_id': 6217, 'name': 'Keldon Johnson', 'status': '', 'position_type': 'P', 'eligible_positions': ['SF', 'PF', 'F', 'Util'], 'selected_position': 'BN'}, {'player_id': 4614, 'name': 'DeMar DeRozan', 'status': '', 'position_type': 'P', 'eligible_positions': ['SG', 'G', 'SF', 'PF', 'F', 'Util'], 'selected_position': 'BN'}, {'player_id': 6047, 'name': 'Mitchell Robinson', 'status': '', 'position_type': 'P', 'eligible_positions': ['C', 'Util'], 'selected_position': 'BN'}]\n",
      "[{'player_id': 4840, 'name': 'Kyrie Irving', 'status': '', 'position_type': 'P', 'eligible_positions': ['PG', 'G', 'Util'], 'selected_position': 'PG'}, {'player_id': 3971, 'name': 'Lou Williams', 'status': '', 'position_type': 'P', 'eligible_positions': ['PG', 'SG', 'G', 'Util'], 'selected_position': 'SG'}, {'player_id': 5357, 'name': 'Jordan Clarkson', 'status': '', 'position_type': 'P', 'eligible_positions': ['PG', 'SG', 'G', 'Util'], 'selected_position': 'G'}, {'player_id': 4725, 'name': 'Paul George', 'status': 'GTD', 'position_type': 'P', 'eligible_positions': ['SF', 'PF', 'F', 'Util'], 'selected_position': 'SF'}, {'player_id': 5192, 'name': 'Mason Plumlee', 'status': '', 'position_type': 'P', 'eligible_positions': ['PF', 'F', 'C', 'Util'], 'selected_position': 'PF'}, {'player_id': 5194, 'name': 'Tim Hardaway Jr.', 'status': '', 'position_type': 'P', 'eligible_positions': ['SG', 'G', 'SF', 'F', 'Util'], 'selected_position': 'F'}, {'player_id': 4472, 'name': 'Brook Lopez', 'status': '', 'position_type': 'P', 'eligible_positions': ['C', 'Util'], 'selected_position': 'C'}, {'player_id': 4497, 'name': 'DeAndre Jordan', 'status': '', 'position_type': 'P', 'eligible_positions': ['C', 'Util'], 'selected_position': 'C'}, {'player_id': 6169, 'name': 'Coby White', 'status': '', 'position_type': 'P', 'eligible_positions': ['PG', 'SG', 'G', 'Util'], 'selected_position': 'Util'}, {'player_id': 5163, 'name': 'Steven Adams', 'status': '', 'position_type': 'P', 'eligible_positions': ['C', 'Util'], 'selected_position': 'Util'}, {'player_id': 5007, 'name': 'Anthony Davis', 'status': '', 'position_type': 'P', 'eligible_positions': ['PF', 'F', 'C', 'Util'], 'selected_position': 'BN'}, {'player_id': 4764, 'name': 'Hassan Whiteside', 'status': '', 'position_type': 'P', 'eligible_positions': ['PF', 'F', 'C', 'Util'], 'selected_position': 'BN'}, {'player_id': 5016, 'name': 'Austin Rivers', 'status': '', 'position_type': 'P', 'eligible_positions': ['PG', 'SG', 'G', 'Util'], 'selected_position': 'BN'}, {'player_id': 5013, 'name': 'Harrison Barnes', 'status': '', 'position_type': 'P', 'eligible_positions': ['SF', 'PF', 'F', 'Util'], 'selected_position': 'BN'}, {'player_id': 4622, 'name': 'Jrue Holiday', 'status': '', 'position_type': 'P', 'eligible_positions': ['PG', 'SG', 'G', 'Util'], 'selected_position': 'BN'}]\n",
      "[{'player_id': 3930, 'name': 'Chris Paul', 'status': '', 'position_type': 'P', 'eligible_positions': ['PG', 'G', 'Util'], 'selected_position': 'PG'}, {'player_id': 6045, 'name': \"Devonte' Graham\", 'status': '', 'position_type': 'P', 'eligible_positions': ['PG', 'SG', 'G', 'Util'], 'selected_position': 'SG'}, {'player_id': 6401, 'name': 'Deni Avdija', 'status': '', 'position_type': 'P', 'eligible_positions': ['SG', 'G', 'SF', 'F', 'Util'], 'selected_position': 'G'}, {'player_id': 5506, 'name': 'Norman Powell', 'status': '', 'position_type': 'P', 'eligible_positions': ['SG', 'G', 'SF', 'F', 'Util'], 'selected_position': 'SF'}, {'player_id': 4487, 'name': 'Nicolas Batum', 'status': '', 'position_type': 'P', 'eligible_positions': ['SF', 'PF', 'F', 'Util'], 'selected_position': 'PF'}, {'player_id': 6211, 'name': 'Darius Bazley', 'status': '', 'position_type': 'P', 'eligible_positions': ['SF', 'PF', 'F', 'Util'], 'selected_position': 'F'}, {'player_id': 5471, 'name': 'Myles Turner', 'status': '', 'position_type': 'P', 'eligible_positions': ['PF', 'F', 'C', 'Util'], 'selected_position': 'C'}, {'player_id': 5487, 'name': 'Larry Nance Jr.', 'status': 'INJ', 'position_type': 'P', 'eligible_positions': ['PF', 'F', 'C', 'Util'], 'selected_position': 'C'}, {'player_id': 5827, 'name': 'Bam Adebayo', 'status': '', 'position_type': 'P', 'eligible_positions': ['PF', 'F', 'C', 'Util'], 'selected_position': 'Util'}, {'player_id': 5154, 'name': 'Otto Porter Jr.', 'status': 'O', 'position_type': 'P', 'eligible_positions': ['SF', 'PF', 'F', 'Util'], 'selected_position': 'Util'}, {'player_id': 5432, 'name': 'Karl-Anthony Towns', 'status': 'INJ', 'position_type': 'P', 'eligible_positions': ['C', 'Util'], 'selected_position': 'BN'}, {'player_id': 4468, 'name': 'Danilo Gallinari', 'status': '', 'position_type': 'P', 'eligible_positions': ['SF', 'PF', 'F', 'Util'], 'selected_position': 'BN'}, {'player_id': 4901, 'name': 'Tobias Harris', 'status': '', 'position_type': 'P', 'eligible_positions': ['SF', 'PF', 'F', 'Util'], 'selected_position': 'BN'}, {'player_id': 5832, 'name': 'John Collins', 'status': '', 'position_type': 'P', 'eligible_positions': ['PF', 'F', 'C', 'Util'], 'selected_position': 'BN'}, {'player_id': 5497, 'name': 'Richaun Holmes', 'status': '', 'position_type': 'P', 'eligible_positions': ['PF', 'F', 'C', 'Util'], 'selected_position': 'BN'}]\n",
      "[{'player_id': 6395, 'name': 'LaMelo Ball', 'status': '', 'position_type': 'P', 'eligible_positions': ['PG', 'SG', 'G', 'Util'], 'selected_position': 'PG'}, {'player_id': 6022, 'name': 'Shai Gilgeous-Alexander', 'status': 'O', 'position_type': 'P', 'eligible_positions': ['PG', 'SG', 'G', 'SF', 'F', 'Util'], 'selected_position': 'SG'}, {'player_id': 6175, 'name': 'Tyler Herro', 'status': '', 'position_type': 'P', 'eligible_positions': ['PG', 'SG', 'G', 'SF', 'F', 'Util'], 'selected_position': 'G'}, {'player_id': 5602, 'name': 'Jaylen Brown', 'status': 'O', 'position_type': 'P', 'eligible_positions': ['SG', 'G', 'SF', 'F', 'Util'], 'selected_position': 'SF'}, {'player_id': 4486, 'name': 'Serge Ibaka', 'status': '', 'position_type': 'P', 'eligible_positions': ['PF', 'F', 'C', 'Util'], 'selected_position': 'PF'}, {'player_id': 5500, 'name': 'Josh Richardson', 'status': '', 'position_type': 'P', 'eligible_positions': ['SG', 'G', 'SF', 'F', 'Util'], 'selected_position': 'F'}, {'player_id': 5482, 'name': 'Bobby Portis', 'status': '', 'position_type': 'P', 'eligible_positions': ['PF', 'F', 'C', 'Util'], 'selected_position': 'C'}, {'player_id': 5769, 'name': 'Lauri Markkanen', 'status': '', 'position_type': 'P', 'eligible_positions': ['PF', 'F', 'C', 'Util'], 'selected_position': 'C'}, {'player_id': 5336, 'name': 'Clint Capela', 'status': '', 'position_type': 'P', 'eligible_positions': ['C', 'Util'], 'selected_position': 'Util'}, {'player_id': 6164, 'name': 'Ja Morant', 'status': '', 'position_type': 'P', 'eligible_positions': ['PG', 'G', 'Util'], 'selected_position': 'Util'}, {'player_id': 5012, 'name': 'Damian Lillard', 'status': 'GTD', 'position_type': 'P', 'eligible_positions': ['PG', 'G', 'Util'], 'selected_position': 'BN'}, {'player_id': 5245, 'name': 'Seth Curry', 'status': 'GTD', 'position_type': 'P', 'eligible_positions': ['PG', 'SG', 'G', 'Util'], 'selected_position': 'BN'}, {'player_id': 6065, 'name': 'Shake Milton', 'status': '', 'position_type': 'P', 'eligible_positions': ['PG', 'SG', 'G', 'Util'], 'selected_position': 'BN'}, {'player_id': 6208, 'name': 'Matisse Thybulle', 'status': '', 'position_type': 'P', 'eligible_positions': ['SG', 'G', 'SF', 'F', 'Util'], 'selected_position': 'BN'}, {'player_id': 4175, 'name': 'Paul Millsap', 'status': '', 'position_type': 'P', 'eligible_positions': ['PF', 'F', 'C', 'Util'], 'selected_position': 'BN'}]\n",
      "[{'player_id': 4890, 'name': 'Kemba Walker', 'status': '', 'position_type': 'P', 'eligible_positions': ['PG', 'G', 'Util'], 'selected_position': 'PG'}, {'player_id': 4647, 'name': 'Patrick Beverley', 'status': 'INJ', 'position_type': 'P', 'eligible_positions': ['PG', 'SG', 'G', 'Util'], 'selected_position': 'SG'}, {'player_id': 6014, 'name': 'Luka Doncic', 'status': '', 'position_type': 'P', 'eligible_positions': ['PG', 'SG', 'G', 'Util'], 'selected_position': 'G'}, {'player_id': 5344, 'name': 'Joe Harris', 'status': '', 'position_type': 'P', 'eligible_positions': ['SG', 'G', 'SF', 'F', 'Util'], 'selected_position': 'SF'}, {'player_id': 4561, 'name': 'Blake Griffin', 'status': '', 'position_type': 'P', 'eligible_positions': ['PF', 'F', 'C', 'Util'], 'selected_position': 'PF'}, {'player_id': 6163, 'name': 'Zion Williamson', 'status': '', 'position_type': 'P', 'eligible_positions': ['PF', 'F', 'Util'], 'selected_position': 'F'}, {'player_id': 5835, 'name': 'Jarrett Allen', 'status': '', 'position_type': 'P', 'eligible_positions': ['C', 'Util'], 'selected_position': 'C'}, {'player_id': 5253, 'name': 'Robert Covington', 'status': '', 'position_type': 'P', 'eligible_positions': ['PF', 'F', 'C', 'Util'], 'selected_position': 'C'}, {'player_id': 4130, 'name': 'LaMarcus Aldridge', 'status': 'INJ', 'position_type': 'P', 'eligible_positions': ['PF', 'F', 'C', 'Util'], 'selected_position': 'Util'}, {'player_id': 5153, 'name': 'Victor Oladipo', 'status': '', 'position_type': 'P', 'eligible_positions': ['SG', 'G', 'SF', 'F', 'Util'], 'selected_position': 'Util'}, {'player_id': 5638, 'name': 'Jamal Murray', 'status': 'GTD', 'position_type': 'P', 'eligible_positions': ['PG', 'SG', 'G', 'Util'], 'selected_position': 'BN'}, {'player_id': 5161, 'name': 'CJ McCollum', 'status': 'INJ', 'position_type': 'P', 'eligible_positions': ['PG', 'SG', 'G', 'Util'], 'selected_position': 'BN'}, {'player_id': 6218, 'name': 'Kevin Porter Jr.', 'status': '', 'position_type': 'P', 'eligible_positions': ['SG', 'G', 'SF', 'F', 'Util'], 'selected_position': 'BN'}, {'player_id': 5639, 'name': 'Marquese Chriss', 'status': 'INJ', 'position_type': 'P', 'eligible_positions': ['PF', 'F', 'C', 'Util'], 'selected_position': 'BN'}, {'player_id': 6400, 'name': 'Obi Toppin', 'status': '', 'position_type': 'P', 'eligible_positions': ['SF', 'PF', 'F', 'Util'], 'selected_position': 'BN'}]\n",
      "[{'player_id': 4246, 'name': 'Mike Conley', 'status': '', 'position_type': 'P', 'eligible_positions': ['PG', 'G', 'Util'], 'selected_position': 'PG'}, {'player_id': 5826, 'name': 'Donovan Mitchell', 'status': '', 'position_type': 'P', 'eligible_positions': ['PG', 'SG', 'G', 'Util'], 'selected_position': 'SG'}, {'player_id': 6355, 'name': 'Anthony Edwards', 'status': '', 'position_type': 'P', 'eligible_positions': ['SG', 'G', 'Util'], 'selected_position': 'G'}, {'player_id': 5393, 'name': 'Joe Ingles', 'status': '', 'position_type': 'P', 'eligible_positions': ['SG', 'G', 'SF', 'F', 'Util'], 'selected_position': 'SF'}, {'player_id': 6023, 'name': 'Miles Bridges', 'status': '', 'position_type': 'P', 'eligible_positions': ['SF', 'PF', 'F', 'Util'], 'selected_position': 'PF'}, {'player_id': 5491, 'name': 'Cedi Osman', 'status': '', 'position_type': 'P', 'eligible_positions': ['SF', 'PF', 'F', 'Util'], 'selected_position': 'F'}, {'player_id': 4888, 'name': 'Bismack Biyombo', 'status': '', 'position_type': 'P', 'eligible_positions': ['C', 'Util'], 'selected_position': 'C'}, {'player_id': 4245, 'name': 'Al Horford', 'status': '', 'position_type': 'P', 'eligible_positions': ['PF', 'F', 'C', 'Util'], 'selected_position': 'C'}, {'player_id': 6397, 'name': 'Isaac Okoro', 'status': '', 'position_type': 'P', 'eligible_positions': ['SG', 'G', 'SF', 'F', 'Util'], 'selected_position': 'Util'}, {'player_id': 6412, 'name': 'Precious Achiuwa', 'status': '', 'position_type': 'P', 'eligible_positions': ['SF', 'PF', 'F', 'Util'], 'selected_position': 'Util'}, {'player_id': 4612, 'name': 'Stephen Curry', 'status': '', 'position_type': 'P', 'eligible_positions': ['PG', 'SG', 'G', 'Util'], 'selected_position': 'BN'}, {'player_id': 3706, 'name': 'Carmelo Anthony', 'status': '', 'position_type': 'P', 'eligible_positions': ['SF', 'PF', 'F', 'Util'], 'selected_position': 'BN'}, {'player_id': 4886, 'name': 'Jonas Valanciunas', 'status': 'INJ', 'position_type': 'P', 'eligible_positions': ['C', 'Util'], 'selected_position': 'BN'}, {'player_id': 5292, 'name': 'Andrew Wiggins', 'status': '', 'position_type': 'P', 'eligible_positions': ['SG', 'G', 'SF', 'F', 'Util'], 'selected_position': 'BN'}, {'player_id': 5324, 'name': 'Zach LaVine', 'status': '', 'position_type': 'P', 'eligible_positions': ['SG', 'G', 'SF', 'F', 'Util'], 'selected_position': 'BN'}]\n",
      "[{'player_id': 5433, 'name': \"D'Angelo Russell\", 'status': 'GTD', 'position_type': 'P', 'eligible_positions': ['PG', 'SG', 'G', 'Util'], 'selected_position': 'PG'}, {'player_id': 4507, 'name': 'Goran Dragic', 'status': 'GTD', 'position_type': 'P', 'eligible_positions': ['PG', 'SG', 'G', 'Util'], 'selected_position': 'SG'}, {'player_id': 5014, 'name': 'Terrence Ross', 'status': '', 'position_type': 'P', 'eligible_positions': ['SG', 'G', 'SF', 'F', 'Util'], 'selected_position': 'G'}, {'player_id': 4469, 'name': 'Eric Gordon', 'status': '', 'position_type': 'P', 'eligible_positions': ['SG', 'G', 'SF', 'F', 'Util'], 'selected_position': 'SF'}, {'player_id': 5765, 'name': 'Jayson Tatum', 'status': '', 'position_type': 'P', 'eligible_positions': ['SF', 'PF', 'F', 'Util'], 'selected_position': 'PF'}, {'player_id': 5473, 'name': 'Devin Booker', 'status': '', 'position_type': 'P', 'eligible_positions': ['SG', 'G', 'SF', 'F', 'Util'], 'selected_position': 'F'}, {'player_id': 4247, 'name': 'Jeff Green', 'status': '', 'position_type': 'P', 'eligible_positions': ['SF', 'PF', 'F', 'C', 'Util'], 'selected_position': 'C'}, {'player_id': 5663, 'name': 'Ivica Zubac', 'status': '', 'position_type': 'P', 'eligible_positions': ['C', 'Util'], 'selected_position': 'C'}, {'player_id': 5476, 'name': 'Terry Rozier', 'status': 'GTD', 'position_type': 'P', 'eligible_positions': ['PG', 'SG', 'G', 'Util'], 'selected_position': 'Util'}, {'player_id': 5164, 'name': 'Kelly Olynyk', 'status': '', 'position_type': 'P', 'eligible_positions': ['PF', 'F', 'C', 'Util'], 'selected_position': 'Util'}, {'player_id': 5660, 'name': 'Dejounte Murray', 'status': '', 'position_type': 'P', 'eligible_positions': ['PG', 'SG', 'G', 'Util'], 'selected_position': 'BN'}, {'player_id': 5187, 'name': 'Dennis Schroder', 'status': '', 'position_type': 'P', 'eligible_positions': ['PG', 'G', 'Util'], 'selected_position': 'BN'}, {'player_id': 5767, 'name': \"De'Aaron Fox\", 'status': '', 'position_type': 'P', 'eligible_positions': ['PG', 'G', 'Util'], 'selected_position': 'BN'}, {'player_id': 6025, 'name': 'Michael Porter Jr.', 'status': '', 'position_type': 'P', 'eligible_positions': ['SF', 'PF', 'F', 'Util'], 'selected_position': 'BN'}, {'player_id': 5492, 'name': 'Montrezl Harrell', 'status': '', 'position_type': 'P', 'eligible_positions': ['PF', 'F', 'C', 'Util'], 'selected_position': 'BN'}]\n",
      "[{'player_id': 4390, 'name': 'Russell Westbrook', 'status': '', 'position_type': 'P', 'eligible_positions': ['PG', 'G', 'Util'], 'selected_position': 'PG'}, {'player_id': 4387, 'name': 'Derrick Rose', 'status': '', 'position_type': 'P', 'eligible_positions': ['PG', 'SG', 'G', 'Util'], 'selected_position': 'SG'}, {'player_id': 4716, 'name': 'John Wall', 'status': '', 'position_type': 'P', 'eligible_positions': ['PG', 'G', 'Util'], 'selected_position': 'G'}, {'player_id': 5601, 'name': 'Brandon Ingram', 'status': '', 'position_type': 'P', 'eligible_positions': ['SF', 'PF', 'F', 'Util'], 'selected_position': 'SF'}, {'player_id': 4244, 'name': 'Kevin Durant', 'status': '', 'position_type': 'P', 'eligible_positions': ['SF', 'PF', 'F', 'Util'], 'selected_position': 'PF'}, {'player_id': 5637, 'name': 'Buddy Hield', 'status': '', 'position_type': 'P', 'eligible_positions': ['SG', 'G', 'SF', 'F', 'Util'], 'selected_position': 'F'}, {'player_id': 6036, 'name': 'Moritz Wagner', 'status': '', 'position_type': 'P', 'eligible_positions': ['PF', 'F', 'C', 'Util'], 'selected_position': 'C'}, {'player_id': 5642, 'name': 'Domantas Sabonis', 'status': '', 'position_type': 'P', 'eligible_positions': ['PF', 'F', 'C', 'Util'], 'selected_position': 'C'}, {'player_id': 4488, 'name': 'George Hill', 'status': 'INJ', 'position_type': 'P', 'eligible_positions': ['PG', 'SG', 'G', 'Util'], 'selected_position': 'Util'}, {'player_id': 6172, 'name': 'Cam Reddish', 'status': '', 'position_type': 'P', 'eligible_positions': ['SG', 'G', 'SF', 'PF', 'F', 'Util'], 'selected_position': 'Util'}, {'player_id': 5858, 'name': 'Dillon Brooks', 'status': '', 'position_type': 'P', 'eligible_positions': ['SG', 'G', 'SF', 'F', 'Util'], 'selected_position': 'BN'}, {'player_id': 5341, 'name': 'Kyle Anderson', 'status': '', 'position_type': 'P', 'eligible_positions': ['SF', 'PF', 'F', 'Util'], 'selected_position': 'BN'}, {'player_id': 6356, 'name': 'James Wiseman', 'status': 'INJ', 'position_type': 'P', 'eligible_positions': ['C', 'Util'], 'selected_position': 'BN'}, {'player_id': 6165, 'name': 'RJ Barrett', 'status': '', 'position_type': 'P', 'eligible_positions': ['SG', 'G', 'SF', 'F', 'Util'], 'selected_position': 'BN'}, {'player_id': 5959, 'name': 'Marvin Bagley III', 'status': '', 'position_type': 'P', 'eligible_positions': ['PF', 'F', 'C', 'Util'], 'selected_position': 'BN'}]\n",
      "[{'player_id': 6028, 'name': 'Donte DiVincenzo', 'status': '', 'position_type': 'P', 'eligible_positions': ['PG', 'SG', 'G', 'Util'], 'selected_position': 'PG'}, {'player_id': 4624, 'name': 'Jeff Teague', 'status': '', 'position_type': 'P', 'eligible_positions': ['PG', 'SG', 'G', 'Util'], 'selected_position': 'SG'}, {'player_id': 5054, 'name': 'Evan Fournier', 'status': '', 'position_type': 'P', 'eligible_positions': ['SG', 'G', 'SF', 'F', 'Util'], 'selected_position': 'G'}, {'player_id': 5009, 'name': 'Bradley Beal', 'status': '', 'position_type': 'P', 'eligible_positions': ['SG', 'G', 'SF', 'F', 'Util'], 'selected_position': 'SF'}, {'player_id': 5157, 'name': 'Nerlens Noel', 'status': '', 'position_type': 'P', 'eligible_positions': ['PF', 'F', 'C', 'Util'], 'selected_position': 'PF'}, {'player_id': 5583, 'name': 'Christian Wood', 'status': 'GTD', 'position_type': 'P', 'eligible_positions': ['PF', 'F', 'C', 'Util'], 'selected_position': 'F'}, {'player_id': 5880, 'name': 'Daniel Theis', 'status': '', 'position_type': 'P', 'eligible_positions': ['C', 'Util'], 'selected_position': 'C'}, {'player_id': 5640, 'name': 'Jakob Poeltl', 'status': '', 'position_type': 'P', 'eligible_positions': ['C', 'Util'], 'selected_position': 'C'}, {'player_id': 4152, 'name': 'Kyle Lowry', 'status': '', 'position_type': 'P', 'eligible_positions': ['PG', 'G', 'Util'], 'selected_position': 'Util'}, {'player_id': 5842, 'name': 'Derrick White', 'status': '', 'position_type': 'P', 'eligible_positions': ['PG', 'SG', 'G', 'Util'], 'selected_position': 'Util'}, {'player_id': 5464, 'name': 'Kristaps Porzingis', 'status': '', 'position_type': 'P', 'eligible_positions': ['PF', 'F', 'C', 'Util'], 'selected_position': 'BN'}, {'player_id': 4563, 'name': 'James Harden', 'status': '', 'position_type': 'P', 'eligible_positions': ['PG', 'SG', 'G', 'Util'], 'selected_position': 'BN'}, {'player_id': 5069, 'name': 'Draymond Green', 'status': '', 'position_type': 'P', 'eligible_positions': ['PF', 'F', 'C', 'Util'], 'selected_position': 'BN'}, {'player_id': 4325, 'name': 'Marc Gasol', 'status': '', 'position_type': 'P', 'eligible_positions': ['C', 'Util'], 'selected_position': 'BN'}, {'player_id': 5958, 'name': 'Deandre Ayton', 'status': '', 'position_type': 'P', 'eligible_positions': ['C', 'Util'], 'selected_position': 'BN'}]\n"
     ]
    }
   ],
   "source": [
    "# Return players for all teams\n",
    "tms = lg.teams()\n",
    "\n",
    "for team_id in tms:\n",
    "    tm = lg.to_team(team_id)\n",
    "    print(tm.roster())"
   ],
   "metadata": {
    "collapsed": false,
    "pycharm": {
     "name": "#%%\n"
    }
   }
  },
  {
   "cell_type": "code",
   "execution_count": 9,
   "outputs": [
    {
     "data": {
      "text/plain": "['Theo Maledon',\n 'Malcolm Brogdon',\n 'Jeremy Lamb',\n 'Jimmy Butler',\n 'Khris Middleton',\n 'Duncan Robinson',\n 'Pascal Siakam',\n 'Davis Bertans',\n 'Eric Bledsoe',\n 'Cameron Johnson',\n 'Patty Mills',\n 'Nikola Jokic',\n 'Enes Kanter',\n 'Marcus Smart',\n 'Gary Trent Jr.']"
     },
     "execution_count": 9,
     "metadata": {},
     "output_type": "execute_result"
    }
   ],
   "source": [
    "# Player list in single team\n",
    "tm = lg.to_team('402.l.55374.t.6')\n",
    "team_roster = tm.roster()\n",
    "player_in_team_list = [player[\"name\"] for player in team_roster]\n",
    "player_in_team_list"
   ],
   "metadata": {
    "collapsed": false,
    "pycharm": {
     "name": "#%%\n"
    }
   }
  },
  {
   "cell_type": "code",
   "execution_count": 10,
   "outputs": [
    {
     "data": {
      "text/plain": "           PLAYER FG_PCT FT_PCT  FG3M    PTS   REB   AST   STL   BLK   TOV  \\\nMean  Will Barton  0.417  0.737  1.52  10.95  3.86  3.14  0.81  0.52  1.29   \n\n      GAMES  \nMean     22  ",
      "text/html": "<div>\n<style scoped>\n    .dataframe tbody tr th:only-of-type {\n        vertical-align: middle;\n    }\n\n    .dataframe tbody tr th {\n        vertical-align: top;\n    }\n\n    .dataframe thead th {\n        text-align: right;\n    }\n</style>\n<table border=\"1\" class=\"dataframe\">\n  <thead>\n    <tr style=\"text-align: right;\">\n      <th></th>\n      <th>PLAYER</th>\n      <th>FG_PCT</th>\n      <th>FT_PCT</th>\n      <th>FG3M</th>\n      <th>PTS</th>\n      <th>REB</th>\n      <th>AST</th>\n      <th>STL</th>\n      <th>BLK</th>\n      <th>TOV</th>\n      <th>GAMES</th>\n    </tr>\n  </thead>\n  <tbody>\n    <tr>\n      <th>Mean</th>\n      <td>Will Barton</td>\n      <td>0.417</td>\n      <td>0.737</td>\n      <td>1.52</td>\n      <td>10.95</td>\n      <td>3.86</td>\n      <td>3.14</td>\n      <td>0.81</td>\n      <td>0.52</td>\n      <td>1.29</td>\n      <td>22</td>\n    </tr>\n  </tbody>\n</table>\n</div>"
     },
     "execution_count": 10,
     "metadata": {},
     "output_type": "execute_result"
    }
   ],
   "source": [
    "# Get player 9cat\n",
    "from src.data import player_9cat_average as p9ca\n",
    "\n",
    "p9ca.get_player_9cat_season_average(\"Will Barton\")"
   ],
   "metadata": {
    "collapsed": false,
    "pycharm": {
     "name": "#%%\n"
    }
   }
  },
  {
   "cell_type": "code",
   "execution_count": 10,
   "outputs": [],
   "source": [
    "import pandas as pd\n",
    "\n",
    "player_9cat_dataframe = pd.DataFrame()\n",
    "for player in player_in_team_list:\n",
    "    player_9cat_dataframe = player_9cat_dataframe.append(p9ca.get_player_9cat_season_average(player))"
   ],
   "metadata": {
    "collapsed": false,
    "pycharm": {
     "name": "#%%\n"
    }
   }
  },
  {
   "cell_type": "code",
   "execution_count": 11,
   "outputs": [
    {
     "data": {
      "text/plain": "             PLAYER FG_PCT FT_PCT  FG3M    PTS    REB   AST   STL   BLK   TOV  \\\n0       Patty Mills  0.470  0.909  2.67  14.33   1.72  2.94  0.50  0.06  0.94   \n1       Will Barton  0.409  0.735  1.39  10.78   4.17  3.00  0.89  0.56  1.33   \n2   Malcolm Brogdon  0.459  0.905  2.89  22.83   4.28  7.11  1.44  0.22  2.06   \n3       Jeremy Lamb  0.490  0.933  1.60  14.00   4.60  1.40  0.80  0.20  0.80   \n4   Khris Middleton  0.519  0.925  2.65  21.88   6.53  5.82  1.00  0.18  2.24   \n5     Davis Bertans  0.373  0.821  2.82  11.82   3.09  1.36  0.55  0.27  0.55   \n6      Nikola Jokic  0.567  0.843  1.06  25.17  11.83  8.94  1.78  0.56  4.00   \n7     Pascal Siakam  0.441  0.767  1.13  18.07   8.20  4.60  0.80  0.53  2.60   \n8      Eric Bledsoe  0.440  0.688  1.93  13.13   3.87  3.60  0.93  0.27  2.00   \n9   Cameron Johnson  0.447  0.824  2.41  11.71   3.41  1.59  0.71  0.41  0.82   \n10  Wayne Ellington  0.542  0.727  3.85  14.46   2.23  1.23  0.54  0.23  0.92   \n11     Jimmy Butler  0.442  0.931  0.00  15.83   5.50  5.33  2.17  0.67  1.83   \n12  Duncan Robinson  0.427  0.879  3.39  13.44   4.06  1.72  0.44  0.33  1.56   \n13      Enes Kanter  0.613  0.806  0.00  10.29  10.24  1.18  0.65  0.94  1.00   \n14     Marcus Smart  0.398  0.742  1.75  13.62   2.81  6.00  1.81  0.50  1.81   \n\n    GAMES  \n0      19  \n1      19  \n2      19  \n3       6  \n4      18  \n5      12  \n6      19  \n7      16  \n8      16  \n9      18  \n10     14  \n11      7  \n12     19  \n13     18  \n14     17  ",
      "text/html": "<div>\n<style scoped>\n    .dataframe tbody tr th:only-of-type {\n        vertical-align: middle;\n    }\n\n    .dataframe tbody tr th {\n        vertical-align: top;\n    }\n\n    .dataframe thead th {\n        text-align: right;\n    }\n</style>\n<table border=\"1\" class=\"dataframe\">\n  <thead>\n    <tr style=\"text-align: right;\">\n      <th></th>\n      <th>PLAYER</th>\n      <th>FG_PCT</th>\n      <th>FT_PCT</th>\n      <th>FG3M</th>\n      <th>PTS</th>\n      <th>REB</th>\n      <th>AST</th>\n      <th>STL</th>\n      <th>BLK</th>\n      <th>TOV</th>\n      <th>GAMES</th>\n    </tr>\n  </thead>\n  <tbody>\n    <tr>\n      <th>0</th>\n      <td>Patty Mills</td>\n      <td>0.470</td>\n      <td>0.909</td>\n      <td>2.67</td>\n      <td>14.33</td>\n      <td>1.72</td>\n      <td>2.94</td>\n      <td>0.50</td>\n      <td>0.06</td>\n      <td>0.94</td>\n      <td>19</td>\n    </tr>\n    <tr>\n      <th>1</th>\n      <td>Will Barton</td>\n      <td>0.409</td>\n      <td>0.735</td>\n      <td>1.39</td>\n      <td>10.78</td>\n      <td>4.17</td>\n      <td>3.00</td>\n      <td>0.89</td>\n      <td>0.56</td>\n      <td>1.33</td>\n      <td>19</td>\n    </tr>\n    <tr>\n      <th>2</th>\n      <td>Malcolm Brogdon</td>\n      <td>0.459</td>\n      <td>0.905</td>\n      <td>2.89</td>\n      <td>22.83</td>\n      <td>4.28</td>\n      <td>7.11</td>\n      <td>1.44</td>\n      <td>0.22</td>\n      <td>2.06</td>\n      <td>19</td>\n    </tr>\n    <tr>\n      <th>3</th>\n      <td>Jeremy Lamb</td>\n      <td>0.490</td>\n      <td>0.933</td>\n      <td>1.60</td>\n      <td>14.00</td>\n      <td>4.60</td>\n      <td>1.40</td>\n      <td>0.80</td>\n      <td>0.20</td>\n      <td>0.80</td>\n      <td>6</td>\n    </tr>\n    <tr>\n      <th>4</th>\n      <td>Khris Middleton</td>\n      <td>0.519</td>\n      <td>0.925</td>\n      <td>2.65</td>\n      <td>21.88</td>\n      <td>6.53</td>\n      <td>5.82</td>\n      <td>1.00</td>\n      <td>0.18</td>\n      <td>2.24</td>\n      <td>18</td>\n    </tr>\n    <tr>\n      <th>5</th>\n      <td>Davis Bertans</td>\n      <td>0.373</td>\n      <td>0.821</td>\n      <td>2.82</td>\n      <td>11.82</td>\n      <td>3.09</td>\n      <td>1.36</td>\n      <td>0.55</td>\n      <td>0.27</td>\n      <td>0.55</td>\n      <td>12</td>\n    </tr>\n    <tr>\n      <th>6</th>\n      <td>Nikola Jokic</td>\n      <td>0.567</td>\n      <td>0.843</td>\n      <td>1.06</td>\n      <td>25.17</td>\n      <td>11.83</td>\n      <td>8.94</td>\n      <td>1.78</td>\n      <td>0.56</td>\n      <td>4.00</td>\n      <td>19</td>\n    </tr>\n    <tr>\n      <th>7</th>\n      <td>Pascal Siakam</td>\n      <td>0.441</td>\n      <td>0.767</td>\n      <td>1.13</td>\n      <td>18.07</td>\n      <td>8.20</td>\n      <td>4.60</td>\n      <td>0.80</td>\n      <td>0.53</td>\n      <td>2.60</td>\n      <td>16</td>\n    </tr>\n    <tr>\n      <th>8</th>\n      <td>Eric Bledsoe</td>\n      <td>0.440</td>\n      <td>0.688</td>\n      <td>1.93</td>\n      <td>13.13</td>\n      <td>3.87</td>\n      <td>3.60</td>\n      <td>0.93</td>\n      <td>0.27</td>\n      <td>2.00</td>\n      <td>16</td>\n    </tr>\n    <tr>\n      <th>9</th>\n      <td>Cameron Johnson</td>\n      <td>0.447</td>\n      <td>0.824</td>\n      <td>2.41</td>\n      <td>11.71</td>\n      <td>3.41</td>\n      <td>1.59</td>\n      <td>0.71</td>\n      <td>0.41</td>\n      <td>0.82</td>\n      <td>18</td>\n    </tr>\n    <tr>\n      <th>10</th>\n      <td>Wayne Ellington</td>\n      <td>0.542</td>\n      <td>0.727</td>\n      <td>3.85</td>\n      <td>14.46</td>\n      <td>2.23</td>\n      <td>1.23</td>\n      <td>0.54</td>\n      <td>0.23</td>\n      <td>0.92</td>\n      <td>14</td>\n    </tr>\n    <tr>\n      <th>11</th>\n      <td>Jimmy Butler</td>\n      <td>0.442</td>\n      <td>0.931</td>\n      <td>0.00</td>\n      <td>15.83</td>\n      <td>5.50</td>\n      <td>5.33</td>\n      <td>2.17</td>\n      <td>0.67</td>\n      <td>1.83</td>\n      <td>7</td>\n    </tr>\n    <tr>\n      <th>12</th>\n      <td>Duncan Robinson</td>\n      <td>0.427</td>\n      <td>0.879</td>\n      <td>3.39</td>\n      <td>13.44</td>\n      <td>4.06</td>\n      <td>1.72</td>\n      <td>0.44</td>\n      <td>0.33</td>\n      <td>1.56</td>\n      <td>19</td>\n    </tr>\n    <tr>\n      <th>13</th>\n      <td>Enes Kanter</td>\n      <td>0.613</td>\n      <td>0.806</td>\n      <td>0.00</td>\n      <td>10.29</td>\n      <td>10.24</td>\n      <td>1.18</td>\n      <td>0.65</td>\n      <td>0.94</td>\n      <td>1.00</td>\n      <td>18</td>\n    </tr>\n    <tr>\n      <th>14</th>\n      <td>Marcus Smart</td>\n      <td>0.398</td>\n      <td>0.742</td>\n      <td>1.75</td>\n      <td>13.62</td>\n      <td>2.81</td>\n      <td>6.00</td>\n      <td>1.81</td>\n      <td>0.50</td>\n      <td>1.81</td>\n      <td>17</td>\n    </tr>\n  </tbody>\n</table>\n</div>"
     },
     "execution_count": 11,
     "metadata": {},
     "output_type": "execute_result"
    }
   ],
   "source": [
    "# Reset index\n",
    "player_9cat_dataframe.reset_index(inplace=True, drop=True)\n",
    "player_9cat_dataframe"
   ],
   "metadata": {
    "collapsed": false,
    "pycharm": {
     "name": "#%%\n"
    }
   }
  },
  {
   "cell_type": "code",
   "execution_count": 12,
   "outputs": [],
   "source": [
    "# Change column datatype\n",
    "for column in player_9cat_dataframe.columns[1:]:\n",
    "    player_9cat_dataframe[column] = player_9cat_dataframe[column].astype(float)"
   ],
   "metadata": {
    "collapsed": false,
    "pycharm": {
     "name": "#%%\n"
    }
   }
  },
  {
   "cell_type": "code",
   "execution_count": 13,
   "outputs": [
    {
     "data": {
      "text/plain": "               PLAYER    FG_PCT  FT_PCT      FG3M     PTS        REB  \\\n0         Patty Mills  0.470000   0.909  2.670000  14.330   1.720000   \n1         Will Barton  0.409000   0.735  1.390000  10.780   4.170000   \n2     Malcolm Brogdon  0.459000   0.905  2.890000  22.830   4.280000   \n3         Jeremy Lamb  0.490000   0.933  1.600000  14.000   4.600000   \n4     Khris Middleton  0.519000   0.925  2.650000  21.880   6.530000   \n5       Davis Bertans  0.373000   0.821  2.820000  11.820   3.090000   \n6        Nikola Jokic  0.567000   0.843  1.060000  25.170  11.830000   \n7       Pascal Siakam  0.441000   0.767  1.130000  18.070   8.200000   \n8        Eric Bledsoe  0.440000   0.688  1.930000  13.130   3.870000   \n9     Cameron Johnson  0.447000   0.824  2.410000  11.710   3.410000   \n10    Wayne Ellington  0.542000   0.727  3.850000  14.460   2.230000   \n11       Jimmy Butler  0.442000   0.931  0.000000  15.830   5.500000   \n12    Duncan Robinson  0.427000   0.879  3.390000  13.440   4.060000   \n13        Enes Kanter  0.613000   0.806  0.000000  10.290  10.240000   \n14       Marcus Smart  0.398000   0.742  1.750000  13.620   2.810000   \nmean              NaN  0.469133   0.829  1.969333  15.424   5.102667   \n\n           AST       STL       BLK       TOV  GAMES  \n0     2.940000  0.500000  0.060000  0.940000   19.0  \n1     3.000000  0.890000  0.560000  1.330000   19.0  \n2     7.110000  1.440000  0.220000  2.060000   19.0  \n3     1.400000  0.800000  0.200000  0.800000    6.0  \n4     5.820000  1.000000  0.180000  2.240000   18.0  \n5     1.360000  0.550000  0.270000  0.550000   12.0  \n6     8.940000  1.780000  0.560000  4.000000   19.0  \n7     4.600000  0.800000  0.530000  2.600000   16.0  \n8     3.600000  0.930000  0.270000  2.000000   16.0  \n9     1.590000  0.710000  0.410000  0.820000   18.0  \n10    1.230000  0.540000  0.230000  0.920000   14.0  \n11    5.330000  2.170000  0.670000  1.830000    7.0  \n12    1.720000  0.440000  0.330000  1.560000   19.0  \n13    1.180000  0.650000  0.940000  1.000000   18.0  \n14    6.000000  1.810000  0.500000  1.810000   17.0  \nmean  3.721333  1.000667  0.395333  1.630667   15.8  ",
      "text/html": "<div>\n<style scoped>\n    .dataframe tbody tr th:only-of-type {\n        vertical-align: middle;\n    }\n\n    .dataframe tbody tr th {\n        vertical-align: top;\n    }\n\n    .dataframe thead th {\n        text-align: right;\n    }\n</style>\n<table border=\"1\" class=\"dataframe\">\n  <thead>\n    <tr style=\"text-align: right;\">\n      <th></th>\n      <th>PLAYER</th>\n      <th>FG_PCT</th>\n      <th>FT_PCT</th>\n      <th>FG3M</th>\n      <th>PTS</th>\n      <th>REB</th>\n      <th>AST</th>\n      <th>STL</th>\n      <th>BLK</th>\n      <th>TOV</th>\n      <th>GAMES</th>\n    </tr>\n  </thead>\n  <tbody>\n    <tr>\n      <th>0</th>\n      <td>Patty Mills</td>\n      <td>0.470000</td>\n      <td>0.909</td>\n      <td>2.670000</td>\n      <td>14.330</td>\n      <td>1.720000</td>\n      <td>2.940000</td>\n      <td>0.500000</td>\n      <td>0.060000</td>\n      <td>0.940000</td>\n      <td>19.0</td>\n    </tr>\n    <tr>\n      <th>1</th>\n      <td>Will Barton</td>\n      <td>0.409000</td>\n      <td>0.735</td>\n      <td>1.390000</td>\n      <td>10.780</td>\n      <td>4.170000</td>\n      <td>3.000000</td>\n      <td>0.890000</td>\n      <td>0.560000</td>\n      <td>1.330000</td>\n      <td>19.0</td>\n    </tr>\n    <tr>\n      <th>2</th>\n      <td>Malcolm Brogdon</td>\n      <td>0.459000</td>\n      <td>0.905</td>\n      <td>2.890000</td>\n      <td>22.830</td>\n      <td>4.280000</td>\n      <td>7.110000</td>\n      <td>1.440000</td>\n      <td>0.220000</td>\n      <td>2.060000</td>\n      <td>19.0</td>\n    </tr>\n    <tr>\n      <th>3</th>\n      <td>Jeremy Lamb</td>\n      <td>0.490000</td>\n      <td>0.933</td>\n      <td>1.600000</td>\n      <td>14.000</td>\n      <td>4.600000</td>\n      <td>1.400000</td>\n      <td>0.800000</td>\n      <td>0.200000</td>\n      <td>0.800000</td>\n      <td>6.0</td>\n    </tr>\n    <tr>\n      <th>4</th>\n      <td>Khris Middleton</td>\n      <td>0.519000</td>\n      <td>0.925</td>\n      <td>2.650000</td>\n      <td>21.880</td>\n      <td>6.530000</td>\n      <td>5.820000</td>\n      <td>1.000000</td>\n      <td>0.180000</td>\n      <td>2.240000</td>\n      <td>18.0</td>\n    </tr>\n    <tr>\n      <th>5</th>\n      <td>Davis Bertans</td>\n      <td>0.373000</td>\n      <td>0.821</td>\n      <td>2.820000</td>\n      <td>11.820</td>\n      <td>3.090000</td>\n      <td>1.360000</td>\n      <td>0.550000</td>\n      <td>0.270000</td>\n      <td>0.550000</td>\n      <td>12.0</td>\n    </tr>\n    <tr>\n      <th>6</th>\n      <td>Nikola Jokic</td>\n      <td>0.567000</td>\n      <td>0.843</td>\n      <td>1.060000</td>\n      <td>25.170</td>\n      <td>11.830000</td>\n      <td>8.940000</td>\n      <td>1.780000</td>\n      <td>0.560000</td>\n      <td>4.000000</td>\n      <td>19.0</td>\n    </tr>\n    <tr>\n      <th>7</th>\n      <td>Pascal Siakam</td>\n      <td>0.441000</td>\n      <td>0.767</td>\n      <td>1.130000</td>\n      <td>18.070</td>\n      <td>8.200000</td>\n      <td>4.600000</td>\n      <td>0.800000</td>\n      <td>0.530000</td>\n      <td>2.600000</td>\n      <td>16.0</td>\n    </tr>\n    <tr>\n      <th>8</th>\n      <td>Eric Bledsoe</td>\n      <td>0.440000</td>\n      <td>0.688</td>\n      <td>1.930000</td>\n      <td>13.130</td>\n      <td>3.870000</td>\n      <td>3.600000</td>\n      <td>0.930000</td>\n      <td>0.270000</td>\n      <td>2.000000</td>\n      <td>16.0</td>\n    </tr>\n    <tr>\n      <th>9</th>\n      <td>Cameron Johnson</td>\n      <td>0.447000</td>\n      <td>0.824</td>\n      <td>2.410000</td>\n      <td>11.710</td>\n      <td>3.410000</td>\n      <td>1.590000</td>\n      <td>0.710000</td>\n      <td>0.410000</td>\n      <td>0.820000</td>\n      <td>18.0</td>\n    </tr>\n    <tr>\n      <th>10</th>\n      <td>Wayne Ellington</td>\n      <td>0.542000</td>\n      <td>0.727</td>\n      <td>3.850000</td>\n      <td>14.460</td>\n      <td>2.230000</td>\n      <td>1.230000</td>\n      <td>0.540000</td>\n      <td>0.230000</td>\n      <td>0.920000</td>\n      <td>14.0</td>\n    </tr>\n    <tr>\n      <th>11</th>\n      <td>Jimmy Butler</td>\n      <td>0.442000</td>\n      <td>0.931</td>\n      <td>0.000000</td>\n      <td>15.830</td>\n      <td>5.500000</td>\n      <td>5.330000</td>\n      <td>2.170000</td>\n      <td>0.670000</td>\n      <td>1.830000</td>\n      <td>7.0</td>\n    </tr>\n    <tr>\n      <th>12</th>\n      <td>Duncan Robinson</td>\n      <td>0.427000</td>\n      <td>0.879</td>\n      <td>3.390000</td>\n      <td>13.440</td>\n      <td>4.060000</td>\n      <td>1.720000</td>\n      <td>0.440000</td>\n      <td>0.330000</td>\n      <td>1.560000</td>\n      <td>19.0</td>\n    </tr>\n    <tr>\n      <th>13</th>\n      <td>Enes Kanter</td>\n      <td>0.613000</td>\n      <td>0.806</td>\n      <td>0.000000</td>\n      <td>10.290</td>\n      <td>10.240000</td>\n      <td>1.180000</td>\n      <td>0.650000</td>\n      <td>0.940000</td>\n      <td>1.000000</td>\n      <td>18.0</td>\n    </tr>\n    <tr>\n      <th>14</th>\n      <td>Marcus Smart</td>\n      <td>0.398000</td>\n      <td>0.742</td>\n      <td>1.750000</td>\n      <td>13.620</td>\n      <td>2.810000</td>\n      <td>6.000000</td>\n      <td>1.810000</td>\n      <td>0.500000</td>\n      <td>1.810000</td>\n      <td>17.0</td>\n    </tr>\n    <tr>\n      <th>mean</th>\n      <td>NaN</td>\n      <td>0.469133</td>\n      <td>0.829</td>\n      <td>1.969333</td>\n      <td>15.424</td>\n      <td>5.102667</td>\n      <td>3.721333</td>\n      <td>1.000667</td>\n      <td>0.395333</td>\n      <td>1.630667</td>\n      <td>15.8</td>\n    </tr>\n  </tbody>\n</table>\n</div>"
     },
     "execution_count": 13,
     "metadata": {},
     "output_type": "execute_result"
    }
   ],
   "source": [
    "# Calculate team mean 9cat\n",
    "player_9cat_dataframe.loc[\"mean\"] = player_9cat_dataframe.mean()\n",
    "player_9cat_dataframe\n"
   ],
   "metadata": {
    "collapsed": false,
    "pycharm": {
     "name": "#%%\n"
    }
   }
  },
  {
   "cell_type": "code",
   "execution_count": 21,
   "outputs": [
    {
     "data": {
      "text/plain": "318"
     },
     "execution_count": 21,
     "metadata": {},
     "output_type": "execute_result"
    }
   ],
   "source": [
    "# Free agents\n",
    "free_agent_guards = lg.free_agents(\"G\")\n",
    "free_agent_forwards = lg.free_agents(\"F\")\n",
    "free_agent_centers = lg.free_agents(\"C\")\n",
    "\n",
    "free_agents = [player[\"name\"] for player in free_agent_guards] \\\n",
    "              + [player[\"name\"] for player in free_agent_forwards] \\\n",
    "    + [player[\"name\"] for player in free_agent_centers]\n",
    "\n",
    "free_agents = set(free_agents)"
   ],
   "metadata": {
    "collapsed": false,
    "pycharm": {
     "name": "#%%\n"
    }
   }
  },
  {
   "cell_type": "code",
   "execution_count": 1,
   "outputs": [],
   "source": [
    "import pandas as pd\n",
    "from yahoo_oauth import OAuth2\n",
    "import yahoo_fantasy_api as yfa\n",
    "from src.data import player_9cat_average as p9ca\n",
    "from nba_api.stats.endpoints import commonallplayers\n",
    "from nba_api.stats.endpoints import commonplayerinfo\n",
    "\n",
    "NBA = \"nba\"\n",
    "SEASON = 2020\n",
    "JSON_FOLDER = \"../references/oauth2.json\"\n",
    "# Team dictionaries\n",
    "LALALAND = {'team_key': '402.l.55374.t.1', 'name': 'LaLaLand'}\n",
    "AUTOPICK = {'team_key': '402.l.55374.t.2', 'name': 'Autopick'}\n",
    "CRABBEHERBYTHEPUSSY = {'team_key': '402.l.55374.t.3', 'name': 'CrabbeHerByThePussy'}\n",
    "MAGICS_JOHNSON = {'team_key': '402.l.55374.t.4', 'name': \"Magic's Johnson\"}\n",
    "MCCURRY = {'team_key': '402.l.55374.t.5', 'name': 'McCurry'}\n",
    "NUNN_OF_YALL_BETTA = {'team_key': '402.l.55374.t.6', 'name': \"Nunn of Y'all Betta\"}\n",
    "RUSTY_CUNTBROOKS = {'team_key': '402.l.55374.t.7', 'name': 'Russty Cuntbrooks'}\n",
    "WAKANDA_FOREVER = {'team_key': '402.l.55374.t.8', 'name': 'Wakanda Forever'}\n",
    "SWAGGY_P = {'team_key': '402.l.55374.t.9', 'name': 'Swaggy P'}\n",
    "YOBITCH_TOPPIN_ME = {'team_key': '402.l.55374.t.10', 'name': 'yOBItch Toppin Me'}\n",
    "TVONS_TIP_TOP_TEAM = {'team_key': '402.l.55374.t.11', 'name': \"Tvon's Tip-Top Team\"}\n",
    "EL_LADRON_DE_CABRAS = {'team_key': '402.l.55374.t.12', 'name': 'El Ladrón de Cabras'}\n",
    "league_team_list = [LALALAND, AUTOPICK, CRABBEHERBYTHEPUSSY, MAGICS_JOHNSON, MCCURRY,\n",
    "                    NUNN_OF_YALL_BETTA, RUSTY_CUNTBROOKS, WAKANDA_FOREVER, SWAGGY_P,\n",
    "                    YOBITCH_TOPPIN_ME, TVONS_TIP_TOP_TEAM, EL_LADRON_DE_CABRAS]\n",
    "\n",
    "NAME_KEY = \"name\"\n",
    "GAMES_COLUMN = \"GAMES\"\n",
    "MEAN_ROW = \"mean\"\n",
    "TEAM_KEY = \"team_key\"\n",
    "PLAYER_COLUMN = \"PLAYER\"\n",
    "TEAM_COLUMN = \"TEAM\"\n",
    "EDITORIAL_TEAM_FULL_NAME = \"editorial_team_full_name\"\n",
    "UNIFORM_NUMBER = \"uniform_number\"\n",
    "COMMON_ALL_PLAYERS =\"CommonAllPlayers\"\n",
    "PERSON_ID_KEY = \"PERSON_ID\"\n",
    "TEAM_CITY_KEY = \"TEAM_CITY\"\n",
    "TEAM_NAME_KEY = \"TEAM_NAME\"\n",
    "COMMON_PLAYER_INFO = \"CommonPlayerInfo\"\n",
    "JERSEY_KEY = \"JERSEY\"\n",
    "DISPLAY_FIRST_LAST = \"DISPLAY_FIRST_LAST\"\n",
    "\n",
    "def yahoo_fantasy_api_authentication():\n",
    "\n",
    "    sc = OAuth2(None, None, from_file=JSON_FOLDER)\n",
    "\n",
    "    return sc\n",
    "\n",
    "\n",
    "def yahoo_fantasy_league(sc):\n",
    "\n",
    "    gm = yfa.Game(sc, NBA)\n",
    "    league_id_list = gm.league_ids(year=SEASON)\n",
    "    league_id = \"\".join(str(id) for id in league_id_list)\n",
    "    league = gm.to_league(league_id)\n",
    "\n",
    "    return league\n",
    "\n",
    "\n",
    "def yahoo_player_team_and_jersey(player_name):\n",
    "\n",
    "    player_details_dictionary = league.player_details(player_name)\n",
    "    players_team = player_details_dictionary[0][EDITORIAL_TEAM_FULL_NAME]\n",
    "    players_number = player_details_dictionary[0][UNIFORM_NUMBER]\n",
    "\n",
    "    return players_team, players_number\n",
    "\n",
    "\n",
    "def player_ids_by_nba_team_name(nba_team):\n",
    "\n",
    "    common_all_players = commonallplayers.CommonAllPlayers(is_only_current_season=1)\n",
    "    common_all_players_dict = common_all_players.get_normalized_dict()[COMMON_ALL_PLAYERS]\n",
    "    player_ids_in_team_list = [player[PERSON_ID_KEY] for player in common_all_players_dict if \\\n",
    "        player[TEAM_CITY_KEY] + \" \" + player[TEAM_NAME_KEY] == nba_team]\n",
    "\n",
    "    return player_ids_in_team_list\n",
    "\n",
    "\n",
    "def nba_player_name_from_jersey_search(team_player_ids, yahoo_jersey_number):\n",
    "\n",
    "    for id in team_player_ids:\n",
    "        nba_jersey_number = commonplayerinfo.CommonPlayerInfo(id).get_normalized_dict() \\\n",
    "            [COMMON_PLAYER_INFO][0][JERSEY_KEY]\n",
    "        if nba_jersey_number == yahoo_jersey_number:\n",
    "            nba_name = commonplayerinfo.CommonPlayerInfo(id).get_normalized_dict() \\\n",
    "            [COMMON_PLAYER_INFO][0][DISPLAY_FIRST_LAST]\n",
    "\n",
    "            return nba_name\n",
    "\n",
    "\n",
    "def yahoo_name_to_nba_name(yahoo_player_name):\n",
    "    \"\"\" Function expectes a Yahoo player name and it will find the players Team Name and Jersey\n",
    "    Number. It then searches the NBA API for Player IDs belonging to found Team Name. For every\n",
    "    Player ID it searches their Jersey Number. When there is a match, it returns the NBA Player\n",
    "    Name.\n",
    "    \"\"\"\n",
    "\n",
    "    player_team, player_number = yahoo_player_team_and_jersey(yahoo_player_name)\n",
    "    player_ids_in_team_list = player_ids_by_nba_team_name(player_team)\n",
    "    nba_player_name = nba_player_name_from_jersey_search(player_ids_in_team_list, player_number)\n",
    "\n",
    "    return nba_player_name\n",
    "\n",
    "\n",
    "def create_roster_dataframe(player_list):\n",
    "\n",
    "    active_players = p9ca.nba_active_players()\n",
    "    roster_dataframe = pd.DataFrame()\n",
    "    for player in player_list:\n",
    "        try:\n",
    "            roster_dataframe = roster_dataframe.append(p9ca.player_average_9cat_stats(player,\n",
    "                                                                                      active_players))\n",
    "        except IndexError:\n",
    "            nba_player_name = yahoo_name_to_nba_name(player)\n",
    "            roster_dataframe = roster_dataframe.append(p9ca.player_average_9cat_stats(nba_player_name,\n",
    "                                                                                      active_players))\n",
    "        except:\n",
    "            print(f\"Can't find player {player}\")\n",
    "\n",
    "    roster_dataframe.reset_index(inplace=True, drop=True)\n",
    "\n",
    "    return roster_dataframe\n",
    "\n",
    "\n",
    "def format_roster_dataframe(roster_dataframe):\n",
    "\n",
    "    for column in roster_dataframe.columns[1:]:\n",
    "        roster_dataframe[column] = roster_dataframe[column].astype(float)\n",
    "\n",
    "    roster_dataframe.loc[MEAN_ROW] = roster_dataframe.mean()\n",
    "    roster_dataframe = p9ca.format_dataframe_decimals(roster_dataframe)\n",
    "    try:\n",
    "        roster_dataframe.drop(GAMES_COLUMN, axis=1, inplace=True)\n",
    "    except:\n",
    "        pass\n",
    "\n",
    "    return roster_dataframe\n",
    "\n",
    "\n",
    "def team_9cat_average_stats(team_dictionary, league):\n",
    "\n",
    "    team = league.to_team(team_dictionary[TEAM_KEY])\n",
    "    team_roster = team.roster()\n",
    "    player_in_team_list = [player[NAME_KEY] for player in team_roster]\n",
    "\n",
    "    roster_dataframe = create_roster_dataframe(player_in_team_list)\n",
    "\n",
    "    roster_dataframe = format_roster_dataframe(roster_dataframe)\n",
    "\n",
    "    return roster_dataframe\n",
    "\n",
    "\n",
    "def fantasy_team_mean_stats(roster_dataframe, team_dictionary):\n",
    "\n",
    "    mean_series = roster_dataframe.loc[MEAN_ROW]\n",
    "    mean_series[PLAYER_COLUMN] = team_dictionary[NAME_KEY]\n",
    "    team_mean_dataframe = pd.DataFrame(mean_series).T\n",
    "    team_mean_dataframe = team_mean_dataframe.rename(columns={PLAYER_COLUMN : TEAM_COLUMN})\n",
    "    team_mean_dataframe.reset_index(inplace=True, drop=True)\n",
    "\n",
    "    return team_mean_dataframe\n",
    "\n",
    "\n",
    "def player_to_team_mean_stats(team_dictionary, league):\n",
    "    \"\"\"\n",
    "    This function creates a dataframe containing the season averaged stats for each player on a\n",
    "    Fantasy Team. It then finds the average stats for the entire team and returns a single row\n",
    "    dataframe with the Fantasy Team name and its seasoned averaged 9cat stats.\n",
    "    \"\"\"\n",
    "\n",
    "    roster_dataframe = team_9cat_average_stats(team_dictionary, league)\n",
    "    team_mean_dataframe = fantasy_team_mean_stats(roster_dataframe, team_dictionary)\n",
    "\n",
    "    return team_mean_dataframe\n",
    "\n",
    "\n",
    "def league_averages(league_team_list):\n",
    "\n",
    "    league_averages_dataframe = pd.DataFrame()\n",
    "    for team in league_team_list:\n",
    "        yahoo_fantasy_api_authentication()\n",
    "        league_averages_dataframe = league_averages_dataframe.append(player_to_team_mean_stats\n",
    "                                                                     (team, league))\n",
    "    league_averages_dataframe.reset_index(drop=True, inplace=True)\n",
    "    return league_averages_dataframe"
   ],
   "metadata": {
    "collapsed": false,
    "pycharm": {
     "name": "#%%\n"
    }
   }
  },
  {
   "cell_type": "code",
   "execution_count": 12,
   "outputs": [
    {
     "name": "stderr",
     "output_type": "stream",
     "text": [
      "[2021-01-23 23:07:43,569 DEBUG] [yahoo_oauth.oauth.__init__] Checking \n",
      "[2021-01-23 23:07:43,573 DEBUG] [yahoo_oauth.oauth.token_is_valid] ELAPSED TIME : 2186.45499253273\n",
      "[2021-01-23 23:07:43,574 DEBUG] [yahoo_oauth.oauth.token_is_valid] TOKEN IS STILL VALID\n"
     ]
    },
    {
     "data": {
      "text/plain": "                  PLAYER FG_PCT FT_PCT FG3M   PTS   REB  AST  STL  BLK  TOV\n0             Chris Paul  0.440  0.700  0.9  13.3   4.4  8.7  0.9  0.3  2.3\n1          Norman Powell  0.386  0.470  2.0  12.5   2.1  0.7  1.0  0.2  1.3\n2            Deni Avdija  0.459  0.273  1.5   7.0   4.0  2.2  1.0  0.3  0.6\n3        Otto Porter Jr.  0.481  0.545  1.8  12.5   6.8  1.9  0.7  0.1  1.1\n4           John Collins  0.520  0.554  1.0  15.9   7.5  1.5  0.6  1.0  1.3\n5          Tobias Harris  0.526  0.731  2.1  19.6   6.8  3.1  1.1  0.9  2.2\n6            Bam Adebayo  0.607  0.858  0.0  18.6   9.2  5.2  0.8  1.0  3.5\n7     Karl-Anthony Towns  0.479  0.958  1.5  22.0  12.5  4.2  0.5  2.8  2.5\n8        Larry Nance Jr.  0.505  0.378  1.6  11.1   6.5  3.7  2.4  0.5  1.7\n9          Nicolas Batum  0.498  0.479  2.1  10.2   4.9  2.5  1.3  0.4  0.7\n10          Myles Turner  0.479  0.587  1.4  13.2   7.0  1.1  1.4  4.1  1.4\n11      Danilo Gallinari  0.681  0.667  1.0   9.3   3.0  1.0  0.0  0.0  1.0\n12         Darius Bazley  0.373  0.476  1.4  10.4   6.9  1.4  0.5  1.0  1.7\n13       Devonte' Graham  0.315  0.462  2.7  13.3   3.3  6.4  1.5  0.0  1.2\n14        Richaun Holmes  0.661  0.550  0.1  13.3   7.9  1.9  0.9  1.7  1.1\nmean                 NaN  0.494  0.579  1.4  13.5   6.2  3.0  1.0  1.0  1.6",
      "text/html": "<div>\n<style scoped>\n    .dataframe tbody tr th:only-of-type {\n        vertical-align: middle;\n    }\n\n    .dataframe tbody tr th {\n        vertical-align: top;\n    }\n\n    .dataframe thead th {\n        text-align: right;\n    }\n</style>\n<table border=\"1\" class=\"dataframe\">\n  <thead>\n    <tr style=\"text-align: right;\">\n      <th></th>\n      <th>PLAYER</th>\n      <th>FG_PCT</th>\n      <th>FT_PCT</th>\n      <th>FG3M</th>\n      <th>PTS</th>\n      <th>REB</th>\n      <th>AST</th>\n      <th>STL</th>\n      <th>BLK</th>\n      <th>TOV</th>\n    </tr>\n  </thead>\n  <tbody>\n    <tr>\n      <th>0</th>\n      <td>Chris Paul</td>\n      <td>0.440</td>\n      <td>0.700</td>\n      <td>0.9</td>\n      <td>13.3</td>\n      <td>4.4</td>\n      <td>8.7</td>\n      <td>0.9</td>\n      <td>0.3</td>\n      <td>2.3</td>\n    </tr>\n    <tr>\n      <th>1</th>\n      <td>Norman Powell</td>\n      <td>0.386</td>\n      <td>0.470</td>\n      <td>2.0</td>\n      <td>12.5</td>\n      <td>2.1</td>\n      <td>0.7</td>\n      <td>1.0</td>\n      <td>0.2</td>\n      <td>1.3</td>\n    </tr>\n    <tr>\n      <th>2</th>\n      <td>Deni Avdija</td>\n      <td>0.459</td>\n      <td>0.273</td>\n      <td>1.5</td>\n      <td>7.0</td>\n      <td>4.0</td>\n      <td>2.2</td>\n      <td>1.0</td>\n      <td>0.3</td>\n      <td>0.6</td>\n    </tr>\n    <tr>\n      <th>3</th>\n      <td>Otto Porter Jr.</td>\n      <td>0.481</td>\n      <td>0.545</td>\n      <td>1.8</td>\n      <td>12.5</td>\n      <td>6.8</td>\n      <td>1.9</td>\n      <td>0.7</td>\n      <td>0.1</td>\n      <td>1.1</td>\n    </tr>\n    <tr>\n      <th>4</th>\n      <td>John Collins</td>\n      <td>0.520</td>\n      <td>0.554</td>\n      <td>1.0</td>\n      <td>15.9</td>\n      <td>7.5</td>\n      <td>1.5</td>\n      <td>0.6</td>\n      <td>1.0</td>\n      <td>1.3</td>\n    </tr>\n    <tr>\n      <th>5</th>\n      <td>Tobias Harris</td>\n      <td>0.526</td>\n      <td>0.731</td>\n      <td>2.1</td>\n      <td>19.6</td>\n      <td>6.8</td>\n      <td>3.1</td>\n      <td>1.1</td>\n      <td>0.9</td>\n      <td>2.2</td>\n    </tr>\n    <tr>\n      <th>6</th>\n      <td>Bam Adebayo</td>\n      <td>0.607</td>\n      <td>0.858</td>\n      <td>0.0</td>\n      <td>18.6</td>\n      <td>9.2</td>\n      <td>5.2</td>\n      <td>0.8</td>\n      <td>1.0</td>\n      <td>3.5</td>\n    </tr>\n    <tr>\n      <th>7</th>\n      <td>Karl-Anthony Towns</td>\n      <td>0.479</td>\n      <td>0.958</td>\n      <td>1.5</td>\n      <td>22.0</td>\n      <td>12.5</td>\n      <td>4.2</td>\n      <td>0.5</td>\n      <td>2.8</td>\n      <td>2.5</td>\n    </tr>\n    <tr>\n      <th>8</th>\n      <td>Larry Nance Jr.</td>\n      <td>0.505</td>\n      <td>0.378</td>\n      <td>1.6</td>\n      <td>11.1</td>\n      <td>6.5</td>\n      <td>3.7</td>\n      <td>2.4</td>\n      <td>0.5</td>\n      <td>1.7</td>\n    </tr>\n    <tr>\n      <th>9</th>\n      <td>Nicolas Batum</td>\n      <td>0.498</td>\n      <td>0.479</td>\n      <td>2.1</td>\n      <td>10.2</td>\n      <td>4.9</td>\n      <td>2.5</td>\n      <td>1.3</td>\n      <td>0.4</td>\n      <td>0.7</td>\n    </tr>\n    <tr>\n      <th>10</th>\n      <td>Myles Turner</td>\n      <td>0.479</td>\n      <td>0.587</td>\n      <td>1.4</td>\n      <td>13.2</td>\n      <td>7.0</td>\n      <td>1.1</td>\n      <td>1.4</td>\n      <td>4.1</td>\n      <td>1.4</td>\n    </tr>\n    <tr>\n      <th>11</th>\n      <td>Danilo Gallinari</td>\n      <td>0.681</td>\n      <td>0.667</td>\n      <td>1.0</td>\n      <td>9.3</td>\n      <td>3.0</td>\n      <td>1.0</td>\n      <td>0.0</td>\n      <td>0.0</td>\n      <td>1.0</td>\n    </tr>\n    <tr>\n      <th>12</th>\n      <td>Darius Bazley</td>\n      <td>0.373</td>\n      <td>0.476</td>\n      <td>1.4</td>\n      <td>10.4</td>\n      <td>6.9</td>\n      <td>1.4</td>\n      <td>0.5</td>\n      <td>1.0</td>\n      <td>1.7</td>\n    </tr>\n    <tr>\n      <th>13</th>\n      <td>Devonte' Graham</td>\n      <td>0.315</td>\n      <td>0.462</td>\n      <td>2.7</td>\n      <td>13.3</td>\n      <td>3.3</td>\n      <td>6.4</td>\n      <td>1.5</td>\n      <td>0.0</td>\n      <td>1.2</td>\n    </tr>\n    <tr>\n      <th>14</th>\n      <td>Richaun Holmes</td>\n      <td>0.661</td>\n      <td>0.550</td>\n      <td>0.1</td>\n      <td>13.3</td>\n      <td>7.9</td>\n      <td>1.9</td>\n      <td>0.9</td>\n      <td>1.7</td>\n      <td>1.1</td>\n    </tr>\n    <tr>\n      <th>mean</th>\n      <td>NaN</td>\n      <td>0.494</td>\n      <td>0.579</td>\n      <td>1.4</td>\n      <td>13.5</td>\n      <td>6.2</td>\n      <td>3.0</td>\n      <td>1.0</td>\n      <td>1.0</td>\n      <td>1.6</td>\n    </tr>\n  </tbody>\n</table>\n</div>"
     },
     "execution_count": 12,
     "metadata": {},
     "output_type": "execute_result"
    }
   ],
   "source": [
    "# Single team average\n",
    "sc = yahoo_fantasy_api_authentication()\n",
    "league = yahoo_fantasy_league(sc)\n",
    "team_9cat_average_stats(CRABBEHERBYTHEPUSSY, league)\n"
   ],
   "metadata": {
    "collapsed": false,
    "pycharm": {
     "name": "#%%\n"
    }
   }
  },
  {
   "cell_type": "code",
   "execution_count": 4,
   "outputs": [
    {
     "name": "stderr",
     "output_type": "stream",
     "text": [
      "[2021-01-31 10:32:11,635 DEBUG] [yahoo_oauth.oauth.__init__] Checking \n",
      "[2021-01-31 10:32:11,640 DEBUG] [yahoo_oauth.oauth.token_is_valid] ELAPSED TIME : 1810.3797533512115\n",
      "[2021-01-31 10:32:11,641 DEBUG] [yahoo_oauth.oauth.token_is_valid] TOKEN IS STILL VALID\n",
      "[2021-01-31 10:32:19,407 DEBUG] [yahoo_oauth.oauth.__init__] Checking \n",
      "[2021-01-31 10:32:19,410 DEBUG] [yahoo_oauth.oauth.token_is_valid] ELAPSED TIME : 1818.1492969989777\n",
      "[2021-01-31 10:32:19,411 DEBUG] [yahoo_oauth.oauth.token_is_valid] TOKEN IS STILL VALID\n"
     ]
    },
    {
     "ename": "ReadTimeout",
     "evalue": "HTTPSConnectionPool(host='stats.nba.com', port=443): Read timed out. (read timeout=30)",
     "output_type": "error",
     "traceback": [
      "\u001B[1;31m---------------------------------------------------------------------------\u001B[0m",
      "\u001B[1;31mtimeout\u001B[0m                                   Traceback (most recent call last)",
      "\u001B[1;32mc:\\users\\jaume\\documents\\python projects\\waiver_wire_machine\\venv\\lib\\site-packages\\urllib3\\connectionpool.py\u001B[0m in \u001B[0;36m_make_request\u001B[1;34m(self, conn, method, url, timeout, chunked, **httplib_request_kw)\u001B[0m\n\u001B[0;32m    444\u001B[0m                     \u001B[1;31m# Otherwise it looks like a bug in the code.\u001B[0m\u001B[1;33m\u001B[0m\u001B[1;33m\u001B[0m\u001B[1;33m\u001B[0m\u001B[0m\n\u001B[1;32m--> 445\u001B[1;33m                     \u001B[0msix\u001B[0m\u001B[1;33m.\u001B[0m\u001B[0mraise_from\u001B[0m\u001B[1;33m(\u001B[0m\u001B[0me\u001B[0m\u001B[1;33m,\u001B[0m \u001B[1;32mNone\u001B[0m\u001B[1;33m)\u001B[0m\u001B[1;33m\u001B[0m\u001B[1;33m\u001B[0m\u001B[0m\n\u001B[0m\u001B[0;32m    446\u001B[0m         \u001B[1;32mexcept\u001B[0m \u001B[1;33m(\u001B[0m\u001B[0mSocketTimeout\u001B[0m\u001B[1;33m,\u001B[0m \u001B[0mBaseSSLError\u001B[0m\u001B[1;33m,\u001B[0m \u001B[0mSocketError\u001B[0m\u001B[1;33m)\u001B[0m \u001B[1;32mas\u001B[0m \u001B[0me\u001B[0m\u001B[1;33m:\u001B[0m\u001B[1;33m\u001B[0m\u001B[1;33m\u001B[0m\u001B[0m\n",
      "\u001B[1;32mc:\\users\\jaume\\documents\\python projects\\waiver_wire_machine\\venv\\lib\\site-packages\\urllib3\\packages\\six.py\u001B[0m in \u001B[0;36mraise_from\u001B[1;34m(value, from_value)\u001B[0m\n",
      "\u001B[1;32mc:\\users\\jaume\\documents\\python projects\\waiver_wire_machine\\venv\\lib\\site-packages\\urllib3\\connectionpool.py\u001B[0m in \u001B[0;36m_make_request\u001B[1;34m(self, conn, method, url, timeout, chunked, **httplib_request_kw)\u001B[0m\n\u001B[0;32m    439\u001B[0m                 \u001B[1;32mtry\u001B[0m\u001B[1;33m:\u001B[0m\u001B[1;33m\u001B[0m\u001B[1;33m\u001B[0m\u001B[0m\n\u001B[1;32m--> 440\u001B[1;33m                     \u001B[0mhttplib_response\u001B[0m \u001B[1;33m=\u001B[0m \u001B[0mconn\u001B[0m\u001B[1;33m.\u001B[0m\u001B[0mgetresponse\u001B[0m\u001B[1;33m(\u001B[0m\u001B[1;33m)\u001B[0m\u001B[1;33m\u001B[0m\u001B[1;33m\u001B[0m\u001B[0m\n\u001B[0m\u001B[0;32m    441\u001B[0m                 \u001B[1;32mexcept\u001B[0m \u001B[0mBaseException\u001B[0m \u001B[1;32mas\u001B[0m \u001B[0me\u001B[0m\u001B[1;33m:\u001B[0m\u001B[1;33m\u001B[0m\u001B[1;33m\u001B[0m\u001B[0m\n",
      "\u001B[1;32mC:\\Python38\\lib\\http\\client.py\u001B[0m in \u001B[0;36mgetresponse\u001B[1;34m(self)\u001B[0m\n\u001B[0;32m   1346\u001B[0m             \u001B[1;32mtry\u001B[0m\u001B[1;33m:\u001B[0m\u001B[1;33m\u001B[0m\u001B[1;33m\u001B[0m\u001B[0m\n\u001B[1;32m-> 1347\u001B[1;33m                 \u001B[0mresponse\u001B[0m\u001B[1;33m.\u001B[0m\u001B[0mbegin\u001B[0m\u001B[1;33m(\u001B[0m\u001B[1;33m)\u001B[0m\u001B[1;33m\u001B[0m\u001B[1;33m\u001B[0m\u001B[0m\n\u001B[0m\u001B[0;32m   1348\u001B[0m             \u001B[1;32mexcept\u001B[0m \u001B[0mConnectionError\u001B[0m\u001B[1;33m:\u001B[0m\u001B[1;33m\u001B[0m\u001B[1;33m\u001B[0m\u001B[0m\n",
      "\u001B[1;32mC:\\Python38\\lib\\http\\client.py\u001B[0m in \u001B[0;36mbegin\u001B[1;34m(self)\u001B[0m\n\u001B[0;32m    306\u001B[0m         \u001B[1;32mwhile\u001B[0m \u001B[1;32mTrue\u001B[0m\u001B[1;33m:\u001B[0m\u001B[1;33m\u001B[0m\u001B[1;33m\u001B[0m\u001B[0m\n\u001B[1;32m--> 307\u001B[1;33m             \u001B[0mversion\u001B[0m\u001B[1;33m,\u001B[0m \u001B[0mstatus\u001B[0m\u001B[1;33m,\u001B[0m \u001B[0mreason\u001B[0m \u001B[1;33m=\u001B[0m \u001B[0mself\u001B[0m\u001B[1;33m.\u001B[0m\u001B[0m_read_status\u001B[0m\u001B[1;33m(\u001B[0m\u001B[1;33m)\u001B[0m\u001B[1;33m\u001B[0m\u001B[1;33m\u001B[0m\u001B[0m\n\u001B[0m\u001B[0;32m    308\u001B[0m             \u001B[1;32mif\u001B[0m \u001B[0mstatus\u001B[0m \u001B[1;33m!=\u001B[0m \u001B[0mCONTINUE\u001B[0m\u001B[1;33m:\u001B[0m\u001B[1;33m\u001B[0m\u001B[1;33m\u001B[0m\u001B[0m\n",
      "\u001B[1;32mC:\\Python38\\lib\\http\\client.py\u001B[0m in \u001B[0;36m_read_status\u001B[1;34m(self)\u001B[0m\n\u001B[0;32m    267\u001B[0m     \u001B[1;32mdef\u001B[0m \u001B[0m_read_status\u001B[0m\u001B[1;33m(\u001B[0m\u001B[0mself\u001B[0m\u001B[1;33m)\u001B[0m\u001B[1;33m:\u001B[0m\u001B[1;33m\u001B[0m\u001B[1;33m\u001B[0m\u001B[0m\n\u001B[1;32m--> 268\u001B[1;33m         \u001B[0mline\u001B[0m \u001B[1;33m=\u001B[0m \u001B[0mstr\u001B[0m\u001B[1;33m(\u001B[0m\u001B[0mself\u001B[0m\u001B[1;33m.\u001B[0m\u001B[0mfp\u001B[0m\u001B[1;33m.\u001B[0m\u001B[0mreadline\u001B[0m\u001B[1;33m(\u001B[0m\u001B[0m_MAXLINE\u001B[0m \u001B[1;33m+\u001B[0m \u001B[1;36m1\u001B[0m\u001B[1;33m)\u001B[0m\u001B[1;33m,\u001B[0m \u001B[1;34m\"iso-8859-1\"\u001B[0m\u001B[1;33m)\u001B[0m\u001B[1;33m\u001B[0m\u001B[1;33m\u001B[0m\u001B[0m\n\u001B[0m\u001B[0;32m    269\u001B[0m         \u001B[1;32mif\u001B[0m \u001B[0mlen\u001B[0m\u001B[1;33m(\u001B[0m\u001B[0mline\u001B[0m\u001B[1;33m)\u001B[0m \u001B[1;33m>\u001B[0m \u001B[0m_MAXLINE\u001B[0m\u001B[1;33m:\u001B[0m\u001B[1;33m\u001B[0m\u001B[1;33m\u001B[0m\u001B[0m\n",
      "\u001B[1;32mC:\\Python38\\lib\\socket.py\u001B[0m in \u001B[0;36mreadinto\u001B[1;34m(self, b)\u001B[0m\n\u001B[0;32m    668\u001B[0m             \u001B[1;32mtry\u001B[0m\u001B[1;33m:\u001B[0m\u001B[1;33m\u001B[0m\u001B[1;33m\u001B[0m\u001B[0m\n\u001B[1;32m--> 669\u001B[1;33m                 \u001B[1;32mreturn\u001B[0m \u001B[0mself\u001B[0m\u001B[1;33m.\u001B[0m\u001B[0m_sock\u001B[0m\u001B[1;33m.\u001B[0m\u001B[0mrecv_into\u001B[0m\u001B[1;33m(\u001B[0m\u001B[0mb\u001B[0m\u001B[1;33m)\u001B[0m\u001B[1;33m\u001B[0m\u001B[1;33m\u001B[0m\u001B[0m\n\u001B[0m\u001B[0;32m    670\u001B[0m             \u001B[1;32mexcept\u001B[0m \u001B[0mtimeout\u001B[0m\u001B[1;33m:\u001B[0m\u001B[1;33m\u001B[0m\u001B[1;33m\u001B[0m\u001B[0m\n",
      "\u001B[1;32mC:\\Python38\\lib\\ssl.py\u001B[0m in \u001B[0;36mrecv_into\u001B[1;34m(self, buffer, nbytes, flags)\u001B[0m\n\u001B[0;32m   1240\u001B[0m                   self.__class__)\n\u001B[1;32m-> 1241\u001B[1;33m             \u001B[1;32mreturn\u001B[0m \u001B[0mself\u001B[0m\u001B[1;33m.\u001B[0m\u001B[0mread\u001B[0m\u001B[1;33m(\u001B[0m\u001B[0mnbytes\u001B[0m\u001B[1;33m,\u001B[0m \u001B[0mbuffer\u001B[0m\u001B[1;33m)\u001B[0m\u001B[1;33m\u001B[0m\u001B[1;33m\u001B[0m\u001B[0m\n\u001B[0m\u001B[0;32m   1242\u001B[0m         \u001B[1;32melse\u001B[0m\u001B[1;33m:\u001B[0m\u001B[1;33m\u001B[0m\u001B[1;33m\u001B[0m\u001B[0m\n",
      "\u001B[1;32mC:\\Python38\\lib\\ssl.py\u001B[0m in \u001B[0;36mread\u001B[1;34m(self, len, buffer)\u001B[0m\n\u001B[0;32m   1098\u001B[0m             \u001B[1;32mif\u001B[0m \u001B[0mbuffer\u001B[0m \u001B[1;32mis\u001B[0m \u001B[1;32mnot\u001B[0m \u001B[1;32mNone\u001B[0m\u001B[1;33m:\u001B[0m\u001B[1;33m\u001B[0m\u001B[1;33m\u001B[0m\u001B[0m\n\u001B[1;32m-> 1099\u001B[1;33m                 \u001B[1;32mreturn\u001B[0m \u001B[0mself\u001B[0m\u001B[1;33m.\u001B[0m\u001B[0m_sslobj\u001B[0m\u001B[1;33m.\u001B[0m\u001B[0mread\u001B[0m\u001B[1;33m(\u001B[0m\u001B[0mlen\u001B[0m\u001B[1;33m,\u001B[0m \u001B[0mbuffer\u001B[0m\u001B[1;33m)\u001B[0m\u001B[1;33m\u001B[0m\u001B[1;33m\u001B[0m\u001B[0m\n\u001B[0m\u001B[0;32m   1100\u001B[0m             \u001B[1;32melse\u001B[0m\u001B[1;33m:\u001B[0m\u001B[1;33m\u001B[0m\u001B[1;33m\u001B[0m\u001B[0m\n",
      "\u001B[1;31mtimeout\u001B[0m: The read operation timed out",
      "\nDuring handling of the above exception, another exception occurred:\n",
      "\u001B[1;31mReadTimeoutError\u001B[0m                          Traceback (most recent call last)",
      "\u001B[1;32mc:\\users\\jaume\\documents\\python projects\\waiver_wire_machine\\venv\\lib\\site-packages\\requests\\adapters.py\u001B[0m in \u001B[0;36msend\u001B[1;34m(self, request, stream, timeout, verify, cert, proxies)\u001B[0m\n\u001B[0;32m    438\u001B[0m             \u001B[1;32mif\u001B[0m \u001B[1;32mnot\u001B[0m \u001B[0mchunked\u001B[0m\u001B[1;33m:\u001B[0m\u001B[1;33m\u001B[0m\u001B[1;33m\u001B[0m\u001B[0m\n\u001B[1;32m--> 439\u001B[1;33m                 resp = conn.urlopen(\n\u001B[0m\u001B[0;32m    440\u001B[0m                     \u001B[0mmethod\u001B[0m\u001B[1;33m=\u001B[0m\u001B[0mrequest\u001B[0m\u001B[1;33m.\u001B[0m\u001B[0mmethod\u001B[0m\u001B[1;33m,\u001B[0m\u001B[1;33m\u001B[0m\u001B[1;33m\u001B[0m\u001B[0m\n",
      "\u001B[1;32mc:\\users\\jaume\\documents\\python projects\\waiver_wire_machine\\venv\\lib\\site-packages\\urllib3\\connectionpool.py\u001B[0m in \u001B[0;36murlopen\u001B[1;34m(self, method, url, body, headers, retries, redirect, assert_same_host, timeout, pool_timeout, release_conn, chunked, body_pos, **response_kw)\u001B[0m\n\u001B[0;32m    754\u001B[0m \u001B[1;33m\u001B[0m\u001B[0m\n\u001B[1;32m--> 755\u001B[1;33m             retries = retries.increment(\n\u001B[0m\u001B[0;32m    756\u001B[0m                 \u001B[0mmethod\u001B[0m\u001B[1;33m,\u001B[0m \u001B[0murl\u001B[0m\u001B[1;33m,\u001B[0m \u001B[0merror\u001B[0m\u001B[1;33m=\u001B[0m\u001B[0me\u001B[0m\u001B[1;33m,\u001B[0m \u001B[0m_pool\u001B[0m\u001B[1;33m=\u001B[0m\u001B[0mself\u001B[0m\u001B[1;33m,\u001B[0m \u001B[0m_stacktrace\u001B[0m\u001B[1;33m=\u001B[0m\u001B[0msys\u001B[0m\u001B[1;33m.\u001B[0m\u001B[0mexc_info\u001B[0m\u001B[1;33m(\u001B[0m\u001B[1;33m)\u001B[0m\u001B[1;33m[\u001B[0m\u001B[1;36m2\u001B[0m\u001B[1;33m]\u001B[0m\u001B[1;33m\u001B[0m\u001B[1;33m\u001B[0m\u001B[0m\n",
      "\u001B[1;32mc:\\users\\jaume\\documents\\python projects\\waiver_wire_machine\\venv\\lib\\site-packages\\urllib3\\util\\retry.py\u001B[0m in \u001B[0;36mincrement\u001B[1;34m(self, method, url, response, error, _pool, _stacktrace)\u001B[0m\n\u001B[0;32m    530\u001B[0m             \u001B[1;32mif\u001B[0m \u001B[0mread\u001B[0m \u001B[1;32mis\u001B[0m \u001B[1;32mFalse\u001B[0m \u001B[1;32mor\u001B[0m \u001B[1;32mnot\u001B[0m \u001B[0mself\u001B[0m\u001B[1;33m.\u001B[0m\u001B[0m_is_method_retryable\u001B[0m\u001B[1;33m(\u001B[0m\u001B[0mmethod\u001B[0m\u001B[1;33m)\u001B[0m\u001B[1;33m:\u001B[0m\u001B[1;33m\u001B[0m\u001B[1;33m\u001B[0m\u001B[0m\n\u001B[1;32m--> 531\u001B[1;33m                 \u001B[1;32mraise\u001B[0m \u001B[0msix\u001B[0m\u001B[1;33m.\u001B[0m\u001B[0mreraise\u001B[0m\u001B[1;33m(\u001B[0m\u001B[0mtype\u001B[0m\u001B[1;33m(\u001B[0m\u001B[0merror\u001B[0m\u001B[1;33m)\u001B[0m\u001B[1;33m,\u001B[0m \u001B[0merror\u001B[0m\u001B[1;33m,\u001B[0m \u001B[0m_stacktrace\u001B[0m\u001B[1;33m)\u001B[0m\u001B[1;33m\u001B[0m\u001B[1;33m\u001B[0m\u001B[0m\n\u001B[0m\u001B[0;32m    532\u001B[0m             \u001B[1;32melif\u001B[0m \u001B[0mread\u001B[0m \u001B[1;32mis\u001B[0m \u001B[1;32mnot\u001B[0m \u001B[1;32mNone\u001B[0m\u001B[1;33m:\u001B[0m\u001B[1;33m\u001B[0m\u001B[1;33m\u001B[0m\u001B[0m\n",
      "\u001B[1;32mc:\\users\\jaume\\documents\\python projects\\waiver_wire_machine\\venv\\lib\\site-packages\\urllib3\\packages\\six.py\u001B[0m in \u001B[0;36mreraise\u001B[1;34m(tp, value, tb)\u001B[0m\n\u001B[0;32m    734\u001B[0m                 \u001B[1;32mraise\u001B[0m \u001B[0mvalue\u001B[0m\u001B[1;33m.\u001B[0m\u001B[0mwith_traceback\u001B[0m\u001B[1;33m(\u001B[0m\u001B[0mtb\u001B[0m\u001B[1;33m)\u001B[0m\u001B[1;33m\u001B[0m\u001B[1;33m\u001B[0m\u001B[0m\n\u001B[1;32m--> 735\u001B[1;33m             \u001B[1;32mraise\u001B[0m \u001B[0mvalue\u001B[0m\u001B[1;33m\u001B[0m\u001B[1;33m\u001B[0m\u001B[0m\n\u001B[0m\u001B[0;32m    736\u001B[0m         \u001B[1;32mfinally\u001B[0m\u001B[1;33m:\u001B[0m\u001B[1;33m\u001B[0m\u001B[1;33m\u001B[0m\u001B[0m\n",
      "\u001B[1;32mc:\\users\\jaume\\documents\\python projects\\waiver_wire_machine\\venv\\lib\\site-packages\\urllib3\\connectionpool.py\u001B[0m in \u001B[0;36murlopen\u001B[1;34m(self, method, url, body, headers, retries, redirect, assert_same_host, timeout, pool_timeout, release_conn, chunked, body_pos, **response_kw)\u001B[0m\n\u001B[0;32m    698\u001B[0m             \u001B[1;31m# Make the request on the httplib connection object.\u001B[0m\u001B[1;33m\u001B[0m\u001B[1;33m\u001B[0m\u001B[1;33m\u001B[0m\u001B[0m\n\u001B[1;32m--> 699\u001B[1;33m             httplib_response = self._make_request(\n\u001B[0m\u001B[0;32m    700\u001B[0m                 \u001B[0mconn\u001B[0m\u001B[1;33m,\u001B[0m\u001B[1;33m\u001B[0m\u001B[1;33m\u001B[0m\u001B[0m\n",
      "\u001B[1;32mc:\\users\\jaume\\documents\\python projects\\waiver_wire_machine\\venv\\lib\\site-packages\\urllib3\\connectionpool.py\u001B[0m in \u001B[0;36m_make_request\u001B[1;34m(self, conn, method, url, timeout, chunked, **httplib_request_kw)\u001B[0m\n\u001B[0;32m    446\u001B[0m         \u001B[1;32mexcept\u001B[0m \u001B[1;33m(\u001B[0m\u001B[0mSocketTimeout\u001B[0m\u001B[1;33m,\u001B[0m \u001B[0mBaseSSLError\u001B[0m\u001B[1;33m,\u001B[0m \u001B[0mSocketError\u001B[0m\u001B[1;33m)\u001B[0m \u001B[1;32mas\u001B[0m \u001B[0me\u001B[0m\u001B[1;33m:\u001B[0m\u001B[1;33m\u001B[0m\u001B[1;33m\u001B[0m\u001B[0m\n\u001B[1;32m--> 447\u001B[1;33m             \u001B[0mself\u001B[0m\u001B[1;33m.\u001B[0m\u001B[0m_raise_timeout\u001B[0m\u001B[1;33m(\u001B[0m\u001B[0merr\u001B[0m\u001B[1;33m=\u001B[0m\u001B[0me\u001B[0m\u001B[1;33m,\u001B[0m \u001B[0murl\u001B[0m\u001B[1;33m=\u001B[0m\u001B[0murl\u001B[0m\u001B[1;33m,\u001B[0m \u001B[0mtimeout_value\u001B[0m\u001B[1;33m=\u001B[0m\u001B[0mread_timeout\u001B[0m\u001B[1;33m)\u001B[0m\u001B[1;33m\u001B[0m\u001B[1;33m\u001B[0m\u001B[0m\n\u001B[0m\u001B[0;32m    448\u001B[0m             \u001B[1;32mraise\u001B[0m\u001B[1;33m\u001B[0m\u001B[1;33m\u001B[0m\u001B[0m\n",
      "\u001B[1;32mc:\\users\\jaume\\documents\\python projects\\waiver_wire_machine\\venv\\lib\\site-packages\\urllib3\\connectionpool.py\u001B[0m in \u001B[0;36m_raise_timeout\u001B[1;34m(self, err, url, timeout_value)\u001B[0m\n\u001B[0;32m    335\u001B[0m         \u001B[1;32mif\u001B[0m \u001B[0misinstance\u001B[0m\u001B[1;33m(\u001B[0m\u001B[0merr\u001B[0m\u001B[1;33m,\u001B[0m \u001B[0mSocketTimeout\u001B[0m\u001B[1;33m)\u001B[0m\u001B[1;33m:\u001B[0m\u001B[1;33m\u001B[0m\u001B[1;33m\u001B[0m\u001B[0m\n\u001B[1;32m--> 336\u001B[1;33m             raise ReadTimeoutError(\n\u001B[0m\u001B[0;32m    337\u001B[0m                 \u001B[0mself\u001B[0m\u001B[1;33m,\u001B[0m \u001B[0murl\u001B[0m\u001B[1;33m,\u001B[0m \u001B[1;34m\"Read timed out. (read timeout=%s)\"\u001B[0m \u001B[1;33m%\u001B[0m \u001B[0mtimeout_value\u001B[0m\u001B[1;33m\u001B[0m\u001B[1;33m\u001B[0m\u001B[0m\n",
      "\u001B[1;31mReadTimeoutError\u001B[0m: HTTPSConnectionPool(host='stats.nba.com', port=443): Read timed out. (read timeout=30)",
      "\nDuring handling of the above exception, another exception occurred:\n",
      "\u001B[1;31mReadTimeout\u001B[0m                               Traceback (most recent call last)",
      "\u001B[1;32m<timed exec>\u001B[0m in \u001B[0;36m<module>\u001B[1;34m\u001B[0m\n",
      "\u001B[1;32m<ipython-input-3-44a6234a41e6>\u001B[0m in \u001B[0;36mleague_averages\u001B[1;34m(league_team_list)\u001B[0m\n\u001B[0;32m    194\u001B[0m     \u001B[1;32mfor\u001B[0m \u001B[0mteam\u001B[0m \u001B[1;32min\u001B[0m \u001B[0mleague_team_list\u001B[0m\u001B[1;33m:\u001B[0m\u001B[1;33m\u001B[0m\u001B[1;33m\u001B[0m\u001B[0m\n\u001B[0;32m    195\u001B[0m         \u001B[0myahoo_fantasy_api_authentication\u001B[0m\u001B[1;33m(\u001B[0m\u001B[1;33m)\u001B[0m\u001B[1;33m\u001B[0m\u001B[1;33m\u001B[0m\u001B[0m\n\u001B[1;32m--> 196\u001B[1;33m         league_averages_dataframe = league_averages_dataframe.append(player_to_team_mean_stats\n\u001B[0m\u001B[0;32m    197\u001B[0m                                                                      (team, league))\n\u001B[0;32m    198\u001B[0m     \u001B[0mleague_averages_dataframe\u001B[0m\u001B[1;33m.\u001B[0m\u001B[0mreset_index\u001B[0m\u001B[1;33m(\u001B[0m\u001B[0mdrop\u001B[0m\u001B[1;33m=\u001B[0m\u001B[1;32mTrue\u001B[0m\u001B[1;33m,\u001B[0m \u001B[0minplace\u001B[0m\u001B[1;33m=\u001B[0m\u001B[1;32mTrue\u001B[0m\u001B[1;33m)\u001B[0m\u001B[1;33m\u001B[0m\u001B[1;33m\u001B[0m\u001B[0m\n",
      "\u001B[1;32m<ipython-input-3-44a6234a41e6>\u001B[0m in \u001B[0;36mplayer_to_team_mean_stats\u001B[1;34m(team_dictionary, league)\u001B[0m\n\u001B[0;32m    183\u001B[0m     \"\"\"\n\u001B[0;32m    184\u001B[0m \u001B[1;33m\u001B[0m\u001B[0m\n\u001B[1;32m--> 185\u001B[1;33m     \u001B[0mroster_dataframe\u001B[0m \u001B[1;33m=\u001B[0m \u001B[0mteam_9cat_average_stats\u001B[0m\u001B[1;33m(\u001B[0m\u001B[0mteam_dictionary\u001B[0m\u001B[1;33m,\u001B[0m \u001B[0mleague\u001B[0m\u001B[1;33m)\u001B[0m\u001B[1;33m\u001B[0m\u001B[1;33m\u001B[0m\u001B[0m\n\u001B[0m\u001B[0;32m    186\u001B[0m     \u001B[0mteam_mean_dataframe\u001B[0m \u001B[1;33m=\u001B[0m \u001B[0mfantasy_team_mean_stats\u001B[0m\u001B[1;33m(\u001B[0m\u001B[0mroster_dataframe\u001B[0m\u001B[1;33m,\u001B[0m \u001B[0mteam_dictionary\u001B[0m\u001B[1;33m)\u001B[0m\u001B[1;33m\u001B[0m\u001B[1;33m\u001B[0m\u001B[0m\n\u001B[0;32m    187\u001B[0m \u001B[1;33m\u001B[0m\u001B[0m\n",
      "\u001B[1;32m<ipython-input-3-44a6234a41e6>\u001B[0m in \u001B[0;36mteam_9cat_average_stats\u001B[1;34m(team_dictionary, league)\u001B[0m\n\u001B[0;32m    158\u001B[0m     \u001B[0mplayer_in_team_list\u001B[0m \u001B[1;33m=\u001B[0m \u001B[1;33m[\u001B[0m\u001B[0mplayer\u001B[0m\u001B[1;33m[\u001B[0m\u001B[0mNAME_KEY\u001B[0m\u001B[1;33m]\u001B[0m \u001B[1;32mfor\u001B[0m \u001B[0mplayer\u001B[0m \u001B[1;32min\u001B[0m \u001B[0mteam_roster\u001B[0m\u001B[1;33m]\u001B[0m\u001B[1;33m\u001B[0m\u001B[1;33m\u001B[0m\u001B[0m\n\u001B[0;32m    159\u001B[0m \u001B[1;33m\u001B[0m\u001B[0m\n\u001B[1;32m--> 160\u001B[1;33m     \u001B[0mroster_dataframe\u001B[0m \u001B[1;33m=\u001B[0m \u001B[0mcreate_roster_dataframe\u001B[0m\u001B[1;33m(\u001B[0m\u001B[0mplayer_in_team_list\u001B[0m\u001B[1;33m)\u001B[0m\u001B[1;33m\u001B[0m\u001B[1;33m\u001B[0m\u001B[0m\n\u001B[0m\u001B[0;32m    161\u001B[0m \u001B[1;33m\u001B[0m\u001B[0m\n\u001B[0;32m    162\u001B[0m     \u001B[0mroster_dataframe\u001B[0m \u001B[1;33m=\u001B[0m \u001B[0mformat_roster_dataframe\u001B[0m\u001B[1;33m(\u001B[0m\u001B[0mroster_dataframe\u001B[0m\u001B[1;33m)\u001B[0m\u001B[1;33m\u001B[0m\u001B[1;33m\u001B[0m\u001B[0m\n",
      "\u001B[1;32m<ipython-input-3-44a6234a41e6>\u001B[0m in \u001B[0;36mcreate_roster_dataframe\u001B[1;34m(player_list)\u001B[0m\n\u001B[0;32m    119\u001B[0m \u001B[1;32mdef\u001B[0m \u001B[0mcreate_roster_dataframe\u001B[0m\u001B[1;33m(\u001B[0m\u001B[0mplayer_list\u001B[0m\u001B[1;33m)\u001B[0m\u001B[1;33m:\u001B[0m\u001B[1;33m\u001B[0m\u001B[1;33m\u001B[0m\u001B[0m\n\u001B[0;32m    120\u001B[0m \u001B[1;33m\u001B[0m\u001B[0m\n\u001B[1;32m--> 121\u001B[1;33m     \u001B[0mactive_players\u001B[0m \u001B[1;33m=\u001B[0m \u001B[0mp9ca\u001B[0m\u001B[1;33m.\u001B[0m\u001B[0mnba_active_players\u001B[0m\u001B[1;33m(\u001B[0m\u001B[1;33m)\u001B[0m\u001B[1;33m\u001B[0m\u001B[1;33m\u001B[0m\u001B[0m\n\u001B[0m\u001B[0;32m    122\u001B[0m     \u001B[0mroster_dataframe\u001B[0m \u001B[1;33m=\u001B[0m \u001B[0mpd\u001B[0m\u001B[1;33m.\u001B[0m\u001B[0mDataFrame\u001B[0m\u001B[1;33m(\u001B[0m\u001B[1;33m)\u001B[0m\u001B[1;33m\u001B[0m\u001B[1;33m\u001B[0m\u001B[0m\n\u001B[0;32m    123\u001B[0m     \u001B[1;32mfor\u001B[0m \u001B[0mplayer\u001B[0m \u001B[1;32min\u001B[0m \u001B[0mplayer_list\u001B[0m\u001B[1;33m:\u001B[0m\u001B[1;33m\u001B[0m\u001B[1;33m\u001B[0m\u001B[0m\n",
      "\u001B[1;32m~\\Documents\\Python Projects\\waiver_wire_machine\\src\\data\\player_9cat_average.py\u001B[0m in \u001B[0;36mnba_active_players\u001B[1;34m()\u001B[0m\n\u001B[0;32m     52\u001B[0m \u001B[1;32mdef\u001B[0m \u001B[0mnba_active_players\u001B[0m\u001B[1;33m(\u001B[0m\u001B[1;33m)\u001B[0m\u001B[1;33m:\u001B[0m\u001B[1;33m\u001B[0m\u001B[1;33m\u001B[0m\u001B[0m\n\u001B[0;32m     53\u001B[0m \u001B[1;33m\u001B[0m\u001B[0m\n\u001B[1;32m---> 54\u001B[1;33m     \u001B[0mcommon_all_players\u001B[0m \u001B[1;33m=\u001B[0m \u001B[0mcommonallplayers\u001B[0m\u001B[1;33m.\u001B[0m\u001B[0mCommonAllPlayers\u001B[0m\u001B[1;33m(\u001B[0m\u001B[0mis_only_current_season\u001B[0m\u001B[1;33m=\u001B[0m\u001B[1;36m1\u001B[0m\u001B[1;33m)\u001B[0m\u001B[1;33m\u001B[0m\u001B[1;33m\u001B[0m\u001B[0m\n\u001B[0m\u001B[0;32m     55\u001B[0m     \u001B[0mcommon_all_players_dict\u001B[0m \u001B[1;33m=\u001B[0m \u001B[0mcommon_all_players\u001B[0m\u001B[1;33m.\u001B[0m\u001B[0mget_normalized_dict\u001B[0m\u001B[1;33m(\u001B[0m\u001B[1;33m)\u001B[0m\u001B[1;33m[\u001B[0m\u001B[0mCOMMON_ALL_PLAYERS\u001B[0m\u001B[1;33m]\u001B[0m\u001B[1;33m\u001B[0m\u001B[1;33m\u001B[0m\u001B[0m\n\u001B[0;32m     56\u001B[0m \u001B[1;33m\u001B[0m\u001B[0m\n",
      "\u001B[1;32mc:\\users\\jaume\\documents\\python projects\\waiver_wire_machine\\venv\\lib\\site-packages\\nba_api\\stats\\endpoints\\commonallplayers.py\u001B[0m in \u001B[0;36m__init__\u001B[1;34m(self, is_only_current_season, league_id, season, proxy, headers, timeout, get_request)\u001B[0m\n\u001B[0;32m     32\u001B[0m         }\n\u001B[0;32m     33\u001B[0m         \u001B[1;32mif\u001B[0m \u001B[0mget_request\u001B[0m\u001B[1;33m:\u001B[0m\u001B[1;33m\u001B[0m\u001B[1;33m\u001B[0m\u001B[0m\n\u001B[1;32m---> 34\u001B[1;33m             \u001B[0mself\u001B[0m\u001B[1;33m.\u001B[0m\u001B[0mget_request\u001B[0m\u001B[1;33m(\u001B[0m\u001B[1;33m)\u001B[0m\u001B[1;33m\u001B[0m\u001B[1;33m\u001B[0m\u001B[0m\n\u001B[0m\u001B[0;32m     35\u001B[0m \u001B[1;33m\u001B[0m\u001B[0m\n\u001B[0;32m     36\u001B[0m     \u001B[1;32mdef\u001B[0m \u001B[0mget_request\u001B[0m\u001B[1;33m(\u001B[0m\u001B[0mself\u001B[0m\u001B[1;33m)\u001B[0m\u001B[1;33m:\u001B[0m\u001B[1;33m\u001B[0m\u001B[1;33m\u001B[0m\u001B[0m\n",
      "\u001B[1;32mc:\\users\\jaume\\documents\\python projects\\waiver_wire_machine\\venv\\lib\\site-packages\\nba_api\\stats\\endpoints\\commonallplayers.py\u001B[0m in \u001B[0;36mget_request\u001B[1;34m(self)\u001B[0m\n\u001B[0;32m     35\u001B[0m \u001B[1;33m\u001B[0m\u001B[0m\n\u001B[0;32m     36\u001B[0m     \u001B[1;32mdef\u001B[0m \u001B[0mget_request\u001B[0m\u001B[1;33m(\u001B[0m\u001B[0mself\u001B[0m\u001B[1;33m)\u001B[0m\u001B[1;33m:\u001B[0m\u001B[1;33m\u001B[0m\u001B[1;33m\u001B[0m\u001B[0m\n\u001B[1;32m---> 37\u001B[1;33m         self.nba_response = NBAStatsHTTP().send_api_request(\n\u001B[0m\u001B[0;32m     38\u001B[0m             \u001B[0mendpoint\u001B[0m\u001B[1;33m=\u001B[0m\u001B[0mself\u001B[0m\u001B[1;33m.\u001B[0m\u001B[0mendpoint\u001B[0m\u001B[1;33m,\u001B[0m\u001B[1;33m\u001B[0m\u001B[1;33m\u001B[0m\u001B[0m\n\u001B[0;32m     39\u001B[0m             \u001B[0mparameters\u001B[0m\u001B[1;33m=\u001B[0m\u001B[0mself\u001B[0m\u001B[1;33m.\u001B[0m\u001B[0mparameters\u001B[0m\u001B[1;33m,\u001B[0m\u001B[1;33m\u001B[0m\u001B[1;33m\u001B[0m\u001B[0m\n",
      "\u001B[1;32mc:\\users\\jaume\\documents\\python projects\\waiver_wire_machine\\venv\\lib\\site-packages\\nba_api\\library\\http.py\u001B[0m in \u001B[0;36msend_api_request\u001B[1;34m(self, endpoint, parameters, referer, proxy, headers, timeout, raise_exception_on_error)\u001B[0m\n\u001B[0;32m    128\u001B[0m \u001B[1;33m\u001B[0m\u001B[0m\n\u001B[0;32m    129\u001B[0m         \u001B[1;32mif\u001B[0m \u001B[1;32mnot\u001B[0m \u001B[0mcontents\u001B[0m\u001B[1;33m:\u001B[0m\u001B[1;33m\u001B[0m\u001B[1;33m\u001B[0m\u001B[0m\n\u001B[1;32m--> 130\u001B[1;33m             \u001B[0mresponse\u001B[0m \u001B[1;33m=\u001B[0m \u001B[0mrequests\u001B[0m\u001B[1;33m.\u001B[0m\u001B[0mget\u001B[0m\u001B[1;33m(\u001B[0m\u001B[0murl\u001B[0m\u001B[1;33m=\u001B[0m\u001B[0mbase_url\u001B[0m\u001B[1;33m,\u001B[0m \u001B[0mparams\u001B[0m\u001B[1;33m=\u001B[0m\u001B[0mparameters\u001B[0m\u001B[1;33m,\u001B[0m \u001B[0mheaders\u001B[0m\u001B[1;33m=\u001B[0m\u001B[0mrequest_headers\u001B[0m\u001B[1;33m,\u001B[0m \u001B[0mproxies\u001B[0m\u001B[1;33m=\u001B[0m\u001B[0mproxies\u001B[0m\u001B[1;33m,\u001B[0m \u001B[0mtimeout\u001B[0m\u001B[1;33m=\u001B[0m\u001B[0mtimeout\u001B[0m\u001B[1;33m)\u001B[0m\u001B[1;33m\u001B[0m\u001B[1;33m\u001B[0m\u001B[0m\n\u001B[0m\u001B[0;32m    131\u001B[0m             \u001B[0murl\u001B[0m \u001B[1;33m=\u001B[0m \u001B[0mresponse\u001B[0m\u001B[1;33m.\u001B[0m\u001B[0murl\u001B[0m\u001B[1;33m\u001B[0m\u001B[1;33m\u001B[0m\u001B[0m\n\u001B[0;32m    132\u001B[0m             \u001B[0mstatus_code\u001B[0m \u001B[1;33m=\u001B[0m \u001B[0mresponse\u001B[0m\u001B[1;33m.\u001B[0m\u001B[0mstatus_code\u001B[0m\u001B[1;33m\u001B[0m\u001B[1;33m\u001B[0m\u001B[0m\n",
      "\u001B[1;32mc:\\users\\jaume\\documents\\python projects\\waiver_wire_machine\\venv\\lib\\site-packages\\requests\\api.py\u001B[0m in \u001B[0;36mget\u001B[1;34m(url, params, **kwargs)\u001B[0m\n\u001B[0;32m     74\u001B[0m \u001B[1;33m\u001B[0m\u001B[0m\n\u001B[0;32m     75\u001B[0m     \u001B[0mkwargs\u001B[0m\u001B[1;33m.\u001B[0m\u001B[0msetdefault\u001B[0m\u001B[1;33m(\u001B[0m\u001B[1;34m'allow_redirects'\u001B[0m\u001B[1;33m,\u001B[0m \u001B[1;32mTrue\u001B[0m\u001B[1;33m)\u001B[0m\u001B[1;33m\u001B[0m\u001B[1;33m\u001B[0m\u001B[0m\n\u001B[1;32m---> 76\u001B[1;33m     \u001B[1;32mreturn\u001B[0m \u001B[0mrequest\u001B[0m\u001B[1;33m(\u001B[0m\u001B[1;34m'get'\u001B[0m\u001B[1;33m,\u001B[0m \u001B[0murl\u001B[0m\u001B[1;33m,\u001B[0m \u001B[0mparams\u001B[0m\u001B[1;33m=\u001B[0m\u001B[0mparams\u001B[0m\u001B[1;33m,\u001B[0m \u001B[1;33m**\u001B[0m\u001B[0mkwargs\u001B[0m\u001B[1;33m)\u001B[0m\u001B[1;33m\u001B[0m\u001B[1;33m\u001B[0m\u001B[0m\n\u001B[0m\u001B[0;32m     77\u001B[0m \u001B[1;33m\u001B[0m\u001B[0m\n\u001B[0;32m     78\u001B[0m \u001B[1;33m\u001B[0m\u001B[0m\n",
      "\u001B[1;32mc:\\users\\jaume\\documents\\python projects\\waiver_wire_machine\\venv\\lib\\site-packages\\requests\\api.py\u001B[0m in \u001B[0;36mrequest\u001B[1;34m(method, url, **kwargs)\u001B[0m\n\u001B[0;32m     59\u001B[0m     \u001B[1;31m# cases, and look like a memory leak in others.\u001B[0m\u001B[1;33m\u001B[0m\u001B[1;33m\u001B[0m\u001B[1;33m\u001B[0m\u001B[0m\n\u001B[0;32m     60\u001B[0m     \u001B[1;32mwith\u001B[0m \u001B[0msessions\u001B[0m\u001B[1;33m.\u001B[0m\u001B[0mSession\u001B[0m\u001B[1;33m(\u001B[0m\u001B[1;33m)\u001B[0m \u001B[1;32mas\u001B[0m \u001B[0msession\u001B[0m\u001B[1;33m:\u001B[0m\u001B[1;33m\u001B[0m\u001B[1;33m\u001B[0m\u001B[0m\n\u001B[1;32m---> 61\u001B[1;33m         \u001B[1;32mreturn\u001B[0m \u001B[0msession\u001B[0m\u001B[1;33m.\u001B[0m\u001B[0mrequest\u001B[0m\u001B[1;33m(\u001B[0m\u001B[0mmethod\u001B[0m\u001B[1;33m=\u001B[0m\u001B[0mmethod\u001B[0m\u001B[1;33m,\u001B[0m \u001B[0murl\u001B[0m\u001B[1;33m=\u001B[0m\u001B[0murl\u001B[0m\u001B[1;33m,\u001B[0m \u001B[1;33m**\u001B[0m\u001B[0mkwargs\u001B[0m\u001B[1;33m)\u001B[0m\u001B[1;33m\u001B[0m\u001B[1;33m\u001B[0m\u001B[0m\n\u001B[0m\u001B[0;32m     62\u001B[0m \u001B[1;33m\u001B[0m\u001B[0m\n\u001B[0;32m     63\u001B[0m \u001B[1;33m\u001B[0m\u001B[0m\n",
      "\u001B[1;32mc:\\users\\jaume\\documents\\python projects\\waiver_wire_machine\\venv\\lib\\site-packages\\requests\\sessions.py\u001B[0m in \u001B[0;36mrequest\u001B[1;34m(self, method, url, params, data, headers, cookies, files, auth, timeout, allow_redirects, proxies, hooks, stream, verify, cert, json)\u001B[0m\n\u001B[0;32m    540\u001B[0m         }\n\u001B[0;32m    541\u001B[0m         \u001B[0msend_kwargs\u001B[0m\u001B[1;33m.\u001B[0m\u001B[0mupdate\u001B[0m\u001B[1;33m(\u001B[0m\u001B[0msettings\u001B[0m\u001B[1;33m)\u001B[0m\u001B[1;33m\u001B[0m\u001B[1;33m\u001B[0m\u001B[0m\n\u001B[1;32m--> 542\u001B[1;33m         \u001B[0mresp\u001B[0m \u001B[1;33m=\u001B[0m \u001B[0mself\u001B[0m\u001B[1;33m.\u001B[0m\u001B[0msend\u001B[0m\u001B[1;33m(\u001B[0m\u001B[0mprep\u001B[0m\u001B[1;33m,\u001B[0m \u001B[1;33m**\u001B[0m\u001B[0msend_kwargs\u001B[0m\u001B[1;33m)\u001B[0m\u001B[1;33m\u001B[0m\u001B[1;33m\u001B[0m\u001B[0m\n\u001B[0m\u001B[0;32m    543\u001B[0m \u001B[1;33m\u001B[0m\u001B[0m\n\u001B[0;32m    544\u001B[0m         \u001B[1;32mreturn\u001B[0m \u001B[0mresp\u001B[0m\u001B[1;33m\u001B[0m\u001B[1;33m\u001B[0m\u001B[0m\n",
      "\u001B[1;32mc:\\users\\jaume\\documents\\python projects\\waiver_wire_machine\\venv\\lib\\site-packages\\requests\\sessions.py\u001B[0m in \u001B[0;36msend\u001B[1;34m(self, request, **kwargs)\u001B[0m\n\u001B[0;32m    653\u001B[0m \u001B[1;33m\u001B[0m\u001B[0m\n\u001B[0;32m    654\u001B[0m         \u001B[1;31m# Send the request\u001B[0m\u001B[1;33m\u001B[0m\u001B[1;33m\u001B[0m\u001B[1;33m\u001B[0m\u001B[0m\n\u001B[1;32m--> 655\u001B[1;33m         \u001B[0mr\u001B[0m \u001B[1;33m=\u001B[0m \u001B[0madapter\u001B[0m\u001B[1;33m.\u001B[0m\u001B[0msend\u001B[0m\u001B[1;33m(\u001B[0m\u001B[0mrequest\u001B[0m\u001B[1;33m,\u001B[0m \u001B[1;33m**\u001B[0m\u001B[0mkwargs\u001B[0m\u001B[1;33m)\u001B[0m\u001B[1;33m\u001B[0m\u001B[1;33m\u001B[0m\u001B[0m\n\u001B[0m\u001B[0;32m    656\u001B[0m \u001B[1;33m\u001B[0m\u001B[0m\n\u001B[0;32m    657\u001B[0m         \u001B[1;31m# Total elapsed time of the request (approximately)\u001B[0m\u001B[1;33m\u001B[0m\u001B[1;33m\u001B[0m\u001B[1;33m\u001B[0m\u001B[0m\n",
      "\u001B[1;32mc:\\users\\jaume\\documents\\python projects\\waiver_wire_machine\\venv\\lib\\site-packages\\requests\\adapters.py\u001B[0m in \u001B[0;36msend\u001B[1;34m(self, request, stream, timeout, verify, cert, proxies)\u001B[0m\n\u001B[0;32m    527\u001B[0m                 \u001B[1;32mraise\u001B[0m \u001B[0mSSLError\u001B[0m\u001B[1;33m(\u001B[0m\u001B[0me\u001B[0m\u001B[1;33m,\u001B[0m \u001B[0mrequest\u001B[0m\u001B[1;33m=\u001B[0m\u001B[0mrequest\u001B[0m\u001B[1;33m)\u001B[0m\u001B[1;33m\u001B[0m\u001B[1;33m\u001B[0m\u001B[0m\n\u001B[0;32m    528\u001B[0m             \u001B[1;32melif\u001B[0m \u001B[0misinstance\u001B[0m\u001B[1;33m(\u001B[0m\u001B[0me\u001B[0m\u001B[1;33m,\u001B[0m \u001B[0mReadTimeoutError\u001B[0m\u001B[1;33m)\u001B[0m\u001B[1;33m:\u001B[0m\u001B[1;33m\u001B[0m\u001B[1;33m\u001B[0m\u001B[0m\n\u001B[1;32m--> 529\u001B[1;33m                 \u001B[1;32mraise\u001B[0m \u001B[0mReadTimeout\u001B[0m\u001B[1;33m(\u001B[0m\u001B[0me\u001B[0m\u001B[1;33m,\u001B[0m \u001B[0mrequest\u001B[0m\u001B[1;33m=\u001B[0m\u001B[0mrequest\u001B[0m\u001B[1;33m)\u001B[0m\u001B[1;33m\u001B[0m\u001B[1;33m\u001B[0m\u001B[0m\n\u001B[0m\u001B[0;32m    530\u001B[0m             \u001B[1;32melse\u001B[0m\u001B[1;33m:\u001B[0m\u001B[1;33m\u001B[0m\u001B[1;33m\u001B[0m\u001B[0m\n\u001B[0;32m    531\u001B[0m                 \u001B[1;32mraise\u001B[0m\u001B[1;33m\u001B[0m\u001B[1;33m\u001B[0m\u001B[0m\n",
      "\u001B[1;31mReadTimeout\u001B[0m: HTTPSConnectionPool(host='stats.nba.com', port=443): Read timed out. (read timeout=30)"
     ]
    }
   ],
   "source": [
    "%%time\n",
    "# League average\n",
    "sc = yahoo_fantasy_api_authentication()\n",
    "league = yahoo_fantasy_league(sc)\n",
    "league_averages_dataframe = league_averages(league_team_list)\n",
    "league_averages_dataframe"
   ],
   "metadata": {
    "collapsed": false,
    "pycharm": {
     "name": "#%%\n"
    }
   }
  },
  {
   "cell_type": "markdown",
   "source": [
    "## Yahoo Player Info\n",
    "This section will create a function which will retrieve an NBA players team and jersey number.\n",
    "These identifiers will then be used to find the player in the Stats NBA API. This is done because\n",
    " the current method of searching for a players stats on the Stats NBA API using the Yahoo Fantasy\n",
    "  name can lead to errors. For example, on Yahoo it is PJ Washington, on Stats NBA it is P.J.\n",
    "  Washington."
   ],
   "metadata": {
    "collapsed": false,
    "pycharm": {
     "name": "#%% md\n"
    }
   }
  },
  {
   "cell_type": "code",
   "execution_count": 13,
   "outputs": [
    {
     "name": "stderr",
     "output_type": "stream",
     "text": [
      "[2021-01-23 22:33:47,335 DEBUG] [yahoo_oauth.oauth.__init__] Checking \n",
      "[2021-01-23 22:33:47,337 DEBUG] [yahoo_oauth.oauth.token_is_valid] ELAPSED TIME : 150.21866846084595\n",
      "[2021-01-23 22:33:47,338 DEBUG] [yahoo_oauth.oauth.token_is_valid] TOKEN IS STILL VALID\n"
     ]
    }
   ],
   "source": [
    "sc = yahoo_fantasy_api_authentication()\n",
    "league = yahoo_fantasy_league(sc)"
   ],
   "metadata": {
    "collapsed": false,
    "pycharm": {
     "name": "#%%\n"
    }
   }
  },
  {
   "cell_type": "code",
   "execution_count": 54,
   "outputs": [],
   "source": [
    "# Function to get team name and jersey\n",
    "EDITORIAL_TEAM_FULL_NAME = \"editorial_team_full_name\"\n",
    "UNIFORM_NUMBER = \"uniform_number\"\n",
    "\n",
    "def yahoo_player_team_and_jersey(player_name):\n",
    "\n",
    "    player_details_dictionary = league.player_details(player_name)\n",
    "    players_team = player_details_dictionary[0][EDITORIAL_TEAM_FULL_NAME]\n",
    "    players_number = player_details_dictionary[0][UNIFORM_NUMBER]\n",
    "\n",
    "    return players_team, players_number"
   ],
   "metadata": {
    "collapsed": false,
    "pycharm": {
     "name": "#%%\n"
    }
   }
  },
  {
   "cell_type": "code",
   "execution_count": 46,
   "outputs": [],
   "source": [
    "# Get team name and jersey\n",
    "players_team, players_number = yahoo_player_team_and_jersey(\"Robert Williams\")\n",
    "print(players_team, players_team)"
   ],
   "metadata": {
    "collapsed": false,
    "pycharm": {
     "name": "#%%\n"
    }
   }
  },
  {
   "cell_type": "code",
   "execution_count": 47,
   "outputs": [],
   "source": [
    "# Player Ids in team\n",
    "COMMON_ALL_PLAYERS =\"CommonAllPlayers\"\n",
    "PERSON_ID_KEY = \"PERSON_ID\"\n",
    "TEAM_CITY_KEY = \"TEAM_CITY\"\n",
    "TEAM_NAME_KEY = \"TEAM_NAME\"\n",
    "\n",
    "def player_ids_by_nba_team_name(nba_team):\n",
    "\n",
    "    common_all_players = commonallplayers.CommonAllPlayers(is_only_current_season=1)\n",
    "    common_all_players_dict = common_all_players.get_normalized_dict()[COMMON_ALL_PLAYERS]\n",
    "    player_ids_in_team_list = [player[PERSON_ID_KEY] for player in common_all_players_dict if \\\n",
    "        player[TEAM_CITY_KEY] + \" \" + player[TEAM_NAME_KEY] == players_team]\n",
    "\n",
    "    return player_ids_in_team_list"
   ],
   "metadata": {
    "collapsed": false,
    "pycharm": {
     "name": "#%%\n"
    }
   }
  },
  {
   "cell_type": "code",
   "execution_count": 48,
   "outputs": [],
   "source": [
    "# Player Ids\n",
    "player_ids_in_team_list = player_ids_by_nba_team_name(players_team)\n",
    "player_ids_in_team_list"
   ],
   "metadata": {
    "collapsed": false,
    "pycharm": {
     "name": "#%%\n"
    }
   }
  },
  {
   "cell_type": "code",
   "execution_count": 49,
   "outputs": [],
   "source": [
    "# Find name from jersey number\n",
    "COMMON_PLAYER_INFO = \"CommonPlayerInfo\"\n",
    "JERSEY_KEY = \"JERSEY\"\n",
    "DISPLAY_FIRST_LAST = \"DISPLAY_FIRST_LAST\"\n",
    "\n",
    "def nba_player_name_from_jersey_search(team_player_ids, yahoo_jersey_number):\n",
    "\n",
    "    for id in team_player_ids:\n",
    "        nba_jersey_number = commonplayerinfo.CommonPlayerInfo(id).get_normalized_dict() \\\n",
    "            [COMMON_PLAYER_INFO][0][JERSEY_KEY]\n",
    "        if nba_jersey_number == yahoo_jersey_number:\n",
    "            nba_name = commonplayerinfo.CommonPlayerInfo(id).get_normalized_dict() \\\n",
    "            [COMMON_PLAYER_INFO][0][DISPLAY_FIRST_LAST]\n",
    "\n",
    "            return nba_name"
   ],
   "metadata": {
    "collapsed": false,
    "pycharm": {
     "name": "#%%\n"
    }
   }
  },
  {
   "cell_type": "code",
   "execution_count": 50,
   "outputs": [
    {
     "data": {
      "text/plain": "'Robert Williams III'"
     },
     "execution_count": 50,
     "metadata": {},
     "output_type": "execute_result"
    }
   ],
   "source": [
    "# Get NBA Stats name\n",
    "nba_player_name_from_jersey_search(player_ids_in_team_list, players_number)"
   ],
   "metadata": {
    "collapsed": false,
    "pycharm": {
     "name": "#%%\n"
    }
   }
  },
  {
   "cell_type": "code",
   "execution_count": 23,
   "outputs": [],
   "source": [
    "from nba_api.stats.endpoints import commonallplayers\n",
    "from nba_api.stats.endpoints import commonplayerinfo\n",
    "\n",
    "EDITORIAL_TEAM_FULL_NAME = \"editorial_team_full_name\"\n",
    "UNIFORM_NUMBER = \"uniform_number\"\n",
    "COMMON_ALL_PLAYERS =\"CommonAllPlayers\"\n",
    "PERSON_ID_KEY = \"PERSON_ID\"\n",
    "TEAM_CITY_KEY = \"TEAM_CITY\"\n",
    "TEAM_NAME_KEY = \"TEAM_NAME\"\n",
    "COMMON_PLAYER_INFO = \"CommonPlayerInfo\"\n",
    "JERSEY_KEY = \"JERSEY\"\n",
    "DISPLAY_FIRST_LAST = \"DISPLAY_FIRST_LAST\"\n",
    "RANK_SUFFIX =\"_RANK\"\n",
    "\n",
    "\n",
    "def yahoo_player_team_and_jersey(player_name):\n",
    "\n",
    "    player_details_dictionary = league.player_details(player_name)\n",
    "    players_team = player_details_dictionary[0][EDITORIAL_TEAM_FULL_NAME]\n",
    "    players_number = player_details_dictionary[0][UNIFORM_NUMBER]\n",
    "\n",
    "    return players_team, players_number\n",
    "\n",
    "\n",
    "def player_ids_by_nba_team_name(nba_team):\n",
    "\n",
    "    common_all_players = commonallplayers.CommonAllPlayers(is_only_current_season=1)\n",
    "    common_all_players_dict = common_all_players.get_normalized_dict()[COMMON_ALL_PLAYERS]\n",
    "    player_ids_in_team_list = [player[PERSON_ID_KEY] for player in common_all_players_dict if \\\n",
    "        player[TEAM_CITY_KEY] + \" \" + player[TEAM_NAME_KEY] == nba_team]\n",
    "\n",
    "    return player_ids_in_team_list\n",
    "\n",
    "\n",
    "def nba_player_name_from_jersey_search(team_player_ids, yahoo_jersey_number):\n",
    "\n",
    "    for id in team_player_ids:\n",
    "        nba_jersey_number = commonplayerinfo.CommonPlayerInfo(id).get_normalized_dict() \\\n",
    "            [COMMON_PLAYER_INFO][0][JERSEY_KEY]\n",
    "        if nba_jersey_number == yahoo_jersey_number:\n",
    "            nba_name = commonplayerinfo.CommonPlayerInfo(id).get_normalized_dict() \\\n",
    "            [COMMON_PLAYER_INFO][0][DISPLAY_FIRST_LAST]\n",
    "\n",
    "            return nba_name\n",
    "\n",
    "\n",
    "def yahoo_name_to_nba_name(yahoo_player_name):\n",
    "    \"\"\" Function expectes a Yahoo player name and it will find the players Team Name and Jersey\n",
    "    Number. It then searches the NBA API for Player IDs belonging to found Team Name. For every\n",
    "    Player ID it searches their Jersey Number. When there is a match, it returns the NBA Player\n",
    "    Name.\n",
    "    \"\"\"\n",
    "\n",
    "    player_team, player_number = yahoo_player_team_and_jersey(yahoo_player_name)\n",
    "    player_ids_in_team_list = player_ids_by_nba_team_name(player_team)\n",
    "    nba_player_name = nba_player_name_from_jersey_search(player_ids_in_team_list, player_number)\n",
    "\n",
    "    return nba_player_name\n"
   ],
   "metadata": {
    "collapsed": false,
    "pycharm": {
     "name": "#%%\n"
    }
   }
  },
  {
   "cell_type": "code",
   "execution_count": 36,
   "outputs": [
    {
     "name": "stderr",
     "output_type": "stream",
     "text": [
      "[2021-01-27 22:03:30,319 DEBUG] [yahoo_oauth.oauth.__init__] Checking \n",
      "[2021-01-27 22:03:30,321 DEBUG] [yahoo_oauth.oauth.token_is_valid] ELAPSED TIME : 972.5253331661224\n",
      "[2021-01-27 22:03:30,322 DEBUG] [yahoo_oauth.oauth.token_is_valid] TOKEN IS STILL VALID\n"
     ]
    },
    {
     "data": {
      "text/plain": "'Robert Williams III'"
     },
     "execution_count": 36,
     "metadata": {},
     "output_type": "execute_result"
    }
   ],
   "source": [
    "# Get NBA Stats name from Yahoo name\n",
    "sc = yahoo_fantasy_api_authentication()\n",
    "league = yahoo_fantasy_league(sc)\n",
    "yahoo_name_to_nba_name(\"Robert Williams\")\n"
   ],
   "metadata": {
    "collapsed": false,
    "pycharm": {
     "name": "#%%\n"
    }
   }
  },
  {
   "cell_type": "markdown",
   "source": [
    "## Waiver Wire Adds\n",
    "This section will simulate the dropping of a current team player and the addition of a free agent\n",
    ". Initially, a snapshot of the teams current 9cat averages will be calculated and saved. A player\n",
    " will be dropped from my team a player will be added and then a snapshot of the new 9cat averages\n",
    "  will be calculated. This will show how this swap impacts my team at an overall level."
   ],
   "metadata": {
    "collapsed": false,
    "pycharm": {
     "name": "#%% md\n"
    }
   }
  },
  {
   "cell_type": "code",
   "execution_count": 41,
   "outputs": [],
   "source": [
    "def drop_add_mean_9cat_difference(current_9cat, new_9cat):\n",
    "\n",
    "    current_9cat = remove_player_and_float_convert(current_9cat)\n",
    "    new_9cat = remove_player_and_float_convert(new_9cat)\n",
    "\n",
    "    difference_9cat = new_9cat.subtract(current_9cat)\n",
    "\n",
    "    return difference_9cat\n",
    "\n",
    "# Function to return team dataframe with 9cat averages\n",
    "def remove_mean_and_player(team_players_9cat_stats_dataframe, player_to_drop):\n",
    "\n",
    "    team_players_9cat_stats_dataframe = team_players_9cat_stats_dataframe.drop(MEAN_ROW)\n",
    "    team_players_9cat_stats_dataframe = \\\n",
    "        team_players_9cat_stats_dataframe[~team_players_9cat_stats_dataframe[PLAYER_COLUMN]\n",
    "    .str.contains(player_to_drop)]\n",
    "\n",
    "    return team_players_9cat_stats_dataframe\n",
    "\n",
    "\n",
    "def waiver_add_and_drop(fantasy_team, player_to_drop, player_to_add):\n",
    "\n",
    "    team_players_9cat_stats_dataframe = team_9cat_average_stats(fantasy_team, league)\n",
    "    current_team_9cat_average_stats = pd.DataFrame(team_players_9cat_stats_dataframe\n",
    "                                                   .loc[MEAN_ROW]).T.drop(PLAYER_COLUMN, axis=1)\n",
    "\n",
    "    removed_mean_dropped_player_dataframe = remove_mean_and_player\\\n",
    "        (team_players_9cat_stats_dataframe, player_to_drop)\n",
    "\n",
    "    added_player_9cat_averages = p9ca.get_player_9cat_season_average(player_to_add)\n",
    "    new_team_9cat_average_stats_dataframe = removed_mean_dropped_player_dataframe.append\\\n",
    "        (added_player_9cat_averages)\n",
    "    new_team_9cat_average_stats_dataframe.reset_index(inplace=True, drop=True)\n",
    "\n",
    "    new_team_9cat_average_stats_dataframe = format_roster_dataframe \\\n",
    "        (new_team_9cat_average_stats_dataframe)\n",
    "\n",
    "    new_team_9cat_average_stats = pd.DataFrame(new_team_9cat_average_stats_dataframe\n",
    "                                                   .loc[MEAN_ROW]).T.drop(PLAYER_COLUMN, axis=1)\n",
    "\n",
    "    return team_players_9cat_stats_dataframe, current_team_9cat_average_stats, \\\n",
    "           new_team_9cat_average_stats_dataframe, new_team_9cat_average_stats"
   ],
   "metadata": {
    "collapsed": false,
    "pycharm": {
     "name": "#%%\n"
    }
   }
  },
  {
   "cell_type": "code",
   "execution_count": 38,
   "outputs": [
    {
     "name": "stderr",
     "output_type": "stream",
     "text": [
      "[2021-01-27 22:04:13,787 DEBUG] [yahoo_oauth.oauth.__init__] Checking \n",
      "[2021-01-27 22:04:13,797 DEBUG] [yahoo_oauth.oauth.token_is_valid] ELAPSED TIME : 1016.0008628368378\n",
      "[2021-01-27 22:04:13,798 DEBUG] [yahoo_oauth.oauth.token_is_valid] TOKEN IS STILL VALID\n"
     ]
    }
   ],
   "source": [
    "# Authenticate if needed\n",
    "sc = yahoo_fantasy_api_authentication()\n",
    "league = yahoo_fantasy_league(sc)"
   ],
   "metadata": {
    "collapsed": false,
    "pycharm": {
     "name": "#%%\n"
    }
   }
  },
  {
   "cell_type": "code",
   "execution_count": 39,
   "outputs": [
    {
     "data": {
      "text/plain": "     FG_PCT FT_PCT  FG3M    PTS   REB   AST   STL   BLK   TOV\nmean  0.481  0.826  1.94  16.37  5.35  3.74  1.06  0.50  1.66",
      "text/html": "<div>\n<style scoped>\n    .dataframe tbody tr th:only-of-type {\n        vertical-align: middle;\n    }\n\n    .dataframe tbody tr th {\n        vertical-align: top;\n    }\n\n    .dataframe thead th {\n        text-align: right;\n    }\n</style>\n<table border=\"1\" class=\"dataframe\">\n  <thead>\n    <tr style=\"text-align: right;\">\n      <th></th>\n      <th>FG_PCT</th>\n      <th>FT_PCT</th>\n      <th>FG3M</th>\n      <th>PTS</th>\n      <th>REB</th>\n      <th>AST</th>\n      <th>STL</th>\n      <th>BLK</th>\n      <th>TOV</th>\n    </tr>\n  </thead>\n  <tbody>\n    <tr>\n      <th>mean</th>\n      <td>0.481</td>\n      <td>0.826</td>\n      <td>1.94</td>\n      <td>16.37</td>\n      <td>5.35</td>\n      <td>3.74</td>\n      <td>1.06</td>\n      <td>0.50</td>\n      <td>1.66</td>\n    </tr>\n  </tbody>\n</table>\n</div>"
     },
     "execution_count": 39,
     "metadata": {},
     "output_type": "execute_result"
    }
   ],
   "source": [
    "# Add drop player\n",
    "PLAYER_TO_DROP = \"Will Barton\"\n",
    "PLAYER_TO_ADD = \"Anthony Davis\"\n",
    "current_players_9cat_averages, current_team_9cat_averages, new_players_9cat_averages, \\\n",
    "    new_team_9cat_averages = waiver_add_and_drop(NUNN_OF_YALL_BETTA, PLAYER_TO_DROP, PLAYER_TO_ADD)"
   ],
   "metadata": {
    "collapsed": false,
    "pycharm": {
     "name": "#%%\n"
    }
   }
  },
  {
   "cell_type": "code",
   "execution_count": null,
   "outputs": [],
   "source": [
    "# Current team 9cat\n",
    "current_team_9cat_averages"
   ],
   "metadata": {
    "collapsed": false,
    "pycharm": {
     "name": "#%%\n"
    }
   }
  },
  {
   "cell_type": "code",
   "execution_count": null,
   "outputs": [],
   "source": [
    "# New team 9cat\n",
    "new_team_9cat_averages"
   ],
   "metadata": {
    "collapsed": false,
    "pycharm": {
     "name": "#%%\n"
    }
   }
  },
  {
   "cell_type": "code",
   "execution_count": 102,
   "outputs": [],
   "source": [
    "# Format and find 9cat differences\n",
    "def remove_player_and_float_convert(dataframe):\n",
    "\n",
    "    for column in dataframe.columns:\n",
    "        dataframe[column] = dataframe[column].astype(float)\n",
    "\n",
    "    return dataframe\n",
    "\n",
    "def drop_add_mean_9cat_difference(current_9cat, new_9cat):\n",
    "\n",
    "    current_9cat = remove_player_and_float_convert(current_9cat)\n",
    "    new_9cat = remove_player_and_float_convert(new_9cat)\n",
    "\n",
    "    difference_9cat = new_9cat.subtract(current_9cat)\n",
    "\n",
    "    return difference_9cat"
   ],
   "metadata": {
    "collapsed": false,
    "pycharm": {
     "name": "#%%\n"
    }
   }
  },
  {
   "cell_type": "code",
   "execution_count": 103,
   "outputs": [
    {
     "data": {
      "text/plain": "      FG_PCT  FT_PCT  FG3M   PTS   REB   AST   STL   BLK   TOV\nmean   0.008   0.001 -0.03  0.74  0.31  0.03  0.02  0.09  0.04",
      "text/html": "<div>\n<style scoped>\n    .dataframe tbody tr th:only-of-type {\n        vertical-align: middle;\n    }\n\n    .dataframe tbody tr th {\n        vertical-align: top;\n    }\n\n    .dataframe thead th {\n        text-align: right;\n    }\n</style>\n<table border=\"1\" class=\"dataframe\">\n  <thead>\n    <tr style=\"text-align: right;\">\n      <th></th>\n      <th>FG_PCT</th>\n      <th>FT_PCT</th>\n      <th>FG3M</th>\n      <th>PTS</th>\n      <th>REB</th>\n      <th>AST</th>\n      <th>STL</th>\n      <th>BLK</th>\n      <th>TOV</th>\n    </tr>\n  </thead>\n  <tbody>\n    <tr>\n      <th>mean</th>\n      <td>0.008</td>\n      <td>0.001</td>\n      <td>-0.03</td>\n      <td>0.74</td>\n      <td>0.31</td>\n      <td>0.03</td>\n      <td>0.02</td>\n      <td>0.09</td>\n      <td>0.04</td>\n    </tr>\n  </tbody>\n</table>\n</div>"
     },
     "execution_count": 103,
     "metadata": {},
     "output_type": "execute_result"
    }
   ],
   "source": [
    "# Difference dataframe\n",
    "difference_team_9cat_averages = drop_add_mean_9cat_difference(current_team_9cat_averages,\n",
    "                                                  new_team_9cat_averages)\n",
    "\n",
    "difference_team_9cat_averages"
   ],
   "metadata": {
    "collapsed": false,
    "pycharm": {
     "name": "#%%\n"
    }
   }
  },
  {
   "cell_type": "code",
   "execution_count": 63,
   "outputs": [],
   "source": [
    "# Visualise current, new and difference\n",
    "def visualise_team_9cat_averages(player_to_drop, player_to_add, current_9cat, new_9cat,\n",
    "                                 difference_9cat, visualise=True):\n",
    "    if visualise:\n",
    "        print(f\"You are dropping {player_to_drop} and adding {player_to_add}! \\n\")\n",
    "\n",
    "        print(\"The current team 9cat averages are:\\n\")\n",
    "        print(current_9cat)\n",
    "        print(\"\\n\")\n",
    "\n",
    "        print(\"The new team 9cat averages are:\\n\")\n",
    "        print(new_9cat)\n",
    "        print(\"\\n\")\n",
    "\n",
    "        print(\"The difference 9cat averages are:\\n\")\n",
    "        print(difference_9cat)\n",
    "        print(\"\\n\")\n",
    "    else:\n",
    "        pass\n"
   ],
   "metadata": {
    "collapsed": false,
    "pycharm": {
     "name": "#%%\n"
    }
   }
  },
  {
   "cell_type": "code",
   "execution_count": 105,
   "outputs": [
    {
     "name": "stdout",
     "output_type": "stream",
     "text": [
      "You are dropping Will Barton and adding Anthony Davis! \n",
      "\n",
      "The current team 9cat averages are:\n",
      "\n",
      "      FG_PCT  FT_PCT  FG3M    PTS   REB   AST   STL   BLK   TOV\n",
      "mean   0.473   0.822  1.74  15.46  5.29  3.74  1.04  0.43  1.66\n",
      "\n",
      "\n",
      "The new team 9cat averages are:\n",
      "\n",
      "      FG_PCT  FT_PCT  FG3M   PTS  REB   AST   STL   BLK  TOV\n",
      "mean   0.481   0.823  1.71  16.2  5.6  3.77  1.06  0.52  1.7\n",
      "\n",
      "\n",
      "The difference 9cat averages are:\n",
      "\n",
      "      FG_PCT  FT_PCT  FG3M   PTS   REB   AST   STL   BLK   TOV\n",
      "mean   0.008   0.001 -0.03  0.74  0.31  0.03  0.02  0.09  0.04\n",
      "\n",
      "\n"
     ]
    }
   ],
   "source": [
    "# Visualise change\n",
    "visualise_team_9cat_averages(PLAYER_TO_DROP, PLAYER_TO_ADD, current_team_9cat_averages,\n",
    "                             new_team_9cat_averages, difference_team_9cat_averages)"
   ],
   "metadata": {
    "collapsed": false,
    "pycharm": {
     "name": "#%%\n"
    }
   }
  },
  {
   "cell_type": "code",
   "execution_count": 45,
   "outputs": [],
   "source": [
    "# Function for the entire process\n",
    "def compare_team_9cats_on_transaction(team, player_to_drop, player_to_add, visualise=True):\n",
    "\n",
    "    current_players_9cat_averages, current_team_9cat_averages, new_players_9cat_averages, \\\n",
    "    new_team_9cat_averages = waiver_add_and_drop(NUNN_OF_YALL_BETTA, PLAYER_TO_DROP, PLAYER_TO_ADD)\n",
    "\n",
    "    difference_team_9cat_averages = drop_add_mean_9cat_difference(current_team_9cat_averages,\n",
    "                                                  new_team_9cat_averages)\n",
    "\n",
    "    visualise_team_9cat_averages(player_to_drop, player_to_add, current_team_9cat_averages,\n",
    "                             new_team_9cat_averages, difference_team_9cat_averages, visualise)\n",
    "\n",
    "    return current_players_9cat_averages, current_team_9cat_averages, new_players_9cat_averages, \\\n",
    "           new_team_9cat_averages"
   ],
   "metadata": {
    "collapsed": false,
    "pycharm": {
     "name": "#%%\n"
    }
   }
  },
  {
   "cell_type": "code",
   "execution_count": 33,
   "outputs": [
    {
     "name": "stderr",
     "output_type": "stream",
     "text": [
      "[2021-01-26 20:03:38,925 DEBUG] [yahoo_oauth.oauth.__init__] Checking \n",
      "[2021-01-26 20:03:38,928 DEBUG] [yahoo_oauth.oauth.token_is_valid] ELAPSED TIME : 2276.010263442993\n",
      "[2021-01-26 20:03:38,929 DEBUG] [yahoo_oauth.oauth.token_is_valid] TOKEN IS STILL VALID\n"
     ]
    }
   ],
   "source": [
    "# Authenticate if needed\n",
    "sc = yahoo_fantasy_api_authentication()\n",
    "league = yahoo_fantasy_league(sc)"
   ],
   "metadata": {
    "collapsed": false,
    "pycharm": {
     "name": "#%%\n"
    }
   }
  },
  {
   "cell_type": "code",
   "execution_count": 34,
   "outputs": [
    {
     "ename": "NameError",
     "evalue": "name 'PLAYER_TO_DROP' is not defined",
     "output_type": "error",
     "traceback": [
      "\u001B[1;31m---------------------------------------------------------------------------\u001B[0m",
      "\u001B[1;31mNameError\u001B[0m                                 Traceback (most recent call last)",
      "\u001B[1;32m<ipython-input-34-061598b18c87>\u001B[0m in \u001B[0;36m<module>\u001B[1;34m\u001B[0m\n\u001B[0;32m      1\u001B[0m \u001B[0mcurrent_players_9cat_averages\u001B[0m\u001B[1;33m,\u001B[0m \u001B[0mcurrent_team_9cat_averages\u001B[0m\u001B[1;33m,\u001B[0m \u001B[0mnew_players_9cat_averages\u001B[0m\u001B[1;33m,\u001B[0m\u001B[0;31m \u001B[0m\u001B[0;31m\\\u001B[0m\u001B[1;33m\u001B[0m\u001B[1;33m\u001B[0m\u001B[0m\n\u001B[1;32m----> 2\u001B[1;33m     new_team_9cat_averages = compare_team_9cats_on_transaction(NUNN_OF_YALL_BETTA, PLAYER_TO_DROP,\n\u001B[0m\u001B[0;32m      3\u001B[0m                                                            PLAYER_TO_ADD)\n\u001B[0;32m      4\u001B[0m \u001B[1;33m\u001B[0m\u001B[0m\n",
      "\u001B[1;31mNameError\u001B[0m: name 'PLAYER_TO_DROP' is not defined"
     ]
    }
   ],
   "source": [
    "# Pipelined\n",
    "current_players_9cat_averages, current_team_9cat_averages, new_players_9cat_averages, \\\n",
    "    new_team_9cat_averages = compare_team_9cats_on_transaction(NUNN_OF_YALL_BETTA, PLAYER_TO_DROP,\n",
    "                                                           PLAYER_TO_ADD)"
   ],
   "metadata": {
    "collapsed": false,
    "pycharm": {
     "name": "#%%\n"
    }
   }
  },
  {
   "cell_type": "code",
   "execution_count": 37,
   "outputs": [
    {
     "name": "stdout",
     "output_type": "stream",
     "text": [
      "You are dropping Will Barton and adding Wayne Ellington! \n",
      "\n",
      "The current team 9cat averages are:\n",
      "\n",
      "      FG_PCT  FT_PCT  FG3M    PTS   REB   AST   STL   BLK  TOV\n",
      "mean   0.473   0.828  1.74  15.57  5.42  3.79  1.04  0.43  1.7\n",
      "\n",
      "\n",
      "The new team 9cat averages are:\n",
      "\n",
      "      FG_PCT  FT_PCT  FG3M    PTS   REB   AST   STL   BLK   TOV\n",
      "mean   0.481   0.826  1.89  15.76  5.29  3.66  1.01  0.41  1.67\n",
      "\n",
      "\n",
      "The difference 9cat averages are:\n",
      "\n",
      "      FG_PCT  FT_PCT  FG3M   PTS   REB   AST   STL   BLK   TOV\n",
      "mean   0.008  -0.002  0.15  0.19 -0.13 -0.13 -0.03 -0.02 -0.03\n",
      "\n",
      "\n"
     ]
    }
   ],
   "source": [
    "PLAYER_TO_DROP = \"Will Barton\"\n",
    "PLAYER_TO_ADD = \"Wayne Ellington\"\n",
    "current_players_9cat_averages, current_team_9cat_averages, new_players_9cat_averages, \\\n",
    "    new_team_9cat_averages = compare_team_9cats_on_transaction(NUNN_OF_YALL_BETTA, PLAYER_TO_DROP,\n",
    "                                                           PLAYER_TO_ADD)"
   ],
   "metadata": {
    "collapsed": false,
    "pycharm": {
     "name": "#%%\n"
    }
   }
  },
  {
   "cell_type": "code",
   "execution_count": 11,
   "outputs": [],
   "source": [
    "# Function to return team dataframe with 9cat averages\n",
    "def remove_mean_and_player(team_players_9cat_stats_dataframe, player_to_drop):\n",
    "\n",
    "    team_players_9cat_stats_dataframe = team_players_9cat_stats_dataframe.drop(MEAN_ROW)\n",
    "    team_players_9cat_stats_dataframe = \\\n",
    "        team_players_9cat_stats_dataframe[~team_players_9cat_stats_dataframe[PLAYER_COLUMN]\n",
    "    .str.contains(player_to_drop)]\n",
    "\n",
    "    return team_players_9cat_stats_dataframe\n",
    "\n",
    "\n",
    "def waiver_add_and_drop(fantasy_team, player_to_drop, player_to_add):\n",
    "\n",
    "    team_players_9cat_stats_dataframe = team_9cat_average_stats(fantasy_team, league)\n",
    "    current_team_9cat_average_stats = pd.DataFrame(team_players_9cat_stats_dataframe\n",
    "                                                   .loc[MEAN_ROW]).T.drop(PLAYER_COLUMN, axis=1)\n",
    "\n",
    "    removed_mean_dropped_player_dataframe = remove_mean_and_player\\\n",
    "        (team_players_9cat_stats_dataframe, player_to_drop)\n",
    "\n",
    "    added_player_9cat_averages = p9ca.get_player_9cat_season_average(player_to_add)\n",
    "    new_team_9cat_average_stats_dataframe = removed_mean_dropped_player_dataframe.append\\\n",
    "        (added_player_9cat_averages)\n",
    "    new_team_9cat_average_stats_dataframe.reset_index(inplace=True, drop=True)\n",
    "\n",
    "    new_team_9cat_average_stats_dataframe = format_roster_dataframe \\\n",
    "        (new_team_9cat_average_stats_dataframe)\n",
    "\n",
    "    new_team_9cat_average_stats = pd.DataFrame(new_team_9cat_average_stats_dataframe\n",
    "                                                   .loc[MEAN_ROW]).T.drop(PLAYER_COLUMN, axis=1)\n",
    "\n",
    "    return team_players_9cat_stats_dataframe, current_team_9cat_average_stats, \\\n",
    "           new_team_9cat_average_stats_dataframe, new_team_9cat_average_stats\n",
    "\n",
    "\n",
    "# Format and find 9cat differences\n",
    "def remove_player_and_float_convert(dataframe):\n",
    "\n",
    "    for column in dataframe.columns:\n",
    "        dataframe[column] = dataframe[column].astype(float)\n",
    "\n",
    "    return dataframe\n",
    "\n",
    "\n",
    "def drop_add_mean_9cat_difference(current_9cat, new_9cat):\n",
    "\n",
    "    current_9cat = remove_player_and_float_convert(current_9cat)\n",
    "    new_9cat = remove_player_and_float_convert(new_9cat)\n",
    "\n",
    "    difference_9cat = new_9cat.subtract(current_9cat)\n",
    "\n",
    "    return difference_9cat\n",
    "\n",
    "\n",
    "# Visualise current, new and difference\n",
    "def visualise_team_9cat_averages(player_to_drop, player_to_add, current_9cat, new_9cat,\n",
    "                                 difference_9cat, visualise=True):\n",
    "    if visualise:\n",
    "        print(f\"You are dropping {player_to_drop} and adding {player_to_add}! \\n\")\n",
    "\n",
    "        print(\"The current team 9cat averages are:\\n\")\n",
    "        print(current_9cat)\n",
    "        print(\"\\n\")\n",
    "\n",
    "        print(\"The new team 9cat averages are:\\n\")\n",
    "        print(new_9cat)\n",
    "        print(\"\\n\")\n",
    "\n",
    "        print(\"The difference 9cat averages are:\\n\")\n",
    "        print(difference_9cat)\n",
    "        print(\"\\n\")\n",
    "    else:\n",
    "        pass\n",
    "\n",
    "\n",
    "# Function for the entire process\n",
    "def compare_team_9cats_on_transaction(team, player_to_drop, player_to_add, visualise=True):\n",
    "\n",
    "    current_players_9cat_averages, current_team_9cat_averages, new_players_9cat_averages, \\\n",
    "    new_team_9cat_averages = waiver_add_and_drop(team, player_to_drop, player_to_add)\n",
    "\n",
    "    difference_team_9cat_averages = drop_add_mean_9cat_difference(current_team_9cat_averages,\n",
    "                                                  new_team_9cat_averages)\n",
    "\n",
    "    visualise_team_9cat_averages(player_to_drop, player_to_add, current_team_9cat_averages,\n",
    "                             new_team_9cat_averages, difference_team_9cat_averages, visualise)\n",
    "\n",
    "    return current_players_9cat_averages, current_team_9cat_averages, new_players_9cat_averages, \\\n",
    "           new_team_9cat_averages"
   ],
   "metadata": {
    "collapsed": false,
    "pycharm": {
     "name": "#%%\n"
    }
   }
  },
  {
   "cell_type": "markdown",
   "source": [
    "## Power Rankings\n",
    "This section will calculate the power rankings for the league or a single team. It will take a\n",
    "dataframe containing 9cat columns and rows of either players or team. It will sort each column to\n",
    " identify which rows have the highest/lowest values and return a dataframe with the columns\n",
    " replaced by the original dataframes sorted indexes. This is done to quickly identify what\n",
    " columns a team is good or bad at."
   ],
   "metadata": {
    "collapsed": false,
    "pycharm": {
     "name": "#%% md\n"
    }
   }
  },
  {
   "cell_type": "code",
   "execution_count": 40,
   "outputs": [
    {
     "name": "stderr",
     "output_type": "stream",
     "text": [
      "[2021-01-27 22:23:14,758 DEBUG] [yahoo_oauth.oauth.__init__] Checking \n",
      "[2021-01-27 22:23:14,761 DEBUG] [yahoo_oauth.oauth.token_is_valid] ELAPSED TIME : 2156.964426279068\n",
      "[2021-01-27 22:23:14,762 DEBUG] [yahoo_oauth.oauth.token_is_valid] TOKEN IS STILL VALID\n"
     ]
    },
    {
     "data": {
      "text/plain": "                 PLAYER FG_PCT FT_PCT  FG3M    PTS    REB   AST   STL   BLK  \\\n0         Fred VanVleet  0.411  0.848  3.24  19.41   4.47  6.35  1.47  0.53   \n1     Tyrese Haliburton  0.504  0.818  2.21  11.43   3.00  4.86  1.21  0.71   \n2          LeBron James  0.497  0.713  2.72  25.17   7.94  7.39  0.94  0.44   \n3       P.J. Washington  0.426  0.741  1.06  12.24   6.65  2.88  0.94  1.35   \n4      Bojan Bogdanovic  0.368  0.822  2.47  13.35   3.76  2.06  0.41  0.06   \n5         Mikal Bridges  0.510  0.816  2.60  15.07   5.80  1.80  0.60  1.13   \n6        Nikola Vucevic  0.487  0.816  2.78  23.50  11.06  3.67  1.22  0.50   \n7           Cody Zeller  0.450  0.727  0.00   6.50   5.25  1.25  0.75  0.50   \n8         Luguentz Dort  0.468  0.758  2.19  12.75   3.62  1.19  1.00  0.31   \n9         Malik Beasley  0.446  0.907  2.75  19.56   4.88  2.31  0.69  0.25   \n10        Kevin Huerter  0.425  0.846  2.06  11.76   3.71  3.41  1.24  0.12   \n11           Alec Burks  0.403  0.811  2.43  15.57   4.57  2.29  1.00  0.57   \n12        Kawhi Leonard  0.505  0.900  2.07  25.93   5.40  5.73  2.00  0.67   \n13        Julius Randle  0.468  0.814  1.37  22.47  11.26  6.00  0.74  0.16   \n14           Lonzo Ball  0.389  0.583  2.08  12.00   3.75  4.67  1.25  0.58   \nmean                NaN  0.450  0.795  2.14  16.45   5.67  3.72  1.03  0.53   \n\n       TOV  \n0     1.76  \n1     1.50  \n2     3.67  \n3     2.12  \n4     1.53  \n5     0.53  \n6     1.50  \n7     0.75  \n8     1.19  \n9     1.38  \n10    1.24  \n11    1.71  \n12    1.80  \n13    3.42  \n14    2.50  \nmean  1.77  ",
      "text/html": "<div>\n<style scoped>\n    .dataframe tbody tr th:only-of-type {\n        vertical-align: middle;\n    }\n\n    .dataframe tbody tr th {\n        vertical-align: top;\n    }\n\n    .dataframe thead th {\n        text-align: right;\n    }\n</style>\n<table border=\"1\" class=\"dataframe\">\n  <thead>\n    <tr style=\"text-align: right;\">\n      <th></th>\n      <th>PLAYER</th>\n      <th>FG_PCT</th>\n      <th>FT_PCT</th>\n      <th>FG3M</th>\n      <th>PTS</th>\n      <th>REB</th>\n      <th>AST</th>\n      <th>STL</th>\n      <th>BLK</th>\n      <th>TOV</th>\n    </tr>\n  </thead>\n  <tbody>\n    <tr>\n      <th>0</th>\n      <td>Fred VanVleet</td>\n      <td>0.411</td>\n      <td>0.848</td>\n      <td>3.24</td>\n      <td>19.41</td>\n      <td>4.47</td>\n      <td>6.35</td>\n      <td>1.47</td>\n      <td>0.53</td>\n      <td>1.76</td>\n    </tr>\n    <tr>\n      <th>1</th>\n      <td>Tyrese Haliburton</td>\n      <td>0.504</td>\n      <td>0.818</td>\n      <td>2.21</td>\n      <td>11.43</td>\n      <td>3.00</td>\n      <td>4.86</td>\n      <td>1.21</td>\n      <td>0.71</td>\n      <td>1.50</td>\n    </tr>\n    <tr>\n      <th>2</th>\n      <td>LeBron James</td>\n      <td>0.497</td>\n      <td>0.713</td>\n      <td>2.72</td>\n      <td>25.17</td>\n      <td>7.94</td>\n      <td>7.39</td>\n      <td>0.94</td>\n      <td>0.44</td>\n      <td>3.67</td>\n    </tr>\n    <tr>\n      <th>3</th>\n      <td>P.J. Washington</td>\n      <td>0.426</td>\n      <td>0.741</td>\n      <td>1.06</td>\n      <td>12.24</td>\n      <td>6.65</td>\n      <td>2.88</td>\n      <td>0.94</td>\n      <td>1.35</td>\n      <td>2.12</td>\n    </tr>\n    <tr>\n      <th>4</th>\n      <td>Bojan Bogdanovic</td>\n      <td>0.368</td>\n      <td>0.822</td>\n      <td>2.47</td>\n      <td>13.35</td>\n      <td>3.76</td>\n      <td>2.06</td>\n      <td>0.41</td>\n      <td>0.06</td>\n      <td>1.53</td>\n    </tr>\n    <tr>\n      <th>5</th>\n      <td>Mikal Bridges</td>\n      <td>0.510</td>\n      <td>0.816</td>\n      <td>2.60</td>\n      <td>15.07</td>\n      <td>5.80</td>\n      <td>1.80</td>\n      <td>0.60</td>\n      <td>1.13</td>\n      <td>0.53</td>\n    </tr>\n    <tr>\n      <th>6</th>\n      <td>Nikola Vucevic</td>\n      <td>0.487</td>\n      <td>0.816</td>\n      <td>2.78</td>\n      <td>23.50</td>\n      <td>11.06</td>\n      <td>3.67</td>\n      <td>1.22</td>\n      <td>0.50</td>\n      <td>1.50</td>\n    </tr>\n    <tr>\n      <th>7</th>\n      <td>Cody Zeller</td>\n      <td>0.450</td>\n      <td>0.727</td>\n      <td>0.00</td>\n      <td>6.50</td>\n      <td>5.25</td>\n      <td>1.25</td>\n      <td>0.75</td>\n      <td>0.50</td>\n      <td>0.75</td>\n    </tr>\n    <tr>\n      <th>8</th>\n      <td>Luguentz Dort</td>\n      <td>0.468</td>\n      <td>0.758</td>\n      <td>2.19</td>\n      <td>12.75</td>\n      <td>3.62</td>\n      <td>1.19</td>\n      <td>1.00</td>\n      <td>0.31</td>\n      <td>1.19</td>\n    </tr>\n    <tr>\n      <th>9</th>\n      <td>Malik Beasley</td>\n      <td>0.446</td>\n      <td>0.907</td>\n      <td>2.75</td>\n      <td>19.56</td>\n      <td>4.88</td>\n      <td>2.31</td>\n      <td>0.69</td>\n      <td>0.25</td>\n      <td>1.38</td>\n    </tr>\n    <tr>\n      <th>10</th>\n      <td>Kevin Huerter</td>\n      <td>0.425</td>\n      <td>0.846</td>\n      <td>2.06</td>\n      <td>11.76</td>\n      <td>3.71</td>\n      <td>3.41</td>\n      <td>1.24</td>\n      <td>0.12</td>\n      <td>1.24</td>\n    </tr>\n    <tr>\n      <th>11</th>\n      <td>Alec Burks</td>\n      <td>0.403</td>\n      <td>0.811</td>\n      <td>2.43</td>\n      <td>15.57</td>\n      <td>4.57</td>\n      <td>2.29</td>\n      <td>1.00</td>\n      <td>0.57</td>\n      <td>1.71</td>\n    </tr>\n    <tr>\n      <th>12</th>\n      <td>Kawhi Leonard</td>\n      <td>0.505</td>\n      <td>0.900</td>\n      <td>2.07</td>\n      <td>25.93</td>\n      <td>5.40</td>\n      <td>5.73</td>\n      <td>2.00</td>\n      <td>0.67</td>\n      <td>1.80</td>\n    </tr>\n    <tr>\n      <th>13</th>\n      <td>Julius Randle</td>\n      <td>0.468</td>\n      <td>0.814</td>\n      <td>1.37</td>\n      <td>22.47</td>\n      <td>11.26</td>\n      <td>6.00</td>\n      <td>0.74</td>\n      <td>0.16</td>\n      <td>3.42</td>\n    </tr>\n    <tr>\n      <th>14</th>\n      <td>Lonzo Ball</td>\n      <td>0.389</td>\n      <td>0.583</td>\n      <td>2.08</td>\n      <td>12.00</td>\n      <td>3.75</td>\n      <td>4.67</td>\n      <td>1.25</td>\n      <td>0.58</td>\n      <td>2.50</td>\n    </tr>\n    <tr>\n      <th>mean</th>\n      <td>NaN</td>\n      <td>0.450</td>\n      <td>0.795</td>\n      <td>2.14</td>\n      <td>16.45</td>\n      <td>5.67</td>\n      <td>3.72</td>\n      <td>1.03</td>\n      <td>0.53</td>\n      <td>1.77</td>\n    </tr>\n  </tbody>\n</table>\n</div>"
     },
     "execution_count": 40,
     "metadata": {},
     "output_type": "execute_result"
    }
   ],
   "source": [
    "# Single team average\n",
    "sc = yahoo_fantasy_api_authentication()\n",
    "league = yahoo_fantasy_league(sc)\n",
    "nunn_yall_betta_team_avg = team_9cat_average_stats(NUNN_OF_YALL_BETTA, league)\n",
    "nunn_yall_betta_team_avg"
   ],
   "metadata": {
    "collapsed": false,
    "pycharm": {
     "name": "#%%\n"
    }
   }
  },
  {
   "cell_type": "code",
   "execution_count": 35,
   "outputs": [],
   "source": [
    "# Function power ranking\n",
    "RANK_SUFFIX =\"_RANK\"\n",
    "\n",
    "def power_rankings(dataframe):\n",
    "\n",
    "    power_ranking_dataframe =  dataframe.copy()\n",
    "    try:\n",
    "        power_ranking_dataframe.drop(MEAN_ROW, inplace=True)\n",
    "    except KeyError:\n",
    "        pass\n",
    "    for column in power_ranking_dataframe.columns[1:]:\n",
    "\n",
    "        sorted_points = power_ranking_dataframe[column].sort_values(ascending=False)\n",
    "        sorted_points.drop_duplicates(inplace=True)\n",
    "\n",
    "        sorting_dictionary = dict()\n",
    "\n",
    "        count = 1\n",
    "        for point in sorted_points:\n",
    "            sorting_dictionary[point] = count\n",
    "            count += 1\n",
    "\n",
    "        power_ranking_dataframe[column + RANK_SUFFIX] = power_ranking_dataframe[column].map\\\n",
    "            (sorting_dictionary)\n",
    "\n",
    "    power_ranking_dataframe.drop(dataframe.columns[1:], axis=1, inplace=True)\n",
    "\n",
    "    return power_ranking_dataframe"
   ],
   "metadata": {
    "collapsed": false,
    "pycharm": {
     "name": "#%%\n"
    }
   }
  },
  {
   "cell_type": "code",
   "execution_count": 43,
   "outputs": [
    {
     "data": {
      "text/plain": "               PLAYER  FG_PCT_RANK  FT_PCT_RANK  FG3M_RANK  PTS_RANK  \\\n0       Fred VanVleet           11            3          1         7   \n1   Tyrese Haliburton            3            6          8        15   \n2        LeBron James            4           13          4         3   \n3     P.J. Washington            9           11         14        12   \n4    Bojan Bogdanovic           14            5          6        10   \n5       Mikal Bridges            1            7          5         9   \n6      Nikola Vucevic            5            7          2         4   \n7         Cody Zeller            7           12         15         1   \n8       Luguentz Dort            6           10          9        11   \n9       Malik Beasley            8            1          3         6   \n10      Kevin Huerter           10            4         12        14   \n11         Alec Burks           12            9          7         8   \n12      Kawhi Leonard            2            2         11         2   \n13      Julius Randle            6            8         13         5   \n14         Lonzo Ball           13           14         10        13   \n\n    REB_RANK  AST_RANK  STL_RANK  BLK_RANK  TOV_RANK  \n0          8         2         2         7         6  \n1         13         5         6         3         9  \n2          1         1         8         9         1  \n3          2         9         8         1         4  \n4          9        12        13        14         8  \n5          3        13        12         2        14  \n6         15         7         5         8         9  \n7          5        14         9         8        13  \n8         12        15         7        10        12  \n9          6        10        11        11        10  \n10        11         8         4        13        11  \n11         7        11         7         6         7  \n12         4         4         1         4         5  \n13        14         3        10        12         2  \n14        10         6         3         5         3  ",
      "text/html": "<div>\n<style scoped>\n    .dataframe tbody tr th:only-of-type {\n        vertical-align: middle;\n    }\n\n    .dataframe tbody tr th {\n        vertical-align: top;\n    }\n\n    .dataframe thead th {\n        text-align: right;\n    }\n</style>\n<table border=\"1\" class=\"dataframe\">\n  <thead>\n    <tr style=\"text-align: right;\">\n      <th></th>\n      <th>PLAYER</th>\n      <th>FG_PCT_RANK</th>\n      <th>FT_PCT_RANK</th>\n      <th>FG3M_RANK</th>\n      <th>PTS_RANK</th>\n      <th>REB_RANK</th>\n      <th>AST_RANK</th>\n      <th>STL_RANK</th>\n      <th>BLK_RANK</th>\n      <th>TOV_RANK</th>\n    </tr>\n  </thead>\n  <tbody>\n    <tr>\n      <th>0</th>\n      <td>Fred VanVleet</td>\n      <td>11</td>\n      <td>3</td>\n      <td>1</td>\n      <td>7</td>\n      <td>8</td>\n      <td>2</td>\n      <td>2</td>\n      <td>7</td>\n      <td>6</td>\n    </tr>\n    <tr>\n      <th>1</th>\n      <td>Tyrese Haliburton</td>\n      <td>3</td>\n      <td>6</td>\n      <td>8</td>\n      <td>15</td>\n      <td>13</td>\n      <td>5</td>\n      <td>6</td>\n      <td>3</td>\n      <td>9</td>\n    </tr>\n    <tr>\n      <th>2</th>\n      <td>LeBron James</td>\n      <td>4</td>\n      <td>13</td>\n      <td>4</td>\n      <td>3</td>\n      <td>1</td>\n      <td>1</td>\n      <td>8</td>\n      <td>9</td>\n      <td>1</td>\n    </tr>\n    <tr>\n      <th>3</th>\n      <td>P.J. Washington</td>\n      <td>9</td>\n      <td>11</td>\n      <td>14</td>\n      <td>12</td>\n      <td>2</td>\n      <td>9</td>\n      <td>8</td>\n      <td>1</td>\n      <td>4</td>\n    </tr>\n    <tr>\n      <th>4</th>\n      <td>Bojan Bogdanovic</td>\n      <td>14</td>\n      <td>5</td>\n      <td>6</td>\n      <td>10</td>\n      <td>9</td>\n      <td>12</td>\n      <td>13</td>\n      <td>14</td>\n      <td>8</td>\n    </tr>\n    <tr>\n      <th>5</th>\n      <td>Mikal Bridges</td>\n      <td>1</td>\n      <td>7</td>\n      <td>5</td>\n      <td>9</td>\n      <td>3</td>\n      <td>13</td>\n      <td>12</td>\n      <td>2</td>\n      <td>14</td>\n    </tr>\n    <tr>\n      <th>6</th>\n      <td>Nikola Vucevic</td>\n      <td>5</td>\n      <td>7</td>\n      <td>2</td>\n      <td>4</td>\n      <td>15</td>\n      <td>7</td>\n      <td>5</td>\n      <td>8</td>\n      <td>9</td>\n    </tr>\n    <tr>\n      <th>7</th>\n      <td>Cody Zeller</td>\n      <td>7</td>\n      <td>12</td>\n      <td>15</td>\n      <td>1</td>\n      <td>5</td>\n      <td>14</td>\n      <td>9</td>\n      <td>8</td>\n      <td>13</td>\n    </tr>\n    <tr>\n      <th>8</th>\n      <td>Luguentz Dort</td>\n      <td>6</td>\n      <td>10</td>\n      <td>9</td>\n      <td>11</td>\n      <td>12</td>\n      <td>15</td>\n      <td>7</td>\n      <td>10</td>\n      <td>12</td>\n    </tr>\n    <tr>\n      <th>9</th>\n      <td>Malik Beasley</td>\n      <td>8</td>\n      <td>1</td>\n      <td>3</td>\n      <td>6</td>\n      <td>6</td>\n      <td>10</td>\n      <td>11</td>\n      <td>11</td>\n      <td>10</td>\n    </tr>\n    <tr>\n      <th>10</th>\n      <td>Kevin Huerter</td>\n      <td>10</td>\n      <td>4</td>\n      <td>12</td>\n      <td>14</td>\n      <td>11</td>\n      <td>8</td>\n      <td>4</td>\n      <td>13</td>\n      <td>11</td>\n    </tr>\n    <tr>\n      <th>11</th>\n      <td>Alec Burks</td>\n      <td>12</td>\n      <td>9</td>\n      <td>7</td>\n      <td>8</td>\n      <td>7</td>\n      <td>11</td>\n      <td>7</td>\n      <td>6</td>\n      <td>7</td>\n    </tr>\n    <tr>\n      <th>12</th>\n      <td>Kawhi Leonard</td>\n      <td>2</td>\n      <td>2</td>\n      <td>11</td>\n      <td>2</td>\n      <td>4</td>\n      <td>4</td>\n      <td>1</td>\n      <td>4</td>\n      <td>5</td>\n    </tr>\n    <tr>\n      <th>13</th>\n      <td>Julius Randle</td>\n      <td>6</td>\n      <td>8</td>\n      <td>13</td>\n      <td>5</td>\n      <td>14</td>\n      <td>3</td>\n      <td>10</td>\n      <td>12</td>\n      <td>2</td>\n    </tr>\n    <tr>\n      <th>14</th>\n      <td>Lonzo Ball</td>\n      <td>13</td>\n      <td>14</td>\n      <td>10</td>\n      <td>13</td>\n      <td>10</td>\n      <td>6</td>\n      <td>3</td>\n      <td>5</td>\n      <td>3</td>\n    </tr>\n  </tbody>\n</table>\n</div>"
     },
     "execution_count": 43,
     "metadata": {},
     "output_type": "execute_result"
    }
   ],
   "source": [
    "power_rankings(nunn_yall_betta_team_avg)\n"
   ],
   "metadata": {
    "collapsed": false,
    "pycharm": {
     "name": "#%%\n"
    }
   }
  },
  {
   "cell_type": "code",
   "execution_count": 55,
   "outputs": [
    {
     "data": {
      "text/plain": "                   TEAM FG_PCT FT_PCT  FG3M    PTS   REB   AST   STL   BLK  \\\n0              LaLaLand  0.455  0.765  1.52  15.95  5.90  3.79  0.84  0.56   \n1              Autopick  0.494  0.792  1.65  16.47  5.72  3.29  0.88  0.51   \n2   CrabbeHerByThePussy  0.492  0.820  1.48  14.03  6.16  3.10  0.93  0.94   \n3       Magic's Johnson  0.454  0.793  2.16  16.54  5.67  3.75  1.04  0.53   \n4               McCurry  0.489  0.734  0.85  13.96  6.65  3.54  1.07  0.78   \n5   Nunn of Y'all Betta  0.473  0.828  1.74  15.57  5.42  3.79  1.04  0.43   \n6     Russty Cuntbrooks  0.474  0.770  1.62  17.00  5.85  3.02  1.00  0.85   \n7       Wakanda Forever  0.448  0.733  1.79  15.21  5.57  3.25  0.94  0.57   \n8              Swaggy P  0.464  0.735  1.89  14.71  4.94  2.97  0.81  0.61   \n9     yOBItch Toppin Me  0.492  0.789  1.76  15.83  4.80  3.35  0.94  0.54   \n10  Tvon's Tip-Top Team  0.469  0.751  1.32  13.68  5.59  3.23  0.80  0.91   \n11  El Ladrón de Cabras  0.505  0.751  1.60  14.22  5.49  3.11  0.86  0.64   \n\n     TOV  \n0   2.26  \n1   1.86  \n2   1.56  \n3   1.79  \n4   1.86  \n5   1.70  \n6   1.96  \n7   1.66  \n8   1.95  \n9   2.06  \n10  1.93  \n11  1.74  ",
      "text/html": "<div>\n<style scoped>\n    .dataframe tbody tr th:only-of-type {\n        vertical-align: middle;\n    }\n\n    .dataframe tbody tr th {\n        vertical-align: top;\n    }\n\n    .dataframe thead th {\n        text-align: right;\n    }\n</style>\n<table border=\"1\" class=\"dataframe\">\n  <thead>\n    <tr style=\"text-align: right;\">\n      <th></th>\n      <th>TEAM</th>\n      <th>FG_PCT</th>\n      <th>FT_PCT</th>\n      <th>FG3M</th>\n      <th>PTS</th>\n      <th>REB</th>\n      <th>AST</th>\n      <th>STL</th>\n      <th>BLK</th>\n      <th>TOV</th>\n    </tr>\n  </thead>\n  <tbody>\n    <tr>\n      <th>0</th>\n      <td>LaLaLand</td>\n      <td>0.455</td>\n      <td>0.765</td>\n      <td>1.52</td>\n      <td>15.95</td>\n      <td>5.90</td>\n      <td>3.79</td>\n      <td>0.84</td>\n      <td>0.56</td>\n      <td>2.26</td>\n    </tr>\n    <tr>\n      <th>1</th>\n      <td>Autopick</td>\n      <td>0.494</td>\n      <td>0.792</td>\n      <td>1.65</td>\n      <td>16.47</td>\n      <td>5.72</td>\n      <td>3.29</td>\n      <td>0.88</td>\n      <td>0.51</td>\n      <td>1.86</td>\n    </tr>\n    <tr>\n      <th>2</th>\n      <td>CrabbeHerByThePussy</td>\n      <td>0.492</td>\n      <td>0.820</td>\n      <td>1.48</td>\n      <td>14.03</td>\n      <td>6.16</td>\n      <td>3.10</td>\n      <td>0.93</td>\n      <td>0.94</td>\n      <td>1.56</td>\n    </tr>\n    <tr>\n      <th>3</th>\n      <td>Magic's Johnson</td>\n      <td>0.454</td>\n      <td>0.793</td>\n      <td>2.16</td>\n      <td>16.54</td>\n      <td>5.67</td>\n      <td>3.75</td>\n      <td>1.04</td>\n      <td>0.53</td>\n      <td>1.79</td>\n    </tr>\n    <tr>\n      <th>4</th>\n      <td>McCurry</td>\n      <td>0.489</td>\n      <td>0.734</td>\n      <td>0.85</td>\n      <td>13.96</td>\n      <td>6.65</td>\n      <td>3.54</td>\n      <td>1.07</td>\n      <td>0.78</td>\n      <td>1.86</td>\n    </tr>\n    <tr>\n      <th>5</th>\n      <td>Nunn of Y'all Betta</td>\n      <td>0.473</td>\n      <td>0.828</td>\n      <td>1.74</td>\n      <td>15.57</td>\n      <td>5.42</td>\n      <td>3.79</td>\n      <td>1.04</td>\n      <td>0.43</td>\n      <td>1.70</td>\n    </tr>\n    <tr>\n      <th>6</th>\n      <td>Russty Cuntbrooks</td>\n      <td>0.474</td>\n      <td>0.770</td>\n      <td>1.62</td>\n      <td>17.00</td>\n      <td>5.85</td>\n      <td>3.02</td>\n      <td>1.00</td>\n      <td>0.85</td>\n      <td>1.96</td>\n    </tr>\n    <tr>\n      <th>7</th>\n      <td>Wakanda Forever</td>\n      <td>0.448</td>\n      <td>0.733</td>\n      <td>1.79</td>\n      <td>15.21</td>\n      <td>5.57</td>\n      <td>3.25</td>\n      <td>0.94</td>\n      <td>0.57</td>\n      <td>1.66</td>\n    </tr>\n    <tr>\n      <th>8</th>\n      <td>Swaggy P</td>\n      <td>0.464</td>\n      <td>0.735</td>\n      <td>1.89</td>\n      <td>14.71</td>\n      <td>4.94</td>\n      <td>2.97</td>\n      <td>0.81</td>\n      <td>0.61</td>\n      <td>1.95</td>\n    </tr>\n    <tr>\n      <th>9</th>\n      <td>yOBItch Toppin Me</td>\n      <td>0.492</td>\n      <td>0.789</td>\n      <td>1.76</td>\n      <td>15.83</td>\n      <td>4.80</td>\n      <td>3.35</td>\n      <td>0.94</td>\n      <td>0.54</td>\n      <td>2.06</td>\n    </tr>\n    <tr>\n      <th>10</th>\n      <td>Tvon's Tip-Top Team</td>\n      <td>0.469</td>\n      <td>0.751</td>\n      <td>1.32</td>\n      <td>13.68</td>\n      <td>5.59</td>\n      <td>3.23</td>\n      <td>0.80</td>\n      <td>0.91</td>\n      <td>1.93</td>\n    </tr>\n    <tr>\n      <th>11</th>\n      <td>El Ladrón de Cabras</td>\n      <td>0.505</td>\n      <td>0.751</td>\n      <td>1.60</td>\n      <td>14.22</td>\n      <td>5.49</td>\n      <td>3.11</td>\n      <td>0.86</td>\n      <td>0.64</td>\n      <td>1.74</td>\n    </tr>\n  </tbody>\n</table>\n</div>"
     },
     "execution_count": 55,
     "metadata": {},
     "output_type": "execute_result"
    }
   ],
   "source": [
    "%%time\n",
    "# League average\n",
    "sc = yahoo_fantasy_api_authentication()\n",
    "league = yahoo_fantasy_league(sc)\n",
    "league_averages_dataframe = league_averages(league_team_list)\n",
    "league_averages_dataframe"
   ],
   "metadata": {
    "collapsed": false,
    "pycharm": {
     "name": "#%%\n"
    }
   }
  },
  {
   "cell_type": "code",
   "execution_count": 48,
   "outputs": [
    {
     "name": "stderr",
     "output_type": "stream",
     "text": [
      "[2021-01-28 22:30:47,552 DEBUG] [yahoo_oauth.oauth.__init__] Checking \n",
      "[2021-01-28 22:30:47,553 DEBUG] [yahoo_oauth.oauth.token_is_valid] ELAPSED TIME : 3809.5127120018005\n",
      "[2021-01-28 22:30:47,554 DEBUG] [yahoo_oauth.oauth.token_is_valid] TOKEN HAS EXPIRED\n",
      "[2021-01-28 22:30:47,555 DEBUG] [yahoo_oauth.oauth.refresh_access_token] REFRESHING TOKEN\n"
     ]
    }
   ],
   "source": [
    "# Add/Drop player\n",
    "sc = yahoo_fantasy_api_authentication()\n",
    "league = yahoo_fantasy_league(sc)\n",
    "current_players_9cat_averages, current_team_9cat_averages, new_players_9cat_averages, \\\n",
    "    new_team_9cat_averages = compare_team_9cats_on_transaction(NUNN_OF_YALL_BETTA, \"Will Barton\",\n",
    "                                                           \"James Harden\", visualise=False)"
   ],
   "metadata": {
    "collapsed": false,
    "pycharm": {
     "name": "#%%\n"
    }
   }
  },
  {
   "cell_type": "code",
   "execution_count": 83,
   "outputs": [],
   "source": [
    "def new_league_9cat_averages(league_average_dataframe, team, new_team_9cat_averages):\n",
    "\n",
    "    removed_team_dataframe = league_average_dataframe[~league_average_dataframe[TEAM_COLUMN].str\\\n",
    "        .contains(team[NAME_KEY])]\n",
    "\n",
    "    new_team_9cat_averages[TEAM_COLUMN] = team[NAME_KEY]\n",
    "    added_team_dataframe = removed_team_dataframe.append(new_team_9cat_averages)\n",
    "    added_team_dataframe.reset_index(drop=True, inplace=True)\n",
    "\n",
    "    return added_team_dataframe\n"
   ],
   "metadata": {
    "collapsed": false,
    "pycharm": {
     "name": "#%%\n"
    }
   }
  },
  {
   "cell_type": "code",
   "execution_count": 84,
   "outputs": [
    {
     "data": {
      "text/plain": "                   TEAM FG_PCT FT_PCT  FG3M    PTS   REB   AST   STL   BLK  \\\n0              LaLaLand  0.461  0.761  1.57  16.22  5.88  3.76  0.83  0.55   \n1              Autopick  0.489  0.796  1.62  16.25  5.69  3.29  0.88  0.52   \n2   CrabbeHerByThePussy  0.491  0.816  1.47  14.02  6.13  3.08  0.91  0.94   \n3       Magic's Johnson  0.448  0.796  2.12  16.45  5.75  3.77  1.02  0.52   \n4               McCurry  0.493  0.730  0.87  14.09  6.72  3.56  1.09  0.78   \n5     Russty Cuntbrooks  0.474  0.776  1.62  17.19  5.83  3.05  1.01  0.86   \n6       Wakanda Forever  0.450  0.723  1.78  15.17  5.41  3.16  0.92  0.57   \n7              Swaggy P  0.463  0.742  1.93  14.75  4.95  3.01  0.83  0.60   \n8     yOBItch Toppin Me  0.488  0.784  1.73  15.71  4.79  3.34  1.00  0.52   \n9   Tvon's Tip-Top Team  0.468  0.761  1.35  13.73  5.55  3.23  0.81  0.93   \n10  El Ladrón de Cabras  0.509  0.748  1.61  14.41  5.57  3.10  0.84  0.65   \n11  Nunn of Y'all Betta  0.472  0.839  2.07  16.32  5.22  4.24  1.01   0.4   \n\n     TOV  \n0   2.27  \n1   1.86  \n2   1.59  \n3   1.75  \n4   1.88  \n5   1.97  \n6   1.65  \n7   1.92  \n8   2.06  \n9   1.94  \n10  1.76  \n11  1.84  ",
      "text/html": "<div>\n<style scoped>\n    .dataframe tbody tr th:only-of-type {\n        vertical-align: middle;\n    }\n\n    .dataframe tbody tr th {\n        vertical-align: top;\n    }\n\n    .dataframe thead th {\n        text-align: right;\n    }\n</style>\n<table border=\"1\" class=\"dataframe\">\n  <thead>\n    <tr style=\"text-align: right;\">\n      <th></th>\n      <th>TEAM</th>\n      <th>FG_PCT</th>\n      <th>FT_PCT</th>\n      <th>FG3M</th>\n      <th>PTS</th>\n      <th>REB</th>\n      <th>AST</th>\n      <th>STL</th>\n      <th>BLK</th>\n      <th>TOV</th>\n    </tr>\n  </thead>\n  <tbody>\n    <tr>\n      <th>0</th>\n      <td>LaLaLand</td>\n      <td>0.461</td>\n      <td>0.761</td>\n      <td>1.57</td>\n      <td>16.22</td>\n      <td>5.88</td>\n      <td>3.76</td>\n      <td>0.83</td>\n      <td>0.55</td>\n      <td>2.27</td>\n    </tr>\n    <tr>\n      <th>1</th>\n      <td>Autopick</td>\n      <td>0.489</td>\n      <td>0.796</td>\n      <td>1.62</td>\n      <td>16.25</td>\n      <td>5.69</td>\n      <td>3.29</td>\n      <td>0.88</td>\n      <td>0.52</td>\n      <td>1.86</td>\n    </tr>\n    <tr>\n      <th>2</th>\n      <td>CrabbeHerByThePussy</td>\n      <td>0.491</td>\n      <td>0.816</td>\n      <td>1.47</td>\n      <td>14.02</td>\n      <td>6.13</td>\n      <td>3.08</td>\n      <td>0.91</td>\n      <td>0.94</td>\n      <td>1.59</td>\n    </tr>\n    <tr>\n      <th>3</th>\n      <td>Magic's Johnson</td>\n      <td>0.448</td>\n      <td>0.796</td>\n      <td>2.12</td>\n      <td>16.45</td>\n      <td>5.75</td>\n      <td>3.77</td>\n      <td>1.02</td>\n      <td>0.52</td>\n      <td>1.75</td>\n    </tr>\n    <tr>\n      <th>4</th>\n      <td>McCurry</td>\n      <td>0.493</td>\n      <td>0.730</td>\n      <td>0.87</td>\n      <td>14.09</td>\n      <td>6.72</td>\n      <td>3.56</td>\n      <td>1.09</td>\n      <td>0.78</td>\n      <td>1.88</td>\n    </tr>\n    <tr>\n      <th>5</th>\n      <td>Russty Cuntbrooks</td>\n      <td>0.474</td>\n      <td>0.776</td>\n      <td>1.62</td>\n      <td>17.19</td>\n      <td>5.83</td>\n      <td>3.05</td>\n      <td>1.01</td>\n      <td>0.86</td>\n      <td>1.97</td>\n    </tr>\n    <tr>\n      <th>6</th>\n      <td>Wakanda Forever</td>\n      <td>0.450</td>\n      <td>0.723</td>\n      <td>1.78</td>\n      <td>15.17</td>\n      <td>5.41</td>\n      <td>3.16</td>\n      <td>0.92</td>\n      <td>0.57</td>\n      <td>1.65</td>\n    </tr>\n    <tr>\n      <th>7</th>\n      <td>Swaggy P</td>\n      <td>0.463</td>\n      <td>0.742</td>\n      <td>1.93</td>\n      <td>14.75</td>\n      <td>4.95</td>\n      <td>3.01</td>\n      <td>0.83</td>\n      <td>0.60</td>\n      <td>1.92</td>\n    </tr>\n    <tr>\n      <th>8</th>\n      <td>yOBItch Toppin Me</td>\n      <td>0.488</td>\n      <td>0.784</td>\n      <td>1.73</td>\n      <td>15.71</td>\n      <td>4.79</td>\n      <td>3.34</td>\n      <td>1.00</td>\n      <td>0.52</td>\n      <td>2.06</td>\n    </tr>\n    <tr>\n      <th>9</th>\n      <td>Tvon's Tip-Top Team</td>\n      <td>0.468</td>\n      <td>0.761</td>\n      <td>1.35</td>\n      <td>13.73</td>\n      <td>5.55</td>\n      <td>3.23</td>\n      <td>0.81</td>\n      <td>0.93</td>\n      <td>1.94</td>\n    </tr>\n    <tr>\n      <th>10</th>\n      <td>El Ladrón de Cabras</td>\n      <td>0.509</td>\n      <td>0.748</td>\n      <td>1.61</td>\n      <td>14.41</td>\n      <td>5.57</td>\n      <td>3.10</td>\n      <td>0.84</td>\n      <td>0.65</td>\n      <td>1.76</td>\n    </tr>\n    <tr>\n      <th>11</th>\n      <td>Nunn of Y'all Betta</td>\n      <td>0.472</td>\n      <td>0.839</td>\n      <td>2.07</td>\n      <td>16.32</td>\n      <td>5.22</td>\n      <td>4.24</td>\n      <td>1.01</td>\n      <td>0.4</td>\n      <td>1.84</td>\n    </tr>\n  </tbody>\n</table>\n</div>"
     },
     "execution_count": 84,
     "metadata": {},
     "output_type": "execute_result"
    }
   ],
   "source": [
    "# New league average dataframe\n",
    "new_league_averages_dataframe = new_league_9cat_averages(league_averages_dataframe,\n",
    "                                                      NUNN_OF_YALL_BETTA, new_team_9cat_averages)\n",
    "new_league_averages_dataframe"
   ],
   "metadata": {
    "collapsed": false,
    "pycharm": {
     "name": "#%%\n"
    }
   }
  },
  {
   "cell_type": "code",
   "execution_count": 85,
   "outputs": [],
   "source": [
    "def team_dataframe_column_float(roster_dataframe):\n",
    "\n",
    "    for column in roster_dataframe.columns[1:]:\n",
    "        roster_dataframe[column] = roster_dataframe[column].astype(float)\n",
    "\n",
    "    return roster_dataframe"
   ],
   "metadata": {
    "collapsed": false,
    "pycharm": {
     "name": "#%%\n"
    }
   }
  },
  {
   "cell_type": "code",
   "execution_count": 86,
   "outputs": [
    {
     "data": {
      "text/plain": "                   TEAM  FG_PCT  FT_PCT  FG3M    PTS   REB   AST   STL   BLK  \\\n0              LaLaLand   0.461   0.761  1.57  16.22  5.88  3.76  0.83  0.55   \n1              Autopick   0.489   0.796  1.62  16.25  5.69  3.29  0.88  0.52   \n2   CrabbeHerByThePussy   0.491   0.816  1.47  14.02  6.13  3.08  0.91  0.94   \n3       Magic's Johnson   0.448   0.796  2.12  16.45  5.75  3.77  1.02  0.52   \n4               McCurry   0.493   0.730  0.87  14.09  6.72  3.56  1.09  0.78   \n5     Russty Cuntbrooks   0.474   0.776  1.62  17.19  5.83  3.05  1.01  0.86   \n6       Wakanda Forever   0.450   0.723  1.78  15.17  5.41  3.16  0.92  0.57   \n7              Swaggy P   0.463   0.742  1.93  14.75  4.95  3.01  0.83  0.60   \n8     yOBItch Toppin Me   0.488   0.784  1.73  15.71  4.79  3.34  1.00  0.52   \n9   Tvon's Tip-Top Team   0.468   0.761  1.35  13.73  5.55  3.23  0.81  0.93   \n10  El Ladrón de Cabras   0.509   0.748  1.61  14.41  5.57  3.10  0.84  0.65   \n11  Nunn of Y'all Betta   0.472   0.839  2.07  16.32  5.22  4.24  1.01  0.40   \n\n     TOV  \n0   2.27  \n1   1.86  \n2   1.59  \n3   1.75  \n4   1.88  \n5   1.97  \n6   1.65  \n7   1.92  \n8   2.06  \n9   1.94  \n10  1.76  \n11  1.84  ",
      "text/html": "<div>\n<style scoped>\n    .dataframe tbody tr th:only-of-type {\n        vertical-align: middle;\n    }\n\n    .dataframe tbody tr th {\n        vertical-align: top;\n    }\n\n    .dataframe thead th {\n        text-align: right;\n    }\n</style>\n<table border=\"1\" class=\"dataframe\">\n  <thead>\n    <tr style=\"text-align: right;\">\n      <th></th>\n      <th>TEAM</th>\n      <th>FG_PCT</th>\n      <th>FT_PCT</th>\n      <th>FG3M</th>\n      <th>PTS</th>\n      <th>REB</th>\n      <th>AST</th>\n      <th>STL</th>\n      <th>BLK</th>\n      <th>TOV</th>\n    </tr>\n  </thead>\n  <tbody>\n    <tr>\n      <th>0</th>\n      <td>LaLaLand</td>\n      <td>0.461</td>\n      <td>0.761</td>\n      <td>1.57</td>\n      <td>16.22</td>\n      <td>5.88</td>\n      <td>3.76</td>\n      <td>0.83</td>\n      <td>0.55</td>\n      <td>2.27</td>\n    </tr>\n    <tr>\n      <th>1</th>\n      <td>Autopick</td>\n      <td>0.489</td>\n      <td>0.796</td>\n      <td>1.62</td>\n      <td>16.25</td>\n      <td>5.69</td>\n      <td>3.29</td>\n      <td>0.88</td>\n      <td>0.52</td>\n      <td>1.86</td>\n    </tr>\n    <tr>\n      <th>2</th>\n      <td>CrabbeHerByThePussy</td>\n      <td>0.491</td>\n      <td>0.816</td>\n      <td>1.47</td>\n      <td>14.02</td>\n      <td>6.13</td>\n      <td>3.08</td>\n      <td>0.91</td>\n      <td>0.94</td>\n      <td>1.59</td>\n    </tr>\n    <tr>\n      <th>3</th>\n      <td>Magic's Johnson</td>\n      <td>0.448</td>\n      <td>0.796</td>\n      <td>2.12</td>\n      <td>16.45</td>\n      <td>5.75</td>\n      <td>3.77</td>\n      <td>1.02</td>\n      <td>0.52</td>\n      <td>1.75</td>\n    </tr>\n    <tr>\n      <th>4</th>\n      <td>McCurry</td>\n      <td>0.493</td>\n      <td>0.730</td>\n      <td>0.87</td>\n      <td>14.09</td>\n      <td>6.72</td>\n      <td>3.56</td>\n      <td>1.09</td>\n      <td>0.78</td>\n      <td>1.88</td>\n    </tr>\n    <tr>\n      <th>5</th>\n      <td>Russty Cuntbrooks</td>\n      <td>0.474</td>\n      <td>0.776</td>\n      <td>1.62</td>\n      <td>17.19</td>\n      <td>5.83</td>\n      <td>3.05</td>\n      <td>1.01</td>\n      <td>0.86</td>\n      <td>1.97</td>\n    </tr>\n    <tr>\n      <th>6</th>\n      <td>Wakanda Forever</td>\n      <td>0.450</td>\n      <td>0.723</td>\n      <td>1.78</td>\n      <td>15.17</td>\n      <td>5.41</td>\n      <td>3.16</td>\n      <td>0.92</td>\n      <td>0.57</td>\n      <td>1.65</td>\n    </tr>\n    <tr>\n      <th>7</th>\n      <td>Swaggy P</td>\n      <td>0.463</td>\n      <td>0.742</td>\n      <td>1.93</td>\n      <td>14.75</td>\n      <td>4.95</td>\n      <td>3.01</td>\n      <td>0.83</td>\n      <td>0.60</td>\n      <td>1.92</td>\n    </tr>\n    <tr>\n      <th>8</th>\n      <td>yOBItch Toppin Me</td>\n      <td>0.488</td>\n      <td>0.784</td>\n      <td>1.73</td>\n      <td>15.71</td>\n      <td>4.79</td>\n      <td>3.34</td>\n      <td>1.00</td>\n      <td>0.52</td>\n      <td>2.06</td>\n    </tr>\n    <tr>\n      <th>9</th>\n      <td>Tvon's Tip-Top Team</td>\n      <td>0.468</td>\n      <td>0.761</td>\n      <td>1.35</td>\n      <td>13.73</td>\n      <td>5.55</td>\n      <td>3.23</td>\n      <td>0.81</td>\n      <td>0.93</td>\n      <td>1.94</td>\n    </tr>\n    <tr>\n      <th>10</th>\n      <td>El Ladrón de Cabras</td>\n      <td>0.509</td>\n      <td>0.748</td>\n      <td>1.61</td>\n      <td>14.41</td>\n      <td>5.57</td>\n      <td>3.10</td>\n      <td>0.84</td>\n      <td>0.65</td>\n      <td>1.76</td>\n    </tr>\n    <tr>\n      <th>11</th>\n      <td>Nunn of Y'all Betta</td>\n      <td>0.472</td>\n      <td>0.839</td>\n      <td>2.07</td>\n      <td>16.32</td>\n      <td>5.22</td>\n      <td>4.24</td>\n      <td>1.01</td>\n      <td>0.40</td>\n      <td>1.84</td>\n    </tr>\n  </tbody>\n</table>\n</div>"
     },
     "execution_count": 86,
     "metadata": {},
     "output_type": "execute_result"
    }
   ],
   "source": [
    "# Convert columns to float\n",
    "new_league_averages_dataframe = team_dataframe_column_float(new_league_averages_dataframe)\n",
    "new_league_averages_dataframe"
   ],
   "metadata": {
    "collapsed": false,
    "pycharm": {
     "name": "#%%\n"
    }
   }
  },
  {
   "cell_type": "code",
   "execution_count": 87,
   "outputs": [
    {
     "data": {
      "text/plain": "                   TEAM  FG_PCT_RANK  FT_PCT_RANK  FG3M_RANK  PTS_RANK  \\\n1              Autopick            4            3          6         4   \n2   CrabbeHerByThePussy            3            2          9        11   \n10  El Ladrón de Cabras            1            7          7         9   \n0              LaLaLand           10            6          8         5   \n3       Magic's Johnson           12            3          1         2   \n4               McCurry            2            9         11        10   \n11  Nunn of Y'all Betta            7            1          2         3   \n5     Russty Cuntbrooks            6            5          6         1   \n7              Swaggy P            9            8          3         8   \n9   Tvon's Tip-Top Team            8            6         10        12   \n6       Wakanda Forever           11           10          4         7   \n8     yOBItch Toppin Me            5            4          5         6   \n\n    REB_RANK  AST_RANK  STL_RANK  BLK_RANK  TOV_RANK  \n1          6         6         7         9         7  \n2          2        10         6         1        12  \n10         7         9         8         5         9  \n0          3         3         9         8         1  \n3          5         2         2         9        10  \n4          1         4         1         4         6  \n11        10         1         3        10         8  \n5          4        11         3         3         3  \n7         11        12         9         6         5  \n9          8         7        10         2         4  \n6          9         8         5         7        11  \n8         12         5         4         9         2  ",
      "text/html": "<div>\n<style scoped>\n    .dataframe tbody tr th:only-of-type {\n        vertical-align: middle;\n    }\n\n    .dataframe tbody tr th {\n        vertical-align: top;\n    }\n\n    .dataframe thead th {\n        text-align: right;\n    }\n</style>\n<table border=\"1\" class=\"dataframe\">\n  <thead>\n    <tr style=\"text-align: right;\">\n      <th></th>\n      <th>TEAM</th>\n      <th>FG_PCT_RANK</th>\n      <th>FT_PCT_RANK</th>\n      <th>FG3M_RANK</th>\n      <th>PTS_RANK</th>\n      <th>REB_RANK</th>\n      <th>AST_RANK</th>\n      <th>STL_RANK</th>\n      <th>BLK_RANK</th>\n      <th>TOV_RANK</th>\n    </tr>\n  </thead>\n  <tbody>\n    <tr>\n      <th>1</th>\n      <td>Autopick</td>\n      <td>4</td>\n      <td>3</td>\n      <td>6</td>\n      <td>4</td>\n      <td>6</td>\n      <td>6</td>\n      <td>7</td>\n      <td>9</td>\n      <td>7</td>\n    </tr>\n    <tr>\n      <th>2</th>\n      <td>CrabbeHerByThePussy</td>\n      <td>3</td>\n      <td>2</td>\n      <td>9</td>\n      <td>11</td>\n      <td>2</td>\n      <td>10</td>\n      <td>6</td>\n      <td>1</td>\n      <td>12</td>\n    </tr>\n    <tr>\n      <th>10</th>\n      <td>El Ladrón de Cabras</td>\n      <td>1</td>\n      <td>7</td>\n      <td>7</td>\n      <td>9</td>\n      <td>7</td>\n      <td>9</td>\n      <td>8</td>\n      <td>5</td>\n      <td>9</td>\n    </tr>\n    <tr>\n      <th>0</th>\n      <td>LaLaLand</td>\n      <td>10</td>\n      <td>6</td>\n      <td>8</td>\n      <td>5</td>\n      <td>3</td>\n      <td>3</td>\n      <td>9</td>\n      <td>8</td>\n      <td>1</td>\n    </tr>\n    <tr>\n      <th>3</th>\n      <td>Magic's Johnson</td>\n      <td>12</td>\n      <td>3</td>\n      <td>1</td>\n      <td>2</td>\n      <td>5</td>\n      <td>2</td>\n      <td>2</td>\n      <td>9</td>\n      <td>10</td>\n    </tr>\n    <tr>\n      <th>4</th>\n      <td>McCurry</td>\n      <td>2</td>\n      <td>9</td>\n      <td>11</td>\n      <td>10</td>\n      <td>1</td>\n      <td>4</td>\n      <td>1</td>\n      <td>4</td>\n      <td>6</td>\n    </tr>\n    <tr>\n      <th>11</th>\n      <td>Nunn of Y'all Betta</td>\n      <td>7</td>\n      <td>1</td>\n      <td>2</td>\n      <td>3</td>\n      <td>10</td>\n      <td>1</td>\n      <td>3</td>\n      <td>10</td>\n      <td>8</td>\n    </tr>\n    <tr>\n      <th>5</th>\n      <td>Russty Cuntbrooks</td>\n      <td>6</td>\n      <td>5</td>\n      <td>6</td>\n      <td>1</td>\n      <td>4</td>\n      <td>11</td>\n      <td>3</td>\n      <td>3</td>\n      <td>3</td>\n    </tr>\n    <tr>\n      <th>7</th>\n      <td>Swaggy P</td>\n      <td>9</td>\n      <td>8</td>\n      <td>3</td>\n      <td>8</td>\n      <td>11</td>\n      <td>12</td>\n      <td>9</td>\n      <td>6</td>\n      <td>5</td>\n    </tr>\n    <tr>\n      <th>9</th>\n      <td>Tvon's Tip-Top Team</td>\n      <td>8</td>\n      <td>6</td>\n      <td>10</td>\n      <td>12</td>\n      <td>8</td>\n      <td>7</td>\n      <td>10</td>\n      <td>2</td>\n      <td>4</td>\n    </tr>\n    <tr>\n      <th>6</th>\n      <td>Wakanda Forever</td>\n      <td>11</td>\n      <td>10</td>\n      <td>4</td>\n      <td>7</td>\n      <td>9</td>\n      <td>8</td>\n      <td>5</td>\n      <td>7</td>\n      <td>11</td>\n    </tr>\n    <tr>\n      <th>8</th>\n      <td>yOBItch Toppin Me</td>\n      <td>5</td>\n      <td>4</td>\n      <td>5</td>\n      <td>6</td>\n      <td>12</td>\n      <td>5</td>\n      <td>4</td>\n      <td>9</td>\n      <td>2</td>\n    </tr>\n  </tbody>\n</table>\n</div>"
     },
     "execution_count": 87,
     "metadata": {},
     "output_type": "execute_result"
    }
   ],
   "source": [
    "# Power rankings\n",
    "new_league_power_rankings = power_rankings(new_league_averages_dataframe).sort_values(TEAM_COLUMN)\n",
    "new_league_power_rankings"
   ],
   "metadata": {
    "collapsed": false,
    "pycharm": {
     "name": "#%%\n"
    }
   }
  },
  {
   "cell_type": "code",
   "execution_count": 88,
   "outputs": [
    {
     "data": {
      "text/plain": "                   TEAM  FG_PCT_RANK  FT_PCT_RANK  FG3M_RANK  PTS_RANK  \\\n1              Autopick            4            3          6         3   \n2   CrabbeHerByThePussy            3            2          9        11   \n11  El Ladrón de Cabras            1            7          7         9   \n0              LaLaLand           10            6          8         4   \n3       Magic's Johnson           12            3          1         2   \n4               McCurry            2            9         11        10   \n5   Nunn of Y'all Betta            7            1          2         6   \n6     Russty Cuntbrooks            6            5          6         1   \n8              Swaggy P            9            8          3         8   \n10  Tvon's Tip-Top Team            8            6         10        12   \n7       Wakanda Forever           11           10          4         7   \n9     yOBItch Toppin Me            5            4          5         5   \n\n    REB_RANK  AST_RANK  STL_RANK  BLK_RANK  TOV_RANK  \n1          6         6         7         9         7  \n2          2        10         6         1        12  \n11         7         9         8         5         8  \n0          3         2         9         8         1  \n3          5         1         2         9         9  \n4          1         4         1         4         6  \n5         10         3         4        10        11  \n6          4        11         3         3         3  \n8         11        12         9         6         5  \n10         8         7        10         2         4  \n7          9         8         5         7        10  \n9         12         5         4         9         2  ",
      "text/html": "<div>\n<style scoped>\n    .dataframe tbody tr th:only-of-type {\n        vertical-align: middle;\n    }\n\n    .dataframe tbody tr th {\n        vertical-align: top;\n    }\n\n    .dataframe thead th {\n        text-align: right;\n    }\n</style>\n<table border=\"1\" class=\"dataframe\">\n  <thead>\n    <tr style=\"text-align: right;\">\n      <th></th>\n      <th>TEAM</th>\n      <th>FG_PCT_RANK</th>\n      <th>FT_PCT_RANK</th>\n      <th>FG3M_RANK</th>\n      <th>PTS_RANK</th>\n      <th>REB_RANK</th>\n      <th>AST_RANK</th>\n      <th>STL_RANK</th>\n      <th>BLK_RANK</th>\n      <th>TOV_RANK</th>\n    </tr>\n  </thead>\n  <tbody>\n    <tr>\n      <th>1</th>\n      <td>Autopick</td>\n      <td>4</td>\n      <td>3</td>\n      <td>6</td>\n      <td>3</td>\n      <td>6</td>\n      <td>6</td>\n      <td>7</td>\n      <td>9</td>\n      <td>7</td>\n    </tr>\n    <tr>\n      <th>2</th>\n      <td>CrabbeHerByThePussy</td>\n      <td>3</td>\n      <td>2</td>\n      <td>9</td>\n      <td>11</td>\n      <td>2</td>\n      <td>10</td>\n      <td>6</td>\n      <td>1</td>\n      <td>12</td>\n    </tr>\n    <tr>\n      <th>11</th>\n      <td>El Ladrón de Cabras</td>\n      <td>1</td>\n      <td>7</td>\n      <td>7</td>\n      <td>9</td>\n      <td>7</td>\n      <td>9</td>\n      <td>8</td>\n      <td>5</td>\n      <td>8</td>\n    </tr>\n    <tr>\n      <th>0</th>\n      <td>LaLaLand</td>\n      <td>10</td>\n      <td>6</td>\n      <td>8</td>\n      <td>4</td>\n      <td>3</td>\n      <td>2</td>\n      <td>9</td>\n      <td>8</td>\n      <td>1</td>\n    </tr>\n    <tr>\n      <th>3</th>\n      <td>Magic's Johnson</td>\n      <td>12</td>\n      <td>3</td>\n      <td>1</td>\n      <td>2</td>\n      <td>5</td>\n      <td>1</td>\n      <td>2</td>\n      <td>9</td>\n      <td>9</td>\n    </tr>\n    <tr>\n      <th>4</th>\n      <td>McCurry</td>\n      <td>2</td>\n      <td>9</td>\n      <td>11</td>\n      <td>10</td>\n      <td>1</td>\n      <td>4</td>\n      <td>1</td>\n      <td>4</td>\n      <td>6</td>\n    </tr>\n    <tr>\n      <th>5</th>\n      <td>Nunn of Y'all Betta</td>\n      <td>7</td>\n      <td>1</td>\n      <td>2</td>\n      <td>6</td>\n      <td>10</td>\n      <td>3</td>\n      <td>4</td>\n      <td>10</td>\n      <td>11</td>\n    </tr>\n    <tr>\n      <th>6</th>\n      <td>Russty Cuntbrooks</td>\n      <td>6</td>\n      <td>5</td>\n      <td>6</td>\n      <td>1</td>\n      <td>4</td>\n      <td>11</td>\n      <td>3</td>\n      <td>3</td>\n      <td>3</td>\n    </tr>\n    <tr>\n      <th>8</th>\n      <td>Swaggy P</td>\n      <td>9</td>\n      <td>8</td>\n      <td>3</td>\n      <td>8</td>\n      <td>11</td>\n      <td>12</td>\n      <td>9</td>\n      <td>6</td>\n      <td>5</td>\n    </tr>\n    <tr>\n      <th>10</th>\n      <td>Tvon's Tip-Top Team</td>\n      <td>8</td>\n      <td>6</td>\n      <td>10</td>\n      <td>12</td>\n      <td>8</td>\n      <td>7</td>\n      <td>10</td>\n      <td>2</td>\n      <td>4</td>\n    </tr>\n    <tr>\n      <th>7</th>\n      <td>Wakanda Forever</td>\n      <td>11</td>\n      <td>10</td>\n      <td>4</td>\n      <td>7</td>\n      <td>9</td>\n      <td>8</td>\n      <td>5</td>\n      <td>7</td>\n      <td>10</td>\n    </tr>\n    <tr>\n      <th>9</th>\n      <td>yOBItch Toppin Me</td>\n      <td>5</td>\n      <td>4</td>\n      <td>5</td>\n      <td>5</td>\n      <td>12</td>\n      <td>5</td>\n      <td>4</td>\n      <td>9</td>\n      <td>2</td>\n    </tr>\n  </tbody>\n</table>\n</div>"
     },
     "execution_count": 88,
     "metadata": {},
     "output_type": "execute_result"
    }
   ],
   "source": [
    "# Get current rankings\n",
    "current_league_power_rankings = power_rankings(league_averages_dataframe).sort_values(TEAM_COLUMN)\n",
    "current_league_power_rankings\n"
   ],
   "metadata": {
    "collapsed": false,
    "pycharm": {
     "name": "#%%\n"
    }
   }
  },
  {
   "cell_type": "code",
   "execution_count": 91,
   "outputs": [
    {
     "data": {
      "text/plain": "    FG_PCT_RANK  FT_PCT_RANK  FG3M_RANK  PTS_RANK  REB_RANK  AST_RANK  \\\n0             4            3          6         4         6         6   \n1             3            2          9        11         2        10   \n2             1            7          7         9         7         9   \n3            10            6          8         5         3         3   \n4            12            3          1         2         5         2   \n5             2            9         11        10         1         4   \n6             7            1          2         3        10         1   \n7             6            5          6         1         4        11   \n8             9            8          3         8        11        12   \n9             8            6         10        12         8         7   \n10           11           10          4         7         9         8   \n11            5            4          5         6        12         5   \n\n    STL_RANK  BLK_RANK  TOV_RANK  \n0          7         9         7  \n1          6         1        12  \n2          8         5         9  \n3          9         8         1  \n4          2         9        10  \n5          1         4         6  \n6          3        10         8  \n7          3         3         3  \n8          9         6         5  \n9         10         2         4  \n10         5         7        11  \n11         4         9         2  ",
      "text/html": "<div>\n<style scoped>\n    .dataframe tbody tr th:only-of-type {\n        vertical-align: middle;\n    }\n\n    .dataframe tbody tr th {\n        vertical-align: top;\n    }\n\n    .dataframe thead th {\n        text-align: right;\n    }\n</style>\n<table border=\"1\" class=\"dataframe\">\n  <thead>\n    <tr style=\"text-align: right;\">\n      <th></th>\n      <th>FG_PCT_RANK</th>\n      <th>FT_PCT_RANK</th>\n      <th>FG3M_RANK</th>\n      <th>PTS_RANK</th>\n      <th>REB_RANK</th>\n      <th>AST_RANK</th>\n      <th>STL_RANK</th>\n      <th>BLK_RANK</th>\n      <th>TOV_RANK</th>\n    </tr>\n  </thead>\n  <tbody>\n    <tr>\n      <th>0</th>\n      <td>4</td>\n      <td>3</td>\n      <td>6</td>\n      <td>4</td>\n      <td>6</td>\n      <td>6</td>\n      <td>7</td>\n      <td>9</td>\n      <td>7</td>\n    </tr>\n    <tr>\n      <th>1</th>\n      <td>3</td>\n      <td>2</td>\n      <td>9</td>\n      <td>11</td>\n      <td>2</td>\n      <td>10</td>\n      <td>6</td>\n      <td>1</td>\n      <td>12</td>\n    </tr>\n    <tr>\n      <th>2</th>\n      <td>1</td>\n      <td>7</td>\n      <td>7</td>\n      <td>9</td>\n      <td>7</td>\n      <td>9</td>\n      <td>8</td>\n      <td>5</td>\n      <td>9</td>\n    </tr>\n    <tr>\n      <th>3</th>\n      <td>10</td>\n      <td>6</td>\n      <td>8</td>\n      <td>5</td>\n      <td>3</td>\n      <td>3</td>\n      <td>9</td>\n      <td>8</td>\n      <td>1</td>\n    </tr>\n    <tr>\n      <th>4</th>\n      <td>12</td>\n      <td>3</td>\n      <td>1</td>\n      <td>2</td>\n      <td>5</td>\n      <td>2</td>\n      <td>2</td>\n      <td>9</td>\n      <td>10</td>\n    </tr>\n    <tr>\n      <th>5</th>\n      <td>2</td>\n      <td>9</td>\n      <td>11</td>\n      <td>10</td>\n      <td>1</td>\n      <td>4</td>\n      <td>1</td>\n      <td>4</td>\n      <td>6</td>\n    </tr>\n    <tr>\n      <th>6</th>\n      <td>7</td>\n      <td>1</td>\n      <td>2</td>\n      <td>3</td>\n      <td>10</td>\n      <td>1</td>\n      <td>3</td>\n      <td>10</td>\n      <td>8</td>\n    </tr>\n    <tr>\n      <th>7</th>\n      <td>6</td>\n      <td>5</td>\n      <td>6</td>\n      <td>1</td>\n      <td>4</td>\n      <td>11</td>\n      <td>3</td>\n      <td>3</td>\n      <td>3</td>\n    </tr>\n    <tr>\n      <th>8</th>\n      <td>9</td>\n      <td>8</td>\n      <td>3</td>\n      <td>8</td>\n      <td>11</td>\n      <td>12</td>\n      <td>9</td>\n      <td>6</td>\n      <td>5</td>\n    </tr>\n    <tr>\n      <th>9</th>\n      <td>8</td>\n      <td>6</td>\n      <td>10</td>\n      <td>12</td>\n      <td>8</td>\n      <td>7</td>\n      <td>10</td>\n      <td>2</td>\n      <td>4</td>\n    </tr>\n    <tr>\n      <th>10</th>\n      <td>11</td>\n      <td>10</td>\n      <td>4</td>\n      <td>7</td>\n      <td>9</td>\n      <td>8</td>\n      <td>5</td>\n      <td>7</td>\n      <td>11</td>\n    </tr>\n    <tr>\n      <th>11</th>\n      <td>5</td>\n      <td>4</td>\n      <td>5</td>\n      <td>6</td>\n      <td>12</td>\n      <td>5</td>\n      <td>4</td>\n      <td>9</td>\n      <td>2</td>\n    </tr>\n  </tbody>\n</table>\n</div>"
     },
     "execution_count": 91,
     "metadata": {},
     "output_type": "execute_result"
    }
   ],
   "source": [
    "# Drop Team column\n",
    "new_league_power_rankings = new_league_power_rankings.reset_index(drop=True)\n",
    "new_league_power_rankings = new_league_power_rankings.drop(TEAM_COLUMN, axis=1)\n",
    "# current_league_power_rankings.reset_index(drop=True).drop(TEAM_COLUMN, inplace=True, axis=1)\n",
    "new_league_power_rankings"
   ],
   "metadata": {
    "collapsed": false,
    "pycharm": {
     "name": "#%%\n"
    }
   }
  },
  {
   "cell_type": "code",
   "execution_count": 92,
   "outputs": [
    {
     "data": {
      "text/plain": "    FG_PCT_RANK  FT_PCT_RANK  FG3M_RANK  PTS_RANK  REB_RANK  AST_RANK  \\\n0             4            3          6         3         6         6   \n1             3            2          9        11         2        10   \n2             1            7          7         9         7         9   \n3            10            6          8         4         3         2   \n4            12            3          1         2         5         1   \n5             2            9         11        10         1         4   \n6             7            1          2         6        10         3   \n7             6            5          6         1         4        11   \n8             9            8          3         8        11        12   \n9             8            6         10        12         8         7   \n10           11           10          4         7         9         8   \n11            5            4          5         5        12         5   \n\n    STL_RANK  BLK_RANK  TOV_RANK  \n0          7         9         7  \n1          6         1        12  \n2          8         5         8  \n3          9         8         1  \n4          2         9         9  \n5          1         4         6  \n6          4        10        11  \n7          3         3         3  \n8          9         6         5  \n9         10         2         4  \n10         5         7        10  \n11         4         9         2  ",
      "text/html": "<div>\n<style scoped>\n    .dataframe tbody tr th:only-of-type {\n        vertical-align: middle;\n    }\n\n    .dataframe tbody tr th {\n        vertical-align: top;\n    }\n\n    .dataframe thead th {\n        text-align: right;\n    }\n</style>\n<table border=\"1\" class=\"dataframe\">\n  <thead>\n    <tr style=\"text-align: right;\">\n      <th></th>\n      <th>FG_PCT_RANK</th>\n      <th>FT_PCT_RANK</th>\n      <th>FG3M_RANK</th>\n      <th>PTS_RANK</th>\n      <th>REB_RANK</th>\n      <th>AST_RANK</th>\n      <th>STL_RANK</th>\n      <th>BLK_RANK</th>\n      <th>TOV_RANK</th>\n    </tr>\n  </thead>\n  <tbody>\n    <tr>\n      <th>0</th>\n      <td>4</td>\n      <td>3</td>\n      <td>6</td>\n      <td>3</td>\n      <td>6</td>\n      <td>6</td>\n      <td>7</td>\n      <td>9</td>\n      <td>7</td>\n    </tr>\n    <tr>\n      <th>1</th>\n      <td>3</td>\n      <td>2</td>\n      <td>9</td>\n      <td>11</td>\n      <td>2</td>\n      <td>10</td>\n      <td>6</td>\n      <td>1</td>\n      <td>12</td>\n    </tr>\n    <tr>\n      <th>2</th>\n      <td>1</td>\n      <td>7</td>\n      <td>7</td>\n      <td>9</td>\n      <td>7</td>\n      <td>9</td>\n      <td>8</td>\n      <td>5</td>\n      <td>8</td>\n    </tr>\n    <tr>\n      <th>3</th>\n      <td>10</td>\n      <td>6</td>\n      <td>8</td>\n      <td>4</td>\n      <td>3</td>\n      <td>2</td>\n      <td>9</td>\n      <td>8</td>\n      <td>1</td>\n    </tr>\n    <tr>\n      <th>4</th>\n      <td>12</td>\n      <td>3</td>\n      <td>1</td>\n      <td>2</td>\n      <td>5</td>\n      <td>1</td>\n      <td>2</td>\n      <td>9</td>\n      <td>9</td>\n    </tr>\n    <tr>\n      <th>5</th>\n      <td>2</td>\n      <td>9</td>\n      <td>11</td>\n      <td>10</td>\n      <td>1</td>\n      <td>4</td>\n      <td>1</td>\n      <td>4</td>\n      <td>6</td>\n    </tr>\n    <tr>\n      <th>6</th>\n      <td>7</td>\n      <td>1</td>\n      <td>2</td>\n      <td>6</td>\n      <td>10</td>\n      <td>3</td>\n      <td>4</td>\n      <td>10</td>\n      <td>11</td>\n    </tr>\n    <tr>\n      <th>7</th>\n      <td>6</td>\n      <td>5</td>\n      <td>6</td>\n      <td>1</td>\n      <td>4</td>\n      <td>11</td>\n      <td>3</td>\n      <td>3</td>\n      <td>3</td>\n    </tr>\n    <tr>\n      <th>8</th>\n      <td>9</td>\n      <td>8</td>\n      <td>3</td>\n      <td>8</td>\n      <td>11</td>\n      <td>12</td>\n      <td>9</td>\n      <td>6</td>\n      <td>5</td>\n    </tr>\n    <tr>\n      <th>9</th>\n      <td>8</td>\n      <td>6</td>\n      <td>10</td>\n      <td>12</td>\n      <td>8</td>\n      <td>7</td>\n      <td>10</td>\n      <td>2</td>\n      <td>4</td>\n    </tr>\n    <tr>\n      <th>10</th>\n      <td>11</td>\n      <td>10</td>\n      <td>4</td>\n      <td>7</td>\n      <td>9</td>\n      <td>8</td>\n      <td>5</td>\n      <td>7</td>\n      <td>10</td>\n    </tr>\n    <tr>\n      <th>11</th>\n      <td>5</td>\n      <td>4</td>\n      <td>5</td>\n      <td>5</td>\n      <td>12</td>\n      <td>5</td>\n      <td>4</td>\n      <td>9</td>\n      <td>2</td>\n    </tr>\n  </tbody>\n</table>\n</div>"
     },
     "execution_count": 92,
     "metadata": {},
     "output_type": "execute_result"
    }
   ],
   "source": [
    "current_league_power_rankings = current_league_power_rankings.reset_index(drop=True)\n",
    "current_league_power_rankings = current_league_power_rankings.drop(TEAM_COLUMN, axis=1)\n",
    "# current_league_power_rankings.reset_index(drop=True).drop(TEAM_COLUMN, inplace=True, axis=1)\n",
    "current_league_power_rankings"
   ],
   "metadata": {
    "collapsed": false,
    "pycharm": {
     "name": "#%%\n"
    }
   }
  },
  {
   "cell_type": "code",
   "execution_count": 93,
   "outputs": [
    {
     "data": {
      "text/plain": "    FG_PCT_RANK  FT_PCT_RANK  FG3M_RANK  PTS_RANK  REB_RANK  AST_RANK  \\\n0             0            0          0         1         0         0   \n1             0            0          0         0         0         0   \n2             0            0          0         0         0         0   \n3             0            0          0         1         0         1   \n4             0            0          0         0         0         1   \n5             0            0          0         0         0         0   \n6             0            0          0        -3         0        -2   \n7             0            0          0         0         0         0   \n8             0            0          0         0         0         0   \n9             0            0          0         0         0         0   \n10            0            0          0         0         0         0   \n11            0            0          0         1         0         0   \n\n    STL_RANK  BLK_RANK  TOV_RANK  \n0          0         0         0  \n1          0         0         0  \n2          0         0         1  \n3          0         0         0  \n4          0         0         1  \n5          0         0         0  \n6         -1         0        -3  \n7          0         0         0  \n8          0         0         0  \n9          0         0         0  \n10         0         0         1  \n11         0         0         0  ",
      "text/html": "<div>\n<style scoped>\n    .dataframe tbody tr th:only-of-type {\n        vertical-align: middle;\n    }\n\n    .dataframe tbody tr th {\n        vertical-align: top;\n    }\n\n    .dataframe thead th {\n        text-align: right;\n    }\n</style>\n<table border=\"1\" class=\"dataframe\">\n  <thead>\n    <tr style=\"text-align: right;\">\n      <th></th>\n      <th>FG_PCT_RANK</th>\n      <th>FT_PCT_RANK</th>\n      <th>FG3M_RANK</th>\n      <th>PTS_RANK</th>\n      <th>REB_RANK</th>\n      <th>AST_RANK</th>\n      <th>STL_RANK</th>\n      <th>BLK_RANK</th>\n      <th>TOV_RANK</th>\n    </tr>\n  </thead>\n  <tbody>\n    <tr>\n      <th>0</th>\n      <td>0</td>\n      <td>0</td>\n      <td>0</td>\n      <td>1</td>\n      <td>0</td>\n      <td>0</td>\n      <td>0</td>\n      <td>0</td>\n      <td>0</td>\n    </tr>\n    <tr>\n      <th>1</th>\n      <td>0</td>\n      <td>0</td>\n      <td>0</td>\n      <td>0</td>\n      <td>0</td>\n      <td>0</td>\n      <td>0</td>\n      <td>0</td>\n      <td>0</td>\n    </tr>\n    <tr>\n      <th>2</th>\n      <td>0</td>\n      <td>0</td>\n      <td>0</td>\n      <td>0</td>\n      <td>0</td>\n      <td>0</td>\n      <td>0</td>\n      <td>0</td>\n      <td>1</td>\n    </tr>\n    <tr>\n      <th>3</th>\n      <td>0</td>\n      <td>0</td>\n      <td>0</td>\n      <td>1</td>\n      <td>0</td>\n      <td>1</td>\n      <td>0</td>\n      <td>0</td>\n      <td>0</td>\n    </tr>\n    <tr>\n      <th>4</th>\n      <td>0</td>\n      <td>0</td>\n      <td>0</td>\n      <td>0</td>\n      <td>0</td>\n      <td>1</td>\n      <td>0</td>\n      <td>0</td>\n      <td>1</td>\n    </tr>\n    <tr>\n      <th>5</th>\n      <td>0</td>\n      <td>0</td>\n      <td>0</td>\n      <td>0</td>\n      <td>0</td>\n      <td>0</td>\n      <td>0</td>\n      <td>0</td>\n      <td>0</td>\n    </tr>\n    <tr>\n      <th>6</th>\n      <td>0</td>\n      <td>0</td>\n      <td>0</td>\n      <td>-3</td>\n      <td>0</td>\n      <td>-2</td>\n      <td>-1</td>\n      <td>0</td>\n      <td>-3</td>\n    </tr>\n    <tr>\n      <th>7</th>\n      <td>0</td>\n      <td>0</td>\n      <td>0</td>\n      <td>0</td>\n      <td>0</td>\n      <td>0</td>\n      <td>0</td>\n      <td>0</td>\n      <td>0</td>\n    </tr>\n    <tr>\n      <th>8</th>\n      <td>0</td>\n      <td>0</td>\n      <td>0</td>\n      <td>0</td>\n      <td>0</td>\n      <td>0</td>\n      <td>0</td>\n      <td>0</td>\n      <td>0</td>\n    </tr>\n    <tr>\n      <th>9</th>\n      <td>0</td>\n      <td>0</td>\n      <td>0</td>\n      <td>0</td>\n      <td>0</td>\n      <td>0</td>\n      <td>0</td>\n      <td>0</td>\n      <td>0</td>\n    </tr>\n    <tr>\n      <th>10</th>\n      <td>0</td>\n      <td>0</td>\n      <td>0</td>\n      <td>0</td>\n      <td>0</td>\n      <td>0</td>\n      <td>0</td>\n      <td>0</td>\n      <td>1</td>\n    </tr>\n    <tr>\n      <th>11</th>\n      <td>0</td>\n      <td>0</td>\n      <td>0</td>\n      <td>1</td>\n      <td>0</td>\n      <td>0</td>\n      <td>0</td>\n      <td>0</td>\n      <td>0</td>\n    </tr>\n  </tbody>\n</table>\n</div>"
     },
     "execution_count": 93,
     "metadata": {},
     "output_type": "execute_result"
    }
   ],
   "source": [
    "# Difference\n",
    "power_rankings_difference = new_league_power_rankings.subtract(current_league_power_rankings)\n",
    "power_rankings_difference"
   ],
   "metadata": {
    "collapsed": false,
    "pycharm": {
     "name": "#%%\n"
    }
   }
  },
  {
   "cell_type": "code",
   "execution_count": 94,
   "outputs": [
    {
     "data": {
      "text/plain": "['Autopick',\n 'CrabbeHerByThePussy',\n 'El Ladrón de Cabras',\n 'LaLaLand',\n \"Magic's Johnson\",\n 'McCurry',\n \"Nunn of Y'all Betta\",\n 'Russty Cuntbrooks',\n 'Swaggy P',\n \"Tvon's Tip-Top Team\",\n 'Wakanda Forever',\n 'yOBItch Toppin Me']"
     },
     "execution_count": 94,
     "metadata": {},
     "output_type": "execute_result"
    }
   ],
   "source": [
    "teams = list(league_averages_dataframe.sort_values(TEAM_COLUMN)[TEAM_COLUMN])\n",
    "teams\n"
   ],
   "metadata": {
    "collapsed": false,
    "pycharm": {
     "name": "#%%\n"
    }
   }
  },
  {
   "cell_type": "code",
   "execution_count": 95,
   "outputs": [
    {
     "data": {
      "text/plain": "    FG_PCT_RANK  FT_PCT_RANK  FG3M_RANK  PTS_RANK  REB_RANK  AST_RANK  \\\n0             0            0          0         1         0         0   \n1             0            0          0         0         0         0   \n2             0            0          0         0         0         0   \n3             0            0          0         1         0         1   \n4             0            0          0         0         0         1   \n5             0            0          0         0         0         0   \n6             0            0          0        -3         0        -2   \n7             0            0          0         0         0         0   \n8             0            0          0         0         0         0   \n9             0            0          0         0         0         0   \n10            0            0          0         0         0         0   \n11            0            0          0         1         0         0   \n\n    STL_RANK  BLK_RANK  TOV_RANK                 TEAM  \n0          0         0         0             Autopick  \n1          0         0         0  CrabbeHerByThePussy  \n2          0         0         1  El Ladrón de Cabras  \n3          0         0         0             LaLaLand  \n4          0         0         1      Magic's Johnson  \n5          0         0         0              McCurry  \n6         -1         0        -3  Nunn of Y'all Betta  \n7          0         0         0    Russty Cuntbrooks  \n8          0         0         0             Swaggy P  \n9          0         0         0  Tvon's Tip-Top Team  \n10         0         0         1      Wakanda Forever  \n11         0         0         0    yOBItch Toppin Me  ",
      "text/html": "<div>\n<style scoped>\n    .dataframe tbody tr th:only-of-type {\n        vertical-align: middle;\n    }\n\n    .dataframe tbody tr th {\n        vertical-align: top;\n    }\n\n    .dataframe thead th {\n        text-align: right;\n    }\n</style>\n<table border=\"1\" class=\"dataframe\">\n  <thead>\n    <tr style=\"text-align: right;\">\n      <th></th>\n      <th>FG_PCT_RANK</th>\n      <th>FT_PCT_RANK</th>\n      <th>FG3M_RANK</th>\n      <th>PTS_RANK</th>\n      <th>REB_RANK</th>\n      <th>AST_RANK</th>\n      <th>STL_RANK</th>\n      <th>BLK_RANK</th>\n      <th>TOV_RANK</th>\n      <th>TEAM</th>\n    </tr>\n  </thead>\n  <tbody>\n    <tr>\n      <th>0</th>\n      <td>0</td>\n      <td>0</td>\n      <td>0</td>\n      <td>1</td>\n      <td>0</td>\n      <td>0</td>\n      <td>0</td>\n      <td>0</td>\n      <td>0</td>\n      <td>Autopick</td>\n    </tr>\n    <tr>\n      <th>1</th>\n      <td>0</td>\n      <td>0</td>\n      <td>0</td>\n      <td>0</td>\n      <td>0</td>\n      <td>0</td>\n      <td>0</td>\n      <td>0</td>\n      <td>0</td>\n      <td>CrabbeHerByThePussy</td>\n    </tr>\n    <tr>\n      <th>2</th>\n      <td>0</td>\n      <td>0</td>\n      <td>0</td>\n      <td>0</td>\n      <td>0</td>\n      <td>0</td>\n      <td>0</td>\n      <td>0</td>\n      <td>1</td>\n      <td>El Ladrón de Cabras</td>\n    </tr>\n    <tr>\n      <th>3</th>\n      <td>0</td>\n      <td>0</td>\n      <td>0</td>\n      <td>1</td>\n      <td>0</td>\n      <td>1</td>\n      <td>0</td>\n      <td>0</td>\n      <td>0</td>\n      <td>LaLaLand</td>\n    </tr>\n    <tr>\n      <th>4</th>\n      <td>0</td>\n      <td>0</td>\n      <td>0</td>\n      <td>0</td>\n      <td>0</td>\n      <td>1</td>\n      <td>0</td>\n      <td>0</td>\n      <td>1</td>\n      <td>Magic's Johnson</td>\n    </tr>\n    <tr>\n      <th>5</th>\n      <td>0</td>\n      <td>0</td>\n      <td>0</td>\n      <td>0</td>\n      <td>0</td>\n      <td>0</td>\n      <td>0</td>\n      <td>0</td>\n      <td>0</td>\n      <td>McCurry</td>\n    </tr>\n    <tr>\n      <th>6</th>\n      <td>0</td>\n      <td>0</td>\n      <td>0</td>\n      <td>-3</td>\n      <td>0</td>\n      <td>-2</td>\n      <td>-1</td>\n      <td>0</td>\n      <td>-3</td>\n      <td>Nunn of Y'all Betta</td>\n    </tr>\n    <tr>\n      <th>7</th>\n      <td>0</td>\n      <td>0</td>\n      <td>0</td>\n      <td>0</td>\n      <td>0</td>\n      <td>0</td>\n      <td>0</td>\n      <td>0</td>\n      <td>0</td>\n      <td>Russty Cuntbrooks</td>\n    </tr>\n    <tr>\n      <th>8</th>\n      <td>0</td>\n      <td>0</td>\n      <td>0</td>\n      <td>0</td>\n      <td>0</td>\n      <td>0</td>\n      <td>0</td>\n      <td>0</td>\n      <td>0</td>\n      <td>Swaggy P</td>\n    </tr>\n    <tr>\n      <th>9</th>\n      <td>0</td>\n      <td>0</td>\n      <td>0</td>\n      <td>0</td>\n      <td>0</td>\n      <td>0</td>\n      <td>0</td>\n      <td>0</td>\n      <td>0</td>\n      <td>Tvon's Tip-Top Team</td>\n    </tr>\n    <tr>\n      <th>10</th>\n      <td>0</td>\n      <td>0</td>\n      <td>0</td>\n      <td>0</td>\n      <td>0</td>\n      <td>0</td>\n      <td>0</td>\n      <td>0</td>\n      <td>1</td>\n      <td>Wakanda Forever</td>\n    </tr>\n    <tr>\n      <th>11</th>\n      <td>0</td>\n      <td>0</td>\n      <td>0</td>\n      <td>1</td>\n      <td>0</td>\n      <td>0</td>\n      <td>0</td>\n      <td>0</td>\n      <td>0</td>\n      <td>yOBItch Toppin Me</td>\n    </tr>\n  </tbody>\n</table>\n</div>"
     },
     "execution_count": 95,
     "metadata": {},
     "output_type": "execute_result"
    }
   ],
   "source": [
    "power_rankings_difference[TEAM_COLUMN] = teams\n",
    "power_rankings_difference"
   ],
   "metadata": {
    "collapsed": false,
    "pycharm": {
     "name": "#%%\n"
    }
   }
  },
  {
   "cell_type": "code",
   "execution_count": 96,
   "outputs": [],
   "source": [
    "columns = list(power_rankings_difference.columns)\n",
    "columns = [columns[-1]] + columns[:-1]\n",
    "power_rankings_difference = power_rankings_difference[columns]\n",
    "power_rankings_difference"
   ],
   "metadata": {
    "collapsed": false,
    "pycharm": {
     "name": "#%%\n"
    }
   }
  },
  {
   "cell_type": "code",
   "execution_count": 85,
   "outputs": [],
   "source": [
    "def new_league_9cat_averages(league_average_dataframe, team, new_team_9cat_averages):\n",
    "\n",
    "    removed_team_dataframe = league_average_dataframe[~league_average_dataframe[TEAM_COLUMN].str\\\n",
    "        .contains(team[NAME_KEY])]\n",
    "\n",
    "    new_team_9cat_averages[TEAM_COLUMN] = team[NAME_KEY]\n",
    "    added_team_dataframe = removed_team_dataframe.append(new_team_9cat_averages)\n",
    "    added_team_dataframe.reset_index(drop=True, inplace=True)\n",
    "\n",
    "    return added_team_dataframe\n",
    "\n",
    "\n",
    "def team_dataframe_column_float(roster_dataframe):\n",
    "\n",
    "    for column in roster_dataframe.columns[1:]:\n",
    "        roster_dataframe[column] = roster_dataframe[column].astype(float)\n",
    "\n",
    "    return roster_dataframe\n",
    "\n",
    "\n",
    "def change_in_power_rankings(league_averages_dataframe, team, player_to_drop, player_to_add):\n",
    "\n",
    "    current_players_9cat_averages, current_team_9cat_averages, new_players_9cat_averages, \\\n",
    "    new_team_9cat_averages = compare_team_9cats_on_transaction(team, player_to_drop,\n",
    "                                                           player_to_add, visualise=False)\n",
    "\n",
    "    # New league average dataframe\n",
    "    new_league_averages_dataframe = new_league_9cat_averages(league_averages_dataframe,\n",
    "                                                          team, new_team_9cat_averages)\n",
    "\n",
    "    new_league_averages_dataframe = team_dataframe_column_float(new_league_averages_dataframe)\n",
    "\n",
    "    # Get new rankings\n",
    "    new_league_power_rankings = power_rankings(new_league_averages_dataframe).sort_values(TEAM_COLUMN)\n",
    "    # Get current rankings\n",
    "    current_league_power_rankings = power_rankings(league_averages_dataframe).sort_values(TEAM_COLUMN)\n",
    "\n",
    "    # Drop Team column\n",
    "    new_league_power_rankings = new_league_power_rankings.reset_index(drop=True)\n",
    "    new_league_power_rankings = new_league_power_rankings.drop(TEAM_COLUMN, axis=1)\n",
    "    current_league_power_rankings = current_league_power_rankings.reset_index(drop=True)\n",
    "    current_league_power_rankings = current_league_power_rankings.drop(TEAM_COLUMN, axis=1)\n",
    "\n",
    "    # Difference\n",
    "    power_rankings_difference = new_league_power_rankings.subtract(current_league_power_rankings)\n",
    "\n",
    "    # Sorted teams list\n",
    "    teams = list(league_averages_dataframe.sort_values(TEAM_COLUMN)[TEAM_COLUMN])\n",
    "\n",
    "    # Add teams column\n",
    "    power_rankings_difference[TEAM_COLUMN] = teams\n",
    "\n",
    "    # Rearrange columns\n",
    "    columns = list(power_rankings_difference.columns)\n",
    "    columns = [columns[-1]] + columns[:-1]\n",
    "    power_rankings_difference = power_rankings_difference[columns]\n",
    "\n",
    "    return new_league_averages_dataframe, new_league_power_rankings, power_rankings_difference"
   ],
   "metadata": {
    "collapsed": false,
    "pycharm": {
     "name": "#%%\n"
    }
   }
  },
  {
   "cell_type": "code",
   "execution_count": 99,
   "outputs": [
    {
     "data": {
      "text/plain": "                   TEAM  FG_PCT_RANK  FT_PCT_RANK  FG3M_RANK  PTS_RANK  \\\n0              Autopick            0            0          0         1   \n1   CrabbeHerByThePussy            0            0          0         0   \n2   El Ladrón de Cabras            0            0          0         0   \n3              LaLaLand            0            0          0         1   \n4       Magic's Johnson            0            0          0         0   \n5               McCurry            0            0          0         0   \n6   Nunn of Y'all Betta            0            0          0        -3   \n7     Russty Cuntbrooks            0            0          0         0   \n8              Swaggy P            0            0          0         0   \n9   Tvon's Tip-Top Team            0            0          0         0   \n10      Wakanda Forever            0            0          0         0   \n11    yOBItch Toppin Me            0            0          0         1   \n\n    REB_RANK  AST_RANK  STL_RANK  BLK_RANK  TOV_RANK  \n0          0         0         0         0         0  \n1          0         0         0         0         0  \n2          0         0         0         0         1  \n3          0         1         0         0         0  \n4          0         1         0         0         1  \n5          0         0         0         0         0  \n6          0        -2        -1         0        -3  \n7          0         0         0         0         0  \n8          0         0         0         0         0  \n9          0         0         0         0         0  \n10         0         0         0         0         1  \n11         0         0         0         0         0  ",
      "text/html": "<div>\n<style scoped>\n    .dataframe tbody tr th:only-of-type {\n        vertical-align: middle;\n    }\n\n    .dataframe tbody tr th {\n        vertical-align: top;\n    }\n\n    .dataframe thead th {\n        text-align: right;\n    }\n</style>\n<table border=\"1\" class=\"dataframe\">\n  <thead>\n    <tr style=\"text-align: right;\">\n      <th></th>\n      <th>TEAM</th>\n      <th>FG_PCT_RANK</th>\n      <th>FT_PCT_RANK</th>\n      <th>FG3M_RANK</th>\n      <th>PTS_RANK</th>\n      <th>REB_RANK</th>\n      <th>AST_RANK</th>\n      <th>STL_RANK</th>\n      <th>BLK_RANK</th>\n      <th>TOV_RANK</th>\n    </tr>\n  </thead>\n  <tbody>\n    <tr>\n      <th>0</th>\n      <td>Autopick</td>\n      <td>0</td>\n      <td>0</td>\n      <td>0</td>\n      <td>1</td>\n      <td>0</td>\n      <td>0</td>\n      <td>0</td>\n      <td>0</td>\n      <td>0</td>\n    </tr>\n    <tr>\n      <th>1</th>\n      <td>CrabbeHerByThePussy</td>\n      <td>0</td>\n      <td>0</td>\n      <td>0</td>\n      <td>0</td>\n      <td>0</td>\n      <td>0</td>\n      <td>0</td>\n      <td>0</td>\n      <td>0</td>\n    </tr>\n    <tr>\n      <th>2</th>\n      <td>El Ladrón de Cabras</td>\n      <td>0</td>\n      <td>0</td>\n      <td>0</td>\n      <td>0</td>\n      <td>0</td>\n      <td>0</td>\n      <td>0</td>\n      <td>0</td>\n      <td>1</td>\n    </tr>\n    <tr>\n      <th>3</th>\n      <td>LaLaLand</td>\n      <td>0</td>\n      <td>0</td>\n      <td>0</td>\n      <td>1</td>\n      <td>0</td>\n      <td>1</td>\n      <td>0</td>\n      <td>0</td>\n      <td>0</td>\n    </tr>\n    <tr>\n      <th>4</th>\n      <td>Magic's Johnson</td>\n      <td>0</td>\n      <td>0</td>\n      <td>0</td>\n      <td>0</td>\n      <td>0</td>\n      <td>1</td>\n      <td>0</td>\n      <td>0</td>\n      <td>1</td>\n    </tr>\n    <tr>\n      <th>5</th>\n      <td>McCurry</td>\n      <td>0</td>\n      <td>0</td>\n      <td>0</td>\n      <td>0</td>\n      <td>0</td>\n      <td>0</td>\n      <td>0</td>\n      <td>0</td>\n      <td>0</td>\n    </tr>\n    <tr>\n      <th>6</th>\n      <td>Nunn of Y'all Betta</td>\n      <td>0</td>\n      <td>0</td>\n      <td>0</td>\n      <td>-3</td>\n      <td>0</td>\n      <td>-2</td>\n      <td>-1</td>\n      <td>0</td>\n      <td>-3</td>\n    </tr>\n    <tr>\n      <th>7</th>\n      <td>Russty Cuntbrooks</td>\n      <td>0</td>\n      <td>0</td>\n      <td>0</td>\n      <td>0</td>\n      <td>0</td>\n      <td>0</td>\n      <td>0</td>\n      <td>0</td>\n      <td>0</td>\n    </tr>\n    <tr>\n      <th>8</th>\n      <td>Swaggy P</td>\n      <td>0</td>\n      <td>0</td>\n      <td>0</td>\n      <td>0</td>\n      <td>0</td>\n      <td>0</td>\n      <td>0</td>\n      <td>0</td>\n      <td>0</td>\n    </tr>\n    <tr>\n      <th>9</th>\n      <td>Tvon's Tip-Top Team</td>\n      <td>0</td>\n      <td>0</td>\n      <td>0</td>\n      <td>0</td>\n      <td>0</td>\n      <td>0</td>\n      <td>0</td>\n      <td>0</td>\n      <td>0</td>\n    </tr>\n    <tr>\n      <th>10</th>\n      <td>Wakanda Forever</td>\n      <td>0</td>\n      <td>0</td>\n      <td>0</td>\n      <td>0</td>\n      <td>0</td>\n      <td>0</td>\n      <td>0</td>\n      <td>0</td>\n      <td>1</td>\n    </tr>\n    <tr>\n      <th>11</th>\n      <td>yOBItch Toppin Me</td>\n      <td>0</td>\n      <td>0</td>\n      <td>0</td>\n      <td>1</td>\n      <td>0</td>\n      <td>0</td>\n      <td>0</td>\n      <td>0</td>\n      <td>0</td>\n    </tr>\n  </tbody>\n</table>\n</div>"
     },
     "execution_count": 99,
     "metadata": {},
     "output_type": "execute_result"
    }
   ],
   "source": [
    "change_in_power_rankings(league_averages_dataframe, NUNN_OF_YALL_BETTA, \"Will Barton\",\n",
    "                         \"James Harden\")"
   ],
   "metadata": {
    "collapsed": false,
    "pycharm": {
     "name": "#%%\n"
    }
   }
  },
  {
   "cell_type": "markdown",
   "source": [
    "## Notebook Functions"
   ],
   "metadata": {
    "collapsed": false,
    "pycharm": {
     "name": "#%% md\n"
    }
   }
  },
  {
   "cell_type": "code",
   "execution_count": 3,
   "outputs": [],
   "source": [
    "import pandas as pd\n",
    "from yahoo_oauth import OAuth2\n",
    "import yahoo_fantasy_api as yfa\n",
    "from src.data import player_9cat_average as p9ca\n",
    "from nba_api.stats.endpoints import commonallplayers\n",
    "from nba_api.stats.endpoints import commonplayerinfo\n",
    "\n",
    "\n",
    "NBA = \"nba\"\n",
    "SEASON = 2020\n",
    "JSON_FOLDER = \"../references/oauth2.json\"\n",
    "NAME_KEY = \"name\"\n",
    "GAMES_COLUMN = \"GAMES\"\n",
    "MEAN_ROW = \"mean\"\n",
    "TEAM_KEY = \"team_key\"\n",
    "PLAYER_COLUMN = \"PLAYER\"\n",
    "TEAM_COLUMN = \"TEAM\"\n",
    "EDITORIAL_TEAM_FULL_NAME = \"editorial_team_full_name\"\n",
    "UNIFORM_NUMBER = \"uniform_number\"\n",
    "COMMON_ALL_PLAYERS =\"CommonAllPlayers\"\n",
    "PERSON_ID_KEY = \"PERSON_ID\"\n",
    "TEAM_CITY_KEY = \"TEAM_CITY\"\n",
    "TEAM_NAME_KEY = \"TEAM_NAME\"\n",
    "COMMON_PLAYER_INFO = \"CommonPlayerInfo\"\n",
    "JERSEY_KEY = \"JERSEY\"\n",
    "DISPLAY_FIRST_LAST = \"DISPLAY_FIRST_LAST\"\n",
    "EDITORIAL_TEAM_FULL_NAME = \"editorial_team_full_name\"\n",
    "UNIFORM_NUMBER = \"uniform_number\"\n",
    "COMMON_ALL_PLAYERS =\"CommonAllPlayers\"\n",
    "PERSON_ID_KEY = \"PERSON_ID\"\n",
    "TEAM_CITY_KEY = \"TEAM_CITY\"\n",
    "TEAM_NAME_KEY = \"TEAM_NAME\"\n",
    "COMMON_PLAYER_INFO = \"CommonPlayerInfo\"\n",
    "JERSEY_KEY = \"JERSEY\"\n",
    "DISPLAY_FIRST_LAST = \"DISPLAY_FIRST_LAST\"\n",
    "RANK_SUFFIX =\"_RANK\"\n",
    "\n",
    "\n",
    "# Team dictionaries\n",
    "LALALAND = {'team_key': '402.l.55374.t.1', 'name': 'LaLaLand'}\n",
    "AUTOPICK = {'team_key': '402.l.55374.t.2', 'name': 'Autopick'}\n",
    "CRABBEHERBYTHEPUSSY = {'team_key': '402.l.55374.t.3', 'name': 'CrabbeHerByThePussy'}\n",
    "MAGICS_JOHNSON = {'team_key': '402.l.55374.t.4', 'name': \"Magic's Johnson\"}\n",
    "MCCURRY = {'team_key': '402.l.55374.t.5', 'name': 'McCurry'}\n",
    "NUNN_OF_YALL_BETTA = {'team_key': '402.l.55374.t.6', 'name': \"Nunn of Y'all Betta\"}\n",
    "RUSTY_CUNTBROOKS = {'team_key': '402.l.55374.t.7', 'name': 'Russty Cuntbrooks'}\n",
    "WAKANDA_FOREVER = {'team_key': '402.l.55374.t.8', 'name': 'Wakanda Forever'}\n",
    "SWAGGY_P = {'team_key': '402.l.55374.t.9', 'name': 'Swaggy P'}\n",
    "YOBITCH_TOPPIN_ME = {'team_key': '402.l.55374.t.10', 'name': 'yOBItch Toppin Me'}\n",
    "TVONS_TIP_TOP_TEAM = {'team_key': '402.l.55374.t.11', 'name': \"Tvon's Tip-Top Team\"}\n",
    "EL_LADRON_DE_CABRAS = {'team_key': '402.l.55374.t.12', 'name': 'El Ladrón de Cabras'}\n",
    "league_team_list = [LALALAND, AUTOPICK, CRABBEHERBYTHEPUSSY, MAGICS_JOHNSON, MCCURRY,\n",
    "                    NUNN_OF_YALL_BETTA, RUSTY_CUNTBROOKS, WAKANDA_FOREVER, SWAGGY_P,\n",
    "                    YOBITCH_TOPPIN_ME, TVONS_TIP_TOP_TEAM, EL_LADRON_DE_CABRAS]\n",
    "\n",
    "\n",
    "def yahoo_fantasy_api_authentication():\n",
    "\n",
    "    sc = OAuth2(None, None, from_file=JSON_FOLDER)\n",
    "\n",
    "    return sc\n",
    "\n",
    "\n",
    "def yahoo_fantasy_league(sc):\n",
    "\n",
    "    gm = yfa.Game(sc, NBA)\n",
    "    league_id_list = gm.league_ids(year=SEASON)\n",
    "    league_id = \"\".join(str(id) for id in league_id_list)\n",
    "    league = gm.to_league(league_id)\n",
    "\n",
    "    return league\n",
    "\n",
    "\n",
    "def yahoo_player_team_and_jersey(player_name):\n",
    "\n",
    "    player_details_dictionary = league.player_details(player_name)\n",
    "    players_team = player_details_dictionary[0][EDITORIAL_TEAM_FULL_NAME]\n",
    "    players_number = player_details_dictionary[0][UNIFORM_NUMBER]\n",
    "\n",
    "    return players_team, players_number\n",
    "\n",
    "\n",
    "def player_ids_by_nba_team_name(nba_team):\n",
    "\n",
    "    common_all_players = commonallplayers.CommonAllPlayers(is_only_current_season=1)\n",
    "    common_all_players_dict = common_all_players.get_normalized_dict()[COMMON_ALL_PLAYERS]\n",
    "    player_ids_in_team_list = [player[PERSON_ID_KEY] for player in common_all_players_dict if \\\n",
    "        player[TEAM_CITY_KEY] + \" \" + player[TEAM_NAME_KEY] == nba_team]\n",
    "\n",
    "    return player_ids_in_team_list\n",
    "\n",
    "\n",
    "def nba_player_name_from_jersey_search(team_player_ids, yahoo_jersey_number):\n",
    "\n",
    "    for id in team_player_ids:\n",
    "        nba_jersey_number = commonplayerinfo.CommonPlayerInfo(id).get_normalized_dict() \\\n",
    "            [COMMON_PLAYER_INFO][0][JERSEY_KEY]\n",
    "        if nba_jersey_number == yahoo_jersey_number:\n",
    "            nba_name = commonplayerinfo.CommonPlayerInfo(id).get_normalized_dict() \\\n",
    "            [COMMON_PLAYER_INFO][0][DISPLAY_FIRST_LAST]\n",
    "\n",
    "            return nba_name\n",
    "\n",
    "\n",
    "def yahoo_name_to_nba_name(yahoo_player_name):\n",
    "    \"\"\" Function expectes a Yahoo player name and it will find the players Team Name and Jersey\n",
    "    Number. It then searches the NBA API for Player IDs belonging to found Team Name. For every\n",
    "    Player ID it searches their Jersey Number. When there is a match, it returns the NBA Player\n",
    "    Name.\n",
    "    \"\"\"\n",
    "\n",
    "    player_team, player_number = yahoo_player_team_and_jersey(yahoo_player_name)\n",
    "    player_ids_in_team_list = player_ids_by_nba_team_name(player_team)\n",
    "    nba_player_name = nba_player_name_from_jersey_search(player_ids_in_team_list, player_number)\n",
    "\n",
    "    return nba_player_name\n",
    "\n",
    "\n",
    "def create_roster_dataframe(player_list):\n",
    "\n",
    "    active_players = p9ca.nba_active_players()\n",
    "    roster_dataframe = pd.DataFrame()\n",
    "    for player in player_list:\n",
    "        try:\n",
    "            roster_dataframe = roster_dataframe.append(p9ca.player_average_9cat_stats(player,\n",
    "                                                                                      active_players))\n",
    "        except IndexError:\n",
    "            nba_player_name = yahoo_name_to_nba_name(player)\n",
    "            roster_dataframe = roster_dataframe.append(p9ca.player_average_9cat_stats(nba_player_name,\n",
    "                                                                                      active_players))\n",
    "        except:\n",
    "            print(f\"Can't find player {player}\")\n",
    "\n",
    "    roster_dataframe.reset_index(inplace=True, drop=True)\n",
    "\n",
    "    return roster_dataframe\n",
    "\n",
    "\n",
    "def format_roster_dataframe(roster_dataframe):\n",
    "\n",
    "    for column in roster_dataframe.columns[1:]:\n",
    "        roster_dataframe[column] = roster_dataframe[column].astype(float)\n",
    "\n",
    "    roster_dataframe.loc[MEAN_ROW] = roster_dataframe.mean()\n",
    "    roster_dataframe = p9ca.format_dataframe_decimals(roster_dataframe)\n",
    "    try:\n",
    "        roster_dataframe.drop(GAMES_COLUMN, axis=1, inplace=True)\n",
    "    except:\n",
    "        pass\n",
    "\n",
    "    return roster_dataframe\n",
    "\n",
    "\n",
    "def team_9cat_average_stats(team_dictionary, league):\n",
    "\n",
    "    team = league.to_team(team_dictionary[TEAM_KEY])\n",
    "    team_roster = team.roster()\n",
    "    player_in_team_list = [player[NAME_KEY] for player in team_roster]\n",
    "\n",
    "    roster_dataframe = create_roster_dataframe(player_in_team_list)\n",
    "\n",
    "    roster_dataframe = format_roster_dataframe(roster_dataframe)\n",
    "\n",
    "    return roster_dataframe\n",
    "\n",
    "\n",
    "def fantasy_team_mean_stats(roster_dataframe, team_dictionary):\n",
    "\n",
    "    mean_series = roster_dataframe.loc[MEAN_ROW]\n",
    "    mean_series[PLAYER_COLUMN] = team_dictionary[NAME_KEY]\n",
    "    team_mean_dataframe = pd.DataFrame(mean_series).T\n",
    "    team_mean_dataframe = team_mean_dataframe.rename(columns={PLAYER_COLUMN : TEAM_COLUMN})\n",
    "    team_mean_dataframe.reset_index(inplace=True, drop=True)\n",
    "\n",
    "    return team_mean_dataframe\n",
    "\n",
    "\n",
    "def player_to_team_mean_stats(team_dictionary, league):\n",
    "    \"\"\"\n",
    "    This function creates a dataframe containing the season averaged stats for each player on a\n",
    "    Fantasy Team. It then finds the average stats for the entire team and returns a single row\n",
    "    dataframe with the Fantasy Team name and its seasoned averaged 9cat stats.\n",
    "    \"\"\"\n",
    "\n",
    "    roster_dataframe = team_9cat_average_stats(team_dictionary, league)\n",
    "    team_mean_dataframe = fantasy_team_mean_stats(roster_dataframe, team_dictionary)\n",
    "\n",
    "    return team_mean_dataframe\n",
    "\n",
    "\n",
    "def league_averages(league_team_list):\n",
    "\n",
    "    league_averages_dataframe = pd.DataFrame()\n",
    "    for team in league_team_list:\n",
    "        yahoo_fantasy_api_authentication()\n",
    "        league_averages_dataframe = league_averages_dataframe.append(player_to_team_mean_stats\n",
    "                                                                     (team, league))\n",
    "    league_averages_dataframe.reset_index(drop=True, inplace=True)\n",
    "    return league_averages_dataframe\n",
    "\n",
    "\n",
    "def yahoo_player_team_and_jersey(player_name):\n",
    "\n",
    "    player_details_dictionary = league.player_details(player_name)\n",
    "    players_team = player_details_dictionary[0][EDITORIAL_TEAM_FULL_NAME]\n",
    "    players_number = player_details_dictionary[0][UNIFORM_NUMBER]\n",
    "\n",
    "    return players_team, players_number\n",
    "\n",
    "\n",
    "def player_ids_by_nba_team_name(nba_team):\n",
    "\n",
    "    common_all_players = commonallplayers.CommonAllPlayers(is_only_current_season=1)\n",
    "    common_all_players_dict = common_all_players.get_normalized_dict()[COMMON_ALL_PLAYERS]\n",
    "    player_ids_in_team_list = [player[PERSON_ID_KEY] for player in common_all_players_dict if \\\n",
    "        player[TEAM_CITY_KEY] + \" \" + player[TEAM_NAME_KEY] == nba_team]\n",
    "\n",
    "    return player_ids_in_team_list\n",
    "\n",
    "\n",
    "def nba_player_name_from_jersey_search(team_player_ids, yahoo_jersey_number):\n",
    "\n",
    "    for id in team_player_ids:\n",
    "        nba_jersey_number = commonplayerinfo.CommonPlayerInfo(id).get_normalized_dict() \\\n",
    "            [COMMON_PLAYER_INFO][0][JERSEY_KEY]\n",
    "        if nba_jersey_number == yahoo_jersey_number:\n",
    "            nba_name = commonplayerinfo.CommonPlayerInfo(id).get_normalized_dict() \\\n",
    "            [COMMON_PLAYER_INFO][0][DISPLAY_FIRST_LAST]\n",
    "\n",
    "            return nba_name\n",
    "\n",
    "\n",
    "def yahoo_name_to_nba_name(yahoo_player_name):\n",
    "    \"\"\" Function expectes a Yahoo player name and it will find the players Team Name and Jersey\n",
    "    Number. It then searches the NBA API for Player IDs belonging to found Team Name. For every\n",
    "    Player ID it searches their Jersey Number. When there is a match, it returns the NBA Player\n",
    "    Name.\n",
    "    \"\"\"\n",
    "\n",
    "    player_team, player_number = yahoo_player_team_and_jersey(yahoo_player_name)\n",
    "    player_ids_in_team_list = player_ids_by_nba_team_name(player_team)\n",
    "    nba_player_name = nba_player_name_from_jersey_search(player_ids_in_team_list, player_number)\n",
    "\n",
    "    return nba_player_name\n",
    "\n",
    "\n",
    "# Function to return team dataframe with 9cat averages\n",
    "def remove_mean_and_player(team_players_9cat_stats_dataframe, player_to_drop):\n",
    "\n",
    "    team_players_9cat_stats_dataframe = team_players_9cat_stats_dataframe.drop(MEAN_ROW)\n",
    "    team_players_9cat_stats_dataframe = \\\n",
    "        team_players_9cat_stats_dataframe[~team_players_9cat_stats_dataframe[PLAYER_COLUMN]\n",
    "    .str.contains(player_to_drop)]\n",
    "\n",
    "    return team_players_9cat_stats_dataframe\n",
    "\n",
    "\n",
    "def waiver_add_and_drop(fantasy_team, player_to_drop, player_to_add):\n",
    "\n",
    "    team_players_9cat_stats_dataframe = team_9cat_average_stats(fantasy_team, league)\n",
    "    current_team_9cat_average_stats = pd.DataFrame(team_players_9cat_stats_dataframe\n",
    "                                                   .loc[MEAN_ROW]).T.drop(PLAYER_COLUMN, axis=1)\n",
    "\n",
    "    removed_mean_dropped_player_dataframe = remove_mean_and_player\\\n",
    "        (team_players_9cat_stats_dataframe, player_to_drop)\n",
    "\n",
    "    added_player_9cat_averages = p9ca.get_player_9cat_season_average(player_to_add)\n",
    "    new_team_9cat_average_stats_dataframe = removed_mean_dropped_player_dataframe.append\\\n",
    "        (added_player_9cat_averages)\n",
    "    new_team_9cat_average_stats_dataframe.reset_index(inplace=True, drop=True)\n",
    "\n",
    "    new_team_9cat_average_stats_dataframe = format_roster_dataframe \\\n",
    "        (new_team_9cat_average_stats_dataframe)\n",
    "\n",
    "    new_team_9cat_average_stats = pd.DataFrame(new_team_9cat_average_stats_dataframe\n",
    "                                                   .loc[MEAN_ROW]).T.drop(PLAYER_COLUMN, axis=1)\n",
    "\n",
    "    return team_players_9cat_stats_dataframe, current_team_9cat_average_stats, \\\n",
    "           new_team_9cat_average_stats_dataframe, new_team_9cat_average_stats\n",
    "\n",
    "\n",
    "# Format and find 9cat differences\n",
    "def remove_player_and_float_convert(dataframe):\n",
    "\n",
    "    for column in dataframe.columns:\n",
    "        dataframe[column] = dataframe[column].astype(float)\n",
    "\n",
    "    return dataframe\n",
    "\n",
    "\n",
    "def drop_add_mean_9cat_difference(current_9cat, new_9cat):\n",
    "\n",
    "    current_9cat = remove_player_and_float_convert(current_9cat)\n",
    "    new_9cat = remove_player_and_float_convert(new_9cat)\n",
    "\n",
    "    difference_9cat = new_9cat.subtract(current_9cat)\n",
    "\n",
    "    return difference_9cat\n",
    "\n",
    "\n",
    "# Visualise current, new and difference\n",
    "def visualise_team_9cat_averages(player_to_drop, player_to_add, current_9cat, new_9cat,\n",
    "                                 difference_9cat, visualise=True):\n",
    "    if visualise:\n",
    "        print(f\"You are dropping {player_to_drop} and adding {player_to_add}! \\n\")\n",
    "\n",
    "        print(\"The current team 9cat averages are:\\n\")\n",
    "        print(current_9cat)\n",
    "        print(\"\\n\")\n",
    "\n",
    "        print(\"The new team 9cat averages are:\\n\")\n",
    "        print(new_9cat)\n",
    "        print(\"\\n\")\n",
    "\n",
    "        print(\"The difference 9cat averages are:\\n\")\n",
    "        print(difference_9cat)\n",
    "        print(\"\\n\")\n",
    "    else:\n",
    "        pass\n",
    "\n",
    "\n",
    "# Function for the entire process\n",
    "def compare_team_9cats_on_transaction(team, player_to_drop, player_to_add, visualise=True):\n",
    "\n",
    "    current_players_9cat_averages, current_team_9cat_averages, new_players_9cat_averages, \\\n",
    "    new_team_9cat_averages = waiver_add_and_drop(team, player_to_drop, player_to_add)\n",
    "\n",
    "    difference_team_9cat_averages = drop_add_mean_9cat_difference(current_team_9cat_averages,\n",
    "                                                  new_team_9cat_averages)\n",
    "\n",
    "    visualise_team_9cat_averages(player_to_drop, player_to_add, current_team_9cat_averages,\n",
    "                             new_team_9cat_averages, difference_team_9cat_averages, visualise)\n",
    "\n",
    "    return current_players_9cat_averages, current_team_9cat_averages, new_players_9cat_averages, \\\n",
    "           new_team_9cat_averages, difference_team_9cat_averages\n",
    "\n",
    "\n",
    "# Function power ranking\n",
    "def power_rankings(dataframe):\n",
    "\n",
    "    power_ranking_dataframe = dataframe.copy()\n",
    "    try:\n",
    "        power_ranking_dataframe.drop(MEAN_ROW, inplace=True)\n",
    "    except KeyError:\n",
    "        pass\n",
    "    for column in power_ranking_dataframe.columns[1:]:\n",
    "        if column != \"TOV\":\n",
    "            sorted_points = power_ranking_dataframe[column].sort_values(ascending=False)\n",
    "        else:\n",
    "            sorted_points = power_ranking_dataframe[column].sort_values(ascending=True)\n",
    "\n",
    "        sorted_points.drop_duplicates(inplace=True)\n",
    "\n",
    "        sorting_dictionary = dict()\n",
    "\n",
    "        count = 1\n",
    "        for point in sorted_points:\n",
    "            sorting_dictionary[point] = count\n",
    "            count += 1\n",
    "\n",
    "        power_ranking_dataframe[\"R:\" + column] = power_ranking_dataframe[column].map\\\n",
    "            (sorting_dictionary)\n",
    "\n",
    "    power_ranking_dataframe.drop(dataframe.columns[1:], axis=1, inplace=True)\n",
    "\n",
    "    return power_ranking_dataframe\n",
    "\n",
    "\n",
    "def get_overall_power_rank(power_ranking_dataframe):\n",
    "\n",
    "    power_ranking_dataframe = power_ranking_dataframe.set_index(TEAM_COLUMN)\n",
    "    power_ranking_dataframe[\"Power_Rank\"] = 109 - power_ranking_dataframe.sum(axis=1, numeric_only=True)\n",
    "    columns = list(power_ranking_dataframe.columns)\n",
    "    columns = [columns[-1]] + columns[:-1]\n",
    "    power_ranking_dataframe = power_ranking_dataframe[columns]\n",
    "\n",
    "    return power_ranking_dataframe"
   ],
   "metadata": {
    "collapsed": false,
    "pycharm": {
     "name": "#%%\n"
    }
   }
  },
  {
   "cell_type": "code",
   "execution_count": 7,
   "outputs": [
    {
     "name": "stderr",
     "output_type": "stream",
     "text": [
      "[2021-01-27 23:13:20,502 DEBUG] [yahoo_oauth.oauth.__init__] Checking \n",
      "[2021-01-27 23:13:20,505 DEBUG] [yahoo_oauth.oauth.token_is_valid] ELAPSED TIME : 555.8798151016235\n",
      "[2021-01-27 23:13:20,505 DEBUG] [yahoo_oauth.oauth.token_is_valid] TOKEN IS STILL VALID\n"
     ]
    },
    {
     "name": "stdout",
     "output_type": "stream",
     "text": [
      "You are dropping Will Barton and adding Monte Morris! \n",
      "\n",
      "The current team 9cat averages are:\n",
      "\n",
      "      FG_PCT  FT_PCT  FG3M    PTS   REB   AST   STL  BLK   TOV\n",
      "mean   0.473   0.826  1.96  15.63  5.04  3.71  1.03  0.4  1.63\n",
      "\n",
      "\n",
      "The new team 9cat averages are:\n",
      "\n",
      "      FG_PCT  FT_PCT  FG3M    PTS   REB   AST   STL   BLK   TOV\n",
      "mean    0.48   0.825  1.96  15.68  4.92  3.72  1.02  0.39  1.58\n",
      "\n",
      "\n",
      "The difference 9cat averages are:\n",
      "\n",
      "      FG_PCT  FT_PCT  FG3M   PTS   REB   AST   STL   BLK   TOV\n",
      "mean   0.007  -0.001   0.0  0.05 -0.12  0.01 -0.01 -0.01 -0.05\n",
      "\n",
      "\n"
     ]
    }
   ],
   "source": [
    "sc = yahoo_fantasy_api_authentication()\n",
    "league = yahoo_fantasy_league(sc)\n",
    "PLAYER_TO_DROP = \"Will Barton\"\n",
    "PLAYER_TO_ADD = \"Monte Morris\"\n",
    "\n",
    "current_players_9cat_averages, current_team_9cat_averages, new_players_9cat_averages, \\\n",
    "    new_team_9cat_averages, difference_team_9cat_averages = compare_team_9cats_on_transaction\\\n",
    "    (NUNN_OF_YALL_BETTA, PLAYER_TO_DROP, PLAYER_TO_ADD)"
   ],
   "metadata": {
    "collapsed": false,
    "pycharm": {
     "name": "#%%\n"
    }
   }
  },
  {
   "cell_type": "markdown",
   "source": [
    "## Streamlit\n",
    "This section creates logic and code needed to run efficiently on Streamlit"
   ],
   "metadata": {
    "collapsed": false,
    "pycharm": {
     "name": "#%% md\n"
    }
   }
  },
  {
   "cell_type": "code",
   "execution_count": 13,
   "outputs": [],
   "source": [
    "def get_team_id_from_team_name(team_name):\n",
    "\n",
    "    return \"\".join([x[TEAM_KEY] for x in league_team_list if x[NAME_KEY] == team_name])\n",
    "\n",
    "\n",
    "def team_player_list(team_id):\n",
    "    sc = yahoo_fantasy_api_authentication()\n",
    "    league = yahoo_fantasy_league(sc)\n",
    "    team = league.to_team(team_id)\n",
    "    team_roster = team.roster()\n",
    "    player_in_team_list = [player[NAME_KEY] for player in team_roster]\n",
    "\n",
    "    return player_in_team_list\n",
    "\n",
    "\n",
    "def streamlit_return_players_on_team(team_name):\n",
    "\n",
    "    team_id = get_team_id_from_team_name(team_name)\n",
    "    player_list = team_player_list(team_id)\n",
    "\n",
    "    return player_list\n",
    "\n",
    "\n",
    "def get_league_free_agents():\n",
    "    # Free agents\n",
    "    free_agent_guards = lg.free_agents(\"G\")\n",
    "    free_agent_forwards = lg.free_agents(\"F\")\n",
    "    free_agent_centers = lg.free_agents(\"C\")\n",
    "\n",
    "    free_agents = [player[NAME_KEY] for player in free_agent_guards] \\\n",
    "                  + [player[NAME_KEY] for player in free_agent_forwards] \\\n",
    "        + [player[NAME_KEY] for player in free_agent_centers]\n",
    "\n",
    "    free_agents = list(set(free_agents))\n",
    "    sorted_free_agents = sorted(free_agents)\n",
    "\n",
    "    return sorted_free_agents\n",
    "\n",
    "def get_team_roster(team):\n",
    "\n",
    "    sc = yahoo_fantasy_api_authentication()\n",
    "    league = yahoo_fantasy_league(sc)\n",
    "    team_9cat_dataframe = team_9cat_average_stats(team, league)\n",
    "\n",
    "    return team_9cat_dataframe"
   ],
   "metadata": {
    "collapsed": false,
    "pycharm": {
     "name": "#%%\n"
    }
   }
  },
  {
   "cell_type": "code",
   "execution_count": 27,
   "outputs": [
    {
     "name": "stderr",
     "output_type": "stream",
     "text": [
      "[2021-01-29 18:32:16,791 DEBUG] [yahoo_oauth.oauth.__init__] Checking \n",
      "[2021-01-29 18:32:16,793 DEBUG] [yahoo_oauth.oauth.token_is_valid] ELAPSED TIME : 967.8039262294769\n",
      "[2021-01-29 18:32:16,793 DEBUG] [yahoo_oauth.oauth.token_is_valid] TOKEN IS STILL VALID\n"
     ]
    },
    {
     "ename": "AttributeError",
     "evalue": "'dict' object has no attribute 'find'",
     "output_type": "error",
     "traceback": [
      "\u001B[1;31m---------------------------------------------------------------------------\u001B[0m",
      "\u001B[1;31mAttributeError\u001B[0m                            Traceback (most recent call last)",
      "\u001B[1;32m<ipython-input-27-dc74650bc1bf>\u001B[0m in \u001B[0;36m<module>\u001B[1;34m\u001B[0m\n\u001B[1;32m----> 1\u001B[1;33m \u001B[0mteam_player_list\u001B[0m\u001B[1;33m(\u001B[0m\u001B[0mNUNN_OF_YALL_BETTA\u001B[0m\u001B[1;33m)\u001B[0m\u001B[1;33m\u001B[0m\u001B[1;33m\u001B[0m\u001B[0m\n\u001B[0m\u001B[0;32m      2\u001B[0m \u001B[1;33m\u001B[0m\u001B[0m\n",
      "\u001B[1;32m<ipython-input-23-6f5a0c91b3c9>\u001B[0m in \u001B[0;36mteam_player_list\u001B[1;34m(team_id)\u001B[0m\n\u001B[0;32m      7\u001B[0m     \u001B[0msc\u001B[0m \u001B[1;33m=\u001B[0m \u001B[0myahoo_fantasy_api_authentication\u001B[0m\u001B[1;33m(\u001B[0m\u001B[1;33m)\u001B[0m\u001B[1;33m\u001B[0m\u001B[1;33m\u001B[0m\u001B[0m\n\u001B[0;32m      8\u001B[0m     \u001B[0mleague\u001B[0m \u001B[1;33m=\u001B[0m \u001B[0myahoo_fantasy_league\u001B[0m\u001B[1;33m(\u001B[0m\u001B[0msc\u001B[0m\u001B[1;33m)\u001B[0m\u001B[1;33m\u001B[0m\u001B[1;33m\u001B[0m\u001B[0m\n\u001B[1;32m----> 9\u001B[1;33m     \u001B[0mteam\u001B[0m \u001B[1;33m=\u001B[0m \u001B[0mleague\u001B[0m\u001B[1;33m.\u001B[0m\u001B[0mto_team\u001B[0m\u001B[1;33m(\u001B[0m\u001B[0mteam_id\u001B[0m\u001B[1;33m)\u001B[0m\u001B[1;33m\u001B[0m\u001B[1;33m\u001B[0m\u001B[0m\n\u001B[0m\u001B[0;32m     10\u001B[0m     \u001B[0mteam_roster\u001B[0m \u001B[1;33m=\u001B[0m \u001B[0mteam\u001B[0m\u001B[1;33m.\u001B[0m\u001B[0mroster\u001B[0m\u001B[1;33m(\u001B[0m\u001B[1;33m)\u001B[0m\u001B[1;33m\u001B[0m\u001B[1;33m\u001B[0m\u001B[0m\n\u001B[0;32m     11\u001B[0m     \u001B[0mplayer_in_team_list\u001B[0m \u001B[1;33m=\u001B[0m \u001B[1;33m[\u001B[0m\u001B[0mplayer\u001B[0m\u001B[1;33m[\u001B[0m\u001B[0mNAME_KEY\u001B[0m\u001B[1;33m]\u001B[0m \u001B[1;32mfor\u001B[0m \u001B[0mplayer\u001B[0m \u001B[1;32min\u001B[0m \u001B[0mteam_roster\u001B[0m\u001B[1;33m]\u001B[0m\u001B[1;33m\u001B[0m\u001B[1;33m\u001B[0m\u001B[0m\n",
      "\u001B[1;32mc:\\users\\jaume\\documents\\python projects\\waiver_wire_machine\\venv\\lib\\site-packages\\yahoo_fantasy_api\\league.py\u001B[0m in \u001B[0;36mto_team\u001B[1;34m(self, team_key)\u001B[0m\n\u001B[0;32m     45\u001B[0m         \u001B[1;33m:\u001B[0m\u001B[0mrtype\u001B[0m\u001B[1;33m:\u001B[0m \u001B[0mTeam\u001B[0m\u001B[1;33m\u001B[0m\u001B[1;33m\u001B[0m\u001B[0m\n\u001B[0;32m     46\u001B[0m         \"\"\"\n\u001B[1;32m---> 47\u001B[1;33m         \u001B[0mtm\u001B[0m \u001B[1;33m=\u001B[0m \u001B[0myfa\u001B[0m\u001B[1;33m.\u001B[0m\u001B[0mTeam\u001B[0m\u001B[1;33m(\u001B[0m\u001B[0mself\u001B[0m\u001B[1;33m.\u001B[0m\u001B[0msc\u001B[0m\u001B[1;33m,\u001B[0m \u001B[0mteam_key\u001B[0m\u001B[1;33m)\u001B[0m\u001B[1;33m\u001B[0m\u001B[1;33m\u001B[0m\u001B[0m\n\u001B[0m\u001B[0;32m     48\u001B[0m         \u001B[0mtm\u001B[0m\u001B[1;33m.\u001B[0m\u001B[0minject_yhandler\u001B[0m\u001B[1;33m(\u001B[0m\u001B[0mself\u001B[0m\u001B[1;33m.\u001B[0m\u001B[0myhandler\u001B[0m\u001B[1;33m)\u001B[0m\u001B[1;33m\u001B[0m\u001B[1;33m\u001B[0m\u001B[0m\n\u001B[0;32m     49\u001B[0m         \u001B[1;32mreturn\u001B[0m \u001B[0mtm\u001B[0m\u001B[1;33m\u001B[0m\u001B[1;33m\u001B[0m\u001B[0m\n",
      "\u001B[1;32mc:\\users\\jaume\\documents\\python projects\\waiver_wire_machine\\venv\\lib\\site-packages\\yahoo_fantasy_api\\team.py\u001B[0m in \u001B[0;36m__init__\u001B[1;34m(self, sc, team_key)\u001B[0m\n\u001B[0;32m     18\u001B[0m         \u001B[0mself\u001B[0m\u001B[1;33m.\u001B[0m\u001B[0msc\u001B[0m \u001B[1;33m=\u001B[0m \u001B[0msc\u001B[0m\u001B[1;33m\u001B[0m\u001B[1;33m\u001B[0m\u001B[0m\n\u001B[0;32m     19\u001B[0m         \u001B[0mself\u001B[0m\u001B[1;33m.\u001B[0m\u001B[0mteam_key\u001B[0m \u001B[1;33m=\u001B[0m \u001B[0mteam_key\u001B[0m\u001B[1;33m\u001B[0m\u001B[1;33m\u001B[0m\u001B[0m\n\u001B[1;32m---> 20\u001B[1;33m         \u001B[0mself\u001B[0m\u001B[1;33m.\u001B[0m\u001B[0mleague_id\u001B[0m \u001B[1;33m=\u001B[0m \u001B[0mteam_key\u001B[0m\u001B[1;33m[\u001B[0m\u001B[1;36m0\u001B[0m\u001B[1;33m:\u001B[0m\u001B[0mteam_key\u001B[0m\u001B[1;33m.\u001B[0m\u001B[0mfind\u001B[0m\u001B[1;33m(\u001B[0m\u001B[1;34m\".t\"\u001B[0m\u001B[1;33m)\u001B[0m\u001B[1;33m]\u001B[0m\u001B[1;33m\u001B[0m\u001B[1;33m\u001B[0m\u001B[0m\n\u001B[0m\u001B[0;32m     21\u001B[0m         \u001B[0mself\u001B[0m\u001B[1;33m.\u001B[0m\u001B[0mleague_prefix\u001B[0m \u001B[1;33m=\u001B[0m \u001B[0mteam_key\u001B[0m\u001B[1;33m[\u001B[0m\u001B[1;36m0\u001B[0m\u001B[1;33m:\u001B[0m\u001B[0mteam_key\u001B[0m\u001B[1;33m.\u001B[0m\u001B[0mfind\u001B[0m\u001B[1;33m(\u001B[0m\u001B[1;34m'.'\u001B[0m\u001B[1;33m)\u001B[0m\u001B[1;33m]\u001B[0m\u001B[1;33m\u001B[0m\u001B[1;33m\u001B[0m\u001B[0m\n\u001B[0;32m     22\u001B[0m         \u001B[0mself\u001B[0m\u001B[1;33m.\u001B[0m\u001B[0myhandler\u001B[0m \u001B[1;33m=\u001B[0m \u001B[0myhandler\u001B[0m\u001B[1;33m.\u001B[0m\u001B[0mYHandler\u001B[0m\u001B[1;33m(\u001B[0m\u001B[0msc\u001B[0m\u001B[1;33m)\u001B[0m\u001B[1;33m\u001B[0m\u001B[1;33m\u001B[0m\u001B[0m\n",
      "\u001B[1;31mAttributeError\u001B[0m: 'dict' object has no attribute 'find'"
     ]
    }
   ],
   "source": [
    "team_player_list(NUNN_OF_YALL_BETTA)"
   ],
   "metadata": {
    "collapsed": false,
    "pycharm": {
     "name": "#%%\n"
    }
   }
  },
  {
   "cell_type": "code",
   "execution_count": 7,
   "outputs": [
    {
     "data": {
      "text/plain": "[{'team_key': '402.l.55374.t.1', 'name': 'LaLaLand'},\n {'team_key': '402.l.55374.t.2', 'name': 'Autopick'},\n {'team_key': '402.l.55374.t.3', 'name': 'CrabbeHerByThePussy'},\n {'team_key': '402.l.55374.t.4', 'name': \"Magic's Johnson\"},\n {'team_key': '402.l.55374.t.5', 'name': 'McCurry'},\n {'team_key': '402.l.55374.t.6', 'name': \"Nunn of Y'all Betta\"},\n {'team_key': '402.l.55374.t.7', 'name': 'Russty Cuntbrooks'},\n {'team_key': '402.l.55374.t.8', 'name': 'Wakanda Forever'},\n {'team_key': '402.l.55374.t.9', 'name': 'Swaggy P'},\n {'team_key': '402.l.55374.t.10', 'name': 'yOBItch Toppin Me'},\n {'team_key': '402.l.55374.t.11', 'name': \"Tvon's Tip-Top Team\"},\n {'team_key': '402.l.55374.t.12', 'name': 'El Ladrón de Cabras'}]"
     },
     "execution_count": 7,
     "metadata": {},
     "output_type": "execute_result"
    }
   ],
   "source": [
    "league_team_list"
   ],
   "metadata": {
    "collapsed": false,
    "pycharm": {
     "name": "#%%\n"
    }
   }
  },
  {
   "cell_type": "code",
   "execution_count": 14,
   "outputs": [
    {
     "data": {
      "text/plain": "'402.l.55374.t.1'"
     },
     "execution_count": 14,
     "metadata": {},
     "output_type": "execute_result"
    }
   ],
   "source": [
    "\"\".join([x[\"team_key\"] for x in league_team_list if x[\"name\"] == 'LaLaLand'])"
   ],
   "metadata": {
    "collapsed": false,
    "pycharm": {
     "name": "#%%\n"
    }
   }
  },
  {
   "cell_type": "code",
   "execution_count": 28,
   "outputs": [
    {
     "name": "stderr",
     "output_type": "stream",
     "text": [
      "[2021-01-29 18:32:24,624 DEBUG] [yahoo_oauth.oauth.__init__] Checking \n",
      "[2021-01-29 18:32:24,629 DEBUG] [yahoo_oauth.oauth.token_is_valid] ELAPSED TIME : 975.6392359733582\n",
      "[2021-01-29 18:32:24,630 DEBUG] [yahoo_oauth.oauth.token_is_valid] TOKEN IS STILL VALID\n"
     ]
    },
    {
     "data": {
      "text/plain": "['LaMelo Ball',\n 'Shake Milton',\n 'Josh Richardson',\n 'Josh Hart',\n 'Serge Ibaka',\n 'Shai Gilgeous-Alexander',\n 'Clint Capela',\n 'Paul Millsap',\n 'Seth Curry',\n 'Bobby Portis',\n 'Damian Lillard',\n 'Tyler Herro',\n 'Ja Morant',\n 'Jaylen Brown',\n 'Lauri Markkanen']"
     },
     "execution_count": 28,
     "metadata": {},
     "output_type": "execute_result"
    }
   ],
   "source": [
    "streamlit_return_players_on_team(\"Autopick\")\n"
   ],
   "metadata": {
    "collapsed": false,
    "pycharm": {
     "name": "#%%\n"
    }
   }
  },
  {
   "cell_type": "code",
   "execution_count": 32,
   "outputs": [
    {
     "data": {
      "text/plain": "['Aaron Holiday',\n 'Aaron Nesmith',\n 'Abdel Nader',\n 'Adam Mokoka',\n 'Al-Farouq Aminu',\n 'Aleksej Pokusevski',\n 'Alen Smailagic',\n 'Alex Caruso',\n 'Alex Len',\n 'Alfonzo McKinnie',\n 'Amir Coffey',\n 'Andre Iguodala',\n 'Anfernee Simons',\n 'Anthony Gill',\n 'Aron Baynes',\n 'Ashton Hagans',\n 'Avery Bradley',\n 'Ben McLemore',\n 'Boban Marjanovic',\n 'Bogdan Bogdanovic',\n 'Bol Bol',\n 'Brad Wanamaker',\n 'Brandon Goodwin',\n 'Brian Bowen II',\n 'Brodric Thomas',\n 'Bruce Brown',\n 'Bruno Fernando',\n 'Bryn Forbes',\n 'CJ Elleby',\n 'Caleb Martin',\n 'Cameron Payne',\n 'Carsen Edwards',\n 'Cassius Stanley',\n 'Cassius Winston',\n 'Chandler Hutchison',\n 'Chimezie Metu',\n 'Chris Chiozza',\n 'Chris Clemons',\n 'Chris Silva',\n 'Chuma Okeke',\n 'Cody Martin',\n 'Cory Joseph',\n 'Cristiano Felicio',\n 'D.J. Augustin',\n 'D.J. Wilson',\n 'DaQuan Jeffries',\n 'Damian Jones',\n 'Damion Lee',\n 'Damyean Dotson',\n 'Daniel Gafford',\n 'Daniel Oturu',\n 'Danny Green',\n 'Danté Exum',\n 'Danuel House Jr.',\n 'Dario Saric',\n 'Darius Miller',\n 'David Nwaba',\n \"De'Anthony Melton\",\n \"DeAndre' Bembry\",\n 'Dean Wade',\n 'Deividas Sirvydis',\n 'Dennis Smith Jr.',\n 'Denzel Valentine',\n 'Derrick Favors',\n 'Derrick Jones Jr.',\n 'Desmond Bane',\n 'Devin Vassell',\n 'Devon Dotson',\n 'Devontae Cacok',\n 'Dorian Finney-Smith',\n 'Doug McDermott',\n 'Drew Eubanks',\n 'Dwayne Bacon',\n 'Dwight Howard',\n 'Dwight Powell',\n 'Dylan Windler',\n \"E'Twaun Moore\",\n 'Ed Davis',\n 'Edmond Sumner',\n 'Elfrid Payton',\n 'Elijah Hughes',\n 'Eric Paschall',\n 'Facundo Campazzo',\n 'Frank Jackson',\n 'Frank Kaminsky',\n 'Frank Ntilikina',\n 'Furkan Korkmaz',\n 'Gabe Vincent',\n 'Garrett Temple',\n 'Garrison Mathews',\n 'Gary Clark',\n 'Gary Harris',\n 'Gary Trent Jr.',\n 'Georges Niang',\n 'Glenn Robinson III',\n 'Goga Bitadze',\n 'Gorgui Dieng',\n 'Grant Riller',\n 'Grant Williams',\n 'Grayson Allen',\n 'Greg Whittington',\n 'Guillermo Hernangómez',\n 'Harry Giles III',\n 'Ignas Brazdeikis',\n 'Immanuel Quickley',\n 'Isaac Bonga',\n 'Isaiah Hartenstein',\n 'Isaiah Joe',\n 'Isaiah Roby',\n 'Isaiah Stewart',\n 'Ish Smith',\n 'JJ Redick',\n 'JaMychal Green',\n 'JaVale McGee',\n 'Jabari Parker',\n 'Jaden McDaniels',\n 'Jae Crowder',\n \"Jae'Sean Tate\",\n 'Jahlil Okafor',\n \"Jahmi'us Ramsey\",\n 'Jakarr Sampson',\n 'Jake Layman',\n 'Jalen Brunson',\n 'Jalen Harris',\n 'Jalen Lecque',\n 'Jalen McDaniels',\n 'Jalen Smith',\n 'James Ennis III',\n 'James Johnson',\n 'Jared Dudley',\n 'Jared Harper',\n 'Jarred Vanderbilt',\n 'Jarrell Brantley',\n 'Jarrett Culver',\n 'Javonte Green',\n 'Jaxson Hayes',\n 'Jay Scrubb',\n 'Jaylen Adams',\n 'Jaylen Nowell',\n 'Jeff Green',\n 'Jerome Robinson',\n 'Jevon Carter',\n 'John Konchar',\n 'Jonathan Isaac',\n 'Jontay Porter',\n 'Jordan Bell',\n 'Jordan Bone',\n 'Jordan McLaughlin',\n 'Jordan Nwora',\n 'Jordan Poole',\n 'Josh Green',\n 'Josh Hall',\n 'Josh Jackson',\n 'Josh Okogie',\n 'Juan Toscano-Anderson',\n 'Juancho Hernangómez',\n 'Justin Jackson',\n 'Justin James',\n 'Justise Winslow',\n 'Jusuf Nurkic',\n 'Juwan Morgan',\n 'KJ Martin Jr.',\n 'KZ Okpala',\n 'Karim Mane',\n 'Keita Bates-Diop',\n 'Kelan Martin',\n 'Keljin Blevins',\n 'Kendrick Nunn',\n 'Kenrich Williams',\n 'Kent Bazemore',\n 'Kentavious Caldwell-Pope',\n 'Kevin Knox II',\n 'Kevin Love',\n 'Kevon Looney',\n 'Khem Birch',\n 'Killian Hayes',\n 'Killian Tillie',\n 'Kira Lewis Jr.',\n 'Klay Thompson',\n 'Kostas Antetokounmpo',\n 'Kris Dunn',\n 'Kyle Guy',\n 'Kyle Kuzma',\n 'Lamar Stevens',\n 'Landry Shamet',\n 'Langston Galloway',\n 'Lonnie Walker IV',\n 'Luka Samanic',\n 'Luke Kornet',\n 'Malachi Flynn',\n 'Malik Monk',\n 'Mamadi Diakite',\n 'Marcus Morris Sr.',\n 'Markelle Fultz',\n 'Markieff Morris',\n 'Markus Howard',\n 'Marques Bolden',\n 'Mason Jones',\n 'Matisse Thybulle',\n 'Matt Thomas',\n 'Matthew Dellavedova',\n 'Max Strus',\n 'Maxi Kleber',\n 'Meyers Leonard',\n 'Mfiondu Kabengele',\n 'Michael Carter-Williams',\n 'Mike Muscala',\n 'Mike Scott',\n 'Miye Oni',\n 'Mo Bamba',\n 'Moe Harkless',\n 'Monte Morris',\n 'Moses Brown',\n 'Mychal Mulder',\n 'Naji Marshall',\n 'Nassir Little',\n 'Nate Darling',\n 'Nate Hinton',\n 'Nathan Knight',\n 'Naz Reid',\n 'Nemanja Bjelica',\n 'Nick Richards',\n 'Nickeil Alexander-Walker',\n 'Nico Mannion',\n 'Nicolas Claxton',\n 'Nicolo Melli',\n 'Norvel Pelle',\n 'Onyeka Okongwu',\n 'PJ Dozier',\n 'Pat Connaughton',\n 'Patrick McCaw',\n 'Patrick Patterson',\n 'Patrick Williams',\n 'Paul Reed',\n 'Paul Watson',\n 'Payton Pritchard',\n 'Quinn Cook',\n 'Quinndary Weatherspoon',\n 'R.J. Hampton',\n 'Rajon Rondo',\n 'Raul Neto',\n 'Rayjon Tucker',\n 'Reggie Bullock',\n 'Reggie Jackson',\n 'Reggie Perry',\n 'Robert Woodard II',\n 'Robin Lopez',\n 'Rodions Kurucs',\n 'Rodney Hood',\n 'Rodney McGruder',\n 'Romeo Langford',\n \"Royce O'Neale\",\n 'Rudy Gay',\n 'Ryan Arcidiacono',\n 'Saben Lee',\n 'Saddiq Bey',\n 'Sam Merrill',\n 'Sean McDermott',\n 'Sekou Doumbouya',\n 'Semi Ojeleye',\n 'Shaquille Harrison',\n 'Sindarius Thornwell',\n 'Skylar Mays',\n 'Solomon Hill',\n 'Spencer Dinwiddie',\n 'Stanley Johnson',\n 'Sterling Brown',\n 'Svi Mykhailiuk',\n 'T.J. McConnell',\n 'T.J. Warren',\n 'Tacko Fall',\n 'Taj Gibson',\n 'Talen Horton-Tucker',\n 'Taurean Prince',\n 'Terance Mann',\n 'Terence Davis',\n 'Terrance Ferguson',\n 'Thaddeus Young',\n 'Thanasis Antetokounmpo',\n 'Theo Maledon',\n 'Theo Pinson',\n 'Thomas Bryant',\n 'Tim Frazier',\n 'Timothé Luwawu-Cabarrot',\n 'Tomas Satoransky',\n 'Tony Bradley',\n 'Tony Snell',\n 'Torrey Craig',\n 'Tre Jones',\n 'Tremont Waters',\n 'Trent Forrest',\n 'Trevor Ariza',\n 'Trey Burke',\n 'Trey Lyles',\n 'Tristan Thompson',\n 'Troy Brown Jr.',\n 'Ty Jerome',\n 'Ty-Shon Alexander',\n 'Tyler Bey',\n 'Tyler Johnson',\n 'Tyrell Terry',\n 'Tyrese Maxey',\n 'Tyus Jones',\n 'Udoka Azubuike',\n 'Udonis Haslem',\n 'Vernon Carey Jr.',\n 'Vincent Poirier',\n 'Vlatko Cancar',\n 'Wendell Carter Jr.',\n 'Wenyen Gabriel',\n 'Wes Iwundu',\n 'Wesley Matthews',\n 'Will Magnay',\n 'Willie Cauley-Stein',\n 'Xavier Tillman',\n 'Yuta Watanabe',\n 'Zach Collins',\n 'Zeke Nnaji']"
     },
     "execution_count": 32,
     "metadata": {},
     "output_type": "execute_result"
    }
   ],
   "source": [
    "get_league_free_agents()"
   ],
   "metadata": {
    "collapsed": false,
    "pycharm": {
     "name": "#%%\n"
    }
   }
  },
  {
   "cell_type": "code",
   "execution_count": 5,
   "outputs": [
    {
     "ename": "NameError",
     "evalue": "name 'get_team_roster' is not defined",
     "output_type": "error",
     "traceback": [
      "\u001B[1;31m---------------------------------------------------------------------------\u001B[0m",
      "\u001B[1;31mNameError\u001B[0m                                 Traceback (most recent call last)",
      "\u001B[1;32m<ipython-input-5-283f8357fee9>\u001B[0m in \u001B[0;36m<module>\u001B[1;34m\u001B[0m\n\u001B[1;32m----> 1\u001B[1;33m \u001B[0mnunn_yall_betta_team_avg_9cat\u001B[0m \u001B[1;33m=\u001B[0m \u001B[0mget_team_roster\u001B[0m\u001B[1;33m(\u001B[0m\u001B[0mNUNN_OF_YALL_BETTA\u001B[0m\u001B[1;33m)\u001B[0m\u001B[1;33m\u001B[0m\u001B[1;33m\u001B[0m\u001B[0m\n\u001B[0m\u001B[0;32m      2\u001B[0m \u001B[1;33m\u001B[0m\u001B[0m\n",
      "\u001B[1;31mNameError\u001B[0m: name 'get_team_roster' is not defined"
     ]
    }
   ],
   "source": [
    "nunn_yall_betta_team_avg_9cat = get_team_roster(NUNN_OF_YALL_BETTA)"
   ],
   "metadata": {
    "collapsed": false,
    "pycharm": {
     "name": "#%%\n"
    }
   }
  },
  {
   "cell_type": "code",
   "execution_count": 16,
   "outputs": [],
   "source": [
    "def streamlit_waiver_add_and_drop(current_9cat_roster_averages, player_to_drop, player_to_add):\n",
    "\n",
    "    team_players_9cat_stats_dataframe = current_9cat_roster_averages\n",
    "    current_team_9cat_average_stats = pd.DataFrame(team_players_9cat_stats_dataframe\n",
    "                                                   .loc[MEAN_ROW]).T.drop(PLAYER_COLUMN, axis=1)\n",
    "\n",
    "    removed_mean_dropped_player_dataframe = remove_mean_and_player\\\n",
    "        (team_players_9cat_stats_dataframe, player_to_drop)\n",
    "\n",
    "    added_player_9cat_averages = p9ca.get_player_9cat_season_average(player_to_add)\n",
    "    new_team_9cat_average_stats_dataframe = removed_mean_dropped_player_dataframe.append\\\n",
    "        (added_player_9cat_averages)\n",
    "    new_team_9cat_average_stats_dataframe.reset_index(inplace=True, drop=True)\n",
    "\n",
    "    new_team_9cat_average_stats_dataframe = format_roster_dataframe \\\n",
    "        (new_team_9cat_average_stats_dataframe)\n",
    "\n",
    "    new_team_9cat_average_stats = pd.DataFrame(new_team_9cat_average_stats_dataframe\n",
    "                                                   .loc[MEAN_ROW]).T.drop(PLAYER_COLUMN, axis=1)\n",
    "\n",
    "    difference_team_9cat_averages = drop_add_mean_9cat_difference(current_team_9cat_averages,\n",
    "                                              new_team_9cat_averages)\n",
    "\n",
    "    return team_players_9cat_stats_dataframe, current_team_9cat_average_stats, \\\n",
    "           new_team_9cat_average_stats_dataframe, new_team_9cat_average_stats, difference_team_9cat_averages"
   ],
   "metadata": {
    "collapsed": false,
    "pycharm": {
     "name": "#%%\n"
    }
   }
  },
  {
   "cell_type": "code",
   "execution_count": 17,
   "outputs": [],
   "source": [
    "a, b, c, d = streamlit_waiver_add_and_drop(nunn_yall_betta_team_avg_9cat, \"Will Barton\", \"Anthony \"\n",
    "                                                                                     \"Davis\")"
   ],
   "metadata": {
    "collapsed": false,
    "pycharm": {
     "name": "#%%\n"
    }
   }
  },
  {
   "cell_type": "code",
   "execution_count": 21,
   "outputs": [
    {
     "data": {
      "text/plain": "     FG_PCT FT_PCT  FG3M    PTS   REB   AST   STL   BLK   TOV\nmean  0.474  0.824  1.95  16.21  5.39  3.72  1.05  0.51  1.66",
      "text/html": "<div>\n<style scoped>\n    .dataframe tbody tr th:only-of-type {\n        vertical-align: middle;\n    }\n\n    .dataframe tbody tr th {\n        vertical-align: top;\n    }\n\n    .dataframe thead th {\n        text-align: right;\n    }\n</style>\n<table border=\"1\" class=\"dataframe\">\n  <thead>\n    <tr style=\"text-align: right;\">\n      <th></th>\n      <th>FG_PCT</th>\n      <th>FT_PCT</th>\n      <th>FG3M</th>\n      <th>PTS</th>\n      <th>REB</th>\n      <th>AST</th>\n      <th>STL</th>\n      <th>BLK</th>\n      <th>TOV</th>\n    </tr>\n  </thead>\n  <tbody>\n    <tr>\n      <th>mean</th>\n      <td>0.474</td>\n      <td>0.824</td>\n      <td>1.95</td>\n      <td>16.21</td>\n      <td>5.39</td>\n      <td>3.72</td>\n      <td>1.05</td>\n      <td>0.51</td>\n      <td>1.66</td>\n    </tr>\n  </tbody>\n</table>\n</div>"
     },
     "execution_count": 21,
     "metadata": {},
     "output_type": "execute_result"
    }
   ],
   "source": [
    "d"
   ],
   "metadata": {
    "collapsed": false,
    "pycharm": {
     "name": "#%%\n"
    }
   }
  },
  {
   "cell_type": "code",
   "execution_count": 15,
   "outputs": [
    {
     "data": {
      "text/plain": "               PLAYER FG_PCT FT_PCT  FG3M    PTS    REB   AST   STL   BLK  \\\n0         Patty Mills  0.469  0.926  2.74  14.47   1.74  2.84  0.63  0.05   \n1        Marcus Smart  0.398  0.742  1.75  13.62   2.81  6.00  1.81  0.50   \n2     Wayne Ellington  0.542  0.727  3.85  14.46   2.23  1.23  0.54  0.23   \n3        Jimmy Butler  0.442  0.931  0.00  15.83   5.50  5.33  2.17  0.67   \n4     Khris Middleton  0.509  0.929  2.56  21.56   6.61  5.94  1.06  0.17   \n5     Duncan Robinson  0.427  0.879  3.39  13.44   4.06  1.72  0.44  0.33   \n6       Pascal Siakam  0.449  0.757  1.06  18.94   7.94  4.44  0.81  0.50   \n7         Enes Kanter  0.613  0.806  0.00  10.29  10.24  1.18  0.65  0.94   \n8        Eric Bledsoe  0.439  0.647  2.25  13.88   3.75  3.62  0.88  0.31   \n9     Cameron Johnson  0.447  0.824  2.41  11.71   3.41  1.59  0.71  0.41   \n10        Will Barton  0.411  0.735  1.37  10.68   4.00  2.95  0.84  0.53   \n11    Malcolm Brogdon  0.456  0.908  2.89  22.74   4.26  7.16  1.42  0.21   \n12        Jeremy Lamb  0.475  0.941  1.67  13.67   4.67  1.33  1.00  0.50   \n13      Davis Bertans  0.349  0.800  2.58  10.92   3.08  1.25  0.58  0.25   \n14       Nikola Jokic  0.568  0.830  1.26  25.68  11.74  8.74  1.74  0.58   \nmean              NaN  0.466  0.825  1.99  15.46   5.07  3.69  1.02  0.41   \n\n       TOV  \n0     0.89  \n1     1.81  \n2     0.92  \n3     1.83  \n4     2.17  \n5     1.56  \n6     2.62  \n7     1.00  \n8     2.00  \n9     0.82  \n10    1.32  \n11    2.05  \n12    1.00  \n13    0.50  \n14    4.00  \nmean  1.63  ",
      "text/html": "<div>\n<style scoped>\n    .dataframe tbody tr th:only-of-type {\n        vertical-align: middle;\n    }\n\n    .dataframe tbody tr th {\n        vertical-align: top;\n    }\n\n    .dataframe thead th {\n        text-align: right;\n    }\n</style>\n<table border=\"1\" class=\"dataframe\">\n  <thead>\n    <tr style=\"text-align: right;\">\n      <th></th>\n      <th>PLAYER</th>\n      <th>FG_PCT</th>\n      <th>FT_PCT</th>\n      <th>FG3M</th>\n      <th>PTS</th>\n      <th>REB</th>\n      <th>AST</th>\n      <th>STL</th>\n      <th>BLK</th>\n      <th>TOV</th>\n    </tr>\n  </thead>\n  <tbody>\n    <tr>\n      <th>0</th>\n      <td>Patty Mills</td>\n      <td>0.469</td>\n      <td>0.926</td>\n      <td>2.74</td>\n      <td>14.47</td>\n      <td>1.74</td>\n      <td>2.84</td>\n      <td>0.63</td>\n      <td>0.05</td>\n      <td>0.89</td>\n    </tr>\n    <tr>\n      <th>1</th>\n      <td>Marcus Smart</td>\n      <td>0.398</td>\n      <td>0.742</td>\n      <td>1.75</td>\n      <td>13.62</td>\n      <td>2.81</td>\n      <td>6.00</td>\n      <td>1.81</td>\n      <td>0.50</td>\n      <td>1.81</td>\n    </tr>\n    <tr>\n      <th>2</th>\n      <td>Wayne Ellington</td>\n      <td>0.542</td>\n      <td>0.727</td>\n      <td>3.85</td>\n      <td>14.46</td>\n      <td>2.23</td>\n      <td>1.23</td>\n      <td>0.54</td>\n      <td>0.23</td>\n      <td>0.92</td>\n    </tr>\n    <tr>\n      <th>3</th>\n      <td>Jimmy Butler</td>\n      <td>0.442</td>\n      <td>0.931</td>\n      <td>0.00</td>\n      <td>15.83</td>\n      <td>5.50</td>\n      <td>5.33</td>\n      <td>2.17</td>\n      <td>0.67</td>\n      <td>1.83</td>\n    </tr>\n    <tr>\n      <th>4</th>\n      <td>Khris Middleton</td>\n      <td>0.509</td>\n      <td>0.929</td>\n      <td>2.56</td>\n      <td>21.56</td>\n      <td>6.61</td>\n      <td>5.94</td>\n      <td>1.06</td>\n      <td>0.17</td>\n      <td>2.17</td>\n    </tr>\n    <tr>\n      <th>5</th>\n      <td>Duncan Robinson</td>\n      <td>0.427</td>\n      <td>0.879</td>\n      <td>3.39</td>\n      <td>13.44</td>\n      <td>4.06</td>\n      <td>1.72</td>\n      <td>0.44</td>\n      <td>0.33</td>\n      <td>1.56</td>\n    </tr>\n    <tr>\n      <th>6</th>\n      <td>Pascal Siakam</td>\n      <td>0.449</td>\n      <td>0.757</td>\n      <td>1.06</td>\n      <td>18.94</td>\n      <td>7.94</td>\n      <td>4.44</td>\n      <td>0.81</td>\n      <td>0.50</td>\n      <td>2.62</td>\n    </tr>\n    <tr>\n      <th>7</th>\n      <td>Enes Kanter</td>\n      <td>0.613</td>\n      <td>0.806</td>\n      <td>0.00</td>\n      <td>10.29</td>\n      <td>10.24</td>\n      <td>1.18</td>\n      <td>0.65</td>\n      <td>0.94</td>\n      <td>1.00</td>\n    </tr>\n    <tr>\n      <th>8</th>\n      <td>Eric Bledsoe</td>\n      <td>0.439</td>\n      <td>0.647</td>\n      <td>2.25</td>\n      <td>13.88</td>\n      <td>3.75</td>\n      <td>3.62</td>\n      <td>0.88</td>\n      <td>0.31</td>\n      <td>2.00</td>\n    </tr>\n    <tr>\n      <th>9</th>\n      <td>Cameron Johnson</td>\n      <td>0.447</td>\n      <td>0.824</td>\n      <td>2.41</td>\n      <td>11.71</td>\n      <td>3.41</td>\n      <td>1.59</td>\n      <td>0.71</td>\n      <td>0.41</td>\n      <td>0.82</td>\n    </tr>\n    <tr>\n      <th>10</th>\n      <td>Will Barton</td>\n      <td>0.411</td>\n      <td>0.735</td>\n      <td>1.37</td>\n      <td>10.68</td>\n      <td>4.00</td>\n      <td>2.95</td>\n      <td>0.84</td>\n      <td>0.53</td>\n      <td>1.32</td>\n    </tr>\n    <tr>\n      <th>11</th>\n      <td>Malcolm Brogdon</td>\n      <td>0.456</td>\n      <td>0.908</td>\n      <td>2.89</td>\n      <td>22.74</td>\n      <td>4.26</td>\n      <td>7.16</td>\n      <td>1.42</td>\n      <td>0.21</td>\n      <td>2.05</td>\n    </tr>\n    <tr>\n      <th>12</th>\n      <td>Jeremy Lamb</td>\n      <td>0.475</td>\n      <td>0.941</td>\n      <td>1.67</td>\n      <td>13.67</td>\n      <td>4.67</td>\n      <td>1.33</td>\n      <td>1.00</td>\n      <td>0.50</td>\n      <td>1.00</td>\n    </tr>\n    <tr>\n      <th>13</th>\n      <td>Davis Bertans</td>\n      <td>0.349</td>\n      <td>0.800</td>\n      <td>2.58</td>\n      <td>10.92</td>\n      <td>3.08</td>\n      <td>1.25</td>\n      <td>0.58</td>\n      <td>0.25</td>\n      <td>0.50</td>\n    </tr>\n    <tr>\n      <th>14</th>\n      <td>Nikola Jokic</td>\n      <td>0.568</td>\n      <td>0.830</td>\n      <td>1.26</td>\n      <td>25.68</td>\n      <td>11.74</td>\n      <td>8.74</td>\n      <td>1.74</td>\n      <td>0.58</td>\n      <td>4.00</td>\n    </tr>\n    <tr>\n      <th>mean</th>\n      <td>NaN</td>\n      <td>0.466</td>\n      <td>0.825</td>\n      <td>1.99</td>\n      <td>15.46</td>\n      <td>5.07</td>\n      <td>3.69</td>\n      <td>1.02</td>\n      <td>0.41</td>\n      <td>1.63</td>\n    </tr>\n  </tbody>\n</table>\n</div>"
     },
     "execution_count": 15,
     "metadata": {},
     "output_type": "execute_result"
    }
   ],
   "source": [
    "nunn_yall_betta_team_avg_9cat"
   ],
   "metadata": {
    "collapsed": false,
    "pycharm": {
     "name": "#%%\n"
    }
   }
  },
  {
   "cell_type": "code",
   "execution_count": 51,
   "outputs": [],
   "source": [
    "# Function power ranking\n",
    "def power_rankings(dataframe):\n",
    "\n",
    "    power_ranking_dataframe = dataframe.copy()\n",
    "    try:\n",
    "        power_ranking_dataframe.drop(MEAN_ROW, inplace=True)\n",
    "    except KeyError:\n",
    "        pass\n",
    "    for column in power_ranking_dataframe.columns[1:]:\n",
    "        if column != \"TOV\":\n",
    "            sorted_points = power_ranking_dataframe[column].sort_values(ascending=False)\n",
    "        else:\n",
    "            sorted_points = power_ranking_dataframe[column].sort_values(ascending=True)\n",
    "\n",
    "        sorted_points.drop_duplicates(inplace=True)\n",
    "\n",
    "        sorting_dictionary = dict()\n",
    "\n",
    "        count = 1\n",
    "        for point in sorted_points:\n",
    "            sorting_dictionary[point] = count\n",
    "            count += 1\n",
    "\n",
    "        power_ranking_dataframe[column + \" \"] = power_ranking_dataframe[column].map\\\n",
    "            (sorting_dictionary)\n",
    "\n",
    "    power_ranking_dataframe.drop(dataframe.columns[1:], axis=1, inplace=True)\n",
    "\n",
    "    return power_ranking_dataframe"
   ],
   "metadata": {
    "collapsed": false,
    "pycharm": {
     "name": "#%%\n"
    }
   }
  },
  {
   "cell_type": "code",
   "execution_count": 52,
   "outputs": [],
   "source": [
    "# # Single team average\n",
    "# sc = yahoo_fantasy_api_authentication()\n",
    "# league = yahoo_fantasy_league(sc)\n",
    "# nunn_yall_betta_team_avg_9cat = team_9cat_average_stats(NUNN_OF_YALL_BETTA, league)"
   ],
   "metadata": {
    "collapsed": false,
    "pycharm": {
     "name": "#%%\n"
    }
   }
  },
  {
   "cell_type": "code",
   "execution_count": 53,
   "outputs": [
    {
     "data": {
      "text/plain": "               PLAYER FG_PCT FT_PCT  FG3M    PTS    REB   AST   STL   BLK  \\\n0     Malcolm Brogdon  0.456  0.908  2.89  22.74   4.26  7.16  1.42  0.21   \n1         Jeremy Lamb  0.475  0.941  1.67  13.67   4.67  1.33  1.00  0.50   \n2     Wayne Ellington  0.516  0.727  3.57  13.43   2.21  1.21  0.57  0.21   \n3         Will Barton  0.411  0.735  1.37  10.68   4.00  2.95  0.84  0.53   \n4       Davis Bertans  0.349  0.800  2.58  10.92   3.08  1.25  0.58  0.25   \n5     Duncan Robinson  0.433  0.879  3.42  13.47   4.00  1.68  0.42  0.37   \n6       Pascal Siakam  0.449  0.757  1.06  18.94   7.94  4.44  0.81  0.50   \n7        Nikola Jokic  0.568  0.830  1.26  25.68  11.74  8.74  1.74  0.58   \n8        Eric Bledsoe  0.440  0.657  2.24  13.94   3.76  3.71  0.82  0.29   \n9     Cameron Johnson  0.442  0.850  2.33  11.39   3.44  1.50  0.67  0.39   \n10        Patty Mills  0.464  0.931  2.70  14.25   1.75  2.90  0.65  0.05   \n11       Marcus Smart  0.394  0.742  1.65  13.06   2.76  6.06  1.82  0.53   \n12       Jimmy Butler  0.438  0.911  0.00  17.86   5.71  5.71  1.86  0.57   \n13    Khris Middleton  0.510  0.933  2.63  21.37   6.47  5.84  1.00  0.16   \n14        Enes Kanter  0.621  0.767  0.00  10.94  10.28  1.17  0.61  0.89   \nmean              NaN  0.464  0.825  1.96  15.49   5.07  3.71  0.99  0.40   \n\n       TOV  \n0     2.05  \n1     1.00  \n2     0.86  \n3     1.32  \n4     0.50  \n5     1.58  \n6     2.62  \n7     4.00  \n8     2.00  \n9     0.78  \n10    0.95  \n11    1.76  \n12    1.57  \n13    2.26  \n14    1.06  \nmean  1.62  ",
      "text/html": "<div>\n<style scoped>\n    .dataframe tbody tr th:only-of-type {\n        vertical-align: middle;\n    }\n\n    .dataframe tbody tr th {\n        vertical-align: top;\n    }\n\n    .dataframe thead th {\n        text-align: right;\n    }\n</style>\n<table border=\"1\" class=\"dataframe\">\n  <thead>\n    <tr style=\"text-align: right;\">\n      <th></th>\n      <th>PLAYER</th>\n      <th>FG_PCT</th>\n      <th>FT_PCT</th>\n      <th>FG3M</th>\n      <th>PTS</th>\n      <th>REB</th>\n      <th>AST</th>\n      <th>STL</th>\n      <th>BLK</th>\n      <th>TOV</th>\n    </tr>\n  </thead>\n  <tbody>\n    <tr>\n      <th>0</th>\n      <td>Malcolm Brogdon</td>\n      <td>0.456</td>\n      <td>0.908</td>\n      <td>2.89</td>\n      <td>22.74</td>\n      <td>4.26</td>\n      <td>7.16</td>\n      <td>1.42</td>\n      <td>0.21</td>\n      <td>2.05</td>\n    </tr>\n    <tr>\n      <th>1</th>\n      <td>Jeremy Lamb</td>\n      <td>0.475</td>\n      <td>0.941</td>\n      <td>1.67</td>\n      <td>13.67</td>\n      <td>4.67</td>\n      <td>1.33</td>\n      <td>1.00</td>\n      <td>0.50</td>\n      <td>1.00</td>\n    </tr>\n    <tr>\n      <th>2</th>\n      <td>Wayne Ellington</td>\n      <td>0.516</td>\n      <td>0.727</td>\n      <td>3.57</td>\n      <td>13.43</td>\n      <td>2.21</td>\n      <td>1.21</td>\n      <td>0.57</td>\n      <td>0.21</td>\n      <td>0.86</td>\n    </tr>\n    <tr>\n      <th>3</th>\n      <td>Will Barton</td>\n      <td>0.411</td>\n      <td>0.735</td>\n      <td>1.37</td>\n      <td>10.68</td>\n      <td>4.00</td>\n      <td>2.95</td>\n      <td>0.84</td>\n      <td>0.53</td>\n      <td>1.32</td>\n    </tr>\n    <tr>\n      <th>4</th>\n      <td>Davis Bertans</td>\n      <td>0.349</td>\n      <td>0.800</td>\n      <td>2.58</td>\n      <td>10.92</td>\n      <td>3.08</td>\n      <td>1.25</td>\n      <td>0.58</td>\n      <td>0.25</td>\n      <td>0.50</td>\n    </tr>\n    <tr>\n      <th>5</th>\n      <td>Duncan Robinson</td>\n      <td>0.433</td>\n      <td>0.879</td>\n      <td>3.42</td>\n      <td>13.47</td>\n      <td>4.00</td>\n      <td>1.68</td>\n      <td>0.42</td>\n      <td>0.37</td>\n      <td>1.58</td>\n    </tr>\n    <tr>\n      <th>6</th>\n      <td>Pascal Siakam</td>\n      <td>0.449</td>\n      <td>0.757</td>\n      <td>1.06</td>\n      <td>18.94</td>\n      <td>7.94</td>\n      <td>4.44</td>\n      <td>0.81</td>\n      <td>0.50</td>\n      <td>2.62</td>\n    </tr>\n    <tr>\n      <th>7</th>\n      <td>Nikola Jokic</td>\n      <td>0.568</td>\n      <td>0.830</td>\n      <td>1.26</td>\n      <td>25.68</td>\n      <td>11.74</td>\n      <td>8.74</td>\n      <td>1.74</td>\n      <td>0.58</td>\n      <td>4.00</td>\n    </tr>\n    <tr>\n      <th>8</th>\n      <td>Eric Bledsoe</td>\n      <td>0.440</td>\n      <td>0.657</td>\n      <td>2.24</td>\n      <td>13.94</td>\n      <td>3.76</td>\n      <td>3.71</td>\n      <td>0.82</td>\n      <td>0.29</td>\n      <td>2.00</td>\n    </tr>\n    <tr>\n      <th>9</th>\n      <td>Cameron Johnson</td>\n      <td>0.442</td>\n      <td>0.850</td>\n      <td>2.33</td>\n      <td>11.39</td>\n      <td>3.44</td>\n      <td>1.50</td>\n      <td>0.67</td>\n      <td>0.39</td>\n      <td>0.78</td>\n    </tr>\n    <tr>\n      <th>10</th>\n      <td>Patty Mills</td>\n      <td>0.464</td>\n      <td>0.931</td>\n      <td>2.70</td>\n      <td>14.25</td>\n      <td>1.75</td>\n      <td>2.90</td>\n      <td>0.65</td>\n      <td>0.05</td>\n      <td>0.95</td>\n    </tr>\n    <tr>\n      <th>11</th>\n      <td>Marcus Smart</td>\n      <td>0.394</td>\n      <td>0.742</td>\n      <td>1.65</td>\n      <td>13.06</td>\n      <td>2.76</td>\n      <td>6.06</td>\n      <td>1.82</td>\n      <td>0.53</td>\n      <td>1.76</td>\n    </tr>\n    <tr>\n      <th>12</th>\n      <td>Jimmy Butler</td>\n      <td>0.438</td>\n      <td>0.911</td>\n      <td>0.00</td>\n      <td>17.86</td>\n      <td>5.71</td>\n      <td>5.71</td>\n      <td>1.86</td>\n      <td>0.57</td>\n      <td>1.57</td>\n    </tr>\n    <tr>\n      <th>13</th>\n      <td>Khris Middleton</td>\n      <td>0.510</td>\n      <td>0.933</td>\n      <td>2.63</td>\n      <td>21.37</td>\n      <td>6.47</td>\n      <td>5.84</td>\n      <td>1.00</td>\n      <td>0.16</td>\n      <td>2.26</td>\n    </tr>\n    <tr>\n      <th>14</th>\n      <td>Enes Kanter</td>\n      <td>0.621</td>\n      <td>0.767</td>\n      <td>0.00</td>\n      <td>10.94</td>\n      <td>10.28</td>\n      <td>1.17</td>\n      <td>0.61</td>\n      <td>0.89</td>\n      <td>1.06</td>\n    </tr>\n    <tr>\n      <th>mean</th>\n      <td>NaN</td>\n      <td>0.464</td>\n      <td>0.825</td>\n      <td>1.96</td>\n      <td>15.49</td>\n      <td>5.07</td>\n      <td>3.71</td>\n      <td>0.99</td>\n      <td>0.40</td>\n      <td>1.62</td>\n    </tr>\n  </tbody>\n</table>\n</div>"
     },
     "execution_count": 53,
     "metadata": {},
     "output_type": "execute_result"
    }
   ],
   "source": [
    "\n",
    "nunn_yall_betta_team_avg_9cat"
   ],
   "metadata": {
    "collapsed": false,
    "pycharm": {
     "name": "#%%\n"
    }
   }
  },
  {
   "cell_type": "code",
   "execution_count": 55,
   "outputs": [
    {
     "data": {
      "text/plain": "             PLAYER  FG_PCT   FT_PCT   FG3M   PTS   REB   AST   STL   BLK   \\\n0   Malcolm Brogdon        7        5      3     2     5     2     4    10   \n1       Jeremy Lamb        5        1      9     8     4    12     5     5   \n2   Wayne Ellington        3       14      1    10    11    14    13    10   \n3       Will Barton       13       13     11    15     6     8     6     4   \n4     Davis Bertans       15        9      6    14     9    13    12     9   \n5   Duncan Robinson       12        6      2     9     6    10    14     7   \n6     Pascal Siakam        8       11     13     4     1     6     8     5   \n7      Nikola Jokic        2        8     12     1    12     1     3     2   \n8      Eric Bledsoe       10       15      8     7     7     7     7     8   \n9   Cameron Johnson        9        7      7    12     8    11     9     6   \n10      Patty Mills        6        3      4     6    14     9    10    12   \n11     Marcus Smart       14       12     10    11    10     3     2     4   \n12     Jimmy Butler       11        4     14     5     3     5     1     3   \n13  Khris Middleton        4        2      5     3     2     4     5    11   \n14      Enes Kanter        1       10     14    13    13    15    11     1   \n\n    TOV   \n0     12  \n1      5  \n2      3  \n3      7  \n4      1  \n5      9  \n6     14  \n7     15  \n8     11  \n9      2  \n10     4  \n11    10  \n12     8  \n13    13  \n14     6  ",
      "text/html": "<div>\n<style scoped>\n    .dataframe tbody tr th:only-of-type {\n        vertical-align: middle;\n    }\n\n    .dataframe tbody tr th {\n        vertical-align: top;\n    }\n\n    .dataframe thead th {\n        text-align: right;\n    }\n</style>\n<table border=\"1\" class=\"dataframe\">\n  <thead>\n    <tr style=\"text-align: right;\">\n      <th></th>\n      <th>PLAYER</th>\n      <th>FG_PCT</th>\n      <th>FT_PCT</th>\n      <th>FG3M</th>\n      <th>PTS</th>\n      <th>REB</th>\n      <th>AST</th>\n      <th>STL</th>\n      <th>BLK</th>\n      <th>TOV</th>\n    </tr>\n  </thead>\n  <tbody>\n    <tr>\n      <th>0</th>\n      <td>Malcolm Brogdon</td>\n      <td>7</td>\n      <td>5</td>\n      <td>3</td>\n      <td>2</td>\n      <td>5</td>\n      <td>2</td>\n      <td>4</td>\n      <td>10</td>\n      <td>12</td>\n    </tr>\n    <tr>\n      <th>1</th>\n      <td>Jeremy Lamb</td>\n      <td>5</td>\n      <td>1</td>\n      <td>9</td>\n      <td>8</td>\n      <td>4</td>\n      <td>12</td>\n      <td>5</td>\n      <td>5</td>\n      <td>5</td>\n    </tr>\n    <tr>\n      <th>2</th>\n      <td>Wayne Ellington</td>\n      <td>3</td>\n      <td>14</td>\n      <td>1</td>\n      <td>10</td>\n      <td>11</td>\n      <td>14</td>\n      <td>13</td>\n      <td>10</td>\n      <td>3</td>\n    </tr>\n    <tr>\n      <th>3</th>\n      <td>Will Barton</td>\n      <td>13</td>\n      <td>13</td>\n      <td>11</td>\n      <td>15</td>\n      <td>6</td>\n      <td>8</td>\n      <td>6</td>\n      <td>4</td>\n      <td>7</td>\n    </tr>\n    <tr>\n      <th>4</th>\n      <td>Davis Bertans</td>\n      <td>15</td>\n      <td>9</td>\n      <td>6</td>\n      <td>14</td>\n      <td>9</td>\n      <td>13</td>\n      <td>12</td>\n      <td>9</td>\n      <td>1</td>\n    </tr>\n    <tr>\n      <th>5</th>\n      <td>Duncan Robinson</td>\n      <td>12</td>\n      <td>6</td>\n      <td>2</td>\n      <td>9</td>\n      <td>6</td>\n      <td>10</td>\n      <td>14</td>\n      <td>7</td>\n      <td>9</td>\n    </tr>\n    <tr>\n      <th>6</th>\n      <td>Pascal Siakam</td>\n      <td>8</td>\n      <td>11</td>\n      <td>13</td>\n      <td>4</td>\n      <td>1</td>\n      <td>6</td>\n      <td>8</td>\n      <td>5</td>\n      <td>14</td>\n    </tr>\n    <tr>\n      <th>7</th>\n      <td>Nikola Jokic</td>\n      <td>2</td>\n      <td>8</td>\n      <td>12</td>\n      <td>1</td>\n      <td>12</td>\n      <td>1</td>\n      <td>3</td>\n      <td>2</td>\n      <td>15</td>\n    </tr>\n    <tr>\n      <th>8</th>\n      <td>Eric Bledsoe</td>\n      <td>10</td>\n      <td>15</td>\n      <td>8</td>\n      <td>7</td>\n      <td>7</td>\n      <td>7</td>\n      <td>7</td>\n      <td>8</td>\n      <td>11</td>\n    </tr>\n    <tr>\n      <th>9</th>\n      <td>Cameron Johnson</td>\n      <td>9</td>\n      <td>7</td>\n      <td>7</td>\n      <td>12</td>\n      <td>8</td>\n      <td>11</td>\n      <td>9</td>\n      <td>6</td>\n      <td>2</td>\n    </tr>\n    <tr>\n      <th>10</th>\n      <td>Patty Mills</td>\n      <td>6</td>\n      <td>3</td>\n      <td>4</td>\n      <td>6</td>\n      <td>14</td>\n      <td>9</td>\n      <td>10</td>\n      <td>12</td>\n      <td>4</td>\n    </tr>\n    <tr>\n      <th>11</th>\n      <td>Marcus Smart</td>\n      <td>14</td>\n      <td>12</td>\n      <td>10</td>\n      <td>11</td>\n      <td>10</td>\n      <td>3</td>\n      <td>2</td>\n      <td>4</td>\n      <td>10</td>\n    </tr>\n    <tr>\n      <th>12</th>\n      <td>Jimmy Butler</td>\n      <td>11</td>\n      <td>4</td>\n      <td>14</td>\n      <td>5</td>\n      <td>3</td>\n      <td>5</td>\n      <td>1</td>\n      <td>3</td>\n      <td>8</td>\n    </tr>\n    <tr>\n      <th>13</th>\n      <td>Khris Middleton</td>\n      <td>4</td>\n      <td>2</td>\n      <td>5</td>\n      <td>3</td>\n      <td>2</td>\n      <td>4</td>\n      <td>5</td>\n      <td>11</td>\n      <td>13</td>\n    </tr>\n    <tr>\n      <th>14</th>\n      <td>Enes Kanter</td>\n      <td>1</td>\n      <td>10</td>\n      <td>14</td>\n      <td>13</td>\n      <td>13</td>\n      <td>15</td>\n      <td>11</td>\n      <td>1</td>\n      <td>6</td>\n    </tr>\n  </tbody>\n</table>\n</div>"
     },
     "execution_count": 55,
     "metadata": {},
     "output_type": "execute_result"
    }
   ],
   "source": [
    "power_rankins_dataframe = power_rankings(nunn_yall_betta_team_avg_9cat)\n",
    "power_rankins_dataframe"
   ],
   "metadata": {
    "collapsed": false,
    "pycharm": {
     "name": "#%%\n"
    }
   }
  },
  {
   "cell_type": "code",
   "execution_count": 56,
   "outputs": [
    {
     "name": "stdout",
     "output_type": "stream",
     "text": [
      "<class 'pandas.core.frame.DataFrame'>\n",
      "Index: 15 entries, 0 to 14\n",
      "Data columns (total 10 columns):\n",
      " #   Column   Non-Null Count  Dtype \n",
      "---  ------   --------------  ----- \n",
      " 0   PLAYER   15 non-null     object\n",
      " 1   FG_PCT   15 non-null     int64 \n",
      " 2   FT_PCT   15 non-null     int64 \n",
      " 3   FG3M     15 non-null     int64 \n",
      " 4   PTS      15 non-null     int64 \n",
      " 5   REB      15 non-null     int64 \n",
      " 6   AST      15 non-null     int64 \n",
      " 7   STL      15 non-null     int64 \n",
      " 8   BLK      15 non-null     int64 \n",
      " 9   TOV      15 non-null     int64 \n",
      "dtypes: int64(9), object(1)\n",
      "memory usage: 1.3+ KB\n"
     ]
    }
   ],
   "source": [
    "power_rankins_dataframe.info()\n"
   ],
   "metadata": {
    "collapsed": false,
    "pycharm": {
     "name": "#%%\n"
    }
   }
  },
  {
   "cell_type": "code",
   "execution_count": 59,
   "outputs": [
    {
     "ename": "ValueError",
     "evalue": "Columns must be same length as key",
     "output_type": "error",
     "traceback": [
      "\u001B[1;31m---------------------------------------------------------------------------\u001B[0m",
      "\u001B[1;31mValueError\u001B[0m                                Traceback (most recent call last)",
      "\u001B[1;32m<ipython-input-59-a285e87cefcc>\u001B[0m in \u001B[0;36m<module>\u001B[1;34m\u001B[0m\n\u001B[0;32m      1\u001B[0m \u001B[0mtemp_df\u001B[0m \u001B[1;33m=\u001B[0m \u001B[0mpd\u001B[0m\u001B[1;33m.\u001B[0m\u001B[0mDataFrame\u001B[0m\u001B[1;33m(\u001B[0m\u001B[1;33m)\u001B[0m\u001B[1;33m\u001B[0m\u001B[1;33m\u001B[0m\u001B[0m\n\u001B[0;32m      2\u001B[0m \u001B[0mcols_to_keep\u001B[0m \u001B[1;33m=\u001B[0m \u001B[0mpower_rankins_dataframe\u001B[0m\u001B[1;33m.\u001B[0m\u001B[0mcolumns\u001B[0m\u001B[1;33m[\u001B[0m\u001B[1;36m1\u001B[0m\u001B[1;33m:\u001B[0m\u001B[1;33m]\u001B[0m\u001B[1;33m\u001B[0m\u001B[1;33m\u001B[0m\u001B[0m\n\u001B[1;32m----> 3\u001B[1;33m \u001B[0mtemp_df\u001B[0m\u001B[1;33m[\u001B[0m\u001B[0mcols_to_keep\u001B[0m\u001B[1;33m]\u001B[0m \u001B[1;33m=\u001B[0m \u001B[0mpower_rankins_dataframe\u001B[0m\u001B[1;33m\u001B[0m\u001B[1;33m\u001B[0m\u001B[0m\n\u001B[0m\u001B[0;32m      4\u001B[0m \u001B[1;33m\u001B[0m\u001B[0m\n",
      "\u001B[1;32mc:\\users\\jaume\\documents\\python projects\\waiver_wire_machine\\venv\\lib\\site-packages\\pandas\\core\\frame.py\u001B[0m in \u001B[0;36m__setitem__\u001B[1;34m(self, key, value)\u001B[0m\n\u001B[0;32m   3158\u001B[0m             \u001B[0mself\u001B[0m\u001B[1;33m.\u001B[0m\u001B[0m_setitem_frame\u001B[0m\u001B[1;33m(\u001B[0m\u001B[0mkey\u001B[0m\u001B[1;33m,\u001B[0m \u001B[0mvalue\u001B[0m\u001B[1;33m)\u001B[0m\u001B[1;33m\u001B[0m\u001B[1;33m\u001B[0m\u001B[0m\n\u001B[0;32m   3159\u001B[0m         \u001B[1;32melif\u001B[0m \u001B[0misinstance\u001B[0m\u001B[1;33m(\u001B[0m\u001B[0mkey\u001B[0m\u001B[1;33m,\u001B[0m \u001B[1;33m(\u001B[0m\u001B[0mSeries\u001B[0m\u001B[1;33m,\u001B[0m \u001B[0mnp\u001B[0m\u001B[1;33m.\u001B[0m\u001B[0mndarray\u001B[0m\u001B[1;33m,\u001B[0m \u001B[0mlist\u001B[0m\u001B[1;33m,\u001B[0m \u001B[0mIndex\u001B[0m\u001B[1;33m)\u001B[0m\u001B[1;33m)\u001B[0m\u001B[1;33m:\u001B[0m\u001B[1;33m\u001B[0m\u001B[1;33m\u001B[0m\u001B[0m\n\u001B[1;32m-> 3160\u001B[1;33m             \u001B[0mself\u001B[0m\u001B[1;33m.\u001B[0m\u001B[0m_setitem_array\u001B[0m\u001B[1;33m(\u001B[0m\u001B[0mkey\u001B[0m\u001B[1;33m,\u001B[0m \u001B[0mvalue\u001B[0m\u001B[1;33m)\u001B[0m\u001B[1;33m\u001B[0m\u001B[1;33m\u001B[0m\u001B[0m\n\u001B[0m\u001B[0;32m   3161\u001B[0m         \u001B[1;32melse\u001B[0m\u001B[1;33m:\u001B[0m\u001B[1;33m\u001B[0m\u001B[1;33m\u001B[0m\u001B[0m\n\u001B[0;32m   3162\u001B[0m             \u001B[1;31m# set column\u001B[0m\u001B[1;33m\u001B[0m\u001B[1;33m\u001B[0m\u001B[1;33m\u001B[0m\u001B[0m\n",
      "\u001B[1;32mc:\\users\\jaume\\documents\\python projects\\waiver_wire_machine\\venv\\lib\\site-packages\\pandas\\core\\frame.py\u001B[0m in \u001B[0;36m_setitem_array\u001B[1;34m(self, key, value)\u001B[0m\n\u001B[0;32m   3184\u001B[0m             \u001B[1;32mif\u001B[0m \u001B[0misinstance\u001B[0m\u001B[1;33m(\u001B[0m\u001B[0mvalue\u001B[0m\u001B[1;33m,\u001B[0m \u001B[0mDataFrame\u001B[0m\u001B[1;33m)\u001B[0m\u001B[1;33m:\u001B[0m\u001B[1;33m\u001B[0m\u001B[1;33m\u001B[0m\u001B[0m\n\u001B[0;32m   3185\u001B[0m                 \u001B[1;32mif\u001B[0m \u001B[0mlen\u001B[0m\u001B[1;33m(\u001B[0m\u001B[0mvalue\u001B[0m\u001B[1;33m.\u001B[0m\u001B[0mcolumns\u001B[0m\u001B[1;33m)\u001B[0m \u001B[1;33m!=\u001B[0m \u001B[0mlen\u001B[0m\u001B[1;33m(\u001B[0m\u001B[0mkey\u001B[0m\u001B[1;33m)\u001B[0m\u001B[1;33m:\u001B[0m\u001B[1;33m\u001B[0m\u001B[1;33m\u001B[0m\u001B[0m\n\u001B[1;32m-> 3186\u001B[1;33m                     \u001B[1;32mraise\u001B[0m \u001B[0mValueError\u001B[0m\u001B[1;33m(\u001B[0m\u001B[1;34m\"Columns must be same length as key\"\u001B[0m\u001B[1;33m)\u001B[0m\u001B[1;33m\u001B[0m\u001B[1;33m\u001B[0m\u001B[0m\n\u001B[0m\u001B[0;32m   3187\u001B[0m                 \u001B[1;32mfor\u001B[0m \u001B[0mk1\u001B[0m\u001B[1;33m,\u001B[0m \u001B[0mk2\u001B[0m \u001B[1;32min\u001B[0m \u001B[0mzip\u001B[0m\u001B[1;33m(\u001B[0m\u001B[0mkey\u001B[0m\u001B[1;33m,\u001B[0m \u001B[0mvalue\u001B[0m\u001B[1;33m.\u001B[0m\u001B[0mcolumns\u001B[0m\u001B[1;33m)\u001B[0m\u001B[1;33m:\u001B[0m\u001B[1;33m\u001B[0m\u001B[1;33m\u001B[0m\u001B[0m\n\u001B[0;32m   3188\u001B[0m                     \u001B[0mself\u001B[0m\u001B[1;33m[\u001B[0m\u001B[0mk1\u001B[0m\u001B[1;33m]\u001B[0m \u001B[1;33m=\u001B[0m \u001B[0mvalue\u001B[0m\u001B[1;33m[\u001B[0m\u001B[0mk2\u001B[0m\u001B[1;33m]\u001B[0m\u001B[1;33m\u001B[0m\u001B[1;33m\u001B[0m\u001B[0m\n",
      "\u001B[1;31mValueError\u001B[0m: Columns must be same length as key"
     ]
    }
   ],
   "source": [
    "temp_df = pd.DataFrame()\n",
    "cols_to_keep = power_rankins_dataframe.columns[1:]\n",
    "temp_df[cols_to_keep] = power_rankins_dataframe"
   ],
   "metadata": {
    "collapsed": false,
    "pycharm": {
     "name": "#%%\n"
    }
   }
  },
  {
   "cell_type": "code",
   "execution_count": 67,
   "outputs": [
    {
     "data": {
      "text/plain": "0     59\n1     55\n2     30\n3     26\n4     21\n5     34\n6     39\n7     53\n8     29\n9     38\n10    41\n11    33\n12    55\n13    60\n14    25\ndtype: int64"
     },
     "execution_count": 67,
     "metadata": {},
     "output_type": "execute_result"
    }
   ],
   "source": [
    "109 - power_rankins_dataframe.sum(axis=1, numeric_only=True)"
   ],
   "metadata": {
    "collapsed": false,
    "pycharm": {
     "name": "#%%\n"
    }
   }
  },
  {
   "cell_type": "code",
   "execution_count": 69,
   "outputs": [],
   "source": [
    "power_rankins_dataframe[\"Power_Rank\"] = 109 - power_rankins_dataframe.sum(axis=1, numeric_only=True)"
   ],
   "metadata": {
    "collapsed": false,
    "pycharm": {
     "name": "#%%\n"
    }
   }
  },
  {
   "cell_type": "code",
   "execution_count": 73,
   "outputs": [],
   "source": [
    "power_rankins_dataframe\n",
    "\n",
    "columns = list(power_rankins_dataframe.columns)\n",
    "columns = [columns[-1]] + columns[:-1]\n",
    "power_rankins_dataframe = power_rankins_dataframe[columns]"
   ],
   "metadata": {
    "collapsed": false,
    "pycharm": {
     "name": "#%%\n"
    }
   }
  },
  {
   "cell_type": "code",
   "execution_count": 74,
   "outputs": [
    {
     "data": {
      "text/plain": "    Power_Rank           PLAYER  FG_PCT   FT_PCT   FG3M   PTS   REB   AST   \\\n0           59  Malcolm Brogdon        7        5      3     2     5     2   \n1           55      Jeremy Lamb        5        1      9     8     4    12   \n2           30  Wayne Ellington        3       14      1    10    11    14   \n3           26      Will Barton       13       13     11    15     6     8   \n4           21    Davis Bertans       15        9      6    14     9    13   \n5           34  Duncan Robinson       12        6      2     9     6    10   \n6           39    Pascal Siakam        8       11     13     4     1     6   \n7           53     Nikola Jokic        2        8     12     1    12     1   \n8           29     Eric Bledsoe       10       15      8     7     7     7   \n9           38  Cameron Johnson        9        7      7    12     8    11   \n10          41      Patty Mills        6        3      4     6    14     9   \n11          33     Marcus Smart       14       12     10    11    10     3   \n12          55     Jimmy Butler       11        4     14     5     3     5   \n13          60  Khris Middleton        4        2      5     3     2     4   \n14          25      Enes Kanter        1       10     14    13    13    15   \n\n    STL   BLK   TOV   \n0      4    10    12  \n1      5     5     5  \n2     13    10     3  \n3      6     4     7  \n4     12     9     1  \n5     14     7     9  \n6      8     5    14  \n7      3     2    15  \n8      7     8    11  \n9      9     6     2  \n10    10    12     4  \n11     2     4    10  \n12     1     3     8  \n13     5    11    13  \n14    11     1     6  ",
      "text/html": "<div>\n<style scoped>\n    .dataframe tbody tr th:only-of-type {\n        vertical-align: middle;\n    }\n\n    .dataframe tbody tr th {\n        vertical-align: top;\n    }\n\n    .dataframe thead th {\n        text-align: right;\n    }\n</style>\n<table border=\"1\" class=\"dataframe\">\n  <thead>\n    <tr style=\"text-align: right;\">\n      <th></th>\n      <th>Power_Rank</th>\n      <th>PLAYER</th>\n      <th>FG_PCT</th>\n      <th>FT_PCT</th>\n      <th>FG3M</th>\n      <th>PTS</th>\n      <th>REB</th>\n      <th>AST</th>\n      <th>STL</th>\n      <th>BLK</th>\n      <th>TOV</th>\n    </tr>\n  </thead>\n  <tbody>\n    <tr>\n      <th>0</th>\n      <td>59</td>\n      <td>Malcolm Brogdon</td>\n      <td>7</td>\n      <td>5</td>\n      <td>3</td>\n      <td>2</td>\n      <td>5</td>\n      <td>2</td>\n      <td>4</td>\n      <td>10</td>\n      <td>12</td>\n    </tr>\n    <tr>\n      <th>1</th>\n      <td>55</td>\n      <td>Jeremy Lamb</td>\n      <td>5</td>\n      <td>1</td>\n      <td>9</td>\n      <td>8</td>\n      <td>4</td>\n      <td>12</td>\n      <td>5</td>\n      <td>5</td>\n      <td>5</td>\n    </tr>\n    <tr>\n      <th>2</th>\n      <td>30</td>\n      <td>Wayne Ellington</td>\n      <td>3</td>\n      <td>14</td>\n      <td>1</td>\n      <td>10</td>\n      <td>11</td>\n      <td>14</td>\n      <td>13</td>\n      <td>10</td>\n      <td>3</td>\n    </tr>\n    <tr>\n      <th>3</th>\n      <td>26</td>\n      <td>Will Barton</td>\n      <td>13</td>\n      <td>13</td>\n      <td>11</td>\n      <td>15</td>\n      <td>6</td>\n      <td>8</td>\n      <td>6</td>\n      <td>4</td>\n      <td>7</td>\n    </tr>\n    <tr>\n      <th>4</th>\n      <td>21</td>\n      <td>Davis Bertans</td>\n      <td>15</td>\n      <td>9</td>\n      <td>6</td>\n      <td>14</td>\n      <td>9</td>\n      <td>13</td>\n      <td>12</td>\n      <td>9</td>\n      <td>1</td>\n    </tr>\n    <tr>\n      <th>5</th>\n      <td>34</td>\n      <td>Duncan Robinson</td>\n      <td>12</td>\n      <td>6</td>\n      <td>2</td>\n      <td>9</td>\n      <td>6</td>\n      <td>10</td>\n      <td>14</td>\n      <td>7</td>\n      <td>9</td>\n    </tr>\n    <tr>\n      <th>6</th>\n      <td>39</td>\n      <td>Pascal Siakam</td>\n      <td>8</td>\n      <td>11</td>\n      <td>13</td>\n      <td>4</td>\n      <td>1</td>\n      <td>6</td>\n      <td>8</td>\n      <td>5</td>\n      <td>14</td>\n    </tr>\n    <tr>\n      <th>7</th>\n      <td>53</td>\n      <td>Nikola Jokic</td>\n      <td>2</td>\n      <td>8</td>\n      <td>12</td>\n      <td>1</td>\n      <td>12</td>\n      <td>1</td>\n      <td>3</td>\n      <td>2</td>\n      <td>15</td>\n    </tr>\n    <tr>\n      <th>8</th>\n      <td>29</td>\n      <td>Eric Bledsoe</td>\n      <td>10</td>\n      <td>15</td>\n      <td>8</td>\n      <td>7</td>\n      <td>7</td>\n      <td>7</td>\n      <td>7</td>\n      <td>8</td>\n      <td>11</td>\n    </tr>\n    <tr>\n      <th>9</th>\n      <td>38</td>\n      <td>Cameron Johnson</td>\n      <td>9</td>\n      <td>7</td>\n      <td>7</td>\n      <td>12</td>\n      <td>8</td>\n      <td>11</td>\n      <td>9</td>\n      <td>6</td>\n      <td>2</td>\n    </tr>\n    <tr>\n      <th>10</th>\n      <td>41</td>\n      <td>Patty Mills</td>\n      <td>6</td>\n      <td>3</td>\n      <td>4</td>\n      <td>6</td>\n      <td>14</td>\n      <td>9</td>\n      <td>10</td>\n      <td>12</td>\n      <td>4</td>\n    </tr>\n    <tr>\n      <th>11</th>\n      <td>33</td>\n      <td>Marcus Smart</td>\n      <td>14</td>\n      <td>12</td>\n      <td>10</td>\n      <td>11</td>\n      <td>10</td>\n      <td>3</td>\n      <td>2</td>\n      <td>4</td>\n      <td>10</td>\n    </tr>\n    <tr>\n      <th>12</th>\n      <td>55</td>\n      <td>Jimmy Butler</td>\n      <td>11</td>\n      <td>4</td>\n      <td>14</td>\n      <td>5</td>\n      <td>3</td>\n      <td>5</td>\n      <td>1</td>\n      <td>3</td>\n      <td>8</td>\n    </tr>\n    <tr>\n      <th>13</th>\n      <td>60</td>\n      <td>Khris Middleton</td>\n      <td>4</td>\n      <td>2</td>\n      <td>5</td>\n      <td>3</td>\n      <td>2</td>\n      <td>4</td>\n      <td>5</td>\n      <td>11</td>\n      <td>13</td>\n    </tr>\n    <tr>\n      <th>14</th>\n      <td>25</td>\n      <td>Enes Kanter</td>\n      <td>1</td>\n      <td>10</td>\n      <td>14</td>\n      <td>13</td>\n      <td>13</td>\n      <td>15</td>\n      <td>11</td>\n      <td>1</td>\n      <td>6</td>\n    </tr>\n  </tbody>\n</table>\n</div>"
     },
     "execution_count": 74,
     "metadata": {},
     "output_type": "execute_result"
    }
   ],
   "source": [
    "power_rankins_dataframe"
   ],
   "metadata": {
    "collapsed": false,
    "pycharm": {
     "name": "#%%\n"
    }
   }
  },
  {
   "cell_type": "code",
   "execution_count": null,
   "outputs": [],
   "source": [
    "POWER_RANK_COLUMN = \"Power_Rank\"\n",
    "\n",
    "def get_overall_power_rank(power_ranking_dataframe):\n",
    "\n",
    "    power_ranking_dataframe = power_ranking_dataframe.set_index(TEAM_COLUMN)\n",
    "    power_ranking_dataframe[\"Power_Rank\"] = 109 - power_ranking_dataframe.sum(axis=1, numeric_only=True)\n",
    "    columns = list(power_ranking_dataframe.columns)\n",
    "    columns = [columns[-1]] + columns[:-1]\n",
    "    power_ranking_dataframe = power_ranking_dataframe[columns]\n",
    "\n",
    "    return power_ranking_dataframe"
   ],
   "metadata": {
    "collapsed": false,
    "pycharm": {
     "name": "#%%\n"
    }
   }
  },
  {
   "cell_type": "code",
   "execution_count": 100,
   "outputs": [],
   "source": [
    "def power_ranking_change(league_averages_dataframe, team, new_team_9cat_averages):\n",
    "\n",
    "    # New league average dataframe\n",
    "    new_league_averages_dataframe = new_league_9cat_averages(league_averages_dataframe,\n",
    "                                                          team, new_team_9cat_averages)\n",
    "\n",
    "    new_league_averages_dataframe = team_dataframe_column_float(new_league_averages_dataframe)\n",
    "    new_league_averages_dataframe = new_league_averages_dataframe.sort_values(TEAM_COLUMN)\n",
    "\n",
    "    # Get new rankings\n",
    "    new_league_power_rankings = power_rankings(new_league_averages_dataframe).sort_values(TEAM_COLUMN)\n",
    "    # Get current rankings\n",
    "    current_league_power_rankings = power_rankings(league_averages_dataframe).sort_values(TEAM_COLUMN)\n",
    "\n",
    "    # Drop Team column\n",
    "    new_league_power_rankings_team = new_league_power_rankings.reset_index(drop=True)\n",
    "    new_league_power_rankings = new_league_power_rankings_team.drop(TEAM_COLUMN, axis=1)\n",
    "    current_league_power_rankings = current_league_power_rankings.reset_index(drop=True)\n",
    "    current_league_power_rankings = current_league_power_rankings.drop(TEAM_COLUMN, axis=1)\n",
    "\n",
    "    # Difference\n",
    "    power_rankings_difference = new_league_power_rankings.subtract(current_league_power_rankings)\n",
    "\n",
    "    # Sorted teams list\n",
    "    teams = list(league_averages_dataframe.sort_values(TEAM_COLUMN)[TEAM_COLUMN])\n",
    "\n",
    "    # Add teams column\n",
    "    power_rankings_difference[TEAM_COLUMN] = teams\n",
    "\n",
    "    # Rearrange columns\n",
    "    columns = list(power_rankings_difference.columns)\n",
    "    columns = [columns[-1]] + columns[:-1]\n",
    "    power_rankings_difference = power_rankings_difference[columns]\n",
    "\n",
    "    return new_league_averages_dataframe, new_league_power_rankings_team, power_rankings_difference"
   ],
   "metadata": {
    "collapsed": false,
    "pycharm": {
     "name": "#%%\n"
    }
   }
  },
  {
   "cell_type": "code",
   "execution_count": 76,
   "outputs": [
    {
     "name": "stderr",
     "output_type": "stream",
     "text": [
      "[2021-01-31 12:33:53,197 DEBUG] [yahoo_oauth.oauth.__init__] Checking \n",
      "[2021-01-31 12:33:53,200 DEBUG] [yahoo_oauth.oauth.token_is_valid] ELAPSED TIME : 1753.153394460678\n",
      "[2021-01-31 12:33:53,201 DEBUG] [yahoo_oauth.oauth.token_is_valid] TOKEN IS STILL VALID\n",
      "[2021-01-31 12:33:53,826 DEBUG] [yahoo_oauth.oauth.__init__] Checking \n",
      "[2021-01-31 12:33:53,837 DEBUG] [yahoo_oauth.oauth.token_is_valid] ELAPSED TIME : 1753.7906124591827\n",
      "[2021-01-31 12:33:53,839 DEBUG] [yahoo_oauth.oauth.token_is_valid] TOKEN IS STILL VALID\n",
      "[2021-01-31 12:34:56,859 DEBUG] [yahoo_oauth.oauth.__init__] Checking \n",
      "[2021-01-31 12:34:56,861 DEBUG] [yahoo_oauth.oauth.token_is_valid] ELAPSED TIME : 1816.8147585391998\n",
      "[2021-01-31 12:34:56,862 DEBUG] [yahoo_oauth.oauth.token_is_valid] TOKEN IS STILL VALID\n",
      "[2021-01-31 12:35:59,827 DEBUG] [yahoo_oauth.oauth.__init__] Checking \n",
      "[2021-01-31 12:35:59,830 DEBUG] [yahoo_oauth.oauth.token_is_valid] ELAPSED TIME : 1879.7835211753845\n",
      "[2021-01-31 12:35:59,830 DEBUG] [yahoo_oauth.oauth.token_is_valid] TOKEN IS STILL VALID\n",
      "[2021-01-31 12:37:02,306 DEBUG] [yahoo_oauth.oauth.__init__] Checking \n",
      "[2021-01-31 12:37:02,310 DEBUG] [yahoo_oauth.oauth.token_is_valid] ELAPSED TIME : 1942.2640633583069\n",
      "[2021-01-31 12:37:02,310 DEBUG] [yahoo_oauth.oauth.token_is_valid] TOKEN IS STILL VALID\n",
      "[2021-01-31 12:38:13,868 DEBUG] [yahoo_oauth.oauth.__init__] Checking \n",
      "[2021-01-31 12:38:13,871 DEBUG] [yahoo_oauth.oauth.token_is_valid] ELAPSED TIME : 2013.824767589569\n",
      "[2021-01-31 12:38:13,872 DEBUG] [yahoo_oauth.oauth.token_is_valid] TOKEN IS STILL VALID\n",
      "[2021-01-31 12:39:27,141 DEBUG] [yahoo_oauth.oauth.__init__] Checking \n",
      "[2021-01-31 12:39:27,144 DEBUG] [yahoo_oauth.oauth.token_is_valid] ELAPSED TIME : 2087.09814953804\n",
      "[2021-01-31 12:39:27,145 DEBUG] [yahoo_oauth.oauth.token_is_valid] TOKEN IS STILL VALID\n",
      "[2021-01-31 12:40:28,459 DEBUG] [yahoo_oauth.oauth.__init__] Checking \n",
      "[2021-01-31 12:40:28,462 DEBUG] [yahoo_oauth.oauth.token_is_valid] ELAPSED TIME : 2148.41578745842\n",
      "[2021-01-31 12:40:28,463 DEBUG] [yahoo_oauth.oauth.token_is_valid] TOKEN IS STILL VALID\n",
      "[2021-01-31 12:41:25,404 DEBUG] [yahoo_oauth.oauth.__init__] Checking \n",
      "[2021-01-31 12:41:25,407 DEBUG] [yahoo_oauth.oauth.token_is_valid] ELAPSED TIME : 2205.3611104488373\n",
      "[2021-01-31 12:41:25,407 DEBUG] [yahoo_oauth.oauth.token_is_valid] TOKEN IS STILL VALID\n",
      "[2021-01-31 12:42:25,529 DEBUG] [yahoo_oauth.oauth.__init__] Checking \n",
      "[2021-01-31 12:42:25,533 DEBUG] [yahoo_oauth.oauth.token_is_valid] ELAPSED TIME : 2265.486848592758\n",
      "[2021-01-31 12:42:25,534 DEBUG] [yahoo_oauth.oauth.token_is_valid] TOKEN IS STILL VALID\n",
      "[2021-01-31 12:43:27,506 DEBUG] [yahoo_oauth.oauth.__init__] Checking \n",
      "[2021-01-31 12:43:27,510 DEBUG] [yahoo_oauth.oauth.token_is_valid] ELAPSED TIME : 2327.4637360572815\n",
      "[2021-01-31 12:43:27,510 DEBUG] [yahoo_oauth.oauth.token_is_valid] TOKEN IS STILL VALID\n",
      "[2021-01-31 12:44:26,342 DEBUG] [yahoo_oauth.oauth.__init__] Checking \n",
      "[2021-01-31 12:44:26,346 DEBUG] [yahoo_oauth.oauth.token_is_valid] ELAPSED TIME : 2386.2997262477875\n",
      "[2021-01-31 12:44:26,346 DEBUG] [yahoo_oauth.oauth.token_is_valid] TOKEN IS STILL VALID\n",
      "[2021-01-31 12:45:30,729 DEBUG] [yahoo_oauth.oauth.__init__] Checking \n",
      "[2021-01-31 12:45:30,733 DEBUG] [yahoo_oauth.oauth.token_is_valid] ELAPSED TIME : 2450.687114715576\n",
      "[2021-01-31 12:45:30,734 DEBUG] [yahoo_oauth.oauth.token_is_valid] TOKEN IS STILL VALID\n"
     ]
    },
    {
     "name": "stdout",
     "output_type": "stream",
     "text": [
      "Wall time: 12min 41s\n"
     ]
    },
    {
     "data": {
      "text/plain": "                   TEAM FG_PCT FT_PCT  FG3M    PTS   REB   AST   STL   BLK  \\\n0              LaLaLand  0.461  0.762  1.62  16.15  5.77  3.70  0.85  0.54   \n1              Autopick  0.485  0.790  1.56  16.00  5.24  3.30  0.89  0.58   \n2   CrabbeHerByThePussy  0.486  0.811  1.49  13.94  6.13  3.06  0.91  0.92   \n3       Magic's Johnson  0.449  0.792  2.13  16.44  5.81  3.84  1.01  0.52   \n4               McCurry  0.493  0.736  0.86  13.94  6.61  3.56  1.07  0.76   \n5   Nunn of Y'all Betta  0.464  0.825  1.96  15.49  5.07  3.71  0.99  0.40   \n6     Russty Cuntbrooks  0.476  0.786  1.61  16.99  5.86  2.99  0.96  0.84   \n7       Wakanda Forever  0.450  0.734  1.77  15.06  5.40  3.22  0.89  0.58   \n8              Swaggy P  0.464  0.743  1.95  14.67  4.92  3.02  0.82  0.58   \n9     yOBItch Toppin Me  0.491  0.779  1.69  15.62  4.79  3.25  1.00  0.51   \n10  Tvon's Tip-Top Team  0.470  0.751  1.37  13.81  5.60  3.20  0.87  0.82   \n11  El Ladrón de Cabras  0.515  0.751  1.61  14.57  5.61  3.10  0.86  0.64   \n\n     TOV  \n0   2.23  \n1   1.86  \n2   1.62  \n3   1.74  \n4   1.86  \n5   1.62  \n6   1.92  \n7   1.58  \n8   1.91  \n9   2.09  \n10  1.86  \n11  1.76  ",
      "text/html": "<div>\n<style scoped>\n    .dataframe tbody tr th:only-of-type {\n        vertical-align: middle;\n    }\n\n    .dataframe tbody tr th {\n        vertical-align: top;\n    }\n\n    .dataframe thead th {\n        text-align: right;\n    }\n</style>\n<table border=\"1\" class=\"dataframe\">\n  <thead>\n    <tr style=\"text-align: right;\">\n      <th></th>\n      <th>TEAM</th>\n      <th>FG_PCT</th>\n      <th>FT_PCT</th>\n      <th>FG3M</th>\n      <th>PTS</th>\n      <th>REB</th>\n      <th>AST</th>\n      <th>STL</th>\n      <th>BLK</th>\n      <th>TOV</th>\n    </tr>\n  </thead>\n  <tbody>\n    <tr>\n      <th>0</th>\n      <td>LaLaLand</td>\n      <td>0.461</td>\n      <td>0.762</td>\n      <td>1.62</td>\n      <td>16.15</td>\n      <td>5.77</td>\n      <td>3.70</td>\n      <td>0.85</td>\n      <td>0.54</td>\n      <td>2.23</td>\n    </tr>\n    <tr>\n      <th>1</th>\n      <td>Autopick</td>\n      <td>0.485</td>\n      <td>0.790</td>\n      <td>1.56</td>\n      <td>16.00</td>\n      <td>5.24</td>\n      <td>3.30</td>\n      <td>0.89</td>\n      <td>0.58</td>\n      <td>1.86</td>\n    </tr>\n    <tr>\n      <th>2</th>\n      <td>CrabbeHerByThePussy</td>\n      <td>0.486</td>\n      <td>0.811</td>\n      <td>1.49</td>\n      <td>13.94</td>\n      <td>6.13</td>\n      <td>3.06</td>\n      <td>0.91</td>\n      <td>0.92</td>\n      <td>1.62</td>\n    </tr>\n    <tr>\n      <th>3</th>\n      <td>Magic's Johnson</td>\n      <td>0.449</td>\n      <td>0.792</td>\n      <td>2.13</td>\n      <td>16.44</td>\n      <td>5.81</td>\n      <td>3.84</td>\n      <td>1.01</td>\n      <td>0.52</td>\n      <td>1.74</td>\n    </tr>\n    <tr>\n      <th>4</th>\n      <td>McCurry</td>\n      <td>0.493</td>\n      <td>0.736</td>\n      <td>0.86</td>\n      <td>13.94</td>\n      <td>6.61</td>\n      <td>3.56</td>\n      <td>1.07</td>\n      <td>0.76</td>\n      <td>1.86</td>\n    </tr>\n    <tr>\n      <th>5</th>\n      <td>Nunn of Y'all Betta</td>\n      <td>0.464</td>\n      <td>0.825</td>\n      <td>1.96</td>\n      <td>15.49</td>\n      <td>5.07</td>\n      <td>3.71</td>\n      <td>0.99</td>\n      <td>0.40</td>\n      <td>1.62</td>\n    </tr>\n    <tr>\n      <th>6</th>\n      <td>Russty Cuntbrooks</td>\n      <td>0.476</td>\n      <td>0.786</td>\n      <td>1.61</td>\n      <td>16.99</td>\n      <td>5.86</td>\n      <td>2.99</td>\n      <td>0.96</td>\n      <td>0.84</td>\n      <td>1.92</td>\n    </tr>\n    <tr>\n      <th>7</th>\n      <td>Wakanda Forever</td>\n      <td>0.450</td>\n      <td>0.734</td>\n      <td>1.77</td>\n      <td>15.06</td>\n      <td>5.40</td>\n      <td>3.22</td>\n      <td>0.89</td>\n      <td>0.58</td>\n      <td>1.58</td>\n    </tr>\n    <tr>\n      <th>8</th>\n      <td>Swaggy P</td>\n      <td>0.464</td>\n      <td>0.743</td>\n      <td>1.95</td>\n      <td>14.67</td>\n      <td>4.92</td>\n      <td>3.02</td>\n      <td>0.82</td>\n      <td>0.58</td>\n      <td>1.91</td>\n    </tr>\n    <tr>\n      <th>9</th>\n      <td>yOBItch Toppin Me</td>\n      <td>0.491</td>\n      <td>0.779</td>\n      <td>1.69</td>\n      <td>15.62</td>\n      <td>4.79</td>\n      <td>3.25</td>\n      <td>1.00</td>\n      <td>0.51</td>\n      <td>2.09</td>\n    </tr>\n    <tr>\n      <th>10</th>\n      <td>Tvon's Tip-Top Team</td>\n      <td>0.470</td>\n      <td>0.751</td>\n      <td>1.37</td>\n      <td>13.81</td>\n      <td>5.60</td>\n      <td>3.20</td>\n      <td>0.87</td>\n      <td>0.82</td>\n      <td>1.86</td>\n    </tr>\n    <tr>\n      <th>11</th>\n      <td>El Ladrón de Cabras</td>\n      <td>0.515</td>\n      <td>0.751</td>\n      <td>1.61</td>\n      <td>14.57</td>\n      <td>5.61</td>\n      <td>3.10</td>\n      <td>0.86</td>\n      <td>0.64</td>\n      <td>1.76</td>\n    </tr>\n  </tbody>\n</table>\n</div>"
     },
     "execution_count": 76,
     "metadata": {},
     "output_type": "execute_result"
    }
   ],
   "source": [
    "%%time\n",
    "# League average\n",
    "sc = yahoo_fantasy_api_authentication()\n",
    "league = yahoo_fantasy_league(sc)\n",
    "league_averages_dataframe = league_averages(league_team_list)\n",
    "league_averages_dataframe\n"
   ],
   "metadata": {
    "collapsed": false,
    "pycharm": {
     "name": "#%%\n"
    }
   }
  },
  {
   "cell_type": "code",
   "execution_count": 250,
   "outputs": [
    {
     "name": "stderr",
     "output_type": "stream",
     "text": [
      "[2021-01-31 16:17:39,901 DEBUG] [yahoo_oauth.oauth.__init__] Checking \n",
      "[2021-01-31 16:17:40,359 DEBUG] [yahoo_oauth.oauth.token_is_valid] ELAPSED TIME : 4184.771954059601\n",
      "[2021-01-31 16:17:40,360 DEBUG] [yahoo_oauth.oauth.token_is_valid] TOKEN HAS EXPIRED\n",
      "[2021-01-31 16:17:40,361 DEBUG] [yahoo_oauth.oauth.refresh_access_token] REFRESHING TOKEN\n"
     ]
    },
    {
     "name": "stdout",
     "output_type": "stream",
     "text": [
      "You are dropping Will Barton and adding Monte Morris! \n",
      "\n",
      "The current team 9cat averages are:\n",
      "\n",
      "      FG_PCT  FT_PCT  FG3M    PTS   REB   AST   STL  BLK   TOV\n",
      "mean   0.464   0.825  1.96  15.49  5.07  3.71  0.99  0.4  1.62\n",
      "\n",
      "\n",
      "The new team 9cat averages are:\n",
      "\n",
      "      FG_PCT  FT_PCT  FG3M    PTS   REB   AST   STL   BLK   TOV\n",
      "mean    0.47   0.822  1.94  15.51  4.95  3.73  0.98  0.39  1.57\n",
      "\n",
      "\n",
      "The difference 9cat averages are:\n",
      "\n",
      "      FG_PCT  FT_PCT  FG3M   PTS   REB   AST   STL   BLK   TOV\n",
      "mean   0.006  -0.003 -0.02  0.02 -0.12  0.02 -0.01 -0.01 -0.05\n",
      "\n",
      "\n",
      "Wall time: 1min 9s\n"
     ]
    }
   ],
   "source": [
    "%%time\n",
    "sc = yahoo_fantasy_api_authentication()\n",
    "league = yahoo_fantasy_league(sc)\n",
    "PLAYER_TO_DROP = \"Will Barton\"\n",
    "PLAYER_TO_ADD = \"Monte Morris\"\n",
    "\n",
    "current_players_9cat_averages, current_team_9cat_averages, new_players_9cat_averages, \\\n",
    "    new_team_9cat_averages, difference_team_9cat_averages = compare_team_9cats_on_transaction\\\n",
    "    (NUNN_OF_YALL_BETTA, PLAYER_TO_DROP, PLAYER_TO_ADD)"
   ],
   "metadata": {
    "collapsed": false,
    "pycharm": {
     "name": "#%%\n"
    }
   }
  },
  {
   "cell_type": "code",
   "execution_count": 251,
   "outputs": [],
   "source": [
    "new_league_averages_dataframe, new_league_power_rankings, power_rankings_difference = \\\n",
    "    power_ranking_change(league_averages_dataframe, NUNN_OF_YALL_BETTA, new_team_9cat_averages)"
   ],
   "metadata": {
    "collapsed": false,
    "pycharm": {
     "name": "#%%\n"
    }
   }
  },
  {
   "cell_type": "code",
   "execution_count": 252,
   "outputs": [
    {
     "data": {
      "text/plain": "                   TEAM  FG_PCT  FT_PCT  FG3M    PTS   REB   AST   STL   BLK  \\\n0              Autopick   0.485   0.790  1.56  16.00  5.24  3.30  0.89  0.58   \n1   CrabbeHerByThePussy   0.486   0.811  1.49  13.94  6.13  3.06  0.91  0.92   \n2   El Ladrón de Cabras   0.515   0.751  1.61  14.57  5.61  3.10  0.86  0.64   \n3              LaLaLand   0.461   0.762  1.62  16.15  5.77  3.70  0.85  0.54   \n4       Magic's Johnson   0.449   0.792  2.13  16.44  5.81  3.84  1.01  0.52   \n5               McCurry   0.493   0.736  0.86  13.94  6.61  3.56  1.07  0.76   \n6   Nunn of Y'all Betta   0.470   0.822  1.94  15.51  4.95  3.73  0.98  0.39   \n7     Russty Cuntbrooks   0.476   0.786  1.61  16.99  5.86  2.99  0.96  0.84   \n8              Swaggy P   0.464   0.743  1.95  14.67  4.92  3.02  0.82  0.58   \n9   Tvon's Tip-Top Team   0.470   0.751  1.37  13.81  5.60  3.20  0.87  0.82   \n10      Wakanda Forever   0.450   0.734  1.77  15.06  5.40  3.22  0.89  0.58   \n11    yOBItch Toppin Me   0.491   0.779  1.69  15.62  4.79  3.25  1.00  0.51   \n\n     TOV  \n0   1.86  \n1   1.62  \n2   1.76  \n3   2.23  \n4   1.74  \n5   1.86  \n6   1.57  \n7   1.92  \n8   1.91  \n9   1.86  \n10  1.58  \n11  2.09  ",
      "text/html": "<div>\n<style scoped>\n    .dataframe tbody tr th:only-of-type {\n        vertical-align: middle;\n    }\n\n    .dataframe tbody tr th {\n        vertical-align: top;\n    }\n\n    .dataframe thead th {\n        text-align: right;\n    }\n</style>\n<table border=\"1\" class=\"dataframe\">\n  <thead>\n    <tr style=\"text-align: right;\">\n      <th></th>\n      <th>TEAM</th>\n      <th>FG_PCT</th>\n      <th>FT_PCT</th>\n      <th>FG3M</th>\n      <th>PTS</th>\n      <th>REB</th>\n      <th>AST</th>\n      <th>STL</th>\n      <th>BLK</th>\n      <th>TOV</th>\n    </tr>\n  </thead>\n  <tbody>\n    <tr>\n      <th>0</th>\n      <td>Autopick</td>\n      <td>0.485</td>\n      <td>0.790</td>\n      <td>1.56</td>\n      <td>16.00</td>\n      <td>5.24</td>\n      <td>3.30</td>\n      <td>0.89</td>\n      <td>0.58</td>\n      <td>1.86</td>\n    </tr>\n    <tr>\n      <th>1</th>\n      <td>CrabbeHerByThePussy</td>\n      <td>0.486</td>\n      <td>0.811</td>\n      <td>1.49</td>\n      <td>13.94</td>\n      <td>6.13</td>\n      <td>3.06</td>\n      <td>0.91</td>\n      <td>0.92</td>\n      <td>1.62</td>\n    </tr>\n    <tr>\n      <th>2</th>\n      <td>El Ladrón de Cabras</td>\n      <td>0.515</td>\n      <td>0.751</td>\n      <td>1.61</td>\n      <td>14.57</td>\n      <td>5.61</td>\n      <td>3.10</td>\n      <td>0.86</td>\n      <td>0.64</td>\n      <td>1.76</td>\n    </tr>\n    <tr>\n      <th>3</th>\n      <td>LaLaLand</td>\n      <td>0.461</td>\n      <td>0.762</td>\n      <td>1.62</td>\n      <td>16.15</td>\n      <td>5.77</td>\n      <td>3.70</td>\n      <td>0.85</td>\n      <td>0.54</td>\n      <td>2.23</td>\n    </tr>\n    <tr>\n      <th>4</th>\n      <td>Magic's Johnson</td>\n      <td>0.449</td>\n      <td>0.792</td>\n      <td>2.13</td>\n      <td>16.44</td>\n      <td>5.81</td>\n      <td>3.84</td>\n      <td>1.01</td>\n      <td>0.52</td>\n      <td>1.74</td>\n    </tr>\n    <tr>\n      <th>5</th>\n      <td>McCurry</td>\n      <td>0.493</td>\n      <td>0.736</td>\n      <td>0.86</td>\n      <td>13.94</td>\n      <td>6.61</td>\n      <td>3.56</td>\n      <td>1.07</td>\n      <td>0.76</td>\n      <td>1.86</td>\n    </tr>\n    <tr>\n      <th>6</th>\n      <td>Nunn of Y'all Betta</td>\n      <td>0.470</td>\n      <td>0.822</td>\n      <td>1.94</td>\n      <td>15.51</td>\n      <td>4.95</td>\n      <td>3.73</td>\n      <td>0.98</td>\n      <td>0.39</td>\n      <td>1.57</td>\n    </tr>\n    <tr>\n      <th>7</th>\n      <td>Russty Cuntbrooks</td>\n      <td>0.476</td>\n      <td>0.786</td>\n      <td>1.61</td>\n      <td>16.99</td>\n      <td>5.86</td>\n      <td>2.99</td>\n      <td>0.96</td>\n      <td>0.84</td>\n      <td>1.92</td>\n    </tr>\n    <tr>\n      <th>8</th>\n      <td>Swaggy P</td>\n      <td>0.464</td>\n      <td>0.743</td>\n      <td>1.95</td>\n      <td>14.67</td>\n      <td>4.92</td>\n      <td>3.02</td>\n      <td>0.82</td>\n      <td>0.58</td>\n      <td>1.91</td>\n    </tr>\n    <tr>\n      <th>9</th>\n      <td>Tvon's Tip-Top Team</td>\n      <td>0.470</td>\n      <td>0.751</td>\n      <td>1.37</td>\n      <td>13.81</td>\n      <td>5.60</td>\n      <td>3.20</td>\n      <td>0.87</td>\n      <td>0.82</td>\n      <td>1.86</td>\n    </tr>\n    <tr>\n      <th>10</th>\n      <td>Wakanda Forever</td>\n      <td>0.450</td>\n      <td>0.734</td>\n      <td>1.77</td>\n      <td>15.06</td>\n      <td>5.40</td>\n      <td>3.22</td>\n      <td>0.89</td>\n      <td>0.58</td>\n      <td>1.58</td>\n    </tr>\n    <tr>\n      <th>11</th>\n      <td>yOBItch Toppin Me</td>\n      <td>0.491</td>\n      <td>0.779</td>\n      <td>1.69</td>\n      <td>15.62</td>\n      <td>4.79</td>\n      <td>3.25</td>\n      <td>1.00</td>\n      <td>0.51</td>\n      <td>2.09</td>\n    </tr>\n  </tbody>\n</table>\n</div>"
     },
     "execution_count": 252,
     "metadata": {},
     "output_type": "execute_result"
    }
   ],
   "source": [
    "new_league_averages_dataframe = new_league_averages_dataframe.reset_index(drop=True)\n",
    "new_league_averages_dataframe\n"
   ],
   "metadata": {
    "collapsed": false,
    "pycharm": {
     "name": "#%%\n"
    }
   }
  },
  {
   "cell_type": "code",
   "execution_count": 269,
   "outputs": [
    {
     "data": {
      "text/plain": "Index(['TEAM', 'FG_PCT ', 'FT_PCT ', 'FG3M ', 'PTS ', 'REB ', 'AST ', 'STL ',\n       'BLK ', 'TOV '],\n      dtype='object')"
     },
     "execution_count": 269,
     "metadata": {},
     "output_type": "execute_result"
    }
   ],
   "source": [
    "new_league_power_rankings.columns"
   ],
   "metadata": {
    "collapsed": false,
    "pycharm": {
     "name": "#%%\n"
    }
   }
  },
  {
   "cell_type": "code",
   "execution_count": 236,
   "outputs": [],
   "source": [
    "test['col'] = new_league_averages_dataframe[\"FG_PCT\"].astype(str) +  \" [\"\\\n",
    "              + new_league_power_rankings[\"FG_PCT \"].astype(str) + \", \"  + \\\n",
    "              power_rankings_difference[\"FG_PCT \"].astype(str) + \"]\""
   ],
   "metadata": {
    "collapsed": false,
    "pycharm": {
     "name": "#%%\n"
    }
   }
  },
  {
   "cell_type": "code",
   "execution_count": 237,
   "outputs": [],
   "source": [
    "def columns_to_string(new_league_averages_dataframe, new_league_power_rankings,\n",
    "                      power_rankings_difference):\n",
    "\n",
    "    overall_power_rank_dataframe = pd.DataFrame()\n",
    "    overall_power_rank_dataframe[TEAM_COLUMN] = new_league_averages_dataframe[TEAM_COLUMN]\n",
    "    for column in new_league_averages_dataframe.columns[1:]:\n",
    "        overall_power_rank_dataframe[column] = new_league_averages_dataframe[column].astype\\\n",
    "                                                   (str) +  \" [\" + \\\n",
    "                                               new_league_power_rankings[column + \" \"].astype\\\n",
    "                                                   (str) +\\\n",
    "                                               \", \"  + power_rankings_difference[column + \" \"]\\\n",
    "                                                   .astype(str) + \"]\"\n",
    "    return overall_power_rank_dataframe"
   ],
   "metadata": {
    "collapsed": false,
    "pycharm": {
     "name": "#%%\n"
    }
   }
  },
  {
   "cell_type": "code",
   "execution_count": 253,
   "outputs": [
    {
     "data": {
      "text/plain": "                   TEAM         FG_PCT         FT_PCT          FG3M  \\\n0              Autopick   0.485 [5, 0]    0.79 [4, 0]   1.56 [8, 0]   \n1   CrabbeHerByThePussy   0.486 [4, 0]   0.811 [2, 0]   1.49 [9, 0]   \n2   El Ladrón de Cabras   0.515 [1, 0]   0.751 [8, 0]   1.61 [7, 0]   \n3              LaLaLand   0.461 [9, 0]   0.762 [7, 0]   1.62 [6, 0]   \n4       Magic's Johnson  0.449 [11, 0]   0.792 [3, 0]   2.13 [1, 0]   \n5               McCurry   0.493 [2, 0]  0.736 [10, 0]  0.86 [11, 0]   \n6   Nunn of Y'all Betta   0.47 [7, -1]   0.822 [1, 0]   1.94 [3, 1]   \n7     Russty Cuntbrooks   0.476 [6, 0]   0.786 [5, 0]   1.61 [7, 0]   \n8              Swaggy P   0.464 [8, 0]   0.743 [9, 0]  1.95 [2, -1]   \n9   Tvon's Tip-Top Team    0.47 [7, 0]   0.751 [8, 0]  1.37 [10, 0]   \n10      Wakanda Forever   0.45 [10, 0]  0.734 [11, 0]   1.77 [4, 0]   \n11    yOBItch Toppin Me   0.491 [3, 0]   0.779 [6, 0]   1.69 [5, 0]   \n\n              PTS           REB           AST           STL           BLK  \\\n0     16.0 [4, 0]   5.24 [9, 0]    3.3 [5, 0]   0.89 [7, 0]   0.58 [6, 0]   \n1   13.94 [10, 0]   6.13 [2, 0]  3.06 [10, 0]   0.91 [6, 0]   0.92 [1, 0]   \n2    14.57 [9, 0]   5.61 [6, 0]    3.1 [9, 0]   0.86 [9, 0]   0.64 [5, 0]   \n3    16.15 [3, 0]   5.77 [5, 0]    3.7 [3, 0]  0.85 [10, 0]   0.54 [7, 0]   \n4    16.44 [2, 0]   5.81 [4, 0]   3.84 [1, 0]   1.01 [2, 0]   0.52 [8, 0]   \n5   13.94 [10, 0]   6.61 [1, 0]   3.56 [4, 0]   1.07 [1, 0]   0.76 [4, 0]   \n6    15.51 [6, 0]  4.95 [10, 0]   3.73 [2, 0]   0.98 [4, 0]  0.39 [10, 0]   \n7    16.99 [1, 0]   5.86 [3, 0]  2.99 [12, 0]   0.96 [5, 0]   0.84 [2, 0]   \n8    14.67 [8, 0]  4.92 [11, 0]  3.02 [11, 0]  0.82 [11, 0]   0.58 [6, 0]   \n9   13.81 [11, 0]    5.6 [7, 0]    3.2 [8, 0]   0.87 [8, 0]   0.82 [3, 0]   \n10   15.06 [7, 0]    5.4 [8, 0]   3.22 [7, 0]   0.89 [7, 0]   0.58 [6, 0]   \n11   15.62 [5, 0]  4.79 [12, 0]   3.25 [6, 0]    1.0 [3, 0]   0.51 [9, 0]   \n\n             TOV  \n0    1.86 [6, 1]  \n1    1.62 [3, 1]  \n2    1.76 [5, 1]  \n3   2.23 [10, 1]  \n4    1.74 [4, 1]  \n5    1.86 [6, 1]  \n6   1.57 [1, -1]  \n7    1.92 [8, 1]  \n8    1.91 [7, 1]  \n9    1.86 [6, 1]  \n10   1.58 [2, 1]  \n11   2.09 [9, 1]  ",
      "text/html": "<div>\n<style scoped>\n    .dataframe tbody tr th:only-of-type {\n        vertical-align: middle;\n    }\n\n    .dataframe tbody tr th {\n        vertical-align: top;\n    }\n\n    .dataframe thead th {\n        text-align: right;\n    }\n</style>\n<table border=\"1\" class=\"dataframe\">\n  <thead>\n    <tr style=\"text-align: right;\">\n      <th></th>\n      <th>TEAM</th>\n      <th>FG_PCT</th>\n      <th>FT_PCT</th>\n      <th>FG3M</th>\n      <th>PTS</th>\n      <th>REB</th>\n      <th>AST</th>\n      <th>STL</th>\n      <th>BLK</th>\n      <th>TOV</th>\n    </tr>\n  </thead>\n  <tbody>\n    <tr>\n      <th>0</th>\n      <td>Autopick</td>\n      <td>0.485 [5, 0]</td>\n      <td>0.79 [4, 0]</td>\n      <td>1.56 [8, 0]</td>\n      <td>16.0 [4, 0]</td>\n      <td>5.24 [9, 0]</td>\n      <td>3.3 [5, 0]</td>\n      <td>0.89 [7, 0]</td>\n      <td>0.58 [6, 0]</td>\n      <td>1.86 [6, 1]</td>\n    </tr>\n    <tr>\n      <th>1</th>\n      <td>CrabbeHerByThePussy</td>\n      <td>0.486 [4, 0]</td>\n      <td>0.811 [2, 0]</td>\n      <td>1.49 [9, 0]</td>\n      <td>13.94 [10, 0]</td>\n      <td>6.13 [2, 0]</td>\n      <td>3.06 [10, 0]</td>\n      <td>0.91 [6, 0]</td>\n      <td>0.92 [1, 0]</td>\n      <td>1.62 [3, 1]</td>\n    </tr>\n    <tr>\n      <th>2</th>\n      <td>El Ladrón de Cabras</td>\n      <td>0.515 [1, 0]</td>\n      <td>0.751 [8, 0]</td>\n      <td>1.61 [7, 0]</td>\n      <td>14.57 [9, 0]</td>\n      <td>5.61 [6, 0]</td>\n      <td>3.1 [9, 0]</td>\n      <td>0.86 [9, 0]</td>\n      <td>0.64 [5, 0]</td>\n      <td>1.76 [5, 1]</td>\n    </tr>\n    <tr>\n      <th>3</th>\n      <td>LaLaLand</td>\n      <td>0.461 [9, 0]</td>\n      <td>0.762 [7, 0]</td>\n      <td>1.62 [6, 0]</td>\n      <td>16.15 [3, 0]</td>\n      <td>5.77 [5, 0]</td>\n      <td>3.7 [3, 0]</td>\n      <td>0.85 [10, 0]</td>\n      <td>0.54 [7, 0]</td>\n      <td>2.23 [10, 1]</td>\n    </tr>\n    <tr>\n      <th>4</th>\n      <td>Magic's Johnson</td>\n      <td>0.449 [11, 0]</td>\n      <td>0.792 [3, 0]</td>\n      <td>2.13 [1, 0]</td>\n      <td>16.44 [2, 0]</td>\n      <td>5.81 [4, 0]</td>\n      <td>3.84 [1, 0]</td>\n      <td>1.01 [2, 0]</td>\n      <td>0.52 [8, 0]</td>\n      <td>1.74 [4, 1]</td>\n    </tr>\n    <tr>\n      <th>5</th>\n      <td>McCurry</td>\n      <td>0.493 [2, 0]</td>\n      <td>0.736 [10, 0]</td>\n      <td>0.86 [11, 0]</td>\n      <td>13.94 [10, 0]</td>\n      <td>6.61 [1, 0]</td>\n      <td>3.56 [4, 0]</td>\n      <td>1.07 [1, 0]</td>\n      <td>0.76 [4, 0]</td>\n      <td>1.86 [6, 1]</td>\n    </tr>\n    <tr>\n      <th>6</th>\n      <td>Nunn of Y'all Betta</td>\n      <td>0.47 [7, -1]</td>\n      <td>0.822 [1, 0]</td>\n      <td>1.94 [3, 1]</td>\n      <td>15.51 [6, 0]</td>\n      <td>4.95 [10, 0]</td>\n      <td>3.73 [2, 0]</td>\n      <td>0.98 [4, 0]</td>\n      <td>0.39 [10, 0]</td>\n      <td>1.57 [1, -1]</td>\n    </tr>\n    <tr>\n      <th>7</th>\n      <td>Russty Cuntbrooks</td>\n      <td>0.476 [6, 0]</td>\n      <td>0.786 [5, 0]</td>\n      <td>1.61 [7, 0]</td>\n      <td>16.99 [1, 0]</td>\n      <td>5.86 [3, 0]</td>\n      <td>2.99 [12, 0]</td>\n      <td>0.96 [5, 0]</td>\n      <td>0.84 [2, 0]</td>\n      <td>1.92 [8, 1]</td>\n    </tr>\n    <tr>\n      <th>8</th>\n      <td>Swaggy P</td>\n      <td>0.464 [8, 0]</td>\n      <td>0.743 [9, 0]</td>\n      <td>1.95 [2, -1]</td>\n      <td>14.67 [8, 0]</td>\n      <td>4.92 [11, 0]</td>\n      <td>3.02 [11, 0]</td>\n      <td>0.82 [11, 0]</td>\n      <td>0.58 [6, 0]</td>\n      <td>1.91 [7, 1]</td>\n    </tr>\n    <tr>\n      <th>9</th>\n      <td>Tvon's Tip-Top Team</td>\n      <td>0.47 [7, 0]</td>\n      <td>0.751 [8, 0]</td>\n      <td>1.37 [10, 0]</td>\n      <td>13.81 [11, 0]</td>\n      <td>5.6 [7, 0]</td>\n      <td>3.2 [8, 0]</td>\n      <td>0.87 [8, 0]</td>\n      <td>0.82 [3, 0]</td>\n      <td>1.86 [6, 1]</td>\n    </tr>\n    <tr>\n      <th>10</th>\n      <td>Wakanda Forever</td>\n      <td>0.45 [10, 0]</td>\n      <td>0.734 [11, 0]</td>\n      <td>1.77 [4, 0]</td>\n      <td>15.06 [7, 0]</td>\n      <td>5.4 [8, 0]</td>\n      <td>3.22 [7, 0]</td>\n      <td>0.89 [7, 0]</td>\n      <td>0.58 [6, 0]</td>\n      <td>1.58 [2, 1]</td>\n    </tr>\n    <tr>\n      <th>11</th>\n      <td>yOBItch Toppin Me</td>\n      <td>0.491 [3, 0]</td>\n      <td>0.779 [6, 0]</td>\n      <td>1.69 [5, 0]</td>\n      <td>15.62 [5, 0]</td>\n      <td>4.79 [12, 0]</td>\n      <td>3.25 [6, 0]</td>\n      <td>1.0 [3, 0]</td>\n      <td>0.51 [9, 0]</td>\n      <td>2.09 [9, 1]</td>\n    </tr>\n  </tbody>\n</table>\n</div>"
     },
     "execution_count": 253,
     "metadata": {},
     "output_type": "execute_result"
    }
   ],
   "source": [
    "unformatted_overall_power_rankings = columns_to_string(new_league_averages_dataframe,\n",
    "                                            new_league_power_rankings, power_rankings_difference)\n",
    "unformatted_overall_power_rankings"
   ],
   "metadata": {
    "collapsed": false,
    "pycharm": {
     "name": "#%%\n"
    }
   }
  },
  {
   "cell_type": "code",
   "execution_count": 239,
   "outputs": [],
   "source": [
    "def format_overall_power_rankings(unformatted_overall_power_rankings):\n",
    "\n",
    "    formatted_overall_power_rankings = unformatted_overall_power_rankings.copy()\n",
    "    for column in formatted_overall_power_rankings.columns[1:]:\n",
    "        temporary_column_list = list()\n",
    "        if column == \"FG_PCT\" or column == \"FT_PCT\" or column == \"PTS\":\n",
    "            for value in formatted_overall_power_rankings[column]:\n",
    "                if value[4] == \" \":\n",
    "                    value = value[:4] + \"0 \" + value[5:]\n",
    "                    temporary_column_list.append(value)\n",
    "                else:\n",
    "                    temporary_column_list.append(value)\n",
    "        else:\n",
    "            for value in formatted_overall_power_rankings[column]:\n",
    "                if value[3] == \" \":\n",
    "                    value = value[:3] + \"0 \" + value[4:]\n",
    "                    temporary_column_list.append(value)\n",
    "                else:\n",
    "                    temporary_column_list.append(value)\n",
    "\n",
    "        formatted_overall_power_rankings[column] = temporary_column_list\n",
    "\n",
    "    return formatted_overall_power_rankings"
   ],
   "metadata": {
    "collapsed": false,
    "pycharm": {
     "name": "#%%\n"
    }
   }
  },
  {
   "cell_type": "code",
   "execution_count": 254,
   "outputs": [
    {
     "data": {
      "text/plain": "                   TEAM         FG_PCT         FT_PCT          FG3M  \\\n0              Autopick   0.485 [5, 0]   0.790 [4, 0]   1.56 [8, 0]   \n1   CrabbeHerByThePussy   0.486 [4, 0]   0.811 [2, 0]   1.49 [9, 0]   \n2   El Ladrón de Cabras   0.515 [1, 0]   0.751 [8, 0]   1.61 [7, 0]   \n3              LaLaLand   0.461 [9, 0]   0.762 [7, 0]   1.62 [6, 0]   \n4       Magic's Johnson  0.449 [11, 0]   0.792 [3, 0]   2.13 [1, 0]   \n5               McCurry   0.493 [2, 0]  0.736 [10, 0]  0.86 [11, 0]   \n6   Nunn of Y'all Betta  0.470 [7, -1]   0.822 [1, 0]   1.94 [3, 1]   \n7     Russty Cuntbrooks   0.476 [6, 0]   0.786 [5, 0]   1.61 [7, 0]   \n8              Swaggy P   0.464 [8, 0]   0.743 [9, 0]  1.95 [2, -1]   \n9   Tvon's Tip-Top Team   0.470 [7, 0]   0.751 [8, 0]  1.37 [10, 0]   \n10      Wakanda Forever  0.450 [10, 0]  0.734 [11, 0]   1.77 [4, 0]   \n11    yOBItch Toppin Me   0.491 [3, 0]   0.779 [6, 0]   1.69 [5, 0]   \n\n              PTS           REB           AST           STL           BLK  \\\n0    16.00 [4, 0]   5.24 [9, 0]   3.30 [5, 0]   0.89 [7, 0]   0.58 [6, 0]   \n1   13.94 [10, 0]   6.13 [2, 0]  3.06 [10, 0]   0.91 [6, 0]   0.92 [1, 0]   \n2    14.57 [9, 0]   5.61 [6, 0]   3.10 [9, 0]   0.86 [9, 0]   0.64 [5, 0]   \n3    16.15 [3, 0]   5.77 [5, 0]   3.70 [3, 0]  0.85 [10, 0]   0.54 [7, 0]   \n4    16.44 [2, 0]   5.81 [4, 0]   3.84 [1, 0]   1.01 [2, 0]   0.52 [8, 0]   \n5   13.94 [10, 0]   6.61 [1, 0]   3.56 [4, 0]   1.07 [1, 0]   0.76 [4, 0]   \n6    15.51 [6, 0]  4.95 [10, 0]   3.73 [2, 0]   0.98 [4, 0]  0.39 [10, 0]   \n7    16.99 [1, 0]   5.86 [3, 0]  2.99 [12, 0]   0.96 [5, 0]   0.84 [2, 0]   \n8    14.67 [8, 0]  4.92 [11, 0]  3.02 [11, 0]  0.82 [11, 0]   0.58 [6, 0]   \n9   13.81 [11, 0]   5.60 [7, 0]   3.20 [8, 0]   0.87 [8, 0]   0.82 [3, 0]   \n10   15.06 [7, 0]   5.40 [8, 0]   3.22 [7, 0]   0.89 [7, 0]   0.58 [6, 0]   \n11   15.62 [5, 0]  4.79 [12, 0]   3.25 [6, 0]   1.00 [3, 0]   0.51 [9, 0]   \n\n             TOV  \n0    1.86 [6, 1]  \n1    1.62 [3, 1]  \n2    1.76 [5, 1]  \n3   2.23 [10, 1]  \n4    1.74 [4, 1]  \n5    1.86 [6, 1]  \n6   1.57 [1, -1]  \n7    1.92 [8, 1]  \n8    1.91 [7, 1]  \n9    1.86 [6, 1]  \n10   1.58 [2, 1]  \n11   2.09 [9, 1]  ",
      "text/html": "<div>\n<style scoped>\n    .dataframe tbody tr th:only-of-type {\n        vertical-align: middle;\n    }\n\n    .dataframe tbody tr th {\n        vertical-align: top;\n    }\n\n    .dataframe thead th {\n        text-align: right;\n    }\n</style>\n<table border=\"1\" class=\"dataframe\">\n  <thead>\n    <tr style=\"text-align: right;\">\n      <th></th>\n      <th>TEAM</th>\n      <th>FG_PCT</th>\n      <th>FT_PCT</th>\n      <th>FG3M</th>\n      <th>PTS</th>\n      <th>REB</th>\n      <th>AST</th>\n      <th>STL</th>\n      <th>BLK</th>\n      <th>TOV</th>\n    </tr>\n  </thead>\n  <tbody>\n    <tr>\n      <th>0</th>\n      <td>Autopick</td>\n      <td>0.485 [5, 0]</td>\n      <td>0.790 [4, 0]</td>\n      <td>1.56 [8, 0]</td>\n      <td>16.00 [4, 0]</td>\n      <td>5.24 [9, 0]</td>\n      <td>3.30 [5, 0]</td>\n      <td>0.89 [7, 0]</td>\n      <td>0.58 [6, 0]</td>\n      <td>1.86 [6, 1]</td>\n    </tr>\n    <tr>\n      <th>1</th>\n      <td>CrabbeHerByThePussy</td>\n      <td>0.486 [4, 0]</td>\n      <td>0.811 [2, 0]</td>\n      <td>1.49 [9, 0]</td>\n      <td>13.94 [10, 0]</td>\n      <td>6.13 [2, 0]</td>\n      <td>3.06 [10, 0]</td>\n      <td>0.91 [6, 0]</td>\n      <td>0.92 [1, 0]</td>\n      <td>1.62 [3, 1]</td>\n    </tr>\n    <tr>\n      <th>2</th>\n      <td>El Ladrón de Cabras</td>\n      <td>0.515 [1, 0]</td>\n      <td>0.751 [8, 0]</td>\n      <td>1.61 [7, 0]</td>\n      <td>14.57 [9, 0]</td>\n      <td>5.61 [6, 0]</td>\n      <td>3.10 [9, 0]</td>\n      <td>0.86 [9, 0]</td>\n      <td>0.64 [5, 0]</td>\n      <td>1.76 [5, 1]</td>\n    </tr>\n    <tr>\n      <th>3</th>\n      <td>LaLaLand</td>\n      <td>0.461 [9, 0]</td>\n      <td>0.762 [7, 0]</td>\n      <td>1.62 [6, 0]</td>\n      <td>16.15 [3, 0]</td>\n      <td>5.77 [5, 0]</td>\n      <td>3.70 [3, 0]</td>\n      <td>0.85 [10, 0]</td>\n      <td>0.54 [7, 0]</td>\n      <td>2.23 [10, 1]</td>\n    </tr>\n    <tr>\n      <th>4</th>\n      <td>Magic's Johnson</td>\n      <td>0.449 [11, 0]</td>\n      <td>0.792 [3, 0]</td>\n      <td>2.13 [1, 0]</td>\n      <td>16.44 [2, 0]</td>\n      <td>5.81 [4, 0]</td>\n      <td>3.84 [1, 0]</td>\n      <td>1.01 [2, 0]</td>\n      <td>0.52 [8, 0]</td>\n      <td>1.74 [4, 1]</td>\n    </tr>\n    <tr>\n      <th>5</th>\n      <td>McCurry</td>\n      <td>0.493 [2, 0]</td>\n      <td>0.736 [10, 0]</td>\n      <td>0.86 [11, 0]</td>\n      <td>13.94 [10, 0]</td>\n      <td>6.61 [1, 0]</td>\n      <td>3.56 [4, 0]</td>\n      <td>1.07 [1, 0]</td>\n      <td>0.76 [4, 0]</td>\n      <td>1.86 [6, 1]</td>\n    </tr>\n    <tr>\n      <th>6</th>\n      <td>Nunn of Y'all Betta</td>\n      <td>0.470 [7, -1]</td>\n      <td>0.822 [1, 0]</td>\n      <td>1.94 [3, 1]</td>\n      <td>15.51 [6, 0]</td>\n      <td>4.95 [10, 0]</td>\n      <td>3.73 [2, 0]</td>\n      <td>0.98 [4, 0]</td>\n      <td>0.39 [10, 0]</td>\n      <td>1.57 [1, -1]</td>\n    </tr>\n    <tr>\n      <th>7</th>\n      <td>Russty Cuntbrooks</td>\n      <td>0.476 [6, 0]</td>\n      <td>0.786 [5, 0]</td>\n      <td>1.61 [7, 0]</td>\n      <td>16.99 [1, 0]</td>\n      <td>5.86 [3, 0]</td>\n      <td>2.99 [12, 0]</td>\n      <td>0.96 [5, 0]</td>\n      <td>0.84 [2, 0]</td>\n      <td>1.92 [8, 1]</td>\n    </tr>\n    <tr>\n      <th>8</th>\n      <td>Swaggy P</td>\n      <td>0.464 [8, 0]</td>\n      <td>0.743 [9, 0]</td>\n      <td>1.95 [2, -1]</td>\n      <td>14.67 [8, 0]</td>\n      <td>4.92 [11, 0]</td>\n      <td>3.02 [11, 0]</td>\n      <td>0.82 [11, 0]</td>\n      <td>0.58 [6, 0]</td>\n      <td>1.91 [7, 1]</td>\n    </tr>\n    <tr>\n      <th>9</th>\n      <td>Tvon's Tip-Top Team</td>\n      <td>0.470 [7, 0]</td>\n      <td>0.751 [8, 0]</td>\n      <td>1.37 [10, 0]</td>\n      <td>13.81 [11, 0]</td>\n      <td>5.60 [7, 0]</td>\n      <td>3.20 [8, 0]</td>\n      <td>0.87 [8, 0]</td>\n      <td>0.82 [3, 0]</td>\n      <td>1.86 [6, 1]</td>\n    </tr>\n    <tr>\n      <th>10</th>\n      <td>Wakanda Forever</td>\n      <td>0.450 [10, 0]</td>\n      <td>0.734 [11, 0]</td>\n      <td>1.77 [4, 0]</td>\n      <td>15.06 [7, 0]</td>\n      <td>5.40 [8, 0]</td>\n      <td>3.22 [7, 0]</td>\n      <td>0.89 [7, 0]</td>\n      <td>0.58 [6, 0]</td>\n      <td>1.58 [2, 1]</td>\n    </tr>\n    <tr>\n      <th>11</th>\n      <td>yOBItch Toppin Me</td>\n      <td>0.491 [3, 0]</td>\n      <td>0.779 [6, 0]</td>\n      <td>1.69 [5, 0]</td>\n      <td>15.62 [5, 0]</td>\n      <td>4.79 [12, 0]</td>\n      <td>3.25 [6, 0]</td>\n      <td>1.00 [3, 0]</td>\n      <td>0.51 [9, 0]</td>\n      <td>2.09 [9, 1]</td>\n    </tr>\n  </tbody>\n</table>\n</div>"
     },
     "execution_count": 254,
     "metadata": {},
     "output_type": "execute_result"
    }
   ],
   "source": [
    "format_overall_power_dataframe = format_overall_power_rankings(unformatted_overall_power_rankings)\n",
    "format_overall_power_dataframe"
   ],
   "metadata": {
    "collapsed": false,
    "pycharm": {
     "name": "#%%\n"
    }
   }
  },
  {
   "cell_type": "code",
   "execution_count": 257,
   "outputs": [],
   "source": [
    "def get_overall_power_rank_to_different_dataframe(power_ranking_dataframe, dataframe_to_add_to):\n",
    "\n",
    "    power_ranking_dataframe = power_ranking_dataframe.set_index(TEAM_COLUMN)\n",
    "    power_ranking_dataframe[\"PR\"] = 109 - power_ranking_dataframe.sum(axis=1,  numeric_only=True)\n",
    "\n",
    "    dataframe_to_add_to[\"PR\"] = list(power_ranking_dataframe[\"PR\"])\n",
    "\n",
    "    columns = list(dataframe_to_add_to.columns)\n",
    "    columns = [columns[-1]] + columns[:-1]\n",
    "    dataframe_to_add_to = dataframe_to_add_to[columns]\n",
    "    dataframe_to_add_to = dataframe_to_add_to.sort_values(\"PR\", ascending=False)\n",
    "    dataframe_to_add_to = dataframe_to_add_to.set_index(TEAM_COLUMN)\n",
    "    dataframe_to_add_to.index.name = None\n",
    "\n",
    "    return dataframe_to_add_to"
   ],
   "metadata": {
    "collapsed": false,
    "pycharm": {
     "name": "#%%\n"
    }
   }
  },
  {
   "cell_type": "code",
   "execution_count": 258,
   "outputs": [
    {
     "data": {
      "text/plain": "                     PR         FG_PCT         FT_PCT          FG3M  \\\nMagic's Johnson      73  0.449 [11, 0]   0.792 [3, 0]   2.13 [1, 0]   \nNunn of Y'all Betta  65  0.470 [7, -1]   0.822 [1, 0]   1.94 [3, 1]   \nCrabbeHerByThePussy  62   0.486 [4, 0]   0.811 [2, 0]   1.49 [9, 0]   \nMcCurry              60   0.493 [2, 0]  0.736 [10, 0]  0.86 [11, 0]   \nRussty Cuntbrooks    60   0.476 [6, 0]   0.786 [5, 0]   1.61 [7, 0]   \nAutopick             55   0.485 [5, 0]   0.790 [4, 0]   1.56 [8, 0]   \nyOBItch Toppin Me    51   0.491 [3, 0]   0.779 [6, 0]   1.69 [5, 0]   \nEl Ladrón de Cabras  50   0.515 [1, 0]   0.751 [8, 0]   1.61 [7, 0]   \nLaLaLand             49   0.461 [9, 0]   0.762 [7, 0]   1.62 [6, 0]   \nWakanda Forever      47  0.450 [10, 0]  0.734 [11, 0]   1.77 [4, 0]   \nTvon's Tip-Top Team  41   0.470 [7, 0]   0.751 [8, 0]  1.37 [10, 0]   \nSwaggy P             36   0.464 [8, 0]   0.743 [9, 0]  1.95 [2, -1]   \n\n                               PTS           REB           AST           STL  \\\nMagic's Johnson       16.44 [2, 0]   5.81 [4, 0]   3.84 [1, 0]   1.01 [2, 0]   \nNunn of Y'all Betta   15.51 [6, 0]  4.95 [10, 0]   3.73 [2, 0]   0.98 [4, 0]   \nCrabbeHerByThePussy  13.94 [10, 0]   6.13 [2, 0]  3.06 [10, 0]   0.91 [6, 0]   \nMcCurry              13.94 [10, 0]   6.61 [1, 0]   3.56 [4, 0]   1.07 [1, 0]   \nRussty Cuntbrooks     16.99 [1, 0]   5.86 [3, 0]  2.99 [12, 0]   0.96 [5, 0]   \nAutopick              16.00 [4, 0]   5.24 [9, 0]   3.30 [5, 0]   0.89 [7, 0]   \nyOBItch Toppin Me     15.62 [5, 0]  4.79 [12, 0]   3.25 [6, 0]   1.00 [3, 0]   \nEl Ladrón de Cabras   14.57 [9, 0]   5.61 [6, 0]   3.10 [9, 0]   0.86 [9, 0]   \nLaLaLand              16.15 [3, 0]   5.77 [5, 0]   3.70 [3, 0]  0.85 [10, 0]   \nWakanda Forever       15.06 [7, 0]   5.40 [8, 0]   3.22 [7, 0]   0.89 [7, 0]   \nTvon's Tip-Top Team  13.81 [11, 0]   5.60 [7, 0]   3.20 [8, 0]   0.87 [8, 0]   \nSwaggy P              14.67 [8, 0]  4.92 [11, 0]  3.02 [11, 0]  0.82 [11, 0]   \n\n                              BLK           TOV  \nMagic's Johnson       0.52 [8, 0]   1.74 [4, 1]  \nNunn of Y'all Betta  0.39 [10, 0]  1.57 [1, -1]  \nCrabbeHerByThePussy   0.92 [1, 0]   1.62 [3, 1]  \nMcCurry               0.76 [4, 0]   1.86 [6, 1]  \nRussty Cuntbrooks     0.84 [2, 0]   1.92 [8, 1]  \nAutopick              0.58 [6, 0]   1.86 [6, 1]  \nyOBItch Toppin Me     0.51 [9, 0]   2.09 [9, 1]  \nEl Ladrón de Cabras   0.64 [5, 0]   1.76 [5, 1]  \nLaLaLand              0.54 [7, 0]  2.23 [10, 1]  \nWakanda Forever       0.58 [6, 0]   1.58 [2, 1]  \nTvon's Tip-Top Team   0.82 [3, 0]   1.86 [6, 1]  \nSwaggy P              0.58 [6, 0]   1.91 [7, 1]  ",
      "text/html": "<div>\n<style scoped>\n    .dataframe tbody tr th:only-of-type {\n        vertical-align: middle;\n    }\n\n    .dataframe tbody tr th {\n        vertical-align: top;\n    }\n\n    .dataframe thead th {\n        text-align: right;\n    }\n</style>\n<table border=\"1\" class=\"dataframe\">\n  <thead>\n    <tr style=\"text-align: right;\">\n      <th></th>\n      <th>PR</th>\n      <th>FG_PCT</th>\n      <th>FT_PCT</th>\n      <th>FG3M</th>\n      <th>PTS</th>\n      <th>REB</th>\n      <th>AST</th>\n      <th>STL</th>\n      <th>BLK</th>\n      <th>TOV</th>\n    </tr>\n  </thead>\n  <tbody>\n    <tr>\n      <th>Magic's Johnson</th>\n      <td>73</td>\n      <td>0.449 [11, 0]</td>\n      <td>0.792 [3, 0]</td>\n      <td>2.13 [1, 0]</td>\n      <td>16.44 [2, 0]</td>\n      <td>5.81 [4, 0]</td>\n      <td>3.84 [1, 0]</td>\n      <td>1.01 [2, 0]</td>\n      <td>0.52 [8, 0]</td>\n      <td>1.74 [4, 1]</td>\n    </tr>\n    <tr>\n      <th>Nunn of Y'all Betta</th>\n      <td>65</td>\n      <td>0.470 [7, -1]</td>\n      <td>0.822 [1, 0]</td>\n      <td>1.94 [3, 1]</td>\n      <td>15.51 [6, 0]</td>\n      <td>4.95 [10, 0]</td>\n      <td>3.73 [2, 0]</td>\n      <td>0.98 [4, 0]</td>\n      <td>0.39 [10, 0]</td>\n      <td>1.57 [1, -1]</td>\n    </tr>\n    <tr>\n      <th>CrabbeHerByThePussy</th>\n      <td>62</td>\n      <td>0.486 [4, 0]</td>\n      <td>0.811 [2, 0]</td>\n      <td>1.49 [9, 0]</td>\n      <td>13.94 [10, 0]</td>\n      <td>6.13 [2, 0]</td>\n      <td>3.06 [10, 0]</td>\n      <td>0.91 [6, 0]</td>\n      <td>0.92 [1, 0]</td>\n      <td>1.62 [3, 1]</td>\n    </tr>\n    <tr>\n      <th>McCurry</th>\n      <td>60</td>\n      <td>0.493 [2, 0]</td>\n      <td>0.736 [10, 0]</td>\n      <td>0.86 [11, 0]</td>\n      <td>13.94 [10, 0]</td>\n      <td>6.61 [1, 0]</td>\n      <td>3.56 [4, 0]</td>\n      <td>1.07 [1, 0]</td>\n      <td>0.76 [4, 0]</td>\n      <td>1.86 [6, 1]</td>\n    </tr>\n    <tr>\n      <th>Russty Cuntbrooks</th>\n      <td>60</td>\n      <td>0.476 [6, 0]</td>\n      <td>0.786 [5, 0]</td>\n      <td>1.61 [7, 0]</td>\n      <td>16.99 [1, 0]</td>\n      <td>5.86 [3, 0]</td>\n      <td>2.99 [12, 0]</td>\n      <td>0.96 [5, 0]</td>\n      <td>0.84 [2, 0]</td>\n      <td>1.92 [8, 1]</td>\n    </tr>\n    <tr>\n      <th>Autopick</th>\n      <td>55</td>\n      <td>0.485 [5, 0]</td>\n      <td>0.790 [4, 0]</td>\n      <td>1.56 [8, 0]</td>\n      <td>16.00 [4, 0]</td>\n      <td>5.24 [9, 0]</td>\n      <td>3.30 [5, 0]</td>\n      <td>0.89 [7, 0]</td>\n      <td>0.58 [6, 0]</td>\n      <td>1.86 [6, 1]</td>\n    </tr>\n    <tr>\n      <th>yOBItch Toppin Me</th>\n      <td>51</td>\n      <td>0.491 [3, 0]</td>\n      <td>0.779 [6, 0]</td>\n      <td>1.69 [5, 0]</td>\n      <td>15.62 [5, 0]</td>\n      <td>4.79 [12, 0]</td>\n      <td>3.25 [6, 0]</td>\n      <td>1.00 [3, 0]</td>\n      <td>0.51 [9, 0]</td>\n      <td>2.09 [9, 1]</td>\n    </tr>\n    <tr>\n      <th>El Ladrón de Cabras</th>\n      <td>50</td>\n      <td>0.515 [1, 0]</td>\n      <td>0.751 [8, 0]</td>\n      <td>1.61 [7, 0]</td>\n      <td>14.57 [9, 0]</td>\n      <td>5.61 [6, 0]</td>\n      <td>3.10 [9, 0]</td>\n      <td>0.86 [9, 0]</td>\n      <td>0.64 [5, 0]</td>\n      <td>1.76 [5, 1]</td>\n    </tr>\n    <tr>\n      <th>LaLaLand</th>\n      <td>49</td>\n      <td>0.461 [9, 0]</td>\n      <td>0.762 [7, 0]</td>\n      <td>1.62 [6, 0]</td>\n      <td>16.15 [3, 0]</td>\n      <td>5.77 [5, 0]</td>\n      <td>3.70 [3, 0]</td>\n      <td>0.85 [10, 0]</td>\n      <td>0.54 [7, 0]</td>\n      <td>2.23 [10, 1]</td>\n    </tr>\n    <tr>\n      <th>Wakanda Forever</th>\n      <td>47</td>\n      <td>0.450 [10, 0]</td>\n      <td>0.734 [11, 0]</td>\n      <td>1.77 [4, 0]</td>\n      <td>15.06 [7, 0]</td>\n      <td>5.40 [8, 0]</td>\n      <td>3.22 [7, 0]</td>\n      <td>0.89 [7, 0]</td>\n      <td>0.58 [6, 0]</td>\n      <td>1.58 [2, 1]</td>\n    </tr>\n    <tr>\n      <th>Tvon's Tip-Top Team</th>\n      <td>41</td>\n      <td>0.470 [7, 0]</td>\n      <td>0.751 [8, 0]</td>\n      <td>1.37 [10, 0]</td>\n      <td>13.81 [11, 0]</td>\n      <td>5.60 [7, 0]</td>\n      <td>3.20 [8, 0]</td>\n      <td>0.87 [8, 0]</td>\n      <td>0.82 [3, 0]</td>\n      <td>1.86 [6, 1]</td>\n    </tr>\n    <tr>\n      <th>Swaggy P</th>\n      <td>36</td>\n      <td>0.464 [8, 0]</td>\n      <td>0.743 [9, 0]</td>\n      <td>1.95 [2, -1]</td>\n      <td>14.67 [8, 0]</td>\n      <td>4.92 [11, 0]</td>\n      <td>3.02 [11, 0]</td>\n      <td>0.82 [11, 0]</td>\n      <td>0.58 [6, 0]</td>\n      <td>1.91 [7, 1]</td>\n    </tr>\n  </tbody>\n</table>\n</div>"
     },
     "execution_count": 258,
     "metadata": {},
     "output_type": "execute_result"
    }
   ],
   "source": [
    "get_overall_power_rank_to_different_dataframe(new_league_power_rankings, format_overall_power_dataframe)"
   ],
   "metadata": {
    "collapsed": false,
    "pycharm": {
     "name": "#%%\n"
    }
   }
  },
  {
   "cell_type": "code",
   "execution_count": 262,
   "outputs": [],
   "source": [
    "def get_average_and_power_ranking_change(league_averages_dataframe, team_dict,\n",
    "                                         new_team_9cat_averages):\n",
    "\n",
    "    new_league_averages_dataframe, new_league_power_rankings, power_rankings_difference = \\\n",
    "    power_ranking_change(league_averages_dataframe, team_dict, new_team_9cat_averages)\n",
    "\n",
    "    new_league_averages_dataframe = new_league_averages_dataframe.reset_index(drop=True)\n",
    "    unformatted_overall_power_rankings = columns_to_string(new_league_averages_dataframe,\n",
    "                                                           new_league_power_rankings,\n",
    "                                                           power_rankings_difference)\n",
    "\n",
    "    format_overall_power_dataframe = format_overall_power_rankings(unformatted_overall_power_rankings)\n",
    "\n",
    "    returned_dataframe = get_overall_power_rank_to_different_dataframe(new_league_power_rankings,\n",
    "                                                   format_overall_power_dataframe)\n",
    "\n",
    "    return returned_dataframe"
   ],
   "metadata": {
    "collapsed": false,
    "pycharm": {
     "name": "#%%\n"
    }
   }
  },
  {
   "cell_type": "code",
   "execution_count": 275,
   "outputs": [
    {
     "name": "stdout",
     "output_type": "stream",
     "text": [
      "Index(['TEAM', 'FG_PCT ', 'FT_PCT ', 'FG3M ', 'PTS ', 'REB ', 'AST ', 'STL ',\n",
      "       'BLK ', 'TOV '],\n",
      "      dtype='object')\n"
     ]
    },
    {
     "data": {
      "text/plain": "                     PR         FG_PCT         FT_PCT          FG3M  \\\nMagic's Johnson      73  0.449 [11, 0]   0.792 [3, 0]   2.13 [1, 0]   \nNunn of Y'all Betta  65  0.470 [7, -1]   0.822 [1, 0]   1.94 [3, 1]   \nCrabbeHerByThePussy  62   0.486 [4, 0]   0.811 [2, 0]   1.49 [9, 0]   \nMcCurry              60   0.493 [2, 0]  0.736 [10, 0]  0.86 [11, 0]   \nRussty Cuntbrooks    60   0.476 [6, 0]   0.786 [5, 0]   1.61 [7, 0]   \nAutopick             55   0.485 [5, 0]   0.790 [4, 0]   1.56 [8, 0]   \nyOBItch Toppin Me    51   0.491 [3, 0]   0.779 [6, 0]   1.69 [5, 0]   \nEl Ladrón de Cabras  50   0.515 [1, 0]   0.751 [8, 0]   1.61 [7, 0]   \nLaLaLand             49   0.461 [9, 0]   0.762 [7, 0]   1.62 [6, 0]   \nWakanda Forever      47  0.450 [10, 0]  0.734 [11, 0]   1.77 [4, 0]   \nTvon's Tip-Top Team  41   0.470 [7, 0]   0.751 [8, 0]  1.37 [10, 0]   \nSwaggy P             36   0.464 [8, 0]   0.743 [9, 0]  1.95 [2, -1]   \n\n                               PTS           REB           AST           STL  \\\nMagic's Johnson       16.44 [2, 0]   5.81 [4, 0]   3.84 [1, 0]   1.01 [2, 0]   \nNunn of Y'all Betta   15.51 [6, 0]  4.95 [10, 0]   3.73 [2, 0]   0.98 [4, 0]   \nCrabbeHerByThePussy  13.94 [10, 0]   6.13 [2, 0]  3.06 [10, 0]   0.91 [6, 0]   \nMcCurry              13.94 [10, 0]   6.61 [1, 0]   3.56 [4, 0]   1.07 [1, 0]   \nRussty Cuntbrooks     16.99 [1, 0]   5.86 [3, 0]  2.99 [12, 0]   0.96 [5, 0]   \nAutopick              16.00 [4, 0]   5.24 [9, 0]   3.30 [5, 0]   0.89 [7, 0]   \nyOBItch Toppin Me     15.62 [5, 0]  4.79 [12, 0]   3.25 [6, 0]   1.00 [3, 0]   \nEl Ladrón de Cabras   14.57 [9, 0]   5.61 [6, 0]   3.10 [9, 0]   0.86 [9, 0]   \nLaLaLand              16.15 [3, 0]   5.77 [5, 0]   3.70 [3, 0]  0.85 [10, 0]   \nWakanda Forever       15.06 [7, 0]   5.40 [8, 0]   3.22 [7, 0]   0.89 [7, 0]   \nTvon's Tip-Top Team  13.81 [11, 0]   5.60 [7, 0]   3.20 [8, 0]   0.87 [8, 0]   \nSwaggy P              14.67 [8, 0]  4.92 [11, 0]  3.02 [11, 0]  0.82 [11, 0]   \n\n                              BLK           TOV  \nMagic's Johnson       0.52 [8, 0]   1.74 [4, 1]  \nNunn of Y'all Betta  0.39 [10, 0]  1.57 [1, -1]  \nCrabbeHerByThePussy   0.92 [1, 0]   1.62 [3, 1]  \nMcCurry               0.76 [4, 0]   1.86 [6, 1]  \nRussty Cuntbrooks     0.84 [2, 0]   1.92 [8, 1]  \nAutopick              0.58 [6, 0]   1.86 [6, 1]  \nyOBItch Toppin Me     0.51 [9, 0]   2.09 [9, 1]  \nEl Ladrón de Cabras   0.64 [5, 0]   1.76 [5, 1]  \nLaLaLand              0.54 [7, 0]  2.23 [10, 1]  \nWakanda Forever       0.58 [6, 0]   1.58 [2, 1]  \nTvon's Tip-Top Team   0.82 [3, 0]   1.86 [6, 1]  \nSwaggy P              0.58 [6, 0]   1.91 [7, 1]  ",
      "text/html": "<div>\n<style scoped>\n    .dataframe tbody tr th:only-of-type {\n        vertical-align: middle;\n    }\n\n    .dataframe tbody tr th {\n        vertical-align: top;\n    }\n\n    .dataframe thead th {\n        text-align: right;\n    }\n</style>\n<table border=\"1\" class=\"dataframe\">\n  <thead>\n    <tr style=\"text-align: right;\">\n      <th></th>\n      <th>PR</th>\n      <th>FG_PCT</th>\n      <th>FT_PCT</th>\n      <th>FG3M</th>\n      <th>PTS</th>\n      <th>REB</th>\n      <th>AST</th>\n      <th>STL</th>\n      <th>BLK</th>\n      <th>TOV</th>\n    </tr>\n  </thead>\n  <tbody>\n    <tr>\n      <th>Magic's Johnson</th>\n      <td>73</td>\n      <td>0.449 [11, 0]</td>\n      <td>0.792 [3, 0]</td>\n      <td>2.13 [1, 0]</td>\n      <td>16.44 [2, 0]</td>\n      <td>5.81 [4, 0]</td>\n      <td>3.84 [1, 0]</td>\n      <td>1.01 [2, 0]</td>\n      <td>0.52 [8, 0]</td>\n      <td>1.74 [4, 1]</td>\n    </tr>\n    <tr>\n      <th>Nunn of Y'all Betta</th>\n      <td>65</td>\n      <td>0.470 [7, -1]</td>\n      <td>0.822 [1, 0]</td>\n      <td>1.94 [3, 1]</td>\n      <td>15.51 [6, 0]</td>\n      <td>4.95 [10, 0]</td>\n      <td>3.73 [2, 0]</td>\n      <td>0.98 [4, 0]</td>\n      <td>0.39 [10, 0]</td>\n      <td>1.57 [1, -1]</td>\n    </tr>\n    <tr>\n      <th>CrabbeHerByThePussy</th>\n      <td>62</td>\n      <td>0.486 [4, 0]</td>\n      <td>0.811 [2, 0]</td>\n      <td>1.49 [9, 0]</td>\n      <td>13.94 [10, 0]</td>\n      <td>6.13 [2, 0]</td>\n      <td>3.06 [10, 0]</td>\n      <td>0.91 [6, 0]</td>\n      <td>0.92 [1, 0]</td>\n      <td>1.62 [3, 1]</td>\n    </tr>\n    <tr>\n      <th>McCurry</th>\n      <td>60</td>\n      <td>0.493 [2, 0]</td>\n      <td>0.736 [10, 0]</td>\n      <td>0.86 [11, 0]</td>\n      <td>13.94 [10, 0]</td>\n      <td>6.61 [1, 0]</td>\n      <td>3.56 [4, 0]</td>\n      <td>1.07 [1, 0]</td>\n      <td>0.76 [4, 0]</td>\n      <td>1.86 [6, 1]</td>\n    </tr>\n    <tr>\n      <th>Russty Cuntbrooks</th>\n      <td>60</td>\n      <td>0.476 [6, 0]</td>\n      <td>0.786 [5, 0]</td>\n      <td>1.61 [7, 0]</td>\n      <td>16.99 [1, 0]</td>\n      <td>5.86 [3, 0]</td>\n      <td>2.99 [12, 0]</td>\n      <td>0.96 [5, 0]</td>\n      <td>0.84 [2, 0]</td>\n      <td>1.92 [8, 1]</td>\n    </tr>\n    <tr>\n      <th>Autopick</th>\n      <td>55</td>\n      <td>0.485 [5, 0]</td>\n      <td>0.790 [4, 0]</td>\n      <td>1.56 [8, 0]</td>\n      <td>16.00 [4, 0]</td>\n      <td>5.24 [9, 0]</td>\n      <td>3.30 [5, 0]</td>\n      <td>0.89 [7, 0]</td>\n      <td>0.58 [6, 0]</td>\n      <td>1.86 [6, 1]</td>\n    </tr>\n    <tr>\n      <th>yOBItch Toppin Me</th>\n      <td>51</td>\n      <td>0.491 [3, 0]</td>\n      <td>0.779 [6, 0]</td>\n      <td>1.69 [5, 0]</td>\n      <td>15.62 [5, 0]</td>\n      <td>4.79 [12, 0]</td>\n      <td>3.25 [6, 0]</td>\n      <td>1.00 [3, 0]</td>\n      <td>0.51 [9, 0]</td>\n      <td>2.09 [9, 1]</td>\n    </tr>\n    <tr>\n      <th>El Ladrón de Cabras</th>\n      <td>50</td>\n      <td>0.515 [1, 0]</td>\n      <td>0.751 [8, 0]</td>\n      <td>1.61 [7, 0]</td>\n      <td>14.57 [9, 0]</td>\n      <td>5.61 [6, 0]</td>\n      <td>3.10 [9, 0]</td>\n      <td>0.86 [9, 0]</td>\n      <td>0.64 [5, 0]</td>\n      <td>1.76 [5, 1]</td>\n    </tr>\n    <tr>\n      <th>LaLaLand</th>\n      <td>49</td>\n      <td>0.461 [9, 0]</td>\n      <td>0.762 [7, 0]</td>\n      <td>1.62 [6, 0]</td>\n      <td>16.15 [3, 0]</td>\n      <td>5.77 [5, 0]</td>\n      <td>3.70 [3, 0]</td>\n      <td>0.85 [10, 0]</td>\n      <td>0.54 [7, 0]</td>\n      <td>2.23 [10, 1]</td>\n    </tr>\n    <tr>\n      <th>Wakanda Forever</th>\n      <td>47</td>\n      <td>0.450 [10, 0]</td>\n      <td>0.734 [11, 0]</td>\n      <td>1.77 [4, 0]</td>\n      <td>15.06 [7, 0]</td>\n      <td>5.40 [8, 0]</td>\n      <td>3.22 [7, 0]</td>\n      <td>0.89 [7, 0]</td>\n      <td>0.58 [6, 0]</td>\n      <td>1.58 [2, 1]</td>\n    </tr>\n    <tr>\n      <th>Tvon's Tip-Top Team</th>\n      <td>41</td>\n      <td>0.470 [7, 0]</td>\n      <td>0.751 [8, 0]</td>\n      <td>1.37 [10, 0]</td>\n      <td>13.81 [11, 0]</td>\n      <td>5.60 [7, 0]</td>\n      <td>3.20 [8, 0]</td>\n      <td>0.87 [8, 0]</td>\n      <td>0.82 [3, 0]</td>\n      <td>1.86 [6, 1]</td>\n    </tr>\n    <tr>\n      <th>Swaggy P</th>\n      <td>36</td>\n      <td>0.464 [8, 0]</td>\n      <td>0.743 [9, 0]</td>\n      <td>1.95 [2, -1]</td>\n      <td>14.67 [8, 0]</td>\n      <td>4.92 [11, 0]</td>\n      <td>3.02 [11, 0]</td>\n      <td>0.82 [11, 0]</td>\n      <td>0.58 [6, 0]</td>\n      <td>1.91 [7, 1]</td>\n    </tr>\n  </tbody>\n</table>\n</div>"
     },
     "execution_count": 275,
     "metadata": {},
     "output_type": "execute_result"
    }
   ],
   "source": [
    "get_average_and_power_ranking_change(league_averages_dataframe, NUNN_OF_YALL_BETTA,\n",
    "                                     new_team_9cat_averages)"
   ],
   "metadata": {
    "collapsed": false,
    "pycharm": {
     "name": "#%%\n"
    }
   }
  },
  {
   "cell_type": "code",
   "execution_count": 274,
   "outputs": [],
   "source": [
    "# Final averages/power_ranking/change\n",
    "def columns_to_string(new_league_averages_dataframe, new_league_power_rankings,\n",
    "                      power_rankings_difference):\n",
    "\n",
    "    overall_power_rank_dataframe = pd.DataFrame()\n",
    "    overall_power_rank_dataframe[TEAM_COLUMN] = new_league_averages_dataframe[TEAM_COLUMN]\n",
    "    for column in new_league_averages_dataframe.columns[1:]:\n",
    "        overall_power_rank_dataframe[column] = new_league_averages_dataframe[column].astype\\\n",
    "                                                   (str) +  \" [\" + \\\n",
    "                                               new_league_power_rankings[column + \" \"].astype\\\n",
    "                                                   (str) +\\\n",
    "                                               \", \"  + power_rankings_difference[column + \" \"]\\\n",
    "                                                   .astype(str) + \"]\"\n",
    "    return overall_power_rank_dataframe\n",
    "\n",
    "\n",
    "def format_overall_power_rankings(unformatted_overall_power_rankings):\n",
    "\n",
    "    formatted_overall_power_rankings = unformatted_overall_power_rankings.copy()\n",
    "    for column in formatted_overall_power_rankings.columns[1:]:\n",
    "        temporary_column_list = list()\n",
    "        if column == \"FG_PCT\" or column == \"FT_PCT\" or column == \"PTS\":\n",
    "            for value in formatted_overall_power_rankings[column]:\n",
    "                if value[4] == \" \":\n",
    "                    value = value[:4] + \"0 \" + value[5:]\n",
    "                    temporary_column_list.append(value)\n",
    "                else:\n",
    "                    temporary_column_list.append(value)\n",
    "        else:\n",
    "            for value in formatted_overall_power_rankings[column]:\n",
    "                if value[3] == \" \":\n",
    "                    value = value[:3] + \"0 \" + value[4:]\n",
    "                    temporary_column_list.append(value)\n",
    "                else:\n",
    "                    temporary_column_list.append(value)\n",
    "\n",
    "        formatted_overall_power_rankings[column] = temporary_column_list\n",
    "\n",
    "    return formatted_overall_power_rankings\n",
    "\n",
    "\n",
    "def get_overall_power_rank_to_different_dataframe(power_ranking_dataframe, dataframe_to_add_to):\n",
    "\n",
    "    power_ranking_dataframe = power_ranking_dataframe.set_index(TEAM_COLUMN)\n",
    "    power_ranking_dataframe[\"PR\"] = 109 - power_ranking_dataframe.sum(axis=1,  numeric_only=True)\n",
    "\n",
    "    dataframe_to_add_to[\"PR\"] = list(power_ranking_dataframe[\"PR\"])\n",
    "\n",
    "    columns = list(dataframe_to_add_to.columns)\n",
    "    columns = [columns[-1]] + columns[:-1]\n",
    "    dataframe_to_add_to = dataframe_to_add_to[columns]\n",
    "    dataframe_to_add_to = dataframe_to_add_to.sort_values(\"PR\", ascending=False)\n",
    "    dataframe_to_add_to = dataframe_to_add_to.set_index(TEAM_COLUMN)\n",
    "    dataframe_to_add_to.index.name = None\n",
    "\n",
    "    return dataframe_to_add_to\n",
    "\n",
    "\n",
    "def get_average_and_power_ranking_change(league_averages_dataframe, team_dict,\n",
    "                                         new_team_9cat_averages):\n",
    "\n",
    "    new_league_averages_dataframe, new_league_power_rankings, power_rankings_difference = \\\n",
    "    power_ranking_change(league_averages_dataframe, team_dict, new_team_9cat_averages)\n",
    "    print(new_league_power_rankings.columns)\n",
    "\n",
    "    new_league_averages_dataframe = new_league_averages_dataframe.reset_index(drop=True)\n",
    "    unformatted_overall_power_rankings = columns_to_string(new_league_averages_dataframe,\n",
    "                                                           new_league_power_rankings,\n",
    "                                                           power_rankings_difference)\n",
    "\n",
    "    format_overall_power_dataframe = format_overall_power_rankings(unformatted_overall_power_rankings)\n",
    "\n",
    "    returned_dataframe = get_overall_power_rank_to_different_dataframe(new_league_power_rankings,\n",
    "                                                   format_overall_power_dataframe)\n",
    "\n",
    "    return returned_dataframe"
   ],
   "metadata": {
    "collapsed": false,
    "pycharm": {
     "name": "#%%\n"
    }
   }
  },
  {
   "cell_type": "code",
   "execution_count": 277,
   "outputs": [
    {
     "data": {
      "text/plain": "1"
     },
     "execution_count": 277,
     "metadata": {},
     "output_type": "execute_result"
    }
   ],
   "source": [
    "\n",
    "int(\" 1\")"
   ],
   "metadata": {
    "collapsed": false,
    "pycharm": {
     "name": "#%%\n"
    }
   }
  },
  {
   "cell_type": "code",
   "execution_count": 300,
   "outputs": [],
   "source": [
    "a = \"0.476 [5, 0]\""
   ],
   "metadata": {
    "collapsed": false,
    "pycharm": {
     "name": "#%%\n"
    }
   }
  },
  {
   "cell_type": "code",
   "execution_count": 302,
   "outputs": [
    {
     "data": {
      "text/plain": "0"
     },
     "execution_count": 302,
     "metadata": {},
     "output_type": "execute_result"
    }
   ],
   "source": [
    "int(a[-3:-1])"
   ],
   "metadata": {
    "collapsed": false,
    "pycharm": {
     "name": "#%%\n"
    }
   }
  },
  {
   "cell_type": "code",
   "execution_count": null,
   "outputs": [],
   "source": [
    "a[-3:-1]"
   ],
   "metadata": {
    "collapsed": false,
    "pycharm": {
     "name": "#%%\n"
    }
   }
  },
  {
   "cell_type": "code",
   "execution_count": null,
   "outputs": [],
   "source": [],
   "metadata": {
    "collapsed": false,
    "pycharm": {
     "name": "#%%\n"
    }
   }
  }
 ],
 "metadata": {
  "kernelspec": {
   "display_name": "Python 3",
   "language": "python",
   "name": "python3"
  },
  "language_info": {
   "codemirror_mode": {
    "name": "ipython",
    "version": 2
   },
   "file_extension": ".py",
   "mimetype": "text/x-python",
   "name": "python",
   "nbconvert_exporter": "python",
   "pygments_lexer": "ipython2",
   "version": "2.7.6"
  }
 },
 "nbformat": 4,
 "nbformat_minor": 0
}