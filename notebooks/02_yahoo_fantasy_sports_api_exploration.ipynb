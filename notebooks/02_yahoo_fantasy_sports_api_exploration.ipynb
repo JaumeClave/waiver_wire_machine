{
 "cells": [
  {
   "cell_type": "markdown",
   "metadata": {
    "collapsed": true,
    "pycharm": {
     "name": "#%% md\n"
    }
   },
   "source": [
    "# Yahoo Fantasy Sports API"
   ]
  },
  {
   "cell_type": "code",
   "execution_count": 1,
   "outputs": [
    {
     "name": "stderr",
     "output_type": "stream",
     "text": [
      "[2021-01-27 21:47:17,780 DEBUG] [yahoo_oauth.oauth.__init__] Checking \n",
      "[2021-01-27 21:47:17,795 DEBUG] [yahoo_oauth.oauth.token_is_valid] ELAPSED TIME : 43950.913211107254\n",
      "[2021-01-27 21:47:17,795 DEBUG] [yahoo_oauth.oauth.token_is_valid] TOKEN HAS EXPIRED\n",
      "[2021-01-27 21:47:17,796 DEBUG] [yahoo_oauth.oauth.refresh_access_token] REFRESHING TOKEN\n"
     ]
    }
   ],
   "source": [
    "# Authenticate\n",
    "from yahoo_oauth import OAuth2\n",
    "sc = OAuth2(None, None, from_file='../references/oauth2.json')"
   ],
   "metadata": {
    "collapsed": false,
    "pycharm": {
     "name": "#%%\n"
    }
   }
  },
  {
   "cell_type": "code",
   "execution_count": 2,
   "outputs": [],
   "source": [
    "# Get Game Id\n",
    "import yahoo_fantasy_api as yfa\n",
    "gm = yfa.Game(sc, 'nba')"
   ],
   "metadata": {
    "collapsed": false,
    "pycharm": {
     "name": "#%%\n"
    }
   }
  },
  {
   "cell_type": "code",
   "execution_count": 3,
   "outputs": [
    {
     "name": "stdout",
     "output_type": "stream",
     "text": [
      "The League Id is: 402.l.55374\n"
     ]
    }
   ],
   "source": [
    "# Get League Ids I have access to\n",
    "league_id_list = gm.league_ids(year=2020)\n",
    "league_id = \"\".join(str(id) for id in league_id_list)\n",
    "print(f\"The League Id is: {league_id}\")"
   ],
   "metadata": {
    "collapsed": false,
    "pycharm": {
     "name": "#%%\n"
    }
   }
  },
  {
   "cell_type": "code",
   "execution_count": 4,
   "outputs": [
    {
     "name": "stdout",
     "output_type": "stream",
     "text": [
      "The 9 categories in the league are: ['FG%', 'FT%', '3PTM', 'PTS', 'REB', 'AST', 'ST', 'BLK', 'TO']\n"
     ]
    }
   ],
   "source": [
    "# Categories\n",
    "lg = gm.to_league(league_id)\n",
    "league_categories = lg.stat_categories()\n",
    "\n",
    "# Print league categories\n",
    "print(f'The 9 categories in the league are: '\n",
    "      f'{[category[\"display_name\"] for category in league_categories]}')"
   ],
   "metadata": {
    "collapsed": false,
    "pycharm": {
     "name": "#%%\n"
    }
   }
  },
  {
   "cell_type": "code",
   "execution_count": 5,
   "outputs": [
    {
     "data": {
      "text/plain": "{'402.l.55374.t.7': {'team_key': '402.l.55374.t.7',\n  'team_id': '7',\n  'name': 'Russty Cuntbrooks',\n  'url': 'https://basketball.fantasysports.yahoo.com/nba/55374/7',\n  'team_logos': [{'team_logo': {'size': 'large',\n     'url': 'https://s.yimg.com/cv/apiv2/default/nba/nba_5.png'}}],\n  'waiver_priority': 3,\n  'number_of_moves': '6',\n  'number_of_trades': '1',\n  'roster_adds': {'coverage_type': 'week', 'coverage_value': 6, 'value': '0'},\n  'league_scoring_type': 'headone',\n  'draft_position': 10,\n  'has_draft_grade': 0,\n  'managers': [{'manager': {'manager_id': '7',\n     'nickname': 'Alvaro',\n     'guid': '54RYPWSN35JEDM6ERNII5GJLDI',\n     'email': 'alvaro1410@yahoo.com',\n     'image_url': 'https://s.yimg.com/ag/images/default_user_profile_pic_64sq.jpg'}}]},\n '402.l.55374.t.6': {'team_key': '402.l.55374.t.6',\n  'team_id': '6',\n  'name': \"Nunn of Y'all Betta\",\n  'is_owned_by_current_login': 1,\n  'url': 'https://basketball.fantasysports.yahoo.com/nba/55374/6',\n  'team_logos': [{'team_logo': {'size': 'large',\n     'url': 'https://s.yimg.com/cv/apiv2/default/nba/nba_2_j.png'}}],\n  'waiver_priority': 5,\n  'number_of_moves': '4',\n  'number_of_trades': 0,\n  'roster_adds': {'coverage_type': 'week', 'coverage_value': 6, 'value': '1'},\n  'league_scoring_type': 'headone',\n  'draft_position': 8,\n  'has_draft_grade': 0,\n  'managers': [{'manager': {'manager_id': '6',\n     'nickname': 'Jaume',\n     'guid': 'TY7DUXAMQZTFFMXYA6443UE5RI',\n     'is_current_login': '1',\n     'email': 'jclaved@yahoo.com',\n     'image_url': 'https://s.yimg.com/ag/images/default_user_profile_pic_64sq.jpg'}}]},\n '402.l.55374.t.4': {'team_key': '402.l.55374.t.4',\n  'team_id': '4',\n  'name': \"Magic's Johnson\",\n  'url': 'https://basketball.fantasysports.yahoo.com/nba/55374/4',\n  'team_logos': [{'team_logo': {'size': 'large',\n     'url': 'https://yahoofantasysports-res.cloudinary.com/image/upload/t_s192sq/fantasy-logos/56484176991_e0cd8f.jpg'}}],\n  'waiver_priority': 1,\n  'number_of_moves': '5',\n  'number_of_trades': 0,\n  'roster_adds': {'coverage_type': 'week', 'coverage_value': 6, 'value': '0'},\n  'league_scoring_type': 'headone',\n  'draft_position': 12,\n  'has_draft_grade': 0,\n  'managers': [{'manager': {'manager_id': '4',\n     'nickname': 'Gerard',\n     'guid': 'X3MGDBQZ57FA5FPM7GQ5CBV7PE',\n     'email': 'gerardpinoesteve1996@gmail.com',\n     'image_url': 'https://s.yimg.com/ag/images/default_user_profile_pic_64sq.jpg'}}]},\n '402.l.55374.t.12': {'team_key': '402.l.55374.t.12',\n  'team_id': '12',\n  'name': 'El Ladrón de Cabras',\n  'url': 'https://basketball.fantasysports.yahoo.com/nba/55374/12',\n  'team_logos': [{'team_logo': {'size': 'large',\n     'url': 'https://yahoofantasysports-res.cloudinary.com/image/upload/t_s192sq/fantasy-logos/007f22590f40253091e62423f37483223bbc95b2f92b061318f86a455de84ef0.jpg'}}],\n  'waiver_priority': 12,\n  'number_of_moves': '2',\n  'number_of_trades': 0,\n  'roster_adds': {'coverage_type': 'week', 'coverage_value': 6, 'value': '0'},\n  'league_scoring_type': 'headone',\n  'draft_position': 3,\n  'has_draft_grade': 0,\n  'managers': [{'manager': {'manager_id': '12',\n     'nickname': 'Blake',\n     'guid': 'P6ND4NTO4LWPTQEYUA5SYLPW3U',\n     'email': 'blakewhitelacourse@yahoo.ca',\n     'image_url': 'https://s.yimg.com/ag/images/default_user_profile_pic_64sq.jpg'}}]},\n '402.l.55374.t.3': {'team_key': '402.l.55374.t.3',\n  'team_id': '3',\n  'name': 'CrabbeHerByThePussy',\n  'url': 'https://basketball.fantasysports.yahoo.com/nba/55374/3',\n  'team_logos': [{'team_logo': {'size': 'large',\n     'url': 'https://s.yimg.com/cv/apiv2/default/nba/nba_1_m.png'}}],\n  'waiver_priority': 8,\n  'number_of_moves': '4',\n  'number_of_trades': 0,\n  'roster_adds': {'coverage_type': 'week', 'coverage_value': 6, 'value': '0'},\n  'league_scoring_type': 'headone',\n  'draft_position': 5,\n  'has_draft_grade': 0,\n  'managers': [{'manager': {'manager_id': '3',\n     'nickname': 'Marcos',\n     'guid': 'MQNQZBBOR5XNH4WSVWGNPV4CCU',\n     'email': 'marcostapiachile@gmail.com',\n     'image_url': 'https://s.yimg.com/ag/images/default_user_profile_pic_64sq.jpg'}}]},\n '402.l.55374.t.2': {'team_key': '402.l.55374.t.2',\n  'team_id': '2',\n  'name': 'Autopick',\n  'url': 'https://basketball.fantasysports.yahoo.com/nba/55374/2',\n  'team_logos': [{'team_logo': {'size': 'large',\n     'url': 'https://s.yimg.com/cv/apiv2/default/nba/nba_1_i.png'}}],\n  'waiver_priority': 6,\n  'number_of_moves': '2',\n  'number_of_trades': 0,\n  'roster_adds': {'coverage_type': 'week', 'coverage_value': 6, 'value': '0'},\n  'league_scoring_type': 'headone',\n  'draft_position': 7,\n  'has_draft_grade': 0,\n  'managers': [{'manager': {'manager_id': '2',\n     'nickname': 'Isidro',\n     'guid': 'FQNPHLITUU5DO3KU3VAI4N6R5A',\n     'email': 'isidrosanabre@gmail.com',\n     'image_url': 'https://s.yimg.com/ag/images/default_user_profile_pic_64sq.jpg'}}]},\n '402.l.55374.t.5': {'team_key': '402.l.55374.t.5',\n  'team_id': '5',\n  'name': 'McCurry',\n  'url': 'https://basketball.fantasysports.yahoo.com/nba/55374/5',\n  'team_logos': [{'team_logo': {'size': 'large',\n     'url': 'https://yahoofantasysports-res.cloudinary.com/image/upload/t_s192sq/fantasy-logos/56477494345_4e17d7.jpg'}}],\n  'waiver_priority': 11,\n  'number_of_moves': '6',\n  'number_of_trades': 0,\n  'roster_adds': {'coverage_type': 'week', 'coverage_value': 6, 'value': '1'},\n  'league_scoring_type': 'headone',\n  'draft_position': 1,\n  'has_draft_grade': 0,\n  'managers': [{'manager': {'manager_id': '5',\n     'nickname': 'Alex',\n     'guid': 'WOMWJNENRZ3ZLUQARZP25MPMED',\n     'image_url': 'https://s.yimg.com/ag/images/default_user_profile_pic_64sq.jpg'}}]},\n '402.l.55374.t.8': {'team_key': '402.l.55374.t.8',\n  'team_id': '8',\n  'name': 'Wakanda Forever',\n  'url': 'https://basketball.fantasysports.yahoo.com/nba/55374/8',\n  'team_logos': [{'team_logo': {'size': 'large',\n     'url': 'https://s.yimg.com/cv/apiv2/default/nba/nba_10.png'}}],\n  'waiver_priority': 10,\n  'number_of_moves': 0,\n  'number_of_trades': 0,\n  'roster_adds': {'coverage_type': 'week', 'coverage_value': 6, 'value': '0'},\n  'league_scoring_type': 'headone',\n  'draft_position': 2,\n  'has_draft_grade': 0,\n  'managers': [{'manager': {'manager_id': '8',\n     'nickname': 'Pau',\n     'guid': 'UFCT6II6LBTV2MHOV6QN4XMSTE',\n     'email': 'ppalaug@gmail.com',\n     'image_url': 'https://s.yimg.com/ag/images/default_user_profile_pic_64sq.jpg'}}]},\n '402.l.55374.t.10': {'team_key': '402.l.55374.t.10',\n  'team_id': '10',\n  'name': 'yOBItch Toppin Me',\n  'url': 'https://basketball.fantasysports.yahoo.com/nba/55374/10',\n  'team_logos': [{'team_logo': {'size': 'large',\n     'url': 'https://yahoofantasysports-res.cloudinary.com/image/upload/t_s192sq/fantasy-logos/31bccad1c9419c626304d3e265078f5cea831982e9415adf11f8345b6a963fe9.jpg'}}],\n  'waiver_priority': 4,\n  'number_of_moves': '1',\n  'number_of_trades': '1',\n  'roster_adds': {'coverage_type': 'week', 'coverage_value': 6, 'value': '0'},\n  'league_scoring_type': 'headone',\n  'draft_position': 9,\n  'has_draft_grade': 0,\n  'managers': [{'manager': {'manager_id': '10',\n     'nickname': 'Marc',\n     'guid': 'V6FDOKUD4OCDFXYCCRYYJ33TWI',\n     'email': 'marc.e.pamias@gmail.com',\n     'image_url': 'https://s.yimg.com/ag/images/default_user_profile_pic_64sq.jpg'}}]},\n '402.l.55374.t.9': {'team_key': '402.l.55374.t.9',\n  'team_id': '9',\n  'name': 'Swaggy P',\n  'url': 'https://basketball.fantasysports.yahoo.com/nba/55374/9',\n  'team_logos': [{'team_logo': {'size': 'large',\n     'url': 'https://s.yimg.com/cv/apiv2/default/nba/nba_1_s.png'}}],\n  'waiver_priority': 7,\n  'number_of_moves': '3',\n  'number_of_trades': 0,\n  'roster_adds': {'coverage_type': 'week', 'coverage_value': 6, 'value': '0'},\n  'league_scoring_type': 'headone',\n  'draft_position': 6,\n  'has_draft_grade': 0,\n  'managers': [{'manager': {'manager_id': '9',\n     'nickname': 'Guillem',\n     'guid': 'X4B2IQH5KWAQLGO3V43TYHDLYI',\n     'email': 'gvidaldelso@gmail.com',\n     'image_url': 'https://s.yimg.com/ag/images/default_user_profile_pic_64sq.jpg'}}]},\n '402.l.55374.t.1': {'team_key': '402.l.55374.t.1',\n  'team_id': '1',\n  'name': 'LaLaLand',\n  'url': 'https://basketball.fantasysports.yahoo.com/nba/55374/1',\n  'team_logos': [{'team_logo': {'size': 'large',\n     'url': 'https://s.yimg.com/cv/apiv2/default/nba/nba_2_l.png'}}],\n  'waiver_priority': 2,\n  'number_of_moves': '8',\n  'number_of_trades': 0,\n  'roster_adds': {'coverage_type': 'week', 'coverage_value': 6, 'value': '0'},\n  'league_scoring_type': 'headone',\n  'draft_position': 11,\n  'has_draft_grade': 0,\n  'managers': [{'manager': {'manager_id': '1',\n     'nickname': 'Alex',\n     'guid': 'W5UDMKGQCBWLMKC3FDEHANJXPU',\n     'is_commissioner': '1',\n     'email': 'alexpascual96@gmail.com',\n     'image_url': 'https://s.yimg.com/ag/images/default_user_profile_pic_64sq.jpg'}}]},\n '402.l.55374.t.11': {'team_key': '402.l.55374.t.11',\n  'team_id': '11',\n  'name': \"Tvon's Tip-Top Team\",\n  'url': 'https://basketball.fantasysports.yahoo.com/nba/55374/11',\n  'team_logos': [{'team_logo': {'size': 'large',\n     'url': 'https://s.yimg.com/cv/apiv2/default/nba/nba_6_t.png'}}],\n  'waiver_priority': 9,\n  'number_of_moves': 0,\n  'number_of_trades': 0,\n  'roster_adds': {'coverage_type': 'week', 'coverage_value': 6, 'value': '0'},\n  'league_scoring_type': 'headone',\n  'draft_position': 4,\n  'has_draft_grade': 0,\n  'managers': [{'manager': {'manager_id': '11',\n     'nickname': 'Tvon',\n     'guid': 'ISVU3LU5RHVU2PYGHQUYD2QYOI',\n     'email': 'tvon50@yahoo.com',\n     'image_url': 'https://s.yimg.com/ag/images/default_user_profile_pic_64sq.jpg'}}]}}"
     },
     "execution_count": 5,
     "metadata": {},
     "output_type": "execute_result"
    }
   ],
   "source": [
    "# League teams\n",
    "tms = lg.teams()\n",
    "tms"
   ],
   "metadata": {
    "collapsed": false,
    "pycharm": {
     "name": "#%%\n"
    }
   }
  },
  {
   "cell_type": "code",
   "execution_count": 7,
   "outputs": [
    {
     "data": {
      "text/plain": "<yahoo_fantasy_api.team.Team at 0x251c2ef2490>"
     },
     "execution_count": 7,
     "metadata": {},
     "output_type": "execute_result"
    }
   ],
   "source": [
    "# Single team roster\n",
    "tm = lg.to_team('402.l.55374.t.6')\n",
    "tm.roster()\n"
   ],
   "metadata": {
    "collapsed": false,
    "pycharm": {
     "name": "#%%\n"
    }
   }
  },
  {
   "cell_type": "markdown",
   "source": [
    "## Team Rosters\n",
    "This section will build the logic needed to create a dataframe with a teams 15 players and their\n",
    "respective 9cat scores. The mean 9cat scores will be calculated and appended as a row in the\n",
    "dataframe."
   ],
   "metadata": {
    "collapsed": false,
    "pycharm": {
     "name": "#%% md\n"
    }
   }
  },
  {
   "cell_type": "code",
   "execution_count": 11,
   "outputs": [
    {
     "name": "stdout",
     "output_type": "stream",
     "text": [
      "[{'player_id': 6016, 'name': 'Trae Young', 'status': '', 'position_type': 'P', 'eligible_positions': ['PG', 'G', 'Util'], 'selected_position': 'PG'}, {'player_id': 6019, 'name': 'Collin Sexton', 'status': '', 'position_type': 'P', 'eligible_positions': ['PG', 'SG', 'G', 'Util'], 'selected_position': 'SG'}, {'player_id': 6167, 'name': 'Darius Garland', 'status': '', 'position_type': 'P', 'eligible_positions': ['PG', 'G', 'Util'], 'selected_position': 'G'}, {'player_id': 5475, 'name': 'Kelly Oubre Jr.', 'status': '', 'position_type': 'P', 'eligible_positions': ['SF', 'PF', 'F', 'Util'], 'selected_position': 'SF'}, {'player_id': 6166, 'name': \"De'Andre Hunter\", 'status': '', 'position_type': 'P', 'eligible_positions': ['SF', 'PF', 'F', 'Util'], 'selected_position': 'PF'}, {'player_id': 5894, 'name': 'Chris Boucher', 'status': '', 'position_type': 'P', 'eligible_positions': ['PF', 'F', 'C', 'Util'], 'selected_position': 'F'}, {'player_id': 5294, 'name': 'Joel Embiid', 'status': '', 'position_type': 'P', 'eligible_positions': ['PF', 'F', 'C', 'Util'], 'selected_position': 'C'}, {'player_id': 5197, 'name': 'Rudy Gobert', 'status': '', 'position_type': 'P', 'eligible_positions': ['C', 'Util'], 'selected_position': 'C'}, {'player_id': 4724, 'name': 'Gordon Hayward', 'status': '', 'position_type': 'P', 'eligible_positions': ['SG', 'G', 'SF', 'F', 'Util'], 'selected_position': 'Util'}, {'player_id': 5836, 'name': 'OG Anunoby', 'status': 'GTD', 'position_type': 'P', 'eligible_positions': ['SF', 'PF', 'F', 'Util'], 'selected_position': 'Util'}, {'player_id': 5164, 'name': 'Kelly Olynyk', 'status': '', 'position_type': 'P', 'eligible_positions': ['PF', 'F', 'C', 'Util'], 'selected_position': 'BN'}, {'player_id': 6209, 'name': 'Brandon Clarke', 'status': '', 'position_type': 'P', 'eligible_positions': ['SF', 'PF', 'F', 'Util'], 'selected_position': 'BN'}, {'player_id': 4469, 'name': 'Eric Gordon', 'status': '', 'position_type': 'P', 'eligible_positions': ['SG', 'G', 'SF', 'F', 'Util'], 'selected_position': 'BN'}, {'player_id': 6407, 'name': 'Cole Anthony', 'status': '', 'position_type': 'P', 'eligible_positions': ['PG', 'G', 'Util'], 'selected_position': 'BN'}, {'player_id': 6015, 'name': 'Jaren Jackson Jr.', 'status': 'INJ', 'position_type': 'P', 'eligible_positions': ['PF', 'F', 'C', 'Util'], 'selected_position': 'BN'}]\n",
      "[{'player_id': 4660, 'name': 'Patty Mills', 'status': '', 'position_type': 'P', 'eligible_positions': ['PG', 'G', 'Util'], 'selected_position': 'PG'}, {'player_id': 5317, 'name': 'Marcus Smart', 'status': '', 'position_type': 'P', 'eligible_positions': ['PG', 'SG', 'G', 'Util'], 'selected_position': 'SG'}, {'player_id': 5667, 'name': 'Malcolm Brogdon', 'status': '', 'position_type': 'P', 'eligible_positions': ['PG', 'SG', 'G', 'Util'], 'selected_position': 'G'}, {'player_id': 5018, 'name': 'Jeremy Lamb', 'status': '', 'position_type': 'P', 'eligible_positions': ['SG', 'G', 'SF', 'F', 'Util'], 'selected_position': 'SF'}, {'player_id': 5073, 'name': 'Khris Middleton', 'status': '', 'position_type': 'P', 'eligible_positions': ['SF', 'PF', 'F', 'Util'], 'selected_position': 'PF'}, {'player_id': 6073, 'name': 'Duncan Robinson', 'status': '', 'position_type': 'P', 'eligible_positions': ['SG', 'G', 'SF', 'F', 'Util'], 'selected_position': 'F'}, {'player_id': 5658, 'name': 'Pascal Siakam', 'status': 'GTD', 'position_type': 'P', 'eligible_positions': ['PF', 'F', 'C', 'Util'], 'selected_position': 'C'}, {'player_id': 5352, 'name': 'Nikola Jokic', 'status': '', 'position_type': 'P', 'eligible_positions': ['PF', 'F', 'C', 'Util'], 'selected_position': 'C'}, {'player_id': 4749, 'name': 'Eric Bledsoe', 'status': '', 'position_type': 'P', 'eligible_positions': ['PG', 'SG', 'G', 'Util'], 'selected_position': 'Util'}, {'player_id': 6173, 'name': 'Cameron Johnson', 'status': '', 'position_type': 'P', 'eligible_positions': ['SF', 'PF', 'F', 'Util'], 'selected_position': 'Util'}, {'player_id': 4926, 'name': 'Davis Bertans', 'status': 'INJ', 'position_type': 'P', 'eligible_positions': ['PF', 'F', 'C', 'Util'], 'selected_position': 'BN'}, {'player_id': 4899, 'name': 'Enes Kanter', 'status': '', 'position_type': 'P', 'eligible_positions': ['C', 'Util'], 'selected_position': 'BN'}, {'player_id': 4912, 'name': 'Jimmy Butler', 'status': 'INJ', 'position_type': 'P', 'eligible_positions': ['SF', 'PF', 'F', 'Util'], 'selected_position': 'BN'}, {'player_id': 5074, 'name': 'Will Barton', 'status': '', 'position_type': 'P', 'eligible_positions': ['SG', 'G', 'SF', 'F', 'Util'], 'selected_position': 'BN'}, {'player_id': 4633, 'name': 'Wayne Ellington', 'status': '', 'position_type': 'P', 'eligible_positions': ['SG', 'G', 'SF', 'F', 'Util'], 'selected_position': 'BN'}]\n",
      "[{'player_id': 5727, 'name': 'Fred VanVleet', 'status': '', 'position_type': 'P', 'eligible_positions': ['PG', 'SG', 'G', 'Util'], 'selected_position': 'PG'}, {'player_id': 6404, 'name': 'Tyrese Haliburton', 'status': '', 'position_type': 'P', 'eligible_positions': ['PG', 'SG', 'G', 'Util'], 'selected_position': 'SG'}, {'player_id': 3704, 'name': 'LeBron James', 'status': 'GTD', 'position_type': 'P', 'eligible_positions': ['PG', 'SG', 'G', 'SF', 'F', 'Util'], 'selected_position': 'G'}, {'player_id': 6174, 'name': 'PJ Washington', 'status': '', 'position_type': 'P', 'eligible_positions': ['SF', 'PF', 'F', 'Util'], 'selected_position': 'SF'}, {'player_id': 4913, 'name': 'Bojan Bogdanovic', 'status': '', 'position_type': 'P', 'eligible_positions': ['SF', 'PF', 'F', 'Util'], 'selected_position': 'PF'}, {'player_id': 6021, 'name': 'Mikal Bridges', 'status': '', 'position_type': 'P', 'eligible_positions': ['SG', 'G', 'SF', 'F', 'Util'], 'selected_position': 'F'}, {'player_id': 4897, 'name': 'Nikola Vucevic', 'status': '', 'position_type': 'P', 'eligible_positions': ['C', 'Util'], 'selected_position': 'C'}, {'player_id': 5155, 'name': 'Cody Zeller', 'status': '', 'position_type': 'P', 'eligible_positions': ['C', 'Util'], 'selected_position': 'C'}, {'player_id': 6254, 'name': 'Luguentz Dort', 'status': '', 'position_type': 'P', 'eligible_positions': ['SG', 'G', 'SF', 'F', 'Util'], 'selected_position': 'Util'}, {'player_id': 5650, 'name': 'Malik Beasley', 'status': '', 'position_type': 'P', 'eligible_positions': ['PG', 'SG', 'G', 'Util'], 'selected_position': 'Util'}, {'player_id': 6030, 'name': 'Kevin Huerter', 'status': '', 'position_type': 'P', 'eligible_positions': ['SG', 'G', 'SF', 'F', 'Util'], 'selected_position': 'BN'}, {'player_id': 4893, 'name': 'Alec Burks', 'status': '', 'position_type': 'P', 'eligible_positions': ['SG', 'G', 'SF', 'F', 'Util'], 'selected_position': 'BN'}, {'player_id': 4896, 'name': 'Kawhi Leonard', 'status': 'INJ', 'position_type': 'P', 'eligible_positions': ['SG', 'G', 'SF', 'F', 'Util'], 'selected_position': 'BN'}, {'player_id': 5318, 'name': 'Julius Randle', 'status': '', 'position_type': 'P', 'eligible_positions': ['PF', 'F', 'C', 'Util'], 'selected_position': 'BN'}, {'player_id': 5764, 'name': 'Lonzo Ball', 'status': '', 'position_type': 'P', 'eligible_positions': ['PG', 'SG', 'G', 'Util'], 'selected_position': 'BN'}]\n",
      "[{'player_id': 4840, 'name': 'Kyrie Irving', 'status': '', 'position_type': 'P', 'eligible_positions': ['PG', 'G', 'Util'], 'selected_position': 'PG'}, {'player_id': 6169, 'name': 'Coby White', 'status': '', 'position_type': 'P', 'eligible_positions': ['PG', 'SG', 'G', 'Util'], 'selected_position': 'SG'}, {'player_id': 5357, 'name': 'Jordan Clarkson', 'status': '', 'position_type': 'P', 'eligible_positions': ['PG', 'SG', 'G', 'Util'], 'selected_position': 'G'}, {'player_id': 5194, 'name': 'Tim Hardaway Jr.', 'status': '', 'position_type': 'P', 'eligible_positions': ['SG', 'G', 'SF', 'F', 'Util'], 'selected_position': 'SF'}, {'player_id': 5192, 'name': 'Mason Plumlee', 'status': '', 'position_type': 'P', 'eligible_positions': ['PF', 'F', 'C', 'Util'], 'selected_position': 'PF'}, {'player_id': 5007, 'name': 'Anthony Davis', 'status': 'GTD', 'position_type': 'P', 'eligible_positions': ['PF', 'F', 'C', 'Util'], 'selected_position': 'F'}, {'player_id': 4497, 'name': 'DeAndre Jordan', 'status': '', 'position_type': 'P', 'eligible_positions': ['C', 'Util'], 'selected_position': 'C'}, {'player_id': 5163, 'name': 'Steven Adams', 'status': '', 'position_type': 'P', 'eligible_positions': ['C', 'Util'], 'selected_position': 'C'}, {'player_id': 5013, 'name': 'Harrison Barnes', 'status': '', 'position_type': 'P', 'eligible_positions': ['SF', 'PF', 'F', 'Util'], 'selected_position': 'Util'}, {'player_id': 4764, 'name': 'Hassan Whiteside', 'status': 'INJ', 'position_type': 'P', 'eligible_positions': ['PF', 'F', 'C', 'Util'], 'selected_position': 'Util'}, {'player_id': 5016, 'name': 'Austin Rivers', 'status': '', 'position_type': 'P', 'eligible_positions': ['PG', 'SG', 'G', 'Util'], 'selected_position': 'BN'}, {'player_id': 3971, 'name': 'Lou Williams', 'status': '', 'position_type': 'P', 'eligible_positions': ['PG', 'SG', 'G', 'Util'], 'selected_position': 'BN'}, {'player_id': 4725, 'name': 'Paul George', 'status': 'INJ', 'position_type': 'P', 'eligible_positions': ['SF', 'PF', 'F', 'Util'], 'selected_position': 'BN'}, {'player_id': 4622, 'name': 'Jrue Holiday', 'status': '', 'position_type': 'P', 'eligible_positions': ['PG', 'SG', 'G', 'Util'], 'selected_position': 'BN'}, {'player_id': 4472, 'name': 'Brook Lopez', 'status': '', 'position_type': 'P', 'eligible_positions': ['C', 'Util'], 'selected_position': 'BN'}]\n",
      "[{'player_id': 6045, 'name': \"Devonte' Graham\", 'status': '', 'position_type': 'P', 'eligible_positions': ['PG', 'SG', 'G', 'Util'], 'selected_position': 'PG'}, {'player_id': 5506, 'name': 'Norman Powell', 'status': '', 'position_type': 'P', 'eligible_positions': ['SG', 'G', 'SF', 'F', 'Util'], 'selected_position': 'SG'}, {'player_id': 3930, 'name': 'Chris Paul', 'status': '', 'position_type': 'P', 'eligible_positions': ['PG', 'G', 'Util'], 'selected_position': 'G'}, {'player_id': 6211, 'name': 'Darius Bazley', 'status': '', 'position_type': 'P', 'eligible_positions': ['SF', 'PF', 'F', 'Util'], 'selected_position': 'SF'}, {'player_id': 4901, 'name': 'Tobias Harris', 'status': '', 'position_type': 'P', 'eligible_positions': ['SF', 'PF', 'F', 'Util'], 'selected_position': 'PF'}, {'player_id': 5471, 'name': 'Myles Turner', 'status': '', 'position_type': 'P', 'eligible_positions': ['PF', 'F', 'C', 'Util'], 'selected_position': 'F'}, {'player_id': 5497, 'name': 'Richaun Holmes', 'status': '', 'position_type': 'P', 'eligible_positions': ['PF', 'F', 'C', 'Util'], 'selected_position': 'C'}, {'player_id': 5832, 'name': 'John Collins', 'status': '', 'position_type': 'P', 'eligible_positions': ['PF', 'F', 'C', 'Util'], 'selected_position': 'C'}, {'player_id': 5487, 'name': 'Larry Nance Jr.', 'status': 'GTD', 'position_type': 'P', 'eligible_positions': ['PF', 'F', 'C', 'Util'], 'selected_position': 'Util'}, {'player_id': 5827, 'name': 'Bam Adebayo', 'status': '', 'position_type': 'P', 'eligible_positions': ['PF', 'F', 'C', 'Util'], 'selected_position': 'Util'}, {'player_id': 4468, 'name': 'Danilo Gallinari', 'status': 'GTD', 'position_type': 'P', 'eligible_positions': ['SF', 'PF', 'F', 'Util'], 'selected_position': 'BN'}, {'player_id': 5154, 'name': 'Otto Porter Jr.', 'status': '', 'position_type': 'P', 'eligible_positions': ['SF', 'PF', 'F', 'Util'], 'selected_position': 'BN'}, {'player_id': 6401, 'name': 'Deni Avdija', 'status': 'INJ', 'position_type': 'P', 'eligible_positions': ['SG', 'G', 'SF', 'F', 'Util'], 'selected_position': 'BN'}, {'player_id': 4487, 'name': 'Nicolas Batum', 'status': '', 'position_type': 'P', 'eligible_positions': ['SF', 'PF', 'F', 'Util'], 'selected_position': 'BN'}, {'player_id': 5432, 'name': 'Karl-Anthony Towns', 'status': 'INJ', 'position_type': 'P', 'eligible_positions': ['C', 'Util'], 'selected_position': 'BN'}]\n",
      "[{'player_id': 6065, 'name': 'Shake Milton', 'status': '', 'position_type': 'P', 'eligible_positions': ['PG', 'SG', 'G', 'Util'], 'selected_position': 'PG'}, {'player_id': 6395, 'name': 'LaMelo Ball', 'status': '', 'position_type': 'P', 'eligible_positions': ['PG', 'SG', 'G', 'Util'], 'selected_position': 'SG'}, {'player_id': 6164, 'name': 'Ja Morant', 'status': '', 'position_type': 'P', 'eligible_positions': ['PG', 'G', 'Util'], 'selected_position': 'G'}, {'player_id': 5602, 'name': 'Jaylen Brown', 'status': '', 'position_type': 'P', 'eligible_positions': ['SG', 'G', 'SF', 'F', 'Util'], 'selected_position': 'SF'}, {'player_id': 4175, 'name': 'Paul Millsap', 'status': '', 'position_type': 'P', 'eligible_positions': ['PF', 'F', 'C', 'Util'], 'selected_position': 'PF'}, {'player_id': 6022, 'name': 'Shai Gilgeous-Alexander', 'status': '', 'position_type': 'P', 'eligible_positions': ['SG', 'G', 'SF', 'F', 'Util'], 'selected_position': 'F'}, {'player_id': 5336, 'name': 'Clint Capela', 'status': 'GTD', 'position_type': 'P', 'eligible_positions': ['C', 'Util'], 'selected_position': 'C'}, {'player_id': 5769, 'name': 'Lauri Markkanen', 'status': '', 'position_type': 'P', 'eligible_positions': ['PF', 'F', 'C', 'Util'], 'selected_position': 'C'}, {'player_id': 5245, 'name': 'Seth Curry', 'status': '', 'position_type': 'P', 'eligible_positions': ['PG', 'SG', 'G', 'Util'], 'selected_position': 'Util'}, {'player_id': 5482, 'name': 'Bobby Portis', 'status': '', 'position_type': 'P', 'eligible_positions': ['PF', 'F', 'C', 'Util'], 'selected_position': 'Util'}, {'player_id': 5012, 'name': 'Damian Lillard', 'status': '', 'position_type': 'P', 'eligible_positions': ['PG', 'G', 'Util'], 'selected_position': 'BN'}, {'player_id': 4486, 'name': 'Serge Ibaka', 'status': '', 'position_type': 'P', 'eligible_positions': ['PF', 'F', 'C', 'Util'], 'selected_position': 'BN'}, {'player_id': 6175, 'name': 'Tyler Herro', 'status': 'INJ', 'position_type': 'P', 'eligible_positions': ['PG', 'SG', 'G', 'SF', 'F', 'Util'], 'selected_position': 'BN'}, {'player_id': 5843, 'name': 'Josh Hart', 'status': '', 'position_type': 'P', 'eligible_positions': ['SG', 'G', 'SF', 'F', 'Util'], 'selected_position': 'BN'}, {'player_id': 5500, 'name': 'Josh Richardson', 'status': 'INJ', 'position_type': 'P', 'eligible_positions': ['SG', 'G', 'SF', 'F', 'Util'], 'selected_position': 'BN'}]\n",
      "[{'player_id': 5600, 'name': 'Ben Simmons', 'status': '', 'position_type': 'P', 'eligible_positions': ['PG', 'G', 'Util'], 'selected_position': 'PG'}, {'player_id': 5142, 'name': 'Justin Holiday', 'status': '', 'position_type': 'P', 'eligible_positions': ['SG', 'G', 'SF', 'F', 'Util'], 'selected_position': 'SG'}, {'player_id': 5480, 'name': 'Delon Wright', 'status': '', 'position_type': 'P', 'eligible_positions': ['SG', 'G', 'SF', 'F', 'Util'], 'selected_position': 'G'}, {'player_id': 6217, 'name': 'Keldon Johnson', 'status': '', 'position_type': 'P', 'eligible_positions': ['SF', 'F', 'Util'], 'selected_position': 'SF'}, {'player_id': 5350, 'name': 'Jerami Grant', 'status': '', 'position_type': 'P', 'eligible_positions': ['SF', 'PF', 'F', 'Util'], 'selected_position': 'PF'}, {'player_id': 4614, 'name': 'DeMar DeRozan', 'status': '', 'position_type': 'P', 'eligible_positions': ['SG', 'G', 'SF', 'F', 'Util'], 'selected_position': 'F'}, {'player_id': 6038, 'name': 'Robert Williams', 'status': '', 'position_type': 'P', 'eligible_positions': ['C', 'Util'], 'selected_position': 'C'}, {'player_id': 5185, 'name': 'Giannis Antetokounmpo', 'status': '', 'position_type': 'P', 'eligible_positions': ['PF', 'F', 'C', 'Util'], 'selected_position': 'C'}, {'player_id': 5015, 'name': 'Andre Drummond', 'status': '', 'position_type': 'P', 'eligible_positions': ['C', 'Util'], 'selected_position': 'Util'}, {'player_id': 6056, 'name': 'Hamidou Diallo', 'status': '', 'position_type': 'P', 'eligible_positions': ['SG', 'G', 'SF', 'F', 'Util'], 'selected_position': 'Util'}, {'player_id': 4610, 'name': 'Ricky Rubio', 'status': '', 'position_type': 'P', 'eligible_positions': ['PG', 'G', 'Util'], 'selected_position': 'BN'}, {'player_id': 6171, 'name': 'Rui Hachimura', 'status': 'INJ', 'position_type': 'P', 'eligible_positions': ['SF', 'PF', 'F', 'Util'], 'selected_position': 'BN'}, {'player_id': 4720, 'name': 'DeMarcus Cousins', 'status': '', 'position_type': 'P', 'eligible_positions': ['PF', 'F', 'C', 'Util'], 'selected_position': 'BN'}, {'player_id': 6047, 'name': 'Mitchell Robinson', 'status': '', 'position_type': 'P', 'eligible_positions': ['C', 'Util'], 'selected_position': 'BN'}, {'player_id': 5651, 'name': 'Caris LeVert', 'status': 'INJ', 'position_type': 'P', 'eligible_positions': ['SG', 'G', 'SF', 'F', 'Util'], 'selected_position': 'BN'}]\n",
      "[{'player_id': 4890, 'name': 'Kemba Walker', 'status': '', 'position_type': 'P', 'eligible_positions': ['PG', 'G', 'Util'], 'selected_position': 'PG'}, {'player_id': 5638, 'name': 'Jamal Murray', 'status': '', 'position_type': 'P', 'eligible_positions': ['PG', 'SG', 'G', 'Util'], 'selected_position': 'SG'}, {'player_id': 6014, 'name': 'Luka Doncic', 'status': '', 'position_type': 'P', 'eligible_positions': ['PG', 'SG', 'G', 'Util'], 'selected_position': 'G'}, {'player_id': 5344, 'name': 'Joe Harris', 'status': '', 'position_type': 'P', 'eligible_positions': ['SG', 'G', 'SF', 'F', 'Util'], 'selected_position': 'SF'}, {'player_id': 5639, 'name': 'Marquese Chriss', 'status': 'INJ', 'position_type': 'P', 'eligible_positions': ['PF', 'F', 'C', 'Util'], 'selected_position': 'PF'}, {'player_id': 6163, 'name': 'Zion Williamson', 'status': '', 'position_type': 'P', 'eligible_positions': ['PF', 'F', 'Util'], 'selected_position': 'F'}, {'player_id': 5835, 'name': 'Jarrett Allen', 'status': '', 'position_type': 'P', 'eligible_positions': ['C', 'Util'], 'selected_position': 'C'}, {'player_id': 4561, 'name': 'Blake Griffin', 'status': 'O', 'position_type': 'P', 'eligible_positions': ['PF', 'F', 'C', 'Util'], 'selected_position': 'C'}, {'player_id': 4130, 'name': 'LaMarcus Aldridge', 'status': '', 'position_type': 'P', 'eligible_positions': ['PF', 'F', 'C', 'Util'], 'selected_position': 'Util'}, {'player_id': 5161, 'name': 'CJ McCollum', 'status': 'INJ', 'position_type': 'P', 'eligible_positions': ['PG', 'SG', 'G', 'Util'], 'selected_position': 'Util'}, {'player_id': 6400, 'name': 'Obi Toppin', 'status': '', 'position_type': 'P', 'eligible_positions': ['SF', 'PF', 'F', 'Util'], 'selected_position': 'BN'}, {'player_id': 4647, 'name': 'Patrick Beverley', 'status': 'GTD', 'position_type': 'P', 'eligible_positions': ['PG', 'SG', 'G', 'Util'], 'selected_position': 'BN'}, {'player_id': 5153, 'name': 'Victor Oladipo', 'status': '', 'position_type': 'P', 'eligible_positions': ['SG', 'G', 'SF', 'F', 'Util'], 'selected_position': 'BN'}, {'player_id': 6218, 'name': 'Kevin Porter Jr.', 'status': 'INJ', 'position_type': 'P', 'eligible_positions': ['SG', 'G', 'SF', 'F', 'Util'], 'selected_position': 'BN'}, {'player_id': 5253, 'name': 'Robert Covington', 'status': 'GTD', 'position_type': 'P', 'eligible_positions': ['PF', 'F', 'C', 'Util'], 'selected_position': 'BN'}]\n",
      "[{'player_id': 5767, 'name': \"De'Aaron Fox\", 'status': '', 'position_type': 'P', 'eligible_positions': ['PG', 'G', 'Util'], 'selected_position': 'PG'}, {'player_id': 5433, 'name': \"D'Angelo Russell\", 'status': 'GTD', 'position_type': 'P', 'eligible_positions': ['PG', 'SG', 'G', 'Util'], 'selected_position': 'SG'}, {'player_id': 5014, 'name': 'Terrence Ross', 'status': '', 'position_type': 'P', 'eligible_positions': ['SG', 'G', 'SF', 'F', 'Util'], 'selected_position': 'G'}, {'player_id': 5765, 'name': 'Jayson Tatum', 'status': '', 'position_type': 'P', 'eligible_positions': ['SF', 'PF', 'F', 'Util'], 'selected_position': 'SF'}, {'player_id': 5295, 'name': 'Aaron Gordon', 'status': '', 'position_type': 'P', 'eligible_positions': ['SF', 'PF', 'F', 'Util'], 'selected_position': 'PF'}, {'player_id': 6025, 'name': 'Michael Porter Jr.', 'status': '', 'position_type': 'P', 'eligible_positions': ['SF', 'PF', 'F', 'Util'], 'selected_position': 'F'}, {'player_id': 5492, 'name': 'Montrezl Harrell', 'status': '', 'position_type': 'P', 'eligible_positions': ['PF', 'F', 'C', 'Util'], 'selected_position': 'C'}, {'player_id': 5663, 'name': 'Ivica Zubac', 'status': '', 'position_type': 'P', 'eligible_positions': ['C', 'Util'], 'selected_position': 'C'}, {'player_id': 5660, 'name': 'Dejounte Murray', 'status': '', 'position_type': 'P', 'eligible_positions': ['PG', 'SG', 'G', 'Util'], 'selected_position': 'Util'}, {'player_id': 5476, 'name': 'Terry Rozier', 'status': '', 'position_type': 'P', 'eligible_positions': ['PG', 'G', 'Util'], 'selected_position': 'Util'}, {'player_id': 5825, 'name': 'Luke Kennard', 'status': '', 'position_type': 'P', 'eligible_positions': ['SG', 'G', 'SF', 'F', 'Util'], 'selected_position': 'BN'}, {'player_id': 4163, 'name': 'P.J. Tucker', 'status': '', 'position_type': 'P', 'eligible_positions': ['PF', 'F', 'C', 'Util'], 'selected_position': 'BN'}, {'player_id': 5473, 'name': 'Devin Booker', 'status': 'O', 'position_type': 'P', 'eligible_positions': ['SG', 'G', 'SF', 'F', 'Util'], 'selected_position': 'BN'}, {'player_id': 5187, 'name': 'Dennis Schroder', 'status': '', 'position_type': 'P', 'eligible_positions': ['PG', 'G', 'Util'], 'selected_position': 'BN'}, {'player_id': 4507, 'name': 'Goran Dragic', 'status': 'GTD', 'position_type': 'P', 'eligible_positions': ['PG', 'SG', 'G', 'Util'], 'selected_position': 'BN'}]\n",
      "[{'player_id': 4246, 'name': 'Mike Conley', 'status': '', 'position_type': 'P', 'eligible_positions': ['PG', 'G', 'Util'], 'selected_position': 'PG'}, {'player_id': 5826, 'name': 'Donovan Mitchell', 'status': 'O', 'position_type': 'P', 'eligible_positions': ['PG', 'SG', 'G', 'Util'], 'selected_position': 'SG'}, {'player_id': 6355, 'name': 'Anthony Edwards', 'status': '', 'position_type': 'P', 'eligible_positions': ['SG', 'G', 'Util'], 'selected_position': 'G'}, {'player_id': 5393, 'name': 'Joe Ingles', 'status': '', 'position_type': 'P', 'eligible_positions': ['SG', 'G', 'SF', 'F', 'Util'], 'selected_position': 'SF'}, {'player_id': 6412, 'name': 'Precious Achiuwa', 'status': '', 'position_type': 'P', 'eligible_positions': ['SF', 'PF', 'F', 'Util'], 'selected_position': 'PF'}, {'player_id': 6023, 'name': 'Miles Bridges', 'status': '', 'position_type': 'P', 'eligible_positions': ['SF', 'PF', 'F', 'Util'], 'selected_position': 'F'}, {'player_id': 4888, 'name': 'Bismack Biyombo', 'status': '', 'position_type': 'P', 'eligible_positions': ['C', 'Util'], 'selected_position': 'C'}, {'player_id': 4245, 'name': 'Al Horford', 'status': 'INJ', 'position_type': 'P', 'eligible_positions': ['PF', 'F', 'C', 'Util'], 'selected_position': 'C'}, {'player_id': 5491, 'name': 'Cedi Osman', 'status': '', 'position_type': 'P', 'eligible_positions': ['SF', 'PF', 'F', 'Util'], 'selected_position': 'Util'}, {'player_id': 6397, 'name': 'Isaac Okoro', 'status': '', 'position_type': 'P', 'eligible_positions': ['SF', 'F', 'Util'], 'selected_position': 'Util'}, {'player_id': 3706, 'name': 'Carmelo Anthony', 'status': '', 'position_type': 'P', 'eligible_positions': ['SF', 'PF', 'F', 'Util'], 'selected_position': 'BN'}, {'player_id': 4886, 'name': 'Jonas Valanciunas', 'status': 'INJ', 'position_type': 'P', 'eligible_positions': ['C', 'Util'], 'selected_position': 'BN'}, {'player_id': 4612, 'name': 'Stephen Curry', 'status': '', 'position_type': 'P', 'eligible_positions': ['PG', 'SG', 'G', 'Util'], 'selected_position': 'BN'}, {'player_id': 5324, 'name': 'Zach LaVine', 'status': '', 'position_type': 'P', 'eligible_positions': ['SG', 'G', 'SF', 'F', 'Util'], 'selected_position': 'BN'}, {'player_id': 5292, 'name': 'Andrew Wiggins', 'status': '', 'position_type': 'P', 'eligible_positions': ['SG', 'G', 'SF', 'F', 'Util'], 'selected_position': 'BN'}]\n",
      "[{'player_id': 4390, 'name': 'Russell Westbrook', 'status': 'O', 'position_type': 'P', 'eligible_positions': ['PG', 'G', 'Util'], 'selected_position': 'PG'}, {'player_id': 5637, 'name': 'Buddy Hield', 'status': '', 'position_type': 'P', 'eligible_positions': ['SG', 'G', 'Util'], 'selected_position': 'SG'}, {'player_id': 4387, 'name': 'Derrick Rose', 'status': '', 'position_type': 'P', 'eligible_positions': ['PG', 'SG', 'G', 'Util'], 'selected_position': 'G'}, {'player_id': 5601, 'name': 'Brandon Ingram', 'status': '', 'position_type': 'P', 'eligible_positions': ['SF', 'PF', 'F', 'Util'], 'selected_position': 'SF'}, {'player_id': 6172, 'name': 'Cam Reddish', 'status': 'GTD', 'position_type': 'P', 'eligible_positions': ['SF', 'PF', 'F', 'Util'], 'selected_position': 'PF'}, {'player_id': 5642, 'name': 'Domantas Sabonis', 'status': 'GTD', 'position_type': 'P', 'eligible_positions': ['PF', 'F', 'C', 'Util'], 'selected_position': 'F'}, {'player_id': 6356, 'name': 'James Wiseman', 'status': '', 'position_type': 'P', 'eligible_positions': ['C', 'Util'], 'selected_position': 'C'}, {'player_id': 5959, 'name': 'Marvin Bagley III', 'status': '', 'position_type': 'P', 'eligible_positions': ['PF', 'F', 'C', 'Util'], 'selected_position': 'C'}, {'player_id': 5341, 'name': 'Kyle Anderson', 'status': '', 'position_type': 'P', 'eligible_positions': ['SF', 'PF', 'F', 'Util'], 'selected_position': 'Util'}, {'player_id': 4488, 'name': 'George Hill', 'status': 'GTD', 'position_type': 'P', 'eligible_positions': ['PG', 'SG', 'G', 'Util'], 'selected_position': 'Util'}, {'player_id': 6165, 'name': 'RJ Barrett', 'status': '', 'position_type': 'P', 'eligible_positions': ['SG', 'G', 'SF', 'F', 'Util'], 'selected_position': 'BN'}, {'player_id': 4716, 'name': 'John Wall', 'status': '', 'position_type': 'P', 'eligible_positions': ['PG', 'G', 'Util'], 'selected_position': 'BN'}, {'player_id': 6036, 'name': 'Moritz Wagner', 'status': 'INJ', 'position_type': 'P', 'eligible_positions': ['PF', 'F', 'C', 'Util'], 'selected_position': 'BN'}, {'player_id': 5858, 'name': 'Dillon Brooks', 'status': '', 'position_type': 'P', 'eligible_positions': ['SG', 'G', 'SF', 'F', 'Util'], 'selected_position': 'BN'}, {'player_id': 4244, 'name': 'Kevin Durant', 'status': '', 'position_type': 'P', 'eligible_positions': ['SF', 'PF', 'F', 'Util'], 'selected_position': 'BN'}]\n",
      "[{'player_id': 6028, 'name': 'Donte DiVincenzo', 'status': '', 'position_type': 'P', 'eligible_positions': ['PG', 'SG', 'G', 'Util'], 'selected_position': 'PG'}, {'player_id': 4624, 'name': 'Jeff Teague', 'status': '', 'position_type': 'P', 'eligible_positions': ['PG', 'SG', 'G', 'Util'], 'selected_position': 'SG'}, {'player_id': 5054, 'name': 'Evan Fournier', 'status': '', 'position_type': 'P', 'eligible_positions': ['SG', 'G', 'SF', 'F', 'Util'], 'selected_position': 'G'}, {'player_id': 5009, 'name': 'Bradley Beal', 'status': '', 'position_type': 'P', 'eligible_positions': ['SG', 'G', 'SF', 'F', 'Util'], 'selected_position': 'SF'}, {'player_id': 5157, 'name': 'Nerlens Noel', 'status': '', 'position_type': 'P', 'eligible_positions': ['PF', 'F', 'C', 'Util'], 'selected_position': 'PF'}, {'player_id': 5583, 'name': 'Christian Wood', 'status': '', 'position_type': 'P', 'eligible_positions': ['PF', 'F', 'C', 'Util'], 'selected_position': 'F'}, {'player_id': 5880, 'name': 'Daniel Theis', 'status': '', 'position_type': 'P', 'eligible_positions': ['C', 'Util'], 'selected_position': 'C'}, {'player_id': 5640, 'name': 'Jakob Poeltl', 'status': '', 'position_type': 'P', 'eligible_positions': ['C', 'Util'], 'selected_position': 'C'}, {'player_id': 4152, 'name': 'Kyle Lowry', 'status': '', 'position_type': 'P', 'eligible_positions': ['PG', 'G', 'Util'], 'selected_position': 'Util'}, {'player_id': 5842, 'name': 'Derrick White', 'status': 'INJ', 'position_type': 'P', 'eligible_positions': ['PG', 'SG', 'G', 'Util'], 'selected_position': 'Util'}, {'player_id': 5464, 'name': 'Kristaps Porzingis', 'status': '', 'position_type': 'P', 'eligible_positions': ['PF', 'F', 'C', 'Util'], 'selected_position': 'BN'}, {'player_id': 4563, 'name': 'James Harden', 'status': '', 'position_type': 'P', 'eligible_positions': ['PG', 'SG', 'G', 'Util'], 'selected_position': 'BN'}, {'player_id': 5069, 'name': 'Draymond Green', 'status': '', 'position_type': 'P', 'eligible_positions': ['PF', 'F', 'C', 'Util'], 'selected_position': 'BN'}, {'player_id': 4325, 'name': 'Marc Gasol', 'status': '', 'position_type': 'P', 'eligible_positions': ['C', 'Util'], 'selected_position': 'BN'}, {'player_id': 5958, 'name': 'Deandre Ayton', 'status': '', 'position_type': 'P', 'eligible_positions': ['C', 'Util'], 'selected_position': 'BN'}]\n"
     ]
    }
   ],
   "source": [
    "# Return players for all teams\n",
    "tms = lg.teams()\n",
    "\n",
    "for team_id in tms:\n",
    "    tm = lg.to_team(team_id)\n",
    "    print(tm.roster())"
   ],
   "metadata": {
    "collapsed": false,
    "pycharm": {
     "name": "#%%\n"
    }
   }
  },
  {
   "cell_type": "code",
   "execution_count": 14,
   "outputs": [
    {
     "data": {
      "text/plain": "['Patty Mills',\n 'Marcus Smart',\n 'Malcolm Brogdon',\n 'Jeremy Lamb',\n 'Khris Middleton',\n 'Duncan Robinson',\n 'Pascal Siakam',\n 'Nikola Jokic',\n 'Eric Bledsoe',\n 'Cameron Johnson',\n 'Davis Bertans',\n 'Enes Kanter',\n 'Jimmy Butler',\n 'Will Barton',\n 'Wayne Ellington']"
     },
     "execution_count": 14,
     "metadata": {},
     "output_type": "execute_result"
    }
   ],
   "source": [
    "# Player list in single team\n",
    "tm = lg.to_team('402.l.55374.t.6')\n",
    "team_roster = tm.roster()\n",
    "player_in_team_list = [player[\"name\"] for player in team_roster]\n",
    "player_in_team_list"
   ],
   "metadata": {
    "collapsed": false,
    "pycharm": {
     "name": "#%%\n"
    }
   }
  },
  {
   "cell_type": "code",
   "execution_count": 15,
   "outputs": [
    {
     "data": {
      "text/plain": "           PLAYER FG_PCT FT_PCT  FG3M    PTS   REB   AST   STL   BLK   TOV  \\\nMean  Will Barton  0.405  0.735  1.35  10.82  4.24  3.12  0.94  0.53  1.24   \n\n      GAMES  \nMean     18  ",
      "text/html": "<div>\n<style scoped>\n    .dataframe tbody tr th:only-of-type {\n        vertical-align: middle;\n    }\n\n    .dataframe tbody tr th {\n        vertical-align: top;\n    }\n\n    .dataframe thead th {\n        text-align: right;\n    }\n</style>\n<table border=\"1\" class=\"dataframe\">\n  <thead>\n    <tr style=\"text-align: right;\">\n      <th></th>\n      <th>PLAYER</th>\n      <th>FG_PCT</th>\n      <th>FT_PCT</th>\n      <th>FG3M</th>\n      <th>PTS</th>\n      <th>REB</th>\n      <th>AST</th>\n      <th>STL</th>\n      <th>BLK</th>\n      <th>TOV</th>\n      <th>GAMES</th>\n    </tr>\n  </thead>\n  <tbody>\n    <tr>\n      <th>Mean</th>\n      <td>Will Barton</td>\n      <td>0.405</td>\n      <td>0.735</td>\n      <td>1.35</td>\n      <td>10.82</td>\n      <td>4.24</td>\n      <td>3.12</td>\n      <td>0.94</td>\n      <td>0.53</td>\n      <td>1.24</td>\n      <td>18</td>\n    </tr>\n  </tbody>\n</table>\n</div>"
     },
     "execution_count": 15,
     "metadata": {},
     "output_type": "execute_result"
    }
   ],
   "source": [
    "# Get player 9cat\n",
    "from src.data import player_9cat_average as p9ca\n",
    "\n",
    "p9ca.get_player_9cat_season_average(\"Will Barton\")"
   ],
   "metadata": {
    "collapsed": false,
    "pycharm": {
     "name": "#%%\n"
    }
   }
  },
  {
   "cell_type": "code",
   "execution_count": 16,
   "outputs": [],
   "source": [
    "import pandas as pd\n",
    "\n",
    "player_9cat_dataframe = pd.DataFrame()\n",
    "for player in player_in_team_list:\n",
    "    player_9cat_dataframe = player_9cat_dataframe.append(p9ca.get_player_9cat_season_average(player))"
   ],
   "metadata": {
    "collapsed": false,
    "pycharm": {
     "name": "#%%\n"
    }
   }
  },
  {
   "cell_type": "code",
   "execution_count": 18,
   "outputs": [
    {
     "data": {
      "text/plain": "             PLAYER FG_PCT FT_PCT  FG3M    PTS    REB   AST   STL   BLK   TOV  \\\n0       Patty Mills  0.466  0.909  2.82  14.47   1.76  3.00  0.41  0.06  0.82   \n1      Marcus Smart  0.398  0.742  1.73  13.60   2.73  6.20  1.87  0.53  1.80   \n2   Malcolm Brogdon  0.455  0.900  2.82  22.71   4.12  7.18  1.53  0.18  2.06   \n3       Jeremy Lamb  0.535  0.933  1.75  16.75   4.75  0.75  1.00  0.25  1.00   \n4   Khris Middleton  0.522  0.920  2.50  21.75   6.31  5.75  1.00  0.19  2.31   \n5   Duncan Robinson  0.447  0.879  3.56  14.25   3.94  1.56  0.44  0.38  1.56   \n6     Pascal Siakam  0.442  0.767  1.14  18.57   8.14  4.71  0.86  0.57  2.64   \n7      Nikola Jokic  0.563  0.840  1.06  25.41  11.88  9.29  1.88  0.53  4.18   \n8      Eric Bledsoe  0.441  0.679  1.86  12.79   3.64  3.57  1.00  0.29  1.93   \n9   Cameron Johnson  0.448  0.824  2.40  11.87   3.20  1.53  0.73  0.47  0.80   \n10    Davis Bertans  0.373  0.821  2.82  11.82   3.09  1.36  0.55  0.27  0.55   \n11      Enes Kanter  0.618  0.812  0.00  10.12  10.06  1.12  0.62  0.88  0.88   \n12     Jimmy Butler  0.442  0.931  0.00  15.83   5.50  5.33  2.17  0.67  1.83   \n13      Will Barton  0.405  0.735  1.35  10.82   4.24  3.12  0.94  0.53  1.24   \n14  Wayne Ellington  0.536  0.700  3.64  13.73   2.27  1.18  0.45  0.27  0.82   \n\n    GAMES  \n0      18  \n1      16  \n2      18  \n3       5  \n4      17  \n5      17  \n6      15  \n7      18  \n8      15  \n9      16  \n10     12  \n11     17  \n12      7  \n13     18  \n14     12  ",
      "text/html": "<div>\n<style scoped>\n    .dataframe tbody tr th:only-of-type {\n        vertical-align: middle;\n    }\n\n    .dataframe tbody tr th {\n        vertical-align: top;\n    }\n\n    .dataframe thead th {\n        text-align: right;\n    }\n</style>\n<table border=\"1\" class=\"dataframe\">\n  <thead>\n    <tr style=\"text-align: right;\">\n      <th></th>\n      <th>PLAYER</th>\n      <th>FG_PCT</th>\n      <th>FT_PCT</th>\n      <th>FG3M</th>\n      <th>PTS</th>\n      <th>REB</th>\n      <th>AST</th>\n      <th>STL</th>\n      <th>BLK</th>\n      <th>TOV</th>\n      <th>GAMES</th>\n    </tr>\n  </thead>\n  <tbody>\n    <tr>\n      <th>0</th>\n      <td>Patty Mills</td>\n      <td>0.466</td>\n      <td>0.909</td>\n      <td>2.82</td>\n      <td>14.47</td>\n      <td>1.76</td>\n      <td>3.00</td>\n      <td>0.41</td>\n      <td>0.06</td>\n      <td>0.82</td>\n      <td>18</td>\n    </tr>\n    <tr>\n      <th>1</th>\n      <td>Marcus Smart</td>\n      <td>0.398</td>\n      <td>0.742</td>\n      <td>1.73</td>\n      <td>13.60</td>\n      <td>2.73</td>\n      <td>6.20</td>\n      <td>1.87</td>\n      <td>0.53</td>\n      <td>1.80</td>\n      <td>16</td>\n    </tr>\n    <tr>\n      <th>2</th>\n      <td>Malcolm Brogdon</td>\n      <td>0.455</td>\n      <td>0.900</td>\n      <td>2.82</td>\n      <td>22.71</td>\n      <td>4.12</td>\n      <td>7.18</td>\n      <td>1.53</td>\n      <td>0.18</td>\n      <td>2.06</td>\n      <td>18</td>\n    </tr>\n    <tr>\n      <th>3</th>\n      <td>Jeremy Lamb</td>\n      <td>0.535</td>\n      <td>0.933</td>\n      <td>1.75</td>\n      <td>16.75</td>\n      <td>4.75</td>\n      <td>0.75</td>\n      <td>1.00</td>\n      <td>0.25</td>\n      <td>1.00</td>\n      <td>5</td>\n    </tr>\n    <tr>\n      <th>4</th>\n      <td>Khris Middleton</td>\n      <td>0.522</td>\n      <td>0.920</td>\n      <td>2.50</td>\n      <td>21.75</td>\n      <td>6.31</td>\n      <td>5.75</td>\n      <td>1.00</td>\n      <td>0.19</td>\n      <td>2.31</td>\n      <td>17</td>\n    </tr>\n    <tr>\n      <th>5</th>\n      <td>Duncan Robinson</td>\n      <td>0.447</td>\n      <td>0.879</td>\n      <td>3.56</td>\n      <td>14.25</td>\n      <td>3.94</td>\n      <td>1.56</td>\n      <td>0.44</td>\n      <td>0.38</td>\n      <td>1.56</td>\n      <td>17</td>\n    </tr>\n    <tr>\n      <th>6</th>\n      <td>Pascal Siakam</td>\n      <td>0.442</td>\n      <td>0.767</td>\n      <td>1.14</td>\n      <td>18.57</td>\n      <td>8.14</td>\n      <td>4.71</td>\n      <td>0.86</td>\n      <td>0.57</td>\n      <td>2.64</td>\n      <td>15</td>\n    </tr>\n    <tr>\n      <th>7</th>\n      <td>Nikola Jokic</td>\n      <td>0.563</td>\n      <td>0.840</td>\n      <td>1.06</td>\n      <td>25.41</td>\n      <td>11.88</td>\n      <td>9.29</td>\n      <td>1.88</td>\n      <td>0.53</td>\n      <td>4.18</td>\n      <td>18</td>\n    </tr>\n    <tr>\n      <th>8</th>\n      <td>Eric Bledsoe</td>\n      <td>0.441</td>\n      <td>0.679</td>\n      <td>1.86</td>\n      <td>12.79</td>\n      <td>3.64</td>\n      <td>3.57</td>\n      <td>1.00</td>\n      <td>0.29</td>\n      <td>1.93</td>\n      <td>15</td>\n    </tr>\n    <tr>\n      <th>9</th>\n      <td>Cameron Johnson</td>\n      <td>0.448</td>\n      <td>0.824</td>\n      <td>2.40</td>\n      <td>11.87</td>\n      <td>3.20</td>\n      <td>1.53</td>\n      <td>0.73</td>\n      <td>0.47</td>\n      <td>0.80</td>\n      <td>16</td>\n    </tr>\n    <tr>\n      <th>10</th>\n      <td>Davis Bertans</td>\n      <td>0.373</td>\n      <td>0.821</td>\n      <td>2.82</td>\n      <td>11.82</td>\n      <td>3.09</td>\n      <td>1.36</td>\n      <td>0.55</td>\n      <td>0.27</td>\n      <td>0.55</td>\n      <td>12</td>\n    </tr>\n    <tr>\n      <th>11</th>\n      <td>Enes Kanter</td>\n      <td>0.618</td>\n      <td>0.812</td>\n      <td>0.00</td>\n      <td>10.12</td>\n      <td>10.06</td>\n      <td>1.12</td>\n      <td>0.62</td>\n      <td>0.88</td>\n      <td>0.88</td>\n      <td>17</td>\n    </tr>\n    <tr>\n      <th>12</th>\n      <td>Jimmy Butler</td>\n      <td>0.442</td>\n      <td>0.931</td>\n      <td>0.00</td>\n      <td>15.83</td>\n      <td>5.50</td>\n      <td>5.33</td>\n      <td>2.17</td>\n      <td>0.67</td>\n      <td>1.83</td>\n      <td>7</td>\n    </tr>\n    <tr>\n      <th>13</th>\n      <td>Will Barton</td>\n      <td>0.405</td>\n      <td>0.735</td>\n      <td>1.35</td>\n      <td>10.82</td>\n      <td>4.24</td>\n      <td>3.12</td>\n      <td>0.94</td>\n      <td>0.53</td>\n      <td>1.24</td>\n      <td>18</td>\n    </tr>\n    <tr>\n      <th>14</th>\n      <td>Wayne Ellington</td>\n      <td>0.536</td>\n      <td>0.700</td>\n      <td>3.64</td>\n      <td>13.73</td>\n      <td>2.27</td>\n      <td>1.18</td>\n      <td>0.45</td>\n      <td>0.27</td>\n      <td>0.82</td>\n      <td>12</td>\n    </tr>\n  </tbody>\n</table>\n</div>"
     },
     "execution_count": 18,
     "metadata": {},
     "output_type": "execute_result"
    }
   ],
   "source": [
    "# Reset index\n",
    "player_9cat_dataframe.reset_index(inplace=True, drop=True)\n",
    "player_9cat_dataframe"
   ],
   "metadata": {
    "collapsed": false,
    "pycharm": {
     "name": "#%%\n"
    }
   }
  },
  {
   "cell_type": "code",
   "execution_count": 19,
   "outputs": [],
   "source": [
    "# Change column datatype\n",
    "for column in player_9cat_dataframe.columns[1:]:\n",
    "    player_9cat_dataframe[column] = player_9cat_dataframe[column].astype(float)"
   ],
   "metadata": {
    "collapsed": false,
    "pycharm": {
     "name": "#%%\n"
    }
   }
  },
  {
   "cell_type": "code",
   "execution_count": 20,
   "outputs": [
    {
     "data": {
      "text/plain": "               PLAYER    FG_PCT    FT_PCT      FG3M        PTS     REB   AST  \\\n0         Patty Mills  0.466000  0.909000  2.820000  14.470000   1.760  3.00   \n1        Marcus Smart  0.398000  0.742000  1.730000  13.600000   2.730  6.20   \n2     Malcolm Brogdon  0.455000  0.900000  2.820000  22.710000   4.120  7.18   \n3         Jeremy Lamb  0.535000  0.933000  1.750000  16.750000   4.750  0.75   \n4     Khris Middleton  0.522000  0.920000  2.500000  21.750000   6.310  5.75   \n5     Duncan Robinson  0.447000  0.879000  3.560000  14.250000   3.940  1.56   \n6       Pascal Siakam  0.442000  0.767000  1.140000  18.570000   8.140  4.71   \n7        Nikola Jokic  0.563000  0.840000  1.060000  25.410000  11.880  9.29   \n8        Eric Bledsoe  0.441000  0.679000  1.860000  12.790000   3.640  3.57   \n9     Cameron Johnson  0.448000  0.824000  2.400000  11.870000   3.200  1.53   \n10      Davis Bertans  0.373000  0.821000  2.820000  11.820000   3.090  1.36   \n11        Enes Kanter  0.618000  0.812000  0.000000  10.120000  10.060  1.12   \n12       Jimmy Butler  0.442000  0.931000  0.000000  15.830000   5.500  5.33   \n13        Will Barton  0.405000  0.735000  1.350000  10.820000   4.240  3.12   \n14    Wayne Ellington  0.536000  0.700000  3.640000  13.730000   2.270  1.18   \nmean              NaN  0.472733  0.826133  1.963333  15.632667   5.042  3.71   \n\n       STL       BLK    TOV      GAMES  \n0     0.41  0.060000  0.820  18.000000  \n1     1.87  0.530000  1.800  16.000000  \n2     1.53  0.180000  2.060  18.000000  \n3     1.00  0.250000  1.000   5.000000  \n4     1.00  0.190000  2.310  17.000000  \n5     0.44  0.380000  1.560  17.000000  \n6     0.86  0.570000  2.640  15.000000  \n7     1.88  0.530000  4.180  18.000000  \n8     1.00  0.290000  1.930  15.000000  \n9     0.73  0.470000  0.800  16.000000  \n10    0.55  0.270000  0.550  12.000000  \n11    0.62  0.880000  0.880  17.000000  \n12    2.17  0.670000  1.830   7.000000  \n13    0.94  0.530000  1.240  18.000000  \n14    0.45  0.270000  0.820  12.000000  \nmean  1.03  0.404667  1.628  14.733333  ",
      "text/html": "<div>\n<style scoped>\n    .dataframe tbody tr th:only-of-type {\n        vertical-align: middle;\n    }\n\n    .dataframe tbody tr th {\n        vertical-align: top;\n    }\n\n    .dataframe thead th {\n        text-align: right;\n    }\n</style>\n<table border=\"1\" class=\"dataframe\">\n  <thead>\n    <tr style=\"text-align: right;\">\n      <th></th>\n      <th>PLAYER</th>\n      <th>FG_PCT</th>\n      <th>FT_PCT</th>\n      <th>FG3M</th>\n      <th>PTS</th>\n      <th>REB</th>\n      <th>AST</th>\n      <th>STL</th>\n      <th>BLK</th>\n      <th>TOV</th>\n      <th>GAMES</th>\n    </tr>\n  </thead>\n  <tbody>\n    <tr>\n      <th>0</th>\n      <td>Patty Mills</td>\n      <td>0.466000</td>\n      <td>0.909000</td>\n      <td>2.820000</td>\n      <td>14.470000</td>\n      <td>1.760</td>\n      <td>3.00</td>\n      <td>0.41</td>\n      <td>0.060000</td>\n      <td>0.820</td>\n      <td>18.000000</td>\n    </tr>\n    <tr>\n      <th>1</th>\n      <td>Marcus Smart</td>\n      <td>0.398000</td>\n      <td>0.742000</td>\n      <td>1.730000</td>\n      <td>13.600000</td>\n      <td>2.730</td>\n      <td>6.20</td>\n      <td>1.87</td>\n      <td>0.530000</td>\n      <td>1.800</td>\n      <td>16.000000</td>\n    </tr>\n    <tr>\n      <th>2</th>\n      <td>Malcolm Brogdon</td>\n      <td>0.455000</td>\n      <td>0.900000</td>\n      <td>2.820000</td>\n      <td>22.710000</td>\n      <td>4.120</td>\n      <td>7.18</td>\n      <td>1.53</td>\n      <td>0.180000</td>\n      <td>2.060</td>\n      <td>18.000000</td>\n    </tr>\n    <tr>\n      <th>3</th>\n      <td>Jeremy Lamb</td>\n      <td>0.535000</td>\n      <td>0.933000</td>\n      <td>1.750000</td>\n      <td>16.750000</td>\n      <td>4.750</td>\n      <td>0.75</td>\n      <td>1.00</td>\n      <td>0.250000</td>\n      <td>1.000</td>\n      <td>5.000000</td>\n    </tr>\n    <tr>\n      <th>4</th>\n      <td>Khris Middleton</td>\n      <td>0.522000</td>\n      <td>0.920000</td>\n      <td>2.500000</td>\n      <td>21.750000</td>\n      <td>6.310</td>\n      <td>5.75</td>\n      <td>1.00</td>\n      <td>0.190000</td>\n      <td>2.310</td>\n      <td>17.000000</td>\n    </tr>\n    <tr>\n      <th>5</th>\n      <td>Duncan Robinson</td>\n      <td>0.447000</td>\n      <td>0.879000</td>\n      <td>3.560000</td>\n      <td>14.250000</td>\n      <td>3.940</td>\n      <td>1.56</td>\n      <td>0.44</td>\n      <td>0.380000</td>\n      <td>1.560</td>\n      <td>17.000000</td>\n    </tr>\n    <tr>\n      <th>6</th>\n      <td>Pascal Siakam</td>\n      <td>0.442000</td>\n      <td>0.767000</td>\n      <td>1.140000</td>\n      <td>18.570000</td>\n      <td>8.140</td>\n      <td>4.71</td>\n      <td>0.86</td>\n      <td>0.570000</td>\n      <td>2.640</td>\n      <td>15.000000</td>\n    </tr>\n    <tr>\n      <th>7</th>\n      <td>Nikola Jokic</td>\n      <td>0.563000</td>\n      <td>0.840000</td>\n      <td>1.060000</td>\n      <td>25.410000</td>\n      <td>11.880</td>\n      <td>9.29</td>\n      <td>1.88</td>\n      <td>0.530000</td>\n      <td>4.180</td>\n      <td>18.000000</td>\n    </tr>\n    <tr>\n      <th>8</th>\n      <td>Eric Bledsoe</td>\n      <td>0.441000</td>\n      <td>0.679000</td>\n      <td>1.860000</td>\n      <td>12.790000</td>\n      <td>3.640</td>\n      <td>3.57</td>\n      <td>1.00</td>\n      <td>0.290000</td>\n      <td>1.930</td>\n      <td>15.000000</td>\n    </tr>\n    <tr>\n      <th>9</th>\n      <td>Cameron Johnson</td>\n      <td>0.448000</td>\n      <td>0.824000</td>\n      <td>2.400000</td>\n      <td>11.870000</td>\n      <td>3.200</td>\n      <td>1.53</td>\n      <td>0.73</td>\n      <td>0.470000</td>\n      <td>0.800</td>\n      <td>16.000000</td>\n    </tr>\n    <tr>\n      <th>10</th>\n      <td>Davis Bertans</td>\n      <td>0.373000</td>\n      <td>0.821000</td>\n      <td>2.820000</td>\n      <td>11.820000</td>\n      <td>3.090</td>\n      <td>1.36</td>\n      <td>0.55</td>\n      <td>0.270000</td>\n      <td>0.550</td>\n      <td>12.000000</td>\n    </tr>\n    <tr>\n      <th>11</th>\n      <td>Enes Kanter</td>\n      <td>0.618000</td>\n      <td>0.812000</td>\n      <td>0.000000</td>\n      <td>10.120000</td>\n      <td>10.060</td>\n      <td>1.12</td>\n      <td>0.62</td>\n      <td>0.880000</td>\n      <td>0.880</td>\n      <td>17.000000</td>\n    </tr>\n    <tr>\n      <th>12</th>\n      <td>Jimmy Butler</td>\n      <td>0.442000</td>\n      <td>0.931000</td>\n      <td>0.000000</td>\n      <td>15.830000</td>\n      <td>5.500</td>\n      <td>5.33</td>\n      <td>2.17</td>\n      <td>0.670000</td>\n      <td>1.830</td>\n      <td>7.000000</td>\n    </tr>\n    <tr>\n      <th>13</th>\n      <td>Will Barton</td>\n      <td>0.405000</td>\n      <td>0.735000</td>\n      <td>1.350000</td>\n      <td>10.820000</td>\n      <td>4.240</td>\n      <td>3.12</td>\n      <td>0.94</td>\n      <td>0.530000</td>\n      <td>1.240</td>\n      <td>18.000000</td>\n    </tr>\n    <tr>\n      <th>14</th>\n      <td>Wayne Ellington</td>\n      <td>0.536000</td>\n      <td>0.700000</td>\n      <td>3.640000</td>\n      <td>13.730000</td>\n      <td>2.270</td>\n      <td>1.18</td>\n      <td>0.45</td>\n      <td>0.270000</td>\n      <td>0.820</td>\n      <td>12.000000</td>\n    </tr>\n    <tr>\n      <th>mean</th>\n      <td>NaN</td>\n      <td>0.472733</td>\n      <td>0.826133</td>\n      <td>1.963333</td>\n      <td>15.632667</td>\n      <td>5.042</td>\n      <td>3.71</td>\n      <td>1.03</td>\n      <td>0.404667</td>\n      <td>1.628</td>\n      <td>14.733333</td>\n    </tr>\n  </tbody>\n</table>\n</div>"
     },
     "execution_count": 20,
     "metadata": {},
     "output_type": "execute_result"
    }
   ],
   "source": [
    "# Calculate team mean 9cat\n",
    "player_9cat_dataframe.loc[\"mean\"] = player_9cat_dataframe.mean()\n",
    "player_9cat_dataframe"
   ],
   "metadata": {
    "collapsed": false,
    "pycharm": {
     "name": "#%%\n"
    }
   }
  },
  {
   "cell_type": "code",
   "execution_count": 1,
   "outputs": [],
   "source": [
    "import pandas as pd\n",
    "from yahoo_oauth import OAuth2\n",
    "import yahoo_fantasy_api as yfa\n",
    "from src.data import player_9cat_average as p9ca\n",
    "from nba_api.stats.endpoints import commonallplayers\n",
    "from nba_api.stats.endpoints import commonplayerinfo\n",
    "\n",
    "NBA = \"nba\"\n",
    "SEASON = 2020\n",
    "JSON_FOLDER = \"../references/oauth2.json\"\n",
    "# Team dictionaries\n",
    "LALALAND = {'team_key': '402.l.55374.t.1', 'name': 'LaLaLand'}\n",
    "AUTOPICK = {'team_key': '402.l.55374.t.2', 'name': 'Autopick'}\n",
    "CRABBEHERBYTHEPUSSY = {'team_key': '402.l.55374.t.3', 'name': 'CrabbeHerByThePussy'}\n",
    "MAGICS_JOHNSON = {'team_key': '402.l.55374.t.4', 'name': \"Magic's Johnson\"}\n",
    "MCCURRY = {'team_key': '402.l.55374.t.5', 'name': 'McCurry'}\n",
    "NUNN_OF_YALL_BETTA = {'team_key': '402.l.55374.t.6', 'name': \"Nunn of Y'all Betta\"}\n",
    "RUSTY_CUNTBROOKS = {'team_key': '402.l.55374.t.7', 'name': 'Russty Cuntbrooks'}\n",
    "WAKANDA_FOREVER = {'team_key': '402.l.55374.t.8', 'name': 'Wakanda Forever'}\n",
    "SWAGGY_P = {'team_key': '402.l.55374.t.9', 'name': 'Swaggy P'}\n",
    "YOBITCH_TOPPIN_ME = {'team_key': '402.l.55374.t.10', 'name': 'yOBItch Toppin Me'}\n",
    "TVONS_TIP_TOP_TEAM = {'team_key': '402.l.55374.t.11', 'name': \"Tvon's Tip-Top Team\"}\n",
    "EL_LADRON_DE_CABRAS = {'team_key': '402.l.55374.t.12', 'name': 'El Ladrón de Cabras'}\n",
    "league_team_list = [LALALAND, AUTOPICK, CRABBEHERBYTHEPUSSY, MAGICS_JOHNSON, MCCURRY,\n",
    "                    NUNN_OF_YALL_BETTA, RUSTY_CUNTBROOKS, WAKANDA_FOREVER, SWAGGY_P,\n",
    "                    YOBITCH_TOPPIN_ME, TVONS_TIP_TOP_TEAM, EL_LADRON_DE_CABRAS]\n",
    "\n",
    "NAME_KEY = \"name\"\n",
    "GAMES_COLUMN = \"GAMES\"\n",
    "MEAN_ROW = \"mean\"\n",
    "TEAM_KEY = \"team_key\"\n",
    "PLAYER_COLUMN = \"PLAYER\"\n",
    "TEAM_COLUMN = \"TEAM\"\n",
    "EDITORIAL_TEAM_FULL_NAME = \"editorial_team_full_name\"\n",
    "UNIFORM_NUMBER = \"uniform_number\"\n",
    "COMMON_ALL_PLAYERS =\"CommonAllPlayers\"\n",
    "PERSON_ID_KEY = \"PERSON_ID\"\n",
    "TEAM_CITY_KEY = \"TEAM_CITY\"\n",
    "TEAM_NAME_KEY = \"TEAM_NAME\"\n",
    "COMMON_PLAYER_INFO = \"CommonPlayerInfo\"\n",
    "JERSEY_KEY = \"JERSEY\"\n",
    "DISPLAY_FIRST_LAST = \"DISPLAY_FIRST_LAST\"\n",
    "\n",
    "def yahoo_fantasy_api_authentication():\n",
    "\n",
    "    sc = OAuth2(None, None, from_file=JSON_FOLDER)\n",
    "\n",
    "    return sc\n",
    "\n",
    "\n",
    "def yahoo_fantasy_league(sc):\n",
    "\n",
    "    gm = yfa.Game(sc, NBA)\n",
    "    league_id_list = gm.league_ids(year=SEASON)\n",
    "    league_id = \"\".join(str(id) for id in league_id_list)\n",
    "    league = gm.to_league(league_id)\n",
    "\n",
    "    return league\n",
    "\n",
    "\n",
    "def yahoo_player_team_and_jersey(player_name):\n",
    "\n",
    "    player_details_dictionary = league.player_details(player_name)\n",
    "    players_team = player_details_dictionary[0][EDITORIAL_TEAM_FULL_NAME]\n",
    "    players_number = player_details_dictionary[0][UNIFORM_NUMBER]\n",
    "\n",
    "    return players_team, players_number\n",
    "\n",
    "\n",
    "def player_ids_by_nba_team_name(nba_team):\n",
    "\n",
    "    common_all_players = commonallplayers.CommonAllPlayers(is_only_current_season=1)\n",
    "    common_all_players_dict = common_all_players.get_normalized_dict()[COMMON_ALL_PLAYERS]\n",
    "    player_ids_in_team_list = [player[PERSON_ID_KEY] for player in common_all_players_dict if \\\n",
    "        player[TEAM_CITY_KEY] + \" \" + player[TEAM_NAME_KEY] == nba_team]\n",
    "\n",
    "    return player_ids_in_team_list\n",
    "\n",
    "\n",
    "def nba_player_name_from_jersey_search(team_player_ids, yahoo_jersey_number):\n",
    "\n",
    "    for id in team_player_ids:\n",
    "        nba_jersey_number = commonplayerinfo.CommonPlayerInfo(id).get_normalized_dict() \\\n",
    "            [COMMON_PLAYER_INFO][0][JERSEY_KEY]\n",
    "        if nba_jersey_number == yahoo_jersey_number:\n",
    "            nba_name = commonplayerinfo.CommonPlayerInfo(id).get_normalized_dict() \\\n",
    "            [COMMON_PLAYER_INFO][0][DISPLAY_FIRST_LAST]\n",
    "\n",
    "            return nba_name\n",
    "\n",
    "\n",
    "def yahoo_name_to_nba_name(yahoo_player_name):\n",
    "    \"\"\" Function expectes a Yahoo player name and it will find the players Team Name and Jersey\n",
    "    Number. It then searches the NBA API for Player IDs belonging to found Team Name. For every\n",
    "    Player ID it searches their Jersey Number. When there is a match, it returns the NBA Player\n",
    "    Name.\n",
    "    \"\"\"\n",
    "\n",
    "    player_team, player_number = yahoo_player_team_and_jersey(yahoo_player_name)\n",
    "    player_ids_in_team_list = player_ids_by_nba_team_name(player_team)\n",
    "    nba_player_name = nba_player_name_from_jersey_search(player_ids_in_team_list, player_number)\n",
    "\n",
    "    return nba_player_name\n",
    "\n",
    "\n",
    "def create_roster_dataframe(player_list):\n",
    "\n",
    "    active_players = p9ca.nba_active_players()\n",
    "    roster_dataframe = pd.DataFrame()\n",
    "    for player in player_list:\n",
    "        try:\n",
    "            roster_dataframe = roster_dataframe.append(p9ca.player_average_9cat_stats(player,\n",
    "                                                                                      active_players))\n",
    "        except IndexError:\n",
    "            nba_player_name = yahoo_name_to_nba_name(player)\n",
    "            roster_dataframe = roster_dataframe.append(p9ca.player_average_9cat_stats(nba_player_name,\n",
    "                                                                                      active_players))\n",
    "        except:\n",
    "            print(f\"Can't find player {player}\")\n",
    "\n",
    "    roster_dataframe.reset_index(inplace=True, drop=True)\n",
    "\n",
    "    return roster_dataframe\n",
    "\n",
    "\n",
    "def format_roster_dataframe(roster_dataframe):\n",
    "\n",
    "    for column in roster_dataframe.columns[1:]:\n",
    "        roster_dataframe[column] = roster_dataframe[column].astype(float)\n",
    "\n",
    "    roster_dataframe.loc[MEAN_ROW] = roster_dataframe.mean()\n",
    "    roster_dataframe = p9ca.format_dataframe_decimals(roster_dataframe)\n",
    "    try:\n",
    "        roster_dataframe.drop(GAMES_COLUMN, axis=1, inplace=True)\n",
    "    except:\n",
    "        pass\n",
    "\n",
    "    return roster_dataframe\n",
    "\n",
    "\n",
    "def team_9cat_average_stats(team_dictionary, league):\n",
    "\n",
    "    team = league.to_team(team_dictionary[TEAM_KEY])\n",
    "    team_roster = team.roster()\n",
    "    player_in_team_list = [player[NAME_KEY] for player in team_roster]\n",
    "\n",
    "    roster_dataframe = create_roster_dataframe(player_in_team_list)\n",
    "\n",
    "    roster_dataframe = format_roster_dataframe(roster_dataframe)\n",
    "\n",
    "    return roster_dataframe\n",
    "\n",
    "\n",
    "def fantasy_team_mean_stats(roster_dataframe, team_dictionary):\n",
    "\n",
    "    mean_series = roster_dataframe.loc[MEAN_ROW]\n",
    "    mean_series[PLAYER_COLUMN] = team_dictionary[NAME_KEY]\n",
    "    team_mean_dataframe = pd.DataFrame(mean_series).T\n",
    "    team_mean_dataframe = team_mean_dataframe.rename(columns={PLAYER_COLUMN : TEAM_COLUMN})\n",
    "    team_mean_dataframe.reset_index(inplace=True, drop=True)\n",
    "\n",
    "    return team_mean_dataframe\n",
    "\n",
    "\n",
    "def player_to_team_mean_stats(team_dictionary, league):\n",
    "    \"\"\"\n",
    "    This function creates a dataframe containing the season averaged stats for each player on a\n",
    "    Fantasy Team. It then finds the average stats for the entire team and returns a single row\n",
    "    dataframe with the Fantasy Team name and its seasoned averaged 9cat stats.\n",
    "    \"\"\"\n",
    "\n",
    "    roster_dataframe = team_9cat_average_stats(team_dictionary, league)\n",
    "    team_mean_dataframe = fantasy_team_mean_stats(roster_dataframe, team_dictionary)\n",
    "\n",
    "    return team_mean_dataframe\n",
    "\n",
    "\n",
    "def league_averages(league_team_list):\n",
    "\n",
    "    league_averages_dataframe = pd.DataFrame()\n",
    "    for team in league_team_list:\n",
    "        yahoo_fantasy_api_authentication()\n",
    "        league_averages_dataframe = league_averages_dataframe.append(player_to_team_mean_stats\n",
    "                                                                     (team, league))\n",
    "    league_averages_dataframe.reset_index(drop=True, inplace=True)\n",
    "    return league_averages_dataframe"
   ],
   "metadata": {
    "collapsed": false,
    "pycharm": {
     "name": "#%%\n"
    }
   }
  },
  {
   "cell_type": "code",
   "execution_count": 12,
   "outputs": [
    {
     "name": "stderr",
     "output_type": "stream",
     "text": [
      "[2021-01-23 23:07:43,569 DEBUG] [yahoo_oauth.oauth.__init__] Checking \n",
      "[2021-01-23 23:07:43,573 DEBUG] [yahoo_oauth.oauth.token_is_valid] ELAPSED TIME : 2186.45499253273\n",
      "[2021-01-23 23:07:43,574 DEBUG] [yahoo_oauth.oauth.token_is_valid] TOKEN IS STILL VALID\n"
     ]
    },
    {
     "data": {
      "text/plain": "                  PLAYER FG_PCT FT_PCT FG3M   PTS   REB  AST  STL  BLK  TOV\n0             Chris Paul  0.440  0.700  0.9  13.3   4.4  8.7  0.9  0.3  2.3\n1          Norman Powell  0.386  0.470  2.0  12.5   2.1  0.7  1.0  0.2  1.3\n2            Deni Avdija  0.459  0.273  1.5   7.0   4.0  2.2  1.0  0.3  0.6\n3        Otto Porter Jr.  0.481  0.545  1.8  12.5   6.8  1.9  0.7  0.1  1.1\n4           John Collins  0.520  0.554  1.0  15.9   7.5  1.5  0.6  1.0  1.3\n5          Tobias Harris  0.526  0.731  2.1  19.6   6.8  3.1  1.1  0.9  2.2\n6            Bam Adebayo  0.607  0.858  0.0  18.6   9.2  5.2  0.8  1.0  3.5\n7     Karl-Anthony Towns  0.479  0.958  1.5  22.0  12.5  4.2  0.5  2.8  2.5\n8        Larry Nance Jr.  0.505  0.378  1.6  11.1   6.5  3.7  2.4  0.5  1.7\n9          Nicolas Batum  0.498  0.479  2.1  10.2   4.9  2.5  1.3  0.4  0.7\n10          Myles Turner  0.479  0.587  1.4  13.2   7.0  1.1  1.4  4.1  1.4\n11      Danilo Gallinari  0.681  0.667  1.0   9.3   3.0  1.0  0.0  0.0  1.0\n12         Darius Bazley  0.373  0.476  1.4  10.4   6.9  1.4  0.5  1.0  1.7\n13       Devonte' Graham  0.315  0.462  2.7  13.3   3.3  6.4  1.5  0.0  1.2\n14        Richaun Holmes  0.661  0.550  0.1  13.3   7.9  1.9  0.9  1.7  1.1\nmean                 NaN  0.494  0.579  1.4  13.5   6.2  3.0  1.0  1.0  1.6",
      "text/html": "<div>\n<style scoped>\n    .dataframe tbody tr th:only-of-type {\n        vertical-align: middle;\n    }\n\n    .dataframe tbody tr th {\n        vertical-align: top;\n    }\n\n    .dataframe thead th {\n        text-align: right;\n    }\n</style>\n<table border=\"1\" class=\"dataframe\">\n  <thead>\n    <tr style=\"text-align: right;\">\n      <th></th>\n      <th>PLAYER</th>\n      <th>FG_PCT</th>\n      <th>FT_PCT</th>\n      <th>FG3M</th>\n      <th>PTS</th>\n      <th>REB</th>\n      <th>AST</th>\n      <th>STL</th>\n      <th>BLK</th>\n      <th>TOV</th>\n    </tr>\n  </thead>\n  <tbody>\n    <tr>\n      <th>0</th>\n      <td>Chris Paul</td>\n      <td>0.440</td>\n      <td>0.700</td>\n      <td>0.9</td>\n      <td>13.3</td>\n      <td>4.4</td>\n      <td>8.7</td>\n      <td>0.9</td>\n      <td>0.3</td>\n      <td>2.3</td>\n    </tr>\n    <tr>\n      <th>1</th>\n      <td>Norman Powell</td>\n      <td>0.386</td>\n      <td>0.470</td>\n      <td>2.0</td>\n      <td>12.5</td>\n      <td>2.1</td>\n      <td>0.7</td>\n      <td>1.0</td>\n      <td>0.2</td>\n      <td>1.3</td>\n    </tr>\n    <tr>\n      <th>2</th>\n      <td>Deni Avdija</td>\n      <td>0.459</td>\n      <td>0.273</td>\n      <td>1.5</td>\n      <td>7.0</td>\n      <td>4.0</td>\n      <td>2.2</td>\n      <td>1.0</td>\n      <td>0.3</td>\n      <td>0.6</td>\n    </tr>\n    <tr>\n      <th>3</th>\n      <td>Otto Porter Jr.</td>\n      <td>0.481</td>\n      <td>0.545</td>\n      <td>1.8</td>\n      <td>12.5</td>\n      <td>6.8</td>\n      <td>1.9</td>\n      <td>0.7</td>\n      <td>0.1</td>\n      <td>1.1</td>\n    </tr>\n    <tr>\n      <th>4</th>\n      <td>John Collins</td>\n      <td>0.520</td>\n      <td>0.554</td>\n      <td>1.0</td>\n      <td>15.9</td>\n      <td>7.5</td>\n      <td>1.5</td>\n      <td>0.6</td>\n      <td>1.0</td>\n      <td>1.3</td>\n    </tr>\n    <tr>\n      <th>5</th>\n      <td>Tobias Harris</td>\n      <td>0.526</td>\n      <td>0.731</td>\n      <td>2.1</td>\n      <td>19.6</td>\n      <td>6.8</td>\n      <td>3.1</td>\n      <td>1.1</td>\n      <td>0.9</td>\n      <td>2.2</td>\n    </tr>\n    <tr>\n      <th>6</th>\n      <td>Bam Adebayo</td>\n      <td>0.607</td>\n      <td>0.858</td>\n      <td>0.0</td>\n      <td>18.6</td>\n      <td>9.2</td>\n      <td>5.2</td>\n      <td>0.8</td>\n      <td>1.0</td>\n      <td>3.5</td>\n    </tr>\n    <tr>\n      <th>7</th>\n      <td>Karl-Anthony Towns</td>\n      <td>0.479</td>\n      <td>0.958</td>\n      <td>1.5</td>\n      <td>22.0</td>\n      <td>12.5</td>\n      <td>4.2</td>\n      <td>0.5</td>\n      <td>2.8</td>\n      <td>2.5</td>\n    </tr>\n    <tr>\n      <th>8</th>\n      <td>Larry Nance Jr.</td>\n      <td>0.505</td>\n      <td>0.378</td>\n      <td>1.6</td>\n      <td>11.1</td>\n      <td>6.5</td>\n      <td>3.7</td>\n      <td>2.4</td>\n      <td>0.5</td>\n      <td>1.7</td>\n    </tr>\n    <tr>\n      <th>9</th>\n      <td>Nicolas Batum</td>\n      <td>0.498</td>\n      <td>0.479</td>\n      <td>2.1</td>\n      <td>10.2</td>\n      <td>4.9</td>\n      <td>2.5</td>\n      <td>1.3</td>\n      <td>0.4</td>\n      <td>0.7</td>\n    </tr>\n    <tr>\n      <th>10</th>\n      <td>Myles Turner</td>\n      <td>0.479</td>\n      <td>0.587</td>\n      <td>1.4</td>\n      <td>13.2</td>\n      <td>7.0</td>\n      <td>1.1</td>\n      <td>1.4</td>\n      <td>4.1</td>\n      <td>1.4</td>\n    </tr>\n    <tr>\n      <th>11</th>\n      <td>Danilo Gallinari</td>\n      <td>0.681</td>\n      <td>0.667</td>\n      <td>1.0</td>\n      <td>9.3</td>\n      <td>3.0</td>\n      <td>1.0</td>\n      <td>0.0</td>\n      <td>0.0</td>\n      <td>1.0</td>\n    </tr>\n    <tr>\n      <th>12</th>\n      <td>Darius Bazley</td>\n      <td>0.373</td>\n      <td>0.476</td>\n      <td>1.4</td>\n      <td>10.4</td>\n      <td>6.9</td>\n      <td>1.4</td>\n      <td>0.5</td>\n      <td>1.0</td>\n      <td>1.7</td>\n    </tr>\n    <tr>\n      <th>13</th>\n      <td>Devonte' Graham</td>\n      <td>0.315</td>\n      <td>0.462</td>\n      <td>2.7</td>\n      <td>13.3</td>\n      <td>3.3</td>\n      <td>6.4</td>\n      <td>1.5</td>\n      <td>0.0</td>\n      <td>1.2</td>\n    </tr>\n    <tr>\n      <th>14</th>\n      <td>Richaun Holmes</td>\n      <td>0.661</td>\n      <td>0.550</td>\n      <td>0.1</td>\n      <td>13.3</td>\n      <td>7.9</td>\n      <td>1.9</td>\n      <td>0.9</td>\n      <td>1.7</td>\n      <td>1.1</td>\n    </tr>\n    <tr>\n      <th>mean</th>\n      <td>NaN</td>\n      <td>0.494</td>\n      <td>0.579</td>\n      <td>1.4</td>\n      <td>13.5</td>\n      <td>6.2</td>\n      <td>3.0</td>\n      <td>1.0</td>\n      <td>1.0</td>\n      <td>1.6</td>\n    </tr>\n  </tbody>\n</table>\n</div>"
     },
     "execution_count": 12,
     "metadata": {},
     "output_type": "execute_result"
    }
   ],
   "source": [
    "# Single team average\n",
    "sc = yahoo_fantasy_api_authentication()\n",
    "league = yahoo_fantasy_league(sc)\n",
    "team_9cat_average_stats(CRABBEHERBYTHEPUSSY, league)\n"
   ],
   "metadata": {
    "collapsed": false,
    "pycharm": {
     "name": "#%%\n"
    }
   }
  },
  {
   "cell_type": "code",
   "execution_count": 2,
   "outputs": [
    {
     "name": "stderr",
     "output_type": "stream",
     "text": [
      "[2021-01-28 21:51:04,400 DEBUG] [yahoo_oauth.oauth.__init__] Checking \n",
      "[2021-01-28 21:51:04,402 DEBUG] [yahoo_oauth.oauth.token_is_valid] ELAPSED TIME : 1426.3616027832031\n",
      "[2021-01-28 21:51:04,403 DEBUG] [yahoo_oauth.oauth.token_is_valid] TOKEN IS STILL VALID\n",
      "[2021-01-28 21:51:06,777 DEBUG] [yahoo_oauth.oauth.__init__] Checking \n",
      "[2021-01-28 21:51:06,787 DEBUG] [yahoo_oauth.oauth.token_is_valid] ELAPSED TIME : 1428.747150182724\n",
      "[2021-01-28 21:51:06,787 DEBUG] [yahoo_oauth.oauth.token_is_valid] TOKEN IS STILL VALID\n",
      "[2021-01-28 21:52:10,307 DEBUG] [yahoo_oauth.oauth.__init__] Checking \n",
      "[2021-01-28 21:52:10,310 DEBUG] [yahoo_oauth.oauth.token_is_valid] ELAPSED TIME : 1492.269475221634\n",
      "[2021-01-28 21:52:10,310 DEBUG] [yahoo_oauth.oauth.token_is_valid] TOKEN IS STILL VALID\n",
      "[2021-01-28 21:53:14,691 DEBUG] [yahoo_oauth.oauth.__init__] Checking \n",
      "[2021-01-28 21:53:14,695 DEBUG] [yahoo_oauth.oauth.token_is_valid] ELAPSED TIME : 1556.65443110466\n",
      "[2021-01-28 21:53:14,695 DEBUG] [yahoo_oauth.oauth.token_is_valid] TOKEN IS STILL VALID\n",
      "[2021-01-28 21:54:17,596 DEBUG] [yahoo_oauth.oauth.__init__] Checking \n",
      "[2021-01-28 21:54:17,599 DEBUG] [yahoo_oauth.oauth.token_is_valid] ELAPSED TIME : 1619.5583250522614\n",
      "[2021-01-28 21:54:17,600 DEBUG] [yahoo_oauth.oauth.token_is_valid] TOKEN IS STILL VALID\n",
      "[2021-01-28 21:55:27,911 DEBUG] [yahoo_oauth.oauth.__init__] Checking \n",
      "[2021-01-28 21:55:27,915 DEBUG] [yahoo_oauth.oauth.token_is_valid] ELAPSED TIME : 1689.8751039505005\n",
      "[2021-01-28 21:55:27,915 DEBUG] [yahoo_oauth.oauth.token_is_valid] TOKEN IS STILL VALID\n",
      "[2021-01-28 21:56:34,683 DEBUG] [yahoo_oauth.oauth.__init__] Checking \n",
      "[2021-01-28 21:56:34,685 DEBUG] [yahoo_oauth.oauth.token_is_valid] ELAPSED TIME : 1756.6449348926544\n",
      "[2021-01-28 21:56:34,686 DEBUG] [yahoo_oauth.oauth.token_is_valid] TOKEN IS STILL VALID\n",
      "[2021-01-28 21:57:30,772 DEBUG] [yahoo_oauth.oauth.__init__] Checking \n",
      "[2021-01-28 21:57:30,775 DEBUG] [yahoo_oauth.oauth.token_is_valid] ELAPSED TIME : 1812.7339317798615\n",
      "[2021-01-28 21:57:30,776 DEBUG] [yahoo_oauth.oauth.token_is_valid] TOKEN IS STILL VALID\n",
      "[2021-01-28 21:58:32,945 DEBUG] [yahoo_oauth.oauth.__init__] Checking \n",
      "[2021-01-28 21:58:32,957 DEBUG] [yahoo_oauth.oauth.token_is_valid] ELAPSED TIME : 1874.9165091514587\n",
      "[2021-01-28 21:58:32,958 DEBUG] [yahoo_oauth.oauth.token_is_valid] TOKEN IS STILL VALID\n",
      "[2021-01-28 21:59:31,484 DEBUG] [yahoo_oauth.oauth.__init__] Checking \n",
      "[2021-01-28 21:59:31,487 DEBUG] [yahoo_oauth.oauth.token_is_valid] ELAPSED TIME : 1933.4471051692963\n",
      "[2021-01-28 21:59:31,488 DEBUG] [yahoo_oauth.oauth.token_is_valid] TOKEN IS STILL VALID\n",
      "[2021-01-28 22:00:26,828 DEBUG] [yahoo_oauth.oauth.__init__] Checking \n",
      "[2021-01-28 22:00:26,831 DEBUG] [yahoo_oauth.oauth.token_is_valid] ELAPSED TIME : 1988.7903277873993\n",
      "[2021-01-28 22:00:26,832 DEBUG] [yahoo_oauth.oauth.token_is_valid] TOKEN IS STILL VALID\n",
      "[2021-01-28 22:01:21,711 DEBUG] [yahoo_oauth.oauth.__init__] Checking \n",
      "[2021-01-28 22:01:21,715 DEBUG] [yahoo_oauth.oauth.token_is_valid] ELAPSED TIME : 2043.6751382350922\n",
      "[2021-01-28 22:01:21,716 DEBUG] [yahoo_oauth.oauth.token_is_valid] TOKEN IS STILL VALID\n",
      "[2021-01-28 22:02:25,919 DEBUG] [yahoo_oauth.oauth.__init__] Checking \n",
      "[2021-01-28 22:02:25,923 DEBUG] [yahoo_oauth.oauth.token_is_valid] ELAPSED TIME : 2107.882575750351\n",
      "[2021-01-28 22:02:25,924 DEBUG] [yahoo_oauth.oauth.token_is_valid] TOKEN IS STILL VALID\n"
     ]
    },
    {
     "name": "stdout",
     "output_type": "stream",
     "text": [
      "Wall time: 12min 16s\n"
     ]
    },
    {
     "data": {
      "text/plain": "                   TEAM FG_PCT FT_PCT  FG3M    PTS   REB   AST   STL   BLK  \\\n0              LaLaLand  0.461  0.761  1.57  16.22  5.88  3.76  0.83  0.55   \n1              Autopick  0.489  0.796  1.62  16.25  5.69  3.29  0.88  0.52   \n2   CrabbeHerByThePussy  0.491  0.816  1.47  14.02  6.13  3.08  0.91  0.94   \n3       Magic's Johnson  0.448  0.796  2.12  16.45  5.75  3.77  1.02  0.52   \n4               McCurry  0.493  0.730  0.87  14.09  6.72  3.56  1.09  0.78   \n5   Nunn of Y'all Betta  0.469  0.829  1.96  15.41  5.08  3.71  1.00  0.40   \n6     Russty Cuntbrooks  0.474  0.776  1.62  17.19  5.83  3.05  1.01  0.86   \n7       Wakanda Forever  0.450  0.723  1.78  15.17  5.41  3.16  0.92  0.57   \n8              Swaggy P  0.463  0.742  1.93  14.75  4.95  3.01  0.83  0.60   \n9     yOBItch Toppin Me  0.488  0.784  1.73  15.71  4.79  3.34  1.00  0.52   \n10  Tvon's Tip-Top Team  0.468  0.761  1.35  13.73  5.55  3.23  0.81  0.93   \n11  El Ladrón de Cabras  0.509  0.748  1.61  14.41  5.57  3.10  0.84  0.65   \n\n     TOV  \n0   2.27  \n1   1.86  \n2   1.59  \n3   1.75  \n4   1.88  \n5   1.62  \n6   1.97  \n7   1.65  \n8   1.92  \n9   2.06  \n10  1.94  \n11  1.76  ",
      "text/html": "<div>\n<style scoped>\n    .dataframe tbody tr th:only-of-type {\n        vertical-align: middle;\n    }\n\n    .dataframe tbody tr th {\n        vertical-align: top;\n    }\n\n    .dataframe thead th {\n        text-align: right;\n    }\n</style>\n<table border=\"1\" class=\"dataframe\">\n  <thead>\n    <tr style=\"text-align: right;\">\n      <th></th>\n      <th>TEAM</th>\n      <th>FG_PCT</th>\n      <th>FT_PCT</th>\n      <th>FG3M</th>\n      <th>PTS</th>\n      <th>REB</th>\n      <th>AST</th>\n      <th>STL</th>\n      <th>BLK</th>\n      <th>TOV</th>\n    </tr>\n  </thead>\n  <tbody>\n    <tr>\n      <th>0</th>\n      <td>LaLaLand</td>\n      <td>0.461</td>\n      <td>0.761</td>\n      <td>1.57</td>\n      <td>16.22</td>\n      <td>5.88</td>\n      <td>3.76</td>\n      <td>0.83</td>\n      <td>0.55</td>\n      <td>2.27</td>\n    </tr>\n    <tr>\n      <th>1</th>\n      <td>Autopick</td>\n      <td>0.489</td>\n      <td>0.796</td>\n      <td>1.62</td>\n      <td>16.25</td>\n      <td>5.69</td>\n      <td>3.29</td>\n      <td>0.88</td>\n      <td>0.52</td>\n      <td>1.86</td>\n    </tr>\n    <tr>\n      <th>2</th>\n      <td>CrabbeHerByThePussy</td>\n      <td>0.491</td>\n      <td>0.816</td>\n      <td>1.47</td>\n      <td>14.02</td>\n      <td>6.13</td>\n      <td>3.08</td>\n      <td>0.91</td>\n      <td>0.94</td>\n      <td>1.59</td>\n    </tr>\n    <tr>\n      <th>3</th>\n      <td>Magic's Johnson</td>\n      <td>0.448</td>\n      <td>0.796</td>\n      <td>2.12</td>\n      <td>16.45</td>\n      <td>5.75</td>\n      <td>3.77</td>\n      <td>1.02</td>\n      <td>0.52</td>\n      <td>1.75</td>\n    </tr>\n    <tr>\n      <th>4</th>\n      <td>McCurry</td>\n      <td>0.493</td>\n      <td>0.730</td>\n      <td>0.87</td>\n      <td>14.09</td>\n      <td>6.72</td>\n      <td>3.56</td>\n      <td>1.09</td>\n      <td>0.78</td>\n      <td>1.88</td>\n    </tr>\n    <tr>\n      <th>5</th>\n      <td>Nunn of Y'all Betta</td>\n      <td>0.469</td>\n      <td>0.829</td>\n      <td>1.96</td>\n      <td>15.41</td>\n      <td>5.08</td>\n      <td>3.71</td>\n      <td>1.00</td>\n      <td>0.40</td>\n      <td>1.62</td>\n    </tr>\n    <tr>\n      <th>6</th>\n      <td>Russty Cuntbrooks</td>\n      <td>0.474</td>\n      <td>0.776</td>\n      <td>1.62</td>\n      <td>17.19</td>\n      <td>5.83</td>\n      <td>3.05</td>\n      <td>1.01</td>\n      <td>0.86</td>\n      <td>1.97</td>\n    </tr>\n    <tr>\n      <th>7</th>\n      <td>Wakanda Forever</td>\n      <td>0.450</td>\n      <td>0.723</td>\n      <td>1.78</td>\n      <td>15.17</td>\n      <td>5.41</td>\n      <td>3.16</td>\n      <td>0.92</td>\n      <td>0.57</td>\n      <td>1.65</td>\n    </tr>\n    <tr>\n      <th>8</th>\n      <td>Swaggy P</td>\n      <td>0.463</td>\n      <td>0.742</td>\n      <td>1.93</td>\n      <td>14.75</td>\n      <td>4.95</td>\n      <td>3.01</td>\n      <td>0.83</td>\n      <td>0.60</td>\n      <td>1.92</td>\n    </tr>\n    <tr>\n      <th>9</th>\n      <td>yOBItch Toppin Me</td>\n      <td>0.488</td>\n      <td>0.784</td>\n      <td>1.73</td>\n      <td>15.71</td>\n      <td>4.79</td>\n      <td>3.34</td>\n      <td>1.00</td>\n      <td>0.52</td>\n      <td>2.06</td>\n    </tr>\n    <tr>\n      <th>10</th>\n      <td>Tvon's Tip-Top Team</td>\n      <td>0.468</td>\n      <td>0.761</td>\n      <td>1.35</td>\n      <td>13.73</td>\n      <td>5.55</td>\n      <td>3.23</td>\n      <td>0.81</td>\n      <td>0.93</td>\n      <td>1.94</td>\n    </tr>\n    <tr>\n      <th>11</th>\n      <td>El Ladrón de Cabras</td>\n      <td>0.509</td>\n      <td>0.748</td>\n      <td>1.61</td>\n      <td>14.41</td>\n      <td>5.57</td>\n      <td>3.10</td>\n      <td>0.84</td>\n      <td>0.65</td>\n      <td>1.76</td>\n    </tr>\n  </tbody>\n</table>\n</div>"
     },
     "execution_count": 2,
     "metadata": {},
     "output_type": "execute_result"
    }
   ],
   "source": [
    "%%time\n",
    "# League average\n",
    "sc = yahoo_fantasy_api_authentication()\n",
    "league = yahoo_fantasy_league(sc)\n",
    "league_averages_dataframe = league_averages(league_team_list)\n",
    "league_averages_dataframe"
   ],
   "metadata": {
    "collapsed": false,
    "pycharm": {
     "name": "#%%\n"
    }
   }
  },
  {
   "cell_type": "markdown",
   "source": [
    "## Yahoo Player Info\n",
    "This section will create a function which will retrieve an NBA players team and jersey number.\n",
    "These identifiers will then be used to find the player in the Stats NBA API. This is done because\n",
    " the current method of searching for a players stats on the Stats NBA API using the Yahoo Fantasy\n",
    "  name can lead to errors. For example, on Yahoo it is PJ Washington, on Stats NBA it is P.J.\n",
    "  Washington."
   ],
   "metadata": {
    "collapsed": false,
    "pycharm": {
     "name": "#%% md\n"
    }
   }
  },
  {
   "cell_type": "code",
   "execution_count": 13,
   "outputs": [
    {
     "name": "stderr",
     "output_type": "stream",
     "text": [
      "[2021-01-23 22:33:47,335 DEBUG] [yahoo_oauth.oauth.__init__] Checking \n",
      "[2021-01-23 22:33:47,337 DEBUG] [yahoo_oauth.oauth.token_is_valid] ELAPSED TIME : 150.21866846084595\n",
      "[2021-01-23 22:33:47,338 DEBUG] [yahoo_oauth.oauth.token_is_valid] TOKEN IS STILL VALID\n"
     ]
    }
   ],
   "source": [
    "sc = yahoo_fantasy_api_authentication()\n",
    "league = yahoo_fantasy_league(sc)"
   ],
   "metadata": {
    "collapsed": false,
    "pycharm": {
     "name": "#%%\n"
    }
   }
  },
  {
   "cell_type": "code",
   "execution_count": 54,
   "outputs": [],
   "source": [
    "# Function to get team name and jersey\n",
    "EDITORIAL_TEAM_FULL_NAME = \"editorial_team_full_name\"\n",
    "UNIFORM_NUMBER = \"uniform_number\"\n",
    "\n",
    "def yahoo_player_team_and_jersey(player_name):\n",
    "\n",
    "    player_details_dictionary = league.player_details(player_name)\n",
    "    players_team = player_details_dictionary[0][EDITORIAL_TEAM_FULL_NAME]\n",
    "    players_number = player_details_dictionary[0][UNIFORM_NUMBER]\n",
    "\n",
    "    return players_team, players_number"
   ],
   "metadata": {
    "collapsed": false,
    "pycharm": {
     "name": "#%%\n"
    }
   }
  },
  {
   "cell_type": "code",
   "execution_count": 46,
   "outputs": [],
   "source": [
    "# Get team name and jersey\n",
    "players_team, players_number = yahoo_player_team_and_jersey(\"Robert Williams\")\n",
    "print(players_team, players_team)"
   ],
   "metadata": {
    "collapsed": false,
    "pycharm": {
     "name": "#%%\n"
    }
   }
  },
  {
   "cell_type": "code",
   "execution_count": 47,
   "outputs": [],
   "source": [
    "# Player Ids in team\n",
    "COMMON_ALL_PLAYERS =\"CommonAllPlayers\"\n",
    "PERSON_ID_KEY = \"PERSON_ID\"\n",
    "TEAM_CITY_KEY = \"TEAM_CITY\"\n",
    "TEAM_NAME_KEY = \"TEAM_NAME\"\n",
    "\n",
    "def player_ids_by_nba_team_name(nba_team):\n",
    "\n",
    "    common_all_players = commonallplayers.CommonAllPlayers(is_only_current_season=1)\n",
    "    common_all_players_dict = common_all_players.get_normalized_dict()[COMMON_ALL_PLAYERS]\n",
    "    player_ids_in_team_list = [player[PERSON_ID_KEY] for player in common_all_players_dict if \\\n",
    "        player[TEAM_CITY_KEY] + \" \" + player[TEAM_NAME_KEY] == players_team]\n",
    "\n",
    "    return player_ids_in_team_list"
   ],
   "metadata": {
    "collapsed": false,
    "pycharm": {
     "name": "#%%\n"
    }
   }
  },
  {
   "cell_type": "code",
   "execution_count": 48,
   "outputs": [],
   "source": [
    "# Player Ids\n",
    "player_ids_in_team_list = player_ids_by_nba_team_name(players_team)\n",
    "player_ids_in_team_list"
   ],
   "metadata": {
    "collapsed": false,
    "pycharm": {
     "name": "#%%\n"
    }
   }
  },
  {
   "cell_type": "code",
   "execution_count": 49,
   "outputs": [],
   "source": [
    "# Find name from jersey number\n",
    "COMMON_PLAYER_INFO = \"CommonPlayerInfo\"\n",
    "JERSEY_KEY = \"JERSEY\"\n",
    "DISPLAY_FIRST_LAST = \"DISPLAY_FIRST_LAST\"\n",
    "\n",
    "def nba_player_name_from_jersey_search(team_player_ids, yahoo_jersey_number):\n",
    "\n",
    "    for id in team_player_ids:\n",
    "        nba_jersey_number = commonplayerinfo.CommonPlayerInfo(id).get_normalized_dict() \\\n",
    "            [COMMON_PLAYER_INFO][0][JERSEY_KEY]\n",
    "        if nba_jersey_number == yahoo_jersey_number:\n",
    "            nba_name = commonplayerinfo.CommonPlayerInfo(id).get_normalized_dict() \\\n",
    "            [COMMON_PLAYER_INFO][0][DISPLAY_FIRST_LAST]\n",
    "\n",
    "            return nba_name"
   ],
   "metadata": {
    "collapsed": false,
    "pycharm": {
     "name": "#%%\n"
    }
   }
  },
  {
   "cell_type": "code",
   "execution_count": 50,
   "outputs": [
    {
     "data": {
      "text/plain": "'Robert Williams III'"
     },
     "execution_count": 50,
     "metadata": {},
     "output_type": "execute_result"
    }
   ],
   "source": [
    "# Get NBA Stats name\n",
    "nba_player_name_from_jersey_search(player_ids_in_team_list, players_number)"
   ],
   "metadata": {
    "collapsed": false,
    "pycharm": {
     "name": "#%%\n"
    }
   }
  },
  {
   "cell_type": "code",
   "execution_count": 23,
   "outputs": [],
   "source": [
    "from nba_api.stats.endpoints import commonallplayers\n",
    "from nba_api.stats.endpoints import commonplayerinfo\n",
    "\n",
    "EDITORIAL_TEAM_FULL_NAME = \"editorial_team_full_name\"\n",
    "UNIFORM_NUMBER = \"uniform_number\"\n",
    "COMMON_ALL_PLAYERS =\"CommonAllPlayers\"\n",
    "PERSON_ID_KEY = \"PERSON_ID\"\n",
    "TEAM_CITY_KEY = \"TEAM_CITY\"\n",
    "TEAM_NAME_KEY = \"TEAM_NAME\"\n",
    "COMMON_PLAYER_INFO = \"CommonPlayerInfo\"\n",
    "JERSEY_KEY = \"JERSEY\"\n",
    "DISPLAY_FIRST_LAST = \"DISPLAY_FIRST_LAST\"\n",
    "RANK_SUFFIX =\"_RANK\"\n",
    "\n",
    "\n",
    "def yahoo_player_team_and_jersey(player_name):\n",
    "\n",
    "    player_details_dictionary = league.player_details(player_name)\n",
    "    players_team = player_details_dictionary[0][EDITORIAL_TEAM_FULL_NAME]\n",
    "    players_number = player_details_dictionary[0][UNIFORM_NUMBER]\n",
    "\n",
    "    return players_team, players_number\n",
    "\n",
    "\n",
    "def player_ids_by_nba_team_name(nba_team):\n",
    "\n",
    "    common_all_players = commonallplayers.CommonAllPlayers(is_only_current_season=1)\n",
    "    common_all_players_dict = common_all_players.get_normalized_dict()[COMMON_ALL_PLAYERS]\n",
    "    player_ids_in_team_list = [player[PERSON_ID_KEY] for player in common_all_players_dict if \\\n",
    "        player[TEAM_CITY_KEY] + \" \" + player[TEAM_NAME_KEY] == nba_team]\n",
    "\n",
    "    return player_ids_in_team_list\n",
    "\n",
    "\n",
    "def nba_player_name_from_jersey_search(team_player_ids, yahoo_jersey_number):\n",
    "\n",
    "    for id in team_player_ids:\n",
    "        nba_jersey_number = commonplayerinfo.CommonPlayerInfo(id).get_normalized_dict() \\\n",
    "            [COMMON_PLAYER_INFO][0][JERSEY_KEY]\n",
    "        if nba_jersey_number == yahoo_jersey_number:\n",
    "            nba_name = commonplayerinfo.CommonPlayerInfo(id).get_normalized_dict() \\\n",
    "            [COMMON_PLAYER_INFO][0][DISPLAY_FIRST_LAST]\n",
    "\n",
    "            return nba_name\n",
    "\n",
    "\n",
    "def yahoo_name_to_nba_name(yahoo_player_name):\n",
    "    \"\"\" Function expectes a Yahoo player name and it will find the players Team Name and Jersey\n",
    "    Number. It then searches the NBA API for Player IDs belonging to found Team Name. For every\n",
    "    Player ID it searches their Jersey Number. When there is a match, it returns the NBA Player\n",
    "    Name.\n",
    "    \"\"\"\n",
    "\n",
    "    player_team, player_number = yahoo_player_team_and_jersey(yahoo_player_name)\n",
    "    player_ids_in_team_list = player_ids_by_nba_team_name(player_team)\n",
    "    nba_player_name = nba_player_name_from_jersey_search(player_ids_in_team_list, player_number)\n",
    "\n",
    "    return nba_player_name\n"
   ],
   "metadata": {
    "collapsed": false,
    "pycharm": {
     "name": "#%%\n"
    }
   }
  },
  {
   "cell_type": "code",
   "execution_count": 36,
   "outputs": [
    {
     "name": "stderr",
     "output_type": "stream",
     "text": [
      "[2021-01-27 22:03:30,319 DEBUG] [yahoo_oauth.oauth.__init__] Checking \n",
      "[2021-01-27 22:03:30,321 DEBUG] [yahoo_oauth.oauth.token_is_valid] ELAPSED TIME : 972.5253331661224\n",
      "[2021-01-27 22:03:30,322 DEBUG] [yahoo_oauth.oauth.token_is_valid] TOKEN IS STILL VALID\n"
     ]
    },
    {
     "data": {
      "text/plain": "'Robert Williams III'"
     },
     "execution_count": 36,
     "metadata": {},
     "output_type": "execute_result"
    }
   ],
   "source": [
    "# Get NBA Stats name from Yahoo name\n",
    "sc = yahoo_fantasy_api_authentication()\n",
    "league = yahoo_fantasy_league(sc)\n",
    "yahoo_name_to_nba_name(\"Robert Williams\")\n"
   ],
   "metadata": {
    "collapsed": false,
    "pycharm": {
     "name": "#%%\n"
    }
   }
  },
  {
   "cell_type": "markdown",
   "source": [
    "## Waiver Wire Adds\n",
    "This section will simulate the dropping of a current team player and the addition of a free agent\n",
    ". Initially, a snapshot of the teams current 9cat averages will be calculated and saved. A player\n",
    " will be dropped from my team a player will be added and then a snapshot of the new 9cat averages\n",
    "  will be calculated. This will show how this swap impacts my team at an overall level."
   ],
   "metadata": {
    "collapsed": false,
    "pycharm": {
     "name": "#%% md\n"
    }
   }
  },
  {
   "cell_type": "code",
   "execution_count": 41,
   "outputs": [],
   "source": [
    "def drop_add_mean_9cat_difference(current_9cat, new_9cat):\n",
    "\n",
    "    current_9cat = remove_player_and_float_convert(current_9cat)\n",
    "    new_9cat = remove_player_and_float_convert(new_9cat)\n",
    "\n",
    "    difference_9cat = new_9cat.subtract(current_9cat)\n",
    "\n",
    "    return difference_9cat\n",
    "\n",
    "# Function to return team dataframe with 9cat averages\n",
    "def remove_mean_and_player(team_players_9cat_stats_dataframe, player_to_drop):\n",
    "\n",
    "    team_players_9cat_stats_dataframe = team_players_9cat_stats_dataframe.drop(MEAN_ROW)\n",
    "    team_players_9cat_stats_dataframe = \\\n",
    "        team_players_9cat_stats_dataframe[~team_players_9cat_stats_dataframe[PLAYER_COLUMN]\n",
    "    .str.contains(player_to_drop)]\n",
    "\n",
    "    return team_players_9cat_stats_dataframe\n",
    "\n",
    "\n",
    "def waiver_add_and_drop(fantasy_team, player_to_drop, player_to_add):\n",
    "\n",
    "    team_players_9cat_stats_dataframe = team_9cat_average_stats(fantasy_team, league)\n",
    "    current_team_9cat_average_stats = pd.DataFrame(team_players_9cat_stats_dataframe\n",
    "                                                   .loc[MEAN_ROW]).T.drop(PLAYER_COLUMN, axis=1)\n",
    "\n",
    "    removed_mean_dropped_player_dataframe = remove_mean_and_player\\\n",
    "        (team_players_9cat_stats_dataframe, player_to_drop)\n",
    "\n",
    "    added_player_9cat_averages = p9ca.get_player_9cat_season_average(player_to_add)\n",
    "    new_team_9cat_average_stats_dataframe = removed_mean_dropped_player_dataframe.append\\\n",
    "        (added_player_9cat_averages)\n",
    "    new_team_9cat_average_stats_dataframe.reset_index(inplace=True, drop=True)\n",
    "\n",
    "    new_team_9cat_average_stats_dataframe = format_roster_dataframe \\\n",
    "        (new_team_9cat_average_stats_dataframe)\n",
    "\n",
    "    new_team_9cat_average_stats = pd.DataFrame(new_team_9cat_average_stats_dataframe\n",
    "                                                   .loc[MEAN_ROW]).T.drop(PLAYER_COLUMN, axis=1)\n",
    "\n",
    "    return team_players_9cat_stats_dataframe, current_team_9cat_average_stats, \\\n",
    "           new_team_9cat_average_stats_dataframe, new_team_9cat_average_stats"
   ],
   "metadata": {
    "collapsed": false,
    "pycharm": {
     "name": "#%%\n"
    }
   }
  },
  {
   "cell_type": "code",
   "execution_count": 38,
   "outputs": [
    {
     "name": "stderr",
     "output_type": "stream",
     "text": [
      "[2021-01-27 22:04:13,787 DEBUG] [yahoo_oauth.oauth.__init__] Checking \n",
      "[2021-01-27 22:04:13,797 DEBUG] [yahoo_oauth.oauth.token_is_valid] ELAPSED TIME : 1016.0008628368378\n",
      "[2021-01-27 22:04:13,798 DEBUG] [yahoo_oauth.oauth.token_is_valid] TOKEN IS STILL VALID\n"
     ]
    }
   ],
   "source": [
    "# Authenticate if needed\n",
    "sc = yahoo_fantasy_api_authentication()\n",
    "league = yahoo_fantasy_league(sc)"
   ],
   "metadata": {
    "collapsed": false,
    "pycharm": {
     "name": "#%%\n"
    }
   }
  },
  {
   "cell_type": "code",
   "execution_count": 39,
   "outputs": [
    {
     "data": {
      "text/plain": "     FG_PCT FT_PCT  FG3M    PTS   REB   AST   STL   BLK   TOV\nmean  0.481  0.826  1.94  16.37  5.35  3.74  1.06  0.50  1.66",
      "text/html": "<div>\n<style scoped>\n    .dataframe tbody tr th:only-of-type {\n        vertical-align: middle;\n    }\n\n    .dataframe tbody tr th {\n        vertical-align: top;\n    }\n\n    .dataframe thead th {\n        text-align: right;\n    }\n</style>\n<table border=\"1\" class=\"dataframe\">\n  <thead>\n    <tr style=\"text-align: right;\">\n      <th></th>\n      <th>FG_PCT</th>\n      <th>FT_PCT</th>\n      <th>FG3M</th>\n      <th>PTS</th>\n      <th>REB</th>\n      <th>AST</th>\n      <th>STL</th>\n      <th>BLK</th>\n      <th>TOV</th>\n    </tr>\n  </thead>\n  <tbody>\n    <tr>\n      <th>mean</th>\n      <td>0.481</td>\n      <td>0.826</td>\n      <td>1.94</td>\n      <td>16.37</td>\n      <td>5.35</td>\n      <td>3.74</td>\n      <td>1.06</td>\n      <td>0.50</td>\n      <td>1.66</td>\n    </tr>\n  </tbody>\n</table>\n</div>"
     },
     "execution_count": 39,
     "metadata": {},
     "output_type": "execute_result"
    }
   ],
   "source": [
    "# Add drop player\n",
    "PLAYER_TO_DROP = \"Will Barton\"\n",
    "PLAYER_TO_ADD = \"Anthony Davis\"\n",
    "current_players_9cat_averages, current_team_9cat_averages, new_players_9cat_averages, \\\n",
    "    new_team_9cat_averages = waiver_add_and_drop(NUNN_OF_YALL_BETTA, PLAYER_TO_DROP, PLAYER_TO_ADD)"
   ],
   "metadata": {
    "collapsed": false,
    "pycharm": {
     "name": "#%%\n"
    }
   }
  },
  {
   "cell_type": "code",
   "execution_count": null,
   "outputs": [],
   "source": [
    "# Current team 9cat\n",
    "current_team_9cat_averages"
   ],
   "metadata": {
    "collapsed": false,
    "pycharm": {
     "name": "#%%\n"
    }
   }
  },
  {
   "cell_type": "code",
   "execution_count": null,
   "outputs": [],
   "source": [
    "# New team 9cat\n",
    "new_team_9cat_averages"
   ],
   "metadata": {
    "collapsed": false,
    "pycharm": {
     "name": "#%%\n"
    }
   }
  },
  {
   "cell_type": "code",
   "execution_count": 102,
   "outputs": [],
   "source": [
    "# Format and find 9cat differences\n",
    "def remove_player_and_float_convert(dataframe):\n",
    "\n",
    "    for column in dataframe.columns:\n",
    "        dataframe[column] = dataframe[column].astype(float)\n",
    "\n",
    "    return dataframe\n",
    "\n",
    "def drop_add_mean_9cat_difference(current_9cat, new_9cat):\n",
    "\n",
    "    current_9cat = remove_player_and_float_convert(current_9cat)\n",
    "    new_9cat = remove_player_and_float_convert(new_9cat)\n",
    "\n",
    "    difference_9cat = new_9cat.subtract(current_9cat)\n",
    "\n",
    "    return difference_9cat"
   ],
   "metadata": {
    "collapsed": false,
    "pycharm": {
     "name": "#%%\n"
    }
   }
  },
  {
   "cell_type": "code",
   "execution_count": 103,
   "outputs": [
    {
     "data": {
      "text/plain": "      FG_PCT  FT_PCT  FG3M   PTS   REB   AST   STL   BLK   TOV\nmean   0.008   0.001 -0.03  0.74  0.31  0.03  0.02  0.09  0.04",
      "text/html": "<div>\n<style scoped>\n    .dataframe tbody tr th:only-of-type {\n        vertical-align: middle;\n    }\n\n    .dataframe tbody tr th {\n        vertical-align: top;\n    }\n\n    .dataframe thead th {\n        text-align: right;\n    }\n</style>\n<table border=\"1\" class=\"dataframe\">\n  <thead>\n    <tr style=\"text-align: right;\">\n      <th></th>\n      <th>FG_PCT</th>\n      <th>FT_PCT</th>\n      <th>FG3M</th>\n      <th>PTS</th>\n      <th>REB</th>\n      <th>AST</th>\n      <th>STL</th>\n      <th>BLK</th>\n      <th>TOV</th>\n    </tr>\n  </thead>\n  <tbody>\n    <tr>\n      <th>mean</th>\n      <td>0.008</td>\n      <td>0.001</td>\n      <td>-0.03</td>\n      <td>0.74</td>\n      <td>0.31</td>\n      <td>0.03</td>\n      <td>0.02</td>\n      <td>0.09</td>\n      <td>0.04</td>\n    </tr>\n  </tbody>\n</table>\n</div>"
     },
     "execution_count": 103,
     "metadata": {},
     "output_type": "execute_result"
    }
   ],
   "source": [
    "# Difference dataframe\n",
    "difference_team_9cat_averages = drop_add_mean_9cat_difference(current_team_9cat_averages,\n",
    "                                                  new_team_9cat_averages)\n",
    "\n",
    "difference_team_9cat_averages"
   ],
   "metadata": {
    "collapsed": false,
    "pycharm": {
     "name": "#%%\n"
    }
   }
  },
  {
   "cell_type": "code",
   "execution_count": 63,
   "outputs": [],
   "source": [
    "# Visualise current, new and difference\n",
    "def visualise_team_9cat_averages(player_to_drop, player_to_add, current_9cat, new_9cat,\n",
    "                                 difference_9cat, visualise=True):\n",
    "    if visualise:\n",
    "        print(f\"You are dropping {player_to_drop} and adding {player_to_add}! \\n\")\n",
    "\n",
    "        print(\"The current team 9cat averages are:\\n\")\n",
    "        print(current_9cat)\n",
    "        print(\"\\n\")\n",
    "\n",
    "        print(\"The new team 9cat averages are:\\n\")\n",
    "        print(new_9cat)\n",
    "        print(\"\\n\")\n",
    "\n",
    "        print(\"The difference 9cat averages are:\\n\")\n",
    "        print(difference_9cat)\n",
    "        print(\"\\n\")\n",
    "    else:\n",
    "        pass\n"
   ],
   "metadata": {
    "collapsed": false,
    "pycharm": {
     "name": "#%%\n"
    }
   }
  },
  {
   "cell_type": "code",
   "execution_count": 105,
   "outputs": [
    {
     "name": "stdout",
     "output_type": "stream",
     "text": [
      "You are dropping Will Barton and adding Anthony Davis! \n",
      "\n",
      "The current team 9cat averages are:\n",
      "\n",
      "      FG_PCT  FT_PCT  FG3M    PTS   REB   AST   STL   BLK   TOV\n",
      "mean   0.473   0.822  1.74  15.46  5.29  3.74  1.04  0.43  1.66\n",
      "\n",
      "\n",
      "The new team 9cat averages are:\n",
      "\n",
      "      FG_PCT  FT_PCT  FG3M   PTS  REB   AST   STL   BLK  TOV\n",
      "mean   0.481   0.823  1.71  16.2  5.6  3.77  1.06  0.52  1.7\n",
      "\n",
      "\n",
      "The difference 9cat averages are:\n",
      "\n",
      "      FG_PCT  FT_PCT  FG3M   PTS   REB   AST   STL   BLK   TOV\n",
      "mean   0.008   0.001 -0.03  0.74  0.31  0.03  0.02  0.09  0.04\n",
      "\n",
      "\n"
     ]
    }
   ],
   "source": [
    "# Visualise change\n",
    "visualise_team_9cat_averages(PLAYER_TO_DROP, PLAYER_TO_ADD, current_team_9cat_averages,\n",
    "                             new_team_9cat_averages, difference_team_9cat_averages)"
   ],
   "metadata": {
    "collapsed": false,
    "pycharm": {
     "name": "#%%\n"
    }
   }
  },
  {
   "cell_type": "code",
   "execution_count": 45,
   "outputs": [],
   "source": [
    "# Function for the entire process\n",
    "def compare_team_9cats_on_transaction(team, player_to_drop, player_to_add, visualise=True):\n",
    "\n",
    "    current_players_9cat_averages, current_team_9cat_averages, new_players_9cat_averages, \\\n",
    "    new_team_9cat_averages = waiver_add_and_drop(NUNN_OF_YALL_BETTA, PLAYER_TO_DROP, PLAYER_TO_ADD)\n",
    "\n",
    "    difference_team_9cat_averages = drop_add_mean_9cat_difference(current_team_9cat_averages,\n",
    "                                                  new_team_9cat_averages)\n",
    "\n",
    "    visualise_team_9cat_averages(player_to_drop, player_to_add, current_team_9cat_averages,\n",
    "                             new_team_9cat_averages, difference_team_9cat_averages, visualise)\n",
    "\n",
    "    return current_players_9cat_averages, current_team_9cat_averages, new_players_9cat_averages, \\\n",
    "           new_team_9cat_averages"
   ],
   "metadata": {
    "collapsed": false,
    "pycharm": {
     "name": "#%%\n"
    }
   }
  },
  {
   "cell_type": "code",
   "execution_count": 33,
   "outputs": [
    {
     "name": "stderr",
     "output_type": "stream",
     "text": [
      "[2021-01-26 20:03:38,925 DEBUG] [yahoo_oauth.oauth.__init__] Checking \n",
      "[2021-01-26 20:03:38,928 DEBUG] [yahoo_oauth.oauth.token_is_valid] ELAPSED TIME : 2276.010263442993\n",
      "[2021-01-26 20:03:38,929 DEBUG] [yahoo_oauth.oauth.token_is_valid] TOKEN IS STILL VALID\n"
     ]
    }
   ],
   "source": [
    "# Authenticate if needed\n",
    "sc = yahoo_fantasy_api_authentication()\n",
    "league = yahoo_fantasy_league(sc)"
   ],
   "metadata": {
    "collapsed": false,
    "pycharm": {
     "name": "#%%\n"
    }
   }
  },
  {
   "cell_type": "code",
   "execution_count": 34,
   "outputs": [
    {
     "ename": "NameError",
     "evalue": "name 'PLAYER_TO_DROP' is not defined",
     "output_type": "error",
     "traceback": [
      "\u001B[1;31m---------------------------------------------------------------------------\u001B[0m",
      "\u001B[1;31mNameError\u001B[0m                                 Traceback (most recent call last)",
      "\u001B[1;32m<ipython-input-34-061598b18c87>\u001B[0m in \u001B[0;36m<module>\u001B[1;34m\u001B[0m\n\u001B[0;32m      1\u001B[0m \u001B[0mcurrent_players_9cat_averages\u001B[0m\u001B[1;33m,\u001B[0m \u001B[0mcurrent_team_9cat_averages\u001B[0m\u001B[1;33m,\u001B[0m \u001B[0mnew_players_9cat_averages\u001B[0m\u001B[1;33m,\u001B[0m\u001B[0;31m \u001B[0m\u001B[0;31m\\\u001B[0m\u001B[1;33m\u001B[0m\u001B[1;33m\u001B[0m\u001B[0m\n\u001B[1;32m----> 2\u001B[1;33m     new_team_9cat_averages = compare_team_9cats_on_transaction(NUNN_OF_YALL_BETTA, PLAYER_TO_DROP,\n\u001B[0m\u001B[0;32m      3\u001B[0m                                                            PLAYER_TO_ADD)\n\u001B[0;32m      4\u001B[0m \u001B[1;33m\u001B[0m\u001B[0m\n",
      "\u001B[1;31mNameError\u001B[0m: name 'PLAYER_TO_DROP' is not defined"
     ]
    }
   ],
   "source": [
    "# Pipelined\n",
    "current_players_9cat_averages, current_team_9cat_averages, new_players_9cat_averages, \\\n",
    "    new_team_9cat_averages = compare_team_9cats_on_transaction(NUNN_OF_YALL_BETTA, PLAYER_TO_DROP,\n",
    "                                                           PLAYER_TO_ADD)"
   ],
   "metadata": {
    "collapsed": false,
    "pycharm": {
     "name": "#%%\n"
    }
   }
  },
  {
   "cell_type": "code",
   "execution_count": 37,
   "outputs": [
    {
     "name": "stdout",
     "output_type": "stream",
     "text": [
      "You are dropping Will Barton and adding Wayne Ellington! \n",
      "\n",
      "The current team 9cat averages are:\n",
      "\n",
      "      FG_PCT  FT_PCT  FG3M    PTS   REB   AST   STL   BLK  TOV\n",
      "mean   0.473   0.828  1.74  15.57  5.42  3.79  1.04  0.43  1.7\n",
      "\n",
      "\n",
      "The new team 9cat averages are:\n",
      "\n",
      "      FG_PCT  FT_PCT  FG3M    PTS   REB   AST   STL   BLK   TOV\n",
      "mean   0.481   0.826  1.89  15.76  5.29  3.66  1.01  0.41  1.67\n",
      "\n",
      "\n",
      "The difference 9cat averages are:\n",
      "\n",
      "      FG_PCT  FT_PCT  FG3M   PTS   REB   AST   STL   BLK   TOV\n",
      "mean   0.008  -0.002  0.15  0.19 -0.13 -0.13 -0.03 -0.02 -0.03\n",
      "\n",
      "\n"
     ]
    }
   ],
   "source": [
    "PLAYER_TO_DROP = \"Will Barton\"\n",
    "PLAYER_TO_ADD = \"Wayne Ellington\"\n",
    "current_players_9cat_averages, current_team_9cat_averages, new_players_9cat_averages, \\\n",
    "    new_team_9cat_averages = compare_team_9cats_on_transaction(NUNN_OF_YALL_BETTA, PLAYER_TO_DROP,\n",
    "                                                           PLAYER_TO_ADD)"
   ],
   "metadata": {
    "collapsed": false,
    "pycharm": {
     "name": "#%%\n"
    }
   }
  },
  {
   "cell_type": "code",
   "execution_count": 11,
   "outputs": [],
   "source": [
    "# Function to return team dataframe with 9cat averages\n",
    "def remove_mean_and_player(team_players_9cat_stats_dataframe, player_to_drop):\n",
    "\n",
    "    team_players_9cat_stats_dataframe = team_players_9cat_stats_dataframe.drop(MEAN_ROW)\n",
    "    team_players_9cat_stats_dataframe = \\\n",
    "        team_players_9cat_stats_dataframe[~team_players_9cat_stats_dataframe[PLAYER_COLUMN]\n",
    "    .str.contains(player_to_drop)]\n",
    "\n",
    "    return team_players_9cat_stats_dataframe\n",
    "\n",
    "\n",
    "def waiver_add_and_drop(fantasy_team, player_to_drop, player_to_add):\n",
    "\n",
    "    team_players_9cat_stats_dataframe = team_9cat_average_stats(fantasy_team, league)\n",
    "    current_team_9cat_average_stats = pd.DataFrame(team_players_9cat_stats_dataframe\n",
    "                                                   .loc[MEAN_ROW]).T.drop(PLAYER_COLUMN, axis=1)\n",
    "\n",
    "    removed_mean_dropped_player_dataframe = remove_mean_and_player\\\n",
    "        (team_players_9cat_stats_dataframe, player_to_drop)\n",
    "\n",
    "    added_player_9cat_averages = p9ca.get_player_9cat_season_average(player_to_add)\n",
    "    new_team_9cat_average_stats_dataframe = removed_mean_dropped_player_dataframe.append\\\n",
    "        (added_player_9cat_averages)\n",
    "    new_team_9cat_average_stats_dataframe.reset_index(inplace=True, drop=True)\n",
    "\n",
    "    new_team_9cat_average_stats_dataframe = format_roster_dataframe \\\n",
    "        (new_team_9cat_average_stats_dataframe)\n",
    "\n",
    "    new_team_9cat_average_stats = pd.DataFrame(new_team_9cat_average_stats_dataframe\n",
    "                                                   .loc[MEAN_ROW]).T.drop(PLAYER_COLUMN, axis=1)\n",
    "\n",
    "    return team_players_9cat_stats_dataframe, current_team_9cat_average_stats, \\\n",
    "           new_team_9cat_average_stats_dataframe, new_team_9cat_average_stats\n",
    "\n",
    "\n",
    "# Format and find 9cat differences\n",
    "def remove_player_and_float_convert(dataframe):\n",
    "\n",
    "    for column in dataframe.columns:\n",
    "        dataframe[column] = dataframe[column].astype(float)\n",
    "\n",
    "    return dataframe\n",
    "\n",
    "\n",
    "def drop_add_mean_9cat_difference(current_9cat, new_9cat):\n",
    "\n",
    "    current_9cat = remove_player_and_float_convert(current_9cat)\n",
    "    new_9cat = remove_player_and_float_convert(new_9cat)\n",
    "\n",
    "    difference_9cat = new_9cat.subtract(current_9cat)\n",
    "\n",
    "    return difference_9cat\n",
    "\n",
    "\n",
    "# Visualise current, new and difference\n",
    "def visualise_team_9cat_averages(player_to_drop, player_to_add, current_9cat, new_9cat,\n",
    "                                 difference_9cat, visualise=True):\n",
    "    if visualise:\n",
    "        print(f\"You are dropping {player_to_drop} and adding {player_to_add}! \\n\")\n",
    "\n",
    "        print(\"The current team 9cat averages are:\\n\")\n",
    "        print(current_9cat)\n",
    "        print(\"\\n\")\n",
    "\n",
    "        print(\"The new team 9cat averages are:\\n\")\n",
    "        print(new_9cat)\n",
    "        print(\"\\n\")\n",
    "\n",
    "        print(\"The difference 9cat averages are:\\n\")\n",
    "        print(difference_9cat)\n",
    "        print(\"\\n\")\n",
    "    else:\n",
    "        pass\n",
    "\n",
    "\n",
    "# Function for the entire process\n",
    "def compare_team_9cats_on_transaction(team, player_to_drop, player_to_add, visualise=True):\n",
    "\n",
    "    current_players_9cat_averages, current_team_9cat_averages, new_players_9cat_averages, \\\n",
    "    new_team_9cat_averages = waiver_add_and_drop(team, player_to_drop, player_to_add)\n",
    "\n",
    "    difference_team_9cat_averages = drop_add_mean_9cat_difference(current_team_9cat_averages,\n",
    "                                                  new_team_9cat_averages)\n",
    "\n",
    "    visualise_team_9cat_averages(player_to_drop, player_to_add, current_team_9cat_averages,\n",
    "                             new_team_9cat_averages, difference_team_9cat_averages, visualise)\n",
    "\n",
    "    return current_players_9cat_averages, current_team_9cat_averages, new_players_9cat_averages, \\\n",
    "           new_team_9cat_averages"
   ],
   "metadata": {
    "collapsed": false,
    "pycharm": {
     "name": "#%%\n"
    }
   }
  },
  {
   "cell_type": "markdown",
   "source": [
    "## Power Rankings\n",
    "This section will calculate the power rankings for the league or a single team. It will take a\n",
    "dataframe containing 9cat columns and rows of either players or team. It will sort each column to\n",
    " identify which rows have the highest/lowest values and return a dataframe with the columns\n",
    " replaced by the original dataframes sorted indexes. This is done to quickly identify what\n",
    " columns a team is good or bad at."
   ],
   "metadata": {
    "collapsed": false,
    "pycharm": {
     "name": "#%% md\n"
    }
   }
  },
  {
   "cell_type": "code",
   "execution_count": 40,
   "outputs": [
    {
     "name": "stderr",
     "output_type": "stream",
     "text": [
      "[2021-01-27 22:23:14,758 DEBUG] [yahoo_oauth.oauth.__init__] Checking \n",
      "[2021-01-27 22:23:14,761 DEBUG] [yahoo_oauth.oauth.token_is_valid] ELAPSED TIME : 2156.964426279068\n",
      "[2021-01-27 22:23:14,762 DEBUG] [yahoo_oauth.oauth.token_is_valid] TOKEN IS STILL VALID\n"
     ]
    },
    {
     "data": {
      "text/plain": "                 PLAYER FG_PCT FT_PCT  FG3M    PTS    REB   AST   STL   BLK  \\\n0         Fred VanVleet  0.411  0.848  3.24  19.41   4.47  6.35  1.47  0.53   \n1     Tyrese Haliburton  0.504  0.818  2.21  11.43   3.00  4.86  1.21  0.71   \n2          LeBron James  0.497  0.713  2.72  25.17   7.94  7.39  0.94  0.44   \n3       P.J. Washington  0.426  0.741  1.06  12.24   6.65  2.88  0.94  1.35   \n4      Bojan Bogdanovic  0.368  0.822  2.47  13.35   3.76  2.06  0.41  0.06   \n5         Mikal Bridges  0.510  0.816  2.60  15.07   5.80  1.80  0.60  1.13   \n6        Nikola Vucevic  0.487  0.816  2.78  23.50  11.06  3.67  1.22  0.50   \n7           Cody Zeller  0.450  0.727  0.00   6.50   5.25  1.25  0.75  0.50   \n8         Luguentz Dort  0.468  0.758  2.19  12.75   3.62  1.19  1.00  0.31   \n9         Malik Beasley  0.446  0.907  2.75  19.56   4.88  2.31  0.69  0.25   \n10        Kevin Huerter  0.425  0.846  2.06  11.76   3.71  3.41  1.24  0.12   \n11           Alec Burks  0.403  0.811  2.43  15.57   4.57  2.29  1.00  0.57   \n12        Kawhi Leonard  0.505  0.900  2.07  25.93   5.40  5.73  2.00  0.67   \n13        Julius Randle  0.468  0.814  1.37  22.47  11.26  6.00  0.74  0.16   \n14           Lonzo Ball  0.389  0.583  2.08  12.00   3.75  4.67  1.25  0.58   \nmean                NaN  0.450  0.795  2.14  16.45   5.67  3.72  1.03  0.53   \n\n       TOV  \n0     1.76  \n1     1.50  \n2     3.67  \n3     2.12  \n4     1.53  \n5     0.53  \n6     1.50  \n7     0.75  \n8     1.19  \n9     1.38  \n10    1.24  \n11    1.71  \n12    1.80  \n13    3.42  \n14    2.50  \nmean  1.77  ",
      "text/html": "<div>\n<style scoped>\n    .dataframe tbody tr th:only-of-type {\n        vertical-align: middle;\n    }\n\n    .dataframe tbody tr th {\n        vertical-align: top;\n    }\n\n    .dataframe thead th {\n        text-align: right;\n    }\n</style>\n<table border=\"1\" class=\"dataframe\">\n  <thead>\n    <tr style=\"text-align: right;\">\n      <th></th>\n      <th>PLAYER</th>\n      <th>FG_PCT</th>\n      <th>FT_PCT</th>\n      <th>FG3M</th>\n      <th>PTS</th>\n      <th>REB</th>\n      <th>AST</th>\n      <th>STL</th>\n      <th>BLK</th>\n      <th>TOV</th>\n    </tr>\n  </thead>\n  <tbody>\n    <tr>\n      <th>0</th>\n      <td>Fred VanVleet</td>\n      <td>0.411</td>\n      <td>0.848</td>\n      <td>3.24</td>\n      <td>19.41</td>\n      <td>4.47</td>\n      <td>6.35</td>\n      <td>1.47</td>\n      <td>0.53</td>\n      <td>1.76</td>\n    </tr>\n    <tr>\n      <th>1</th>\n      <td>Tyrese Haliburton</td>\n      <td>0.504</td>\n      <td>0.818</td>\n      <td>2.21</td>\n      <td>11.43</td>\n      <td>3.00</td>\n      <td>4.86</td>\n      <td>1.21</td>\n      <td>0.71</td>\n      <td>1.50</td>\n    </tr>\n    <tr>\n      <th>2</th>\n      <td>LeBron James</td>\n      <td>0.497</td>\n      <td>0.713</td>\n      <td>2.72</td>\n      <td>25.17</td>\n      <td>7.94</td>\n      <td>7.39</td>\n      <td>0.94</td>\n      <td>0.44</td>\n      <td>3.67</td>\n    </tr>\n    <tr>\n      <th>3</th>\n      <td>P.J. Washington</td>\n      <td>0.426</td>\n      <td>0.741</td>\n      <td>1.06</td>\n      <td>12.24</td>\n      <td>6.65</td>\n      <td>2.88</td>\n      <td>0.94</td>\n      <td>1.35</td>\n      <td>2.12</td>\n    </tr>\n    <tr>\n      <th>4</th>\n      <td>Bojan Bogdanovic</td>\n      <td>0.368</td>\n      <td>0.822</td>\n      <td>2.47</td>\n      <td>13.35</td>\n      <td>3.76</td>\n      <td>2.06</td>\n      <td>0.41</td>\n      <td>0.06</td>\n      <td>1.53</td>\n    </tr>\n    <tr>\n      <th>5</th>\n      <td>Mikal Bridges</td>\n      <td>0.510</td>\n      <td>0.816</td>\n      <td>2.60</td>\n      <td>15.07</td>\n      <td>5.80</td>\n      <td>1.80</td>\n      <td>0.60</td>\n      <td>1.13</td>\n      <td>0.53</td>\n    </tr>\n    <tr>\n      <th>6</th>\n      <td>Nikola Vucevic</td>\n      <td>0.487</td>\n      <td>0.816</td>\n      <td>2.78</td>\n      <td>23.50</td>\n      <td>11.06</td>\n      <td>3.67</td>\n      <td>1.22</td>\n      <td>0.50</td>\n      <td>1.50</td>\n    </tr>\n    <tr>\n      <th>7</th>\n      <td>Cody Zeller</td>\n      <td>0.450</td>\n      <td>0.727</td>\n      <td>0.00</td>\n      <td>6.50</td>\n      <td>5.25</td>\n      <td>1.25</td>\n      <td>0.75</td>\n      <td>0.50</td>\n      <td>0.75</td>\n    </tr>\n    <tr>\n      <th>8</th>\n      <td>Luguentz Dort</td>\n      <td>0.468</td>\n      <td>0.758</td>\n      <td>2.19</td>\n      <td>12.75</td>\n      <td>3.62</td>\n      <td>1.19</td>\n      <td>1.00</td>\n      <td>0.31</td>\n      <td>1.19</td>\n    </tr>\n    <tr>\n      <th>9</th>\n      <td>Malik Beasley</td>\n      <td>0.446</td>\n      <td>0.907</td>\n      <td>2.75</td>\n      <td>19.56</td>\n      <td>4.88</td>\n      <td>2.31</td>\n      <td>0.69</td>\n      <td>0.25</td>\n      <td>1.38</td>\n    </tr>\n    <tr>\n      <th>10</th>\n      <td>Kevin Huerter</td>\n      <td>0.425</td>\n      <td>0.846</td>\n      <td>2.06</td>\n      <td>11.76</td>\n      <td>3.71</td>\n      <td>3.41</td>\n      <td>1.24</td>\n      <td>0.12</td>\n      <td>1.24</td>\n    </tr>\n    <tr>\n      <th>11</th>\n      <td>Alec Burks</td>\n      <td>0.403</td>\n      <td>0.811</td>\n      <td>2.43</td>\n      <td>15.57</td>\n      <td>4.57</td>\n      <td>2.29</td>\n      <td>1.00</td>\n      <td>0.57</td>\n      <td>1.71</td>\n    </tr>\n    <tr>\n      <th>12</th>\n      <td>Kawhi Leonard</td>\n      <td>0.505</td>\n      <td>0.900</td>\n      <td>2.07</td>\n      <td>25.93</td>\n      <td>5.40</td>\n      <td>5.73</td>\n      <td>2.00</td>\n      <td>0.67</td>\n      <td>1.80</td>\n    </tr>\n    <tr>\n      <th>13</th>\n      <td>Julius Randle</td>\n      <td>0.468</td>\n      <td>0.814</td>\n      <td>1.37</td>\n      <td>22.47</td>\n      <td>11.26</td>\n      <td>6.00</td>\n      <td>0.74</td>\n      <td>0.16</td>\n      <td>3.42</td>\n    </tr>\n    <tr>\n      <th>14</th>\n      <td>Lonzo Ball</td>\n      <td>0.389</td>\n      <td>0.583</td>\n      <td>2.08</td>\n      <td>12.00</td>\n      <td>3.75</td>\n      <td>4.67</td>\n      <td>1.25</td>\n      <td>0.58</td>\n      <td>2.50</td>\n    </tr>\n    <tr>\n      <th>mean</th>\n      <td>NaN</td>\n      <td>0.450</td>\n      <td>0.795</td>\n      <td>2.14</td>\n      <td>16.45</td>\n      <td>5.67</td>\n      <td>3.72</td>\n      <td>1.03</td>\n      <td>0.53</td>\n      <td>1.77</td>\n    </tr>\n  </tbody>\n</table>\n</div>"
     },
     "execution_count": 40,
     "metadata": {},
     "output_type": "execute_result"
    }
   ],
   "source": [
    "# Single team average\n",
    "sc = yahoo_fantasy_api_authentication()\n",
    "league = yahoo_fantasy_league(sc)\n",
    "nunn_yall_betta_team_avg = team_9cat_average_stats(NUNN_OF_YALL_BETTA, league)\n",
    "nunn_yall_betta_team_avg"
   ],
   "metadata": {
    "collapsed": false,
    "pycharm": {
     "name": "#%%\n"
    }
   }
  },
  {
   "cell_type": "code",
   "execution_count": 35,
   "outputs": [],
   "source": [
    "# Function power ranking\n",
    "RANK_SUFFIX =\"_RANK\"\n",
    "\n",
    "def power_rankings(dataframe):\n",
    "\n",
    "    power_ranking_dataframe =  dataframe.copy()\n",
    "    try:\n",
    "        power_ranking_dataframe.drop(MEAN_ROW, inplace=True)\n",
    "    except KeyError:\n",
    "        pass\n",
    "    for column in power_ranking_dataframe.columns[1:]:\n",
    "\n",
    "        sorted_points = power_ranking_dataframe[column].sort_values(ascending=False)\n",
    "        sorted_points.drop_duplicates(inplace=True)\n",
    "\n",
    "        sorting_dictionary = dict()\n",
    "\n",
    "        count = 1\n",
    "        for point in sorted_points:\n",
    "            sorting_dictionary[point] = count\n",
    "            count += 1\n",
    "\n",
    "        power_ranking_dataframe[column + RANK_SUFFIX] = power_ranking_dataframe[column].map\\\n",
    "            (sorting_dictionary)\n",
    "\n",
    "    power_ranking_dataframe.drop(dataframe.columns[1:], axis=1, inplace=True)\n",
    "\n",
    "    return power_ranking_dataframe"
   ],
   "metadata": {
    "collapsed": false,
    "pycharm": {
     "name": "#%%\n"
    }
   }
  },
  {
   "cell_type": "code",
   "execution_count": 43,
   "outputs": [
    {
     "data": {
      "text/plain": "               PLAYER  FG_PCT_RANK  FT_PCT_RANK  FG3M_RANK  PTS_RANK  \\\n0       Fred VanVleet           11            3          1         7   \n1   Tyrese Haliburton            3            6          8        15   \n2        LeBron James            4           13          4         3   \n3     P.J. Washington            9           11         14        12   \n4    Bojan Bogdanovic           14            5          6        10   \n5       Mikal Bridges            1            7          5         9   \n6      Nikola Vucevic            5            7          2         4   \n7         Cody Zeller            7           12         15         1   \n8       Luguentz Dort            6           10          9        11   \n9       Malik Beasley            8            1          3         6   \n10      Kevin Huerter           10            4         12        14   \n11         Alec Burks           12            9          7         8   \n12      Kawhi Leonard            2            2         11         2   \n13      Julius Randle            6            8         13         5   \n14         Lonzo Ball           13           14         10        13   \n\n    REB_RANK  AST_RANK  STL_RANK  BLK_RANK  TOV_RANK  \n0          8         2         2         7         6  \n1         13         5         6         3         9  \n2          1         1         8         9         1  \n3          2         9         8         1         4  \n4          9        12        13        14         8  \n5          3        13        12         2        14  \n6         15         7         5         8         9  \n7          5        14         9         8        13  \n8         12        15         7        10        12  \n9          6        10        11        11        10  \n10        11         8         4        13        11  \n11         7        11         7         6         7  \n12         4         4         1         4         5  \n13        14         3        10        12         2  \n14        10         6         3         5         3  ",
      "text/html": "<div>\n<style scoped>\n    .dataframe tbody tr th:only-of-type {\n        vertical-align: middle;\n    }\n\n    .dataframe tbody tr th {\n        vertical-align: top;\n    }\n\n    .dataframe thead th {\n        text-align: right;\n    }\n</style>\n<table border=\"1\" class=\"dataframe\">\n  <thead>\n    <tr style=\"text-align: right;\">\n      <th></th>\n      <th>PLAYER</th>\n      <th>FG_PCT_RANK</th>\n      <th>FT_PCT_RANK</th>\n      <th>FG3M_RANK</th>\n      <th>PTS_RANK</th>\n      <th>REB_RANK</th>\n      <th>AST_RANK</th>\n      <th>STL_RANK</th>\n      <th>BLK_RANK</th>\n      <th>TOV_RANK</th>\n    </tr>\n  </thead>\n  <tbody>\n    <tr>\n      <th>0</th>\n      <td>Fred VanVleet</td>\n      <td>11</td>\n      <td>3</td>\n      <td>1</td>\n      <td>7</td>\n      <td>8</td>\n      <td>2</td>\n      <td>2</td>\n      <td>7</td>\n      <td>6</td>\n    </tr>\n    <tr>\n      <th>1</th>\n      <td>Tyrese Haliburton</td>\n      <td>3</td>\n      <td>6</td>\n      <td>8</td>\n      <td>15</td>\n      <td>13</td>\n      <td>5</td>\n      <td>6</td>\n      <td>3</td>\n      <td>9</td>\n    </tr>\n    <tr>\n      <th>2</th>\n      <td>LeBron James</td>\n      <td>4</td>\n      <td>13</td>\n      <td>4</td>\n      <td>3</td>\n      <td>1</td>\n      <td>1</td>\n      <td>8</td>\n      <td>9</td>\n      <td>1</td>\n    </tr>\n    <tr>\n      <th>3</th>\n      <td>P.J. Washington</td>\n      <td>9</td>\n      <td>11</td>\n      <td>14</td>\n      <td>12</td>\n      <td>2</td>\n      <td>9</td>\n      <td>8</td>\n      <td>1</td>\n      <td>4</td>\n    </tr>\n    <tr>\n      <th>4</th>\n      <td>Bojan Bogdanovic</td>\n      <td>14</td>\n      <td>5</td>\n      <td>6</td>\n      <td>10</td>\n      <td>9</td>\n      <td>12</td>\n      <td>13</td>\n      <td>14</td>\n      <td>8</td>\n    </tr>\n    <tr>\n      <th>5</th>\n      <td>Mikal Bridges</td>\n      <td>1</td>\n      <td>7</td>\n      <td>5</td>\n      <td>9</td>\n      <td>3</td>\n      <td>13</td>\n      <td>12</td>\n      <td>2</td>\n      <td>14</td>\n    </tr>\n    <tr>\n      <th>6</th>\n      <td>Nikola Vucevic</td>\n      <td>5</td>\n      <td>7</td>\n      <td>2</td>\n      <td>4</td>\n      <td>15</td>\n      <td>7</td>\n      <td>5</td>\n      <td>8</td>\n      <td>9</td>\n    </tr>\n    <tr>\n      <th>7</th>\n      <td>Cody Zeller</td>\n      <td>7</td>\n      <td>12</td>\n      <td>15</td>\n      <td>1</td>\n      <td>5</td>\n      <td>14</td>\n      <td>9</td>\n      <td>8</td>\n      <td>13</td>\n    </tr>\n    <tr>\n      <th>8</th>\n      <td>Luguentz Dort</td>\n      <td>6</td>\n      <td>10</td>\n      <td>9</td>\n      <td>11</td>\n      <td>12</td>\n      <td>15</td>\n      <td>7</td>\n      <td>10</td>\n      <td>12</td>\n    </tr>\n    <tr>\n      <th>9</th>\n      <td>Malik Beasley</td>\n      <td>8</td>\n      <td>1</td>\n      <td>3</td>\n      <td>6</td>\n      <td>6</td>\n      <td>10</td>\n      <td>11</td>\n      <td>11</td>\n      <td>10</td>\n    </tr>\n    <tr>\n      <th>10</th>\n      <td>Kevin Huerter</td>\n      <td>10</td>\n      <td>4</td>\n      <td>12</td>\n      <td>14</td>\n      <td>11</td>\n      <td>8</td>\n      <td>4</td>\n      <td>13</td>\n      <td>11</td>\n    </tr>\n    <tr>\n      <th>11</th>\n      <td>Alec Burks</td>\n      <td>12</td>\n      <td>9</td>\n      <td>7</td>\n      <td>8</td>\n      <td>7</td>\n      <td>11</td>\n      <td>7</td>\n      <td>6</td>\n      <td>7</td>\n    </tr>\n    <tr>\n      <th>12</th>\n      <td>Kawhi Leonard</td>\n      <td>2</td>\n      <td>2</td>\n      <td>11</td>\n      <td>2</td>\n      <td>4</td>\n      <td>4</td>\n      <td>1</td>\n      <td>4</td>\n      <td>5</td>\n    </tr>\n    <tr>\n      <th>13</th>\n      <td>Julius Randle</td>\n      <td>6</td>\n      <td>8</td>\n      <td>13</td>\n      <td>5</td>\n      <td>14</td>\n      <td>3</td>\n      <td>10</td>\n      <td>12</td>\n      <td>2</td>\n    </tr>\n    <tr>\n      <th>14</th>\n      <td>Lonzo Ball</td>\n      <td>13</td>\n      <td>14</td>\n      <td>10</td>\n      <td>13</td>\n      <td>10</td>\n      <td>6</td>\n      <td>3</td>\n      <td>5</td>\n      <td>3</td>\n    </tr>\n  </tbody>\n</table>\n</div>"
     },
     "execution_count": 43,
     "metadata": {},
     "output_type": "execute_result"
    }
   ],
   "source": [
    "power_rankings(nunn_yall_betta_team_avg)\n"
   ],
   "metadata": {
    "collapsed": false,
    "pycharm": {
     "name": "#%%\n"
    }
   }
  },
  {
   "cell_type": "code",
   "execution_count": 55,
   "outputs": [
    {
     "data": {
      "text/plain": "                   TEAM FG_PCT FT_PCT  FG3M    PTS   REB   AST   STL   BLK  \\\n0              LaLaLand  0.455  0.765  1.52  15.95  5.90  3.79  0.84  0.56   \n1              Autopick  0.494  0.792  1.65  16.47  5.72  3.29  0.88  0.51   \n2   CrabbeHerByThePussy  0.492  0.820  1.48  14.03  6.16  3.10  0.93  0.94   \n3       Magic's Johnson  0.454  0.793  2.16  16.54  5.67  3.75  1.04  0.53   \n4               McCurry  0.489  0.734  0.85  13.96  6.65  3.54  1.07  0.78   \n5   Nunn of Y'all Betta  0.473  0.828  1.74  15.57  5.42  3.79  1.04  0.43   \n6     Russty Cuntbrooks  0.474  0.770  1.62  17.00  5.85  3.02  1.00  0.85   \n7       Wakanda Forever  0.448  0.733  1.79  15.21  5.57  3.25  0.94  0.57   \n8              Swaggy P  0.464  0.735  1.89  14.71  4.94  2.97  0.81  0.61   \n9     yOBItch Toppin Me  0.492  0.789  1.76  15.83  4.80  3.35  0.94  0.54   \n10  Tvon's Tip-Top Team  0.469  0.751  1.32  13.68  5.59  3.23  0.80  0.91   \n11  El Ladrón de Cabras  0.505  0.751  1.60  14.22  5.49  3.11  0.86  0.64   \n\n     TOV  \n0   2.26  \n1   1.86  \n2   1.56  \n3   1.79  \n4   1.86  \n5   1.70  \n6   1.96  \n7   1.66  \n8   1.95  \n9   2.06  \n10  1.93  \n11  1.74  ",
      "text/html": "<div>\n<style scoped>\n    .dataframe tbody tr th:only-of-type {\n        vertical-align: middle;\n    }\n\n    .dataframe tbody tr th {\n        vertical-align: top;\n    }\n\n    .dataframe thead th {\n        text-align: right;\n    }\n</style>\n<table border=\"1\" class=\"dataframe\">\n  <thead>\n    <tr style=\"text-align: right;\">\n      <th></th>\n      <th>TEAM</th>\n      <th>FG_PCT</th>\n      <th>FT_PCT</th>\n      <th>FG3M</th>\n      <th>PTS</th>\n      <th>REB</th>\n      <th>AST</th>\n      <th>STL</th>\n      <th>BLK</th>\n      <th>TOV</th>\n    </tr>\n  </thead>\n  <tbody>\n    <tr>\n      <th>0</th>\n      <td>LaLaLand</td>\n      <td>0.455</td>\n      <td>0.765</td>\n      <td>1.52</td>\n      <td>15.95</td>\n      <td>5.90</td>\n      <td>3.79</td>\n      <td>0.84</td>\n      <td>0.56</td>\n      <td>2.26</td>\n    </tr>\n    <tr>\n      <th>1</th>\n      <td>Autopick</td>\n      <td>0.494</td>\n      <td>0.792</td>\n      <td>1.65</td>\n      <td>16.47</td>\n      <td>5.72</td>\n      <td>3.29</td>\n      <td>0.88</td>\n      <td>0.51</td>\n      <td>1.86</td>\n    </tr>\n    <tr>\n      <th>2</th>\n      <td>CrabbeHerByThePussy</td>\n      <td>0.492</td>\n      <td>0.820</td>\n      <td>1.48</td>\n      <td>14.03</td>\n      <td>6.16</td>\n      <td>3.10</td>\n      <td>0.93</td>\n      <td>0.94</td>\n      <td>1.56</td>\n    </tr>\n    <tr>\n      <th>3</th>\n      <td>Magic's Johnson</td>\n      <td>0.454</td>\n      <td>0.793</td>\n      <td>2.16</td>\n      <td>16.54</td>\n      <td>5.67</td>\n      <td>3.75</td>\n      <td>1.04</td>\n      <td>0.53</td>\n      <td>1.79</td>\n    </tr>\n    <tr>\n      <th>4</th>\n      <td>McCurry</td>\n      <td>0.489</td>\n      <td>0.734</td>\n      <td>0.85</td>\n      <td>13.96</td>\n      <td>6.65</td>\n      <td>3.54</td>\n      <td>1.07</td>\n      <td>0.78</td>\n      <td>1.86</td>\n    </tr>\n    <tr>\n      <th>5</th>\n      <td>Nunn of Y'all Betta</td>\n      <td>0.473</td>\n      <td>0.828</td>\n      <td>1.74</td>\n      <td>15.57</td>\n      <td>5.42</td>\n      <td>3.79</td>\n      <td>1.04</td>\n      <td>0.43</td>\n      <td>1.70</td>\n    </tr>\n    <tr>\n      <th>6</th>\n      <td>Russty Cuntbrooks</td>\n      <td>0.474</td>\n      <td>0.770</td>\n      <td>1.62</td>\n      <td>17.00</td>\n      <td>5.85</td>\n      <td>3.02</td>\n      <td>1.00</td>\n      <td>0.85</td>\n      <td>1.96</td>\n    </tr>\n    <tr>\n      <th>7</th>\n      <td>Wakanda Forever</td>\n      <td>0.448</td>\n      <td>0.733</td>\n      <td>1.79</td>\n      <td>15.21</td>\n      <td>5.57</td>\n      <td>3.25</td>\n      <td>0.94</td>\n      <td>0.57</td>\n      <td>1.66</td>\n    </tr>\n    <tr>\n      <th>8</th>\n      <td>Swaggy P</td>\n      <td>0.464</td>\n      <td>0.735</td>\n      <td>1.89</td>\n      <td>14.71</td>\n      <td>4.94</td>\n      <td>2.97</td>\n      <td>0.81</td>\n      <td>0.61</td>\n      <td>1.95</td>\n    </tr>\n    <tr>\n      <th>9</th>\n      <td>yOBItch Toppin Me</td>\n      <td>0.492</td>\n      <td>0.789</td>\n      <td>1.76</td>\n      <td>15.83</td>\n      <td>4.80</td>\n      <td>3.35</td>\n      <td>0.94</td>\n      <td>0.54</td>\n      <td>2.06</td>\n    </tr>\n    <tr>\n      <th>10</th>\n      <td>Tvon's Tip-Top Team</td>\n      <td>0.469</td>\n      <td>0.751</td>\n      <td>1.32</td>\n      <td>13.68</td>\n      <td>5.59</td>\n      <td>3.23</td>\n      <td>0.80</td>\n      <td>0.91</td>\n      <td>1.93</td>\n    </tr>\n    <tr>\n      <th>11</th>\n      <td>El Ladrón de Cabras</td>\n      <td>0.505</td>\n      <td>0.751</td>\n      <td>1.60</td>\n      <td>14.22</td>\n      <td>5.49</td>\n      <td>3.11</td>\n      <td>0.86</td>\n      <td>0.64</td>\n      <td>1.74</td>\n    </tr>\n  </tbody>\n</table>\n</div>"
     },
     "execution_count": 55,
     "metadata": {},
     "output_type": "execute_result"
    }
   ],
   "source": [
    "%%time\n",
    "# League average\n",
    "sc = yahoo_fantasy_api_authentication()\n",
    "league = yahoo_fantasy_league(sc)\n",
    "league_averages_dataframe = league_averages(league_team_list)\n",
    "league_averages_dataframe"
   ],
   "metadata": {
    "collapsed": false,
    "pycharm": {
     "name": "#%%\n"
    }
   }
  },
  {
   "cell_type": "code",
   "execution_count": 48,
   "outputs": [
    {
     "name": "stderr",
     "output_type": "stream",
     "text": [
      "[2021-01-28 22:30:47,552 DEBUG] [yahoo_oauth.oauth.__init__] Checking \n",
      "[2021-01-28 22:30:47,553 DEBUG] [yahoo_oauth.oauth.token_is_valid] ELAPSED TIME : 3809.5127120018005\n",
      "[2021-01-28 22:30:47,554 DEBUG] [yahoo_oauth.oauth.token_is_valid] TOKEN HAS EXPIRED\n",
      "[2021-01-28 22:30:47,555 DEBUG] [yahoo_oauth.oauth.refresh_access_token] REFRESHING TOKEN\n"
     ]
    }
   ],
   "source": [
    "# Add/Drop player\n",
    "sc = yahoo_fantasy_api_authentication()\n",
    "league = yahoo_fantasy_league(sc)\n",
    "current_players_9cat_averages, current_team_9cat_averages, new_players_9cat_averages, \\\n",
    "    new_team_9cat_averages = compare_team_9cats_on_transaction(NUNN_OF_YALL_BETTA, \"Will Barton\",\n",
    "                                                           \"James Harden\", visualise=False)"
   ],
   "metadata": {
    "collapsed": false,
    "pycharm": {
     "name": "#%%\n"
    }
   }
  },
  {
   "cell_type": "code",
   "execution_count": 83,
   "outputs": [],
   "source": [
    "def new_league_9cat_averages(league_average_dataframe, team, new_team_9cat_averages):\n",
    "\n",
    "    removed_team_dataframe = league_average_dataframe[~league_average_dataframe[TEAM_COLUMN].str\\\n",
    "        .contains(team[NAME_KEY])]\n",
    "\n",
    "    new_team_9cat_averages[TEAM_COLUMN] = team[NAME_KEY]\n",
    "    added_team_dataframe = removed_team_dataframe.append(new_team_9cat_averages)\n",
    "    added_team_dataframe.reset_index(drop=True, inplace=True)\n",
    "\n",
    "    return added_team_dataframe\n"
   ],
   "metadata": {
    "collapsed": false,
    "pycharm": {
     "name": "#%%\n"
    }
   }
  },
  {
   "cell_type": "code",
   "execution_count": 84,
   "outputs": [
    {
     "data": {
      "text/plain": "                   TEAM FG_PCT FT_PCT  FG3M    PTS   REB   AST   STL   BLK  \\\n0              LaLaLand  0.461  0.761  1.57  16.22  5.88  3.76  0.83  0.55   \n1              Autopick  0.489  0.796  1.62  16.25  5.69  3.29  0.88  0.52   \n2   CrabbeHerByThePussy  0.491  0.816  1.47  14.02  6.13  3.08  0.91  0.94   \n3       Magic's Johnson  0.448  0.796  2.12  16.45  5.75  3.77  1.02  0.52   \n4               McCurry  0.493  0.730  0.87  14.09  6.72  3.56  1.09  0.78   \n5     Russty Cuntbrooks  0.474  0.776  1.62  17.19  5.83  3.05  1.01  0.86   \n6       Wakanda Forever  0.450  0.723  1.78  15.17  5.41  3.16  0.92  0.57   \n7              Swaggy P  0.463  0.742  1.93  14.75  4.95  3.01  0.83  0.60   \n8     yOBItch Toppin Me  0.488  0.784  1.73  15.71  4.79  3.34  1.00  0.52   \n9   Tvon's Tip-Top Team  0.468  0.761  1.35  13.73  5.55  3.23  0.81  0.93   \n10  El Ladrón de Cabras  0.509  0.748  1.61  14.41  5.57  3.10  0.84  0.65   \n11  Nunn of Y'all Betta  0.472  0.839  2.07  16.32  5.22  4.24  1.01   0.4   \n\n     TOV  \n0   2.27  \n1   1.86  \n2   1.59  \n3   1.75  \n4   1.88  \n5   1.97  \n6   1.65  \n7   1.92  \n8   2.06  \n9   1.94  \n10  1.76  \n11  1.84  ",
      "text/html": "<div>\n<style scoped>\n    .dataframe tbody tr th:only-of-type {\n        vertical-align: middle;\n    }\n\n    .dataframe tbody tr th {\n        vertical-align: top;\n    }\n\n    .dataframe thead th {\n        text-align: right;\n    }\n</style>\n<table border=\"1\" class=\"dataframe\">\n  <thead>\n    <tr style=\"text-align: right;\">\n      <th></th>\n      <th>TEAM</th>\n      <th>FG_PCT</th>\n      <th>FT_PCT</th>\n      <th>FG3M</th>\n      <th>PTS</th>\n      <th>REB</th>\n      <th>AST</th>\n      <th>STL</th>\n      <th>BLK</th>\n      <th>TOV</th>\n    </tr>\n  </thead>\n  <tbody>\n    <tr>\n      <th>0</th>\n      <td>LaLaLand</td>\n      <td>0.461</td>\n      <td>0.761</td>\n      <td>1.57</td>\n      <td>16.22</td>\n      <td>5.88</td>\n      <td>3.76</td>\n      <td>0.83</td>\n      <td>0.55</td>\n      <td>2.27</td>\n    </tr>\n    <tr>\n      <th>1</th>\n      <td>Autopick</td>\n      <td>0.489</td>\n      <td>0.796</td>\n      <td>1.62</td>\n      <td>16.25</td>\n      <td>5.69</td>\n      <td>3.29</td>\n      <td>0.88</td>\n      <td>0.52</td>\n      <td>1.86</td>\n    </tr>\n    <tr>\n      <th>2</th>\n      <td>CrabbeHerByThePussy</td>\n      <td>0.491</td>\n      <td>0.816</td>\n      <td>1.47</td>\n      <td>14.02</td>\n      <td>6.13</td>\n      <td>3.08</td>\n      <td>0.91</td>\n      <td>0.94</td>\n      <td>1.59</td>\n    </tr>\n    <tr>\n      <th>3</th>\n      <td>Magic's Johnson</td>\n      <td>0.448</td>\n      <td>0.796</td>\n      <td>2.12</td>\n      <td>16.45</td>\n      <td>5.75</td>\n      <td>3.77</td>\n      <td>1.02</td>\n      <td>0.52</td>\n      <td>1.75</td>\n    </tr>\n    <tr>\n      <th>4</th>\n      <td>McCurry</td>\n      <td>0.493</td>\n      <td>0.730</td>\n      <td>0.87</td>\n      <td>14.09</td>\n      <td>6.72</td>\n      <td>3.56</td>\n      <td>1.09</td>\n      <td>0.78</td>\n      <td>1.88</td>\n    </tr>\n    <tr>\n      <th>5</th>\n      <td>Russty Cuntbrooks</td>\n      <td>0.474</td>\n      <td>0.776</td>\n      <td>1.62</td>\n      <td>17.19</td>\n      <td>5.83</td>\n      <td>3.05</td>\n      <td>1.01</td>\n      <td>0.86</td>\n      <td>1.97</td>\n    </tr>\n    <tr>\n      <th>6</th>\n      <td>Wakanda Forever</td>\n      <td>0.450</td>\n      <td>0.723</td>\n      <td>1.78</td>\n      <td>15.17</td>\n      <td>5.41</td>\n      <td>3.16</td>\n      <td>0.92</td>\n      <td>0.57</td>\n      <td>1.65</td>\n    </tr>\n    <tr>\n      <th>7</th>\n      <td>Swaggy P</td>\n      <td>0.463</td>\n      <td>0.742</td>\n      <td>1.93</td>\n      <td>14.75</td>\n      <td>4.95</td>\n      <td>3.01</td>\n      <td>0.83</td>\n      <td>0.60</td>\n      <td>1.92</td>\n    </tr>\n    <tr>\n      <th>8</th>\n      <td>yOBItch Toppin Me</td>\n      <td>0.488</td>\n      <td>0.784</td>\n      <td>1.73</td>\n      <td>15.71</td>\n      <td>4.79</td>\n      <td>3.34</td>\n      <td>1.00</td>\n      <td>0.52</td>\n      <td>2.06</td>\n    </tr>\n    <tr>\n      <th>9</th>\n      <td>Tvon's Tip-Top Team</td>\n      <td>0.468</td>\n      <td>0.761</td>\n      <td>1.35</td>\n      <td>13.73</td>\n      <td>5.55</td>\n      <td>3.23</td>\n      <td>0.81</td>\n      <td>0.93</td>\n      <td>1.94</td>\n    </tr>\n    <tr>\n      <th>10</th>\n      <td>El Ladrón de Cabras</td>\n      <td>0.509</td>\n      <td>0.748</td>\n      <td>1.61</td>\n      <td>14.41</td>\n      <td>5.57</td>\n      <td>3.10</td>\n      <td>0.84</td>\n      <td>0.65</td>\n      <td>1.76</td>\n    </tr>\n    <tr>\n      <th>11</th>\n      <td>Nunn of Y'all Betta</td>\n      <td>0.472</td>\n      <td>0.839</td>\n      <td>2.07</td>\n      <td>16.32</td>\n      <td>5.22</td>\n      <td>4.24</td>\n      <td>1.01</td>\n      <td>0.4</td>\n      <td>1.84</td>\n    </tr>\n  </tbody>\n</table>\n</div>"
     },
     "execution_count": 84,
     "metadata": {},
     "output_type": "execute_result"
    }
   ],
   "source": [
    "# New league average dataframe\n",
    "new_league_averages_dataframe = new_league_9cat_averages(league_averages_dataframe,\n",
    "                                                      NUNN_OF_YALL_BETTA, new_team_9cat_averages)\n",
    "new_league_averages_dataframe"
   ],
   "metadata": {
    "collapsed": false,
    "pycharm": {
     "name": "#%%\n"
    }
   }
  },
  {
   "cell_type": "code",
   "execution_count": 85,
   "outputs": [],
   "source": [
    "def team_dataframe_column_float(roster_dataframe):\n",
    "\n",
    "    for column in roster_dataframe.columns[1:]:\n",
    "        roster_dataframe[column] = roster_dataframe[column].astype(float)\n",
    "\n",
    "    return roster_dataframe"
   ],
   "metadata": {
    "collapsed": false,
    "pycharm": {
     "name": "#%%\n"
    }
   }
  },
  {
   "cell_type": "code",
   "execution_count": 86,
   "outputs": [
    {
     "data": {
      "text/plain": "                   TEAM  FG_PCT  FT_PCT  FG3M    PTS   REB   AST   STL   BLK  \\\n0              LaLaLand   0.461   0.761  1.57  16.22  5.88  3.76  0.83  0.55   \n1              Autopick   0.489   0.796  1.62  16.25  5.69  3.29  0.88  0.52   \n2   CrabbeHerByThePussy   0.491   0.816  1.47  14.02  6.13  3.08  0.91  0.94   \n3       Magic's Johnson   0.448   0.796  2.12  16.45  5.75  3.77  1.02  0.52   \n4               McCurry   0.493   0.730  0.87  14.09  6.72  3.56  1.09  0.78   \n5     Russty Cuntbrooks   0.474   0.776  1.62  17.19  5.83  3.05  1.01  0.86   \n6       Wakanda Forever   0.450   0.723  1.78  15.17  5.41  3.16  0.92  0.57   \n7              Swaggy P   0.463   0.742  1.93  14.75  4.95  3.01  0.83  0.60   \n8     yOBItch Toppin Me   0.488   0.784  1.73  15.71  4.79  3.34  1.00  0.52   \n9   Tvon's Tip-Top Team   0.468   0.761  1.35  13.73  5.55  3.23  0.81  0.93   \n10  El Ladrón de Cabras   0.509   0.748  1.61  14.41  5.57  3.10  0.84  0.65   \n11  Nunn of Y'all Betta   0.472   0.839  2.07  16.32  5.22  4.24  1.01  0.40   \n\n     TOV  \n0   2.27  \n1   1.86  \n2   1.59  \n3   1.75  \n4   1.88  \n5   1.97  \n6   1.65  \n7   1.92  \n8   2.06  \n9   1.94  \n10  1.76  \n11  1.84  ",
      "text/html": "<div>\n<style scoped>\n    .dataframe tbody tr th:only-of-type {\n        vertical-align: middle;\n    }\n\n    .dataframe tbody tr th {\n        vertical-align: top;\n    }\n\n    .dataframe thead th {\n        text-align: right;\n    }\n</style>\n<table border=\"1\" class=\"dataframe\">\n  <thead>\n    <tr style=\"text-align: right;\">\n      <th></th>\n      <th>TEAM</th>\n      <th>FG_PCT</th>\n      <th>FT_PCT</th>\n      <th>FG3M</th>\n      <th>PTS</th>\n      <th>REB</th>\n      <th>AST</th>\n      <th>STL</th>\n      <th>BLK</th>\n      <th>TOV</th>\n    </tr>\n  </thead>\n  <tbody>\n    <tr>\n      <th>0</th>\n      <td>LaLaLand</td>\n      <td>0.461</td>\n      <td>0.761</td>\n      <td>1.57</td>\n      <td>16.22</td>\n      <td>5.88</td>\n      <td>3.76</td>\n      <td>0.83</td>\n      <td>0.55</td>\n      <td>2.27</td>\n    </tr>\n    <tr>\n      <th>1</th>\n      <td>Autopick</td>\n      <td>0.489</td>\n      <td>0.796</td>\n      <td>1.62</td>\n      <td>16.25</td>\n      <td>5.69</td>\n      <td>3.29</td>\n      <td>0.88</td>\n      <td>0.52</td>\n      <td>1.86</td>\n    </tr>\n    <tr>\n      <th>2</th>\n      <td>CrabbeHerByThePussy</td>\n      <td>0.491</td>\n      <td>0.816</td>\n      <td>1.47</td>\n      <td>14.02</td>\n      <td>6.13</td>\n      <td>3.08</td>\n      <td>0.91</td>\n      <td>0.94</td>\n      <td>1.59</td>\n    </tr>\n    <tr>\n      <th>3</th>\n      <td>Magic's Johnson</td>\n      <td>0.448</td>\n      <td>0.796</td>\n      <td>2.12</td>\n      <td>16.45</td>\n      <td>5.75</td>\n      <td>3.77</td>\n      <td>1.02</td>\n      <td>0.52</td>\n      <td>1.75</td>\n    </tr>\n    <tr>\n      <th>4</th>\n      <td>McCurry</td>\n      <td>0.493</td>\n      <td>0.730</td>\n      <td>0.87</td>\n      <td>14.09</td>\n      <td>6.72</td>\n      <td>3.56</td>\n      <td>1.09</td>\n      <td>0.78</td>\n      <td>1.88</td>\n    </tr>\n    <tr>\n      <th>5</th>\n      <td>Russty Cuntbrooks</td>\n      <td>0.474</td>\n      <td>0.776</td>\n      <td>1.62</td>\n      <td>17.19</td>\n      <td>5.83</td>\n      <td>3.05</td>\n      <td>1.01</td>\n      <td>0.86</td>\n      <td>1.97</td>\n    </tr>\n    <tr>\n      <th>6</th>\n      <td>Wakanda Forever</td>\n      <td>0.450</td>\n      <td>0.723</td>\n      <td>1.78</td>\n      <td>15.17</td>\n      <td>5.41</td>\n      <td>3.16</td>\n      <td>0.92</td>\n      <td>0.57</td>\n      <td>1.65</td>\n    </tr>\n    <tr>\n      <th>7</th>\n      <td>Swaggy P</td>\n      <td>0.463</td>\n      <td>0.742</td>\n      <td>1.93</td>\n      <td>14.75</td>\n      <td>4.95</td>\n      <td>3.01</td>\n      <td>0.83</td>\n      <td>0.60</td>\n      <td>1.92</td>\n    </tr>\n    <tr>\n      <th>8</th>\n      <td>yOBItch Toppin Me</td>\n      <td>0.488</td>\n      <td>0.784</td>\n      <td>1.73</td>\n      <td>15.71</td>\n      <td>4.79</td>\n      <td>3.34</td>\n      <td>1.00</td>\n      <td>0.52</td>\n      <td>2.06</td>\n    </tr>\n    <tr>\n      <th>9</th>\n      <td>Tvon's Tip-Top Team</td>\n      <td>0.468</td>\n      <td>0.761</td>\n      <td>1.35</td>\n      <td>13.73</td>\n      <td>5.55</td>\n      <td>3.23</td>\n      <td>0.81</td>\n      <td>0.93</td>\n      <td>1.94</td>\n    </tr>\n    <tr>\n      <th>10</th>\n      <td>El Ladrón de Cabras</td>\n      <td>0.509</td>\n      <td>0.748</td>\n      <td>1.61</td>\n      <td>14.41</td>\n      <td>5.57</td>\n      <td>3.10</td>\n      <td>0.84</td>\n      <td>0.65</td>\n      <td>1.76</td>\n    </tr>\n    <tr>\n      <th>11</th>\n      <td>Nunn of Y'all Betta</td>\n      <td>0.472</td>\n      <td>0.839</td>\n      <td>2.07</td>\n      <td>16.32</td>\n      <td>5.22</td>\n      <td>4.24</td>\n      <td>1.01</td>\n      <td>0.40</td>\n      <td>1.84</td>\n    </tr>\n  </tbody>\n</table>\n</div>"
     },
     "execution_count": 86,
     "metadata": {},
     "output_type": "execute_result"
    }
   ],
   "source": [
    "# Convert columns to float\n",
    "new_league_averages_dataframe = team_dataframe_column_float(new_league_averages_dataframe)\n",
    "new_league_averages_dataframe"
   ],
   "metadata": {
    "collapsed": false,
    "pycharm": {
     "name": "#%%\n"
    }
   }
  },
  {
   "cell_type": "code",
   "execution_count": 87,
   "outputs": [
    {
     "data": {
      "text/plain": "                   TEAM  FG_PCT_RANK  FT_PCT_RANK  FG3M_RANK  PTS_RANK  \\\n1              Autopick            4            3          6         4   \n2   CrabbeHerByThePussy            3            2          9        11   \n10  El Ladrón de Cabras            1            7          7         9   \n0              LaLaLand           10            6          8         5   \n3       Magic's Johnson           12            3          1         2   \n4               McCurry            2            9         11        10   \n11  Nunn of Y'all Betta            7            1          2         3   \n5     Russty Cuntbrooks            6            5          6         1   \n7              Swaggy P            9            8          3         8   \n9   Tvon's Tip-Top Team            8            6         10        12   \n6       Wakanda Forever           11           10          4         7   \n8     yOBItch Toppin Me            5            4          5         6   \n\n    REB_RANK  AST_RANK  STL_RANK  BLK_RANK  TOV_RANK  \n1          6         6         7         9         7  \n2          2        10         6         1        12  \n10         7         9         8         5         9  \n0          3         3         9         8         1  \n3          5         2         2         9        10  \n4          1         4         1         4         6  \n11        10         1         3        10         8  \n5          4        11         3         3         3  \n7         11        12         9         6         5  \n9          8         7        10         2         4  \n6          9         8         5         7        11  \n8         12         5         4         9         2  ",
      "text/html": "<div>\n<style scoped>\n    .dataframe tbody tr th:only-of-type {\n        vertical-align: middle;\n    }\n\n    .dataframe tbody tr th {\n        vertical-align: top;\n    }\n\n    .dataframe thead th {\n        text-align: right;\n    }\n</style>\n<table border=\"1\" class=\"dataframe\">\n  <thead>\n    <tr style=\"text-align: right;\">\n      <th></th>\n      <th>TEAM</th>\n      <th>FG_PCT_RANK</th>\n      <th>FT_PCT_RANK</th>\n      <th>FG3M_RANK</th>\n      <th>PTS_RANK</th>\n      <th>REB_RANK</th>\n      <th>AST_RANK</th>\n      <th>STL_RANK</th>\n      <th>BLK_RANK</th>\n      <th>TOV_RANK</th>\n    </tr>\n  </thead>\n  <tbody>\n    <tr>\n      <th>1</th>\n      <td>Autopick</td>\n      <td>4</td>\n      <td>3</td>\n      <td>6</td>\n      <td>4</td>\n      <td>6</td>\n      <td>6</td>\n      <td>7</td>\n      <td>9</td>\n      <td>7</td>\n    </tr>\n    <tr>\n      <th>2</th>\n      <td>CrabbeHerByThePussy</td>\n      <td>3</td>\n      <td>2</td>\n      <td>9</td>\n      <td>11</td>\n      <td>2</td>\n      <td>10</td>\n      <td>6</td>\n      <td>1</td>\n      <td>12</td>\n    </tr>\n    <tr>\n      <th>10</th>\n      <td>El Ladrón de Cabras</td>\n      <td>1</td>\n      <td>7</td>\n      <td>7</td>\n      <td>9</td>\n      <td>7</td>\n      <td>9</td>\n      <td>8</td>\n      <td>5</td>\n      <td>9</td>\n    </tr>\n    <tr>\n      <th>0</th>\n      <td>LaLaLand</td>\n      <td>10</td>\n      <td>6</td>\n      <td>8</td>\n      <td>5</td>\n      <td>3</td>\n      <td>3</td>\n      <td>9</td>\n      <td>8</td>\n      <td>1</td>\n    </tr>\n    <tr>\n      <th>3</th>\n      <td>Magic's Johnson</td>\n      <td>12</td>\n      <td>3</td>\n      <td>1</td>\n      <td>2</td>\n      <td>5</td>\n      <td>2</td>\n      <td>2</td>\n      <td>9</td>\n      <td>10</td>\n    </tr>\n    <tr>\n      <th>4</th>\n      <td>McCurry</td>\n      <td>2</td>\n      <td>9</td>\n      <td>11</td>\n      <td>10</td>\n      <td>1</td>\n      <td>4</td>\n      <td>1</td>\n      <td>4</td>\n      <td>6</td>\n    </tr>\n    <tr>\n      <th>11</th>\n      <td>Nunn of Y'all Betta</td>\n      <td>7</td>\n      <td>1</td>\n      <td>2</td>\n      <td>3</td>\n      <td>10</td>\n      <td>1</td>\n      <td>3</td>\n      <td>10</td>\n      <td>8</td>\n    </tr>\n    <tr>\n      <th>5</th>\n      <td>Russty Cuntbrooks</td>\n      <td>6</td>\n      <td>5</td>\n      <td>6</td>\n      <td>1</td>\n      <td>4</td>\n      <td>11</td>\n      <td>3</td>\n      <td>3</td>\n      <td>3</td>\n    </tr>\n    <tr>\n      <th>7</th>\n      <td>Swaggy P</td>\n      <td>9</td>\n      <td>8</td>\n      <td>3</td>\n      <td>8</td>\n      <td>11</td>\n      <td>12</td>\n      <td>9</td>\n      <td>6</td>\n      <td>5</td>\n    </tr>\n    <tr>\n      <th>9</th>\n      <td>Tvon's Tip-Top Team</td>\n      <td>8</td>\n      <td>6</td>\n      <td>10</td>\n      <td>12</td>\n      <td>8</td>\n      <td>7</td>\n      <td>10</td>\n      <td>2</td>\n      <td>4</td>\n    </tr>\n    <tr>\n      <th>6</th>\n      <td>Wakanda Forever</td>\n      <td>11</td>\n      <td>10</td>\n      <td>4</td>\n      <td>7</td>\n      <td>9</td>\n      <td>8</td>\n      <td>5</td>\n      <td>7</td>\n      <td>11</td>\n    </tr>\n    <tr>\n      <th>8</th>\n      <td>yOBItch Toppin Me</td>\n      <td>5</td>\n      <td>4</td>\n      <td>5</td>\n      <td>6</td>\n      <td>12</td>\n      <td>5</td>\n      <td>4</td>\n      <td>9</td>\n      <td>2</td>\n    </tr>\n  </tbody>\n</table>\n</div>"
     },
     "execution_count": 87,
     "metadata": {},
     "output_type": "execute_result"
    }
   ],
   "source": [
    "# Power rankings\n",
    "new_league_power_rankings = power_rankings(new_league_averages_dataframe).sort_values(TEAM_COLUMN)\n",
    "new_league_power_rankings"
   ],
   "metadata": {
    "collapsed": false,
    "pycharm": {
     "name": "#%%\n"
    }
   }
  },
  {
   "cell_type": "code",
   "execution_count": 88,
   "outputs": [
    {
     "data": {
      "text/plain": "                   TEAM  FG_PCT_RANK  FT_PCT_RANK  FG3M_RANK  PTS_RANK  \\\n1              Autopick            4            3          6         3   \n2   CrabbeHerByThePussy            3            2          9        11   \n11  El Ladrón de Cabras            1            7          7         9   \n0              LaLaLand           10            6          8         4   \n3       Magic's Johnson           12            3          1         2   \n4               McCurry            2            9         11        10   \n5   Nunn of Y'all Betta            7            1          2         6   \n6     Russty Cuntbrooks            6            5          6         1   \n8              Swaggy P            9            8          3         8   \n10  Tvon's Tip-Top Team            8            6         10        12   \n7       Wakanda Forever           11           10          4         7   \n9     yOBItch Toppin Me            5            4          5         5   \n\n    REB_RANK  AST_RANK  STL_RANK  BLK_RANK  TOV_RANK  \n1          6         6         7         9         7  \n2          2        10         6         1        12  \n11         7         9         8         5         8  \n0          3         2         9         8         1  \n3          5         1         2         9         9  \n4          1         4         1         4         6  \n5         10         3         4        10        11  \n6          4        11         3         3         3  \n8         11        12         9         6         5  \n10         8         7        10         2         4  \n7          9         8         5         7        10  \n9         12         5         4         9         2  ",
      "text/html": "<div>\n<style scoped>\n    .dataframe tbody tr th:only-of-type {\n        vertical-align: middle;\n    }\n\n    .dataframe tbody tr th {\n        vertical-align: top;\n    }\n\n    .dataframe thead th {\n        text-align: right;\n    }\n</style>\n<table border=\"1\" class=\"dataframe\">\n  <thead>\n    <tr style=\"text-align: right;\">\n      <th></th>\n      <th>TEAM</th>\n      <th>FG_PCT_RANK</th>\n      <th>FT_PCT_RANK</th>\n      <th>FG3M_RANK</th>\n      <th>PTS_RANK</th>\n      <th>REB_RANK</th>\n      <th>AST_RANK</th>\n      <th>STL_RANK</th>\n      <th>BLK_RANK</th>\n      <th>TOV_RANK</th>\n    </tr>\n  </thead>\n  <tbody>\n    <tr>\n      <th>1</th>\n      <td>Autopick</td>\n      <td>4</td>\n      <td>3</td>\n      <td>6</td>\n      <td>3</td>\n      <td>6</td>\n      <td>6</td>\n      <td>7</td>\n      <td>9</td>\n      <td>7</td>\n    </tr>\n    <tr>\n      <th>2</th>\n      <td>CrabbeHerByThePussy</td>\n      <td>3</td>\n      <td>2</td>\n      <td>9</td>\n      <td>11</td>\n      <td>2</td>\n      <td>10</td>\n      <td>6</td>\n      <td>1</td>\n      <td>12</td>\n    </tr>\n    <tr>\n      <th>11</th>\n      <td>El Ladrón de Cabras</td>\n      <td>1</td>\n      <td>7</td>\n      <td>7</td>\n      <td>9</td>\n      <td>7</td>\n      <td>9</td>\n      <td>8</td>\n      <td>5</td>\n      <td>8</td>\n    </tr>\n    <tr>\n      <th>0</th>\n      <td>LaLaLand</td>\n      <td>10</td>\n      <td>6</td>\n      <td>8</td>\n      <td>4</td>\n      <td>3</td>\n      <td>2</td>\n      <td>9</td>\n      <td>8</td>\n      <td>1</td>\n    </tr>\n    <tr>\n      <th>3</th>\n      <td>Magic's Johnson</td>\n      <td>12</td>\n      <td>3</td>\n      <td>1</td>\n      <td>2</td>\n      <td>5</td>\n      <td>1</td>\n      <td>2</td>\n      <td>9</td>\n      <td>9</td>\n    </tr>\n    <tr>\n      <th>4</th>\n      <td>McCurry</td>\n      <td>2</td>\n      <td>9</td>\n      <td>11</td>\n      <td>10</td>\n      <td>1</td>\n      <td>4</td>\n      <td>1</td>\n      <td>4</td>\n      <td>6</td>\n    </tr>\n    <tr>\n      <th>5</th>\n      <td>Nunn of Y'all Betta</td>\n      <td>7</td>\n      <td>1</td>\n      <td>2</td>\n      <td>6</td>\n      <td>10</td>\n      <td>3</td>\n      <td>4</td>\n      <td>10</td>\n      <td>11</td>\n    </tr>\n    <tr>\n      <th>6</th>\n      <td>Russty Cuntbrooks</td>\n      <td>6</td>\n      <td>5</td>\n      <td>6</td>\n      <td>1</td>\n      <td>4</td>\n      <td>11</td>\n      <td>3</td>\n      <td>3</td>\n      <td>3</td>\n    </tr>\n    <tr>\n      <th>8</th>\n      <td>Swaggy P</td>\n      <td>9</td>\n      <td>8</td>\n      <td>3</td>\n      <td>8</td>\n      <td>11</td>\n      <td>12</td>\n      <td>9</td>\n      <td>6</td>\n      <td>5</td>\n    </tr>\n    <tr>\n      <th>10</th>\n      <td>Tvon's Tip-Top Team</td>\n      <td>8</td>\n      <td>6</td>\n      <td>10</td>\n      <td>12</td>\n      <td>8</td>\n      <td>7</td>\n      <td>10</td>\n      <td>2</td>\n      <td>4</td>\n    </tr>\n    <tr>\n      <th>7</th>\n      <td>Wakanda Forever</td>\n      <td>11</td>\n      <td>10</td>\n      <td>4</td>\n      <td>7</td>\n      <td>9</td>\n      <td>8</td>\n      <td>5</td>\n      <td>7</td>\n      <td>10</td>\n    </tr>\n    <tr>\n      <th>9</th>\n      <td>yOBItch Toppin Me</td>\n      <td>5</td>\n      <td>4</td>\n      <td>5</td>\n      <td>5</td>\n      <td>12</td>\n      <td>5</td>\n      <td>4</td>\n      <td>9</td>\n      <td>2</td>\n    </tr>\n  </tbody>\n</table>\n</div>"
     },
     "execution_count": 88,
     "metadata": {},
     "output_type": "execute_result"
    }
   ],
   "source": [
    "# Get current rankings\n",
    "current_league_power_rankings = power_rankings(league_averages_dataframe).sort_values(TEAM_COLUMN)\n",
    "current_league_power_rankings\n"
   ],
   "metadata": {
    "collapsed": false,
    "pycharm": {
     "name": "#%%\n"
    }
   }
  },
  {
   "cell_type": "code",
   "execution_count": 91,
   "outputs": [
    {
     "data": {
      "text/plain": "    FG_PCT_RANK  FT_PCT_RANK  FG3M_RANK  PTS_RANK  REB_RANK  AST_RANK  \\\n0             4            3          6         4         6         6   \n1             3            2          9        11         2        10   \n2             1            7          7         9         7         9   \n3            10            6          8         5         3         3   \n4            12            3          1         2         5         2   \n5             2            9         11        10         1         4   \n6             7            1          2         3        10         1   \n7             6            5          6         1         4        11   \n8             9            8          3         8        11        12   \n9             8            6         10        12         8         7   \n10           11           10          4         7         9         8   \n11            5            4          5         6        12         5   \n\n    STL_RANK  BLK_RANK  TOV_RANK  \n0          7         9         7  \n1          6         1        12  \n2          8         5         9  \n3          9         8         1  \n4          2         9        10  \n5          1         4         6  \n6          3        10         8  \n7          3         3         3  \n8          9         6         5  \n9         10         2         4  \n10         5         7        11  \n11         4         9         2  ",
      "text/html": "<div>\n<style scoped>\n    .dataframe tbody tr th:only-of-type {\n        vertical-align: middle;\n    }\n\n    .dataframe tbody tr th {\n        vertical-align: top;\n    }\n\n    .dataframe thead th {\n        text-align: right;\n    }\n</style>\n<table border=\"1\" class=\"dataframe\">\n  <thead>\n    <tr style=\"text-align: right;\">\n      <th></th>\n      <th>FG_PCT_RANK</th>\n      <th>FT_PCT_RANK</th>\n      <th>FG3M_RANK</th>\n      <th>PTS_RANK</th>\n      <th>REB_RANK</th>\n      <th>AST_RANK</th>\n      <th>STL_RANK</th>\n      <th>BLK_RANK</th>\n      <th>TOV_RANK</th>\n    </tr>\n  </thead>\n  <tbody>\n    <tr>\n      <th>0</th>\n      <td>4</td>\n      <td>3</td>\n      <td>6</td>\n      <td>4</td>\n      <td>6</td>\n      <td>6</td>\n      <td>7</td>\n      <td>9</td>\n      <td>7</td>\n    </tr>\n    <tr>\n      <th>1</th>\n      <td>3</td>\n      <td>2</td>\n      <td>9</td>\n      <td>11</td>\n      <td>2</td>\n      <td>10</td>\n      <td>6</td>\n      <td>1</td>\n      <td>12</td>\n    </tr>\n    <tr>\n      <th>2</th>\n      <td>1</td>\n      <td>7</td>\n      <td>7</td>\n      <td>9</td>\n      <td>7</td>\n      <td>9</td>\n      <td>8</td>\n      <td>5</td>\n      <td>9</td>\n    </tr>\n    <tr>\n      <th>3</th>\n      <td>10</td>\n      <td>6</td>\n      <td>8</td>\n      <td>5</td>\n      <td>3</td>\n      <td>3</td>\n      <td>9</td>\n      <td>8</td>\n      <td>1</td>\n    </tr>\n    <tr>\n      <th>4</th>\n      <td>12</td>\n      <td>3</td>\n      <td>1</td>\n      <td>2</td>\n      <td>5</td>\n      <td>2</td>\n      <td>2</td>\n      <td>9</td>\n      <td>10</td>\n    </tr>\n    <tr>\n      <th>5</th>\n      <td>2</td>\n      <td>9</td>\n      <td>11</td>\n      <td>10</td>\n      <td>1</td>\n      <td>4</td>\n      <td>1</td>\n      <td>4</td>\n      <td>6</td>\n    </tr>\n    <tr>\n      <th>6</th>\n      <td>7</td>\n      <td>1</td>\n      <td>2</td>\n      <td>3</td>\n      <td>10</td>\n      <td>1</td>\n      <td>3</td>\n      <td>10</td>\n      <td>8</td>\n    </tr>\n    <tr>\n      <th>7</th>\n      <td>6</td>\n      <td>5</td>\n      <td>6</td>\n      <td>1</td>\n      <td>4</td>\n      <td>11</td>\n      <td>3</td>\n      <td>3</td>\n      <td>3</td>\n    </tr>\n    <tr>\n      <th>8</th>\n      <td>9</td>\n      <td>8</td>\n      <td>3</td>\n      <td>8</td>\n      <td>11</td>\n      <td>12</td>\n      <td>9</td>\n      <td>6</td>\n      <td>5</td>\n    </tr>\n    <tr>\n      <th>9</th>\n      <td>8</td>\n      <td>6</td>\n      <td>10</td>\n      <td>12</td>\n      <td>8</td>\n      <td>7</td>\n      <td>10</td>\n      <td>2</td>\n      <td>4</td>\n    </tr>\n    <tr>\n      <th>10</th>\n      <td>11</td>\n      <td>10</td>\n      <td>4</td>\n      <td>7</td>\n      <td>9</td>\n      <td>8</td>\n      <td>5</td>\n      <td>7</td>\n      <td>11</td>\n    </tr>\n    <tr>\n      <th>11</th>\n      <td>5</td>\n      <td>4</td>\n      <td>5</td>\n      <td>6</td>\n      <td>12</td>\n      <td>5</td>\n      <td>4</td>\n      <td>9</td>\n      <td>2</td>\n    </tr>\n  </tbody>\n</table>\n</div>"
     },
     "execution_count": 91,
     "metadata": {},
     "output_type": "execute_result"
    }
   ],
   "source": [
    "# Drop Team column\n",
    "new_league_power_rankings = new_league_power_rankings.reset_index(drop=True)\n",
    "new_league_power_rankings = new_league_power_rankings.drop(TEAM_COLUMN, axis=1)\n",
    "# current_league_power_rankings.reset_index(drop=True).drop(TEAM_COLUMN, inplace=True, axis=1)\n",
    "new_league_power_rankings"
   ],
   "metadata": {
    "collapsed": false,
    "pycharm": {
     "name": "#%%\n"
    }
   }
  },
  {
   "cell_type": "code",
   "execution_count": 92,
   "outputs": [
    {
     "data": {
      "text/plain": "    FG_PCT_RANK  FT_PCT_RANK  FG3M_RANK  PTS_RANK  REB_RANK  AST_RANK  \\\n0             4            3          6         3         6         6   \n1             3            2          9        11         2        10   \n2             1            7          7         9         7         9   \n3            10            6          8         4         3         2   \n4            12            3          1         2         5         1   \n5             2            9         11        10         1         4   \n6             7            1          2         6        10         3   \n7             6            5          6         1         4        11   \n8             9            8          3         8        11        12   \n9             8            6         10        12         8         7   \n10           11           10          4         7         9         8   \n11            5            4          5         5        12         5   \n\n    STL_RANK  BLK_RANK  TOV_RANK  \n0          7         9         7  \n1          6         1        12  \n2          8         5         8  \n3          9         8         1  \n4          2         9         9  \n5          1         4         6  \n6          4        10        11  \n7          3         3         3  \n8          9         6         5  \n9         10         2         4  \n10         5         7        10  \n11         4         9         2  ",
      "text/html": "<div>\n<style scoped>\n    .dataframe tbody tr th:only-of-type {\n        vertical-align: middle;\n    }\n\n    .dataframe tbody tr th {\n        vertical-align: top;\n    }\n\n    .dataframe thead th {\n        text-align: right;\n    }\n</style>\n<table border=\"1\" class=\"dataframe\">\n  <thead>\n    <tr style=\"text-align: right;\">\n      <th></th>\n      <th>FG_PCT_RANK</th>\n      <th>FT_PCT_RANK</th>\n      <th>FG3M_RANK</th>\n      <th>PTS_RANK</th>\n      <th>REB_RANK</th>\n      <th>AST_RANK</th>\n      <th>STL_RANK</th>\n      <th>BLK_RANK</th>\n      <th>TOV_RANK</th>\n    </tr>\n  </thead>\n  <tbody>\n    <tr>\n      <th>0</th>\n      <td>4</td>\n      <td>3</td>\n      <td>6</td>\n      <td>3</td>\n      <td>6</td>\n      <td>6</td>\n      <td>7</td>\n      <td>9</td>\n      <td>7</td>\n    </tr>\n    <tr>\n      <th>1</th>\n      <td>3</td>\n      <td>2</td>\n      <td>9</td>\n      <td>11</td>\n      <td>2</td>\n      <td>10</td>\n      <td>6</td>\n      <td>1</td>\n      <td>12</td>\n    </tr>\n    <tr>\n      <th>2</th>\n      <td>1</td>\n      <td>7</td>\n      <td>7</td>\n      <td>9</td>\n      <td>7</td>\n      <td>9</td>\n      <td>8</td>\n      <td>5</td>\n      <td>8</td>\n    </tr>\n    <tr>\n      <th>3</th>\n      <td>10</td>\n      <td>6</td>\n      <td>8</td>\n      <td>4</td>\n      <td>3</td>\n      <td>2</td>\n      <td>9</td>\n      <td>8</td>\n      <td>1</td>\n    </tr>\n    <tr>\n      <th>4</th>\n      <td>12</td>\n      <td>3</td>\n      <td>1</td>\n      <td>2</td>\n      <td>5</td>\n      <td>1</td>\n      <td>2</td>\n      <td>9</td>\n      <td>9</td>\n    </tr>\n    <tr>\n      <th>5</th>\n      <td>2</td>\n      <td>9</td>\n      <td>11</td>\n      <td>10</td>\n      <td>1</td>\n      <td>4</td>\n      <td>1</td>\n      <td>4</td>\n      <td>6</td>\n    </tr>\n    <tr>\n      <th>6</th>\n      <td>7</td>\n      <td>1</td>\n      <td>2</td>\n      <td>6</td>\n      <td>10</td>\n      <td>3</td>\n      <td>4</td>\n      <td>10</td>\n      <td>11</td>\n    </tr>\n    <tr>\n      <th>7</th>\n      <td>6</td>\n      <td>5</td>\n      <td>6</td>\n      <td>1</td>\n      <td>4</td>\n      <td>11</td>\n      <td>3</td>\n      <td>3</td>\n      <td>3</td>\n    </tr>\n    <tr>\n      <th>8</th>\n      <td>9</td>\n      <td>8</td>\n      <td>3</td>\n      <td>8</td>\n      <td>11</td>\n      <td>12</td>\n      <td>9</td>\n      <td>6</td>\n      <td>5</td>\n    </tr>\n    <tr>\n      <th>9</th>\n      <td>8</td>\n      <td>6</td>\n      <td>10</td>\n      <td>12</td>\n      <td>8</td>\n      <td>7</td>\n      <td>10</td>\n      <td>2</td>\n      <td>4</td>\n    </tr>\n    <tr>\n      <th>10</th>\n      <td>11</td>\n      <td>10</td>\n      <td>4</td>\n      <td>7</td>\n      <td>9</td>\n      <td>8</td>\n      <td>5</td>\n      <td>7</td>\n      <td>10</td>\n    </tr>\n    <tr>\n      <th>11</th>\n      <td>5</td>\n      <td>4</td>\n      <td>5</td>\n      <td>5</td>\n      <td>12</td>\n      <td>5</td>\n      <td>4</td>\n      <td>9</td>\n      <td>2</td>\n    </tr>\n  </tbody>\n</table>\n</div>"
     },
     "execution_count": 92,
     "metadata": {},
     "output_type": "execute_result"
    }
   ],
   "source": [
    "current_league_power_rankings = current_league_power_rankings.reset_index(drop=True)\n",
    "current_league_power_rankings = current_league_power_rankings.drop(TEAM_COLUMN, axis=1)\n",
    "# current_league_power_rankings.reset_index(drop=True).drop(TEAM_COLUMN, inplace=True, axis=1)\n",
    "current_league_power_rankings"
   ],
   "metadata": {
    "collapsed": false,
    "pycharm": {
     "name": "#%%\n"
    }
   }
  },
  {
   "cell_type": "code",
   "execution_count": 93,
   "outputs": [
    {
     "data": {
      "text/plain": "    FG_PCT_RANK  FT_PCT_RANK  FG3M_RANK  PTS_RANK  REB_RANK  AST_RANK  \\\n0             0            0          0         1         0         0   \n1             0            0          0         0         0         0   \n2             0            0          0         0         0         0   \n3             0            0          0         1         0         1   \n4             0            0          0         0         0         1   \n5             0            0          0         0         0         0   \n6             0            0          0        -3         0        -2   \n7             0            0          0         0         0         0   \n8             0            0          0         0         0         0   \n9             0            0          0         0         0         0   \n10            0            0          0         0         0         0   \n11            0            0          0         1         0         0   \n\n    STL_RANK  BLK_RANK  TOV_RANK  \n0          0         0         0  \n1          0         0         0  \n2          0         0         1  \n3          0         0         0  \n4          0         0         1  \n5          0         0         0  \n6         -1         0        -3  \n7          0         0         0  \n8          0         0         0  \n9          0         0         0  \n10         0         0         1  \n11         0         0         0  ",
      "text/html": "<div>\n<style scoped>\n    .dataframe tbody tr th:only-of-type {\n        vertical-align: middle;\n    }\n\n    .dataframe tbody tr th {\n        vertical-align: top;\n    }\n\n    .dataframe thead th {\n        text-align: right;\n    }\n</style>\n<table border=\"1\" class=\"dataframe\">\n  <thead>\n    <tr style=\"text-align: right;\">\n      <th></th>\n      <th>FG_PCT_RANK</th>\n      <th>FT_PCT_RANK</th>\n      <th>FG3M_RANK</th>\n      <th>PTS_RANK</th>\n      <th>REB_RANK</th>\n      <th>AST_RANK</th>\n      <th>STL_RANK</th>\n      <th>BLK_RANK</th>\n      <th>TOV_RANK</th>\n    </tr>\n  </thead>\n  <tbody>\n    <tr>\n      <th>0</th>\n      <td>0</td>\n      <td>0</td>\n      <td>0</td>\n      <td>1</td>\n      <td>0</td>\n      <td>0</td>\n      <td>0</td>\n      <td>0</td>\n      <td>0</td>\n    </tr>\n    <tr>\n      <th>1</th>\n      <td>0</td>\n      <td>0</td>\n      <td>0</td>\n      <td>0</td>\n      <td>0</td>\n      <td>0</td>\n      <td>0</td>\n      <td>0</td>\n      <td>0</td>\n    </tr>\n    <tr>\n      <th>2</th>\n      <td>0</td>\n      <td>0</td>\n      <td>0</td>\n      <td>0</td>\n      <td>0</td>\n      <td>0</td>\n      <td>0</td>\n      <td>0</td>\n      <td>1</td>\n    </tr>\n    <tr>\n      <th>3</th>\n      <td>0</td>\n      <td>0</td>\n      <td>0</td>\n      <td>1</td>\n      <td>0</td>\n      <td>1</td>\n      <td>0</td>\n      <td>0</td>\n      <td>0</td>\n    </tr>\n    <tr>\n      <th>4</th>\n      <td>0</td>\n      <td>0</td>\n      <td>0</td>\n      <td>0</td>\n      <td>0</td>\n      <td>1</td>\n      <td>0</td>\n      <td>0</td>\n      <td>1</td>\n    </tr>\n    <tr>\n      <th>5</th>\n      <td>0</td>\n      <td>0</td>\n      <td>0</td>\n      <td>0</td>\n      <td>0</td>\n      <td>0</td>\n      <td>0</td>\n      <td>0</td>\n      <td>0</td>\n    </tr>\n    <tr>\n      <th>6</th>\n      <td>0</td>\n      <td>0</td>\n      <td>0</td>\n      <td>-3</td>\n      <td>0</td>\n      <td>-2</td>\n      <td>-1</td>\n      <td>0</td>\n      <td>-3</td>\n    </tr>\n    <tr>\n      <th>7</th>\n      <td>0</td>\n      <td>0</td>\n      <td>0</td>\n      <td>0</td>\n      <td>0</td>\n      <td>0</td>\n      <td>0</td>\n      <td>0</td>\n      <td>0</td>\n    </tr>\n    <tr>\n      <th>8</th>\n      <td>0</td>\n      <td>0</td>\n      <td>0</td>\n      <td>0</td>\n      <td>0</td>\n      <td>0</td>\n      <td>0</td>\n      <td>0</td>\n      <td>0</td>\n    </tr>\n    <tr>\n      <th>9</th>\n      <td>0</td>\n      <td>0</td>\n      <td>0</td>\n      <td>0</td>\n      <td>0</td>\n      <td>0</td>\n      <td>0</td>\n      <td>0</td>\n      <td>0</td>\n    </tr>\n    <tr>\n      <th>10</th>\n      <td>0</td>\n      <td>0</td>\n      <td>0</td>\n      <td>0</td>\n      <td>0</td>\n      <td>0</td>\n      <td>0</td>\n      <td>0</td>\n      <td>1</td>\n    </tr>\n    <tr>\n      <th>11</th>\n      <td>0</td>\n      <td>0</td>\n      <td>0</td>\n      <td>1</td>\n      <td>0</td>\n      <td>0</td>\n      <td>0</td>\n      <td>0</td>\n      <td>0</td>\n    </tr>\n  </tbody>\n</table>\n</div>"
     },
     "execution_count": 93,
     "metadata": {},
     "output_type": "execute_result"
    }
   ],
   "source": [
    "# Difference\n",
    "power_rankings_difference = new_league_power_rankings.subtract(current_league_power_rankings)\n",
    "power_rankings_difference"
   ],
   "metadata": {
    "collapsed": false,
    "pycharm": {
     "name": "#%%\n"
    }
   }
  },
  {
   "cell_type": "code",
   "execution_count": 94,
   "outputs": [
    {
     "data": {
      "text/plain": "['Autopick',\n 'CrabbeHerByThePussy',\n 'El Ladrón de Cabras',\n 'LaLaLand',\n \"Magic's Johnson\",\n 'McCurry',\n \"Nunn of Y'all Betta\",\n 'Russty Cuntbrooks',\n 'Swaggy P',\n \"Tvon's Tip-Top Team\",\n 'Wakanda Forever',\n 'yOBItch Toppin Me']"
     },
     "execution_count": 94,
     "metadata": {},
     "output_type": "execute_result"
    }
   ],
   "source": [
    "teams = list(league_averages_dataframe.sort_values(TEAM_COLUMN)[TEAM_COLUMN])\n",
    "teams\n"
   ],
   "metadata": {
    "collapsed": false,
    "pycharm": {
     "name": "#%%\n"
    }
   }
  },
  {
   "cell_type": "code",
   "execution_count": 95,
   "outputs": [
    {
     "data": {
      "text/plain": "    FG_PCT_RANK  FT_PCT_RANK  FG3M_RANK  PTS_RANK  REB_RANK  AST_RANK  \\\n0             0            0          0         1         0         0   \n1             0            0          0         0         0         0   \n2             0            0          0         0         0         0   \n3             0            0          0         1         0         1   \n4             0            0          0         0         0         1   \n5             0            0          0         0         0         0   \n6             0            0          0        -3         0        -2   \n7             0            0          0         0         0         0   \n8             0            0          0         0         0         0   \n9             0            0          0         0         0         0   \n10            0            0          0         0         0         0   \n11            0            0          0         1         0         0   \n\n    STL_RANK  BLK_RANK  TOV_RANK                 TEAM  \n0          0         0         0             Autopick  \n1          0         0         0  CrabbeHerByThePussy  \n2          0         0         1  El Ladrón de Cabras  \n3          0         0         0             LaLaLand  \n4          0         0         1      Magic's Johnson  \n5          0         0         0              McCurry  \n6         -1         0        -3  Nunn of Y'all Betta  \n7          0         0         0    Russty Cuntbrooks  \n8          0         0         0             Swaggy P  \n9          0         0         0  Tvon's Tip-Top Team  \n10         0         0         1      Wakanda Forever  \n11         0         0         0    yOBItch Toppin Me  ",
      "text/html": "<div>\n<style scoped>\n    .dataframe tbody tr th:only-of-type {\n        vertical-align: middle;\n    }\n\n    .dataframe tbody tr th {\n        vertical-align: top;\n    }\n\n    .dataframe thead th {\n        text-align: right;\n    }\n</style>\n<table border=\"1\" class=\"dataframe\">\n  <thead>\n    <tr style=\"text-align: right;\">\n      <th></th>\n      <th>FG_PCT_RANK</th>\n      <th>FT_PCT_RANK</th>\n      <th>FG3M_RANK</th>\n      <th>PTS_RANK</th>\n      <th>REB_RANK</th>\n      <th>AST_RANK</th>\n      <th>STL_RANK</th>\n      <th>BLK_RANK</th>\n      <th>TOV_RANK</th>\n      <th>TEAM</th>\n    </tr>\n  </thead>\n  <tbody>\n    <tr>\n      <th>0</th>\n      <td>0</td>\n      <td>0</td>\n      <td>0</td>\n      <td>1</td>\n      <td>0</td>\n      <td>0</td>\n      <td>0</td>\n      <td>0</td>\n      <td>0</td>\n      <td>Autopick</td>\n    </tr>\n    <tr>\n      <th>1</th>\n      <td>0</td>\n      <td>0</td>\n      <td>0</td>\n      <td>0</td>\n      <td>0</td>\n      <td>0</td>\n      <td>0</td>\n      <td>0</td>\n      <td>0</td>\n      <td>CrabbeHerByThePussy</td>\n    </tr>\n    <tr>\n      <th>2</th>\n      <td>0</td>\n      <td>0</td>\n      <td>0</td>\n      <td>0</td>\n      <td>0</td>\n      <td>0</td>\n      <td>0</td>\n      <td>0</td>\n      <td>1</td>\n      <td>El Ladrón de Cabras</td>\n    </tr>\n    <tr>\n      <th>3</th>\n      <td>0</td>\n      <td>0</td>\n      <td>0</td>\n      <td>1</td>\n      <td>0</td>\n      <td>1</td>\n      <td>0</td>\n      <td>0</td>\n      <td>0</td>\n      <td>LaLaLand</td>\n    </tr>\n    <tr>\n      <th>4</th>\n      <td>0</td>\n      <td>0</td>\n      <td>0</td>\n      <td>0</td>\n      <td>0</td>\n      <td>1</td>\n      <td>0</td>\n      <td>0</td>\n      <td>1</td>\n      <td>Magic's Johnson</td>\n    </tr>\n    <tr>\n      <th>5</th>\n      <td>0</td>\n      <td>0</td>\n      <td>0</td>\n      <td>0</td>\n      <td>0</td>\n      <td>0</td>\n      <td>0</td>\n      <td>0</td>\n      <td>0</td>\n      <td>McCurry</td>\n    </tr>\n    <tr>\n      <th>6</th>\n      <td>0</td>\n      <td>0</td>\n      <td>0</td>\n      <td>-3</td>\n      <td>0</td>\n      <td>-2</td>\n      <td>-1</td>\n      <td>0</td>\n      <td>-3</td>\n      <td>Nunn of Y'all Betta</td>\n    </tr>\n    <tr>\n      <th>7</th>\n      <td>0</td>\n      <td>0</td>\n      <td>0</td>\n      <td>0</td>\n      <td>0</td>\n      <td>0</td>\n      <td>0</td>\n      <td>0</td>\n      <td>0</td>\n      <td>Russty Cuntbrooks</td>\n    </tr>\n    <tr>\n      <th>8</th>\n      <td>0</td>\n      <td>0</td>\n      <td>0</td>\n      <td>0</td>\n      <td>0</td>\n      <td>0</td>\n      <td>0</td>\n      <td>0</td>\n      <td>0</td>\n      <td>Swaggy P</td>\n    </tr>\n    <tr>\n      <th>9</th>\n      <td>0</td>\n      <td>0</td>\n      <td>0</td>\n      <td>0</td>\n      <td>0</td>\n      <td>0</td>\n      <td>0</td>\n      <td>0</td>\n      <td>0</td>\n      <td>Tvon's Tip-Top Team</td>\n    </tr>\n    <tr>\n      <th>10</th>\n      <td>0</td>\n      <td>0</td>\n      <td>0</td>\n      <td>0</td>\n      <td>0</td>\n      <td>0</td>\n      <td>0</td>\n      <td>0</td>\n      <td>1</td>\n      <td>Wakanda Forever</td>\n    </tr>\n    <tr>\n      <th>11</th>\n      <td>0</td>\n      <td>0</td>\n      <td>0</td>\n      <td>1</td>\n      <td>0</td>\n      <td>0</td>\n      <td>0</td>\n      <td>0</td>\n      <td>0</td>\n      <td>yOBItch Toppin Me</td>\n    </tr>\n  </tbody>\n</table>\n</div>"
     },
     "execution_count": 95,
     "metadata": {},
     "output_type": "execute_result"
    }
   ],
   "source": [
    "power_rankings_difference[TEAM_COLUMN] = teams\n",
    "power_rankings_difference"
   ],
   "metadata": {
    "collapsed": false,
    "pycharm": {
     "name": "#%%\n"
    }
   }
  },
  {
   "cell_type": "code",
   "execution_count": 96,
   "outputs": [],
   "source": [
    "columns = list(power_rankings_difference.columns)\n",
    "columns = [columns[-1]] + columns[:-1]\n",
    "power_rankings_difference = power_rankings_difference[columns]\n",
    "power_rankings_difference"
   ],
   "metadata": {
    "collapsed": false,
    "pycharm": {
     "name": "#%%\n"
    }
   }
  },
  {
   "cell_type": "code",
   "execution_count": 98,
   "outputs": [],
   "source": [
    "power_rankings_difference\n",
    "\n",
    "def new_league_9cat_averages(league_average_dataframe, team, new_team_9cat_averages):\n",
    "\n",
    "    removed_team_dataframe = league_average_dataframe[~league_average_dataframe[TEAM_COLUMN].str\\\n",
    "        .contains(team[NAME_KEY])]\n",
    "\n",
    "    new_team_9cat_averages[TEAM_COLUMN] = team[NAME_KEY]\n",
    "    added_team_dataframe = removed_team_dataframe.append(new_team_9cat_averages)\n",
    "    added_team_dataframe.reset_index(drop=True, inplace=True)\n",
    "\n",
    "    return added_team_dataframe\n",
    "\n",
    "\n",
    "def team_dataframe_column_float(roster_dataframe):\n",
    "\n",
    "    for column in roster_dataframe.columns[1:]:\n",
    "        roster_dataframe[column] = roster_dataframe[column].astype(float)\n",
    "\n",
    "    return roster_dataframe\n",
    "\n",
    "\n",
    "def change_in_power_rankings(league_averages_dataframe, team, player_to_drop, player_to_add):\n",
    "\n",
    "    current_players_9cat_averages, current_team_9cat_averages, new_players_9cat_averages, \\\n",
    "    new_team_9cat_averages = compare_team_9cats_on_transaction(team, player_to_drop,\n",
    "                                                           player_to_add, visualise=False)\n",
    "\n",
    "    # New league average dataframe\n",
    "    new_league_averages_dataframe = new_league_9cat_averages(league_averages_dataframe,\n",
    "                                                          team, new_team_9cat_averages)\n",
    "\n",
    "    new_league_averages_dataframe = team_dataframe_column_float(new_league_averages_dataframe)\n",
    "\n",
    "    # Get new rankings\n",
    "    new_league_power_rankings = power_rankings(new_league_averages_dataframe).sort_values(TEAM_COLUMN)\n",
    "    # Get current rankings\n",
    "    current_league_power_rankings = power_rankings(league_averages_dataframe).sort_values(TEAM_COLUMN)\n",
    "\n",
    "    # Drop Team column\n",
    "    new_league_power_rankings = new_league_power_rankings.reset_index(drop=True)\n",
    "    new_league_power_rankings = new_league_power_rankings.drop(TEAM_COLUMN, axis=1)\n",
    "    current_league_power_rankings = current_league_power_rankings.reset_index(drop=True)\n",
    "    current_league_power_rankings = current_league_power_rankings.drop(TEAM_COLUMN, axis=1)\n",
    "\n",
    "    # Difference\n",
    "    power_rankings_difference = new_league_power_rankings.subtract(current_league_power_rankings)\n",
    "\n",
    "    # Sorted teams list\n",
    "    teams = list(league_averages_dataframe.sort_values(TEAM_COLUMN)[TEAM_COLUMN])\n",
    "\n",
    "    # Add teams column\n",
    "    power_rankings_difference[TEAM_COLUMN] = teams\n",
    "\n",
    "    # Rearrange columns\n",
    "    columns = list(power_rankings_difference.columns)\n",
    "    columns = [columns[-1]] + columns[:-1]\n",
    "    power_rankings_difference = power_rankings_difference[columns]\n",
    "\n",
    "    return power_rankings_difference"
   ],
   "metadata": {
    "collapsed": false,
    "pycharm": {
     "name": "#%%\n"
    }
   }
  },
  {
   "cell_type": "code",
   "execution_count": 99,
   "outputs": [
    {
     "data": {
      "text/plain": "                   TEAM  FG_PCT_RANK  FT_PCT_RANK  FG3M_RANK  PTS_RANK  \\\n0              Autopick            0            0          0         1   \n1   CrabbeHerByThePussy            0            0          0         0   \n2   El Ladrón de Cabras            0            0          0         0   \n3              LaLaLand            0            0          0         1   \n4       Magic's Johnson            0            0          0         0   \n5               McCurry            0            0          0         0   \n6   Nunn of Y'all Betta            0            0          0        -3   \n7     Russty Cuntbrooks            0            0          0         0   \n8              Swaggy P            0            0          0         0   \n9   Tvon's Tip-Top Team            0            0          0         0   \n10      Wakanda Forever            0            0          0         0   \n11    yOBItch Toppin Me            0            0          0         1   \n\n    REB_RANK  AST_RANK  STL_RANK  BLK_RANK  TOV_RANK  \n0          0         0         0         0         0  \n1          0         0         0         0         0  \n2          0         0         0         0         1  \n3          0         1         0         0         0  \n4          0         1         0         0         1  \n5          0         0         0         0         0  \n6          0        -2        -1         0        -3  \n7          0         0         0         0         0  \n8          0         0         0         0         0  \n9          0         0         0         0         0  \n10         0         0         0         0         1  \n11         0         0         0         0         0  ",
      "text/html": "<div>\n<style scoped>\n    .dataframe tbody tr th:only-of-type {\n        vertical-align: middle;\n    }\n\n    .dataframe tbody tr th {\n        vertical-align: top;\n    }\n\n    .dataframe thead th {\n        text-align: right;\n    }\n</style>\n<table border=\"1\" class=\"dataframe\">\n  <thead>\n    <tr style=\"text-align: right;\">\n      <th></th>\n      <th>TEAM</th>\n      <th>FG_PCT_RANK</th>\n      <th>FT_PCT_RANK</th>\n      <th>FG3M_RANK</th>\n      <th>PTS_RANK</th>\n      <th>REB_RANK</th>\n      <th>AST_RANK</th>\n      <th>STL_RANK</th>\n      <th>BLK_RANK</th>\n      <th>TOV_RANK</th>\n    </tr>\n  </thead>\n  <tbody>\n    <tr>\n      <th>0</th>\n      <td>Autopick</td>\n      <td>0</td>\n      <td>0</td>\n      <td>0</td>\n      <td>1</td>\n      <td>0</td>\n      <td>0</td>\n      <td>0</td>\n      <td>0</td>\n      <td>0</td>\n    </tr>\n    <tr>\n      <th>1</th>\n      <td>CrabbeHerByThePussy</td>\n      <td>0</td>\n      <td>0</td>\n      <td>0</td>\n      <td>0</td>\n      <td>0</td>\n      <td>0</td>\n      <td>0</td>\n      <td>0</td>\n      <td>0</td>\n    </tr>\n    <tr>\n      <th>2</th>\n      <td>El Ladrón de Cabras</td>\n      <td>0</td>\n      <td>0</td>\n      <td>0</td>\n      <td>0</td>\n      <td>0</td>\n      <td>0</td>\n      <td>0</td>\n      <td>0</td>\n      <td>1</td>\n    </tr>\n    <tr>\n      <th>3</th>\n      <td>LaLaLand</td>\n      <td>0</td>\n      <td>0</td>\n      <td>0</td>\n      <td>1</td>\n      <td>0</td>\n      <td>1</td>\n      <td>0</td>\n      <td>0</td>\n      <td>0</td>\n    </tr>\n    <tr>\n      <th>4</th>\n      <td>Magic's Johnson</td>\n      <td>0</td>\n      <td>0</td>\n      <td>0</td>\n      <td>0</td>\n      <td>0</td>\n      <td>1</td>\n      <td>0</td>\n      <td>0</td>\n      <td>1</td>\n    </tr>\n    <tr>\n      <th>5</th>\n      <td>McCurry</td>\n      <td>0</td>\n      <td>0</td>\n      <td>0</td>\n      <td>0</td>\n      <td>0</td>\n      <td>0</td>\n      <td>0</td>\n      <td>0</td>\n      <td>0</td>\n    </tr>\n    <tr>\n      <th>6</th>\n      <td>Nunn of Y'all Betta</td>\n      <td>0</td>\n      <td>0</td>\n      <td>0</td>\n      <td>-3</td>\n      <td>0</td>\n      <td>-2</td>\n      <td>-1</td>\n      <td>0</td>\n      <td>-3</td>\n    </tr>\n    <tr>\n      <th>7</th>\n      <td>Russty Cuntbrooks</td>\n      <td>0</td>\n      <td>0</td>\n      <td>0</td>\n      <td>0</td>\n      <td>0</td>\n      <td>0</td>\n      <td>0</td>\n      <td>0</td>\n      <td>0</td>\n    </tr>\n    <tr>\n      <th>8</th>\n      <td>Swaggy P</td>\n      <td>0</td>\n      <td>0</td>\n      <td>0</td>\n      <td>0</td>\n      <td>0</td>\n      <td>0</td>\n      <td>0</td>\n      <td>0</td>\n      <td>0</td>\n    </tr>\n    <tr>\n      <th>9</th>\n      <td>Tvon's Tip-Top Team</td>\n      <td>0</td>\n      <td>0</td>\n      <td>0</td>\n      <td>0</td>\n      <td>0</td>\n      <td>0</td>\n      <td>0</td>\n      <td>0</td>\n      <td>0</td>\n    </tr>\n    <tr>\n      <th>10</th>\n      <td>Wakanda Forever</td>\n      <td>0</td>\n      <td>0</td>\n      <td>0</td>\n      <td>0</td>\n      <td>0</td>\n      <td>0</td>\n      <td>0</td>\n      <td>0</td>\n      <td>1</td>\n    </tr>\n    <tr>\n      <th>11</th>\n      <td>yOBItch Toppin Me</td>\n      <td>0</td>\n      <td>0</td>\n      <td>0</td>\n      <td>1</td>\n      <td>0</td>\n      <td>0</td>\n      <td>0</td>\n      <td>0</td>\n      <td>0</td>\n    </tr>\n  </tbody>\n</table>\n</div>"
     },
     "execution_count": 99,
     "metadata": {},
     "output_type": "execute_result"
    }
   ],
   "source": [
    "change_in_power_rankings(league_averages_dataframe, NUNN_OF_YALL_BETTA, \"Will Barton\",\n",
    "                         \"James Harden\")"
   ],
   "metadata": {
    "collapsed": false,
    "pycharm": {
     "name": "#%%\n"
    }
   }
  },
  {
   "cell_type": "markdown",
   "source": [
    "## Notebook Functions"
   ],
   "metadata": {
    "collapsed": false,
    "pycharm": {
     "name": "#%% md\n"
    }
   }
  },
  {
   "cell_type": "code",
   "execution_count": 6,
   "outputs": [],
   "source": [
    "import pandas as pd\n",
    "from yahoo_oauth import OAuth2\n",
    "import yahoo_fantasy_api as yfa\n",
    "from src.data import player_9cat_average as p9ca\n",
    "from nba_api.stats.endpoints import commonallplayers\n",
    "from nba_api.stats.endpoints import commonplayerinfo\n",
    "\n",
    "\n",
    "NBA = \"nba\"\n",
    "SEASON = 2020\n",
    "JSON_FOLDER = \"../references/oauth2.json\"\n",
    "NAME_KEY = \"name\"\n",
    "GAMES_COLUMN = \"GAMES\"\n",
    "MEAN_ROW = \"mean\"\n",
    "TEAM_KEY = \"team_key\"\n",
    "PLAYER_COLUMN = \"PLAYER\"\n",
    "TEAM_COLUMN = \"TEAM\"\n",
    "EDITORIAL_TEAM_FULL_NAME = \"editorial_team_full_name\"\n",
    "UNIFORM_NUMBER = \"uniform_number\"\n",
    "COMMON_ALL_PLAYERS =\"CommonAllPlayers\"\n",
    "PERSON_ID_KEY = \"PERSON_ID\"\n",
    "TEAM_CITY_KEY = \"TEAM_CITY\"\n",
    "TEAM_NAME_KEY = \"TEAM_NAME\"\n",
    "COMMON_PLAYER_INFO = \"CommonPlayerInfo\"\n",
    "JERSEY_KEY = \"JERSEY\"\n",
    "DISPLAY_FIRST_LAST = \"DISPLAY_FIRST_LAST\"\n",
    "EDITORIAL_TEAM_FULL_NAME = \"editorial_team_full_name\"\n",
    "UNIFORM_NUMBER = \"uniform_number\"\n",
    "COMMON_ALL_PLAYERS =\"CommonAllPlayers\"\n",
    "PERSON_ID_KEY = \"PERSON_ID\"\n",
    "TEAM_CITY_KEY = \"TEAM_CITY\"\n",
    "TEAM_NAME_KEY = \"TEAM_NAME\"\n",
    "COMMON_PLAYER_INFO = \"CommonPlayerInfo\"\n",
    "JERSEY_KEY = \"JERSEY\"\n",
    "DISPLAY_FIRST_LAST = \"DISPLAY_FIRST_LAST\"\n",
    "RANK_SUFFIX =\"_RANK\"\n",
    "\n",
    "\n",
    "# Team dictionaries\n",
    "LALALAND = {'team_key': '402.l.55374.t.1', 'name': 'LaLaLand'}\n",
    "AUTOPICK = {'team_key': '402.l.55374.t.2', 'name': 'Autopick'}\n",
    "CRABBEHERBYTHEPUSSY = {'team_key': '402.l.55374.t.3', 'name': 'CrabbeHerByThePussy'}\n",
    "MAGICS_JOHNSON = {'team_key': '402.l.55374.t.4', 'name': \"Magic's Johnson\"}\n",
    "MCCURRY = {'team_key': '402.l.55374.t.5', 'name': 'McCurry'}\n",
    "NUNN_OF_YALL_BETTA = {'team_key': '402.l.55374.t.6', 'name': \"Nunn of Y'all Betta\"}\n",
    "RUSTY_CUNTBROOKS = {'team_key': '402.l.55374.t.7', 'name': 'Russty Cuntbrooks'}\n",
    "WAKANDA_FOREVER = {'team_key': '402.l.55374.t.8', 'name': 'Wakanda Forever'}\n",
    "SWAGGY_P = {'team_key': '402.l.55374.t.9', 'name': 'Swaggy P'}\n",
    "YOBITCH_TOPPIN_ME = {'team_key': '402.l.55374.t.10', 'name': 'yOBItch Toppin Me'}\n",
    "TVONS_TIP_TOP_TEAM = {'team_key': '402.l.55374.t.11', 'name': \"Tvon's Tip-Top Team\"}\n",
    "EL_LADRON_DE_CABRAS = {'team_key': '402.l.55374.t.12', 'name': 'El Ladrón de Cabras'}\n",
    "league_team_list = [LALALAND, AUTOPICK, CRABBEHERBYTHEPUSSY, MAGICS_JOHNSON, MCCURRY,\n",
    "                    NUNN_OF_YALL_BETTA, RUSTY_CUNTBROOKS, WAKANDA_FOREVER, SWAGGY_P,\n",
    "                    YOBITCH_TOPPIN_ME, TVONS_TIP_TOP_TEAM, EL_LADRON_DE_CABRAS]\n",
    "\n",
    "\n",
    "def yahoo_fantasy_api_authentication():\n",
    "\n",
    "    sc = OAuth2(None, None, from_file=JSON_FOLDER)\n",
    "\n",
    "    return sc\n",
    "\n",
    "\n",
    "def yahoo_fantasy_league(sc):\n",
    "\n",
    "    gm = yfa.Game(sc, NBA)\n",
    "    league_id_list = gm.league_ids(year=SEASON)\n",
    "    league_id = \"\".join(str(id) for id in league_id_list)\n",
    "    league = gm.to_league(league_id)\n",
    "\n",
    "    return league\n",
    "\n",
    "\n",
    "def yahoo_player_team_and_jersey(player_name):\n",
    "\n",
    "    player_details_dictionary = league.player_details(player_name)\n",
    "    players_team = player_details_dictionary[0][EDITORIAL_TEAM_FULL_NAME]\n",
    "    players_number = player_details_dictionary[0][UNIFORM_NUMBER]\n",
    "\n",
    "    return players_team, players_number\n",
    "\n",
    "\n",
    "def player_ids_by_nba_team_name(nba_team):\n",
    "\n",
    "    common_all_players = commonallplayers.CommonAllPlayers(is_only_current_season=1)\n",
    "    common_all_players_dict = common_all_players.get_normalized_dict()[COMMON_ALL_PLAYERS]\n",
    "    player_ids_in_team_list = [player[PERSON_ID_KEY] for player in common_all_players_dict if \\\n",
    "        player[TEAM_CITY_KEY] + \" \" + player[TEAM_NAME_KEY] == nba_team]\n",
    "\n",
    "    return player_ids_in_team_list\n",
    "\n",
    "\n",
    "def nba_player_name_from_jersey_search(team_player_ids, yahoo_jersey_number):\n",
    "\n",
    "    for id in team_player_ids:\n",
    "        nba_jersey_number = commonplayerinfo.CommonPlayerInfo(id).get_normalized_dict() \\\n",
    "            [COMMON_PLAYER_INFO][0][JERSEY_KEY]\n",
    "        if nba_jersey_number == yahoo_jersey_number:\n",
    "            nba_name = commonplayerinfo.CommonPlayerInfo(id).get_normalized_dict() \\\n",
    "            [COMMON_PLAYER_INFO][0][DISPLAY_FIRST_LAST]\n",
    "\n",
    "            return nba_name\n",
    "\n",
    "\n",
    "def yahoo_name_to_nba_name(yahoo_player_name):\n",
    "    \"\"\" Function expectes a Yahoo player name and it will find the players Team Name and Jersey\n",
    "    Number. It then searches the NBA API for Player IDs belonging to found Team Name. For every\n",
    "    Player ID it searches their Jersey Number. When there is a match, it returns the NBA Player\n",
    "    Name.\n",
    "    \"\"\"\n",
    "\n",
    "    player_team, player_number = yahoo_player_team_and_jersey(yahoo_player_name)\n",
    "    player_ids_in_team_list = player_ids_by_nba_team_name(player_team)\n",
    "    nba_player_name = nba_player_name_from_jersey_search(player_ids_in_team_list, player_number)\n",
    "\n",
    "    return nba_player_name\n",
    "\n",
    "\n",
    "def create_roster_dataframe(player_list):\n",
    "\n",
    "    active_players = p9ca.nba_active_players()\n",
    "    roster_dataframe = pd.DataFrame()\n",
    "    for player in player_list:\n",
    "        try:\n",
    "            roster_dataframe = roster_dataframe.append(p9ca.player_average_9cat_stats(player,\n",
    "                                                                                      active_players))\n",
    "        except IndexError:\n",
    "            nba_player_name = yahoo_name_to_nba_name(player)\n",
    "            roster_dataframe = roster_dataframe.append(p9ca.player_average_9cat_stats(nba_player_name,\n",
    "                                                                                      active_players))\n",
    "        except:\n",
    "            print(f\"Can't find player {player}\")\n",
    "\n",
    "    roster_dataframe.reset_index(inplace=True, drop=True)\n",
    "\n",
    "    return roster_dataframe\n",
    "\n",
    "\n",
    "def format_roster_dataframe(roster_dataframe):\n",
    "\n",
    "    for column in roster_dataframe.columns[1:]:\n",
    "        roster_dataframe[column] = roster_dataframe[column].astype(float)\n",
    "\n",
    "    roster_dataframe.loc[MEAN_ROW] = roster_dataframe.mean()\n",
    "    roster_dataframe = p9ca.format_dataframe_decimals(roster_dataframe)\n",
    "    try:\n",
    "        roster_dataframe.drop(GAMES_COLUMN, axis=1, inplace=True)\n",
    "    except:\n",
    "        pass\n",
    "\n",
    "    return roster_dataframe\n",
    "\n",
    "\n",
    "def team_9cat_average_stats(team_dictionary, league):\n",
    "\n",
    "    team = league.to_team(team_dictionary[TEAM_KEY])\n",
    "    team_roster = team.roster()\n",
    "    player_in_team_list = [player[NAME_KEY] for player in team_roster]\n",
    "\n",
    "    roster_dataframe = create_roster_dataframe(player_in_team_list)\n",
    "\n",
    "    roster_dataframe = format_roster_dataframe(roster_dataframe)\n",
    "\n",
    "    return roster_dataframe\n",
    "\n",
    "\n",
    "def fantasy_team_mean_stats(roster_dataframe, team_dictionary):\n",
    "\n",
    "    mean_series = roster_dataframe.loc[MEAN_ROW]\n",
    "    mean_series[PLAYER_COLUMN] = team_dictionary[NAME_KEY]\n",
    "    team_mean_dataframe = pd.DataFrame(mean_series).T\n",
    "    team_mean_dataframe = team_mean_dataframe.rename(columns={PLAYER_COLUMN : TEAM_COLUMN})\n",
    "    team_mean_dataframe.reset_index(inplace=True, drop=True)\n",
    "\n",
    "    return team_mean_dataframe\n",
    "\n",
    "\n",
    "def player_to_team_mean_stats(team_dictionary, league):\n",
    "    \"\"\"\n",
    "    This function creates a dataframe containing the season averaged stats for each player on a\n",
    "    Fantasy Team. It then finds the average stats for the entire team and returns a single row\n",
    "    dataframe with the Fantasy Team name and its seasoned averaged 9cat stats.\n",
    "    \"\"\"\n",
    "\n",
    "    roster_dataframe = team_9cat_average_stats(team_dictionary, league)\n",
    "    team_mean_dataframe = fantasy_team_mean_stats(roster_dataframe, team_dictionary)\n",
    "\n",
    "    return team_mean_dataframe\n",
    "\n",
    "\n",
    "def league_averages(league_team_list):\n",
    "\n",
    "    league_averages_dataframe = pd.DataFrame()\n",
    "    for team in league_team_list:\n",
    "        yahoo_fantasy_api_authentication()\n",
    "        league_averages_dataframe = league_averages_dataframe.append(player_to_team_mean_stats\n",
    "                                                                     (team, league))\n",
    "    league_averages_dataframe.reset_index(drop=True, inplace=True)\n",
    "    return league_averages_dataframe\n",
    "\n",
    "\n",
    "def yahoo_player_team_and_jersey(player_name):\n",
    "\n",
    "    player_details_dictionary = league.player_details(player_name)\n",
    "    players_team = player_details_dictionary[0][EDITORIAL_TEAM_FULL_NAME]\n",
    "    players_number = player_details_dictionary[0][UNIFORM_NUMBER]\n",
    "\n",
    "    return players_team, players_number\n",
    "\n",
    "\n",
    "def player_ids_by_nba_team_name(nba_team):\n",
    "\n",
    "    common_all_players = commonallplayers.CommonAllPlayers(is_only_current_season=1)\n",
    "    common_all_players_dict = common_all_players.get_normalized_dict()[COMMON_ALL_PLAYERS]\n",
    "    player_ids_in_team_list = [player[PERSON_ID_KEY] for player in common_all_players_dict if \\\n",
    "        player[TEAM_CITY_KEY] + \" \" + player[TEAM_NAME_KEY] == nba_team]\n",
    "\n",
    "    return player_ids_in_team_list\n",
    "\n",
    "\n",
    "def nba_player_name_from_jersey_search(team_player_ids, yahoo_jersey_number):\n",
    "\n",
    "    for id in team_player_ids:\n",
    "        nba_jersey_number = commonplayerinfo.CommonPlayerInfo(id).get_normalized_dict() \\\n",
    "            [COMMON_PLAYER_INFO][0][JERSEY_KEY]\n",
    "        if nba_jersey_number == yahoo_jersey_number:\n",
    "            nba_name = commonplayerinfo.CommonPlayerInfo(id).get_normalized_dict() \\\n",
    "            [COMMON_PLAYER_INFO][0][DISPLAY_FIRST_LAST]\n",
    "\n",
    "            return nba_name\n",
    "\n",
    "\n",
    "def yahoo_name_to_nba_name(yahoo_player_name):\n",
    "    \"\"\" Function expectes a Yahoo player name and it will find the players Team Name and Jersey\n",
    "    Number. It then searches the NBA API for Player IDs belonging to found Team Name. For every\n",
    "    Player ID it searches their Jersey Number. When there is a match, it returns the NBA Player\n",
    "    Name.\n",
    "    \"\"\"\n",
    "\n",
    "    player_team, player_number = yahoo_player_team_and_jersey(yahoo_player_name)\n",
    "    player_ids_in_team_list = player_ids_by_nba_team_name(player_team)\n",
    "    nba_player_name = nba_player_name_from_jersey_search(player_ids_in_team_list, player_number)\n",
    "\n",
    "    return nba_player_name\n",
    "\n",
    "\n",
    "# Function to return team dataframe with 9cat averages\n",
    "def remove_mean_and_player(team_players_9cat_stats_dataframe, player_to_drop):\n",
    "\n",
    "    team_players_9cat_stats_dataframe = team_players_9cat_stats_dataframe.drop(MEAN_ROW)\n",
    "    team_players_9cat_stats_dataframe = \\\n",
    "        team_players_9cat_stats_dataframe[~team_players_9cat_stats_dataframe[PLAYER_COLUMN]\n",
    "    .str.contains(player_to_drop)]\n",
    "\n",
    "    return team_players_9cat_stats_dataframe\n",
    "\n",
    "\n",
    "def waiver_add_and_drop(fantasy_team, player_to_drop, player_to_add):\n",
    "\n",
    "    team_players_9cat_stats_dataframe = team_9cat_average_stats(fantasy_team, league)\n",
    "    current_team_9cat_average_stats = pd.DataFrame(team_players_9cat_stats_dataframe\n",
    "                                                   .loc[MEAN_ROW]).T.drop(PLAYER_COLUMN, axis=1)\n",
    "\n",
    "    removed_mean_dropped_player_dataframe = remove_mean_and_player\\\n",
    "        (team_players_9cat_stats_dataframe, player_to_drop)\n",
    "\n",
    "    added_player_9cat_averages = p9ca.get_player_9cat_season_average(player_to_add)\n",
    "    new_team_9cat_average_stats_dataframe = removed_mean_dropped_player_dataframe.append\\\n",
    "        (added_player_9cat_averages)\n",
    "    new_team_9cat_average_stats_dataframe.reset_index(inplace=True, drop=True)\n",
    "\n",
    "    new_team_9cat_average_stats_dataframe = format_roster_dataframe \\\n",
    "        (new_team_9cat_average_stats_dataframe)\n",
    "\n",
    "    new_team_9cat_average_stats = pd.DataFrame(new_team_9cat_average_stats_dataframe\n",
    "                                                   .loc[MEAN_ROW]).T.drop(PLAYER_COLUMN, axis=1)\n",
    "\n",
    "    return team_players_9cat_stats_dataframe, current_team_9cat_average_stats, \\\n",
    "           new_team_9cat_average_stats_dataframe, new_team_9cat_average_stats\n",
    "\n",
    "\n",
    "# Format and find 9cat differences\n",
    "def remove_player_and_float_convert(dataframe):\n",
    "\n",
    "    for column in dataframe.columns:\n",
    "        dataframe[column] = dataframe[column].astype(float)\n",
    "\n",
    "    return dataframe\n",
    "\n",
    "\n",
    "def drop_add_mean_9cat_difference(current_9cat, new_9cat):\n",
    "\n",
    "    current_9cat = remove_player_and_float_convert(current_9cat)\n",
    "    new_9cat = remove_player_and_float_convert(new_9cat)\n",
    "\n",
    "    difference_9cat = new_9cat.subtract(current_9cat)\n",
    "\n",
    "    return difference_9cat\n",
    "\n",
    "\n",
    "# Visualise current, new and difference\n",
    "def visualise_team_9cat_averages(player_to_drop, player_to_add, current_9cat, new_9cat,\n",
    "                                 difference_9cat, visualise=True):\n",
    "    if visualise:\n",
    "        print(f\"You are dropping {player_to_drop} and adding {player_to_add}! \\n\")\n",
    "\n",
    "        print(\"The current team 9cat averages are:\\n\")\n",
    "        print(current_9cat)\n",
    "        print(\"\\n\")\n",
    "\n",
    "        print(\"The new team 9cat averages are:\\n\")\n",
    "        print(new_9cat)\n",
    "        print(\"\\n\")\n",
    "\n",
    "        print(\"The difference 9cat averages are:\\n\")\n",
    "        print(difference_9cat)\n",
    "        print(\"\\n\")\n",
    "    else:\n",
    "        pass\n",
    "\n",
    "\n",
    "# Function for the entire process\n",
    "def compare_team_9cats_on_transaction(team, player_to_drop, player_to_add, visualise=True):\n",
    "\n",
    "    current_players_9cat_averages, current_team_9cat_averages, new_players_9cat_averages, \\\n",
    "    new_team_9cat_averages = waiver_add_and_drop(team, player_to_drop, player_to_add)\n",
    "\n",
    "    difference_team_9cat_averages = drop_add_mean_9cat_difference(current_team_9cat_averages,\n",
    "                                                  new_team_9cat_averages)\n",
    "\n",
    "    visualise_team_9cat_averages(player_to_drop, player_to_add, current_team_9cat_averages,\n",
    "                             new_team_9cat_averages, difference_team_9cat_averages, visualise)\n",
    "\n",
    "    return current_players_9cat_averages, current_team_9cat_averages, new_players_9cat_averages, \\\n",
    "           new_team_9cat_averages, difference_team_9cat_averages\n",
    "\n",
    "\n",
    "# Function power ranking\n",
    "def power_rankings(dataframe):\n",
    "\n",
    "    power_ranking_dataframe =  dataframe.copy()\n",
    "    try:\n",
    "        power_ranking_dataframe.drop(MEAN_ROW, inplace=True)\n",
    "    except KeyError:\n",
    "        pass\n",
    "    for column in power_ranking_dataframe.columns[1:]:\n",
    "\n",
    "        sorted_points = power_ranking_dataframe[column].sort_values(ascending=False)\n",
    "        sorted_points.drop_duplicates(inplace=True)\n",
    "\n",
    "        sorting_dictionary = dict()\n",
    "\n",
    "        count = 1\n",
    "        for point in sorted_points:\n",
    "            sorting_dictionary[point] = count\n",
    "            count += 1\n",
    "\n",
    "        power_ranking_dataframe[column + RANK_SUFFIX] = power_ranking_dataframe[column].map\\\n",
    "            (sorting_dictionary)\n",
    "\n",
    "    power_ranking_dataframe.drop(dataframe.columns[1:], axis=1, inplace=True)\n",
    "\n",
    "    return power_ranking_dataframe"
   ],
   "metadata": {
    "collapsed": false,
    "pycharm": {
     "name": "#%%\n"
    }
   }
  },
  {
   "cell_type": "code",
   "execution_count": 7,
   "outputs": [
    {
     "name": "stderr",
     "output_type": "stream",
     "text": [
      "[2021-01-27 23:13:20,502 DEBUG] [yahoo_oauth.oauth.__init__] Checking \n",
      "[2021-01-27 23:13:20,505 DEBUG] [yahoo_oauth.oauth.token_is_valid] ELAPSED TIME : 555.8798151016235\n",
      "[2021-01-27 23:13:20,505 DEBUG] [yahoo_oauth.oauth.token_is_valid] TOKEN IS STILL VALID\n"
     ]
    },
    {
     "name": "stdout",
     "output_type": "stream",
     "text": [
      "You are dropping Will Barton and adding Monte Morris! \n",
      "\n",
      "The current team 9cat averages are:\n",
      "\n",
      "      FG_PCT  FT_PCT  FG3M    PTS   REB   AST   STL  BLK   TOV\n",
      "mean   0.473   0.826  1.96  15.63  5.04  3.71  1.03  0.4  1.63\n",
      "\n",
      "\n",
      "The new team 9cat averages are:\n",
      "\n",
      "      FG_PCT  FT_PCT  FG3M    PTS   REB   AST   STL   BLK   TOV\n",
      "mean    0.48   0.825  1.96  15.68  4.92  3.72  1.02  0.39  1.58\n",
      "\n",
      "\n",
      "The difference 9cat averages are:\n",
      "\n",
      "      FG_PCT  FT_PCT  FG3M   PTS   REB   AST   STL   BLK   TOV\n",
      "mean   0.007  -0.001   0.0  0.05 -0.12  0.01 -0.01 -0.01 -0.05\n",
      "\n",
      "\n"
     ]
    }
   ],
   "source": [
    "sc = yahoo_fantasy_api_authentication()\n",
    "league = yahoo_fantasy_league(sc)\n",
    "PLAYER_TO_DROP = \"Will Barton\"\n",
    "PLAYER_TO_ADD = \"Monte Morris\"\n",
    "\n",
    "current_players_9cat_averages, current_team_9cat_averages, new_players_9cat_averages, \\\n",
    "    new_team_9cat_averages, difference_team_9cat_averages = compare_team_9cats_on_transaction\\\n",
    "    (NUNN_OF_YALL_BETTA, PLAYER_TO_DROP, PLAYER_TO_ADD)"
   ],
   "metadata": {
    "collapsed": false,
    "pycharm": {
     "name": "#%%\n"
    }
   }
  },
  {
   "cell_type": "markdown",
   "source": [
    "## Streamlit\n",
    "This section creates logic and code needed to run efficiently on Streamlit"
   ],
   "metadata": {
    "collapsed": false,
    "pycharm": {
     "name": "#%% md\n"
    }
   }
  },
  {
   "cell_type": "code",
   "execution_count": 16,
   "outputs": [],
   "source": [
    "def get_team_id_from_team_name(team_name):\n",
    "\n",
    "    return \"\".join([x[TEAM_KEY] for x in league_team_list if x[NAME_KEY] == team_name])\n",
    "\n",
    "\n",
    "def team_player_list(team_id):\n",
    "    sc = yahoo_fantasy_api_authentication()\n",
    "    league = yahoo_fantasy_league(sc)\n",
    "    team = league.to_team(team_id)\n",
    "    team_roster = team.roster()\n",
    "    player_in_team_list = [player[NAME_KEY] for player in team_roster]\n",
    "\n",
    "    return player_in_team_list\n",
    "\n",
    "\n",
    "def streamlit_return_players_on_team(team_name):\n",
    "\n",
    "    team_id = get_team_id_from_team_name(team_name)\n",
    "    player_list = team_player_list(team_id)\n",
    "\n",
    "    return player_list"
   ],
   "metadata": {
    "collapsed": false,
    "pycharm": {
     "name": "#%%\n"
    }
   }
  },
  {
   "cell_type": "code",
   "execution_count": 6,
   "outputs": [
    {
     "name": "stderr",
     "output_type": "stream",
     "text": [
      "[2021-01-29 09:44:17,832 DEBUG] [yahoo_oauth.oauth.__init__] Checking \n",
      "[2021-01-29 09:44:17,844 DEBUG] [yahoo_oauth.oauth.token_is_valid] ELAPSED TIME : 2453.2029569149017\n",
      "[2021-01-29 09:44:17,845 DEBUG] [yahoo_oauth.oauth.token_is_valid] TOKEN IS STILL VALID\n"
     ]
    },
    {
     "data": {
      "text/plain": "['Patty Mills',\n 'Will Barton',\n 'Malcolm Brogdon',\n 'Jeremy Lamb',\n 'Khris Middleton',\n 'Davis Bertans',\n 'Nikola Jokic',\n 'Pascal Siakam',\n 'Eric Bledsoe',\n 'Cameron Johnson',\n 'Wayne Ellington',\n 'Jimmy Butler',\n 'Duncan Robinson',\n 'Enes Kanter',\n 'Marcus Smart']"
     },
     "execution_count": 6,
     "metadata": {},
     "output_type": "execute_result"
    }
   ],
   "source": [
    "team_player_list(NUNN_OF_YALL_BETTA)"
   ],
   "metadata": {
    "collapsed": false,
    "pycharm": {
     "name": "#%%\n"
    }
   }
  },
  {
   "cell_type": "code",
   "execution_count": 7,
   "outputs": [
    {
     "data": {
      "text/plain": "[{'team_key': '402.l.55374.t.1', 'name': 'LaLaLand'},\n {'team_key': '402.l.55374.t.2', 'name': 'Autopick'},\n {'team_key': '402.l.55374.t.3', 'name': 'CrabbeHerByThePussy'},\n {'team_key': '402.l.55374.t.4', 'name': \"Magic's Johnson\"},\n {'team_key': '402.l.55374.t.5', 'name': 'McCurry'},\n {'team_key': '402.l.55374.t.6', 'name': \"Nunn of Y'all Betta\"},\n {'team_key': '402.l.55374.t.7', 'name': 'Russty Cuntbrooks'},\n {'team_key': '402.l.55374.t.8', 'name': 'Wakanda Forever'},\n {'team_key': '402.l.55374.t.9', 'name': 'Swaggy P'},\n {'team_key': '402.l.55374.t.10', 'name': 'yOBItch Toppin Me'},\n {'team_key': '402.l.55374.t.11', 'name': \"Tvon's Tip-Top Team\"},\n {'team_key': '402.l.55374.t.12', 'name': 'El Ladrón de Cabras'}]"
     },
     "execution_count": 7,
     "metadata": {},
     "output_type": "execute_result"
    }
   ],
   "source": [
    "league_team_list"
   ],
   "metadata": {
    "collapsed": false,
    "pycharm": {
     "name": "#%%\n"
    }
   }
  },
  {
   "cell_type": "code",
   "execution_count": 14,
   "outputs": [
    {
     "data": {
      "text/plain": "'402.l.55374.t.1'"
     },
     "execution_count": 14,
     "metadata": {},
     "output_type": "execute_result"
    }
   ],
   "source": [
    "\"\".join([x[\"team_key\"] for x in league_team_list if x[\"name\"] == 'LaLaLand'])"
   ],
   "metadata": {
    "collapsed": false,
    "pycharm": {
     "name": "#%%\n"
    }
   }
  },
  {
   "cell_type": "code",
   "execution_count": 17,
   "outputs": [
    {
     "name": "stderr",
     "output_type": "stream",
     "text": [
      "[2021-01-29 09:52:16,276 DEBUG] [yahoo_oauth.oauth.__init__] Checking \n",
      "[2021-01-29 09:52:16,277 DEBUG] [yahoo_oauth.oauth.token_is_valid] ELAPSED TIME : 2931.6353845596313\n",
      "[2021-01-29 09:52:16,277 DEBUG] [yahoo_oauth.oauth.token_is_valid] TOKEN IS STILL VALID\n"
     ]
    },
    {
     "data": {
      "text/plain": "['LaMelo Ball',\n 'Shake Milton',\n 'Josh Richardson',\n 'Josh Hart',\n 'Serge Ibaka',\n 'Shai Gilgeous-Alexander',\n 'Clint Capela',\n 'Paul Millsap',\n 'Seth Curry',\n 'Bobby Portis',\n 'Damian Lillard',\n 'Tyler Herro',\n 'Ja Morant',\n 'Jaylen Brown',\n 'Lauri Markkanen']"
     },
     "execution_count": 17,
     "metadata": {},
     "output_type": "execute_result"
    }
   ],
   "source": [
    "streamlit_return_players_on_team(\"Autopick\")\n"
   ],
   "metadata": {
    "collapsed": false,
    "pycharm": {
     "name": "#%%\n"
    }
   }
  },
  {
   "cell_type": "code",
   "execution_count": null,
   "outputs": [],
   "source": [],
   "metadata": {
    "collapsed": false,
    "pycharm": {
     "name": "#%%\n"
    }
   }
  }
 ],
 "metadata": {
  "kernelspec": {
   "display_name": "Python 3",
   "language": "python",
   "name": "python3"
  },
  "language_info": {
   "codemirror_mode": {
    "name": "ipython",
    "version": 2
   },
   "file_extension": ".py",
   "mimetype": "text/x-python",
   "name": "python",
   "nbconvert_exporter": "python",
   "pygments_lexer": "ipython2",
   "version": "2.7.6"
  }
 },
 "nbformat": 4,
 "nbformat_minor": 0
}