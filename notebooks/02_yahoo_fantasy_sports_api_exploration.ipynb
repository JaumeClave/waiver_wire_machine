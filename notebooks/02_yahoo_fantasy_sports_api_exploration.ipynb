{
 "cells": [
  {
   "cell_type": "markdown",
   "metadata": {
    "collapsed": true,
    "pycharm": {
     "name": "#%% md\n"
    }
   },
   "source": [
    "# Yahoo Fantasy Sports API"
   ]
  },
  {
   "cell_type": "code",
   "execution_count": 1,
   "outputs": [
    {
     "name": "stderr",
     "output_type": "stream",
     "text": [
      "[2021-01-23 10:36:15,941 DEBUG] [yahoo_oauth.oauth.__init__] Checking \n",
      "[2021-01-23 10:36:15,952 DEBUG] [yahoo_oauth.oauth.token_is_valid] ELAPSED TIME : 4.649432897567749\n",
      "[2021-01-23 10:36:15,953 DEBUG] [yahoo_oauth.oauth.token_is_valid] TOKEN IS STILL VALID\n"
     ]
    }
   ],
   "source": [
    "# Authenticate\n",
    "from yahoo_oauth import OAuth2\n",
    "sc = OAuth2(None, None, from_file='../references/oauth2.json')"
   ],
   "metadata": {
    "collapsed": false,
    "pycharm": {
     "name": "#%%\n"
    }
   }
  },
  {
   "cell_type": "code",
   "execution_count": 2,
   "outputs": [],
   "source": [
    "import yahoo_fantasy_api as yfa\n",
    "gm = yfa.Game(sc, 'nba')"
   ],
   "metadata": {
    "collapsed": false,
    "pycharm": {
     "name": "#%%\n"
    }
   }
  },
  {
   "cell_type": "code",
   "execution_count": 2,
   "outputs": [
    {
     "ename": "NameError",
     "evalue": "name 'gm' is not defined",
     "output_type": "error",
     "traceback": [
      "\u001B[1;31m---------------------------------------------------------------------------\u001B[0m",
      "\u001B[1;31mNameError\u001B[0m                                 Traceback (most recent call last)",
      "\u001B[1;32m<ipython-input-2-48d74c570848>\u001B[0m in \u001B[0;36m<module>\u001B[1;34m\u001B[0m\n\u001B[0;32m      1\u001B[0m \u001B[1;31m# Get League Ids I have access to\u001B[0m\u001B[1;33m\u001B[0m\u001B[1;33m\u001B[0m\u001B[1;33m\u001B[0m\u001B[0m\n\u001B[1;32m----> 2\u001B[1;33m \u001B[0mleague_id_list\u001B[0m \u001B[1;33m=\u001B[0m \u001B[0mgm\u001B[0m\u001B[1;33m.\u001B[0m\u001B[0mleague_ids\u001B[0m\u001B[1;33m(\u001B[0m\u001B[0myear\u001B[0m\u001B[1;33m=\u001B[0m\u001B[1;36m2020\u001B[0m\u001B[1;33m)\u001B[0m\u001B[1;33m\u001B[0m\u001B[1;33m\u001B[0m\u001B[0m\n\u001B[0m\u001B[0;32m      3\u001B[0m \u001B[0mleague_id\u001B[0m \u001B[1;33m=\u001B[0m \u001B[1;34m\"\"\u001B[0m\u001B[1;33m.\u001B[0m\u001B[0mjoin\u001B[0m\u001B[1;33m(\u001B[0m\u001B[0mstr\u001B[0m\u001B[1;33m(\u001B[0m\u001B[0mid\u001B[0m\u001B[1;33m)\u001B[0m \u001B[1;32mfor\u001B[0m \u001B[0mid\u001B[0m \u001B[1;32min\u001B[0m \u001B[0mleague_id_list\u001B[0m\u001B[1;33m)\u001B[0m\u001B[1;33m\u001B[0m\u001B[1;33m\u001B[0m\u001B[0m\n\u001B[0;32m      4\u001B[0m \u001B[0mprint\u001B[0m\u001B[1;33m(\u001B[0m\u001B[1;34mf\"The League Id is: {league_id}\"\u001B[0m\u001B[1;33m)\u001B[0m\u001B[1;33m\u001B[0m\u001B[1;33m\u001B[0m\u001B[0m\n\u001B[0;32m      5\u001B[0m \u001B[1;33m\u001B[0m\u001B[0m\n",
      "\u001B[1;31mNameError\u001B[0m: name 'gm' is not defined"
     ]
    }
   ],
   "source": [
    "# Get League Ids I have access to\n",
    "league_id_list = gm.league_ids(year=2020)\n",
    "league_id = \"\".join(str(id) for id in league_id_list)\n",
    "print(f\"The League Id is: {league_id}\")"
   ],
   "metadata": {
    "collapsed": false,
    "pycharm": {
     "name": "#%%\n"
    }
   }
  },
  {
   "cell_type": "code",
   "execution_count": 107,
   "outputs": [],
   "source": [
    "# Categories\n",
    "lg = gm.to_league(league_id)\n",
    "league_categories = lg.stat_categories()"
   ],
   "metadata": {
    "collapsed": false,
    "pycharm": {
     "name": "#%%\n"
    }
   }
  },
  {
   "cell_type": "code",
   "execution_count": 5,
   "outputs": [
    {
     "name": "stdout",
     "output_type": "stream",
     "text": [
      "The 9 categories in the league are: ['FG%', 'FT%', '3PTM', 'PTS', 'REB', 'AST', 'ST', 'BLK', 'TO']\n"
     ]
    }
   ],
   "source": [
    "# Print league categories\n",
    "print(f'The 9 categories in the league are: '\n",
    "      f'{[category[\"display_name\"] for category in league_categories]}')"
   ],
   "metadata": {
    "collapsed": false,
    "pycharm": {
     "name": "#%%\n"
    }
   }
  },
  {
   "cell_type": "code",
   "execution_count": 6,
   "outputs": [
    {
     "data": {
      "text/plain": "{'402.l.55374.t.3': {'team_key': '402.l.55374.t.3',\n  'team_id': '3',\n  'name': 'CrabbeHerByThePussy',\n  'url': 'https://basketball.fantasysports.yahoo.com/nba/55374/3',\n  'team_logos': [{'team_logo': {'size': 'large',\n     'url': 'https://s.yimg.com/cv/apiv2/default/nba/nba_1_m.png'}}],\n  'waiver_priority': 8,\n  'number_of_moves': '4',\n  'number_of_trades': 0,\n  'roster_adds': {'coverage_type': 'week', 'coverage_value': 5, 'value': '0'},\n  'league_scoring_type': 'headone',\n  'draft_position': 5,\n  'has_draft_grade': 0,\n  'managers': [{'manager': {'manager_id': '3',\n     'nickname': 'Marcos',\n     'guid': 'MQNQZBBOR5XNH4WSVWGNPV4CCU',\n     'email': 'marcostapiachile@gmail.com',\n     'image_url': 'https://s.yimg.com/ag/images/default_user_profile_pic_64sq.jpg'}}]},\n '402.l.55374.t.7': {'team_key': '402.l.55374.t.7',\n  'team_id': '7',\n  'name': 'Russty Cuntbrooks',\n  'url': 'https://basketball.fantasysports.yahoo.com/nba/55374/7',\n  'team_logos': [{'team_logo': {'size': 'large',\n     'url': 'https://s.yimg.com/cv/apiv2/default/nba/nba_5.png'}}],\n  'waiver_priority': 3,\n  'number_of_moves': '6',\n  'number_of_trades': '1',\n  'roster_adds': {'coverage_type': 'week', 'coverage_value': 5, 'value': '1'},\n  'league_scoring_type': 'headone',\n  'draft_position': 10,\n  'has_draft_grade': 0,\n  'managers': [{'manager': {'manager_id': '7',\n     'nickname': 'Alvaro',\n     'guid': '54RYPWSN35JEDM6ERNII5GJLDI',\n     'email': 'alvaro1410@yahoo.com',\n     'image_url': 'https://s.yimg.com/ag/images/default_user_profile_pic_64sq.jpg'}}]},\n '402.l.55374.t.5': {'team_key': '402.l.55374.t.5',\n  'team_id': '5',\n  'name': 'McCurry',\n  'url': 'https://basketball.fantasysports.yahoo.com/nba/55374/5',\n  'team_logos': [{'team_logo': {'size': 'large',\n     'url': 'https://yahoofantasysports-res.cloudinary.com/image/upload/t_s192sq/fantasy-logos/56477494345_4e17d7.jpg'}}],\n  'waiver_priority': 11,\n  'number_of_moves': '5',\n  'number_of_trades': 0,\n  'roster_adds': {'coverage_type': 'week', 'coverage_value': 5, 'value': '0'},\n  'league_scoring_type': 'headone',\n  'draft_position': 1,\n  'has_draft_grade': 0,\n  'managers': [{'manager': {'manager_id': '5',\n     'nickname': 'Alex',\n     'guid': 'WOMWJNENRZ3ZLUQARZP25MPMED',\n     'image_url': 'https://s.yimg.com/ag/images/default_user_profile_pic_64sq.jpg'}}]},\n '402.l.55374.t.6': {'team_key': '402.l.55374.t.6',\n  'team_id': '6',\n  'name': \"Nunn of Y'all Betta\",\n  'is_owned_by_current_login': 1,\n  'url': 'https://basketball.fantasysports.yahoo.com/nba/55374/6',\n  'team_logos': [{'team_logo': {'size': 'large',\n     'url': 'https://s.yimg.com/cv/apiv2/default/nba/nba_2_j.png'}}],\n  'waiver_priority': 5,\n  'number_of_moves': '3',\n  'number_of_trades': 0,\n  'roster_adds': {'coverage_type': 'week', 'coverage_value': 5, 'value': '1'},\n  'league_scoring_type': 'headone',\n  'draft_position': 8,\n  'has_draft_grade': 0,\n  'managers': [{'manager': {'manager_id': '6',\n     'nickname': 'Jaume',\n     'guid': 'TY7DUXAMQZTFFMXYA6443UE5RI',\n     'is_current_login': '1',\n     'email': 'jclaved@yahoo.com',\n     'image_url': 'https://s.yimg.com/ag/images/default_user_profile_pic_64sq.jpg'}}]},\n '402.l.55374.t.4': {'team_key': '402.l.55374.t.4',\n  'team_id': '4',\n  'name': \"Magic's Johnson\",\n  'url': 'https://basketball.fantasysports.yahoo.com/nba/55374/4',\n  'team_logos': [{'team_logo': {'size': 'large',\n     'url': 'https://yahoofantasysports-res.cloudinary.com/image/upload/t_s192sq/fantasy-logos/56484176991_e0cd8f.jpg'}}],\n  'waiver_priority': 1,\n  'number_of_moves': '5',\n  'number_of_trades': 0,\n  'roster_adds': {'coverage_type': 'week', 'coverage_value': 5, 'value': '1'},\n  'league_scoring_type': 'headone',\n  'draft_position': 12,\n  'has_draft_grade': 0,\n  'managers': [{'manager': {'manager_id': '4',\n     'nickname': 'Gerard',\n     'guid': 'X3MGDBQZ57FA5FPM7GQ5CBV7PE',\n     'email': 'gerardpinoesteve1996@gmail.com',\n     'image_url': 'https://s.yimg.com/ag/images/default_user_profile_pic_64sq.jpg'}}]},\n '402.l.55374.t.12': {'team_key': '402.l.55374.t.12',\n  'team_id': '12',\n  'name': 'El Ladrón de Cabras',\n  'url': 'https://basketball.fantasysports.yahoo.com/nba/55374/12',\n  'team_logos': [{'team_logo': {'size': 'large',\n     'url': 'https://yahoofantasysports-res.cloudinary.com/image/upload/t_s192sq/fantasy-logos/007f22590f40253091e62423f37483223bbc95b2f92b061318f86a455de84ef0.jpg'}}],\n  'waiver_priority': 12,\n  'number_of_moves': '2',\n  'number_of_trades': 0,\n  'roster_adds': {'coverage_type': 'week', 'coverage_value': 5, 'value': '0'},\n  'league_scoring_type': 'headone',\n  'draft_position': 3,\n  'has_draft_grade': 0,\n  'managers': [{'manager': {'manager_id': '12',\n     'nickname': 'Blake',\n     'guid': 'P6ND4NTO4LWPTQEYUA5SYLPW3U',\n     'email': 'blakewhitelacourse@yahoo.ca',\n     'image_url': 'https://s.yimg.com/ag/images/default_user_profile_pic_64sq.jpg'}}]},\n '402.l.55374.t.2': {'team_key': '402.l.55374.t.2',\n  'team_id': '2',\n  'name': 'Autopick',\n  'url': 'https://basketball.fantasysports.yahoo.com/nba/55374/2',\n  'team_logos': [{'team_logo': {'size': 'large',\n     'url': 'https://s.yimg.com/cv/apiv2/default/nba/nba_1_i.png'}}],\n  'waiver_priority': 6,\n  'number_of_moves': '2',\n  'number_of_trades': 0,\n  'roster_adds': {'coverage_type': 'week', 'coverage_value': 5, 'value': '0'},\n  'league_scoring_type': 'headone',\n  'draft_position': 7,\n  'has_draft_grade': 0,\n  'managers': [{'manager': {'manager_id': '2',\n     'nickname': 'Isidro',\n     'guid': 'FQNPHLITUU5DO3KU3VAI4N6R5A',\n     'email': 'isidrosanabre@gmail.com',\n     'image_url': 'https://s.yimg.com/ag/images/default_user_profile_pic_64sq.jpg'}}]},\n '402.l.55374.t.8': {'team_key': '402.l.55374.t.8',\n  'team_id': '8',\n  'name': 'Wakanda Forever',\n  'url': 'https://basketball.fantasysports.yahoo.com/nba/55374/8',\n  'team_logos': [{'team_logo': {'size': 'large',\n     'url': 'https://s.yimg.com/cv/apiv2/default/nba/nba_10.png'}}],\n  'waiver_priority': 10,\n  'number_of_moves': 0,\n  'number_of_trades': 0,\n  'roster_adds': {'coverage_type': 'week', 'coverage_value': 5, 'value': '0'},\n  'league_scoring_type': 'headone',\n  'draft_position': 2,\n  'has_draft_grade': 0,\n  'managers': [{'manager': {'manager_id': '8',\n     'nickname': 'Pau',\n     'guid': 'UFCT6II6LBTV2MHOV6QN4XMSTE',\n     'email': 'ppalaug@gmail.com',\n     'image_url': 'https://s.yimg.com/ag/images/default_user_profile_pic_64sq.jpg'}}]},\n '402.l.55374.t.9': {'team_key': '402.l.55374.t.9',\n  'team_id': '9',\n  'name': 'Swaggy P',\n  'url': 'https://basketball.fantasysports.yahoo.com/nba/55374/9',\n  'team_logos': [{'team_logo': {'size': 'large',\n     'url': 'https://s.yimg.com/cv/apiv2/default/nba/nba_1_s.png'}}],\n  'waiver_priority': 7,\n  'number_of_moves': '3',\n  'number_of_trades': 0,\n  'roster_adds': {'coverage_type': 'week', 'coverage_value': 5, 'value': '1'},\n  'league_scoring_type': 'headone',\n  'draft_position': 6,\n  'has_draft_grade': 0,\n  'managers': [{'manager': {'manager_id': '9',\n     'nickname': 'Guillem',\n     'guid': 'X4B2IQH5KWAQLGO3V43TYHDLYI',\n     'email': 'gvidaldelso@gmail.com',\n     'image_url': 'https://s.yimg.com/ag/images/default_user_profile_pic_64sq.jpg'}}]},\n '402.l.55374.t.10': {'team_key': '402.l.55374.t.10',\n  'team_id': '10',\n  'name': 'yOBItch Toppin Me',\n  'url': 'https://basketball.fantasysports.yahoo.com/nba/55374/10',\n  'team_logos': [{'team_logo': {'size': 'large',\n     'url': 'https://yahoofantasysports-res.cloudinary.com/image/upload/t_s192sq/fantasy-logos/31bccad1c9419c626304d3e265078f5cea831982e9415adf11f8345b6a963fe9.jpg'}}],\n  'waiver_priority': 4,\n  'number_of_moves': '1',\n  'number_of_trades': '1',\n  'roster_adds': {'coverage_type': 'week', 'coverage_value': 5, 'value': '0'},\n  'league_scoring_type': 'headone',\n  'draft_position': 9,\n  'has_draft_grade': 0,\n  'managers': [{'manager': {'manager_id': '10',\n     'nickname': 'Marc',\n     'guid': 'V6FDOKUD4OCDFXYCCRYYJ33TWI',\n     'email': 'marc.e.pamias@gmail.com',\n     'image_url': 'https://s.yimg.com/ag/images/default_user_profile_pic_64sq.jpg'}}]},\n '402.l.55374.t.1': {'team_key': '402.l.55374.t.1',\n  'team_id': '1',\n  'name': 'LaLaLand',\n  'url': 'https://basketball.fantasysports.yahoo.com/nba/55374/1',\n  'team_logos': [{'team_logo': {'size': 'large',\n     'url': 'https://s.yimg.com/cv/apiv2/default/nba/nba_2_l.png'}}],\n  'waiver_priority': 2,\n  'number_of_moves': '8',\n  'number_of_trades': 0,\n  'roster_adds': {'coverage_type': 'week', 'coverage_value': 5, 'value': '0'},\n  'league_scoring_type': 'headone',\n  'draft_position': 11,\n  'has_draft_grade': 0,\n  'managers': [{'manager': {'manager_id': '1',\n     'nickname': 'Alex',\n     'guid': 'W5UDMKGQCBWLMKC3FDEHANJXPU',\n     'is_commissioner': '1',\n     'email': 'alexpascual96@gmail.com',\n     'image_url': 'https://s.yimg.com/ag/images/default_user_profile_pic_64sq.jpg'}}]},\n '402.l.55374.t.11': {'team_key': '402.l.55374.t.11',\n  'team_id': '11',\n  'name': \"Tvon's Tip-Top Team\",\n  'url': 'https://basketball.fantasysports.yahoo.com/nba/55374/11',\n  'team_logos': [{'team_logo': {'size': 'large',\n     'url': 'https://s.yimg.com/cv/apiv2/default/nba/nba_6_t.png'}}],\n  'waiver_priority': 9,\n  'number_of_moves': 0,\n  'number_of_trades': 0,\n  'roster_adds': {'coverage_type': 'week', 'coverage_value': 5, 'value': '0'},\n  'league_scoring_type': 'headone',\n  'draft_position': 4,\n  'has_draft_grade': 0,\n  'managers': [{'manager': {'manager_id': '11',\n     'nickname': 'Tvon',\n     'guid': 'ISVU3LU5RHVU2PYGHQUYD2QYOI',\n     'email': 'tvon50@yahoo.com',\n     'image_url': 'https://s.yimg.com/ag/images/default_user_profile_pic_64sq.jpg'}}]}}"
     },
     "execution_count": 6,
     "metadata": {},
     "output_type": "execute_result"
    }
   ],
   "source": [
    "tms = lg.teams()\n",
    "tms"
   ],
   "metadata": {
    "collapsed": false,
    "pycharm": {
     "name": "#%%\n"
    }
   }
  },
  {
   "cell_type": "code",
   "execution_count": 7,
   "outputs": [
    {
     "data": {
      "text/plain": "<yahoo_fantasy_api.team.Team at 0x1ce4d84ca30>"
     },
     "execution_count": 7,
     "metadata": {},
     "output_type": "execute_result"
    }
   ],
   "source": [
    "tm = lg.to_team('402.l.55374.t.6')\n",
    "tm"
   ],
   "metadata": {
    "collapsed": false,
    "pycharm": {
     "name": "#%%\n"
    }
   }
  },
  {
   "cell_type": "code",
   "execution_count": 15,
   "outputs": [
    {
     "data": {
      "text/plain": "[{'player_id': 5650,\n  'name': 'Malik Beasley',\n  'status': '',\n  'position_type': 'P',\n  'eligible_positions': ['PG', 'SG', 'G', 'Util'],\n  'selected_position': 'PG'},\n {'player_id': 6021,\n  'name': 'Mikal Bridges',\n  'status': '',\n  'position_type': 'P',\n  'eligible_positions': ['SG', 'G', 'SF', 'F', 'Util'],\n  'selected_position': 'SG'},\n {'player_id': 5764,\n  'name': 'Lonzo Ball',\n  'status': '',\n  'position_type': 'P',\n  'eligible_positions': ['PG', 'SG', 'G', 'Util'],\n  'selected_position': 'G'},\n {'player_id': 6174,\n  'name': 'PJ Washington',\n  'status': '',\n  'position_type': 'P',\n  'eligible_positions': ['SF', 'PF', 'F', 'Util'],\n  'selected_position': 'SF'},\n {'player_id': 5318,\n  'name': 'Julius Randle',\n  'status': '',\n  'position_type': 'P',\n  'eligible_positions': ['PF', 'F', 'C', 'Util'],\n  'selected_position': 'PF'},\n {'player_id': 3704,\n  'name': 'LeBron James',\n  'status': '',\n  'position_type': 'P',\n  'eligible_positions': ['PG', 'SG', 'G', 'SF', 'F', 'Util'],\n  'selected_position': 'F'},\n {'player_id': 4897,\n  'name': 'Nikola Vucevic',\n  'status': '',\n  'position_type': 'P',\n  'eligible_positions': ['C', 'Util'],\n  'selected_position': 'C'},\n {'player_id': 5855,\n  'name': 'Thomas Bryant',\n  'status': 'INJ',\n  'position_type': 'P',\n  'eligible_positions': ['C', 'Util'],\n  'selected_position': 'C'},\n {'player_id': 5068,\n  'name': 'Jae Crowder',\n  'status': '',\n  'position_type': 'P',\n  'eligible_positions': ['SF', 'PF', 'F', 'Util'],\n  'selected_position': 'Util'},\n {'player_id': 4893,\n  'name': 'Alec Burks',\n  'status': '',\n  'position_type': 'P',\n  'eligible_positions': ['SG', 'G', 'SF', 'F', 'Util'],\n  'selected_position': 'Util'},\n {'player_id': 6404,\n  'name': 'Tyrese Haliburton',\n  'status': '',\n  'position_type': 'P',\n  'eligible_positions': ['PG', 'SG', 'G', 'Util'],\n  'selected_position': 'BN'},\n {'player_id': 4896,\n  'name': 'Kawhi Leonard',\n  'status': '',\n  'position_type': 'P',\n  'eligible_positions': ['SG', 'G', 'SF', 'F', 'Util'],\n  'selected_position': 'BN'},\n {'player_id': 5727,\n  'name': 'Fred VanVleet',\n  'status': '',\n  'position_type': 'P',\n  'eligible_positions': ['PG', 'SG', 'G', 'Util'],\n  'selected_position': 'BN'},\n {'player_id': 4913,\n  'name': 'Bojan Bogdanovic',\n  'status': '',\n  'position_type': 'P',\n  'eligible_positions': ['SF', 'PF', 'F', 'Util'],\n  'selected_position': 'BN'},\n {'player_id': 6030,\n  'name': 'Kevin Huerter',\n  'status': '',\n  'position_type': 'P',\n  'eligible_positions': ['SG', 'G', 'SF', 'F', 'Util'],\n  'selected_position': 'BN'}]"
     },
     "execution_count": 15,
     "metadata": {},
     "output_type": "execute_result"
    }
   ],
   "source": [
    "tm.roster(1)"
   ],
   "metadata": {
    "collapsed": false,
    "pycharm": {
     "name": "#%%\n"
    }
   }
  },
  {
   "cell_type": "code",
   "execution_count": 3,
   "outputs": [
    {
     "ename": "NameError",
     "evalue": "name 'lg' is not defined",
     "output_type": "error",
     "traceback": [
      "\u001B[1;31m---------------------------------------------------------------------------\u001B[0m",
      "\u001B[1;31mNameError\u001B[0m                                 Traceback (most recent call last)",
      "\u001B[1;32m<ipython-input-3-f8bdb1c2ad0b>\u001B[0m in \u001B[0;36m<module>\u001B[1;34m\u001B[0m\n\u001B[1;32m----> 1\u001B[1;33m \u001B[0mtm\u001B[0m \u001B[1;33m=\u001B[0m \u001B[0mlg\u001B[0m\u001B[1;33m.\u001B[0m\u001B[0mto_team\u001B[0m\u001B[1;33m(\u001B[0m\u001B[1;34m'402.l.55374.t.4'\u001B[0m\u001B[1;33m)\u001B[0m\u001B[1;33m\u001B[0m\u001B[1;33m\u001B[0m\u001B[0m\n\u001B[0m\u001B[0;32m      2\u001B[0m \u001B[0mtm\u001B[0m\u001B[1;33m.\u001B[0m\u001B[0mroster\u001B[0m\u001B[1;33m(\u001B[0m\u001B[1;36m1\u001B[0m\u001B[1;33m)\u001B[0m\u001B[1;33m\u001B[0m\u001B[1;33m\u001B[0m\u001B[0m\n\u001B[0;32m      3\u001B[0m \u001B[1;33m\u001B[0m\u001B[0m\n",
      "\u001B[1;31mNameError\u001B[0m: name 'lg' is not defined"
     ]
    }
   ],
   "source": [
    "tm = lg.to_team('402.l.55374.t.4')\n",
    "tm.roster(1)"
   ],
   "metadata": {
    "collapsed": false,
    "pycharm": {
     "name": "#%%\n"
    }
   }
  },
  {
   "cell_type": "code",
   "execution_count": 10,
   "outputs": [
    {
     "data": {
      "text/plain": "{'402.l.55374.t.3': {'team_key': '402.l.55374.t.3',\n  'team_id': '3',\n  'name': 'CrabbeHerByThePussy',\n  'url': 'https://basketball.fantasysports.yahoo.com/nba/55374/3',\n  'team_logos': [{'team_logo': {'size': 'large',\n     'url': 'https://s.yimg.com/cv/apiv2/default/nba/nba_1_m.png'}}],\n  'waiver_priority': 8,\n  'number_of_moves': '4',\n  'number_of_trades': 0,\n  'roster_adds': {'coverage_type': 'week', 'coverage_value': 5, 'value': '0'},\n  'league_scoring_type': 'headone',\n  'draft_position': 5,\n  'has_draft_grade': 0,\n  'managers': [{'manager': {'manager_id': '3',\n     'nickname': 'Marcos',\n     'guid': 'MQNQZBBOR5XNH4WSVWGNPV4CCU',\n     'email': 'marcostapiachile@gmail.com',\n     'image_url': 'https://s.yimg.com/ag/images/default_user_profile_pic_64sq.jpg'}}]},\n '402.l.55374.t.7': {'team_key': '402.l.55374.t.7',\n  'team_id': '7',\n  'name': 'Russty Cuntbrooks',\n  'url': 'https://basketball.fantasysports.yahoo.com/nba/55374/7',\n  'team_logos': [{'team_logo': {'size': 'large',\n     'url': 'https://s.yimg.com/cv/apiv2/default/nba/nba_5.png'}}],\n  'waiver_priority': 3,\n  'number_of_moves': '6',\n  'number_of_trades': '1',\n  'roster_adds': {'coverage_type': 'week', 'coverage_value': 5, 'value': '1'},\n  'league_scoring_type': 'headone',\n  'draft_position': 10,\n  'has_draft_grade': 0,\n  'managers': [{'manager': {'manager_id': '7',\n     'nickname': 'Alvaro',\n     'guid': '54RYPWSN35JEDM6ERNII5GJLDI',\n     'email': 'alvaro1410@yahoo.com',\n     'image_url': 'https://s.yimg.com/ag/images/default_user_profile_pic_64sq.jpg'}}]},\n '402.l.55374.t.5': {'team_key': '402.l.55374.t.5',\n  'team_id': '5',\n  'name': 'McCurry',\n  'url': 'https://basketball.fantasysports.yahoo.com/nba/55374/5',\n  'team_logos': [{'team_logo': {'size': 'large',\n     'url': 'https://yahoofantasysports-res.cloudinary.com/image/upload/t_s192sq/fantasy-logos/56477494345_4e17d7.jpg'}}],\n  'waiver_priority': 11,\n  'number_of_moves': '5',\n  'number_of_trades': 0,\n  'roster_adds': {'coverage_type': 'week', 'coverage_value': 5, 'value': '0'},\n  'league_scoring_type': 'headone',\n  'draft_position': 1,\n  'has_draft_grade': 0,\n  'managers': [{'manager': {'manager_id': '5',\n     'nickname': 'Alex',\n     'guid': 'WOMWJNENRZ3ZLUQARZP25MPMED',\n     'image_url': 'https://s.yimg.com/ag/images/default_user_profile_pic_64sq.jpg'}}]},\n '402.l.55374.t.6': {'team_key': '402.l.55374.t.6',\n  'team_id': '6',\n  'name': \"Nunn of Y'all Betta\",\n  'is_owned_by_current_login': 1,\n  'url': 'https://basketball.fantasysports.yahoo.com/nba/55374/6',\n  'team_logos': [{'team_logo': {'size': 'large',\n     'url': 'https://s.yimg.com/cv/apiv2/default/nba/nba_2_j.png'}}],\n  'waiver_priority': 5,\n  'number_of_moves': '3',\n  'number_of_trades': 0,\n  'roster_adds': {'coverage_type': 'week', 'coverage_value': 5, 'value': '1'},\n  'league_scoring_type': 'headone',\n  'draft_position': 8,\n  'has_draft_grade': 0,\n  'managers': [{'manager': {'manager_id': '6',\n     'nickname': 'Jaume',\n     'guid': 'TY7DUXAMQZTFFMXYA6443UE5RI',\n     'is_current_login': '1',\n     'email': 'jclaved@yahoo.com',\n     'image_url': 'https://s.yimg.com/ag/images/default_user_profile_pic_64sq.jpg'}}]},\n '402.l.55374.t.4': {'team_key': '402.l.55374.t.4',\n  'team_id': '4',\n  'name': \"Magic's Johnson\",\n  'url': 'https://basketball.fantasysports.yahoo.com/nba/55374/4',\n  'team_logos': [{'team_logo': {'size': 'large',\n     'url': 'https://yahoofantasysports-res.cloudinary.com/image/upload/t_s192sq/fantasy-logos/56484176991_e0cd8f.jpg'}}],\n  'waiver_priority': 1,\n  'number_of_moves': '5',\n  'number_of_trades': 0,\n  'roster_adds': {'coverage_type': 'week', 'coverage_value': 5, 'value': '1'},\n  'league_scoring_type': 'headone',\n  'draft_position': 12,\n  'has_draft_grade': 0,\n  'managers': [{'manager': {'manager_id': '4',\n     'nickname': 'Gerard',\n     'guid': 'X3MGDBQZ57FA5FPM7GQ5CBV7PE',\n     'email': 'gerardpinoesteve1996@gmail.com',\n     'image_url': 'https://s.yimg.com/ag/images/default_user_profile_pic_64sq.jpg'}}]},\n '402.l.55374.t.12': {'team_key': '402.l.55374.t.12',\n  'team_id': '12',\n  'name': 'El Ladrón de Cabras',\n  'url': 'https://basketball.fantasysports.yahoo.com/nba/55374/12',\n  'team_logos': [{'team_logo': {'size': 'large',\n     'url': 'https://yahoofantasysports-res.cloudinary.com/image/upload/t_s192sq/fantasy-logos/007f22590f40253091e62423f37483223bbc95b2f92b061318f86a455de84ef0.jpg'}}],\n  'waiver_priority': 12,\n  'number_of_moves': '2',\n  'number_of_trades': 0,\n  'roster_adds': {'coverage_type': 'week', 'coverage_value': 5, 'value': '0'},\n  'league_scoring_type': 'headone',\n  'draft_position': 3,\n  'has_draft_grade': 0,\n  'managers': [{'manager': {'manager_id': '12',\n     'nickname': 'Blake',\n     'guid': 'P6ND4NTO4LWPTQEYUA5SYLPW3U',\n     'email': 'blakewhitelacourse@yahoo.ca',\n     'image_url': 'https://s.yimg.com/ag/images/default_user_profile_pic_64sq.jpg'}}]},\n '402.l.55374.t.2': {'team_key': '402.l.55374.t.2',\n  'team_id': '2',\n  'name': 'Autopick',\n  'url': 'https://basketball.fantasysports.yahoo.com/nba/55374/2',\n  'team_logos': [{'team_logo': {'size': 'large',\n     'url': 'https://s.yimg.com/cv/apiv2/default/nba/nba_1_i.png'}}],\n  'waiver_priority': 6,\n  'number_of_moves': '2',\n  'number_of_trades': 0,\n  'roster_adds': {'coverage_type': 'week', 'coverage_value': 5, 'value': '0'},\n  'league_scoring_type': 'headone',\n  'draft_position': 7,\n  'has_draft_grade': 0,\n  'managers': [{'manager': {'manager_id': '2',\n     'nickname': 'Isidro',\n     'guid': 'FQNPHLITUU5DO3KU3VAI4N6R5A',\n     'email': 'isidrosanabre@gmail.com',\n     'image_url': 'https://s.yimg.com/ag/images/default_user_profile_pic_64sq.jpg'}}]},\n '402.l.55374.t.8': {'team_key': '402.l.55374.t.8',\n  'team_id': '8',\n  'name': 'Wakanda Forever',\n  'url': 'https://basketball.fantasysports.yahoo.com/nba/55374/8',\n  'team_logos': [{'team_logo': {'size': 'large',\n     'url': 'https://s.yimg.com/cv/apiv2/default/nba/nba_10.png'}}],\n  'waiver_priority': 10,\n  'number_of_moves': 0,\n  'number_of_trades': 0,\n  'roster_adds': {'coverage_type': 'week', 'coverage_value': 5, 'value': '0'},\n  'league_scoring_type': 'headone',\n  'draft_position': 2,\n  'has_draft_grade': 0,\n  'managers': [{'manager': {'manager_id': '8',\n     'nickname': 'Pau',\n     'guid': 'UFCT6II6LBTV2MHOV6QN4XMSTE',\n     'email': 'ppalaug@gmail.com',\n     'image_url': 'https://s.yimg.com/ag/images/default_user_profile_pic_64sq.jpg'}}]},\n '402.l.55374.t.9': {'team_key': '402.l.55374.t.9',\n  'team_id': '9',\n  'name': 'Swaggy P',\n  'url': 'https://basketball.fantasysports.yahoo.com/nba/55374/9',\n  'team_logos': [{'team_logo': {'size': 'large',\n     'url': 'https://s.yimg.com/cv/apiv2/default/nba/nba_1_s.png'}}],\n  'waiver_priority': 7,\n  'number_of_moves': '3',\n  'number_of_trades': 0,\n  'roster_adds': {'coverage_type': 'week', 'coverage_value': 5, 'value': '1'},\n  'league_scoring_type': 'headone',\n  'draft_position': 6,\n  'has_draft_grade': 0,\n  'managers': [{'manager': {'manager_id': '9',\n     'nickname': 'Guillem',\n     'guid': 'X4B2IQH5KWAQLGO3V43TYHDLYI',\n     'email': 'gvidaldelso@gmail.com',\n     'image_url': 'https://s.yimg.com/ag/images/default_user_profile_pic_64sq.jpg'}}]},\n '402.l.55374.t.10': {'team_key': '402.l.55374.t.10',\n  'team_id': '10',\n  'name': 'yOBItch Toppin Me',\n  'url': 'https://basketball.fantasysports.yahoo.com/nba/55374/10',\n  'team_logos': [{'team_logo': {'size': 'large',\n     'url': 'https://yahoofantasysports-res.cloudinary.com/image/upload/t_s192sq/fantasy-logos/31bccad1c9419c626304d3e265078f5cea831982e9415adf11f8345b6a963fe9.jpg'}}],\n  'waiver_priority': 4,\n  'number_of_moves': '1',\n  'number_of_trades': '1',\n  'roster_adds': {'coverage_type': 'week', 'coverage_value': 5, 'value': '0'},\n  'league_scoring_type': 'headone',\n  'draft_position': 9,\n  'has_draft_grade': 0,\n  'managers': [{'manager': {'manager_id': '10',\n     'nickname': 'Marc',\n     'guid': 'V6FDOKUD4OCDFXYCCRYYJ33TWI',\n     'email': 'marc.e.pamias@gmail.com',\n     'image_url': 'https://s.yimg.com/ag/images/default_user_profile_pic_64sq.jpg'}}]},\n '402.l.55374.t.1': {'team_key': '402.l.55374.t.1',\n  'team_id': '1',\n  'name': 'LaLaLand',\n  'url': 'https://basketball.fantasysports.yahoo.com/nba/55374/1',\n  'team_logos': [{'team_logo': {'size': 'large',\n     'url': 'https://s.yimg.com/cv/apiv2/default/nba/nba_2_l.png'}}],\n  'waiver_priority': 2,\n  'number_of_moves': '8',\n  'number_of_trades': 0,\n  'roster_adds': {'coverage_type': 'week', 'coverage_value': 5, 'value': '0'},\n  'league_scoring_type': 'headone',\n  'draft_position': 11,\n  'has_draft_grade': 0,\n  'managers': [{'manager': {'manager_id': '1',\n     'nickname': 'Alex',\n     'guid': 'W5UDMKGQCBWLMKC3FDEHANJXPU',\n     'is_commissioner': '1',\n     'email': 'alexpascual96@gmail.com',\n     'image_url': 'https://s.yimg.com/ag/images/default_user_profile_pic_64sq.jpg'}}]},\n '402.l.55374.t.11': {'team_key': '402.l.55374.t.11',\n  'team_id': '11',\n  'name': \"Tvon's Tip-Top Team\",\n  'url': 'https://basketball.fantasysports.yahoo.com/nba/55374/11',\n  'team_logos': [{'team_logo': {'size': 'large',\n     'url': 'https://s.yimg.com/cv/apiv2/default/nba/nba_6_t.png'}}],\n  'waiver_priority': 9,\n  'number_of_moves': 0,\n  'number_of_trades': 0,\n  'roster_adds': {'coverage_type': 'week', 'coverage_value': 5, 'value': '0'},\n  'league_scoring_type': 'headone',\n  'draft_position': 4,\n  'has_draft_grade': 0,\n  'managers': [{'manager': {'manager_id': '11',\n     'nickname': 'Tvon',\n     'guid': 'ISVU3LU5RHVU2PYGHQUYD2QYOI',\n     'email': 'tvon50@yahoo.com',\n     'image_url': 'https://s.yimg.com/ag/images/default_user_profile_pic_64sq.jpg'}}]}}"
     },
     "execution_count": 10,
     "metadata": {},
     "output_type": "execute_result"
    }
   ],
   "source": [
    "tms = lg.teams()\n",
    "tms\n"
   ],
   "metadata": {
    "collapsed": false,
    "pycharm": {
     "name": "#%%\n"
    }
   }
  },
  {
   "cell_type": "code",
   "execution_count": 12,
   "outputs": [
    {
     "name": "stdout",
     "output_type": "stream",
     "text": [
      "CrabbeHerByThePussy\n",
      "Russty Cuntbrooks\n",
      "McCurry\n",
      "Nunn of Y'all Betta\n",
      "Magic's Johnson\n",
      "El Ladrón de Cabras\n",
      "Autopick\n",
      "Wakanda Forever\n",
      "Swaggy P\n",
      "yOBItch Toppin Me\n",
      "LaLaLand\n",
      "Tvon's Tip-Top Team\n"
     ]
    }
   ],
   "source": [
    "for key, vav in tms.items():\n",
    "    a = vav[\"name\"]\n",
    "    print(a)"
   ],
   "metadata": {
    "collapsed": false,
    "pycharm": {
     "name": "#%%\n"
    }
   }
  },
  {
   "cell_type": "code",
   "execution_count": null,
   "outputs": [],
   "source": [
    "lg.free_agents()\n",
    "\n"
   ],
   "metadata": {
    "collapsed": false,
    "pycharm": {
     "name": "#%%\n"
    }
   }
  },
  {
   "cell_type": "code",
   "execution_count": 13,
   "outputs": [],
   "source": [
    "GUARD = \"G\"\n",
    "FORWARD = \"F\"\n",
    "CENTER = \"C\"\n",
    "\n",
    "POSITIONS_LIST = [GUARD, FORWARD, CENTER]\n",
    "fa_CF = lg.free_agents('G')"
   ],
   "metadata": {
    "collapsed": false,
    "pycharm": {
     "name": "#%%\n"
    }
   }
  },
  {
   "cell_type": "code",
   "execution_count": 14,
   "outputs": [
    {
     "data": {
      "text/plain": "[{'player_id': 3826,\n  'name': 'Andre Iguodala',\n  'position_type': 'P',\n  'eligible_positions': ['SG', 'G', 'SF', 'F', 'Util'],\n  'percent_owned': 1,\n  'status': ''},\n {'player_id': 3860,\n  'name': 'Trevor Ariza',\n  'status': 'INJ',\n  'position_type': 'P',\n  'eligible_positions': ['SG', 'G', 'SF', 'F', 'Util'],\n  'percent_owned': 3},\n {'player_id': 4139,\n  'name': 'JJ Redick',\n  'position_type': 'P',\n  'eligible_positions': ['SG', 'G', 'Util'],\n  'percent_owned': 14,\n  'status': ''},\n {'player_id': 4149,\n  'name': 'Rajon Rondo',\n  'position_type': 'P',\n  'eligible_positions': ['PG', 'G', 'Util'],\n  'percent_owned': 3,\n  'status': ''},\n {'player_id': 4471,\n  'name': 'D.J. Augustin',\n  'position_type': 'P',\n  'eligible_positions': ['PG', 'G', 'Util'],\n  'percent_owned': 1,\n  'status': ''},\n {'player_id': 4633,\n  'name': 'Wayne Ellington',\n  'position_type': 'P',\n  'eligible_positions': ['SG', 'G', 'SF', 'F', 'Util'],\n  'percent_owned': 5,\n  'status': ''},\n {'player_id': 4651,\n  'name': 'Danny Green',\n  'position_type': 'P',\n  'eligible_positions': ['SG', 'G', 'SF', 'F', 'Util'],\n  'percent_owned': 37,\n  'status': ''},\n {'player_id': 4682,\n  'name': 'Garrett Temple',\n  'position_type': 'P',\n  'eligible_positions': ['PG', 'SG', 'G', 'Util'],\n  'percent_owned': 7,\n  'status': ''},\n {'player_id': 4694,\n  'name': 'Wesley Matthews',\n  'position_type': 'P',\n  'eligible_positions': ['SG', 'G', 'SF', 'F', 'Util'],\n  'percent_owned': 1,\n  'status': ''},\n {'player_id': 4750,\n  'name': 'Avery Bradley',\n  'status': 'INJ',\n  'position_type': 'P',\n  'eligible_positions': ['SG', 'G', 'SF', 'F', 'Util'],\n  'percent_owned': 2},\n {'player_id': 4800,\n  'name': 'Ish Smith',\n  'status': 'INJ',\n  'position_type': 'P',\n  'eligible_positions': ['PG', 'G', 'Util'],\n  'percent_owned': 1},\n {'player_id': 4892,\n  'name': 'Klay Thompson',\n  'status': 'INJ',\n  'position_type': 'P',\n  'eligible_positions': ['SG', 'G', 'SF', 'F', 'Util'],\n  'percent_owned': 5},\n {'player_id': 4906,\n  'name': 'Reggie Jackson',\n  'position_type': 'P',\n  'eligible_positions': ['PG', 'SG', 'G', 'Util'],\n  'percent_owned': 1,\n  'status': ''},\n {'player_id': 4911,\n  'name': 'Cory Joseph',\n  'position_type': 'P',\n  'eligible_positions': ['PG', 'G', 'Util'],\n  'percent_owned': 1,\n  'status': ''},\n {'player_id': 4937,\n  'name': \"E'Twaun Moore\",\n  'position_type': 'P',\n  'eligible_positions': ['PG', 'SG', 'G', 'Util'],\n  'percent_owned': 0,\n  'status': ''},\n {'player_id': 4969,\n  'name': 'Brad Wanamaker',\n  'position_type': 'P',\n  'eligible_positions': ['PG', 'SG', 'G', 'Util'],\n  'percent_owned': 1,\n  'status': ''},\n {'player_id': 5066,\n  'name': 'Tomas Satoransky',\n  'position_type': 'P',\n  'eligible_positions': ['PG', 'SG', 'G', 'Util'],\n  'percent_owned': 5,\n  'status': ''},\n {'player_id': 5080,\n  'name': 'Darius Miller',\n  'position_type': 'P',\n  'eligible_positions': ['SG', 'G', 'SF', 'F', 'Util'],\n  'percent_owned': 0,\n  'status': ''},\n {'player_id': 5102,\n  'name': 'Kent Bazemore',\n  'position_type': 'P',\n  'eligible_positions': ['SG', 'G', 'SF', 'F', 'Util'],\n  'percent_owned': 1,\n  'status': ''},\n {'player_id': 5158,\n  'name': 'Ben McLemore',\n  'position_type': 'P',\n  'eligible_positions': ['SG', 'G', 'SF', 'F', 'Util'],\n  'percent_owned': 3,\n  'status': ''},\n {'player_id': 5159,\n  'name': 'Kentavious Caldwell-Pope',\n  'position_type': 'P',\n  'eligible_positions': ['PG', 'SG', 'G', 'Util'],\n  'percent_owned': 17,\n  'status': ''},\n {'player_id': 5160,\n  'name': 'Trey Burke',\n  'position_type': 'P',\n  'eligible_positions': ['PG', 'G', 'Util'],\n  'percent_owned': 5,\n  'status': ''},\n {'player_id': 5162,\n  'name': 'Michael Carter-Williams',\n  'status': 'INJ',\n  'position_type': 'P',\n  'eligible_positions': ['PG', 'SG', 'G', 'Util'],\n  'percent_owned': 1},\n {'player_id': 5190,\n  'name': 'Tony Snell',\n  'position_type': 'P',\n  'eligible_positions': ['SG', 'G', 'SF', 'F', 'Util'],\n  'percent_owned': 0,\n  'status': ''},\n {'player_id': 5193,\n  'name': 'Solomon Hill',\n  'position_type': 'P',\n  'eligible_positions': ['SG', 'G', 'SF', 'F', 'Util'],\n  'percent_owned': 0,\n  'status': ''},\n {'player_id': 5195,\n  'name': 'Reggie Bullock',\n  'position_type': 'P',\n  'eligible_positions': ['SG', 'G', 'SF', 'F', 'Util'],\n  'percent_owned': 5,\n  'status': ''},\n {'player_id': 5217,\n  'name': 'Raul Neto',\n  'status': 'GTD',\n  'position_type': 'P',\n  'eligible_positions': ['PG', 'G', 'Util'],\n  'percent_owned': 1},\n {'player_id': 5220,\n  'name': 'James Ennis III',\n  'position_type': 'P',\n  'eligible_positions': ['SG', 'G', 'SF', 'F', 'Util'],\n  'percent_owned': 0,\n  'status': ''},\n {'player_id': 5249,\n  'name': 'Matthew Dellavedova',\n  'status': 'INJ',\n  'position_type': 'P',\n  'eligible_positions': ['PG', 'SG', 'G', 'Util'],\n  'percent_owned': 0},\n {'player_id': 5270,\n  'name': 'Rodney McGruder',\n  'position_type': 'P',\n  'eligible_positions': ['SG', 'G', 'SF', 'F', 'Util'],\n  'percent_owned': 0,\n  'status': ''},\n {'player_id': 5316,\n  'name': 'Danté Exum',\n  'status': 'INJ',\n  'position_type': 'P',\n  'eligible_positions': ['SG', 'G', 'SF', 'F', 'Util'],\n  'percent_owned': 0},\n {'player_id': 5321,\n  'name': 'Elfrid Payton',\n  'position_type': 'P',\n  'eligible_positions': ['PG', 'G', 'Util'],\n  'percent_owned': 54,\n  'status': ''},\n {'player_id': 5330,\n  'name': 'Gary Harris',\n  'position_type': 'P',\n  'eligible_positions': ['SG', 'G', 'SF', 'F', 'Util'],\n  'percent_owned': 16,\n  'status': ''},\n {'player_id': 5334,\n  'name': 'Rodney Hood',\n  'position_type': 'P',\n  'eligible_positions': ['SG', 'G', 'SF', 'F', 'Util'],\n  'percent_owned': 17,\n  'status': ''},\n {'player_id': 5338,\n  'name': 'Bogdan Bogdanovic',\n  'status': 'INJ',\n  'position_type': 'P',\n  'eligible_positions': ['SG', 'G', 'SF', 'PF', 'F', 'Util'],\n  'percent_owned': 48},\n {'player_id': 5349,\n  'name': 'Spencer Dinwiddie',\n  'status': 'INJ',\n  'position_type': 'P',\n  'eligible_positions': ['PG', 'SG', 'G', 'Util'],\n  'percent_owned': 9},\n {'player_id': 5351,\n  'name': 'Glenn Robinson III',\n  'position_type': 'P',\n  'eligible_positions': ['SG', 'G', 'SF', 'F', 'Util'],\n  'percent_owned': 1,\n  'status': ''},\n {'player_id': 5376,\n  'name': 'Tyler Johnson',\n  'position_type': 'P',\n  'eligible_positions': ['PG', 'SG', 'G', 'Util'],\n  'percent_owned': 0,\n  'status': ''},\n {'player_id': 5388,\n  'name': 'Langston Galloway',\n  'position_type': 'P',\n  'eligible_positions': ['PG', 'SG', 'G', 'Util'],\n  'percent_owned': 0,\n  'status': ''},\n {'player_id': 5414,\n  'name': 'Tim Frazier',\n  'position_type': 'P',\n  'eligible_positions': ['PG', 'SG', 'G', 'Util'],\n  'percent_owned': 0,\n  'status': ''},\n {'player_id': 5468,\n  'name': 'Stanley Johnson',\n  'position_type': 'P',\n  'eligible_positions': ['SG', 'G', 'SF', 'PF', 'F', 'Util'],\n  'percent_owned': 0,\n  'status': ''},\n {'player_id': 5474,\n  'name': 'Cameron Payne',\n  'position_type': 'P',\n  'eligible_positions': ['PG', 'SG', 'G', 'Util'],\n  'percent_owned': 2,\n  'status': ''},\n {'player_id': 5480,\n  'name': 'Delon Wright',\n  'position_type': 'P',\n  'eligible_positions': ['SG', 'G', 'SF', 'F', 'Util'],\n  'percent_owned': 35,\n  'status': ''},\n {'player_id': 5484,\n  'name': 'Tyus Jones',\n  'position_type': 'P',\n  'eligible_positions': ['PG', 'G', 'Util'],\n  'percent_owned': 12,\n  'status': ''},\n {'player_id': 5501,\n  'name': 'Pat Connaughton',\n  'position_type': 'P',\n  'eligible_positions': ['SG', 'G', 'SF', 'F', 'Util'],\n  'percent_owned': 2,\n  'status': ''},\n {'player_id': 5582,\n  'name': 'T.J. McConnell',\n  'position_type': 'P',\n  'eligible_positions': ['PG', 'SG', 'G', 'Util'],\n  'percent_owned': 3,\n  'status': ''},\n {'player_id': 5588,\n  'name': 'Quinn Cook',\n  'position_type': 'P',\n  'eligible_positions': ['PG', 'G', 'Util'],\n  'percent_owned': 0,\n  'status': ''},\n {'player_id': 5636,\n  'name': 'Kris Dunn',\n  'status': 'INJ',\n  'position_type': 'P',\n  'eligible_positions': ['PG', 'SG', 'G', 'Util'],\n  'percent_owned': 1},\n {'player_id': 5645,\n  'name': 'Denzel Valentine',\n  'position_type': 'P',\n  'eligible_positions': ['SG', 'G', 'SF', 'F', 'Util'],\n  'percent_owned': 1,\n  'status': ''},\n {'player_id': 5655,\n  'name': 'Timothé Luwawu-Cabarrot',\n  'position_type': 'P',\n  'eligible_positions': ['SG', 'G', 'SF', 'F', 'Util'],\n  'percent_owned': 1,\n  'status': ''},\n {'player_id': 5657,\n  'name': 'Furkan Korkmaz',\n  'position_type': 'P',\n  'eligible_positions': ['SG', 'G', 'SF', 'F', 'Util'],\n  'percent_owned': 1,\n  'status': ''},\n {'player_id': 5669,\n  'name': 'Patrick McCaw',\n  'status': 'INJ',\n  'position_type': 'P',\n  'eligible_positions': ['SG', 'G', 'SF', 'F', 'Util'],\n  'percent_owned': 0},\n {'player_id': 5695,\n  'name': 'Ryan Arcidiacono',\n  'position_type': 'P',\n  'eligible_positions': ['PG', 'G', 'Util'],\n  'percent_owned': 0,\n  'status': ''},\n {'player_id': 5720,\n  'name': 'Yogi Ferrell',\n  'position_type': 'P',\n  'eligible_positions': ['PG', 'SG', 'G', 'Util'],\n  'percent_owned': 0,\n  'status': ''},\n {'player_id': 5726,\n  'name': 'Bryn Forbes',\n  'position_type': 'P',\n  'eligible_positions': ['PG', 'SG', 'G', 'Util'],\n  'percent_owned': 1,\n  'status': ''},\n {'player_id': 5733,\n  'name': 'Damion Lee',\n  'position_type': 'P',\n  'eligible_positions': ['SG', 'G', 'SF', 'F', 'Util'],\n  'percent_owned': 2,\n  'status': ''},\n {'player_id': 5746,\n  'name': 'Shaquille Harrison',\n  'position_type': 'P',\n  'eligible_positions': ['PG', 'SG', 'G', 'SF', 'F', 'Util'],\n  'percent_owned': 0,\n  'status': ''},\n {'player_id': 5747,\n  'name': 'Derrick Jones Jr.',\n  'position_type': 'P',\n  'eligible_positions': ['SG', 'G', 'SF', 'F', 'Util'],\n  'percent_owned': 9,\n  'status': ''},\n {'player_id': 5754,\n  'name': 'Alex Caruso',\n  'position_type': 'P',\n  'eligible_positions': ['PG', 'SG', 'G', 'Util'],\n  'percent_owned': 4,\n  'status': ''},\n {'player_id': 5762,\n  'name': 'David Nwaba',\n  'position_type': 'P',\n  'eligible_positions': ['SG', 'G', 'SF', 'F', 'Util'],\n  'percent_owned': 1,\n  'status': ''},\n {'player_id': 5763,\n  'name': 'Markelle Fultz',\n  'status': 'INJ',\n  'position_type': 'P',\n  'eligible_positions': ['PG', 'SG', 'G', 'Util'],\n  'percent_owned': 22},\n {'player_id': 5766,\n  'name': 'Josh Jackson',\n  'status': 'GTD',\n  'position_type': 'P',\n  'eligible_positions': ['SG', 'G', 'SF', 'F', 'Util'],\n  'percent_owned': 10},\n {'player_id': 5821,\n  'name': 'Frank Ntilikina',\n  'status': 'INJ',\n  'position_type': 'P',\n  'eligible_positions': ['PG', 'SG', 'G', 'Util'],\n  'percent_owned': 0},\n {'player_id': 5822,\n  'name': 'Dennis Smith Jr.',\n  'position_type': 'P',\n  'eligible_positions': ['PG', 'G', 'Util'],\n  'percent_owned': 0,\n  'status': ''},\n {'player_id': 5824,\n  'name': 'Malik Monk',\n  'position_type': 'P',\n  'eligible_positions': ['PG', 'SG', 'G', 'Util'],\n  'percent_owned': 1,\n  'status': ''},\n {'player_id': 5834,\n  'name': 'Terrance Ferguson',\n  'position_type': 'P',\n  'eligible_positions': ['SG', 'G', 'SF', 'F', 'Util'],\n  'percent_owned': 0,\n  'status': ''},\n {'player_id': 5844,\n  'name': 'Frank Jackson',\n  'position_type': 'P',\n  'eligible_positions': ['PG', 'G', 'Util'],\n  'percent_owned': 0,\n  'status': ''},\n {'player_id': 5846,\n  'name': 'Wes Iwundu',\n  'position_type': 'P',\n  'eligible_positions': ['SG', 'G', 'SF', 'F', 'Util'],\n  'percent_owned': 0,\n  'status': ''},\n {'player_id': 5853,\n  'name': 'Dwayne Bacon',\n  'position_type': 'P',\n  'eligible_positions': ['SG', 'G', 'Util'],\n  'percent_owned': 1,\n  'status': ''},\n {'player_id': 5857,\n  'name': 'Damyean Dotson',\n  'position_type': 'P',\n  'eligible_positions': ['SG', 'G', 'Util'],\n  'percent_owned': 3,\n  'status': ''},\n {'player_id': 5859,\n  'name': 'Sterling Brown',\n  'position_type': 'P',\n  'eligible_positions': ['SG', 'G', 'SF', 'F', 'Util'],\n  'percent_owned': 2,\n  'status': ''},\n {'player_id': 5861,\n  'name': 'Sindarius Thornwell',\n  'position_type': 'P',\n  'eligible_positions': ['SG', 'G', 'SF', 'F', 'Util'],\n  'percent_owned': 0,\n  'status': ''},\n {'player_id': 5864,\n  'name': 'Monte Morris',\n  'position_type': 'P',\n  'eligible_positions': ['PG', 'SG', 'G', 'Util'],\n  'percent_owned': 22,\n  'status': ''},\n {'player_id': 5865,\n  'name': 'Edmond Sumner',\n  'position_type': 'P',\n  'eligible_positions': ['PG', 'SG', 'G', 'Util'],\n  'percent_owned': 0,\n  'status': ''},\n {'player_id': 5886,\n  'name': 'PJ Dozier',\n  'position_type': 'P',\n  'eligible_positions': ['PG', 'SG', 'G', 'Util'],\n  'percent_owned': 2,\n  'status': ''},\n {'player_id': 5893,\n  'name': 'Torrey Craig',\n  'position_type': 'P',\n  'eligible_positions': ['SG', 'G', 'SF', 'F', 'Util'],\n  'percent_owned': 0,\n  'status': ''},\n {'player_id': 6024,\n  'name': 'Jerome Robinson',\n  'position_type': 'P',\n  'eligible_positions': ['PG', 'SG', 'G', 'Util'],\n  'percent_owned': 0,\n  'status': ''},\n {'player_id': 6026,\n  'name': 'Troy Brown Jr.',\n  'status': 'INJ',\n  'position_type': 'P',\n  'eligible_positions': ['SG', 'G', 'SF', 'F', 'Util'],\n  'percent_owned': 3},\n {'player_id': 6029,\n  'name': 'Lonnie Walker IV',\n  'position_type': 'P',\n  'eligible_positions': ['SG', 'G', 'SF', 'F', 'Util'],\n  'percent_owned': 22,\n  'status': ''},\n {'player_id': 6031,\n  'name': 'Josh Okogie',\n  'status': 'GTD',\n  'position_type': 'P',\n  'eligible_positions': ['SG', 'G', 'SF', 'F', 'Util'],\n  'percent_owned': 1},\n {'player_id': 6032,\n  'name': 'Grayson Allen',\n  'position_type': 'P',\n  'eligible_positions': ['SG', 'G', 'SF', 'F', 'Util'],\n  'percent_owned': 4,\n  'status': ''},\n {'player_id': 6034,\n  'name': 'Aaron Holiday',\n  'position_type': 'P',\n  'eligible_positions': ['PG', 'G', 'Util'],\n  'percent_owned': 3,\n  'status': ''},\n {'player_id': 6035,\n  'name': 'Anfernee Simons',\n  'position_type': 'P',\n  'eligible_positions': ['PG', 'SG', 'G', 'Util'],\n  'percent_owned': 1,\n  'status': ''},\n {'player_id': 6037,\n  'name': 'Landry Shamet',\n  'position_type': 'P',\n  'eligible_positions': ['PG', 'SG', 'G', 'Util'],\n  'percent_owned': 1,\n  'status': ''},\n {'player_id': 6043,\n  'name': 'Jevon Carter',\n  'position_type': 'P',\n  'eligible_positions': ['PG', 'G', 'Util'],\n  'percent_owned': 0,\n  'status': ''},\n {'player_id': 6044,\n  'name': 'Jalen Brunson',\n  'position_type': 'P',\n  'eligible_positions': ['PG', 'SG', 'G', 'Util'],\n  'percent_owned': 3,\n  'status': ''},\n {'player_id': 6048,\n  'name': 'Gary Trent Jr.',\n  'position_type': 'P',\n  'eligible_positions': ['SG', 'G', 'SF', 'F', 'Util'],\n  'percent_owned': 17,\n  'status': ''},\n {'player_id': 6053,\n  'name': 'Bruce Brown',\n  'position_type': 'P',\n  'eligible_positions': ['SG', 'G', 'Util'],\n  'percent_owned': 2,\n  'status': ''},\n {'player_id': 6057,\n  'name': \"De'Anthony Melton\",\n  'position_type': 'P',\n  'eligible_positions': ['PG', 'SG', 'G', 'Util'],\n  'percent_owned': 5,\n  'status': ''},\n {'player_id': 6102,\n  'name': 'Brandon Goodwin',\n  'position_type': 'P',\n  'eligible_positions': ['PG', 'G', 'Util'],\n  'percent_owned': 0,\n  'status': ''},\n {'player_id': 6114,\n  'name': 'Kendrick Nunn',\n  'position_type': 'P',\n  'eligible_positions': ['PG', 'SG', 'G', 'Util'],\n  'percent_owned': 29,\n  'status': ''},\n {'player_id': 6118,\n  'name': 'Jaylen Adams',\n  'position_type': 'P',\n  'eligible_positions': ['PG', 'G', 'Util'],\n  'percent_owned': 0,\n  'status': ''},\n {'player_id': 6119,\n  'name': 'Chris Chiozza',\n  'position_type': 'P',\n  'eligible_positions': ['PG', 'G', 'Util'],\n  'percent_owned': 0,\n  'status': ''},\n {'player_id': 6133,\n  'name': 'Jordan McLaughlin',\n  'position_type': 'P',\n  'eligible_positions': ['PG', 'G', 'Util'],\n  'percent_owned': 0,\n  'status': ''},\n {'player_id': 6149,\n  'name': 'Paul Watson',\n  'position_type': 'P',\n  'eligible_positions': ['PG', 'G', 'SF', 'PF', 'F', 'Util'],\n  'percent_owned': 0,\n  'status': ''},\n {'player_id': 6168,\n  'name': 'Jarrett Culver',\n  'position_type': 'P',\n  'eligible_positions': ['PG', 'SG', 'G', 'Util'],\n  'percent_owned': 4,\n  'status': ''},\n {'player_id': 6176,\n  'name': 'Romeo Langford',\n  'status': 'INJ',\n  'position_type': 'P',\n  'eligible_positions': ['SG', 'G', 'Util'],\n  'percent_owned': 0},\n {'player_id': 6205,\n  'name': 'Nickeil Alexander-Walker',\n  'position_type': 'P',\n  'eligible_positions': ['SG', 'G', 'SF', 'F', 'Util'],\n  'percent_owned': 16,\n  'status': ''},\n {'player_id': 6208,\n  'name': 'Matisse Thybulle',\n  'position_type': 'P',\n  'eligible_positions': ['SG', 'G', 'SF', 'F', 'Util'],\n  'percent_owned': 6,\n  'status': ''},\n {'player_id': 6212,\n  'name': 'Ty Jerome',\n  'status': 'INJ',\n  'position_type': 'P',\n  'eligible_positions': ['PG', 'SG', 'G', 'Util'],\n  'percent_owned': 0},\n {'player_id': 6216,\n  'name': 'Jordan Poole',\n  'position_type': 'P',\n  'eligible_positions': ['PG', 'SG', 'G', 'Util'],\n  'percent_owned': 0,\n  'status': ''},\n {'player_id': 6221,\n  'name': 'Carsen Edwards',\n  'status': 'INJ',\n  'position_type': 'P',\n  'eligible_positions': ['PG', 'G', 'Util'],\n  'percent_owned': 0},\n {'player_id': 6224,\n  'name': 'Cody Martin',\n  'position_type': 'P',\n  'eligible_positions': ['SG', 'G', 'SF', 'F', 'Util'],\n  'percent_owned': 0,\n  'status': ''},\n {'player_id': 6228,\n  'name': 'Justin James',\n  'position_type': 'P',\n  'eligible_positions': ['SG', 'G', 'SF', 'F', 'Util'],\n  'percent_owned': 0,\n  'status': ''},\n {'player_id': 6231,\n  'name': 'Jaylen Nowell',\n  'position_type': 'P',\n  'eligible_positions': ['SG', 'G', 'Util'],\n  'percent_owned': 0,\n  'status': ''},\n {'player_id': 6234,\n  'name': 'Talen Horton-Tucker',\n  'position_type': 'P',\n  'eligible_positions': ['SG', 'G', 'SF', 'F', 'Util'],\n  'percent_owned': 6,\n  'status': ''},\n {'player_id': 6237,\n  'name': 'Quinndary Weatherspoon',\n  'status': 'INJ',\n  'position_type': 'P',\n  'eligible_positions': ['SG', 'G', 'Util'],\n  'percent_owned': 0},\n {'player_id': 6239,\n  'name': 'Tremont Waters',\n  'position_type': 'P',\n  'eligible_positions': ['PG', 'G', 'Util'],\n  'percent_owned': 0,\n  'status': ''},\n {'player_id': 6243,\n  'name': 'Kyle Guy',\n  'position_type': 'P',\n  'eligible_positions': ['PG', 'G', 'Util'],\n  'percent_owned': 0,\n  'status': ''},\n {'player_id': 6245,\n  'name': 'Jordan Bone',\n  'position_type': 'P',\n  'eligible_positions': ['PG', 'G', 'Util'],\n  'percent_owned': 0,\n  'status': ''},\n {'player_id': 6246,\n  'name': 'Miye Oni',\n  'position_type': 'P',\n  'eligible_positions': ['SG', 'G', 'Util'],\n  'percent_owned': 0,\n  'status': ''},\n {'player_id': 6251,\n  'name': 'Jalen Lecque',\n  'position_type': 'P',\n  'eligible_positions': ['PG', 'G', 'Util'],\n  'percent_owned': 0,\n  'status': ''},\n {'player_id': 6252,\n  'name': 'Adam Mokoka',\n  'position_type': 'P',\n  'eligible_positions': ['SG', 'G', 'Util'],\n  'percent_owned': 0,\n  'status': ''},\n {'player_id': 6255,\n  'name': 'John Konchar',\n  'position_type': 'P',\n  'eligible_positions': ['SG', 'G', 'Util'],\n  'percent_owned': 0,\n  'status': ''},\n {'player_id': 6256,\n  'name': 'Dean Wade',\n  'position_type': 'P',\n  'eligible_positions': ['PG', 'G', 'PF', 'F', 'C', 'Util'],\n  'percent_owned': 0,\n  'status': ''},\n {'player_id': 6259,\n  'name': 'Garrison Mathews',\n  'position_type': 'P',\n  'eligible_positions': ['SG', 'G', 'SF', 'F', 'Util'],\n  'percent_owned': 0,\n  'status': ''},\n {'player_id': 6264,\n  'name': 'Matt Thomas',\n  'position_type': 'P',\n  'eligible_positions': ['PG', 'SG', 'G', 'Util'],\n  'percent_owned': 0,\n  'status': ''},\n {'player_id': 6267,\n  'name': 'Max Strus',\n  'position_type': 'P',\n  'eligible_positions': ['SG', 'G', 'Util'],\n  'percent_owned': 0,\n  'status': ''},\n {'player_id': 6269,\n  'name': 'Javonte Green',\n  'position_type': 'P',\n  'eligible_positions': ['PG', 'G', 'Util'],\n  'percent_owned': 0,\n  'status': ''},\n {'player_id': 6275,\n  'name': 'Caleb Martin',\n  'position_type': 'P',\n  'eligible_positions': ['SG', 'G', 'SF', 'F', 'Util'],\n  'percent_owned': 0,\n  'status': ''},\n {'player_id': 6276,\n  'name': 'DaQuan Jeffries',\n  'status': 'INJ',\n  'position_type': 'P',\n  'eligible_positions': ['PG', 'G', 'Util'],\n  'percent_owned': 0},\n {'player_id': 6280,\n  'name': 'Terence Davis',\n  'position_type': 'P',\n  'eligible_positions': ['SG', 'G', 'SF', 'F', 'Util'],\n  'percent_owned': 1,\n  'status': ''},\n {'player_id': 6294,\n  'name': 'Brian Bowen II',\n  'position_type': 'P',\n  'eligible_positions': ['SG', 'G', 'Util'],\n  'percent_owned': 0,\n  'status': ''},\n {'player_id': 6307,\n  'name': 'Mychal Mulder',\n  'position_type': 'P',\n  'eligible_positions': ['PG', 'G', 'Util'],\n  'percent_owned': 0,\n  'status': ''},\n {'player_id': 6312,\n  'name': 'Chris Clemons',\n  'status': 'INJ',\n  'position_type': 'P',\n  'eligible_positions': ['PG', 'G', 'Util'],\n  'percent_owned': 0},\n {'player_id': 6322,\n  'name': 'Jared Harper',\n  'position_type': 'P',\n  'eligible_positions': ['PG', 'G', 'Util'],\n  'percent_owned': 0,\n  'status': ''},\n {'player_id': 6330,\n  'name': 'Keljin Blevins',\n  'position_type': 'P',\n  'eligible_positions': ['PG', 'G', 'Util'],\n  'percent_owned': 0,\n  'status': ''},\n {'player_id': 6353,\n  'name': 'Gabe Vincent',\n  'status': 'GTD',\n  'position_type': 'P',\n  'eligible_positions': ['PG', 'G', 'Util'],\n  'percent_owned': 1},\n {'player_id': 6399,\n  'name': 'Killian Hayes',\n  'status': 'INJ',\n  'position_type': 'P',\n  'eligible_positions': ['PG', 'SG', 'G', 'Util'],\n  'percent_owned': 18},\n {'player_id': 6403,\n  'name': 'Devin Vassell',\n  'position_type': 'P',\n  'eligible_positions': ['SG', 'G', 'Util'],\n  'percent_owned': 3,\n  'status': ''},\n {'player_id': 6405,\n  'name': 'Kira Lewis Jr.',\n  'position_type': 'P',\n  'eligible_positions': ['PG', 'G', 'Util'],\n  'percent_owned': 1,\n  'status': ''},\n {'player_id': 6406,\n  'name': 'Aaron Nesmith',\n  'status': 'GTD',\n  'position_type': 'P',\n  'eligible_positions': ['SG', 'G', 'SF', 'F', 'Util'],\n  'percent_owned': 1},\n {'player_id': 6410,\n  'name': 'Josh Green',\n  'position_type': 'P',\n  'eligible_positions': ['SG', 'G', 'SF', 'F', 'Util'],\n  'percent_owned': 0,\n  'status': ''},\n {'player_id': 6413,\n  'name': 'Tyrese Maxey',\n  'position_type': 'P',\n  'eligible_positions': ['SG', 'G', 'Util'],\n  'percent_owned': 24,\n  'status': ''},\n {'player_id': 6416,\n  'name': 'R.J. Hampton',\n  'position_type': 'P',\n  'eligible_positions': ['PG', 'G', 'Util'],\n  'percent_owned': 0,\n  'status': ''},\n {'player_id': 6417,\n  'name': 'Immanuel Quickley',\n  'position_type': 'P',\n  'eligible_positions': ['PG', 'G', 'Util'],\n  'percent_owned': 35,\n  'status': ''},\n {'player_id': 6418,\n  'name': 'Payton Pritchard',\n  'position_type': 'P',\n  'eligible_positions': ['PG', 'G', 'Util'],\n  'percent_owned': 8,\n  'status': ''},\n {'player_id': 6421,\n  'name': 'Malachi Flynn',\n  'position_type': 'P',\n  'eligible_positions': ['PG', 'G', 'Util'],\n  'percent_owned': 1,\n  'status': ''},\n {'player_id': 6422,\n  'name': 'Desmond Bane',\n  'position_type': 'P',\n  'eligible_positions': ['PG', 'SG', 'G', 'Util'],\n  'percent_owned': 2,\n  'status': ''},\n {'player_id': 6423,\n  'name': 'Tyrell Terry',\n  'position_type': 'P',\n  'eligible_positions': ['PG', 'G', 'Util'],\n  'percent_owned': 0,\n  'status': ''},\n {'player_id': 6426,\n  'name': 'Theo Maledon',\n  'position_type': 'P',\n  'eligible_positions': ['PG', 'G', 'Util'],\n  'percent_owned': 1,\n  'status': ''},\n {'player_id': 6430,\n  'name': 'Saben Lee',\n  'position_type': 'P',\n  'eligible_positions': ['PG', 'G', 'Util'],\n  'percent_owned': 0,\n  'status': ''},\n {'player_id': 6431,\n  'name': 'Elijah Hughes',\n  'status': 'GTD',\n  'position_type': 'P',\n  'eligible_positions': ['SG', 'G', 'Util'],\n  'percent_owned': 0},\n {'player_id': 6432,\n  'name': 'Robert Woodard II',\n  'position_type': 'P',\n  'eligible_positions': ['SG', 'G', 'Util'],\n  'percent_owned': 0,\n  'status': ''},\n {'player_id': 6433,\n  'name': 'Tre Jones',\n  'position_type': 'P',\n  'eligible_positions': ['PG', 'G', 'Util'],\n  'percent_owned': 0,\n  'status': ''},\n {'player_id': 6435,\n  'name': \"Jahmi'us Ramsey\",\n  'status': 'INJ',\n  'position_type': 'P',\n  'eligible_positions': ['SG', 'G', 'Util'],\n  'percent_owned': 0},\n {'player_id': 6440,\n  'name': 'Nico Mannion',\n  'position_type': 'P',\n  'eligible_positions': ['PG', 'G', 'Util'],\n  'percent_owned': 0,\n  'status': ''},\n {'player_id': 6441,\n  'name': 'Isaiah Joe',\n  'position_type': 'P',\n  'eligible_positions': ['SG', 'G', 'Util'],\n  'percent_owned': 1,\n  'status': ''},\n {'player_id': 6442,\n  'name': 'Skylar Mays',\n  'position_type': 'P',\n  'eligible_positions': ['PG', 'SG', 'G', 'Util'],\n  'percent_owned': 0,\n  'status': ''},\n {'player_id': 6445,\n  'name': 'Cassius Winston',\n  'position_type': 'P',\n  'eligible_positions': ['PG', 'G', 'Util'],\n  'percent_owned': 0,\n  'status': ''},\n {'player_id': 6446,\n  'name': 'Cassius Stanley',\n  'position_type': 'P',\n  'eligible_positions': ['SG', 'G', 'Util'],\n  'percent_owned': 0,\n  'status': ''},\n {'player_id': 6447,\n  'name': 'Jay Scrubb',\n  'status': 'INJ',\n  'position_type': 'P',\n  'eligible_positions': ['SG', 'G', 'Util'],\n  'percent_owned': 0},\n {'player_id': 6448,\n  'name': 'Grant Riller',\n  'position_type': 'P',\n  'eligible_positions': ['PG', 'G', 'Util'],\n  'percent_owned': 0,\n  'status': ''},\n {'player_id': 6451,\n  'name': 'Jalen Harris',\n  'position_type': 'P',\n  'eligible_positions': ['SG', 'G', 'Util'],\n  'percent_owned': 0,\n  'status': ''},\n {'player_id': 6452,\n  'name': 'Sam Merrill',\n  'position_type': 'P',\n  'eligible_positions': ['SG', 'G', 'Util'],\n  'percent_owned': 0,\n  'status': ''},\n {'player_id': 6453,\n  'name': 'Mason Jones',\n  'position_type': 'P',\n  'eligible_positions': ['SG', 'G', 'Util'],\n  'percent_owned': 1,\n  'status': ''},\n {'player_id': 6454,\n  'name': 'Devon Dotson',\n  'position_type': 'P',\n  'eligible_positions': ['PG', 'SG', 'G', 'Util'],\n  'percent_owned': 0,\n  'status': ''},\n {'player_id': 6455,\n  'name': 'Ty-Shon Alexander',\n  'position_type': 'P',\n  'eligible_positions': ['SG', 'G', 'Util'],\n  'percent_owned': 0,\n  'status': ''},\n {'player_id': 6461,\n  'name': 'Sean McDermott',\n  'position_type': 'P',\n  'eligible_positions': ['SG', 'G', 'Util'],\n  'percent_owned': 0,\n  'status': ''},\n {'player_id': 6463,\n  'name': \"Jae'Sean Tate\",\n  'position_type': 'P',\n  'eligible_positions': ['SG', 'G', 'Util'],\n  'percent_owned': 5,\n  'status': ''},\n {'player_id': 6464,\n  'name': 'Trent Forrest',\n  'position_type': 'P',\n  'eligible_positions': ['SG', 'G', 'Util'],\n  'percent_owned': 0,\n  'status': ''},\n {'player_id': 6465,\n  'name': 'Ashton Hagans',\n  'position_type': 'P',\n  'eligible_positions': ['PG', 'G', 'Util'],\n  'percent_owned': 0,\n  'status': ''},\n {'player_id': 6466,\n  'name': 'Markus Howard',\n  'position_type': 'P',\n  'eligible_positions': ['SG', 'G', 'Util'],\n  'percent_owned': 0,\n  'status': ''},\n {'player_id': 6468,\n  'name': 'Facundo Campazzo',\n  'position_type': 'P',\n  'eligible_positions': ['PG', 'G', 'Util'],\n  'percent_owned': 1,\n  'status': ''},\n {'player_id': 6472,\n  'name': 'Nate Hinton',\n  'position_type': 'P',\n  'eligible_positions': ['SG', 'G', 'Util'],\n  'percent_owned': 0,\n  'status': ''},\n {'player_id': 6474,\n  'name': 'Nate Darling',\n  'position_type': 'P',\n  'eligible_positions': ['SG', 'G', 'Util'],\n  'percent_owned': 0,\n  'status': ''},\n {'player_id': 6483,\n  'name': 'Brodric Thomas',\n  'position_type': 'P',\n  'eligible_positions': ['SG', 'G', 'Util'],\n  'percent_owned': 0,\n  'status': ''},\n {'player_id': 6497,\n  'name': 'Karim Mane',\n  'position_type': 'P',\n  'eligible_positions': ['PG', 'G', 'Util'],\n  'percent_owned': 0,\n  'status': ''}]"
     },
     "execution_count": 14,
     "metadata": {},
     "output_type": "execute_result"
    }
   ],
   "source": [
    "fa_CF\n"
   ],
   "metadata": {
    "collapsed": false,
    "pycharm": {
     "name": "#%%\n"
    }
   }
  },
  {
   "cell_type": "markdown",
   "source": [
    "## Team Rosters\n",
    "This section will create dataframes for each team in the league."
   ],
   "metadata": {
    "collapsed": false,
    "pycharm": {
     "name": "#%% md\n"
    }
   }
  },
  {
   "cell_type": "code",
   "execution_count": 38,
   "outputs": [
    {
     "name": "stdout",
     "output_type": "stream",
     "text": [
      "[{'player_id': 3930, 'name': 'Chris Paul', 'status': '', 'position_type': 'P', 'eligible_positions': ['PG', 'G', 'Util'], 'selected_position': 'PG'}, {'player_id': 6048, 'name': 'Gary Trent Jr.', 'status': '', 'position_type': 'P', 'eligible_positions': ['SG', 'G', 'SF', 'F', 'Util'], 'selected_position': 'SG'}, {'player_id': 6401, 'name': 'Deni Avdija', 'status': 'INJ', 'position_type': 'P', 'eligible_positions': ['SG', 'G', 'SF', 'F', 'Util'], 'selected_position': 'G'}, {'player_id': 4468, 'name': 'Danilo Gallinari', 'status': 'INJ', 'position_type': 'P', 'eligible_positions': ['SF', 'PF', 'F', 'Util'], 'selected_position': 'SF'}, {'player_id': 5154, 'name': 'Otto Porter Jr.', 'status': '', 'position_type': 'P', 'eligible_positions': ['SF', 'PF', 'F', 'Util'], 'selected_position': 'PF'}, {'player_id': 5487, 'name': 'Larry Nance Jr.', 'status': '', 'position_type': 'P', 'eligible_positions': ['PF', 'F', 'C', 'Util'], 'selected_position': 'F'}, {'player_id': 5497, 'name': 'Richaun Holmes', 'status': '', 'position_type': 'P', 'eligible_positions': ['PF', 'F', 'C', 'Util'], 'selected_position': 'C'}, {'player_id': 5432, 'name': 'Karl-Anthony Towns', 'status': 'INJ', 'position_type': 'P', 'eligible_positions': ['C', 'Util'], 'selected_position': 'C'}, {'player_id': 4901, 'name': 'Tobias Harris', 'status': '', 'position_type': 'P', 'eligible_positions': ['SF', 'PF', 'F', 'Util'], 'selected_position': 'Util'}, {'player_id': 5471, 'name': 'Myles Turner', 'status': 'INJ', 'position_type': 'P', 'eligible_positions': ['PF', 'F', 'C', 'Util'], 'selected_position': 'Util'}, {'player_id': 5832, 'name': 'John Collins', 'status': '', 'position_type': 'P', 'eligible_positions': ['PF', 'F', 'C', 'Util'], 'selected_position': 'BN'}, {'player_id': 6045, 'name': \"Devonte' Graham\", 'status': '', 'position_type': 'P', 'eligible_positions': ['PG', 'SG', 'G', 'Util'], 'selected_position': 'BN'}, {'player_id': 5506, 'name': 'Norman Powell', 'status': '', 'position_type': 'P', 'eligible_positions': ['SG', 'G', 'SF', 'F', 'Util'], 'selected_position': 'BN'}, {'player_id': 6211, 'name': 'Darius Bazley', 'status': '', 'position_type': 'P', 'eligible_positions': ['SF', 'PF', 'F', 'Util'], 'selected_position': 'BN'}, {'player_id': 5827, 'name': 'Bam Adebayo', 'status': '', 'position_type': 'P', 'eligible_positions': ['PF', 'F', 'C', 'Util'], 'selected_position': 'BN'}, {'player_id': 5349, 'name': 'Spencer Dinwiddie', 'status': 'INJ', 'position_type': 'P', 'eligible_positions': ['PG', 'SG', 'G', 'Util'], 'selected_position': ''}, {'player_id': 4139, 'name': 'JJ Redick', 'status': '', 'position_type': 'P', 'eligible_positions': ['SG', 'G', 'Util'], 'selected_position': ''}]\n",
      "[{'player_id': 5187, 'name': 'Dennis Schroder', 'status': '', 'position_type': 'P', 'eligible_positions': ['PG', 'G', 'Util'], 'selected_position': 'PG'}, {'player_id': 5473, 'name': 'Devin Booker', 'status': '', 'position_type': 'P', 'eligible_positions': ['SG', 'G', 'SF', 'F', 'Util'], 'selected_position': 'SG'}, {'player_id': 6016, 'name': 'Trae Young', 'status': '', 'position_type': 'P', 'eligible_positions': ['PG', 'G', 'Util'], 'selected_position': 'G'}, {'player_id': 5836, 'name': 'OG Anunoby', 'status': '', 'position_type': 'P', 'eligible_positions': ['SF', 'PF', 'F', 'Util'], 'selected_position': 'SF'}, {'player_id': 5475, 'name': 'Kelly Oubre Jr.', 'status': '', 'position_type': 'P', 'eligible_positions': ['SF', 'PF', 'F', 'Util'], 'selected_position': 'PF'}, {'player_id': 6209, 'name': 'Brandon Clarke', 'status': '', 'position_type': 'P', 'eligible_positions': ['SF', 'PF', 'F', 'Util'], 'selected_position': 'F'}, {'player_id': 5327, 'name': 'Jusuf Nurkic', 'status': 'INJ', 'position_type': 'P', 'eligible_positions': ['C', 'Util'], 'selected_position': 'C'}, {'player_id': 5197, 'name': 'Rudy Gobert', 'status': '', 'position_type': 'P', 'eligible_positions': ['C', 'Util'], 'selected_position': 'C'}, {'player_id': 5484, 'name': 'Tyus Jones', 'status': '', 'position_type': 'P', 'eligible_positions': ['PG', 'G', 'Util'], 'selected_position': 'Util'}, {'player_id': 6015, 'name': 'Jaren Jackson Jr.', 'status': 'INJ', 'position_type': 'P', 'eligible_positions': ['PF', 'F', 'C', 'Util'], 'selected_position': 'Util'}, {'player_id': 4724, 'name': 'Gordon Hayward', 'status': '', 'position_type': 'P', 'eligible_positions': ['SG', 'G', 'SF', 'F', 'Util'], 'selected_position': 'BN'}, {'player_id': 6167, 'name': 'Darius Garland', 'status': 'INJ', 'position_type': 'P', 'eligible_positions': ['PG', 'G', 'Util'], 'selected_position': 'BN'}, {'player_id': 6254, 'name': 'Luguentz Dort', 'status': '', 'position_type': 'P', 'eligible_positions': ['SG', 'G', 'SF', 'F', 'Util'], 'selected_position': 'BN'}, {'player_id': 6166, 'name': \"De'Andre Hunter\", 'status': 'GTD', 'position_type': 'P', 'eligible_positions': ['SF', 'PF', 'F', 'Util'], 'selected_position': 'BN'}, {'player_id': 5894, 'name': 'Chris Boucher', 'status': '', 'position_type': 'P', 'eligible_positions': ['PF', 'F', 'C', 'Util'], 'selected_position': 'BN'}, {'player_id': 6399, 'name': 'Killian Hayes', 'status': 'INJ', 'position_type': 'P', 'eligible_positions': ['PG', 'SG', 'G', 'Util'], 'selected_position': ''}]\n",
      "[{'player_id': 5600, 'name': 'Ben Simmons', 'status': '', 'position_type': 'P', 'eligible_positions': ['PG', 'G', 'Util'], 'selected_position': 'PG'}, {'player_id': 4614, 'name': 'DeMar DeRozan', 'status': '', 'position_type': 'P', 'eligible_positions': ['SG', 'G', 'SF', 'F', 'Util'], 'selected_position': 'SG'}, {'player_id': 5338, 'name': 'Bogdan Bogdanovic', 'status': 'INJ', 'position_type': 'P', 'eligible_positions': ['SG', 'G', 'SF', 'PF', 'F', 'Util'], 'selected_position': 'G'}, {'player_id': 6217, 'name': 'Keldon Johnson', 'status': '', 'position_type': 'P', 'eligible_positions': ['SF', 'F', 'Util'], 'selected_position': 'SF'}, {'player_id': 5350, 'name': 'Jerami Grant', 'status': '', 'position_type': 'P', 'eligible_positions': ['SF', 'PF', 'F', 'Util'], 'selected_position': 'PF'}, {'player_id': 4720, 'name': 'DeMarcus Cousins', 'status': '', 'position_type': 'P', 'eligible_positions': ['PF', 'F', 'C', 'Util'], 'selected_position': 'F'}, {'player_id': 6047, 'name': 'Mitchell Robinson', 'status': '', 'position_type': 'P', 'eligible_positions': ['C', 'Util'], 'selected_position': 'C'}, {'player_id': 5356, 'name': 'Dwight Powell', 'status': 'INJ', 'position_type': 'P', 'eligible_positions': ['PF', 'F', 'C', 'Util'], 'selected_position': 'C'}, {'player_id': 5480, 'name': 'Delon Wright', 'status': '', 'position_type': 'P', 'eligible_positions': ['SG', 'G', 'SF', 'F', 'Util'], 'selected_position': 'Util'}, {'player_id': 5015, 'name': 'Andre Drummond', 'status': '', 'position_type': 'P', 'eligible_positions': ['C', 'Util'], 'selected_position': 'Util'}, {'player_id': 6171, 'name': 'Rui Hachimura', 'status': 'INJ', 'position_type': 'P', 'eligible_positions': ['SF', 'PF', 'F', 'Util'], 'selected_position': 'BN'}, {'player_id': 5651, 'name': 'Caris LeVert', 'status': 'INJ', 'position_type': 'P', 'eligible_positions': ['SG', 'G', 'SF', 'F', 'Util'], 'selected_position': 'BN'}, {'player_id': 4610, 'name': 'Ricky Rubio', 'status': 'INJ', 'position_type': 'P', 'eligible_positions': ['PG', 'G', 'Util'], 'selected_position': 'BN'}, {'player_id': 5150, 'name': 'Aron Baynes', 'status': '', 'position_type': 'P', 'eligible_positions': ['C', 'Util'], 'selected_position': 'BN'}, {'player_id': 5185, 'name': 'Giannis Antetokounmpo', 'status': '', 'position_type': 'P', 'eligible_positions': ['PF', 'F', 'C', 'Util'], 'selected_position': 'BN'}]\n",
      "[{'player_id': 5317, 'name': 'Marcus Smart', 'status': '', 'position_type': 'P', 'eligible_positions': ['PG', 'SG', 'G', 'Util'], 'selected_position': 'PG'}, {'player_id': 5074, 'name': 'Will Barton', 'status': '', 'position_type': 'P', 'eligible_positions': ['SG', 'G', 'SF', 'F', 'Util'], 'selected_position': 'SG'}, {'player_id': 4749, 'name': 'Eric Bledsoe', 'status': '', 'position_type': 'P', 'eligible_positions': ['PG', 'SG', 'G', 'Util'], 'selected_position': 'G'}, {'player_id': 6173, 'name': 'Cameron Johnson', 'status': '', 'position_type': 'P', 'eligible_positions': ['SF', 'PF', 'F', 'Util'], 'selected_position': 'SF'}, {'player_id': 5352, 'name': 'Nikola Jokic', 'status': '', 'position_type': 'P', 'eligible_positions': ['PF', 'F', 'C', 'Util'], 'selected_position': 'PF'}, {'player_id': 4912, 'name': 'Jimmy Butler', 'status': 'INJ', 'position_type': 'P', 'eligible_positions': ['SF', 'PF', 'F', 'Util'], 'selected_position': 'F'}, {'player_id': 4926, 'name': 'Davis Bertans', 'status': 'INJ', 'position_type': 'P', 'eligible_positions': ['PF', 'F', 'C', 'Util'], 'selected_position': 'C'}, {'player_id': 6018, 'name': 'Wendell Carter Jr.', 'status': 'O', 'position_type': 'P', 'eligible_positions': ['C', 'Util'], 'selected_position': 'C'}, {'player_id': 6026, 'name': 'Troy Brown Jr.', 'status': 'INJ', 'position_type': 'P', 'eligible_positions': ['SG', 'G', 'SF', 'F', 'Util'], 'selected_position': 'Util'}, {'player_id': 5073, 'name': 'Khris Middleton', 'status': '', 'position_type': 'P', 'eligible_positions': ['SF', 'PF', 'F', 'Util'], 'selected_position': 'Util'}, {'player_id': 5321, 'name': 'Elfrid Payton', 'status': '', 'position_type': 'P', 'eligible_positions': ['PG', 'G', 'Util'], 'selected_position': 'BN'}, {'player_id': 5667, 'name': 'Malcolm Brogdon', 'status': '', 'position_type': 'P', 'eligible_positions': ['PG', 'SG', 'G', 'Util'], 'selected_position': 'BN'}, {'player_id': 6172, 'name': 'Cam Reddish', 'status': 'INJ', 'position_type': 'P', 'eligible_positions': ['SF', 'PF', 'F', 'Util'], 'selected_position': 'BN'}, {'player_id': 5658, 'name': 'Pascal Siakam', 'status': 'GTD', 'position_type': 'P', 'eligible_positions': ['PF', 'F', 'C', 'Util'], 'selected_position': 'BN'}, {'player_id': 6073, 'name': 'Duncan Robinson', 'status': '', 'position_type': 'P', 'eligible_positions': ['SG', 'G', 'SF', 'F', 'Util'], 'selected_position': 'BN'}]\n",
      "[{'player_id': 5650, 'name': 'Malik Beasley', 'status': '', 'position_type': 'P', 'eligible_positions': ['PG', 'SG', 'G', 'Util'], 'selected_position': 'PG'}, {'player_id': 4896, 'name': 'Kawhi Leonard', 'status': '', 'position_type': 'P', 'eligible_positions': ['SG', 'G', 'SF', 'F', 'Util'], 'selected_position': 'SG'}, {'player_id': 6021, 'name': 'Mikal Bridges', 'status': '', 'position_type': 'P', 'eligible_positions': ['SG', 'G', 'SF', 'F', 'Util'], 'selected_position': 'G'}, {'player_id': 5068, 'name': 'Jae Crowder', 'status': '', 'position_type': 'P', 'eligible_positions': ['SF', 'PF', 'F', 'Util'], 'selected_position': 'SF'}, {'player_id': 4913, 'name': 'Bojan Bogdanovic', 'status': '', 'position_type': 'P', 'eligible_positions': ['SF', 'PF', 'F', 'Util'], 'selected_position': 'PF'}, {'player_id': 6174, 'name': 'PJ Washington', 'status': '', 'position_type': 'P', 'eligible_positions': ['SF', 'PF', 'F', 'Util'], 'selected_position': 'F'}, {'player_id': 5318, 'name': 'Julius Randle', 'status': '', 'position_type': 'P', 'eligible_positions': ['PF', 'F', 'C', 'Util'], 'selected_position': 'C'}, {'player_id': 5855, 'name': 'Thomas Bryant', 'status': 'INJ', 'position_type': 'P', 'eligible_positions': ['C', 'Util'], 'selected_position': 'C'}, {'player_id': 3704, 'name': 'LeBron James', 'status': '', 'position_type': 'P', 'eligible_positions': ['PG', 'SG', 'G', 'SF', 'F', 'Util'], 'selected_position': 'Util'}, {'player_id': 5764, 'name': 'Lonzo Ball', 'status': '', 'position_type': 'P', 'eligible_positions': ['PG', 'SG', 'G', 'Util'], 'selected_position': 'Util'}, {'player_id': 6404, 'name': 'Tyrese Haliburton', 'status': '', 'position_type': 'P', 'eligible_positions': ['PG', 'SG', 'G', 'Util'], 'selected_position': 'BN'}, {'player_id': 6030, 'name': 'Kevin Huerter', 'status': '', 'position_type': 'P', 'eligible_positions': ['SG', 'G', 'SF', 'F', 'Util'], 'selected_position': 'BN'}, {'player_id': 5727, 'name': 'Fred VanVleet', 'status': '', 'position_type': 'P', 'eligible_positions': ['PG', 'SG', 'G', 'Util'], 'selected_position': 'BN'}, {'player_id': 4893, 'name': 'Alec Burks', 'status': '', 'position_type': 'P', 'eligible_positions': ['SG', 'G', 'SF', 'F', 'Util'], 'selected_position': 'BN'}, {'player_id': 4897, 'name': 'Nikola Vucevic', 'status': '', 'position_type': 'P', 'eligible_positions': ['C', 'Util'], 'selected_position': 'BN'}]\n",
      "[{'player_id': 6169, 'name': 'Coby White', 'status': '', 'position_type': 'P', 'eligible_positions': ['PG', 'SG', 'G', 'Util'], 'selected_position': 'PG'}, {'player_id': 5357, 'name': 'Jordan Clarkson', 'status': '', 'position_type': 'P', 'eligible_positions': ['PG', 'SG', 'G', 'Util'], 'selected_position': 'SG'}, {'player_id': 4840, 'name': 'Kyrie Irving', 'status': '', 'position_type': 'P', 'eligible_positions': ['PG', 'G', 'Util'], 'selected_position': 'G'}, {'player_id': 4725, 'name': 'Paul George', 'status': '', 'position_type': 'P', 'eligible_positions': ['SF', 'PF', 'F', 'Util'], 'selected_position': 'SF'}, {'player_id': 4764, 'name': 'Hassan Whiteside', 'status': 'GTD', 'position_type': 'P', 'eligible_positions': ['PF', 'F', 'C', 'Util'], 'selected_position': 'PF'}, {'player_id': 5007, 'name': 'Anthony Davis', 'status': '', 'position_type': 'P', 'eligible_positions': ['PF', 'F', 'C', 'Util'], 'selected_position': 'F'}, {'player_id': 4497, 'name': 'DeAndre Jordan', 'status': '', 'position_type': 'P', 'eligible_positions': ['C', 'Util'], 'selected_position': 'C'}, {'player_id': 5192, 'name': 'Mason Plumlee', 'status': '', 'position_type': 'P', 'eligible_positions': ['PF', 'F', 'C', 'Util'], 'selected_position': 'C'}, {'player_id': 3971, 'name': 'Lou Williams', 'status': '', 'position_type': 'P', 'eligible_positions': ['PG', 'SG', 'G', 'Util'], 'selected_position': 'Util'}, {'player_id': 5194, 'name': 'Tim Hardaway Jr.', 'status': '', 'position_type': 'P', 'eligible_positions': ['SG', 'G', 'SF', 'F', 'Util'], 'selected_position': 'Util'}, {'player_id': 5763, 'name': 'Markelle Fultz', 'status': 'INJ', 'position_type': 'P', 'eligible_positions': ['PG', 'SG', 'G', 'Util'], 'selected_position': 'BN'}, {'player_id': 5013, 'name': 'Harrison Barnes', 'status': '', 'position_type': 'P', 'eligible_positions': ['SF', 'PF', 'F', 'Util'], 'selected_position': 'BN'}, {'player_id': 5163, 'name': 'Steven Adams', 'status': '', 'position_type': 'P', 'eligible_positions': ['C', 'Util'], 'selected_position': 'BN'}, {'player_id': 4622, 'name': 'Jrue Holiday', 'status': '', 'position_type': 'P', 'eligible_positions': ['PG', 'SG', 'G', 'Util'], 'selected_position': 'BN'}, {'player_id': 4472, 'name': 'Brook Lopez', 'status': '', 'position_type': 'P', 'eligible_positions': ['C', 'Util'], 'selected_position': 'BN'}]\n",
      "[{'player_id': 5012, 'name': 'Damian Lillard', 'status': '', 'position_type': 'P', 'eligible_positions': ['PG', 'G', 'Util'], 'selected_position': 'PG'}, {'player_id': 5602, 'name': 'Jaylen Brown', 'status': '', 'position_type': 'P', 'eligible_positions': ['SG', 'G', 'SF', 'F', 'Util'], 'selected_position': 'SG'}, {'player_id': 6175, 'name': 'Tyler Herro', 'status': 'INJ', 'position_type': 'P', 'eligible_positions': ['PG', 'SG', 'G', 'SF', 'F', 'Util'], 'selected_position': 'G'}, {'player_id': 5500, 'name': 'Josh Richardson', 'status': 'INJ', 'position_type': 'P', 'eligible_positions': ['SG', 'G', 'SF', 'F', 'Util'], 'selected_position': 'SF'}, {'player_id': 5769, 'name': 'Lauri Markkanen', 'status': '', 'position_type': 'P', 'eligible_positions': ['PF', 'F', 'C', 'Util'], 'selected_position': 'PF'}, {'player_id': 4175, 'name': 'Paul Millsap', 'status': '', 'position_type': 'P', 'eligible_positions': ['PF', 'F', 'C', 'Util'], 'selected_position': 'F'}, {'player_id': 4486, 'name': 'Serge Ibaka', 'status': '', 'position_type': 'P', 'eligible_positions': ['PF', 'F', 'C', 'Util'], 'selected_position': 'C'}, {'player_id': 5892, 'name': 'Maxi Kleber', 'status': 'INJ', 'position_type': 'P', 'eligible_positions': ['PF', 'F', 'C', 'Util'], 'selected_position': 'C'}, {'player_id': 6395, 'name': 'LaMelo Ball', 'status': '', 'position_type': 'P', 'eligible_positions': ['PG', 'SG', 'G', 'Util'], 'selected_position': 'Util'}, {'player_id': 6164, 'name': 'Ja Morant', 'status': '', 'position_type': 'P', 'eligible_positions': ['PG', 'G', 'Util'], 'selected_position': 'Util'}, {'player_id': 6065, 'name': 'Shake Milton', 'status': '', 'position_type': 'P', 'eligible_positions': ['PG', 'SG', 'G', 'Util'], 'selected_position': 'BN'}, {'player_id': 5245, 'name': 'Seth Curry', 'status': '', 'position_type': 'P', 'eligible_positions': ['PG', 'SG', 'G', 'Util'], 'selected_position': 'BN'}, {'player_id': 6022, 'name': 'Shai Gilgeous-Alexander', 'status': '', 'position_type': 'P', 'eligible_positions': ['SG', 'G', 'SF', 'F', 'Util'], 'selected_position': 'BN'}, {'player_id': 5482, 'name': 'Bobby Portis', 'status': '', 'position_type': 'P', 'eligible_positions': ['PF', 'F', 'C', 'Util'], 'selected_position': 'BN'}, {'player_id': 5336, 'name': 'Clint Capela', 'status': '', 'position_type': 'P', 'eligible_positions': ['C', 'Util'], 'selected_position': 'BN'}]\n",
      "[{'player_id': 6014, 'name': 'Luka Doncic', 'status': '', 'position_type': 'P', 'eligible_positions': ['PG', 'SG', 'G', 'Util'], 'selected_position': 'PG'}, {'player_id': 5161, 'name': 'CJ McCollum', 'status': 'INJ', 'position_type': 'P', 'eligible_positions': ['PG', 'SG', 'G', 'Util'], 'selected_position': 'SG'}, {'player_id': 4647, 'name': 'Patrick Beverley', 'status': '', 'position_type': 'P', 'eligible_positions': ['PG', 'SG', 'G', 'Util'], 'selected_position': 'G'}, {'player_id': 5344, 'name': 'Joe Harris', 'status': '', 'position_type': 'P', 'eligible_positions': ['SG', 'G', 'SF', 'F', 'Util'], 'selected_position': 'SF'}, {'player_id': 5253, 'name': 'Robert Covington', 'status': '', 'position_type': 'P', 'eligible_positions': ['PF', 'F', 'C', 'Util'], 'selected_position': 'PF'}, {'player_id': 4130, 'name': 'LaMarcus Aldridge', 'status': '', 'position_type': 'P', 'eligible_positions': ['PF', 'F', 'C', 'Util'], 'selected_position': 'F'}, {'player_id': 5835, 'name': 'Jarrett Allen', 'status': '', 'position_type': 'P', 'eligible_positions': ['C', 'Util'], 'selected_position': 'C'}, {'player_id': 4561, 'name': 'Blake Griffin', 'status': '', 'position_type': 'P', 'eligible_positions': ['PF', 'F', 'C', 'Util'], 'selected_position': 'C'}, {'player_id': 4890, 'name': 'Kemba Walker', 'status': '', 'position_type': 'P', 'eligible_positions': ['PG', 'G', 'Util'], 'selected_position': 'Util'}, {'player_id': 5638, 'name': 'Jamal Murray', 'status': '', 'position_type': 'P', 'eligible_positions': ['PG', 'SG', 'G', 'Util'], 'selected_position': 'Util'}, {'player_id': 5153, 'name': 'Victor Oladipo', 'status': '', 'position_type': 'P', 'eligible_positions': ['SG', 'G', 'SF', 'F', 'Util'], 'selected_position': 'BN'}, {'player_id': 6218, 'name': 'Kevin Porter Jr.', 'status': 'INJ', 'position_type': 'P', 'eligible_positions': ['SG', 'G', 'SF', 'F', 'Util'], 'selected_position': 'BN'}, {'player_id': 6400, 'name': 'Obi Toppin', 'status': '', 'position_type': 'P', 'eligible_positions': ['SF', 'PF', 'F', 'Util'], 'selected_position': 'BN'}, {'player_id': 6163, 'name': 'Zion Williamson', 'status': '', 'position_type': 'P', 'eligible_positions': ['PF', 'F', 'Util'], 'selected_position': 'BN'}, {'player_id': 5639, 'name': 'Marquese Chriss', 'status': 'INJ', 'position_type': 'P', 'eligible_positions': ['PF', 'F', 'C', 'Util'], 'selected_position': 'BN'}]\n",
      "[{'player_id': 4246, 'name': 'Mike Conley', 'status': '', 'position_type': 'P', 'eligible_positions': ['PG', 'G', 'Util'], 'selected_position': 'PG'}, {'player_id': 5826, 'name': 'Donovan Mitchell', 'status': '', 'position_type': 'P', 'eligible_positions': ['PG', 'SG', 'G', 'Util'], 'selected_position': 'SG'}, {'player_id': 6355, 'name': 'Anthony Edwards', 'status': '', 'position_type': 'P', 'eligible_positions': ['SG', 'G', 'Util'], 'selected_position': 'G'}, {'player_id': 5292, 'name': 'Andrew Wiggins', 'status': '', 'position_type': 'P', 'eligible_positions': ['SG', 'G', 'SF', 'F', 'Util'], 'selected_position': 'SF'}, {'player_id': 3706, 'name': 'Carmelo Anthony', 'status': '', 'position_type': 'P', 'eligible_positions': ['SF', 'PF', 'F', 'Util'], 'selected_position': 'PF'}, {'player_id': 5324, 'name': 'Zach LaVine', 'status': '', 'position_type': 'P', 'eligible_positions': ['SG', 'G', 'SF', 'F', 'Util'], 'selected_position': 'F'}, {'player_id': 4886, 'name': 'Jonas Valanciunas', 'status': 'INJ', 'position_type': 'P', 'eligible_positions': ['C', 'Util'], 'selected_position': 'C'}, {'player_id': 6038, 'name': 'Robert Williams', 'status': '', 'position_type': 'P', 'eligible_positions': ['C', 'Util'], 'selected_position': 'C'}, {'player_id': 5393, 'name': 'Joe Ingles', 'status': '', 'position_type': 'P', 'eligible_positions': ['SG', 'G', 'SF', 'F', 'Util'], 'selected_position': 'Util'}, {'player_id': 4612, 'name': 'Stephen Curry', 'status': '', 'position_type': 'P', 'eligible_positions': ['PG', 'SG', 'G', 'Util'], 'selected_position': 'Util'}, {'player_id': 6397, 'name': 'Isaac Okoro', 'status': '', 'position_type': 'P', 'eligible_positions': ['SF', 'F', 'Util'], 'selected_position': 'BN'}, {'player_id': 5325, 'name': 'T.J. Warren', 'status': 'INJ', 'position_type': 'P', 'eligible_positions': ['SF', 'PF', 'F', 'Util'], 'selected_position': 'BN'}, {'player_id': 4245, 'name': 'Al Horford', 'status': 'INJ', 'position_type': 'P', 'eligible_positions': ['PF', 'F', 'C', 'Util'], 'selected_position': 'BN'}, {'player_id': 4391, 'name': 'Kevin Love', 'status': 'INJ', 'position_type': 'P', 'eligible_positions': ['PF', 'F', 'C', 'Util'], 'selected_position': 'BN'}, {'player_id': 6023, 'name': 'Miles Bridges', 'status': '', 'position_type': 'P', 'eligible_positions': ['SF', 'PF', 'F', 'Util'], 'selected_position': 'BN'}]\n",
      "[{'player_id': 5660, 'name': 'Dejounte Murray', 'status': '', 'position_type': 'P', 'eligible_positions': ['PG', 'SG', 'G', 'Util'], 'selected_position': 'PG'}, {'player_id': 6019, 'name': 'Collin Sexton', 'status': '', 'position_type': 'P', 'eligible_positions': ['PG', 'SG', 'G', 'Util'], 'selected_position': 'SG'}, {'player_id': 5767, 'name': \"De'Aaron Fox\", 'status': '', 'position_type': 'P', 'eligible_positions': ['PG', 'G', 'Util'], 'selected_position': 'G'}, {'player_id': 6025, 'name': 'Michael Porter Jr.', 'status': 'INJ', 'position_type': 'P', 'eligible_positions': ['SF', 'PF', 'F', 'Util'], 'selected_position': 'SF'}, {'player_id': 5492, 'name': 'Montrezl Harrell', 'status': '', 'position_type': 'P', 'eligible_positions': ['PF', 'F', 'C', 'Util'], 'selected_position': 'PF'}, {'player_id': 5765, 'name': 'Jayson Tatum', 'status': 'INJ', 'position_type': 'P', 'eligible_positions': ['SF', 'PF', 'F', 'Util'], 'selected_position': 'F'}, {'player_id': 5294, 'name': 'Joel Embiid', 'status': '', 'position_type': 'P', 'eligible_positions': ['PF', 'F', 'C', 'Util'], 'selected_position': 'C'}, {'player_id': 5663, 'name': 'Ivica Zubac', 'status': '', 'position_type': 'P', 'eligible_positions': ['C', 'Util'], 'selected_position': 'C'}, {'player_id': 5825, 'name': 'Luke Kennard', 'status': '', 'position_type': 'P', 'eligible_positions': ['SG', 'G', 'SF', 'F', 'Util'], 'selected_position': 'Util'}, {'player_id': 5433, 'name': \"D'Angelo Russell\", 'status': '', 'position_type': 'P', 'eligible_positions': ['PG', 'SG', 'G', 'Util'], 'selected_position': 'Util'}, {'player_id': 5476, 'name': 'Terry Rozier', 'status': '', 'position_type': 'P', 'eligible_positions': ['PG', 'G', 'Util'], 'selected_position': 'BN'}, {'player_id': 5295, 'name': 'Aaron Gordon', 'status': '', 'position_type': 'P', 'eligible_positions': ['SF', 'PF', 'F', 'Util'], 'selected_position': 'BN'}, {'player_id': 5014, 'name': 'Terrence Ross', 'status': '', 'position_type': 'P', 'eligible_positions': ['SG', 'G', 'SF', 'F', 'Util'], 'selected_position': 'BN'}, {'player_id': 4163, 'name': 'P.J. Tucker', 'status': '', 'position_type': 'P', 'eligible_positions': ['PF', 'F', 'C', 'Util'], 'selected_position': 'BN'}, {'player_id': 4507, 'name': 'Goran Dragic', 'status': 'GTD', 'position_type': 'P', 'eligible_positions': ['PG', 'SG', 'G', 'Util'], 'selected_position': 'BN'}]\n",
      "[{'player_id': 4390, 'name': 'Russell Westbrook', 'status': 'INJ', 'position_type': 'P', 'eligible_positions': ['PG', 'G', 'Util'], 'selected_position': 'PG'}, {'player_id': 5858, 'name': 'Dillon Brooks', 'status': '', 'position_type': 'P', 'eligible_positions': ['SG', 'G', 'SF', 'F', 'Util'], 'selected_position': 'SG'}, {'player_id': 4387, 'name': 'Derrick Rose', 'status': '', 'position_type': 'P', 'eligible_positions': ['PG', 'SG', 'G', 'Util'], 'selected_position': 'G'}, {'player_id': 5341, 'name': 'Kyle Anderson', 'status': '', 'position_type': 'P', 'eligible_positions': ['SF', 'PF', 'F', 'Util'], 'selected_position': 'SF'}, {'player_id': 4244, 'name': 'Kevin Durant', 'status': 'O', 'position_type': 'P', 'eligible_positions': ['SF', 'PF', 'F', 'Util'], 'selected_position': 'PF'}, {'player_id': 5766, 'name': 'Josh Jackson', 'status': 'GTD', 'position_type': 'P', 'eligible_positions': ['SG', 'G', 'SF', 'F', 'Util'], 'selected_position': 'F'}, {'player_id': 6356, 'name': 'James Wiseman', 'status': '', 'position_type': 'P', 'eligible_positions': ['C', 'Util'], 'selected_position': 'C'}, {'player_id': 6253, 'name': 'Naz Reid', 'status': '', 'position_type': 'P', 'eligible_positions': ['C', 'Util'], 'selected_position': 'C'}, {'player_id': 5637, 'name': 'Buddy Hield', 'status': '', 'position_type': 'P', 'eligible_positions': ['SG', 'G', 'Util'], 'selected_position': 'Util'}, {'player_id': 4716, 'name': 'John Wall', 'status': 'INJ', 'position_type': 'P', 'eligible_positions': ['PG', 'G', 'Util'], 'selected_position': 'Util'}, {'player_id': 4488, 'name': 'George Hill', 'status': '', 'position_type': 'P', 'eligible_positions': ['PG', 'SG', 'G', 'Util'], 'selected_position': 'BN'}, {'player_id': 6165, 'name': 'RJ Barrett', 'status': '', 'position_type': 'P', 'eligible_positions': ['SG', 'G', 'SF', 'F', 'Util'], 'selected_position': 'BN'}, {'player_id': 5601, 'name': 'Brandon Ingram', 'status': '', 'position_type': 'P', 'eligible_positions': ['SF', 'PF', 'F', 'Util'], 'selected_position': 'BN'}, {'player_id': 5959, 'name': 'Marvin Bagley III', 'status': 'GTD', 'position_type': 'P', 'eligible_positions': ['PF', 'F', 'C', 'Util'], 'selected_position': 'BN'}, {'player_id': 5642, 'name': 'Domantas Sabonis', 'status': '', 'position_type': 'P', 'eligible_positions': ['PF', 'F', 'C', 'Util'], 'selected_position': 'BN'}, {'player_id': 6396, 'name': 'Patrick Williams', 'status': '', 'position_type': 'P', 'eligible_positions': ['SF', 'F', 'Util'], 'selected_position': ''}, {'player_id': 4718, 'name': 'Derrick Favors', 'status': '', 'position_type': 'P', 'eligible_positions': ['PF', 'F', 'C', 'Util'], 'selected_position': ''}]\n",
      "[{'player_id': 4624, 'name': 'Jeff Teague', 'status': '', 'position_type': 'P', 'eligible_positions': ['PG', 'SG', 'G', 'Util'], 'selected_position': 'PG'}, {'player_id': 4563, 'name': 'James Harden', 'status': '', 'position_type': 'P', 'eligible_positions': ['PG', 'SG', 'G', 'Util'], 'selected_position': 'SG'}, {'player_id': 5842, 'name': 'Derrick White', 'status': 'INJ', 'position_type': 'P', 'eligible_positions': ['PG', 'SG', 'G', 'Util'], 'selected_position': 'G'}, {'player_id': 5009, 'name': 'Bradley Beal', 'status': '', 'position_type': 'P', 'eligible_positions': ['SG', 'G', 'SF', 'F', 'Util'], 'selected_position': 'SF'}, {'player_id': 5069, 'name': 'Draymond Green', 'status': '', 'position_type': 'P', 'eligible_positions': ['PF', 'F', 'C', 'Util'], 'selected_position': 'PF'}, {'player_id': 5464, 'name': 'Kristaps Porzingis', 'status': '', 'position_type': 'P', 'eligible_positions': ['PF', 'F', 'C', 'Util'], 'selected_position': 'F'}, {'player_id': 5640, 'name': 'Jakob Poeltl', 'status': '', 'position_type': 'P', 'eligible_positions': ['C', 'Util'], 'selected_position': 'C'}, {'player_id': 5958, 'name': 'Deandre Ayton', 'status': '', 'position_type': 'P', 'eligible_positions': ['C', 'Util'], 'selected_position': 'C'}, {'player_id': 5880, 'name': 'Daniel Theis', 'status': '', 'position_type': 'P', 'eligible_positions': ['C', 'Util'], 'selected_position': 'Util'}, {'player_id': 4325, 'name': 'Marc Gasol', 'status': '', 'position_type': 'P', 'eligible_positions': ['C', 'Util'], 'selected_position': 'Util'}, {'player_id': 4152, 'name': 'Kyle Lowry', 'status': 'GTD', 'position_type': 'P', 'eligible_positions': ['PG', 'G', 'Util'], 'selected_position': 'BN'}, {'player_id': 5054, 'name': 'Evan Fournier', 'status': '', 'position_type': 'P', 'eligible_positions': ['SG', 'G', 'SF', 'F', 'Util'], 'selected_position': 'BN'}, {'player_id': 5157, 'name': 'Nerlens Noel', 'status': '', 'position_type': 'P', 'eligible_positions': ['PF', 'F', 'C', 'Util'], 'selected_position': 'BN'}, {'player_id': 5583, 'name': 'Christian Wood', 'status': 'O', 'position_type': 'P', 'eligible_positions': ['PF', 'F', 'C', 'Util'], 'selected_position': 'BN'}, {'player_id': 6028, 'name': 'Donte DiVincenzo', 'status': '', 'position_type': 'P', 'eligible_positions': ['PG', 'SG', 'G', 'Util'], 'selected_position': 'BN'}]\n"
     ]
    }
   ],
   "source": [
    "tms = lg.teams()\n",
    "\n",
    "for team_id in tms:\n",
    "    tm = lg.to_team(team_id)\n",
    "    print(tm.roster())"
   ],
   "metadata": {
    "collapsed": false,
    "pycharm": {
     "name": "#%%\n"
    }
   }
  },
  {
   "cell_type": "code",
   "execution_count": 135,
   "outputs": [
    {
     "data": {
      "text/plain": "['Ben Simmons',\n 'Justin Holiday',\n 'DeMar DeRozan',\n 'Keldon Johnson',\n 'Willie Cauley-Stein',\n 'Jerami Grant',\n 'Robert Williams',\n 'Mitchell Robinson',\n 'Andre Drummond',\n 'DeMarcus Cousins',\n 'Giannis Antetokounmpo',\n 'Ricky Rubio',\n 'Rui Hachimura',\n 'Hamidou Diallo',\n 'Caris LeVert']"
     },
     "execution_count": 135,
     "metadata": {},
     "output_type": "execute_result"
    }
   ],
   "source": [
    "tm = lg.to_team('402.l.55374.t.5')\n",
    "team_roster = tm.roster()\n",
    "player_in_team_list = [player[\"name\"] for player in team_roster]\n",
    "player_in_team_list"
   ],
   "metadata": {
    "collapsed": false,
    "pycharm": {
     "name": "#%%\n"
    }
   }
  },
  {
   "cell_type": "code",
   "execution_count": 140,
   "outputs": [
    {
     "ename": "IndexError",
     "evalue": "list index out of range",
     "output_type": "error",
     "traceback": [
      "\u001B[1;31m---------------------------------------------------------------------------\u001B[0m",
      "\u001B[1;31mIndexError\u001B[0m                                Traceback (most recent call last)",
      "\u001B[1;32m<ipython-input-140-1b40f7375cf6>\u001B[0m in \u001B[0;36m<module>\u001B[1;34m\u001B[0m\n\u001B[0;32m      1\u001B[0m \u001B[1;32mfrom\u001B[0m \u001B[0msrc\u001B[0m\u001B[1;33m.\u001B[0m\u001B[0mdata\u001B[0m \u001B[1;32mimport\u001B[0m \u001B[0mplayer_9cat_average\u001B[0m \u001B[1;32mas\u001B[0m \u001B[0mp9ca\u001B[0m\u001B[1;33m\u001B[0m\u001B[1;33m\u001B[0m\u001B[0m\n\u001B[0;32m      2\u001B[0m \u001B[1;33m\u001B[0m\u001B[0m\n\u001B[1;32m----> 3\u001B[1;33m \u001B[0mp9ca\u001B[0m\u001B[1;33m.\u001B[0m\u001B[0mget_player_9cat_season_average\u001B[0m\u001B[1;33m(\u001B[0m\u001B[1;34m\"Robert Williams\"\u001B[0m\u001B[1;33m)\u001B[0m\u001B[1;33m\u001B[0m\u001B[1;33m\u001B[0m\u001B[0m\n\u001B[0m\u001B[0;32m      4\u001B[0m \u001B[1;33m\u001B[0m\u001B[0m\n",
      "\u001B[1;32m~\\Documents\\Python Projects\\waiver_wire_machine\\src\\data\\player_9cat_average.py\u001B[0m in \u001B[0;36mget_player_9cat_season_average\u001B[1;34m(player_name)\u001B[0m\n\u001B[0;32m     90\u001B[0m \u001B[1;33m\u001B[0m\u001B[0m\n\u001B[0;32m     91\u001B[0m     \u001B[0mactive_player_dict\u001B[0m \u001B[1;33m=\u001B[0m \u001B[0mnba_active_players\u001B[0m\u001B[1;33m(\u001B[0m\u001B[1;33m)\u001B[0m\u001B[1;33m\u001B[0m\u001B[1;33m\u001B[0m\u001B[0m\n\u001B[1;32m---> 92\u001B[1;33m     \u001B[0mplayer_9cat_season_average\u001B[0m \u001B[1;33m=\u001B[0m \u001B[0mplayer_average_9cat_stats\u001B[0m\u001B[1;33m(\u001B[0m\u001B[0mplayer_name\u001B[0m\u001B[1;33m,\u001B[0m \u001B[0mactive_player_dict\u001B[0m\u001B[1;33m)\u001B[0m\u001B[1;33m\u001B[0m\u001B[1;33m\u001B[0m\u001B[0m\n\u001B[0m\u001B[0;32m     93\u001B[0m \u001B[1;33m\u001B[0m\u001B[0m\n\u001B[0;32m     94\u001B[0m     \u001B[1;32mreturn\u001B[0m \u001B[0mplayer_9cat_season_average\u001B[0m\u001B[1;33m\u001B[0m\u001B[1;33m\u001B[0m\u001B[0m\n",
      "\u001B[1;32m~\\Documents\\Python Projects\\waiver_wire_machine\\src\\data\\player_9cat_average.py\u001B[0m in \u001B[0;36mplayer_average_9cat_stats\u001B[1;34m(player_name, player_data_dict)\u001B[0m\n\u001B[0;32m     53\u001B[0m     player_name_dict = [player for player in player_data_dict if player[FULL_NAME_KEY] ==\n\u001B[0;32m     54\u001B[0m                         player_name]\n\u001B[1;32m---> 55\u001B[1;33m     \u001B[0mplayer_id\u001B[0m \u001B[1;33m=\u001B[0m \u001B[0mplayer_name_dict\u001B[0m\u001B[1;33m[\u001B[0m\u001B[1;36m0\u001B[0m\u001B[1;33m]\u001B[0m\u001B[1;33m[\u001B[0m\u001B[0mID_KEY\u001B[0m\u001B[1;33m]\u001B[0m\u001B[1;33m\u001B[0m\u001B[1;33m\u001B[0m\u001B[0m\n\u001B[0m\u001B[0;32m     56\u001B[0m \u001B[1;33m\u001B[0m\u001B[0m\n\u001B[0;32m     57\u001B[0m     \u001B[1;31m# Player game log\u001B[0m\u001B[1;33m\u001B[0m\u001B[1;33m\u001B[0m\u001B[1;33m\u001B[0m\u001B[0m\n",
      "\u001B[1;31mIndexError\u001B[0m: list index out of range"
     ]
    }
   ],
   "source": [
    "from src.data import player_9cat_average as p9ca\n",
    "\n",
    "p9ca.get_player_9cat_season_average(\"Robert Williams\")"
   ],
   "metadata": {
    "collapsed": false,
    "pycharm": {
     "name": "#%%\n"
    }
   }
  },
  {
   "cell_type": "code",
   "execution_count": 111,
   "outputs": [],
   "source": [
    "import pandas as pd\n",
    "test = pd.DataFrame()\n",
    "for player in player_in_team_list:\n",
    "    test = test.append(p9ca.get_player_9cat_season_average(player))"
   ],
   "metadata": {
    "collapsed": false,
    "pycharm": {
     "name": "#%%\n"
    }
   }
  },
  {
   "cell_type": "code",
   "execution_count": 112,
   "outputs": [],
   "source": [
    "test.reset_index(inplace=True, drop=True)"
   ],
   "metadata": {
    "collapsed": false,
    "pycharm": {
     "name": "#%%\n"
    }
   }
  },
  {
   "cell_type": "code",
   "execution_count": 112,
   "outputs": [],
   "source": [],
   "metadata": {
    "collapsed": false,
    "pycharm": {
     "name": "#%%\n"
    }
   }
  },
  {
   "cell_type": "code",
   "execution_count": 113,
   "outputs": [
    {
     "name": "stdout",
     "output_type": "stream",
     "text": [
      "<class 'pandas.core.frame.DataFrame'>\n",
      "RangeIndex: 15 entries, 0 to 14\n",
      "Data columns (total 11 columns):\n",
      " #   Column  Non-Null Count  Dtype \n",
      "---  ------  --------------  ----- \n",
      " 0   PLAYER  15 non-null     object\n",
      " 1   FG_PCT  15 non-null     object\n",
      " 2   FT_PCT  15 non-null     object\n",
      " 3   FG3M    15 non-null     object\n",
      " 4   PTS     15 non-null     object\n",
      " 5   REB     15 non-null     object\n",
      " 6   AST     15 non-null     object\n",
      " 7   STL     15 non-null     object\n",
      " 8   BLK     15 non-null     object\n",
      " 9   TOV     15 non-null     object\n",
      " 10  GAMES   15 non-null     int64 \n",
      "dtypes: int64(1), object(10)\n",
      "memory usage: 1.4+ KB\n"
     ]
    }
   ],
   "source": [
    "test.info()"
   ],
   "metadata": {
    "collapsed": false,
    "pycharm": {
     "name": "#%%\n"
    }
   }
  },
  {
   "cell_type": "code",
   "execution_count": 114,
   "outputs": [],
   "source": [
    "test.columns[1:]\n",
    "\n",
    "for column in test.columns[1:]:\n",
    "    test[column] = test[column].astype(float)"
   ],
   "metadata": {
    "collapsed": false,
    "pycharm": {
     "name": "#%%\n"
    }
   }
  },
  {
   "cell_type": "code",
   "execution_count": 115,
   "outputs": [],
   "source": [
    "test.loc[\"mean\"] = test.mean()"
   ],
   "metadata": {
    "collapsed": false,
    "pycharm": {
     "name": "#%%\n"
    }
   }
  },
  {
   "cell_type": "code",
   "execution_count": 116,
   "outputs": [
    {
     "data": {
      "text/plain": "                  PLAYER  FG_PCT  FT_PCT      FG3M        PTS    REB    AST  \\\n0            Patty Mills  0.4630  0.4830  2.900000  14.100000   1.60   3.10   \n1           Marcus Smart  0.3440  0.5700  1.800000  13.200000   2.80   5.50   \n2        Malcolm Brogdon  0.4670  0.8090  3.000000  22.500000   3.90   7.30   \n3            Will Barton  0.4080  0.2860  1.600000  11.400000   4.20   3.10   \n4           Nikola Jokic  0.5910  0.8270  1.200000  25.100000  11.40  10.00   \n5        Duncan Robinson  0.4570  0.6000  3.800000  14.800000   3.80   1.60   \n6          Pascal Siakam  0.4420  0.7740  1.200000  18.800000   7.70   4.70   \n7     Wendell Carter Jr.  0.5260  0.7070  0.300000  12.800000   8.00   2.40   \n8            Jeremy Lamb  0.5000  1.0000  1.000000  10.000000   2.00   0.00   \n9        Cameron Johnson  0.4780  0.3080  2.500000  11.800000   3.20   1.70   \n10       Khris Middleton  0.5290  0.7610  2.600000  21.900000   6.20   5.70   \n11           Enes Kanter  0.6030  0.5210  0.000000  10.100000   9.30   1.00   \n12          Jimmy Butler  0.3810  0.7590  0.000000  15.800000   5.50   5.30   \n13          Eric Bledsoe  0.4360  0.4680  1.800000  11.600000   3.50   3.60   \n14         Davis Bertans  0.3590  0.6910  2.800000  11.800000   3.10   1.40   \nmean                 NaN  0.4656  0.6376  1.766667  15.046667   5.08   3.76   \n\n           STL   BLK       TOV      GAMES  \n0     0.300000  0.10  0.800000  15.000000  \n1     1.500000  0.50  1.600000  12.000000  \n2     1.700000  0.10  1.700000  14.000000  \n3     1.100000  0.60  1.100000  14.000000  \n4     1.900000  0.60  4.000000  14.000000  \n5     0.500000  0.40  1.500000  13.000000  \n6     0.800000  0.60  2.500000  13.000000  \n7     0.600000  0.60  1.900000  14.000000  \n8     2.000000  0.00  1.000000   1.000000  \n9     0.700000  0.50  0.800000  13.000000  \n10    1.000000  0.20  2.300000  15.000000  \n11    0.600000  0.80  0.900000  14.000000  \n12    2.200000  0.70  1.800000   6.000000  \n13    1.000000  0.30  2.000000  13.000000  \n14    0.500000  0.30  0.500000  11.000000  \nmean  1.093333  0.42  1.626667  12.133333  ",
      "text/html": "<div>\n<style scoped>\n    .dataframe tbody tr th:only-of-type {\n        vertical-align: middle;\n    }\n\n    .dataframe tbody tr th {\n        vertical-align: top;\n    }\n\n    .dataframe thead th {\n        text-align: right;\n    }\n</style>\n<table border=\"1\" class=\"dataframe\">\n  <thead>\n    <tr style=\"text-align: right;\">\n      <th></th>\n      <th>PLAYER</th>\n      <th>FG_PCT</th>\n      <th>FT_PCT</th>\n      <th>FG3M</th>\n      <th>PTS</th>\n      <th>REB</th>\n      <th>AST</th>\n      <th>STL</th>\n      <th>BLK</th>\n      <th>TOV</th>\n      <th>GAMES</th>\n    </tr>\n  </thead>\n  <tbody>\n    <tr>\n      <th>0</th>\n      <td>Patty Mills</td>\n      <td>0.4630</td>\n      <td>0.4830</td>\n      <td>2.900000</td>\n      <td>14.100000</td>\n      <td>1.60</td>\n      <td>3.10</td>\n      <td>0.300000</td>\n      <td>0.10</td>\n      <td>0.800000</td>\n      <td>15.000000</td>\n    </tr>\n    <tr>\n      <th>1</th>\n      <td>Marcus Smart</td>\n      <td>0.3440</td>\n      <td>0.5700</td>\n      <td>1.800000</td>\n      <td>13.200000</td>\n      <td>2.80</td>\n      <td>5.50</td>\n      <td>1.500000</td>\n      <td>0.50</td>\n      <td>1.600000</td>\n      <td>12.000000</td>\n    </tr>\n    <tr>\n      <th>2</th>\n      <td>Malcolm Brogdon</td>\n      <td>0.4670</td>\n      <td>0.8090</td>\n      <td>3.000000</td>\n      <td>22.500000</td>\n      <td>3.90</td>\n      <td>7.30</td>\n      <td>1.700000</td>\n      <td>0.10</td>\n      <td>1.700000</td>\n      <td>14.000000</td>\n    </tr>\n    <tr>\n      <th>3</th>\n      <td>Will Barton</td>\n      <td>0.4080</td>\n      <td>0.2860</td>\n      <td>1.600000</td>\n      <td>11.400000</td>\n      <td>4.20</td>\n      <td>3.10</td>\n      <td>1.100000</td>\n      <td>0.60</td>\n      <td>1.100000</td>\n      <td>14.000000</td>\n    </tr>\n    <tr>\n      <th>4</th>\n      <td>Nikola Jokic</td>\n      <td>0.5910</td>\n      <td>0.8270</td>\n      <td>1.200000</td>\n      <td>25.100000</td>\n      <td>11.40</td>\n      <td>10.00</td>\n      <td>1.900000</td>\n      <td>0.60</td>\n      <td>4.000000</td>\n      <td>14.000000</td>\n    </tr>\n    <tr>\n      <th>5</th>\n      <td>Duncan Robinson</td>\n      <td>0.4570</td>\n      <td>0.6000</td>\n      <td>3.800000</td>\n      <td>14.800000</td>\n      <td>3.80</td>\n      <td>1.60</td>\n      <td>0.500000</td>\n      <td>0.40</td>\n      <td>1.500000</td>\n      <td>13.000000</td>\n    </tr>\n    <tr>\n      <th>6</th>\n      <td>Pascal Siakam</td>\n      <td>0.4420</td>\n      <td>0.7740</td>\n      <td>1.200000</td>\n      <td>18.800000</td>\n      <td>7.70</td>\n      <td>4.70</td>\n      <td>0.800000</td>\n      <td>0.60</td>\n      <td>2.500000</td>\n      <td>13.000000</td>\n    </tr>\n    <tr>\n      <th>7</th>\n      <td>Wendell Carter Jr.</td>\n      <td>0.5260</td>\n      <td>0.7070</td>\n      <td>0.300000</td>\n      <td>12.800000</td>\n      <td>8.00</td>\n      <td>2.40</td>\n      <td>0.600000</td>\n      <td>0.60</td>\n      <td>1.900000</td>\n      <td>14.000000</td>\n    </tr>\n    <tr>\n      <th>8</th>\n      <td>Jeremy Lamb</td>\n      <td>0.5000</td>\n      <td>1.0000</td>\n      <td>1.000000</td>\n      <td>10.000000</td>\n      <td>2.00</td>\n      <td>0.00</td>\n      <td>2.000000</td>\n      <td>0.00</td>\n      <td>1.000000</td>\n      <td>1.000000</td>\n    </tr>\n    <tr>\n      <th>9</th>\n      <td>Cameron Johnson</td>\n      <td>0.4780</td>\n      <td>0.3080</td>\n      <td>2.500000</td>\n      <td>11.800000</td>\n      <td>3.20</td>\n      <td>1.70</td>\n      <td>0.700000</td>\n      <td>0.50</td>\n      <td>0.800000</td>\n      <td>13.000000</td>\n    </tr>\n    <tr>\n      <th>10</th>\n      <td>Khris Middleton</td>\n      <td>0.5290</td>\n      <td>0.7610</td>\n      <td>2.600000</td>\n      <td>21.900000</td>\n      <td>6.20</td>\n      <td>5.70</td>\n      <td>1.000000</td>\n      <td>0.20</td>\n      <td>2.300000</td>\n      <td>15.000000</td>\n    </tr>\n    <tr>\n      <th>11</th>\n      <td>Enes Kanter</td>\n      <td>0.6030</td>\n      <td>0.5210</td>\n      <td>0.000000</td>\n      <td>10.100000</td>\n      <td>9.30</td>\n      <td>1.00</td>\n      <td>0.600000</td>\n      <td>0.80</td>\n      <td>0.900000</td>\n      <td>14.000000</td>\n    </tr>\n    <tr>\n      <th>12</th>\n      <td>Jimmy Butler</td>\n      <td>0.3810</td>\n      <td>0.7590</td>\n      <td>0.000000</td>\n      <td>15.800000</td>\n      <td>5.50</td>\n      <td>5.30</td>\n      <td>2.200000</td>\n      <td>0.70</td>\n      <td>1.800000</td>\n      <td>6.000000</td>\n    </tr>\n    <tr>\n      <th>13</th>\n      <td>Eric Bledsoe</td>\n      <td>0.4360</td>\n      <td>0.4680</td>\n      <td>1.800000</td>\n      <td>11.600000</td>\n      <td>3.50</td>\n      <td>3.60</td>\n      <td>1.000000</td>\n      <td>0.30</td>\n      <td>2.000000</td>\n      <td>13.000000</td>\n    </tr>\n    <tr>\n      <th>14</th>\n      <td>Davis Bertans</td>\n      <td>0.3590</td>\n      <td>0.6910</td>\n      <td>2.800000</td>\n      <td>11.800000</td>\n      <td>3.10</td>\n      <td>1.40</td>\n      <td>0.500000</td>\n      <td>0.30</td>\n      <td>0.500000</td>\n      <td>11.000000</td>\n    </tr>\n    <tr>\n      <th>mean</th>\n      <td>NaN</td>\n      <td>0.4656</td>\n      <td>0.6376</td>\n      <td>1.766667</td>\n      <td>15.046667</td>\n      <td>5.08</td>\n      <td>3.76</td>\n      <td>1.093333</td>\n      <td>0.42</td>\n      <td>1.626667</td>\n      <td>12.133333</td>\n    </tr>\n  </tbody>\n</table>\n</div>"
     },
     "execution_count": 116,
     "metadata": {},
     "output_type": "execute_result"
    }
   ],
   "source": [
    "test\n"
   ],
   "metadata": {
    "collapsed": false,
    "pycharm": {
     "name": "#%%\n"
    }
   }
  },
  {
   "cell_type": "code",
   "execution_count": 99,
   "outputs": [
    {
     "data": {
      "text/plain": "<yahoo_fantasy_api.team.Team at 0x1ce3124a9a0>"
     },
     "execution_count": 99,
     "metadata": {},
     "output_type": "execute_result"
    }
   ],
   "source": [],
   "metadata": {
    "collapsed": false,
    "pycharm": {
     "name": "#%%\n"
    }
   }
  },
  {
   "cell_type": "code",
   "execution_count": 127,
   "outputs": [
    {
     "data": {
      "text/plain": "{'team_key': '402.l.55374.t.12',\n 'team_id': '12',\n 'name': 'El Ladrón de Cabras',\n 'url': 'https://basketball.fantasysports.yahoo.com/nba/55374/12',\n 'team_logos': [{'team_logo': {'size': 'large',\n    'url': 'https://yahoofantasysports-res.cloudinary.com/image/upload/t_s192sq/fantasy-logos/007f22590f40253091e62423f37483223bbc95b2f92b061318f86a455de84ef0.jpg'}}],\n 'waiver_priority': 12,\n 'number_of_moves': '2',\n 'number_of_trades': 0,\n 'roster_adds': {'coverage_type': 'week', 'coverage_value': 5, 'value': '0'},\n 'league_scoring_type': 'headone',\n 'draft_position': 3,\n 'has_draft_grade': 0,\n 'managers': [{'manager': {'manager_id': '12',\n    'nickname': 'Blake',\n    'guid': 'P6ND4NTO4LWPTQEYUA5SYLPW3U',\n    'email': 'blakewhitelacourse@yahoo.ca',\n    'image_url': 'https://s.yimg.com/ag/images/default_user_profile_pic_64sq.jpg'}}]}"
     },
     "execution_count": 127,
     "metadata": {},
     "output_type": "execute_result"
    }
   ],
   "source": [
    "lg.teams()[\"402.l.55374.t.12\"]"
   ],
   "metadata": {
    "collapsed": false,
    "pycharm": {
     "name": "#%%\n"
    }
   }
  },
  {
   "cell_type": "code",
   "execution_count": 57,
   "outputs": [],
   "source": [
    "import time\n",
    "import random\n",
    "import pandas as pd\n",
    "from yahoo_oauth import OAuth2\n",
    "import yahoo_fantasy_api as yfa\n",
    "from src.data import player_9cat_average as p9ca\n",
    "\n",
    "NBA = \"nba\"\n",
    "SEASON = 2020\n",
    "JSON_FOLDER = \"../references/oauth2.json\"\n",
    "# Team dictionaries\n",
    "LALALAND = {'team_key': '402.l.55374.t.1', 'name': 'LaLaLand'}\n",
    "AUTOPICK = {'team_key': '402.l.55374.t.2', 'name': 'Autopick'}\n",
    "CRABBEHERBYTHEPUSSY = {'team_key': '402.l.55374.t.3', 'name': 'CrabbeHerByThePussy'}\n",
    "MAGICS_JOHNSON = {'team_key': '402.l.55374.t.4', 'name': \"Magic's Johnson\"}\n",
    "MCCURRY = {'team_key': '402.l.55374.t.5', 'name': 'McCurry'}\n",
    "NUNN_OF_YALL_BETTA = {'team_key': '402.l.55374.t.6', 'name': \"Nunn of Y'all Betta\"}\n",
    "RUSTY_CUNTBROOKS = {'team_key': '402.l.55374.t.7', 'name': 'Russty Cuntbrooks'}\n",
    "WAKANDA_FOREVER = {'team_key': '402.l.55374.t.8', 'name': 'Wakanda Forever'}\n",
    "SWAGGY_P = {'team_key': '402.l.55374.t.9', 'name': 'Swaggy P'}\n",
    "YOBITCH_TOPPIN_ME = {'team_key': '402.l.55374.t.10', 'name': 'yOBItch Toppin Me'}\n",
    "TVONS_TIP_TOP_TEAM = {'team_key': '402.l.55374.t.11', 'name': \"Tvon's Tip-Top Team\"}\n",
    "EL_LADRON_DE_CABRAS = {'team_key': '402.l.55374.t.12', 'name': 'El Ladrón de Cabras'}\n",
    "league_team_list = [LALALAND, AUTOPICK, CRABBEHERBYTHEPUSSY, MAGICS_JOHNSON, MCCURRY,\n",
    "                    NUNN_OF_YALL_BETTA, RUSTY_CUNTBROOKS, WAKANDA_FOREVER, SWAGGY_P,\n",
    "                    YOBITCH_TOPPIN_ME, TVONS_TIP_TOP_TEAM, EL_LADRON_DE_CABRAS]\n",
    "\n",
    "NAME_KEY = \"name\"\n",
    "GAMES_COLUMN = \"GAMES\"\n",
    "MEAN_ROW = \"mean\"\n",
    "TEAM_KEY = \"team_key\"\n",
    "PLAYER_COLUMN = \"PLAYER\"\n",
    "TEAM_COLUMN = \"TEAM\"\n",
    "\n",
    "def yahoo_fantasy_api_authentication():\n",
    "\n",
    "    sc = OAuth2(None, None, from_file=JSON_FOLDER)\n",
    "\n",
    "    return sc\n",
    "\n",
    "def yahoo_fantasy_league(sc):\n",
    "\n",
    "    gm = yfa.Game(sc, NBA)\n",
    "    league_id_list = gm.league_ids(year=SEASON)\n",
    "    league_id = \"\".join(str(id) for id in league_id_list)\n",
    "    league = gm.to_league(league_id)\n",
    "\n",
    "    return league\n",
    "\n",
    "\n",
    "def create_roster_dataframe(player_list):\n",
    "\n",
    "    active_players = p9ca.nba_active_players()\n",
    "    roster_dataframe = pd.DataFrame()\n",
    "    for player in player_list:\n",
    "        try:\n",
    "            roster_dataframe = roster_dataframe.append(p9ca.player_average_9cat_stats(player,\n",
    "                                                                                      active_players))\n",
    "        except:\n",
    "            print(f\"Could not fetch stats for player {player}\")\n",
    "    roster_dataframe.reset_index(inplace=True, drop=True)\n",
    "\n",
    "    return roster_dataframe\n",
    "\n",
    "def format_roster_dataframe(roster_dataframe):\n",
    "\n",
    "    for column in roster_dataframe.columns[1:]:\n",
    "        roster_dataframe[column] = roster_dataframe[column].astype(float)\n",
    "\n",
    "    roster_dataframe.loc[MEAN_ROW] = roster_dataframe.mean()\n",
    "    roster_dataframe = p9ca.format_dataframe_decimals(roster_dataframe)\n",
    "    roster_dataframe.drop(GAMES_COLUMN, axis=1, inplace=True)\n",
    "\n",
    "    return roster_dataframe\n",
    "\n",
    "def team_9cat_average_stats(team_dictionary, league):\n",
    "\n",
    "    team = league.to_team(team_dictionary[TEAM_KEY])\n",
    "    team_roster = team.roster()\n",
    "    player_in_team_list = [player[NAME_KEY] for player in team_roster]\n",
    "\n",
    "    roster_dataframe = create_roster_dataframe(player_in_team_list)\n",
    "\n",
    "    roster_dataframe = format_roster_dataframe(roster_dataframe)\n",
    "\n",
    "    return roster_dataframe\n",
    "\n",
    "\n",
    "def fantasy_team_mean_stats(roster_dataframe, team_dictionary):\n",
    "\n",
    "    mean_series = roster_dataframe.loc[MEAN_ROW]\n",
    "    mean_series[PLAYER_COLUMN] = team_dictionary[NAME_KEY]\n",
    "    team_mean_dataframe = pd.DataFrame(mean_series).T\n",
    "    team_mean_dataframe = team_mean_dataframe.rename(columns={PLAYER_COLUMN : TEAM_COLUMN})\n",
    "    team_mean_dataframe.reset_index(inplace=True, drop=True)\n",
    "\n",
    "    return team_mean_dataframe\n",
    "\n",
    "\n",
    "def player_to_team_mean_stats(team_dictionary, league):\n",
    "    \"\"\"\n",
    "    This function creates a dataframe containing the season averaged stats for each player on a\n",
    "    Fantasy Team. It then finds the average stats for the entire team and returns a single row\n",
    "    dataframe with the Fantasy Team name and its seasoned averaged 9cat stats.\n",
    "    \"\"\"\n",
    "\n",
    "    roster_dataframe = team_9cat_average_stats(team_dictionary, league)\n",
    "    team_mean_dataframe = fantasy_team_mean_stats(roster_dataframe, team_dictionary)\n",
    "\n",
    "    return team_mean_dataframe\n",
    "\n",
    "\n",
    "def league_averages(league_team_list):\n",
    "\n",
    "    league_averages_dataframe = pd.DataFrame()\n",
    "    for team in league_team_list:\n",
    "        yahoo_fantasy_api_authentication()\n",
    "        league_averages_dataframe = league_averages_dataframe.append(player_to_team_mean_stats\n",
    "                                                                     (team, league))\n",
    "    league_averages_dataframe.reset_index(drop=True, inplace=True)\n",
    "    return league_averages_dataframe"
   ],
   "metadata": {
    "collapsed": false,
    "pycharm": {
     "name": "#%%\n"
    }
   }
  },
  {
   "cell_type": "code",
   "execution_count": 32,
   "outputs": [
    {
     "name": "stderr",
     "output_type": "stream",
     "text": [
      "[2021-01-23 10:16:05,522 DEBUG] [yahoo_oauth.oauth.__init__] Checking \n",
      "[2021-01-23 10:16:05,524 DEBUG] [yahoo_oauth.oauth.token_is_valid] ELAPSED TIME : 2844.6850221157074\n",
      "[2021-01-23 10:16:05,526 DEBUG] [yahoo_oauth.oauth.token_is_valid] TOKEN IS STILL VALID\n"
     ]
    },
    {
     "name": "stdout",
     "output_type": "stream",
     "text": [
      "Could not fetch stats for player Deni Avdija\n"
     ]
    },
    {
     "data": {
      "text/plain": "                  PLAYER FG_PCT FT_PCT FG3M   PTS   REB  AST  STL  BLK  TOV\n0             Chris Paul  0.440  0.700  0.9  13.3   4.4  8.7  0.9  0.3  2.3\n1          Norman Powell  0.386  0.470  2.0  12.5   2.1  0.7  1.0  0.2  1.3\n2        Otto Porter Jr.  0.481  0.545  1.8  12.5   6.8  1.9  0.7  0.1  1.1\n3           John Collins  0.520  0.554  1.0  15.9   7.5  1.5  0.6  1.0  1.3\n4          Tobias Harris  0.526  0.731  2.1  19.6   6.8  3.1  1.1  0.9  2.2\n5            Bam Adebayo  0.607  0.858  0.0  18.6   9.2  5.2  0.8  1.0  3.5\n6     Karl-Anthony Towns  0.479  0.958  1.5  22.0  12.5  4.2  0.5  2.8  2.5\n7        Larry Nance Jr.  0.505  0.378  1.6  11.1   6.5  3.7  2.4  0.5  1.7\n8          Nicolas Batum  0.498  0.479  2.1  10.2   4.9  2.5  1.3  0.4  0.7\n9           Myles Turner  0.479  0.587  1.4  13.2   7.0  1.1  1.4  4.1  1.4\n10      Danilo Gallinari  0.681  0.667  1.0   9.3   3.0  1.0  0.0  0.0  1.0\n11         Darius Bazley  0.373  0.476  1.4  10.4   6.9  1.4  0.5  1.0  1.7\n12       Devonte' Graham  0.315  0.462  2.7  13.3   3.3  6.4  1.5  0.0  1.2\n13        Richaun Holmes  0.661  0.550  0.1  13.3   7.9  1.9  0.9  1.7  1.1\nmean                 NaN  0.497  0.601  1.4  13.9   6.3  3.1  1.0  1.0  1.6",
      "text/html": "<div>\n<style scoped>\n    .dataframe tbody tr th:only-of-type {\n        vertical-align: middle;\n    }\n\n    .dataframe tbody tr th {\n        vertical-align: top;\n    }\n\n    .dataframe thead th {\n        text-align: right;\n    }\n</style>\n<table border=\"1\" class=\"dataframe\">\n  <thead>\n    <tr style=\"text-align: right;\">\n      <th></th>\n      <th>PLAYER</th>\n      <th>FG_PCT</th>\n      <th>FT_PCT</th>\n      <th>FG3M</th>\n      <th>PTS</th>\n      <th>REB</th>\n      <th>AST</th>\n      <th>STL</th>\n      <th>BLK</th>\n      <th>TOV</th>\n    </tr>\n  </thead>\n  <tbody>\n    <tr>\n      <th>0</th>\n      <td>Chris Paul</td>\n      <td>0.440</td>\n      <td>0.700</td>\n      <td>0.9</td>\n      <td>13.3</td>\n      <td>4.4</td>\n      <td>8.7</td>\n      <td>0.9</td>\n      <td>0.3</td>\n      <td>2.3</td>\n    </tr>\n    <tr>\n      <th>1</th>\n      <td>Norman Powell</td>\n      <td>0.386</td>\n      <td>0.470</td>\n      <td>2.0</td>\n      <td>12.5</td>\n      <td>2.1</td>\n      <td>0.7</td>\n      <td>1.0</td>\n      <td>0.2</td>\n      <td>1.3</td>\n    </tr>\n    <tr>\n      <th>2</th>\n      <td>Otto Porter Jr.</td>\n      <td>0.481</td>\n      <td>0.545</td>\n      <td>1.8</td>\n      <td>12.5</td>\n      <td>6.8</td>\n      <td>1.9</td>\n      <td>0.7</td>\n      <td>0.1</td>\n      <td>1.1</td>\n    </tr>\n    <tr>\n      <th>3</th>\n      <td>John Collins</td>\n      <td>0.520</td>\n      <td>0.554</td>\n      <td>1.0</td>\n      <td>15.9</td>\n      <td>7.5</td>\n      <td>1.5</td>\n      <td>0.6</td>\n      <td>1.0</td>\n      <td>1.3</td>\n    </tr>\n    <tr>\n      <th>4</th>\n      <td>Tobias Harris</td>\n      <td>0.526</td>\n      <td>0.731</td>\n      <td>2.1</td>\n      <td>19.6</td>\n      <td>6.8</td>\n      <td>3.1</td>\n      <td>1.1</td>\n      <td>0.9</td>\n      <td>2.2</td>\n    </tr>\n    <tr>\n      <th>5</th>\n      <td>Bam Adebayo</td>\n      <td>0.607</td>\n      <td>0.858</td>\n      <td>0.0</td>\n      <td>18.6</td>\n      <td>9.2</td>\n      <td>5.2</td>\n      <td>0.8</td>\n      <td>1.0</td>\n      <td>3.5</td>\n    </tr>\n    <tr>\n      <th>6</th>\n      <td>Karl-Anthony Towns</td>\n      <td>0.479</td>\n      <td>0.958</td>\n      <td>1.5</td>\n      <td>22.0</td>\n      <td>12.5</td>\n      <td>4.2</td>\n      <td>0.5</td>\n      <td>2.8</td>\n      <td>2.5</td>\n    </tr>\n    <tr>\n      <th>7</th>\n      <td>Larry Nance Jr.</td>\n      <td>0.505</td>\n      <td>0.378</td>\n      <td>1.6</td>\n      <td>11.1</td>\n      <td>6.5</td>\n      <td>3.7</td>\n      <td>2.4</td>\n      <td>0.5</td>\n      <td>1.7</td>\n    </tr>\n    <tr>\n      <th>8</th>\n      <td>Nicolas Batum</td>\n      <td>0.498</td>\n      <td>0.479</td>\n      <td>2.1</td>\n      <td>10.2</td>\n      <td>4.9</td>\n      <td>2.5</td>\n      <td>1.3</td>\n      <td>0.4</td>\n      <td>0.7</td>\n    </tr>\n    <tr>\n      <th>9</th>\n      <td>Myles Turner</td>\n      <td>0.479</td>\n      <td>0.587</td>\n      <td>1.4</td>\n      <td>13.2</td>\n      <td>7.0</td>\n      <td>1.1</td>\n      <td>1.4</td>\n      <td>4.1</td>\n      <td>1.4</td>\n    </tr>\n    <tr>\n      <th>10</th>\n      <td>Danilo Gallinari</td>\n      <td>0.681</td>\n      <td>0.667</td>\n      <td>1.0</td>\n      <td>9.3</td>\n      <td>3.0</td>\n      <td>1.0</td>\n      <td>0.0</td>\n      <td>0.0</td>\n      <td>1.0</td>\n    </tr>\n    <tr>\n      <th>11</th>\n      <td>Darius Bazley</td>\n      <td>0.373</td>\n      <td>0.476</td>\n      <td>1.4</td>\n      <td>10.4</td>\n      <td>6.9</td>\n      <td>1.4</td>\n      <td>0.5</td>\n      <td>1.0</td>\n      <td>1.7</td>\n    </tr>\n    <tr>\n      <th>12</th>\n      <td>Devonte' Graham</td>\n      <td>0.315</td>\n      <td>0.462</td>\n      <td>2.7</td>\n      <td>13.3</td>\n      <td>3.3</td>\n      <td>6.4</td>\n      <td>1.5</td>\n      <td>0.0</td>\n      <td>1.2</td>\n    </tr>\n    <tr>\n      <th>13</th>\n      <td>Richaun Holmes</td>\n      <td>0.661</td>\n      <td>0.550</td>\n      <td>0.1</td>\n      <td>13.3</td>\n      <td>7.9</td>\n      <td>1.9</td>\n      <td>0.9</td>\n      <td>1.7</td>\n      <td>1.1</td>\n    </tr>\n    <tr>\n      <th>mean</th>\n      <td>NaN</td>\n      <td>0.497</td>\n      <td>0.601</td>\n      <td>1.4</td>\n      <td>13.9</td>\n      <td>6.3</td>\n      <td>3.1</td>\n      <td>1.0</td>\n      <td>1.0</td>\n      <td>1.6</td>\n    </tr>\n  </tbody>\n</table>\n</div>"
     },
     "execution_count": 32,
     "metadata": {},
     "output_type": "execute_result"
    }
   ],
   "source": [
    "# Single team average\n",
    "sc = yahoo_fantasy_api_authentication()\n",
    "league = yahoo_fantasy_league(sc)\n",
    "team_9cat_average_stats(CRABBEHERBYTHEPUSSY, league)\n"
   ],
   "metadata": {
    "collapsed": false,
    "pycharm": {
     "name": "#%%\n"
    }
   }
  },
  {
   "cell_type": "code",
   "execution_count": 2,
   "outputs": [
    {
     "name": "stderr",
     "output_type": "stream",
     "text": [
      "[2021-01-23 11:41:19,397 DEBUG] [yahoo_oauth.oauth.__init__] Checking \n",
      "[2021-01-23 11:41:19,402 DEBUG] [yahoo_oauth.oauth.token_is_valid] ELAPSED TIME : 3908.0990290641785\n",
      "[2021-01-23 11:41:19,403 DEBUG] [yahoo_oauth.oauth.token_is_valid] TOKEN HAS EXPIRED\n",
      "[2021-01-23 11:41:19,404 DEBUG] [yahoo_oauth.oauth.refresh_access_token] REFRESHING TOKEN\n",
      "[2021-01-23 11:41:20,371 DEBUG] [yahoo_oauth.oauth.__init__] Checking \n",
      "[2021-01-23 11:41:20,382 DEBUG] [yahoo_oauth.oauth.token_is_valid] ELAPSED TIME : 0.9768552780151367\n",
      "[2021-01-23 11:41:20,383 DEBUG] [yahoo_oauth.oauth.token_is_valid] TOKEN IS STILL VALID\n",
      "[2021-01-23 11:42:11,753 DEBUG] [yahoo_oauth.oauth.__init__] Checking \n",
      "[2021-01-23 11:42:11,757 DEBUG] [yahoo_oauth.oauth.token_is_valid] ELAPSED TIME : 52.352134466171265\n",
      "[2021-01-23 11:42:11,758 DEBUG] [yahoo_oauth.oauth.token_is_valid] TOKEN IS STILL VALID\n",
      "[2021-01-23 11:43:15,503 DEBUG] [yahoo_oauth.oauth.__init__] Checking \n",
      "[2021-01-23 11:43:15,507 DEBUG] [yahoo_oauth.oauth.token_is_valid] ELAPSED TIME : 116.10228109359741\n",
      "[2021-01-23 11:43:15,508 DEBUG] [yahoo_oauth.oauth.token_is_valid] TOKEN IS STILL VALID\n",
      "[2021-01-23 11:44:10,433 DEBUG] [yahoo_oauth.oauth.__init__] Checking \n",
      "[2021-01-23 11:44:10,437 DEBUG] [yahoo_oauth.oauth.token_is_valid] ELAPSED TIME : 171.0317187309265\n",
      "[2021-01-23 11:44:10,437 DEBUG] [yahoo_oauth.oauth.token_is_valid] TOKEN IS STILL VALID\n",
      "[2021-01-23 11:44:53,948 DEBUG] [yahoo_oauth.oauth.__init__] Checking \n",
      "[2021-01-23 11:44:53,952 DEBUG] [yahoo_oauth.oauth.token_is_valid] ELAPSED TIME : 214.5473210811615\n",
      "[2021-01-23 11:44:53,953 DEBUG] [yahoo_oauth.oauth.token_is_valid] TOKEN IS STILL VALID\n",
      "[2021-01-23 11:46:02,178 DEBUG] [yahoo_oauth.oauth.__init__] Checking \n",
      "[2021-01-23 11:46:02,181 DEBUG] [yahoo_oauth.oauth.token_is_valid] ELAPSED TIME : 282.77589988708496\n",
      "[2021-01-23 11:46:02,182 DEBUG] [yahoo_oauth.oauth.token_is_valid] TOKEN IS STILL VALID\n",
      "[2021-01-23 11:47:32,116 DEBUG] [yahoo_oauth.oauth.__init__] Checking \n",
      "[2021-01-23 11:47:32,119 DEBUG] [yahoo_oauth.oauth.token_is_valid] ELAPSED TIME : 372.71404790878296\n",
      "[2021-01-23 11:47:32,120 DEBUG] [yahoo_oauth.oauth.token_is_valid] TOKEN IS STILL VALID\n",
      "[2021-01-23 11:48:49,228 DEBUG] [yahoo_oauth.oauth.__init__] Checking \n",
      "[2021-01-23 11:48:49,231 DEBUG] [yahoo_oauth.oauth.token_is_valid] ELAPSED TIME : 449.8264811038971\n",
      "[2021-01-23 11:48:49,232 DEBUG] [yahoo_oauth.oauth.token_is_valid] TOKEN IS STILL VALID\n",
      "[2021-01-23 11:50:22,707 DEBUG] [yahoo_oauth.oauth.__init__] Checking \n",
      "[2021-01-23 11:50:22,710 DEBUG] [yahoo_oauth.oauth.token_is_valid] ELAPSED TIME : 543.3045585155487\n",
      "[2021-01-23 11:50:22,711 DEBUG] [yahoo_oauth.oauth.token_is_valid] TOKEN IS STILL VALID\n",
      "[2021-01-23 11:51:21,276 DEBUG] [yahoo_oauth.oauth.__init__] Checking \n",
      "[2021-01-23 11:51:21,280 DEBUG] [yahoo_oauth.oauth.token_is_valid] ELAPSED TIME : 601.8753423690796\n",
      "[2021-01-23 11:51:21,281 DEBUG] [yahoo_oauth.oauth.token_is_valid] TOKEN IS STILL VALID\n",
      "[2021-01-23 11:52:19,351 DEBUG] [yahoo_oauth.oauth.__init__] Checking \n",
      "[2021-01-23 11:52:19,355 DEBUG] [yahoo_oauth.oauth.token_is_valid] ELAPSED TIME : 659.949836730957\n",
      "[2021-01-23 11:52:19,355 DEBUG] [yahoo_oauth.oauth.token_is_valid] TOKEN IS STILL VALID\n",
      "[2021-01-23 11:53:12,979 DEBUG] [yahoo_oauth.oauth.__init__] Checking \n",
      "[2021-01-23 11:53:12,983 DEBUG] [yahoo_oauth.oauth.token_is_valid] ELAPSED TIME : 713.5780029296875\n",
      "[2021-01-23 11:53:12,984 DEBUG] [yahoo_oauth.oauth.token_is_valid] TOKEN IS STILL VALID\n"
     ]
    },
    {
     "name": "stdout",
     "output_type": "stream",
     "text": [
      "Wall time: 0 ns\n",
      "Could not fetch stats for player James Wiseman\n",
      "Could not fetch stats for player LaMelo Ball\n",
      "Could not fetch stats for player Deni Avdija\n",
      "Could not fetch stats for player Tyrese Haliburton\n",
      "Could not fetch stats for player PJ Washington\n",
      "Could not fetch stats for player Robert Williams\n",
      "Could not fetch stats for player Cole Anthony\n",
      "Could not fetch stats for player Obi Toppin\n",
      "Could not fetch stats for player Anthony Edwards\n",
      "Could not fetch stats for player Precious Achiuwa\n",
      "Could not fetch stats for player Isaac Okoro\n"
     ]
    }
   ],
   "source": [
    "%%time\n",
    "# League average\n",
    "sc = yahoo_fantasy_api_authentication()\n",
    "league = yahoo_fantasy_league(sc)\n",
    "league_averages_dataframe = league_averages(league_team_list)\n",
    "league_averages_dataframe"
   ],
   "metadata": {
    "collapsed": false,
    "pycharm": {
     "name": "#%%\n"
    }
   }
  },
  {
   "cell_type": "markdown",
   "source": [
    "## Yahoo Player Info\n",
    "This section will create a function which will retrieve an NBA players team and jersey number.\n",
    "These identifiers will then be used to find the player in the Stats NBA API. This is done because\n",
    " the current method of searching for a players stats on the Stats NBA API using the Yahoo Fantasy\n",
    "  name can lead to errors. For example, on Yahoo it is PJ Washington, on Stats NBA it is P.J.\n",
    "  Washington."
   ],
   "metadata": {
    "collapsed": false,
    "pycharm": {
     "name": "#%% md\n"
    }
   }
  },
  {
   "cell_type": "code",
   "execution_count": 58,
   "outputs": [
    {
     "name": "stderr",
     "output_type": "stream",
     "text": [
      "[2021-01-23 20:30:45,482 DEBUG] [yahoo_oauth.oauth.__init__] Checking \n",
      "[2021-01-23 20:30:45,484 DEBUG] [yahoo_oauth.oauth.token_is_valid] ELAPSED TIME : 3807.6330931186676\n",
      "[2021-01-23 20:30:45,485 DEBUG] [yahoo_oauth.oauth.token_is_valid] TOKEN HAS EXPIRED\n",
      "[2021-01-23 20:30:45,486 DEBUG] [yahoo_oauth.oauth.refresh_access_token] REFRESHING TOKEN\n"
     ]
    }
   ],
   "source": [
    "sc = yahoo_fantasy_api_authentication()\n",
    "league = yahoo_fantasy_league(sc)"
   ],
   "metadata": {
    "collapsed": false,
    "pycharm": {
     "name": "#%%\n"
    }
   }
  },
  {
   "cell_type": "code",
   "execution_count": 54,
   "outputs": [],
   "source": [
    "EDITORIAL_TEAM_FULL_NAME = \"editorial_team_full_name\"\n",
    "UNIFORM_NUMBER = \"uniform_number\"\n",
    "\n",
    "def yahoo_player_team_and_jersey(player_name):\n",
    "\n",
    "    player_details_dictionary = league.player_details(player_name)\n",
    "    players_team = player_details_dictionary[0][EDITORIAL_TEAM_FULL_NAME]\n",
    "    players_number = player_details_dictionary[0][UNIFORM_NUMBER]\n",
    "\n",
    "    return players_team, players_number"
   ],
   "metadata": {
    "collapsed": false,
    "pycharm": {
     "name": "#%%\n"
    }
   }
  },
  {
   "cell_type": "code",
   "execution_count": 46,
   "outputs": [],
   "source": [
    "players_team, players_number = yahoo_player_team_and_jersey(\"Robert Williams\")\n",
    "print(players_team, players_team)"
   ],
   "metadata": {
    "collapsed": false,
    "pycharm": {
     "name": "#%%\n"
    }
   }
  },
  {
   "cell_type": "code",
   "execution_count": 47,
   "outputs": [],
   "source": [
    "from nba_api.stats.endpoints import commonallplayers\n",
    "\n",
    "COMMON_ALL_PLAYERS =\"CommonAllPlayers\"\n",
    "PERSON_ID_KEY = \"PERSON_ID\"\n",
    "TEAM_CITY_KEY = \"TEAM_CITY\"\n",
    "TEAM_NAME_KEY = \"TEAM_NAME\"\n",
    "\n",
    "def player_ids_by_nba_team_name(nba_team):\n",
    "\n",
    "    common_all_players = commonallplayers.CommonAllPlayers(is_only_current_season=1)\n",
    "    common_all_players_dict = common_all_players.get_normalized_dict()[COMMON_ALL_PLAYERS]\n",
    "    player_ids_in_team_list = [player[PERSON_ID_KEY] for player in common_all_players_dict if \\\n",
    "        player[TEAM_CITY_KEY] + \" \" + player[TEAM_NAME_KEY] == players_team]\n",
    "\n",
    "    return player_ids_in_team_list"
   ],
   "metadata": {
    "collapsed": false,
    "pycharm": {
     "name": "#%%\n"
    }
   }
  },
  {
   "cell_type": "code",
   "execution_count": 48,
   "outputs": [],
   "source": [
    "player_ids_in_team_list = player_ids_by_nba_team_name(players_team)\n",
    "player_ids_in_team_list"
   ],
   "metadata": {
    "collapsed": false,
    "pycharm": {
     "name": "#%%\n"
    }
   }
  },
  {
   "cell_type": "code",
   "execution_count": 49,
   "outputs": [],
   "source": [
    "from nba_api.stats.endpoints import commonplayerinfo\n",
    "\n",
    "COMMON_PLAYER_INFO = \"CommonPlayerInfo\"\n",
    "JERSEY_KEY = \"JERSEY\"\n",
    "DISPLAY_FIRST_LAST = \"DISPLAY_FIRST_LAST\"\n",
    "\n",
    "def nba_player_name_from_jersey_search(team_player_ids, yahoo_jersey_number):\n",
    "\n",
    "    for id in team_player_ids:\n",
    "        nba_jersey_number = commonplayerinfo.CommonPlayerInfo(id).get_normalized_dict() \\\n",
    "            [COMMON_PLAYER_INFO][0][JERSEY_KEY]\n",
    "        if nba_jersey_number == yahoo_jersey_number:\n",
    "            nba_name = commonplayerinfo.CommonPlayerInfo(id).get_normalized_dict() \\\n",
    "            [COMMON_PLAYER_INFO][0][DISPLAY_FIRST_LAST]\n",
    "\n",
    "            return nba_name"
   ],
   "metadata": {
    "collapsed": false,
    "pycharm": {
     "name": "#%%\n"
    }
   }
  },
  {
   "cell_type": "code",
   "execution_count": 50,
   "outputs": [
    {
     "data": {
      "text/plain": "'Robert Williams III'"
     },
     "execution_count": 50,
     "metadata": {},
     "output_type": "execute_result"
    }
   ],
   "source": [
    "nba_player_name_from_jersey_search(player_ids_in_team_list, players_number)"
   ],
   "metadata": {
    "collapsed": false,
    "pycharm": {
     "name": "#%%\n"
    }
   }
  },
  {
   "cell_type": "code",
   "execution_count": 61,
   "outputs": [],
   "source": [
    "from nba_api.stats.endpoints import commonallplayers\n",
    "from nba_api.stats.endpoints import commonplayerinfo\n",
    "\n",
    "EDITORIAL_TEAM_FULL_NAME = \"editorial_team_full_name\"\n",
    "JERSEY_KEY = \"uniform_number\"\n",
    "COMMON_ALL_PLAYERS =\"CommonAllPlayers\"\n",
    "PERSON_ID_KEY = \"PERSON_ID\"\n",
    "TEAM_CITY_KEY = \"TEAM_CITY\"\n",
    "TEAM_NAME_KEY = \"TEAM_NAME\"\n",
    "COMMON_PLAYER_INFO = \"CommonPlayerInfo\"\n",
    "JERSEY_KEY = \"JERSEY\"\n",
    "DISPLAY_FIRST_LAST = \"DISPLAY_FIRST_LAST\"\n",
    "\n",
    "\n",
    "def yahoo_player_team_and_jersey(player_name):\n",
    "\n",
    "    player_details_dictionary = league.player_details(player_name)\n",
    "    players_team = player_details_dictionary[0][EDITORIAL_TEAM_FULL_NAME]\n",
    "    players_number = player_details_dictionary[0][UNIFORM_NUMBER]\n",
    "\n",
    "    return players_team, players_number\n",
    "\n",
    "\n",
    "def player_ids_by_nba_team_name(nba_team):\n",
    "\n",
    "    common_all_players = commonallplayers.CommonAllPlayers(is_only_current_season=1)\n",
    "    common_all_players_dict = common_all_players.get_normalized_dict()[COMMON_ALL_PLAYERS]\n",
    "    player_ids_in_team_list = [player[PERSON_ID_KEY] for player in common_all_players_dict if \\\n",
    "        player[TEAM_CITY_KEY] + \" \" + player[TEAM_NAME_KEY] == players_team]\n",
    "\n",
    "    return player_ids_in_team_list\n",
    "\n",
    "\n",
    "def nba_player_name_from_jersey_search(team_player_ids, yahoo_jersey_number):\n",
    "\n",
    "    for id in team_player_ids:\n",
    "        nba_jersey_number = commonplayerinfo.CommonPlayerInfo(id).get_normalized_dict() \\\n",
    "            [COMMON_PLAYER_INFO][0][JERSEY_KEY]\n",
    "        if nba_jersey_number == yahoo_jersey_number:\n",
    "            nba_name = commonplayerinfo.CommonPlayerInfo(id).get_normalized_dict() \\\n",
    "            [COMMON_PLAYER_INFO][0][DISPLAY_FIRST_LAST]\n",
    "\n",
    "            return nba_name\n",
    "\n",
    "\n",
    "def yahoo_name_to_nba_name(yahoo_player_name):\n",
    "    \"\"\" Function expectes a Yahoo player name and it will find the players Team Name and Jersey\n",
    "    Number. It then searches the NBA API for Player IDs belonging to found Team Name. For every\n",
    "    Player ID it searches their Jersey Number. When there is a match, it returns the NBA Player\n",
    "    Name.\n",
    "    \"\"\"\n",
    "\n",
    "    player_team, player_number = yahoo_player_team_and_jersey(yahoo_player_name)\n",
    "    player_ids_in_team_list = player_ids_by_nba_team_name(player_team)\n",
    "    nba_player_name = nba_player_name_from_jersey_search(player_ids_in_team_list, player_number)\n",
    "\n",
    "    return nba_player_name"
   ],
   "metadata": {
    "collapsed": false,
    "pycharm": {
     "name": "#%%\n"
    }
   }
  },
  {
   "cell_type": "code",
   "execution_count": 62,
   "outputs": [
    {
     "ename": "ReadTimeout",
     "evalue": "HTTPSConnectionPool(host='stats.nba.com', port=443): Read timed out. (read timeout=30)",
     "output_type": "error",
     "traceback": [
      "\u001B[1;31m---------------------------------------------------------------------------\u001B[0m",
      "\u001B[1;31mtimeout\u001B[0m                                   Traceback (most recent call last)",
      "\u001B[1;32mc:\\users\\jaume\\documents\\python projects\\waiver_wire_machine\\venv\\lib\\site-packages\\urllib3\\connectionpool.py\u001B[0m in \u001B[0;36m_make_request\u001B[1;34m(self, conn, method, url, timeout, chunked, **httplib_request_kw)\u001B[0m\n\u001B[0;32m    444\u001B[0m                     \u001B[1;31m# Otherwise it looks like a bug in the code.\u001B[0m\u001B[1;33m\u001B[0m\u001B[1;33m\u001B[0m\u001B[1;33m\u001B[0m\u001B[0m\n\u001B[1;32m--> 445\u001B[1;33m                     \u001B[0msix\u001B[0m\u001B[1;33m.\u001B[0m\u001B[0mraise_from\u001B[0m\u001B[1;33m(\u001B[0m\u001B[0me\u001B[0m\u001B[1;33m,\u001B[0m \u001B[1;32mNone\u001B[0m\u001B[1;33m)\u001B[0m\u001B[1;33m\u001B[0m\u001B[1;33m\u001B[0m\u001B[0m\n\u001B[0m\u001B[0;32m    446\u001B[0m         \u001B[1;32mexcept\u001B[0m \u001B[1;33m(\u001B[0m\u001B[0mSocketTimeout\u001B[0m\u001B[1;33m,\u001B[0m \u001B[0mBaseSSLError\u001B[0m\u001B[1;33m,\u001B[0m \u001B[0mSocketError\u001B[0m\u001B[1;33m)\u001B[0m \u001B[1;32mas\u001B[0m \u001B[0me\u001B[0m\u001B[1;33m:\u001B[0m\u001B[1;33m\u001B[0m\u001B[1;33m\u001B[0m\u001B[0m\n",
      "\u001B[1;32mc:\\users\\jaume\\documents\\python projects\\waiver_wire_machine\\venv\\lib\\site-packages\\urllib3\\packages\\six.py\u001B[0m in \u001B[0;36mraise_from\u001B[1;34m(value, from_value)\u001B[0m\n",
      "\u001B[1;32mc:\\users\\jaume\\documents\\python projects\\waiver_wire_machine\\venv\\lib\\site-packages\\urllib3\\connectionpool.py\u001B[0m in \u001B[0;36m_make_request\u001B[1;34m(self, conn, method, url, timeout, chunked, **httplib_request_kw)\u001B[0m\n\u001B[0;32m    439\u001B[0m                 \u001B[1;32mtry\u001B[0m\u001B[1;33m:\u001B[0m\u001B[1;33m\u001B[0m\u001B[1;33m\u001B[0m\u001B[0m\n\u001B[1;32m--> 440\u001B[1;33m                     \u001B[0mhttplib_response\u001B[0m \u001B[1;33m=\u001B[0m \u001B[0mconn\u001B[0m\u001B[1;33m.\u001B[0m\u001B[0mgetresponse\u001B[0m\u001B[1;33m(\u001B[0m\u001B[1;33m)\u001B[0m\u001B[1;33m\u001B[0m\u001B[1;33m\u001B[0m\u001B[0m\n\u001B[0m\u001B[0;32m    441\u001B[0m                 \u001B[1;32mexcept\u001B[0m \u001B[0mBaseException\u001B[0m \u001B[1;32mas\u001B[0m \u001B[0me\u001B[0m\u001B[1;33m:\u001B[0m\u001B[1;33m\u001B[0m\u001B[1;33m\u001B[0m\u001B[0m\n",
      "\u001B[1;32mC:\\Python38\\lib\\http\\client.py\u001B[0m in \u001B[0;36mgetresponse\u001B[1;34m(self)\u001B[0m\n\u001B[0;32m   1321\u001B[0m             \u001B[1;32mtry\u001B[0m\u001B[1;33m:\u001B[0m\u001B[1;33m\u001B[0m\u001B[1;33m\u001B[0m\u001B[0m\n\u001B[1;32m-> 1322\u001B[1;33m                 \u001B[0mresponse\u001B[0m\u001B[1;33m.\u001B[0m\u001B[0mbegin\u001B[0m\u001B[1;33m(\u001B[0m\u001B[1;33m)\u001B[0m\u001B[1;33m\u001B[0m\u001B[1;33m\u001B[0m\u001B[0m\n\u001B[0m\u001B[0;32m   1323\u001B[0m             \u001B[1;32mexcept\u001B[0m \u001B[0mConnectionError\u001B[0m\u001B[1;33m:\u001B[0m\u001B[1;33m\u001B[0m\u001B[1;33m\u001B[0m\u001B[0m\n",
      "\u001B[1;32mC:\\Python38\\lib\\http\\client.py\u001B[0m in \u001B[0;36mbegin\u001B[1;34m(self)\u001B[0m\n\u001B[0;32m    302\u001B[0m         \u001B[1;32mwhile\u001B[0m \u001B[1;32mTrue\u001B[0m\u001B[1;33m:\u001B[0m\u001B[1;33m\u001B[0m\u001B[1;33m\u001B[0m\u001B[0m\n\u001B[1;32m--> 303\u001B[1;33m             \u001B[0mversion\u001B[0m\u001B[1;33m,\u001B[0m \u001B[0mstatus\u001B[0m\u001B[1;33m,\u001B[0m \u001B[0mreason\u001B[0m \u001B[1;33m=\u001B[0m \u001B[0mself\u001B[0m\u001B[1;33m.\u001B[0m\u001B[0m_read_status\u001B[0m\u001B[1;33m(\u001B[0m\u001B[1;33m)\u001B[0m\u001B[1;33m\u001B[0m\u001B[1;33m\u001B[0m\u001B[0m\n\u001B[0m\u001B[0;32m    304\u001B[0m             \u001B[1;32mif\u001B[0m \u001B[0mstatus\u001B[0m \u001B[1;33m!=\u001B[0m \u001B[0mCONTINUE\u001B[0m\u001B[1;33m:\u001B[0m\u001B[1;33m\u001B[0m\u001B[1;33m\u001B[0m\u001B[0m\n",
      "\u001B[1;32mC:\\Python38\\lib\\http\\client.py\u001B[0m in \u001B[0;36m_read_status\u001B[1;34m(self)\u001B[0m\n\u001B[0;32m    263\u001B[0m     \u001B[1;32mdef\u001B[0m \u001B[0m_read_status\u001B[0m\u001B[1;33m(\u001B[0m\u001B[0mself\u001B[0m\u001B[1;33m)\u001B[0m\u001B[1;33m:\u001B[0m\u001B[1;33m\u001B[0m\u001B[1;33m\u001B[0m\u001B[0m\n\u001B[1;32m--> 264\u001B[1;33m         \u001B[0mline\u001B[0m \u001B[1;33m=\u001B[0m \u001B[0mstr\u001B[0m\u001B[1;33m(\u001B[0m\u001B[0mself\u001B[0m\u001B[1;33m.\u001B[0m\u001B[0mfp\u001B[0m\u001B[1;33m.\u001B[0m\u001B[0mreadline\u001B[0m\u001B[1;33m(\u001B[0m\u001B[0m_MAXLINE\u001B[0m \u001B[1;33m+\u001B[0m \u001B[1;36m1\u001B[0m\u001B[1;33m)\u001B[0m\u001B[1;33m,\u001B[0m \u001B[1;34m\"iso-8859-1\"\u001B[0m\u001B[1;33m)\u001B[0m\u001B[1;33m\u001B[0m\u001B[1;33m\u001B[0m\u001B[0m\n\u001B[0m\u001B[0;32m    265\u001B[0m         \u001B[1;32mif\u001B[0m \u001B[0mlen\u001B[0m\u001B[1;33m(\u001B[0m\u001B[0mline\u001B[0m\u001B[1;33m)\u001B[0m \u001B[1;33m>\u001B[0m \u001B[0m_MAXLINE\u001B[0m\u001B[1;33m:\u001B[0m\u001B[1;33m\u001B[0m\u001B[1;33m\u001B[0m\u001B[0m\n",
      "\u001B[1;32mC:\\Python38\\lib\\socket.py\u001B[0m in \u001B[0;36mreadinto\u001B[1;34m(self, b)\u001B[0m\n\u001B[0;32m    668\u001B[0m             \u001B[1;32mtry\u001B[0m\u001B[1;33m:\u001B[0m\u001B[1;33m\u001B[0m\u001B[1;33m\u001B[0m\u001B[0m\n\u001B[1;32m--> 669\u001B[1;33m                 \u001B[1;32mreturn\u001B[0m \u001B[0mself\u001B[0m\u001B[1;33m.\u001B[0m\u001B[0m_sock\u001B[0m\u001B[1;33m.\u001B[0m\u001B[0mrecv_into\u001B[0m\u001B[1;33m(\u001B[0m\u001B[0mb\u001B[0m\u001B[1;33m)\u001B[0m\u001B[1;33m\u001B[0m\u001B[1;33m\u001B[0m\u001B[0m\n\u001B[0m\u001B[0;32m    670\u001B[0m             \u001B[1;32mexcept\u001B[0m \u001B[0mtimeout\u001B[0m\u001B[1;33m:\u001B[0m\u001B[1;33m\u001B[0m\u001B[1;33m\u001B[0m\u001B[0m\n",
      "\u001B[1;32mC:\\Python38\\lib\\ssl.py\u001B[0m in \u001B[0;36mrecv_into\u001B[1;34m(self, buffer, nbytes, flags)\u001B[0m\n\u001B[0;32m   1240\u001B[0m                   self.__class__)\n\u001B[1;32m-> 1241\u001B[1;33m             \u001B[1;32mreturn\u001B[0m \u001B[0mself\u001B[0m\u001B[1;33m.\u001B[0m\u001B[0mread\u001B[0m\u001B[1;33m(\u001B[0m\u001B[0mnbytes\u001B[0m\u001B[1;33m,\u001B[0m \u001B[0mbuffer\u001B[0m\u001B[1;33m)\u001B[0m\u001B[1;33m\u001B[0m\u001B[1;33m\u001B[0m\u001B[0m\n\u001B[0m\u001B[0;32m   1242\u001B[0m         \u001B[1;32melse\u001B[0m\u001B[1;33m:\u001B[0m\u001B[1;33m\u001B[0m\u001B[1;33m\u001B[0m\u001B[0m\n",
      "\u001B[1;32mC:\\Python38\\lib\\ssl.py\u001B[0m in \u001B[0;36mread\u001B[1;34m(self, len, buffer)\u001B[0m\n\u001B[0;32m   1098\u001B[0m             \u001B[1;32mif\u001B[0m \u001B[0mbuffer\u001B[0m \u001B[1;32mis\u001B[0m \u001B[1;32mnot\u001B[0m \u001B[1;32mNone\u001B[0m\u001B[1;33m:\u001B[0m\u001B[1;33m\u001B[0m\u001B[1;33m\u001B[0m\u001B[0m\n\u001B[1;32m-> 1099\u001B[1;33m                 \u001B[1;32mreturn\u001B[0m \u001B[0mself\u001B[0m\u001B[1;33m.\u001B[0m\u001B[0m_sslobj\u001B[0m\u001B[1;33m.\u001B[0m\u001B[0mread\u001B[0m\u001B[1;33m(\u001B[0m\u001B[0mlen\u001B[0m\u001B[1;33m,\u001B[0m \u001B[0mbuffer\u001B[0m\u001B[1;33m)\u001B[0m\u001B[1;33m\u001B[0m\u001B[1;33m\u001B[0m\u001B[0m\n\u001B[0m\u001B[0;32m   1100\u001B[0m             \u001B[1;32melse\u001B[0m\u001B[1;33m:\u001B[0m\u001B[1;33m\u001B[0m\u001B[1;33m\u001B[0m\u001B[0m\n",
      "\u001B[1;31mtimeout\u001B[0m: The read operation timed out",
      "\nDuring handling of the above exception, another exception occurred:\n",
      "\u001B[1;31mReadTimeoutError\u001B[0m                          Traceback (most recent call last)",
      "\u001B[1;32mc:\\users\\jaume\\documents\\python projects\\waiver_wire_machine\\venv\\lib\\site-packages\\requests\\adapters.py\u001B[0m in \u001B[0;36msend\u001B[1;34m(self, request, stream, timeout, verify, cert, proxies)\u001B[0m\n\u001B[0;32m    438\u001B[0m             \u001B[1;32mif\u001B[0m \u001B[1;32mnot\u001B[0m \u001B[0mchunked\u001B[0m\u001B[1;33m:\u001B[0m\u001B[1;33m\u001B[0m\u001B[1;33m\u001B[0m\u001B[0m\n\u001B[1;32m--> 439\u001B[1;33m                 resp = conn.urlopen(\n\u001B[0m\u001B[0;32m    440\u001B[0m                     \u001B[0mmethod\u001B[0m\u001B[1;33m=\u001B[0m\u001B[0mrequest\u001B[0m\u001B[1;33m.\u001B[0m\u001B[0mmethod\u001B[0m\u001B[1;33m,\u001B[0m\u001B[1;33m\u001B[0m\u001B[1;33m\u001B[0m\u001B[0m\n",
      "\u001B[1;32mc:\\users\\jaume\\documents\\python projects\\waiver_wire_machine\\venv\\lib\\site-packages\\urllib3\\connectionpool.py\u001B[0m in \u001B[0;36murlopen\u001B[1;34m(self, method, url, body, headers, retries, redirect, assert_same_host, timeout, pool_timeout, release_conn, chunked, body_pos, **response_kw)\u001B[0m\n\u001B[0;32m    754\u001B[0m \u001B[1;33m\u001B[0m\u001B[0m\n\u001B[1;32m--> 755\u001B[1;33m             retries = retries.increment(\n\u001B[0m\u001B[0;32m    756\u001B[0m                 \u001B[0mmethod\u001B[0m\u001B[1;33m,\u001B[0m \u001B[0murl\u001B[0m\u001B[1;33m,\u001B[0m \u001B[0merror\u001B[0m\u001B[1;33m=\u001B[0m\u001B[0me\u001B[0m\u001B[1;33m,\u001B[0m \u001B[0m_pool\u001B[0m\u001B[1;33m=\u001B[0m\u001B[0mself\u001B[0m\u001B[1;33m,\u001B[0m \u001B[0m_stacktrace\u001B[0m\u001B[1;33m=\u001B[0m\u001B[0msys\u001B[0m\u001B[1;33m.\u001B[0m\u001B[0mexc_info\u001B[0m\u001B[1;33m(\u001B[0m\u001B[1;33m)\u001B[0m\u001B[1;33m[\u001B[0m\u001B[1;36m2\u001B[0m\u001B[1;33m]\u001B[0m\u001B[1;33m\u001B[0m\u001B[1;33m\u001B[0m\u001B[0m\n",
      "\u001B[1;32mc:\\users\\jaume\\documents\\python projects\\waiver_wire_machine\\venv\\lib\\site-packages\\urllib3\\util\\retry.py\u001B[0m in \u001B[0;36mincrement\u001B[1;34m(self, method, url, response, error, _pool, _stacktrace)\u001B[0m\n\u001B[0;32m    530\u001B[0m             \u001B[1;32mif\u001B[0m \u001B[0mread\u001B[0m \u001B[1;32mis\u001B[0m \u001B[1;32mFalse\u001B[0m \u001B[1;32mor\u001B[0m \u001B[1;32mnot\u001B[0m \u001B[0mself\u001B[0m\u001B[1;33m.\u001B[0m\u001B[0m_is_method_retryable\u001B[0m\u001B[1;33m(\u001B[0m\u001B[0mmethod\u001B[0m\u001B[1;33m)\u001B[0m\u001B[1;33m:\u001B[0m\u001B[1;33m\u001B[0m\u001B[1;33m\u001B[0m\u001B[0m\n\u001B[1;32m--> 531\u001B[1;33m                 \u001B[1;32mraise\u001B[0m \u001B[0msix\u001B[0m\u001B[1;33m.\u001B[0m\u001B[0mreraise\u001B[0m\u001B[1;33m(\u001B[0m\u001B[0mtype\u001B[0m\u001B[1;33m(\u001B[0m\u001B[0merror\u001B[0m\u001B[1;33m)\u001B[0m\u001B[1;33m,\u001B[0m \u001B[0merror\u001B[0m\u001B[1;33m,\u001B[0m \u001B[0m_stacktrace\u001B[0m\u001B[1;33m)\u001B[0m\u001B[1;33m\u001B[0m\u001B[1;33m\u001B[0m\u001B[0m\n\u001B[0m\u001B[0;32m    532\u001B[0m             \u001B[1;32melif\u001B[0m \u001B[0mread\u001B[0m \u001B[1;32mis\u001B[0m \u001B[1;32mnot\u001B[0m \u001B[1;32mNone\u001B[0m\u001B[1;33m:\u001B[0m\u001B[1;33m\u001B[0m\u001B[1;33m\u001B[0m\u001B[0m\n",
      "\u001B[1;32mc:\\users\\jaume\\documents\\python projects\\waiver_wire_machine\\venv\\lib\\site-packages\\urllib3\\packages\\six.py\u001B[0m in \u001B[0;36mreraise\u001B[1;34m(tp, value, tb)\u001B[0m\n\u001B[0;32m    734\u001B[0m                 \u001B[1;32mraise\u001B[0m \u001B[0mvalue\u001B[0m\u001B[1;33m.\u001B[0m\u001B[0mwith_traceback\u001B[0m\u001B[1;33m(\u001B[0m\u001B[0mtb\u001B[0m\u001B[1;33m)\u001B[0m\u001B[1;33m\u001B[0m\u001B[1;33m\u001B[0m\u001B[0m\n\u001B[1;32m--> 735\u001B[1;33m             \u001B[1;32mraise\u001B[0m \u001B[0mvalue\u001B[0m\u001B[1;33m\u001B[0m\u001B[1;33m\u001B[0m\u001B[0m\n\u001B[0m\u001B[0;32m    736\u001B[0m         \u001B[1;32mfinally\u001B[0m\u001B[1;33m:\u001B[0m\u001B[1;33m\u001B[0m\u001B[1;33m\u001B[0m\u001B[0m\n",
      "\u001B[1;32mc:\\users\\jaume\\documents\\python projects\\waiver_wire_machine\\venv\\lib\\site-packages\\urllib3\\connectionpool.py\u001B[0m in \u001B[0;36murlopen\u001B[1;34m(self, method, url, body, headers, retries, redirect, assert_same_host, timeout, pool_timeout, release_conn, chunked, body_pos, **response_kw)\u001B[0m\n\u001B[0;32m    698\u001B[0m             \u001B[1;31m# Make the request on the httplib connection object.\u001B[0m\u001B[1;33m\u001B[0m\u001B[1;33m\u001B[0m\u001B[1;33m\u001B[0m\u001B[0m\n\u001B[1;32m--> 699\u001B[1;33m             httplib_response = self._make_request(\n\u001B[0m\u001B[0;32m    700\u001B[0m                 \u001B[0mconn\u001B[0m\u001B[1;33m,\u001B[0m\u001B[1;33m\u001B[0m\u001B[1;33m\u001B[0m\u001B[0m\n",
      "\u001B[1;32mc:\\users\\jaume\\documents\\python projects\\waiver_wire_machine\\venv\\lib\\site-packages\\urllib3\\connectionpool.py\u001B[0m in \u001B[0;36m_make_request\u001B[1;34m(self, conn, method, url, timeout, chunked, **httplib_request_kw)\u001B[0m\n\u001B[0;32m    446\u001B[0m         \u001B[1;32mexcept\u001B[0m \u001B[1;33m(\u001B[0m\u001B[0mSocketTimeout\u001B[0m\u001B[1;33m,\u001B[0m \u001B[0mBaseSSLError\u001B[0m\u001B[1;33m,\u001B[0m \u001B[0mSocketError\u001B[0m\u001B[1;33m)\u001B[0m \u001B[1;32mas\u001B[0m \u001B[0me\u001B[0m\u001B[1;33m:\u001B[0m\u001B[1;33m\u001B[0m\u001B[1;33m\u001B[0m\u001B[0m\n\u001B[1;32m--> 447\u001B[1;33m             \u001B[0mself\u001B[0m\u001B[1;33m.\u001B[0m\u001B[0m_raise_timeout\u001B[0m\u001B[1;33m(\u001B[0m\u001B[0merr\u001B[0m\u001B[1;33m=\u001B[0m\u001B[0me\u001B[0m\u001B[1;33m,\u001B[0m \u001B[0murl\u001B[0m\u001B[1;33m=\u001B[0m\u001B[0murl\u001B[0m\u001B[1;33m,\u001B[0m \u001B[0mtimeout_value\u001B[0m\u001B[1;33m=\u001B[0m\u001B[0mread_timeout\u001B[0m\u001B[1;33m)\u001B[0m\u001B[1;33m\u001B[0m\u001B[1;33m\u001B[0m\u001B[0m\n\u001B[0m\u001B[0;32m    448\u001B[0m             \u001B[1;32mraise\u001B[0m\u001B[1;33m\u001B[0m\u001B[1;33m\u001B[0m\u001B[0m\n",
      "\u001B[1;32mc:\\users\\jaume\\documents\\python projects\\waiver_wire_machine\\venv\\lib\\site-packages\\urllib3\\connectionpool.py\u001B[0m in \u001B[0;36m_raise_timeout\u001B[1;34m(self, err, url, timeout_value)\u001B[0m\n\u001B[0;32m    335\u001B[0m         \u001B[1;32mif\u001B[0m \u001B[0misinstance\u001B[0m\u001B[1;33m(\u001B[0m\u001B[0merr\u001B[0m\u001B[1;33m,\u001B[0m \u001B[0mSocketTimeout\u001B[0m\u001B[1;33m)\u001B[0m\u001B[1;33m:\u001B[0m\u001B[1;33m\u001B[0m\u001B[1;33m\u001B[0m\u001B[0m\n\u001B[1;32m--> 336\u001B[1;33m             raise ReadTimeoutError(\n\u001B[0m\u001B[0;32m    337\u001B[0m                 \u001B[0mself\u001B[0m\u001B[1;33m,\u001B[0m \u001B[0murl\u001B[0m\u001B[1;33m,\u001B[0m \u001B[1;34m\"Read timed out. (read timeout=%s)\"\u001B[0m \u001B[1;33m%\u001B[0m \u001B[0mtimeout_value\u001B[0m\u001B[1;33m\u001B[0m\u001B[1;33m\u001B[0m\u001B[0m\n",
      "\u001B[1;31mReadTimeoutError\u001B[0m: HTTPSConnectionPool(host='stats.nba.com', port=443): Read timed out. (read timeout=30)",
      "\nDuring handling of the above exception, another exception occurred:\n",
      "\u001B[1;31mReadTimeout\u001B[0m                               Traceback (most recent call last)",
      "\u001B[1;32m<ipython-input-62-403da2861dbe>\u001B[0m in \u001B[0;36m<module>\u001B[1;34m\u001B[0m\n\u001B[1;32m----> 1\u001B[1;33m \u001B[0myahoo_name_to_nba_name\u001B[0m\u001B[1;33m(\u001B[0m\u001B[1;34m\"Robert Williams\"\u001B[0m\u001B[1;33m)\u001B[0m\u001B[1;33m\u001B[0m\u001B[1;33m\u001B[0m\u001B[0m\n\u001B[0m\u001B[0;32m      2\u001B[0m \u001B[1;33m\u001B[0m\u001B[0m\n",
      "\u001B[1;32m<ipython-input-61-f807c8c8750b>\u001B[0m in \u001B[0;36myahoo_name_to_nba_name\u001B[1;34m(yahoo_player_name)\u001B[0m\n\u001B[0;32m     52\u001B[0m \u001B[1;33m\u001B[0m\u001B[0m\n\u001B[0;32m     53\u001B[0m     \u001B[0mplayer_team\u001B[0m\u001B[1;33m,\u001B[0m \u001B[0mplayer_number\u001B[0m \u001B[1;33m=\u001B[0m \u001B[0myahoo_player_team_and_jersey\u001B[0m\u001B[1;33m(\u001B[0m\u001B[0myahoo_player_name\u001B[0m\u001B[1;33m)\u001B[0m\u001B[1;33m\u001B[0m\u001B[1;33m\u001B[0m\u001B[0m\n\u001B[1;32m---> 54\u001B[1;33m     \u001B[0mplayer_ids_in_team_list\u001B[0m \u001B[1;33m=\u001B[0m \u001B[0mplayer_ids_by_nba_team_name\u001B[0m\u001B[1;33m(\u001B[0m\u001B[0mplayer_team\u001B[0m\u001B[1;33m)\u001B[0m\u001B[1;33m\u001B[0m\u001B[1;33m\u001B[0m\u001B[0m\n\u001B[0m\u001B[0;32m     55\u001B[0m     \u001B[0mnba_player_name\u001B[0m \u001B[1;33m=\u001B[0m \u001B[0mnba_player_name_from_jersey_search\u001B[0m\u001B[1;33m(\u001B[0m\u001B[0mplayer_ids_in_team_list\u001B[0m\u001B[1;33m,\u001B[0m \u001B[0mplayer_number\u001B[0m\u001B[1;33m)\u001B[0m\u001B[1;33m\u001B[0m\u001B[1;33m\u001B[0m\u001B[0m\n\u001B[0;32m     56\u001B[0m \u001B[1;33m\u001B[0m\u001B[0m\n",
      "\u001B[1;32m<ipython-input-61-f807c8c8750b>\u001B[0m in \u001B[0;36mplayer_ids_by_nba_team_name\u001B[1;34m(nba_team)\u001B[0m\n\u001B[0;32m     24\u001B[0m \u001B[1;32mdef\u001B[0m \u001B[0mplayer_ids_by_nba_team_name\u001B[0m\u001B[1;33m(\u001B[0m\u001B[0mnba_team\u001B[0m\u001B[1;33m)\u001B[0m\u001B[1;33m:\u001B[0m\u001B[1;33m\u001B[0m\u001B[1;33m\u001B[0m\u001B[0m\n\u001B[0;32m     25\u001B[0m \u001B[1;33m\u001B[0m\u001B[0m\n\u001B[1;32m---> 26\u001B[1;33m     \u001B[0mcommon_all_players\u001B[0m \u001B[1;33m=\u001B[0m \u001B[0mcommonallplayers\u001B[0m\u001B[1;33m.\u001B[0m\u001B[0mCommonAllPlayers\u001B[0m\u001B[1;33m(\u001B[0m\u001B[0mis_only_current_season\u001B[0m\u001B[1;33m=\u001B[0m\u001B[1;36m1\u001B[0m\u001B[1;33m)\u001B[0m\u001B[1;33m\u001B[0m\u001B[1;33m\u001B[0m\u001B[0m\n\u001B[0m\u001B[0;32m     27\u001B[0m     \u001B[0mcommon_all_players_dict\u001B[0m \u001B[1;33m=\u001B[0m \u001B[0mcommon_all_players\u001B[0m\u001B[1;33m.\u001B[0m\u001B[0mget_normalized_dict\u001B[0m\u001B[1;33m(\u001B[0m\u001B[1;33m)\u001B[0m\u001B[1;33m[\u001B[0m\u001B[0mCOMMON_ALL_PLAYERS\u001B[0m\u001B[1;33m]\u001B[0m\u001B[1;33m\u001B[0m\u001B[1;33m\u001B[0m\u001B[0m\n\u001B[0;32m     28\u001B[0m     player_ids_in_team_list = [player[PERSON_ID_KEY] for player in common_all_players_dict if \\\n",
      "\u001B[1;32mc:\\users\\jaume\\documents\\python projects\\waiver_wire_machine\\venv\\lib\\site-packages\\nba_api\\stats\\endpoints\\commonallplayers.py\u001B[0m in \u001B[0;36m__init__\u001B[1;34m(self, is_only_current_season, league_id, season, proxy, headers, timeout, get_request)\u001B[0m\n\u001B[0;32m     32\u001B[0m         }\n\u001B[0;32m     33\u001B[0m         \u001B[1;32mif\u001B[0m \u001B[0mget_request\u001B[0m\u001B[1;33m:\u001B[0m\u001B[1;33m\u001B[0m\u001B[1;33m\u001B[0m\u001B[0m\n\u001B[1;32m---> 34\u001B[1;33m             \u001B[0mself\u001B[0m\u001B[1;33m.\u001B[0m\u001B[0mget_request\u001B[0m\u001B[1;33m(\u001B[0m\u001B[1;33m)\u001B[0m\u001B[1;33m\u001B[0m\u001B[1;33m\u001B[0m\u001B[0m\n\u001B[0m\u001B[0;32m     35\u001B[0m \u001B[1;33m\u001B[0m\u001B[0m\n\u001B[0;32m     36\u001B[0m     \u001B[1;32mdef\u001B[0m \u001B[0mget_request\u001B[0m\u001B[1;33m(\u001B[0m\u001B[0mself\u001B[0m\u001B[1;33m)\u001B[0m\u001B[1;33m:\u001B[0m\u001B[1;33m\u001B[0m\u001B[1;33m\u001B[0m\u001B[0m\n",
      "\u001B[1;32mc:\\users\\jaume\\documents\\python projects\\waiver_wire_machine\\venv\\lib\\site-packages\\nba_api\\stats\\endpoints\\commonallplayers.py\u001B[0m in \u001B[0;36mget_request\u001B[1;34m(self)\u001B[0m\n\u001B[0;32m     35\u001B[0m \u001B[1;33m\u001B[0m\u001B[0m\n\u001B[0;32m     36\u001B[0m     \u001B[1;32mdef\u001B[0m \u001B[0mget_request\u001B[0m\u001B[1;33m(\u001B[0m\u001B[0mself\u001B[0m\u001B[1;33m)\u001B[0m\u001B[1;33m:\u001B[0m\u001B[1;33m\u001B[0m\u001B[1;33m\u001B[0m\u001B[0m\n\u001B[1;32m---> 37\u001B[1;33m         self.nba_response = NBAStatsHTTP().send_api_request(\n\u001B[0m\u001B[0;32m     38\u001B[0m             \u001B[0mendpoint\u001B[0m\u001B[1;33m=\u001B[0m\u001B[0mself\u001B[0m\u001B[1;33m.\u001B[0m\u001B[0mendpoint\u001B[0m\u001B[1;33m,\u001B[0m\u001B[1;33m\u001B[0m\u001B[1;33m\u001B[0m\u001B[0m\n\u001B[0;32m     39\u001B[0m             \u001B[0mparameters\u001B[0m\u001B[1;33m=\u001B[0m\u001B[0mself\u001B[0m\u001B[1;33m.\u001B[0m\u001B[0mparameters\u001B[0m\u001B[1;33m,\u001B[0m\u001B[1;33m\u001B[0m\u001B[1;33m\u001B[0m\u001B[0m\n",
      "\u001B[1;32mc:\\users\\jaume\\documents\\python projects\\waiver_wire_machine\\venv\\lib\\site-packages\\nba_api\\library\\http.py\u001B[0m in \u001B[0;36msend_api_request\u001B[1;34m(self, endpoint, parameters, referer, proxy, headers, timeout, raise_exception_on_error)\u001B[0m\n\u001B[0;32m    128\u001B[0m \u001B[1;33m\u001B[0m\u001B[0m\n\u001B[0;32m    129\u001B[0m         \u001B[1;32mif\u001B[0m \u001B[1;32mnot\u001B[0m \u001B[0mcontents\u001B[0m\u001B[1;33m:\u001B[0m\u001B[1;33m\u001B[0m\u001B[1;33m\u001B[0m\u001B[0m\n\u001B[1;32m--> 130\u001B[1;33m             \u001B[0mresponse\u001B[0m \u001B[1;33m=\u001B[0m \u001B[0mrequests\u001B[0m\u001B[1;33m.\u001B[0m\u001B[0mget\u001B[0m\u001B[1;33m(\u001B[0m\u001B[0murl\u001B[0m\u001B[1;33m=\u001B[0m\u001B[0mbase_url\u001B[0m\u001B[1;33m,\u001B[0m \u001B[0mparams\u001B[0m\u001B[1;33m=\u001B[0m\u001B[0mparameters\u001B[0m\u001B[1;33m,\u001B[0m \u001B[0mheaders\u001B[0m\u001B[1;33m=\u001B[0m\u001B[0mrequest_headers\u001B[0m\u001B[1;33m,\u001B[0m \u001B[0mproxies\u001B[0m\u001B[1;33m=\u001B[0m\u001B[0mproxies\u001B[0m\u001B[1;33m,\u001B[0m \u001B[0mtimeout\u001B[0m\u001B[1;33m=\u001B[0m\u001B[0mtimeout\u001B[0m\u001B[1;33m)\u001B[0m\u001B[1;33m\u001B[0m\u001B[1;33m\u001B[0m\u001B[0m\n\u001B[0m\u001B[0;32m    131\u001B[0m             \u001B[0murl\u001B[0m \u001B[1;33m=\u001B[0m \u001B[0mresponse\u001B[0m\u001B[1;33m.\u001B[0m\u001B[0murl\u001B[0m\u001B[1;33m\u001B[0m\u001B[1;33m\u001B[0m\u001B[0m\n\u001B[0;32m    132\u001B[0m             \u001B[0mstatus_code\u001B[0m \u001B[1;33m=\u001B[0m \u001B[0mresponse\u001B[0m\u001B[1;33m.\u001B[0m\u001B[0mstatus_code\u001B[0m\u001B[1;33m\u001B[0m\u001B[1;33m\u001B[0m\u001B[0m\n",
      "\u001B[1;32mc:\\users\\jaume\\documents\\python projects\\waiver_wire_machine\\venv\\lib\\site-packages\\requests\\api.py\u001B[0m in \u001B[0;36mget\u001B[1;34m(url, params, **kwargs)\u001B[0m\n\u001B[0;32m     74\u001B[0m \u001B[1;33m\u001B[0m\u001B[0m\n\u001B[0;32m     75\u001B[0m     \u001B[0mkwargs\u001B[0m\u001B[1;33m.\u001B[0m\u001B[0msetdefault\u001B[0m\u001B[1;33m(\u001B[0m\u001B[1;34m'allow_redirects'\u001B[0m\u001B[1;33m,\u001B[0m \u001B[1;32mTrue\u001B[0m\u001B[1;33m)\u001B[0m\u001B[1;33m\u001B[0m\u001B[1;33m\u001B[0m\u001B[0m\n\u001B[1;32m---> 76\u001B[1;33m     \u001B[1;32mreturn\u001B[0m \u001B[0mrequest\u001B[0m\u001B[1;33m(\u001B[0m\u001B[1;34m'get'\u001B[0m\u001B[1;33m,\u001B[0m \u001B[0murl\u001B[0m\u001B[1;33m,\u001B[0m \u001B[0mparams\u001B[0m\u001B[1;33m=\u001B[0m\u001B[0mparams\u001B[0m\u001B[1;33m,\u001B[0m \u001B[1;33m**\u001B[0m\u001B[0mkwargs\u001B[0m\u001B[1;33m)\u001B[0m\u001B[1;33m\u001B[0m\u001B[1;33m\u001B[0m\u001B[0m\n\u001B[0m\u001B[0;32m     77\u001B[0m \u001B[1;33m\u001B[0m\u001B[0m\n\u001B[0;32m     78\u001B[0m \u001B[1;33m\u001B[0m\u001B[0m\n",
      "\u001B[1;32mc:\\users\\jaume\\documents\\python projects\\waiver_wire_machine\\venv\\lib\\site-packages\\requests\\api.py\u001B[0m in \u001B[0;36mrequest\u001B[1;34m(method, url, **kwargs)\u001B[0m\n\u001B[0;32m     59\u001B[0m     \u001B[1;31m# cases, and look like a memory leak in others.\u001B[0m\u001B[1;33m\u001B[0m\u001B[1;33m\u001B[0m\u001B[1;33m\u001B[0m\u001B[0m\n\u001B[0;32m     60\u001B[0m     \u001B[1;32mwith\u001B[0m \u001B[0msessions\u001B[0m\u001B[1;33m.\u001B[0m\u001B[0mSession\u001B[0m\u001B[1;33m(\u001B[0m\u001B[1;33m)\u001B[0m \u001B[1;32mas\u001B[0m \u001B[0msession\u001B[0m\u001B[1;33m:\u001B[0m\u001B[1;33m\u001B[0m\u001B[1;33m\u001B[0m\u001B[0m\n\u001B[1;32m---> 61\u001B[1;33m         \u001B[1;32mreturn\u001B[0m \u001B[0msession\u001B[0m\u001B[1;33m.\u001B[0m\u001B[0mrequest\u001B[0m\u001B[1;33m(\u001B[0m\u001B[0mmethod\u001B[0m\u001B[1;33m=\u001B[0m\u001B[0mmethod\u001B[0m\u001B[1;33m,\u001B[0m \u001B[0murl\u001B[0m\u001B[1;33m=\u001B[0m\u001B[0murl\u001B[0m\u001B[1;33m,\u001B[0m \u001B[1;33m**\u001B[0m\u001B[0mkwargs\u001B[0m\u001B[1;33m)\u001B[0m\u001B[1;33m\u001B[0m\u001B[1;33m\u001B[0m\u001B[0m\n\u001B[0m\u001B[0;32m     62\u001B[0m \u001B[1;33m\u001B[0m\u001B[0m\n\u001B[0;32m     63\u001B[0m \u001B[1;33m\u001B[0m\u001B[0m\n",
      "\u001B[1;32mc:\\users\\jaume\\documents\\python projects\\waiver_wire_machine\\venv\\lib\\site-packages\\requests\\sessions.py\u001B[0m in \u001B[0;36mrequest\u001B[1;34m(self, method, url, params, data, headers, cookies, files, auth, timeout, allow_redirects, proxies, hooks, stream, verify, cert, json)\u001B[0m\n\u001B[0;32m    540\u001B[0m         }\n\u001B[0;32m    541\u001B[0m         \u001B[0msend_kwargs\u001B[0m\u001B[1;33m.\u001B[0m\u001B[0mupdate\u001B[0m\u001B[1;33m(\u001B[0m\u001B[0msettings\u001B[0m\u001B[1;33m)\u001B[0m\u001B[1;33m\u001B[0m\u001B[1;33m\u001B[0m\u001B[0m\n\u001B[1;32m--> 542\u001B[1;33m         \u001B[0mresp\u001B[0m \u001B[1;33m=\u001B[0m \u001B[0mself\u001B[0m\u001B[1;33m.\u001B[0m\u001B[0msend\u001B[0m\u001B[1;33m(\u001B[0m\u001B[0mprep\u001B[0m\u001B[1;33m,\u001B[0m \u001B[1;33m**\u001B[0m\u001B[0msend_kwargs\u001B[0m\u001B[1;33m)\u001B[0m\u001B[1;33m\u001B[0m\u001B[1;33m\u001B[0m\u001B[0m\n\u001B[0m\u001B[0;32m    543\u001B[0m \u001B[1;33m\u001B[0m\u001B[0m\n\u001B[0;32m    544\u001B[0m         \u001B[1;32mreturn\u001B[0m \u001B[0mresp\u001B[0m\u001B[1;33m\u001B[0m\u001B[1;33m\u001B[0m\u001B[0m\n",
      "\u001B[1;32mc:\\users\\jaume\\documents\\python projects\\waiver_wire_machine\\venv\\lib\\site-packages\\requests\\sessions.py\u001B[0m in \u001B[0;36msend\u001B[1;34m(self, request, **kwargs)\u001B[0m\n\u001B[0;32m    653\u001B[0m \u001B[1;33m\u001B[0m\u001B[0m\n\u001B[0;32m    654\u001B[0m         \u001B[1;31m# Send the request\u001B[0m\u001B[1;33m\u001B[0m\u001B[1;33m\u001B[0m\u001B[1;33m\u001B[0m\u001B[0m\n\u001B[1;32m--> 655\u001B[1;33m         \u001B[0mr\u001B[0m \u001B[1;33m=\u001B[0m \u001B[0madapter\u001B[0m\u001B[1;33m.\u001B[0m\u001B[0msend\u001B[0m\u001B[1;33m(\u001B[0m\u001B[0mrequest\u001B[0m\u001B[1;33m,\u001B[0m \u001B[1;33m**\u001B[0m\u001B[0mkwargs\u001B[0m\u001B[1;33m)\u001B[0m\u001B[1;33m\u001B[0m\u001B[1;33m\u001B[0m\u001B[0m\n\u001B[0m\u001B[0;32m    656\u001B[0m \u001B[1;33m\u001B[0m\u001B[0m\n\u001B[0;32m    657\u001B[0m         \u001B[1;31m# Total elapsed time of the request (approximately)\u001B[0m\u001B[1;33m\u001B[0m\u001B[1;33m\u001B[0m\u001B[1;33m\u001B[0m\u001B[0m\n",
      "\u001B[1;32mc:\\users\\jaume\\documents\\python projects\\waiver_wire_machine\\venv\\lib\\site-packages\\requests\\adapters.py\u001B[0m in \u001B[0;36msend\u001B[1;34m(self, request, stream, timeout, verify, cert, proxies)\u001B[0m\n\u001B[0;32m    527\u001B[0m                 \u001B[1;32mraise\u001B[0m \u001B[0mSSLError\u001B[0m\u001B[1;33m(\u001B[0m\u001B[0me\u001B[0m\u001B[1;33m,\u001B[0m \u001B[0mrequest\u001B[0m\u001B[1;33m=\u001B[0m\u001B[0mrequest\u001B[0m\u001B[1;33m)\u001B[0m\u001B[1;33m\u001B[0m\u001B[1;33m\u001B[0m\u001B[0m\n\u001B[0;32m    528\u001B[0m             \u001B[1;32melif\u001B[0m \u001B[0misinstance\u001B[0m\u001B[1;33m(\u001B[0m\u001B[0me\u001B[0m\u001B[1;33m,\u001B[0m \u001B[0mReadTimeoutError\u001B[0m\u001B[1;33m)\u001B[0m\u001B[1;33m:\u001B[0m\u001B[1;33m\u001B[0m\u001B[1;33m\u001B[0m\u001B[0m\n\u001B[1;32m--> 529\u001B[1;33m                 \u001B[1;32mraise\u001B[0m \u001B[0mReadTimeout\u001B[0m\u001B[1;33m(\u001B[0m\u001B[0me\u001B[0m\u001B[1;33m,\u001B[0m \u001B[0mrequest\u001B[0m\u001B[1;33m=\u001B[0m\u001B[0mrequest\u001B[0m\u001B[1;33m)\u001B[0m\u001B[1;33m\u001B[0m\u001B[1;33m\u001B[0m\u001B[0m\n\u001B[0m\u001B[0;32m    530\u001B[0m             \u001B[1;32melse\u001B[0m\u001B[1;33m:\u001B[0m\u001B[1;33m\u001B[0m\u001B[1;33m\u001B[0m\u001B[0m\n\u001B[0;32m    531\u001B[0m                 \u001B[1;32mraise\u001B[0m\u001B[1;33m\u001B[0m\u001B[1;33m\u001B[0m\u001B[0m\n",
      "\u001B[1;31mReadTimeout\u001B[0m: HTTPSConnectionPool(host='stats.nba.com', port=443): Read timed out. (read timeout=30)"
     ]
    }
   ],
   "source": [
    "yahoo_name_to_nba_name(\"Robert Williams\")\n"
   ],
   "metadata": {
    "collapsed": false,
    "pycharm": {
     "name": "#%%\n"
    }
   }
  },
  {
   "cell_type": "code",
   "execution_count": null,
   "outputs": [],
   "source": [],
   "metadata": {
    "collapsed": false,
    "pycharm": {
     "name": "#%%\n"
    }
   }
  }
 ],
 "metadata": {
  "kernelspec": {
   "display_name": "Python 3",
   "language": "python",
   "name": "python3"
  },
  "language_info": {
   "codemirror_mode": {
    "name": "ipython",
    "version": 2
   },
   "file_extension": ".py",
   "mimetype": "text/x-python",
   "name": "python",
   "nbconvert_exporter": "python",
   "pygments_lexer": "ipython2",
   "version": "2.7.6"
  }
 },
 "nbformat": 4,
 "nbformat_minor": 0
}