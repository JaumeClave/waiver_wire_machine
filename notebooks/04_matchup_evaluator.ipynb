{
 "cells": [
  {
   "cell_type": "markdown",
   "metadata": {
    "collapsed": true,
    "pycharm": {
     "name": "#%% md\n"
    }
   },
   "source": [
    "# Matchup Evaluator\n",
    "This notebook is used to create code and logic that will help analyse an upcoming h2h Yahoo\n",
    "Fantasy matchup"
   ]
  },
  {
   "cell_type": "code",
   "execution_count": 1,
   "outputs": [],
   "source": [
    "from src.data import all_functions as af\n",
    "import pandas as pd"
   ],
   "metadata": {
    "collapsed": false,
    "pycharm": {
     "name": "#%%\n"
    }
   }
  },
  {
   "cell_type": "code",
   "execution_count": 7,
   "outputs": [
    {
     "name": "stderr",
     "output_type": "stream",
     "text": [
      "[2021-02-04 20:02:17,414 DEBUG] [yahoo_oauth.oauth.__init__] Checking \n",
      "[2021-02-04 20:02:17,416 DEBUG] [yahoo_oauth.oauth.token_is_valid] ELAPSED TIME : 609.3742136955261\n",
      "[2021-02-04 20:02:17,417 DEBUG] [yahoo_oauth.oauth.token_is_valid] TOKEN IS STILL VALID\n"
     ]
    }
   ],
   "source": [
    "# Authenticate\n",
    "sc = af.yahoo_fantasy_api_authentication()\n",
    "league = af.yahoo_fantasy_league(sc)"
   ],
   "metadata": {
    "collapsed": false,
    "pycharm": {
     "name": "#%%\n"
    }
   }
  },
  {
   "cell_type": "code",
   "execution_count": 8,
   "outputs": [],
   "source": [
    "# Nunn 9Cat averages\n",
    "nunn_of_yall_betta_team = af.team_9cat_average_stats(af.NUNN_OF_YALL_BETTA, league)"
   ],
   "metadata": {
    "collapsed": false,
    "pycharm": {
     "name": "#%%\n"
    }
   }
  },
  {
   "cell_type": "code",
   "execution_count": 9,
   "outputs": [
    {
     "data": {
      "text/plain": "                   PLAYER FG_PCT FT_PCT  FG3M    PTS   REB   AST   STL   BLK  \\\nmean  Nunn of Y'all Betta  0.462  0.817  1.95  15.17  4.99  3.68  0.99  0.37   \n\n       TOV  \nmean  1.67  ",
      "text/html": "<div>\n<style scoped>\n    .dataframe tbody tr th:only-of-type {\n        vertical-align: middle;\n    }\n\n    .dataframe tbody tr th {\n        vertical-align: top;\n    }\n\n    .dataframe thead th {\n        text-align: right;\n    }\n</style>\n<table border=\"1\" class=\"dataframe\">\n  <thead>\n    <tr style=\"text-align: right;\">\n      <th></th>\n      <th>PLAYER</th>\n      <th>FG_PCT</th>\n      <th>FT_PCT</th>\n      <th>FG3M</th>\n      <th>PTS</th>\n      <th>REB</th>\n      <th>AST</th>\n      <th>STL</th>\n      <th>BLK</th>\n      <th>TOV</th>\n    </tr>\n  </thead>\n  <tbody>\n    <tr>\n      <th>mean</th>\n      <td>Nunn of Y'all Betta</td>\n      <td>0.462</td>\n      <td>0.817</td>\n      <td>1.95</td>\n      <td>15.17</td>\n      <td>4.99</td>\n      <td>3.68</td>\n      <td>0.99</td>\n      <td>0.37</td>\n      <td>1.67</td>\n    </tr>\n  </tbody>\n</table>\n</div>"
     },
     "execution_count": 9,
     "metadata": {},
     "output_type": "execute_result"
    }
   ],
   "source": [
    "nunn_of_yall_betta_team = nunn_of_yall_betta_team.loc[\"mean\"]\n",
    "nunn_of_yall_betta_team[\"PLAYER\"] = af.NUNN_OF_YALL_BETTA[\"name\"]\n",
    "nunn_of_yall_betta_team = pd.DataFrame(nunn_of_yall_betta_team).T\n",
    "nunn_of_yall_betta_team"
   ],
   "metadata": {
    "collapsed": false,
    "pycharm": {
     "name": "#%%\n"
    }
   }
  },
  {
   "cell_type": "code",
   "execution_count": 11,
   "outputs": [],
   "source": [
    "# Crabbe 9Cat averages\n",
    "crabbeherbythepussy_team = af.team_9cat_average_stats(af.CRABBEHERBYTHEPUSSY, league)"
   ],
   "metadata": {
    "collapsed": false,
    "pycharm": {
     "name": "#%%\n"
    }
   }
  },
  {
   "cell_type": "code",
   "execution_count": 12,
   "outputs": [
    {
     "data": {
      "text/plain": "                   PLAYER FG_PCT FT_PCT  FG3M    PTS   REB   AST   STL   BLK  \\\nmean  CrabbeHerByThePussy  0.486  0.817  1.52  14.22  6.17  3.02  0.88  0.92   \n\n       TOV  \nmean  1.63  ",
      "text/html": "<div>\n<style scoped>\n    .dataframe tbody tr th:only-of-type {\n        vertical-align: middle;\n    }\n\n    .dataframe tbody tr th {\n        vertical-align: top;\n    }\n\n    .dataframe thead th {\n        text-align: right;\n    }\n</style>\n<table border=\"1\" class=\"dataframe\">\n  <thead>\n    <tr style=\"text-align: right;\">\n      <th></th>\n      <th>PLAYER</th>\n      <th>FG_PCT</th>\n      <th>FT_PCT</th>\n      <th>FG3M</th>\n      <th>PTS</th>\n      <th>REB</th>\n      <th>AST</th>\n      <th>STL</th>\n      <th>BLK</th>\n      <th>TOV</th>\n    </tr>\n  </thead>\n  <tbody>\n    <tr>\n      <th>mean</th>\n      <td>CrabbeHerByThePussy</td>\n      <td>0.486</td>\n      <td>0.817</td>\n      <td>1.52</td>\n      <td>14.22</td>\n      <td>6.17</td>\n      <td>3.02</td>\n      <td>0.88</td>\n      <td>0.92</td>\n      <td>1.63</td>\n    </tr>\n  </tbody>\n</table>\n</div>"
     },
     "execution_count": 12,
     "metadata": {},
     "output_type": "execute_result"
    }
   ],
   "source": [
    "crabbeherbythepussy_team = crabbeherbythepussy_team.loc[\"mean\"]\n",
    "crabbeherbythepussy_team[\"PLAYER\"] = af.CRABBEHERBYTHEPUSSY[\"name\"]\n",
    "crabbeherbythepussy_team = pd.DataFrame(crabbeherbythepussy_team).T\n",
    "crabbeherbythepussy_team"
   ],
   "metadata": {
    "collapsed": false,
    "pycharm": {
     "name": "#%%\n"
    }
   }
  },
  {
   "cell_type": "code",
   "execution_count": 18,
   "outputs": [],
   "source": [
    "# Drop PLAYER\n",
    "nunn_of_yall_betta_team.drop(\"PLAYER\", inplace=True, axis=1)\n",
    "crabbeherbythepussy_team.drop(\"PLAYER\", inplace=True, axis=1)"
   ],
   "metadata": {
    "collapsed": false,
    "pycharm": {
     "name": "#%%\n"
    }
   }
  },
  {
   "cell_type": "code",
   "execution_count": 21,
   "outputs": [],
   "source": [
    "# Function to convert dataframe columns to dtype floats\n",
    "def columns_to_dtype_float(dataframe):\n",
    "    \"\"\"\n",
    "    Converts dataframe columns to dtype float.\n",
    "    param dataframe (pandas dataframe): dataframe to change column types\n",
    "    returns dataframe (pandas dataframe): dataframe with changed column types\n",
    "    \"\"\"\n",
    "    for column in dataframe.columns:\n",
    "        dataframe[column] = dataframe[column].astype(float)\n",
    "    return dataframe"
   ],
   "metadata": {
    "collapsed": false,
    "pycharm": {
     "name": "#%%\n"
    }
   }
  },
  {
   "cell_type": "code",
   "execution_count": 22,
   "outputs": [],
   "source": [
    "nunn_of_yall_betta_team = columns_to_dtype_float(nunn_of_yall_betta_team)\n",
    "crabbeherbythepussy_team = columns_to_dtype_float(crabbeherbythepussy_team)"
   ],
   "metadata": {
    "collapsed": false,
    "pycharm": {
     "name": "#%%\n"
    }
   }
  },
  {
   "cell_type": "code",
   "execution_count": 25,
   "outputs": [
    {
     "data": {
      "text/plain": "      FG_PCT  FT_PCT  FG3M   PTS   REB   AST   STL   BLK   TOV\nmean  -0.024     0.0  0.43  0.95 -1.18  0.66  0.11 -0.55  0.04",
      "text/html": "<div>\n<style scoped>\n    .dataframe tbody tr th:only-of-type {\n        vertical-align: middle;\n    }\n\n    .dataframe tbody tr th {\n        vertical-align: top;\n    }\n\n    .dataframe thead th {\n        text-align: right;\n    }\n</style>\n<table border=\"1\" class=\"dataframe\">\n  <thead>\n    <tr style=\"text-align: right;\">\n      <th></th>\n      <th>FG_PCT</th>\n      <th>FT_PCT</th>\n      <th>FG3M</th>\n      <th>PTS</th>\n      <th>REB</th>\n      <th>AST</th>\n      <th>STL</th>\n      <th>BLK</th>\n      <th>TOV</th>\n    </tr>\n  </thead>\n  <tbody>\n    <tr>\n      <th>mean</th>\n      <td>-0.024</td>\n      <td>0.0</td>\n      <td>0.43</td>\n      <td>0.95</td>\n      <td>-1.18</td>\n      <td>0.66</td>\n      <td>0.11</td>\n      <td>-0.55</td>\n      <td>0.04</td>\n    </tr>\n  </tbody>\n</table>\n</div>"
     },
     "execution_count": 25,
     "metadata": {},
     "output_type": "execute_result"
    }
   ],
   "source": [
    "matchup_difference = nunn_of_yall_betta_team.sub(crabbeherbythepussy_team)\n",
    "matchup_difference"
   ],
   "metadata": {
    "collapsed": false,
    "pycharm": {
     "name": "#%%\n"
    }
   }
  },
  {
   "cell_type": "code",
   "execution_count": 20,
   "outputs": [
    {
     "name": "stdout",
     "output_type": "stream",
     "text": [
      "<class 'pandas.core.frame.DataFrame'>\n",
      "Index: 1 entries, mean to mean\n",
      "Data columns (total 9 columns):\n",
      " #   Column  Non-Null Count  Dtype \n",
      "---  ------  --------------  ----- \n",
      " 0   FG_PCT  1 non-null      object\n",
      " 1   FT_PCT  1 non-null      object\n",
      " 2   FG3M    1 non-null      object\n",
      " 3   PTS     1 non-null      object\n",
      " 4   REB     1 non-null      object\n",
      " 5   AST     1 non-null      object\n",
      " 6   STL     1 non-null      object\n",
      " 7   BLK     1 non-null      object\n",
      " 8   TOV     1 non-null      object\n",
      "dtypes: object(9)\n",
      "memory usage: 80.0+ bytes\n"
     ]
    }
   ],
   "source": [
    "def naive_win_projection(dataframe):\n",
    "    \"\"\"\n",
    "\n",
    "    \"\"\"\n",
    "    sum_of_9cat_differences = matchup_difference.sum(axis=1)"
   ],
   "metadata": {
    "collapsed": false,
    "pycharm": {
     "name": "#%%\n"
    }
   }
  },
  {
   "cell_type": "code",
   "execution_count": 30,
   "outputs": [
    {
     "data": {
      "text/plain": "mean    0.436\ndtype: float64"
     },
     "execution_count": 30,
     "metadata": {},
     "output_type": "execute_result"
    }
   ],
   "source": [
    "matchup_difference.sum(axis=1)"
   ],
   "metadata": {
    "collapsed": false,
    "pycharm": {
     "name": "#%%\n"
    }
   }
  },
  {
   "cell_type": "code",
   "execution_count": null,
   "outputs": [],
   "source": [
    "COLUMN_9CAT_DECIMAL_FORMAT = {af.FIELD_GOAL_PERCENTAGE_COLUMN : af.p9ca.THREE_DECIMAL_FORMAT,\n",
    "     af.FREE_THROW_PERCENTAGE_COLUMN : af.p9ca.THREE_DECIMAL_FORMAT,\n",
    "     af.THREES_MADE_COLUMN : af.p9ca.TWO_DECIMAL_FORMAT,\n",
    "     af.POINTS_COLUMN : af.p9ca.TWO_DECIMAL_FORMAT,\n",
    "     af.REBOUNDS_COLUMN : af.p9ca.TWO_DECIMAL_FORMAT,\n",
    "     af.ASSITS_COLUMN : af.p9ca.TWO_DECIMAL_FORMAT, af.STEALS_COLUMN : af.p9ca.TWO_DECIMAL_FORMAT,\n",
    "     af.BLOCKS_COLUMN : af.p9ca.TWO_DECIMAL_FORMAT, af.TURNOVERS_COLUMN : af.p9ca.TWO_DECIMAL_FORMAT}\n",
    "\n",
    "def applymap_color_and_format(dataframe):\n",
    "    \"\"\"\n",
    "\n",
    "    \"\"\"\n",
    "    fromated_matchup_difference = matchup_difference.style.applymap(\n",
    "        af.color_negative_red, subset=pd.IndexSlice[:,[af.FIELD_GOAL_PERCENTAGE_COLUMN,\n",
    "                                                       af.FREE_THROW_PERCENTAGE_COLUMN,\n",
    "                                                       af.THREES_MADE_COLUMN, af.POINTS_COLUMN,\n",
    "                                                       af.REBOUNDS_COLUMN, af.ASSITS_COLUMN,\n",
    "                                                       af.STEALS_COLUMN, af.BLOCKS_COLUMN\n",
    "                                                       ]]).applymap(\n",
    "        af.color_negative_red_tov, subset=pd.IndexSlice[:,[af.TURNOVERS_COLUMN]]).format(COLUMN_9CAT_DECIMAL_FORMAT)\n",
    "    return fromated_matchup_difference"
   ],
   "metadata": {
    "collapsed": false,
    "pycharm": {
     "name": "#%%\n"
    }
   }
  },
  {
   "cell_type": "code",
   "execution_count": 37,
   "outputs": [],
   "source": [],
   "metadata": {
    "collapsed": false,
    "pycharm": {
     "name": "#%%\n"
    }
   }
  },
  {
   "cell_type": "code",
   "execution_count": 38,
   "outputs": [
    {
     "data": {
      "text/plain": "<pandas.io.formats.style.Styler at 0x17774ab3340>",
      "text/html": "<style  type=\"text/css\" >\n#T_07495_row0_col0,#T_07495_row0_col4,#T_07495_row0_col7,#T_07495_row0_col8{\n            color:  #EC7063;\n        }#T_07495_row0_col1{\n            color:  #000000;\n        }#T_07495_row0_col2,#T_07495_row0_col3,#T_07495_row0_col5,#T_07495_row0_col6{\n            color:  #52BE80;\n        }</style><table id=\"T_07495_\" ><thead>    <tr>        <th class=\"blank level0\" ></th>        <th class=\"col_heading level0 col0\" >FG_PCT</th>        <th class=\"col_heading level0 col1\" >FT_PCT</th>        <th class=\"col_heading level0 col2\" >FG3M</th>        <th class=\"col_heading level0 col3\" >PTS</th>        <th class=\"col_heading level0 col4\" >REB</th>        <th class=\"col_heading level0 col5\" >AST</th>        <th class=\"col_heading level0 col6\" >STL</th>        <th class=\"col_heading level0 col7\" >BLK</th>        <th class=\"col_heading level0 col8\" >TOV</th>    </tr></thead><tbody>\n                <tr>\n                        <th id=\"T_07495_level0_row0\" class=\"row_heading level0 row0\" >mean</th>\n                        <td id=\"T_07495_row0_col0\" class=\"data row0 col0\" >-0.024</td>\n                        <td id=\"T_07495_row0_col1\" class=\"data row0 col1\" >0.000</td>\n                        <td id=\"T_07495_row0_col2\" class=\"data row0 col2\" >0.43</td>\n                        <td id=\"T_07495_row0_col3\" class=\"data row0 col3\" >0.95</td>\n                        <td id=\"T_07495_row0_col4\" class=\"data row0 col4\" >-1.18</td>\n                        <td id=\"T_07495_row0_col5\" class=\"data row0 col5\" >0.66</td>\n                        <td id=\"T_07495_row0_col6\" class=\"data row0 col6\" >0.11</td>\n                        <td id=\"T_07495_row0_col7\" class=\"data row0 col7\" >-0.55</td>\n                        <td id=\"T_07495_row0_col8\" class=\"data row0 col8\" >0.04</td>\n            </tr>\n    </tbody></table>"
     },
     "execution_count": 38,
     "metadata": {},
     "output_type": "execute_result"
    }
   ],
   "source": [
    "matchup_difference.style.applymap(\n",
    "    af.color_negative_red, subset=pd.IndexSlice[:,[\"FG_PCT\", \"FT_PCT\", \"FG3M\", \"PTS\", \"REB\", \"AST\",\n",
    "                                                \"STL\", \"BLK\"]]).applymap(\n",
    "    af.color_negative_red_tov, subset=pd.IndexSlice[:,[\"TOV\"]]).format(a)"
   ],
   "metadata": {
    "collapsed": false,
    "pycharm": {
     "name": "#%%\n"
    }
   }
  },
  {
   "cell_type": "code",
   "execution_count": 66,
   "outputs": [],
   "source": [
    "PLAYER_COLUMN = \"PLAYER\"\n",
    "MEAN_ROW = \"mean\"\n",
    "NAME_KEY = \"name\"\n",
    "COLUMN_9CAT_DECIMAL_FORMAT = {af.FIELD_GOAL_PERCENTAGE_COLUMN : af.p9ca.THREE_DECIMAL_FORMAT,\n",
    "     af.FREE_THROW_PERCENTAGE_COLUMN : af.p9ca.THREE_DECIMAL_FORMAT,\n",
    "     af.THREES_MADE_COLUMN : af.p9ca.TWO_DECIMAL_FORMAT,\n",
    "     af.POINTS_COLUMN : af.p9ca.TWO_DECIMAL_FORMAT,\n",
    "     af.REBOUNDS_COLUMN : af.p9ca.TWO_DECIMAL_FORMAT,\n",
    "     af.ASSITS_COLUMN : af.p9ca.TWO_DECIMAL_FORMAT, af.STEALS_COLUMN : af.p9ca.TWO_DECIMAL_FORMAT,\n",
    "     af.BLOCKS_COLUMN : af.p9ca.TWO_DECIMAL_FORMAT, af.TURNOVERS_COLUMN : af.p9ca.TWO_DECIMAL_FORMAT}\n",
    "\n",
    "def columns_to_dtype_float(dataframe):\n",
    "    \"\"\"\n",
    "    Converts dataframe columns to dtype float.\n",
    "    param dataframe (pandas dataframe): dataframe to change column types\n",
    "    returns dataframe (pandas dataframe): dataframe with changed column types\n",
    "    \"\"\"\n",
    "    for column in dataframe.columns:\n",
    "        dataframe[column] = dataframe[column].astype(float)\n",
    "    return dataframe\n",
    "\n",
    "def get_and_format_team_9cat(team, league):\n",
    "    \"\"\"\n",
    "    Function first finds the teams 9cat averages by calling the *team_9cat_average_stats*\n",
    "    function. It then filters to find the team mean and cleans and formats this single row\n",
    "    dataframe. It changes the dtype of the columns to be floats.\n",
    "    param team (dictionary): team dictionary\n",
    "    param league (yahoo oauth object): yahoo authentication object\n",
    "    returns team_9cat (dataframe): dataframe of team average 9cats\n",
    "    \"\"\"\n",
    "    team_9cat = af.team_9cat_average_stats(team, league)\n",
    "    team_9cat = team_9cat.loc[MEAN_ROW]\n",
    "    team_9cat[PLAYER_COLUMN] = team[NAME_KEY]\n",
    "    team_9cat = pd.DataFrame(team_9cat).T\n",
    "    team_9cat.drop(PLAYER_COLUMN, inplace=True, axis=1)\n",
    "    team_9cat = columns_to_dtype_float(team_9cat)\n",
    "    return team_9cat\n",
    "\n",
    "def applymap_color_and_format(dataframe):\n",
    "    \"\"\"\n",
    "    Function takes a dataframe containing 9cat stat columns and returns a color coded and decimal\n",
    "    place formatted dataframe for visual ease.\n",
    "    param dataframe (pandas dataframe): dataframe to format\n",
    "    returns dataframe (pandas dataframe): dataframe with formatted and colored values\n",
    "    \"\"\"\n",
    "    colored_matchup_difference = matchup_difference.style.applymap(\n",
    "        af.color_negative_red, subset=pd.IndexSlice[:,[af.FIELD_GOAL_PERCENTAGE_COLUMN,\n",
    "                                                       af.FREE_THROW_PERCENTAGE_COLUMN,\n",
    "                                                       af.THREES_MADE_COLUMN, af.POINTS_COLUMN,\n",
    "                                                       af.REBOUNDS_COLUMN, af.ASSITS_COLUMN,\n",
    "                                                       af.STEALS_COLUMN, af.BLOCKS_COLUMN\n",
    "                                                       ]]).applymap(\n",
    "        af.color_negative_red_tov, subset=pd.IndexSlice[:,[af.TURNOVERS_COLUMN]]).format\\\n",
    "        (COLUMN_9CAT_DECIMAL_FORMAT)\n",
    "    return colored_matchup_difference\n",
    "\n",
    "def compare_h2h_team_9cat(team1, team2):\n",
    "    \"\"\"\n",
    "\n",
    "    \"\"\"\n",
    "    sc = af.yahoo_fantasy_api_authentication()\n",
    "    league = af.yahoo_fantasy_league(sc)\n",
    "    team1_9cat_stats = get_and_format_team_9cat(team1, league)\n",
    "    team2_9cat_stats = get_and_format_team_9cat(team2, league)\n",
    "    matchup_difference = team1_9cat_stats.sub(team2_9cat_stats)\n",
    "    colored_matchup_difference = applymap_color_and_format(matchup_difference)\n",
    "    return matchup_difference, colored_matchup_difference"
   ],
   "metadata": {
    "collapsed": false,
    "pycharm": {
     "name": "#%%\n"
    }
   }
  },
  {
   "cell_type": "code",
   "execution_count": 67,
   "outputs": [
    {
     "name": "stderr",
     "output_type": "stream",
     "text": [
      "[2021-02-04 22:57:09,050 DEBUG] [yahoo_oauth.oauth.__init__] Checking \n",
      "[2021-02-04 22:57:09,055 DEBUG] [yahoo_oauth.oauth.token_is_valid] ELAPSED TIME : 2266.9832198619843\n",
      "[2021-02-04 22:57:09,056 DEBUG] [yahoo_oauth.oauth.token_is_valid] TOKEN IS STILL VALID\n"
     ]
    }
   ],
   "source": [
    "matchup_difference, colored_matchup_difference = compare_h2h_team_9cat(af.NUNN_OF_YALL_BETTA, af\n",
    "                                                                       .CRABBEHERBYTHEPUSSY)"
   ],
   "metadata": {
    "collapsed": false,
    "pycharm": {
     "name": "#%%\n"
    }
   }
  },
  {
   "cell_type": "code",
   "execution_count": 68,
   "outputs": [
    {
     "data": {
      "text/plain": "<pandas.io.formats.style.Styler at 0x17774b04af0>",
      "text/html": "<style  type=\"text/css\" >\n#T_483ec_row0_col0,#T_483ec_row0_col4,#T_483ec_row0_col7,#T_483ec_row0_col8{\n            color:  #EC7063;\n        }#T_483ec_row0_col1{\n            color:  #000000;\n        }#T_483ec_row0_col2,#T_483ec_row0_col3,#T_483ec_row0_col5,#T_483ec_row0_col6{\n            color:  #52BE80;\n        }</style><table id=\"T_483ec_\" ><thead>    <tr>        <th class=\"blank level0\" ></th>        <th class=\"col_heading level0 col0\" >FG_PCT</th>        <th class=\"col_heading level0 col1\" >FT_PCT</th>        <th class=\"col_heading level0 col2\" >FG3M</th>        <th class=\"col_heading level0 col3\" >PTS</th>        <th class=\"col_heading level0 col4\" >REB</th>        <th class=\"col_heading level0 col5\" >AST</th>        <th class=\"col_heading level0 col6\" >STL</th>        <th class=\"col_heading level0 col7\" >BLK</th>        <th class=\"col_heading level0 col8\" >TOV</th>    </tr></thead><tbody>\n                <tr>\n                        <th id=\"T_483ec_level0_row0\" class=\"row_heading level0 row0\" >mean</th>\n                        <td id=\"T_483ec_row0_col0\" class=\"data row0 col0\" >-0.024</td>\n                        <td id=\"T_483ec_row0_col1\" class=\"data row0 col1\" >0.000</td>\n                        <td id=\"T_483ec_row0_col2\" class=\"data row0 col2\" >0.43</td>\n                        <td id=\"T_483ec_row0_col3\" class=\"data row0 col3\" >0.95</td>\n                        <td id=\"T_483ec_row0_col4\" class=\"data row0 col4\" >-1.18</td>\n                        <td id=\"T_483ec_row0_col5\" class=\"data row0 col5\" >0.66</td>\n                        <td id=\"T_483ec_row0_col6\" class=\"data row0 col6\" >0.11</td>\n                        <td id=\"T_483ec_row0_col7\" class=\"data row0 col7\" >-0.55</td>\n                        <td id=\"T_483ec_row0_col8\" class=\"data row0 col8\" >0.04</td>\n            </tr>\n    </tbody></table>"
     },
     "execution_count": 68,
     "metadata": {},
     "output_type": "execute_result"
    }
   ],
   "source": [
    "colored_matchup_difference\n",
    "\n"
   ],
   "metadata": {
    "collapsed": false,
    "pycharm": {
     "name": "#%%\n"
    }
   }
  }
 ],
 "metadata": {
  "kernelspec": {
   "display_name": "Python 3",
   "language": "python",
   "name": "python3"
  },
  "language_info": {
   "codemirror_mode": {
    "name": "ipython",
    "version": 2
   },
   "file_extension": ".py",
   "mimetype": "text/x-python",
   "name": "python",
   "nbconvert_exporter": "python",
   "pygments_lexer": "ipython2",
   "version": "2.7.6"
  }
 },
 "nbformat": 4,
 "nbformat_minor": 0
}