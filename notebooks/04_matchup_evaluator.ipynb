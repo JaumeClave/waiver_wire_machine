{
 "cells": [
  {
   "cell_type": "markdown",
   "source": [
    "# Matchup Evaluator\n",
    "This notebook is used to create code and logic that will help analyse an upcoming h2h Yahoo\n",
    "Fantasy matchup"
   ],
   "metadata": {
    "collapsed": false
   }
  },
  {
   "cell_type": "code",
   "execution_count": null,
   "outputs": [],
   "source": [
    "import pandas as pd\n",
    "df = pd.DataFrame([123.4567, 234.5678, 345.6789, 456.7890],\n",
    "                  index=['foo','bar','baz','quux'],\n",
    "                  columns=['cost'])\n",
    "df['foo'] = df['cost']\n",
    "df['cost'] = df['cost'].map('${:,.2f}'.format)\n",
    "print(df)"
   ],
   "metadata": {
    "collapsed": false,
    "pycharm": {
     "name": "#%%\n"
    }
   }
  },
  {
   "cell_type": "code",
   "execution_count": null,
   "outputs": [],
   "source": [
    "from src.data import all_functions as af\n",
    "import pandas as pd"
   ],
   "metadata": {
    "collapsed": false,
    "pycharm": {
     "name": "#%%\n"
    }
   }
  },
  {
   "cell_type": "code",
   "execution_count": null,
   "outputs": [],
   "source": [
    "# Authenticate\n",
    "sc = af.yahoo_fantasy_api_authentication()\n",
    "league = af.yahoo_fantasy_league(sc)"
   ],
   "metadata": {
    "collapsed": false,
    "pycharm": {
     "name": "#%%\n"
    }
   }
  },
  {
   "cell_type": "code",
   "execution_count": null,
   "outputs": [],
   "source": [
    "# Nunn 9Cat averages\n",
    "nunn_of_yall_betta_team = af.team_9cat_average_stats(af.NUNN_OF_YALL_BETTA, league)"
   ],
   "metadata": {
    "collapsed": false,
    "pycharm": {
     "name": "#%%\n"
    }
   }
  },
  {
   "cell_type": "code",
   "execution_count": null,
   "outputs": [],
   "source": [
    "nunn_of_yall_betta_team = nunn_of_yall_betta_team.loc[\"mean\"]\n",
    "nunn_of_yall_betta_team[\"PLAYER\"] = af.NUNN_OF_YALL_BETTA[\"name\"]\n",
    "nunn_of_yall_betta_team = pd.DataFrame(nunn_of_yall_betta_team).T\n",
    "nunn_of_yall_betta_team"
   ],
   "metadata": {
    "collapsed": false,
    "pycharm": {
     "name": "#%%\n"
    }
   }
  },
  {
   "cell_type": "code",
   "execution_count": null,
   "outputs": [],
   "source": [
    "# Crabbe 9Cat averages\n",
    "magics_johnson_team = af.team_9cat_average_stats(af.MAGICS_JOHNSON, league)"
   ],
   "metadata": {
    "collapsed": false,
    "pycharm": {
     "name": "#%%\n"
    }
   }
  },
  {
   "cell_type": "code",
   "execution_count": null,
   "outputs": [],
   "source": [
    "magics_johnson_team = magics_johnson_team.loc[\"mean\"]\n",
    "magics_johnson_team[\"PLAYER\"] = af.MAGICS_JOHNSON[\"name\"]\n",
    "magics_johnson_team = pd.DataFrame(magics_johnson_team).T\n",
    "magics_johnson_team"
   ],
   "metadata": {
    "collapsed": false,
    "pycharm": {
     "name": "#%%\n"
    }
   }
  },
  {
   "cell_type": "code",
   "execution_count": null,
   "outputs": [],
   "source": [
    "# Drop PLAYER\n",
    "nunn_of_yall_betta_team.drop(\"PLAYER\", inplace=True, axis=1)\n",
    "magics_johnson_team.drop(\"PLAYER\", inplace=True, axis=1)"
   ],
   "metadata": {
    "collapsed": false,
    "pycharm": {
     "name": "#%%\n"
    }
   }
  },
  {
   "cell_type": "code",
   "execution_count": null,
   "outputs": [],
   "source": [
    "def columns_to_dtype_float(dataframe):\n",
    "    \"\"\"\n",
    "    Converts dataframe columns to dtype float.\n",
    "    param dataframe (pandas dataframe): dataframe to change column types\n",
    "    returns dataframe (pandas dataframe): dataframe with changed column types\n",
    "    \"\"\"\n",
    "    for column in dataframe.columns:\n",
    "        try:\n",
    "            dataframe[column] = dataframe[column].astype(float)\n",
    "        except ValueError:\n",
    "            pass\n",
    "    return dataframe"
   ],
   "metadata": {
    "collapsed": false,
    "pycharm": {
     "name": "#%%\n"
    }
   }
  },
  {
   "cell_type": "code",
   "execution_count": null,
   "outputs": [],
   "source": [
    "nunn_of_yall_betta_team = columns_to_dtype_float(nunn_of_yall_betta_team)\n",
    "magics_johnson_team = columns_to_dtype_float(magics_johnson_team)"
   ],
   "metadata": {
    "collapsed": false,
    "pycharm": {
     "name": "#%%\n"
    }
   }
  },
  {
   "cell_type": "code",
   "execution_count": null,
   "outputs": [],
   "source": [
    "# Difference\n",
    "matchup_difference = nunn_of_yall_betta_team.sub(magics_johnson_team)\n",
    "matchup_difference\n"
   ],
   "metadata": {
    "collapsed": false,
    "pycharm": {
     "name": "#%%\n"
    }
   }
  },
  {
   "cell_type": "code",
   "execution_count": null,
   "outputs": [],
   "source": [
    "matchup_difference.sum(axis=1)"
   ],
   "metadata": {
    "collapsed": false,
    "pycharm": {
     "name": "#%%\n"
    }
   }
  },
  {
   "cell_type": "code",
   "execution_count": null,
   "outputs": [],
   "source": [
    "COLUMN_9CAT_DECIMAL_FORMAT = {af.FIELD_GOAL_PERCENTAGE_COLUMN : af.THREE_DECIMAL_FORMAT,\n",
    "     af.FREE_THROW_PERCENTAGE_COLUMN : af.THREE_DECIMAL_FORMAT,\n",
    "     af.THREES_MADE_COLUMN : af.TWO_DECIMAL_FORMAT,\n",
    "     af.POINTS_COLUMN : af.TWO_DECIMAL_FORMAT,\n",
    "     af.REBOUNDS_COLUMN : af.TWO_DECIMAL_FORMAT,\n",
    "     af.ASSITS_COLUMN : af.TWO_DECIMAL_FORMAT, af.STEALS_COLUMN : af.TWO_DECIMAL_FORMAT,\n",
    "     af.BLOCKS_COLUMN : af.TWO_DECIMAL_FORMAT, af.TURNOVERS_COLUMN : af.TWO_DECIMAL_FORMAT}\n",
    "\n",
    "def applymap_color_and_format(dataframe):\n",
    "    \"\"\"\n",
    "\n",
    "    \"\"\"\n",
    "    fromated_matchup_difference = matchup_difference.style.applymap(\n",
    "        af.color_negative_red, subset=pd.IndexSlice[:,[af.FIELD_GOAL_PERCENTAGE_COLUMN,\n",
    "                                                       af.FREE_THROW_PERCENTAGE_COLUMN,\n",
    "                                                       af.THREES_MADE_COLUMN, af.POINTS_COLUMN,\n",
    "                                                       af.REBOUNDS_COLUMN, af.ASSITS_COLUMN,\n",
    "                                                       af.STEALS_COLUMN, af.BLOCKS_COLUMN\n",
    "                                                       ]]).applymap(\n",
    "        af.color_negative_red_tov, subset=pd.IndexSlice[:,[af.TURNOVERS_COLUMN]]).format(COLUMN_9CAT_DECIMAL_FORMAT)\n",
    "    return fromated_matchup_difference"
   ],
   "metadata": {
    "collapsed": false,
    "pycharm": {
     "name": "#%%\n"
    }
   }
  },
  {
   "cell_type": "code",
   "execution_count": null,
   "outputs": [],
   "source": [
    "matchup_difference.style.applymap(\n",
    "    af.color_negative_red, subset=pd.IndexSlice[:,[\"FG_PCT\", \"FT_PCT\", \"FG3M\", \"PTS\", \"REB\", \"AST\",\n",
    "                                                \"STL\", \"BLK\"]]).applymap(\n",
    "    af.color_negative_red_tov, subset=pd.IndexSlice[:,[\"TOV\"]]).format(COLUMN_9CAT_DECIMAL_FORMAT)"
   ],
   "metadata": {
    "collapsed": false,
    "pycharm": {
     "name": "#%%\n"
    }
   }
  },
  {
   "cell_type": "code",
   "execution_count": null,
   "outputs": [],
   "source": [
    "PLAYER_COLUMN = \"PLAYER\"\n",
    "MEAN_ROW = \"mean\"\n",
    "NAME_KEY = \"name\"\n",
    "COLUMN_9CAT_DECIMAL_FORMAT = {af.FIELD_GOAL_PERCENTAGE_COLUMN : af.THREE_DECIMAL_FORMAT,\n",
    "     af.FREE_THROW_PERCENTAGE_COLUMN : af.THREE_DECIMAL_FORMAT,\n",
    "     af.THREES_MADE_COLUMN : af.TWO_DECIMAL_FORMAT,\n",
    "     af.POINTS_COLUMN : af.TWO_DECIMAL_FORMAT,\n",
    "     af.REBOUNDS_COLUMN : af.TWO_DECIMAL_FORMAT,\n",
    "     af.ASSITS_COLUMN : af.TWO_DECIMAL_FORMAT, af.STEALS_COLUMN : af.TWO_DECIMAL_FORMAT,\n",
    "     af.BLOCKS_COLUMN : af.TWO_DECIMAL_FORMAT, af.TURNOVERS_COLUMN : af.TWO_DECIMAL_FORMAT}\n",
    "\n",
    "def columns_to_dtype_float(dataframe):\n",
    "    \"\"\"\n",
    "    Converts dataframe columns to dtype float.\n",
    "    param dataframe (pandas dataframe): dataframe to change column types\n",
    "    returns dataframe (pandas dataframe): dataframe with changed column types\n",
    "    \"\"\"\n",
    "    for column in dataframe.columns:\n",
    "        try:\n",
    "            dataframe[column] = dataframe[column].astype(float)\n",
    "        except ValueError:\n",
    "            pass\n",
    "    return dataframe\n",
    "\n",
    "def get_and_format_team_9cat(team_dict, league):\n",
    "    \"\"\"\n",
    "    Function first finds the teams 9cat averages by calling the *team_9cat_average_stats*\n",
    "    function. It then filters to find the team mean and cleans and formats this single row\n",
    "    dataframe. It changes the dtype of the columns to be floats.\n",
    "    param team (dictionary): team dictionary\n",
    "    param league (yahoo oauth object): yahoo authentication object\n",
    "    returns team_9cat (dataframe): dataframe of team average 9cats\n",
    "    \"\"\"\n",
    "    team_9cat = af.team_9cat_average_stats(team_dict, league)\n",
    "    team_9cat = team_9cat.loc[MEAN_ROW]\n",
    "    team_9cat[PLAYER_COLUMN] = team_dict[NAME_KEY]\n",
    "    team_9cat = pd.DataFrame(team_9cat).T\n",
    "    team_9cat.drop(PLAYER_COLUMN, inplace=True, axis=1)\n",
    "    team_9cat = columns_to_dtype_float(team_9cat)\n",
    "    return team_9cat\n",
    "\n",
    "def applymap_color_and_format(dataframe):\n",
    "    \"\"\"\n",
    "    Function takes a dataframe containing 9cat stat columns differneces and returns a color coded\n",
    "    and decimal place formatted dataframe for visual ease.\n",
    "    param dataframe (pandas dataframe): dataframe to format\n",
    "    returns dataframe (pandas dataframe): dataframe with formatted and colored values\n",
    "    \"\"\"\n",
    "    colored_matchup_difference = dataframe.style.applymap(\n",
    "        af.color_negative_red, subset=pd.IndexSlice[:,[af.FIELD_GOAL_PERCENTAGE_COLUMN,\n",
    "                                                       af.FREE_THROW_PERCENTAGE_COLUMN,\n",
    "                                                       af.THREES_MADE_COLUMN, af.POINTS_COLUMN,\n",
    "                                                       af.REBOUNDS_COLUMN, af.ASSITS_COLUMN,\n",
    "                                                       af.STEALS_COLUMN, af.BLOCKS_COLUMN\n",
    "                                                       ]]).applymap(\n",
    "        af.color_negative_red_tov, subset=pd.IndexSlice[:,[af.TURNOVERS_COLUMN]]).format\\\n",
    "        (COLUMN_9CAT_DECIMAL_FORMAT)\n",
    "    return colored_matchup_difference\n",
    "\n",
    "def compare_h2h_team_9cat(team1, team2):\n",
    "    \"\"\"\n",
    "    Function authenticates on Yahoo and creates creates two dataframes containing team roster\n",
    "    9cat averages for each team specified in the parameters. It calculates the difference between\n",
    "    both 9cat averages and finally it formats the values for visual ease.\n",
    "    params team1 (dictionary): team dictionary\n",
    "    params team2 (dictionary): team dictionary\n",
    "    return matchup_difference (dataframe): team difference 9cat dataframe\n",
    "    return colored_matchup_difference (dataframe): formatted team difference 9cat dataframe\n",
    "    \"\"\"\n",
    "    sc = af.yahoo_fantasy_api_authentication()\n",
    "    league = af.yahoo_fantasy_league(sc)\n",
    "    team1_9cat_stats = get_and_format_team_9cat(team1, league)\n",
    "    team2_9cat_stats = get_and_format_team_9cat(team2, league)\n",
    "    matchup_difference = team1_9cat_stats.sub(team2_9cat_stats)\n",
    "    colored_matchup_difference = applymap_color_and_format(matchup_difference)\n",
    "    return matchup_difference, colored_matchup_difference"
   ],
   "metadata": {
    "collapsed": false,
    "pycharm": {
     "name": "#%%\n"
    }
   }
  },
  {
   "cell_type": "code",
   "execution_count": null,
   "outputs": [],
   "source": [
    "# Get difference dataframes\n",
    "matchup_difference, colored_matchup_difference = compare_h2h_team_9cat(af.NUNN_OF_YALL_BETTA, af\n",
    "                                                                       .CRABBEHERBYTHEPUSSY)"
   ],
   "metadata": {
    "collapsed": false,
    "pycharm": {
     "name": "#%%\n"
    }
   }
  },
  {
   "cell_type": "code",
   "execution_count": null,
   "outputs": [],
   "source": [
    "# Difference dataframe\n",
    "matchup_difference"
   ],
   "metadata": {
    "collapsed": false,
    "pycharm": {
     "name": "#%%\n"
    }
   }
  },
  {
   "cell_type": "code",
   "execution_count": null,
   "outputs": [],
   "source": [
    "# Formatted difference dataframe\n",
    "colored_matchup_difference"
   ],
   "metadata": {
    "collapsed": false,
    "pycharm": {
     "name": "#%%\n"
    }
   }
  },
  {
   "cell_type": "code",
   "execution_count": null,
   "outputs": [],
   "source": [
    "# Wins/Losses\n",
    "positive_list = list()\n",
    "negative_list = list()\n",
    "\n",
    "for value in matchup_difference.values.tolist()[0]:\n",
    "    if value > 0:\n",
    "        positive_list.append(value)\n",
    "    elif value < 0:\n",
    "        negative_list.append(abs(value))"
   ],
   "metadata": {
    "collapsed": false,
    "pycharm": {
     "name": "#%%\n"
    }
   }
  },
  {
   "cell_type": "code",
   "execution_count": null,
   "outputs": [],
   "source": [
    "# Print\n",
    "print(f\"Sum of positive list is: {sum(positive_list)}\")\n",
    "print(f\"Sum of negative list is: {sum(negative_list)}\")"
   ],
   "metadata": {
    "collapsed": false,
    "pycharm": {
     "name": "#%%\n"
    }
   }
  },
  {
   "cell_type": "markdown",
   "source": [
    "## Free Agent Sort by Rank\n",
    "This section will work on logic that returns the Leaugue's FA sorted by Rank. This needs to be\n",
    "done because it will be faster to calculate stats for the top 25 FA rather than all +400 in Yahoo."
   ],
   "metadata": {
    "collapsed": false
   }
  },
  {
   "cell_type": "code",
   "execution_count": null,
   "outputs": [],
   "source": [
    "from yahoo_fantasy_api import yhandler\n",
    "import yahoo_fantasy_api as yfa\n",
    "yh = yhandler.YHandler(sc)\n",
    "gm = yfa.Game(sc, 'nba')\n",
    "# Get League Ids I have access to\n",
    "league_id_list = gm.league_ids(year=2020)\n",
    "league_id = \"\".join(str(id) for id in league_id_list)"
   ],
   "metadata": {
    "collapsed": false,
    "pycharm": {
     "name": "#%%\n"
    }
   }
  },
  {
   "cell_type": "code",
   "execution_count": null,
   "outputs": [],
   "source": [
    "yh.get(f\"/league/{league_id}/players;status=FA;sort=AR\")"
   ],
   "metadata": {
    "collapsed": false,
    "pycharm": {
     "name": "#%%\n"
    }
   }
  },
  {
   "cell_type": "markdown",
   "source": [
    "## Get Week Date\n",
    "This section will create logic needed to return the current week number (i.e. Week 5). This will\n",
    "allow for the date, start and end, to be found.\n"
   ],
   "metadata": {
    "collapsed": false
   }
  },
  {
   "cell_type": "code",
   "execution_count": null,
   "outputs": [],
   "source": [
    "# Authenticate\n",
    "sc = af.yahoo_fantasy_api_authentication()\n",
    "league = af.yahoo_fantasy_league(sc)\n"
   ],
   "metadata": {
    "collapsed": false,
    "pycharm": {
     "name": "#%%\n"
    }
   }
  },
  {
   "cell_type": "code",
   "execution_count": null,
   "outputs": [],
   "source": [
    "# Current week\n",
    "current_fantasy_week = league.current_week()\n",
    "\n",
    "# Next week\n",
    "next_fantasy_week = current_fantasy_week + 1\n",
    "print(f\"Next weeks fantasy mathcup will fall under week {next_fantasy_week}\")"
   ],
   "metadata": {
    "collapsed": false,
    "pycharm": {
     "name": "#%%\n"
    }
   }
  },
  {
   "cell_type": "code",
   "execution_count": null,
   "outputs": [],
   "source": [
    "# Get dates\n",
    "week_start_date = league.week_date_range(current_fantasy_week)[0]"
   ],
   "metadata": {
    "collapsed": false,
    "pycharm": {
     "name": "#%%\n"
    }
   }
  },
  {
   "cell_type": "code",
   "execution_count": null,
   "outputs": [],
   "source": [
    "week_start_date.strftime(\"%A, %d %B %Y\")"
   ],
   "metadata": {
    "collapsed": false,
    "pycharm": {
     "name": "#%%\n"
    }
   }
  },
  {
   "cell_type": "markdown",
   "source": [
    "## NBA Schedule\n",
    "This section creates logic to return the NBA schedule. The returned JSON will be filtered by\n",
    "start and end date in order to return games scheduled in a desired Yahoo Fantasy week."
   ],
   "metadata": {
    "collapsed": false
   }
  },
  {
   "cell_type": "code",
   "execution_count": null,
   "outputs": [],
   "source": [
    "import requests\n",
    "r = requests.get(\"http://data.nba.com/data/10s/v2015/json/mobile_teams/nba/2020/league/00_full_schedule.json\")"
   ],
   "metadata": {
    "collapsed": false,
    "pycharm": {
     "name": "#%%\n"
    }
   }
  },
  {
   "cell_type": "code",
   "execution_count": null,
   "outputs": [],
   "source": [
    "r.json()['lscd']"
   ],
   "metadata": {
    "collapsed": false,
    "pycharm": {
     "name": "#%%\n"
    }
   }
  },
  {
   "cell_type": "code",
   "execution_count": null,
   "outputs": [],
   "source": [
    "import requests\n",
    "\n",
    "LSCD_KEY = \"lscd\"\n",
    "MSCD_KEY = \"mscd\"\n",
    "G_KEY = \"g\"\n",
    "GID_KEY = \"gid\"\n",
    "GAME_ID_KEY = \"game_id\"\n",
    "GDATE_KEY = \"gdte\"\n",
    "GAME_DATE_KEY= \"game_date\"\n",
    "V_KEY = \"v\"\n",
    "TID_KEY = \"tid\"\n",
    "VISITORS_TEAM_ID_KEY = \"visitors_tid\"\n",
    "VISITORS_KEY =  \"visitors\"\n",
    "TC_KEY = \"tc\"\n",
    "TN_KEY = \"tn\"\n",
    "H_KEY = \"h\"\n",
    "HOME_TEAM_ID_KEY = \"home_tid\"\n",
    "HOME_KEY = \"home\"\n",
    "\n",
    "def get_game_information_in_month(nba_json):\n",
    "    \"\"\"\n",
    "    Function loops through a month (n) in nba_json and creates a dataframe containing game\n",
    "    information, game_id, home/visitor team/team_id and game_date for each month.\n",
    "    param nba_json (dictionary): dictionary containing game information\n",
    "    returns game_dataframe (pandas dataframe): dataframe containing game information for a month\n",
    "    \"\"\"\n",
    "    game_dataframe = pd.DataFrame()\n",
    "    for n in range(len(nba_json)):\n",
    "        game_dictionary = dict()\n",
    "        game_dictionary[GID_KEY] = nba_json[n][GID_KEY]\n",
    "        game_dictionary[GDATE_KEY] = nba_json[n][GDATE_KEY]\n",
    "        game_dictionary[VISITORS_TEAM_ID_KEY] = nba_json[n][V_KEY][TID_KEY]\n",
    "        game_dictionary[VISITORS_KEY] = nba_json[n][V_KEY][TC_KEY] + \" \" \\\n",
    "                                        + nba_json[n][V_KEY][TN_KEY]\n",
    "        game_dictionary[HOME_TEAM_ID_KEY] = nba_json[n][H_KEY][TID_KEY]\n",
    "        game_dictionary[HOME_KEY] = nba_json[n][H_KEY][TC_KEY] + \" \" \\\n",
    "                                    + nba_json[n][H_KEY][TN_KEY]\n",
    "        game_dataframe = game_dataframe.append(game_dictionary, ignore_index=True)\n",
    "    return game_dataframe\n",
    "\n",
    "def get_game_information_in_season(season):\n",
    "    \"\"\"\n",
    "    Function calls the NBA endpoint that returns the season schedule. It then loops through each\n",
    "    month in that schedule to create a dataframe containing game information, game_id,\n",
    "    home/visitor team/team_id and game_date for the season.\n",
    "    param season (string): season for schedule\n",
    "    returns season_games_dataframe (pandas dataframe): dataframe containing game information for\n",
    "    a season\n",
    "    \"\"\"\n",
    "    r = requests.get(f\"http://data.nba\"\n",
    "                     f\".com/data/10s/v2015/json/mobile_teams/nba/{season}/league/00_full_schedule\"\n",
    "                     f\".json\")\n",
    "    game_information_json = r.json()[LSCD_KEY]\n",
    "    season_games_dataframe = pd.DataFrame()\n",
    "    for n in range(len(game_information_json)):\n",
    "        month_n_game_dataframe = get_game_information_in_month\\\n",
    "            (game_information_json[n][MSCD_KEY][G_KEY])\n",
    "        season_games_dataframe = season_games_dataframe.append(month_n_game_dataframe)\n",
    "    return season_games_dataframe\n"
   ],
   "metadata": {
    "collapsed": false,
    "pycharm": {
     "name": "#%%\n"
    }
   }
  },
  {
   "cell_type": "code",
   "execution_count": null,
   "outputs": [],
   "source": [
    "season_schedule_2020 = get_game_information_in_season(\"2020\")\n",
    "season_schedule_2020"
   ],
   "metadata": {
    "collapsed": false,
    "pycharm": {
     "name": "#%%\n"
    }
   }
  },
  {
   "cell_type": "markdown",
   "source": [
    "## Game Stats in Week\n",
    "This section will combine the information returned when querying for season schedule with the\n",
    "logic used to find start/end dates in a Yahoo Fantasy week. The goal is to return the count of\n",
    "games a specific player plays in a given Yahoo Fantasy week"
   ],
   "metadata": {
    "collapsed": false
   }
  },
  {
   "cell_type": "code",
   "execution_count": null,
   "outputs": [],
   "source": [
    "# Current week\n",
    "week_start_date = league.week_date_range(current_fantasy_week)[0]\n",
    "week_end_date = league.week_date_range(current_fantasy_week)[1]\n",
    "print(f\"The current week start date is: {week_start_date}\")\n",
    "print(f\"The current week end date is: {week_end_date}\")"
   ],
   "metadata": {
    "collapsed": false,
    "pycharm": {
     "name": "#%%\n"
    }
   }
  },
  {
   "cell_type": "code",
   "execution_count": null,
   "outputs": [],
   "source": [
    "season_schedule_2020[\"gdte\"] = pd.to_datetime(season_schedule_2020[\"gdte\"])\n",
    "season_schedule_2020.info()"
   ],
   "metadata": {
    "collapsed": false,
    "pycharm": {
     "name": "#%%\n"
    }
   }
  },
  {
   "cell_type": "code",
   "execution_count": null,
   "outputs": [],
   "source": [
    "# Current week games\n",
    "current_fantasy_games_week = season_schedule_2020[(season_schedule_2020[\"gdte\"] >= \\\n",
    "                                                   str(week_start_date)) &\n",
    "                                                  (season_schedule_2020[\"gdte\"] <= \\\n",
    "                                                   str(week_end_date))]\n",
    "current_fantasy_games_week"
   ],
   "metadata": {
    "collapsed": false,
    "pycharm": {
     "name": "#%%\n"
    }
   }
  },
  {
   "cell_type": "code",
   "execution_count": null,
   "outputs": [],
   "source": [
    "current_fantasy_games_week[[\"home\", \"visitors\"]].value_counts()"
   ],
   "metadata": {
    "collapsed": false,
    "pycharm": {
     "name": "#%%\n"
    }
   }
  },
  {
   "cell_type": "code",
   "execution_count": null,
   "outputs": [],
   "source": [
    "current_fantasy_games_week[\"visitors\"].value_counts()"
   ],
   "metadata": {
    "collapsed": false,
    "pycharm": {
     "name": "#%%\n"
    }
   }
  },
  {
   "cell_type": "code",
   "execution_count": null,
   "outputs": [],
   "source": [
    "def get_week_current_week_information():\n",
    "    \"\"\"\n",
    "    Function finds the current Yahoo Fantasy week number and its start and end date.\n",
    "    return current_fantasy_week (int): Yahoo Fantasy week number\n",
    "    return week_start_date (string): start date of Yahoo Fantasy week number\n",
    "    return week_end_date (string): end date of Yahoo Fantasy week number\n",
    "    \"\"\"\n",
    "    sc = af.yahoo_fantasy_api_authentication()\n",
    "    league = af.yahoo_fantasy_league(sc)\n",
    "    current_fantasy_week = league.current_week()\n",
    "    week_start_date = league.week_date_range(current_fantasy_week)[0]\n",
    "    week_end_date = league.week_date_range(current_fantasy_week)[1]\n",
    "    return current_fantasy_week, week_start_date, week_end_date\n",
    "\n",
    "def get_next_week_information():\n",
    "    \"\"\"\n",
    "    Function finds the next Yahoo Fantasy week number and its start and end date.\n",
    "    return next_fantasy_week (int): Yahoo Fantasy week number\n",
    "    return week_start_date (string): start date of Yahoo Fantasy week number\n",
    "    return week_end_date (string): end date of Yahoo Fantasy week number\n",
    "    \"\"\"\n",
    "    sc = af.yahoo_fantasy_api_authentication()\n",
    "    league = af.yahoo_fantasy_league(sc)\n",
    "    next_fantasy_week = league.current_week() + 1\n",
    "    week_start_date = league.week_date_range(next_fantasy_week)[0]\n",
    "    week_end_date = league.week_date_range(next_fantasy_week)[1]\n",
    "    return next_fantasy_week, week_start_date, week_end_date\n",
    "\n",
    "def get_player_ids_names_in_fantasy_team(team_dict):\n",
    "    \"\"\"\n",
    "\n",
    "    \"\"\"\n",
    "    sc = af.yahoo_fantasy_api_authentication()\n",
    "    league = af.yahoo_fantasy_league(sc)\n",
    "    team = league.to_team(team_dict[TEAM_KEY])\n",
    "    team_roster = team.roster()\n",
    "    player_id_name_team_list = [{PLAYER_ID_KEY : player[PLAYER_ID_KEY], NAME_KEY : player[NAME_KEY]}\n",
    "                           for player in team_roster]\n",
    "    player_name_list = [player[NAME_KEY] for player in player_id_name_team_list]\n",
    "    return player_id_name_team_list, player_name_list\n",
    "\n",
    "def get_fantasy_week_games_dataframe(season_schedule_dataframe, week_start_date, week_end_date):\n",
    "    \"\"\"\n",
    "    Function filters the entire NBA season schedule on a start/end date to find the scheduled\n",
    "    games between specific dates. It returns the amount of games each NBA team plays during that\n",
    "    period of time.\n",
    "    param season_schedule_dataframe (pandas dataframe): dataframe containing the entire seasons\n",
    "    NBA schedule\n",
    "    param week_start_date (string): date to begin filtering by\n",
    "    param week_start_date (string): date to end filtering by\n",
    "    return current_fantasy_games_week (pandas dataframe) dataframe containing the scheduled games\n",
    "    in specified param dates\n",
    "    return team_game_counts (pandas series): series containing count of games for each NBA team\n",
    "    \"\"\"\n",
    "    filtered_games_week = season_schedule_dataframe[(season_schedule_dataframe[GDATE_KEY] >= \\\n",
    "                                                   str(week_start_date)) &\n",
    "                                                  (season_schedule_dataframe[GDATE_KEY] <= \\\n",
    "                                                   str(week_end_date))]\n",
    "    team_game_counts = filtered_games_week[HOME_KEY].append\\\n",
    "        (filtered_games_week[VISITORS_KEY]).value_counts()\n",
    "    return filtered_games_week, team_game_counts\n",
    "\n",
    "def get_player_games(team_game_counts_series, player_name_list):\n",
    "    \"\"\"\n",
    "    Function creates a dictionary containing key/value pairs of player names/games in a series of\n",
    "    NBA team game counts\n",
    "    param team_game_counts_series (pandas series): series of team name and games playing\n",
    "    param player_name_list (list): list of player names\n",
    "    return player_games_dictionary (dictionary): key/value pairing of player names/games playing\n",
    "    \"\"\"\n",
    "    player_games_dictionary = dict()\n",
    "    team_game_counts_dataframe = pd.DataFrame(team_game_counts_series)\n",
    "    team_game_counts_dataframe.reset_index(inplace=True)\n",
    "    team_game_counts_dataframe = team_game_counts_dataframe.replace(\"LA Clippers\", \"Los Angeles Clippers\")\n",
    "    for player in player_name_list:\n",
    "        team = af.yahoo_player_team_and_jersey(player)[0]\n",
    "        try:\n",
    "            player_games_dictionary[player] = \\\n",
    "                team_game_counts_dataframe[team_game_counts_dataframe[\"index\"] == team][0].iloc[0]\n",
    "        except IndexError:\n",
    "            player_games_dictionary[player] = 0\n",
    "    return player_games_dictionary"
   ],
   "metadata": {
    "collapsed": false,
    "pycharm": {
     "name": "#%%\n"
    }
   }
  },
  {
   "cell_type": "code",
   "execution_count": null,
   "outputs": [],
   "source": [
    "tm = league.to_team(af.NUNN_OF_YALL_BETTA[\"team_key\"])\n",
    "team_roster = tm.roster()\n",
    "player_id_team_list = [{\"playerid\" : player[\"player_id\"], \"playername\" : player[\"name\"]} for player in\n",
    "                       team_roster]\n",
    "player_id_team_list"
   ],
   "metadata": {
    "collapsed": false,
    "pycharm": {
     "name": "#%%\n"
    }
   }
  },
  {
   "cell_type": "code",
   "execution_count": null,
   "outputs": [],
   "source": [
    "TEAM_KEY = \"team\"\n",
    "PLAYER_ID_KEY = \"player_id\"\n",
    "NAME_KEY = \"name\"\n",
    "\n",
    "def get_player_ids_names_in_fantasy_team(team_dict):\n",
    "    \"\"\"\n",
    "\n",
    "    \"\"\"\n",
    "    sc = af.yahoo_fantasy_api_authentication()\n",
    "    league = af.yahoo_fantasy_league(sc)\n",
    "    team = league.to_team(team_dict[TEAM_KEY])\n",
    "    team_roster = team.roster()\n",
    "    player_id_name_team_list = [{PLAYER_ID_KEY : player[PLAYER_ID_KEY], NAME_KEY : player[NAME_KEY]}\n",
    "                           for player in team_roster]\n",
    "    player_name_list = [player[NAME_KEY] for player in player_id_name_team_list]\n",
    "    return player_id_name_team_list, player_name_list"
   ],
   "metadata": {
    "collapsed": false,
    "pycharm": {
     "name": "#%%\n"
    }
   }
  },
  {
   "cell_type": "code",
   "execution_count": null,
   "outputs": [],
   "source": [
    "# Get ids/names in Fantasy team\n",
    "player_id_name_team_list, player_name_list = get_player_ids_names_in_fantasy_team(af\n",
    "                                                                                 .NUNN_OF_YALL_BETTA)"
   ],
   "metadata": {
    "collapsed": false,
    "pycharm": {
     "name": "#%%\n"
    }
   }
  },
  {
   "cell_type": "code",
   "execution_count": null,
   "outputs": [],
   "source": [
    "player_name_list"
   ],
   "metadata": {
    "collapsed": false,
    "pycharm": {
     "name": "#%%\n"
    }
   }
  },
  {
   "cell_type": "code",
   "execution_count": null,
   "outputs": [],
   "source": [
    "af.yahoo_player_team_and_jersey(\"Marcus Smart\")[0]\n",
    "\n",
    "\n",
    "current_fantasy_games_week"
   ],
   "metadata": {
    "collapsed": false,
    "pycharm": {
     "name": "#%%\n"
    }
   }
  },
  {
   "cell_type": "code",
   "execution_count": null,
   "outputs": [],
   "source": [
    "teams_playing_home_visitors = current_fantasy_games_week[\"home\"].append(current_fantasy_games_week[\"visitors\"]).value_counts()"
   ],
   "metadata": {
    "collapsed": false,
    "pycharm": {
     "name": "#%%\n"
    }
   }
  },
  {
   "cell_type": "code",
   "execution_count": null,
   "outputs": [],
   "source": [
    "teams_playing_home_visitors = pd.DataFrame(teams_playing_home_visitors)\n",
    "teams_playing_home_visitors.reset_index(inplace=True)\n",
    "teams_playing_home_visitors"
   ],
   "metadata": {
    "collapsed": false,
    "pycharm": {
     "name": "#%%\n"
    }
   }
  },
  {
   "cell_type": "code",
   "execution_count": null,
   "outputs": [],
   "source": [
    "teams_playing_home_visitors = teams_playing_home_visitors.replace(\"LA Clippers\", \"Los Angeles Clippers\")\n",
    "teams_playing_home_visitors"
   ],
   "metadata": {
    "collapsed": false,
    "pycharm": {
     "name": "#%%\n"
    }
   }
  },
  {
   "cell_type": "code",
   "execution_count": null,
   "outputs": [],
   "source": [
    "teams_playing_home_visitors[teams_playing_home_visitors[\"index\"] == \"Los Angeles Clippers\"][0].iloc[0]"
   ],
   "metadata": {
    "collapsed": false,
    "pycharm": {
     "name": "#%%\n"
    }
   }
  },
  {
   "cell_type": "code",
   "execution_count": null,
   "outputs": [],
   "source": [
    "teams_playing_home_visitors.replace(to_replace=\"LA Clippers\", value=\"Los Angeles Clippers\",\n",
    "                                    regex=True)"
   ],
   "metadata": {
    "collapsed": false,
    "pycharm": {
     "name": "#%%\n"
    }
   }
  },
  {
   "cell_type": "code",
   "execution_count": null,
   "outputs": [],
   "source": [
    "player_games_dictionary = dict()\n",
    "for player in player_name_list:\n",
    "    team = af.yahoo_player_team_and_jersey(player)[0]\n",
    "    player_games_dictionary[player] = teams_playing_home_visitors[team]"
   ],
   "metadata": {
    "collapsed": false,
    "pycharm": {
     "name": "#%%\n"
    }
   }
  },
  {
   "cell_type": "code",
   "execution_count": null,
   "outputs": [],
   "source": [
    "player_games_dictionary"
   ],
   "metadata": {
    "collapsed": false,
    "pycharm": {
     "name": "#%%\n"
    }
   }
  },
  {
   "cell_type": "code",
   "execution_count": null,
   "outputs": [],
   "source": [
    "# Nunn 9Cat averages\n",
    "nunn_of_yall_betta_team = af.team_9cat_average_stats(af.NUNN_OF_YALL_BETTA, league)"
   ],
   "metadata": {
    "collapsed": false,
    "pycharm": {
     "name": "#%%\n"
    }
   }
  },
  {
   "cell_type": "code",
   "execution_count": null,
   "outputs": [],
   "source": [
    "a = nunn_of_yall_betta_team.copy()\n",
    "a"
   ],
   "metadata": {
    "collapsed": false,
    "pycharm": {
     "name": "#%%\n"
    }
   }
  },
  {
   "cell_type": "code",
   "execution_count": null,
   "outputs": [],
   "source": [
    "a[a[\"PLAYER\"] == \"Marcus Smart\"].iloc[:, 3:] * 3"
   ],
   "metadata": {
    "collapsed": false,
    "pycharm": {
     "name": "#%%\n"
    }
   }
  },
  {
   "cell_type": "code",
   "execution_count": null,
   "outputs": [],
   "source": [
    "pd.concat([a[a[\"PLAYER\"] == \"Marcus Smart\"].iloc[:, :3], (a[a[\"PLAYER\"] == \"Marcus Smart\"].iloc[:, 3:] * 3)], axis=1)"
   ],
   "metadata": {
    "collapsed": false,
    "pycharm": {
     "name": "#%%\n"
    }
   }
  },
  {
   "cell_type": "code",
   "execution_count": null,
   "outputs": [],
   "source": [
    "PLAYER_COLUMN = \"PLAYER\"\n",
    "def get_predicted_player_weekly_9cat(player_games_dictionary, team_9cat_average_stats):\n",
    "    \"\"\"\n",
    "    Function is used to create a dataframe which contains predicted totals for a week of Yahoo\n",
    "    Fantasy play. For each player, 9cat features are multiplied by the amount of games that\n",
    "    player plays in one week.\n",
    "    param player_games_dictionary (dictionary): key/value pairing of player names/games playing\n",
    "    param team_9cat_average_stats (pandas dataframe): dataframe containing the season average\n",
    "    9cat stats for each player on a team\n",
    "    return predicted_9cat_stats (pandas dataframe): dataframe with 9cat averages multiplied by\n",
    "    games played in a week\n",
    "    \"\"\"\n",
    "    predicted_9cat_stats = pd.DataFrame()\n",
    "    team_9cat_average_stats = columns_to_dtype_float(team_9cat_average_stats)\n",
    "    for player in player_games_dictionary.keys():\n",
    "        player_predicted_9cat_stats = pd.concat(\n",
    "            [team_9cat_average_stats[team_9cat_average_stats[PLAYER_COLUMN] == player].iloc[:, :3],\n",
    "            (team_9cat_average_stats[team_9cat_average_stats[PLAYER_COLUMN] == player].iloc[:, 3:]\n",
    "            * player_games_dictionary[player])], axis=1)\n",
    "        predicted_9cat_stats = player_predicted_9cat_stats.append(predicted_9cat_stats)\n",
    "    predicted_9cat_stats.sort_index(inplace=True)\n",
    "    return predicted_9cat_stats"
   ],
   "metadata": {
    "collapsed": false,
    "pycharm": {
     "name": "#%%\n"
    }
   }
  },
  {
   "cell_type": "code",
   "execution_count": null,
   "outputs": [],
   "source": [
    "predicted_weekly_df = get_predicted_player_weekly_9cat(player_games_dictionary,\n",
    "                                                    nunn_of_yall_betta_team)\n",
    "predicted_weekly_df"
   ],
   "metadata": {
    "collapsed": false,
    "pycharm": {
     "name": "#%%\n"
    }
   }
  },
  {
   "cell_type": "code",
   "execution_count": null,
   "outputs": [],
   "source": [
    "TOTAL_ROW = \"total\"\n",
    "def get_total_row(roster_dataframe):\n",
    "    \"\"\"\n",
    "    Function creates a row in the provided parameter dataframe which contains the total for\n",
    "    categories that should be summed and averages for categories that should be averaged\n",
    "    param roster_dataframe (pandas dataframe): dataframe containing player week 9cat stats\n",
    "    return roster_dataframe_with_total (pandas dataframe): dataframe containing total row\n",
    "    \"\"\"\n",
    "    sum_9cat_column_dataframe = pd.DataFrame(roster_dataframe.iloc[:, 3:].sum()).T\n",
    "    mean_9cat_column_dataframe =  pd.DataFrame(roster_dataframe.iloc[:, 1:3].mean()).T\n",
    "    total_dataframe = pd.concat([mean_9cat_column_dataframe,  sum_9cat_column_dataframe], axis=1)\n",
    "    total_dataframe[PLAYER_COLUMN] = TOTAL_ROW\n",
    "    roster_dataframe_with_total = roster_dataframe.append(total_dataframe)\n",
    "    roster_dataframe_with_total.reset_index(inplace=True, drop=True)\n",
    "    return roster_dataframe_with_total"
   ],
   "metadata": {
    "collapsed": false,
    "pycharm": {
     "name": "#%%\n"
    }
   }
  },
  {
   "cell_type": "code",
   "execution_count": null,
   "outputs": [],
   "source": [
    "b = get_total_row(predicted_weekly_df)\n",
    "\n"
   ],
   "metadata": {
    "collapsed": false,
    "pycharm": {
     "name": "#%%\n"
    }
   }
  },
  {
   "cell_type": "code",
   "execution_count": null,
   "outputs": [],
   "source": [
    "af.format_dataframe_decimals(b)\n",
    "\n"
   ],
   "metadata": {
    "collapsed": false,
    "pycharm": {
     "name": "#%%\n"
    }
   }
  },
  {
   "cell_type": "code",
   "execution_count": null,
   "outputs": [],
   "source": [
    "def get_teams_weekly_predicted_stats_pipeline(team_dict, week=\"next\", season=2020,\n",
    "                                              team_9cat_average_stats_data=None):\n",
    "    \"\"\"\n",
    "    Function pipelines the process required to find a league teams weekly predicted 9cat totals.\n",
    "    Initially, the number of games for each player in the provided parameter week is found.\n",
    "    Average 9cat player stats are multiplied by that number and the entire roster stats are\n",
    "    summed to provide a total. The dataframe is finally formatted.\n",
    "    param team_dict (dictionary): dictionary of team from league\n",
    "    param week (string): determines which week to calculate weekly games for\n",
    "    param season (int): determines which season to get NBA schedule for\n",
    "    param team_9cat_average_stats_data (pandas dataframe): dataframe containing player 9cat season\n",
    "    averages\n",
    "    return roster_dataframe_with_total (pandas dataframe): dataframe containing player 9cat\n",
    "    predicted weekly stats and entire roster totals\n",
    "    \"\"\"\n",
    "    sc = af.yahoo_fantasy_api_authentication()\n",
    "    league = af.yahoo_fantasy_league(sc)\n",
    "    if week == \"next\":\n",
    "        fantasy_week, week_start_date, week_end_date = get_next_week_information()\n",
    "    elif week == \"current\":\n",
    "        fantasy_week, week_start_date, week_end_date = get_week_current_week_information()\n",
    "    else:\n",
    "        raise ValueError(\"Parameter 'week must be 'current' or 'next'.\")\n",
    "    season_games_dataframe = get_game_information_in_season(season)\n",
    "    filtered_games_week, team_game_counts = get_fantasy_week_games_dataframe\\\n",
    "        (season_games_dataframe, week_start_date, week_end_date)\n",
    "    player_id_name_team_list, player_name_list = get_player_ids_names_in_fantasy_team(team_dict)\n",
    "    player_games_dictionary = get_player_games(team_game_counts, player_name_list)\n",
    "    if team_9cat_average_stats_data is None:\n",
    "        team_9cat_average_stats_dataframe = af.team_9cat_average_stats(team_dict, league)\n",
    "        predicted_weekly_9cat_stats = get_predicted_player_weekly_9cat(player_games_dictionary,\n",
    "                                                                 team_9cat_average_stats_dataframe)\n",
    "    else:\n",
    "        predicted_weekly_9cat_stats = get_predicted_player_weekly_9cat(player_games_dictionary,\n",
    "                                                                 team_9cat_average_stats_data)\n",
    "    roster_dataframe_with_total = get_total_row(predicted_weekly_9cat_stats)\n",
    "    roster_dataframe_with_total = af.format_dataframe_decimals(roster_dataframe_with_total)\n",
    "    return roster_dataframe_with_total"
   ],
   "metadata": {
    "collapsed": false,
    "pycharm": {
     "name": "#%%\n"
    }
   }
  },
  {
   "cell_type": "code",
   "execution_count": null,
   "outputs": [],
   "source": [
    "get_teams_weekly_predicted_stats_pipeline(af.NUNN_OF_YALL_BETTA, week=\"current\")"
   ],
   "metadata": {
    "collapsed": false,
    "pycharm": {
     "name": "#%%\n"
    }
   }
  },
  {
   "cell_type": "markdown",
   "source": [
    "### All Together\n"
   ],
   "metadata": {
    "collapsed": false
   }
  },
  {
   "cell_type": "code",
   "execution_count": null,
   "outputs": [],
   "source": [
    "import requests\n",
    "import pandas as pd\n",
    "from src.data import all_functions as af\n",
    "\n",
    "PLAYER_COLUMN = \"PLAYER\"\n",
    "TEAM_KEY = \"team_key\"\n",
    "PLAYER_ID_KEY = \"player_id\"\n",
    "NAME_KEY = \"name\"\n",
    "MEAN_ROW = \"mean\"\n",
    "NAME_KEY = \"name\"\n",
    "LSCD_KEY = \"lscd\"\n",
    "MSCD_KEY = \"mscd\"\n",
    "G_KEY = \"g\"\n",
    "GID_KEY = \"gid\"\n",
    "GAME_ID_KEY = \"game_id\"\n",
    "GDATE_KEY = \"gdte\"\n",
    "GAME_DATE_KEY= \"game_date\"\n",
    "V_KEY = \"v\"\n",
    "TID_KEY = \"tid\"\n",
    "VISITORS_TEAM_ID_KEY = \"visitors_tid\"\n",
    "VISITORS_KEY =  \"visitors\"\n",
    "TC_KEY = \"tc\"\n",
    "TN_KEY = \"tn\"\n",
    "H_KEY = \"h\"\n",
    "HOME_TEAM_ID_KEY = \"home_tid\"\n",
    "HOME_KEY = \"home\"\n",
    "TOTAL_ROW = \"total\"\n",
    "INDEX_COLUMN = \"index\"\n",
    "NBA_NAME_LA_CLIPPERS = \"LA Clippers\"\n",
    "YAHOO_NAME_LA_CLIPPERS = \"Los Angeles Clippers\"\n",
    "COLUMN_9CAT_DECIMAL_FORMAT = {af.FIELD_GOAL_PERCENTAGE_COLUMN : af.THREE_DECIMAL_FORMAT,\n",
    "     af.FREE_THROW_PERCENTAGE_COLUMN : af.THREE_DECIMAL_FORMAT,\n",
    "     af.THREES_MADE_COLUMN : af.TWO_DECIMAL_FORMAT,\n",
    "     af.POINTS_COLUMN : af.TWO_DECIMAL_FORMAT,\n",
    "     af.REBOUNDS_COLUMN : af.TWO_DECIMAL_FORMAT,\n",
    "     af.ASSITS_COLUMN : af.TWO_DECIMAL_FORMAT, af.STEALS_COLUMN : af.TWO_DECIMAL_FORMAT,\n",
    "     af.BLOCKS_COLUMN : af.TWO_DECIMAL_FORMAT, af.TURNOVERS_COLUMN : af.TWO_DECIMAL_FORMAT}\n",
    "\n",
    "def columns_to_dtype_float(dataframe):\n",
    "    \"\"\"\n",
    "    Converts dataframe columns to dtype float.\n",
    "    param dataframe (pandas dataframe): dataframe to change column types\n",
    "    returns dataframe (pandas dataframe): dataframe with changed column types\n",
    "    \"\"\"\n",
    "    for column in dataframe.columns:\n",
    "        try:\n",
    "            dataframe[column] = dataframe[column].astype(float)\n",
    "        except ValueError:\n",
    "            pass\n",
    "    return dataframe\n",
    "\n",
    "def get_and_format_team_9cat(team, league):\n",
    "    \"\"\"\n",
    "    Function first finds the teams 9cat averages by calling the *team_9cat_average_stats*\n",
    "    function. It then filters to find the team mean and cleans and formats this single row\n",
    "    dataframe. It changes the dtype of the columns to be floats.\n",
    "    param team (dictionary): team dictionary\n",
    "    param league (yahoo oauth object): yahoo authentication object\n",
    "    returns team_9cat (dataframe): dataframe of team average 9cats\n",
    "    \"\"\"\n",
    "    team_9cat = af.team_9cat_average_stats(team, league)\n",
    "    team_9cat = team_9cat.loc[MEAN_ROW]\n",
    "    team_9cat[PLAYER_COLUMN] = team[NAME_KEY]\n",
    "    team_9cat = pd.DataFrame(team_9cat).T\n",
    "    team_9cat.drop(PLAYER_COLUMN, inplace=True, axis=1)\n",
    "    team_9cat = columns_to_dtype_float(team_9cat)\n",
    "    return team_9cat\n",
    "\n",
    "def applymap_color_and_format(dataframe):\n",
    "    \"\"\"\n",
    "    Function takes a dataframe containing 9cat stat columns and returns a color coded and decimal\n",
    "    place formatted dataframe for visual ease.\n",
    "    param dataframe (pandas dataframe): dataframe to format\n",
    "    returns dataframe (pandas dataframe): dataframe with formatted and colored values\n",
    "    \"\"\"\n",
    "    colored_matchup_difference = dataframe.style.applymap(\n",
    "        af.color_negative_red, subset=pd.IndexSlice[:,[af.FIELD_GOAL_PERCENTAGE_COLUMN,\n",
    "                                                       af.FREE_THROW_PERCENTAGE_COLUMN,\n",
    "                                                       af.THREES_MADE_COLUMN, af.POINTS_COLUMN,\n",
    "                                                       af.REBOUNDS_COLUMN, af.ASSITS_COLUMN,\n",
    "                                                       af.STEALS_COLUMN, af.BLOCKS_COLUMN\n",
    "                                                       ]]).applymap(\n",
    "        af.color_negative_red_tov, subset=pd.IndexSlice[:,[af.TURNOVERS_COLUMN]]).format\\\n",
    "        (COLUMN_9CAT_DECIMAL_FORMAT)\n",
    "    return colored_matchup_difference\n",
    "\n",
    "def compare_h2h_team_9cat(team1, team2):\n",
    "    \"\"\"\n",
    "    Function authenticates on Yahoo and creates creates two dataframes containing team roster\n",
    "    9cat averages for each team specified in the parameters. It calculates the difference between\n",
    "    both 9cat averages and finally it formats the values for visual ease.\n",
    "    params team1 (dictionary): team dictionary\n",
    "    params team2 (dictionary): team dictionary\n",
    "    return matchup_difference (dataframe): team difference 9cat dataframe\n",
    "    return colored_matchup_difference (dataframe): formatted team difference 9cat dataframe\n",
    "    \"\"\"\n",
    "    sc = af.yahoo_fantasy_api_authentication()\n",
    "    league = af.yahoo_fantasy_league(sc)\n",
    "    team1_9cat_stats = get_and_format_team_9cat(team1, league)\n",
    "    team2_9cat_stats = get_and_format_team_9cat(team2, league)\n",
    "    matchup_difference = team1_9cat_stats.sub(team2_9cat_stats)\n",
    "    colored_matchup_difference = applymap_color_and_format(matchup_difference)\n",
    "    return matchup_difference, colored_matchup_difference\n",
    "\n",
    "def get_game_information_in_month(nba_json):\n",
    "    \"\"\"\n",
    "    Function loops through a month (n) in nba_json and creates a dataframe containing game\n",
    "    information, game_id, home/visitor team/team_id and game_date for each month.\n",
    "    param nba_json (dictionary): dictionary containing game information\n",
    "    returns game_dataframe (pandas dataframe): dataframe containing game information for a month\n",
    "    \"\"\"\n",
    "    game_dataframe = pd.DataFrame()\n",
    "    for n in range(len(nba_json)):\n",
    "        game_dictionary = dict()\n",
    "        game_dictionary[GID_KEY] = nba_json[n][GID_KEY]\n",
    "        game_dictionary[GDATE_KEY] = nba_json[n][GDATE_KEY]\n",
    "        game_dictionary[VISITORS_TEAM_ID_KEY] = nba_json[n][V_KEY][TID_KEY]\n",
    "        game_dictionary[VISITORS_KEY] = nba_json[n][V_KEY][TC_KEY] + \" \" \\\n",
    "                                        + nba_json[n][V_KEY][TN_KEY]\n",
    "        game_dictionary[HOME_TEAM_ID_KEY] = nba_json[n][H_KEY][TID_KEY]\n",
    "        game_dictionary[HOME_KEY] = nba_json[n][H_KEY][TC_KEY] + \" \" \\\n",
    "                                    + nba_json[n][H_KEY][TN_KEY]\n",
    "        game_dataframe = game_dataframe.append(game_dictionary, ignore_index=True)\n",
    "    return game_dataframe\n",
    "\n",
    "def get_game_information_in_season(season):\n",
    "    \"\"\"\n",
    "    Function calls the NBA endpoint that returns the season schedule. It then loops through each\n",
    "    month in that schedule to create a dataframe containing game information, game_id,\n",
    "    home/visitor team/team_id and game_date for the season.\n",
    "    param season (string): season for schedule\n",
    "    returns season_games_dataframe (pandas dataframe): dataframe containing game information for\n",
    "    a season\n",
    "    \"\"\"\n",
    "    r = requests.get(f\"http://data.nba\"\n",
    "                     f\".com/data/10s/v2015/json/mobile_teams/nba/{season}/league/00_full_schedule\"\n",
    "                     f\".json\")\n",
    "    game_information_json = r.json()[LSCD_KEY]\n",
    "    season_games_dataframe = pd.DataFrame()\n",
    "    for n in range(len(game_information_json)):\n",
    "        month_n_game_dataframe = get_game_information_in_month\\\n",
    "            (game_information_json[n][MSCD_KEY][G_KEY])\n",
    "        season_games_dataframe = season_games_dataframe.append(month_n_game_dataframe)\n",
    "    return season_games_dataframe\n",
    "\n",
    "def get_week_current_week_information():\n",
    "    \"\"\"\n",
    "    Function finds the current Yahoo Fantasy week number and its start and end date.\n",
    "    return current_fantasy_week (int): Yahoo Fantasy week number\n",
    "    return week_start_date (string): start date of Yahoo Fantasy week number\n",
    "    return week_end_date (string): end date of Yahoo Fantasy week number\n",
    "    \"\"\"\n",
    "    sc = af.yahoo_fantasy_api_authentication()\n",
    "    league = af.yahoo_fantasy_league(sc)\n",
    "    current_fantasy_week = league.current_week()\n",
    "    week_start_date = league.week_date_range(current_fantasy_week)[0]\n",
    "    week_end_date = league.week_date_range(current_fantasy_week)[1]\n",
    "    return current_fantasy_week, week_start_date, week_end_date\n",
    "\n",
    "def get_next_week_information():\n",
    "    \"\"\"\n",
    "    Function finds the next Yahoo Fantasy week number and its start and end date.\n",
    "    return next_fantasy_week (int): Yahoo Fantasy week number\n",
    "    return week_start_date (string): start date of Yahoo Fantasy week number\n",
    "    return week_end_date (string): end date of Yahoo Fantasy week number\n",
    "    \"\"\"\n",
    "    sc = af.yahoo_fantasy_api_authentication()\n",
    "    league = af.yahoo_fantasy_league(sc)\n",
    "    next_fantasy_week = league.current_week() + 1\n",
    "    week_start_date = league.week_date_range(next_fantasy_week)[0]\n",
    "    week_end_date = league.week_date_range(next_fantasy_week)[1]\n",
    "    return next_fantasy_week, week_start_date, week_end_date\n",
    "\n",
    "def get_player_ids_names_in_fantasy_team(team_dict):\n",
    "    \"\"\"\n",
    "    Function finds the Yahoo Fantasy player ids and player names rostered by a team in the league\n",
    "    param team_dict (dictionary): dictionary containing information about a owners team\n",
    "    return player_id_name_team_list (list): Yahoo Fantasy player ids and names\n",
    "    return player_name_list (list): Yahoo Fantasy player names\n",
    "    \"\"\"\n",
    "    sc = af.yahoo_fantasy_api_authentication()\n",
    "    league = af.yahoo_fantasy_league(sc)\n",
    "    team = league.to_team(team_dict[TEAM_KEY])\n",
    "    team_roster = team.roster()\n",
    "    player_id_name_team_list = [{PLAYER_ID_KEY : player[PLAYER_ID_KEY], NAME_KEY : player[NAME_KEY]}\n",
    "                           for player in team_roster]\n",
    "    player_name_list = [player[NAME_KEY] for player in player_id_name_team_list]\n",
    "    return player_id_name_team_list, player_name_list\n",
    "\n",
    "def get_fantasy_week_games_dataframe(season_schedule_dataframe, week_start_date, week_end_date):\n",
    "    \"\"\"\n",
    "    Function filters the entire NBA season schedule on a start/end date to find the scheduled\n",
    "    games between specific dates. It returns the amount of games each NBA team plays during that\n",
    "    period of time.\n",
    "    param season_schedule_dataframe (pandas dataframe): dataframe containing the entire seasons\n",
    "    NBA schedule\n",
    "    param week_start_date (string): date to begin filtering by\n",
    "    param week_start_date (string): date to end filtering by\n",
    "    return current_fantasy_games_week (pandas dataframe) dataframe containing the scheduled games\n",
    "    in specified param dates\n",
    "    return team_game_counts (pandas series): series containing count of games for each NBA team\n",
    "    \"\"\"\n",
    "    filtered_games_week = season_schedule_dataframe[(season_schedule_dataframe[GDATE_KEY] >=\n",
    "                                                   str(week_start_date)) &\n",
    "                                                  (season_schedule_dataframe[GDATE_KEY] <=\n",
    "                                                   str(week_end_date))]\n",
    "    team_game_counts = filtered_games_week[HOME_KEY].append\\\n",
    "        (filtered_games_week[VISITORS_KEY]).value_counts()\n",
    "    return filtered_games_week, team_game_counts\n",
    "\n",
    "def get_player_games(team_game_counts_series, player_name_list):\n",
    "    \"\"\"\n",
    "    Function creates a dictionary containing key/value pairs of player names/games in a series of\n",
    "    NBA team game counts\n",
    "    param team_game_counts_series (pandas series): series of team name and games playing\n",
    "    param player_name_list (list): list of player names\n",
    "    return player_games_dictionary (dictionary): key/value pairing of player names/games playing\n",
    "    \"\"\"\n",
    "    player_games_dictionary = dict()\n",
    "    team_game_counts_dataframe = pd.DataFrame(team_game_counts_series)\n",
    "    team_game_counts_dataframe.reset_index(inplace=True)\n",
    "    team_game_counts_dataframe = team_game_counts_dataframe.replace(NBA_NAME_LA_CLIPPERS,\n",
    "                                                                    YAHOO_NAME_LA_CLIPPERS)\n",
    "    for player in player_name_list:\n",
    "        team = af.yahoo_player_team_and_jersey(player)[0]\n",
    "        try:\n",
    "            player_games_dictionary[player] = \\\n",
    "                team_game_counts_dataframe[team_game_counts_dataframe[\"index\"] == team][0].iloc[0]\n",
    "        except IndexError:\n",
    "            player_games_dictionary[player] = 0\n",
    "    return player_games_dictionary\n",
    "\n",
    "def get_predicted_player_weekly_9cat(player_games_dictionary, team_9cat_average_stats):\n",
    "    \"\"\"\n",
    "    Function is used to create a dataframe which contains predicted totals for a week of Yahoo\n",
    "    Fantasy play. For each player, 9cat features are multiplied by the amount of games that\n",
    "    player plays in one week.\n",
    "    param player_games_dictionary (dictionary): key/value pairing of player names/games playing\n",
    "    param team_9cat_average_stats (pandas dataframe): dataframe containing the season average\n",
    "    9cat stats for each player on a team\n",
    "    return predicted_9cat_stats (pandas dataframe): dataframe with 9cat averages multiplied by\n",
    "    games played in a week\n",
    "    \"\"\"\n",
    "    predicted_9cat_stats = pd.DataFrame()\n",
    "    team_9cat_average_stats = columns_to_dtype_float(team_9cat_average_stats)\n",
    "    for player in player_games_dictionary.keys():\n",
    "        player_predicted_9cat_stats = pd.concat(\n",
    "            [team_9cat_average_stats[team_9cat_average_stats[PLAYER_COLUMN] == player].iloc[:, :3],\n",
    "            (team_9cat_average_stats[team_9cat_average_stats[PLAYER_COLUMN] == player].iloc[:, 3:]\n",
    "            * player_games_dictionary[player])], axis=1)\n",
    "        predicted_9cat_stats = player_predicted_9cat_stats.append(predicted_9cat_stats)\n",
    "    predicted_9cat_stats.sort_index(inplace=True)\n",
    "    return predicted_9cat_stats\n",
    "\n",
    "def get_total_row(roster_dataframe):\n",
    "    \"\"\"\n",
    "    Function creates a row in the provided parameter dataframe which contains the total for\n",
    "    categories that should be summed and averages for categories that should be averaged\n",
    "    param roster_dataframe (pandas dataframe): dataframe containing player week 9cat stats\n",
    "    return roster_dataframe_with_total (pandas dataframe): dataframe containing total row\n",
    "    \"\"\"\n",
    "    sum_9cat_column_dataframe = pd.DataFrame(roster_dataframe.iloc[:, 3:].sum()).T\n",
    "    mean_9cat_column_dataframe =  pd.DataFrame(roster_dataframe.iloc[:, 1:3].mean()).T\n",
    "    total_dataframe = pd.concat([mean_9cat_column_dataframe,  sum_9cat_column_dataframe], axis=1)\n",
    "    total_dataframe[PLAYER_COLUMN] = TOTAL_ROW\n",
    "    roster_dataframe_with_total = roster_dataframe.append(total_dataframe)\n",
    "    roster_dataframe_with_total.reset_index(inplace=True, drop=True)\n",
    "    return roster_dataframe_with_total\n",
    "\n",
    "def get_teams_weekly_predicted_stats_pipeline(team_dict, week=\"next\", season=2020,\n",
    "                                              team_9cat_average_stats_data=None):\n",
    "    \"\"\"\n",
    "    Function pipelines the process required to find a league teams weekly predicted 9cat totals.\n",
    "    Initially, the number of games for each player in the provided parameter week is found.\n",
    "    Average 9cat player stats are multiplied by that number and the entire roster stats are\n",
    "    summed to provide a total. The dataframe is finally formatted.\n",
    "    param team_dict (dictionary): dictionary of team from league\n",
    "    param week (string): determines which week to calculate weekly games for\n",
    "    param season (int): determines which season to get NBA schedule for\n",
    "    param team_9cat_average_stats_data (pandas dataframe): dataframe containing player 9cat season\n",
    "    averages\n",
    "    return roster_dataframe_with_total (pandas dataframe): dataframe containing player 9cat\n",
    "    predicted weekly stats and entire roster totals\n",
    "    \"\"\"\n",
    "    sc = af.yahoo_fantasy_api_authentication()\n",
    "    league = af.yahoo_fantasy_league(sc)\n",
    "    if week == \"next\":\n",
    "        fantasy_week, week_start_date, week_end_date = get_next_week_information()\n",
    "    elif week == \"current\":\n",
    "        fantasy_week, week_start_date, week_end_date = get_week_current_week_information()\n",
    "    else:\n",
    "        raise ValueError(\"Parameter 'week' must be 'current' or 'next'.\")\n",
    "    season_games_dataframe = get_game_information_in_season(season)\n",
    "    filtered_games_week, team_game_counts = get_fantasy_week_games_dataframe\\\n",
    "        (season_games_dataframe, week_start_date, week_end_date)\n",
    "    player_id_name_team_list, player_name_list = get_player_ids_names_in_fantasy_team(team_dict)\n",
    "    player_games_dictionary = get_player_games(team_game_counts, player_name_list)\n",
    "    if team_9cat_average_stats_data is None:\n",
    "        team_9cat_average_stats_dataframe = af.team_9cat_average_stats(team_dict, league)\n",
    "        predicted_weekly_9cat_stats = get_predicted_player_weekly_9cat(player_games_dictionary,\n",
    "                                                                 team_9cat_average_stats_dataframe)\n",
    "    else:\n",
    "        predicted_weekly_9cat_stats = get_predicted_player_weekly_9cat(player_games_dictionary,\n",
    "                                                                 team_9cat_average_stats_data)\n",
    "    roster_dataframe_with_total = get_total_row(predicted_weekly_9cat_stats)\n",
    "    roster_dataframe_with_total = af.format_dataframe_decimals(roster_dataframe_with_total)\n",
    "    return roster_dataframe_with_total\n",
    "\n",
    "def get_filtered_total_row(total_dataframe, team_dict):\n",
    "    \"\"\"\n",
    "    Function filters a dataframe containing weekly total 9cat stats and returns the *total* row\n",
    "    so that it can be used for differencing. The function appends the team name to the total row\n",
    "    param total_dataframe (pandas dataframe): dataframe containing weekly total 9cat stats\n",
    "    param team_dict (dictionary): dictionary of team from league\n",
    "    return total_row_dataframe (pandas dataframe): single row dataframe containing total 9cat\n",
    "    stats with team name\n",
    "    return total_row_dataframe_no_name (pandas dataframe): single row dataframe containing total 9cat\n",
    "    stats without team name\n",
    "    \"\"\"\n",
    "    total_row_dataframe = total_dataframe[total_dataframe[PLAYER_COLUMN] == TOTAL_ROW]\n",
    "    total_row_dataframe[PLAYER_COLUMN] = team_dict[NAME_KEY]\n",
    "    total_row_dataframe.index = [TOTAL_ROW]\n",
    "    total_row_dataframe_no_name = total_row_dataframe.drop(PLAYER_COLUMN, axis=1)\n",
    "    return total_row_dataframe, total_row_dataframe_no_name\n",
    "\n",
    "def weekly_matchup_evaluator(team1_dict, team2_dict, team1_9cat_average_stats_data=None,\n",
    "                             team2_9cat_average_stats_data=None, week=\"next\", season=2020):\n",
    "    \"\"\"\n",
    "\n",
    "    \"\"\"\n",
    "    team1_roster_dataframe_with_total = get_teams_weekly_predicted_stats_pipeline(\n",
    "        team1_dict, week=week, season=season,\n",
    "        team_9cat_average_stats_data=team1_9cat_average_stats_data)\n",
    "    team2_roster_dataframe_with_total = get_teams_weekly_predicted_stats_pipeline(\n",
    "        team2_dict, week=week, season=season,\n",
    "        team_9cat_average_stats_data=team2_9cat_average_stats_data)\n",
    "    team1_total_row_dataframe, team1_total_row_dataframe_no_name = get_filtered_total_row\\\n",
    "        (team1_roster_dataframe_with_total, team1_dict)\n",
    "    team2_total_row_dataframe, team2_total_row_dataframe_no_name = get_filtered_total_row\\\n",
    "        (team2_roster_dataframe_with_total, team2_dict)\n",
    "    team1_total_row_dataframe_no_name = columns_to_dtype_float(team1_total_row_dataframe_no_name)\n",
    "    team2_total_row_dataframe_no_name = columns_to_dtype_float(team2_total_row_dataframe_no_name)\n",
    "    total_difference_dataframe = team1_total_row_dataframe_no_name.subtract\\\n",
    "        (team2_total_row_dataframe_no_name)\n",
    "    total_difference_dataframe_colored = applymap_color_and_format(total_difference_dataframe)\n",
    "    return total_difference_dataframe, total_difference_dataframe_colored"
   ],
   "metadata": {
    "collapsed": false,
    "pycharm": {
     "name": "#%%\n"
    }
   }
  },
  {
   "cell_type": "code",
   "execution_count": null,
   "outputs": [],
   "source": [
    "nunn_of_yall_betta_weekly_stats = get_teams_weekly_predicted_stats_pipeline(af.NUNN_OF_YALL_BETTA,\n",
    "                                                               week=\"current\")\n",
    "nunn_of_yall_betta_weekly_stats"
   ],
   "metadata": {
    "collapsed": false,
    "pycharm": {
     "name": "#%%\n"
    }
   }
  },
  {
   "cell_type": "code",
   "execution_count": null,
   "outputs": [],
   "source": [
    "magic_johnson_stats = get_teams_weekly_predicted_stats_pipeline(af.MAGICS_JOHNSON,\n",
    "                                                               week=\"current\")\n",
    "magic_johnson_stats"
   ],
   "metadata": {
    "collapsed": false,
    "pycharm": {
     "name": "#%%\n"
    }
   }
  },
  {
   "cell_type": "code",
   "execution_count": null,
   "outputs": [],
   "source": [],
   "metadata": {
    "collapsed": false,
    "pycharm": {
     "name": "#%%\n"
    }
   }
  },
  {
   "cell_type": "code",
   "execution_count": null,
   "outputs": [],
   "source": [
    "nyb_total_row_dataframe, nyb_total_row_dataframe_no_name = get_filtered_total_row\\\n",
    "    (nunn_of_yall_betta_weekly_stats, af.NUNN_OF_YALL_BETTA)\n",
    "\n",
    "mjs_total_row_dataframe, mjs_total_row_dataframe_no_name = get_filtered_total_row\\\n",
    "    (magic_johnson_stats, af.MAGICS_JOHNSON)\n"
   ],
   "metadata": {
    "collapsed": false,
    "pycharm": {
     "name": "#%%\n"
    }
   }
  },
  {
   "cell_type": "code",
   "execution_count": null,
   "outputs": [],
   "source": [
    "nyb_total_row_dataframe_no_name = columns_to_dtype_float(nyb_total_row_dataframe_no_name)\n",
    "mjs_total_row_dataframe_no_name = columns_to_dtype_float(mjs_total_row_dataframe_no_name)\n",
    "\n",
    "total_difference_dataframe = nyb_total_row_dataframe_no_name.subtract\\\n",
    "    (mjs_total_row_dataframe_no_name)\n"
   ],
   "metadata": {
    "collapsed": false,
    "pycharm": {
     "name": "#%%\n"
    }
   }
  },
  {
   "cell_type": "code",
   "execution_count": null,
   "outputs": [],
   "source": [
    "applymap_color_and_format(total_difference_dataframe)"
   ],
   "metadata": {
    "collapsed": false,
    "pycharm": {
     "name": "#%%\n"
    }
   }
  },
  {
   "cell_type": "code",
   "execution_count": null,
   "outputs": [],
   "source": [
    "def weekly_matchup_evaluator(team1_dict, team2_dict, team1_9cat_average_stats_data=None,\n",
    "                             team2_9cat_average_stats_data=None, week=\"next\", season=2020):\n",
    "    \"\"\"\n",
    "\n",
    "    \"\"\"\n",
    "    team1_roster_dataframe_with_total = get_teams_weekly_predicted_stats_pipeline(\n",
    "        team1_dict, week=week, season=season,\n",
    "        team_9cat_average_stats_data=team1_9cat_average_stats_data)\n",
    "    team2_roster_dataframe_with_total = get_teams_weekly_predicted_stats_pipeline(\n",
    "        team2_dict, week=week, season=season,\n",
    "        team_9cat_average_stats_data=team2_9cat_average_stats_data)\n",
    "    team1_total_row_dataframe, team1_total_row_dataframe_no_name = get_filtered_total_row\\\n",
    "        (team1_roster_dataframe_with_total, team1_dict)\n",
    "    team2_total_row_dataframe, team2_total_row_dataframe_no_name = get_filtered_total_row\\\n",
    "        (team2_roster_dataframe_with_total, team2_dict)\n",
    "    team1_total_row_dataframe_no_name = columns_to_dtype_float(team1_total_row_dataframe_no_name)\n",
    "    team2_total_row_dataframe_no_name = columns_to_dtype_float(team2_total_row_dataframe_no_name)\n",
    "    total_difference_dataframe = team1_total_row_dataframe_no_name.subtract\\\n",
    "        (team2_total_row_dataframe_no_name)\n",
    "    total_difference_dataframe_colored = applymap_color_and_format(total_difference_dataframe)\n",
    "    return total_difference_dataframe, total_difference_dataframe_colored"
   ],
   "metadata": {
    "collapsed": false,
    "pycharm": {
     "name": "#%%\n"
    }
   }
  },
  {
   "cell_type": "code",
   "execution_count": null,
   "outputs": [],
   "source": [
    "total_difference_dataframe, total_difference_dataframe_colored = weekly_matchup_evaluator(\n",
    "    af.NUNN_OF_YALL_BETTA, af.MAGICS_JOHNSON, team1_9cat_average_stats_data=None,\n",
    "    team2_9cat_average_stats_data=None, week=\"current\", season=2020)"
   ],
   "metadata": {
    "collapsed": false,
    "pycharm": {
     "name": "#%%\n"
    }
   }
  },
  {
   "cell_type": "code",
   "execution_count": null,
   "outputs": [],
   "source": [
    "total_difference_dataframe"
   ],
   "metadata": {
    "collapsed": false,
    "pycharm": {
     "name": "#%%\n"
    }
   }
  },
  {
   "cell_type": "markdown",
   "source": [
    "## Current Week Matchup Stats\n",
    "This section will use the Yahoo Fantasy API to check on the current matchup"
   ],
   "metadata": {
    "collapsed": false
   }
  },
  {
   "cell_type": "code",
   "execution_count": null,
   "outputs": [],
   "source": [
    "# Authenticate\n",
    "sc = af.yahoo_fantasy_api_authentication()\n",
    "league = af.yahoo_fantasy_league(sc)"
   ],
   "metadata": {
    "collapsed": false,
    "pycharm": {
     "name": "#%%\n"
    }
   }
  },
  {
   "cell_type": "code",
   "execution_count": null,
   "outputs": [],
   "source": [
    "matchups_w8 = league.matchups(week=8)"
   ],
   "metadata": {
    "collapsed": false,
    "pycharm": {
     "name": "#%%\n"
    }
   }
  },
  {
   "cell_type": "code",
   "execution_count": null,
   "outputs": [],
   "source": [
    "FANTASY_CONTENT_KEY = \"fantasy_content\"\n",
    "LEAGUE_KEY = \"league\"\n",
    "SCOREBOARD_KEY = \"scoreboard\"\n",
    "ZERO_KEY = \"0\"\n",
    "MATCHUPS_KEY = \"matchups\"\n",
    "MATCHUP_KEY = \"matchup\"\n",
    "TEAMS_KEY = \"teams\"\n",
    "ONE_KEY = \"1\"\n",
    "TEAM_KEY = \"team\"\n",
    "NAME_KEY = \"name\"\n",
    "\n",
    "def get_teams_matchup_number(team_dict, matchups):\n",
    "    \"\"\"\n",
    "    Function loops through returned the returned Yahoo Fantasy matchup nested dictionary to find\n",
    "    the matchup number of the specified parameter team name.\n",
    "    param team_dict (dictionary): dictionary containing information about a owners team\n",
    "    param matchups (dictionary): league matchup information from specified week number\n",
    "    return matchup (string): string value for the index of the specified teams nested matchup\n",
    "    dictionary in the original matchup dictionary\n",
    "    \"\"\"\n",
    "    for matchup in range(len(matchups[FANTASY_CONTENT_KEY][LEAGUE_KEY][1][SCOREBOARD_KEY][ZERO_KEY]\\\n",
    "                [MATCHUPS_KEY]) - 1):\n",
    "        if matchups[FANTASY_CONTENT_KEY][LEAGUE_KEY][1][SCOREBOARD_KEY][ZERO_KEY]\\\n",
    "                [MATCHUPS_KEY][str(matchup)][MATCHUP_KEY][ZERO_KEY][TEAMS_KEY][ZERO_KEY]\\\n",
    "                [TEAM_KEY][0][2][NAME_KEY] == team_dict[NAME_KEY] \\\n",
    "                or matchups[FANTASY_CONTENT_KEY][LEAGUE_KEY][1][SCOREBOARD_KEY][ZERO_KEY]\\\n",
    "                [MATCHUPS_KEY][str(matchup)][MATCHUP_KEY][ZERO_KEY][TEAMS_KEY][ONE_KEY]\\\n",
    "                [TEAM_KEY][0][2][NAME_KEY] == team_dict[NAME_KEY]:\n",
    "            return str(matchup)"
   ],
   "metadata": {
    "collapsed": false,
    "pycharm": {
     "name": "#%%\n"
    }
   }
  },
  {
   "cell_type": "code",
   "execution_count": null,
   "outputs": [],
   "source": [
    "get_teams_matchup_number(af.NUNN_OF_YALL_BETTA, matchups_w8)\n",
    "\n",
    "# With matchup number create stats dataframe for both teams in matchup"
   ],
   "metadata": {
    "collapsed": false,
    "pycharm": {
     "name": "#%%\n"
    }
   }
  },
  {
   "cell_type": "code",
   "execution_count": null,
   "outputs": [],
   "source": [
    "def get_team_name_from_matchup(matchups, matchup_number, matchup_team_number):\n",
    "    \"\"\"\n",
    "    Function returns the team name in a matchup.\n",
    "    param matchups (dictionary): league matchup information from specified week number\n",
    "    param matchup_number (string): matchup number for in matchups dictionary\n",
    "    param matchup_team_number (string): either \"0\" or \"1\" indicating matchup team number\n",
    "    return team_name (string): name of team in matchup\n",
    "    \"\"\"\n",
    "    team_name = matchups[FANTASY_CONTENT_KEY][LEAGUE_KEY][1][SCOREBOARD_KEY][ZERO_KEY]\\\n",
    "                [MATCHUPS_KEY][matchup_number][MATCHUP_KEY][ZERO_KEY][TEAMS_KEY]\\\n",
    "                [matchup_team_number][TEAM_KEY][0][2][NAME_KEY]\n",
    "    return team_name"
   ],
   "metadata": {
    "collapsed": false,
    "pycharm": {
     "name": "#%%\n"
    }
   }
  },
  {
   "cell_type": "code",
   "execution_count": null,
   "outputs": [],
   "source": [
    "TEAM_STATS_KEY = \"team_stats\" \n",
    "STATS_KEY = \"stats\"\n",
    "\n",
    "def get_live_matchup_stats_dictionary(matchups, matchup_number, matchup_team_number):\n",
    "    \"\"\"\n",
    "    Function returns a dictionary containing 9cat stats plus two more for a given matchup and\n",
    "    matchup team number.\n",
    "    param matchups (dictionary): league matchup information from specified week number\n",
    "    param matchup_number (string): matchup number for in matchups dictionary\n",
    "    param matchup_team_number (string): either \"0\" or \"1\" indicating matchup team number\n",
    "    return live_matchup_stats (dictionary): dictionary of 9cat stats plus two more stats\n",
    "    \"\"\"\n",
    "    live_matchup_stats = matchups[FANTASY_CONTENT_KEY][LEAGUE_KEY][1][SCOREBOARD_KEY][ZERO_KEY]\\\n",
    "                [MATCHUPS_KEY][matchup_number][MATCHUP_KEY][ZERO_KEY][TEAMS_KEY]\\\n",
    "                [matchup_team_number][TEAM_KEY][1][TEAM_STATS_KEY][STATS_KEY]\n",
    "    return live_matchup_stats\n"
   ],
   "metadata": {
    "collapsed": false,
    "pycharm": {
     "name": "#%%\n"
    }
   }
  },
  {
   "cell_type": "code",
   "execution_count": null,
   "outputs": [],
   "source": [
    "STAT_KEY = \"stat\"\n",
    "VALUE_KEY = \"value\"\n",
    "MATCHUP_COLUMNS = [af.PLAYER_COLUMN] + af.NINE_CAT_COLUMNS\n",
    "\n",
    "def get_dataframe_from_live_matchup_stats(matchup_stats_dictionary, team_name):\n",
    "    \"\"\"\n",
    "    Function creates a 1x10 dataframe containing the name of the team along with this live 9cat\n",
    "    stats for a weeks matchup.\n",
    "    param matchup_stats_dictionary (dictionary): dictionary containing the stats for a team\n",
    "    param team_name (string): the name of the team\n",
    "    return live_matchup_9cat_stats_dataframe (pandas dataframe): dataframe containing the name of the team along with this live 9cat\n",
    "    stats for a weeks matchup\n",
    "    \"\"\"\n",
    "    matchup_9cat_stats_list = list()\n",
    "    for index in range(len(matchup_stats_dictionary)):\n",
    "        if index != 0 and index != 2:\n",
    "            matchup_9cat_stats_list.append(matchup_stats_dictionary[index][STAT_KEY][VALUE_KEY])\n",
    "    values = [team_name] + matchup_9cat_stats_list\n",
    "    live_matchup_9cat_stats_dataframe = pd.DataFrame(values).T\n",
    "    live_matchup_9cat_stats_dataframe.columns = MATCHUP_COLUMNS\n",
    "    return live_matchup_9cat_stats_dataframe"
   ],
   "metadata": {
    "collapsed": false,
    "pycharm": {
     "name": "#%%\n"
    }
   }
  },
  {
   "cell_type": "code",
   "execution_count": null,
   "outputs": [],
   "source": [
    "matchups_w8 = league.matchups(week=8)\n",
    "matchup_number = get_teams_matchup_number(af.NUNN_OF_YALL_BETTA, matchups_w8)\n",
    "team_name = get_team_name_from_matchup(matchups_w8, matchup_number, \"0\")\n",
    "team_stats_dictionary = get_live_matchup_stats_dictionary(matchups_w8, matchup_number,\n",
    "                                                       \"0\")\n",
    "get_dataframe_from_live_matchup_stats(team_stats_dictionary, team_name)\n",
    "team_stats_dictionary"
   ],
   "metadata": {
    "collapsed": false,
    "pycharm": {
     "name": "#%%\n"
    }
   }
  },
  {
   "cell_type": "code",
   "execution_count": null,
   "outputs": [],
   "source": [
    "def get_matchup_teams_9cat_stat_dataframes(week, team_dict):\n",
    "    \"\"\"\n",
    "\n",
    "    @param week:\n",
    "    @type week:\n",
    "    @param team_dict:\n",
    "    @type team_dict:\n",
    "    @return:\n",
    "    @rtype:\n",
    "    \"\"\"\n",
    "    sc = af.yahoo_fantasy_api_authentication()\n",
    "    league = af.yahoo_fantasy_league(sc)\n",
    "    matchups = league.matchups(week=week)\n",
    "    matchup_number = get_teams_matchup_number(team_dict, matchups)\n",
    "    first_team_name = get_team_name_from_matchup(matchups_w8, matchup_number, \"0\")\n",
    "    second_team_name = get_team_name_from_matchup(matchups_w8, matchup_number, \"1\")\n",
    "    first_team_stats_dictionary = get_live_matchup_stats_dictionary(matchups_w8, matchup_number,\n",
    "                                                                    \"0\")\n",
    "    second_team_stats_dictionary = get_live_matchup_stats_dictionary(matchups_w8, matchup_number,\n",
    "                                                                     \"1\")\n",
    "    first_team_stats_dataframe = get_dataframe_from_live_matchup_stats(first_team_stats_dictionary,\n",
    "                                                              first_team_name)\n",
    "    second_team_stats_dataframe = get_dataframe_from_live_matchup_stats(second_team_stats_dictionary,\n",
    "                                                              second_team_name)\n",
    "    return first_team_stats_dataframe, second_team_stats_dataframe\n"
   ],
   "metadata": {
    "collapsed": false,
    "pycharm": {
     "name": "#%%\n"
    }
   }
  },
  {
   "cell_type": "code",
   "execution_count": null,
   "outputs": [],
   "source": [
    "FANTASY_CONTENT_KEY = \"fantasy_content\"\n",
    "LEAGUE_KEY = \"league\"\n",
    "SCOREBOARD_KEY = \"scoreboard\"\n",
    "ZERO_KEY = \"0\"\n",
    "MATCHUPS_KEY = \"matchups\"\n",
    "MATCHUP_KEY = \"matchup\"\n",
    "TEAMS_KEY = \"teams\"\n",
    "ONE_KEY = \"1\"\n",
    "TEAM_KEY_2 = \"team\"\n",
    "NAME_KEY = \"name\"\n",
    "TEAM_STATS_KEY = \"team_stats\"\n",
    "STATS_KEY = \"stats\"\n",
    "STAT_KEY = \"stat\"\n",
    "VALUE_KEY = \"value\"\n",
    "MATCHUP_COLUMNS = [af.PLAYER_COLUMN] + af.NINE_CAT_COLUMNS\n",
    "\n",
    "def get_teams_matchup_number(team_dict, matchups):\n",
    "    \"\"\"\n",
    "    Function loops through returned the returned Yahoo Fantasy matchup nested dictionary to find\n",
    "    the matchup number of the specified parameter team name.\n",
    "    param team_dict (dictionary): dictionary containing information about a owners team\n",
    "    param matchups (dictionary): league matchup information from specified week number\n",
    "    return matchup (string): string value for the index of the specified teams nested matchup\n",
    "    dictionary in the original matchup dictionary\n",
    "    \"\"\"\n",
    "    for matchup in range(len(matchups[FANTASY_CONTENT_KEY][LEAGUE_KEY][1][SCOREBOARD_KEY][ZERO_KEY]\\\n",
    "                [MATCHUPS_KEY]) - 1):\n",
    "        if matchups[FANTASY_CONTENT_KEY][LEAGUE_KEY][1][SCOREBOARD_KEY][ZERO_KEY]\\\n",
    "                [MATCHUPS_KEY][str(matchup)][MATCHUP_KEY][ZERO_KEY][TEAMS_KEY][ZERO_KEY]\\\n",
    "                [TEAM_KEY_2][0][2][NAME_KEY] == team_dict[NAME_KEY] \\\n",
    "                or matchups[FANTASY_CONTENT_KEY][LEAGUE_KEY][1][SCOREBOARD_KEY][ZERO_KEY]\\\n",
    "                [MATCHUPS_KEY][str(matchup)][MATCHUP_KEY][ZERO_KEY][TEAMS_KEY][ONE_KEY]\\\n",
    "                [TEAM_KEY_2][0][2][NAME_KEY] == team_dict[NAME_KEY]:\n",
    "            return str(matchup)\n",
    "\n",
    "def get_team_name_from_matchup(matchups, matchup_number, matchup_team_number):\n",
    "    \"\"\"\n",
    "    Function returns the team name in a matchup.\n",
    "    param matchups (dictionary): league matchup information from specified week number\n",
    "    param matchup_number (string): matchup number for in matchups dictionary\n",
    "    param matchup_team_number (string): either \"0\" or \"1\" indicating matchup team number\n",
    "    return team_name (string): name of team in matchup\n",
    "    \"\"\"\n",
    "    team_name = matchups[FANTASY_CONTENT_KEY][LEAGUE_KEY][1][SCOREBOARD_KEY][ZERO_KEY]\\\n",
    "                [MATCHUPS_KEY][matchup_number][MATCHUP_KEY][ZERO_KEY][TEAMS_KEY]\\\n",
    "                [matchup_team_number][TEAM_KEY_2][0][2][NAME_KEY]\n",
    "    return team_name\n",
    "\n",
    "def get_live_matchup_stats_dictionary(matchups, matchup_number, matchup_team_number):\n",
    "    \"\"\"\n",
    "    Function returns a dictionary containing 9cat stats plus two more for a given matchup and\n",
    "    matchup team number.\n",
    "    param matchups (dictionary): league matchup information from specified week number\n",
    "    param matchup_number (string): matchup number for in matchups dictionary\n",
    "    param matchup_team_number (string): either \"0\" or \"1\" indicating matchup team number\n",
    "    return live_matchup_stats (dictionary): dictionary of 9cat stats plus two more stats\n",
    "    \"\"\"\n",
    "    live_matchup_stats = matchups[FANTASY_CONTENT_KEY][LEAGUE_KEY][1][SCOREBOARD_KEY][ZERO_KEY]\\\n",
    "                [MATCHUPS_KEY][matchup_number][MATCHUP_KEY][ZERO_KEY][TEAMS_KEY]\\\n",
    "                [matchup_team_number][TEAM_KEY_2][1][TEAM_STATS_KEY][STATS_KEY]\n",
    "    return live_matchup_stats\n",
    "\n",
    "def get_dataframe_from_live_matchup_stats(matchup_stats_dictionary, team_name):\n",
    "    \"\"\"\n",
    "    Function creates a 1x10 dataframe containing the name of the team along with this live 9cat\n",
    "    stats for a weeks matchup.\n",
    "    param matchup_stats_dictionary (dictionary): dictionary containing the stats for a team\n",
    "    param team_name (string): the name of the team\n",
    "    return live_matchup_9cat_stats_dataframe (pandas dataframe): dataframe containing the name of the team along with this live 9cat\n",
    "    stats for a weeks matchup\n",
    "    \"\"\"\n",
    "    matchup_9cat_stats_list = list()\n",
    "    for index in range(len(matchup_stats_dictionary)):\n",
    "        if index != 0 and index != 2:\n",
    "            matchup_9cat_stats_list.append(matchup_stats_dictionary[index][STAT_KEY][VALUE_KEY])\n",
    "    values = [team_name] + matchup_9cat_stats_list\n",
    "    live_matchup_9cat_stats_dataframe = pd.DataFrame(values).T\n",
    "    live_matchup_9cat_stats_dataframe.columns = MATCHUP_COLUMNS\n",
    "    return live_matchup_9cat_stats_dataframe\n",
    "\n",
    "# Format and find 9cat differences\n",
    "def remove_player_and_float_convert(dataframe):\n",
    "    \"\"\"\n",
    "    Function cleans dataframe by converting all columns to dtype float\n",
    "    @param dataframe: dataframe with columns to convert\n",
    "    @return: converted dataframe\n",
    "    \"\"\"\n",
    "    for column in dataframe.columns:\n",
    "        dataframe[column] = dataframe[column].astype(float)\n",
    "    return dataframe\n",
    "\n",
    "def format_3ptm_to_tov_as_int(dataframe):\n",
    "    \"\"\"\n",
    "    Function changes the 3ptm to tov columns to dtype int needed for the live score dataframes.\n",
    "    @param dataframe: dataframe with columns to convert\n",
    "    @return: converted dataframe\n",
    "    \"\"\"\n",
    "    for column in dataframe.columns[2:]:\n",
    "        dataframe[column] = dataframe[column].astype(int)\n",
    "    return dataframe\n",
    "\n",
    "def get_matchup_teams_9cat_stat_dataframes(week, team_dict):\n",
    "    \"\"\"\n",
    "\n",
    "    @param week:\n",
    "    @type week:\n",
    "    @param team_dict:\n",
    "    @type team_dict:\n",
    "    @return:\n",
    "    @rtype:\n",
    "    \"\"\"\n",
    "    sc = af.yahoo_fantasy_api_authentication()\n",
    "    league = af.yahoo_fantasy_league(sc)\n",
    "    matchups = league.matchups(week=week)\n",
    "    matchup_number = get_teams_matchup_number(team_dict, matchups)\n",
    "    first_team_name = get_team_name_from_matchup(matchups, matchup_number, \"0\")\n",
    "    second_team_name = get_team_name_from_matchup(matchups, matchup_number, \"1\")\n",
    "    first_team_stats_dictionary = get_live_matchup_stats_dictionary(matchups, matchup_number,\n",
    "                                                                    \"0\")\n",
    "    second_team_stats_dictionary = get_live_matchup_stats_dictionary(matchups, matchup_number,\n",
    "                                                                     \"1\")\n",
    "    first_team_stats_dataframe = get_dataframe_from_live_matchup_stats(first_team_stats_dictionary,\n",
    "                                                              first_team_name)\n",
    "    first_team_stats_dataframe = first_team_stats_dataframe.set_index(PLAYER_COLUMN)\n",
    "    second_team_stats_dataframe = get_dataframe_from_live_matchup_stats(second_team_stats_dictionary,\n",
    "                                                              second_team_name)\n",
    "    second_team_stats_dataframe = second_team_stats_dataframe.set_index(PLAYER_COLUMN)\n",
    "    matchup_stats_dataframe = first_team_stats_dataframe.append(second_team_stats_dataframe)\n",
    "    matchup_stats_dataframe = remove_player_and_float_convert(matchup_stats_dataframe)\n",
    "    matchup_stats_dataframe = format_3ptm_to_tov_as_int(matchup_stats_dataframe)\n",
    "    return first_team_name, first_team_stats_dataframe, second_team_name, \\\n",
    "           second_team_stats_dataframe, matchup_stats_dataframe\n",
    "\n",
    "def get_team_dict_from_team_name(team_name):\n",
    "    \"\"\"\n",
    "    Function returns the team dictionary from a team name.\n",
    "    @param team_name: name of fantasy team\n",
    "    @type team_name: string\n",
    "    @return: dictionary of fantasy team\n",
    "    @rtype: dicitonary\n",
    "    \"\"\"\n",
    "    if team_name == af.AUTOPICK[NAME_KEY]:\n",
    "        team_dict = af.AUTOPICK\n",
    "    elif team_name == af.CRABBEHERBYTHEPUSSY[NAME_KEY]:\n",
    "        team_dict = af.CRABBEHERBYTHEPUSSY\n",
    "    elif team_name == af.EL_LADRON_DE_CABRAS[NAME_KEY]:\n",
    "        team_dict = af.EL_LADRON_DE_CABRAS\n",
    "    elif team_name == af.LALALAND[NAME_KEY]:\n",
    "        team_dict = af.LALALAND\n",
    "    elif team_name == af.MAGICS_JOHNSON[NAME_KEY]:\n",
    "        team_dict = af.MAGICS_JOHNSON\n",
    "    elif team_name == af.MCCURRY[NAME_KEY]:\n",
    "        team_dict = af.MCCURRY\n",
    "    elif team_name == af.NUNN_OF_YALL_BETTA[NAME_KEY]:\n",
    "        team_dict = af.NUNN_OF_YALL_BETTA\n",
    "    elif team_name == af.RUSTY_CUNTBROOKS[NAME_KEY]:\n",
    "        team_dict = af.RUSTY_CUNTBROOKS\n",
    "    elif team_name == af.SWAGGY_P[NAME_KEY]:\n",
    "        team_dict = af.SWAGGY_P\n",
    "    elif team_name == af.TVONS_TIP_TOP_TEAM[NAME_KEY]:\n",
    "        team_dict = af.TVONS_TIP_TOP_TEAM\n",
    "    elif team_name == af.WAKANDA_FOREVER[NAME_KEY]:\n",
    "        team_dict = af.WAKANDA_FOREVER\n",
    "    elif team_name == af.YOBITCH_TOPPIN_ME[NAME_KEY]:\n",
    "        team_dict = af.YOBITCH_TOPPIN_ME\n",
    "    return team_dict"
   ],
   "metadata": {
    "collapsed": false,
    "pycharm": {
     "name": "#%%\n"
    }
   }
  },
  {
   "cell_type": "markdown",
   "source": [
    "### Get Stats Yahoo API"
   ],
   "metadata": {
    "collapsed": false
   }
  },
  {
   "cell_type": "code",
   "execution_count": null,
   "outputs": [],
   "source": [
    "league.player_stats([4660, 6048], req_type=\"lastweek\")"
   ],
   "metadata": {
    "collapsed": false,
    "pycharm": {
     "name": "#%%\n"
    }
   }
  },
  {
   "cell_type": "code",
   "execution_count": null,
   "outputs": [],
   "source": [
    "team1_name, team1_live_stats, team2_name, team2_live_stats = \\\n",
    "    get_matchup_teams_9cat_stat_dataframes(8, af.NUNN_OF_YALL_BETTA)"
   ],
   "metadata": {
    "collapsed": false,
    "pycharm": {
     "name": "#%%\n"
    }
   }
  },
  {
   "cell_type": "code",
   "execution_count": null,
   "outputs": [],
   "source": [
    "team1_dict = get_team_dict_from_team_name(team1_name)\n",
    "team1_dict"
   ],
   "metadata": {
    "collapsed": false,
    "pycharm": {
     "name": "#%%\n"
    }
   }
  },
  {
   "cell_type": "code",
   "execution_count": null,
   "outputs": [],
   "source": [
    "name_id_dict, name_list = get_player_ids_names_in_fantasy_team(team1_dict)"
   ],
   "metadata": {
    "collapsed": false,
    "pycharm": {
     "name": "#%%\n"
    }
   }
  },
  {
   "cell_type": "code",
   "execution_count": null,
   "outputs": [],
   "source": [
    "schedule_dataframe = get_game_information_in_season(\"2020\")\n",
    "week_start_date = \"2021-02-14\"\n",
    "week_end_date = \"2021-02-14\"\n",
    "games_left_dataframe, games_left_series = get_fantasy_week_games_dataframe(schedule_dataframe,\n",
    "                                                                           week_start_date,\n",
    "                                                                           week_end_date)\n",
    "player_game_dictionary = get_player_games(games_left_series, name_list)"
   ],
   "metadata": {
    "collapsed": false,
    "pycharm": {
     "name": "#%%\n"
    }
   }
  },
  {
   "cell_type": "code",
   "execution_count": null,
   "outputs": [],
   "source": [
    "# Nunn 9Cat averages\n",
    "sc = af.yahoo_fantasy_api_authentication()\n",
    "league = af.yahoo_fantasy_league(sc)\n",
    "nunn_of_yall_betta_team = af.team_9cat_average_stats(team1_dict, league)"
   ],
   "metadata": {
    "collapsed": false,
    "pycharm": {
     "name": "#%%\n"
    }
   }
  },
  {
   "cell_type": "code",
   "execution_count": null,
   "outputs": [],
   "source": [
    "predicted_stat_dataframe = get_predicted_player_weekly_9cat(player_game_dictionary,\n",
    "                                                     nunn_of_yall_betta_team)\n",
    "predicted_stat_dataframe"
   ],
   "metadata": {
    "collapsed": false,
    "pycharm": {
     "name": "#%%\n"
    }
   }
  },
  {
   "cell_type": "code",
   "execution_count": null,
   "outputs": [],
   "source": [
    "datframe_with_total = get_total_row(predicted_stat_dataframe)\n",
    "total_row_datafame, total_row_datafame_no_name = get_filtered_total_row(datframe_with_total, af\n",
    "                                                                 .NUNN_OF_YALL_BETTA)\n",
    "total_row_datafame"
   ],
   "metadata": {
    "collapsed": false,
    "pycharm": {
     "name": "#%%\n"
    }
   }
  },
  {
   "cell_type": "code",
   "execution_count": null,
   "outputs": [],
   "source": [
    "total_row_datafame.reset_index(inplace=True, drop=True)\n",
    "team1_live_stats = columns_to_dtype_float(team1_live_stats)\n",
    "team1_live_stats.drop(\"PLAYER\", axis=1, inplace=True)\n",
    "total_row_datafame.drop(\"PLAYER\", axis=1, inplace=True)"
   ],
   "metadata": {
    "collapsed": false,
    "pycharm": {
     "name": "#%%\n"
    }
   }
  },
  {
   "cell_type": "code",
   "execution_count": null,
   "outputs": [],
   "source": [
    "team1_live_stats.add(total_row_datafame)"
   ],
   "metadata": {
    "collapsed": false,
    "pycharm": {
     "name": "#%%\n"
    }
   }
  },
  {
   "cell_type": "code",
   "execution_count": null,
   "outputs": [],
   "source": [
    "\n",
    "a = pd.DataFrame()\n",
    "a[\"PLAYER\"] = \"adasd\"\n",
    "b = pd.concat([a, team1_live_stats])\n",
    "b[\"PLAYER\"] = \"dsf\"\n",
    "b\n"
   ],
   "metadata": {
    "collapsed": false,
    "pycharm": {
     "name": "#%%\n"
    }
   }
  },
  {
   "cell_type": "code",
   "execution_count": null,
   "outputs": [],
   "source": [
    "def get_team_predicted_stats_dataframe(team_name, schedule_dataframe, week_start_date,\n",
    "                                       week_end_date):\n",
    "    \"\"\"\n",
    "    Function creates a dataframe containing the predicted 9cat stats for a teams roster dependent\n",
    "    on the amount of games each player has left to play in the stated date range.\n",
    "    @param team_name (string): name of Yahoo Fantasy team\n",
    "    @param schedule_dataframe (pandas dataframe): dataframe containing the entire seasons\n",
    "    NBA schedule\n",
    "    @param week_start_date (string): start date of to begin schedule_dataframe filtering\n",
    "    @param week_end_date (string): endd date of to begin schedule_dataframe filtering\n",
    "    @return predicted_stats_dataframe: predicted 9cat stats for a teams roster\n",
    "    @return team_dictionary (dictionary): dictionary of team from league\n",
    "    \"\"\"\n",
    "    team_dictionary = get_team_dict_from_team_name(team_name)\n",
    "    name_id_dictionary, name_list = get_player_ids_names_in_fantasy_team(team_dictionary)\n",
    "    games_left_dataframe, games_left_series = get_fantasy_week_games_dataframe\\\n",
    "        (schedule_dataframe, week_start_date, week_end_date)\n",
    "    player_game_dictionary = get_player_games(games_left_series, name_list)\n",
    "    sc = af.yahoo_fantasy_api_authentication()\n",
    "    league = af.yahoo_fantasy_league(sc)\n",
    "    team_9cat_average_stats_dataframe = af.team_9cat_average_stats(team_dictionary, league)\n",
    "    predicted_stats_dataframe = get_predicted_player_weekly_9cat(player_game_dictionary,\n",
    "                                                                team_9cat_average_stats_dataframe)\n",
    "    return predicted_stats_dataframe, team_dictionary\n",
    "\n",
    "def get_clean_predicted_stats_dataframe(predicted_stats_dataframe, team_dict):\n",
    "    \"\"\"\n",
    "    Function cleans the predicted stats dataframe by creating a total row and adding the name of\n",
    "    the team via the team_dict parameter.\n",
    "    @param predicted_stats_dataframe (pandas dataframe): predicted 9cat stats for a teams roster\n",
    "    @param team_dict (dictionary): dictionary of team from league\n",
    "    @return total_row_predicted_stats_datafame: 1x10 predicted 9cat dataframes\n",
    "    @return total_row_predicted_stats_datafame_no_name: 1x9 predicted 9cat dataframes (without\n",
    "    team name)\n",
    "    \"\"\"\n",
    "    dataframe_with_total = get_total_row(predicted_stats_dataframe)\n",
    "    total_row_predicted_stats_datafame, total_row_predicted_stats_datafame_no_name = \\\n",
    "        get_filtered_total_row(dataframe_with_total, team_dict)\n",
    "    return total_row_predicted_stats_datafame, total_row_predicted_stats_datafame_no_name\n",
    "\n",
    "def add_live_stats_and_predicted_dataframes(live_stats_dataframe,\n",
    "                                            total_row_predicted_stats_datafame, team_name):\n",
    "    \"\"\"\n",
    "    Function adds the dataframes containing live matchup stats and the predicted game stats. It\n",
    "    returns a 1x10 dataframe with team name and 9cat stats.\n",
    "    @param live_stats_dataframe (pandas dataframe): current matchup 9cat stats for a team roster\n",
    "    @param total_row_predicted_stats_datafame (pandas dataframe): total row predicted 9cat stats\n",
    "    for a team roster\n",
    "    @param team_name (string): name of Yahoo Fantasy team\n",
    "    @return live_plus_prediction_dataframe: 1X10 9cat live plus predicted 9cat stats dataframe\n",
    "    \"\"\"\n",
    "    try:\n",
    "        total_row_predicted_stats_datafame.reset_index(inplace=True, drop=True)\n",
    "    except:\n",
    "        pass\n",
    "    live_stats_dataframe = columns_to_dtype_float(live_stats_dataframe)\n",
    "    live_stats_dataframe.reset_index(inplace=True)\n",
    "    try:\n",
    "        total_row_predicted_stats_datafame.drop(PLAYER_COLUMN, axis=1, inplace=True)\n",
    "    except:\n",
    "        pass\n",
    "\n",
    "    live_plus_prediction_dataframe = live_stats_dataframe.add(total_row_predicted_stats_datafame)\n",
    "    print(live_plus_prediction_dataframe)\n",
    "    temporary_dataframe = pd.DataFrame()\n",
    "    temporary_dataframe[PLAYER_COLUMN] = team_name\n",
    "    live_plus_prediction_dataframe = pd.concat([temporary_dataframe,\n",
    "                                                live_plus_prediction_dataframe])\n",
    "    live_plus_prediction_dataframe[PLAYER_COLUMN] = team_name\n",
    "    return live_plus_prediction_dataframe"
   ],
   "metadata": {
    "collapsed": false,
    "pycharm": {
     "name": "#%%\n"
    }
   }
  },
  {
   "cell_type": "code",
   "execution_count": null,
   "outputs": [],
   "source": [
    "total_row_predicted_stats_datafame"
   ],
   "metadata": {
    "collapsed": false,
    "pycharm": {
     "name": "#%%\n"
    }
   }
  },
  {
   "cell_type": "code",
   "execution_count": null,
   "outputs": [],
   "source": [
    "team1_live_stats"
   ],
   "metadata": {
    "collapsed": false,
    "pycharm": {
     "name": "#%%\n"
    }
   }
  },
  {
   "cell_type": "code",
   "execution_count": null,
   "outputs": [],
   "source": [
    "live_plus_prediction_dataframe = add_live_stats_and_predicted_dataframes(team1_live_stats,\n",
    "                                            total_row_predicted_stats_datafame, team1_name)\n",
    "\n",
    "live_plus_prediction_dataframe"
   ],
   "metadata": {
    "collapsed": false,
    "pycharm": {
     "name": "#%%\n"
    }
   }
  },
  {
   "cell_type": "code",
   "execution_count": null,
   "outputs": [],
   "source": [
    "live_plus_prediction_dataframe.info()"
   ],
   "metadata": {
    "collapsed": false,
    "pycharm": {
     "name": "#%%\n"
    }
   }
  },
  {
   "cell_type": "code",
   "execution_count": null,
   "outputs": [],
   "source": [
    "team1_name, team1_live_stats, team2_name, team2_live_stats, matchup_df = \\\n",
    "    get_matchup_teams_9cat_stat_dataframes(8, af.NUNN_OF_YALL_BETTA)\n",
    "\n",
    "schedule_dataframe = get_game_information_in_season(\"2020\")\n",
    "week_start_date = \"2021-02-14\"\n",
    "week_end_date = \"2021-02-14\""
   ],
   "metadata": {
    "collapsed": false,
    "pycharm": {
     "name": "#%%\n"
    }
   }
  },
  {
   "cell_type": "code",
   "execution_count": null,
   "outputs": [],
   "source": [
    "predicted_stats_dataframe, team_dictionary = get_team_predicted_stats_dataframe(team1_name,\n",
    "                                                                                schedule_dataframe,\n",
    "                                                             week_start_date, week_end_date)\n",
    "\n",
    "total_row_predicted_stats_datafame, total_row_predicted_stats_datafame_no_name = \\\n",
    "    get_clean_predicted_stats_dataframe(predicted_stats_dataframe, team_dictionary)\n",
    "\n",
    "live_plus_prediction_dataframe = add_live_stats_and_predicted_dataframes(team1_live_stats,\n",
    "                                            total_row_predicted_stats_datafame, team1_name)\n",
    "\n",
    "live_plus_prediction_dataframe"
   ],
   "metadata": {
    "collapsed": false,
    "pycharm": {
     "name": "#%%\n"
    }
   }
  },
  {
   "cell_type": "code",
   "execution_count": null,
   "outputs": [],
   "source": [
    "def live_plus_prediction_matchup_dataframe(schedule_dataframe, team_name, current_date,\n",
    "                                           week_end_date):\n",
    "    \"\"\"\n",
    "\n",
    "    @param schedule_dataframe:\n",
    "    @param team_name:\n",
    "    @param current_date:\n",
    "    @param week_end_date:\n",
    "    @return:\n",
    "    \"\"\"\n",
    "    predicted_stats_dataframe, team_dictionary = get_team_predicted_stats_dataframe\\\n",
    "        (team_name, schedule_dataframe, current_date, week_end_date)\n",
    "    total_row_predicted_stats_datafame, total_row_predicted_stats_datafame_no_name = \\\n",
    "    get_clean_predicted_stats_dataframe(predicted_stats_dataframe, team_dictionary)\n",
    "    live_plus_prediction_dataframe = add_live_stats_and_predicted_dataframes(team1_live_stats,\n",
    "                                            total_row_predicted_stats_datafame, team_name)\n",
    "    return live_plus_prediction_dataframe"
   ],
   "metadata": {
    "collapsed": false,
    "pycharm": {
     "name": "#%%\n"
    }
   }
  },
  {
   "cell_type": "code",
   "execution_count": null,
   "outputs": [],
   "source": [
    "from datetime import date\n",
    "\n",
    "schedule_dataframe = get_game_information_in_season(\"2020\")\n",
    "\n",
    "current_fantasy_week, week_start_date, week_end_date = get_week_current_week_information()\n",
    "\n",
    "current_date = date.today()\n",
    "\n",
    "team1_name, team1_live_stats, team2_name, team2_live_stats, matchup_stats_dataframe = \\\n",
    "    get_matchup_teams_9cat_stat_dataframes(current_fantasy_week, af.NUNN_OF_YALL_BETTA)\n",
    "\n",
    "a = live_plus_prediction_matchup_dataframe(schedule_dataframe, team1_name, current_date,\n",
    "                                           week_end_date)\n",
    "a"
   ],
   "metadata": {
    "collapsed": false,
    "pycharm": {
     "name": "#%%\n"
    }
   }
  },
  {
   "cell_type": "code",
   "execution_count": null,
   "outputs": [],
   "source": [
    "from datetime import date\n",
    "\n",
    "def get_live_matchup_predictions(week, team_dict, team1_9cat_average_stats_data=None,\n",
    "                             team2_9cat_average_stats_data=None, season=\"2020\"):\n",
    "    \"\"\"\n",
    "\n",
    "    @return:\n",
    "    @rtype:\n",
    "    \"\"\"\n",
    "    sc = af.yahoo_fantasy_api_authentication()\n",
    "    league = af.yahoo_fantasy_league(sc)\n",
    "    team1_name, team1_live_stats, team2_name, team2_live_stats = \\\n",
    "        get_matchup_teams_9cat_stat_dataframes\\\n",
    "        (week, team_dict)\n",
    "    team1_dict = get_team_dict_from_team_name(team1_name)\n",
    "    team2_dict = get_team_dict_from_team_name(team2_name)\n",
    "    name_id_dict, name_list = get_player_ids_names_in_fantasy_team(team_dict)\n",
    "    schedule_dataframe = get_game_information_in_season(season)\n",
    "    current_fantasy_week, week_start_date, week_end_date = get_week_current_week_information()\n",
    "    week_start_date = date.today()\n",
    "    games_left_dataframe, games_left_series = get_fantasy_week_games_dataframe(schedule_dataframe,\n",
    "                                                                           week_start_date,\n",
    "                                                                           week_end_date)\n",
    "    player_game_dictionary = get_player_games(games_left_series, name_list)\n",
    "    team1_9cat_average_stats_data = af.team_9cat_average_stats(team_dict, league)\n",
    "    team1_predicted_stat_dataframe = get_predicted_player_weekly_9cat(player_game_dictionary,\n",
    "                                                                team1_9cat_average_stats_data)\n",
    "    team2_9cat_average_stats_data = af.team_9cat_average_stats(team_dict, league)\n",
    "    team2_predicted_stat_dataframe = get_predicted_player_weekly_9cat(player_game_dictionary,\n",
    "                                                                team2_9cat_average_stats_data)\n",
    "    team1_dataframe_with_total = get_total_row(predicted_stat_dataframe)\n",
    "    team1_total_row_datafame, team1_total_row_datafame_no_name = get_filtered_total_row\\\n",
    "        (team1_dataframe_with_total, team1_dict)\n",
    "    team2_dataframe_with_total = get_total_row(predicted_stat_dataframe)\n",
    "    team2_total_row_datafame, team2_total_row_datafame_no_name = get_filtered_total_row\\\n",
    "        (team2_dataframe_with_total, team2_dict)\n",
    "    return team1_total_row_datafame ,team2_total_row_datafame"
   ],
   "metadata": {
    "collapsed": false,
    "pycharm": {
     "name": "#%%\n"
    }
   }
  },
  {
   "cell_type": "code",
   "execution_count": null,
   "outputs": [],
   "source": [
    "week_start_date = date.today()"
   ],
   "metadata": {
    "collapsed": false,
    "pycharm": {
     "name": "#%%\n"
    }
   }
  },
  {
   "cell_type": "code",
   "execution_count": null,
   "outputs": [],
   "source": [
    "week_start_date"
   ],
   "metadata": {
    "collapsed": false,
    "pycharm": {
     "name": "#%%\n"
    }
   }
  },
  {
   "cell_type": "code",
   "execution_count": null,
   "outputs": [],
   "source": [
    "current_fantasy_week, week_start_date, week_end_date = get_week_current_week_information()\n",
    "\n",
    "team1_name, team1_live_stats, team2_name, team2_live_stats, matchup_stats_dataframe = \\\n",
    "    get_matchup_teams_9cat_stat_dataframes(current_fantasy_week, af.NUNN_OF_YALL_BETTA)"
   ],
   "metadata": {
    "collapsed": false,
    "pycharm": {
     "name": "#%%\n"
    }
   }
  },
  {
   "cell_type": "code",
   "execution_count": null,
   "outputs": [],
   "source": [
    "count_team1_win_list = 0\n",
    "count_team2_win_list = 0\n",
    "for column in matchup_stats_dataframe.columns[:-1]:\n",
    "    if matchup_stats_dataframe[column][0] > matchup_stats_dataframe[column][1]:\n",
    "        count_team1_win_list += 1\n",
    "    elif matchup_stats_dataframe[column][0] < matchup_stats_dataframe[column][1]:\n",
    "        count_team2_win_list += 1\n",
    "    else:\n",
    "        pass\n",
    "\n",
    "\n",
    "if matchup_stats_dataframe[\"TOV\"][0] > matchup_stats_dataframe[\"TOV\"][1]:\n",
    "    count_team2_win_list += 1\n",
    "elif matchup_stats_dataframe[\"TOV\"][0] < matchup_stats_dataframe[\"TOV\"][1]:\n",
    "    count_team1_win_list += 1\n",
    "else:\n",
    "    pass\n"
   ],
   "metadata": {
    "collapsed": false,
    "pycharm": {
     "name": "#%%\n"
    }
   }
  },
  {
   "cell_type": "code",
   "execution_count": null,
   "outputs": [],
   "source": [
    "def move_column_inplace(df, col, pos):\n",
    "    col = df.pop(col)\n",
    "    df.insert(pos, col.name, col)"
   ],
   "metadata": {
    "collapsed": false,
    "pycharm": {
     "name": "#%%\n"
    }
   }
  },
  {
   "cell_type": "code",
   "execution_count": null,
   "outputs": [],
   "source": [
    "team_stat_win_list = [count_team1_win_list, count_team2_win_list]\n",
    "matchup_stats_dataframe[\"CATS\"] = team_stat_win_list\n",
    "move_column_inplace(matchup_stats_dataframe, \"CATS\", 0)"
   ],
   "metadata": {
    "collapsed": false,
    "pycharm": {
     "name": "#%%\n"
    }
   }
  },
  {
   "cell_type": "code",
   "execution_count": null,
   "outputs": [],
   "source": [
    "matchup_stats_dataframe"
   ],
   "metadata": {
    "collapsed": false,
    "pycharm": {
     "name": "#%%\n"
    }
   }
  },
  {
   "cell_type": "code",
   "execution_count": null,
   "outputs": [],
   "source": [
    "TURNOVERS_COLUMN = \"TOV\"\n",
    "CATS_COLUMNS = \"CATS\"\n",
    "\n",
    "def move_column_inplace(df, col, pos):\n",
    "    col = df.pop(col)\n",
    "    df.insert(pos, col.name, col)\n",
    "\n",
    "def get_winning_cats(matchup_stats_dataframe):\n",
    "    \"\"\"\n",
    "    Function counts, for each team (row) in dataframe, which team has better category values.\n",
    "    This provides a score informing total categories that each team is winning.\n",
    "    @param matchup_stats_dataframe:\n",
    "    @return: dataframe with category win count column\n",
    "    \"\"\"\n",
    "    count_team1_win_list = 0\n",
    "    count_team2_win_list = 0\n",
    "    for column in matchup_stats_dataframe.columns[:-1]:\n",
    "        if matchup_stats_dataframe[column][0] > matchup_stats_dataframe[column][1]:\n",
    "            count_team1_win_list += 1\n",
    "        elif matchup_stats_dataframe[column][0] < matchup_stats_dataframe[column][1]:\n",
    "            count_team2_win_list += 1\n",
    "        else:\n",
    "            pass\n",
    "    if matchup_stats_dataframe[TURNOVERS_COLUMN][0] > matchup_stats_dataframe[TURNOVERS_COLUMN][1]:\n",
    "        count_team2_win_list += 1\n",
    "    elif matchup_stats_dataframe[TURNOVERS_COLUMN][0] < matchup_stats_dataframe[TURNOVERS_COLUMN][1]:\n",
    "        count_team1_win_list += 1\n",
    "    else:\n",
    "        pass\n",
    "    team_stat_win_list = [count_team1_win_list, count_team2_win_list]\n",
    "    matchup_stats_dataframe[CATS_COLUMNS] = team_stat_win_list\n",
    "    move_column_inplace(matchup_stats_dataframe, CATS_COLUMNS, 0)\n",
    "    return matchup_stats_dataframe\n",
    "\n",
    "def get_live_matchup_stats_pipeline(team_dictionary):\n",
    "    \"\"\"\n",
    "    Function pipelines the process involved in returning, for a specified team, its matchups\n",
    "    live stats and category win columns count\n",
    "    @param team_dictionary: dictionary containing team information from league\n",
    "    @return: dataframe with live matchup 9cat stats and category win count column\n",
    "    \"\"\"\n",
    "    current_fantasy_week, week_start_date, week_end_date = get_week_current_week_information()\n",
    "    team1_name, team1_live_stats, team2_name, team2_live_stats, matchup_stats_dataframe = \\\n",
    "        get_matchup_teams_9cat_stat_dataframes(current_fantasy_week, team_dictionary)\n",
    "    matchup_stats_dataframe = get_winning_cats(matchup_stats_dataframe)\n",
    "    return current_fantasy_week, team1_name, team1_live_stats, team2_name, team2_live_stats, \\\n",
    "           matchup_stats_dataframe"
   ],
   "metadata": {
    "collapsed": false,
    "pycharm": {
     "name": "#%%\n"
    }
   }
  },
  {
   "cell_type": "code",
   "execution_count": null,
   "outputs": [],
   "source": [
    "\n",
    "get_live_matchup_stats_pipeline(af.NUNN_OF_YALL_BETTA)"
   ],
   "metadata": {
    "collapsed": false,
    "pycharm": {
     "name": "#%%\n"
    }
   }
  },
  {
   "cell_type": "code",
   "execution_count": null,
   "outputs": [],
   "source": [
    "import requests\n",
    "import pandas as pd\n",
    "from src.data import all_functions as af\n",
    "\n",
    "PLAYER_COLUMN = \"PLAYER\"\n",
    "TEAM_KEY = \"team_key\"\n",
    "PLAYER_ID_KEY = \"player_id\"\n",
    "NAME_KEY = \"name\"\n",
    "MEAN_ROW = \"mean\"\n",
    "NAME_KEY = \"name\"\n",
    "LSCD_KEY = \"lscd\"\n",
    "MSCD_KEY = \"mscd\"\n",
    "G_KEY = \"g\"\n",
    "GID_KEY = \"gid\"\n",
    "GAME_ID_KEY = \"game_id\"\n",
    "GDATE_KEY = \"gdte\"\n",
    "GAME_DATE_KEY= \"game_date\"\n",
    "V_KEY = \"v\"\n",
    "TID_KEY = \"tid\"\n",
    "VISITORS_TEAM_ID_KEY = \"visitors_tid\"\n",
    "VISITORS_KEY =  \"visitors\"\n",
    "TC_KEY = \"tc\"\n",
    "TN_KEY = \"tn\"\n",
    "H_KEY = \"h\"\n",
    "HOME_TEAM_ID_KEY = \"home_tid\"\n",
    "HOME_KEY = \"home\"\n",
    "TOTAL_ROW = \"total\"\n",
    "INDEX_COLUMN = \"index\"\n",
    "NBA_NAME_LA_CLIPPERS = \"LA Clippers\"\n",
    "YAHOO_NAME_LA_CLIPPERS = \"Los Angeles Clippers\"\n",
    "COLUMN_9CAT_DECIMAL_FORMAT = {af.FIELD_GOAL_PERCENTAGE_COLUMN : af.THREE_DECIMAL_FORMAT,\n",
    "     af.FREE_THROW_PERCENTAGE_COLUMN : af.THREE_DECIMAL_FORMAT,\n",
    "     af.THREES_MADE_COLUMN : af.TWO_DECIMAL_FORMAT,\n",
    "     af.POINTS_COLUMN : af.TWO_DECIMAL_FORMAT,\n",
    "     af.REBOUNDS_COLUMN : af.TWO_DECIMAL_FORMAT,\n",
    "     af.ASSITS_COLUMN : af.TWO_DECIMAL_FORMAT, af.STEALS_COLUMN : af.TWO_DECIMAL_FORMAT,\n",
    "     af.BLOCKS_COLUMN : af.TWO_DECIMAL_FORMAT, af.TURNOVERS_COLUMN : af.TWO_DECIMAL_FORMAT}\n",
    "\n",
    "def columns_to_dtype_float(dataframe):\n",
    "    \"\"\"\n",
    "    Converts dataframe columns to dtype float.\n",
    "    param dataframe (pandas dataframe): dataframe to change column types\n",
    "    returns dataframe (pandas dataframe): dataframe with changed column types\n",
    "    \"\"\"\n",
    "    for column in dataframe.columns:\n",
    "        try:\n",
    "            dataframe[column] = dataframe[column].astype(float)\n",
    "        except ValueError:\n",
    "            pass\n",
    "    return dataframe\n",
    "\n",
    "def get_and_format_team_9cat(team, league):\n",
    "    \"\"\"\n",
    "    Function first finds the teams 9cat averages by calling the *team_9cat_average_stats*\n",
    "    function. It then filters to find the team mean and cleans and formats this single row\n",
    "    dataframe. It changes the dtype of the columns to be floats.\n",
    "    param team (dictionary): team dictionary\n",
    "    param league (yahoo oauth object): yahoo authentication object\n",
    "    returns team_9cat (dataframe): dataframe of team average 9cats\n",
    "    \"\"\"\n",
    "    team_9cat = af.team_9cat_average_stats(team, league)\n",
    "    team_9cat = team_9cat.loc[MEAN_ROW]\n",
    "    team_9cat[PLAYER_COLUMN] = team[NAME_KEY]\n",
    "    team_9cat = pd.DataFrame(team_9cat).T\n",
    "    team_9cat.drop(PLAYER_COLUMN, inplace=True, axis=1)\n",
    "    team_9cat = columns_to_dtype_float(team_9cat)\n",
    "    return team_9cat\n",
    "\n",
    "def applymap_color_and_format(dataframe):\n",
    "    \"\"\"\n",
    "    Function takes a dataframe containing 9cat stat columns and returns a color coded and decimal\n",
    "    place formatted dataframe for visual ease.\n",
    "    param dataframe (pandas dataframe): dataframe to format\n",
    "    returns dataframe (pandas dataframe): dataframe with formatted and colored values\n",
    "    \"\"\"\n",
    "    colored_matchup_difference = dataframe.style.applymap(\n",
    "        af.color_negative_red, subset=pd.IndexSlice[:,[af.FIELD_GOAL_PERCENTAGE_COLUMN,\n",
    "                                                       af.FREE_THROW_PERCENTAGE_COLUMN,\n",
    "                                                       af.THREES_MADE_COLUMN, af.POINTS_COLUMN,\n",
    "                                                       af.REBOUNDS_COLUMN, af.ASSITS_COLUMN,\n",
    "                                                       af.STEALS_COLUMN, af.BLOCKS_COLUMN\n",
    "                                                       ]]).applymap(\n",
    "        af.color_negative_red_tov, subset=pd.IndexSlice[:,[af.TURNOVERS_COLUMN]]).format\\\n",
    "        (COLUMN_9CAT_DECIMAL_FORMAT)\n",
    "    return colored_matchup_difference\n",
    "\n",
    "def compare_h2h_team_9cat(team1, team2):\n",
    "    \"\"\"\n",
    "    Function authenticates on Yahoo and creates creates two dataframes containing team roster\n",
    "    9cat averages for each team specified in the parameters. It calculates the difference between\n",
    "    both 9cat averages and finally it formats the values for visual ease.\n",
    "    params team1 (dictionary): team dictionary\n",
    "    params team2 (dictionary): team dictionary\n",
    "    return matchup_difference (dataframe): team difference 9cat dataframe\n",
    "    return colored_matchup_difference (dataframe): formatted team difference 9cat dataframe\n",
    "    \"\"\"\n",
    "    sc = af.yahoo_fantasy_api_authentication()\n",
    "    league = af.yahoo_fantasy_league(sc)\n",
    "    team1_9cat_stats = get_and_format_team_9cat(team1, league)\n",
    "    team2_9cat_stats = get_and_format_team_9cat(team2, league)\n",
    "    matchup_difference = team1_9cat_stats.sub(team2_9cat_stats)\n",
    "    colored_matchup_difference = applymap_color_and_format(matchup_difference)\n",
    "    return matchup_difference, colored_matchup_difference\n",
    "\n",
    "def get_game_information_in_month(nba_json):\n",
    "    \"\"\"\n",
    "    Function loops through a month (n) in nba_json and creates a dataframe containing game\n",
    "    information, game_id, home/visitor team/team_id and game_date for each month.\n",
    "    param nba_json (dictionary): dictionary containing game information\n",
    "    returns game_dataframe (pandas dataframe): dataframe containing game information for a month\n",
    "    \"\"\"\n",
    "    game_dataframe = pd.DataFrame()\n",
    "    for n in range(len(nba_json)):\n",
    "        game_dictionary = dict()\n",
    "        game_dictionary[GID_KEY] = nba_json[n][GID_KEY]\n",
    "        game_dictionary[GDATE_KEY] = nba_json[n][GDATE_KEY]\n",
    "        game_dictionary[VISITORS_TEAM_ID_KEY] = nba_json[n][V_KEY][TID_KEY]\n",
    "        game_dictionary[VISITORS_KEY] = nba_json[n][V_KEY][TC_KEY] + \" \" \\\n",
    "                                        + nba_json[n][V_KEY][TN_KEY]\n",
    "        game_dictionary[HOME_TEAM_ID_KEY] = nba_json[n][H_KEY][TID_KEY]\n",
    "        game_dictionary[HOME_KEY] = nba_json[n][H_KEY][TC_KEY] + \" \" \\\n",
    "                                    + nba_json[n][H_KEY][TN_KEY]\n",
    "        game_dataframe = game_dataframe.append(game_dictionary, ignore_index=True)\n",
    "    return game_dataframe\n",
    "\n",
    "def get_game_information_in_season(season):\n",
    "    \"\"\"\n",
    "    Function calls the NBA endpoint that returns the season schedule. It then loops through each\n",
    "    month in that schedule to create a dataframe containing game information, game_id,\n",
    "    home/visitor team/team_id and game_date for the season.\n",
    "    param season (string): season for schedule\n",
    "    returns season_games_dataframe (pandas dataframe): dataframe containing game information for\n",
    "    a season\n",
    "    \"\"\"\n",
    "    r = requests.get(f\"http://data.nba\"\n",
    "                     f\".com/data/10s/v2015/json/mobile_teams/nba/{season}/league/00_full_schedule\"\n",
    "                     f\".json\")\n",
    "    game_information_json = r.json()[LSCD_KEY]\n",
    "    season_games_dataframe = pd.DataFrame()\n",
    "    for n in range(len(game_information_json)):\n",
    "        month_n_game_dataframe = get_game_information_in_month\\\n",
    "            (game_information_json[n][MSCD_KEY][G_KEY])\n",
    "        season_games_dataframe = season_games_dataframe.append(month_n_game_dataframe)\n",
    "    return season_games_dataframe\n",
    "\n",
    "def get_week_current_week_information():\n",
    "    \"\"\"\n",
    "    Function finds the current Yahoo Fantasy week number and its start and end date.\n",
    "    return current_fantasy_week (int): Yahoo Fantasy week number\n",
    "    return week_start_date (string): start date of Yahoo Fantasy week number\n",
    "    return week_end_date (string): end date of Yahoo Fantasy week number\n",
    "    \"\"\"\n",
    "    sc = af.yahoo_fantasy_api_authentication()\n",
    "    league = af.yahoo_fantasy_league(sc)\n",
    "    current_fantasy_week = league.current_week()\n",
    "    week_start_date = league.week_date_range(current_fantasy_week)[0]\n",
    "    week_end_date = league.week_date_range(current_fantasy_week)[1]\n",
    "    return current_fantasy_week, week_start_date, week_end_date\n",
    "\n",
    "def get_next_week_information():\n",
    "    \"\"\"\n",
    "    Function finds the next Yahoo Fantasy week number and its start and end date.\n",
    "    return next_fantasy_week (int): Yahoo Fantasy week number\n",
    "    return week_start_date (string): start date of Yahoo Fantasy week number\n",
    "    return week_end_date (string): end date of Yahoo Fantasy week number\n",
    "    \"\"\"\n",
    "    sc = af.yahoo_fantasy_api_authentication()\n",
    "    league = af.yahoo_fantasy_league(sc)\n",
    "    next_fantasy_week = league.current_week() + 1\n",
    "    week_start_date = league.week_date_range(next_fantasy_week)[0]\n",
    "    week_end_date = league.week_date_range(next_fantasy_week)[1]\n",
    "    return next_fantasy_week, week_start_date, week_end_date\n",
    "\n",
    "def get_player_ids_names_in_fantasy_team(team_dict):\n",
    "    \"\"\"\n",
    "    Function finds the Yahoo Fantasy player ids and player names rostered by a team in the league\n",
    "    param team_dict (dictionary): dictionary containing information about a owners team\n",
    "    return player_id_name_team_list (list): Yahoo Fantasy player ids and names\n",
    "    return player_name_list (list): Yahoo Fantasy player names\n",
    "    \"\"\"\n",
    "    sc = af.yahoo_fantasy_api_authentication()\n",
    "    league = af.yahoo_fantasy_league(sc)\n",
    "    team = league.to_team(team_dict[TEAM_KEY])\n",
    "    team_roster = team.roster()\n",
    "    player_id_name_team_list = [{PLAYER_ID_KEY : player[PLAYER_ID_KEY], NAME_KEY : player[NAME_KEY]}\n",
    "                           for player in team_roster]\n",
    "    player_name_list = [player[NAME_KEY] for player in player_id_name_team_list]\n",
    "    return player_id_name_team_list, player_name_list\n",
    "\n",
    "def get_fantasy_week_games_dataframe(season_schedule_dataframe, week_start_date, week_end_date):\n",
    "    \"\"\"\n",
    "    Function filters the entire NBA season schedule on a start/end date to find the scheduled\n",
    "    games between specific dates. It returns the amount of games each NBA team plays during that\n",
    "    period of time.\n",
    "    param season_schedule_dataframe (pandas dataframe): dataframe containing the entire seasons\n",
    "    NBA schedule\n",
    "    param week_start_date (string): date to begin filtering by\n",
    "    param week_start_date (string): date to end filtering by\n",
    "    return current_fantasy_games_week (pandas dataframe) dataframe containing the scheduled games\n",
    "    in specified param dates\n",
    "    return team_game_counts (pandas series): series containing count of games for each NBA team\n",
    "    \"\"\"\n",
    "    filtered_games_week = season_schedule_dataframe[(season_schedule_dataframe[GDATE_KEY] >=\n",
    "                                                   str(week_start_date)) &\n",
    "                                                  (season_schedule_dataframe[GDATE_KEY] <=\n",
    "                                                   str(week_end_date))]\n",
    "    team_game_counts = filtered_games_week[HOME_KEY].append\\\n",
    "        (filtered_games_week[VISITORS_KEY]).value_counts()\n",
    "    return filtered_games_week, team_game_counts\n",
    "\n",
    "def get_player_games(team_game_counts_series, player_name_list):\n",
    "    \"\"\"\n",
    "    Function creates a dictionary containing key/value pairs of player names/games in a series of\n",
    "    NBA team game counts\n",
    "    param team_game_counts_series (pandas series): series of team name and games playing\n",
    "    param player_name_list (list): list of player names\n",
    "    return player_games_dictionary (dictionary): key/value pairing of player names/games playing\n",
    "    \"\"\"\n",
    "    player_games_dictionary = dict()\n",
    "    team_game_counts_dataframe = pd.DataFrame(team_game_counts_series)\n",
    "    team_game_counts_dataframe.reset_index(inplace=True)\n",
    "    team_game_counts_dataframe = team_game_counts_dataframe.replace(NBA_NAME_LA_CLIPPERS,\n",
    "                                                                    YAHOO_NAME_LA_CLIPPERS)\n",
    "    for player in player_name_list:\n",
    "        team = af.yahoo_player_team_and_jersey(player)[0]\n",
    "        try:\n",
    "            player_games_dictionary[player] = \\\n",
    "                team_game_counts_dataframe[team_game_counts_dataframe[\"index\"] == team][0].iloc[0]\n",
    "        except IndexError:\n",
    "            player_games_dictionary[player] = 0\n",
    "    return player_games_dictionary\n",
    "\n",
    "def get_predicted_player_weekly_9cat(player_games_dictionary, team_9cat_average_stats):\n",
    "    \"\"\"\n",
    "    Function is used to create a dataframe which contains predicted totals for a week of Yahoo\n",
    "    Fantasy play. For each player, 9cat features are multiplied by the amount of games that\n",
    "    player plays in one week.\n",
    "    param player_games_dictionary (dictionary): key/value pairing of player names/games playing\n",
    "    param team_9cat_average_stats (pandas dataframe): dataframe containing the season average\n",
    "    9cat stats for each player on a team\n",
    "    return predicted_9cat_stats (pandas dataframe): dataframe with 9cat averages multiplied by\n",
    "    games played in a week\n",
    "    \"\"\"\n",
    "    predicted_9cat_stats = pd.DataFrame()\n",
    "    team_9cat_average_stats = columns_to_dtype_float(team_9cat_average_stats)\n",
    "    for player in player_games_dictionary.keys():\n",
    "        player_predicted_9cat_stats = pd.concat(\n",
    "            [team_9cat_average_stats[team_9cat_average_stats[PLAYER_COLUMN] == player].iloc[:, :3],\n",
    "            (team_9cat_average_stats[team_9cat_average_stats[PLAYER_COLUMN] == player].iloc[:, 3:]\n",
    "            * player_games_dictionary[player])], axis=1)\n",
    "        predicted_9cat_stats = player_predicted_9cat_stats.append(predicted_9cat_stats)\n",
    "    predicted_9cat_stats.sort_index(inplace=True)\n",
    "    return predicted_9cat_stats\n",
    "\n",
    "def get_total_row(roster_dataframe):\n",
    "    \"\"\"\n",
    "    Function creates a row in the provided parameter dataframe which contains the total for\n",
    "    categories that should be summed and averages for categories that should be averaged\n",
    "    param roster_dataframe (pandas dataframe): dataframe containing player week 9cat stats\n",
    "    return roster_dataframe_with_total (pandas dataframe): dataframe containing total row\n",
    "    \"\"\"\n",
    "    sum_9cat_column_dataframe = pd.DataFrame(roster_dataframe.iloc[:, 3:].sum()).T\n",
    "    mean_9cat_column_dataframe =  pd.DataFrame(roster_dataframe.iloc[:, 1:3].mean()).T\n",
    "    total_dataframe = pd.concat([mean_9cat_column_dataframe,  sum_9cat_column_dataframe], axis=1)\n",
    "    total_dataframe[PLAYER_COLUMN] = TOTAL_ROW\n",
    "    roster_dataframe_with_total = roster_dataframe.append(total_dataframe)\n",
    "    roster_dataframe_with_total.reset_index(inplace=True, drop=True)\n",
    "    return roster_dataframe_with_total\n",
    "\n",
    "def get_teams_weekly_predicted_stats_pipeline(team_dict, week=\"next\", season=2020,\n",
    "                                              team_9cat_average_stats_data=None):\n",
    "    \"\"\"\n",
    "    Function pipelines the process required to find a league teams weekly predicted 9cat totals.\n",
    "    Initially, the number of games for each player in the provided parameter week is found.\n",
    "    Average 9cat player stats are multiplied by that number and the entire roster stats are\n",
    "    summed to provide a total. The dataframe is finally formatted.\n",
    "    param team_dict (dictionary): dictionary of team from league\n",
    "    param week (string): determines which week to calculate weekly games for\n",
    "    param season (int): determines which season to get NBA schedule for\n",
    "    param team_9cat_average_stats_data (pandas dataframe): dataframe containing player 9cat season\n",
    "    averages\n",
    "    return roster_dataframe_with_total (pandas dataframe): dataframe containing player 9cat\n",
    "    predicted weekly stats and entire roster totals\n",
    "    \"\"\"\n",
    "    sc = af.yahoo_fantasy_api_authentication()\n",
    "    league = af.yahoo_fantasy_league(sc)\n",
    "    if week == \"next\":\n",
    "        fantasy_week, week_start_date, week_end_date = get_next_week_information()\n",
    "    elif week == \"current\":\n",
    "        fantasy_week, week_start_date, week_end_date = get_week_current_week_information()\n",
    "    else:\n",
    "        raise ValueError(\"Parameter 'week' must be 'current' or 'next'.\")\n",
    "    season_games_dataframe = get_game_information_in_season(season)\n",
    "    filtered_games_week, team_game_counts = get_fantasy_week_games_dataframe\\\n",
    "        (season_games_dataframe, week_start_date, week_end_date)\n",
    "    player_id_name_team_list, player_name_list = get_player_ids_names_in_fantasy_team(team_dict)\n",
    "    player_games_dictionary = get_player_games(team_game_counts, player_name_list)\n",
    "    if team_9cat_average_stats_data is None:\n",
    "        team_9cat_average_stats_dataframe = af.team_9cat_average_stats(team_dict, league)\n",
    "        predicted_weekly_9cat_stats = get_predicted_player_weekly_9cat(player_games_dictionary,\n",
    "                                                                 team_9cat_average_stats_dataframe)\n",
    "    else:\n",
    "        predicted_weekly_9cat_stats = get_predicted_player_weekly_9cat(player_games_dictionary,\n",
    "                                                                 team_9cat_average_stats_data)\n",
    "    roster_dataframe_with_total = get_total_row(predicted_weekly_9cat_stats)\n",
    "    roster_dataframe_with_total = af.format_dataframe_decimals(roster_dataframe_with_total)\n",
    "    return roster_dataframe_with_total\n",
    "\n",
    "def get_filtered_total_row(total_dataframe, team_dict):\n",
    "    \"\"\"\n",
    "    Function filters a dataframe containing weekly total 9cat stats and returns the *total* row\n",
    "    so that it can be used for differencing. The function appends the team name to the total row\n",
    "    param total_dataframe (pandas dataframe): dataframe containing weekly total 9cat stats\n",
    "    param team_dict (dictionary): dictionary of team from league\n",
    "    return total_row_dataframe (pandas dataframe): single row dataframe containing total 9cat\n",
    "    stats with team name\n",
    "    return total_row_dataframe_no_name (pandas dataframe): single row dataframe containing total 9cat\n",
    "    stats without team name\n",
    "    \"\"\"\n",
    "    total_row_dataframe = total_dataframe[total_dataframe[PLAYER_COLUMN] == TOTAL_ROW]\n",
    "    total_row_dataframe[PLAYER_COLUMN] = team_dict[NAME_KEY]\n",
    "    total_row_dataframe.index = [TOTAL_ROW]\n",
    "    total_row_dataframe_no_name = total_row_dataframe.drop(PLAYER_COLUMN, axis=1)\n",
    "    return total_row_dataframe, total_row_dataframe_no_name\n",
    "\n",
    "def weekly_matchup_evaluator(team1_dict, team2_dict, team1_9cat_average_stats_data=None,\n",
    "                             team2_9cat_average_stats_data=None, week=\"next\", season=2020):\n",
    "    \"\"\"\n",
    "\n",
    "    \"\"\"\n",
    "    team1_roster_dataframe_with_total = get_teams_weekly_predicted_stats_pipeline(\n",
    "        team1_dict, week=week, season=season,\n",
    "        team_9cat_average_stats_data=team1_9cat_average_stats_data)\n",
    "    team2_roster_dataframe_with_total = get_teams_weekly_predicted_stats_pipeline(\n",
    "        team2_dict, week=week, season=season,\n",
    "        team_9cat_average_stats_data=team2_9cat_average_stats_data)\n",
    "    team1_total_row_dataframe, team1_total_row_dataframe_no_name = get_filtered_total_row\\\n",
    "        (team1_roster_dataframe_with_total, team1_dict)\n",
    "    team2_total_row_dataframe, team2_total_row_dataframe_no_name = get_filtered_total_row\\\n",
    "        (team2_roster_dataframe_with_total, team2_dict)\n",
    "    team1_total_row_dataframe_no_name = columns_to_dtype_float(team1_total_row_dataframe_no_name)\n",
    "    team2_total_row_dataframe_no_name = columns_to_dtype_float(team2_total_row_dataframe_no_name)\n",
    "    total_difference_dataframe = team1_total_row_dataframe_no_name.subtract\\\n",
    "        (team2_total_row_dataframe_no_name)\n",
    "    total_difference_dataframe_colored = applymap_color_and_format(total_difference_dataframe)\n",
    "    return total_difference_dataframe, total_difference_dataframe_colored\n",
    "\n",
    "FANTASY_CONTENT_KEY = \"fantasy_content\"\n",
    "LEAGUE_KEY = \"league\"\n",
    "SCOREBOARD_KEY = \"scoreboard\"\n",
    "ZERO_KEY = \"0\"\n",
    "MATCHUPS_KEY = \"matchups\"\n",
    "MATCHUP_KEY = \"matchup\"\n",
    "TEAMS_KEY = \"teams\"\n",
    "ONE_KEY = \"1\"\n",
    "TEAM_KEY_2 = \"team\"\n",
    "NAME_KEY = \"name\"\n",
    "TEAM_STATS_KEY = \"team_stats\"\n",
    "STATS_KEY = \"stats\"\n",
    "STAT_KEY = \"stat\"\n",
    "VALUE_KEY = \"value\"\n",
    "MATCHUP_COLUMNS = [af.PLAYER_COLUMN] + af.NINE_CAT_COLUMNS\n",
    "\n",
    "def get_teams_matchup_number(team_dict, matchups):\n",
    "    \"\"\"\n",
    "    Function loops through returned the returned Yahoo Fantasy matchup nested dictionary to find\n",
    "    the matchup number of the specified parameter team name.\n",
    "    param team_dict (dictionary): dictionary containing information about a owners team\n",
    "    param matchups (dictionary): league matchup information from specified week number\n",
    "    return matchup (string): string value for the index of the specified teams nested matchup\n",
    "    dictionary in the original matchup dictionary\n",
    "    \"\"\"\n",
    "    for matchup in range(len(matchups[FANTASY_CONTENT_KEY][LEAGUE_KEY][1][SCOREBOARD_KEY][ZERO_KEY]\\\n",
    "                [MATCHUPS_KEY]) - 1):\n",
    "        if matchups[FANTASY_CONTENT_KEY][LEAGUE_KEY][1][SCOREBOARD_KEY][ZERO_KEY]\\\n",
    "                [MATCHUPS_KEY][str(matchup)][MATCHUP_KEY][ZERO_KEY][TEAMS_KEY][ZERO_KEY]\\\n",
    "                [TEAM_KEY_2][0][2][NAME_KEY] == team_dict[NAME_KEY] \\\n",
    "                or matchups[FANTASY_CONTENT_KEY][LEAGUE_KEY][1][SCOREBOARD_KEY][ZERO_KEY]\\\n",
    "                [MATCHUPS_KEY][str(matchup)][MATCHUP_KEY][ZERO_KEY][TEAMS_KEY][ONE_KEY]\\\n",
    "                [TEAM_KEY_2][0][2][NAME_KEY] == team_dict[NAME_KEY]:\n",
    "            return str(matchup)\n",
    "\n",
    "def get_team_name_from_matchup(matchups, matchup_number, matchup_team_number):\n",
    "    \"\"\"\n",
    "    Function returns the team name in a matchup.\n",
    "    param matchups (dictionary): league matchup information from specified week number\n",
    "    param matchup_number (string): matchup number for in matchups dictionary\n",
    "    param matchup_team_number (string): either \"0\" or \"1\" indicating matchup team number\n",
    "    return team_name (string): name of team in matchup\n",
    "    \"\"\"\n",
    "    team_name = matchups[FANTASY_CONTENT_KEY][LEAGUE_KEY][1][SCOREBOARD_KEY][ZERO_KEY]\\\n",
    "                [MATCHUPS_KEY][matchup_number][MATCHUP_KEY][ZERO_KEY][TEAMS_KEY]\\\n",
    "                [matchup_team_number][TEAM_KEY_2][0][2][NAME_KEY]\n",
    "    return team_name\n",
    "\n",
    "def get_live_matchup_stats_dictionary(matchups, matchup_number, matchup_team_number):\n",
    "    \"\"\"\n",
    "    Function returns a dictionary containing 9cat stats plus two more for a given matchup and\n",
    "    matchup team number.\n",
    "    param matchups (dictionary): league matchup information from specified week number\n",
    "    param matchup_number (string): matchup number for in matchups dictionary\n",
    "    param matchup_team_number (string): either \"0\" or \"1\" indicating matchup team number\n",
    "    return live_matchup_stats (dictionary): dictionary of 9cat stats plus two more stats\n",
    "    \"\"\"\n",
    "    live_matchup_stats = matchups[FANTASY_CONTENT_KEY][LEAGUE_KEY][1][SCOREBOARD_KEY][ZERO_KEY]\\\n",
    "                [MATCHUPS_KEY][matchup_number][MATCHUP_KEY][ZERO_KEY][TEAMS_KEY]\\\n",
    "                [matchup_team_number][TEAM_KEY_2][1][TEAM_STATS_KEY][STATS_KEY]\n",
    "    return live_matchup_stats\n",
    "\n",
    "def get_dataframe_from_live_matchup_stats(matchup_stats_dictionary, team_name):\n",
    "    \"\"\"\n",
    "    Function creates a 1x10 dataframe containing the name of the team along with this live 9cat\n",
    "    stats for a weeks matchup.\n",
    "    param matchup_stats_dictionary (dictionary): dictionary containing the stats for a team\n",
    "    param team_name (string): the name of the team\n",
    "    return live_matchup_9cat_stats_dataframe (pandas dataframe): dataframe containing the name of the team along with this live 9cat\n",
    "    stats for a weeks matchup\n",
    "    \"\"\"\n",
    "    matchup_9cat_stats_list = list()\n",
    "    for index in range(len(matchup_stats_dictionary)):\n",
    "        if index != 0 and index != 2:\n",
    "            matchup_9cat_stats_list.append(matchup_stats_dictionary[index][STAT_KEY][VALUE_KEY])\n",
    "    values = [team_name] + matchup_9cat_stats_list\n",
    "    live_matchup_9cat_stats_dataframe = pd.DataFrame(values).T\n",
    "    live_matchup_9cat_stats_dataframe.columns = MATCHUP_COLUMNS\n",
    "    live_matchup_9cat_stats_dataframe = live_matchup_9cat_stats_dataframe.replace(\"\", 0)\n",
    "    return live_matchup_9cat_stats_dataframe\n",
    "\n",
    "# Format and find 9cat differences\n",
    "def remove_player_and_float_convert(dataframe):\n",
    "    \"\"\"\n",
    "    Function cleans dataframe by converting all columns to dtype float\n",
    "    @param dataframe: dataframe with columns to convert\n",
    "    @return: converted dataframe\n",
    "    \"\"\"\n",
    "    for column in dataframe.columns:\n",
    "        dataframe[column] = dataframe[column].astype(float)\n",
    "    return dataframe\n",
    "\n",
    "def format_3ptm_to_tov_as_int(dataframe):\n",
    "    \"\"\"\n",
    "    Function changes the 3ptm to tov columns to dtype int needed for the live score dataframes.\n",
    "    @param dataframe: dataframe with columns to convert\n",
    "    @return: converted dataframe\n",
    "    \"\"\"\n",
    "    for column in dataframe.columns[2:]:\n",
    "        dataframe[column] = dataframe[column].astype(int)\n",
    "    return dataframe\n",
    "\n",
    "def get_matchup_teams_9cat_stat_dataframes(week, team_dict):\n",
    "    \"\"\"\n",
    "\n",
    "    @param week:\n",
    "    @type week:\n",
    "    @param team_dict:\n",
    "    @type team_dict:\n",
    "    @return:\n",
    "    @rtype:\n",
    "    \"\"\"\n",
    "    sc = af.yahoo_fantasy_api_authentication()\n",
    "    league = af.yahoo_fantasy_league(sc)\n",
    "    matchups = league.matchups(week=week)\n",
    "    matchup_number = get_teams_matchup_number(team_dict, matchups)\n",
    "    first_team_name = get_team_name_from_matchup(matchups, matchup_number, \"0\")\n",
    "    second_team_name = get_team_name_from_matchup(matchups, matchup_number, \"1\")\n",
    "    first_team_stats_dictionary = get_live_matchup_stats_dictionary(matchups, matchup_number,\n",
    "                                                                    \"0\")\n",
    "    second_team_stats_dictionary = get_live_matchup_stats_dictionary(matchups, matchup_number,\n",
    "                                                                     \"1\")\n",
    "    first_team_stats_dataframe = get_dataframe_from_live_matchup_stats(first_team_stats_dictionary,\n",
    "                                                              first_team_name)\n",
    "    first_team_stats_dataframe = first_team_stats_dataframe.set_index(PLAYER_COLUMN)\n",
    "    second_team_stats_dataframe = get_dataframe_from_live_matchup_stats(second_team_stats_dictionary,\n",
    "                                                              second_team_name)\n",
    "    second_team_stats_dataframe = second_team_stats_dataframe.set_index(PLAYER_COLUMN)\n",
    "    matchup_stats_dataframe = first_team_stats_dataframe.append(second_team_stats_dataframe)\n",
    "    matchup_stats_dataframe = remove_player_and_float_convert(matchup_stats_dataframe)\n",
    "    matchup_stats_dataframe = format_3ptm_to_tov_as_int(matchup_stats_dataframe)\n",
    "    return first_team_name, first_team_stats_dataframe, second_team_name, \\\n",
    "           second_team_stats_dataframe, matchup_stats_dataframe\n",
    "\n",
    "def get_team_dict_from_team_name(team_name):\n",
    "    \"\"\"\n",
    "    Function returns the team dictionary from a team name.\n",
    "    @param team_name: name of fantasy team\n",
    "    @type team_name: string\n",
    "    @return: dictionary of fantasy team\n",
    "    @rtype: dicitonary\n",
    "    \"\"\"\n",
    "    if team_name == af.AUTOPICK[NAME_KEY]:\n",
    "        team_dict = af.AUTOPICK\n",
    "    elif team_name == af.CRABBEHERBYTHEPUSSY[NAME_KEY]:\n",
    "        team_dict = af.CRABBEHERBYTHEPUSSY\n",
    "    elif team_name == af.EL_LADRON_DE_CABRAS[NAME_KEY]:\n",
    "        team_dict = af.EL_LADRON_DE_CABRAS\n",
    "    elif team_name == af.LALALAND[NAME_KEY]:\n",
    "        team_dict = af.LALALAND\n",
    "    elif team_name == af.MAGICS_JOHNSON[NAME_KEY]:\n",
    "        team_dict = af.MAGICS_JOHNSON\n",
    "    elif team_name == af.MCCURRY[NAME_KEY]:\n",
    "        team_dict = af.MCCURRY\n",
    "    elif team_name == af.NUNN_OF_YALL_BETTA[NAME_KEY]:\n",
    "        team_dict = af.NUNN_OF_YALL_BETTA\n",
    "    elif team_name == af.RUSTY_CUNTBROOKS[NAME_KEY]:\n",
    "        team_dict = af.RUSTY_CUNTBROOKS\n",
    "    elif team_name == af.SWAGGY_P[NAME_KEY]:\n",
    "        team_dict = af.SWAGGY_P\n",
    "    elif team_name == af.TVONS_TIP_TOP_TEAM[NAME_KEY]:\n",
    "        team_dict = af.TVONS_TIP_TOP_TEAM\n",
    "    elif team_name == af.WAKANDA_FOREVER[NAME_KEY]:\n",
    "        team_dict = af.WAKANDA_FOREVER\n",
    "    elif team_name == af.YOBITCH_TOPPIN_ME[NAME_KEY]:\n",
    "        team_dict = af.YOBITCH_TOPPIN_ME\n",
    "    return team_dict\n",
    "\n",
    "def get_team_predicted_stats_dataframe(team_name, schedule_dataframe, week_start_date,\n",
    "                                       week_end_date):\n",
    "    \"\"\"\n",
    "    Function creates a dataframe containing the predicted 9cat stats for a teams roster dependent\n",
    "    on the amount of games each player has left to play in the stated date range.\n",
    "    @param team_name (string): name of Yahoo Fantasy team\n",
    "    @param schedule_dataframe (pandas dataframe): dataframe containing the entire seasons\n",
    "    NBA schedule\n",
    "    @param week_start_date (string): start date of to begin schedule_dataframe filtering\n",
    "    @param week_end_date (string): endd date of to begin schedule_dataframe filtering\n",
    "    @return predicted_stats_dataframe: predicted 9cat stats for a teams roster\n",
    "    @return team_dictionary (dictionary): dictionary of team from league\n",
    "    \"\"\"\n",
    "    team_dictionary = get_team_dict_from_team_name(team_name)\n",
    "    name_id_dictionary, name_list = get_player_ids_names_in_fantasy_team(team_dictionary)\n",
    "    games_left_dataframe, games_left_series = get_fantasy_week_games_dataframe\\\n",
    "        (schedule_dataframe, week_start_date, week_end_date)\n",
    "    player_game_dictionary = get_player_games(games_left_series, name_list)\n",
    "    sc = af.yahoo_fantasy_api_authentication()\n",
    "    league = af.yahoo_fantasy_league(sc)\n",
    "    team_9cat_average_stats_dataframe = af.team_9cat_average_stats(team_dictionary, league)\n",
    "    predicted_stats_dataframe = get_predicted_player_weekly_9cat(player_game_dictionary,\n",
    "                                                                team_9cat_average_stats_dataframe)\n",
    "    return predicted_stats_dataframe, team_dictionary\n",
    "\n",
    "def get_clean_predicted_stats_dataframe(predicted_stats_dataframe, team_dict):\n",
    "    \"\"\"\n",
    "    Function cleans the predicted stats dataframe by creating a total row and adding the name of\n",
    "    the team via the team_dict parameter.\n",
    "    @param predicted_stats_dataframe (pandas dataframe): predicted 9cat stats for a teams roster\n",
    "    @param team_dict (dictionary): dictionary of team from league\n",
    "    @return total_row_predicted_stats_datafame: 1x10 predicted 9cat dataframes\n",
    "    @return total_row_predicted_stats_datafame_no_name: 1x9 predicted 9cat dataframes (without\n",
    "    team name)\n",
    "    \"\"\"\n",
    "    dataframe_with_total = get_total_row(predicted_stats_dataframe)\n",
    "    total_row_predicted_stats_datafame, total_row_predicted_stats_datafame_no_name = \\\n",
    "        get_filtered_total_row(dataframe_with_total, team_dict)\n",
    "    return total_row_predicted_stats_datafame, total_row_predicted_stats_datafame_no_name\n",
    "\n",
    "def add_live_stats_and_predicted_dataframes(live_stats_dataframe,\n",
    "                                            total_row_predicted_stats_datafame, team_name):\n",
    "    \"\"\"\n",
    "    Function adds the dataframes containing live matchup stats and the predicted game stats. It\n",
    "    returns a 1x10 dataframe with team name and 9cat stats.\n",
    "    @param live_stats_dataframe (pandas dataframe): current matchup 9cat stats for a team roster\n",
    "    @param total_row_predicted_stats_datafame (pandas dataframe): total row predicted 9cat stats\n",
    "    for a team roster\n",
    "    @param team_name (string): name of Yahoo Fantasy team\n",
    "    @return live_plus_prediction_dataframe: 1X10 9cat live plus predicted 9cat stats dataframe\n",
    "    \"\"\"\n",
    "    total_row_predicted_stats_datafame.reset_index(inplace=True, drop=True)\n",
    "    live_stats_dataframe = columns_to_dtype_float(live_stats_dataframe)\n",
    "    total_row_predicted_stats_datafame.drop(PLAYER_COLUMN, axis=1, inplace=True)\n",
    "    live_plus_prediction_dataframe = live_stats_dataframe.add(total_row_predicted_stats_datafame)\n",
    "    temporary_dataframe = pd.DataFrame()\n",
    "    temporary_dataframe[PLAYER_COLUMN] = team_name\n",
    "    live_plus_prediction_dataframe = pd.concat([temporary_dataframe,\n",
    "                                                live_plus_prediction_dataframe])\n",
    "    live_plus_prediction_dataframe[PLAYER_COLUMN] = team_name\n",
    "    return live_plus_prediction_dataframe\n",
    "\n",
    "def live_plus_prediction_matchup_dataframe(schedule_dataframe, team_name, current_date,\n",
    "                                           week_end_date):\n",
    "    \"\"\"\n",
    "\n",
    "    @param schedule_dataframe:\n",
    "    @param team_name:\n",
    "    @param current_date:\n",
    "    @param week_end_date:\n",
    "    @return:\n",
    "    \"\"\"\n",
    "    predicted_stats_dataframe, team_dictionary = get_team_predicted_stats_dataframe\\\n",
    "        (team_name, schedule_dataframe, current_date, week_end_date)\n",
    "    total_row_predicted_stats_datafame, total_row_predicted_stats_datafame_no_name = \\\n",
    "    get_clean_predicted_stats_dataframe(predicted_stats_dataframe, team_dictionary)\n",
    "    live_plus_prediction_dataframe = add_live_stats_and_predicted_dataframes(team1_live_stats,\n",
    "                                            total_row_predicted_stats_datafame, team_name)\n",
    "    return live_plus_prediction_dataframe"
   ],
   "metadata": {
    "collapsed": false,
    "pycharm": {
     "name": "#%%\n"
    }
   }
  },
  {
   "cell_type": "code",
   "execution_count": null,
   "outputs": [],
   "source": [
    "first_team_name, first_team_stats_dataframe, second_team_name, \\\n",
    "           second_team_stats_dataframe, matchup_stats_dataframe = \\\n",
    "    get_matchup_teams_9cat_stat_dataframes(11, af.NUNN_OF_YALL_BETTA)"
   ],
   "metadata": {
    "collapsed": false,
    "pycharm": {
     "name": "#%%\n"
    }
   }
  },
  {
   "cell_type": "code",
   "execution_count": null,
   "outputs": [],
   "source": [
    "print(first_team_name, second_team_name)"
   ],
   "metadata": {
    "collapsed": false,
    "pycharm": {
     "name": "#%%\n"
    }
   }
  },
  {
   "cell_type": "code",
   "execution_count": null,
   "outputs": [],
   "source": [
    "league_standings_dictionary = league.standings()"
   ],
   "metadata": {
    "collapsed": false,
    "pycharm": {
     "name": "#%%\n"
    }
   }
  },
  {
   "cell_type": "code",
   "execution_count": null,
   "outputs": [],
   "source": [
    "league_standings_dictionary\n",
    "\n",
    "\"\".join([x[\"rank\"] for x in league_standings_dictionary if x[\"name\"] == first_team_name])\n",
    "\n",
    "def get_teams_league_standing(team_name):\n",
    "    \"\"\"\n",
    "\n",
    "    @param league_standing_dictionary:\n",
    "    @param team_name:\n",
    "    @return:\n",
    "    \"\"\"\n",
    "    league_standings_dictionary = league.standings()\n",
    "    standing = \"\".join([x[\"rank\"] for x in league_standings_dictionary if x[\"name\"] == team_name])\n",
    "    return standing"
   ],
   "metadata": {
    "collapsed": false,
    "pycharm": {
     "name": "#%%\n"
    }
   }
  },
  {
   "cell_type": "code",
   "execution_count": null,
   "outputs": [],
   "source": [
    "standing = get_teams_league_standing(league_standings_dictionary, \"Russty Cuntbrooks\")\n",
    "standing"
   ],
   "metadata": {
    "collapsed": false,
    "pycharm": {
     "name": "#%%\n"
    }
   }
  },
  {
   "cell_type": "code",
   "execution_count": null,
   "outputs": [],
   "source": [
    "get_next_week_information()[0]"
   ],
   "metadata": {
    "collapsed": false,
    "pycharm": {
     "name": "#%%\n"
    }
   }
  },
  {
   "cell_type": "code",
   "execution_count": null,
   "outputs": [],
   "source": [
    "def format_team_standing_string(standing):\n",
    "    \"\"\"\n",
    "\n",
    "    @param standing:\n",
    "    @return:\n",
    "    \"\"\"\n",
    "    if standing == \"1\":\n",
    "        return standing + \"st\"\n",
    "    elif standing == \"2\":\n",
    "        return standing + \"nd\"\n",
    "    else:\n",
    "        return standing + \"th\""
   ],
   "metadata": {
    "collapsed": false,
    "pycharm": {
     "name": "#%%\n"
    }
   }
  },
  {
   "cell_type": "code",
   "execution_count": null,
   "outputs": [],
   "source": [
    "format_team_standing_string(standing)"
   ],
   "metadata": {
    "collapsed": false,
    "pycharm": {
     "name": "#%%\n"
    }
   }
  },
  {
   "cell_type": "code",
   "execution_count": null,
   "outputs": [],
   "source": [
    "def get_team_names_from_matchup_week(week, team_dict):\n",
    "    \"\"\"\n",
    "    Function returns both team names from a specified week and team name matchup\n",
    "    @param week: week number\n",
    "    @param team_dict: team information dictionary\n",
    "    @return: names of both teams in matchup\n",
    "    \"\"\"\n",
    "    sc = af.yahoo_fantasy_api_authentication()\n",
    "    league = af.yahoo_fantasy_league(sc)\n",
    "    matchups = league.matchups(week=week)\n",
    "    matchup_number = get_teams_matchup_number(team_dict, matchups)\n",
    "    first_team_name = get_team_name_from_matchup(matchups, matchup_number, \"0\")\n",
    "    second_team_name = get_team_name_from_matchup(matchups, matchup_number, \"1\")\n",
    "    return first_team_name, second_team_name"
   ],
   "metadata": {
    "collapsed": false,
    "pycharm": {
     "name": "#%%\n"
    }
   }
  },
  {
   "cell_type": "code",
   "execution_count": null,
   "outputs": [],
   "source": [
    "get_team_names_from_matchup_week(11, af.NUNN_OF_YALL_BETTA)"
   ],
   "metadata": {
    "collapsed": false,
    "pycharm": {
     "name": "#%%\n"
    }
   }
  },
  {
   "cell_type": "code",
   "execution_count": null,
   "outputs": [],
   "source": [
    "\n",
    "team_9cat_stats = get_team_roster_stats_dataframe(team_dict)"
   ],
   "metadata": {
    "collapsed": false,
    "pycharm": {
     "name": "#%%\n"
    }
   }
  },
  {
   "cell_type": "code",
   "execution_count": null,
   "outputs": [],
   "source": [],
   "metadata": {
    "collapsed": false,
    "pycharm": {
     "name": "#%%\n"
    }
   }
  }
 ],
 "metadata": {
  "kernelspec": {
   "display_name": "Python 3",
   "language": "python",
   "name": "python3"
  },
  "language_info": {
   "codemirror_mode": {
    "name": "ipython",
    "version": 2
   },
   "file_extension": ".py",
   "mimetype": "text/x-python",
   "name": "python",
   "nbconvert_exporter": "python",
   "pygments_lexer": "ipython2",
   "version": "2.7.6"
  }
 },
 "nbformat": 4,
 "nbformat_minor": 0
}